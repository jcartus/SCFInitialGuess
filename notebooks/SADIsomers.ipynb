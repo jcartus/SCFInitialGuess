{
 "cells": [
  {
   "cell_type": "code",
   "execution_count": 8,
   "metadata": {},
   "outputs": [],
   "source": [
    "import numpy as np\n",
    "import matplotlib.pyplot as plt\n",
    "import seaborn as sns\n",
    "\n",
    "plt.style.use([\"seaborn\", \"thesis\"])"
   ]
  },
  {
   "cell_type": "code",
   "execution_count": 10,
   "metadata": {},
   "outputs": [
    {
     "data": {
      "text/plain": [
       "<pyscf.gto.mole.Mole at 0x7f1595b77550>"
      ]
     },
     "execution_count": 10,
     "metadata": {},
     "output_type": "execute_result"
    }
   ],
   "source": [
    "from pyscf.gto import Mole\n",
    "\n",
    "mol1 = Mole()\n",
    "mol1.basis = \"sto-3g\"\n",
    "mol1.atom = \"\"\"   C       -1.50476        1.90801        0.00093\n",
    "   C       -0.22023        2.71866       -0.06451\n",
    "   C        1.01068        1.83222        0.11410\n",
    "   C        2.29631        2.63776        0.01549\n",
    "   H       -1.59762        1.39598        0.96402\n",
    "   H       -1.53361        1.15500       -0.79310\n",
    "   H       -2.37303        2.56312       -0.12095\n",
    "   H       -0.24013        3.48852        0.71563\n",
    "   H       -0.17089        3.23636       -1.02961\n",
    "   H        1.01956        1.04649       -0.65016\n",
    "   H        0.97148        1.33457        1.09022\n",
    "   H        2.38830        3.10916       -0.96831\n",
    "   H        3.16377        1.98667        0.16210\n",
    "   H        2.32777        3.42305        0.77738\n",
    "\"\"\"\n",
    "mol1.build()"
   ]
  },
  {
   "cell_type": "code",
   "execution_count": 13,
   "metadata": {},
   "outputs": [
    {
     "data": {
      "text/plain": [
       "<pyscf.gto.mole.Mole at 0x7f15bf17b2b0>"
      ]
     },
     "execution_count": 13,
     "metadata": {},
     "output_type": "execute_result"
    }
   ],
   "source": [
    "mol2 = Mole()\n",
    "mol2.basis = \"sto-3g\"\n",
    "mol2.atom = \"\"\"   C       -1.50476        1.90801        0.00093\n",
    "   C        0.13885        3.31669       -0.36015\n",
    "   C        2.61235        2.23226        0.94149\n",
    "   H       -1.59762        1.39598        0.96402\n",
    " C       -0.46330        5.12481        0.01549\n",
    "   H       -2.00496        0.79657       -0.80877\n",
    "   H       -2.37303        2.56312       -0.12095   \n",
    "   H        0.44073        3.41057       -1.38238\n",
    "   H        2.43316        2.09249        1.98707\n",
    "   H        3.41832        2.92307        0.80696\n",
    "   H        2.86836        1.29419        0.49497\n",
    "   H       -0.80308        5.18438        1.02836\n",
    "   H       -1.26579        5.37802       -0.64540\n",
    "   H        0.34729        5.80805       -0.12955\"\"\"\n",
    "\n",
    "mol2.build()"
   ]
  },
  {
   "cell_type": "code",
   "execution_count": 14,
   "metadata": {},
   "outputs": [
    {
     "data": {
      "text/plain": [
       "<matplotlib.axes._subplots.AxesSubplot at 0x7f1595eab320>"
      ]
     },
     "execution_count": 14,
     "metadata": {},
     "output_type": "execute_result"
    },
    {
     "data": {
      "image/png": "[encoded data removed]",
      "text/plain": [
       "<matplotlib.figure.Figure at 0x7f1595eb0f60>"
      ]
     },
     "metadata": {},
     "output_type": "display_data"
    }
   ],
   "source": [
    "from pyscf.scf.hf import init_guess_by_atom\n",
    "\n",
    "sns.heatmap(\n",
    "    init_guess_by_atom(mol1) - init_guess_by_atom(mol2)\n",
    ")"
   ]
  },
  {
   "cell_type": "code",
   "execution_count": null,
   "metadata": {},
   "outputs": [],
   "source": []
  }
 ],
 "metadata": {
  "kernelspec": {
   "display_name": "Python 3",
   "language": "python",
   "name": "python3"
  },
  "language_info": {
   "codemirror_mode": {
    "name": "ipython",
    "version": 3
   },
   "file_extension": ".py",
   "mimetype": "text/x-python",
   "name": "python",
   "nbconvert_exporter": "python",
   "pygments_lexer": "ipython3",
   "version": "3.6.4"
  }
 },
 "nbformat": 4,
 "nbformat_minor": 2
}
