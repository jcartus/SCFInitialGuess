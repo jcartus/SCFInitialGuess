{
 "cells": [
  {
   "cell_type": "code",
   "execution_count": 42,
   "metadata": {},
   "outputs": [],
   "source": [
    "import numpy as np\n",
    "import tensorflow as tf\n",
    "import matplotlib.pyplot as plt\n",
    "import matplotlib as mpl\n",
    "\n",
    "mpl.style.use(\"seaborn\")"
   ]
  },
  {
   "cell_type": "markdown",
   "metadata": {},
   "source": [
    "# Fetch and setup the dataset "
   ]
  },
  {
   "cell_type": "code",
   "execution_count": 2,
   "metadata": {},
   "outputs": [],
   "source": [
    "molecules = np.load(\"../butadien/data/400/molecules400.npy\")\n",
    "S = np.load(\"../butadien/data/400/S400.npy\")\n",
    "P = np.load(\"../butadien/data/400/P400.npy\")\n",
    "\n",
    "dim = 26\n",
    "species = \"C\"\n",
    "testing_samples"
   ]
  },
  {
   "cell_type": "code",
   "execution_count": 3,
   "metadata": {},
   "outputs": [],
   "source": [
    "from SCFInitialGuess.utilities.dataset import DescribedMoleculesDataset\n",
    "from SCFInitialGuess.descriptors.utilities import BlockExtractor\n",
    "from SCFInitialGuess.descriptors.coordinate_descriptors import NonWeighted\n",
    "\n",
    "\n",
    "class SCFRunResult(object):\n",
    "    \"\"\"Class that holds all data created in an scf calculation. \n",
    "    Kind of linke the Molecule class with the Matrices.\"\"\"\n",
    "\n",
    "    def __init__(self, molecule, S=None, P=None, F=None, H=None):\n",
    "        self.molecule = molecule\n",
    "        self.S = S\n",
    "        self.P = P\n",
    "        self.F = F\n",
    "        self.H = H\n",
    "        \n",
    "    @property\n",
    "    def species(self):\n",
    "        return self.molecule.species\n",
    "        \n",
    "        \n",
    "class AtomicDensityBlockExtractor(BlockExtractor):\n",
    "    def __init__(self, target_species, basis):\n",
    "        self.target_species = target_species\n",
    "        self.basis = basis\n",
    "    \n",
    "    def calculate_descriptors(self, scf_result):\n",
    "        return self.extract_blocks(scf_result.P.reshape(dim, dim), scf_result.species)\n",
    "    \n",
    "class GaussianDescriptorWrapper(NonWeighted):\n",
    "    def __init__(self, target_species, *args, **kwargs):\n",
    "        \"\"\"Args: radial, azimuthal and polar descriptors\"\"\"\n",
    "        \n",
    "        self.target_species = target_species\n",
    "        \n",
    "        super(GaussianDescriptorWrapper, self).__init__(*args, **kwargs)\n",
    "    \n",
    "    def atoms_of_interest(self, atoms_in_molecule):\n",
    "        return [i for i in range(len(atoms_in_molecule)) if atoms_in_molecule[i] == self.target_species]\n",
    "        \n",
    "    def calculate_descriptors(self, scf_result):\n",
    "        \n",
    "        indices_of_interest = self.atoms_of_interest(scf_result.species)\n",
    "        \n",
    "        descriptors = []\n",
    "        \n",
    "        for index in indices_of_interest:\n",
    "            descriptors.append(self.calculate_atom_descriptor(\n",
    "                index, scf_result.molecule, self.number_of_descriptors\n",
    "            ))\n",
    "            \n",
    "        return descriptors\n",
    "    "
   ]
  },
  {
   "cell_type": "code",
   "execution_count": 4,
   "metadata": {},
   "outputs": [],
   "source": [
    "from SCFInitialGuess.descriptors.coordinate_descriptors import \\\n",
    "    Gaussians, RADIAL_GAUSSIAN_MODELS, AZIMUTHAL_GAUSSIAN_MODELS, POLAR_GAUSSIAN_MODELS\n",
    "\n",
    "input_descriptor_C =  GaussianDescriptorWrapper(\n",
    "    species,\n",
    "    Gaussians(*RADIAL_GAUSSIAN_MODELS[\"Equidistant-Broadening_1\"]),\n",
    "    Gaussians(*AZIMUTHAL_GAUSSIAN_MODELS[\"Equisitant_1\"]),\n",
    "    Gaussians(*POLAR_GAUSSIAN_MODELS[\"Equisitant_1\"])\n",
    ")\n",
    "output_descriptor = AtomicDensityBlockExtractor(species, \"sto-3g\")"
   ]
  },
  {
   "cell_type": "code",
   "execution_count": 5,
   "metadata": {},
   "outputs": [],
   "source": [
    "from SCFInitialGuess.utilities.dataset import DescribedMoleculesDataset\n",
    "\n",
    "dataset = DescribedMoleculesDataset(\n",
    "    [SCFRunResult(molecule, S=s, P=p) for molecule, s, p in zip(molecules, S, P)],\n",
    "    input_descriptor_C,\n",
    "    output_descriptor,\n",
    "    split_test=testing_samples\n",
    ")\n",
    "dataset.make_normalization()"
   ]
  },
  {
   "cell_type": "markdown",
   "metadata": {},
   "source": [
    "# Train a network "
   ]
  },
  {
   "cell_type": "code",
   "execution_count": 6,
   "metadata": {},
   "outputs": [
    {
     "name": "stdout",
     "output_type": "stream",
     "text": [
      "[-] 2018-06-25 11:43:14: No target graph specified for Trainer setup. Creating new graph ...\n",
      "[-] 2018-06-25 11:43:14: Setting up the training in the target graph ...\n",
      "[-] 2018-06-25 11:43:14: network ...\n",
      "[-] 2018-06-25 11:43:15: error function ...\n",
      "[-] 2018-06-25 11:43:15: cost function ...\n",
      "[-] 2018-06-25 11:43:15: training step\n",
      "[-] 2018-06-25 11:43:16: Starting network training ...\n",
      "[ ] 2018-06-25 11:43:17: Val. Cost: 4.207E-01. Error: 4.207E-01. Diff: 1.0E+10\n",
      "[ ] 2018-06-25 11:43:19: Val. Cost: 3.410E-03. Error: 3.409E-03. Diff: 4.2E-01\n",
      "[-] 2018-06-25 11:43:21: Convergence reached after 400 steps.\n",
      "[-] 2018-06-25 11:43:23: Test error: 3.43614E-03\n"
     ]
    }
   ],
   "source": [
    "from SCFInitialGuess.nn.training import Trainer\n",
    "from SCFInitialGuess.nn.networks import EluTrNNN\n",
    "from SCFInitialGuess.nn.cost_functions import RegularizedMSE\n",
    "\n",
    "structure = [18, 50, 40, 25, 10, 15]\n",
    "\n",
    "trainer = Trainer(\n",
    "    EluTrNNN(structure),\n",
    "    cost_function=RegularizedMSE(alpha=1e-7),\n",
    "    optimizer=tf.train.AdamOptimizer(learning_rate=1e-3)\n",
    ")\n",
    "\n",
    "trainer.setup()\n",
    "\n",
    "network, sess = trainer.train(\n",
    "    dataset,\n",
    "    convergence_threshold=5e-4\n",
    ")\n",
    "    "
   ]
  },
  {
   "cell_type": "markdown",
   "metadata": {},
   "source": [
    "# For H "
   ]
  },
  {
   "cell_type": "code",
   "execution_count": 7,
   "metadata": {},
   "outputs": [],
   "source": [
    "species = \"H\"\n",
    "\n",
    "input_descriptor_H =  GaussianDescriptorWrapper(\n",
    "    species,\n",
    "    Gaussians(*RADIAL_GAUSSIAN_MODELS[\"Equidistant-Broadening_1\"]),\n",
    "    Gaussians(*AZIMUTHAL_GAUSSIAN_MODELS[\"Equisitant_1\"]),\n",
    "    Gaussians(*POLAR_GAUSSIAN_MODELS[\"Equisitant_1\"])\n",
    ")\n",
    "output_descriptor = AtomicDensityBlockExtractor(species, \"sto-3g\")\n",
    "dataset_H = DescribedMoleculesDataset(\n",
    "    [SCFRunResult(molecule, S=s, P=p) for molecule, s, p in zip(molecules, S, P)],\n",
    "    input_descriptor_H,\n",
    "    output_descriptor,\n",
    "    split_test=testing_samples\n",
    ")\n",
    "dataset_H.make_normalization()"
   ]
  },
  {
   "cell_type": "code",
   "execution_count": 8,
   "metadata": {},
   "outputs": [
    {
     "data": {
      "text/plain": [
       "(1,)"
      ]
     },
     "execution_count": 8,
     "metadata": {},
     "output_type": "execute_result"
    }
   ],
   "source": [
    "dataset_H.testing[1][0].shape"
   ]
  },
  {
   "cell_type": "code",
   "execution_count": 9,
   "metadata": {},
   "outputs": [
    {
     "name": "stdout",
     "output_type": "stream",
     "text": [
      "[-] 2018-06-25 11:43:32: No target graph specified for Trainer setup. Creating new graph ...\n",
      "[-] 2018-06-25 11:43:32: Setting up the training in the target graph ...\n",
      "[-] 2018-06-25 11:43:32: network ...\n",
      "[-] 2018-06-25 11:43:32: error function ...\n",
      "[-] 2018-06-25 11:43:32: cost function ...\n",
      "[-] 2018-06-25 11:43:32: training step\n",
      "[-] 2018-06-25 11:43:32: Starting network training ...\n",
      "[ ] 2018-06-25 11:43:35: Val. Cost: 3.636E-01. Error: 3.636E-01. Diff: 1.0E+10\n",
      "[ ] 2018-06-25 11:43:38: Val. Cost: 1.391E-03. Error: 1.390E-03. Diff: 3.6E-01\n",
      "[-] 2018-06-25 11:43:41: Convergence reached after 400 steps.\n",
      "[-] 2018-06-25 11:43:43: Test error: 1.06948E-03\n"
     ]
    }
   ],
   "source": [
    "from SCFInitialGuess.nn.training import Trainer\n",
    "from SCFInitialGuess.nn.networks import EluTrNNN\n",
    "from SCFInitialGuess.nn.cost_functions import RegularizedMSE\n",
    "\n",
    "structure = [18, 50, 40, 25, 10, 1]\n",
    "\n",
    "trainer_H = Trainer(\n",
    "    EluTrNNN(structure),\n",
    "    cost_function=RegularizedMSE(alpha=1e-7),\n",
    "    optimizer=tf.train.AdamOptimizer(learning_rate=1e-3)\n",
    ")\n",
    "\n",
    "trainer_H.setup()\n",
    "\n",
    "network_H, sess_H = trainer_H.train(\n",
    "    dataset_H,\n",
    "    convergence_threshold=5e-4\n",
    ")"
   ]
  },
  {
   "cell_type": "markdown",
   "metadata": {},
   "source": [
    "# Testing: do superposition"
   ]
  },
  {
   "cell_type": "code",
   "execution_count": 48,
   "metadata": {},
   "outputs": [],
   "source": [
    "from SCFInitialGuess.utilities.constants import number_of_basis_functions as N_BASIS\n",
    "from SCFInitialGuess.utilities.dataset import reconstruct_from_triu\n",
    "\n",
    "def sannd_guess(molecule):\n",
    "    \n",
    "    old_guess = None\n",
    "    guess = np.array([])\n",
    "    \n",
    "    for index, atom in enumerate(molecule.species):\n",
    "        if atom == \"C\":\n",
    "            input_values = input_descriptor_C.calculate_atom_descriptor(\n",
    "                index, molecule , input_descriptor_C.number_of_descriptors\n",
    "            ).reshape(-1, 18)\n",
    "            block_triu = network.run(sess, input_values)\n",
    "            block = reconstruct_from_triu(block_triu, 5)\n",
    "        elif atom == \"H\":\n",
    "            input_values = input_descriptor_H.calculate_atom_descriptor(\n",
    "                index, molecule , input_descriptor_H.number_of_descriptors\n",
    "            ).reshape(-1, 18)\n",
    "            block_triu = network_H.run(sess_H, input_values)\n",
    "            block = reconstruct_from_triu(block_triu, 1)\n",
    "        \n",
    "        if len(guess) == 0:\n",
    "            guess = block\n",
    "        else:    \n",
    "            old_guess = guess\n",
    "            new_dim = len(guess) + len(block)\n",
    "            guess = np.zeros((new_dim, new_dim))\n",
    "            guess[:len(old_guess), :len(old_guess)] = old_guess\n",
    "            guess[len(old_guess):, len(old_guess):] = block\n",
    "        \n",
    "    return guess"
   ]
  },
  {
   "cell_type": "code",
   "execution_count": 52,
   "metadata": {},
   "outputs": [
    {
     "data": {
      "image/png": "[encoded data removed]",
      "text/plain": [
       "<matplotlib.figure.Figure at 0x7fb3152b5dd8>"
      ]
     },
     "metadata": {},
     "output_type": "display_data"
    },
    {
     "data": {
      "image/png": "[encoded data removed]",
      "text/plain": [
       "<matplotlib.figure.Figure at 0x7fb3152b5358>"
      ]
     },
     "metadata": {},
     "output_type": "display_data"
    }
   ],
   "source": [
    "from SCFInitialGuess.utilities.analysis import matrix_error\n",
    "plt.figure()\n",
    "matrix_error(sannd_guess(dataset._testing[0].molecule))\n",
    "plt.show()\n",
    "\n",
    "plt.figure()\n",
    "matrix_error(np.abs(sannd_guess(dataset._testing[0].molecule) -dataset._testing[0].P.reshape(dim, dim)))\n",
    "plt.show()\n"
   ]
  },
  {
   "cell_type": "markdown",
   "metadata": {},
   "source": [
    "## Batch calculation"
   ]
  },
  {
   "cell_type": "code",
   "execution_count": 55,
   "metadata": {},
   "outputs": [],
   "source": [
    "def sannd_batch(molecules):\n",
    "    guesses = []\n",
    "    for molecule in molecules:\n",
    "        guesses.append(sannd_guess(molecule))  \n",
    "    return np.array(guesses)"
   ]
  },
  {
   "cell_type": "code",
   "execution_count": 60,
   "metadata": {},
   "outputs": [],
   "source": [
    "molecules_dataset = [x.molecule for x in dataset._testing ]\n",
    "p_sannd = sannd_batch(molecules_dataset)"
   ]
  },
  {
   "cell_type": "markdown",
   "metadata": {},
   "source": [
    "# Analysis "
   ]
  },
  {
   "cell_type": "markdown",
   "metadata": {},
   "source": [
    "### Absolute error "
   ]
  },
  {
   "cell_type": "code",
   "execution_count": 62,
   "metadata": {},
   "outputs": [
    {
     "data": {
      "text/plain": [
       "(0.07589268469094461, 0.020068945599750757)"
      ]
     },
     "execution_count": 62,
     "metadata": {},
     "output_type": "execute_result"
    }
   ],
   "source": [
    "from SCFInitialGuess.utilities.analysis import measure_absolute_error, statistics\n",
    "\n",
    "p_dataset = [x.P.reshape(dim, dim) for x in dataset._testing]\n",
    "\n",
    "statistics(measure_absolute_error(p_sannd, p_dataset))"
   ]
  },
  {
   "cell_type": "markdown",
   "metadata": {},
   "source": [
    "### HF Energy error"
   ]
  },
  {
   "cell_type": "code",
   "execution_count": 66,
   "metadata": {},
   "outputs": [
    {
     "data": {
      "text/plain": [
       "(2.459753371585217, 0.22551012660799358)"
      ]
     },
     "execution_count": 66,
     "metadata": {},
     "output_type": "execute_result"
    }
   ],
   "source": [
    "from SCFInitialGuess.utilities.analysis import measure_hf_energy_error\n",
    "\n",
    "statistics(list(measure_hf_energy_error(p_sannd, p_dataset, molecules_dataset)))"
   ]
  },
  {
   "cell_type": "markdown",
   "metadata": {},
   "source": [
    "### Iterations"
   ]
  },
  {
   "cell_type": "code",
   "execution_count": 68,
   "metadata": {},
   "outputs": [
    {
     "name": "stdout",
     "output_type": "stream",
     "text": [
      "[ ] 2018-06-25 12:16:30: Iteration calculation: 0\n",
      "[ ] 2018-06-25 12:16:30: Iteration calculation: 1\n",
      "[ ] 2018-06-25 12:16:31: Iteration calculation: 2\n",
      "[ ] 2018-06-25 12:16:31: Iteration calculation: 3\n",
      "[ ] 2018-06-25 12:16:31: Iteration calculation: 4\n",
      "[ ] 2018-06-25 12:16:32: Iteration calculation: 5\n",
      "[ ] 2018-06-25 12:16:32: Iteration calculation: 6\n",
      "[ ] 2018-06-25 12:16:33: Iteration calculation: 7\n",
      "[ ] 2018-06-25 12:16:33: Iteration calculation: 8\n",
      "[ ] 2018-06-25 12:16:33: Iteration calculation: 9\n",
      "[ ] 2018-06-25 12:16:34: Iteration calculation: 10\n",
      "[ ] 2018-06-25 12:16:34: Iteration calculation: 11\n",
      "[ ] 2018-06-25 12:16:34: Iteration calculation: 12\n",
      "[ ] 2018-06-25 12:16:35: Iteration calculation: 13\n",
      "[ ] 2018-06-25 12:16:35: Iteration calculation: 14\n",
      "[ ] 2018-06-25 12:16:36: Iteration calculation: 15\n",
      "[ ] 2018-06-25 12:16:36: Iteration calculation: 16\n",
      "[ ] 2018-06-25 12:16:36: Iteration calculation: 17\n",
      "[ ] 2018-06-25 12:16:37: Iteration calculation: 18\n",
      "[ ] 2018-06-25 12:16:37: Iteration calculation: 19\n",
      "[ ] 2018-06-25 12:16:37: Iteration calculation: 20\n",
      "[ ] 2018-06-25 12:16:38: Iteration calculation: 21\n",
      "[ ] 2018-06-25 12:16:38: Iteration calculation: 22\n",
      "[ ] 2018-06-25 12:16:39: Iteration calculation: 23\n",
      "[ ] 2018-06-25 12:16:39: Iteration calculation: 24\n",
      "[ ] 2018-06-25 12:16:39: Iteration calculation: 25\n",
      "[ ] 2018-06-25 12:16:40: Iteration calculation: 26\n",
      "[ ] 2018-06-25 12:16:40: Iteration calculation: 27\n",
      "[ ] 2018-06-25 12:16:40: Iteration calculation: 28\n",
      "[ ] 2018-06-25 12:16:41: Iteration calculation: 29\n",
      "[ ] 2018-06-25 12:16:41: Iteration calculation: 30\n",
      "[ ] 2018-06-25 12:16:41: Iteration calculation: 31\n",
      "[ ] 2018-06-25 12:16:42: Iteration calculation: 32\n",
      "[ ] 2018-06-25 12:16:42: Iteration calculation: 33\n",
      "[ ] 2018-06-25 12:16:43: Iteration calculation: 34\n",
      "[ ] 2018-06-25 12:16:43: Iteration calculation: 35\n",
      "[ ] 2018-06-25 12:16:44: Iteration calculation: 36\n",
      "[ ] 2018-06-25 12:16:44: Iteration calculation: 37\n",
      "[ ] 2018-06-25 12:16:44: Iteration calculation: 38\n",
      "[ ] 2018-06-25 12:16:45: Iteration calculation: 39\n",
      "[ ] 2018-06-25 12:16:45: Iteration calculation: 40\n",
      "[ ] 2018-06-25 12:16:46: Iteration calculation: 41\n",
      "[ ] 2018-06-25 12:16:46: Iteration calculation: 42\n",
      "[ ] 2018-06-25 12:16:46: Iteration calculation: 43\n",
      "[ ] 2018-06-25 12:16:47: Iteration calculation: 44\n",
      "[ ] 2018-06-25 12:16:47: Iteration calculation: 45\n",
      "[ ] 2018-06-25 12:16:48: Iteration calculation: 46\n",
      "[ ] 2018-06-25 12:16:48: Iteration calculation: 47\n",
      "[ ] 2018-06-25 12:16:49: Iteration calculation: 48\n",
      "[ ] 2018-06-25 12:16:49: Iteration calculation: 49\n",
      "[ ] 2018-06-25 12:16:49: Iteration calculation: 50\n",
      "[ ] 2018-06-25 12:16:50: Iteration calculation: 51\n",
      "[ ] 2018-06-25 12:16:50: Iteration calculation: 52\n",
      "[ ] 2018-06-25 12:16:50: Iteration calculation: 53\n",
      "[ ] 2018-06-25 12:16:51: Iteration calculation: 54\n",
      "[ ] 2018-06-25 12:16:51: Iteration calculation: 55\n",
      "[ ] 2018-06-25 12:16:51: Iteration calculation: 56\n",
      "[ ] 2018-06-25 12:16:52: Iteration calculation: 57\n",
      "[ ] 2018-06-25 12:16:52: Iteration calculation: 58\n",
      "[ ] 2018-06-25 12:16:52: Iteration calculation: 59\n",
      "[ ] 2018-06-25 12:16:53: Iteration calculation: 60\n",
      "[ ] 2018-06-25 12:16:53: Iteration calculation: 61\n",
      "[ ] 2018-06-25 12:16:54: Iteration calculation: 62\n",
      "[ ] 2018-06-25 12:16:54: Iteration calculation: 63\n",
      "[ ] 2018-06-25 12:16:54: Iteration calculation: 64\n",
      "[ ] 2018-06-25 12:16:55: Iteration calculation: 65\n",
      "[ ] 2018-06-25 12:16:55: Iteration calculation: 66\n",
      "[ ] 2018-06-25 12:16:56: Iteration calculation: 67\n",
      "[ ] 2018-06-25 12:16:56: Iteration calculation: 68\n",
      "[ ] 2018-06-25 12:16:57: Iteration calculation: 69\n",
      "[ ] 2018-06-25 12:16:57: Iteration calculation: 70\n",
      "[ ] 2018-06-25 12:16:57: Iteration calculation: 71\n",
      "[ ] 2018-06-25 12:16:58: Iteration calculation: 72\n",
      "[ ] 2018-06-25 12:16:58: Iteration calculation: 73\n",
      "[ ] 2018-06-25 12:16:59: Iteration calculation: 74\n",
      "[ ] 2018-06-25 12:16:59: Iteration calculation: 75\n",
      "[ ] 2018-06-25 12:17:00: Iteration calculation: 76\n",
      "[ ] 2018-06-25 12:17:00: Iteration calculation: 77\n",
      "[ ] 2018-06-25 12:17:00: Iteration calculation: 78\n",
      "[ ] 2018-06-25 12:17:01: Iteration calculation: 79\n",
      "[ ] 2018-06-25 12:17:01: Iteration calculation: 80\n",
      "[ ] 2018-06-25 12:17:01: Iteration calculation: 81\n",
      "[ ] 2018-06-25 12:17:02: Iteration calculation: 82\n",
      "[ ] 2018-06-25 12:17:02: Iteration calculation: 83\n",
      "[ ] 2018-06-25 12:17:03: Iteration calculation: 84\n",
      "[ ] 2018-06-25 12:17:03: Iteration calculation: 85\n",
      "[ ] 2018-06-25 12:17:04: Iteration calculation: 86\n",
      "[ ] 2018-06-25 12:17:04: Iteration calculation: 87\n",
      "[ ] 2018-06-25 12:17:04: Iteration calculation: 88\n",
      "[ ] 2018-06-25 12:17:04: Iteration calculation: 89\n",
      "[ ] 2018-06-25 12:17:05: Iteration calculation: 90\n",
      "[ ] 2018-06-25 12:17:05: Iteration calculation: 91\n",
      "[ ] 2018-06-25 12:17:05: Iteration calculation: 92\n",
      "[ ] 2018-06-25 12:17:06: Iteration calculation: 93\n",
      "[ ] 2018-06-25 12:17:06: Iteration calculation: 94\n",
      "[ ] 2018-06-25 12:17:06: Iteration calculation: 95\n",
      "[ ] 2018-06-25 12:17:07: Iteration calculation: 96\n",
      "[ ] 2018-06-25 12:17:07: Iteration calculation: 97\n",
      "[ ] 2018-06-25 12:17:08: Iteration calculation: 98\n",
      "[ ] 2018-06-25 12:17:08: Iteration calculation: 99\n",
      "[ ] 2018-06-25 12:17:08: Iteration calculation: 100\n",
      "[ ] 2018-06-25 12:17:09: Iteration calculation: 101\n",
      "[ ] 2018-06-25 12:17:09: Iteration calculation: 102\n",
      "[ ] 2018-06-25 12:17:10: Iteration calculation: 103\n",
      "[ ] 2018-06-25 12:17:10: Iteration calculation: 104\n",
      "[ ] 2018-06-25 12:17:11: Iteration calculation: 105\n",
      "[ ] 2018-06-25 12:17:11: Iteration calculation: 106\n",
      "[ ] 2018-06-25 12:17:12: Iteration calculation: 107\n",
      "[ ] 2018-06-25 12:17:12: Iteration calculation: 108\n",
      "[ ] 2018-06-25 12:17:12: Iteration calculation: 109\n",
      "[ ] 2018-06-25 12:17:13: Iteration calculation: 110\n",
      "[ ] 2018-06-25 12:17:13: Iteration calculation: 111\n",
      "[ ] 2018-06-25 12:17:13: Iteration calculation: 112\n",
      "[ ] 2018-06-25 12:17:14: Iteration calculation: 113\n",
      "[ ] 2018-06-25 12:17:14: Iteration calculation: 114\n",
      "[ ] 2018-06-25 12:17:15: Iteration calculation: 115\n",
      "[ ] 2018-06-25 12:17:15: Iteration calculation: 116\n",
      "[ ] 2018-06-25 12:17:16: Iteration calculation: 117\n",
      "[ ] 2018-06-25 12:17:16: Iteration calculation: 118\n",
      "[ ] 2018-06-25 12:17:16: Iteration calculation: 119\n",
      "[ ] 2018-06-25 12:17:17: Iteration calculation: 120\n",
      "[ ] 2018-06-25 12:17:17: Iteration calculation: 121\n",
      "[ ] 2018-06-25 12:17:17: Iteration calculation: 122\n",
      "[ ] 2018-06-25 12:17:18: Iteration calculation: 123\n",
      "[ ] 2018-06-25 12:17:18: Iteration calculation: 124\n",
      "[ ] 2018-06-25 12:17:19: Iteration calculation: 125\n",
      "[ ] 2018-06-25 12:17:19: Iteration calculation: 126\n",
      "[ ] 2018-06-25 12:17:20: Iteration calculation: 127\n",
      "[ ] 2018-06-25 12:17:20: Iteration calculation: 128\n",
      "[ ] 2018-06-25 12:17:21: Iteration calculation: 129\n",
      "[ ] 2018-06-25 12:17:21: Iteration calculation: 130\n",
      "[ ] 2018-06-25 12:17:22: Iteration calculation: 131\n",
      "[ ] 2018-06-25 12:17:22: Iteration calculation: 132\n",
      "[ ] 2018-06-25 12:17:22: Iteration calculation: 133\n",
      "[ ] 2018-06-25 12:17:23: Iteration calculation: 134\n",
      "[ ] 2018-06-25 12:17:23: Iteration calculation: 135\n",
      "[ ] 2018-06-25 12:17:24: Iteration calculation: 136\n",
      "[ ] 2018-06-25 12:17:24: Iteration calculation: 137\n",
      "[ ] 2018-06-25 12:17:25: Iteration calculation: 138\n",
      "[ ] 2018-06-25 12:17:25: Iteration calculation: 139\n",
      "[ ] 2018-06-25 12:17:25: Iteration calculation: 140\n",
      "[ ] 2018-06-25 12:17:26: Iteration calculation: 141\n",
      "[ ] 2018-06-25 12:17:27: Iteration calculation: 142\n",
      "[ ] 2018-06-25 12:17:27: Iteration calculation: 143\n",
      "[ ] 2018-06-25 12:17:28: Iteration calculation: 144\n",
      "[ ] 2018-06-25 12:17:28: Iteration calculation: 145\n",
      "[ ] 2018-06-25 12:17:29: Iteration calculation: 146\n",
      "[ ] 2018-06-25 12:17:29: Iteration calculation: 147\n",
      "[ ] 2018-06-25 12:17:30: Iteration calculation: 148\n",
      "[ ] 2018-06-25 12:17:30: Iteration calculation: 149\n",
      "[ ] 2018-06-25 12:17:31: Iteration calculation: 150\n",
      "[ ] 2018-06-25 12:17:31: Iteration calculation: 151\n",
      "[ ] 2018-06-25 12:17:32: Iteration calculation: 152\n",
      "[ ] 2018-06-25 12:17:32: Iteration calculation: 153\n",
      "[ ] 2018-06-25 12:17:33: Iteration calculation: 154\n",
      "[ ] 2018-06-25 12:17:33: Iteration calculation: 155\n",
      "[ ] 2018-06-25 12:17:33: Iteration calculation: 156\n",
      "[ ] 2018-06-25 12:17:34: Iteration calculation: 157\n",
      "[ ] 2018-06-25 12:17:34: Iteration calculation: 158\n",
      "[ ] 2018-06-25 12:17:35: Iteration calculation: 159\n"
     ]
    },
    {
     "name": "stdout",
     "output_type": "stream",
     "text": [
      "[ ] 2018-06-25 12:17:35: Iteration calculation: 160\n",
      "[ ] 2018-06-25 12:17:35: Iteration calculation: 161\n",
      "[ ] 2018-06-25 12:17:36: Iteration calculation: 162\n",
      "[ ] 2018-06-25 12:17:36: Iteration calculation: 163\n",
      "[ ] 2018-06-25 12:17:37: Iteration calculation: 164\n",
      "[ ] 2018-06-25 12:17:37: Iteration calculation: 165\n",
      "[ ] 2018-06-25 12:17:38: Iteration calculation: 166\n",
      "[ ] 2018-06-25 12:17:38: Iteration calculation: 167\n",
      "[ ] 2018-06-25 12:17:39: Iteration calculation: 168\n",
      "[ ] 2018-06-25 12:17:39: Iteration calculation: 169\n",
      "[ ] 2018-06-25 12:17:40: Iteration calculation: 170\n",
      "[ ] 2018-06-25 12:17:40: Iteration calculation: 171\n",
      "[ ] 2018-06-25 12:17:41: Iteration calculation: 172\n",
      "[ ] 2018-06-25 12:17:41: Iteration calculation: 173\n",
      "[ ] 2018-06-25 12:17:42: Iteration calculation: 174\n",
      "[ ] 2018-06-25 12:17:42: Iteration calculation: 175\n",
      "[ ] 2018-06-25 12:17:43: Iteration calculation: 176\n",
      "[ ] 2018-06-25 12:17:43: Iteration calculation: 177\n",
      "[ ] 2018-06-25 12:17:44: Iteration calculation: 178\n",
      "[ ] 2018-06-25 12:17:44: Iteration calculation: 179\n"
     ]
    },
    {
     "data": {
      "text/plain": [
       "(17.97222222222222, 1.730223349601482)"
      ]
     },
     "execution_count": 68,
     "metadata": {},
     "output_type": "execute_result"
    }
   ],
   "source": [
    "from SCFInitialGuess.utilities.analysis import measure_iterations, mf_initializer\n",
    "statistics(measure_iterations(mf_initializer, p_sannd.astype(\"float64\"), molecules_dataset))"
   ]
  },
  {
   "cell_type": "code",
   "execution_count": null,
   "metadata": {},
   "outputs": [],
   "source": []
  }
 ],
 "metadata": {
  "kernelspec": {
   "display_name": "Python 3",
   "language": "python",
   "name": "python3"
  },
  "language_info": {
   "codemirror_mode": {
    "name": "ipython",
    "version": 3
   },
   "file_extension": ".py",
   "mimetype": "text/x-python",
   "name": "python",
   "nbconvert_exporter": "python",
   "pygments_lexer": "ipython3",
   "version": "3.6.4"
  }
 },
 "nbformat": 4,
 "nbformat_minor": 2
}
