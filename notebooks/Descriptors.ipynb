{
 "cells": [
  {
   "cell_type": "markdown",
   "metadata": {},
   "source": [
    "# Contraction Descriptors\n",
    "In this section a short comparison of descriptros will be done. \n",
    "... Something on the S Matrix etc and the general Idea.\n"
   ]
  },
  {
   "cell_type": "code",
   "execution_count": 1,
   "metadata": {
    "collapsed": false
   },
   "outputs": [],
   "source": [
    "from os import listdir\n",
    "\n",
    "import numpy as np\n",
    "import matplotlib.pyplot as plt\n",
    "\n",
    "from SCFInitialGuess.utilities.dataset import assemble_batch\n",
    "from SCFInitialGuess.utilities.constants import number_of_basis_functions as N_BASIS\n",
    "from SCFInitialGuess.utilities.usermessages import Messenger\n",
    "\n",
    "Messenger.print_level = 1\n",
    "\n",
    "%matplotlib inline\n",
    "\n",
    "species = \"H\"\n",
    "dim = N_BASIS[species]\n",
    "\n",
    "def statistics(x, y):\n",
    "    print(x.shape, y.shape)\n",
    "    print(\"----------------------------------------\")\n",
    "    print(np.var(x, 0))\n",
    "    print(\"----------------------------------------\")\n",
    "    print(np.var(y, 0))\n",
    "    print(\"----------------------------------------\")\n",
    "    print(np.var(y, 0)/np.var(x, 0))\n",
    "\n",
    "def analysis(x, y):\n",
    "    \"\"\"This function will analyize the created dataset by printing\n",
    "    statistical values and plotting.\n",
    "    \"\"\"\n",
    "\n",
    "    \n",
    "    fig, axes = plt.subplots(x.shape[1], y.shape[1])\n",
    "    \n",
    "    for input_nr in range(x.shape[1]):\n",
    "        for output_nr in range(y.shape[1]):\n",
    "            axes[input_nr, output_nr].scatter(x[:, input_nr], y[:, output_nr])\n",
    "    plt.show()"
   ]
  },
  {
   "cell_type": "markdown",
   "metadata": {},
   "source": [
    "## Weighted sums\n",
    "The following approaches all work with sums as the inner/outer contractions but vary as to how these vontractions are weighted. The inner sums are normalized w.r.t. the number of summands (= number of basis funcitons)"
   ]
  },
  {
   "cell_type": "markdown",
   "metadata": {},
   "source": [
    "### No weights (i.e. all weights --> 1)"
   ]
  },
  {
   "cell_type": "code",
   "execution_count": 2,
   "metadata": {
    "collapsed": false,
    "scrolled": true
   },
   "outputs": [
    {
     "name": "stdout",
     "output_type": "stream",
     "text": [
      "[+] 2018-02-24 22:16:44: Assembling batch for: H\n",
      "[+] 2018-02-24 22:16:48: Done assembling. Found 916 points.\n"
     ]
    }
   ],
   "source": [
    "from SCFInitialGuess.nn.descriptors import WeightedSum as descriptor\n",
    "\n",
    "\n",
    "x, y = assemble_batch(\"../dataset\", species, descriptor)"
   ]
  },
  {
   "cell_type": "code",
   "execution_count": 3,
   "metadata": {
    "collapsed": false
   },
   "outputs": [],
   "source": [
    "analysis(x, y)"
   ]
  },
  {
   "cell_type": "markdown",
   "metadata": {},
   "source": [
    "### Weighting with electronegativity"
   ]
  },
  {
   "cell_type": "code",
   "execution_count": 4,
   "metadata": {
    "collapsed": false,
    "scrolled": true
   },
   "outputs": [
    {
     "name": "stdout",
     "output_type": "stream",
     "text": [
      "[+] 2018-02-24 22:18:14: Assembling batch for: H\n",
      "[+] 2018-02-24 22:18:19: Done assembling. Found 916 points.\n"
     ]
    }
   ],
   "source": [
    "from SCFInitialGuess.nn.descriptors import SumWithElectronegativities as descriptor\n",
    "\n",
    "x, y = assemble_batch(\"../dataset\", species, descriptor)"
   ]
  },
  {
   "cell_type": "code",
   "execution_count": 5,
   "metadata": {
    "collapsed": false,
    "scrolled": true
   },
   "outputs": [],
   "source": [
    "analysis(x, y)"
   ]
  },
  {
   "cell_type": "markdown",
   "metadata": {},
   "source": [
    "The diagonal elements look relatively fine, but the others show definate bulking behaviour, implying that there is not a unique mapping."
   ]
  },
  {
   "cell_type": "markdown",
   "metadata": {},
   "source": [
    "### Weighting with atomic number\n",
    "The sub contractions (sums) are weight with the atomic number Z."
   ]
  },
  {
   "cell_type": "code",
   "execution_count": 6,
   "metadata": {
    "collapsed": false
   },
   "outputs": [
    {
     "name": "stdout",
     "output_type": "stream",
     "text": [
      "[+] 2018-02-24 22:18:38: Assembling batch for: H\n",
      "[+] 2018-02-24 22:18:42: Done assembling. Found 916 points.\n"
     ]
    }
   ],
   "source": [
    "from SCFInitialGuess.nn.descriptors import SumWithElectronegativities as descriptor\n",
    "\n",
    "\n",
    "x, y = assemble_batch(\"../dataset\", species, descriptor)"
   ]
  },
  {
   "cell_type": "code",
   "execution_count": 7,
   "metadata": {
    "collapsed": false
   },
   "outputs": [],
   "source": [
    "analysis(x, y)"
   ]
  },
  {
   "cell_type": "markdown",
   "metadata": {},
   "source": [
    "### Number of valence\n",
    "The number of valence."
   ]
  },
  {
   "cell_type": "code",
   "execution_count": 8,
   "metadata": {
    "collapsed": false,
    "scrolled": true
   },
   "outputs": [
    {
     "name": "stdout",
     "output_type": "stream",
     "text": [
      "[+] 2018-02-24 22:18:54: Assembling batch for: H\n",
      "[+] 2018-02-24 22:18:58: Done assembling. Found 916 points.\n"
     ]
    }
   ],
   "source": [
    "from SCFInitialGuess.nn.descriptors import SumWithValenceElectrons as descriptor\n",
    "\n",
    "x, y = assemble_batch(\"../dataset\", species, descriptor)"
   ]
  },
  {
   "cell_type": "code",
   "execution_count": 9,
   "metadata": {
    "collapsed": false
   },
   "outputs": [],
   "source": [
    "analysis(x, y)"
   ]
  },
  {
   "cell_type": "markdown",
   "metadata": {},
   "source": [
    "## Combinations\n",
    "In addition to a weighted sum, I will try to add some combinations of the inputs e.g. xi * xj"
   ]
  },
  {
   "cell_type": "markdown",
   "metadata": {},
   "source": [
    "### Multiplication xi * xj"
   ]
  },
  {
   "cell_type": "code",
   "execution_count": 10,
   "metadata": {
    "collapsed": false
   },
   "outputs": [
    {
     "name": "stdout",
     "output_type": "stream",
     "text": [
      "[+] 2018-02-24 22:19:05: Assembling batch for: H\n",
      "[+] 2018-02-24 22:19:09: Done assembling. Found 916 points.\n"
     ]
    }
   ],
   "source": [
    "from SCFInitialGuess.nn.descriptors import SumWithInputCombinations as descriptor\n",
    "\n",
    "x, y = assemble_batch(\"../dataset\", species, descriptor)"
   ]
  },
  {
   "cell_type": "code",
   "execution_count": 11,
   "metadata": {
    "collapsed": false
   },
   "outputs": [],
   "source": [
    "analysis(x, y)"
   ]
  },
  {
   "cell_type": "code",
   "execution_count": null,
   "metadata": {
    "collapsed": true
   },
   "outputs": [],
   "source": []
  }
 ],
 "metadata": {
  "anaconda-cloud": {},
  "kernelspec": {
   "display_name": "Python [Root]",
   "language": "python",
   "name": "Python [Root]"
  },
  "language_info": {
   "codemirror_mode": {
    "name": "ipython",
    "version": 3
   },
   "file_extension": ".py",
   "mimetype": "text/x-python",
   "name": "python",
   "nbconvert_exporter": "python",
   "pygments_lexer": "ipython3",
   "version": "3.5.2"
  }
 },
 "nbformat": 4,
 "nbformat_minor": 0
}
