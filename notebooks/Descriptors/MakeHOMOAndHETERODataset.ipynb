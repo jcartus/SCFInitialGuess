{
 "cells": [
  {
   "cell_type": "code",
   "execution_count": 1,
   "metadata": {},
   "outputs": [
    {
     "name": "stderr",
     "output_type": "stream",
     "text": [
      "/home/jo/anaconda3/lib/python3.6/site-packages/h5py/__init__.py:36: FutureWarning: Conversion of the second argument of issubdtype from `float` to `np.floating` is deprecated. In future, it will be treated as `np.float64 == np.dtype(float).type`.\n",
      "  from ._conv import register_converters as _register_converters\n"
     ]
    }
   ],
   "source": [
    "import numpy as np\n",
    "import matplotlib.pyplot as plt\n",
    "import seaborn as sns\n",
    "import tensorflow as tf\n",
    "\n",
    "plt.style.use([\"seaborn\", \"thesis\"])"
   ]
  },
  {
   "cell_type": "code",
   "execution_count": 2,
   "metadata": {},
   "outputs": [],
   "source": [
    "plt.rc(\"figure\", figsize=(8,4))"
   ]
  },
  {
   "cell_type": "markdown",
   "metadata": {},
   "source": [
    "# Fetch Data"
   ]
  },
  {
   "cell_type": "code",
   "execution_count": 3,
   "metadata": {},
   "outputs": [],
   "source": [
    "from SCFInitialGuess.utilities.dataset import Data\n",
    "\n",
    "target = \"P\"\n",
    "basis = \"6-311++g**\"\n",
    "\n",
    "data = Data()\n",
    "data.include(data_path = \"../../thesis/dataset/MethanT/\", postfix = \"MethanT\", target=target)"
   ]
  },
  {
   "cell_type": "markdown",
   "metadata": {},
   "source": [
    "# Make Block Masks"
   ]
  },
  {
   "cell_type": "code",
   "execution_count": 10,
   "metadata": {},
   "outputs": [],
   "source": [
    "from SCFInitialGuess.construction.utilities import make_atom_pair_mask"
   ]
  },
  {
   "cell_type": "code",
   "execution_count": 5,
   "metadata": {},
   "outputs": [
    {
     "data": {
      "text/plain": [
       "<matplotlib.axes._subplots.AxesSubplot at 0x7fe7a636ed30>"
      ]
     },
     "execution_count": 5,
     "metadata": {},
     "output_type": "execute_result"
    },
    {
     "data": {
      "image/png": "[encoded data removed]",
      "text/plain": [
       "<matplotlib.figure.Figure at 0x7fe8285738d0>"
      ]
     },
     "metadata": {},
     "output_type": "display_data"
    }
   ],
   "source": [
    "from SCFInitialGuess.utilities.constants import number_of_basis_functions as N_BASIS\n",
    "masks = make_atom_pair_mask(data.molecules[0][0], 1,2)\n",
    "\n",
    "sns.heatmap(masks.astype(\"int\"))"
   ]
  },
  {
   "cell_type": "markdown",
   "metadata": {},
   "source": [
    "# Extract data "
   ]
  },
  {
   "cell_type": "code",
   "execution_count": 90,
   "metadata": {},
   "outputs": [],
   "source": [
    "from SCFInitialGuess.utilities.dataset import StaticDataset"
   ]
  },
  {
   "cell_type": "code",
   "execution_count": 6,
   "metadata": {},
   "outputs": [],
   "source": []
  },
  {
   "cell_type": "code",
   "execution_count": null,
   "metadata": {},
   "outputs": [],
   "source": [
    "def extract_HOMO_block_dataset_pairs(descriptor, molecules, p_batch, species):  \n",
    "    \"\"\"Creates pairs of inputs and outputs for all all atoms of the element \n",
    "    species in the molecules to be used to set up a dataset for an NN \n",
    "    for a given descriptor and a target matrix p_batch. \n",
    "    The output are the (off-diagonal) homo-nuclear overlap blocks.\n",
    "    \"\"\"\n",
    "    \n",
    "    descriptor_values, blocks = [], []\n",
    "    for p, mol in zip(p_batch, molecules):\n",
    "\n",
    "        dim = mol.dim\n",
    "        \n",
    "        \n",
    "        for i, atom_i in enumerate(mol.species):\n",
    "            for j, atom_j in enumerate(mol.species):\n",
    "                if i <= j:\n",
    "                    continue\n",
    "                    \n",
    "                if atom_j == species and atom_i == species:\n",
    "                    \n",
    "                    #--- calculate symmetry vectors ---\n",
    "                    descriptor_values.append(\n",
    "                        list(\n",
    "                            descriptor.calculate_atom_descriptor(\n",
    "                                i, \n",
    "                                mol,\n",
    "                                descriptor.number_of_descriptors\n",
    "                            )\n",
    "                        ) + list(\n",
    "                            descriptor.calculate_atom_descriptor(\n",
    "                                j, \n",
    "                                mol,\n",
    "                                descriptor.number_of_descriptors\n",
    "                            )\n",
    "                        )\n",
    "                    )\n",
    "                    #---\n",
    "                    \n",
    "                    #--- extract blocks from target matrices ---\n",
    "                    mask = make_atom_pair_mask(mol, i, j)\n",
    "                    blocks.append(np.asarray(p).reshape(dim, dim).copy()[mask])\n",
    "                    #---\n",
    "                \n",
    "\n",
    "    return descriptor_values, blocks"
   ]
  },
  {
   "cell_type": "code",
   "execution_count": 83,
   "metadata": {},
   "outputs": [],
   "source": [
    "def extract_HETERO_block_dataset_pairs(descriptors, molecules, p_batch, species):  \n",
    "    \"\"\"Creates pairs of inputs and outputs for all all atoms of the element \n",
    "    species in the molecules to be used to set up a dataset for an NN \n",
    "    for a given descriptor and a target matrix p_batch. \n",
    "    The output are the (off-diagonal) hetero-nuclear overlap blocks.\n",
    "    \n",
    "    Args:\n",
    "        descriptors <list> list of descriptors\n",
    "        species <list<str>> list of species\n",
    "    \"\"\"\n",
    "    \n",
    "    descriptor_values, blocks = [], []\n",
    "    for p, mol in zip(p_batch, molecules):\n",
    "\n",
    "        dim = mol.dim\n",
    "    \n",
    "        \n",
    "        for i, atom_i in enumerate(mol.species):\n",
    "            for j, atom_j in enumerate(mol.species):\n",
    "                \n",
    "                # only check lower triu\n",
    "                if i <= j:\n",
    "                    continue\n",
    "                    \n",
    "                if (atom_j in species and atom_i in species and atom_i != atom_j):\n",
    "                    \n",
    "                    \n",
    "                    #--- calculate symmetry vectors ---\n",
    "                    # make sure descriptor[0] describes atom [1], regardless \n",
    "                    # of storage order of atoms in molecule\n",
    "                    # by using aliases ii and jj\n",
    "                    if atom_i == species[0]:\n",
    "                        ii = i\n",
    "                        jj = j\n",
    "                    else:\n",
    "                        ii = j\n",
    "                        jj = i\n",
    "                        \n",
    "                    \n",
    "                    descriptor_values.append(\n",
    "                        list(\n",
    "                            descriptors[0].calculate_atom_descriptor(\n",
    "                                ii, \n",
    "                                mol,\n",
    "                                descriptors[0].number_of_descriptors\n",
    "                            )\n",
    "                        ) + list(\n",
    "                            descriptors[1].calculate_atom_descriptor(\n",
    "                                jj, \n",
    "                                mol,\n",
    "                                descriptors[1].number_of_descriptors\n",
    "                            )\n",
    "                        )\n",
    "                    )\n",
    "                    #---\n",
    "                    \n",
    "                    #--- extract blocks from target matrices ---\n",
    "                    mask = make_atom_pair_mask(mol, i, j)\n",
    "                    blocks.append(np.asarray(p).reshape(dim, dim).copy()[mask])\n",
    "                    #---\n",
    "                \n",
    "\n",
    "    return descriptor_values, blocks"
   ]
  },
  {
   "cell_type": "markdown",
   "metadata": {},
   "source": [
    "## assert result"
   ]
  },
  {
   "cell_type": "code",
   "execution_count": 78,
   "metadata": {},
   "outputs": [],
   "source": [
    "class DescriptorMock(object):\n",
    "    \n",
    "    def __init__(self):\n",
    "        self.number_of_descriptors = 1\n",
    "        \n",
    "    def calculate_atom_descriptor(self, index, mol, number_of_descriptors):\n",
    "        return [index, mol.species[index]]"
   ]
  },
  {
   "cell_type": "code",
   "execution_count": 79,
   "metadata": {},
   "outputs": [
    {
     "data": {
      "text/plain": [
       "array([['H0-H0', 'H0-H1', 'H0-O2', 'H0-O2', 'H0-O2', 'H0-O2', 'H0-O2'],\n",
       "       ['H1-H0', 'H1-H1', 'H1-O2', 'H1-O2', 'H1-O2', 'H1-O2', 'H1-O2'],\n",
       "       ['O2-H0', 'O2-H1', 'O2-O2', 'O2-O2', 'O2-O2', 'O2-O2', 'O2-O2'],\n",
       "       ['O2-H0', 'O2-H1', 'O2-O2', 'O2-O2', 'O2-O2', 'O2-O2', 'O2-O2'],\n",
       "       ['O2-H0', 'O2-H1', 'O2-O2', 'O2-O2', 'O2-O2', 'O2-O2', 'O2-O2'],\n",
       "       ['O2-H0', 'O2-H1', 'O2-O2', 'O2-O2', 'O2-O2', 'O2-O2', 'O2-O2'],\n",
       "       ['O2-H0', 'O2-H1', 'O2-O2', 'O2-O2', 'O2-O2', 'O2-O2', 'O2-O2']],\n",
       "      dtype=object)"
      ]
     },
     "execution_count": 79,
     "metadata": {},
     "output_type": "execute_result"
    }
   ],
   "source": [
    "def make_target_matrix_mock(mol):\n",
    "    dim = mol.dim\n",
    "    \n",
    "    T = np.zeros((dim, dim), dtype=\"object\")\n",
    "    \n",
    "    for i, atom_i in enumerate(mol.species):\n",
    "        for j, atom_j in enumerate(mol.species):\n",
    "            mask = make_atom_pair_mask(mol, i, j)\n",
    "            \n",
    "            m = atom_i + str(i) + \"-\" + atom_j + str(j)\n",
    "            \n",
    "            if N_BASIS[mol.basis][atom_i] * N_BASIS[mol.basis][atom_j] :\n",
    "                T[mask] = m\n",
    "            else:\n",
    "                T[mask] = np.array(\n",
    "                    [\n",
    "                        [\n",
    "                            m\n",
    "                        ] * N_BASIS[mol.basis][atom_j]\n",
    "                    ] * N_BASIS[mol.basis][atom_i],\n",
    "                    dtype=\"object\"\n",
    "                )\n",
    "    return T\n",
    "\n",
    "from SCFInitialGuess.utilities.dataset import Molecule\n",
    "tmp = Molecule(\n",
    "    [\"H\", \"H\", \"O\"],\n",
    "    [[0,0,0], [1,0,0],[0,1,0]]\n",
    ")\n",
    "tmp.basis=\"sto-3g\"\n",
    "\n",
    "make_target_matrix_mock(tmp)"
   ]
  },
  {
   "cell_type": "code",
   "execution_count": 80,
   "metadata": {},
   "outputs": [],
   "source": [
    "G, T = extract_HOMO_block_dataset_pairs(\n",
    "    DescriptorMock(), \n",
    "    [data.molecules[0][0]],\n",
    "    [data.T[0][0]],\n",
    "    \"H\"\n",
    ")"
   ]
  },
  {
   "cell_type": "code",
   "execution_count": 85,
   "metadata": {},
   "outputs": [
    {
     "data": {
      "text/plain": [
       "[[1, 'H', 0, 'C'], [2, 'H', 0, 'C'], [3, 'H', 0, 'C'], [4, 'H', 0, 'C']]"
      ]
     },
     "execution_count": 85,
     "metadata": {},
     "output_type": "execute_result"
    }
   ],
   "source": [
    "G, T = extract_HETERO_block_dataset_pairs(\n",
    "    [DescriptorMock(), DescriptorMock() ],\n",
    "    [data.molecules[0][0]],\n",
    "    [data.T[0][0]],\n",
    "    [\"H\", \"C\"]\n",
    ")\n",
    "G"
   ]
  },
  {
   "cell_type": "markdown",
   "metadata": {},
   "source": [
    "# Make Dataset "
   ]
  },
  {
   "cell_type": "markdown",
   "metadata": {},
   "source": [
    "## HOMO "
   ]
  },
  {
   "cell_type": "code",
   "execution_count": 128,
   "metadata": {},
   "outputs": [],
   "source": [
    "def make_block_dataset(descriptor, molecules, T, species, extractor_callback):\n",
    "    \"\"\"Makes a dataset with blocks and symmetry vectors from all molecules in \n",
    "    molecules. \n",
    "\n",
    "    descriptor <SCFInitialGuess.descriptors.high_level.*>: \n",
    "        a high level descriptor object.\n",
    "    molecules <list<list<SCFInitialGuess.utilities.dataset.Molecule>>>:\n",
    "        List with 3 elements (training data, validation and test). \n",
    "        Each are a list of molecules. \n",
    "    T <list<np.array>> or <list<list<list>>>: \n",
    "        List with training, validation and test data. \n",
    "        each is a numpy array. \n",
    "    species <string>: the element name of the desired species.\n",
    "    \"\"\"\n",
    "\n",
    "    inputs_test, outputs_test = extractor_callback(\n",
    "        descriptor,\n",
    "        molecules[2], \n",
    "        T[2],\n",
    "        species\n",
    "    )\n",
    "    \n",
    "    inputs_validation, outputs_validation = extractor_callback(\n",
    "        descriptor,\n",
    "        molecules[1], \n",
    "        T[1],\n",
    "        species\n",
    "    )\n",
    "\n",
    "    inputs_train, outputs_train = extractor_callback(\n",
    "        descriptor,\n",
    "        molecules[0], \n",
    "        T[0],\n",
    "        species\n",
    "    )\n",
    "    \n",
    "    print(\n",
    "        np.array(inputs_train).shape, \n",
    "        np.array(inputs_validation).shape, \n",
    "        np.array(inputs_test).shape\n",
    "    )\n",
    "    \n",
    "    #_, mu, std = StaticDataset.normalize(inputs_train + inputs_validation + inputs_test)\n",
    "    _, mu, std = normalize(inputs_train + inputs_validation + inputs_test)\n",
    "    \n",
    "    dataset = StaticDataset(\n",
    "        train=(\n",
    "            StaticDataset.normalize(inputs_train, mean=mu, std=std)[0], \n",
    "            np.asarray(outputs_train)\n",
    "        ),\n",
    "        validation=(\n",
    "            StaticDataset.normalize(inputs_validation, mean=mu, std=std)[0], \n",
    "            np.asarray(outputs_validation)\n",
    "        ),\n",
    "        test=(\n",
    "            StaticDataset.normalize(inputs_test, mean=mu, std=std)[0], \n",
    "            np.asarray(outputs_test)\n",
    "        ),\n",
    "        mu=mu,\n",
    "        std=std\n",
    "    )\n",
    "    \n",
    "    return dataset"
   ]
  },
  {
   "cell_type": "code",
   "execution_count": 129,
   "metadata": {},
   "outputs": [],
   "source": [
    "#def make_block_dataset(descriptor, molecules, T, species, extractor_callback):\n",
    "\n",
    "def normalize(x, std_tolerance=1e-20, mean=None, std=None):\n",
    "    \"\"\"Will trans form a dataset with elements x_ij, where j is the index\n",
    "    that labels the example and i the index that labels to which input\n",
    "    the value corresponds, in the following way:\n",
    "\n",
    "        x_ij = x_ij - mean(x_ij, j) / var(x_ij, j)\n",
    "\n",
    "    where mean(..., j) and var(..., j) denote operation w.r.t j (i fixed.)\n",
    "    \"\"\"\n",
    "    \n",
    "    print(np.array(x).shape)\n",
    "    \n",
    "    if mean is None or std is None:\n",
    "        mean = np.average(x, 0)\n",
    "        std = np.std(x, 0)\n",
    "\n",
    "    # handle dvision by zero if std == 0\n",
    "    return (\n",
    "        (x - mean) / np.where(np.abs(std) < std_tolerance, 1, std),\n",
    "        mean,\n",
    "        std\n",
    "    )"
   ]
  },
  {
   "cell_type": "code",
   "execution_count": 131,
   "metadata": {},
   "outputs": [
    {
     "name": "stdout",
     "output_type": "stream",
     "text": [
      "(3840, 4) (960, 4) (1206, 4)\n",
      "(6006, 4)\n"
     ]
    },
    {
     "ename": "TypeError",
     "evalue": "cannot perform reduce with flexible type",
     "output_type": "error",
     "traceback": [
      "\u001b[0;31m---------------------------------------------------------------------------\u001b[0m",
      "\u001b[0;31mTypeError\u001b[0m                                 Traceback (most recent call last)",
      "\u001b[0;32m<ipython-input-131-7964dc4d5d2e>\u001b[0m in \u001b[0;36m<module>\u001b[0;34m()\u001b[0m\n\u001b[1;32m      5\u001b[0m     \u001b[0mdata\u001b[0m\u001b[0;34m.\u001b[0m\u001b[0mT\u001b[0m\u001b[0;34m,\u001b[0m\u001b[0;34m\u001b[0m\u001b[0m\n\u001b[1;32m      6\u001b[0m     \u001b[0;34m\"H\"\u001b[0m\u001b[0;34m,\u001b[0m\u001b[0;34m\u001b[0m\u001b[0m\n\u001b[0;32m----> 7\u001b[0;31m     \u001b[0mextract_HOMO_block_dataset_pairs\u001b[0m\u001b[0;34m\u001b[0m\u001b[0m\n\u001b[0m\u001b[1;32m      8\u001b[0m )\n",
      "\u001b[0;32m<ipython-input-128-764c1a378916>\u001b[0m in \u001b[0;36mmake_block_dataset\u001b[0;34m(descriptor, molecules, T, species, extractor_callback)\u001b[0m\n\u001b[1;32m     42\u001b[0m \u001b[0;34m\u001b[0m\u001b[0m\n\u001b[1;32m     43\u001b[0m     \u001b[0;31m#_, mu, std = StaticDataset.normalize(inputs_train + inputs_validation + inputs_test)\u001b[0m\u001b[0;34m\u001b[0m\u001b[0;34m\u001b[0m\u001b[0m\n\u001b[0;32m---> 44\u001b[0;31m     \u001b[0m_\u001b[0m\u001b[0;34m,\u001b[0m \u001b[0mmu\u001b[0m\u001b[0;34m,\u001b[0m \u001b[0mstd\u001b[0m \u001b[0;34m=\u001b[0m \u001b[0mnormalize\u001b[0m\u001b[0;34m(\u001b[0m\u001b[0minputs_train\u001b[0m \u001b[0;34m+\u001b[0m \u001b[0minputs_validation\u001b[0m \u001b[0;34m+\u001b[0m \u001b[0minputs_test\u001b[0m\u001b[0;34m)\u001b[0m\u001b[0;34m\u001b[0m\u001b[0m\n\u001b[0m\u001b[1;32m     45\u001b[0m \u001b[0;34m\u001b[0m\u001b[0m\n\u001b[1;32m     46\u001b[0m     dataset = StaticDataset(\n",
      "\u001b[0;32m<ipython-input-129-4474040874f0>\u001b[0m in \u001b[0;36mnormalize\u001b[0;34m(x, std_tolerance, mean, std)\u001b[0m\n\u001b[1;32m     14\u001b[0m \u001b[0;34m\u001b[0m\u001b[0m\n\u001b[1;32m     15\u001b[0m     \u001b[0;32mif\u001b[0m \u001b[0mmean\u001b[0m \u001b[0;32mis\u001b[0m \u001b[0;32mNone\u001b[0m \u001b[0;32mor\u001b[0m \u001b[0mstd\u001b[0m \u001b[0;32mis\u001b[0m \u001b[0;32mNone\u001b[0m\u001b[0;34m:\u001b[0m\u001b[0;34m\u001b[0m\u001b[0m\n\u001b[0;32m---> 16\u001b[0;31m         \u001b[0mmean\u001b[0m \u001b[0;34m=\u001b[0m \u001b[0mnp\u001b[0m\u001b[0;34m.\u001b[0m\u001b[0maverage\u001b[0m\u001b[0;34m(\u001b[0m\u001b[0mx\u001b[0m\u001b[0;34m,\u001b[0m \u001b[0;36m0\u001b[0m\u001b[0;34m)\u001b[0m\u001b[0;34m\u001b[0m\u001b[0m\n\u001b[0m\u001b[1;32m     17\u001b[0m         \u001b[0mstd\u001b[0m \u001b[0;34m=\u001b[0m \u001b[0mnp\u001b[0m\u001b[0;34m.\u001b[0m\u001b[0mstd\u001b[0m\u001b[0;34m(\u001b[0m\u001b[0mx\u001b[0m\u001b[0;34m,\u001b[0m \u001b[0;36m0\u001b[0m\u001b[0;34m)\u001b[0m\u001b[0;34m\u001b[0m\u001b[0m\n\u001b[1;32m     18\u001b[0m \u001b[0;34m\u001b[0m\u001b[0m\n",
      "\u001b[0;32m~/anaconda3/lib/python3.6/site-packages/numpy/lib/function_base.py\u001b[0m in \u001b[0;36maverage\u001b[0;34m(a, axis, weights, returned)\u001b[0m\n\u001b[1;32m   1126\u001b[0m \u001b[0;34m\u001b[0m\u001b[0m\n\u001b[1;32m   1127\u001b[0m     \u001b[0;32mif\u001b[0m \u001b[0mweights\u001b[0m \u001b[0;32mis\u001b[0m \u001b[0;32mNone\u001b[0m\u001b[0;34m:\u001b[0m\u001b[0;34m\u001b[0m\u001b[0m\n\u001b[0;32m-> 1128\u001b[0;31m         \u001b[0mavg\u001b[0m \u001b[0;34m=\u001b[0m \u001b[0ma\u001b[0m\u001b[0;34m.\u001b[0m\u001b[0mmean\u001b[0m\u001b[0;34m(\u001b[0m\u001b[0maxis\u001b[0m\u001b[0;34m)\u001b[0m\u001b[0;34m\u001b[0m\u001b[0m\n\u001b[0m\u001b[1;32m   1129\u001b[0m         \u001b[0mscl\u001b[0m \u001b[0;34m=\u001b[0m \u001b[0mavg\u001b[0m\u001b[0;34m.\u001b[0m\u001b[0mdtype\u001b[0m\u001b[0;34m.\u001b[0m\u001b[0mtype\u001b[0m\u001b[0;34m(\u001b[0m\u001b[0ma\u001b[0m\u001b[0;34m.\u001b[0m\u001b[0msize\u001b[0m\u001b[0;34m/\u001b[0m\u001b[0mavg\u001b[0m\u001b[0;34m.\u001b[0m\u001b[0msize\u001b[0m\u001b[0;34m)\u001b[0m\u001b[0;34m\u001b[0m\u001b[0m\n\u001b[1;32m   1130\u001b[0m     \u001b[0;32melse\u001b[0m\u001b[0;34m:\u001b[0m\u001b[0;34m\u001b[0m\u001b[0m\n",
      "\u001b[0;32m~/anaconda3/lib/python3.6/site-packages/numpy/core/_methods.py\u001b[0m in \u001b[0;36m_mean\u001b[0;34m(a, axis, dtype, out, keepdims)\u001b[0m\n\u001b[1;32m     68\u001b[0m             \u001b[0mis_float16_result\u001b[0m \u001b[0;34m=\u001b[0m \u001b[0;32mTrue\u001b[0m\u001b[0;34m\u001b[0m\u001b[0m\n\u001b[1;32m     69\u001b[0m \u001b[0;34m\u001b[0m\u001b[0m\n\u001b[0;32m---> 70\u001b[0;31m     \u001b[0mret\u001b[0m \u001b[0;34m=\u001b[0m \u001b[0mumr_sum\u001b[0m\u001b[0;34m(\u001b[0m\u001b[0marr\u001b[0m\u001b[0;34m,\u001b[0m \u001b[0maxis\u001b[0m\u001b[0;34m,\u001b[0m \u001b[0mdtype\u001b[0m\u001b[0;34m,\u001b[0m \u001b[0mout\u001b[0m\u001b[0;34m,\u001b[0m \u001b[0mkeepdims\u001b[0m\u001b[0;34m)\u001b[0m\u001b[0;34m\u001b[0m\u001b[0m\n\u001b[0m\u001b[1;32m     71\u001b[0m     \u001b[0;32mif\u001b[0m \u001b[0misinstance\u001b[0m\u001b[0;34m(\u001b[0m\u001b[0mret\u001b[0m\u001b[0;34m,\u001b[0m \u001b[0mmu\u001b[0m\u001b[0;34m.\u001b[0m\u001b[0mndarray\u001b[0m\u001b[0;34m)\u001b[0m\u001b[0;34m:\u001b[0m\u001b[0;34m\u001b[0m\u001b[0m\n\u001b[1;32m     72\u001b[0m         ret = um.true_divide(\n",
      "\u001b[0;31mTypeError\u001b[0m: cannot perform reduce with flexible type"
     ]
    }
   ],
   "source": [
    "\n",
    "make_block_dataset(\n",
    "    DescriptorMock(), \n",
    "    data.molecules,\n",
    "    data.T, \n",
    "    \"H\", \n",
    "    extract_HOMO_block_dataset_pairs\n",
    ")"
   ]
  },
  {
   "cell_type": "code",
   "execution_count": null,
   "metadata": {},
   "outputs": [],
   "source": []
  }
 ],
 "metadata": {
  "kernelspec": {
   "display_name": "Python 3",
   "language": "python",
   "name": "python3"
  },
  "language_info": {
   "codemirror_mode": {
    "name": "ipython",
    "version": 3
   },
   "file_extension": ".py",
   "mimetype": "text/x-python",
   "name": "python",
   "nbconvert_exporter": "python",
   "pygments_lexer": "ipython3",
   "version": "3.6.4"
  }
 },
 "nbformat": 4,
 "nbformat_minor": 2
}
