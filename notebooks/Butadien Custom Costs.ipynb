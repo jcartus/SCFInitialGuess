{
 "cells": [
  {
   "cell_type": "code",
   "execution_count": 1,
   "metadata": {
    "collapsed": true
   },
   "outputs": [],
   "source": [
    "import numpy as np\n",
    "import matplotlib.pyplot as plt\n",
    "import tensorflow as tf"
   ]
  },
  {
   "cell_type": "code",
   "execution_count": 2,
   "metadata": {
    "collapsed": true,
    "scrolled": true
   },
   "outputs": [],
   "source": [
    "S, P = np.load(\"butadien/dataset.npy\")\n",
    "molecules = np.load(\"butadien/molecules.npy\")"
   ]
  },
  {
   "cell_type": "code",
   "execution_count": 3,
   "metadata": {},
   "outputs": [
    {
     "name": "stdout",
     "output_type": "stream",
     "text": [
      "[-] 2018-03-23 17:36:56: Data set normalized. Mean value std: 0.008717567076537439\n"
     ]
    }
   ],
   "source": [
    "from SCFInitialGuess.utilities.dataset import Dataset\n",
    "\n",
    "dim = 26\n",
    "\n",
    "ind_cut = 150\n",
    "index = np.arange(200)\n",
    "np.random.shuffle(index)\n",
    "\n",
    "S_test = np.array(S)[index[150:]]\n",
    "P_test = np.array(P)[index[150:]]\n",
    "molecules_test = [molecules[index[i]] for i in range(150, 200)]\n",
    "\n",
    "S_train = np.array(S)[index[:150]]\n",
    "P_train = np.array(P)[index[:150]]\n",
    "molecules_train = [molecules[index[i]] for i in range(150)]\n",
    "\n",
    "dataset = Dataset(np.array(S_train), np.array(P_train), split_test=0.0)\n",
    "\n",
    "dataset.testing = (Dataset.normalize(S_test, mean=dataset.x_mean, std=dataset.x_std)[0], P_test)"
   ]
  },
  {
   "cell_type": "markdown",
   "metadata": {},
   "source": [
    "# Training different costs"
   ]
  },
  {
   "cell_type": "code",
   "execution_count": 4,
   "metadata": {},
   "outputs": [
    {
     "name": "stdout",
     "output_type": "stream",
     "text": [
      "[-] 2018-03-23 17:36:56: No target graph specified for Trainer setup. Creating new graph ...\n",
      "[-] 2018-03-23 17:36:56: Setting up the training in the target graph ...\n",
      "[-] 2018-03-23 17:36:56: network ...\n",
      "[-] 2018-03-23 17:36:56: error function ...\n",
      "[-] 2018-03-23 17:36:56: cost function ...\n",
      "[-] 2018-03-23 17:37:18: training step\n",
      "[-] 2018-03-23 17:37:18: Starting network training ...\n",
      "[ ] 2018-03-23 17:37:18: Val. Cost: 5.774E-02. Error: 5.774E-02. Diff: 1.0E+10\n",
      "[ ] 2018-03-23 17:37:20: Val. Cost: 7.100E-05. Error: 6.967E-05. Diff: 5.8E-02\n",
      "[ ] 2018-03-23 17:37:21: Val. Cost: 2.832E-05. Error: 2.700E-05. Diff: 4.3E-05\n",
      "[ ] 2018-03-23 17:37:22: Val. Cost: 2.446E-05. Error: 2.313E-05. Diff: 3.9E-06\n",
      "[ ] 2018-03-23 17:37:24: Val. Cost: 2.792E-05. Error: 2.659E-05. Diff: 3.5E-06\n",
      "[ ] 2018-03-23 17:37:25: Val. Cost: 3.376E-05. Error: 3.241E-05. Diff: 5.8E-06\n",
      "[ ] 2018-03-23 17:37:26: Val. Cost: 1.715E-05. Error: 1.579E-05. Diff: 1.7E-05\n",
      "[ ] 2018-03-23 17:37:28: Val. Cost: 1.777E-05. Error: 1.640E-05. Diff: 6.1E-07\n",
      "[ ] 2018-03-23 17:37:29: Val. Cost: 2.495E-05. Error: 2.358E-05. Diff: 7.2E-06\n",
      "[ ] 2018-03-23 17:37:30: Val. Cost: 1.043E-05. Error: 9.044E-06. Diff: 1.5E-05\n",
      "[ ] 2018-03-23 17:37:31: Val. Cost: 1.125E-05. Error: 9.870E-06. Diff: 8.3E-07\n",
      "[ ] 2018-03-23 17:37:33: Val. Cost: 1.066E-05. Error: 9.292E-06. Diff: 5.8E-07\n",
      "[ ] 2018-03-23 17:37:34: Val. Cost: 1.448E-05. Error: 1.312E-05. Diff: 3.8E-06\n",
      "[ ] 2018-03-23 17:37:36: Val. Cost: 8.622E-06. Error: 7.248E-06. Diff: 5.9E-06\n",
      "[ ] 2018-03-23 17:37:37: Val. Cost: 8.150E-06. Error: 6.794E-06. Diff: 4.5E-07\n",
      "[ ] 2018-03-23 17:37:38: Val. Cost: 6.418E-06. Error: 5.066E-06. Diff: 1.7E-06\n",
      "[ ] 2018-03-23 17:37:40: Val. Cost: 7.381E-06. Error: 6.042E-06. Diff: 9.8E-07\n",
      "[ ] 2018-03-23 17:37:41: Val. Cost: 9.669E-06. Error: 8.351E-06. Diff: 2.3E-06\n",
      "[ ] 2018-03-23 17:37:42: Val. Cost: 9.936E-06. Error: 8.595E-06. Diff: 2.4E-07\n",
      "[ ] 2018-03-23 17:37:43: Val. Cost: 5.075E-06. Error: 3.762E-06. Diff: 4.8E-06\n",
      "[ ] 2018-03-23 17:37:45: Val. Cost: 4.874E-06. Error: 3.586E-06. Diff: 1.8E-07\n",
      "[ ] 2018-03-23 17:37:46: Val. Cost: 8.643E-06. Error: 7.367E-06. Diff: 3.8E-06\n",
      "[ ] 2018-03-23 17:37:47: Val. Cost: 9.383E-06. Error: 8.117E-06. Diff: 7.5E-07\n",
      "[ ] 2018-03-23 17:37:49: Val. Cost: 3.454E-06. Error: 2.227E-06. Diff: 5.9E-06\n",
      "[ ] 2018-03-23 17:37:50: Val. Cost: 5.361E-06. Error: 4.154E-06. Diff: 1.9E-06\n",
      "[ ] 2018-03-23 17:37:51: Val. Cost: 4.322E-06. Error: 3.125E-06. Diff: 1.0E-06\n",
      "[ ] 2018-03-23 17:37:52: Val. Cost: 5.577E-06. Error: 4.397E-06. Diff: 1.3E-06\n",
      "[ ] 2018-03-23 17:37:54: Val. Cost: 1.008E-05. Error: 8.924E-06. Diff: 4.5E-06\n",
      "[ ] 2018-03-23 17:37:55: Val. Cost: 3.770E-06. Error: 2.612E-06. Diff: 6.3E-06\n",
      "[ ] 2018-03-23 17:37:56: Val. Cost: 5.285E-06. Error: 4.175E-06. Diff: 1.6E-06\n",
      "[ ] 2018-03-23 17:37:58: Val. Cost: 6.514E-06. Error: 5.375E-06. Diff: 1.2E-06\n",
      "[ ] 2018-03-23 17:37:59: Val. Cost: 3.788E-06. Error: 2.711E-06. Diff: 2.7E-06\n",
      "[-] 2018-03-23 17:38:00: Convergence reached after 6400 steps.\n",
      "[-] 2018-03-23 17:38:00: Test error: 2.49542E-06\n"
     ]
    }
   ],
   "source": [
    "from SCFInitialGuess.nn.networks import EluTrNNN\n",
    "from SCFInitialGuess.nn.training import Trainer, RegularizedMSE\n",
    "\n",
    "trainer = Trainer(\n",
    "    EluTrNNN([dim**2, 200, 100, dim**2]),\n",
    "    cost_function=RegularizedMSE(alpha=1e-7)\n",
    ")\n",
    "\n",
    "trainer.setup()\n",
    "network_orig, sess_orig = trainer.train(\n",
    "    dataset,\n",
    "    convergence_threshold=1e-7\n",
    ")\n",
    "graph_orig = trainer.graph"
   ]
  },
  {
   "cell_type": "markdown",
   "metadata": {},
   "source": [
    "### Check symmetry"
   ]
  },
  {
   "cell_type": "code",
   "execution_count": 5,
   "metadata": {},
   "outputs": [
    {
     "name": "stdout",
     "output_type": "stream",
     "text": [
      "0.000579508\n"
     ]
    },
    {
     "data": {
      "image/png": "[encoded data removed]",
      "text/plain": [
       "<matplotlib.figure.Figure at 0x7f833fea69b0>"
      ]
     },
     "metadata": {},
     "output_type": "display_data"
    }
   ],
   "source": [
    "from SCFInitialGuess.utilities.plotutils import matrix_error\n",
    "\n",
    "with graph_orig.as_default():\n",
    "    reshaped = tf.reshape(network_orig.output_tensor, [-1, dim, dim])\n",
    "    transposed = tf.matrix_transpose(reshaped)\n",
    "    diff_mean = tf.reduce_mean(tf.abs(reshaped - transposed), axis=0)\n",
    "    error = sess_orig.run(diff_mean, {network_orig.input_tensor: dataset.testing[0]})\n",
    "    \n",
    "    matrix_error(error)\n",
    "    print(np.mean(error))\n",
    "\n",
    "plt.show()"
   ]
  },
  {
   "cell_type": "code",
   "execution_count": 6,
   "metadata": {},
   "outputs": [
    {
     "name": "stdout",
     "output_type": "stream",
     "text": [
      "0.953793\n"
     ]
    },
    {
     "data": {
      "image/png": "[encoded data removed]",
      "text/plain": [
       "<matplotlib.figure.Figure at 0x7f83001906a0>"
      ]
     },
     "metadata": {},
     "output_type": "display_data"
    }
   ],
   "source": [
    "from SCFInitialGuess.utilities.plotutils import matrix_error\n",
    "\n",
    "def idempotency_error(network):\n",
    "    p = tf.reshape(network.output_tensor, [-1, dim, dim])\n",
    "    s = tf.reshape(network.input_tensor, [-1, dim, dim])\n",
    "    \n",
    "    lhs = tf.matmul(tf.matmul(p, s), p)\n",
    "    rhs = 2 * p\n",
    "    return tf.reduce_mean(tf.abs(lhs - rhs), axis=0)\n",
    "\n",
    "with graph_orig.as_default():\n",
    "    \n",
    "    \n",
    "    \"\"\"\n",
    "    reshaped = tf.reshape(network_orig.output_tensor, [-1, dim, dim])\n",
    "    squared = tf.matmul(reshaped, reshaped)\n",
    "    diff_mean = tf.reduce_mean(tf.abs(reshaped - squared), axis=0)\n",
    "    error = sess_orig.run(diff_mean, {network_orig.input_tensor: dataset.testing[0]})\n",
    "    \"\"\"\n",
    "    error = sess_orig.run(\n",
    "        idempotency_error(network_orig),\n",
    "       {network_orig.input_tensor: dataset.testing[0]}\n",
    "    )\n",
    "    \n",
    "    matrix_error(error)\n",
    "    print(np.mean(error))\n",
    "    \n",
    "plt.show()"
   ]
  },
  {
   "cell_type": "markdown",
   "metadata": {},
   "source": [
    "## Enforce hermiticity"
   ]
  },
  {
   "cell_type": "code",
   "execution_count": 7,
   "metadata": {
    "scrolled": true
   },
   "outputs": [
    {
     "name": "stdout",
     "output_type": "stream",
     "text": [
      "[-] 2018-03-23 17:38:03: No target graph specified for Trainer setup. Creating new graph ...\n",
      "[-] 2018-03-23 17:38:03: Setting up the training in the target graph ...\n",
      "[-] 2018-03-23 17:38:03: network ...\n",
      "[-] 2018-03-23 17:38:03: error function ...\n",
      "[-] 2018-03-23 17:38:03: cost function ...\n",
      "[-] 2018-03-23 17:38:03: training step\n",
      "[-] 2018-03-23 17:38:03: Starting network training ...\n",
      "[ ] 2018-03-23 17:38:03: Val. Cost: 6.362E-02. Error: 5.800E-02. Diff: 1.0E+10\n",
      "[ ] 2018-03-23 17:38:05: Val. Cost: 5.246E-04. Error: 3.060E-04. Diff: 5.8E-02\n",
      "[ ] 2018-03-23 17:38:06: Val. Cost: 2.696E-04. Error: 1.606E-04. Diff: 1.5E-04\n",
      "[ ] 2018-03-23 17:38:08: Val. Cost: 2.295E-04. Error: 1.889E-04. Diff: 2.8E-05\n",
      "[ ] 2018-03-23 17:38:10: Val. Cost: 3.013E-04. Error: 1.005E-04. Diff: 8.8E-05\n",
      "[ ] 2018-03-23 17:38:11: Val. Cost: 8.469E-05. Error: 6.539E-05. Diff: 3.5E-05\n",
      "[ ] 2018-03-23 17:38:12: Val. Cost: 6.813E-05. Error: 4.220E-05. Diff: 2.3E-05\n",
      "[ ] 2018-03-23 17:38:14: Val. Cost: 1.692E-04. Error: 1.013E-04. Diff: 5.9E-05\n",
      "[ ] 2018-03-23 17:38:15: Val. Cost: 8.423E-05. Error: 4.578E-05. Diff: 5.6E-05\n",
      "[ ] 2018-03-23 17:38:17: Val. Cost: 5.175E-05. Error: 3.878E-05. Diff: 7.0E-06\n",
      "[ ] 2018-03-23 17:38:18: Val. Cost: 4.180E-05. Error: 1.907E-05. Diff: 2.0E-05\n",
      "[ ] 2018-03-23 17:38:20: Val. Cost: 6.695E-05. Error: 3.020E-05. Diff: 1.1E-05\n",
      "[ ] 2018-03-23 17:38:22: Val. Cost: 3.678E-05. Error: 1.263E-05. Diff: 1.8E-05\n",
      "[ ] 2018-03-23 17:38:23: Val. Cost: 6.253E-05. Error: 2.411E-05. Diff: 1.1E-05\n",
      "[ ] 2018-03-23 17:38:25: Val. Cost: 2.066E-05. Error: 1.015E-05. Diff: 1.4E-05\n",
      "[ ] 2018-03-23 17:38:26: Val. Cost: 2.191E-05. Error: 1.512E-05. Diff: 5.0E-06\n",
      "[-] 2018-03-23 17:38:28: Convergence reached after 3200 steps.\n",
      "[-] 2018-03-23 17:38:28: Test error: 1.53269E-05\n"
     ]
    }
   ],
   "source": [
    "from SCFInitialGuess.nn.networks import EluTrNNN\n",
    "from SCFInitialGuess.nn.training import Trainer, MSE\n",
    "\n",
    "class SymmetryPenalty(MSE):\n",
    "    def __init__(self, coupling=1e-4):\n",
    "        \"\"\"alpha: coupling parameter\"\"\"\n",
    "        \n",
    "        self.coupling = coupling\n",
    "        \n",
    "    def function(self, network, y_placeholder):\n",
    "\n",
    "        error = \\\n",
    "            super(SymmetryPenalty, self).function(network, y_placeholder)\n",
    "\n",
    "        penalty = self.symmetry_measure(network.output_tensor) * self.coupling\n",
    "\n",
    "        cost = error + penalty\n",
    "\n",
    "        tf.summary.scalar(\"symmetry_penalty\", penalty)\n",
    "        tf.summary.scalar(\"total_loss\", cost)\n",
    "\n",
    "        return cost\n",
    "    \n",
    "    def symmetry_measure(self, output_tensor):\n",
    "        \n",
    "        reshaped = tf.reshape(output_tensor, [-1, dim, dim])\n",
    "        transposed = tf.matrix_transpose(reshaped)\n",
    "        return tf.reduce_mean(tf.norm(reshaped - transposed, axis=(1,2))**2 )\n",
    "\n",
    "    \n",
    "trainer_sym = Trainer(\n",
    "    EluTrNNN([dim**2, 200, 100, dim**2]),\n",
    "    cost_function=SymmetryPenalty(coupling=5e-2)\n",
    ")\n",
    "\n",
    "trainer_sym.setup()\n",
    "network_sym, sess_sym = trainer_sym.train(\n",
    "    dataset,\n",
    "    convergence_threshold=1e-6\n",
    ")\n",
    "graph_sym = trainer_sym.graph\n",
    "        "
   ]
  },
  {
   "cell_type": "code",
   "execution_count": 8,
   "metadata": {},
   "outputs": [
    {
     "name": "stdout",
     "output_type": "stream",
     "text": [
      "0.00113552\n"
     ]
    },
    {
     "data": {
      "image/png": "[encoded data removed]",
      "text/plain": [
       "<matplotlib.figure.Figure at 0x7f83000ef438>"
      ]
     },
     "metadata": {},
     "output_type": "display_data"
    }
   ],
   "source": [
    "with graph_sym.as_default():\n",
    "    reshaped = tf.reshape(network_sym.output_tensor, [-1, dim, dim])\n",
    "    transposed = tf.matrix_transpose(reshaped)\n",
    "    diff_mean = tf.reduce_mean(tf.abs(reshaped - transposed), axis=0)\n",
    "    error = sess_sym.run(diff_mean, {network_sym.input_tensor: dataset.testing[0]})\n",
    "    matrix_error(error)\n",
    "    print(np.mean(error))\n",
    "\n",
    "plt.show()"
   ]
  },
  {
   "cell_type": "markdown",
   "metadata": {},
   "source": [
    "## Enforce idempotency"
   ]
  },
  {
   "cell_type": "code",
   "execution_count": 9,
   "metadata": {
    "scrolled": true
   },
   "outputs": [
    {
     "name": "stdout",
     "output_type": "stream",
     "text": [
      "[-] 2018-03-23 17:38:29: No target graph specified for Trainer setup. Creating new graph ...\n",
      "[-] 2018-03-23 17:38:29: Setting up the training in the target graph ...\n",
      "[-] 2018-03-23 17:38:29: network ...\n",
      "[-] 2018-03-23 17:38:29: error function ...\n",
      "[-] 2018-03-23 17:38:29: cost function ...\n",
      "[-] 2018-03-23 17:38:29: training step\n",
      "[-] 2018-03-23 17:38:29: Starting network training ...\n",
      "[ ] 2018-03-23 17:38:29: Val. Cost: 5.833E-02. Error: 5.832E-02. Diff: 1.0E+10\n",
      "[ ] 2018-03-23 17:38:32: Val. Cost: 6.343E-03. Error: 2.573E-03. Diff: 5.6E-02\n",
      "[ ] 2018-03-23 17:38:34: Val. Cost: 6.141E-03. Error: 2.407E-03. Diff: 1.7E-04\n",
      "[ ] 2018-03-23 17:38:36: Val. Cost: 6.209E-03. Error: 2.456E-03. Diff: 4.9E-05\n",
      "[ ] 2018-03-23 17:38:38: Val. Cost: 6.065E-03. Error: 2.386E-03. Diff: 7.0E-05\n",
      "[ ] 2018-03-23 17:38:40: Val. Cost: 6.059E-03. Error: 2.366E-03. Diff: 2.0E-05\n",
      "[ ] 2018-03-23 17:38:42: Val. Cost: 6.035E-03. Error: 2.457E-03. Diff: 9.1E-05\n",
      "[ ] 2018-03-23 17:38:44: Val. Cost: 6.018E-03. Error: 2.391E-03. Diff: 6.7E-05\n",
      "[ ] 2018-03-23 17:38:46: Val. Cost: 6.154E-03. Error: 2.844E-03. Diff: 4.5E-04\n",
      "[ ] 2018-03-23 17:38:48: Val. Cost: 6.005E-03. Error: 2.384E-03. Diff: 4.6E-04\n",
      "[ ] 2018-03-23 17:38:50: Val. Cost: 6.005E-03. Error: 2.372E-03. Diff: 1.2E-05\n",
      "[ ] 2018-03-23 17:38:52: Val. Cost: 5.996E-03. Error: 2.401E-03. Diff: 3.0E-05\n",
      "[ ] 2018-03-23 17:38:54: Val. Cost: 6.017E-03. Error: 2.427E-03. Diff: 2.6E-05\n",
      "[ ] 2018-03-23 17:38:57: Val. Cost: 6.020E-03. Error: 2.359E-03. Diff: 6.9E-05\n",
      "[ ] 2018-03-23 17:38:59: Val. Cost: 6.023E-03. Error: 2.374E-03. Diff: 1.5E-05\n",
      "[ ] 2018-03-23 17:39:01: Val. Cost: 6.022E-03. Error: 2.419E-03. Diff: 4.5E-05\n",
      "[ ] 2018-03-23 17:39:03: Val. Cost: 6.029E-03. Error: 2.411E-03. Diff: 7.6E-06\n",
      "[ ] 2018-03-23 17:39:05: Val. Cost: 6.019E-03. Error: 2.449E-03. Diff: 3.8E-05\n",
      "[ ] 2018-03-23 17:39:07: Val. Cost: 6.044E-03. Error: 2.376E-03. Diff: 7.3E-05\n",
      "[ ] 2018-03-23 17:39:09: Val. Cost: 6.068E-03. Error: 2.412E-03. Diff: 3.6E-05\n",
      "[ ] 2018-03-23 17:39:11: Val. Cost: 6.110E-03. Error: 2.271E-03. Diff: 1.4E-04\n",
      "[ ] 2018-03-23 17:39:13: Val. Cost: 6.063E-03. Error: 2.386E-03. Diff: 1.1E-04\n",
      "[ ] 2018-03-23 17:39:16: Val. Cost: 6.059E-03. Error: 2.431E-03. Diff: 4.5E-05\n",
      "[ ] 2018-03-23 17:39:18: Val. Cost: 6.055E-03. Error: 2.437E-03. Diff: 5.9E-06\n",
      "[ ] 2018-03-23 17:39:20: Val. Cost: 6.049E-03. Error: 2.378E-03. Diff: 5.9E-05\n",
      "[ ] 2018-03-23 17:39:22: Val. Cost: 6.053E-03. Error: 2.423E-03. Diff: 4.5E-05\n",
      "[ ] 2018-03-23 17:39:24: Val. Cost: 6.052E-03. Error: 2.410E-03. Diff: 1.3E-05\n",
      "[ ] 2018-03-23 17:39:26: Val. Cost: 6.075E-03. Error: 2.401E-03. Diff: 9.8E-06\n",
      "[ ] 2018-03-23 17:39:28: Val. Cost: 6.058E-03. Error: 2.429E-03. Diff: 2.9E-05\n",
      "[ ] 2018-03-23 17:39:30: Val. Cost: 6.090E-03. Error: 2.450E-03. Diff: 2.0E-05\n",
      "[ ] 2018-03-23 17:39:32: Val. Cost: 6.084E-03. Error: 2.384E-03. Diff: 6.5E-05\n",
      "[ ] 2018-03-23 17:39:34: Val. Cost: 6.061E-03. Error: 2.414E-03. Diff: 3.0E-05\n",
      "[ ] 2018-03-23 17:39:36: Val. Cost: 6.063E-03. Error: 2.428E-03. Diff: 1.4E-05\n",
      "[ ] 2018-03-23 17:39:39: Val. Cost: 6.081E-03. Error: 2.441E-03. Diff: 1.3E-05\n",
      "[ ] 2018-03-23 17:39:41: Val. Cost: 6.073E-03. Error: 2.407E-03. Diff: 3.4E-05\n",
      "[ ] 2018-03-23 17:39:43: Val. Cost: 6.079E-03. Error: 2.425E-03. Diff: 1.9E-05\n",
      "[-] 2018-03-23 17:39:46: Convergence reached after 7200 steps.\n",
      "[-] 2018-03-23 17:39:46: Test error: 2.24809E-03\n"
     ]
    }
   ],
   "source": [
    "from SCFInitialGuess.nn.networks import EluTrNNN\n",
    "from SCFInitialGuess.nn.training import Trainer, MSE\n",
    "\n",
    "class IdempotencyPenalty(MSE):\n",
    "    def __init__(self, coupling=1e-4):\n",
    "        \n",
    "        self.coupling = coupling\n",
    "        \n",
    "    def function(self, network, y_placeholder):\n",
    "\n",
    "        error = \\\n",
    "            super(IdempotencyPenalty, self).function(network, y_placeholder)\n",
    "\n",
    "        penalty = self.idempotency_error(network) * self.coupling\n",
    "\n",
    "        cost = error + penalty\n",
    "\n",
    "        tf.summary.scalar(\"symmetry_penalty\", penalty)\n",
    "        tf.summary.scalar(\"total_loss\", cost)\n",
    "\n",
    "        return cost\n",
    "    \n",
    "    def idempotency_error(self, network):\n",
    "        p = tf.reshape(network.output_tensor, [-1, dim, dim])\n",
    "        s_raw = dataset.inverse_input_transform(network.input_tensor)\n",
    "        s = tf.reshape(s_raw, [-1, dim, dim])\n",
    "        \n",
    "\n",
    "        lhs = tf.matmul(tf.matmul(p, s), p)\n",
    "        rhs = 2 * p\n",
    "        return tf.reduce_mean(tf.norm(tf.abs(lhs - rhs), axis=(1,2)) **2 )\n",
    "\n",
    "try:\n",
    "    del graph_idem\n",
    "except:\n",
    "    pass\n",
    "    \n",
    "trainer = Trainer(\n",
    "    EluTrNNN([dim**2, 200, 100, dim**2]),\n",
    "    cost_function=IdempotencyPenalty(coupling=1e-5)\n",
    ")\n",
    "\n",
    "trainer.setup()\n",
    "network_idem, sess_idem = trainer.train(\n",
    "    dataset,\n",
    "    convergence_threshold=3e-6,\n",
    "    summary_save_path=\"log2/idem\"\n",
    ")\n",
    "graph_idem = trainer.graph"
   ]
  },
  {
   "cell_type": "code",
   "execution_count": 10,
   "metadata": {
    "scrolled": true
   },
   "outputs": [
    {
     "name": "stdout",
     "output_type": "stream",
     "text": [
      "0.519894\n"
     ]
    },
    {
     "data": {
      "image/png": "[encoded data removed]",
      "text/plain": [
       "<matplotlib.figure.Figure at 0x7f82ee39e7b8>"
      ]
     },
     "metadata": {},
     "output_type": "display_data"
    }
   ],
   "source": [
    "with graph_idem.as_default():\n",
    "    error = sess_idem.run(idempotency_error(network_idem), {network_idem.input_tensor: dataset.testing[0]})\n",
    "    \n",
    "    matrix_error(error)\n",
    "    print(np.mean(error))\n",
    "    \n",
    "plt.show()\n",
    "    \n",
    "    "
   ]
  },
  {
   "cell_type": "markdown",
   "metadata": {},
   "source": [
    "# Analysis"
   ]
  },
  {
   "cell_type": "code",
   "execution_count": 12,
   "metadata": {
    "scrolled": true
   },
   "outputs": [
    {
     "data": {
      "image/png": "[encoded data removed]",
      "text/plain": [
       "<matplotlib.figure.Figure at 0x7f82ee3f1f60>"
      ]
     },
     "metadata": {},
     "output_type": "display_data"
    }
   ],
   "source": [
    "with graph_orig.as_default():\n",
    "    plt.scatter(\n",
    "        x=dataset.testing[1],\n",
    "        y=network_orig.run(sess_orig, dataset.testing[0]),\n",
    "        label=\"orig\"\n",
    "    )\n",
    "    \n",
    "with graph_idem.as_default():\n",
    "    plt.scatter(\n",
    "        x=dataset.testing[1],\n",
    "        y=network_idem.run(sess_idem, dataset.testing[0]),\n",
    "        label=\"idempotent\"\n",
    "    )\n",
    "    \n",
    "\n",
    "with graph_sym.as_default():\n",
    "    plt.scatter(\n",
    "        x=dataset.testing[1],\n",
    "        y=network_sym.run(sess_sym, dataset.testing[0]),\n",
    "        label=\"hermit\"\n",
    "    )\n",
    "\n",
    "#lower = 1.8\n",
    "lower = -1\n",
    "upper = 2.2\n",
    "plt.xlim([lower, upper])\n",
    "plt.ylim([lower, upper])\n",
    "    \n",
    "\n",
    "plt.legend()\n",
    "plt.show()"
   ]
  },
  {
   "cell_type": "code",
   "execution_count": 23,
   "metadata": {
    "scrolled": true
   },
   "outputs": [
    {
     "name": "stderr",
     "output_type": "stream",
     "text": [
      "Warn: Ipython shell catchs sys.args\n"
     ]
    },
    {
     "name": "stdout",
     "output_type": "stream",
     "text": [
      "Calculating: 1/50\n",
      "idemp orig: 2.72649681181e-16\n",
      "Idemp before: 0.00214295086152\n"
     ]
    },
    {
     "name": "stderr",
     "output_type": "stream",
     "text": [
      "Warn: Ipython shell catchs sys.args\n"
     ]
    },
    {
     "name": "stdout",
     "output_type": "stream",
     "text": [
      "Calculating: 2/50\n",
      "idemp orig: 3.60651753238e-16\n",
      "Idemp before: 0.00195091611667\n"
     ]
    },
    {
     "name": "stderr",
     "output_type": "stream",
     "text": [
      "Warn: Ipython shell catchs sys.args\n"
     ]
    },
    {
     "name": "stdout",
     "output_type": "stream",
     "text": [
      "Calculating: 3/50\n",
      "idemp orig: 3.58110694492e-16\n",
      "Idemp before: 0.00213634271624\n"
     ]
    },
    {
     "name": "stderr",
     "output_type": "stream",
     "text": [
      "Warn: Ipython shell catchs sys.args\n"
     ]
    },
    {
     "name": "stdout",
     "output_type": "stream",
     "text": [
      "Calculating: 4/50\n",
      "idemp orig: 3.42403235326e-16\n",
      "Idemp before: 0.00161936248852\n"
     ]
    },
    {
     "name": "stderr",
     "output_type": "stream",
     "text": [
      "Warn: Ipython shell catchs sys.args\n"
     ]
    },
    {
     "name": "stdout",
     "output_type": "stream",
     "text": [
      "Calculating: 5/50\n",
      "idemp orig: 3.42486314723e-16\n",
      "Idemp before: 0.00133744838331\n"
     ]
    },
    {
     "name": "stderr",
     "output_type": "stream",
     "text": [
      "Warn: Ipython shell catchs sys.args\n"
     ]
    },
    {
     "name": "stdout",
     "output_type": "stream",
     "text": [
      "Calculating: 6/50\n",
      "idemp orig: 3.06320634179e-16\n",
      "Idemp before: 0.00109842940566\n"
     ]
    },
    {
     "name": "stderr",
     "output_type": "stream",
     "text": [
      "Warn: Ipython shell catchs sys.args\n"
     ]
    },
    {
     "name": "stdout",
     "output_type": "stream",
     "text": [
      "Calculating: 7/50\n",
      "idemp orig: 2.70386349002e-16\n",
      "Idemp before: 0.00166820793948\n"
     ]
    },
    {
     "name": "stderr",
     "output_type": "stream",
     "text": [
      "Warn: Ipython shell catchs sys.args\n"
     ]
    },
    {
     "name": "stdout",
     "output_type": "stream",
     "text": [
      "Calculating: 8/50\n",
      "idemp orig: 3.13839720592e-16\n",
      "Idemp before: 0.00129790068785\n"
     ]
    },
    {
     "name": "stderr",
     "output_type": "stream",
     "text": [
      "Warn: Ipython shell catchs sys.args\n"
     ]
    },
    {
     "name": "stdout",
     "output_type": "stream",
     "text": [
      "Calculating: 9/50\n",
      "idemp orig: 2.8497805026e-16\n",
      "Idemp before: 0.00127745900401\n"
     ]
    },
    {
     "name": "stderr",
     "output_type": "stream",
     "text": [
      "Warn: Ipython shell catchs sys.args\n"
     ]
    },
    {
     "name": "stdout",
     "output_type": "stream",
     "text": [
      "Calculating: 10/50\n",
      "idemp orig: 3.47344534843e-16\n",
      "Idemp before: 0.00218852493354\n"
     ]
    },
    {
     "name": "stderr",
     "output_type": "stream",
     "text": [
      "Warn: Ipython shell catchs sys.args\n"
     ]
    },
    {
     "name": "stdout",
     "output_type": "stream",
     "text": [
      "Calculating: 11/50\n",
      "idemp orig: 3.69363622425e-16\n",
      "Idemp before: 0.00180543644539\n"
     ]
    },
    {
     "name": "stderr",
     "output_type": "stream",
     "text": [
      "Warn: Ipython shell catchs sys.args\n"
     ]
    },
    {
     "name": "stdout",
     "output_type": "stream",
     "text": [
      "Calculating: 12/50\n",
      "idemp orig: 3.26616385616e-16\n",
      "Idemp before: 0.00172664448763\n"
     ]
    },
    {
     "name": "stderr",
     "output_type": "stream",
     "text": [
      "Warn: Ipython shell catchs sys.args\n"
     ]
    },
    {
     "name": "stdout",
     "output_type": "stream",
     "text": [
      "Calculating: 13/50\n",
      "idemp orig: 3.38055680845e-16\n",
      "Idemp before: 0.00164929453254\n"
     ]
    },
    {
     "name": "stderr",
     "output_type": "stream",
     "text": [
      "Warn: Ipython shell catchs sys.args\n"
     ]
    },
    {
     "name": "stdout",
     "output_type": "stream",
     "text": [
      "Calculating: 14/50\n",
      "idemp orig: 3.36339080867e-16\n",
      "Idemp before: 0.00168473839177\n"
     ]
    },
    {
     "name": "stderr",
     "output_type": "stream",
     "text": [
      "Warn: Ipython shell catchs sys.args\n"
     ]
    },
    {
     "name": "stdout",
     "output_type": "stream",
     "text": [
      "Calculating: 15/50\n",
      "idemp orig: 3.17462896505e-16\n",
      "Idemp before: 0.00158197797228\n"
     ]
    },
    {
     "name": "stderr",
     "output_type": "stream",
     "text": [
      "Warn: Ipython shell catchs sys.args\n"
     ]
    },
    {
     "name": "stdout",
     "output_type": "stream",
     "text": [
      "Calculating: 16/50\n",
      "idemp orig: 3.22821798301e-16\n",
      "Idemp before: 0.00115228772267\n"
     ]
    },
    {
     "name": "stderr",
     "output_type": "stream",
     "text": [
      "Warn: Ipython shell catchs sys.args\n"
     ]
    },
    {
     "name": "stdout",
     "output_type": "stream",
     "text": [
      "Calculating: 17/50\n",
      "idemp orig: 3.625175914e-16\n",
      "Idemp before: 0.00223683470647\n"
     ]
    },
    {
     "name": "stderr",
     "output_type": "stream",
     "text": [
      "Warn: Ipython shell catchs sys.args\n"
     ]
    },
    {
     "name": "stdout",
     "output_type": "stream",
     "text": [
      "Calculating: 18/50\n",
      "idemp orig: 3.4959489589e-16\n",
      "Idemp before: 0.0015657809498\n"
     ]
    },
    {
     "name": "stderr",
     "output_type": "stream",
     "text": [
      "Warn: Ipython shell catchs sys.args\n"
     ]
    },
    {
     "name": "stdout",
     "output_type": "stream",
     "text": [
      "Calculating: 19/50\n",
      "idemp orig: 3.70587199108e-16\n",
      "Idemp before: 0.00127390941678\n"
     ]
    },
    {
     "name": "stderr",
     "output_type": "stream",
     "text": [
      "Warn: Ipython shell catchs sys.args\n"
     ]
    },
    {
     "name": "stdout",
     "output_type": "stream",
     "text": [
      "Calculating: 20/50\n",
      "idemp orig: 3.12636592988e-16\n",
      "Idemp before: 0.00138913982102\n"
     ]
    },
    {
     "name": "stderr",
     "output_type": "stream",
     "text": [
      "Warn: Ipython shell catchs sys.args\n"
     ]
    },
    {
     "name": "stdout",
     "output_type": "stream",
     "text": [
      "Calculating: 21/50\n",
      "idemp orig: 3.30895616114e-16\n",
      "Idemp before: 0.00126397273833\n"
     ]
    },
    {
     "name": "stderr",
     "output_type": "stream",
     "text": [
      "Warn: Ipython shell catchs sys.args\n"
     ]
    },
    {
     "name": "stdout",
     "output_type": "stream",
     "text": [
      "Calculating: 22/50\n",
      "idemp orig: 3.03018709293e-16\n",
      "Idemp before: 0.00149491528843\n"
     ]
    },
    {
     "name": "stderr",
     "output_type": "stream",
     "text": [
      "Warn: Ipython shell catchs sys.args\n"
     ]
    },
    {
     "name": "stdout",
     "output_type": "stream",
     "text": [
      "Calculating: 23/50\n",
      "idemp orig: 3.04426327691e-16\n",
      "Idemp before: 0.00161790268061\n"
     ]
    },
    {
     "name": "stderr",
     "output_type": "stream",
     "text": [
      "Warn: Ipython shell catchs sys.args\n"
     ]
    },
    {
     "name": "stdout",
     "output_type": "stream",
     "text": [
      "Calculating: 24/50\n",
      "idemp orig: 2.86267063996e-16\n",
      "Idemp before: 0.00162405230574\n"
     ]
    },
    {
     "name": "stderr",
     "output_type": "stream",
     "text": [
      "Warn: Ipython shell catchs sys.args\n"
     ]
    },
    {
     "name": "stdout",
     "output_type": "stream",
     "text": [
      "Calculating: 25/50\n",
      "idemp orig: 3.28295134749e-16\n",
      "Idemp before: 0.00159532652848\n"
     ]
    },
    {
     "name": "stderr",
     "output_type": "stream",
     "text": [
      "Warn: Ipython shell catchs sys.args\n"
     ]
    },
    {
     "name": "stdout",
     "output_type": "stream",
     "text": [
      "Calculating: 26/50\n",
      "idemp orig: 3.32282785432e-16\n",
      "Idemp before: 0.00137575934421\n"
     ]
    },
    {
     "name": "stderr",
     "output_type": "stream",
     "text": [
      "Warn: Ipython shell catchs sys.args\n"
     ]
    },
    {
     "name": "stdout",
     "output_type": "stream",
     "text": [
      "Calculating: 27/50\n",
      "idemp orig: 2.94182621973e-16\n",
      "Idemp before: 0.001225587172\n"
     ]
    },
    {
     "name": "stderr",
     "output_type": "stream",
     "text": [
      "Warn: Ipython shell catchs sys.args\n"
     ]
    },
    {
     "name": "stdout",
     "output_type": "stream",
     "text": [
      "Calculating: 28/50\n",
      "idemp orig: 3.49695617631e-16\n",
      "Idemp before: 0.0012680793062\n"
     ]
    },
    {
     "name": "stderr",
     "output_type": "stream",
     "text": [
      "Warn: Ipython shell catchs sys.args\n"
     ]
    },
    {
     "name": "stdout",
     "output_type": "stream",
     "text": [
      "Calculating: 29/50\n",
      "idemp orig: 2.98473159608e-16\n",
      "Idemp before: 0.00143851754971\n"
     ]
    },
    {
     "name": "stderr",
     "output_type": "stream",
     "text": [
      "Warn: Ipython shell catchs sys.args\n"
     ]
    },
    {
     "name": "stdout",
     "output_type": "stream",
     "text": [
      "Calculating: 30/50\n",
      "idemp orig: 3.49237317674e-16\n",
      "Idemp before: 0.001674650418\n"
     ]
    },
    {
     "name": "stderr",
     "output_type": "stream",
     "text": [
      "Warn: Ipython shell catchs sys.args\n"
     ]
    },
    {
     "name": "stdout",
     "output_type": "stream",
     "text": [
      "Calculating: 31/50\n",
      "idemp orig: 3.5626594695e-16\n",
      "Idemp before: 0.00138523469837\n"
     ]
    },
    {
     "name": "stderr",
     "output_type": "stream",
     "text": [
      "Warn: Ipython shell catchs sys.args\n"
     ]
    },
    {
     "name": "stdout",
     "output_type": "stream",
     "text": [
      "Calculating: 32/50\n",
      "idemp orig: 3.1074389035e-16\n",
      "Idemp before: 0.00138423626818\n"
     ]
    },
    {
     "name": "stderr",
     "output_type": "stream",
     "text": [
      "Warn: Ipython shell catchs sys.args\n"
     ]
    },
    {
     "name": "stdout",
     "output_type": "stream",
     "text": [
      "Calculating: 33/50\n",
      "idemp orig: 3.75913582858e-16\n",
      "Idemp before: 0.00131716601958\n"
     ]
    },
    {
     "name": "stderr",
     "output_type": "stream",
     "text": [
      "Warn: Ipython shell catchs sys.args\n"
     ]
    },
    {
     "name": "stdout",
     "output_type": "stream",
     "text": [
      "Calculating: 34/50\n",
      "idemp orig: 3.28938398634e-16\n",
      "Idemp before: 0.00179851301681\n"
     ]
    },
    {
     "name": "stderr",
     "output_type": "stream",
     "text": [
      "Warn: Ipython shell catchs sys.args\n"
     ]
    },
    {
     "name": "stdout",
     "output_type": "stream",
     "text": [
      "Calculating: 35/50\n",
      "idemp orig: 2.98958484427e-16\n",
      "Idemp before: 0.00121582273102\n"
     ]
    },
    {
     "name": "stderr",
     "output_type": "stream",
     "text": [
      "Warn: Ipython shell catchs sys.args\n"
     ]
    },
    {
     "name": "stdout",
     "output_type": "stream",
     "text": [
      "Calculating: 36/50\n",
      "idemp orig: 3.34737156119e-16\n",
      "Idemp before: 0.00177113508645\n"
     ]
    },
    {
     "name": "stderr",
     "output_type": "stream",
     "text": [
      "Warn: Ipython shell catchs sys.args\n"
     ]
    },
    {
     "name": "stdout",
     "output_type": "stream",
     "text": [
      "Calculating: 37/50\n",
      "idemp orig: 2.6777019001e-16\n",
      "Idemp before: 0.00150548757903\n"
     ]
    },
    {
     "name": "stderr",
     "output_type": "stream",
     "text": [
      "Warn: Ipython shell catchs sys.args\n"
     ]
    },
    {
     "name": "stdout",
     "output_type": "stream",
     "text": [
      "Calculating: 38/50\n",
      "idemp orig: 3.9696939851e-16\n",
      "Idemp before: 0.00134806365831\n"
     ]
    },
    {
     "name": "stderr",
     "output_type": "stream",
     "text": [
      "Warn: Ipython shell catchs sys.args\n"
     ]
    },
    {
     "name": "stdout",
     "output_type": "stream",
     "text": [
      "Calculating: 39/50\n",
      "idemp orig: 3.51408207985e-16\n",
      "Idemp before: 0.00140734378501\n"
     ]
    },
    {
     "name": "stderr",
     "output_type": "stream",
     "text": [
      "Warn: Ipython shell catchs sys.args\n"
     ]
    },
    {
     "name": "stdout",
     "output_type": "stream",
     "text": [
      "Calculating: 40/50\n",
      "idemp orig: 3.19092086693e-16\n",
      "Idemp before: 0.00137244321984\n"
     ]
    },
    {
     "name": "stderr",
     "output_type": "stream",
     "text": [
      "Warn: Ipython shell catchs sys.args\n"
     ]
    },
    {
     "name": "stdout",
     "output_type": "stream",
     "text": [
      "Calculating: 41/50\n",
      "idemp orig: 2.84245010906e-16\n",
      "Idemp before: 0.00108973307504\n"
     ]
    },
    {
     "name": "stderr",
     "output_type": "stream",
     "text": [
      "Warn: Ipython shell catchs sys.args\n"
     ]
    },
    {
     "name": "stdout",
     "output_type": "stream",
     "text": [
      "Calculating: 42/50\n",
      "idemp orig: 2.82971474316e-16\n",
      "Idemp before: 0.00156167635526\n"
     ]
    },
    {
     "name": "stderr",
     "output_type": "stream",
     "text": [
      "Warn: Ipython shell catchs sys.args\n"
     ]
    },
    {
     "name": "stdout",
     "output_type": "stream",
     "text": [
      "Calculating: 43/50\n",
      "idemp orig: 3.92754803142e-16\n",
      "Idemp before: 0.00215212778499\n"
     ]
    },
    {
     "name": "stderr",
     "output_type": "stream",
     "text": [
      "Warn: Ipython shell catchs sys.args\n"
     ]
    },
    {
     "name": "stdout",
     "output_type": "stream",
     "text": [
      "Calculating: 44/50\n",
      "idemp orig: 3.35668190677e-16\n",
      "Idemp before: 0.00158594542618\n"
     ]
    },
    {
     "name": "stderr",
     "output_type": "stream",
     "text": [
      "Warn: Ipython shell catchs sys.args\n"
     ]
    },
    {
     "name": "stdout",
     "output_type": "stream",
     "text": [
      "Calculating: 45/50\n",
      "idemp orig: 3.26120074429e-16\n",
      "Idemp before: 0.00171744102735\n"
     ]
    },
    {
     "name": "stderr",
     "output_type": "stream",
     "text": [
      "Warn: Ipython shell catchs sys.args\n"
     ]
    },
    {
     "name": "stdout",
     "output_type": "stream",
     "text": [
      "Calculating: 46/50\n",
      "idemp orig: 3.18500206132e-16\n",
      "Idemp before: 0.00160987417416\n"
     ]
    },
    {
     "name": "stderr",
     "output_type": "stream",
     "text": [
      "Warn: Ipython shell catchs sys.args\n"
     ]
    },
    {
     "name": "stdout",
     "output_type": "stream",
     "text": [
      "Calculating: 47/50\n",
      "idemp orig: 2.91810248084e-16\n",
      "Idemp before: 0.00147976200557\n"
     ]
    },
    {
     "name": "stderr",
     "output_type": "stream",
     "text": [
      "Warn: Ipython shell catchs sys.args\n"
     ]
    },
    {
     "name": "stdout",
     "output_type": "stream",
     "text": [
      "Calculating: 48/50\n",
      "idemp orig: 3.2700018677e-16\n",
      "Idemp before: 0.00184499612645\n"
     ]
    },
    {
     "name": "stderr",
     "output_type": "stream",
     "text": [
      "Warn: Ipython shell catchs sys.args\n"
     ]
    },
    {
     "name": "stdout",
     "output_type": "stream",
     "text": [
      "Calculating: 49/50\n",
      "idemp orig: 3.00502029058e-16\n",
      "Idemp before: 0.00170207475217\n"
     ]
    },
    {
     "name": "stderr",
     "output_type": "stream",
     "text": [
      "Warn: Ipython shell catchs sys.args\n"
     ]
    },
    {
     "name": "stdout",
     "output_type": "stream",
     "text": [
      "Calculating: 50/50\n",
      "idemp orig: 3.15145173784e-16\n",
      "Idemp before: 0.00148397442974\n"
     ]
    }
   ],
   "source": [
    "from pyscf.scf import hf\n",
    "from SCFInitialGuess.utilities.plotutils import prediction_scatter\n",
    "\n",
    "dim = 26\n",
    "\n",
    "def idemp_error(p, s):\n",
    "    p = p.reshape(dim, dim)\n",
    "    s = s.reshape(dim, dim)\n",
    "    return np.mean(np.abs(np.dot(np.dot(p, s), p) - 2 * p))\n",
    "\n",
    "iterations = []\n",
    "for i, (molecule, p) in enumerate(zip(molecules_test, P_test)):\n",
    "    \n",
    "    mol = molecule.get_pyscf_molecule()\n",
    "    \n",
    "    \n",
    "    print(\"Calculating: \" + str(i + 1) + \"/\" + str(len(molecules_test)))\n",
    "    \n",
    "    # nn guess\n",
    "    s_raw = hf.get_ovlp(mol).reshape(1, dim**2)\n",
    "    s = Dataset.normalize(s_raw, mean=dataset.x_mean, std=dataset.x_std)[0]\n",
    "    \n",
    "    with graph_orig.as_default():\n",
    "        P_orig = network_orig.run(sess_orig, s).reshape(dim, dim).astype('float64')\n",
    "        \n",
    "        print(\"idemp orig: \" + str(idemp_error(p, s_raw)))\n",
    "        print(\"Idemp before: \" + str(idemp_error(P_orig, s_raw)))\n",
    "        \n",
    "    with graph_idem.as_default():\n",
    "        P_idem = network_idem.run(sess_idem, s).reshape(dim, dim).astype('float64')\n",
    "    \n",
    "    with graph_sym.as_default():\n",
    "        P_sym = network_sym.run(sess_sym, s).reshape(dim, dim).astype('float64')\n",
    "    \n",
    "    \n",
    "    # P_actual wi noise\n",
    "    p_noise = p.reshape(dim, dim) + np.random.randn(dim, dim) * 5e-3\n",
    "    \n",
    "    \n",
    "    iterations_molecule = []\n",
    "    for guess in [p_noise, P_orig, P_idem, P_sym]:\n",
    "        \n",
    "        mf = hf.RHF(mol)\n",
    "        mf.diis = None\n",
    "        mf.verbose = 1\n",
    "        mf.kernel(dm0=guess)\n",
    "        iterations_molecule.append(mf.iterations)\n",
    "    \n",
    "    iterations.append(iterations_molecule)\n",
    "\n",
    "iterations = np.array(iterations)"
   ]
  },
  {
   "cell_type": "code",
   "execution_count": 22,
   "metadata": {},
   "outputs": [
    {
     "name": "stdout",
     "output_type": "stream",
     "text": [
      "noise orig idem sym\n",
      "[  9.86  10.74  21.82  14.26]\n"
     ]
    }
   ],
   "source": [
    "print(\"noise\", \"orig\", \"idem\", \"sym\")\n",
    "print(np.mean(iterations,0))"
   ]
  },
  {
   "cell_type": "code",
   "execution_count": 15,
   "metadata": {},
   "outputs": [
    {
     "data": {
      "image/png": "[encoded data removed]",
      "text/plain": [
       "<matplotlib.figure.Figure at 0x7f8300058eb8>"
      ]
     },
     "metadata": {},
     "output_type": "display_data"
    }
   ],
   "source": [
    "\n",
    "bins = 20 # todo hier kann man auch ein array angeben\n",
    "\n",
    "for i, name in enumerate(['noise', 'orig', 'orig_sym', 'hermit', 'idempotent']):\n",
    "    \n",
    "    hist, bins = np.histogram(iterations[:,i])\n",
    "    center = (bins[:-1] + bins[1:]) / 2\n",
    "    #axes[i].bar(center, hist, label=name)\n",
    "    plt.bar(center, hist, label=name)\n",
    "    \n",
    "plt.legend()\n",
    "plt.show()"
   ]
  },
  {
   "cell_type": "code",
   "execution_count": null,
   "metadata": {
    "collapsed": true
   },
   "outputs": [],
   "source": []
  }
 ],
 "metadata": {
  "kernelspec": {
   "display_name": "Python 3",
   "language": "python",
   "name": "python3"
  },
  "language_info": {
   "codemirror_mode": {
    "name": "ipython",
    "version": 3
   },
   "file_extension": ".py",
   "mimetype": "text/x-python",
   "name": "python",
   "nbconvert_exporter": "python",
   "pygments_lexer": "ipython3",
   "version": "3.6.2"
  }
 },
 "nbformat": 4,
 "nbformat_minor": 2
}
