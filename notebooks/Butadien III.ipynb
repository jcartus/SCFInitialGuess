{
 "cells": [
  {
   "cell_type": "code",
   "execution_count": 4,
   "metadata": {},
   "outputs": [],
   "source": [
    "import numpy as np\n",
    "import matplotlib.pyplot as plt\n",
    "import tensorflow as tf"
   ]
  },
  {
   "cell_type": "code",
   "execution_count": 19,
   "metadata": {
    "scrolled": true
   },
   "outputs": [],
   "source": [
    "S, P = np.load(\"butadien/dataset.npy\")\n",
    "molecules = np.load(\"butadien/molecules.npy\")"
   ]
  },
  {
   "cell_type": "code",
   "execution_count": 20,
   "metadata": {},
   "outputs": [
    {
     "name": "stdout",
     "output_type": "stream",
     "text": [
      "[-] 2018-03-21 00:02:00: Data set initialized. Mean value std: 0.008771357550350791\n"
     ]
    }
   ],
   "source": [
    "from SCFInitialGuess.utilities.dataset import Dataset\n",
    "\n",
    "dim = 26\n",
    "\n",
    "ind_cut = 150\n",
    "index = np.arange(200)\n",
    "np.random.shuffle(index)\n",
    "\n",
    "S_test = np.array(S)[index[150:]]\n",
    "P_test = np.array(P)[index[150:]]\n",
    "molecules_test = [molecules[index[i]] for i in range(150, 200)]\n",
    "\n",
    "S_train = np.array(S)[index[:150]]\n",
    "P_train = np.array(P)[index[:150]]\n",
    "molecules_train = [molecules[index[i]] for i in range(150)]\n",
    "\n",
    "dataset = Dataset(np.array(S_train), np.array(P_train), split_test=0.0)\n",
    "\n",
    "dataset.testing = (Dataset.normalize(S_test, mean=dataset.x_mean, std=dataset.x_std)[0], P_test)"
   ]
  },
  {
   "cell_type": "markdown",
   "metadata": {},
   "source": [
    "## Plot utils"
   ]
  },
  {
   "cell_type": "code",
   "execution_count": 21,
   "metadata": {},
   "outputs": [],
   "source": [
    "import seaborn as sns\n",
    "import matplotlib.pyplot as plt\n",
    "\n",
    "cmap = plt.get_cmap('PuRd')# oder RdPu\n",
    "\n",
    "def matrix_error(error, xlabel=\"index\", ylabel=\"index\", **kwargs):\n",
    "    \n",
    "    ax = sns.heatmap(error, **kwargs)\n",
    "    ax.set_xlabel(xlabel)\n",
    "    ax.set_ylabel(ylabel)\n",
    "    return ax\n",
    "    \n",
    "\n",
    "def prediction_scatter(actual, predicted):\n",
    "    fig = plt.figure()\n",
    "    sns.regplot(x=actual, y=predicted)\n",
    "\n",
    "\n",
    "x = np.random.rand(100) * 2\n",
    "y = x + np.cos(x)*2\n",
    "\n",
    "#matrix_error(np.random.rand(10, 10))\n",
    "#prediction_scatter(x, y)\n",
    "#plt.show()\n"
   ]
  },
  {
   "cell_type": "markdown",
   "metadata": {},
   "source": [
    "# Training different costs"
   ]
  },
  {
   "cell_type": "code",
   "execution_count": 22,
   "metadata": {},
   "outputs": [
    {
     "name": "stdout",
     "output_type": "stream",
     "text": [
      "[-] 2018-03-21 00:02:08: No target graph specified for Trainer setup. Creating new graph ...\n",
      "[-] 2018-03-21 00:02:08: Setting up the training in the target graph ...\n",
      "[-] 2018-03-21 00:02:08: network ...\n",
      "[-] 2018-03-21 00:02:08: error function ...\n",
      "[-] 2018-03-21 00:02:08: cost function ...\n",
      "[-] 2018-03-21 00:02:09: training step\n",
      "[-] 2018-03-21 00:02:09: Starting network training ...\n",
      "[ ] 2018-03-21 00:02:09: Validation cost: 5.79813E-02. Diff to prev.: 1.0E+10\n",
      "[ ] 2018-03-21 00:02:10: Validation cost: 6.50379E-05. Diff to prev.: 5.8E-02\n",
      "[ ] 2018-03-21 00:02:10: Validation cost: 2.41533E-05. Diff to prev.: 4.1E-05\n",
      "[ ] 2018-03-21 00:02:11: Validation cost: 1.60715E-05. Diff to prev.: 8.1E-06\n",
      "[ ] 2018-03-21 00:02:11: Validation cost: 3.12006E-05. Diff to prev.: 1.5E-05\n",
      "[ ] 2018-03-21 00:02:12: Validation cost: 2.69869E-05. Diff to prev.: 4.2E-06\n",
      "[ ] 2018-03-21 00:02:12: Validation cost: 1.08062E-05. Diff to prev.: 1.6E-05\n",
      "[ ] 2018-03-21 00:02:13: Validation cost: 1.06104E-05. Diff to prev.: 2.0E-07\n",
      "[ ] 2018-03-21 00:02:13: Validation cost: 1.30385E-05. Diff to prev.: 2.4E-06\n",
      "[ ] 2018-03-21 00:02:14: Validation cost: 7.64441E-06. Diff to prev.: 5.4E-06\n",
      "[ ] 2018-03-21 00:02:14: Validation cost: 5.45106E-06. Diff to prev.: 2.2E-06\n",
      "[ ] 2018-03-21 00:02:15: Validation cost: 6.47832E-06. Diff to prev.: 1.0E-06\n",
      "[ ] 2018-03-21 00:02:15: Validation cost: 4.69846E-05. Diff to prev.: 4.1E-05\n",
      "[ ] 2018-03-21 00:02:16: Validation cost: 6.07170E-06. Diff to prev.: 4.1E-05\n",
      "[ ] 2018-03-21 00:02:16: Validation cost: 4.08794E-06. Diff to prev.: 2.0E-06\n",
      "[ ] 2018-03-21 00:02:17: Validation cost: 4.19568E-06. Diff to prev.: 1.1E-07\n",
      "[ ] 2018-03-21 00:02:17: Validation cost: 1.21804E-05. Diff to prev.: 8.0E-06\n",
      "[ ] 2018-03-21 00:02:18: Validation cost: 3.30338E-06. Diff to prev.: 8.9E-06\n",
      "[ ] 2018-03-21 00:02:18: Validation cost: 4.80774E-06. Diff to prev.: 1.5E-06\n",
      "[ ] 2018-03-21 00:02:19: Validation cost: 5.38953E-06. Diff to prev.: 5.8E-07\n",
      "[ ] 2018-03-21 00:02:20: Validation cost: 4.91355E-06. Diff to prev.: 4.8E-07\n",
      "[ ] 2018-03-21 00:02:20: Validation cost: 2.41067E-06. Diff to prev.: 2.5E-06\n",
      "[ ] 2018-03-21 00:02:21: Validation cost: 4.27665E-06. Diff to prev.: 1.9E-06\n",
      "[ ] 2018-03-21 00:02:21: Validation cost: 2.62083E-06. Diff to prev.: 1.7E-06\n",
      "[ ] 2018-03-21 00:02:22: Validation cost: 3.71958E-06. Diff to prev.: 1.1E-06\n",
      "[ ] 2018-03-21 00:02:22: Validation cost: 2.01756E-06. Diff to prev.: 1.7E-06\n",
      "[ ] 2018-03-21 00:02:23: Validation cost: 7.63583E-06. Diff to prev.: 5.6E-06\n",
      "[ ] 2018-03-21 00:02:24: Validation cost: 1.04313E-06. Diff to prev.: 6.6E-06\n",
      "[-] 2018-03-21 00:02:24: Convergence reached after 5600 steps.\n",
      "[-] 2018-03-21 00:02:24: Test error: 1.68381E-06\n"
     ]
    }
   ],
   "source": [
    "from SCFInitialGuess.nn.networks import EluTrNNN\n",
    "from SCFInitialGuess.nn.training import Trainer, RegularizedMSE\n",
    "\n",
    "trainer = Trainer(\n",
    "    EluTrNNN([dim**2, 200, 100, dim**2]),\n",
    "    cost_function=RegularizedMSE(alpha=1e-7)\n",
    ")\n",
    "\n",
    "trainer.setup()\n",
    "network_orig, sess_orig = trainer.train(\n",
    "    dataset,\n",
    "    convergence_threshold=1e-7\n",
    ")\n",
    "graph_orig = trainer.graph"
   ]
  },
  {
   "cell_type": "markdown",
   "metadata": {},
   "source": [
    "### Check symmetry"
   ]
  },
  {
   "cell_type": "code",
   "execution_count": 23,
   "metadata": {},
   "outputs": [
    {
     "name": "stdout",
     "output_type": "stream",
     "text": [
      "0.00036509457\n"
     ]
    },
    {
     "data": {
      "image/png": "[encoded data removed]",
      "text/plain": [
       "<matplotlib.figure.Figure at 0x7f277ec69ba8>"
      ]
     },
     "metadata": {},
     "output_type": "display_data"
    }
   ],
   "source": [
    "with graph_orig.as_default():\n",
    "    reshaped = tf.reshape(network_orig.output_tensor, [-1, dim, dim])\n",
    "    transposed = tf.matrix_transpose(reshaped)\n",
    "    diff_mean = tf.reduce_mean(tf.abs(reshaped - transposed), axis=0)\n",
    "    error = sess_orig.run(diff_mean, {network_orig.input_tensor: dataset.testing[0]})\n",
    "    \n",
    "    matrix_error(error)\n",
    "    print(np.mean(error))\n",
    "\n",
    "plt.show()"
   ]
  },
  {
   "cell_type": "code",
   "execution_count": 24,
   "metadata": {},
   "outputs": [
    {
     "name": "stdout",
     "output_type": "stream",
     "text": [
      "0.09419253\n"
     ]
    },
    {
     "data": {
      "image/png": "[encoded data removed]",
      "text/plain": [
       "<matplotlib.figure.Figure at 0x7f277aad3a90>"
      ]
     },
     "metadata": {},
     "output_type": "display_data"
    }
   ],
   "source": [
    "with graph_orig.as_default():\n",
    "    reshaped = tf.reshape(network_orig.output_tensor, [-1, dim, dim])\n",
    "    squared = tf.matmul(reshaped, reshaped)\n",
    "    diff_mean = tf.reduce_mean(tf.abs(reshaped - squared), axis=0)\n",
    "    error = sess_orig.run(diff_mean, {network_orig.input_tensor: dataset.testing[0]})\n",
    "    \n",
    "    matrix_error(error)\n",
    "    print(np.mean(error))\n",
    "    \n",
    "plt.show()"
   ]
  },
  {
   "cell_type": "markdown",
   "metadata": {},
   "source": [
    "## Enforce hermiticity"
   ]
  },
  {
   "cell_type": "code",
   "execution_count": 25,
   "metadata": {
    "scrolled": true
   },
   "outputs": [
    {
     "name": "stdout",
     "output_type": "stream",
     "text": [
      "[-] 2018-03-21 00:02:25: No target graph specified for Trainer setup. Creating new graph ...\n",
      "[-] 2018-03-21 00:02:25: Setting up the training in the target graph ...\n",
      "[-] 2018-03-21 00:02:25: network ...\n",
      "[-] 2018-03-21 00:02:25: error function ...\n",
      "[-] 2018-03-21 00:02:25: cost function ...\n",
      "[-] 2018-03-21 00:02:25: training step\n",
      "[-] 2018-03-21 00:02:25: Starting network training ...\n",
      "[ ] 2018-03-21 00:02:25: Validation cost: 5.80491E-02. Diff to prev.: 1.0E+10\n",
      "[ ] 2018-03-21 00:02:26: Validation cost: 4.65732E-04. Diff to prev.: 5.8E-02\n",
      "[ ] 2018-03-21 00:02:26: Validation cost: 4.59620E-04. Diff to prev.: 6.1E-06\n",
      "[ ] 2018-03-21 00:02:27: Validation cost: 4.39474E-04. Diff to prev.: 2.0E-05\n",
      "[ ] 2018-03-21 00:02:27: Validation cost: 4.03897E-04. Diff to prev.: 3.6E-05\n",
      "[ ] 2018-03-21 00:02:28: Validation cost: 4.09724E-04. Diff to prev.: 5.8E-06\n",
      "[ ] 2018-03-21 00:02:28: Validation cost: 3.00569E-04. Diff to prev.: 1.1E-04\n",
      "[-] 2018-03-21 00:02:29: Convergence reached after 1400 steps.\n",
      "[-] 2018-03-21 00:02:29: Test error: 2.46088E-04\n"
     ]
    }
   ],
   "source": [
    "from SCFInitialGuess.nn.networks import EluTrNNN\n",
    "from SCFInitialGuess.nn.training import Trainer, MSE\n",
    "\n",
    "class SymmetryPenalty(MSE):\n",
    "    def __init__(self, coupling=1e-4):\n",
    "        \"\"\"alpha: coupling parameter\"\"\"\n",
    "        \n",
    "        self.coupling = coupling\n",
    "        \n",
    "    def function(self, network, y_placeholder):\n",
    "\n",
    "        error = \\\n",
    "            super(SymmetryPenalty, self).function(network, y_placeholder)\n",
    "\n",
    "        penalty = self.symmetry_measure(network.output_tensor) * self.coupling\n",
    "\n",
    "        cost = error + penalty\n",
    "\n",
    "        tf.summary.scalar(\"symmetry_penalty\", penalty)\n",
    "        tf.summary.scalar(\"total_loss\", cost)\n",
    "\n",
    "        return cost\n",
    "    \n",
    "    def symmetry_measure(self, output_tensor):\n",
    "        \n",
    "        reshaped = tf.reshape(output_tensor, [-1, dim, dim])\n",
    "        transposed = tf.matrix_transpose(reshaped)\n",
    "        return tf.norm(reshaped - transposed, axis=(1,2))\n",
    "\n",
    "    \n",
    "trainer_sym = Trainer(\n",
    "    EluTrNNN([dim**2, 200, 100, dim**2]),\n",
    "    cost_function=SymmetryPenalty(coupling=5e-2)\n",
    ")\n",
    "\n",
    "trainer_sym.setup()\n",
    "network_sym, sess_sym = trainer_sym.train(\n",
    "    dataset,\n",
    "    convergence_threshold=1e-6\n",
    ")\n",
    "graph_sym = trainer_sym.graph\n",
    "        "
   ]
  },
  {
   "cell_type": "code",
   "execution_count": 26,
   "metadata": {},
   "outputs": [
    {
     "name": "stdout",
     "output_type": "stream",
     "text": [
      "0.0010036437\n"
     ]
    },
    {
     "data": {
      "image/png": "[encoded data removed]",
      "text/plain": [
       "<matplotlib.figure.Figure at 0x7f2778fad400>"
      ]
     },
     "metadata": {},
     "output_type": "display_data"
    }
   ],
   "source": [
    "with graph_sym.as_default():\n",
    "    reshaped = tf.reshape(network_sym.output_tensor, [-1, dim, dim])\n",
    "    transposed = tf.matrix_transpose(reshaped)\n",
    "    diff_mean = tf.reduce_mean(tf.abs(reshaped - transposed), axis=0)\n",
    "    error = sess_sym.run(diff_mean, {network_sym.input_tensor: dataset.testing[0]})\n",
    "    matrix_error(error)\n",
    "    print(np.mean(error))\n",
    "\n",
    "plt.show()"
   ]
  },
  {
   "cell_type": "markdown",
   "metadata": {},
   "source": [
    "## Enforce idempotency"
   ]
  },
  {
   "cell_type": "code",
   "execution_count": 27,
   "metadata": {
    "scrolled": true
   },
   "outputs": [
    {
     "name": "stdout",
     "output_type": "stream",
     "text": [
      "[-] 2018-03-21 00:02:29: No target graph specified for Trainer setup. Creating new graph ...\n",
      "[-] 2018-03-21 00:02:29: Setting up the training in the target graph ...\n",
      "[-] 2018-03-21 00:02:29: network ...\n",
      "[-] 2018-03-21 00:02:29: error function ...\n",
      "[-] 2018-03-21 00:02:29: cost function ...\n",
      "[-] 2018-03-21 00:02:29: training step\n",
      "[-] 2018-03-21 00:02:30: Starting network training ...\n",
      "[ ] 2018-03-21 00:02:30: Validation cost: 5.76914E-02. Diff to prev.: 1.0E+10\n",
      "[ ] 2018-03-21 00:02:30: Validation cost: 1.02828E-02. Diff to prev.: 4.7E-02\n",
      "[ ] 2018-03-21 00:02:31: Validation cost: 1.02960E-02. Diff to prev.: 1.3E-05\n",
      "[ ] 2018-03-21 00:02:31: Validation cost: 1.05545E-02. Diff to prev.: 2.6E-04\n",
      "[ ] 2018-03-21 00:02:32: Validation cost: 1.06102E-02. Diff to prev.: 5.6E-05\n",
      "[ ] 2018-03-21 00:02:32: Validation cost: 1.04738E-02. Diff to prev.: 1.4E-04\n",
      "[ ] 2018-03-21 00:02:33: Validation cost: 1.08976E-02. Diff to prev.: 4.2E-04\n",
      "[ ] 2018-03-21 00:02:33: Validation cost: 1.07990E-02. Diff to prev.: 9.9E-05\n",
      "[ ] 2018-03-21 00:02:34: Validation cost: 1.09137E-02. Diff to prev.: 1.1E-04\n",
      "[ ] 2018-03-21 00:02:34: Validation cost: 1.08943E-02. Diff to prev.: 1.9E-05\n",
      "[ ] 2018-03-21 00:02:35: Validation cost: 1.08039E-02. Diff to prev.: 9.0E-05\n",
      "[ ] 2018-03-21 00:02:36: Validation cost: 1.08299E-02. Diff to prev.: 2.6E-05\n",
      "[ ] 2018-03-21 00:02:36: Validation cost: 1.07195E-02. Diff to prev.: 1.1E-04\n",
      "[ ] 2018-03-21 00:02:37: Validation cost: 1.08411E-02. Diff to prev.: 1.2E-04\n",
      "[ ] 2018-03-21 00:02:37: Validation cost: 1.08514E-02. Diff to prev.: 1.0E-05\n",
      "[ ] 2018-03-21 00:02:38: Validation cost: 1.08934E-02. Diff to prev.: 4.2E-05\n",
      "[ ] 2018-03-21 00:02:38: Validation cost: 1.08452E-02. Diff to prev.: 4.8E-05\n",
      "[ ] 2018-03-21 00:02:39: Validation cost: 1.08238E-02. Diff to prev.: 2.1E-05\n",
      "[ ] 2018-03-21 00:02:39: Validation cost: 1.09217E-02. Diff to prev.: 9.8E-05\n",
      "[ ] 2018-03-21 00:02:40: Validation cost: 1.08815E-02. Diff to prev.: 4.0E-05\n",
      "[ ] 2018-03-21 00:02:41: Validation cost: 1.08574E-02. Diff to prev.: 2.4E-05\n",
      "[ ] 2018-03-21 00:02:41: Validation cost: 1.08427E-02. Diff to prev.: 1.5E-05\n",
      "[ ] 2018-03-21 00:02:42: Validation cost: 1.09127E-02. Diff to prev.: 7.0E-05\n",
      "[ ] 2018-03-21 00:02:42: Validation cost: 1.08462E-02. Diff to prev.: 6.6E-05\n",
      "[ ] 2018-03-21 00:02:43: Validation cost: 1.09124E-02. Diff to prev.: 6.6E-05\n",
      "[ ] 2018-03-21 00:02:43: Validation cost: 1.08835E-02. Diff to prev.: 2.9E-05\n",
      "[ ] 2018-03-21 00:02:44: Validation cost: 1.08949E-02. Diff to prev.: 1.1E-05\n",
      "[ ] 2018-03-21 00:02:44: Validation cost: 1.06834E-02. Diff to prev.: 2.1E-04\n",
      "[ ] 2018-03-21 00:02:45: Validation cost: 1.07520E-02. Diff to prev.: 6.9E-05\n",
      "[ ] 2018-03-21 00:02:46: Validation cost: 1.07396E-02. Diff to prev.: 1.2E-05\n",
      "[ ] 2018-03-21 00:02:46: Validation cost: 1.08989E-02. Diff to prev.: 1.6E-04\n",
      "[ ] 2018-03-21 00:02:47: Validation cost: 1.08952E-02. Diff to prev.: 3.6E-06\n",
      "[ ] 2018-03-21 00:02:47: Validation cost: 1.09467E-02. Diff to prev.: 5.1E-05\n",
      "[ ] 2018-03-21 00:02:48: Validation cost: 1.08806E-02. Diff to prev.: 6.6E-05\n",
      "[ ] 2018-03-21 00:02:48: Validation cost: 1.08048E-02. Diff to prev.: 7.6E-05\n",
      "[ ] 2018-03-21 00:02:49: Validation cost: 1.08473E-02. Diff to prev.: 4.3E-05\n",
      "[ ] 2018-03-21 00:02:49: Validation cost: 1.08389E-02. Diff to prev.: 8.4E-06\n",
      "[ ] 2018-03-21 00:02:50: Validation cost: 1.08856E-02. Diff to prev.: 4.7E-05\n",
      "[ ] 2018-03-21 00:02:50: Validation cost: 1.08996E-02. Diff to prev.: 1.4E-05\n",
      "[ ] 2018-03-21 00:02:51: Validation cost: 1.08960E-02. Diff to prev.: 3.6E-06\n",
      "[ ] 2018-03-21 00:02:51: Validation cost: 1.08949E-02. Diff to prev.: 1.1E-06\n",
      "[ ] 2018-03-21 00:02:52: Validation cost: 1.08803E-02. Diff to prev.: 1.5E-05\n",
      "[ ] 2018-03-21 00:02:52: Validation cost: 1.09051E-02. Diff to prev.: 2.5E-05\n",
      "[ ] 2018-03-21 00:02:53: Validation cost: 1.08775E-02. Diff to prev.: 2.8E-05\n",
      "[ ] 2018-03-21 00:02:53: Validation cost: 1.08348E-02. Diff to prev.: 4.3E-05\n",
      "[ ] 2018-03-21 00:02:54: Validation cost: 1.08678E-02. Diff to prev.: 3.3E-05\n",
      "[ ] 2018-03-21 00:02:54: Validation cost: 1.08764E-02. Diff to prev.: 8.6E-06\n",
      "[ ] 2018-03-21 00:02:55: Validation cost: 1.09031E-02. Diff to prev.: 2.7E-05\n",
      "[ ] 2018-03-21 00:02:55: Validation cost: 1.08009E-02. Diff to prev.: 1.0E-04\n",
      "[ ] 2018-03-21 00:02:56: Validation cost: 1.09301E-02. Diff to prev.: 1.3E-04\n",
      "[ ] 2018-03-21 00:02:57: Validation cost: 1.09016E-02. Diff to prev.: 2.9E-05\n",
      "[ ] 2018-03-21 00:02:57: Validation cost: 1.08637E-02. Diff to prev.: 3.8E-05\n",
      "[ ] 2018-03-21 00:02:58: Validation cost: 1.08993E-02. Diff to prev.: 3.6E-05\n",
      "[ ] 2018-03-21 00:02:58: Validation cost: 1.08634E-02. Diff to prev.: 3.6E-05\n",
      "[ ] 2018-03-21 00:02:59: Validation cost: 1.08594E-02. Diff to prev.: 4.0E-06\n",
      "[ ] 2018-03-21 00:03:00: Validation cost: 1.08880E-02. Diff to prev.: 2.9E-05\n",
      "[ ] 2018-03-21 00:03:00: Validation cost: 1.08933E-02. Diff to prev.: 5.3E-06\n",
      "[ ] 2018-03-21 00:03:01: Validation cost: 1.08958E-02. Diff to prev.: 2.4E-06\n",
      "[ ] 2018-03-21 00:03:01: Validation cost: 1.08604E-02. Diff to prev.: 3.5E-05\n",
      "[-] 2018-03-21 00:03:02: Convergence reached after 11800 steps.\n",
      "[-] 2018-03-21 00:03:02: Test error: 1.08725E-02\n"
     ]
    }
   ],
   "source": [
    "from SCFInitialGuess.nn.networks import EluTrNNN\n",
    "from SCFInitialGuess.nn.training import Trainer, MSE\n",
    "\n",
    "class IdempotencyPenalty(MSE):\n",
    "    def __init__(self, coupling=1e-4):\n",
    "        \n",
    "        self.coupling = coupling\n",
    "        \n",
    "    def function(self, network, y_placeholder):\n",
    "\n",
    "        error = \\\n",
    "            super(IdempotencyPenalty, self).function(network, y_placeholder)\n",
    "\n",
    "        penalty = self.idempotency_measure(network.output_tensor) * self.coupling\n",
    "\n",
    "        cost = error + penalty\n",
    "\n",
    "        tf.summary.scalar(\"symmetry_penalty\", penalty)\n",
    "        tf.summary.scalar(\"total_loss\", cost)\n",
    "\n",
    "        return cost\n",
    "    \n",
    "    def idempotency_measure(self, output_tensor):\n",
    "        \n",
    "        reshaped = tf.reshape(output_tensor, [-1, dim, dim])\n",
    "        squared = tf.matmul(reshaped, reshaped)\n",
    "        \n",
    "        return tf.norm(reshaped - squared, axis=(1,2))\n",
    "\n",
    "    \n",
    "trainer = Trainer(\n",
    "    EluTrNNN([dim**2, 200, 100, dim**2]),\n",
    "    cost_function=IdempotencyPenalty(coupling=1e-2)\n",
    ")\n",
    "\n",
    "trainer.setup()\n",
    "network_idem, sess_idem = trainer.train(\n",
    "    dataset,\n",
    "    convergence_threshold=5e-7\n",
    ")\n",
    "graph_idem = trainer.graph"
   ]
  },
  {
   "cell_type": "code",
   "execution_count": 28,
   "metadata": {
    "scrolled": true
   },
   "outputs": [
    {
     "name": "stdout",
     "output_type": "stream",
     "text": [
      "0.00080964155\n"
     ]
    },
    {
     "data": {
      "image/png": "[encoded data removed]",
      "text/plain": [
       "<matplotlib.figure.Figure at 0x7f27941121d0>"
      ]
     },
     "metadata": {},
     "output_type": "display_data"
    }
   ],
   "source": [
    "with graph_idem.as_default():\n",
    "    reshaped = tf.reshape(network_idem.output_tensor, [-1, dim, dim])\n",
    "    squared = tf.matmul(reshaped, reshaped)\n",
    "    diff_mean = tf.reduce_mean(tf.abs(reshaped - squared), axis=0)\n",
    "    error = sess_idem.run(diff_mean, {network_idem.input_tensor: dataset.testing[0]})\n",
    "    \n",
    "    matrix_error(error)\n",
    "    print(np.mean(error))\n",
    "    \n",
    "plt.show()\n",
    "    \n",
    "    "
   ]
  },
  {
   "cell_type": "markdown",
   "metadata": {},
   "source": [
    "# Analysis"
   ]
  },
  {
   "cell_type": "code",
   "execution_count": 29,
   "metadata": {
    "scrolled": true
   },
   "outputs": [
    {
     "data": {
      "image/png": "[encoded data removed]",
      "text/plain": [
       "<matplotlib.figure.Figure at 0x7f2778e23f60>"
      ]
     },
     "metadata": {},
     "output_type": "display_data"
    }
   ],
   "source": [
    "with graph_orig.as_default():\n",
    "    plt.scatter(\n",
    "        x=dataset.testing[1],\n",
    "        y=network_orig.run(sess_orig, dataset.testing[0]),\n",
    "        label=\"orig\"\n",
    "    )\n",
    "    \n",
    "with graph_idem.as_default():\n",
    "    plt.scatter(\n",
    "        x=dataset.testing[1],\n",
    "        y=network_idem.run(sess_idem, dataset.testing[0]),\n",
    "        label=\"idempotent\"\n",
    "    )\n",
    "    \n",
    "\n",
    "with graph_sym.as_default():\n",
    "    plt.scatter(\n",
    "        x=dataset.testing[1],\n",
    "        y=network_sym.run(sess_sym, dataset.testing[0]),\n",
    "        label=\"hermit\"\n",
    "    )\n",
    "\n",
    "#lower = 1.8\n",
    "lower = -1\n",
    "upper = 2.2\n",
    "plt.xlim([lower, upper])\n",
    "plt.ylim([lower, upper])\n",
    "    \n",
    "\n",
    "plt.legend()\n",
    "plt.show()"
   ]
  },
  {
   "cell_type": "code",
   "execution_count": 33,
   "metadata": {
    "scrolled": true
   },
   "outputs": [
    {
     "name": "stderr",
     "output_type": "stream",
     "text": [
      "Warn: Ipython shell catchs sys.args\n"
     ]
    },
    {
     "name": "stdout",
     "output_type": "stream",
     "text": [
      "Calculating: 1/50\n"
     ]
    },
    {
     "name": "stderr",
     "output_type": "stream",
     "text": [
      "Warn: Ipython shell catchs sys.args\n"
     ]
    },
    {
     "name": "stdout",
     "output_type": "stream",
     "text": [
      "Calculating: 2/50\n"
     ]
    },
    {
     "name": "stderr",
     "output_type": "stream",
     "text": [
      "Warn: Ipython shell catchs sys.args\n"
     ]
    },
    {
     "name": "stdout",
     "output_type": "stream",
     "text": [
      "Calculating: 3/50\n"
     ]
    },
    {
     "name": "stderr",
     "output_type": "stream",
     "text": [
      "Warn: Ipython shell catchs sys.args\n"
     ]
    },
    {
     "name": "stdout",
     "output_type": "stream",
     "text": [
      "Calculating: 4/50\n"
     ]
    },
    {
     "name": "stderr",
     "output_type": "stream",
     "text": [
      "Warn: Ipython shell catchs sys.args\n"
     ]
    },
    {
     "name": "stdout",
     "output_type": "stream",
     "text": [
      "Calculating: 5/50\n"
     ]
    },
    {
     "name": "stderr",
     "output_type": "stream",
     "text": [
      "Warn: Ipython shell catchs sys.args\n"
     ]
    },
    {
     "name": "stdout",
     "output_type": "stream",
     "text": [
      "Calculating: 6/50\n"
     ]
    },
    {
     "name": "stderr",
     "output_type": "stream",
     "text": [
      "Warn: Ipython shell catchs sys.args\n"
     ]
    },
    {
     "name": "stdout",
     "output_type": "stream",
     "text": [
      "Calculating: 7/50\n"
     ]
    },
    {
     "name": "stderr",
     "output_type": "stream",
     "text": [
      "Warn: Ipython shell catchs sys.args\n"
     ]
    },
    {
     "name": "stdout",
     "output_type": "stream",
     "text": [
      "Calculating: 8/50\n"
     ]
    },
    {
     "name": "stderr",
     "output_type": "stream",
     "text": [
      "Warn: Ipython shell catchs sys.args\n"
     ]
    },
    {
     "name": "stdout",
     "output_type": "stream",
     "text": [
      "Calculating: 9/50\n"
     ]
    },
    {
     "name": "stderr",
     "output_type": "stream",
     "text": [
      "Warn: Ipython shell catchs sys.args\n"
     ]
    },
    {
     "name": "stdout",
     "output_type": "stream",
     "text": [
      "Calculating: 10/50\n"
     ]
    },
    {
     "name": "stderr",
     "output_type": "stream",
     "text": [
      "Warn: Ipython shell catchs sys.args\n"
     ]
    },
    {
     "name": "stdout",
     "output_type": "stream",
     "text": [
      "Calculating: 11/50\n"
     ]
    },
    {
     "name": "stderr",
     "output_type": "stream",
     "text": [
      "Warn: Ipython shell catchs sys.args\n"
     ]
    },
    {
     "name": "stdout",
     "output_type": "stream",
     "text": [
      "Calculating: 12/50\n"
     ]
    },
    {
     "name": "stderr",
     "output_type": "stream",
     "text": [
      "Warn: Ipython shell catchs sys.args\n"
     ]
    },
    {
     "name": "stdout",
     "output_type": "stream",
     "text": [
      "Calculating: 13/50\n"
     ]
    },
    {
     "name": "stderr",
     "output_type": "stream",
     "text": [
      "Warn: Ipython shell catchs sys.args\n"
     ]
    },
    {
     "name": "stdout",
     "output_type": "stream",
     "text": [
      "Calculating: 14/50\n"
     ]
    },
    {
     "name": "stderr",
     "output_type": "stream",
     "text": [
      "Warn: Ipython shell catchs sys.args\n"
     ]
    },
    {
     "name": "stdout",
     "output_type": "stream",
     "text": [
      "Calculating: 15/50\n"
     ]
    },
    {
     "name": "stderr",
     "output_type": "stream",
     "text": [
      "Warn: Ipython shell catchs sys.args\n"
     ]
    },
    {
     "name": "stdout",
     "output_type": "stream",
     "text": [
      "Calculating: 16/50\n"
     ]
    },
    {
     "name": "stderr",
     "output_type": "stream",
     "text": [
      "Warn: Ipython shell catchs sys.args\n"
     ]
    },
    {
     "name": "stdout",
     "output_type": "stream",
     "text": [
      "Calculating: 17/50\n"
     ]
    },
    {
     "name": "stderr",
     "output_type": "stream",
     "text": [
      "Warn: Ipython shell catchs sys.args\n"
     ]
    },
    {
     "name": "stdout",
     "output_type": "stream",
     "text": [
      "Calculating: 18/50\n"
     ]
    },
    {
     "name": "stderr",
     "output_type": "stream",
     "text": [
      "Warn: Ipython shell catchs sys.args\n"
     ]
    },
    {
     "name": "stdout",
     "output_type": "stream",
     "text": [
      "Calculating: 19/50\n"
     ]
    },
    {
     "name": "stderr",
     "output_type": "stream",
     "text": [
      "Warn: Ipython shell catchs sys.args\n"
     ]
    },
    {
     "name": "stdout",
     "output_type": "stream",
     "text": [
      "Calculating: 20/50\n"
     ]
    },
    {
     "name": "stderr",
     "output_type": "stream",
     "text": [
      "Warn: Ipython shell catchs sys.args\n"
     ]
    },
    {
     "name": "stdout",
     "output_type": "stream",
     "text": [
      "Calculating: 21/50\n"
     ]
    },
    {
     "name": "stderr",
     "output_type": "stream",
     "text": [
      "Warn: Ipython shell catchs sys.args\n"
     ]
    },
    {
     "name": "stdout",
     "output_type": "stream",
     "text": [
      "Calculating: 22/50\n"
     ]
    },
    {
     "name": "stderr",
     "output_type": "stream",
     "text": [
      "Warn: Ipython shell catchs sys.args\n"
     ]
    },
    {
     "name": "stdout",
     "output_type": "stream",
     "text": [
      "Calculating: 23/50\n"
     ]
    },
    {
     "name": "stderr",
     "output_type": "stream",
     "text": [
      "Warn: Ipython shell catchs sys.args\n"
     ]
    },
    {
     "name": "stdout",
     "output_type": "stream",
     "text": [
      "Calculating: 24/50\n"
     ]
    },
    {
     "name": "stderr",
     "output_type": "stream",
     "text": [
      "Warn: Ipython shell catchs sys.args\n"
     ]
    },
    {
     "name": "stdout",
     "output_type": "stream",
     "text": [
      "Calculating: 25/50\n"
     ]
    },
    {
     "name": "stderr",
     "output_type": "stream",
     "text": [
      "Warn: Ipython shell catchs sys.args\n"
     ]
    },
    {
     "name": "stdout",
     "output_type": "stream",
     "text": [
      "Calculating: 26/50\n"
     ]
    },
    {
     "name": "stderr",
     "output_type": "stream",
     "text": [
      "Warn: Ipython shell catchs sys.args\n"
     ]
    },
    {
     "name": "stdout",
     "output_type": "stream",
     "text": [
      "Calculating: 27/50\n"
     ]
    },
    {
     "name": "stderr",
     "output_type": "stream",
     "text": [
      "Warn: Ipython shell catchs sys.args\n"
     ]
    },
    {
     "name": "stdout",
     "output_type": "stream",
     "text": [
      "Calculating: 28/50\n"
     ]
    },
    {
     "name": "stderr",
     "output_type": "stream",
     "text": [
      "Warn: Ipython shell catchs sys.args\n"
     ]
    },
    {
     "name": "stdout",
     "output_type": "stream",
     "text": [
      "Calculating: 29/50\n"
     ]
    },
    {
     "name": "stderr",
     "output_type": "stream",
     "text": [
      "Warn: Ipython shell catchs sys.args\n"
     ]
    },
    {
     "name": "stdout",
     "output_type": "stream",
     "text": [
      "Calculating: 30/50\n"
     ]
    },
    {
     "name": "stderr",
     "output_type": "stream",
     "text": [
      "Warn: Ipython shell catchs sys.args\n"
     ]
    },
    {
     "name": "stdout",
     "output_type": "stream",
     "text": [
      "Calculating: 31/50\n"
     ]
    },
    {
     "name": "stderr",
     "output_type": "stream",
     "text": [
      "Warn: Ipython shell catchs sys.args\n"
     ]
    },
    {
     "name": "stdout",
     "output_type": "stream",
     "text": [
      "Calculating: 32/50\n"
     ]
    },
    {
     "name": "stderr",
     "output_type": "stream",
     "text": [
      "Warn: Ipython shell catchs sys.args\n"
     ]
    },
    {
     "name": "stdout",
     "output_type": "stream",
     "text": [
      "Calculating: 33/50\n"
     ]
    },
    {
     "name": "stderr",
     "output_type": "stream",
     "text": [
      "Warn: Ipython shell catchs sys.args\n"
     ]
    },
    {
     "name": "stdout",
     "output_type": "stream",
     "text": [
      "Calculating: 34/50\n"
     ]
    },
    {
     "name": "stderr",
     "output_type": "stream",
     "text": [
      "Warn: Ipython shell catchs sys.args\n"
     ]
    },
    {
     "name": "stdout",
     "output_type": "stream",
     "text": [
      "Calculating: 35/50\n"
     ]
    },
    {
     "name": "stderr",
     "output_type": "stream",
     "text": [
      "Warn: Ipython shell catchs sys.args\n"
     ]
    },
    {
     "name": "stdout",
     "output_type": "stream",
     "text": [
      "Calculating: 36/50\n"
     ]
    },
    {
     "name": "stderr",
     "output_type": "stream",
     "text": [
      "Warn: Ipython shell catchs sys.args\n"
     ]
    },
    {
     "name": "stdout",
     "output_type": "stream",
     "text": [
      "Calculating: 37/50\n"
     ]
    },
    {
     "name": "stderr",
     "output_type": "stream",
     "text": [
      "Warn: Ipython shell catchs sys.args\n"
     ]
    },
    {
     "name": "stdout",
     "output_type": "stream",
     "text": [
      "Calculating: 38/50\n"
     ]
    },
    {
     "name": "stderr",
     "output_type": "stream",
     "text": [
      "Warn: Ipython shell catchs sys.args\n"
     ]
    },
    {
     "name": "stdout",
     "output_type": "stream",
     "text": [
      "Calculating: 39/50\n"
     ]
    },
    {
     "name": "stderr",
     "output_type": "stream",
     "text": [
      "Warn: Ipython shell catchs sys.args\n"
     ]
    },
    {
     "name": "stdout",
     "output_type": "stream",
     "text": [
      "Calculating: 40/50\n"
     ]
    },
    {
     "name": "stderr",
     "output_type": "stream",
     "text": [
      "Warn: Ipython shell catchs sys.args\n"
     ]
    },
    {
     "name": "stdout",
     "output_type": "stream",
     "text": [
      "Calculating: 41/50\n"
     ]
    },
    {
     "name": "stderr",
     "output_type": "stream",
     "text": [
      "Warn: Ipython shell catchs sys.args\n"
     ]
    },
    {
     "name": "stdout",
     "output_type": "stream",
     "text": [
      "Calculating: 42/50\n"
     ]
    },
    {
     "name": "stderr",
     "output_type": "stream",
     "text": [
      "Warn: Ipython shell catchs sys.args\n"
     ]
    },
    {
     "name": "stdout",
     "output_type": "stream",
     "text": [
      "Calculating: 43/50\n"
     ]
    },
    {
     "name": "stderr",
     "output_type": "stream",
     "text": [
      "Warn: Ipython shell catchs sys.args\n"
     ]
    },
    {
     "name": "stdout",
     "output_type": "stream",
     "text": [
      "Calculating: 44/50\n"
     ]
    },
    {
     "name": "stderr",
     "output_type": "stream",
     "text": [
      "Warn: Ipython shell catchs sys.args\n"
     ]
    },
    {
     "name": "stdout",
     "output_type": "stream",
     "text": [
      "Calculating: 45/50\n"
     ]
    },
    {
     "name": "stderr",
     "output_type": "stream",
     "text": [
      "Warn: Ipython shell catchs sys.args\n"
     ]
    },
    {
     "name": "stdout",
     "output_type": "stream",
     "text": [
      "Calculating: 46/50\n"
     ]
    },
    {
     "name": "stderr",
     "output_type": "stream",
     "text": [
      "Warn: Ipython shell catchs sys.args\n"
     ]
    },
    {
     "name": "stdout",
     "output_type": "stream",
     "text": [
      "Calculating: 47/50\n"
     ]
    },
    {
     "name": "stderr",
     "output_type": "stream",
     "text": [
      "Warn: Ipython shell catchs sys.args\n"
     ]
    },
    {
     "name": "stdout",
     "output_type": "stream",
     "text": [
      "Calculating: 48/50\n"
     ]
    },
    {
     "name": "stderr",
     "output_type": "stream",
     "text": [
      "Warn: Ipython shell catchs sys.args\n"
     ]
    },
    {
     "name": "stdout",
     "output_type": "stream",
     "text": [
      "Calculating: 49/50\n"
     ]
    },
    {
     "name": "stderr",
     "output_type": "stream",
     "text": [
      "Warn: Ipython shell catchs sys.args\n"
     ]
    },
    {
     "name": "stdout",
     "output_type": "stream",
     "text": [
      "Calculating: 50/50\n"
     ]
    }
   ],
   "source": [
    "from pyscf.scf import hf\n",
    "\n",
    "dim = 26\n",
    "\n",
    "iterations = []\n",
    "for i, (molecule, p) in enumerate(zip(molecules_test, P_test)):\n",
    "    \n",
    "    mol = molecule.get_pyscf_molecule()\n",
    "    \n",
    "    \n",
    "    print(\"Calculating: \" + str(i + 1) + \"/\" + str(len(molecules_test)))\n",
    "    \n",
    "    # nn guess\n",
    "    s = hf.get_ovlp(mol).reshape(1, dim**2)\n",
    "    s = Dataset.normalize(s, mean=dataset.x_mean, std=dataset.x_std)[0]\n",
    "    \n",
    "    with graph_orig.as_default():\n",
    "        P_orig = network_orig.run(sess_orig, s).reshape(dim, dim).astype('float64')\n",
    "        \n",
    "    with graph_idem.as_default():\n",
    "        P_idem = network_idem.run(sess_idem, s).reshape(dim, dim).astype('float64')\n",
    "    \n",
    "    with graph_sym.as_default():\n",
    "        P_sym = network_sym.run(sess_sym, s).reshape(dim, dim).astype('float64')\n",
    "    \n",
    "    \n",
    "    # P_actual wi noise\n",
    "    p_noise = p.reshape(dim, dim) + np.random.randn(dim, dim) * 1e-4\n",
    "    \n",
    "    \n",
    "    iterations_molecule = []\n",
    "    for guess in [p_noise, P_orig, P_idem, P_sym]:\n",
    "        \n",
    "        mf = hf.RHF(mol)\n",
    "        mf.verbose = 1\n",
    "        mf.kernel(dm0=guess)\n",
    "        iterations_molecule.append(mf.iterations)\n",
    "    \n",
    "    iterations.append(iterations_molecule)\n",
    "\n",
    "iterations = np.array(iterations)"
   ]
  },
  {
   "cell_type": "code",
   "execution_count": 34,
   "metadata": {},
   "outputs": [
    {
     "name": "stdout",
     "output_type": "stream",
     "text": [
      "[ 4.86  7.34 10.66  8.88]\n"
     ]
    }
   ],
   "source": [
    "print(np.mean(iterations,0))"
   ]
  },
  {
   "cell_type": "code",
   "execution_count": 35,
   "metadata": {},
   "outputs": [
    {
     "data": {
      "image/png": "[encoded data removed]",
      "text/plain": [
       "<matplotlib.figure.Figure at 0x7f2778f55550>"
      ]
     },
     "metadata": {},
     "output_type": "display_data"
    }
   ],
   "source": [
    "\n",
    "bins = 20 # todo hier kann man auch ein array angeben\n",
    "\n",
    "for i, name in enumerate(['noise', 'orig', 'hermit', 'idempotent']):\n",
    "    \n",
    "    hist, bins = np.histogram(iterations[:,i])\n",
    "    center = (bins[:-1] + bins[1:]) / 2\n",
    "    #axes[i].bar(center, hist, label=name)\n",
    "    plt.bar(center, hist, label=name)\n",
    "    \n",
    "plt.legend()\n",
    "plt.show()"
   ]
  },
  {
   "cell_type": "code",
   "execution_count": null,
   "metadata": {},
   "outputs": [],
   "source": []
  }
 ],
 "metadata": {
  "kernelspec": {
   "display_name": "Python 3",
   "language": "python",
   "name": "python3"
  },
  "language_info": {
   "codemirror_mode": {
    "name": "ipython",
    "version": 3
   },
   "file_extension": ".py",
   "mimetype": "text/x-python",
   "name": "python",
   "nbconvert_exporter": "python",
   "pygments_lexer": "ipython3",
   "version": "3.6.4"
  }
 },
 "nbformat": 4,
 "nbformat_minor": 2
}
