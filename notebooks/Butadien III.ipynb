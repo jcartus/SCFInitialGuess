{
 "cells": [
  {
   "cell_type": "code",
   "execution_count": 1,
   "metadata": {
    "collapsed": true
   },
   "outputs": [],
   "source": [
    "import numpy as np\n",
    "import matplotlib.pyplot as plt\n",
    "import tensorflow as tf"
   ]
  },
  {
   "cell_type": "code",
   "execution_count": 2,
   "metadata": {
    "collapsed": true,
    "scrolled": true
   },
   "outputs": [],
   "source": [
    "S, P = np.load(\"butadien/dataset.npy\")\n",
    "molecules = np.load(\"butadien/molecules.npy\")"
   ]
  },
  {
   "cell_type": "code",
   "execution_count": 3,
   "metadata": {},
   "outputs": [
    {
     "name": "stdout",
     "output_type": "stream",
     "text": [
      "[-] 2018-03-22 16:42:14: Data set initialized. Mean value std: 0.008772604537482114\n"
     ]
    }
   ],
   "source": [
    "from SCFInitialGuess.utilities.dataset import Dataset\n",
    "\n",
    "dim = 26\n",
    "\n",
    "ind_cut = 150\n",
    "index = np.arange(200)\n",
    "np.random.shuffle(index)\n",
    "\n",
    "S_test = np.array(S)[index[150:]]\n",
    "P_test = np.array(P)[index[150:]]\n",
    "molecules_test = [molecules[index[i]] for i in range(150, 200)]\n",
    "\n",
    "S_train = np.array(S)[index[:150]]\n",
    "P_train = np.array(P)[index[:150]]\n",
    "molecules_train = [molecules[index[i]] for i in range(150)]\n",
    "\n",
    "dataset = Dataset(np.array(S_train), np.array(P_train), split_test=0.0)\n",
    "\n",
    "dataset.testing = (Dataset.normalize(S_test, mean=dataset.x_mean, std=dataset.x_std)[0], P_test)"
   ]
  },
  {
   "cell_type": "markdown",
   "metadata": {},
   "source": [
    "# Training different costs"
   ]
  },
  {
   "cell_type": "code",
   "execution_count": 4,
   "metadata": {},
   "outputs": [
    {
     "name": "stdout",
     "output_type": "stream",
     "text": [
      "[-] 2018-03-22 16:42:14: No target graph specified for Trainer setup. Creating new graph ...\n",
      "[-] 2018-03-22 16:42:14: Setting up the training in the target graph ...\n",
      "[-] 2018-03-22 16:42:14: network ...\n",
      "[-] 2018-03-22 16:42:14: error function ...\n",
      "[-] 2018-03-22 16:42:15: cost function ...\n",
      "[-] 2018-03-22 16:42:24: training step\n",
      "[-] 2018-03-22 16:42:24: Starting network training ...\n",
      "[ ] 2018-03-22 16:42:24: Validation cost: 5.77705E-02. Diff to prev.: 1.0E+10\n",
      "[ ] 2018-03-22 16:42:25: Validation cost: 2.14789E-04. Diff to prev.: 5.8E-02\n",
      "[ ] 2018-03-22 16:42:26: Validation cost: 1.17880E-04. Diff to prev.: 9.7E-05\n",
      "[ ] 2018-03-22 16:42:27: Validation cost: 1.00469E-04. Diff to prev.: 1.7E-05\n",
      "[ ] 2018-03-22 16:42:28: Validation cost: 8.86332E-05. Diff to prev.: 1.2E-05\n",
      "[ ] 2018-03-22 16:42:28: Validation cost: 9.17811E-05. Diff to prev.: 3.1E-06\n",
      "[ ] 2018-03-22 16:42:30: Validation cost: 7.84969E-05. Diff to prev.: 1.3E-05\n",
      "[ ] 2018-03-22 16:42:30: Validation cost: 6.85210E-05. Diff to prev.: 1.0E-05\n",
      "[ ] 2018-03-22 16:42:31: Validation cost: 6.67358E-05. Diff to prev.: 1.8E-06\n",
      "[ ] 2018-03-22 16:42:32: Validation cost: 6.19888E-05. Diff to prev.: 4.7E-06\n",
      "[ ] 2018-03-22 16:42:33: Validation cost: 4.63379E-05. Diff to prev.: 1.6E-05\n",
      "[ ] 2018-03-22 16:42:34: Validation cost: 4.20860E-05. Diff to prev.: 4.3E-06\n",
      "[ ] 2018-03-22 16:42:35: Validation cost: 4.37703E-05. Diff to prev.: 1.7E-06\n",
      "[ ] 2018-03-22 16:42:36: Validation cost: 4.05244E-05. Diff to prev.: 3.2E-06\n",
      "[ ] 2018-03-22 16:42:37: Validation cost: 3.96033E-05. Diff to prev.: 9.2E-07\n",
      "[ ] 2018-03-22 16:42:38: Validation cost: 4.46767E-05. Diff to prev.: 5.1E-06\n",
      "[ ] 2018-03-22 16:42:39: Validation cost: 2.73207E-05. Diff to prev.: 1.7E-05\n",
      "[ ] 2018-03-22 16:42:40: Validation cost: 2.55743E-05. Diff to prev.: 1.7E-06\n",
      "[ ] 2018-03-22 16:42:41: Validation cost: 2.79952E-05. Diff to prev.: 2.4E-06\n",
      "[ ] 2018-03-22 16:42:42: Validation cost: 2.84206E-05. Diff to prev.: 4.3E-07\n",
      "[ ] 2018-03-22 16:42:43: Validation cost: 2.99585E-05. Diff to prev.: 1.5E-06\n",
      "[ ] 2018-03-22 16:42:44: Validation cost: 2.25654E-05. Diff to prev.: 7.4E-06\n",
      "[ ] 2018-03-22 16:42:45: Validation cost: 2.53817E-05. Diff to prev.: 2.8E-06\n",
      "[ ] 2018-03-22 16:42:46: Validation cost: 1.77349E-05. Diff to prev.: 7.6E-06\n",
      "[ ] 2018-03-22 16:42:46: Validation cost: 1.66055E-05. Diff to prev.: 1.1E-06\n",
      "[ ] 2018-03-22 16:42:48: Validation cost: 1.74708E-05. Diff to prev.: 8.7E-07\n",
      "[ ] 2018-03-22 16:42:49: Validation cost: 1.53837E-05. Diff to prev.: 2.1E-06\n",
      "[ ] 2018-03-22 16:42:50: Validation cost: 1.16733E-05. Diff to prev.: 3.7E-06\n",
      "[ ] 2018-03-22 16:42:51: Validation cost: 1.14651E-05. Diff to prev.: 2.1E-07\n",
      "[ ] 2018-03-22 16:42:51: Validation cost: 1.56046E-05. Diff to prev.: 4.1E-06\n",
      "[ ] 2018-03-22 16:42:52: Validation cost: 1.53773E-05. Diff to prev.: 2.3E-07\n",
      "[ ] 2018-03-22 16:42:53: Validation cost: 1.61825E-05. Diff to prev.: 8.1E-07\n",
      "[ ] 2018-03-22 16:42:54: Validation cost: 6.54243E-06. Diff to prev.: 9.6E-06\n",
      "[ ] 2018-03-22 16:42:55: Validation cost: 7.34777E-06. Diff to prev.: 8.1E-07\n",
      "[ ] 2018-03-22 16:42:56: Validation cost: 1.11407E-05. Diff to prev.: 3.8E-06\n",
      "[ ] 2018-03-22 16:42:57: Validation cost: 1.42951E-05. Diff to prev.: 3.2E-06\n",
      "[ ] 2018-03-22 16:42:59: Validation cost: 5.48145E-06. Diff to prev.: 8.8E-06\n",
      "[ ] 2018-03-22 16:42:59: Validation cost: 6.04562E-06. Diff to prev.: 5.6E-07\n",
      "[ ] 2018-03-22 16:43:00: Validation cost: 6.28513E-06. Diff to prev.: 2.4E-07\n",
      "[-] 2018-03-22 16:43:01: Convergence reached after 7800 steps.\n",
      "[-] 2018-03-22 16:43:01: Test error: 3.62496E-06\n"
     ]
    }
   ],
   "source": [
    "from SCFInitialGuess.nn.networks import EluTrNNN\n",
    "from SCFInitialGuess.nn.training import Trainer, RegularizedMSE\n",
    "\n",
    "trainer = Trainer(\n",
    "    EluTrNNN([dim**2, 200, 100, dim**2]),\n",
    "    cost_function=RegularizedMSE(alpha=1e-7)\n",
    ")\n",
    "\n",
    "trainer.setup()\n",
    "network_orig, sess_orig = trainer.train(\n",
    "    dataset,\n",
    "    convergence_threshold=1e-7\n",
    ")\n",
    "graph_orig = trainer.graph"
   ]
  },
  {
   "cell_type": "markdown",
   "metadata": {},
   "source": [
    "### Check symmetry"
   ]
  },
  {
   "cell_type": "code",
   "execution_count": 6,
   "metadata": {},
   "outputs": [
    {
     "name": "stdout",
     "output_type": "stream",
     "text": [
      "0.0007466\n"
     ]
    },
    {
     "data": {
      "image/png": "[encoded data removed]",
      "text/plain": [
       "<matplotlib.figure.Figure at 0x7faaa6d71828>"
      ]
     },
     "metadata": {},
     "output_type": "display_data"
    }
   ],
   "source": [
    "from SCFInitialGuess.utilities.plotutils import matrix_error\n",
    "\n",
    "with graph_orig.as_default():\n",
    "    reshaped = tf.reshape(network_orig.output_tensor, [-1, dim, dim])\n",
    "    transposed = tf.matrix_transpose(reshaped)\n",
    "    diff_mean = tf.reduce_mean(tf.abs(reshaped - transposed), axis=0)\n",
    "    error = sess_orig.run(diff_mean, {network_orig.input_tensor: dataset.testing[0]})\n",
    "    \n",
    "    matrix_error(error)\n",
    "    print(np.mean(error))\n",
    "\n",
    "plt.show()"
   ]
  },
  {
   "cell_type": "code",
   "execution_count": 7,
   "metadata": {},
   "outputs": [
    {
     "name": "stdout",
     "output_type": "stream",
     "text": [
      "0.977433\n"
     ]
    },
    {
     "data": {
      "image/png": "[encoded data removed]",
      "text/plain": [
       "<matplotlib.figure.Figure at 0x7faaa6c543c8>"
      ]
     },
     "metadata": {},
     "output_type": "display_data"
    }
   ],
   "source": [
    "from SCFInitialGuess.utilities.plotutils import matrix_error\n",
    "\n",
    "def idempotency_error(network):\n",
    "    p = tf.reshape(network.output_tensor, [-1, dim, dim])\n",
    "    s = tf.reshape(network.input_tensor, [-1, dim, dim])\n",
    "    \n",
    "    lhs = tf.matmul(tf.matmul(p, s), p)\n",
    "    rhs = 2 * p\n",
    "    return tf.reduce_mean(tf.abs(lhs - rhs), axis=0)\n",
    "\n",
    "with graph_orig.as_default():\n",
    "    \n",
    "    \n",
    "    \"\"\"\n",
    "    reshaped = tf.reshape(network_orig.output_tensor, [-1, dim, dim])\n",
    "    squared = tf.matmul(reshaped, reshaped)\n",
    "    diff_mean = tf.reduce_mean(tf.abs(reshaped - squared), axis=0)\n",
    "    error = sess_orig.run(diff_mean, {network_orig.input_tensor: dataset.testing[0]})\n",
    "    \"\"\"\n",
    "    error = sess_orig.run(\n",
    "        idempotency_error(network_orig),\n",
    "       {network_orig.input_tensor: dataset.testing[0]}\n",
    "    )\n",
    "    \n",
    "    matrix_error(error)\n",
    "    print(np.mean(error))\n",
    "    \n",
    "plt.show()"
   ]
  },
  {
   "cell_type": "markdown",
   "metadata": {},
   "source": [
    "## Enforce hermiticity"
   ]
  },
  {
   "cell_type": "code",
   "execution_count": 8,
   "metadata": {
    "scrolled": true
   },
   "outputs": [
    {
     "name": "stdout",
     "output_type": "stream",
     "text": [
      "[-] 2018-03-22 16:43:38: No target graph specified for Trainer setup. Creating new graph ...\n",
      "[-] 2018-03-22 16:43:38: Setting up the training in the target graph ...\n",
      "[-] 2018-03-22 16:43:38: network ...\n",
      "[-] 2018-03-22 16:43:38: error function ...\n",
      "[-] 2018-03-22 16:43:38: cost function ...\n",
      "[-] 2018-03-22 16:43:38: training step\n",
      "[-] 2018-03-22 16:43:39: Starting network training ...\n",
      "[ ] 2018-03-22 16:43:39: Validation cost: 5.76823E-02. Diff to prev.: 1.0E+10\n",
      "[ ] 2018-03-22 16:43:40: Validation cost: 4.55078E-04. Diff to prev.: 5.7E-02\n",
      "[ ] 2018-03-22 16:43:41: Validation cost: 7.59961E-04. Diff to prev.: 3.0E-04\n",
      "[ ] 2018-03-22 16:43:42: Validation cost: 4.39429E-04. Diff to prev.: 3.2E-04\n",
      "[ ] 2018-03-22 16:43:43: Validation cost: 4.79652E-04. Diff to prev.: 4.0E-05\n",
      "[ ] 2018-03-22 16:43:44: Validation cost: 3.11965E-04. Diff to prev.: 1.7E-04\n",
      "[ ] 2018-03-22 16:43:45: Validation cost: 3.03239E-04. Diff to prev.: 8.7E-06\n",
      "[ ] 2018-03-22 16:43:46: Validation cost: 2.99742E-04. Diff to prev.: 3.5E-06\n",
      "[ ] 2018-03-22 16:43:47: Validation cost: 2.44060E-04. Diff to prev.: 5.6E-05\n",
      "[ ] 2018-03-22 16:43:48: Validation cost: 2.20563E-04. Diff to prev.: 2.3E-05\n",
      "[ ] 2018-03-22 16:43:49: Validation cost: 1.95749E-04. Diff to prev.: 2.5E-05\n",
      "[ ] 2018-03-22 16:43:51: Validation cost: 1.81830E-04. Diff to prev.: 1.4E-05\n",
      "[ ] 2018-03-22 16:43:52: Validation cost: 1.56756E-04. Diff to prev.: 2.5E-05\n",
      "[ ] 2018-03-22 16:43:53: Validation cost: 2.10072E-04. Diff to prev.: 5.3E-05\n",
      "[ ] 2018-03-22 16:43:54: Validation cost: 1.48636E-04. Diff to prev.: 6.1E-05\n",
      "[ ] 2018-03-22 16:43:55: Validation cost: 1.40843E-04. Diff to prev.: 7.8E-06\n",
      "[ ] 2018-03-22 16:43:56: Validation cost: 1.49782E-04. Diff to prev.: 8.9E-06\n",
      "[ ] 2018-03-22 16:43:57: Validation cost: 1.31699E-04. Diff to prev.: 1.8E-05\n",
      "[ ] 2018-03-22 16:43:58: Validation cost: 1.21032E-04. Diff to prev.: 1.1E-05\n",
      "[ ] 2018-03-22 16:44:00: Validation cost: 1.13387E-04. Diff to prev.: 7.6E-06\n",
      "[ ] 2018-03-22 16:44:01: Validation cost: 1.22665E-04. Diff to prev.: 9.3E-06\n",
      "[ ] 2018-03-22 16:44:02: Validation cost: 1.26944E-04. Diff to prev.: 4.3E-06\n",
      "[ ] 2018-03-22 16:44:03: Validation cost: 1.03635E-04. Diff to prev.: 2.3E-05\n",
      "[ ] 2018-03-22 16:44:04: Validation cost: 1.11502E-04. Diff to prev.: 7.9E-06\n",
      "[ ] 2018-03-22 16:44:05: Validation cost: 1.09243E-04. Diff to prev.: 2.3E-06\n",
      "[ ] 2018-03-22 16:44:06: Validation cost: 9.80773E-05. Diff to prev.: 1.1E-05\n",
      "[-] 2018-03-22 16:44:07: Convergence reached after 5200 steps.\n",
      "[-] 2018-03-22 16:44:07: Test error: 1.00660E-04\n"
     ]
    }
   ],
   "source": [
    "from SCFInitialGuess.nn.networks import EluTrNNN\n",
    "from SCFInitialGuess.nn.training import Trainer, MSE\n",
    "\n",
    "class SymmetryPenalty(MSE):\n",
    "    def __init__(self, coupling=1e-4):\n",
    "        \"\"\"alpha: coupling parameter\"\"\"\n",
    "        \n",
    "        self.coupling = coupling\n",
    "        \n",
    "    def function(self, network, y_placeholder):\n",
    "\n",
    "        error = \\\n",
    "            super(SymmetryPenalty, self).function(network, y_placeholder)\n",
    "\n",
    "        penalty = self.symmetry_measure(network.output_tensor) * self.coupling\n",
    "\n",
    "        cost = error + penalty\n",
    "\n",
    "        tf.summary.scalar(\"symmetry_penalty\", penalty)\n",
    "        tf.summary.scalar(\"total_loss\", cost)\n",
    "\n",
    "        return cost\n",
    "    \n",
    "    def symmetry_measure(self, output_tensor):\n",
    "        \n",
    "        reshaped = tf.reshape(output_tensor, [-1, dim, dim])\n",
    "        transposed = tf.matrix_transpose(reshaped)\n",
    "        return tf.reduce_mean(tf.norm(reshaped - transposed, axis=(1,2))**2 )\n",
    "\n",
    "    \n",
    "trainer_sym = Trainer(\n",
    "    EluTrNNN([dim**2, 200, 100, dim**2]),\n",
    "    cost_function=SymmetryPenalty(coupling=5e-2)\n",
    ")\n",
    "\n",
    "trainer_sym.setup()\n",
    "network_sym, sess_sym = trainer_sym.train(\n",
    "    dataset,\n",
    "    convergence_threshold=1e-6\n",
    ")\n",
    "graph_sym = trainer_sym.graph\n",
    "        "
   ]
  },
  {
   "cell_type": "code",
   "execution_count": 9,
   "metadata": {},
   "outputs": [
    {
     "name": "stdout",
     "output_type": "stream",
     "text": [
      "0.000362718\n"
     ]
    },
    {
     "data": {
      "image/png": "[encoded data removed]",
      "text/plain": [
       "<matplotlib.figure.Figure at 0x7faaa6dd6128>"
      ]
     },
     "metadata": {},
     "output_type": "display_data"
    }
   ],
   "source": [
    "with graph_sym.as_default():\n",
    "    reshaped = tf.reshape(network_sym.output_tensor, [-1, dim, dim])\n",
    "    transposed = tf.matrix_transpose(reshaped)\n",
    "    diff_mean = tf.reduce_mean(tf.abs(reshaped - transposed), axis=0)\n",
    "    error = sess_sym.run(diff_mean, {network_sym.input_tensor: dataset.testing[0]})\n",
    "    matrix_error(error)\n",
    "    print(np.mean(error))\n",
    "\n",
    "plt.show()"
   ]
  },
  {
   "cell_type": "markdown",
   "metadata": {},
   "source": [
    "## Enforce idempotency"
   ]
  },
  {
   "cell_type": "code",
   "execution_count": 26,
   "metadata": {
    "scrolled": true
   },
   "outputs": [
    {
     "name": "stdout",
     "output_type": "stream",
     "text": [
      "[-] 2018-03-22 17:49:16: No target graph specified for Trainer setup. Creating new graph ...\n",
      "[-] 2018-03-22 17:49:16: Setting up the training in the target graph ...\n",
      "[-] 2018-03-22 17:49:16: network ...\n",
      "[-] 2018-03-22 17:49:16: error function ...\n",
      "[-] 2018-03-22 17:49:16: cost function ...\n",
      "[-] 2018-03-22 17:49:16: training step\n",
      "[-] 2018-03-22 17:49:16: Starting network training ...\n",
      "[ ] 2018-03-22 17:49:16: Validation cost: 5.78458E-02. Diff to prev.: 1.0E+10\n",
      "[ ] 2018-03-22 17:49:18: Validation cost: 2.52557E-03. Diff to prev.: 5.5E-02\n",
      "[ ] 2018-03-22 17:49:19: Validation cost: 2.36475E-03. Diff to prev.: 1.6E-04\n",
      "[ ] 2018-03-22 17:49:21: Validation cost: 2.38036E-03. Diff to prev.: 1.6E-05\n",
      "[ ] 2018-03-22 17:49:23: Validation cost: 2.36061E-03. Diff to prev.: 2.0E-05\n",
      "[ ] 2018-03-22 17:49:25: Validation cost: 2.38321E-03. Diff to prev.: 2.3E-05\n",
      "[ ] 2018-03-22 17:49:26: Validation cost: 2.42279E-03. Diff to prev.: 4.0E-05\n",
      "[ ] 2018-03-22 17:49:28: Validation cost: 2.34938E-03. Diff to prev.: 7.3E-05\n",
      "[ ] 2018-03-22 17:49:30: Validation cost: 2.31287E-03. Diff to prev.: 3.7E-05\n",
      "[ ] 2018-03-22 17:49:31: Validation cost: 2.39370E-03. Diff to prev.: 8.1E-05\n",
      "[ ] 2018-03-22 17:49:33: Validation cost: 2.31047E-03. Diff to prev.: 8.3E-05\n",
      "[ ] 2018-03-22 17:49:35: Validation cost: 2.28930E-03. Diff to prev.: 2.1E-05\n",
      "[ ] 2018-03-22 17:49:36: Validation cost: 2.37011E-03. Diff to prev.: 8.1E-05\n",
      "[-] 2018-03-22 17:49:38: Convergence reached after 2600 steps.\n",
      "[-] 2018-03-22 17:49:38: Test error: 2.37677E-03\n"
     ]
    }
   ],
   "source": [
    "from SCFInitialGuess.nn.networks import EluTrNNN\n",
    "from SCFInitialGuess.nn.training import Trainer, MSE\n",
    "\n",
    "class IdempotencyPenalty(MSE):\n",
    "    def __init__(self, coupling=1e-4):\n",
    "        \n",
    "        self.coupling = coupling\n",
    "        \n",
    "    def function(self, network, y_placeholder):\n",
    "\n",
    "        error = \\\n",
    "            super(IdempotencyPenalty, self).function(network, y_placeholder)\n",
    "\n",
    "        penalty = self.idempotency_error(network) * self.coupling\n",
    "\n",
    "        cost = error + penalty\n",
    "\n",
    "        tf.summary.scalar(\"symmetry_penalty\", penalty)\n",
    "        tf.summary.scalar(\"total_loss\", cost)\n",
    "\n",
    "        return cost\n",
    "    \n",
    "    def idempotency_error(self, network):\n",
    "        p = tf.reshape(network.output_tensor, [-1, dim, dim])\n",
    "        s = tf.reshape(network.input_tensor, [-1, dim, dim])\n",
    "\n",
    "        lhs = tf.matmul(tf.matmul(p, s), p)\n",
    "        rhs = 2 * p\n",
    "        return tf.reduce_mean(tf.norm(tf.abs(lhs - rhs), axis=(1,2)) **2 )\n",
    "\n",
    "try:\n",
    "    del graph_idem\n",
    "except:\n",
    "    pass\n",
    "    \n",
    "trainer = Trainer(\n",
    "    EluTrNNN([dim**2, 200, 100, dim**2]),\n",
    "    cost_function=IdempotencyPenalty(coupling=1e-5)\n",
    ")\n",
    "\n",
    "trainer.setup()\n",
    "network_idem, sess_idem = trainer.train(\n",
    "    dataset,\n",
    "    convergence_threshold=3e-6,\n",
    "    summary_save_path=\"log2/idem\"\n",
    ")\n",
    "graph_idem = trainer.graph"
   ]
  },
  {
   "cell_type": "code",
   "execution_count": 27,
   "metadata": {
    "scrolled": true
   },
   "outputs": [
    {
     "name": "stdout",
     "output_type": "stream",
     "text": [
      "0.532079\n"
     ]
    },
    {
     "data": {
      "image/png": "[encoded data removed]",
      "text/plain": [
       "<matplotlib.figure.Figure at 0x7faa827b2320>"
      ]
     },
     "metadata": {},
     "output_type": "display_data"
    }
   ],
   "source": [
    "with graph_idem.as_default():\n",
    "    error = sess_idem.run(idempotency_error(network_idem), {network_idem.input_tensor: dataset.testing[0]})\n",
    "    \n",
    "    matrix_error(error)\n",
    "    print(np.mean(error))\n",
    "    \n",
    "plt.show()\n",
    "    \n",
    "    "
   ]
  },
  {
   "cell_type": "markdown",
   "metadata": {},
   "source": [
    "# Analysis"
   ]
  },
  {
   "cell_type": "code",
   "execution_count": 28,
   "metadata": {
    "scrolled": true
   },
   "outputs": [
    {
     "data": {
      "image/png": "[encoded data removed]",
      "text/plain": [
       "<matplotlib.figure.Figure at 0x7faaa0ce0dd8>"
      ]
     },
     "metadata": {},
     "output_type": "display_data"
    }
   ],
   "source": [
    "with graph_orig.as_default():\n",
    "    plt.scatter(\n",
    "        x=dataset.testing[1],\n",
    "        y=network_orig.run(sess_orig, dataset.testing[0]),\n",
    "        label=\"orig\"\n",
    "    )\n",
    "    \n",
    "with graph_idem.as_default():\n",
    "    plt.scatter(\n",
    "        x=dataset.testing[1],\n",
    "        y=network_idem.run(sess_idem, dataset.testing[0]),\n",
    "        label=\"idempotent\"\n",
    "    )\n",
    "    \n",
    "\n",
    "with graph_sym.as_default():\n",
    "    plt.scatter(\n",
    "        x=dataset.testing[1],\n",
    "        y=network_sym.run(sess_sym, dataset.testing[0]),\n",
    "        label=\"hermit\"\n",
    "    )\n",
    "\n",
    "#lower = 1.8\n",
    "lower = -1\n",
    "upper = 2.2\n",
    "plt.xlim([lower, upper])\n",
    "plt.ylim([lower, upper])\n",
    "    \n",
    "\n",
    "plt.legend()\n",
    "plt.show()"
   ]
  },
  {
   "cell_type": "code",
   "execution_count": 29,
   "metadata": {
    "scrolled": true
   },
   "outputs": [
    {
     "name": "stderr",
     "output_type": "stream",
     "text": [
      "Warn: Ipython shell catchs sys.args\n"
     ]
    },
    {
     "name": "stdout",
     "output_type": "stream",
     "text": [
      "Calculating: 1/50\n"
     ]
    },
    {
     "name": "stderr",
     "output_type": "stream",
     "text": [
      "Warn: Ipython shell catchs sys.args\n"
     ]
    },
    {
     "name": "stdout",
     "output_type": "stream",
     "text": [
      "Calculating: 2/50\n"
     ]
    },
    {
     "name": "stderr",
     "output_type": "stream",
     "text": [
      "Warn: Ipython shell catchs sys.args\n"
     ]
    },
    {
     "name": "stdout",
     "output_type": "stream",
     "text": [
      "Calculating: 3/50\n"
     ]
    },
    {
     "name": "stderr",
     "output_type": "stream",
     "text": [
      "Warn: Ipython shell catchs sys.args\n"
     ]
    },
    {
     "name": "stdout",
     "output_type": "stream",
     "text": [
      "Calculating: 4/50\n"
     ]
    },
    {
     "name": "stderr",
     "output_type": "stream",
     "text": [
      "Warn: Ipython shell catchs sys.args\n"
     ]
    },
    {
     "name": "stdout",
     "output_type": "stream",
     "text": [
      "Calculating: 5/50\n"
     ]
    },
    {
     "name": "stderr",
     "output_type": "stream",
     "text": [
      "Warn: Ipython shell catchs sys.args\n"
     ]
    },
    {
     "name": "stdout",
     "output_type": "stream",
     "text": [
      "Calculating: 6/50\n"
     ]
    },
    {
     "name": "stderr",
     "output_type": "stream",
     "text": [
      "Warn: Ipython shell catchs sys.args\n"
     ]
    },
    {
     "name": "stdout",
     "output_type": "stream",
     "text": [
      "Calculating: 7/50\n"
     ]
    },
    {
     "name": "stderr",
     "output_type": "stream",
     "text": [
      "Warn: Ipython shell catchs sys.args\n"
     ]
    },
    {
     "name": "stdout",
     "output_type": "stream",
     "text": [
      "Calculating: 8/50\n"
     ]
    },
    {
     "name": "stderr",
     "output_type": "stream",
     "text": [
      "Warn: Ipython shell catchs sys.args\n"
     ]
    },
    {
     "name": "stdout",
     "output_type": "stream",
     "text": [
      "Calculating: 9/50\n"
     ]
    },
    {
     "name": "stderr",
     "output_type": "stream",
     "text": [
      "Warn: Ipython shell catchs sys.args\n"
     ]
    },
    {
     "name": "stdout",
     "output_type": "stream",
     "text": [
      "Calculating: 10/50\n"
     ]
    },
    {
     "name": "stderr",
     "output_type": "stream",
     "text": [
      "Warn: Ipython shell catchs sys.args\n"
     ]
    },
    {
     "name": "stdout",
     "output_type": "stream",
     "text": [
      "Calculating: 11/50\n"
     ]
    },
    {
     "name": "stderr",
     "output_type": "stream",
     "text": [
      "Warn: Ipython shell catchs sys.args\n"
     ]
    },
    {
     "name": "stdout",
     "output_type": "stream",
     "text": [
      "Calculating: 12/50\n"
     ]
    },
    {
     "name": "stderr",
     "output_type": "stream",
     "text": [
      "Warn: Ipython shell catchs sys.args\n"
     ]
    },
    {
     "name": "stdout",
     "output_type": "stream",
     "text": [
      "Calculating: 13/50\n"
     ]
    },
    {
     "name": "stderr",
     "output_type": "stream",
     "text": [
      "Warn: Ipython shell catchs sys.args\n"
     ]
    },
    {
     "name": "stdout",
     "output_type": "stream",
     "text": [
      "Calculating: 14/50\n"
     ]
    },
    {
     "name": "stderr",
     "output_type": "stream",
     "text": [
      "Warn: Ipython shell catchs sys.args\n"
     ]
    },
    {
     "name": "stdout",
     "output_type": "stream",
     "text": [
      "Calculating: 15/50\n"
     ]
    },
    {
     "name": "stderr",
     "output_type": "stream",
     "text": [
      "Warn: Ipython shell catchs sys.args\n"
     ]
    },
    {
     "name": "stdout",
     "output_type": "stream",
     "text": [
      "Calculating: 16/50\n"
     ]
    },
    {
     "name": "stderr",
     "output_type": "stream",
     "text": [
      "Warn: Ipython shell catchs sys.args\n"
     ]
    },
    {
     "name": "stdout",
     "output_type": "stream",
     "text": [
      "Calculating: 17/50\n"
     ]
    },
    {
     "name": "stderr",
     "output_type": "stream",
     "text": [
      "Warn: Ipython shell catchs sys.args\n"
     ]
    },
    {
     "name": "stdout",
     "output_type": "stream",
     "text": [
      "Calculating: 18/50\n"
     ]
    },
    {
     "name": "stderr",
     "output_type": "stream",
     "text": [
      "Warn: Ipython shell catchs sys.args\n"
     ]
    },
    {
     "name": "stdout",
     "output_type": "stream",
     "text": [
      "Calculating: 19/50\n"
     ]
    },
    {
     "name": "stderr",
     "output_type": "stream",
     "text": [
      "Warn: Ipython shell catchs sys.args\n"
     ]
    },
    {
     "name": "stdout",
     "output_type": "stream",
     "text": [
      "Calculating: 20/50\n"
     ]
    },
    {
     "name": "stderr",
     "output_type": "stream",
     "text": [
      "Warn: Ipython shell catchs sys.args\n"
     ]
    },
    {
     "name": "stdout",
     "output_type": "stream",
     "text": [
      "Calculating: 21/50\n"
     ]
    },
    {
     "name": "stderr",
     "output_type": "stream",
     "text": [
      "Warn: Ipython shell catchs sys.args\n"
     ]
    },
    {
     "name": "stdout",
     "output_type": "stream",
     "text": [
      "Calculating: 22/50\n"
     ]
    },
    {
     "name": "stderr",
     "output_type": "stream",
     "text": [
      "Warn: Ipython shell catchs sys.args\n"
     ]
    },
    {
     "name": "stdout",
     "output_type": "stream",
     "text": [
      "Calculating: 23/50\n"
     ]
    },
    {
     "name": "stderr",
     "output_type": "stream",
     "text": [
      "Warn: Ipython shell catchs sys.args\n"
     ]
    },
    {
     "name": "stdout",
     "output_type": "stream",
     "text": [
      "Calculating: 24/50\n"
     ]
    },
    {
     "name": "stderr",
     "output_type": "stream",
     "text": [
      "Warn: Ipython shell catchs sys.args\n"
     ]
    },
    {
     "name": "stdout",
     "output_type": "stream",
     "text": [
      "Calculating: 25/50\n"
     ]
    },
    {
     "name": "stderr",
     "output_type": "stream",
     "text": [
      "Warn: Ipython shell catchs sys.args\n"
     ]
    },
    {
     "name": "stdout",
     "output_type": "stream",
     "text": [
      "Calculating: 26/50\n"
     ]
    },
    {
     "name": "stderr",
     "output_type": "stream",
     "text": [
      "Warn: Ipython shell catchs sys.args\n"
     ]
    },
    {
     "name": "stdout",
     "output_type": "stream",
     "text": [
      "Calculating: 27/50\n"
     ]
    },
    {
     "name": "stderr",
     "output_type": "stream",
     "text": [
      "Warn: Ipython shell catchs sys.args\n"
     ]
    },
    {
     "name": "stdout",
     "output_type": "stream",
     "text": [
      "Calculating: 28/50\n"
     ]
    },
    {
     "name": "stderr",
     "output_type": "stream",
     "text": [
      "Warn: Ipython shell catchs sys.args\n"
     ]
    },
    {
     "name": "stdout",
     "output_type": "stream",
     "text": [
      "Calculating: 29/50\n"
     ]
    },
    {
     "name": "stderr",
     "output_type": "stream",
     "text": [
      "Warn: Ipython shell catchs sys.args\n"
     ]
    },
    {
     "name": "stdout",
     "output_type": "stream",
     "text": [
      "Calculating: 30/50\n"
     ]
    },
    {
     "name": "stderr",
     "output_type": "stream",
     "text": [
      "Warn: Ipython shell catchs sys.args\n"
     ]
    },
    {
     "name": "stdout",
     "output_type": "stream",
     "text": [
      "Calculating: 31/50\n"
     ]
    },
    {
     "name": "stderr",
     "output_type": "stream",
     "text": [
      "Warn: Ipython shell catchs sys.args\n"
     ]
    },
    {
     "name": "stdout",
     "output_type": "stream",
     "text": [
      "Calculating: 32/50\n"
     ]
    },
    {
     "name": "stderr",
     "output_type": "stream",
     "text": [
      "Warn: Ipython shell catchs sys.args\n"
     ]
    },
    {
     "name": "stdout",
     "output_type": "stream",
     "text": [
      "Calculating: 33/50\n"
     ]
    },
    {
     "name": "stderr",
     "output_type": "stream",
     "text": [
      "Warn: Ipython shell catchs sys.args\n"
     ]
    },
    {
     "name": "stdout",
     "output_type": "stream",
     "text": [
      "Calculating: 34/50\n"
     ]
    },
    {
     "name": "stderr",
     "output_type": "stream",
     "text": [
      "Warn: Ipython shell catchs sys.args\n"
     ]
    },
    {
     "name": "stdout",
     "output_type": "stream",
     "text": [
      "Calculating: 35/50\n"
     ]
    },
    {
     "name": "stderr",
     "output_type": "stream",
     "text": [
      "Warn: Ipython shell catchs sys.args\n"
     ]
    },
    {
     "name": "stdout",
     "output_type": "stream",
     "text": [
      "Calculating: 36/50\n"
     ]
    },
    {
     "name": "stderr",
     "output_type": "stream",
     "text": [
      "Warn: Ipython shell catchs sys.args\n"
     ]
    },
    {
     "name": "stdout",
     "output_type": "stream",
     "text": [
      "Calculating: 37/50\n"
     ]
    },
    {
     "name": "stderr",
     "output_type": "stream",
     "text": [
      "Warn: Ipython shell catchs sys.args\n"
     ]
    },
    {
     "name": "stdout",
     "output_type": "stream",
     "text": [
      "Calculating: 38/50\n"
     ]
    },
    {
     "name": "stderr",
     "output_type": "stream",
     "text": [
      "Warn: Ipython shell catchs sys.args\n"
     ]
    },
    {
     "name": "stdout",
     "output_type": "stream",
     "text": [
      "Calculating: 39/50\n"
     ]
    },
    {
     "name": "stderr",
     "output_type": "stream",
     "text": [
      "Warn: Ipython shell catchs sys.args\n"
     ]
    },
    {
     "name": "stdout",
     "output_type": "stream",
     "text": [
      "Calculating: 40/50\n"
     ]
    },
    {
     "name": "stderr",
     "output_type": "stream",
     "text": [
      "Warn: Ipython shell catchs sys.args\n"
     ]
    },
    {
     "name": "stdout",
     "output_type": "stream",
     "text": [
      "Calculating: 41/50\n"
     ]
    },
    {
     "name": "stderr",
     "output_type": "stream",
     "text": [
      "Warn: Ipython shell catchs sys.args\n"
     ]
    },
    {
     "name": "stdout",
     "output_type": "stream",
     "text": [
      "Calculating: 42/50\n"
     ]
    },
    {
     "name": "stderr",
     "output_type": "stream",
     "text": [
      "Warn: Ipython shell catchs sys.args\n"
     ]
    },
    {
     "name": "stdout",
     "output_type": "stream",
     "text": [
      "Calculating: 43/50\n"
     ]
    },
    {
     "name": "stderr",
     "output_type": "stream",
     "text": [
      "Warn: Ipython shell catchs sys.args\n"
     ]
    },
    {
     "name": "stdout",
     "output_type": "stream",
     "text": [
      "Calculating: 44/50\n"
     ]
    },
    {
     "name": "stderr",
     "output_type": "stream",
     "text": [
      "Warn: Ipython shell catchs sys.args\n"
     ]
    },
    {
     "name": "stdout",
     "output_type": "stream",
     "text": [
      "Calculating: 45/50\n"
     ]
    },
    {
     "name": "stderr",
     "output_type": "stream",
     "text": [
      "Warn: Ipython shell catchs sys.args\n"
     ]
    },
    {
     "name": "stdout",
     "output_type": "stream",
     "text": [
      "Calculating: 46/50\n"
     ]
    },
    {
     "name": "stderr",
     "output_type": "stream",
     "text": [
      "Warn: Ipython shell catchs sys.args\n"
     ]
    },
    {
     "name": "stdout",
     "output_type": "stream",
     "text": [
      "Calculating: 47/50\n"
     ]
    },
    {
     "name": "stderr",
     "output_type": "stream",
     "text": [
      "Warn: Ipython shell catchs sys.args\n"
     ]
    },
    {
     "name": "stdout",
     "output_type": "stream",
     "text": [
      "Calculating: 48/50\n"
     ]
    },
    {
     "name": "stderr",
     "output_type": "stream",
     "text": [
      "Warn: Ipython shell catchs sys.args\n"
     ]
    },
    {
     "name": "stdout",
     "output_type": "stream",
     "text": [
      "Calculating: 49/50\n"
     ]
    },
    {
     "name": "stderr",
     "output_type": "stream",
     "text": [
      "Warn: Ipython shell catchs sys.args\n"
     ]
    },
    {
     "name": "stdout",
     "output_type": "stream",
     "text": [
      "Calculating: 50/50\n"
     ]
    }
   ],
   "source": [
    "from pyscf.scf import hf\n",
    "from SCFInitialGuess.utilities.plotutils import prediction_scatter\n",
    "\n",
    "dim = 26\n",
    "\n",
    "iterations = []\n",
    "for i, (molecule, p) in enumerate(zip(molecules_test, P_test)):\n",
    "    \n",
    "    mol = molecule.get_pyscf_molecule()\n",
    "    \n",
    "    \n",
    "    print(\"Calculating: \" + str(i + 1) + \"/\" + str(len(molecules_test)))\n",
    "    \n",
    "    # nn guess\n",
    "    s = hf.get_ovlp(mol).reshape(1, dim**2)\n",
    "    s = Dataset.normalize(s, mean=dataset.x_mean, std=dataset.x_std)[0]\n",
    "    \n",
    "    with graph_orig.as_default():\n",
    "        P_orig = network_orig.run(sess_orig, s).reshape(dim, dim).astype('float64')\n",
    "        \n",
    "    with graph_idem.as_default():\n",
    "        P_idem = network_idem.run(sess_idem, s).reshape(dim, dim).astype('float64')\n",
    "    \n",
    "    with graph_sym.as_default():\n",
    "        P_sym = network_sym.run(sess_sym, s).reshape(dim, dim).astype('float64')\n",
    "    \n",
    "    \n",
    "    # P_actual wi noise\n",
    "    p_noise = p.reshape(dim, dim) + np.random.randn(dim, dim) * 1e-4\n",
    "    \n",
    "    \n",
    "    iterations_molecule = []\n",
    "    for guess in [p_noise, P_orig, P_idem, P_sym]:\n",
    "        \n",
    "        mf = hf.RHF(mol)\n",
    "        mf.diis = None\n",
    "        mf.verbose = 1\n",
    "        mf.kernel(dm0=guess)\n",
    "        iterations_molecule.append(mf.iterations)\n",
    "    \n",
    "    iterations.append(iterations_molecule)\n",
    "\n",
    "iterations = np.array(iterations)"
   ]
  },
  {
   "cell_type": "code",
   "execution_count": 30,
   "metadata": {},
   "outputs": [
    {
     "name": "stdout",
     "output_type": "stream",
     "text": [
      "[  5.56  13.84  21.1   15.82]\n"
     ]
    }
   ],
   "source": [
    "print(np.mean(iterations,0))"
   ]
  },
  {
   "cell_type": "code",
   "execution_count": 31,
   "metadata": {},
   "outputs": [
    {
     "data": {
      "image/png": "[encoded data removed]",
      "text/plain": [
       "<matplotlib.figure.Figure at 0x7faaa0d29080>"
      ]
     },
     "metadata": {},
     "output_type": "display_data"
    }
   ],
   "source": [
    "\n",
    "bins = 20 # todo hier kann man auch ein array angeben\n",
    "\n",
    "for i, name in enumerate(['noise', 'orig', 'hermit', 'idempotent']):\n",
    "    \n",
    "    hist, bins = np.histogram(iterations[:,i])\n",
    "    center = (bins[:-1] + bins[1:]) / 2\n",
    "    #axes[i].bar(center, hist, label=name)\n",
    "    plt.bar(center, hist, label=name)\n",
    "    \n",
    "plt.legend()\n",
    "plt.show()"
   ]
  },
  {
   "cell_type": "code",
   "execution_count": null,
   "metadata": {
    "collapsed": true
   },
   "outputs": [],
   "source": []
  }
 ],
 "metadata": {
  "kernelspec": {
   "display_name": "Python 3",
   "language": "python",
   "name": "python3"
  },
  "language_info": {
   "codemirror_mode": {
    "name": "ipython",
    "version": 3
   },
   "file_extension": ".py",
   "mimetype": "text/x-python",
   "name": "python",
   "nbconvert_exporter": "python",
   "pygments_lexer": "ipython3",
   "version": "3.6.2"
  }
 },
 "nbformat": 4,
 "nbformat_minor": 2
}
