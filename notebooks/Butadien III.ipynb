{
 "cells": [
  {
   "cell_type": "code",
   "execution_count": 1,
   "metadata": {},
   "outputs": [
    {
     "name": "stderr",
     "output_type": "stream",
     "text": [
      "/home/jo/anaconda3/lib/python3.6/site-packages/h5py/__init__.py:36: FutureWarning: Conversion of the second argument of issubdtype from `float` to `np.floating` is deprecated. In future, it will be treated as `np.float64 == np.dtype(float).type`.\n",
      "  from ._conv import register_converters as _register_converters\n"
     ]
    }
   ],
   "source": [
    "import numpy as np\n",
    "import matplotlib.pyplot as plt\n",
    "import tensorflow as tf"
   ]
  },
  {
   "cell_type": "code",
   "execution_count": 2,
   "metadata": {},
   "outputs": [
    {
     "name": "stdout",
     "output_type": "stream",
     "text": [
      "[-] 2018-03-20 15:10:18: Data set initialized. Mean value std: 0.00872792525661018\n"
     ]
    }
   ],
   "source": [
    "from SCFInitialGuess.utilities.dataset import Dataset\n",
    "\n",
    "S, P = np.load(\"butadien/dataset.npy\")\n",
    "dim = 26\n",
    "dataset = Dataset(S, P)"
   ]
  },
  {
   "cell_type": "markdown",
   "metadata": {},
   "source": [
    "## Plot utuls"
   ]
  },
  {
   "cell_type": "code",
   "execution_count": 23,
   "metadata": {},
   "outputs": [
    {
     "data": {
      "image/png": "[encoded data removed]",
      "text/plain": [
       "<matplotlib.figure.Figure at 0x7f373abafbe0>"
      ]
     },
     "metadata": {},
     "output_type": "display_data"
    },
    {
     "data": {
      "image/png": "[encoded data removed]",
      "text/plain": [
       "<matplotlib.figure.Figure at 0x7f373a3c8be0>"
      ]
     },
     "metadata": {},
     "output_type": "display_data"
    }
   ],
   "source": [
    "import seaborn as sns\n",
    "import matplotlib.pyplot as plt\n",
    "\n",
    "cmap = plt.get_cmap('PuRd')# oder RdPu\n",
    "\n",
    "def matrix_error(error, xlabel=\"index\", ylabel=\"index\", **kwargs):\n",
    "    \n",
    "    ax = sns.heatmap(error, **kwargs)\n",
    "    ax.set_xlabel(xlabel)\n",
    "    ax.set_ylabel(ylabel)\n",
    "    return ax\n",
    "    \n",
    "\n",
    "def prediction_scatter(actual, predicted):\n",
    "    fig = plt.figure()\n",
    "    sns.regplot(x=actual, y=predicted)\n",
    "    \n",
    "matrix_error(np.random.rand(10, 10))\n",
    "x = np.random.rand(100) * 2\n",
    "y = x + np.cos(x)*2\n",
    "prediction_scatter(x, y)\n",
    "\n",
    "plt.show()\n"
   ]
  },
  {
   "cell_type": "markdown",
   "metadata": {},
   "source": [
    "## Training different costs"
   ]
  },
  {
   "cell_type": "code",
   "execution_count": 38,
   "metadata": {},
   "outputs": [
    {
     "name": "stdout",
     "output_type": "stream",
     "text": [
      "[-] 2018-03-20 15:45:43: No target graph specified for Trainer setup. Creating new graph ...\n",
      "[-] 2018-03-20 15:45:43: Setting up the training in the target graph ...\n",
      "[-] 2018-03-20 15:45:43: network ...\n",
      "[-] 2018-03-20 15:45:43: error function ...\n",
      "[-] 2018-03-20 15:45:43: cost function ...\n",
      "[-] 2018-03-20 15:45:43: training step\n",
      "[-] 2018-03-20 15:45:44: Starting network training ...\n",
      "[ ] 2018-03-20 15:45:44: Validation cost: 5.78083E-02. Diff to prev.: 1.0E+10\n",
      "[ ] 2018-03-20 15:45:44: Validation cost: 6.10391E-05. Diff to prev.: 5.8E-02\n",
      "[ ] 2018-03-20 15:45:45: Validation cost: 2.19108E-05. Diff to prev.: 3.9E-05\n",
      "[ ] 2018-03-20 15:45:45: Validation cost: 1.30595E-05. Diff to prev.: 8.9E-06\n",
      "[ ] 2018-03-20 15:45:46: Validation cost: 1.09741E-05. Diff to prev.: 2.1E-06\n",
      "[ ] 2018-03-20 15:45:47: Validation cost: 1.21171E-05. Diff to prev.: 1.1E-06\n",
      "[ ] 2018-03-20 15:45:47: Validation cost: 2.93813E-05. Diff to prev.: 1.7E-05\n",
      "[ ] 2018-03-20 15:45:48: Validation cost: 7.93677E-06. Diff to prev.: 2.1E-05\n",
      "[ ] 2018-03-20 15:45:48: Validation cost: 7.50744E-06. Diff to prev.: 4.3E-07\n",
      "[ ] 2018-03-20 15:45:49: Validation cost: 1.83938E-05. Diff to prev.: 1.1E-05\n",
      "[ ] 2018-03-20 15:45:49: Validation cost: 4.00756E-06. Diff to prev.: 1.4E-05\n",
      "[-] 2018-03-20 15:45:50: Convergence reached after 2200 steps.\n",
      "[-] 2018-03-20 15:45:50: Test error: 3.73661E-06\n"
     ]
    }
   ],
   "source": [
    "from SCFInitialGuess.nn.networks import EluTrNNN\n",
    "from SCFInitialGuess.nn.training import Trainer, RegularizedMSE\n",
    "\n",
    "trainer = Trainer(\n",
    "    EluTrNNN([dim**2, 200, 100, dim**2]),\n",
    "    cost_function=RegularizedMSE(alpha=1e-7)\n",
    ")\n",
    "\n",
    "trainer.setup()\n",
    "network_orig, sess_orig = trainer.train(\n",
    "    dataset,\n",
    "    convergence_threshold=1e-7\n",
    ")\n",
    "graph_orig = trainer.graph"
   ]
  },
  {
   "cell_type": "markdown",
   "metadata": {},
   "source": [
    "### Enforce hermiticity"
   ]
  },
  {
   "cell_type": "code",
   "execution_count": 46,
   "metadata": {},
   "outputs": [
    {
     "name": "stdout",
     "output_type": "stream",
     "text": [
      "[-] 2018-03-20 15:50:16: No target graph specified for Trainer setup. Creating new graph ...\n",
      "[-] 2018-03-20 15:50:16: Setting up the training in the target graph ...\n",
      "[-] 2018-03-20 15:50:16: network ...\n",
      "[-] 2018-03-20 15:50:16: error function ...\n",
      "[-] 2018-03-20 15:50:16: cost function ...\n",
      "[-] 2018-03-20 15:50:16: training step\n",
      "[-] 2018-03-20 15:50:16: Starting network training ...\n",
      "[ ] 2018-03-20 15:50:16: Validation cost: 5.81171E-02. Diff to prev.: 1.0E+10\n",
      "[ ] 2018-03-20 15:50:16: Validation cost: 6.01942E-05. Diff to prev.: 5.8E-02\n",
      "[ ] 2018-03-20 15:50:17: Validation cost: 2.26937E-05. Diff to prev.: 3.8E-05\n",
      "[ ] 2018-03-20 15:50:18: Validation cost: 1.28039E-05. Diff to prev.: 9.9E-06\n",
      "[ ] 2018-03-20 15:50:18: Validation cost: 1.18376E-05. Diff to prev.: 9.7E-07\n",
      "[ ] 2018-03-20 15:50:19: Validation cost: 1.54315E-05. Diff to prev.: 3.6E-06\n",
      "[ ] 2018-03-20 15:50:19: Validation cost: 9.14064E-06. Diff to prev.: 6.3E-06\n",
      "[ ] 2018-03-20 15:50:20: Validation cost: 9.46398E-06. Diff to prev.: 3.2E-07\n",
      "[ ] 2018-03-20 15:50:21: Validation cost: 7.28127E-06. Diff to prev.: 2.2E-06\n",
      "[ ] 2018-03-20 15:50:21: Validation cost: 7.06151E-06. Diff to prev.: 2.2E-07\n",
      "[ ] 2018-03-20 15:50:22: Validation cost: 4.99187E-06. Diff to prev.: 2.1E-06\n",
      "[ ] 2018-03-20 15:50:23: Validation cost: 4.11053E-06. Diff to prev.: 8.8E-07\n",
      "[ ] 2018-03-20 15:50:23: Validation cost: 1.97087E-05. Diff to prev.: 1.6E-05\n",
      "[ ] 2018-03-20 15:50:24: Validation cost: 3.01719E-06. Diff to prev.: 1.7E-05\n",
      "[ ] 2018-03-20 15:50:24: Validation cost: 2.53720E-06. Diff to prev.: 4.8E-07\n",
      "[ ] 2018-03-20 15:50:25: Validation cost: 1.46332E-05. Diff to prev.: 1.2E-05\n",
      "[ ] 2018-03-20 15:50:26: Validation cost: 5.04296E-06. Diff to prev.: 9.6E-06\n",
      "[ ] 2018-03-20 15:50:26: Validation cost: 2.75040E-06. Diff to prev.: 2.3E-06\n",
      "[ ] 2018-03-20 15:50:27: Validation cost: 2.24708E-06. Diff to prev.: 5.0E-07\n",
      "[ ] 2018-03-20 15:50:27: Validation cost: 5.14632E-06. Diff to prev.: 2.9E-06\n",
      "[ ] 2018-03-20 15:50:28: Validation cost: 4.38442E-06. Diff to prev.: 7.6E-07\n",
      "[ ] 2018-03-20 15:50:29: Validation cost: 5.05936E-06. Diff to prev.: 6.7E-07\n",
      "[ ] 2018-03-20 15:50:29: Validation cost: 2.13898E-06. Diff to prev.: 2.9E-06\n",
      "[ ] 2018-03-20 15:50:30: Validation cost: 2.74189E-06. Diff to prev.: 6.0E-07\n",
      "[ ] 2018-03-20 15:50:31: Validation cost: 5.59819E-06. Diff to prev.: 2.9E-06\n",
      "[ ] 2018-03-20 15:50:31: Validation cost: 3.27064E-06. Diff to prev.: 2.3E-06\n",
      "[ ] 2018-03-20 15:50:32: Validation cost: 2.58399E-06. Diff to prev.: 6.9E-07\n",
      "[ ] 2018-03-20 15:50:32: Validation cost: 5.35273E-06. Diff to prev.: 2.8E-06\n",
      "[ ] 2018-03-20 15:50:33: Validation cost: 5.11868E-06. Diff to prev.: 2.3E-07\n",
      "[ ] 2018-03-20 15:50:34: Validation cost: 9.82192E-07. Diff to prev.: 4.1E-06\n",
      "[ ] 2018-03-20 15:50:34: Validation cost: 3.86033E-06. Diff to prev.: 2.9E-06\n",
      "[ ] 2018-03-20 15:50:35: Validation cost: 2.72378E-06. Diff to prev.: 1.1E-06\n",
      "[ ] 2018-03-20 15:50:35: Validation cost: 1.66188E-06. Diff to prev.: 1.1E-06\n",
      "[ ] 2018-03-20 15:50:36: Validation cost: 1.27055E-05. Diff to prev.: 1.1E-05\n",
      "[ ] 2018-03-20 15:50:37: Validation cost: 9.86088E-07. Diff to prev.: 1.2E-05\n",
      "[ ] 2018-03-20 15:50:37: Validation cost: 1.68665E-06. Diff to prev.: 7.0E-07\n",
      "[ ] 2018-03-20 15:50:38: Validation cost: 1.21454E-06. Diff to prev.: 4.7E-07\n",
      "[ ] 2018-03-20 15:50:39: Validation cost: 4.16193E-06. Diff to prev.: 2.9E-06\n",
      "[ ] 2018-03-20 15:50:39: Validation cost: 1.43105E-06. Diff to prev.: 2.7E-06\n",
      "[ ] 2018-03-20 15:50:40: Validation cost: 7.72561E-07. Diff to prev.: 6.6E-07\n",
      "[ ] 2018-03-20 15:50:40: Validation cost: 9.81601E-06. Diff to prev.: 9.0E-06\n",
      "[ ] 2018-03-20 15:50:41: Validation cost: 2.77789E-06. Diff to prev.: 7.0E-06\n",
      "[ ] 2018-03-20 15:50:42: Validation cost: 9.11623E-07. Diff to prev.: 1.9E-06\n",
      "[ ] 2018-03-20 15:50:42: Validation cost: 1.99261E-06. Diff to prev.: 1.1E-06\n",
      "[ ] 2018-03-20 15:50:43: Validation cost: 5.16559E-06. Diff to prev.: 3.2E-06\n",
      "[ ] 2018-03-20 15:50:44: Validation cost: 1.98958E-06. Diff to prev.: 3.2E-06\n",
      "[ ] 2018-03-20 15:50:44: Validation cost: 1.83280E-06. Diff to prev.: 1.6E-07\n",
      "[ ] 2018-03-20 15:50:45: Validation cost: 6.61836E-06. Diff to prev.: 4.8E-06\n",
      "[ ] 2018-03-20 15:50:45: Validation cost: 1.19144E-06. Diff to prev.: 5.4E-06\n",
      "[ ] 2018-03-20 15:50:46: Validation cost: 1.79954E-06. Diff to prev.: 6.1E-07\n",
      "[ ] 2018-03-20 15:50:47: Validation cost: 4.01708E-06. Diff to prev.: 2.2E-06\n",
      "[ ] 2018-03-20 15:50:47: Validation cost: 3.35304E-06. Diff to prev.: 6.6E-07\n",
      "[ ] 2018-03-20 15:50:48: Validation cost: 1.10925E-06. Diff to prev.: 2.2E-06\n",
      "[ ] 2018-03-20 15:50:49: Validation cost: 5.28280E-06. Diff to prev.: 4.2E-06\n",
      "[ ] 2018-03-20 15:50:49: Validation cost: 2.80780E-06. Diff to prev.: 2.5E-06\n",
      "[ ] 2018-03-20 15:50:50: Validation cost: 1.36322E-06. Diff to prev.: 1.4E-06\n",
      "[ ] 2018-03-20 15:50:51: Validation cost: 5.99590E-06. Diff to prev.: 4.6E-06\n",
      "[ ] 2018-03-20 15:50:51: Validation cost: 7.75684E-07. Diff to prev.: 5.2E-06\n",
      "[ ] 2018-03-20 15:50:52: Validation cost: 1.02987E-06. Diff to prev.: 2.5E-07\n",
      "[ ] 2018-03-20 15:50:53: Validation cost: 2.83441E-06. Diff to prev.: 1.8E-06\n",
      "[ ] 2018-03-20 15:50:54: Validation cost: 3.49209E-06. Diff to prev.: 6.6E-07\n",
      "[ ] 2018-03-20 15:50:54: Validation cost: 1.06020E-06. Diff to prev.: 2.4E-06\n",
      "[ ] 2018-03-20 15:50:55: Validation cost: 7.90567E-07. Diff to prev.: 2.7E-07\n",
      "[ ] 2018-03-20 15:50:55: Validation cost: 2.43895E-05. Diff to prev.: 2.4E-05\n",
      "[ ] 2018-03-20 15:50:56: Validation cost: 3.05530E-05. Diff to prev.: 6.2E-06\n",
      "[ ] 2018-03-20 15:50:57: Validation cost: 1.54236E-05. Diff to prev.: 1.5E-05\n",
      "[ ] 2018-03-20 15:50:57: Validation cost: 1.15533E-05. Diff to prev.: 3.9E-06\n",
      "[ ] 2018-03-20 15:50:58: Validation cost: 9.88134E-06. Diff to prev.: 1.7E-06\n",
      "[ ] 2018-03-20 15:50:59: Validation cost: 8.95947E-06. Diff to prev.: 9.2E-07\n",
      "[ ] 2018-03-20 15:50:59: Validation cost: 8.28172E-06. Diff to prev.: 6.8E-07\n",
      "[-] 2018-03-20 15:51:00: Convergence reached after 14000 steps.\n",
      "[-] 2018-03-20 15:51:00: Test error: 5.29844E-06\n"
     ]
    }
   ],
   "source": [
    "from SCFInitialGuess.nn.networks import EluTrNNN\n",
    "from SCFInitialGuess.nn.training import Trainer, MSE\n",
    "\n",
    "class SymmetryPenalty(MSE):\n",
    "    def __init__(self, coupling=1e-4):\n",
    "        \"\"\"alpha: coupling parameter\"\"\"\n",
    "        \n",
    "        self.coupling = coupling\n",
    "        \n",
    "    def function(self, network, y_placeholder):\n",
    "\n",
    "        error = \\\n",
    "            super(SymmetryPenalty, self).function(network, y_placeholder)\n",
    "\n",
    "        penalty = self.symmetry_measure(network.output_tensor) * self.coupling\n",
    "\n",
    "        cost = error + penalty\n",
    "\n",
    "        tf.summary.scalar(\"symmetry_penalty\", penalty)\n",
    "        tf.summary.scalar(\"total_loss\", cost)\n",
    "\n",
    "        return cost\n",
    "    \n",
    "    def symmetry_measure(self, output_tensor):\n",
    "        \n",
    "        reshaped = tf.reshape(output_tensor, [-1, dim, dim])\n",
    "        transposed = tf.matrix_transpose(reshaped)\n",
    "        return tf.norm(reshaped - transposed, axis=(1,2))\n",
    "\n",
    "    \n",
    "trainer_sym = Trainer(\n",
    "    EluTrNNN([dim**2, 200, 100, dim**2]),\n",
    "    cost_function=SymmetryPenalty(coupling=1e-7)\n",
    ")\n",
    "\n",
    "trainer_sym.setup()\n",
    "network_sym, sess_sym = trainer_sym.train(\n",
    "    dataset,\n",
    "    convergence_threshold=5e-8\n",
    ")\n",
    "graph_sym = trainer_sym.graph\n",
    "        "
   ]
  },
  {
   "cell_type": "markdown",
   "metadata": {},
   "source": [
    "### Enforce idempotency"
   ]
  },
  {
   "cell_type": "code",
   "execution_count": 56,
   "metadata": {},
   "outputs": [
    {
     "name": "stdout",
     "output_type": "stream",
     "text": [
      "[-] 2018-03-20 15:59:40: No target graph specified for Trainer setup. Creating new graph ...\n",
      "[-] 2018-03-20 15:59:40: Setting up the training in the target graph ...\n",
      "[-] 2018-03-20 15:59:40: network ...\n",
      "[-] 2018-03-20 15:59:40: error function ...\n",
      "[-] 2018-03-20 15:59:40: cost function ...\n",
      "[-] 2018-03-20 15:59:41: training step\n",
      "[-] 2018-03-20 15:59:41: Starting network training ...\n",
      "[ ] 2018-03-20 15:59:41: Validation cost: 5.79574E-02. Diff to prev.: 1.0E+10\n",
      "[ ] 2018-03-20 15:59:41: Validation cost: 6.55573E-05. Diff to prev.: 5.8E-02\n",
      "[ ] 2018-03-20 15:59:42: Validation cost: 2.27925E-05. Diff to prev.: 4.3E-05\n",
      "[ ] 2018-03-20 15:59:42: Validation cost: 1.70403E-05. Diff to prev.: 5.8E-06\n",
      "[ ] 2018-03-20 15:59:43: Validation cost: 1.44913E-05. Diff to prev.: 2.5E-06\n",
      "[ ] 2018-03-20 15:59:43: Validation cost: 4.61338E-05. Diff to prev.: 3.2E-05\n",
      "[ ] 2018-03-20 15:59:44: Validation cost: 1.17468E-05. Diff to prev.: 3.4E-05\n",
      "[ ] 2018-03-20 15:59:44: Validation cost: 9.46924E-06. Diff to prev.: 2.3E-06\n",
      "[ ] 2018-03-20 15:59:45: Validation cost: 8.73786E-06. Diff to prev.: 7.3E-07\n",
      "[ ] 2018-03-20 15:59:46: Validation cost: 7.31267E-06. Diff to prev.: 1.4E-06\n",
      "[ ] 2018-03-20 15:59:46: Validation cost: 3.15634E-05. Diff to prev.: 2.4E-05\n",
      "[ ] 2018-03-20 15:59:47: Validation cost: 5.29073E-06. Diff to prev.: 2.6E-05\n",
      "[ ] 2018-03-20 15:59:47: Validation cost: 5.39676E-06. Diff to prev.: 1.1E-07\n",
      "[ ] 2018-03-20 15:59:48: Validation cost: 4.88869E-06. Diff to prev.: 5.1E-07\n",
      "[-] 2018-03-20 15:59:48: Convergence reached after 2800 steps.\n",
      "[-] 2018-03-20 15:59:48: Test error: 3.80381E-06\n"
     ]
    }
   ],
   "source": [
    "from SCFInitialGuess.nn.networks import EluTrNNN\n",
    "from SCFInitialGuess.nn.training import Trainer, MSE\n",
    "\n",
    "class IdempotencyPenalty(MSE):\n",
    "    def __init__(self, coupling=1e-4):\n",
    "        \n",
    "        self.coupling = coupling\n",
    "        \n",
    "    def function(self, network, y_placeholder):\n",
    "\n",
    "        error = \\\n",
    "            super(IdempotencyPenalty, self).function(network, y_placeholder)\n",
    "\n",
    "        penalty = self.idempotency_measure(network.output_tensor) * self.coupling\n",
    "\n",
    "        cost = error + penalty\n",
    "\n",
    "        tf.summary.scalar(\"symmetry_penalty\", penalty)\n",
    "        tf.summary.scalar(\"total_loss\", cost)\n",
    "\n",
    "        return cost\n",
    "    \n",
    "    def idempotency_measure(self, output_tensor):\n",
    "        \n",
    "        reshaped = tf.reshape(output_tensor, [-1, dim, dim])\n",
    "        squared = tf.matmul(reshaped, reshaped)\n",
    "        \n",
    "        return tf.norm(reshaped - squared, axis=(1,2))\n",
    "\n",
    "    \n",
    "trainer = Trainer(\n",
    "    EluTrNNN([dim**2, 200, 100, dim**2]),\n",
    "    cost_function=IdempotencyPenalty(coupling=1e-7)\n",
    ")\n",
    "\n",
    "trainer.setup()\n",
    "network_idem, sess_idem = trainer.train(\n",
    "    dataset,\n",
    "    convergence_threshold=5e-8\n",
    ")\n",
    "graph_idem = trainer.graph"
   ]
  },
  {
   "cell_type": "code",
   "execution_count": null,
   "metadata": {},
   "outputs": [],
   "source": [
    "from SCFInitialGuess.nn.networks import EluTrNNN\n",
    "from SCFInitialGuess.nn.training import Trainer, MSE\n",
    "\n",
    "class IntervalPenalty(MSE):\n",
    "    def __init__(self, coupling=1e-4):\n",
    "        \n",
    "        self.coupling = coupling\n",
    "        \n",
    "    def function(self, network, y_placeholder):\n",
    "\n",
    "        error = \\\n",
    "            super(IntervalPenalty, self).function(network, y_placeholder)\n",
    "\n",
    "        penalty = self.idempotency_measure(network.output_tensor) * self.coupling\n",
    "\n",
    "        cost = error + penalty\n",
    "\n",
    "        tf.summary.scalar(\"symmetry_penalty\", penalty)\n",
    "        tf.summary.scalar(\"total_loss\", cost)\n",
    "\n",
    "        return cost\n",
    "    \n",
    "    def idempotency_measure(self, output_tensor):\n",
    "        \n",
    "        output_tensor += (tf.sigmn(tf.abs(output_tensor)) + 1) * pow(output_tensor, 4)\n",
    "        \n",
    "        return tf.norm(reshaped - squared, axis=(1,2))\n",
    "\n",
    "    \n",
    "trainer = Trainer(\n",
    "    EluTrNNN([dim**2, 200, 100, dim**2]),\n",
    "    cost_function=IntervalPenalty(coupling=1e-7)\n",
    ")\n",
    "\n",
    "trainer.setup()\n",
    "network_int, sess_int = trainer.train(\n",
    "    dataset,\n",
    "    convergence_threshold=5e-8\n",
    ")\n",
    "graph_int = trainer.graph"
   ]
  },
  {
   "cell_type": "markdown",
   "metadata": {},
   "source": [
    "## Analysis"
   ]
  },
  {
   "cell_type": "code",
   "execution_count": 61,
   "metadata": {},
   "outputs": [
    {
     "data": {
      "text/plain": [
       "<matplotlib.legend.Legend at 0x7f372b192fd0>"
      ]
     },
     "execution_count": 61,
     "metadata": {},
     "output_type": "execute_result"
    },
    {
     "data": {
      "image/png": "[encoded data removed]",
      "text/plain": [
       "<matplotlib.figure.Figure at 0x7f373ba64f60>"
      ]
     },
     "metadata": {},
     "output_type": "display_data"
    }
   ],
   "source": [
    "with graph_orig.as_default():\n",
    "    plt.scatter(\n",
    "        x=dataset.testing[1],\n",
    "        y=network_orig.run(sess_orig, dataset.testing[0]),\n",
    "        label=\"orig\"\n",
    "    )\n",
    "    \n",
    "with graph_idem.as_default():\n",
    "    plt.scatter(\n",
    "        x=dataset.testing[1],\n",
    "        y=network_idem.run(sess_idem, dataset.testing[0]),\n",
    "        label=\"idempotent\"\n",
    "    )\n",
    "    \n",
    "\n",
    "with graph_sym.as_default():\n",
    "    plt.scatter(\n",
    "        x=dataset.testing[1],\n",
    "        y=network_sym.run(sess_sym, dataset.testing[0]),\n",
    "        label=\"hermit\"\n",
    "    )\n",
    "\n",
    "lower = 1.8\n",
    "upper = 2.2\n",
    "plt.xlim([lower, upper])\n",
    "plt.ylim([lower, upper])\n",
    "    \n",
    "\n",
    "plt.legend()"
   ]
  },
  {
   "cell_type": "code",
   "execution_count": null,
   "metadata": {},
   "outputs": [],
   "source": []
  }
 ],
 "metadata": {
  "kernelspec": {
   "display_name": "Python 3",
   "language": "python",
   "name": "python3"
  },
  "language_info": {
   "codemirror_mode": {
    "name": "ipython",
    "version": 3
   },
   "file_extension": ".py",
   "mimetype": "text/x-python",
   "name": "python",
   "nbconvert_exporter": "python",
   "pygments_lexer": "ipython3",
   "version": "3.6.4"
  }
 },
 "nbformat": 4,
 "nbformat_minor": 2
}
