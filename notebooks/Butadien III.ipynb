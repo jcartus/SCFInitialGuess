{
 "cells": [
  {
   "cell_type": "code",
   "execution_count": 1,
   "metadata": {},
   "outputs": [],
   "source": [
    "import numpy as np\n",
    "import matplotlib.pyplot as plt\n",
    "import tensorflow as tf"
   ]
  },
  {
   "cell_type": "code",
   "execution_count": 2,
   "metadata": {},
   "outputs": [
    {
     "name": "stdout",
     "output_type": "stream",
     "text": [
      "Fetching: 1/200\n",
      "Fetching: 2/200\n",
      "Fetching: 3/200\n",
      "Fetching: 4/200\n",
      "Fetching: 5/200\n",
      "Fetching: 6/200\n",
      "Fetching: 7/200\n",
      "Fetching: 8/200\n",
      "Fetching: 9/200\n",
      "Fetching: 10/200\n",
      "Fetching: 11/200\n",
      "Fetching: 12/200\n",
      "Fetching: 13/200\n",
      "Fetching: 14/200\n",
      "Fetching: 15/200\n",
      "Fetching: 16/200\n",
      "Fetching: 17/200\n",
      "Fetching: 18/200\n",
      "Fetching: 19/200\n",
      "Fetching: 20/200\n",
      "Fetching: 21/200\n",
      "Fetching: 22/200\n",
      "Fetching: 23/200\n",
      "Fetching: 24/200\n",
      "Fetching: 25/200\n",
      "Fetching: 26/200\n",
      "Fetching: 27/200\n",
      "Fetching: 28/200\n",
      "Fetching: 29/200\n",
      "Fetching: 30/200\n",
      "Fetching: 31/200\n",
      "Fetching: 32/200\n",
      "Fetching: 33/200\n",
      "Fetching: 34/200\n",
      "Fetching: 35/200\n",
      "Fetching: 36/200\n",
      "Fetching: 37/200\n",
      "Fetching: 38/200\n",
      "Fetching: 39/200\n",
      "Fetching: 40/200\n",
      "Fetching: 41/200\n",
      "Fetching: 42/200\n",
      "Fetching: 43/200\n",
      "Fetching: 44/200\n",
      "Fetching: 45/200\n",
      "Fetching: 46/200\n",
      "Fetching: 47/200\n",
      "Fetching: 48/200\n",
      "Fetching: 49/200\n",
      "Fetching: 50/200\n",
      "Fetching: 51/200\n",
      "Fetching: 52/200\n",
      "Fetching: 53/200\n",
      "Fetching: 54/200\n",
      "Fetching: 55/200\n",
      "Fetching: 56/200\n",
      "Fetching: 57/200\n",
      "Fetching: 58/200\n",
      "Fetching: 59/200\n",
      "Fetching: 60/200\n",
      "Fetching: 61/200\n",
      "Fetching: 62/200\n",
      "Fetching: 63/200\n",
      "Fetching: 64/200\n",
      "Fetching: 65/200\n",
      "Fetching: 66/200\n",
      "Fetching: 67/200\n",
      "Fetching: 68/200\n",
      "Fetching: 69/200\n",
      "Fetching: 70/200\n",
      "Fetching: 71/200\n",
      "Fetching: 72/200\n",
      "Fetching: 73/200\n",
      "Fetching: 74/200\n",
      "Fetching: 75/200\n",
      "Fetching: 76/200\n",
      "Fetching: 77/200\n",
      "Fetching: 78/200\n",
      "Fetching: 79/200\n",
      "Fetching: 80/200\n",
      "Fetching: 81/200\n",
      "Fetching: 82/200\n",
      "Fetching: 83/200\n",
      "Fetching: 84/200\n",
      "Fetching: 85/200\n",
      "Fetching: 86/200\n",
      "Fetching: 87/200\n",
      "Fetching: 88/200\n",
      "Fetching: 89/200\n",
      "Fetching: 90/200\n",
      "Fetching: 91/200\n",
      "Fetching: 92/200\n",
      "Fetching: 93/200\n",
      "Fetching: 94/200\n",
      "Fetching: 95/200\n",
      "Fetching: 96/200\n",
      "Fetching: 97/200\n",
      "Fetching: 98/200\n",
      "Fetching: 99/200\n",
      "Fetching: 100/200\n",
      "Fetching: 101/200\n",
      "Fetching: 102/200\n",
      "Fetching: 103/200\n",
      "Fetching: 104/200\n",
      "Fetching: 105/200\n",
      "Fetching: 106/200\n",
      "Fetching: 107/200\n",
      "Fetching: 108/200\n",
      "Fetching: 109/200\n",
      "Fetching: 110/200\n",
      "Fetching: 111/200\n",
      "Fetching: 112/200\n",
      "Fetching: 113/200\n",
      "Fetching: 114/200\n",
      "Fetching: 115/200\n",
      "Fetching: 116/200\n",
      "Fetching: 117/200\n",
      "Fetching: 118/200\n",
      "Fetching: 119/200\n",
      "Fetching: 120/200\n",
      "Fetching: 121/200\n",
      "Fetching: 122/200\n",
      "Fetching: 123/200\n",
      "Fetching: 124/200\n",
      "Fetching: 125/200\n",
      "Fetching: 126/200\n",
      "Fetching: 127/200\n",
      "Fetching: 128/200\n",
      "Fetching: 129/200\n",
      "Fetching: 130/200\n",
      "Fetching: 131/200\n",
      "Fetching: 132/200\n",
      "Fetching: 133/200\n",
      "Fetching: 134/200\n",
      "Fetching: 135/200\n",
      "Fetching: 136/200\n",
      "Fetching: 137/200\n",
      "Fetching: 138/200\n",
      "Fetching: 139/200\n",
      "Fetching: 140/200\n",
      "Fetching: 141/200\n",
      "Fetching: 142/200\n",
      "Fetching: 143/200\n",
      "Fetching: 144/200\n",
      "Fetching: 145/200\n",
      "Fetching: 146/200\n",
      "Fetching: 147/200\n",
      "Fetching: 148/200\n",
      "Fetching: 149/200\n",
      "Fetching: 150/200\n",
      "Fetching: 151/200\n",
      "Fetching: 152/200\n",
      "Fetching: 153/200\n",
      "Fetching: 154/200\n",
      "Fetching: 155/200\n",
      "Fetching: 156/200\n",
      "Fetching: 157/200\n",
      "Fetching: 158/200\n",
      "Fetching: 159/200\n",
      "Fetching: 160/200\n",
      "Fetching: 161/200\n",
      "Fetching: 162/200\n",
      "Fetching: 163/200\n",
      "Fetching: 164/200\n",
      "Fetching: 165/200\n",
      "Fetching: 166/200\n",
      "Fetching: 167/200\n",
      "Fetching: 168/200\n",
      "Fetching: 169/200\n",
      "Fetching: 170/200\n",
      "Fetching: 171/200\n",
      "Fetching: 172/200\n",
      "Fetching: 173/200\n",
      "Fetching: 174/200\n",
      "Fetching: 175/200\n",
      "Fetching: 176/200\n",
      "Fetching: 177/200\n",
      "Fetching: 178/200\n",
      "Fetching: 179/200\n",
      "Fetching: 180/200\n",
      "Fetching: 181/200\n",
      "Fetching: 182/200\n",
      "Fetching: 183/200\n",
      "Fetching: 184/200\n",
      "Fetching: 185/200\n",
      "Fetching: 186/200\n",
      "Fetching: 187/200\n",
      "Fetching: 188/200\n",
      "Fetching: 189/200\n",
      "Fetching: 190/200\n",
      "Fetching: 191/200\n",
      "Fetching: 192/200\n",
      "Fetching: 193/200\n",
      "Fetching: 194/200\n",
      "Fetching: 195/200\n",
      "Fetching: 196/200\n",
      "Fetching: 197/200\n",
      "Fetching: 198/200\n",
      "Fetching: 199/200\n",
      "Fetching: 200/200\n"
     ]
    }
   ],
   "source": [
    "from os import listdir\n",
    "from os.path import join\n",
    "\n",
    "from SCFInitialGuess.utilities import Molecule\n",
    "\n",
    "def grep_molecule(input_file):\n",
    "    import re\n",
    "    \n",
    "    with open(input_file) as f:\n",
    "            \n",
    "        molecule = re.search(r\"\\$molecule.*\\$end\", f.read(), re.DOTALL)\n",
    "        if molecule is None:\n",
    "            raise ValueError(\"No molecule found in \" + f.name)\n",
    "        else:\n",
    "            molecule = molecule.group(0)\n",
    "\n",
    "            # cut out geometries\n",
    "            geometries = molecule.splitlines()[2:-1]\n",
    "\n",
    "    # from geometries take the species and positions\n",
    "    species, positions = [], []\n",
    "    for line in geometries:\n",
    "        splits = line.split()\n",
    "        species.append(splits[0])\n",
    "        positions.append(splits[1:])\n",
    "\n",
    "    return species, positions\n",
    "\n",
    "def fetch_molecules(folder):\n",
    "    \n",
    "    files = [file for file in listdir(folder) if \".inp\" in file]\n",
    "    \n",
    "    for i, file in enumerate(files):\n",
    "        \n",
    "        print(\"Fetching: \" + str(i + 1) + \"/\" + str(len(files)))\n",
    "\n",
    "        mol = Molecule(*grep_molecule(join(folder, file)))\n",
    "        \n",
    "        mol.basis = \"sto-3g\"\n",
    "        \n",
    "        yield mol\n",
    "        \n",
    "        \n",
    "molecules = list(fetch_molecules(\"butadien/data\"))"
   ]
  },
  {
   "cell_type": "code",
   "execution_count": 6,
   "metadata": {},
   "outputs": [
    {
     "name": "stdout",
     "output_type": "stream",
     "text": [
      "[-] 2018-03-20 17:36:50: Data set initialized. Mean value std: 0.008719936362488592\n"
     ]
    }
   ],
   "source": [
    "from SCFInitialGuess.utilities.dataset import Dataset\n",
    "\n",
    "S, P = np.load(\"butadien/dataset.npy\")\n",
    "\n",
    "dim = 26\n",
    "\n",
    "ind_cut = 150\n",
    "index = np.arange(200)\n",
    "np.random.shuffle(index)\n",
    "\n",
    "S_test = np.array(S)[index[150:]]\n",
    "P_test = np.array(P)[index[150:]]\n",
    "molecules_test = [molecules[index[i]] for i in range(150, 200)]\n",
    "\n",
    "S_train = np.array(S)[index[:150]]\n",
    "P_train = np.array(P)[index[:150]]\n",
    "molecules_train = [molecules[index[i]] for i in range(150)]\n",
    "\n",
    "dataset = Dataset(np.array(S_train), np.array(P_train), split_test=0.0)\n",
    "\n",
    "dataset.testing = (Dataset.normalize(S_test, mean=dataset.x_mean, std=dataset.x_std)[0], P_test)"
   ]
  },
  {
   "cell_type": "markdown",
   "metadata": {},
   "source": [
    "## Plot utuls"
   ]
  },
  {
   "cell_type": "code",
   "execution_count": 7,
   "metadata": {},
   "outputs": [
    {
     "data": {
      "image/png": "[encoded data removed]",
      "text/plain": [
       "<matplotlib.figure.Figure at 0x7f91d324e4a8>"
      ]
     },
     "metadata": {},
     "output_type": "display_data"
    },
    {
     "data": {
      "image/png": "[encoded data removed]",
      "text/plain": [
       "<matplotlib.figure.Figure at 0x7f91c40b7b38>"
      ]
     },
     "metadata": {},
     "output_type": "display_data"
    }
   ],
   "source": [
    "import seaborn as sns\n",
    "import matplotlib.pyplot as plt\n",
    "\n",
    "cmap = plt.get_cmap('PuRd')# oder RdPu\n",
    "\n",
    "def matrix_error(error, xlabel=\"index\", ylabel=\"index\", **kwargs):\n",
    "    \n",
    "    ax = sns.heatmap(error, **kwargs)\n",
    "    ax.set_xlabel(xlabel)\n",
    "    ax.set_ylabel(ylabel)\n",
    "    return ax\n",
    "    \n",
    "\n",
    "def prediction_scatter(actual, predicted):\n",
    "    fig = plt.figure()\n",
    "    sns.regplot(x=actual, y=predicted)\n",
    "    \n",
    "matrix_error(np.random.rand(10, 10))\n",
    "x = np.random.rand(100) * 2\n",
    "y = x + np.cos(x)*2\n",
    "prediction_scatter(x, y)\n",
    "\n",
    "plt.show()\n"
   ]
  },
  {
   "cell_type": "markdown",
   "metadata": {},
   "source": [
    "## Training different costs"
   ]
  },
  {
   "cell_type": "code",
   "execution_count": 8,
   "metadata": {},
   "outputs": [
    {
     "name": "stdout",
     "output_type": "stream",
     "text": [
      "[-] 2018-03-20 17:36:57: No target graph specified for Trainer setup. Creating new graph ...\n",
      "[-] 2018-03-20 17:36:57: Setting up the training in the target graph ...\n",
      "[-] 2018-03-20 17:36:57: network ...\n",
      "[-] 2018-03-20 17:36:57: error function ...\n",
      "[-] 2018-03-20 17:36:57: cost function ...\n",
      "[-] 2018-03-20 17:37:07: training step\n",
      "[-] 2018-03-20 17:37:07: Starting network training ...\n",
      "[ ] 2018-03-20 17:37:07: Validation cost: 5.77736E-02. Diff to prev.: 1.0E+10\n",
      "[ ] 2018-03-20 17:37:09: Validation cost: 6.30403E-05. Diff to prev.: 5.8E-02\n",
      "[ ] 2018-03-20 17:37:10: Validation cost: 2.00180E-05. Diff to prev.: 4.3E-05\n",
      "[ ] 2018-03-20 17:37:11: Validation cost: 1.23520E-05. Diff to prev.: 7.7E-06\n",
      "[ ] 2018-03-20 17:37:12: Validation cost: 1.04087E-05. Diff to prev.: 1.9E-06\n",
      "[ ] 2018-03-20 17:37:13: Validation cost: 9.71161E-06. Diff to prev.: 7.0E-07\n",
      "[ ] 2018-03-20 17:37:14: Validation cost: 9.58987E-06. Diff to prev.: 1.2E-07\n",
      "[ ] 2018-03-20 17:37:15: Validation cost: 1.42761E-05. Diff to prev.: 4.7E-06\n",
      "[ ] 2018-03-20 17:37:16: Validation cost: 9.62326E-06. Diff to prev.: 4.7E-06\n",
      "[ ] 2018-03-20 17:37:17: Validation cost: 7.72453E-06. Diff to prev.: 1.9E-06\n",
      "[ ] 2018-03-20 17:37:18: Validation cost: 6.46265E-06. Diff to prev.: 1.3E-06\n",
      "[ ] 2018-03-20 17:37:19: Validation cost: 5.39805E-06. Diff to prev.: 1.1E-06\n",
      "[ ] 2018-03-20 17:37:20: Validation cost: 4.71892E-06. Diff to prev.: 6.8E-07\n",
      "[ ] 2018-03-20 17:37:21: Validation cost: 8.85321E-06. Diff to prev.: 4.1E-06\n",
      "[ ] 2018-03-20 17:37:22: Validation cost: 2.73073E-06. Diff to prev.: 6.1E-06\n",
      "[ ] 2018-03-20 17:37:23: Validation cost: 3.45019E-06. Diff to prev.: 7.2E-07\n",
      "[ ] 2018-03-20 17:37:24: Validation cost: 4.60704E-06. Diff to prev.: 1.2E-06\n",
      "[ ] 2018-03-20 17:37:25: Validation cost: 3.60977E-06. Diff to prev.: 1.0E-06\n",
      "[ ] 2018-03-20 17:37:26: Validation cost: 2.92582E-06. Diff to prev.: 6.8E-07\n",
      "[-] 2018-03-20 17:37:27: Convergence reached after 3800 steps.\n",
      "[-] 2018-03-20 17:37:27: Test error: 3.44403E-06\n"
     ]
    }
   ],
   "source": [
    "from SCFInitialGuess.nn.networks import EluTrNNN\n",
    "from SCFInitialGuess.nn.training import Trainer, RegularizedMSE\n",
    "\n",
    "trainer = Trainer(\n",
    "    EluTrNNN([dim**2, 200, 100, dim**2]),\n",
    "    cost_function=RegularizedMSE(alpha=1e-7)\n",
    ")\n",
    "\n",
    "trainer.setup()\n",
    "network_orig, sess_orig = trainer.train(\n",
    "    dataset,\n",
    "    convergence_threshold=1e-7\n",
    ")\n",
    "graph_orig = trainer.graph"
   ]
  },
  {
   "cell_type": "markdown",
   "metadata": {},
   "source": [
    "### Check symmetry"
   ]
  },
  {
   "cell_type": "code",
   "execution_count": 44,
   "metadata": {},
   "outputs": [
    {
     "name": "stdout",
     "output_type": "stream",
     "text": [
      "0.000847183\n"
     ]
    },
    {
     "data": {
      "image/png": "[encoded data removed]",
      "text/plain": [
       "<matplotlib.figure.Figure at 0x7f91c82b41d0>"
      ]
     },
     "metadata": {},
     "output_type": "display_data"
    }
   ],
   "source": [
    "with graph_orig.as_default():\n",
    "    reshaped = tf.reshape(network_orig.output_tensor, [-1, dim, dim])\n",
    "    transposed = tf.matrix_transpose(reshaped)\n",
    "    diff_mean = tf.reduce_mean(tf.abs(reshaped - transposed), axis=0)\n",
    "    error = sess_orig.run(diff_mean, {network_orig.input_tensor: dataset.testing[0]})\n",
    "    \n",
    "    matrix_error(error)\n",
    "    print(np.mean(error))\n",
    "\n",
    "plt.show()"
   ]
  },
  {
   "cell_type": "markdown",
   "metadata": {},
   "source": [
    "### Enforce hermiticity"
   ]
  },
  {
   "cell_type": "code",
   "execution_count": 47,
   "metadata": {},
   "outputs": [
    {
     "name": "stdout",
     "output_type": "stream",
     "text": [
      "[-] 2018-03-20 18:06:01: No target graph specified for Trainer setup. Creating new graph ...\n",
      "[-] 2018-03-20 18:06:01: Setting up the training in the target graph ...\n",
      "[-] 2018-03-20 18:06:01: network ...\n",
      "[-] 2018-03-20 18:06:01: error function ...\n",
      "[-] 2018-03-20 18:06:01: cost function ...\n",
      "[-] 2018-03-20 18:06:01: training step\n",
      "[-] 2018-03-20 18:06:01: Starting network training ...\n",
      "[ ] 2018-03-20 18:06:01: Validation cost: 5.78929E-02. Diff to prev.: 1.0E+10\n",
      "[ ] 2018-03-20 18:06:02: Validation cost: 8.91509E-05. Diff to prev.: 5.8E-02\n",
      "[ ] 2018-03-20 18:06:03: Validation cost: 3.86314E-05. Diff to prev.: 5.1E-05\n",
      "[ ] 2018-03-20 18:06:04: Validation cost: 3.34309E-05. Diff to prev.: 5.2E-06\n",
      "[ ] 2018-03-20 18:06:06: Validation cost: 2.94060E-05. Diff to prev.: 4.0E-06\n",
      "[ ] 2018-03-20 18:06:07: Validation cost: 4.85027E-05. Diff to prev.: 1.9E-05\n",
      "[ ] 2018-03-20 18:06:08: Validation cost: 2.39561E-05. Diff to prev.: 2.5E-05\n",
      "[ ] 2018-03-20 18:06:09: Validation cost: 1.95156E-05. Diff to prev.: 4.4E-06\n",
      "[ ] 2018-03-20 18:06:10: Validation cost: 3.07171E-05. Diff to prev.: 1.1E-05\n",
      "[ ] 2018-03-20 18:06:11: Validation cost: 1.37695E-05. Diff to prev.: 1.7E-05\n",
      "[ ] 2018-03-20 18:06:13: Validation cost: 1.64599E-05. Diff to prev.: 2.7E-06\n",
      "[ ] 2018-03-20 18:06:14: Validation cost: 1.27439E-05. Diff to prev.: 3.7E-06\n",
      "[ ] 2018-03-20 18:06:15: Validation cost: 2.09438E-05. Diff to prev.: 8.2E-06\n",
      "[ ] 2018-03-20 18:06:16: Validation cost: 1.55482E-05. Diff to prev.: 5.4E-06\n",
      "[ ] 2018-03-20 18:06:17: Validation cost: 7.33633E-06. Diff to prev.: 8.2E-06\n",
      "[ ] 2018-03-20 18:06:18: Validation cost: 7.07690E-06. Diff to prev.: 2.6E-07\n",
      "[ ] 2018-03-20 18:06:20: Validation cost: 9.41293E-06. Diff to prev.: 2.3E-06\n",
      "[ ] 2018-03-20 18:06:21: Validation cost: 1.37284E-05. Diff to prev.: 4.3E-06\n",
      "[ ] 2018-03-20 18:06:22: Validation cost: 5.80579E-06. Diff to prev.: 7.9E-06\n",
      "[ ] 2018-03-20 18:06:23: Validation cost: 9.63824E-06. Diff to prev.: 3.8E-06\n",
      "[ ] 2018-03-20 18:06:24: Validation cost: 4.22112E-06. Diff to prev.: 5.4E-06\n",
      "[-] 2018-03-20 18:06:26: Convergence reached after 4200 steps.\n",
      "[-] 2018-03-20 18:06:26: Test error: 3.57275E-06\n"
     ]
    }
   ],
   "source": [
    "from SCFInitialGuess.nn.networks import EluTrNNN\n",
    "from SCFInitialGuess.nn.training import Trainer, MSE\n",
    "\n",
    "class SymmetryPenalty(MSE):\n",
    "    def __init__(self, coupling=1e-4):\n",
    "        \"\"\"alpha: coupling parameter\"\"\"\n",
    "        \n",
    "        self.coupling = coupling\n",
    "        \n",
    "    def function(self, network, y_placeholder):\n",
    "\n",
    "        error = \\\n",
    "            super(SymmetryPenalty, self).function(network, y_placeholder)\n",
    "\n",
    "        penalty = self.symmetry_measure(network.output_tensor) * self.coupling\n",
    "\n",
    "        cost = error + penalty\n",
    "\n",
    "        tf.summary.scalar(\"symmetry_penalty\", penalty)\n",
    "        tf.summary.scalar(\"total_loss\", cost)\n",
    "\n",
    "        return cost\n",
    "    \n",
    "    def symmetry_measure(self, output_tensor):\n",
    "        \n",
    "        reshaped = tf.reshape(output_tensor, [-1, dim, dim])\n",
    "        transposed = tf.matrix_transpose(reshaped)\n",
    "        return tf.norm(reshaped - transposed, axis=(1,2))\n",
    "\n",
    "    \n",
    "trainer_sym = Trainer(\n",
    "    EluTrNNN([dim**2, 200, 100, dim**2]),\n",
    "    cost_function=SymmetryPenalty(coupling=1e-4)\n",
    ")\n",
    "\n",
    "trainer_sym.setup()\n",
    "network_sym, sess_sym = trainer_sym.train(\n",
    "    dataset,\n",
    "    convergence_threshold=1e-7\n",
    ")\n",
    "graph_sym = trainer_sym.graph\n",
    "        "
   ]
  },
  {
   "cell_type": "markdown",
   "metadata": {},
   "source": [
    "TODO: maaß für erreichte symmetrie ausgeben!"
   ]
  },
  {
   "cell_type": "code",
   "execution_count": 46,
   "metadata": {},
   "outputs": [
    {
     "name": "stdout",
     "output_type": "stream",
     "text": [
      "0.000542894\n"
     ]
    },
    {
     "data": {
      "image/png": "[encoded data removed]",
      "text/plain": [
       "<matplotlib.figure.Figure at 0x7f917c1c3978>"
      ]
     },
     "metadata": {},
     "output_type": "display_data"
    }
   ],
   "source": [
    "with graph_sym.as_default():\n",
    "    reshaped = tf.reshape(network_idem.output_tensor, [-1, dim, dim])\n",
    "    transposed = tf.matrix_transpose(reshaped)\n",
    "    diff_mean = tf.reduce_mean(tf.abs(reshaped - transposed), axis=0)\n",
    "    error = sess_idem.run(diff_mean, {network_idem.input_tensor: dataset.testing[0]})\n",
    "    matrix_error(error)\n",
    "    print(np.mean(error))\n",
    "\n",
    "plt.show()"
   ]
  },
  {
   "cell_type": "markdown",
   "metadata": {},
   "source": [
    "### Enforce idempotency"
   ]
  },
  {
   "cell_type": "code",
   "execution_count": 14,
   "metadata": {},
   "outputs": [
    {
     "name": "stdout",
     "output_type": "stream",
     "text": [
      "[-] 2018-03-20 17:41:07: No target graph specified for Trainer setup. Creating new graph ...\n",
      "[-] 2018-03-20 17:41:07: Setting up the training in the target graph ...\n",
      "[-] 2018-03-20 17:41:07: network ...\n",
      "[-] 2018-03-20 17:41:07: error function ...\n",
      "[-] 2018-03-20 17:41:07: cost function ...\n",
      "[-] 2018-03-20 17:41:07: training step\n",
      "[-] 2018-03-20 17:41:07: Starting network training ...\n",
      "[ ] 2018-03-20 17:41:07: Validation cost: 5.76627E-02. Diff to prev.: 1.0E+10\n",
      "[ ] 2018-03-20 17:41:08: Validation cost: 6.71537E-05. Diff to prev.: 5.8E-02\n",
      "[ ] 2018-03-20 17:41:09: Validation cost: 2.50121E-05. Diff to prev.: 4.2E-05\n",
      "[ ] 2018-03-20 17:41:11: Validation cost: 1.80513E-05. Diff to prev.: 7.0E-06\n",
      "[ ] 2018-03-20 17:41:12: Validation cost: 1.53028E-05. Diff to prev.: 2.7E-06\n",
      "[ ] 2018-03-20 17:41:13: Validation cost: 1.07828E-05. Diff to prev.: 4.5E-06\n",
      "[ ] 2018-03-20 17:41:14: Validation cost: 9.91330E-06. Diff to prev.: 8.7E-07\n",
      "[ ] 2018-03-20 17:41:15: Validation cost: 1.04520E-05. Diff to prev.: 5.4E-07\n",
      "[ ] 2018-03-20 17:41:16: Validation cost: 7.72701E-06. Diff to prev.: 2.7E-06\n",
      "[ ] 2018-03-20 17:41:17: Validation cost: 5.49198E-05. Diff to prev.: 4.7E-05\n",
      "[ ] 2018-03-20 17:41:19: Validation cost: 5.94076E-06. Diff to prev.: 4.9E-05\n",
      "[ ] 2018-03-20 17:41:20: Validation cost: 5.38752E-06. Diff to prev.: 5.5E-07\n",
      "[ ] 2018-03-20 17:41:21: Validation cost: 4.73963E-06. Diff to prev.: 6.5E-07\n",
      "[ ] 2018-03-20 17:41:22: Validation cost: 4.57081E-06. Diff to prev.: 1.7E-07\n",
      "[ ] 2018-03-20 17:41:23: Validation cost: 1.07349E-05. Diff to prev.: 6.2E-06\n",
      "[ ] 2018-03-20 17:41:24: Validation cost: 3.25173E-06. Diff to prev.: 7.5E-06\n",
      "[ ] 2018-03-20 17:41:25: Validation cost: 3.11544E-06. Diff to prev.: 1.4E-07\n",
      "[ ] 2018-03-20 17:41:26: Validation cost: 4.01783E-06. Diff to prev.: 9.0E-07\n",
      "[ ] 2018-03-20 17:41:27: Validation cost: 8.18210E-06. Diff to prev.: 4.2E-06\n",
      "[ ] 2018-03-20 17:41:28: Validation cost: 1.08302E-05. Diff to prev.: 2.6E-06\n",
      "[ ] 2018-03-20 17:41:29: Validation cost: 2.81297E-06. Diff to prev.: 8.0E-06\n",
      "[ ] 2018-03-20 17:41:30: Validation cost: 1.74025E-06. Diff to prev.: 1.1E-06\n",
      "[ ] 2018-03-20 17:41:31: Validation cost: 4.41549E-06. Diff to prev.: 2.7E-06\n",
      "[ ] 2018-03-20 17:41:32: Validation cost: 4.92861E-06. Diff to prev.: 5.1E-07\n",
      "[ ] 2018-03-20 17:41:33: Validation cost: 2.63005E-06. Diff to prev.: 2.3E-06\n",
      "[ ] 2018-03-20 17:41:34: Validation cost: 3.68480E-06. Diff to prev.: 1.1E-06\n",
      "[ ] 2018-03-20 17:41:35: Validation cost: 4.93095E-06. Diff to prev.: 1.2E-06\n",
      "[ ] 2018-03-20 17:41:36: Validation cost: 3.65897E-06. Diff to prev.: 1.3E-06\n",
      "[ ] 2018-03-20 17:41:38: Validation cost: 4.64413E-06. Diff to prev.: 9.9E-07\n",
      "[ ] 2018-03-20 17:41:39: Validation cost: 7.52835E-06. Diff to prev.: 2.9E-06\n",
      "[ ] 2018-03-20 17:41:40: Validation cost: 1.84432E-06. Diff to prev.: 5.7E-06\n",
      "[ ] 2018-03-20 17:41:41: Validation cost: 2.92918E-06. Diff to prev.: 1.1E-06\n",
      "[ ] 2018-03-20 17:41:42: Validation cost: 9.97494E-06. Diff to prev.: 7.0E-06\n",
      "[ ] 2018-03-20 17:41:43: Validation cost: 3.58612E-06. Diff to prev.: 6.4E-06\n",
      "[ ] 2018-03-20 17:41:44: Validation cost: 1.30851E-06. Diff to prev.: 2.3E-06\n",
      "[ ] 2018-03-20 17:41:45: Validation cost: 3.66206E-06. Diff to prev.: 2.4E-06\n",
      "[ ] 2018-03-20 17:41:46: Validation cost: 7.64175E-06. Diff to prev.: 4.0E-06\n",
      "[ ] 2018-03-20 17:41:47: Validation cost: 3.53645E-06. Diff to prev.: 4.1E-06\n",
      "[ ] 2018-03-20 17:41:49: Validation cost: 2.10057E-06. Diff to prev.: 1.4E-06\n",
      "[ ] 2018-03-20 17:41:50: Validation cost: 1.65765E-06. Diff to prev.: 4.4E-07\n",
      "[ ] 2018-03-20 17:41:51: Validation cost: 4.20699E-06. Diff to prev.: 2.5E-06\n",
      "[ ] 2018-03-20 17:41:52: Validation cost: 5.28891E-06. Diff to prev.: 1.1E-06\n",
      "[ ] 2018-03-20 17:41:53: Validation cost: 1.11792E-06. Diff to prev.: 4.2E-06\n",
      "[ ] 2018-03-20 17:41:54: Validation cost: 9.61634E-07. Diff to prev.: 1.6E-07\n",
      "[ ] 2018-03-20 17:41:55: Validation cost: 8.22338E-07. Diff to prev.: 1.4E-07\n",
      "[ ] 2018-03-20 17:41:56: Validation cost: 3.37562E-06. Diff to prev.: 2.6E-06\n",
      "[ ] 2018-03-20 17:41:58: Validation cost: 1.20051E-06. Diff to prev.: 2.2E-06\n",
      "[ ] 2018-03-20 17:41:58: Validation cost: 4.60613E-06. Diff to prev.: 3.4E-06\n",
      "[ ] 2018-03-20 17:42:00: Validation cost: 3.13757E-06. Diff to prev.: 1.5E-06\n",
      "[ ] 2018-03-20 17:42:01: Validation cost: 1.93456E-06. Diff to prev.: 1.2E-06\n",
      "[ ] 2018-03-20 17:42:02: Validation cost: 2.11135E-06. Diff to prev.: 1.8E-07\n",
      "[-] 2018-03-20 17:42:03: Convergence reached after 10200 steps.\n",
      "[-] 2018-03-20 17:42:03: Test error: 2.44820E-06\n"
     ]
    }
   ],
   "source": [
    "from SCFInitialGuess.nn.networks import EluTrNNN\n",
    "from SCFInitialGuess.nn.training import Trainer, MSE\n",
    "\n",
    "class IdempotencyPenalty(MSE):\n",
    "    def __init__(self, coupling=1e-4):\n",
    "        \n",
    "        self.coupling = coupling\n",
    "        \n",
    "    def function(self, network, y_placeholder):\n",
    "\n",
    "        error = \\\n",
    "            super(IdempotencyPenalty, self).function(network, y_placeholder)\n",
    "\n",
    "        penalty = self.idempotency_measure(network.output_tensor) * self.coupling\n",
    "\n",
    "        cost = error + penalty\n",
    "\n",
    "        tf.summary.scalar(\"symmetry_penalty\", penalty)\n",
    "        tf.summary.scalar(\"total_loss\", cost)\n",
    "\n",
    "        return cost\n",
    "    \n",
    "    def idempotency_measure(self, output_tensor):\n",
    "        \n",
    "        reshaped = tf.reshape(output_tensor, [-1, dim, dim])\n",
    "        squared = tf.matmul(reshaped, reshaped)\n",
    "        \n",
    "        return tf.norm(reshaped - squared, axis=(1,2))\n",
    "\n",
    "    \n",
    "trainer = Trainer(\n",
    "    EluTrNNN([dim**2, 200, 100, dim**2]),\n",
    "    cost_function=IdempotencyPenalty(coupling=1e-7)\n",
    ")\n",
    "\n",
    "trainer.setup()\n",
    "network_idem, sess_idem = trainer.train(\n",
    "    dataset,\n",
    "    convergence_threshold=5e-8\n",
    ")\n",
    "graph_idem = trainer.graph"
   ]
  },
  {
   "cell_type": "markdown",
   "metadata": {},
   "source": [
    "TODO Ergebnis irgendwie darstellen!!! WIe idempotent ist die matrix jetzt?"
   ]
  },
  {
   "cell_type": "code",
   "execution_count": 48,
   "metadata": {},
   "outputs": [
    {
     "name": "stdout",
     "output_type": "stream",
     "text": [
      "0.094583\n"
     ]
    },
    {
     "data": {
      "image/png": "[encoded data removed]",
      "text/plain": [
       "<matplotlib.figure.Figure at 0x7f91ac167630>"
      ]
     },
     "metadata": {},
     "output_type": "display_data"
    }
   ],
   "source": [
    "with graph_idem.as_default():\n",
    "    reshaped = tf.reshape(network_idem.output_tensor, [-1, dim, dim])\n",
    "    squared = tf.matmul(reshaped, reshaped)\n",
    "    diff_mean = tf.reduce_mean(tf.abs(reshaped - squared), axis=0)\n",
    "    error = sess_idem.run(diff_mean, {network_idem.input_tensor: dataset.testing[0]})\n",
    "    \n",
    "    matrix_error(error)\n",
    "    print(np.mean(error))\n",
    "    \n",
    "plt.show()\n",
    "    \n",
    "    "
   ]
  },
  {
   "cell_type": "markdown",
   "metadata": {},
   "source": [
    "## Enforce interval"
   ]
  },
  {
   "cell_type": "code",
   "execution_count": null,
   "metadata": {
    "collapsed": true
   },
   "outputs": [],
   "source": [
    "\"\"\"\n",
    "from SCFInitialGuess.nn.networks import EluTrNNN\n",
    "from SCFInitialGuess.nn.training import Trainer, MSE\n",
    "\n",
    "class IntervalPenalty(MSE):\n",
    "    def __init__(self, coupling=1e-4):\n",
    "        \n",
    "        self.coupling = coupling\n",
    "        \n",
    "    def function(self, network, y_placeholder):\n",
    "\n",
    "        error = \\\n",
    "            super(IntervalPenalty, self).function(network, y_placeholder)\n",
    "\n",
    "        penalty = self.idempotency_measure(network.output_tensor) * self.coupling\n",
    "\n",
    "        cost = error + penalty\n",
    "\n",
    "        tf.summary.scalar(\"symmetry_penalty\", penalty)\n",
    "        tf.summary.scalar(\"total_loss\", cost)\n",
    "\n",
    "        return cost\n",
    "    \n",
    "    def idempotency_measure(self, output_tensor):\n",
    "        \n",
    "        output_tensor += (tf.sigmn(tf.abs(output_tensor)) + 1) * pow(output_tensor, 4)\n",
    "        \n",
    "        return tf.norm(reshaped - squared, axis=(1,2))\n",
    "\n",
    "    \n",
    "trainer = Trainer(\n",
    "    EluTrNNN([dim**2, 200, 100, dim**2]),\n",
    "    cost_function=IntervalPenalty(coupling=1e-7)\n",
    ")\n",
    "\n",
    "trainer.setup()\n",
    "network_int, sess_int = trainer.train(\n",
    "    dataset,\n",
    "    convergence_threshold=5e-8\n",
    ")\n",
    "graph_int = trainer.graph\n",
    "\"\"\""
   ]
  },
  {
   "cell_type": "markdown",
   "metadata": {},
   "source": [
    "## Analysis"
   ]
  },
  {
   "cell_type": "code",
   "execution_count": 49,
   "metadata": {},
   "outputs": [
    {
     "data": {
      "image/png": "[encoded data removed]",
      "text/plain": [
       "<matplotlib.figure.Figure at 0x7f917c1d3a20>"
      ]
     },
     "metadata": {},
     "output_type": "display_data"
    }
   ],
   "source": [
    "with graph_orig.as_default():\n",
    "    plt.scatter(\n",
    "        x=dataset.testing[1],\n",
    "        y=network_orig.run(sess_orig, dataset.testing[0]),\n",
    "        label=\"orig\"\n",
    "    )\n",
    "    \n",
    "with graph_idem.as_default():\n",
    "    plt.scatter(\n",
    "        x=dataset.testing[1],\n",
    "        y=network_idem.run(sess_idem, dataset.testing[0]),\n",
    "        label=\"idempotent\"\n",
    "    )\n",
    "    \n",
    "\n",
    "with graph_sym.as_default():\n",
    "    plt.scatter(\n",
    "        x=dataset.testing[1],\n",
    "        y=network_sym.run(sess_sym, dataset.testing[0]),\n",
    "        label=\"hermit\"\n",
    "    )\n",
    "\n",
    "lower = 1.8\n",
    "upper = 2.2\n",
    "plt.xlim([lower, upper])\n",
    "plt.ylim([lower, upper])\n",
    "    \n",
    "\n",
    "plt.legend()\n",
    "plt.show()"
   ]
  },
  {
   "cell_type": "code",
   "execution_count": 50,
   "metadata": {
    "scrolled": true
   },
   "outputs": [
    {
     "name": "stderr",
     "output_type": "stream",
     "text": [
      "Warn: Ipython shell catchs sys.args\n"
     ]
    },
    {
     "name": "stdout",
     "output_type": "stream",
     "text": [
      "Calculating: 1/50\n"
     ]
    },
    {
     "name": "stderr",
     "output_type": "stream",
     "text": [
      "Warn: Ipython shell catchs sys.args\n"
     ]
    },
    {
     "name": "stdout",
     "output_type": "stream",
     "text": [
      "Calculating: 2/50\n"
     ]
    },
    {
     "name": "stderr",
     "output_type": "stream",
     "text": [
      "Warn: Ipython shell catchs sys.args\n"
     ]
    },
    {
     "name": "stdout",
     "output_type": "stream",
     "text": [
      "Calculating: 3/50\n"
     ]
    },
    {
     "name": "stderr",
     "output_type": "stream",
     "text": [
      "Warn: Ipython shell catchs sys.args\n"
     ]
    },
    {
     "name": "stdout",
     "output_type": "stream",
     "text": [
      "Calculating: 4/50\n"
     ]
    },
    {
     "name": "stderr",
     "output_type": "stream",
     "text": [
      "Warn: Ipython shell catchs sys.args\n"
     ]
    },
    {
     "name": "stdout",
     "output_type": "stream",
     "text": [
      "Calculating: 5/50\n"
     ]
    },
    {
     "name": "stderr",
     "output_type": "stream",
     "text": [
      "Warn: Ipython shell catchs sys.args\n"
     ]
    },
    {
     "name": "stdout",
     "output_type": "stream",
     "text": [
      "Calculating: 6/50\n"
     ]
    },
    {
     "name": "stderr",
     "output_type": "stream",
     "text": [
      "Warn: Ipython shell catchs sys.args\n"
     ]
    },
    {
     "name": "stdout",
     "output_type": "stream",
     "text": [
      "Calculating: 7/50\n"
     ]
    },
    {
     "name": "stderr",
     "output_type": "stream",
     "text": [
      "Warn: Ipython shell catchs sys.args\n"
     ]
    },
    {
     "name": "stdout",
     "output_type": "stream",
     "text": [
      "Calculating: 8/50\n"
     ]
    },
    {
     "name": "stderr",
     "output_type": "stream",
     "text": [
      "Warn: Ipython shell catchs sys.args\n"
     ]
    },
    {
     "name": "stdout",
     "output_type": "stream",
     "text": [
      "Calculating: 9/50\n"
     ]
    },
    {
     "name": "stderr",
     "output_type": "stream",
     "text": [
      "Warn: Ipython shell catchs sys.args\n"
     ]
    },
    {
     "name": "stdout",
     "output_type": "stream",
     "text": [
      "Calculating: 10/50\n"
     ]
    },
    {
     "name": "stderr",
     "output_type": "stream",
     "text": [
      "Warn: Ipython shell catchs sys.args\n"
     ]
    },
    {
     "name": "stdout",
     "output_type": "stream",
     "text": [
      "Calculating: 11/50\n"
     ]
    },
    {
     "name": "stderr",
     "output_type": "stream",
     "text": [
      "Warn: Ipython shell catchs sys.args\n"
     ]
    },
    {
     "name": "stdout",
     "output_type": "stream",
     "text": [
      "Calculating: 12/50\n"
     ]
    },
    {
     "name": "stderr",
     "output_type": "stream",
     "text": [
      "Warn: Ipython shell catchs sys.args\n"
     ]
    },
    {
     "name": "stdout",
     "output_type": "stream",
     "text": [
      "Calculating: 13/50\n"
     ]
    },
    {
     "name": "stderr",
     "output_type": "stream",
     "text": [
      "Warn: Ipython shell catchs sys.args\n"
     ]
    },
    {
     "name": "stdout",
     "output_type": "stream",
     "text": [
      "Calculating: 14/50\n"
     ]
    },
    {
     "name": "stderr",
     "output_type": "stream",
     "text": [
      "Warn: Ipython shell catchs sys.args\n"
     ]
    },
    {
     "name": "stdout",
     "output_type": "stream",
     "text": [
      "Calculating: 15/50\n"
     ]
    },
    {
     "name": "stderr",
     "output_type": "stream",
     "text": [
      "Warn: Ipython shell catchs sys.args\n"
     ]
    },
    {
     "name": "stdout",
     "output_type": "stream",
     "text": [
      "Calculating: 16/50\n"
     ]
    },
    {
     "name": "stderr",
     "output_type": "stream",
     "text": [
      "Warn: Ipython shell catchs sys.args\n"
     ]
    },
    {
     "name": "stdout",
     "output_type": "stream",
     "text": [
      "Calculating: 17/50\n"
     ]
    },
    {
     "name": "stderr",
     "output_type": "stream",
     "text": [
      "Warn: Ipython shell catchs sys.args\n"
     ]
    },
    {
     "name": "stdout",
     "output_type": "stream",
     "text": [
      "Calculating: 18/50\n"
     ]
    },
    {
     "name": "stderr",
     "output_type": "stream",
     "text": [
      "Warn: Ipython shell catchs sys.args\n"
     ]
    },
    {
     "name": "stdout",
     "output_type": "stream",
     "text": [
      "Calculating: 19/50\n"
     ]
    },
    {
     "name": "stderr",
     "output_type": "stream",
     "text": [
      "Warn: Ipython shell catchs sys.args\n"
     ]
    },
    {
     "name": "stdout",
     "output_type": "stream",
     "text": [
      "Calculating: 20/50\n"
     ]
    },
    {
     "name": "stderr",
     "output_type": "stream",
     "text": [
      "Warn: Ipython shell catchs sys.args\n"
     ]
    },
    {
     "name": "stdout",
     "output_type": "stream",
     "text": [
      "Calculating: 21/50\n"
     ]
    },
    {
     "name": "stderr",
     "output_type": "stream",
     "text": [
      "Warn: Ipython shell catchs sys.args\n"
     ]
    },
    {
     "name": "stdout",
     "output_type": "stream",
     "text": [
      "Calculating: 22/50\n"
     ]
    },
    {
     "name": "stderr",
     "output_type": "stream",
     "text": [
      "Warn: Ipython shell catchs sys.args\n"
     ]
    },
    {
     "name": "stdout",
     "output_type": "stream",
     "text": [
      "Calculating: 23/50\n"
     ]
    },
    {
     "name": "stderr",
     "output_type": "stream",
     "text": [
      "Warn: Ipython shell catchs sys.args\n"
     ]
    },
    {
     "name": "stdout",
     "output_type": "stream",
     "text": [
      "Calculating: 24/50\n"
     ]
    },
    {
     "name": "stderr",
     "output_type": "stream",
     "text": [
      "Warn: Ipython shell catchs sys.args\n"
     ]
    },
    {
     "name": "stdout",
     "output_type": "stream",
     "text": [
      "Calculating: 25/50\n"
     ]
    },
    {
     "name": "stderr",
     "output_type": "stream",
     "text": [
      "Warn: Ipython shell catchs sys.args\n"
     ]
    },
    {
     "name": "stdout",
     "output_type": "stream",
     "text": [
      "Calculating: 26/50\n"
     ]
    },
    {
     "name": "stderr",
     "output_type": "stream",
     "text": [
      "Warn: Ipython shell catchs sys.args\n"
     ]
    },
    {
     "name": "stdout",
     "output_type": "stream",
     "text": [
      "Calculating: 27/50\n"
     ]
    },
    {
     "name": "stderr",
     "output_type": "stream",
     "text": [
      "Warn: Ipython shell catchs sys.args\n"
     ]
    },
    {
     "name": "stdout",
     "output_type": "stream",
     "text": [
      "Calculating: 28/50\n"
     ]
    },
    {
     "name": "stderr",
     "output_type": "stream",
     "text": [
      "Warn: Ipython shell catchs sys.args\n"
     ]
    },
    {
     "name": "stdout",
     "output_type": "stream",
     "text": [
      "Calculating: 29/50\n"
     ]
    },
    {
     "name": "stderr",
     "output_type": "stream",
     "text": [
      "Warn: Ipython shell catchs sys.args\n"
     ]
    },
    {
     "name": "stdout",
     "output_type": "stream",
     "text": [
      "Calculating: 30/50\n"
     ]
    },
    {
     "name": "stderr",
     "output_type": "stream",
     "text": [
      "Warn: Ipython shell catchs sys.args\n"
     ]
    },
    {
     "name": "stdout",
     "output_type": "stream",
     "text": [
      "Calculating: 31/50\n"
     ]
    },
    {
     "name": "stderr",
     "output_type": "stream",
     "text": [
      "Warn: Ipython shell catchs sys.args\n"
     ]
    },
    {
     "name": "stdout",
     "output_type": "stream",
     "text": [
      "Calculating: 32/50\n"
     ]
    },
    {
     "name": "stderr",
     "output_type": "stream",
     "text": [
      "Warn: Ipython shell catchs sys.args\n"
     ]
    },
    {
     "name": "stdout",
     "output_type": "stream",
     "text": [
      "Calculating: 33/50\n"
     ]
    },
    {
     "name": "stderr",
     "output_type": "stream",
     "text": [
      "Warn: Ipython shell catchs sys.args\n"
     ]
    },
    {
     "name": "stdout",
     "output_type": "stream",
     "text": [
      "Calculating: 34/50\n"
     ]
    },
    {
     "name": "stderr",
     "output_type": "stream",
     "text": [
      "Warn: Ipython shell catchs sys.args\n"
     ]
    },
    {
     "name": "stdout",
     "output_type": "stream",
     "text": [
      "Calculating: 35/50\n"
     ]
    },
    {
     "name": "stderr",
     "output_type": "stream",
     "text": [
      "Warn: Ipython shell catchs sys.args\n"
     ]
    },
    {
     "name": "stdout",
     "output_type": "stream",
     "text": [
      "Calculating: 36/50\n"
     ]
    },
    {
     "name": "stderr",
     "output_type": "stream",
     "text": [
      "Warn: Ipython shell catchs sys.args\n"
     ]
    },
    {
     "name": "stdout",
     "output_type": "stream",
     "text": [
      "Calculating: 37/50\n"
     ]
    },
    {
     "name": "stderr",
     "output_type": "stream",
     "text": [
      "Warn: Ipython shell catchs sys.args\n"
     ]
    },
    {
     "name": "stdout",
     "output_type": "stream",
     "text": [
      "Calculating: 38/50\n"
     ]
    },
    {
     "name": "stderr",
     "output_type": "stream",
     "text": [
      "Warn: Ipython shell catchs sys.args\n"
     ]
    },
    {
     "name": "stdout",
     "output_type": "stream",
     "text": [
      "Calculating: 39/50\n"
     ]
    },
    {
     "name": "stderr",
     "output_type": "stream",
     "text": [
      "Warn: Ipython shell catchs sys.args\n"
     ]
    },
    {
     "name": "stdout",
     "output_type": "stream",
     "text": [
      "Calculating: 40/50\n"
     ]
    },
    {
     "name": "stderr",
     "output_type": "stream",
     "text": [
      "Warn: Ipython shell catchs sys.args\n"
     ]
    },
    {
     "name": "stdout",
     "output_type": "stream",
     "text": [
      "Calculating: 41/50\n"
     ]
    },
    {
     "name": "stderr",
     "output_type": "stream",
     "text": [
      "Warn: Ipython shell catchs sys.args\n"
     ]
    },
    {
     "name": "stdout",
     "output_type": "stream",
     "text": [
      "Calculating: 42/50\n"
     ]
    },
    {
     "name": "stderr",
     "output_type": "stream",
     "text": [
      "Warn: Ipython shell catchs sys.args\n"
     ]
    },
    {
     "name": "stdout",
     "output_type": "stream",
     "text": [
      "Calculating: 43/50\n"
     ]
    },
    {
     "name": "stderr",
     "output_type": "stream",
     "text": [
      "Warn: Ipython shell catchs sys.args\n"
     ]
    },
    {
     "name": "stdout",
     "output_type": "stream",
     "text": [
      "Calculating: 44/50\n"
     ]
    },
    {
     "name": "stderr",
     "output_type": "stream",
     "text": [
      "Warn: Ipython shell catchs sys.args\n"
     ]
    },
    {
     "name": "stdout",
     "output_type": "stream",
     "text": [
      "Calculating: 45/50\n"
     ]
    },
    {
     "name": "stderr",
     "output_type": "stream",
     "text": [
      "Warn: Ipython shell catchs sys.args\n"
     ]
    },
    {
     "name": "stdout",
     "output_type": "stream",
     "text": [
      "Calculating: 46/50\n"
     ]
    },
    {
     "name": "stderr",
     "output_type": "stream",
     "text": [
      "Warn: Ipython shell catchs sys.args\n"
     ]
    },
    {
     "name": "stdout",
     "output_type": "stream",
     "text": [
      "Calculating: 47/50\n"
     ]
    },
    {
     "name": "stderr",
     "output_type": "stream",
     "text": [
      "Warn: Ipython shell catchs sys.args\n"
     ]
    },
    {
     "name": "stdout",
     "output_type": "stream",
     "text": [
      "Calculating: 48/50\n"
     ]
    },
    {
     "name": "stderr",
     "output_type": "stream",
     "text": [
      "Warn: Ipython shell catchs sys.args\n"
     ]
    },
    {
     "name": "stdout",
     "output_type": "stream",
     "text": [
      "Calculating: 49/50\n"
     ]
    },
    {
     "name": "stderr",
     "output_type": "stream",
     "text": [
      "Warn: Ipython shell catchs sys.args\n"
     ]
    },
    {
     "name": "stdout",
     "output_type": "stream",
     "text": [
      "Calculating: 50/50\n"
     ]
    }
   ],
   "source": [
    "from pyscf.scf import hf\n",
    "\n",
    "dim = 26\n",
    "\n",
    "iterations = []\n",
    "for i, (molecule, p) in enumerate(zip(molecules_test, P_test)):\n",
    "    \n",
    "    mol = molecule.get_pyscf_molecule()\n",
    "    \n",
    "    \n",
    "    print(\"Calculating: \" + str(i + 1) + \"/\" + str(len(molecules_test)))\n",
    "    \n",
    "    # nn guess\n",
    "    s = hf.get_ovlp(mol).reshape(1, dim**2)\n",
    "    s = Dataset.normalize(s, mean=dataset.x_mean, std=dataset.x_std)[0]\n",
    "    \n",
    "    with graph_orig.as_default():\n",
    "        P_orig = network_orig.run(sess_orig, s).reshape(dim, dim).astype('float64')\n",
    "        \n",
    "    with graph_idem.as_default():\n",
    "        P_idem = network_idem.run(sess_idem, s).reshape(dim, dim).astype('float64')\n",
    "    \n",
    "    with graph_sym.as_default():\n",
    "        P_sym = network_sym.run(sess_sym, s).reshape(dim, dim).astype('float64')\n",
    "        \n",
    "    # P_actual wi noise\n",
    "    p_noise = p.reshape(dim, dim) + np.random.randn(dim, dim) * 1e-6\n",
    "    \n",
    "    \n",
    "    iterations_molecule = []\n",
    "    for guess in [P_orig, P_idem, P_sym, p_noise]:\n",
    "        \n",
    "        mf = hf.RHF(mol)\n",
    "        mf.verbose = 1\n",
    "        mf.kernel(dm0=guess)\n",
    "        iterations_molecule.append(mf.iterations)\n",
    "    \n",
    "    iterations.append(iterations_molecule)\n",
    "\n",
    "iterations = np.array(iterations)"
   ]
  },
  {
   "cell_type": "code",
   "execution_count": 51,
   "metadata": {},
   "outputs": [
    {
     "name": "stdout",
     "output_type": "stream",
     "text": [
      "[ 7.32  6.92  7.4   2.  ]\n"
     ]
    },
    {
     "data": {
      "image/png": "[encoded data removed]",
      "text/plain": [
       "<matplotlib.figure.Figure at 0x7f91b46ea9b0>"
      ]
     },
     "metadata": {},
     "output_type": "display_data"
    }
   ],
   "source": [
    "print(np.mean(iterations,0))\n",
    "\n",
    "bins = 20 # todo hier kann man auch ein array angeben\n",
    "\n",
    "for i, name in enumerate(['orig', 'hermit', 'idempotent', 'noise']):\n",
    "    \n",
    "    hist, bins = np.histogram(iterations[:,i])\n",
    "    center = (bins[:-1] + bins[1:]) / 2\n",
    "    #axes[i].bar(center, hist, label=name)\n",
    "    plt.bar(center, hist, label=name)\n",
    "    \n",
    "plt.legend()\n",
    "plt.show()"
   ]
  },
  {
   "cell_type": "code",
   "execution_count": null,
   "metadata": {
    "collapsed": true
   },
   "outputs": [],
   "source": []
  }
 ],
 "metadata": {
  "kernelspec": {
   "display_name": "Python 3",
   "language": "python",
   "name": "python3"
  },
  "language_info": {
   "codemirror_mode": {
    "name": "ipython",
    "version": 3
   },
   "file_extension": ".py",
   "mimetype": "text/x-python",
   "name": "python",
   "nbconvert_exporter": "python",
   "pygments_lexer": "ipython3",
   "version": "3.6.2"
  }
 },
 "nbformat": 4,
 "nbformat_minor": 2
}
