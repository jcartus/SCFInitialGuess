{
 "cells": [
  {
   "cell_type": "code",
   "execution_count": 1,
   "metadata": {},
   "outputs": [
    {
     "name": "stderr",
     "output_type": "stream",
     "text": [
      "/home/jcartus/anaconda3/lib/python3.6/importlib/_bootstrap.py:219: RuntimeWarning: numpy.dtype size changed, may indicate binary incompatibility. Expected 96, got 88\n",
      "  return f(*args, **kwds)\n",
      "/home/jcartus/anaconda3/lib/python3.6/site-packages/h5py/__init__.py:36: FutureWarning: Conversion of the second argument of issubdtype from `float` to `np.floating` is deprecated. In future, it will be treated as `np.float64 == np.dtype(float).type`.\n",
      "  from ._conv import register_converters as _register_converters\n",
      "/home/jcartus/anaconda3/lib/python3.6/importlib/_bootstrap.py:219: RuntimeWarning: numpy.dtype size changed, may indicate binary incompatibility. Expected 96, got 88\n",
      "  return f(*args, **kwds)\n",
      "/home/jcartus/anaconda3/lib/python3.6/importlib/_bootstrap.py:219: RuntimeWarning: numpy.dtype size changed, may indicate binary incompatibility. Expected 96, got 88\n",
      "  return f(*args, **kwds)\n"
     ]
    }
   ],
   "source": [
    "import numpy as np\n",
    "import tensorflow as tf\n",
    "import matplotlib as mpl\n",
    "import matplotlib.pyplot as plt"
   ]
  },
  {
   "cell_type": "markdown",
   "metadata": {},
   "source": [
    "# Fetching the dataset"
   ]
  },
  {
   "cell_type": "code",
   "execution_count": 9,
   "metadata": {},
   "outputs": [
    {
     "name": "stdout",
     "output_type": "stream",
     "text": [
      "[+] 2018-04-29 13:39:38: Assembling batch for: H\n",
      "[-] 2018-04-29 13:39:38: Fetching data from ../dataset/GMTKN55\n",
      "[w] 2018-04-29 13:39:38: There was a problem: No molecule found in ../dataset/GMTKN55/10/10.out\n",
      "[ ] 2018-04-29 13:39:38: No atoms of type H found in 4\n",
      "[ ] 2018-04-29 13:39:38: No atoms of type H found in c+\n",
      "[w] 2018-04-29 13:39:38: There was a problem: 'Mg'\n",
      "[w] 2018-04-29 13:39:38: There was a problem: 'B'\n",
      "[w] 2018-04-29 13:39:38: There was a problem: 'Al'\n",
      "[w] 2018-04-29 13:39:38: There was a problem: 'Al'\n",
      "[w] 2018-04-29 13:39:39: There was a problem: 'Na'\n",
      "[w] 2018-04-29 13:39:39: There was a problem: 'B'\n",
      "[w] 2018-04-29 13:39:39: There was a problem: 'Be'\n",
      "[ ] 2018-04-29 13:39:39: No atoms of type H found in IP_77\n",
      "[w] 2018-04-29 13:39:39: There was a problem: 'Li'\n",
      "[ ] 2018-04-29 13:39:39: No atoms of type H found in s+\n",
      "[w] 2018-04-29 13:39:39: There was a problem: No molecule found in ../dataset/GMTKN55/f+/f+.out\n",
      "[ ] 2018-04-29 13:39:39: No atoms of type H found in 48\n",
      "[w] 2018-04-29 13:39:39: There was a problem: No molecule found in ../dataset/GMTKN55/06/06.out\n",
      "[ ] 2018-04-29 13:39:39: No atoms of type H found in Cl2\n",
      "[w] 2018-04-29 13:39:39: There was a problem: No molecule found in ../dataset/GMTKN55/08/08.out\n",
      "[w] 2018-04-29 13:39:39: There was a problem: No molecule found in ../dataset/GMTKN55/b/b.out\n",
      "[w] 2018-04-29 13:39:39: There was a problem: No molecule found in ../dataset/GMTKN55/IP_61/IP_61.out\n",
      "[w] 2018-04-29 13:39:39: There was a problem: 'Al'\n",
      "[w] 2018-04-29 13:39:40: There was a problem: 'B'\n",
      "[w] 2018-04-29 13:39:40: There was a problem: 'B'\n",
      "[ ] 2018-04-29 13:39:40: No atoms of type H found in c\n",
      "[w] 2018-04-29 13:39:40: There was a problem: No molecule found in ../dataset/GMTKN55/29/29.out\n",
      "[w] 2018-04-29 13:39:40: There was a problem: No molecule found in ../dataset/GMTKN55/34/34.out\n",
      "[ ] 2018-04-29 13:39:40: No atoms of type H found in 44\n",
      "[w] 2018-04-29 13:39:40: There was a problem: 'Li'\n",
      "[w] 2018-04-29 13:39:40: There was a problem: No molecule found in ../dataset/GMTKN55/05/05.out\n",
      "[w] 2018-04-29 13:39:40: There was a problem: 'B'\n",
      "[ ] 2018-04-29 13:39:40: No atoms of type H found in IP_73\n",
      "[w] 2018-04-29 13:39:40: There was a problem: 'Al'\n",
      "[ ] 2018-04-29 13:39:40: No atoms of type H found in 3\n",
      "[w] 2018-04-29 13:39:40: There was a problem: No molecule found in ../dataset/GMTKN55/n/n.out\n",
      "[ ] 2018-04-29 13:39:40: No atoms of type H found in IP_76\n",
      "[ ] 2018-04-29 13:39:40: No atoms of type H found in nf3\n",
      "[w] 2018-04-29 13:39:40: There was a problem: 'B'\n",
      "[ ] 2018-04-29 13:39:40: No atoms of type H found in o+\n",
      "[w] 2018-04-29 13:39:40: There was a problem: No molecule found in ../dataset/GMTKN55/f/f.out\n",
      "[w] 2018-04-29 13:39:40: There was a problem: 'B'\n",
      "[w] 2018-04-29 13:39:41: There was a problem: 'B'\n",
      "[w] 2018-04-29 13:39:41: There was a problem: No molecule found in ../dataset/GMTKN55/n+/n+.out\n",
      "[ ] 2018-04-29 13:39:41: No atoms of type H found in IP_74\n",
      "[w] 2018-04-29 13:39:41: There was a problem: No molecule found in ../dataset/GMTKN55/30/30.out\n",
      "[w] 2018-04-29 13:39:41: There was a problem: No molecule found in ../dataset/GMTKN55/42/42.out\n",
      "[w] 2018-04-29 13:39:41: There was a problem: 'Li'\n",
      "[w] 2018-04-29 13:39:41: There was a problem: No molecule found in ../dataset/GMTKN55/h/h.out\n",
      "[w] 2018-04-29 13:39:41: There was a problem: No molecule found in ../dataset/GMTKN55/33/33.out\n",
      "[w] 2018-04-29 13:39:41: There was a problem: list index out of range\n",
      "[w] 2018-04-29 13:39:41: There was a problem: 'Li'\n",
      "[w] 2018-04-29 13:39:41: There was a problem: No molecule found in ../dataset/GMTKN55/07/07.out\n",
      "[w] 2018-04-29 13:39:41: There was a problem: No molecule found in ../dataset/GMTKN55/41/41.out\n",
      "[w] 2018-04-29 13:39:41: There was a problem: No molecule found in ../dataset/GMTKN55/18/18.out\n",
      "[w] 2018-04-29 13:39:41: There was a problem: No molecule found in ../dataset/GMTKN55/16/16.out\n",
      "[w] 2018-04-29 13:39:41: There was a problem: 'B'\n",
      "[w] 2018-04-29 13:39:42: There was a problem: 'B'\n",
      "[ ] 2018-04-29 13:39:42: No atoms of type H found in 9\n",
      "[w] 2018-04-29 13:39:42: There was a problem: No molecule found in ../dataset/GMTKN55/36/36.out\n",
      "[ ] 2018-04-29 13:39:42: No atoms of type H found in S2\n",
      "[ ] 2018-04-29 13:39:42: No atoms of type H found in O2\n",
      "[w] 2018-04-29 13:39:42: There was a problem: 'Al'\n",
      "[w] 2018-04-29 13:39:42: There was a problem: 'B'\n",
      "[ ] 2018-04-29 13:39:42: No atoms of type H found in IP_80\n",
      "[w] 2018-04-29 13:39:42: There was a problem: 'B'\n",
      "[ ] 2018-04-29 13:39:42: No atoms of type H found in 5\n",
      "[ ] 2018-04-29 13:39:43: No atoms of type H found in 1\n",
      "[w] 2018-04-29 13:39:43: There was a problem: No molecule found in ../dataset/GMTKN55/26/26.out\n",
      "[w] 2018-04-29 13:39:43: There was a problem: No molecule found in ../dataset/GMTKN55/137/137.out\n",
      "[w] 2018-04-29 13:39:43: There was a problem: No molecule found in ../dataset/GMTKN55/13/13.out\n",
      "[w] 2018-04-29 13:39:43: There was a problem: No molecule found in ../dataset/GMTKN55/p/p.out\n",
      "[ ] 2018-04-29 13:39:43: No atoms of type H found in 7\n",
      "[ ] 2018-04-29 13:39:43: No atoms of type H found in f2s\n",
      "[w] 2018-04-29 13:39:43: There was a problem: No molecule found in ../dataset/GMTKN55/22/22.out\n",
      "[ ] 2018-04-29 13:39:43: No atoms of type H found in IP_75\n",
      "[w] 2018-04-29 13:39:43: There was a problem: 'Mg'\n",
      "[w] 2018-04-29 13:39:43: There was a problem: No molecule found in ../dataset/GMTKN55/b+/b+.out\n",
      "[w] 2018-04-29 13:39:43: There was a problem: No molecule found in ../dataset/GMTKN55/28/28.out\n",
      "[w] 2018-04-29 13:39:43: There was a problem: 'Na'\n",
      "[ ] 2018-04-29 13:39:43: No atoms of type H found in pf3\n",
      "[w] 2018-04-29 13:39:43: There was a problem: No molecule found in ../dataset/GMTKN55/02/02.out\n",
      "[w] 2018-04-29 13:39:43: There was a problem: 'B'\n",
      "[ ] 2018-04-29 13:39:43: No atoms of type H found in F2\n",
      "[w] 2018-04-29 13:39:43: There was a problem: 'B'\n",
      "[w] 2018-04-29 13:39:43: There was a problem: No molecule found in ../dataset/GMTKN55/40/40.out\n",
      "[w] 2018-04-29 13:39:43: There was a problem: 'B'\n",
      "[ ] 2018-04-29 13:39:43: No atoms of type H found in 6\n",
      "[w] 2018-04-29 13:39:43: There was a problem: No molecule found in ../dataset/GMTKN55/43/43.out\n",
      "[ ] 2018-04-29 13:39:43: No atoms of type H found in o\n",
      "[ ] 2018-04-29 13:39:43: No atoms of type H found in s\n",
      "[w] 2018-04-29 13:39:44: There was a problem: 'B'\n",
      "[w] 2018-04-29 13:39:44: There was a problem: 'B'\n",
      "[w] 2018-04-29 13:39:45: There was a problem: 'B'\n",
      "[ ] 2018-04-29 13:39:45: No atoms of type H found in N2\n",
      "[ ] 2018-04-29 13:39:45: No atoms of type H found in 2\n",
      "[w] 2018-04-29 13:39:45: There was a problem: 'B'\n",
      "[w] 2018-04-29 13:39:45: There was a problem: No molecule found in ../dataset/GMTKN55/27/27.out\n",
      "[w] 2018-04-29 13:39:45: There was a problem: 'B'\n",
      "[w] 2018-04-29 13:39:45: There was a problem: No molecule found in ../dataset/GMTKN55/IP_68/IP_68.out\n",
      "[w] 2018-04-29 13:39:45: There was a problem: No molecule found in ../dataset/GMTKN55/p+/p+.out\n",
      "[w] 2018-04-29 13:39:45: There was a problem: 'Na'\n",
      "[w] 2018-04-29 13:39:45: There was a problem: No molecule found in ../dataset/GMTKN55/IP_66/IP_66.out\n",
      "[w] 2018-04-29 13:39:45: There was a problem: 'Na'\n",
      "[w] 2018-04-29 13:39:45: There was a problem: 'B'\n",
      "[-] 2018-04-29 13:39:46: Found 584 points.\n",
      "[+] 2018-04-29 13:39:46: Done assembling. Found 584 points.\n",
      "[-] 2018-04-29 13:39:46: Data set normalized. Mean value std: 0.48683325700403385\n"
     ]
    }
   ],
   "source": [
    "from os.path import join\n",
    "\n",
    "from SCFInitialGuess.utilities.constants import number_of_basis_functions as N_BASIS\n",
    "from SCFInitialGuess.utilities.dataset import Dataset, assemble_batch\n",
    "\n",
    "species = \"H\"\n",
    "\n",
    "root_directory = \"../\"\n",
    "dataset_source_folder = join(root_directory, \"dataset/\")\n",
    "\n",
    "dim = N_BASIS[species]\n",
    "\n",
    "sources = [\n",
    "    join(dataset_source_folder, directory) \\\n",
    "        for directory in [\"GMTKN55\"]\n",
    "]\n",
    "\n",
    "dataset = Dataset(*assemble_batch(sources, species))"
   ]
  },
  {
   "cell_type": "markdown",
   "metadata": {},
   "source": [
    "#  Train Network"
   ]
  },
  {
   "cell_type": "code",
   "execution_count": 18,
   "metadata": {},
   "outputs": [
    {
     "name": "stdout",
     "output_type": "stream",
     "text": [
      "[-] 2018-04-29 13:57:32: No target graph specified for Trainer setup. Creating new graph ...\n",
      "[-] 2018-04-29 13:57:32: Setting up the training in the target graph ...\n",
      "[-] 2018-04-29 13:57:32: network ...\n",
      "[-] 2018-04-29 13:57:32: error function ...\n",
      "[-] 2018-04-29 13:57:32: cost function ...\n",
      "[-] 2018-04-29 13:57:32: training step\n",
      "[-] 2018-04-29 13:57:32: Starting network training ...\n",
      "[ ] 2018-04-29 13:57:32: Val. Cost: 1.785E-03. Error: 1.785E-03. Diff: 1.0E+10\n",
      "[ ] 2018-04-29 13:57:33: Val. Cost: 2.176E-05. Error: 2.176E-05. Diff: 1.8E-03\n",
      "[ ] 2018-04-29 13:57:34: Val. Cost: 2.159E-05. Error: 2.159E-05. Diff: 1.7E-07\n",
      "[ ] 2018-04-29 13:57:36: Val. Cost: 2.136E-05. Error: 2.136E-05. Diff: 2.3E-07\n",
      "[ ] 2018-04-29 13:57:37: Val. Cost: 2.151E-05. Error: 2.151E-05. Diff: 1.4E-07\n",
      "[ ] 2018-04-29 13:57:38: Val. Cost: 2.105E-05. Error: 2.105E-05. Diff: 4.6E-07\n",
      "[ ] 2018-04-29 13:57:39: Val. Cost: 2.060E-05. Error: 2.060E-05. Diff: 4.4E-07\n",
      "[ ] 2018-04-29 13:57:40: Val. Cost: 2.072E-05. Error: 2.072E-05. Diff: 1.2E-07\n",
      "[ ] 2018-04-29 13:57:41: Val. Cost: 1.948E-05. Error: 1.948E-05. Diff: 1.2E-06\n",
      "[ ] 2018-04-29 13:57:42: Val. Cost: 1.901E-05. Error: 1.901E-05. Diff: 4.7E-07\n",
      "[ ] 2018-04-29 13:57:44: Val. Cost: 1.857E-05. Error: 1.857E-05. Diff: 4.4E-07\n",
      "[ ] 2018-04-29 13:57:45: Val. Cost: 1.798E-05. Error: 1.798E-05. Diff: 6.0E-07\n",
      "[-] 2018-04-29 13:57:46: Convergence reached after 2400 steps.\n",
      "[-] 2018-04-29 13:57:46: Test error: 2.96325E-05\n"
     ]
    }
   ],
   "source": [
    "from SCFInitialGuess.nn.networks import EluTrNNN\n",
    "from SCFInitialGuess.nn.training import Trainer, RegularizedMSE\n",
    "\n",
    "trainer = Trainer(\n",
    "    EluTrNNN([dim,  4 * dim, 3 * dim, 2* dim,  dim]),\n",
    "    cost_function=RegularizedMSE(alpha=1e-9),\n",
    "    optimizer=tf.train.AdamOptimizer(learning_rate=1e-3)\n",
    ")\n",
    "\n",
    "trainer.setup()\n",
    "network_orig, sess_orig = trainer.train(\n",
    "    dataset,\n",
    "    convergence_threshold=1e-7\n",
    ")\n",
    "graph_orig = trainer.graph"
   ]
  },
  {
   "cell_type": "code",
   "execution_count": null,
   "metadata": {},
   "outputs": [],
   "source": []
  }
 ],
 "metadata": {
  "kernelspec": {
   "display_name": "Python 3",
   "language": "python",
   "name": "python3"
  },
  "language_info": {
   "codemirror_mode": {
    "name": "ipython",
    "version": 3
   },
   "file_extension": ".py",
   "mimetype": "text/x-python",
   "name": "python",
   "nbconvert_exporter": "python",
   "pygments_lexer": "ipython3",
   "version": "3.6.4"
  }
 },
 "nbformat": 4,
 "nbformat_minor": 2
}
