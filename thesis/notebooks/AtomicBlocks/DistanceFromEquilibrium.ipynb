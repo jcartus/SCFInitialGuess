{
 "cells": [
  {
   "cell_type": "code",
   "execution_count": 1,
   "metadata": {},
   "outputs": [
    {
     "name": "stderr",
     "output_type": "stream",
     "text": [
      "/home/jcartus/anaconda3/lib/python3.6/site-packages/h5py/__init__.py:36: FutureWarning: Conversion of the second argument of issubdtype from `float` to `np.floating` is deprecated. In future, it will be treated as `np.float64 == np.dtype(float).type`.\n",
      "  from ._conv import register_converters as _register_converters\n"
     ]
    }
   ],
   "source": [
    "import numpy as np\n",
    "import matplotlib.pyplot as plt\n",
    "import tensorflow as tf\n",
    "from tensorflow import keras\n",
    "\n",
    "from os.path import join\n",
    "\n",
    "plt.style.use([\"seaborn\", \"thesis\"])"
   ]
  },
  {
   "cell_type": "markdown",
   "metadata": {},
   "source": [
    "# Fetch Dataset "
   ]
  },
  {
   "cell_type": "code",
   "execution_count": 27,
   "metadata": {},
   "outputs": [],
   "source": [
    "from SCFInitialGuess.utilities.dataset import extract_triu_batch, AbstractDataset\n",
    "from sklearn.model_selection import train_test_split\n",
    "from pyscf.scf import hf\n",
    "\n",
    "data_path = \"../../dataset/EthenT/\"\n",
    "postfix = \"EthenT\"\n",
    "dim = 72\n",
    "N_ELECTRONS = 16\n",
    "basis = \"6-311++g**\"\n",
    "#data_path = \"../../../cc2ai/ethen/\"\n",
    "#postfix = \"_ethen_6-31g**\"\n",
    "#dim = 48\n",
    "#N_ELECTRONS = 16\n",
    "#basis = \"6-31g**\"\n",
    "#data_path = \"../../dataset/TSmall_sto3g\"\n",
    "#postfix = \"TSmall_sto3g\"\n",
    "#dim = 26\n",
    "#N_ELECTRONS = 30\n",
    "#basis = \"sto-3g\"\n",
    "#data_path = \"../../../butadien/data/\"\n",
    "#postfix = \"\"\n",
    "#dim = 26\n",
    "\n",
    "\n",
    "def split(x, y, ind):\n",
    "    return x[:ind], y[:ind], x[ind:], y[ind:]\n",
    "\n",
    "#S, P = np.load(join(data_path, \"dataset\" + postfix + \".npy\"))\n",
    "S = np.load(join(data_path, \"S\" + postfix + \".npy\")).reshape(-1, dim, dim)\n",
    "P = np.load(join(data_path, \"P\" + postfix + \".npy\")).reshape(-1, dim, dim)\n",
    "\n",
    "#index = np.load(join(data_path, \"index\" + postfix + \".npy\"))\n",
    "\n",
    "\n",
    "ind = int(0.8 * len(S))\n",
    "\n",
    "molecules = np.load(join(data_path, \"molecules\" + postfix + \".npy\"))[ind:]\n",
    "#molecules = (molecules[:ind], molecules[ind:])\n",
    "s_test = S[ind:].reshape(-1, dim, dim)\n",
    "p_test = P[ind:].reshape(-1, dim, dim)\n",
    "\n",
    "\n",
    "#H = [hf.get_hcore(mol.get_pyscf_molecule()) for mol in molecules]\n"
   ]
  },
  {
   "cell_type": "markdown",
   "metadata": {},
   "source": [
    "# Energies "
   ]
  },
  {
   "cell_type": "markdown",
   "metadata": {},
   "source": [
    "## Calculate ENergies "
   ]
  },
  {
   "cell_type": "code",
   "execution_count": 28,
   "metadata": {},
   "outputs": [],
   "source": [
    "from SCFInitialGuess.utilities.analysis import measure_hf_energy\n",
    "\n",
    "energies = measure_hf_energy(p_test, molecules)"
   ]
  },
  {
   "cell_type": "markdown",
   "metadata": {},
   "source": [
    "## See distribution "
   ]
  },
  {
   "cell_type": "code",
   "execution_count": 17,
   "metadata": {},
   "outputs": [
    {
     "data": {
      "image/png": "[encoded data removed]",
      "text/plain": [
       "<matplotlib.figure.Figure at 0x7f4ff727fa90>"
      ]
     },
     "metadata": {},
     "output_type": "display_data"
    }
   ],
   "source": [
    "n_bins = 50\n",
    "#offset = np.min(E)\n",
    "hist, edges = np.histogram(energies, bins=n_bins, density=True)\n",
    "\n",
    "centers = (edges[:-1] + edges[1:]) / 2\n",
    "width = np.mean(np.diff(centers)) * 0.8\n",
    "plt.bar(centers, hist, width=width)\n",
    "\n",
    "plt.ylabel(\"Relative Frequency / 1\")\n",
    "plt.xlabel(\"HF Energy / Hartree\")\n",
    "\n",
    "#plt.savefig(figure_save_path + \"EnergyDistributionDataset.pdf\")\n",
    "\n",
    "plt.show()"
   ]
  },
  {
   "cell_type": "markdown",
   "metadata": {},
   "source": [
    "# Distances "
   ]
  },
  {
   "cell_type": "markdown",
   "metadata": {},
   "source": [
    "## Calculate "
   ]
  },
  {
   "cell_type": "code",
   "execution_count": 20,
   "metadata": {},
   "outputs": [
    {
     "data": {
      "text/plain": [
       "array([64.24144544, 60.02198575, 63.53350151, ..., 59.07937126,\n",
       "       61.79194182, 59.27583102])"
      ]
     },
     "execution_count": 20,
     "metadata": {},
     "output_type": "execute_result"
    }
   ],
   "source": [
    "import scipy.spatial as sp\n",
    "\n",
    "def distance_sum(mol):\n",
    "    m = sp.distance_matrix(mol.positions, mol.positions)\n",
    "    return np.sum(m.flatten())\n",
    "    \n",
    "distances = []\n",
    "for mol in molecules:\n",
    "    distances.append(distance_sum(mol))\n",
    "np.array(distances)"
   ]
  },
  {
   "cell_type": "markdown",
   "metadata": {},
   "source": [
    "## Distribution "
   ]
  },
  {
   "cell_type": "code",
   "execution_count": 23,
   "metadata": {},
   "outputs": [
    {
     "data": {
      "image/png": "[encoded data removed]",
      "text/plain": [
       "<matplotlib.figure.Figure at 0x7f4ff5c86c50>"
      ]
     },
     "metadata": {},
     "output_type": "display_data"
    }
   ],
   "source": [
    "n_bins = 50\n",
    "#offset = np.min(E)\n",
    "hist, edges = np.histogram(distances, bins=n_bins, density=True)\n",
    "\n",
    "centers = (edges[:-1] + edges[1:]) / 2\n",
    "width = np.mean(np.diff(centers)) * 0.8\n",
    "plt.bar(centers, hist, width=width)\n",
    "\n",
    "plt.ylabel(\"Relative Frequency / 1\")\n",
    "plt.xlabel(\"Sum of Atomic distances / Bohr\")\n",
    "\n",
    "#plt.savefig(figure_save_path + \"EnergyDistributionDataset.pdf\")\n",
    "\n",
    "plt.show()"
   ]
  },
  {
   "cell_type": "markdown",
   "metadata": {},
   "source": [
    "# Iterations "
   ]
  },
  {
   "cell_type": "code",
   "execution_count": 26,
   "metadata": {},
   "outputs": [],
   "source": [
    "fpath = \"../../dataset/EthenT/EmbeddedBlocks/\"\n",
    "\n",
    "f_conv = np.load(fpath + \"f_conv.npy\")\n",
    "\n",
    "f_gwh = np.load(fpath + \"f_gwh.npy\")\n",
    "f_embedded_gwh = np.load(fpath + \"f_embedded_gwh.npy\")\n",
    "f_sad = np.load(fpath + \"f_sad.npy\")\n",
    "f_embedded_sad = np.load(fpath + \"f_embedded_sad.npy\")"
   ]
  },
  {
   "cell_type": "code",
   "execution_count": null,
   "metadata": {},
   "outputs": [],
   "source": [
    "from SCFInitialGuess.utilities.dataset import density_from_fock_batch"
   ]
  }
 ],
 "metadata": {
  "kernelspec": {
   "display_name": "Python 3",
   "language": "python",
   "name": "python3"
  },
  "language_info": {
   "codemirror_mode": {
    "name": "ipython",
    "version": 3
   },
   "file_extension": ".py",
   "mimetype": "text/x-python",
   "name": "python",
   "nbconvert_exporter": "python",
   "pygments_lexer": "ipython3",
   "version": "3.6.4"
  }
 },
 "nbformat": 4,
 "nbformat_minor": 2
}
