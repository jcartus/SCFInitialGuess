{
 "cells": [
  {
   "cell_type": "code",
   "execution_count": 1,
   "metadata": {
    "scrolled": true
   },
   "outputs": [
    {
     "name": "stderr",
     "output_type": "stream",
     "text": [
      "/home/jo/anaconda3/lib/python3.6/site-packages/h5py/__init__.py:36: FutureWarning: Conversion of the second argument of issubdtype from `float` to `np.floating` is deprecated. In future, it will be treated as `np.float64 == np.dtype(float).type`.\n",
      "  from ._conv import register_converters as _register_converters\n"
     ]
    }
   ],
   "source": [
    "import numpy as np\n",
    "import matplotlib.pyplot as plt\n",
    "import tensorflow as tf\n",
    "from tensorflow import keras\n",
    "\n",
    "from os.path import join\n",
    "\n",
    "plt.style.use([\"seaborn\", \"thesis\"])\n",
    "plt.rcParams[\"figure.figsize\"] = (8, 4)"
   ]
  },
  {
   "cell_type": "code",
   "execution_count": 2,
   "metadata": {},
   "outputs": [],
   "source": [
    "from SCFInitialGuess.utilities.usermessages import Messenger as msg\n",
    "msg.print_level = 0"
   ]
  },
  {
   "cell_type": "markdown",
   "metadata": {},
   "source": [
    "# Fetch Dataset "
   ]
  },
  {
   "cell_type": "code",
   "execution_count": 3,
   "metadata": {
    "scrolled": true
   },
   "outputs": [],
   "source": [
    "from SCFInitialGuess.utilities.dataset import extract_triu_batch, AbstractDataset\n",
    "from sklearn.model_selection import train_test_split\n",
    "\n",
    "data_path = \"../../../dataset/EthenT/\"\n",
    "postfix = \"EthenT\"\n",
    "dim = 72\n",
    "N_ELECTRONS = 16\n",
    "basis = \"6-311++g**\"\n",
    "\n",
    "#data_path = \"../../../butadien/data/\"\n",
    "#postfix = \"\"\n",
    "#dim = 26\n",
    "\n",
    "\n",
    "def split(x, y, ind):\n",
    "    return x[:ind], y[:ind], x[ind:], y[ind:]\n",
    "\n",
    "#[S, P] = np.load()\n",
    "S = np.load(join(data_path, \"S\" + postfix + \".npy\"))\n",
    "P = np.load(join(data_path, \"P\" + postfix + \".npy\"))\n",
    "\n",
    "index = np.load(join(data_path, \"index\" + postfix + \".npy\"))\n",
    "\n",
    "\n",
    "#ind = int(0.8 * len(index))\n",
    "ind = 0\n",
    "\n",
    "molecules = np.load(join(data_path, \"molecules\" + postfix + \".npy\"))\n",
    "molecules = (molecules[:ind], molecules[ind:])\n",
    "#molecules = ([], molecules)\n",
    "\n",
    "s_triu_norm, mu, std = AbstractDataset.normalize(S)\n",
    "\n",
    "s_train, p_train, s_test, p_test = split(S.reshape(-1, dim, dim), P.reshape(-1, dim, dim), ind)\n",
    "#s_test = S.reshape(-1, dim, dim)\n",
    "#p_test = S.reshape(-1, dim, dim)"
   ]
  },
  {
   "cell_type": "code",
   "execution_count": 4,
   "metadata": {},
   "outputs": [],
   "source": [
    "subfolder = \"EmbeddedDensities/\""
   ]
  },
  {
   "cell_type": "code",
   "execution_count": 5,
   "metadata": {
    "scrolled": true
   },
   "outputs": [
    {
     "data": {
      "text/plain": [
       "<matplotlib.axes._subplots.AxesSubplot at 0x7fe84fac1b38>"
      ]
     },
     "execution_count": 5,
     "metadata": {},
     "output_type": "execute_result"
    },
    {
     "data": {
      "image/png": "[encoded data removed]",
      "text/plain": [
       "<matplotlib.figure.Figure at 0x7fe8b3549828>"
      ]
     },
     "metadata": {},
     "output_type": "display_data"
    }
   ],
   "source": [
    "import seaborn as sns\n",
    "\n",
    "sns.heatmap(P[0].reshape(dim, dim))"
   ]
  },
  {
   "cell_type": "markdown",
   "metadata": {},
   "source": [
    "# Utilities "
   ]
  },
  {
   "cell_type": "code",
   "execution_count": 6,
   "metadata": {},
   "outputs": [],
   "source": [
    "from SCFInitialGuess.utilities.analysis import mf_initializer_damping as mf_initializer_standard\n",
    "\n",
    "def mf_initializer(mol):\n",
    "    mf = mf_initializer_standard(mol)\n",
    "    return mf"
   ]
  },
  {
   "cell_type": "code",
   "execution_count": 7,
   "metadata": {
    "scrolled": true
   },
   "outputs": [],
   "source": [
    "from SCFInitialGuess.utilities.analysis import make_results_str, measure_all_quantities\n",
    "from SCFInitialGuess.utilities.dataset import StaticDataset\n",
    "\n",
    "dataset = StaticDataset(\n",
    "    train=(s_train, p_train),\n",
    "    #train=(None, None),\n",
    "    validation=(None, None),\n",
    "    test=(s_test, p_test),\n",
    "    mu=mu,\n",
    "    std=std\n",
    ")"
   ]
  },
  {
   "cell_type": "code",
   "execution_count": 8,
   "metadata": {
    "scrolled": true
   },
   "outputs": [
    {
     "name": "stdout",
     "output_type": "stream",
     "text": [
      "--- Absolute Error ---\n",
      "0.00000E+00 +- 0.00000E+00\n",
      "--- Symmetry Error ---\n",
      "0.00000E+00 +- 0.00000E+00\n",
      "--- Idempotence Error ---\n",
      "3.07625E-17 +- 6.96180E-18\n",
      "--- Occupance Error ---\n",
      "5.12322E-15 +- 4.26503E-15\n",
      "--- HF Energy Error ---\n",
      "1.12296E-14 +- 1.23495E-14\n",
      "--- Avg. Iterations ---\n",
      "1.00000E+00 +- 0.00000E+00\n",
      "--- Avg. Iterations W/O Non Converged ---\n",
      "1.00000E+00 +- 0.00000E+00\n",
      "--- Num. Not Convd. ---\n",
      "0\n",
      "\n"
     ]
    }
   ],
   "source": [
    "print(make_results_str(measure_all_quantities(\n",
    "    p_test,\n",
    "    dataset,\n",
    "    molecules[1],\n",
    "    N_ELECTRONS,\n",
    "    mf_initializer,\n",
    "    dim,\n",
    "    is_triu=False,\n",
    "    is_dataset_triu=False,\n",
    "    s=S[ind:]\n",
    ")))"
   ]
  },
  {
   "cell_type": "markdown",
   "metadata": {},
   "source": [
    "# Pure blocks\n",
    "\n",
    "i will now set all other elements zero"
   ]
  },
  {
   "cell_type": "markdown",
   "metadata": {},
   "source": [
    "## Utilities"
   ]
  },
  {
   "cell_type": "code",
   "execution_count": 9,
   "metadata": {
    "scrolled": true
   },
   "outputs": [],
   "source": [
    "from SCFInitialGuess.utilities.constants import number_of_basis_functions as N_BASIS\n",
    "\n",
    "mol = molecules[1][0]\n",
    "\n",
    "mask = np.zeros((dim, dim))\n",
    "\n",
    "current_dim = 0\n",
    "for atom in mol.species:\n",
    "    \n",
    "    # calculate block range\n",
    "    index_start = current_dim\n",
    "    current_dim += N_BASIS[basis][atom] \n",
    "    index_end = current_dim\n",
    "    \n",
    "    # calculate logical vector\n",
    "    L = np.arange(dim)\n",
    "    L = np.logical_and(index_start <= L, L < index_end)\n",
    "    \n",
    "    m = np.logical_and.outer(L, L)\n",
    "    mask = np.logical_or(mask, m)\n",
    "    \n",
    "#mask"
   ]
  },
  {
   "cell_type": "code",
   "execution_count": 10,
   "metadata": {
    "scrolled": false
   },
   "outputs": [
    {
     "data": {
      "text/plain": [
       "<matplotlib.axes._subplots.AxesSubplot at 0x7fe85770dd30>"
      ]
     },
     "execution_count": 10,
     "metadata": {},
     "output_type": "execute_result"
    },
    {
     "data": {
      "image/png": "[encoded data removed]",
      "text/plain": [
       "<matplotlib.figure.Figure at 0x7fe84e269550>"
      ]
     },
     "metadata": {},
     "output_type": "display_data"
    }
   ],
   "source": [
    "import seaborn as sns\n",
    "\n",
    "sns.heatmap(mask.astype(\"int\"))"
   ]
  },
  {
   "cell_type": "code",
   "execution_count": 11,
   "metadata": {
    "scrolled": true
   },
   "outputs": [],
   "source": [
    "from SCFInitialGuess.utilities.dataset import reconstruct_from_triu\n",
    "\n",
    "def extract_pure(p):\n",
    "    p_batch = p.copy()\n",
    "    p_batch[np.logical_not(mask)] = 0\n",
    "    return p_batch\n",
    "\n",
    "p_pure = np.array(list(map(extract_pure, p_test))).astype(\"float64\")"
   ]
  },
  {
   "cell_type": "code",
   "execution_count": 12,
   "metadata": {},
   "outputs": [],
   "source": [
    "np.save(data_path + subfolder + \"p_pure.npy\", p_pure)"
   ]
  },
  {
   "cell_type": "code",
   "execution_count": 13,
   "metadata": {
    "scrolled": true
   },
   "outputs": [
    {
     "data": {
      "text/plain": [
       "<matplotlib.axes._subplots.AxesSubplot at 0x7fe84e11cf28>"
      ]
     },
     "execution_count": 13,
     "metadata": {},
     "output_type": "execute_result"
    },
    {
     "data": {
      "image/png": "[encoded data removed]",
      "text/plain": [
       "<matplotlib.figure.Figure at 0x7fe84e0cd9e8>"
      ]
     },
     "metadata": {},
     "output_type": "display_data"
    }
   ],
   "source": [
    "sns.heatmap(p_pure[0])"
   ]
  },
  {
   "cell_type": "code",
   "execution_count": 14,
   "metadata": {
    "scrolled": true
   },
   "outputs": [
    {
     "name": "stdout",
     "output_type": "stream",
     "text": [
      "--- Absolute Error ---\n",
      "8.20873E-03 +- 6.77712E-03\n",
      "--- Symmetry Error ---\n",
      "0.00000E+00 +- 0.00000E+00\n",
      "--- Idempotence Error ---\n",
      "8.46690E-03 +- 1.43952E-03\n",
      "--- Occupance Error ---\n",
      "3.07556E+00 +- 6.47749E-01\n",
      "--- HF Energy Error ---\n",
      "4.28340E+00 +- 1.13191E+00\n",
      "--- Avg. Iterations ---\n",
      "3.16064E+01 +- 1.77203E+01\n",
      "--- Avg. Iterations W/O Non Converged ---\n",
      "2.77827E+01 +- 7.44496E+00\n",
      "--- Num. Not Convd. ---\n",
      "53\n",
      "\n"
     ]
    }
   ],
   "source": [
    "print(make_results_str(measure_all_quantities(\n",
    "    p_pure,\n",
    "    dataset,\n",
    "    molecules[1],\n",
    "    N_ELECTRONS,\n",
    "    mf_initializer,\n",
    "    dim,\n",
    "    is_triu=False,\n",
    "    is_dataset_triu=False,\n",
    "    s=S[ind:]\n",
    ")))"
   ]
  },
  {
   "cell_type": "markdown",
   "metadata": {},
   "source": [
    "# Embedding the Blocks In Classical Guesses"
   ]
  },
  {
   "cell_type": "code",
   "execution_count": 15,
   "metadata": {},
   "outputs": [],
   "source": [
    "from SCFInitialGuess.utilities.dataset import reconstruct_from_triu\n",
    "\n",
    "def embedd(x, y):\n",
    "    p = x.copy()\n",
    "    p[mask] = (y.copy())[mask]\n",
    "    return p\n",
    "\n",
    "def embedd_batch(p_batch):\n",
    "    p_embedded = []\n",
    "    for (p_guess, p_conv) in zip(p_batch, p_test):\n",
    "        p_embedded.append(embedd(p_guess, p_conv))\n",
    "    return np.array(p_embedded)\n"
   ]
  },
  {
   "cell_type": "markdown",
   "metadata": {},
   "source": [
    "## Convergedn in Converged "
   ]
  },
  {
   "cell_type": "code",
   "execution_count": 16,
   "metadata": {},
   "outputs": [],
   "source": [
    "p_test_test = embedd_batch(p_test)"
   ]
  },
  {
   "cell_type": "code",
   "execution_count": 17,
   "metadata": {},
   "outputs": [
    {
     "name": "stdout",
     "output_type": "stream",
     "text": [
      "--- Absolute Error ---\n",
      "0.00000E+00 +- 0.00000E+00\n",
      "--- Symmetry Error ---\n",
      "0.00000E+00 +- 0.00000E+00\n",
      "--- Idempotence Error ---\n",
      "3.07625E-17 +- 6.96180E-18\n",
      "--- Occupance Error ---\n",
      "5.12322E-15 +- 4.26503E-15\n",
      "--- HF Energy Error ---\n",
      "1.09740E-14 +- 1.24156E-14\n",
      "--- Avg. Iterations ---\n",
      "1.00000E+00 +- 0.00000E+00\n",
      "--- Avg. Iterations W/O Non Converged ---\n",
      "1.00000E+00 +- 0.00000E+00\n",
      "--- Num. Not Convd. ---\n",
      "0\n",
      "\n"
     ]
    }
   ],
   "source": [
    "print(make_results_str(measure_all_quantities(\n",
    "    p_test_test,\n",
    "    dataset,\n",
    "    molecules[1],\n",
    "    N_ELECTRONS,\n",
    "    mf_initializer,\n",
    "    dim,\n",
    "    is_triu=False,\n",
    "    is_dataset_triu=False,\n",
    "    s=S[ind:]\n",
    ")))"
   ]
  },
  {
   "cell_type": "markdown",
   "metadata": {},
   "source": [
    "## H_core"
   ]
  },
  {
   "cell_type": "code",
   "execution_count": 18,
   "metadata": {},
   "outputs": [],
   "source": [
    "from pyscf.scf import hf\n",
    "\n",
    "p_1e = np.array([ \n",
    "    hf.init_guess_by_1e(mol.get_pyscf_molecule()) for mol in molecules[1]\n",
    "]).astype(\"float64\")"
   ]
  },
  {
   "cell_type": "code",
   "execution_count": 19,
   "metadata": {},
   "outputs": [],
   "source": [
    "np.save(data_path + subfolder + \"p_1e.npy\", p_1e)"
   ]
  },
  {
   "cell_type": "code",
   "execution_count": 20,
   "metadata": {},
   "outputs": [
    {
     "name": "stdout",
     "output_type": "stream",
     "text": [
      "--- Absolute Error ---\n",
      "2.81846E-02 +- 3.21377E-02\n",
      "--- Symmetry Error ---\n",
      "0.00000E+00 +- 0.00000E+00\n",
      "--- Idempotence Error ---\n",
      "4.99210E-17 +- 1.44397E-17\n",
      "--- Occupance Error ---\n",
      "5.15694E-15 +- 4.22830E-15\n",
      "--- HF Energy Error ---\n",
      "1.98890E+01 +- 1.35611E+00\n",
      "--- Avg. Iterations ---\n",
      "9.98761E+01 +- 2.76893E+00\n",
      "--- Avg. Iterations W/O Non Converged ---\n",
      "3.80000E+01 +- 1.00000E+00\n",
      "--- Num. Not Convd. ---\n",
      "999\n",
      "\n"
     ]
    }
   ],
   "source": [
    "print(make_results_str(measure_all_quantities(\n",
    "    p_1e,\n",
    "    dataset,\n",
    "    molecules[1],\n",
    "    N_ELECTRONS,\n",
    "    mf_initializer,\n",
    "    dim,\n",
    "    is_triu=False,\n",
    "    is_dataset_triu=False,\n",
    "    s=S[ind:]\n",
    ")))"
   ]
  },
  {
   "cell_type": "markdown",
   "metadata": {},
   "source": [
    "## Embedd H_core"
   ]
  },
  {
   "cell_type": "code",
   "execution_count": 21,
   "metadata": {},
   "outputs": [],
   "source": [
    "p_embedded_1e = embedd_batch(p_1e)"
   ]
  },
  {
   "cell_type": "code",
   "execution_count": 22,
   "metadata": {},
   "outputs": [],
   "source": [
    "np.save(data_path + subfolder + \"p_embedded_1e.npy\", p_embedded_1e)"
   ]
  },
  {
   "cell_type": "code",
   "execution_count": 23,
   "metadata": {},
   "outputs": [
    {
     "name": "stdout",
     "output_type": "stream",
     "text": [
      "--- Absolute Error ---\n",
      "1.45666E-02 +- 1.41999E-02\n",
      "--- Symmetry Error ---\n",
      "0.00000E+00 +- 0.00000E+00\n",
      "--- Idempotence Error ---\n",
      "3.29187E-02 +- 1.58313E-02\n",
      "--- Occupance Error ---\n",
      "4.50708E+00 +- 1.27343E+00\n",
      "--- HF Energy Error ---\n",
      "7.38029E+00 +- 4.18001E+00\n",
      "--- Avg. Iterations ---\n",
      "6.84675E+01 +- 3.47102E+01\n",
      "--- Avg. Iterations W/O Non Converged ---\n",
      "3.12331E+01 +- 8.18310E+00\n",
      "--- Num. Not Convd. ---\n",
      "542\n",
      "\n"
     ]
    }
   ],
   "source": [
    "print(make_results_str(measure_all_quantities(\n",
    "    p_embedded_1e,\n",
    "    dataset,\n",
    "    molecules[1],\n",
    "    N_ELECTRONS,\n",
    "    mf_initializer,\n",
    "    dim,\n",
    "    is_triu=False,\n",
    "    is_dataset_triu=False,\n",
    "    s=S[ind:]\n",
    ")))"
   ]
  },
  {
   "cell_type": "code",
   "execution_count": 24,
   "metadata": {},
   "outputs": [
    {
     "data": {
      "text/plain": [
       "0.582089552238806"
      ]
     },
     "execution_count": 24,
     "metadata": {},
     "output_type": "execute_result"
    }
   ],
   "source": [
    "117/201"
   ]
  },
  {
   "cell_type": "markdown",
   "metadata": {},
   "source": [
    "## GWH"
   ]
  },
  {
   "cell_type": "code",
   "execution_count": 25,
   "metadata": {},
   "outputs": [],
   "source": [
    "from pyscf.scf import hf\n",
    "\n",
    "p_gwh = np.array([ \n",
    "    hf.init_guess_by_wolfsberg_helmholtz(mol.get_pyscf_molecule()) for mol in molecules[1]\n",
    "]).astype(\"float64\")"
   ]
  },
  {
   "cell_type": "code",
   "execution_count": 26,
   "metadata": {},
   "outputs": [],
   "source": [
    "np.save(data_path + subfolder + \"p_gwh.npy\", p_gwh)"
   ]
  },
  {
   "cell_type": "code",
   "execution_count": 27,
   "metadata": {},
   "outputs": [
    {
     "data": {
      "text/plain": [
       "<matplotlib.axes._subplots.AxesSubplot at 0x7fe843468198>"
      ]
     },
     "execution_count": 27,
     "metadata": {},
     "output_type": "execute_result"
    },
    {
     "data": {
      "image/png": "[encoded data removed]",
      "text/plain": [
       "<matplotlib.figure.Figure at 0x7fe84e040860>"
      ]
     },
     "metadata": {},
     "output_type": "display_data"
    }
   ],
   "source": [
    "sns.heatmap(p_gwh[0])"
   ]
  },
  {
   "cell_type": "code",
   "execution_count": 28,
   "metadata": {
    "scrolled": true
   },
   "outputs": [
    {
     "name": "stdout",
     "output_type": "stream",
     "text": [
      "--- Absolute Error ---\n",
      "1.44548E-02 +- 1.09225E-02\n",
      "--- Symmetry Error ---\n",
      "0.00000E+00 +- 0.00000E+00\n",
      "--- Idempotence Error ---\n",
      "2.50867E-17 +- 4.84395E-18\n",
      "--- Occupance Error ---\n",
      "3.94845E-15 +- 3.41856E-15\n",
      "--- HF Energy Error ---\n",
      "4.90516E+00 +- 4.94588E-01\n",
      "--- Avg. Iterations ---\n",
      "9.78162E+01 +- 1.18032E+01\n",
      "--- Avg. Iterations W/O Non Converged ---\n",
      "3.57059E+01 +- 1.04051E+01\n",
      "--- Num. Not Convd. ---\n",
      "967\n",
      "\n"
     ]
    }
   ],
   "source": [
    "print(make_results_str(measure_all_quantities(\n",
    "    p_gwh,\n",
    "    dataset,\n",
    "    molecules[1],\n",
    "    N_ELECTRONS,\n",
    "    mf_initializer,\n",
    "    dim,\n",
    "    is_triu=False,\n",
    "    is_dataset_triu=False,\n",
    "    s=S[ind:]\n",
    ")))"
   ]
  },
  {
   "cell_type": "code",
   "execution_count": 29,
   "metadata": {},
   "outputs": [
    {
     "data": {
      "text/plain": [
       "0.945273631840796"
      ]
     },
     "execution_count": 29,
     "metadata": {},
     "output_type": "execute_result"
    }
   ],
   "source": [
    "190/201"
   ]
  },
  {
   "cell_type": "markdown",
   "metadata": {},
   "source": [
    "## Embedded GWH "
   ]
  },
  {
   "cell_type": "code",
   "execution_count": 30,
   "metadata": {},
   "outputs": [],
   "source": [
    "p_embedded_gwh = embedd_batch(p_gwh)"
   ]
  },
  {
   "cell_type": "code",
   "execution_count": 31,
   "metadata": {},
   "outputs": [],
   "source": [
    "np.save(data_path + subfolder + \"p_embedded_gwh.npy\", p_embedded_gwh)"
   ]
  },
  {
   "cell_type": "code",
   "execution_count": 32,
   "metadata": {},
   "outputs": [
    {
     "data": {
      "text/plain": [
       "<matplotlib.axes._subplots.AxesSubplot at 0x7fe84e02b5c0>"
      ]
     },
     "execution_count": 32,
     "metadata": {},
     "output_type": "execute_result"
    },
    {
     "data": {
      "image/png": "[encoded data removed]",
      "text/plain": [
       "<matplotlib.figure.Figure at 0x7fe8433749e8>"
      ]
     },
     "metadata": {},
     "output_type": "display_data"
    }
   ],
   "source": [
    "sns.heatmap(p_embedded_gwh[0])"
   ]
  },
  {
   "cell_type": "code",
   "execution_count": 33,
   "metadata": {},
   "outputs": [
    {
     "name": "stdout",
     "output_type": "stream",
     "text": [
      "--- Absolute Error ---\n",
      "9.32390E-03 +- 6.48266E-03\n",
      "--- Symmetry Error ---\n",
      "0.00000E+00 +- 0.00000E+00\n",
      "--- Idempotence Error ---\n",
      "1.27515E-02 +- 2.25357E-03\n",
      "--- Occupance Error ---\n",
      "1.45108E+00 +- 6.12645E-01\n",
      "--- HF Energy Error ---\n",
      "1.86918E+00 +- 8.92683E-01\n",
      "--- Avg. Iterations ---\n",
      "2.50799E+01 +- 6.64060E+00\n",
      "--- Avg. Iterations W/O Non Converged ---\n",
      "2.50799E+01 +- 6.64060E+00\n",
      "--- Num. Not Convd. ---\n",
      "0\n",
      "\n"
     ]
    }
   ],
   "source": [
    "print(make_results_str(measure_all_quantities(\n",
    "    p_embedded_gwh,\n",
    "    dataset,\n",
    "    molecules[1],\n",
    "    N_ELECTRONS,\n",
    "    mf_initializer,\n",
    "    dim,\n",
    "    is_triu=False,\n",
    "    is_dataset_triu=False,\n",
    "    s=S[ind:]\n",
    ")))"
   ]
  },
  {
   "cell_type": "code",
   "execution_count": 34,
   "metadata": {},
   "outputs": [],
   "source": [
    "import seaborn as sns"
   ]
  },
  {
   "cell_type": "markdown",
   "metadata": {},
   "source": [
    "## SAD "
   ]
  },
  {
   "cell_type": "code",
   "execution_count": 35,
   "metadata": {},
   "outputs": [
    {
     "data": {
      "text/plain": [
       "<matplotlib.axes._subplots.AxesSubplot at 0x7fe843284208>"
      ]
     },
     "execution_count": 35,
     "metadata": {},
     "output_type": "execute_result"
    },
    {
     "data": {
      "image/png": "[encoded data removed]",
      "text/plain": [
       "<matplotlib.figure.Figure at 0x7fe84331e898>"
      ]
     },
     "metadata": {},
     "output_type": "display_data"
    }
   ],
   "source": [
    "from pyscf.scf import hf\n",
    "\n",
    "p_sad = np.array([\n",
    "    hf.init_guess_by_atom(mol.get_pyscf_molecule()) for mol in molecules[1]\n",
    "]).astype(\"float64\")\n",
    "\n",
    "sns.heatmap(p_sad[0])"
   ]
  },
  {
   "cell_type": "code",
   "execution_count": 36,
   "metadata": {},
   "outputs": [
    {
     "data": {
      "text/plain": [
       "<matplotlib.axes._subplots.AxesSubplot at 0x7fe8432209e8>"
      ]
     },
     "execution_count": 36,
     "metadata": {},
     "output_type": "execute_result"
    },
    {
     "data": {
      "image/png": "[encoded data removed]",
      "text/plain": [
       "<matplotlib.figure.Figure at 0x7fe84e0d2be0>"
      ]
     },
     "metadata": {},
     "output_type": "display_data"
    }
   ],
   "source": [
    "sns.heatmap(np.abs(p_sad[0]-p_pure[0]))"
   ]
  },
  {
   "cell_type": "code",
   "execution_count": 37,
   "metadata": {},
   "outputs": [],
   "source": [
    "np.save(data_path + subfolder + \"p_sad.npy\", p_sad)"
   ]
  },
  {
   "cell_type": "code",
   "execution_count": 38,
   "metadata": {},
   "outputs": [
    {
     "name": "stdout",
     "output_type": "stream",
     "text": [
      "--- Absolute Error ---\n",
      "1.18737E-02 +- 9.66758E-03\n",
      "--- Symmetry Error ---\n",
      "5.53474E-20 +- 1.32194E-20\n",
      "--- Idempotence Error ---\n",
      "1.16617E-02 +- 6.15850E-04\n",
      "--- Occupance Error ---\n",
      "4.14897E-15 +- 3.56300E-15\n",
      "--- HF Energy Error ---\n",
      "4.72071E-01 +- 2.54231E-01\n",
      "--- Avg. Iterations ---\n",
      "2.54116E+01 +- 8.09326E+00\n",
      "--- Avg. Iterations W/O Non Converged ---\n",
      "2.54116E+01 +- 8.09326E+00\n",
      "--- Num. Not Convd. ---\n",
      "0\n",
      "\n"
     ]
    }
   ],
   "source": [
    "print(make_results_str(measure_all_quantities(\n",
    "    p_sad,\n",
    "    dataset,\n",
    "    molecules[1],\n",
    "    N_ELECTRONS,\n",
    "    mf_initializer,\n",
    "    dim,\n",
    "    is_triu=False,\n",
    "    is_dataset_triu=False,\n",
    "    s=S[ind:]\n",
    ")))"
   ]
  },
  {
   "cell_type": "markdown",
   "metadata": {},
   "source": [
    "## Embedded SAD"
   ]
  },
  {
   "cell_type": "code",
   "execution_count": 39,
   "metadata": {},
   "outputs": [],
   "source": [
    "p_embedded_sad = embedd_batch(p_sad)"
   ]
  },
  {
   "cell_type": "code",
   "execution_count": 40,
   "metadata": {},
   "outputs": [
    {
     "data": {
      "text/plain": [
       "<matplotlib.axes._subplots.AxesSubplot at 0x7fe8431bf518>"
      ]
     },
     "execution_count": 40,
     "metadata": {},
     "output_type": "execute_result"
    },
    {
     "data": {
      "image/png": "[encoded data removed]",
      "text/plain": [
       "<matplotlib.figure.Figure at 0x7fe843105588>"
      ]
     },
     "metadata": {},
     "output_type": "display_data"
    }
   ],
   "source": [
    "sns.heatmap(p_embedded_sad[0])"
   ]
  },
  {
   "cell_type": "code",
   "execution_count": 41,
   "metadata": {},
   "outputs": [],
   "source": [
    "np.save(data_path + subfolder + \"p_embedded_sad.npy\", p_embedded_sad)"
   ]
  },
  {
   "cell_type": "code",
   "execution_count": 42,
   "metadata": {},
   "outputs": [
    {
     "name": "stdout",
     "output_type": "stream",
     "text": [
      "--- Absolute Error ---\n",
      "8.20873E-03 +- 6.77712E-03\n",
      "--- Symmetry Error ---\n",
      "2.36128E-32 +- 1.47042E-32\n",
      "--- Idempotence Error ---\n",
      "8.46690E-03 +- 1.43952E-03\n",
      "--- Occupance Error ---\n",
      "3.07556E+00 +- 6.47749E-01\n",
      "--- HF Energy Error ---\n",
      "4.28340E+00 +- 1.13191E+00\n",
      "--- Avg. Iterations ---\n",
      "3.16064E+01 +- 1.77203E+01\n",
      "--- Avg. Iterations W/O Non Converged ---\n",
      "2.77827E+01 +- 7.44496E+00\n",
      "--- Num. Not Convd. ---\n",
      "53\n",
      "\n"
     ]
    }
   ],
   "source": [
    "print(make_results_str(measure_all_quantities(\n",
    "    p_embedded_sad,\n",
    "    dataset,\n",
    "    molecules[1],\n",
    "    N_ELECTRONS,\n",
    "    mf_initializer,\n",
    "    dim,\n",
    "    is_triu=False,\n",
    "    is_dataset_triu=False,\n",
    "    s=S[ind:]\n",
    ")))"
   ]
  },
  {
   "cell_type": "code",
   "execution_count": 43,
   "metadata": {},
   "outputs": [
    {
     "data": {
      "text/plain": [
       "0.05472636815920398"
      ]
     },
     "execution_count": 43,
     "metadata": {},
     "output_type": "execute_result"
    }
   ],
   "source": [
    "11/201"
   ]
  },
  {
   "cell_type": "markdown",
   "metadata": {},
   "source": [
    "# McWheeny"
   ]
  },
  {
   "cell_type": "code",
   "execution_count": 44,
   "metadata": {},
   "outputs": [],
   "source": [
    "from SCFInitialGuess.nn.post_processing import multi_mc_wheeny\n",
    "\n",
    "def multi_mc_wheeny_batch(p_batch):\n",
    "    p_res = []\n",
    "    for p, s in zip(p_batch, s_test):\n",
    "        p_res.append(multi_mc_wheeny(p, s, 5))\n",
    "    return np.asarray(p_res)"
   ]
  },
  {
   "cell_type": "code",
   "execution_count": 67,
   "metadata": {},
   "outputs": [
    {
     "data": {
      "text/plain": [
       "(1001, 72, 72)"
      ]
     },
     "execution_count": 67,
     "metadata": {},
     "output_type": "execute_result"
    }
   ],
   "source": [
    "s_test.shape"
   ]
  },
  {
   "cell_type": "code",
   "execution_count": 78,
   "metadata": {},
   "outputs": [
    {
     "data": {
      "text/plain": [
       "14.017269015869562"
      ]
     },
     "execution_count": 78,
     "metadata": {},
     "output_type": "execute_result"
    }
   ],
   "source": [
    "from SCFInitialGuess.utilities.analysis import measure_occupance_error\n",
    "\n",
    "#np.mean(list(\n",
    "x = np.array(list(measure_occupance_error(p_embedded_gwh_mcw5, s_test, 0)))\n",
    "#))\n",
    "np.mean(x[x<20])"
   ]
  },
  {
   "cell_type": "markdown",
   "metadata": {},
   "source": [
    "## GWH "
   ]
  },
  {
   "cell_type": "code",
   "execution_count": 45,
   "metadata": {},
   "outputs": [],
   "source": [
    "p_embedded_gwh_mcw5 = multi_mc_wheeny_batch(p_embedded_gwh)"
   ]
  },
  {
   "cell_type": "code",
   "execution_count": 46,
   "metadata": {},
   "outputs": [],
   "source": [
    "np.save(data_path + subfolder + \"p_embedded_gwh_mcw5.npy\", p_embedded_gwh_mcw5)"
   ]
  },
  {
   "cell_type": "code",
   "execution_count": 47,
   "metadata": {},
   "outputs": [
    {
     "data": {
      "text/plain": [
       "<matplotlib.axes._subplots.AxesSubplot at 0x7fe843049470>"
      ]
     },
     "execution_count": 47,
     "metadata": {},
     "output_type": "execute_result"
    },
    {
     "data": {
      "image/png": "[encoded data removed]",
      "text/plain": [
       "<matplotlib.figure.Figure at 0x7fe84304f6a0>"
      ]
     },
     "metadata": {},
     "output_type": "display_data"
    }
   ],
   "source": [
    "sns.heatmap(p_embedded_gwh_mcw5[0])"
   ]
  },
  {
   "cell_type": "code",
   "execution_count": null,
   "metadata": {},
   "outputs": [],
   "source": []
  },
  {
   "cell_type": "code",
   "execution_count": 48,
   "metadata": {
    "scrolled": true
   },
   "outputs": [
    {
     "name": "stderr",
     "output_type": "stream",
     "text": [
      "/home/jo/anaconda3/lib/python3.6/site-packages/numpy/core/_methods.py:116: RuntimeWarning: overflow encountered in multiply\n",
      "  x = um.multiply(x, x, out=x)\n"
     ]
    },
    {
     "name": "stdout",
     "output_type": "stream",
     "text": [
      "--- Absolute Error ---\n",
      "1.78454E+100 +- 8.94858E+101\n",
      "--- Symmetry Error ---\n",
      "1.47874E+85 +- 4.09688E+86\n",
      "--- Idempotence Error ---\n",
      "2.07371E+206 +- INF\n",
      "--- Occupance Error ---\n",
      "1.55896E+103 +- 4.25527E+104\n",
      "--- HF Energy Error ---\n",
      "1.92797E+208 +- INF\n",
      "--- Avg. Iterations ---\n",
      "4.30480E+01 +- 3.27109E+01\n",
      "--- Avg. Iterations W/O Non Converged ---\n",
      "2.48893E+01 +- 6.87443E+00\n",
      "--- Num. Not Convd. ---\n",
      "242\n",
      "\n"
     ]
    }
   ],
   "source": [
    "print(make_results_str(measure_all_quantities(\n",
    "    p_embedded_gwh_mcw5,\n",
    "    dataset,\n",
    "    molecules[1],\n",
    "    N_ELECTRONS,\n",
    "    mf_initializer,\n",
    "    dim,\n",
    "    is_triu=False,\n",
    "    is_dataset_triu=False,\n",
    "    s=S[ind:]\n",
    ")))"
   ]
  },
  {
   "cell_type": "code",
   "execution_count": 49,
   "metadata": {},
   "outputs": [
    {
     "data": {
      "text/plain": [
       "0.24378109452736318"
      ]
     },
     "execution_count": 49,
     "metadata": {},
     "output_type": "execute_result"
    }
   ],
   "source": [
    "49/201"
   ]
  },
  {
   "cell_type": "markdown",
   "metadata": {},
   "source": [
    "## SAD "
   ]
  },
  {
   "cell_type": "code",
   "execution_count": 50,
   "metadata": {},
   "outputs": [],
   "source": [
    "p_embedded_sad_mcw5 = multi_mc_wheeny_batch(p_embedded_sad)"
   ]
  },
  {
   "cell_type": "code",
   "execution_count": 51,
   "metadata": {},
   "outputs": [],
   "source": [
    "np.save(data_path + subfolder + \"p_embedded_sad_mcw5.npy\", p_embedded_sad_mcw5)"
   ]
  },
  {
   "cell_type": "code",
   "execution_count": 52,
   "metadata": {},
   "outputs": [
    {
     "data": {
      "text/plain": [
       "<matplotlib.axes._subplots.AxesSubplot at 0x7fe842f8f588>"
      ]
     },
     "execution_count": 52,
     "metadata": {},
     "output_type": "execute_result"
    },
    {
     "data": {
      "image/png": "[encoded data removed]",
      "text/plain": [
       "<matplotlib.figure.Figure at 0x7fe8431202b0>"
      ]
     },
     "metadata": {},
     "output_type": "display_data"
    }
   ],
   "source": [
    "sns.heatmap(p_embedded_gwh_mcw5[0])"
   ]
  },
  {
   "cell_type": "code",
   "execution_count": 53,
   "metadata": {},
   "outputs": [
    {
     "name": "stderr",
     "output_type": "stream",
     "text": [
      "/home/jo/anaconda3/lib/python3.6/site-packages/numpy/core/_methods.py:116: RuntimeWarning: overflow encountered in multiply\n",
      "  x = um.multiply(x, x, out=x)\n"
     ]
    },
    {
     "name": "stdout",
     "output_type": "stream",
     "text": [
      "--- Absolute Error ---\n",
      "5.88423E+79 +- 3.56254E+81\n",
      "--- Symmetry Error ---\n",
      "4.77561E+64 +- 1.47263E+66\n",
      "--- Idempotence Error ---\n",
      "3.29502E+165 +- INF\n",
      "--- Occupance Error ---\n",
      "5.84874E+82 +- 1.80878E+84\n",
      "--- HF Energy Error ---\n",
      "3.37395E+167 +- INF\n",
      "--- Avg. Iterations ---\n",
      "6.88681E+01 +- 3.51605E+01\n",
      "--- Avg. Iterations W/O Non Converged ---\n",
      "2.99708E+01 +- 7.54591E+00\n",
      "--- Num. Not Convd. ---\n",
      "556\n",
      "\n"
     ]
    }
   ],
   "source": [
    "print(make_results_str(measure_all_quantities(\n",
    "    p_embedded_sad_mcw5,\n",
    "    dataset,\n",
    "    molecules[1],\n",
    "    N_ELECTRONS,\n",
    "    mf_initializer,\n",
    "    dim,\n",
    "    is_triu=False,\n",
    "    is_dataset_triu=False,\n",
    "    s=S[ind:]\n",
    ")))"
   ]
  },
  {
   "cell_type": "code",
   "execution_count": 54,
   "metadata": {},
   "outputs": [
    {
     "data": {
      "text/plain": [
       "0.5671641791044776"
      ]
     },
     "execution_count": 54,
     "metadata": {},
     "output_type": "execute_result"
    }
   ],
   "source": [
    "114/201"
   ]
  },
  {
   "cell_type": "markdown",
   "metadata": {},
   "source": [
    "# Embedd Outer "
   ]
  },
  {
   "cell_type": "code",
   "execution_count": 55,
   "metadata": {},
   "outputs": [],
   "source": [
    "from SCFInitialGuess.utilities.dataset import reconstruct_from_triu\n",
    "\n",
    "def embedd_outer(x, y):\n",
    "    p = x.copy()\n",
    "    p[np.logical_not(mask)] = (y.copy())[np.logical_not(mask)]\n",
    "    return p\n",
    "\n",
    "def embedd_batch_outer(p_batch):\n",
    "    p_embedded = []\n",
    "    for (p_guess, p_conv) in zip(p_batch, p_test):\n",
    "        p_embedded.append(embedd_outer(p_guess, p_conv))\n",
    "    return np.array(p_embedded)"
   ]
  },
  {
   "cell_type": "markdown",
   "metadata": {},
   "source": [
    "## Converged "
   ]
  },
  {
   "cell_type": "code",
   "execution_count": 56,
   "metadata": {},
   "outputs": [
    {
     "name": "stdout",
     "output_type": "stream",
     "text": [
      "--- Absolute Error ---\n",
      "0.00000E+00 +- 0.00000E+00\n",
      "--- Symmetry Error ---\n",
      "0.00000E+00 +- 0.00000E+00\n",
      "--- Idempotence Error ---\n",
      "3.07625E-17 +- 6.96180E-18\n",
      "--- Occupance Error ---\n",
      "5.12322E-15 +- 4.26503E-15\n",
      "--- HF Energy Error ---\n",
      "1.09882E-14 +- 1.23460E-14\n",
      "--- Avg. Iterations ---\n",
      "1.00000E+00 +- 0.00000E+00\n",
      "--- Avg. Iterations W/O Non Converged ---\n",
      "1.00000E+00 +- 0.00000E+00\n",
      "--- Num. Not Convd. ---\n",
      "0\n",
      "\n"
     ]
    }
   ],
   "source": [
    "print(make_results_str(measure_all_quantities(\n",
    "    embedd_batch_outer(p_test),\n",
    "    dataset,\n",
    "    molecules[1],\n",
    "    N_ELECTRONS,\n",
    "    mf_initializer,\n",
    "    dim,\n",
    "    is_triu=False,\n",
    "    is_dataset_triu=False,\n",
    "    s=S[ind:]\n",
    ")))"
   ]
  },
  {
   "cell_type": "code",
   "execution_count": 57,
   "metadata": {},
   "outputs": [
    {
     "name": "stdout",
     "output_type": "stream",
     "text": [
      "--- Absolute Error ---\n",
      "0.00000E+00 +- 0.00000E+00\n",
      "--- Symmetry Error ---\n",
      "0.00000E+00 +- 0.00000E+00\n",
      "--- Idempotence Error ---\n",
      "3.07625E-17 +- 6.96180E-18\n",
      "--- Occupance Error ---\n",
      "5.12322E-15 +- 4.26503E-15\n",
      "--- HF Energy Error ---\n",
      "1.15419E-14 +- 1.30388E-14\n",
      "--- Avg. Iterations ---\n",
      "1.00000E+00 +- 0.00000E+00\n",
      "--- Avg. Iterations W/O Non Converged ---\n",
      "1.00000E+00 +- 0.00000E+00\n",
      "--- Num. Not Convd. ---\n",
      "0\n",
      "\n"
     ]
    }
   ],
   "source": [
    "print(make_results_str(measure_all_quantities(\n",
    "    embedd_batch_outer(p_embedded_sad),\n",
    "    dataset,\n",
    "    molecules[1],\n",
    "    N_ELECTRONS,\n",
    "    mf_initializer,\n",
    "    dim,\n",
    "    is_triu=False,\n",
    "    is_dataset_triu=False,\n",
    "    s=S[ind:]\n",
    ")))"
   ]
  },
  {
   "cell_type": "markdown",
   "metadata": {},
   "source": [
    "## SAD "
   ]
  },
  {
   "cell_type": "code",
   "execution_count": 58,
   "metadata": {},
   "outputs": [
    {
     "data": {
      "text/plain": [
       "<matplotlib.axes._subplots.AxesSubplot at 0x7fe842e9cfd0>"
      ]
     },
     "execution_count": 58,
     "metadata": {},
     "output_type": "execute_result"
    },
    {
     "data": {
      "image/png": "[encoded data removed]",
      "text/plain": [
       "<matplotlib.figure.Figure at 0x7fe842ee57b8>"
      ]
     },
     "metadata": {},
     "output_type": "display_data"
    }
   ],
   "source": [
    "p_embedded_outer_sad = embedd_batch_outer(p_sad)\n",
    "sns.heatmap(p_embedded_outer_sad[0])"
   ]
  },
  {
   "cell_type": "code",
   "execution_count": 59,
   "metadata": {},
   "outputs": [],
   "source": [
    "np.save(data_path + subfolder + \"p_embedded_outer_sad.npy\", p_embedded_outer_sad)"
   ]
  },
  {
   "cell_type": "code",
   "execution_count": 60,
   "metadata": {
    "scrolled": true
   },
   "outputs": [
    {
     "name": "stdout",
     "output_type": "stream",
     "text": [
      "--- Absolute Error ---\n",
      "3.66496E-03 +- 3.83426E-03\n",
      "--- Symmetry Error ---\n",
      "5.53474E-20 +- 1.32194E-20\n",
      "--- Idempotence Error ---\n",
      "1.46897E-02 +- 2.33586E-03\n",
      "--- Occupance Error ---\n",
      "3.07556E+00 +- 6.47749E-01\n",
      "--- HF Energy Error ---\n",
      "1.89968E+00 +- 2.61192E-01\n",
      "--- Avg. Iterations ---\n",
      "5.51838E+01 +- 3.33707E+01\n",
      "--- Avg. Iterations W/O Non Converged ---\n",
      "3.08767E+01 +- 6.11650E+00\n",
      "--- Num. Not Convd. ---\n",
      "352\n",
      "\n"
     ]
    }
   ],
   "source": [
    "print(make_results_str(measure_all_quantities(\n",
    "    p_embedded_outer_sad,\n",
    "    dataset,\n",
    "    molecules[1],\n",
    "    N_ELECTRONS,\n",
    "    mf_initializer,\n",
    "    dim,\n",
    "    is_triu=False,\n",
    "    is_dataset_triu=False,\n",
    "    s=S[ind:]\n",
    ")))"
   ]
  },
  {
   "cell_type": "code",
   "execution_count": 61,
   "metadata": {},
   "outputs": [
    {
     "data": {
      "text/plain": [
       "0.3383084577114428"
      ]
     },
     "execution_count": 61,
     "metadata": {},
     "output_type": "execute_result"
    }
   ],
   "source": [
    "68 / 201"
   ]
  },
  {
   "cell_type": "markdown",
   "metadata": {},
   "source": [
    "## GWH "
   ]
  },
  {
   "cell_type": "code",
   "execution_count": 62,
   "metadata": {},
   "outputs": [
    {
     "data": {
      "text/plain": [
       "<matplotlib.axes._subplots.AxesSubplot at 0x7fe842dfc4e0>"
      ]
     },
     "execution_count": 62,
     "metadata": {},
     "output_type": "execute_result"
    },
    {
     "data": {
      "image/png": "[encoded data removed]",
      "text/plain": [
       "<matplotlib.figure.Figure at 0x7fe842e6ec50>"
      ]
     },
     "metadata": {},
     "output_type": "display_data"
    }
   ],
   "source": [
    "p_embedded_outer_gwh = embedd_batch_outer(p_gwh)\n",
    "sns.heatmap(p_embedded_outer_gwh[0])"
   ]
  },
  {
   "cell_type": "code",
   "execution_count": 63,
   "metadata": {},
   "outputs": [],
   "source": [
    "np.save(data_path + subfolder + \"p_embedded_outer_gwh.npy\", p_embedded_outer_gwh)"
   ]
  },
  {
   "cell_type": "code",
   "execution_count": 64,
   "metadata": {
    "scrolled": true
   },
   "outputs": [
    {
     "name": "stdout",
     "output_type": "stream",
     "text": [
      "--- Absolute Error ---\n",
      "5.13090E-03 +- 5.57438E-03\n",
      "--- Symmetry Error ---\n",
      "0.00000E+00 +- 0.00000E+00\n",
      "--- Idempotence Error ---\n",
      "1.35473E-02 +- 2.31998E-03\n",
      "--- Occupance Error ---\n",
      "1.45108E+00 +- 6.12645E-01\n",
      "--- HF Energy Error ---\n",
      "4.23374E+00 +- 7.43397E-01\n",
      "--- Avg. Iterations ---\n",
      "9.74705E+01 +- 1.22077E+01\n",
      "--- Avg. Iterations W/O Non Converged ---\n",
      "3.97143E+01 +- 8.36457E+00\n",
      "--- Num. Not Convd. ---\n",
      "959\n",
      "\n"
     ]
    }
   ],
   "source": [
    "print(make_results_str(measure_all_quantities(\n",
    "    p_embedded_outer_gwh,\n",
    "    dataset,\n",
    "    molecules[1],\n",
    "    N_ELECTRONS,\n",
    "    mf_initializer,\n",
    "    dim,\n",
    "    is_triu=False,\n",
    "    is_dataset_triu=False,\n",
    "    s=S[ind:]\n",
    ")))"
   ]
  },
  {
   "cell_type": "code",
   "execution_count": 65,
   "metadata": {},
   "outputs": [
    {
     "data": {
      "text/plain": [
       "0.9651741293532339"
      ]
     },
     "execution_count": 65,
     "metadata": {},
     "output_type": "execute_result"
    }
   ],
   "source": [
    "194 / 201"
   ]
  },
  {
   "cell_type": "code",
   "execution_count": null,
   "metadata": {},
   "outputs": [],
   "source": []
  },
  {
   "cell_type": "code",
   "execution_count": null,
   "metadata": {},
   "outputs": [],
   "source": []
  }
 ],
 "metadata": {
  "kernelspec": {
   "display_name": "Python 3",
   "language": "python",
   "name": "python3"
  },
  "language_info": {
   "codemirror_mode": {
    "name": "ipython",
    "version": 3
   },
   "file_extension": ".py",
   "mimetype": "text/x-python",
   "name": "python",
   "nbconvert_exporter": "python",
   "pygments_lexer": "ipython3",
   "version": "3.6.4"
  }
 },
 "nbformat": 4,
 "nbformat_minor": 2
}
