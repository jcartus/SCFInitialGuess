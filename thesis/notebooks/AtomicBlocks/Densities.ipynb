{
 "cells": [
  {
   "cell_type": "code",
   "execution_count": 1,
   "metadata": {},
   "outputs": [
    {
     "name": "stderr",
     "output_type": "stream",
     "text": [
      "/home/jo/anaconda3/lib/python3.6/site-packages/h5py/__init__.py:36: FutureWarning: Conversion of the second argument of issubdtype from `float` to `np.floating` is deprecated. In future, it will be treated as `np.float64 == np.dtype(float).type`.\n",
      "  from ._conv import register_converters as _register_converters\n"
     ]
    }
   ],
   "source": [
    "import numpy as np\n",
    "import matplotlib.pyplot as plt\n",
    "from pyscf.scf import hf\n",
    "\n",
    "import matplotlib as mpl\n",
    "mpl.style.use([\"seaborn\", \"thesis\"])\n",
    "ticker = mpl.ticker\n",
    "\n",
    "from SCFInitialGuess.utilities.analysis import density_cut, matrix_error\n",
    "\n",
    "export_folder = \"/home/jo/Repos/MastersThesis/EmbeddedBlocks/figures/\"\n"
   ]
  },
  {
   "cell_type": "markdown",
   "metadata": {},
   "source": [
    "# Fetch Dataset "
   ]
  },
  {
   "cell_type": "code",
   "execution_count": 36,
   "metadata": {},
   "outputs": [],
   "source": [
    "folder = \"../../dataset/EthenT/\"\n",
    "subfolder = \"EmbeddedBlocks/\"\n",
    "postfix = \"EthenT\"\n",
    "basis = \"6-311++g**\"\n",
    "molecules = np.load(folder + \"molecules\" + postfix + \".npy\")\n",
    "ind_test = int(0.8 * len(molecules))\n",
    "molecules = molecules[ind_test:]"
   ]
  },
  {
   "cell_type": "markdown",
   "metadata": {},
   "source": [
    "# Select Molecule "
   ]
  },
  {
   "cell_type": "code",
   "execution_count": 37,
   "metadata": {},
   "outputs": [
    {
     "name": "stdout",
     "output_type": "stream",
     "text": [
      "0, 0.9102344890727743\n",
      "1, 0.8746059896912074\n",
      "2, 0.8159171822365922\n",
      "4, 0.4087638729158207\n",
      "20, 0.2733965353980224\n",
      "31, 0.2543033894296101\n",
      "130, 0.16325977276193834\n",
      "153, 0.14742367933393005\n",
      "156, 0.11436080088220853\n"
     ]
    }
   ],
   "source": [
    "ind = 0 \n",
    "std_min = 1e5\n",
    "for i, mol in enumerate(molecules):\n",
    "    \n",
    "    std = np.std(np.array(mol.positions)[:, 2])\n",
    "    \n",
    "    if std < std_min:\n",
    "        ind = i\n",
    "        std_min = std\n",
    "        print(str(i) + \", \" + str(std))"
   ]
  },
  {
   "cell_type": "code",
   "execution_count": 38,
   "metadata": {},
   "outputs": [
    {
     "data": {
      "text/plain": [
       "[('C', [-2.0067141349, 0.6287976193, -0.0633864471]),\n",
       " ('C', [-3.1046580953, 0.5125558884, 0.052710516]),\n",
       " ('H', [-2.9861683921, -0.8473736489, -0.1117090222]),\n",
       " ('H', [-3.9514894562, 1.1627468493, -0.2483410113]),\n",
       " ('H', [-0.6957279226, 0.1163162677, -0.1512003582]),\n",
       " ('H', [-1.4765903595, 1.6103354138, -0.2913884365])]"
      ]
     },
     "execution_count": 38,
     "metadata": {},
     "output_type": "execute_result"
    }
   ],
   "source": [
    "mol = molecules[ind]\n",
    "list(mol.geometry)"
   ]
  },
  {
   "cell_type": "code",
   "execution_count": 39,
   "metadata": {},
   "outputs": [],
   "source": [
    "from pyscf.gto import Mole\n",
    "\n",
    "# this molecule was not in dateset!!!\n",
    "#mole = molecules[1][0].get_pyscf_molecule()\n",
    "mole = Mole()\n",
    "mole.atom = mol.geometry\n",
    "\n",
    "mole.basis = basis\n",
    "mole.build()\n",
    "\n",
    "s = hf.get_ovlp(mole)"
   ]
  },
  {
   "cell_type": "code",
   "execution_count": 40,
   "metadata": {},
   "outputs": [
    {
     "data": {
      "text/plain": [
       "(-0.2561570246905925, 0.21611059305329258)"
      ]
     },
     "execution_count": 40,
     "metadata": {},
     "output_type": "execute_result"
    }
   ],
   "source": [
    "coords = mole.atom_coords()[:, 2]\n",
    "np.mean(coords), np.std(coords)"
   ]
  },
  {
   "cell_type": "markdown",
   "metadata": {},
   "source": [
    "# Parameters "
   ]
  },
  {
   "cell_type": "code",
   "execution_count": 41,
   "metadata": {},
   "outputs": [],
   "source": [
    "z_value = 4.6 #(auch gut: 5.2 besser für bar)\n",
    "nx = 160\n",
    "ny = 160\n",
    "\n",
    "norm = None#plt.Normalize(0, 7.6e-5)"
   ]
  },
  {
   "cell_type": "markdown",
   "metadata": {},
   "source": [
    "# Converged"
   ]
  },
  {
   "cell_type": "code",
   "execution_count": 42,
   "metadata": {},
   "outputs": [
    {
     "data": {
      "image/png": "[encoded data removed]",
      "text/plain": [
       "<matplotlib.figure.Figure at 0x7fa8440521d0>"
      ]
     },
     "metadata": {},
     "output_type": "display_data"
    }
   ],
   "source": [
    "mf = hf.RHF(mole)\n",
    "mf.verbose = 1\n",
    "mf.run()\n",
    "\n",
    "dm = mf.make_rdm1()\n",
    "dm_density, x, y = density_cut(mole, dm, nx, ny, z_value=z_value)\n",
    "\n",
    "plt.contourf(*np.meshgrid(x, y), dm_density, locator=ticker.LogLocator(), norm=norm)\n",
    "plt.colorbar()\n",
    "plt.show()"
   ]
  },
  {
   "cell_type": "markdown",
   "metadata": {},
   "source": [
    "# GWH "
   ]
  },
  {
   "cell_type": "code",
   "execution_count": 43,
   "metadata": {},
   "outputs": [],
   "source": [
    "f_gwh = np.load(folder + subfolder + \"f_gwh.npy\")\n",
    "f_embedded_gwh = np.load(folder + subfolder + \"f_embedded_gwh.npy\")"
   ]
  },
  {
   "cell_type": "markdown",
   "metadata": {},
   "source": [
    "## Normal"
   ]
  },
  {
   "cell_type": "code",
   "execution_count": 44,
   "metadata": {},
   "outputs": [],
   "source": [
    "from SCFInitialGuess.utilities.dataset import density_from_fock"
   ]
  },
  {
   "cell_type": "code",
   "execution_count": 45,
   "metadata": {},
   "outputs": [
    {
     "data": {
      "image/png": "[encoded data removed]",
      "text/plain": [
       "<matplotlib.figure.Figure at 0x7fa83fcb3208>"
      ]
     },
     "metadata": {},
     "output_type": "display_data"
    }
   ],
   "source": [
    "mf = hf.RHF(mole)\n",
    "mf.verbose = 1\n",
    "mf.run()\n",
    "\n",
    "dm = density_from_fock(f_gwh[ind], s, mole)\n",
    "dm_density, x, y = density_cut(mole, dm, nx, ny, z_value=z_value)\n",
    "\n",
    "plt.contourf(*np.meshgrid(x, y), dm_density, locator=ticker.LogLocator(), norm=norm)\n",
    "plt.colorbar()\n",
    "plt.show()"
   ]
  },
  {
   "cell_type": "code",
   "execution_count": 46,
   "metadata": {},
   "outputs": [
    {
     "data": {
      "image/png": "[encoded data removed]",
      "text/plain": [
       "<matplotlib.figure.Figure at 0x7fa83ff80c88>"
      ]
     },
     "metadata": {},
     "output_type": "display_data"
    }
   ],
   "source": [
    "mf = hf.RHF(mole)\n",
    "mf.verbose = 1\n",
    "mf.run()\n",
    "\n",
    "dm = density_from_fock(f_embedded_gwh[ind], s, mole)\n",
    "dm_density, x, y = density_cut(mole, dm, nx, ny, z_value=z_value)\n",
    "\n",
    "plt.contourf(*np.meshgrid(x, y), dm_density, locator=ticker.LogLocator(), norm=norm)\n",
    "plt.colorbar()\n",
    "plt.show()"
   ]
  },
  {
   "cell_type": "markdown",
   "metadata": {},
   "source": [
    "# SAD "
   ]
  },
  {
   "cell_type": "code",
   "execution_count": 47,
   "metadata": {},
   "outputs": [],
   "source": [
    "f_sad = np.load(folder + subfolder + \"f_sad.npy\")\n",
    "f_embedded_sad = np.load(folder + subfolder + \"f_embedded_sad.npy\")"
   ]
  },
  {
   "cell_type": "markdown",
   "metadata": {},
   "source": [
    "## Normal "
   ]
  },
  {
   "cell_type": "code",
   "execution_count": 48,
   "metadata": {},
   "outputs": [
    {
     "data": {
      "image/png": "[encoded data removed]",
      "text/plain": [
       "<matplotlib.figure.Figure at 0x7fa83f4e29b0>"
      ]
     },
     "metadata": {},
     "output_type": "display_data"
    }
   ],
   "source": [
    "mf = hf.RHF(mole)\n",
    "mf.verbose = 1\n",
    "mf.run()\n",
    "\n",
    "dm = density_from_fock(f_sad[ind], s, mole)\n",
    "dm_density, x, y = density_cut(mole, dm, nx, ny, z_value=z_value)\n",
    "\n",
    "plt.contourf(*np.meshgrid(x, y), dm_density, locator=ticker.LogLocator(), norm=norm)\n",
    "plt.colorbar()\n",
    "plt.show()"
   ]
  },
  {
   "cell_type": "markdown",
   "metadata": {},
   "source": [
    "## EMbedded "
   ]
  },
  {
   "cell_type": "code",
   "execution_count": 49,
   "metadata": {},
   "outputs": [
    {
     "data": {
      "image/png": "[encoded data removed]",
      "text/plain": [
       "<matplotlib.figure.Figure at 0x7fa83f9e9588>"
      ]
     },
     "metadata": {},
     "output_type": "display_data"
    }
   ],
   "source": [
    "mf = hf.RHF(mole)\n",
    "mf.verbose = 1\n",
    "mf.run()\n",
    "\n",
    "dm = density_from_fock(f_embedded_gwh[ind], s, mole)\n",
    "dm_density, x, y = density_cut(mole, dm, nx, ny, z_value=z_value)\n",
    "\n",
    "plt.contourf(*np.meshgrid(x, y), dm_density, locator=ticker.LogLocator(), norm=norm)\n",
    "plt.colorbar()\n",
    "plt.show()"
   ]
  },
  {
   "cell_type": "markdown",
   "metadata": {},
   "source": [
    "# H_core "
   ]
  },
  {
   "cell_type": "code",
   "execution_count": 50,
   "metadata": {},
   "outputs": [],
   "source": [
    "f_embedded_core = np.load(folder + subfolder + \"f_pure.npy\")"
   ]
  },
  {
   "cell_type": "markdown",
   "metadata": {},
   "source": [
    "## Actual H_core "
   ]
  },
  {
   "cell_type": "code",
   "execution_count": 51,
   "metadata": {},
   "outputs": [
    {
     "data": {
      "image/png": "[encoded data removed]",
      "text/plain": [
       "<matplotlib.figure.Figure at 0x7fa83f81d400>"
      ]
     },
     "metadata": {},
     "output_type": "display_data"
    }
   ],
   "source": [
    "from pyscf.scf import hf\n",
    "mf = hf.RHF(mole)\n",
    "mf.verbose = 1\n",
    "mf.run()\n",
    "\n",
    "dm = hf.init_guess_by_1e(mole)\n",
    "dm_density, x, y = density_cut(mole, dm, nx, ny, z_value=z_value)\n",
    "\n",
    "plt.contourf(*np.meshgrid(x, y), dm_density, locator=ticker.LogLocator(), norm=norm)\n",
    "plt.colorbar()\n",
    "plt.show()"
   ]
  },
  {
   "cell_type": "markdown",
   "metadata": {},
   "source": [
    "## Embedded zeros "
   ]
  },
  {
   "cell_type": "code",
   "execution_count": 52,
   "metadata": {},
   "outputs": [
    {
     "data": {
      "image/png": "[encoded data removed]",
      "text/plain": [
       "<matplotlib.figure.Figure at 0x7fa83fd86748>"
      ]
     },
     "metadata": {},
     "output_type": "display_data"
    }
   ],
   "source": [
    "mf = hf.RHF(mole)\n",
    "mf.verbose = 1\n",
    "mf.run()\n",
    "\n",
    "dm = density_from_fock(f_embedded_gwh[ind], s, mole)\n",
    "dm_density, x, y = density_cut(mole, dm, nx, ny, z_value=z_value)\n",
    "\n",
    "plt.contourf(*np.meshgrid(x, y), dm_density, locator=ticker.LogLocator(), norm=norm)\n",
    "plt.colorbar()\n",
    "plt.show()"
   ]
  },
  {
   "cell_type": "code",
   "execution_count": null,
   "metadata": {},
   "outputs": [],
   "source": []
  }
 ],
 "metadata": {
  "kernelspec": {
   "display_name": "Python 3",
   "language": "python",
   "name": "python3"
  },
  "language_info": {
   "codemirror_mode": {
    "name": "ipython",
    "version": 3
   },
   "file_extension": ".py",
   "mimetype": "text/x-python",
   "name": "python",
   "nbconvert_exporter": "python",
   "pygments_lexer": "ipython3",
   "version": "3.6.4"
  }
 },
 "nbformat": 4,
 "nbformat_minor": 2
}
