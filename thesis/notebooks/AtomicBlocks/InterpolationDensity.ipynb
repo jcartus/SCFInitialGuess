{
 "cells": [
  {
   "cell_type": "code",
   "execution_count": 1,
   "metadata": {},
   "outputs": [
    {
     "name": "stderr",
     "output_type": "stream",
     "text": [
      "/home/jcartus/anaconda3/lib/python3.6/site-packages/h5py/__init__.py:36: FutureWarning: Conversion of the second argument of issubdtype from `float` to `np.floating` is deprecated. In future, it will be treated as `np.float64 == np.dtype(float).type`.\n",
      "  from ._conv import register_converters as _register_converters\n"
     ]
    }
   ],
   "source": [
    "import numpy as np\n",
    "import matplotlib.pyplot as plt\n",
    "import tensorflow as tf\n",
    "from tensorflow import keras\n",
    "\n",
    "from os.path import join\n",
    "\n",
    "plt.style.use([\"seaborn\", \"thesis\"])"
   ]
  },
  {
   "cell_type": "markdown",
   "metadata": {},
   "source": [
    "# Fetch Dataset "
   ]
  },
  {
   "cell_type": "code",
   "execution_count": null,
   "metadata": {},
   "outputs": [],
   "source": [
    "from SCFInitialGuess.utilities.dataset import extract_triu_batch, AbstractDataset\n",
    "from sklearn.model_selection import train_test_split\n",
    "\n",
    "data_path = \"../../dataset/TSmall_sto3g\"\n",
    "postfix = \"TSmall_sto3g\"\n",
    "dim = 26\n",
    "#data_path = \"../../../butadien/data/\"\n",
    "#postfix = \"\"\n",
    "#dim = 26\n",
    "\n",
    "\n",
    "def split(x, y, ind):\n",
    "    return x[:ind], y[:ind], x[ind:], y[ind:]\n",
    "\n",
    "S = np.load(join(data_path, \"S\" + postfix + \".npy\"))\n",
    "P = np.load(join(data_path, \"P\" + postfix + \".npy\"))\n",
    "F = np.load(join(data_path, \"F\" + postfix + \".npy\"))\n",
    "\n",
    "index = np.load(join(data_path, \"index\" + postfix + \".npy\"))\n",
    "\n",
    "\n",
    "ind = int(0.8 * len(index))\n",
    "\n",
    "molecules = np.load(join(data_path, \"molecules\" + postfix + \".npy\"))\n",
    "molecules = (molecules[:ind], molecules[ind:])\n",
    "\n",
    "\n",
    "\n",
    "s_norm, mu, std = AbstractDataset.normalize(S)\n",
    "\n",
    "\n",
    "s_train, p_train, s_test, p_test = split(s_norm, P, ind)"
   ]
  },
  {
   "cell_type": "code",
   "execution_count": 2,
   "metadata": {},
   "outputs": [],
   "source": [
    "from SCFInitialGuess.utilities.dataset import extract_triu_batch, AbstractDataset\n",
    "from sklearn.model_selection import train_test_split\n",
    "from pyscf.scf import hf\n",
    "\n",
    "data_path = \"/home/jcartus/Repos/SCFInitialGuess/cc2ai/ethen/\"\n",
    "postfix = \"_ethen_6-31g**\"\n",
    "dim = 48\n",
    "#data_path = \"../../dataset/TSmall_sto3g\"\n",
    "#postfix = \"TSmall_sto3g\"\n",
    "#dim = 26\n",
    "#data_path = \"../../../butadien/data/\"\n",
    "#postfix = \"\"\n",
    "#dim = 26\n",
    "\n",
    "\n",
    "def split(x, y, ind):\n",
    "    return x[:ind], y[:ind], x[ind:], y[ind:]\n",
    "\n",
    "S, P = np.load(join(data_path, \"dataset\" + postfix + \".npy\"))\n",
    "#F = np.load(join(data_path, \"F\" + postfix + \".npy\"))\n",
    "\n",
    "#index = np.load(join(data_path, \"index\" + postfix + \".npy\"))\n",
    "\n",
    "\n",
    "ind = int(0.8 * len(S))\n",
    "\n",
    "molecules = np.load(join(data_path, \"molecules\" + postfix + \".npy\"))\n",
    "molecules = (molecules[:ind], molecules[ind:])\n",
    "\n",
    "\n",
    "\n",
    "s_triu_norm, mu, std = AbstractDataset.normalize(S)\n",
    "\n",
    "s_train, p_train, s_test, p_test = split(S.reshape(-1, dim, dim), P.reshape(-1, dim, dim), ind)"
   ]
  },
  {
   "cell_type": "code",
   "execution_count": 3,
   "metadata": {},
   "outputs": [
    {
     "data": {
      "text/plain": [
       "<matplotlib.axes._subplots.AxesSubplot at 0x7fe97905da20>"
      ]
     },
     "execution_count": 3,
     "metadata": {},
     "output_type": "execute_result"
    },
    {
     "data": {
      "image/png": "[encoded data removed]",
      "text/plain": [
       "<matplotlib.figure.Figure at 0x7fe95e710208>"
      ]
     },
     "metadata": {},
     "output_type": "display_data"
    }
   ],
   "source": [
    "import seaborn as sns\n",
    "\n",
    "sns.heatmap(P[0].reshape(dim, dim))"
   ]
  },
  {
   "cell_type": "markdown",
   "metadata": {},
   "source": [
    "# Pure blocks\n",
    "\n",
    "i will now set all other elements zero"
   ]
  },
  {
   "cell_type": "markdown",
   "metadata": {},
   "source": [
    "## Utilities"
   ]
  },
  {
   "cell_type": "code",
   "execution_count": 4,
   "metadata": {},
   "outputs": [],
   "source": [
    "from SCFInitialGuess.utilities.constants import number_of_basis_functions as N_BASIS\n",
    "\n",
    "mol = molecules[0][0]\n",
    "\n",
    "mask = np.zeros((dim, dim))\n",
    "\n",
    "current_dim = 0\n",
    "for atom in mol.species:\n",
    "    \n",
    "    # calculate block range\n",
    "    index_start = current_dim\n",
    "    current_dim += N_BASIS[\"6-31g**\"][atom] \n",
    "    index_end = current_dim\n",
    "    \n",
    "    # calculate logical vector\n",
    "    L = np.arange(dim)\n",
    "    L = np.logical_and(index_start <= L, L < index_end)\n",
    "    \n",
    "    m = np.logical_and.outer(L, L)\n",
    "    mask = np.logical_or(mask, m)\n",
    "    \n",
    "#mask"
   ]
  },
  {
   "cell_type": "code",
   "execution_count": 5,
   "metadata": {
    "scrolled": true
   },
   "outputs": [
    {
     "data": {
      "text/plain": [
       "<matplotlib.axes._subplots.AxesSubplot at 0x7fe977d1b198>"
      ]
     },
     "execution_count": 5,
     "metadata": {},
     "output_type": "execute_result"
    },
    {
     "data": {
      "image/png": "[encoded data removed]",
      "text/plain": [
       "<matplotlib.figure.Figure at 0x7fe97905d400>"
      ]
     },
     "metadata": {},
     "output_type": "display_data"
    }
   ],
   "source": [
    "import seaborn as sns\n",
    "\n",
    "sns.heatmap(mask.astype(\"int\"))"
   ]
  },
  {
   "cell_type": "code",
   "execution_count": 8,
   "metadata": {},
   "outputs": [],
   "source": [
    "from SCFInitialGuess.utilities.dataset import reconstruct_from_triu\n",
    "\n",
    "def extract_pure(p):\n",
    "    p_batch = p.copy()\n",
    "    p_batch[np.logical_not(mask)] = 0.0\n",
    "    return p_batch\n",
    "\n",
    "p_pure = np.array(list(map(extract_pure, p_test))).astype(\"float64\")"
   ]
  },
  {
   "cell_type": "code",
   "execution_count": 9,
   "metadata": {},
   "outputs": [
    {
     "data": {
      "text/plain": [
       "array([[ 2.06134667e+00, -1.01256491e-01, -1.49066059e-01, ...,\n",
       "         0.00000000e+00,  0.00000000e+00,  0.00000000e+00],\n",
       "       [-1.01256491e-01,  2.90046735e-01,  2.42009018e-01, ...,\n",
       "         0.00000000e+00,  0.00000000e+00,  0.00000000e+00],\n",
       "       [-1.49066059e-01,  2.42009018e-01,  2.11606618e-01, ...,\n",
       "         0.00000000e+00,  0.00000000e+00,  0.00000000e+00],\n",
       "       ...,\n",
       "       [ 0.00000000e+00,  0.00000000e+00,  0.00000000e+00, ...,\n",
       "         3.24173285e-04, -3.07488546e-04, -1.33777817e-04],\n",
       "       [ 0.00000000e+00,  0.00000000e+00,  0.00000000e+00, ...,\n",
       "        -3.07488546e-04,  4.49948837e-04,  1.42889848e-04],\n",
       "       [ 0.00000000e+00,  0.00000000e+00,  0.00000000e+00, ...,\n",
       "        -1.33777817e-04,  1.42889848e-04,  1.70813576e-04]])"
      ]
     },
     "execution_count": 9,
     "metadata": {},
     "output_type": "execute_result"
    }
   ],
   "source": [
    "p_pure[0]"
   ]
  },
  {
   "cell_type": "code",
   "execution_count": 10,
   "metadata": {},
   "outputs": [],
   "source": [
    "from SCFInitialGuess.utilities.analysis import make_results_str, measure_all_quantities\n",
    "from SCFInitialGuess.utilities.dataset import StaticDataset\n",
    "\n",
    "N_ELECTRONS = 30\n",
    "\n",
    "dataset = StaticDataset(\n",
    "    train=(s_train, p_train),\n",
    "    validation=(None, None),\n",
    "    test=(s_test, p_test),\n",
    "    mu=mu,\n",
    "    std=std\n",
    ")\n"
   ]
  },
  {
   "cell_type": "code",
   "execution_count": null,
   "metadata": {},
   "outputs": [],
   "source": []
  },
  {
   "cell_type": "markdown",
   "metadata": {},
   "source": [
    "## Pure Block Analysis "
   ]
  },
  {
   "cell_type": "code",
   "execution_count": 11,
   "metadata": {},
   "outputs": [
    {
     "name": "stdout",
     "output_type": "stream",
     "text": [
      "[ ] 2018-10-05 12:09:58: Iteration calculation: 0\n",
      "[ ] 2018-10-05 12:09:59: Iteration calculation: 1\n",
      "[ ] 2018-10-05 12:09:59: Iteration calculation: 2\n",
      "[ ] 2018-10-05 12:09:59: Iteration calculation: 3\n",
      "[ ] 2018-10-05 12:10:00: Iteration calculation: 4\n",
      "[ ] 2018-10-05 12:10:00: Iteration calculation: 5\n",
      "[ ] 2018-10-05 12:10:01: Iteration calculation: 6\n",
      "[ ] 2018-10-05 12:10:01: Iteration calculation: 7\n",
      "[ ] 2018-10-05 12:10:02: Iteration calculation: 8\n",
      "[ ] 2018-10-05 12:10:02: Iteration calculation: 9\n",
      "[ ] 2018-10-05 12:10:03: Iteration calculation: 10\n",
      "[ ] 2018-10-05 12:10:03: Iteration calculation: 11\n",
      "[ ] 2018-10-05 12:10:03: Iteration calculation: 12\n",
      "[ ] 2018-10-05 12:10:04: Iteration calculation: 13\n",
      "[ ] 2018-10-05 12:10:04: Iteration calculation: 14\n",
      "[ ] 2018-10-05 12:10:04: Iteration calculation: 15\n",
      "[ ] 2018-10-05 12:10:04: Iteration calculation: 16\n",
      "[ ] 2018-10-05 12:10:05: Iteration calculation: 17\n",
      "[ ] 2018-10-05 12:10:05: Iteration calculation: 18\n",
      "[ ] 2018-10-05 12:10:05: Iteration calculation: 19\n",
      "[ ] 2018-10-05 12:10:06: Iteration calculation: 20\n",
      "[ ] 2018-10-05 12:10:06: Iteration calculation: 21\n",
      "[ ] 2018-10-05 12:10:06: Iteration calculation: 22\n",
      "[ ] 2018-10-05 12:10:07: Iteration calculation: 23\n",
      "[ ] 2018-10-05 12:10:07: Iteration calculation: 24\n",
      "[ ] 2018-10-05 12:10:07: Iteration calculation: 25\n",
      "[ ] 2018-10-05 12:10:07: Iteration calculation: 26\n",
      "[ ] 2018-10-05 12:10:08: Iteration calculation: 27\n",
      "[ ] 2018-10-05 12:10:08: Iteration calculation: 28\n",
      "[ ] 2018-10-05 12:10:08: Iteration calculation: 29\n",
      "[ ] 2018-10-05 12:10:09: Iteration calculation: 30\n",
      "[ ] 2018-10-05 12:10:09: Iteration calculation: 31\n",
      "[ ] 2018-10-05 12:10:09: Iteration calculation: 32\n",
      "[ ] 2018-10-05 12:10:10: Iteration calculation: 33\n",
      "[ ] 2018-10-05 12:10:10: Iteration calculation: 34\n",
      "[ ] 2018-10-05 12:10:10: Iteration calculation: 35\n",
      "[ ] 2018-10-05 12:10:11: Iteration calculation: 36\n",
      "[ ] 2018-10-05 12:10:11: Iteration calculation: 37\n",
      "[ ] 2018-10-05 12:10:11: Iteration calculation: 38\n",
      "[ ] 2018-10-05 12:10:11: Iteration calculation: 39\n",
      "--- Absolute Error ---\n",
      "1.21272E-02 +- 1.11304E-02\n",
      "--- Symmetry Error ---\n",
      "0.00000E+00 +- 0.00000E+00\n",
      "--- Idempotence Error ---\n",
      "1.20101E-02 +- 4.11872E-04\n",
      "--- Occupance Error ---\n",
      "1.80643E+01 +- 7.72977E-02\n",
      "--- HF Energy Error ---\n",
      "6.25966E+00 +- 2.13404E-01\n",
      "--- Avg. Iterations ---\n",
      "1.36000E+01 +- 1.47986E+00\n",
      "\n"
     ]
    }
   ],
   "source": [
    "from SCFInitialGuess.utilities.analysis import mf_initializer as mf_initializer\n",
    "\n",
    "\n",
    "print(make_results_str(measure_all_quantities(\n",
    "    p_pure,\n",
    "    dataset,\n",
    "    molecules[1],\n",
    "    N_ELECTRONS,\n",
    "    mf_initializer,\n",
    "    dim,\n",
    "    is_triu=False,\n",
    "    is_dataset_triu=False,\n",
    "    s=S[ind:]\n",
    ")))"
   ]
  },
  {
   "cell_type": "markdown",
   "metadata": {},
   "source": [
    "# Embedding the Blocks In Classical Guesses"
   ]
  },
  {
   "cell_type": "code",
   "execution_count": 12,
   "metadata": {},
   "outputs": [],
   "source": [
    "from pyscf.scf import hf\n",
    "\n",
    "p_sad = np.array([\n",
    "    hf.init_guess_by_atom(mol.get_pyscf_molecule()) for mol in molecules[1]\n",
    "]).astype(\"float64\")\n",
    "p_gwh = np.array([\n",
    "    hf.init_guess_by_wolfsberg_helmholtz(mol.get_pyscf_molecule()) for mol in molecules[1]\n",
    "]).astype(\"float64\")"
   ]
  },
  {
   "cell_type": "code",
   "execution_count": 14,
   "metadata": {},
   "outputs": [],
   "source": [
    "from SCFInitialGuess.utilities.dataset import reconstruct_from_triu\n",
    "\n",
    "def embedd(x):\n",
    "    p = x[1].copy()\n",
    "    p[mask] = x[0].copy()[mask]\n",
    "    return p\n",
    "\n",
    "p_embedded_sad = np.array(list(map(embedd, zip(p_test, p_sad))))\n",
    "p_embedded_gwh = np.array(list(map(embedd, zip(p_test, p_gwh))))"
   ]
  },
  {
   "cell_type": "markdown",
   "metadata": {},
   "source": [
    "## SAD"
   ]
  },
  {
   "cell_type": "code",
   "execution_count": 16,
   "metadata": {},
   "outputs": [
    {
     "name": "stdout",
     "output_type": "stream",
     "text": [
      "[ ] 2018-10-05 12:15:45: Iteration calculation: 0\n",
      "[ ] 2018-10-05 12:15:46: Iteration calculation: 1\n",
      "[ ] 2018-10-05 12:15:46: Iteration calculation: 2\n",
      "[ ] 2018-10-05 12:15:47: Iteration calculation: 3\n",
      "[ ] 2018-10-05 12:15:47: Iteration calculation: 4\n",
      "[ ] 2018-10-05 12:15:47: Iteration calculation: 5\n",
      "[ ] 2018-10-05 12:15:48: Iteration calculation: 6\n",
      "[ ] 2018-10-05 12:15:48: Iteration calculation: 7\n",
      "[ ] 2018-10-05 12:15:49: Iteration calculation: 8\n",
      "[ ] 2018-10-05 12:15:49: Iteration calculation: 9\n",
      "[ ] 2018-10-05 12:15:49: Iteration calculation: 10\n",
      "[ ] 2018-10-05 12:15:50: Iteration calculation: 11\n",
      "[ ] 2018-10-05 12:15:50: Iteration calculation: 12\n",
      "[ ] 2018-10-05 12:15:50: Iteration calculation: 13\n",
      "[ ] 2018-10-05 12:15:51: Iteration calculation: 14\n",
      "[ ] 2018-10-05 12:15:51: Iteration calculation: 15\n",
      "[ ] 2018-10-05 12:15:51: Iteration calculation: 16\n",
      "[ ] 2018-10-05 12:15:51: Iteration calculation: 17\n",
      "[ ] 2018-10-05 12:15:52: Iteration calculation: 18\n",
      "[ ] 2018-10-05 12:15:52: Iteration calculation: 19\n",
      "[ ] 2018-10-05 12:15:52: Iteration calculation: 20\n",
      "[ ] 2018-10-05 12:15:53: Iteration calculation: 21\n",
      "[ ] 2018-10-05 12:15:53: Iteration calculation: 22\n",
      "[ ] 2018-10-05 12:15:53: Iteration calculation: 23\n",
      "[ ] 2018-10-05 12:15:54: Iteration calculation: 24\n",
      "[ ] 2018-10-05 12:15:54: Iteration calculation: 25\n",
      "[ ] 2018-10-05 12:15:54: Iteration calculation: 26\n",
      "[ ] 2018-10-05 12:15:55: Iteration calculation: 27\n",
      "[ ] 2018-10-05 12:15:55: Iteration calculation: 28\n",
      "[ ] 2018-10-05 12:15:55: Iteration calculation: 29\n",
      "[ ] 2018-10-05 12:15:56: Iteration calculation: 30\n",
      "[ ] 2018-10-05 12:15:56: Iteration calculation: 31\n",
      "[ ] 2018-10-05 12:15:56: Iteration calculation: 32\n",
      "[ ] 2018-10-05 12:15:57: Iteration calculation: 33\n",
      "[ ] 2018-10-05 12:15:57: Iteration calculation: 34\n",
      "[ ] 2018-10-05 12:15:57: Iteration calculation: 35\n",
      "[ ] 2018-10-05 12:15:58: Iteration calculation: 36\n",
      "[ ] 2018-10-05 12:15:58: Iteration calculation: 37\n",
      "[ ] 2018-10-05 12:15:59: Iteration calculation: 38\n",
      "[ ] 2018-10-05 12:15:59: Iteration calculation: 39\n",
      "--- Absolute Error ---\n",
      "1.21272E-02 +- 1.11304E-02\n",
      "--- Symmetry Error ---\n",
      "2.03980E-33 +- 6.37386E-34\n",
      "--- Idempotence Error ---\n",
      "1.20101E-02 +- 4.11872E-04\n",
      "--- Occupance Error ---\n",
      "1.80643E+01 +- 7.72977E-02\n",
      "--- HF Energy Error ---\n",
      "6.25966E+00 +- 2.13404E-01\n",
      "--- Avg. Iterations ---\n",
      "1.36000E+01 +- 1.47986E+00\n",
      "\n"
     ]
    }
   ],
   "source": [
    "print(make_results_str(measure_all_quantities(\n",
    "    p_embedded_sad,\n",
    "    dataset,\n",
    "    molecules[1],\n",
    "    N_ELECTRONS,\n",
    "    mf_initializer,\n",
    "    dim,\n",
    "    is_triu=False,\n",
    "    is_dataset_triu=False,\n",
    "    s=S[ind:]\n",
    ")))"
   ]
  },
  {
   "cell_type": "markdown",
   "metadata": {},
   "source": [
    "## GWH"
   ]
  },
  {
   "cell_type": "code",
   "execution_count": 18,
   "metadata": {},
   "outputs": [
    {
     "name": "stdout",
     "output_type": "stream",
     "text": [
      "[ ] 2018-10-05 12:18:52: Iteration calculation: 0\n",
      "[ ] 2018-10-05 12:18:53: Iteration calculation: 1\n",
      "[ ] 2018-10-05 12:18:53: Iteration calculation: 2\n",
      "[ ] 2018-10-05 12:18:54: Iteration calculation: 3\n",
      "[ ] 2018-10-05 12:18:54: Iteration calculation: 4\n",
      "[ ] 2018-10-05 12:18:54: Iteration calculation: 5\n",
      "[ ] 2018-10-05 12:18:55: Iteration calculation: 6\n",
      "[ ] 2018-10-05 12:18:55: Iteration calculation: 7\n",
      "[ ] 2018-10-05 12:18:55: Iteration calculation: 8\n",
      "[ ] 2018-10-05 12:18:56: Iteration calculation: 9\n",
      "[ ] 2018-10-05 12:18:56: Iteration calculation: 10\n",
      "[ ] 2018-10-05 12:18:56: Iteration calculation: 11\n",
      "[ ] 2018-10-05 12:18:57: Iteration calculation: 12\n",
      "[ ] 2018-10-05 12:18:57: Iteration calculation: 13\n",
      "[ ] 2018-10-05 12:18:57: Iteration calculation: 14\n",
      "[ ] 2018-10-05 12:18:58: Iteration calculation: 15\n",
      "[ ] 2018-10-05 12:18:58: Iteration calculation: 16\n",
      "[ ] 2018-10-05 12:18:58: Iteration calculation: 17\n",
      "[ ] 2018-10-05 12:18:58: Iteration calculation: 18\n",
      "[ ] 2018-10-05 12:18:59: Iteration calculation: 19\n",
      "[ ] 2018-10-05 12:18:59: Iteration calculation: 20\n",
      "[ ] 2018-10-05 12:19:00: Iteration calculation: 21\n",
      "[ ] 2018-10-05 12:19:00: Iteration calculation: 22\n",
      "[ ] 2018-10-05 12:19:00: Iteration calculation: 23\n",
      "[ ] 2018-10-05 12:19:01: Iteration calculation: 24\n",
      "[ ] 2018-10-05 12:19:01: Iteration calculation: 25\n",
      "[ ] 2018-10-05 12:19:01: Iteration calculation: 26\n",
      "[ ] 2018-10-05 12:19:02: Iteration calculation: 27\n",
      "[ ] 2018-10-05 12:19:02: Iteration calculation: 28\n",
      "[ ] 2018-10-05 12:19:02: Iteration calculation: 29\n",
      "[ ] 2018-10-05 12:19:02: Iteration calculation: 30\n",
      "[ ] 2018-10-05 12:19:03: Iteration calculation: 31\n",
      "[ ] 2018-10-05 12:19:03: Iteration calculation: 32\n",
      "[ ] 2018-10-05 12:19:03: Iteration calculation: 33\n",
      "[ ] 2018-10-05 12:19:04: Iteration calculation: 34\n",
      "[ ] 2018-10-05 12:19:04: Iteration calculation: 35\n",
      "[ ] 2018-10-05 12:19:04: Iteration calculation: 36\n",
      "[ ] 2018-10-05 12:19:05: Iteration calculation: 37\n",
      "[ ] 2018-10-05 12:19:05: Iteration calculation: 38\n",
      "[ ] 2018-10-05 12:19:05: Iteration calculation: 39\n",
      "--- Absolute Error ---\n",
      "8.50907E-03 +- 4.82431E-03\n",
      "--- Symmetry Error ---\n",
      "0.00000E+00 +- 0.00000E+00\n",
      "--- Idempotence Error ---\n",
      "8.99327E-03 +- 6.84367E-04\n",
      "--- Occupance Error ---\n",
      "1.45124E+01 +- 1.03172E-01\n",
      "--- HF Energy Error ---\n",
      "1.45707E+00 +- 5.24731E-02\n",
      "--- Avg. Iterations ---\n",
      "1.25250E+01 +- 1.93633E+00\n",
      "\n"
     ]
    }
   ],
   "source": [
    "print(make_results_str(measure_all_quantities(\n",
    "    p_embedded_gwh,\n",
    "    dataset,\n",
    "    molecules[1],\n",
    "    N_ELECTRONS,\n",
    "    mf_initializer,\n",
    "    dim,\n",
    "    is_triu=False,\n",
    "    is_dataset_triu=False,\n",
    "    s=S[ind:]\n",
    ")))"
   ]
  },
  {
   "cell_type": "markdown",
   "metadata": {},
   "source": [
    "# McWheeny"
   ]
  },
  {
   "cell_type": "code",
   "execution_count": 19,
   "metadata": {},
   "outputs": [],
   "source": [
    "from SCFInitialGuess.utilities.dataset import make_matrix_batch\n",
    "s_test_batch = make_matrix_batch(S[ind:], dim)"
   ]
  },
  {
   "cell_type": "code",
   "execution_count": 20,
   "metadata": {},
   "outputs": [],
   "source": [
    "from SCFInitialGuess.nn.post_processing import multi_mc_wheeny\n",
    "from SCFInitialGuess.utilities.dataset import make_matrix_batch\n",
    "\n",
    "#del p_embedded_sad\n",
    "#del p_sad\n",
    "#del p_gwh\n",
    "#del P\n",
    "#del dataset\n",
    "#del molecules\n",
    "#del p_pure\n",
    "#del s_train\n",
    "#del p_train\n",
    "\n",
    "f = lambda x: multi_mc_wheeny(x[0], x[1], 20)\n",
    "\n",
    "p_embedded_gwh_mcw5 = np.array(list(map(f, zip(p_embedded_gwh, s_test_batch))))"
   ]
  },
  {
   "cell_type": "code",
   "execution_count": 22,
   "metadata": {},
   "outputs": [
    {
     "name": "stdout",
     "output_type": "stream",
     "text": [
      "[ ] 2018-10-05 12:22:31: Iteration calculation: 0\n",
      "[ ] 2018-10-05 12:22:32: Iteration calculation: 1\n",
      "[ ] 2018-10-05 12:22:32: Iteration calculation: 2\n",
      "[ ] 2018-10-05 12:22:32: Iteration calculation: 3\n",
      "[ ] 2018-10-05 12:22:32: Iteration calculation: 4\n",
      "[ ] 2018-10-05 12:22:33: Iteration calculation: 5\n",
      "[ ] 2018-10-05 12:22:33: Iteration calculation: 6\n",
      "[ ] 2018-10-05 12:22:33: Iteration calculation: 7\n",
      "[ ] 2018-10-05 12:22:33: Iteration calculation: 8\n",
      "[ ] 2018-10-05 12:22:34: Iteration calculation: 9\n",
      "[ ] 2018-10-05 12:22:34: Iteration calculation: 10\n",
      "[ ] 2018-10-05 12:22:34: Iteration calculation: 11\n",
      "[ ] 2018-10-05 12:22:35: Iteration calculation: 12\n",
      "[ ] 2018-10-05 12:22:35: Iteration calculation: 13\n",
      "[ ] 2018-10-05 12:22:35: Iteration calculation: 14\n",
      "[ ] 2018-10-05 12:22:35: Iteration calculation: 15\n",
      "[ ] 2018-10-05 12:22:36: Iteration calculation: 16\n",
      "[ ] 2018-10-05 12:22:36: Iteration calculation: 17\n",
      "[ ] 2018-10-05 12:22:36: Iteration calculation: 18\n",
      "[ ] 2018-10-05 12:22:36: Iteration calculation: 19\n",
      "[ ] 2018-10-05 12:22:37: Iteration calculation: 20\n",
      "[ ] 2018-10-05 12:22:37: Iteration calculation: 21\n",
      "[ ] 2018-10-05 12:22:37: Iteration calculation: 22\n",
      "[ ] 2018-10-05 12:22:38: Iteration calculation: 23\n",
      "[ ] 2018-10-05 12:22:38: Iteration calculation: 24\n",
      "[ ] 2018-10-05 12:22:38: Iteration calculation: 25\n",
      "[ ] 2018-10-05 12:22:38: Iteration calculation: 26\n",
      "[ ] 2018-10-05 12:22:39: Iteration calculation: 27\n",
      "[ ] 2018-10-05 12:22:39: Iteration calculation: 28\n",
      "[ ] 2018-10-05 12:22:39: Iteration calculation: 29\n",
      "[ ] 2018-10-05 12:22:40: Iteration calculation: 30\n",
      "[ ] 2018-10-05 12:22:40: Iteration calculation: 31\n",
      "[ ] 2018-10-05 12:22:40: Iteration calculation: 32\n",
      "[ ] 2018-10-05 12:22:40: Iteration calculation: 33\n",
      "[ ] 2018-10-05 12:22:41: Iteration calculation: 34\n",
      "[ ] 2018-10-05 12:22:41: Iteration calculation: 35\n",
      "[ ] 2018-10-05 12:22:41: Iteration calculation: 36\n",
      "[ ] 2018-10-05 12:22:41: Iteration calculation: 37\n",
      "[ ] 2018-10-05 12:22:42: Iteration calculation: 38\n",
      "[ ] 2018-10-05 12:22:42: Iteration calculation: 39\n",
      "--- Absolute Error ---\n",
      "8.29696E-03 +- 4.29448E-03\n",
      "--- Symmetry Error ---\n",
      "7.48589E-17 +- 6.43695E-18\n",
      "--- Idempotence Error ---\n",
      "1.46571E-17 +- 1.04808E-18\n",
      "--- Occupance Error ---\n",
      "1.40000E+01 +- 2.24693E-15\n",
      "--- HF Energy Error ---\n",
      "3.26460E-01 +- 6.36615E-02\n",
      "--- Avg. Iterations ---\n",
      "1.18750E+01 +- 1.20805E+00\n",
      "\n"
     ]
    }
   ],
   "source": [
    "from SCFInitialGuess.utilities.analysis import mf_initializer\n",
    "\n",
    "print(make_results_str(measure_all_quantities(\n",
    "    p_embedded_gwh_mcw5,\n",
    "    dataset,\n",
    "    molecules[1],\n",
    "    N_ELECTRONS,\n",
    "    mf_initializer,\n",
    "    dim,\n",
    "    is_triu=False,\n",
    "    is_dataset_triu=False,\n",
    "    s=S[ind:]\n",
    ")))"
   ]
  },
  {
   "cell_type": "code",
   "execution_count": null,
   "metadata": {},
   "outputs": [],
   "source": []
  }
 ],
 "metadata": {
  "kernelspec": {
   "display_name": "Python 3",
   "language": "python",
   "name": "python3"
  },
  "language_info": {
   "codemirror_mode": {
    "name": "ipython",
    "version": 3
   },
   "file_extension": ".py",
   "mimetype": "text/x-python",
   "name": "python",
   "nbconvert_exporter": "python",
   "pygments_lexer": "ipython3",
   "version": "3.6.4"
  }
 },
 "nbformat": 4,
 "nbformat_minor": 2
}
