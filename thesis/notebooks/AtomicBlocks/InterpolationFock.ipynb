{
 "cells": [
  {
   "cell_type": "code",
   "execution_count": 1,
   "metadata": {},
   "outputs": [
    {
     "name": "stderr",
     "output_type": "stream",
     "text": [
      "/home/jo/anaconda3/lib/python3.6/site-packages/h5py/__init__.py:36: FutureWarning: Conversion of the second argument of issubdtype from `float` to `np.floating` is deprecated. In future, it will be treated as `np.float64 == np.dtype(float).type`.\n",
      "  from ._conv import register_converters as _register_converters\n"
     ]
    }
   ],
   "source": [
    "import numpy as np\n",
    "import matplotlib.pyplot as plt\n",
    "import tensorflow as tf\n",
    "from tensorflow import keras\n",
    "\n",
    "from os.path import join\n",
    "\n",
    "plt.style.use([\"seaborn\", \"thesis\"])"
   ]
  },
  {
   "cell_type": "markdown",
   "metadata": {},
   "source": [
    "# Fetch Dataset "
   ]
  },
  {
   "cell_type": "code",
   "execution_count": 2,
   "metadata": {},
   "outputs": [],
   "source": [
    "from SCFInitialGuess.utilities.dataset import extract_triu_batch, AbstractDataset\n",
    "from sklearn.model_selection import train_test_split\n",
    "from pyscf.scf import hf\n",
    "\n",
    "data_path = \"../../../cc2ai/ethen/\"\n",
    "postfix = \"_ethen_6-31g**\"\n",
    "dim = 48\n",
    "N_ELECTRONS = 16\n",
    "basis = \"6-31g**\"\n",
    "#data_path = \"../../dataset/TSmall_sto3g\"\n",
    "#postfix = \"TSmall_sto3g\"\n",
    "#dim = 26\n",
    "#N_ELECTRONS = 30\n",
    "#basis = \"sto-3g\"\n",
    "#data_path = \"../../../butadien/data/\"\n",
    "#postfix = \"\"\n",
    "#dim = 26\n",
    "\n",
    "\n",
    "def split(x, y, ind):\n",
    "    return x[:ind], y[:ind], x[ind:], y[ind:]\n",
    "\n",
    "S, P = np.load(join(data_path, \"dataset\" + postfix + \".npy\"))\n",
    "#S = np.load(join(data_path, \"S\" + postfix + \".npy\"))\n",
    "#P = np.load(join(data_path, \"P\" + postfix + \".npy\"))\n",
    "\n",
    "#index = np.load(join(data_path, \"index\" + postfix + \".npy\"))\n",
    "\n",
    "\n",
    "ind = int(0.8 * len(S))\n",
    "\n",
    "molecules = np.load(join(data_path, \"molecules\" + postfix + \".npy\"))\n",
    "molecules = (molecules[:ind], molecules[ind:])\n",
    "\n",
    "\n",
    "\n",
    "h_test = [hf.get_hcore(mol.get_pyscf_molecule()) for mol in molecules[1]]\n",
    "\n",
    "s_triu_norm, mu, std = AbstractDataset.normalize(S)\n",
    "\n",
    "s_train, p_train, s_test, p_test = split(S.reshape(-1, dim, dim), P.reshape(-1, dim, dim), ind)"
   ]
  },
  {
   "cell_type": "markdown",
   "metadata": {},
   "source": [
    "# Utilities "
   ]
  },
  {
   "cell_type": "code",
   "execution_count": 3,
   "metadata": {},
   "outputs": [],
   "source": [
    "def fock_from_density(p_batch):\n",
    "    f = []\n",
    "    for p, s, h, mol in zip(p_batch, s_test, h_test, molecules[1]):\n",
    "        f.append(hf.get_fock(None, h1e=h, s1e=s, vhf=hf.get_veff(mol=mol.get_pyscf_molecule(), dm=p), dm=p))\n",
    "    return np.array(f)\n",
    "\n",
    "f_test = fock_from_density(p_test)"
   ]
  },
  {
   "cell_type": "code",
   "execution_count": 4,
   "metadata": {},
   "outputs": [],
   "source": [
    "from pyscf.scf import hf\n",
    "\n",
    "def density_from_fock(f, s, mol):\n",
    "    \n",
    "    mo_energy, mo_coeff = hf.eig(f, s)\n",
    "    mo_occ = hf.get_occ(mf=hf.SCF(mol), mo_energy=mo_energy, mo_coeff=mo_coeff)\n",
    "    \n",
    "    return hf.make_rdm1(mo_coeff, mo_occ)\n",
    "\n",
    "def density_from_fock_batch(f_batch):\n",
    "    p = []\n",
    "    for (s, f, mol) in zip(s_test, f_batch, molecules[1]):\n",
    "        p.append(density_from_fock(f, s, mol.get_pyscf_molecule()))\n",
    "    return np.array(p)"
   ]
  },
  {
   "cell_type": "code",
   "execution_count": 5,
   "metadata": {},
   "outputs": [],
   "source": [
    "from SCFInitialGuess.utilities.analysis import make_results_str, measure_all_quantities\n",
    "from SCFInitialGuess.utilities.dataset import StaticDataset\n",
    "\n",
    "dataset = StaticDataset(\n",
    "    train=(s_train, p_train),\n",
    "    validation=(None, None),\n",
    "    test=(s_test, p_test),\n",
    "    mu=mu,\n",
    "    std=std\n",
    ")"
   ]
  },
  {
   "cell_type": "code",
   "execution_count": 6,
   "metadata": {},
   "outputs": [
    {
     "data": {
      "text/plain": [
       "(40, 48, 48)"
      ]
     },
     "execution_count": 6,
     "metadata": {},
     "output_type": "execute_result"
    }
   ],
   "source": [
    "f_test.shape"
   ]
  },
  {
   "cell_type": "code",
   "execution_count": 7,
   "metadata": {},
   "outputs": [
    {
     "data": {
      "text/plain": [
       "<matplotlib.axes._subplots.AxesSubplot at 0x7f9d39625080>"
      ]
     },
     "execution_count": 7,
     "metadata": {},
     "output_type": "execute_result"
    },
    {
     "data": {
      "image/png": "[encoded data removed]",
      "text/plain": [
       "<matplotlib.figure.Figure at 0x7f9d39ff80b8>"
      ]
     },
     "metadata": {},
     "output_type": "display_data"
    }
   ],
   "source": [
    "import seaborn as sns\n",
    "\n",
    "sns.heatmap(f_test[0].reshape(dim, dim))"
   ]
  },
  {
   "cell_type": "code",
   "execution_count": 8,
   "metadata": {},
   "outputs": [],
   "source": [
    "p_test_test = density_from_fock_batch(f_test)"
   ]
  },
  {
   "cell_type": "code",
   "execution_count": 9,
   "metadata": {},
   "outputs": [
    {
     "data": {
      "text/plain": [
       "2.6081828286913667e-08"
      ]
     },
     "execution_count": 9,
     "metadata": {},
     "output_type": "execute_result"
    }
   ],
   "source": [
    "np.mean(np.abs(p_test.flatten() - p_test_test.flatten()))"
   ]
  },
  {
   "cell_type": "code",
   "execution_count": 10,
   "metadata": {},
   "outputs": [
    {
     "name": "stdout",
     "output_type": "stream",
     "text": [
      "[ ] 2018-10-11 19:18:07: Iteration calculation: 0\n",
      "[ ] 2018-10-11 19:18:07: Iteration calculation: 1\n",
      "[ ] 2018-10-11 19:18:08: Iteration calculation: 2\n",
      "[ ] 2018-10-11 19:18:08: Iteration calculation: 3\n",
      "[ ] 2018-10-11 19:18:08: Iteration calculation: 4\n",
      "[ ] 2018-10-11 19:18:08: Iteration calculation: 5\n",
      "[ ] 2018-10-11 19:18:08: Iteration calculation: 6\n",
      "[ ] 2018-10-11 19:18:09: Iteration calculation: 7\n",
      "[ ] 2018-10-11 19:18:09: Iteration calculation: 8\n",
      "[ ] 2018-10-11 19:18:09: Iteration calculation: 9\n",
      "[ ] 2018-10-11 19:18:09: Iteration calculation: 10\n",
      "[ ] 2018-10-11 19:18:09: Iteration calculation: 11\n",
      "[ ] 2018-10-11 19:18:09: Iteration calculation: 12\n",
      "[ ] 2018-10-11 19:18:10: Iteration calculation: 13\n",
      "[ ] 2018-10-11 19:18:10: Iteration calculation: 14\n",
      "[ ] 2018-10-11 19:18:10: Iteration calculation: 15\n",
      "[ ] 2018-10-11 19:18:10: Iteration calculation: 16\n",
      "[ ] 2018-10-11 19:18:10: Iteration calculation: 17\n",
      "[ ] 2018-10-11 19:18:10: Iteration calculation: 18\n",
      "[ ] 2018-10-11 19:18:10: Iteration calculation: 19\n",
      "[ ] 2018-10-11 19:18:11: Iteration calculation: 20\n",
      "[ ] 2018-10-11 19:18:11: Iteration calculation: 21\n",
      "[ ] 2018-10-11 19:18:11: Iteration calculation: 22\n",
      "[ ] 2018-10-11 19:18:11: Iteration calculation: 23\n",
      "[ ] 2018-10-11 19:18:11: Iteration calculation: 24\n",
      "[ ] 2018-10-11 19:18:12: Iteration calculation: 25\n",
      "[ ] 2018-10-11 19:18:12: Iteration calculation: 26\n",
      "[ ] 2018-10-11 19:18:12: Iteration calculation: 27\n",
      "[ ] 2018-10-11 19:18:12: Iteration calculation: 28\n",
      "[ ] 2018-10-11 19:18:12: Iteration calculation: 29\n",
      "[ ] 2018-10-11 19:18:12: Iteration calculation: 30\n",
      "[ ] 2018-10-11 19:18:13: Iteration calculation: 31\n",
      "[ ] 2018-10-11 19:18:13: Iteration calculation: 32\n",
      "[ ] 2018-10-11 19:18:13: Iteration calculation: 33\n",
      "[ ] 2018-10-11 19:18:13: Iteration calculation: 34\n",
      "[ ] 2018-10-11 19:18:13: Iteration calculation: 35\n",
      "[ ] 2018-10-11 19:18:13: Iteration calculation: 36\n",
      "[ ] 2018-10-11 19:18:14: Iteration calculation: 37\n",
      "[ ] 2018-10-11 19:18:14: Iteration calculation: 38\n",
      "[ ] 2018-10-11 19:18:14: Iteration calculation: 39\n",
      "--- Absolute Error ---\n",
      "2.60818E-08 +- 3.33291E-08\n",
      "--- Symmetry Error ---\n",
      "0.00000E+00 +- 0.00000E+00\n",
      "--- Idempotence Error ---\n",
      "4.71731E-17 +- 9.25891E-18\n",
      "--- Occupance Error ---\n",
      "5.63993E-15 +- 4.04853E-15\n",
      "--- HF Energy Error ---\n",
      "4.36984E-12 +- 5.16893E-12\n",
      "--- Avg. Iterations ---\n",
      "1.00000E+00 +- 0.00000E+00\n",
      "\n"
     ]
    }
   ],
   "source": [
    "from SCFInitialGuess.utilities.analysis import mf_initializer, make_results_str, measure_all_quantities\n",
    "\n",
    "\n",
    "\n",
    "print(make_results_str(measure_all_quantities(\n",
    "    p_test_test,\n",
    "    dataset,\n",
    "    molecules[1],\n",
    "    N_ELECTRONS,\n",
    "    mf_initializer,\n",
    "    dim,\n",
    "    is_triu=False,\n",
    "    is_dataset_triu=False,\n",
    "    s=S[ind:]\n",
    ")))"
   ]
  },
  {
   "cell_type": "markdown",
   "metadata": {},
   "source": [
    "# Pure blocks\n",
    "\n",
    "i will now set all other elements zero"
   ]
  },
  {
   "cell_type": "markdown",
   "metadata": {},
   "source": [
    "## Utilities"
   ]
  },
  {
   "cell_type": "code",
   "execution_count": 11,
   "metadata": {},
   "outputs": [],
   "source": [
    "from SCFInitialGuess.utilities.constants import number_of_basis_functions as N_BASIS\n",
    "\n",
    "mol = molecules[0][0]\n",
    "\n",
    "mask = np.zeros((dim, dim))\n",
    "\n",
    "current_dim = 0\n",
    "for atom in mol.species:\n",
    "    \n",
    "    # calculate block range\n",
    "    index_start = current_dim\n",
    "    current_dim += N_BASIS[basis][atom] \n",
    "    index_end = current_dim\n",
    "    \n",
    "    # calculate logical vector\n",
    "    L = np.arange(dim)\n",
    "    L = np.logical_and(index_start <= L, L < index_end)\n",
    "    \n",
    "    m = np.logical_and.outer(L, L)\n",
    "    mask = np.logical_or(mask, m)\n",
    "    \n",
    "#mask"
   ]
  },
  {
   "cell_type": "code",
   "execution_count": 12,
   "metadata": {},
   "outputs": [],
   "source": [
    "from SCFInitialGuess.utilities.dataset import reconstruct_from_triu\n",
    "\n",
    "def extract_pure(p):\n",
    "    p_batch = p.copy()\n",
    "    p_batch[np.logical_not(mask)] = 0\n",
    "    return p_batch\n",
    "\n",
    "f_pure = np.array(list(map(extract_pure, f_test))).astype(\"float64\")"
   ]
  },
  {
   "cell_type": "code",
   "execution_count": 14,
   "metadata": {},
   "outputs": [
    {
     "data": {
      "text/plain": [
       "<matplotlib.axes._subplots.AxesSubplot at 0x7f9d3807aba8>"
      ]
     },
     "execution_count": 14,
     "metadata": {},
     "output_type": "execute_result"
    },
    {
     "data": {
      "image/png": "[encoded data removed]",
      "text/plain": [
       "<matplotlib.figure.Figure at 0x7f9d3803ceb8>"
      ]
     },
     "metadata": {},
     "output_type": "display_data"
    }
   ],
   "source": [
    "sns.heatmap(f_pure[0])"
   ]
  },
  {
   "cell_type": "markdown",
   "metadata": {},
   "source": [
    "## Pure Block Analysis "
   ]
  },
  {
   "cell_type": "code",
   "execution_count": 15,
   "metadata": {
    "scrolled": true
   },
   "outputs": [
    {
     "name": "stdout",
     "output_type": "stream",
     "text": [
      "[ ] 2018-10-11 19:19:52: Iteration calculation: 0\n",
      "[ ] 2018-10-11 19:19:53: Iteration calculation: 1\n",
      "[ ] 2018-10-11 19:19:53: Iteration calculation: 2\n",
      "[ ] 2018-10-11 19:19:53: Iteration calculation: 3\n",
      "[ ] 2018-10-11 19:19:54: Iteration calculation: 4\n",
      "[ ] 2018-10-11 19:19:54: Iteration calculation: 5\n",
      "[ ] 2018-10-11 19:19:55: Iteration calculation: 6\n",
      "[ ] 2018-10-11 19:19:55: Iteration calculation: 7\n",
      "[ ] 2018-10-11 19:19:55: Iteration calculation: 8\n",
      "[ ] 2018-10-11 19:19:56: Iteration calculation: 9\n",
      "[ ] 2018-10-11 19:19:56: Iteration calculation: 10\n",
      "[ ] 2018-10-11 19:19:56: Iteration calculation: 11\n",
      "[ ] 2018-10-11 19:19:57: Iteration calculation: 12\n",
      "[ ] 2018-10-11 19:19:57: Iteration calculation: 13\n",
      "[ ] 2018-10-11 19:19:57: Iteration calculation: 14\n",
      "[ ] 2018-10-11 19:19:58: Iteration calculation: 15\n",
      "[ ] 2018-10-11 19:19:58: Iteration calculation: 16\n",
      "[ ] 2018-10-11 19:19:58: Iteration calculation: 17\n",
      "[ ] 2018-10-11 19:19:58: Iteration calculation: 18\n",
      "[ ] 2018-10-11 19:19:59: Iteration calculation: 19\n",
      "[ ] 2018-10-11 19:19:59: Iteration calculation: 20\n",
      "[ ] 2018-10-11 19:19:59: Iteration calculation: 21\n",
      "[ ] 2018-10-11 19:20:00: Iteration calculation: 22\n",
      "[ ] 2018-10-11 19:20:00: Iteration calculation: 23\n",
      "[ ] 2018-10-11 19:20:00: Iteration calculation: 24\n",
      "[ ] 2018-10-11 19:20:00: Iteration calculation: 25\n",
      "[ ] 2018-10-11 19:20:01: Iteration calculation: 26\n",
      "[ ] 2018-10-11 19:20:01: Iteration calculation: 27\n",
      "[ ] 2018-10-11 19:20:01: Iteration calculation: 28\n",
      "[ ] 2018-10-11 19:20:01: Iteration calculation: 29\n",
      "[ ] 2018-10-11 19:20:02: Iteration calculation: 30\n",
      "[ ] 2018-10-11 19:20:02: Iteration calculation: 31\n",
      "[ ] 2018-10-11 19:20:02: Iteration calculation: 32\n",
      "[ ] 2018-10-11 19:20:02: Iteration calculation: 33\n",
      "[ ] 2018-10-11 19:20:03: Iteration calculation: 34\n",
      "[ ] 2018-10-11 19:20:03: Iteration calculation: 35\n",
      "[ ] 2018-10-11 19:20:03: Iteration calculation: 36\n",
      "[ ] 2018-10-11 19:20:04: Iteration calculation: 37\n",
      "[ ] 2018-10-11 19:20:04: Iteration calculation: 38\n",
      "[ ] 2018-10-11 19:20:04: Iteration calculation: 39\n",
      "--- Absolute Error ---\n",
      "1.49133E+00 +- 2.31192E+00\n",
      "--- Symmetry Error ---\n",
      "0.00000E+00 +- 0.00000E+00\n",
      "--- Idempotence Error ---\n",
      "3.17117E-14 +- 1.20829E-14\n",
      "--- Occupance Error ---\n",
      "3.37508E-14 +- 2.81904E-14\n",
      "--- HF Energy Error ---\n",
      "2.14965E+01 +- 1.25521E+00\n",
      "--- Avg. Iterations ---\n",
      "1.66750E+01 +- 2.45344E+00\n",
      "\n"
     ]
    }
   ],
   "source": [
    "from SCFInitialGuess.utilities.analysis import mf_initializer as mf_initializer\n",
    "\n",
    "\n",
    "print(make_results_str(measure_all_quantities(\n",
    "    density_from_fock_batch(f_pure),\n",
    "    dataset,\n",
    "    molecules[1],\n",
    "    N_ELECTRONS,\n",
    "    mf_initializer,\n",
    "    dim,\n",
    "    is_triu=False,\n",
    "    is_dataset_triu=False,\n",
    "    s=S[ind:]\n",
    ")))"
   ]
  },
  {
   "cell_type": "markdown",
   "metadata": {},
   "source": [
    "# Embedding the Blocks In Classical Guesses"
   ]
  },
  {
   "cell_type": "code",
   "execution_count": 16,
   "metadata": {},
   "outputs": [],
   "source": [
    "from SCFInitialGuess.utilities.dataset import reconstruct_from_triu\n",
    "\n",
    "def embedd(x, y):\n",
    "    p = x.copy()\n",
    "    p[mask] = (y.copy())[mask]\n",
    "    return p\n",
    "\n",
    "def embedd_batch(f_batch):\n",
    "    f_embedded = []\n",
    "    for (f_guess, f_conv) in zip(f_batch, f_test):\n",
    "        f_embedded.append(embedd(f_guess, f_conv))\n",
    "    return np.array(f_embedded)\n"
   ]
  },
  {
   "cell_type": "markdown",
   "metadata": {},
   "source": [
    "## Converged in Converged "
   ]
  },
  {
   "cell_type": "code",
   "execution_count": 17,
   "metadata": {},
   "outputs": [],
   "source": [
    "f_test_test_test = embedd_batch(f_test)"
   ]
  },
  {
   "cell_type": "code",
   "execution_count": 18,
   "metadata": {},
   "outputs": [
    {
     "data": {
      "text/plain": [
       "<matplotlib.axes._subplots.AxesSubplot at 0x7f9d33af18d0>"
      ]
     },
     "execution_count": 18,
     "metadata": {},
     "output_type": "execute_result"
    },
    {
     "data": {
      "image/png": "[encoded data removed]",
      "text/plain": [
       "<matplotlib.figure.Figure at 0x7f9d33afd780>"
      ]
     },
     "metadata": {},
     "output_type": "display_data"
    }
   ],
   "source": [
    "sns.heatmap(f_test_test_test[0])"
   ]
  },
  {
   "cell_type": "code",
   "execution_count": 19,
   "metadata": {},
   "outputs": [
    {
     "name": "stdout",
     "output_type": "stream",
     "text": [
      "[ ] 2018-10-11 19:20:33: Iteration calculation: 0\n",
      "[ ] 2018-10-11 19:20:33: Iteration calculation: 1\n",
      "[ ] 2018-10-11 19:20:34: Iteration calculation: 2\n",
      "[ ] 2018-10-11 19:20:34: Iteration calculation: 3\n",
      "[ ] 2018-10-11 19:20:34: Iteration calculation: 4\n",
      "[ ] 2018-10-11 19:20:34: Iteration calculation: 5\n",
      "[ ] 2018-10-11 19:20:34: Iteration calculation: 6\n",
      "[ ] 2018-10-11 19:20:35: Iteration calculation: 7\n",
      "[ ] 2018-10-11 19:20:35: Iteration calculation: 8\n",
      "[ ] 2018-10-11 19:20:35: Iteration calculation: 9\n",
      "[ ] 2018-10-11 19:20:36: Iteration calculation: 10\n",
      "[ ] 2018-10-11 19:20:36: Iteration calculation: 11\n",
      "[ ] 2018-10-11 19:20:36: Iteration calculation: 12\n",
      "[ ] 2018-10-11 19:20:36: Iteration calculation: 13\n",
      "[ ] 2018-10-11 19:20:36: Iteration calculation: 14\n",
      "[ ] 2018-10-11 19:20:37: Iteration calculation: 15\n",
      "[ ] 2018-10-11 19:20:37: Iteration calculation: 16\n",
      "[ ] 2018-10-11 19:20:37: Iteration calculation: 17\n",
      "[ ] 2018-10-11 19:20:37: Iteration calculation: 18\n",
      "[ ] 2018-10-11 19:20:37: Iteration calculation: 19\n",
      "[ ] 2018-10-11 19:20:37: Iteration calculation: 20\n",
      "[ ] 2018-10-11 19:20:38: Iteration calculation: 21\n",
      "[ ] 2018-10-11 19:20:38: Iteration calculation: 22\n",
      "[ ] 2018-10-11 19:20:39: Iteration calculation: 23\n",
      "[ ] 2018-10-11 19:20:39: Iteration calculation: 24\n",
      "[ ] 2018-10-11 19:20:39: Iteration calculation: 25\n",
      "[ ] 2018-10-11 19:20:39: Iteration calculation: 26\n",
      "[ ] 2018-10-11 19:20:39: Iteration calculation: 27\n",
      "[ ] 2018-10-11 19:20:40: Iteration calculation: 28\n",
      "[ ] 2018-10-11 19:20:40: Iteration calculation: 29\n",
      "[ ] 2018-10-11 19:20:40: Iteration calculation: 30\n",
      "[ ] 2018-10-11 19:20:40: Iteration calculation: 31\n",
      "[ ] 2018-10-11 19:20:40: Iteration calculation: 32\n",
      "[ ] 2018-10-11 19:20:40: Iteration calculation: 33\n",
      "[ ] 2018-10-11 19:20:41: Iteration calculation: 34\n",
      "[ ] 2018-10-11 19:20:41: Iteration calculation: 35\n",
      "[ ] 2018-10-11 19:20:41: Iteration calculation: 36\n",
      "[ ] 2018-10-11 19:20:41: Iteration calculation: 37\n",
      "[ ] 2018-10-11 19:20:41: Iteration calculation: 38\n",
      "[ ] 2018-10-11 19:20:42: Iteration calculation: 39\n",
      "--- Absolute Error ---\n",
      "2.60818E-08 +- 3.33291E-08\n",
      "--- Symmetry Error ---\n",
      "0.00000E+00 +- 0.00000E+00\n",
      "--- Idempotence Error ---\n",
      "4.71731E-17 +- 9.25891E-18\n",
      "--- Occupance Error ---\n",
      "5.63993E-15 +- 4.04853E-15\n",
      "--- HF Energy Error ---\n",
      "4.37481E-12 +- 5.17106E-12\n",
      "--- Avg. Iterations ---\n",
      "1.00000E+00 +- 0.00000E+00\n",
      "\n"
     ]
    }
   ],
   "source": [
    "from SCFInitialGuess.utilities.analysis import mf_initializer as mf_initializer\n",
    "\n",
    "\n",
    "print(make_results_str(measure_all_quantities(\n",
    "    density_from_fock_batch(f_test_test_test),\n",
    "    dataset,\n",
    "    molecules[1],\n",
    "    N_ELECTRONS,\n",
    "    mf_initializer,\n",
    "    dim,\n",
    "    is_triu=False,\n",
    "    is_dataset_triu=False,\n",
    "    s=S[ind:]\n",
    ")))"
   ]
  },
  {
   "cell_type": "markdown",
   "metadata": {},
   "source": [
    "## Zeros "
   ]
  },
  {
   "cell_type": "code",
   "execution_count": 20,
   "metadata": {},
   "outputs": [],
   "source": [
    "f_test_zeros = embedd_batch(np.zeros(f_test.shape))"
   ]
  },
  {
   "cell_type": "code",
   "execution_count": 21,
   "metadata": {},
   "outputs": [
    {
     "data": {
      "text/plain": [
       "<matplotlib.axes._subplots.AxesSubplot at 0x7f9d33a414e0>"
      ]
     },
     "execution_count": 21,
     "metadata": {},
     "output_type": "execute_result"
    },
    {
     "data": {
      "image/png": "[encoded data removed]",
      "text/plain": [
       "<matplotlib.figure.Figure at 0x7f9d33b8d668>"
      ]
     },
     "metadata": {},
     "output_type": "display_data"
    }
   ],
   "source": [
    "sns.heatmap(f_test_zeros[0])"
   ]
  },
  {
   "cell_type": "code",
   "execution_count": 44,
   "metadata": {},
   "outputs": [
    {
     "name": "stdout",
     "output_type": "stream",
     "text": [
      "[ ] 2018-10-11 19:38:31: Iteration calculation: 0\n",
      "[ ] 2018-10-11 19:38:31: Iteration calculation: 1\n",
      "[ ] 2018-10-11 19:38:31: Iteration calculation: 2\n",
      "[ ] 2018-10-11 19:38:32: Iteration calculation: 3\n",
      "[ ] 2018-10-11 19:38:32: Iteration calculation: 4\n",
      "[ ] 2018-10-11 19:38:32: Iteration calculation: 5\n",
      "[ ] 2018-10-11 19:38:33: Iteration calculation: 6\n",
      "[ ] 2018-10-11 19:38:33: Iteration calculation: 7\n",
      "[ ] 2018-10-11 19:38:33: Iteration calculation: 8\n",
      "[ ] 2018-10-11 19:38:33: Iteration calculation: 9\n",
      "[ ] 2018-10-11 19:38:34: Iteration calculation: 10\n",
      "[ ] 2018-10-11 19:38:34: Iteration calculation: 11\n",
      "[ ] 2018-10-11 19:38:34: Iteration calculation: 12\n",
      "[ ] 2018-10-11 19:38:34: Iteration calculation: 13\n",
      "[ ] 2018-10-11 19:38:35: Iteration calculation: 14\n",
      "[ ] 2018-10-11 19:38:35: Iteration calculation: 15\n",
      "[ ] 2018-10-11 19:38:35: Iteration calculation: 16\n",
      "[ ] 2018-10-11 19:38:36: Iteration calculation: 17\n",
      "[ ] 2018-10-11 19:38:36: Iteration calculation: 18\n",
      "[ ] 2018-10-11 19:38:36: Iteration calculation: 19\n",
      "[ ] 2018-10-11 19:38:37: Iteration calculation: 20\n",
      "[ ] 2018-10-11 19:38:37: Iteration calculation: 21\n",
      "[ ] 2018-10-11 19:38:37: Iteration calculation: 22\n",
      "[ ] 2018-10-11 19:38:37: Iteration calculation: 23\n",
      "[ ] 2018-10-11 19:38:38: Iteration calculation: 24\n",
      "[ ] 2018-10-11 19:38:38: Iteration calculation: 25\n",
      "[ ] 2018-10-11 19:38:38: Iteration calculation: 26\n",
      "[ ] 2018-10-11 19:38:38: Iteration calculation: 27\n",
      "[ ] 2018-10-11 19:38:39: Iteration calculation: 28\n",
      "[ ] 2018-10-11 19:38:39: Iteration calculation: 29\n",
      "[ ] 2018-10-11 19:38:39: Iteration calculation: 30\n",
      "[ ] 2018-10-11 19:38:40: Iteration calculation: 31\n",
      "[ ] 2018-10-11 19:38:40: Iteration calculation: 32\n",
      "[ ] 2018-10-11 19:38:40: Iteration calculation: 33\n",
      "[ ] 2018-10-11 19:38:40: Iteration calculation: 34\n",
      "[ ] 2018-10-11 19:38:41: Iteration calculation: 35\n",
      "[ ] 2018-10-11 19:38:41: Iteration calculation: 36\n",
      "[ ] 2018-10-11 19:38:41: Iteration calculation: 37\n",
      "[ ] 2018-10-11 19:38:42: Iteration calculation: 38\n",
      "[ ] 2018-10-11 19:38:42: Iteration calculation: 39\n",
      "--- Absolute Error ---\n",
      "1.49133E+00 +- 2.31192E+00\n",
      "--- Symmetry Error ---\n",
      "0.00000E+00 +- 0.00000E+00\n",
      "--- Idempotence Error ---\n",
      "3.17117E-14 +- 1.20829E-14\n",
      "--- Occupance Error ---\n",
      "3.37508E-14 +- 2.81904E-14\n",
      "--- HF Energy Error ---\n",
      "2.14965E+01 +- 1.25521E+00\n",
      "--- Avg. Iterations ---\n",
      "1.66750E+01 +- 2.45344E+00\n",
      "\n"
     ]
    }
   ],
   "source": [
    "print(make_results_str(measure_all_quantities(\n",
    "    density_from_fock_batch(f_test_zeros),\n",
    "    dataset,\n",
    "    molecules[1],\n",
    "    N_ELECTRONS,\n",
    "    mf_initializer,\n",
    "    dim,\n",
    "    is_triu=False,\n",
    "    is_dataset_triu=False,\n",
    "    s=S[ind:]\n",
    ")))"
   ]
  },
  {
   "cell_type": "markdown",
   "metadata": {},
   "source": [
    "# GWH"
   ]
  },
  {
   "cell_type": "code",
   "execution_count": 22,
   "metadata": {},
   "outputs": [],
   "source": [
    "f_gwh = []\n",
    "\n",
    "k = np.ones((dim, dim)) * 1.75 - \\\n",
    "            np.diag(np.ones(dim)) * 0.75  \n",
    "\n",
    "for h,s in zip(h_test, s_test):\n",
    "    h_diag = np.diag(h)   \n",
    "        \n",
    "    f_gwh.append(k * np.add.outer(h_diag, h_diag) * s / 2)\n",
    "    \n",
    "f_gwh = np.array(f_gwh)"
   ]
  },
  {
   "cell_type": "code",
   "execution_count": 23,
   "metadata": {},
   "outputs": [
    {
     "data": {
      "text/plain": [
       "<matplotlib.axes._subplots.AxesSubplot at 0x7f9d33a68748>"
      ]
     },
     "execution_count": 23,
     "metadata": {},
     "output_type": "execute_result"
    },
    {
     "data": {
      "image/png": "[encoded data removed]",
      "text/plain": [
       "<matplotlib.figure.Figure at 0x7f9d33a99630>"
      ]
     },
     "metadata": {},
     "output_type": "display_data"
    }
   ],
   "source": [
    "sns.heatmap(f_gwh[0])"
   ]
  },
  {
   "cell_type": "code",
   "execution_count": 24,
   "metadata": {},
   "outputs": [
    {
     "name": "stdout",
     "output_type": "stream",
     "text": [
      "[ ] 2018-10-11 19:22:32: Iteration calculation: 0\n",
      "[ ] 2018-10-11 19:22:32: Iteration calculation: 1\n",
      "[ ] 2018-10-11 19:22:32: Iteration calculation: 2\n",
      "[ ] 2018-10-11 19:22:32: Iteration calculation: 3\n",
      "[ ] 2018-10-11 19:22:33: Iteration calculation: 4\n",
      "[ ] 2018-10-11 19:22:33: Iteration calculation: 5\n",
      "[ ] 2018-10-11 19:22:33: Iteration calculation: 6\n",
      "[ ] 2018-10-11 19:22:33: Iteration calculation: 7\n",
      "[ ] 2018-10-11 19:22:33: Iteration calculation: 8\n",
      "[ ] 2018-10-11 19:22:34: Iteration calculation: 9\n",
      "[ ] 2018-10-11 19:22:34: Iteration calculation: 10\n",
      "[ ] 2018-10-11 19:22:35: Iteration calculation: 11\n",
      "[ ] 2018-10-11 19:22:35: Iteration calculation: 12\n",
      "[ ] 2018-10-11 19:22:35: Iteration calculation: 13\n",
      "[ ] 2018-10-11 19:22:36: Iteration calculation: 14\n",
      "[ ] 2018-10-11 19:22:36: Iteration calculation: 15\n",
      "[ ] 2018-10-11 19:22:36: Iteration calculation: 16\n",
      "[ ] 2018-10-11 19:22:37: Iteration calculation: 17\n",
      "[ ] 2018-10-11 19:22:37: Iteration calculation: 18\n",
      "[ ] 2018-10-11 19:22:37: Iteration calculation: 19\n",
      "[ ] 2018-10-11 19:22:38: Iteration calculation: 20\n",
      "[ ] 2018-10-11 19:22:38: Iteration calculation: 21\n",
      "[ ] 2018-10-11 19:22:38: Iteration calculation: 22\n",
      "[ ] 2018-10-11 19:22:39: Iteration calculation: 23\n",
      "[ ] 2018-10-11 19:22:39: Iteration calculation: 24\n",
      "[ ] 2018-10-11 19:22:39: Iteration calculation: 25\n",
      "[ ] 2018-10-11 19:22:39: Iteration calculation: 26\n",
      "[ ] 2018-10-11 19:22:40: Iteration calculation: 27\n",
      "[ ] 2018-10-11 19:22:40: Iteration calculation: 28\n",
      "[ ] 2018-10-11 19:22:40: Iteration calculation: 29\n",
      "[ ] 2018-10-11 19:22:41: Iteration calculation: 30\n",
      "[ ] 2018-10-11 19:22:41: Iteration calculation: 31\n",
      "[ ] 2018-10-11 19:22:42: Iteration calculation: 32\n",
      "[ ] 2018-10-11 19:22:42: Iteration calculation: 33\n",
      "[ ] 2018-10-11 19:22:42: Iteration calculation: 34\n",
      "[ ] 2018-10-11 19:22:43: Iteration calculation: 35\n",
      "[ ] 2018-10-11 19:22:43: Iteration calculation: 36\n",
      "[ ] 2018-10-11 19:22:43: Iteration calculation: 37\n",
      "[ ] 2018-10-11 19:22:43: Iteration calculation: 38\n",
      "[ ] 2018-10-11 19:22:44: Iteration calculation: 39\n",
      "--- Absolute Error ---\n",
      "1.25834E-02 +- 8.13009E-03\n",
      "--- Symmetry Error ---\n",
      "0.00000E+00 +- 0.00000E+00\n",
      "--- Idempotence Error ---\n",
      "4.74459E-17 +- 9.67250E-18\n",
      "--- Occupance Error ---\n",
      "4.92939E-15 +- 4.26857E-15\n",
      "--- HF Energy Error ---\n",
      "7.93570E-01 +- 1.13014E-01\n",
      "--- Avg. Iterations ---\n",
      "1.31000E+01 +- 1.11355E+00\n",
      "\n"
     ]
    }
   ],
   "source": [
    "print(make_results_str(measure_all_quantities(\n",
    "    density_from_fock_batch(f_gwh),\n",
    "    dataset,\n",
    "    molecules[1],\n",
    "    N_ELECTRONS,\n",
    "    mf_initializer,\n",
    "    dim,\n",
    "    is_triu=False,\n",
    "    is_dataset_triu=False,\n",
    "    s=S[ind:]\n",
    ")))"
   ]
  },
  {
   "cell_type": "markdown",
   "metadata": {},
   "source": [
    "## EmbeddedGWH "
   ]
  },
  {
   "cell_type": "code",
   "execution_count": 25,
   "metadata": {},
   "outputs": [],
   "source": [
    "f_embedded_gwh = embedd_batch(f_gwh)"
   ]
  },
  {
   "cell_type": "markdown",
   "metadata": {},
   "source": [
    "### Diff Conv vs GWH "
   ]
  },
  {
   "cell_type": "code",
   "execution_count": 26,
   "metadata": {},
   "outputs": [
    {
     "data": {
      "text/plain": [
       "0.8005335095971629"
      ]
     },
     "execution_count": 26,
     "metadata": {},
     "output_type": "execute_result"
    }
   ],
   "source": [
    "np.mean(np.abs(f_test.flatten() - f_gwh.flatten()))"
   ]
  },
  {
   "cell_type": "markdown",
   "metadata": {},
   "source": [
    "### Diff Embedded vs gwh"
   ]
  },
  {
   "cell_type": "code",
   "execution_count": 27,
   "metadata": {},
   "outputs": [
    {
     "data": {
      "text/plain": [
       "0.22450454057278588"
      ]
     },
     "execution_count": 27,
     "metadata": {},
     "output_type": "execute_result"
    }
   ],
   "source": [
    "np.mean(np.abs(f_embedded_gwh.flatten() - f_gwh.flatten()))"
   ]
  },
  {
   "cell_type": "markdown",
   "metadata": {},
   "source": [
    "### Diff Conv vs Embedded "
   ]
  },
  {
   "cell_type": "code",
   "execution_count": 28,
   "metadata": {},
   "outputs": [
    {
     "data": {
      "text/plain": [
       "0.576028969024377"
      ]
     },
     "execution_count": 28,
     "metadata": {},
     "output_type": "execute_result"
    }
   ],
   "source": [
    "np.mean(np.abs(f_embedded_gwh.flatten() - f_test.flatten()))"
   ]
  },
  {
   "cell_type": "markdown",
   "metadata": {},
   "source": [
    "### Analysing the density"
   ]
  },
  {
   "cell_type": "code",
   "execution_count": 29,
   "metadata": {},
   "outputs": [],
   "source": [
    "p_embedded_gwh = density_from_fock_batch(f_embedded_gwh)"
   ]
  },
  {
   "cell_type": "code",
   "execution_count": 30,
   "metadata": {},
   "outputs": [
    {
     "name": "stdout",
     "output_type": "stream",
     "text": [
      "[ ] 2018-10-11 19:24:15: Iteration calculation: 0\n",
      "[ ] 2018-10-11 19:24:15: Iteration calculation: 1\n",
      "[ ] 2018-10-11 19:24:16: Iteration calculation: 2\n",
      "[ ] 2018-10-11 19:24:16: Iteration calculation: 3\n",
      "[ ] 2018-10-11 19:24:17: Iteration calculation: 4\n",
      "[ ] 2018-10-11 19:24:17: Iteration calculation: 5\n",
      "[ ] 2018-10-11 19:24:18: Iteration calculation: 6\n",
      "[ ] 2018-10-11 19:24:18: Iteration calculation: 7\n",
      "[ ] 2018-10-11 19:24:18: Iteration calculation: 8\n",
      "[ ] 2018-10-11 19:24:19: Iteration calculation: 9\n",
      "[ ] 2018-10-11 19:24:19: Iteration calculation: 10\n",
      "[ ] 2018-10-11 19:24:20: Iteration calculation: 11\n",
      "[ ] 2018-10-11 19:24:20: Iteration calculation: 12\n",
      "[ ] 2018-10-11 19:24:21: Iteration calculation: 13\n",
      "[ ] 2018-10-11 19:24:21: Iteration calculation: 14\n",
      "[ ] 2018-10-11 19:24:21: Iteration calculation: 15\n",
      "[ ] 2018-10-11 19:24:22: Iteration calculation: 16\n",
      "[ ] 2018-10-11 19:24:22: Iteration calculation: 17\n",
      "[ ] 2018-10-11 19:24:22: Iteration calculation: 18\n",
      "[ ] 2018-10-11 19:24:23: Iteration calculation: 19\n",
      "[ ] 2018-10-11 19:24:23: Iteration calculation: 20\n",
      "[ ] 2018-10-11 19:24:24: Iteration calculation: 21\n",
      "[ ] 2018-10-11 19:24:24: Iteration calculation: 22\n",
      "[ ] 2018-10-11 19:24:25: Iteration calculation: 23\n",
      "[ ] 2018-10-11 19:24:25: Iteration calculation: 24\n",
      "[ ] 2018-10-11 19:24:26: Iteration calculation: 25\n",
      "[ ] 2018-10-11 19:24:26: Iteration calculation: 26\n",
      "[ ] 2018-10-11 19:24:27: Iteration calculation: 27\n",
      "[ ] 2018-10-11 19:24:27: Iteration calculation: 28\n",
      "[ ] 2018-10-11 19:24:27: Iteration calculation: 29\n",
      "[ ] 2018-10-11 19:24:28: Iteration calculation: 30\n",
      "[ ] 2018-10-11 19:24:28: Iteration calculation: 31\n",
      "[ ] 2018-10-11 19:24:28: Iteration calculation: 32\n",
      "[ ] 2018-10-11 19:24:29: Iteration calculation: 33\n",
      "[ ] 2018-10-11 19:24:29: Iteration calculation: 34\n",
      "[ ] 2018-10-11 19:24:30: Iteration calculation: 35\n",
      "[ ] 2018-10-11 19:24:30: Iteration calculation: 36\n",
      "[ ] 2018-10-11 19:24:30: Iteration calculation: 37\n",
      "[ ] 2018-10-11 19:24:31: Iteration calculation: 38\n",
      "[ ] 2018-10-11 19:24:32: Iteration calculation: 39\n",
      "--- Absolute Error ---\n",
      "3.43548E-02 +- 1.73679E-02\n",
      "--- Symmetry Error ---\n",
      "0.00000E+00 +- 0.00000E+00\n",
      "--- Idempotence Error ---\n",
      "8.33326E-17 +- 2.15130E-17\n",
      "--- Occupance Error ---\n",
      "5.50671E-15 +- 4.29276E-15\n",
      "--- HF Energy Error ---\n",
      "2.96641E+00 +- 3.83751E-01\n",
      "--- Avg. Iterations ---\n",
      "1.61750E+01 +- 3.52056E+00\n",
      "\n"
     ]
    }
   ],
   "source": [
    "print(make_results_str(measure_all_quantities(\n",
    "    p_embedded_gwh,\n",
    "    dataset,\n",
    "    molecules[1],\n",
    "    N_ELECTRONS,\n",
    "    mf_initializer,\n",
    "    dim,\n",
    "    is_triu=False,\n",
    "    is_dataset_triu=False,\n",
    "    s=S[ind:]\n",
    ")))"
   ]
  },
  {
   "cell_type": "markdown",
   "metadata": {},
   "source": [
    "## SAD"
   ]
  },
  {
   "cell_type": "code",
   "execution_count": 31,
   "metadata": {},
   "outputs": [],
   "source": [
    "f_sad = fock_from_density(np.array([\n",
    "    hf.init_guess_by_atom(mol.get_pyscf_molecule()) for mol in molecules[1]\n",
    "]))"
   ]
  },
  {
   "cell_type": "code",
   "execution_count": 32,
   "metadata": {},
   "outputs": [
    {
     "data": {
      "text/plain": [
       "<matplotlib.axes._subplots.AxesSubplot at 0x7f9d380666d8>"
      ]
     },
     "execution_count": 32,
     "metadata": {},
     "output_type": "execute_result"
    },
    {
     "data": {
      "image/png": "[encoded data removed]",
      "text/plain": [
       "<matplotlib.figure.Figure at 0x7f9d3390dba8>"
      ]
     },
     "metadata": {},
     "output_type": "display_data"
    }
   ],
   "source": [
    "sns.heatmap(f_sad[0])"
   ]
  },
  {
   "cell_type": "code",
   "execution_count": 33,
   "metadata": {},
   "outputs": [
    {
     "name": "stdout",
     "output_type": "stream",
     "text": [
      "[ ] 2018-10-11 19:25:48: Iteration calculation: 0\n",
      "[ ] 2018-10-11 19:25:49: Iteration calculation: 1\n",
      "[ ] 2018-10-11 19:25:49: Iteration calculation: 2\n",
      "[ ] 2018-10-11 19:25:49: Iteration calculation: 3\n",
      "[ ] 2018-10-11 19:25:50: Iteration calculation: 4\n",
      "[ ] 2018-10-11 19:25:50: Iteration calculation: 5\n",
      "[ ] 2018-10-11 19:25:50: Iteration calculation: 6\n",
      "[ ] 2018-10-11 19:25:51: Iteration calculation: 7\n",
      "[ ] 2018-10-11 19:25:51: Iteration calculation: 8\n",
      "[ ] 2018-10-11 19:25:52: Iteration calculation: 9\n",
      "[ ] 2018-10-11 19:25:52: Iteration calculation: 10\n",
      "[ ] 2018-10-11 19:25:52: Iteration calculation: 11\n",
      "[ ] 2018-10-11 19:25:53: Iteration calculation: 12\n",
      "[ ] 2018-10-11 19:25:53: Iteration calculation: 13\n",
      "[ ] 2018-10-11 19:25:53: Iteration calculation: 14\n",
      "[ ] 2018-10-11 19:25:54: Iteration calculation: 15\n",
      "[ ] 2018-10-11 19:25:54: Iteration calculation: 16\n",
      "[ ] 2018-10-11 19:25:54: Iteration calculation: 17\n",
      "[ ] 2018-10-11 19:25:55: Iteration calculation: 18\n",
      "[ ] 2018-10-11 19:25:55: Iteration calculation: 19\n",
      "[ ] 2018-10-11 19:25:56: Iteration calculation: 20\n",
      "[ ] 2018-10-11 19:25:56: Iteration calculation: 21\n",
      "[ ] 2018-10-11 19:25:56: Iteration calculation: 22\n",
      "[ ] 2018-10-11 19:25:57: Iteration calculation: 23\n",
      "[ ] 2018-10-11 19:25:57: Iteration calculation: 24\n",
      "[ ] 2018-10-11 19:25:58: Iteration calculation: 25\n",
      "[ ] 2018-10-11 19:25:58: Iteration calculation: 26\n",
      "[ ] 2018-10-11 19:25:58: Iteration calculation: 27\n",
      "[ ] 2018-10-11 19:25:59: Iteration calculation: 28\n",
      "[ ] 2018-10-11 19:25:59: Iteration calculation: 29\n",
      "[ ] 2018-10-11 19:25:59: Iteration calculation: 30\n",
      "[ ] 2018-10-11 19:26:00: Iteration calculation: 31\n",
      "[ ] 2018-10-11 19:26:00: Iteration calculation: 32\n",
      "[ ] 2018-10-11 19:26:00: Iteration calculation: 33\n",
      "[ ] 2018-10-11 19:26:01: Iteration calculation: 34\n",
      "[ ] 2018-10-11 19:26:01: Iteration calculation: 35\n",
      "[ ] 2018-10-11 19:26:02: Iteration calculation: 36\n",
      "[ ] 2018-10-11 19:26:02: Iteration calculation: 37\n",
      "[ ] 2018-10-11 19:26:03: Iteration calculation: 38\n",
      "[ ] 2018-10-11 19:26:03: Iteration calculation: 39\n",
      "--- Absolute Error ---\n",
      "2.89107E-03 +- 2.41763E-03\n",
      "--- Symmetry Error ---\n",
      "0.00000E+00 +- 0.00000E+00\n",
      "--- Idempotence Error ---\n",
      "4.80111E-17 +- 1.04199E-17\n",
      "--- Occupance Error ---\n",
      "6.66134E-15 +- 4.25492E-15\n",
      "--- HF Energy Error ---\n",
      "3.80324E-02 +- 3.67979E-03\n",
      "--- Avg. Iterations ---\n",
      "1.10500E+01 +- 1.98683E+00\n",
      "\n"
     ]
    }
   ],
   "source": [
    "print(make_results_str(measure_all_quantities(\n",
    "    density_from_fock_batch(f_sad),\n",
    "    dataset,\n",
    "    molecules[1],\n",
    "    N_ELECTRONS,\n",
    "    mf_initializer,\n",
    "    dim,\n",
    "    is_triu=False,\n",
    "    is_dataset_triu=False,\n",
    "    s=S[ind:]\n",
    ")))"
   ]
  },
  {
   "cell_type": "markdown",
   "metadata": {},
   "source": [
    "## Embedded SAD"
   ]
  },
  {
   "cell_type": "code",
   "execution_count": 34,
   "metadata": {},
   "outputs": [],
   "source": [
    "f_embedded_sad = embedd_batch(f_sad)"
   ]
  },
  {
   "cell_type": "code",
   "execution_count": 35,
   "metadata": {},
   "outputs": [
    {
     "data": {
      "text/plain": [
       "<matplotlib.axes._subplots.AxesSubplot at 0x7f9d33893390>"
      ]
     },
     "execution_count": 35,
     "metadata": {},
     "output_type": "execute_result"
    },
    {
     "data": {
      "image/png": "[encoded data removed]",
      "text/plain": [
       "<matplotlib.figure.Figure at 0x7f9d3384feb8>"
      ]
     },
     "metadata": {},
     "output_type": "display_data"
    }
   ],
   "source": [
    "sns.heatmap(f_embedded_sad[0])"
   ]
  },
  {
   "cell_type": "code",
   "execution_count": 36,
   "metadata": {},
   "outputs": [],
   "source": [
    "p_embedded_sad = density_from_fock_batch(f_embedded_sad)"
   ]
  },
  {
   "cell_type": "code",
   "execution_count": 37,
   "metadata": {},
   "outputs": [
    {
     "name": "stdout",
     "output_type": "stream",
     "text": [
      "[ ] 2018-10-11 19:26:35: Iteration calculation: 0\n",
      "[ ] 2018-10-11 19:26:36: Iteration calculation: 1\n",
      "[ ] 2018-10-11 19:26:36: Iteration calculation: 2\n",
      "[ ] 2018-10-11 19:26:36: Iteration calculation: 3\n",
      "[ ] 2018-10-11 19:26:37: Iteration calculation: 4\n",
      "[ ] 2018-10-11 19:26:37: Iteration calculation: 5\n",
      "[ ] 2018-10-11 19:26:37: Iteration calculation: 6\n",
      "[ ] 2018-10-11 19:26:37: Iteration calculation: 7\n",
      "[ ] 2018-10-11 19:26:38: Iteration calculation: 8\n",
      "[ ] 2018-10-11 19:26:38: Iteration calculation: 9\n",
      "[ ] 2018-10-11 19:26:39: Iteration calculation: 10\n",
      "[ ] 2018-10-11 19:26:39: Iteration calculation: 11\n",
      "[ ] 2018-10-11 19:26:39: Iteration calculation: 12\n",
      "[ ] 2018-10-11 19:26:40: Iteration calculation: 13\n",
      "[ ] 2018-10-11 19:26:40: Iteration calculation: 14\n",
      "[ ] 2018-10-11 19:26:40: Iteration calculation: 15\n",
      "[ ] 2018-10-11 19:26:41: Iteration calculation: 16\n",
      "[ ] 2018-10-11 19:26:41: Iteration calculation: 17\n",
      "[ ] 2018-10-11 19:26:41: Iteration calculation: 18\n",
      "[ ] 2018-10-11 19:26:42: Iteration calculation: 19\n",
      "[ ] 2018-10-11 19:26:42: Iteration calculation: 20\n",
      "[ ] 2018-10-11 19:26:42: Iteration calculation: 21\n",
      "[ ] 2018-10-11 19:26:43: Iteration calculation: 22\n",
      "[ ] 2018-10-11 19:26:43: Iteration calculation: 23\n",
      "[ ] 2018-10-11 19:26:43: Iteration calculation: 24\n",
      "[ ] 2018-10-11 19:26:44: Iteration calculation: 25\n",
      "[ ] 2018-10-11 19:26:44: Iteration calculation: 26\n",
      "[ ] 2018-10-11 19:26:44: Iteration calculation: 27\n",
      "[ ] 2018-10-11 19:26:45: Iteration calculation: 28\n",
      "[ ] 2018-10-11 19:26:45: Iteration calculation: 29\n",
      "[ ] 2018-10-11 19:26:45: Iteration calculation: 30\n",
      "[ ] 2018-10-11 19:26:46: Iteration calculation: 31\n",
      "[ ] 2018-10-11 19:26:46: Iteration calculation: 32\n",
      "[ ] 2018-10-11 19:26:46: Iteration calculation: 33\n",
      "[ ] 2018-10-11 19:26:47: Iteration calculation: 34\n",
      "[ ] 2018-10-11 19:26:47: Iteration calculation: 35\n",
      "[ ] 2018-10-11 19:26:47: Iteration calculation: 36\n",
      "[ ] 2018-10-11 19:26:47: Iteration calculation: 37\n",
      "[ ] 2018-10-11 19:26:48: Iteration calculation: 38\n",
      "[ ] 2018-10-11 19:26:48: Iteration calculation: 39\n",
      "--- Absolute Error ---\n",
      "1.30658E-02 +- 1.17572E-02\n",
      "--- Symmetry Error ---\n",
      "0.00000E+00 +- 0.00000E+00\n",
      "--- Idempotence Error ---\n",
      "4.94021E-17 +- 1.02470E-17\n",
      "--- Occupance Error ---\n",
      "5.37348E-15 +- 4.46724E-15\n",
      "--- HF Energy Error ---\n",
      "8.77698E-02 +- 3.24193E-03\n",
      "--- Avg. Iterations ---\n",
      "9.57500E+00 +- 8.62772E-01\n",
      "\n"
     ]
    }
   ],
   "source": [
    "print(make_results_str(measure_all_quantities(\n",
    "    p_embedded_sad,\n",
    "    dataset,\n",
    "    molecules[1],\n",
    "    N_ELECTRONS,\n",
    "    mf_initializer,\n",
    "    dim,\n",
    "    is_triu=False,\n",
    "    is_dataset_triu=False,\n",
    "    s=S[ind:]\n",
    ")))"
   ]
  },
  {
   "cell_type": "markdown",
   "metadata": {},
   "source": [
    "# McWheeny"
   ]
  },
  {
   "cell_type": "code",
   "execution_count": 38,
   "metadata": {},
   "outputs": [],
   "source": [
    "from SCFInitialGuess.utilities.dataset import make_matrix_batch\n",
    "s_test_batch = make_matrix_batch(S[ind:], dim)"
   ]
  },
  {
   "cell_type": "code",
   "execution_count": 39,
   "metadata": {},
   "outputs": [],
   "source": [
    "from SCFInitialGuess.nn.post_processing import multi_mc_wheeny\n",
    "\n",
    "def multi_mc_wheeny_batch(p_batch):\n",
    "    p_res = []\n",
    "    for p, s in zip(p_batch, s_test_batch):\n",
    "        p_res.append(multi_mc_wheeny(p, s, 5))\n",
    "    return np.asarray(p_res)"
   ]
  },
  {
   "cell_type": "markdown",
   "metadata": {},
   "source": [
    "### GWH"
   ]
  },
  {
   "cell_type": "code",
   "execution_count": 40,
   "metadata": {},
   "outputs": [],
   "source": [
    "p_embedded_gwh_mcw5 = multi_mc_wheeny_batch(p_embedded_gwh)"
   ]
  },
  {
   "cell_type": "code",
   "execution_count": 41,
   "metadata": {},
   "outputs": [
    {
     "name": "stdout",
     "output_type": "stream",
     "text": [
      "[ ] 2018-10-11 19:27:14: Iteration calculation: 0\n",
      "[ ] 2018-10-11 19:27:14: Iteration calculation: 1\n",
      "[ ] 2018-10-11 19:27:15: Iteration calculation: 2\n",
      "[ ] 2018-10-11 19:27:15: Iteration calculation: 3\n",
      "[ ] 2018-10-11 19:27:15: Iteration calculation: 4\n",
      "[ ] 2018-10-11 19:27:16: Iteration calculation: 5\n",
      "[ ] 2018-10-11 19:27:16: Iteration calculation: 6\n",
      "[ ] 2018-10-11 19:27:16: Iteration calculation: 7\n",
      "[ ] 2018-10-11 19:27:17: Iteration calculation: 8\n",
      "[ ] 2018-10-11 19:27:17: Iteration calculation: 9\n",
      "[ ] 2018-10-11 19:27:17: Iteration calculation: 10\n",
      "[ ] 2018-10-11 19:27:18: Iteration calculation: 11\n",
      "[ ] 2018-10-11 19:27:18: Iteration calculation: 12\n",
      "[ ] 2018-10-11 19:27:19: Iteration calculation: 13\n",
      "[ ] 2018-10-11 19:27:19: Iteration calculation: 14\n",
      "[ ] 2018-10-11 19:27:19: Iteration calculation: 15\n",
      "[ ] 2018-10-11 19:27:20: Iteration calculation: 16\n",
      "[ ] 2018-10-11 19:27:20: Iteration calculation: 17\n",
      "[ ] 2018-10-11 19:27:20: Iteration calculation: 18\n",
      "[ ] 2018-10-11 19:27:21: Iteration calculation: 19\n",
      "[ ] 2018-10-11 19:27:21: Iteration calculation: 20\n",
      "[ ] 2018-10-11 19:27:22: Iteration calculation: 21\n",
      "[ ] 2018-10-11 19:27:22: Iteration calculation: 22\n",
      "[ ] 2018-10-11 19:27:23: Iteration calculation: 23\n",
      "[ ] 2018-10-11 19:27:23: Iteration calculation: 24\n",
      "[ ] 2018-10-11 19:27:23: Iteration calculation: 25\n",
      "[ ] 2018-10-11 19:27:24: Iteration calculation: 26\n",
      "[ ] 2018-10-11 19:27:24: Iteration calculation: 27\n",
      "[ ] 2018-10-11 19:27:25: Iteration calculation: 28\n",
      "[ ] 2018-10-11 19:27:25: Iteration calculation: 29\n",
      "[ ] 2018-10-11 19:27:25: Iteration calculation: 30\n",
      "[ ] 2018-10-11 19:27:26: Iteration calculation: 31\n",
      "[ ] 2018-10-11 19:27:27: Iteration calculation: 32\n",
      "[ ] 2018-10-11 19:27:27: Iteration calculation: 33\n",
      "[ ] 2018-10-11 19:27:28: Iteration calculation: 34\n",
      "[ ] 2018-10-11 19:27:28: Iteration calculation: 35\n",
      "[ ] 2018-10-11 19:27:29: Iteration calculation: 36\n",
      "[ ] 2018-10-11 19:27:29: Iteration calculation: 37\n",
      "[ ] 2018-10-11 19:27:30: Iteration calculation: 38\n",
      "[ ] 2018-10-11 19:27:30: Iteration calculation: 39\n",
      "--- Absolute Error ---\n",
      "3.43548E-02 +- 1.73679E-02\n",
      "--- Symmetry Error ---\n",
      "5.54492E-17 +- 6.43138E-18\n",
      "--- Idempotence Error ---\n",
      "3.15492E-17 +- 2.65796E-18\n",
      "--- Occupance Error ---\n",
      "7.99361E-16 +- 1.42939E-15\n",
      "--- HF Energy Error ---\n",
      "2.96641E+00 +- 3.83751E-01\n",
      "--- Avg. Iterations ---\n",
      "1.61750E+01 +- 3.52056E+00\n",
      "\n"
     ]
    }
   ],
   "source": [
    "from SCFInitialGuess.utilities.analysis import mf_initializer\n",
    "\n",
    "print(make_results_str(measure_all_quantities(\n",
    "    p_embedded_gwh_mcw5,\n",
    "    dataset,\n",
    "    molecules[1],\n",
    "    N_ELECTRONS,\n",
    "    mf_initializer,\n",
    "    dim,\n",
    "    is_triu=False,\n",
    "    is_dataset_triu=False,\n",
    "    s=S[ind:]\n",
    ")))"
   ]
  },
  {
   "cell_type": "markdown",
   "metadata": {},
   "source": [
    "### SAP "
   ]
  },
  {
   "cell_type": "code",
   "execution_count": 42,
   "metadata": {},
   "outputs": [],
   "source": [
    "p_embedded_sap_mcw5 = multi_mc_wheeny_batch(p_embedded_sad)"
   ]
  },
  {
   "cell_type": "code",
   "execution_count": 43,
   "metadata": {
    "scrolled": true
   },
   "outputs": [
    {
     "name": "stdout",
     "output_type": "stream",
     "text": [
      "[ ] 2018-10-11 19:28:04: Iteration calculation: 0\n",
      "[ ] 2018-10-11 19:28:05: Iteration calculation: 1\n",
      "[ ] 2018-10-11 19:28:05: Iteration calculation: 2\n",
      "[ ] 2018-10-11 19:28:05: Iteration calculation: 3\n",
      "[ ] 2018-10-11 19:28:06: Iteration calculation: 4\n",
      "[ ] 2018-10-11 19:28:06: Iteration calculation: 5\n",
      "[ ] 2018-10-11 19:28:06: Iteration calculation: 6\n",
      "[ ] 2018-10-11 19:28:07: Iteration calculation: 7\n",
      "[ ] 2018-10-11 19:28:07: Iteration calculation: 8\n",
      "[ ] 2018-10-11 19:28:07: Iteration calculation: 9\n",
      "[ ] 2018-10-11 19:28:07: Iteration calculation: 10\n",
      "[ ] 2018-10-11 19:28:08: Iteration calculation: 11\n",
      "[ ] 2018-10-11 19:28:08: Iteration calculation: 12\n",
      "[ ] 2018-10-11 19:28:09: Iteration calculation: 13\n",
      "[ ] 2018-10-11 19:28:09: Iteration calculation: 14\n",
      "[ ] 2018-10-11 19:28:09: Iteration calculation: 15\n",
      "[ ] 2018-10-11 19:28:09: Iteration calculation: 16\n",
      "[ ] 2018-10-11 19:28:10: Iteration calculation: 17\n",
      "[ ] 2018-10-11 19:28:10: Iteration calculation: 18\n",
      "[ ] 2018-10-11 19:28:11: Iteration calculation: 19\n",
      "[ ] 2018-10-11 19:28:11: Iteration calculation: 20\n",
      "[ ] 2018-10-11 19:28:11: Iteration calculation: 21\n",
      "[ ] 2018-10-11 19:28:11: Iteration calculation: 22\n",
      "[ ] 2018-10-11 19:28:12: Iteration calculation: 23\n",
      "[ ] 2018-10-11 19:28:12: Iteration calculation: 24\n",
      "[ ] 2018-10-11 19:28:13: Iteration calculation: 25\n",
      "[ ] 2018-10-11 19:28:13: Iteration calculation: 26\n",
      "[ ] 2018-10-11 19:28:13: Iteration calculation: 27\n",
      "[ ] 2018-10-11 19:28:14: Iteration calculation: 28\n",
      "[ ] 2018-10-11 19:28:14: Iteration calculation: 29\n",
      "[ ] 2018-10-11 19:28:14: Iteration calculation: 30\n",
      "[ ] 2018-10-11 19:28:15: Iteration calculation: 31\n",
      "[ ] 2018-10-11 19:28:15: Iteration calculation: 32\n",
      "[ ] 2018-10-11 19:28:16: Iteration calculation: 33\n",
      "[ ] 2018-10-11 19:28:16: Iteration calculation: 34\n",
      "[ ] 2018-10-11 19:28:16: Iteration calculation: 35\n",
      "[ ] 2018-10-11 19:28:17: Iteration calculation: 36\n",
      "[ ] 2018-10-11 19:28:17: Iteration calculation: 37\n",
      "[ ] 2018-10-11 19:28:17: Iteration calculation: 38\n",
      "[ ] 2018-10-11 19:28:18: Iteration calculation: 39\n",
      "--- Absolute Error ---\n",
      "1.30658E-02 +- 1.17572E-02\n",
      "--- Symmetry Error ---\n",
      "3.35350E-17 +- 3.93000E-18\n",
      "--- Idempotence Error ---\n",
      "1.63415E-17 +- 1.70116E-18\n",
      "--- Occupance Error ---\n",
      "1.15463E-15 +- 1.66400E-15\n",
      "--- HF Energy Error ---\n",
      "8.77698E-02 +- 3.24193E-03\n",
      "--- Avg. Iterations ---\n",
      "9.57500E+00 +- 8.62772E-01\n",
      "\n"
     ]
    }
   ],
   "source": [
    "from SCFInitialGuess.utilities.analysis import mf_initializer\n",
    "\n",
    "print(make_results_str(measure_all_quantities(\n",
    "    p_embedded_sap_mcw5,\n",
    "    dataset,\n",
    "    molecules[1],\n",
    "    N_ELECTRONS,\n",
    "    mf_initializer,\n",
    "    dim,\n",
    "    is_triu=False,\n",
    "    is_dataset_triu=False,\n",
    "    s=S[ind:]\n",
    ")))"
   ]
  },
  {
   "cell_type": "code",
   "execution_count": null,
   "metadata": {},
   "outputs": [],
   "source": []
  }
 ],
 "metadata": {
  "kernelspec": {
   "display_name": "Python 3",
   "language": "python",
   "name": "python3"
  },
  "language_info": {
   "codemirror_mode": {
    "name": "ipython",
    "version": 3
   },
   "file_extension": ".py",
   "mimetype": "text/x-python",
   "name": "python",
   "nbconvert_exporter": "python",
   "pygments_lexer": "ipython3",
   "version": "3.6.4"
  }
 },
 "nbformat": 4,
 "nbformat_minor": 2
}
