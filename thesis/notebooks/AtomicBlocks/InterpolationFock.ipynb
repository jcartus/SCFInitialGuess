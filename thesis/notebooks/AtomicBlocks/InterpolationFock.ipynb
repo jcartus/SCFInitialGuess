{
 "cells": [
  {
   "cell_type": "code",
   "execution_count": 1,
   "metadata": {},
   "outputs": [
    {
     "name": "stderr",
     "output_type": "stream",
     "text": [
      "/home/jo/anaconda3/lib/python3.6/site-packages/h5py/__init__.py:36: FutureWarning: Conversion of the second argument of issubdtype from `float` to `np.floating` is deprecated. In future, it will be treated as `np.float64 == np.dtype(float).type`.\n",
      "  from ._conv import register_converters as _register_converters\n"
     ]
    }
   ],
   "source": [
    "import numpy as np\n",
    "import matplotlib.pyplot as plt\n",
    "import tensorflow as tf\n",
    "from tensorflow import keras\n",
    "\n",
    "from os.path import join\n",
    "\n",
    "plt.style.use([\"seaborn\", \"thesis\"])"
   ]
  },
  {
   "cell_type": "markdown",
   "metadata": {},
   "source": [
    "# Fetch Dataset "
   ]
  },
  {
   "cell_type": "code",
   "execution_count": 38,
   "metadata": {},
   "outputs": [],
   "source": [
    "from SCFInitialGuess.utilities.dataset import extract_triu_batch, AbstractDataset\n",
    "from sklearn.model_selection import train_test_split\n",
    "from pyscf.scf import hf\n",
    "\n",
    "data_path = \"../../dataset/TSmall_sto3g\"\n",
    "postfix = \"TSmall_sto3g\"\n",
    "dim = 26\n",
    "#data_path = \"../../../butadien/data/\"\n",
    "#postfix = \"\"\n",
    "#dim = 26\n",
    "\n",
    "\n",
    "def split(x, y, ind):\n",
    "    return x[:ind], y[:ind], x[ind:], y[ind:]\n",
    "\n",
    "S = np.load(join(data_path, \"S\" + postfix + \".npy\"))\n",
    "P = np.load(join(data_path, \"P\" + postfix + \".npy\"))\n",
    "F = np.load(join(data_path, \"F\" + postfix + \".npy\"))\n",
    "\n",
    "index = np.load(join(data_path, \"index\" + postfix + \".npy\"))\n",
    "\n",
    "\n",
    "ind = int(0.8 * len(index))\n",
    "\n",
    "molecules = np.load(join(data_path, \"molecules\" + postfix + \".npy\"))\n",
    "molecules = (molecules[:ind], molecules[ind:])\n",
    "\n",
    "\n",
    "\n",
    "s_triu_norm, mu, std = AbstractDataset.normalize(S)\n",
    "\n",
    "h_test = [hf.get_hcore(mol.get_pyscf_molecule()) for mol in molecules[1]]\n",
    "\n",
    "s_train, f_train, s_test, f_test = split(S.reshape(-1, dim, dim), F.reshape(-1, dim, dim), ind)"
   ]
  },
  {
   "cell_type": "markdown",
   "metadata": {},
   "source": [
    "# Pure blocks\n",
    "\n",
    "i will now set all other elements zero"
   ]
  },
  {
   "cell_type": "markdown",
   "metadata": {},
   "source": [
    "## Utilities"
   ]
  },
  {
   "cell_type": "code",
   "execution_count": 4,
   "metadata": {},
   "outputs": [],
   "source": [
    "from SCFInitialGuess.utilities.constants import number_of_basis_functions as N_BASIS\n",
    "\n",
    "mol = molecules[0][0]\n",
    "\n",
    "mask = np.zeros((dim, dim))\n",
    "\n",
    "current_dim = 0\n",
    "for atom in mol.species:\n",
    "    \n",
    "    # calculate block range\n",
    "    index_start = current_dim\n",
    "    current_dim += N_BASIS[\"sto-3g\"][atom] \n",
    "    index_end = current_dim\n",
    "    \n",
    "    # calculate logical vector\n",
    "    L = np.arange(dim)\n",
    "    L = np.logical_and(index_start <= L, L < index_end)\n",
    "    \n",
    "    m = np.logical_and.outer(L, L)\n",
    "    mask = np.logical_or(mask, m)\n",
    "    \n",
    "#mask"
   ]
  },
  {
   "cell_type": "code",
   "execution_count": 58,
   "metadata": {},
   "outputs": [],
   "source": [
    "from pyscf.scf import hf\n",
    "\n",
    "def density_from_fock(f, s, mol):\n",
    "    \n",
    "    mo_energy, mo_coeff = hf.eig(f, s)\n",
    "    mo_occ = hf.get_occ(hf.SCF(mol), mo_energy, mo_coeff)\n",
    "    \n",
    "    return hf.make_rdm1(mo_coeff, mo_occ)\n",
    "\n",
    "def density_from_fock_batch(f_batch):\n",
    "    p = []\n",
    "    for (s, f, mol) in zip(s_test, f_batch, molecules[1]):\n",
    "        p.append(density_from_fock(f, s, mol.get_pyscf_molecule()))\n",
    "    return np.array(p)"
   ]
  },
  {
   "cell_type": "code",
   "execution_count": 32,
   "metadata": {},
   "outputs": [],
   "source": [
    "from SCFInitialGuess.utilities.dataset import reconstruct_from_triu\n",
    "\n",
    "def extract_pure(p):\n",
    "    p_batch = p.copy()\n",
    "    p_batch[np.logical_not(mask)] = 0.0\n",
    "    return p_batch\n",
    "\n",
    "f_pure = np.array(list(map(extract_pure, f_test))).astype(\"float64\")"
   ]
  },
  {
   "cell_type": "code",
   "execution_count": 33,
   "metadata": {},
   "outputs": [
    {
     "name": "stdout",
     "output_type": "stream",
     "text": [
      "(26, 26) (26, 26)\n"
     ]
    },
    {
     "ename": "LinAlgError",
     "evalue": "the leading minor of order 1 of 'b' is not positive definite. The factorization of 'b' could not be completed and no eigenvalues or eigenvectors were computed.",
     "output_type": "error",
     "traceback": [
      "\u001b[0;31m---------------------------------------------------------------------------\u001b[0m",
      "\u001b[0;31mLinAlgError\u001b[0m                               Traceback (most recent call last)",
      "\u001b[0;32m<ipython-input-33-57f310c11540>\u001b[0m in \u001b[0;36m<module>\u001b[0;34m()\u001b[0m\n\u001b[0;32m----> 1\u001b[0;31m \u001b[0mp_pure\u001b[0m \u001b[0;34m=\u001b[0m \u001b[0mdensity_from_fock_batch\u001b[0m\u001b[0;34m(\u001b[0m\u001b[0ms_test\u001b[0m\u001b[0;34m,\u001b[0m \u001b[0mf_test\u001b[0m\u001b[0;34m)\u001b[0m\u001b[0;34m\u001b[0m\u001b[0m\n\u001b[0m",
      "\u001b[0;32m<ipython-input-31-0a1adec66b24>\u001b[0m in \u001b[0;36mdensity_from_fock_batch\u001b[0;34m(f_batch, s_batch)\u001b[0m\n\u001b[1;32m     11\u001b[0m     \u001b[0mp\u001b[0m \u001b[0;34m=\u001b[0m \u001b[0;34m[\u001b[0m\u001b[0;34m]\u001b[0m\u001b[0;34m\u001b[0m\u001b[0m\n\u001b[1;32m     12\u001b[0m     \u001b[0;32mfor\u001b[0m \u001b[0;34m(\u001b[0m\u001b[0ms\u001b[0m\u001b[0;34m,\u001b[0m \u001b[0mf\u001b[0m\u001b[0;34m)\u001b[0m \u001b[0;32min\u001b[0m \u001b[0mzip\u001b[0m\u001b[0;34m(\u001b[0m\u001b[0ms_batch\u001b[0m\u001b[0;34m,\u001b[0m \u001b[0mf_batch\u001b[0m\u001b[0;34m)\u001b[0m\u001b[0;34m:\u001b[0m\u001b[0;34m\u001b[0m\u001b[0m\n\u001b[0;32m---> 13\u001b[0;31m         \u001b[0mp\u001b[0m\u001b[0;34m.\u001b[0m\u001b[0mappend\u001b[0m\u001b[0;34m(\u001b[0m\u001b[0mdensity_from_fock\u001b[0m\u001b[0;34m(\u001b[0m\u001b[0mf\u001b[0m\u001b[0;34m,\u001b[0m \u001b[0ms\u001b[0m\u001b[0;34m)\u001b[0m\u001b[0;34m)\u001b[0m\u001b[0;34m\u001b[0m\u001b[0m\n\u001b[0m\u001b[1;32m     14\u001b[0m     \u001b[0;32mreturn\u001b[0m \u001b[0mnp\u001b[0m\u001b[0;34m.\u001b[0m\u001b[0marray\u001b[0m\u001b[0;34m(\u001b[0m\u001b[0mp\u001b[0m\u001b[0;34m)\u001b[0m\u001b[0;34m\u001b[0m\u001b[0m\n",
      "\u001b[0;32m<ipython-input-31-0a1adec66b24>\u001b[0m in \u001b[0;36mdensity_from_fock\u001b[0;34m(f, s)\u001b[0m\n\u001b[1;32m      3\u001b[0m \u001b[0;32mdef\u001b[0m \u001b[0mdensity_from_fock\u001b[0m\u001b[0;34m(\u001b[0m\u001b[0mf\u001b[0m\u001b[0;34m,\u001b[0m \u001b[0ms\u001b[0m\u001b[0;34m)\u001b[0m\u001b[0;34m:\u001b[0m\u001b[0;34m\u001b[0m\u001b[0m\n\u001b[1;32m      4\u001b[0m     \u001b[0mprint\u001b[0m\u001b[0;34m(\u001b[0m\u001b[0mf\u001b[0m\u001b[0;34m.\u001b[0m\u001b[0mshape\u001b[0m\u001b[0;34m,\u001b[0m \u001b[0ms\u001b[0m\u001b[0;34m.\u001b[0m\u001b[0mshape\u001b[0m\u001b[0;34m)\u001b[0m\u001b[0;34m\u001b[0m\u001b[0m\n\u001b[0;32m----> 5\u001b[0;31m     \u001b[0mmo_energy\u001b[0m\u001b[0;34m,\u001b[0m \u001b[0mmo_coeff\u001b[0m \u001b[0;34m=\u001b[0m \u001b[0mhf\u001b[0m\u001b[0;34m.\u001b[0m\u001b[0meig\u001b[0m\u001b[0;34m(\u001b[0m\u001b[0mf\u001b[0m\u001b[0;34m,\u001b[0m \u001b[0ms\u001b[0m\u001b[0;34m)\u001b[0m\u001b[0;34m\u001b[0m\u001b[0m\n\u001b[0m\u001b[1;32m      6\u001b[0m     \u001b[0mmo_occ\u001b[0m \u001b[0;34m=\u001b[0m \u001b[0mhf\u001b[0m\u001b[0;34m.\u001b[0m\u001b[0mget_occ\u001b[0m\u001b[0;34m(\u001b[0m\u001b[0mSCF\u001b[0m\u001b[0;34m(\u001b[0m\u001b[0mmol\u001b[0m\u001b[0;34m)\u001b[0m\u001b[0;34m,\u001b[0m \u001b[0mmo_energy\u001b[0m\u001b[0;34m,\u001b[0m \u001b[0mmo_coeff\u001b[0m\u001b[0;34m)\u001b[0m\u001b[0;34m\u001b[0m\u001b[0m\n\u001b[1;32m      7\u001b[0m \u001b[0;34m\u001b[0m\u001b[0m\n",
      "\u001b[0;32m~/Repos/pyscf/pyscf/scf/hf.py\u001b[0m in \u001b[0;36meig\u001b[0;34m(h, s)\u001b[0m\n\u001b[1;32m    916\u001b[0m     \u001b[0;34m.\u001b[0m\u001b[0;34m.\u001b[0m \u001b[0mmath\u001b[0m\u001b[0;34m:\u001b[0m\u001b[0;34m:\u001b[0m \u001b[0mHC\u001b[0m \u001b[0;34m=\u001b[0m \u001b[0mSCE\u001b[0m\u001b[0;34m\u001b[0m\u001b[0m\n\u001b[1;32m    917\u001b[0m     '''\n\u001b[0;32m--> 918\u001b[0;31m     \u001b[0me\u001b[0m\u001b[0;34m,\u001b[0m \u001b[0mc\u001b[0m \u001b[0;34m=\u001b[0m \u001b[0mscipy\u001b[0m\u001b[0;34m.\u001b[0m\u001b[0mlinalg\u001b[0m\u001b[0;34m.\u001b[0m\u001b[0meigh\u001b[0m\u001b[0;34m(\u001b[0m\u001b[0mh\u001b[0m\u001b[0;34m,\u001b[0m \u001b[0ms\u001b[0m\u001b[0;34m)\u001b[0m\u001b[0;34m\u001b[0m\u001b[0m\n\u001b[0m\u001b[1;32m    919\u001b[0m     \u001b[0midx\u001b[0m \u001b[0;34m=\u001b[0m \u001b[0mnumpy\u001b[0m\u001b[0;34m.\u001b[0m\u001b[0margmax\u001b[0m\u001b[0;34m(\u001b[0m\u001b[0mabs\u001b[0m\u001b[0;34m(\u001b[0m\u001b[0mc\u001b[0m\u001b[0;34m.\u001b[0m\u001b[0mreal\u001b[0m\u001b[0;34m)\u001b[0m\u001b[0;34m,\u001b[0m \u001b[0maxis\u001b[0m\u001b[0;34m=\u001b[0m\u001b[0;36m0\u001b[0m\u001b[0;34m)\u001b[0m\u001b[0;34m\u001b[0m\u001b[0m\n\u001b[1;32m    920\u001b[0m     \u001b[0mc\u001b[0m\u001b[0;34m[\u001b[0m\u001b[0;34m:\u001b[0m\u001b[0;34m,\u001b[0m\u001b[0mc\u001b[0m\u001b[0;34m[\u001b[0m\u001b[0midx\u001b[0m\u001b[0;34m,\u001b[0m\u001b[0mnumpy\u001b[0m\u001b[0;34m.\u001b[0m\u001b[0marange\u001b[0m\u001b[0;34m(\u001b[0m\u001b[0mlen\u001b[0m\u001b[0;34m(\u001b[0m\u001b[0me\u001b[0m\u001b[0;34m)\u001b[0m\u001b[0;34m)\u001b[0m\u001b[0;34m]\u001b[0m\u001b[0;34m.\u001b[0m\u001b[0mreal\u001b[0m\u001b[0;34m<\u001b[0m\u001b[0;36m0\u001b[0m\u001b[0;34m]\u001b[0m \u001b[0;34m*=\u001b[0m \u001b[0;34m-\u001b[0m\u001b[0;36m1\u001b[0m\u001b[0;34m\u001b[0m\u001b[0m\n",
      "\u001b[0;32m~/anaconda3/lib/python3.6/site-packages/scipy/linalg/decomp.py\u001b[0m in \u001b[0;36meigh\u001b[0;34m(a, b, lower, eigvals_only, overwrite_a, overwrite_b, turbo, eigvals, type, check_finite)\u001b[0m\n\u001b[1;32m    446\u001b[0m                           \u001b[0;34m\" factorization of 'b' could not be completed\"\u001b[0m\u001b[0;34m\u001b[0m\u001b[0m\n\u001b[1;32m    447\u001b[0m                           \u001b[0;34m\" and no eigenvalues or eigenvectors were\"\u001b[0m\u001b[0;34m\u001b[0m\u001b[0m\n\u001b[0;32m--> 448\u001b[0;31m                           \" computed.\" % (info-b1.shape[0]))\n\u001b[0m\u001b[1;32m    449\u001b[0m \u001b[0;34m\u001b[0m\u001b[0m\n\u001b[1;32m    450\u001b[0m \u001b[0;34m\u001b[0m\u001b[0m\n",
      "\u001b[0;31mLinAlgError\u001b[0m: the leading minor of order 1 of 'b' is not positive definite. The factorization of 'b' could not be completed and no eigenvalues or eigenvectors were computed."
     ]
    }
   ],
   "source": [
    "p_pure = density_from_fock_batch(s_test, f_test)"
   ]
  },
  {
   "cell_type": "code",
   "execution_count": 14,
   "metadata": {},
   "outputs": [],
   "source": [
    "from SCFInitialGuess.utilities.analysis import make_results_str, measure_all_quantities\n",
    "from SCFInitialGuess.utilities.dataset import StaticDataset\n",
    "\n",
    "N_ELECTRONS = 30\n",
    "\n",
    "dataset = StaticDataset(\n",
    "    train=(s_train, f_train),\n",
    "    validation=(None, None),\n",
    "    test=(s_test, f_test),\n",
    "    mu=mu,\n",
    "    std=std\n",
    ")\n"
   ]
  },
  {
   "cell_type": "code",
   "execution_count": null,
   "metadata": {},
   "outputs": [],
   "source": []
  },
  {
   "cell_type": "markdown",
   "metadata": {},
   "source": [
    "## Pure Block Analysis "
   ]
  },
  {
   "cell_type": "code",
   "execution_count": 21,
   "metadata": {},
   "outputs": [
    {
     "ename": "ValueError",
     "evalue": "cannot reshape array of size 201 into shape (26,26)",
     "output_type": "error",
     "traceback": [
      "\u001b[0;31m---------------------------------------------------------------------------\u001b[0m",
      "\u001b[0;31mValueError\u001b[0m                                Traceback (most recent call last)",
      "\u001b[0;32m<ipython-input-21-4634df7ee255>\u001b[0m in \u001b[0;36m<module>\u001b[0;34m()\u001b[0m\n\u001b[1;32m     11\u001b[0m     \u001b[0mis_triu\u001b[0m\u001b[0;34m=\u001b[0m\u001b[0;32mFalse\u001b[0m\u001b[0;34m,\u001b[0m\u001b[0;34m\u001b[0m\u001b[0m\n\u001b[1;32m     12\u001b[0m     \u001b[0mis_dataset_triu\u001b[0m\u001b[0;34m=\u001b[0m\u001b[0;32mFalse\u001b[0m\u001b[0;34m,\u001b[0m\u001b[0;34m\u001b[0m\u001b[0m\n\u001b[0;32m---> 13\u001b[0;31m     \u001b[0ms\u001b[0m\u001b[0;34m=\u001b[0m\u001b[0mS\u001b[0m\u001b[0;34m[\u001b[0m\u001b[0mind\u001b[0m\u001b[0;34m:\u001b[0m\u001b[0;34m]\u001b[0m\u001b[0;34m\u001b[0m\u001b[0m\n\u001b[0m\u001b[1;32m     14\u001b[0m )))\n",
      "\u001b[0;32m~/Repos/SCFInitialGuess/SCFInitialGuess/utilities/analysis.py\u001b[0m in \u001b[0;36mmeasure_all_quantities\u001b[0;34m(p, dataset, molecules, n_electrons, mf_initializer, dim, is_triu, is_dataset_triu, s)\u001b[0m\n\u001b[1;32m    316\u001b[0m         \u001b[0ms_raw_batch\u001b[0m \u001b[0;34m=\u001b[0m \u001b[0mmake_matrix_batch\u001b[0m\u001b[0;34m(\u001b[0m\u001b[0ms\u001b[0m\u001b[0;34m,\u001b[0m \u001b[0mdim\u001b[0m\u001b[0;34m,\u001b[0m \u001b[0;32mFalse\u001b[0m\u001b[0;34m)\u001b[0m\u001b[0;34m\u001b[0m\u001b[0m\n\u001b[1;32m    317\u001b[0m \u001b[0;34m\u001b[0m\u001b[0m\n\u001b[0;32m--> 318\u001b[0;31m     \u001b[0mp_batch\u001b[0m \u001b[0;34m=\u001b[0m \u001b[0mmake_matrix_batch\u001b[0m\u001b[0;34m(\u001b[0m\u001b[0mp\u001b[0m\u001b[0;34m,\u001b[0m \u001b[0mdim\u001b[0m\u001b[0;34m,\u001b[0m \u001b[0mis_triu\u001b[0m\u001b[0;34m)\u001b[0m\u001b[0;34m\u001b[0m\u001b[0m\n\u001b[0m\u001b[1;32m    319\u001b[0m \u001b[0;34m\u001b[0m\u001b[0m\n\u001b[1;32m    320\u001b[0m     err_abs = statistics(list(\n",
      "\u001b[0;32m~/Repos/SCFInitialGuess/SCFInitialGuess/utilities/dataset.py\u001b[0m in \u001b[0;36mmake_matrix_batch\u001b[0;34m(vector_batch, dim, is_triu)\u001b[0m\n\u001b[1;32m    494\u001b[0m             )))\n\u001b[1;32m    495\u001b[0m \u001b[0;34m\u001b[0m\u001b[0m\n\u001b[0;32m--> 496\u001b[0;31m         \u001b[0;32mreturn\u001b[0m \u001b[0mvector_batch\u001b[0m\u001b[0;34m.\u001b[0m\u001b[0mreshape\u001b[0m\u001b[0;34m(\u001b[0m\u001b[0;34m[\u001b[0m\u001b[0;34m-\u001b[0m\u001b[0;36m1\u001b[0m\u001b[0;34m,\u001b[0m \u001b[0mdim\u001b[0m\u001b[0;34m,\u001b[0m \u001b[0mdim\u001b[0m\u001b[0;34m]\u001b[0m\u001b[0;34m)\u001b[0m\u001b[0;34m\u001b[0m\u001b[0m\n\u001b[0m\u001b[1;32m    497\u001b[0m \u001b[0;34m\u001b[0m\u001b[0m\n\u001b[1;32m    498\u001b[0m \u001b[0;32mdef\u001b[0m \u001b[0mmake_butadien_dataset\u001b[0m\u001b[0;34m(\u001b[0m\u001b[0mmolecules\u001b[0m\u001b[0;34m,\u001b[0m \u001b[0mS\u001b[0m\u001b[0;34m,\u001b[0m \u001b[0mP\u001b[0m\u001b[0;34m,\u001b[0m \u001b[0mtest_samples\u001b[0m\u001b[0;34m=\u001b[0m\u001b[0;36m50\u001b[0m\u001b[0;34m,\u001b[0m \u001b[0mindex\u001b[0m\u001b[0;34m=\u001b[0m\u001b[0;32mNone\u001b[0m\u001b[0;34m)\u001b[0m\u001b[0;34m:\u001b[0m\u001b[0;34m\u001b[0m\u001b[0m\n",
      "\u001b[0;31mValueError\u001b[0m: cannot reshape array of size 201 into shape (26,26)"
     ]
    }
   ],
   "source": [
    "from SCFInitialGuess.utilities.analysis import mf_initializer as mf_initializer\n",
    "\n",
    "\n",
    "print(make_results_str(measure_all_quantities(\n",
    "    p_pure,\n",
    "    dataset,\n",
    "    molecules[1],\n",
    "    N_ELECTRONS,\n",
    "    mf_initializer,\n",
    "    dim,\n",
    "    is_triu=False,\n",
    "    is_dataset_triu=False,\n",
    "    s=S[ind:]\n",
    ")))"
   ]
  },
  {
   "cell_type": "markdown",
   "metadata": {},
   "source": [
    "# Embedding the Blocks In Classical Guesses"
   ]
  },
  {
   "cell_type": "code",
   "execution_count": 39,
   "metadata": {},
   "outputs": [],
   "source": [
    "from pyscf.scf import hf\n",
    "\n",
    "p_sad = np.array([\n",
    "    hf.init_guess_by_atom(mol.get_pyscf_molecule()) for mol in molecules[1]\n",
    "]).astype(\"float64\")"
   ]
  },
  {
   "cell_type": "code",
   "execution_count": 45,
   "metadata": {},
   "outputs": [],
   "source": [
    "def fock_from_density(p_batch):\n",
    "    f = []\n",
    "    for p, s, h, mol in zip(p_batch, s_test, h_test, molecules[1]):\n",
    "        f.append(hf.get_fock(h, s, hf.get_veff(mol.get_pyscf_molecule(), p), p))\n",
    "    return f\n",
    "\n",
    "f_sad = fock_from_density(p_sad)"
   ]
  },
  {
   "cell_type": "code",
   "execution_count": 52,
   "metadata": {},
   "outputs": [],
   "source": [
    "from SCFInitialGuess.utilities.dataset import reconstruct_from_triu\n",
    "\n",
    "def embedd(x):\n",
    "    p = x[1].copy()\n",
    "    p[mask] = (x[0].copy())[mask]\n",
    "    return p\n",
    "\n",
    "f_embedded_sad = np.array(list(map(embedd, zip(f_test, f_sad))))"
   ]
  },
  {
   "cell_type": "code",
   "execution_count": 59,
   "metadata": {},
   "outputs": [],
   "source": [
    "p_embedded_sad = density_from_fock_batch(f_embedded_sad)"
   ]
  },
  {
   "cell_type": "markdown",
   "metadata": {},
   "source": [
    "## SAD"
   ]
  },
  {
   "cell_type": "code",
   "execution_count": 61,
   "metadata": {},
   "outputs": [
    {
     "name": "stdout",
     "output_type": "stream",
     "text": [
      "[ ] 2018-10-04 20:05:09: Iteration calculation: 0\n",
      "[ ] 2018-10-04 20:05:10: Iteration calculation: 1\n",
      "[ ] 2018-10-04 20:05:11: Iteration calculation: 2\n",
      "[ ] 2018-10-04 20:05:13: Iteration calculation: 3\n",
      "[ ] 2018-10-04 20:05:14: Iteration calculation: 4\n",
      "[ ] 2018-10-04 20:05:16: Iteration calculation: 5\n",
      "[ ] 2018-10-04 20:05:17: Iteration calculation: 6\n",
      "[ ] 2018-10-04 20:05:18: Iteration calculation: 7\n",
      "[ ] 2018-10-04 20:05:19: Iteration calculation: 8\n",
      "[ ] 2018-10-04 20:05:20: Iteration calculation: 9\n",
      "[ ] 2018-10-04 20:05:22: Iteration calculation: 10\n",
      "[ ] 2018-10-04 20:05:23: Iteration calculation: 11\n",
      "[ ] 2018-10-04 20:05:24: Iteration calculation: 12\n",
      "[ ] 2018-10-04 20:05:26: Iteration calculation: 13\n",
      "[ ] 2018-10-04 20:05:28: Iteration calculation: 14\n",
      "[ ] 2018-10-04 20:05:29: Iteration calculation: 15\n",
      "[ ] 2018-10-04 20:05:31: Iteration calculation: 16\n",
      "[ ] 2018-10-04 20:05:32: Iteration calculation: 17\n",
      "[ ] 2018-10-04 20:05:34: Iteration calculation: 18\n",
      "[ ] 2018-10-04 20:05:34: Iteration calculation: 19\n",
      "[ ] 2018-10-04 20:05:36: Iteration calculation: 20\n",
      "[ ] 2018-10-04 20:05:38: Iteration calculation: 21\n",
      "[ ] 2018-10-04 20:05:39: Iteration calculation: 22\n",
      "[ ] 2018-10-04 20:05:41: Iteration calculation: 23\n",
      "[ ] 2018-10-04 20:05:42: Iteration calculation: 24\n",
      "[ ] 2018-10-04 20:05:44: Iteration calculation: 25\n",
      "[ ] 2018-10-04 20:05:46: Iteration calculation: 26\n",
      "[ ] 2018-10-04 20:05:47: Iteration calculation: 27\n",
      "[ ] 2018-10-04 20:05:48: Iteration calculation: 28\n",
      "[ ] 2018-10-04 20:05:49: Iteration calculation: 29\n",
      "[ ] 2018-10-04 20:05:50: Iteration calculation: 30\n",
      "[ ] 2018-10-04 20:05:51: Iteration calculation: 31\n",
      "[ ] 2018-10-04 20:05:53: Iteration calculation: 32\n",
      "[ ] 2018-10-04 20:05:54: Iteration calculation: 33\n",
      "[ ] 2018-10-04 20:05:55: Iteration calculation: 34\n",
      "[ ] 2018-10-04 20:05:56: Iteration calculation: 35\n",
      "[ ] 2018-10-04 20:05:58: Iteration calculation: 36\n",
      "[ ] 2018-10-04 20:06:00: Iteration calculation: 37\n",
      "[ ] 2018-10-04 20:06:01: Iteration calculation: 38\n",
      "[ ] 2018-10-04 20:06:03: Iteration calculation: 39\n",
      "[ ] 2018-10-04 20:06:04: Iteration calculation: 40\n",
      "[ ] 2018-10-04 20:06:05: Iteration calculation: 41\n",
      "[ ] 2018-10-04 20:06:07: Iteration calculation: 42\n",
      "[ ] 2018-10-04 20:06:08: Iteration calculation: 43\n",
      "[ ] 2018-10-04 20:06:10: Iteration calculation: 44\n",
      "[ ] 2018-10-04 20:06:12: Iteration calculation: 45\n",
      "[ ] 2018-10-04 20:06:13: Iteration calculation: 46\n",
      "[ ] 2018-10-04 20:06:15: Iteration calculation: 47\n",
      "[ ] 2018-10-04 20:06:16: Iteration calculation: 48\n",
      "[ ] 2018-10-04 20:06:18: Iteration calculation: 49\n",
      "[ ] 2018-10-04 20:06:19: Iteration calculation: 50\n",
      "[ ] 2018-10-04 20:06:20: Iteration calculation: 51\n",
      "[ ] 2018-10-04 20:06:22: Iteration calculation: 52\n",
      "[ ] 2018-10-04 20:06:24: Iteration calculation: 53\n",
      "[ ] 2018-10-04 20:06:25: Iteration calculation: 54\n",
      "[ ] 2018-10-04 20:06:26: Iteration calculation: 55\n",
      "[ ] 2018-10-04 20:06:27: Iteration calculation: 56\n",
      "[ ] 2018-10-04 20:06:28: Iteration calculation: 57\n",
      "[ ] 2018-10-04 20:06:29: Iteration calculation: 58\n",
      "[ ] 2018-10-04 20:06:30: Iteration calculation: 59\n",
      "[ ] 2018-10-04 20:06:32: Iteration calculation: 60\n",
      "[ ] 2018-10-04 20:06:33: Iteration calculation: 61\n",
      "[ ] 2018-10-04 20:06:34: Iteration calculation: 62\n",
      "[ ] 2018-10-04 20:06:35: Iteration calculation: 63\n",
      "[ ] 2018-10-04 20:06:37: Iteration calculation: 64\n",
      "[ ] 2018-10-04 20:06:38: Iteration calculation: 65\n",
      "[ ] 2018-10-04 20:06:40: Iteration calculation: 66\n",
      "[ ] 2018-10-04 20:06:41: Iteration calculation: 67\n",
      "[ ] 2018-10-04 20:06:43: Iteration calculation: 68\n",
      "[ ] 2018-10-04 20:06:45: Iteration calculation: 69\n",
      "[ ] 2018-10-04 20:06:46: Iteration calculation: 70\n",
      "[ ] 2018-10-04 20:06:48: Iteration calculation: 71\n",
      "[ ] 2018-10-04 20:06:49: Iteration calculation: 72\n",
      "[ ] 2018-10-04 20:06:50: Iteration calculation: 73\n",
      "[ ] 2018-10-04 20:06:52: Iteration calculation: 74\n",
      "[ ] 2018-10-04 20:06:53: Iteration calculation: 75\n",
      "[ ] 2018-10-04 20:06:54: Iteration calculation: 76\n",
      "[ ] 2018-10-04 20:06:54: Iteration calculation: 77\n",
      "[ ] 2018-10-04 20:06:56: Iteration calculation: 78\n",
      "[ ] 2018-10-04 20:06:58: Iteration calculation: 79\n",
      "[ ] 2018-10-04 20:06:58: Iteration calculation: 80\n",
      "[ ] 2018-10-04 20:07:00: Iteration calculation: 81\n",
      "[ ] 2018-10-04 20:07:02: Iteration calculation: 82\n",
      "[ ] 2018-10-04 20:07:03: Iteration calculation: 83\n",
      "[ ] 2018-10-04 20:07:05: Iteration calculation: 84\n",
      "[ ] 2018-10-04 20:07:06: Iteration calculation: 85\n",
      "[ ] 2018-10-04 20:07:07: Iteration calculation: 86\n",
      "[ ] 2018-10-04 20:07:09: Iteration calculation: 87\n",
      "[ ] 2018-10-04 20:07:11: Iteration calculation: 88\n",
      "[ ] 2018-10-04 20:07:13: Iteration calculation: 89\n",
      "[ ] 2018-10-04 20:07:14: Iteration calculation: 90\n",
      "[ ] 2018-10-04 20:07:16: Iteration calculation: 91\n",
      "[ ] 2018-10-04 20:07:17: Iteration calculation: 92\n",
      "[ ] 2018-10-04 20:07:19: Iteration calculation: 93\n",
      "[ ] 2018-10-04 20:07:20: Iteration calculation: 94\n",
      "[ ] 2018-10-04 20:07:22: Iteration calculation: 95\n",
      "[ ] 2018-10-04 20:07:24: Iteration calculation: 96\n",
      "[ ] 2018-10-04 20:07:26: Iteration calculation: 97\n",
      "[ ] 2018-10-04 20:07:27: Iteration calculation: 98\n",
      "[ ] 2018-10-04 20:07:28: Iteration calculation: 99\n",
      "[ ] 2018-10-04 20:07:30: Iteration calculation: 100\n",
      "[ ] 2018-10-04 20:07:31: Iteration calculation: 101\n",
      "[ ] 2018-10-04 20:07:33: Iteration calculation: 102\n",
      "[ ] 2018-10-04 20:07:34: Iteration calculation: 103\n",
      "[ ] 2018-10-04 20:07:36: Iteration calculation: 104\n",
      "[ ] 2018-10-04 20:07:37: Iteration calculation: 105\n",
      "[ ] 2018-10-04 20:07:38: Iteration calculation: 106\n",
      "[ ] 2018-10-04 20:07:40: Iteration calculation: 107\n",
      "[ ] 2018-10-04 20:07:42: Iteration calculation: 108\n",
      "[ ] 2018-10-04 20:07:44: Iteration calculation: 109\n",
      "[ ] 2018-10-04 20:07:45: Iteration calculation: 110\n",
      "[ ] 2018-10-04 20:07:47: Iteration calculation: 111\n",
      "[ ] 2018-10-04 20:07:48: Iteration calculation: 112\n",
      "[ ] 2018-10-04 20:07:50: Iteration calculation: 113\n",
      "[ ] 2018-10-04 20:07:51: Iteration calculation: 114\n",
      "[ ] 2018-10-04 20:07:52: Iteration calculation: 115\n",
      "[ ] 2018-10-04 20:07:54: Iteration calculation: 116\n",
      "[ ] 2018-10-04 20:07:56: Iteration calculation: 117\n",
      "[ ] 2018-10-04 20:07:56: Iteration calculation: 118\n",
      "[ ] 2018-10-04 20:07:58: Iteration calculation: 119\n",
      "[ ] 2018-10-04 20:07:59: Iteration calculation: 120\n",
      "[ ] 2018-10-04 20:08:01: Iteration calculation: 121\n",
      "[ ] 2018-10-04 20:08:03: Iteration calculation: 122\n",
      "[ ] 2018-10-04 20:08:05: Iteration calculation: 123\n",
      "[ ] 2018-10-04 20:08:05: Iteration calculation: 124\n",
      "[ ] 2018-10-04 20:08:07: Iteration calculation: 125\n",
      "[ ] 2018-10-04 20:08:07: Iteration calculation: 126\n",
      "[ ] 2018-10-04 20:08:08: Iteration calculation: 127\n",
      "[ ] 2018-10-04 20:08:09: Iteration calculation: 128\n",
      "[ ] 2018-10-04 20:08:11: Iteration calculation: 129\n",
      "[ ] 2018-10-04 20:08:12: Iteration calculation: 130\n",
      "[ ] 2018-10-04 20:08:14: Iteration calculation: 131\n",
      "[ ] 2018-10-04 20:08:15: Iteration calculation: 132\n",
      "[ ] 2018-10-04 20:08:17: Iteration calculation: 133\n",
      "[ ] 2018-10-04 20:08:18: Iteration calculation: 134\n",
      "[ ] 2018-10-04 20:08:19: Iteration calculation: 135\n",
      "[ ] 2018-10-04 20:08:20: Iteration calculation: 136\n",
      "[ ] 2018-10-04 20:08:22: Iteration calculation: 137\n",
      "[ ] 2018-10-04 20:08:23: Iteration calculation: 138\n",
      "[ ] 2018-10-04 20:08:25: Iteration calculation: 139\n",
      "[ ] 2018-10-04 20:08:25: Iteration calculation: 140\n",
      "[ ] 2018-10-04 20:08:27: Iteration calculation: 141\n",
      "[ ] 2018-10-04 20:08:28: Iteration calculation: 142\n",
      "[ ] 2018-10-04 20:08:29: Iteration calculation: 143\n",
      "[ ] 2018-10-04 20:08:31: Iteration calculation: 144\n",
      "[ ] 2018-10-04 20:08:32: Iteration calculation: 145\n",
      "[ ] 2018-10-04 20:08:32: Iteration calculation: 146\n",
      "[ ] 2018-10-04 20:08:33: Iteration calculation: 147\n",
      "[ ] 2018-10-04 20:08:35: Iteration calculation: 148\n",
      "[ ] 2018-10-04 20:08:37: Iteration calculation: 149\n",
      "[ ] 2018-10-04 20:08:39: Iteration calculation: 150\n",
      "[ ] 2018-10-04 20:08:40: Iteration calculation: 151\n",
      "[ ] 2018-10-04 20:08:42: Iteration calculation: 152\n",
      "[ ] 2018-10-04 20:08:44: Iteration calculation: 153\n",
      "[ ] 2018-10-04 20:08:45: Iteration calculation: 154\n",
      "[ ] 2018-10-04 20:08:46: Iteration calculation: 155\n",
      "[ ] 2018-10-04 20:08:46: Iteration calculation: 156\n",
      "[ ] 2018-10-04 20:08:48: Iteration calculation: 157\n",
      "[ ] 2018-10-04 20:08:50: Iteration calculation: 158\n",
      "[ ] 2018-10-04 20:08:51: Iteration calculation: 159\n"
     ]
    },
    {
     "name": "stdout",
     "output_type": "stream",
     "text": [
      "[ ] 2018-10-04 20:08:53: Iteration calculation: 160\n",
      "[ ] 2018-10-04 20:08:53: Iteration calculation: 161\n",
      "[ ] 2018-10-04 20:08:55: Iteration calculation: 162\n",
      "[ ] 2018-10-04 20:08:56: Iteration calculation: 163\n",
      "[ ] 2018-10-04 20:08:56: Iteration calculation: 164\n",
      "[ ] 2018-10-04 20:08:58: Iteration calculation: 165\n",
      "[ ] 2018-10-04 20:08:59: Iteration calculation: 166\n",
      "[ ] 2018-10-04 20:08:59: Iteration calculation: 167\n",
      "[ ] 2018-10-04 20:09:01: Iteration calculation: 168\n",
      "[ ] 2018-10-04 20:09:02: Iteration calculation: 169\n",
      "[ ] 2018-10-04 20:09:03: Iteration calculation: 170\n",
      "[ ] 2018-10-04 20:09:04: Iteration calculation: 171\n",
      "[ ] 2018-10-04 20:09:06: Iteration calculation: 172\n",
      "[ ] 2018-10-04 20:09:07: Iteration calculation: 173\n",
      "[ ] 2018-10-04 20:09:08: Iteration calculation: 174\n",
      "[ ] 2018-10-04 20:09:10: Iteration calculation: 175\n",
      "[ ] 2018-10-04 20:09:11: Iteration calculation: 176\n",
      "[ ] 2018-10-04 20:09:11: Iteration calculation: 177\n",
      "[ ] 2018-10-04 20:09:13: Iteration calculation: 178\n",
      "[ ] 2018-10-04 20:09:14: Iteration calculation: 179\n",
      "[ ] 2018-10-04 20:09:15: Iteration calculation: 180\n",
      "[ ] 2018-10-04 20:09:17: Iteration calculation: 181\n",
      "[ ] 2018-10-04 20:09:18: Iteration calculation: 182\n",
      "[ ] 2018-10-04 20:09:20: Iteration calculation: 183\n",
      "[ ] 2018-10-04 20:09:21: Iteration calculation: 184\n",
      "[ ] 2018-10-04 20:09:22: Iteration calculation: 185\n",
      "[ ] 2018-10-04 20:09:23: Iteration calculation: 186\n",
      "[ ] 2018-10-04 20:09:25: Iteration calculation: 187\n",
      "[ ] 2018-10-04 20:09:27: Iteration calculation: 188\n",
      "[ ] 2018-10-04 20:09:29: Iteration calculation: 189\n",
      "[ ] 2018-10-04 20:09:29: Iteration calculation: 190\n",
      "[ ] 2018-10-04 20:09:30: Iteration calculation: 191\n",
      "[ ] 2018-10-04 20:09:32: Iteration calculation: 192\n",
      "[ ] 2018-10-04 20:09:33: Iteration calculation: 193\n",
      "[ ] 2018-10-04 20:09:35: Iteration calculation: 194\n",
      "[ ] 2018-10-04 20:09:35: Iteration calculation: 195\n",
      "[ ] 2018-10-04 20:09:37: Iteration calculation: 196\n",
      "[ ] 2018-10-04 20:09:39: Iteration calculation: 197\n",
      "[ ] 2018-10-04 20:09:41: Iteration calculation: 198\n",
      "[ ] 2018-10-04 20:09:42: Iteration calculation: 199\n",
      "[ ] 2018-10-04 20:09:44: Iteration calculation: 200\n",
      "--- Absolute Error ---\n",
      "5.00185E-01 +- 2.01524E-01\n",
      "--- Symmetry Error ---\n",
      "5.17201E-18 +- 1.60522E-18\n",
      "--- Idempotence Error ---\n",
      "1.16241E-15 +- 2.14678E-16\n",
      "--- Occupance Error ---\n",
      "6.99938E-15 +- 5.62471E-15\n",
      "--- HF Energy Error ---\n",
      "3.03784E+03 +- 1.20488E+02\n",
      "--- Avg. Iterations ---\n",
      "8.24627E+01 +- 2.88220E+01\n",
      "\n"
     ]
    }
   ],
   "source": [
    "print(make_results_str(measure_all_quantities(\n",
    "    p_embedded_sad,\n",
    "    dataset,\n",
    "    molecules[1],\n",
    "    N_ELECTRONS,\n",
    "    mf_initializer,\n",
    "    dim,\n",
    "    is_triu=False,\n",
    "    is_dataset_triu=False,\n",
    "    s=S[ind:]\n",
    ")))"
   ]
  },
  {
   "cell_type": "markdown",
   "metadata": {},
   "source": [
    "## GWH"
   ]
  },
  {
   "cell_type": "code",
   "execution_count": null,
   "metadata": {},
   "outputs": [],
   "source": [
    "p_gwh = np.array([\n",
    "    hf.init_guess_by_wolfsberg_helmholtz(mol.get_pyscf_molecule()) for mol in molecules[1]\n",
    "]).astype(\"float64\")\n",
    "\n",
    "p_embedded_gwh = np.array(list(map(embedd, zip(p_test, p_gwh))))"
   ]
  },
  {
   "cell_type": "code",
   "execution_count": null,
   "metadata": {},
   "outputs": [],
   "source": [
    "print(make_results_str(measure_all_quantities(\n",
    "    p_embedded_gwh,\n",
    "    dataset,\n",
    "    molecules[1],\n",
    "    N_ELECTRONS,\n",
    "    mf_initializer,\n",
    "    dim,\n",
    "    is_triu=False,\n",
    "    is_dataset_triu=True,\n",
    "    s=S[ind:]\n",
    ")))"
   ]
  },
  {
   "cell_type": "markdown",
   "metadata": {},
   "source": [
    "# Test "
   ]
  },
  {
   "cell_type": "code",
   "execution_count": null,
   "metadata": {},
   "outputs": [],
   "source": [
    "from SCFInitialGuess.utilities.dataset import make_matrix_batch\n",
    "s_test_batch = make_matrix_batch(S[ind:], dim)"
   ]
  },
  {
   "cell_type": "code",
   "execution_count": null,
   "metadata": {},
   "outputs": [],
   "source": [
    "from SCFInitialGuess.nn.post_processing import multi_mc_wheeny\n",
    "from SCFInitialGuess.utilities.dataset import make_matrix_batch\n",
    "\n",
    "#del p_embedded_sad\n",
    "#del p_sad\n",
    "#del p_gwh\n",
    "#del P\n",
    "#del dataset\n",
    "#del molecules\n",
    "#del p_pure\n",
    "#del s_train\n",
    "#del p_train\n",
    "\n",
    "f = lambda x: multi_mc_wheeny(x[0], x[1], 20)\n",
    "\n",
    "p_embedded_gwh_mcw5 = np.array(list(map(f, zip(p_embedded_gwh, s_test_batch))))"
   ]
  },
  {
   "cell_type": "code",
   "execution_count": null,
   "metadata": {},
   "outputs": [],
   "source": [
    "from SCFInitialGuess.utilities.analysis import mf_initializer\n",
    "\n",
    "print(make_results_str(measure_all_quantities(\n",
    "    p_embedded_gwh_mcw5,\n",
    "    dataset,\n",
    "    molecules[1],\n",
    "    N_ELECTRONS,\n",
    "    mf_initializer,\n",
    "    dim,\n",
    "    is_triu=False,\n",
    "    is_dataset_triu=True,\n",
    "    s=S[ind:]\n",
    ")))"
   ]
  },
  {
   "cell_type": "code",
   "execution_count": null,
   "metadata": {},
   "outputs": [],
   "source": []
  }
 ],
 "metadata": {
  "kernelspec": {
   "display_name": "Python 3",
   "language": "python",
   "name": "python3"
  },
  "language_info": {
   "codemirror_mode": {
    "name": "ipython",
    "version": 3
   },
   "file_extension": ".py",
   "mimetype": "text/x-python",
   "name": "python",
   "nbconvert_exporter": "python",
   "pygments_lexer": "ipython3",
   "version": "3.6.4"
  }
 },
 "nbformat": 4,
 "nbformat_minor": 2
}
