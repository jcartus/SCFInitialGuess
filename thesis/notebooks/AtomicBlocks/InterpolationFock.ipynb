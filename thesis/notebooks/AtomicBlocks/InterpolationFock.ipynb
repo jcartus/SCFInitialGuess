{
 "cells": [
  {
   "cell_type": "code",
   "execution_count": 1,
   "metadata": {},
   "outputs": [
    {
     "name": "stderr",
     "output_type": "stream",
     "text": [
      "/home/jcartus/anaconda3/lib/python3.6/site-packages/h5py/__init__.py:36: FutureWarning: Conversion of the second argument of issubdtype from `float` to `np.floating` is deprecated. In future, it will be treated as `np.float64 == np.dtype(float).type`.\n",
      "  from ._conv import register_converters as _register_converters\n"
     ]
    }
   ],
   "source": [
    "import numpy as np\n",
    "import matplotlib.pyplot as plt\n",
    "import tensorflow as tf\n",
    "from tensorflow import keras\n",
    "\n",
    "from os.path import join\n",
    "\n",
    "plt.style.use([\"seaborn\", \"thesis\"])"
   ]
  },
  {
   "cell_type": "markdown",
   "metadata": {},
   "source": [
    "# Fetch Dataset "
   ]
  },
  {
   "cell_type": "code",
   "execution_count": 7,
   "metadata": {},
   "outputs": [
    {
     "ename": "FileNotFoundError",
     "evalue": "[Errno 2] No such file or directory: '../../cc2ai/ethen/Sethen_6-31g**.npy'",
     "output_type": "error",
     "traceback": [
      "\u001b[0;31m---------------------------------------------------------------------------\u001b[0m",
      "\u001b[0;31mFileNotFoundError\u001b[0m                         Traceback (most recent call last)",
      "\u001b[0;32m<ipython-input-7-9e525948a50e>\u001b[0m in \u001b[0;36m<module>\u001b[0;34m()\u001b[0m\n\u001b[1;32m     17\u001b[0m     \u001b[0;32mreturn\u001b[0m \u001b[0mx\u001b[0m\u001b[0;34m[\u001b[0m\u001b[0;34m:\u001b[0m\u001b[0mind\u001b[0m\u001b[0;34m]\u001b[0m\u001b[0;34m,\u001b[0m \u001b[0my\u001b[0m\u001b[0;34m[\u001b[0m\u001b[0;34m:\u001b[0m\u001b[0mind\u001b[0m\u001b[0;34m]\u001b[0m\u001b[0;34m,\u001b[0m \u001b[0mx\u001b[0m\u001b[0;34m[\u001b[0m\u001b[0mind\u001b[0m\u001b[0;34m:\u001b[0m\u001b[0;34m]\u001b[0m\u001b[0;34m,\u001b[0m \u001b[0my\u001b[0m\u001b[0;34m[\u001b[0m\u001b[0mind\u001b[0m\u001b[0;34m:\u001b[0m\u001b[0;34m]\u001b[0m\u001b[0;34m\u001b[0m\u001b[0m\n\u001b[1;32m     18\u001b[0m \u001b[0;34m\u001b[0m\u001b[0m\n\u001b[0;32m---> 19\u001b[0;31m \u001b[0mS\u001b[0m \u001b[0;34m=\u001b[0m \u001b[0mnp\u001b[0m\u001b[0;34m.\u001b[0m\u001b[0mload\u001b[0m\u001b[0;34m(\u001b[0m\u001b[0mjoin\u001b[0m\u001b[0;34m(\u001b[0m\u001b[0mdata_path\u001b[0m\u001b[0;34m,\u001b[0m \u001b[0;34m\"S\"\u001b[0m \u001b[0;34m+\u001b[0m \u001b[0mpostfix\u001b[0m \u001b[0;34m+\u001b[0m \u001b[0;34m\".npy\"\u001b[0m\u001b[0;34m)\u001b[0m\u001b[0;34m)\u001b[0m\u001b[0;34m\u001b[0m\u001b[0m\n\u001b[0m\u001b[1;32m     20\u001b[0m \u001b[0mP\u001b[0m \u001b[0;34m=\u001b[0m \u001b[0mnp\u001b[0m\u001b[0;34m.\u001b[0m\u001b[0mload\u001b[0m\u001b[0;34m(\u001b[0m\u001b[0mjoin\u001b[0m\u001b[0;34m(\u001b[0m\u001b[0mdata_path\u001b[0m\u001b[0;34m,\u001b[0m \u001b[0;34m\"P\"\u001b[0m \u001b[0;34m+\u001b[0m \u001b[0mpostfix\u001b[0m \u001b[0;34m+\u001b[0m \u001b[0;34m\".npy\"\u001b[0m\u001b[0;34m)\u001b[0m\u001b[0;34m)\u001b[0m\u001b[0;34m\u001b[0m\u001b[0m\n\u001b[1;32m     21\u001b[0m \u001b[0mF\u001b[0m \u001b[0;34m=\u001b[0m \u001b[0mnp\u001b[0m\u001b[0;34m.\u001b[0m\u001b[0mload\u001b[0m\u001b[0;34m(\u001b[0m\u001b[0mjoin\u001b[0m\u001b[0;34m(\u001b[0m\u001b[0mdata_path\u001b[0m\u001b[0;34m,\u001b[0m \u001b[0;34m\"F\"\u001b[0m \u001b[0;34m+\u001b[0m \u001b[0mpostfix\u001b[0m \u001b[0;34m+\u001b[0m \u001b[0;34m\".npy\"\u001b[0m\u001b[0;34m)\u001b[0m\u001b[0;34m)\u001b[0m\u001b[0;34m\u001b[0m\u001b[0m\n",
      "\u001b[0;32m~/anaconda3/lib/python3.6/site-packages/numpy/lib/npyio.py\u001b[0m in \u001b[0;36mload\u001b[0;34m(file, mmap_mode, allow_pickle, fix_imports, encoding)\u001b[0m\n\u001b[1;32m    370\u001b[0m     \u001b[0mown_fid\u001b[0m \u001b[0;34m=\u001b[0m \u001b[0;32mFalse\u001b[0m\u001b[0;34m\u001b[0m\u001b[0m\n\u001b[1;32m    371\u001b[0m     \u001b[0;32mif\u001b[0m \u001b[0misinstance\u001b[0m\u001b[0;34m(\u001b[0m\u001b[0mfile\u001b[0m\u001b[0;34m,\u001b[0m \u001b[0mbasestring\u001b[0m\u001b[0;34m)\u001b[0m\u001b[0;34m:\u001b[0m\u001b[0;34m\u001b[0m\u001b[0m\n\u001b[0;32m--> 372\u001b[0;31m         \u001b[0mfid\u001b[0m \u001b[0;34m=\u001b[0m \u001b[0mopen\u001b[0m\u001b[0;34m(\u001b[0m\u001b[0mfile\u001b[0m\u001b[0;34m,\u001b[0m \u001b[0;34m\"rb\"\u001b[0m\u001b[0;34m)\u001b[0m\u001b[0;34m\u001b[0m\u001b[0m\n\u001b[0m\u001b[1;32m    373\u001b[0m         \u001b[0mown_fid\u001b[0m \u001b[0;34m=\u001b[0m \u001b[0;32mTrue\u001b[0m\u001b[0;34m\u001b[0m\u001b[0m\n\u001b[1;32m    374\u001b[0m     \u001b[0;32melif\u001b[0m \u001b[0mis_pathlib_path\u001b[0m\u001b[0;34m(\u001b[0m\u001b[0mfile\u001b[0m\u001b[0;34m)\u001b[0m\u001b[0;34m:\u001b[0m\u001b[0;34m\u001b[0m\u001b[0m\n",
      "\u001b[0;31mFileNotFoundError\u001b[0m: [Errno 2] No such file or directory: '../../cc2ai/ethen/Sethen_6-31g**.npy'"
     ]
    }
   ],
   "source": [
    "from SCFInitialGuess.utilities.dataset import extract_triu_batch, AbstractDataset\n",
    "from sklearn.model_selection import train_test_split\n",
    "from pyscf.scf import hf\n",
    "\n",
    "data_path = \"../../dataset/TSmall_sto3g\"\n",
    "postfix = \"TSmall_sto3g\"\n",
    "dim = 26\n",
    "#data_path = \"../../../butadien/data/\"\n",
    "#postfix = \"\"\n",
    "#dim = 26\n",
    "\n",
    "\n",
    "def split(x, y, ind):\n",
    "    return x[:ind], y[:ind], x[ind:], y[ind:]\n",
    "\n",
    "S = np.load(join(data_path, \"S\" + postfix + \".npy\"))\n",
    "P = np.load(join(data_path, \"P\" + postfix + \".npy\"))\n",
    "F = np.load(join(data_path, \"F\" + postfix + \".npy\"))\n",
    "\n",
    "index = np.load(join(data_path, \"index\" + postfix + \".npy\"))\n",
    "\n",
    "\n",
    "ind = int(0.8 * len(index))\n",
    "\n",
    "molecules = np.load(join(data_path, \"molecules\" + postfix + \".npy\"))\n",
    "molecules = (molecules[:ind], molecules[ind:])\n",
    "\n",
    "\n",
    "\n",
    "s_triu_norm, mu, std = AbstractDataset.normalize(S)\n",
    "\n",
    "h_test = [hf.get_hcore(mol.get_pyscf_molecule()) for mol in molecules[1]]\n",
    "\n",
    "s_train, f_train, s_test, f_test = split(S.reshape(-1, dim, dim), F.reshape(-1, dim, dim), ind)"
   ]
  },
  {
   "cell_type": "code",
   "execution_count": 15,
   "metadata": {},
   "outputs": [],
   "source": [
    "from SCFInitialGuess.utilities.dataset import extract_triu_batch, AbstractDataset\n",
    "from sklearn.model_selection import train_test_split\n",
    "from pyscf.scf import hf\n",
    "\n",
    "data_path = \"/home/jcartus/Repos/SCFInitialGuess/cc2ai/ethen/\"\n",
    "postfix = \"_ethen_6-31g**\"\n",
    "dim = 48\n",
    "#data_path = \"../../dataset/TSmall_sto3g\"\n",
    "#postfix = \"TSmall_sto3g\"\n",
    "#dim = 26\n",
    "#data_path = \"../../../butadien/data/\"\n",
    "#postfix = \"\"\n",
    "#dim = 26\n",
    "\n",
    "\n",
    "def split(x, y, ind):\n",
    "    return x[:ind], y[:ind], x[ind:], y[ind:]\n",
    "\n",
    "S, P = np.load(join(data_path, \"dataset\" + postfix + \".npy\"))\n",
    "#F = np.load(join(data_path, \"F\" + postfix + \".npy\"))\n",
    "\n",
    "#index = np.load(join(data_path, \"index\" + postfix + \".npy\"))\n",
    "\n",
    "\n",
    "ind = int(0.8 * len(S))\n",
    "\n",
    "molecules = np.load(join(data_path, \"molecules\" + postfix + \".npy\"))\n",
    "molecules = (molecules[:ind], molecules[ind:])\n",
    "\n",
    "\n",
    "\n",
    "h_test = [hf.get_hcore(mol.get_pyscf_molecule()) for mol in molecules[1]]\n",
    "\n",
    "s_triu_norm, mu, std = AbstractDataset.normalize(S)\n",
    "\n",
    "s_train, p_train, s_test, p_test = split(S.reshape(-1, dim, dim), P.reshape(-1, dim, dim), ind)"
   ]
  },
  {
   "cell_type": "code",
   "execution_count": 27,
   "metadata": {},
   "outputs": [],
   "source": [
    "def fock_from_density(p_batch):\n",
    "    f = []\n",
    "    for p, s, h, mol in zip(p_batch, s_test, h_test, molecules[1]):\n",
    "        f.append(hf.get_fock(h, s, hf.get_veff(mol.get_pyscf_molecule(), p), p))\n",
    "    return np.array(f)\n",
    "\n",
    "f_test = fock_from_density(p_test)"
   ]
  },
  {
   "cell_type": "code",
   "execution_count": 28,
   "metadata": {},
   "outputs": [
    {
     "data": {
      "text/plain": [
       "(40, 48, 48)"
      ]
     },
     "execution_count": 28,
     "metadata": {},
     "output_type": "execute_result"
    }
   ],
   "source": [
    "f_test.shape"
   ]
  },
  {
   "cell_type": "code",
   "execution_count": 29,
   "metadata": {},
   "outputs": [
    {
     "data": {
      "text/plain": [
       "<matplotlib.axes._subplots.AxesSubplot at 0x7fc8b62dd080>"
      ]
     },
     "execution_count": 29,
     "metadata": {},
     "output_type": "execute_result"
    },
    {
     "data": {
      "image/png": "[encoded data removed]",
      "text/plain": [
       "<matplotlib.figure.Figure at 0x7fc8947367b8>"
      ]
     },
     "metadata": {},
     "output_type": "display_data"
    }
   ],
   "source": [
    "import seaborn as sns\n",
    "\n",
    "sns.heatmap(-1 *f_test[0].reshape(dim, dim))"
   ]
  },
  {
   "cell_type": "markdown",
   "metadata": {},
   "source": [
    "# Pure blocks\n",
    "\n",
    "i will now set all other elements zero"
   ]
  },
  {
   "cell_type": "markdown",
   "metadata": {},
   "source": [
    "## Utilities"
   ]
  },
  {
   "cell_type": "code",
   "execution_count": 18,
   "metadata": {},
   "outputs": [],
   "source": [
    "from SCFInitialGuess.utilities.constants import number_of_basis_functions as N_BASIS\n",
    "\n",
    "mol = molecules[0][0]\n",
    "\n",
    "mask = np.zeros((dim, dim))\n",
    "\n",
    "current_dim = 0\n",
    "for atom in mol.species:\n",
    "    \n",
    "    # calculate block range\n",
    "    index_start = current_dim\n",
    "    current_dim += N_BASIS[\"sto-3g\"][atom] \n",
    "    index_end = current_dim\n",
    "    \n",
    "    # calculate logical vector\n",
    "    L = np.arange(dim)\n",
    "    L = np.logical_and(index_start <= L, L < index_end)\n",
    "    \n",
    "    m = np.logical_and.outer(L, L)\n",
    "    mask = np.logical_or(mask, m)\n",
    "    \n",
    "#mask"
   ]
  },
  {
   "cell_type": "code",
   "execution_count": 19,
   "metadata": {},
   "outputs": [],
   "source": [
    "from pyscf.scf import hf\n",
    "\n",
    "def density_from_fock(f, s, mol):\n",
    "    \n",
    "    mo_energy, mo_coeff = hf.eig(f, s)\n",
    "    mo_occ = hf.get_occ(hf.SCF(mol), mo_energy, mo_coeff)\n",
    "    \n",
    "    return hf.make_rdm1(mo_coeff, mo_occ)\n",
    "\n",
    "def density_from_fock_batch(f_batch):\n",
    "    p = []\n",
    "    for (s, f, mol) in zip(s_test, f_batch, molecules[1]):\n",
    "        p.append(density_from_fock(f, s, mol.get_pyscf_molecule()))\n",
    "    return np.array(p)"
   ]
  },
  {
   "cell_type": "code",
   "execution_count": 30,
   "metadata": {},
   "outputs": [],
   "source": [
    "from SCFInitialGuess.utilities.dataset import reconstruct_from_triu\n",
    "\n",
    "def extract_pure(p):\n",
    "    p_batch = p.copy()\n",
    "    p_batch[np.logical_not(mask)] = 0.0\n",
    "    return p_batch\n",
    "\n",
    "f_pure = np.array(list(map(extract_pure, f_test))).astype(\"float64\")"
   ]
  },
  {
   "cell_type": "code",
   "execution_count": 31,
   "metadata": {},
   "outputs": [],
   "source": [
    "p_pure = density_from_fock_batch(f_pure)"
   ]
  },
  {
   "cell_type": "code",
   "execution_count": 34,
   "metadata": {},
   "outputs": [],
   "source": [
    "from SCFInitialGuess.utilities.analysis import make_results_str, measure_all_quantities\n",
    "from SCFInitialGuess.utilities.dataset import StaticDataset\n",
    "\n",
    "N_ELECTRONS = 16\n",
    "\n",
    "dataset = StaticDataset(\n",
    "    train=(s_train, p_train),\n",
    "    validation=(None, None),\n",
    "    test=(s_test, p_test),\n",
    "    mu=mu,\n",
    "    std=std\n",
    ")\n"
   ]
  },
  {
   "cell_type": "markdown",
   "metadata": {},
   "source": [
    "## Pure Block Analysis "
   ]
  },
  {
   "cell_type": "code",
   "execution_count": 35,
   "metadata": {},
   "outputs": [
    {
     "name": "stdout",
     "output_type": "stream",
     "text": [
      "[ ] 2018-10-05 14:02:30: Iteration calculation: 0\n",
      "[ ] 2018-10-05 14:02:31: Iteration calculation: 1\n",
      "[ ] 2018-10-05 14:02:32: Iteration calculation: 2\n",
      "[ ] 2018-10-05 14:02:33: Iteration calculation: 3\n",
      "[ ] 2018-10-05 14:02:35: Iteration calculation: 4\n",
      "[ ] 2018-10-05 14:02:36: Iteration calculation: 5\n",
      "[ ] 2018-10-05 14:02:38: Iteration calculation: 6\n",
      "[ ] 2018-10-05 14:02:39: Iteration calculation: 7\n",
      "[ ] 2018-10-05 14:02:40: Iteration calculation: 8\n",
      "[ ] 2018-10-05 14:02:41: Iteration calculation: 9\n",
      "[ ] 2018-10-05 14:02:43: Iteration calculation: 10\n",
      "[ ] 2018-10-05 14:02:44: Iteration calculation: 11\n",
      "[ ] 2018-10-05 14:02:45: Iteration calculation: 12\n",
      "[ ] 2018-10-05 14:02:46: Iteration calculation: 13\n",
      "[ ] 2018-10-05 14:02:48: Iteration calculation: 14\n",
      "[ ] 2018-10-05 14:02:49: Iteration calculation: 15\n",
      "[ ] 2018-10-05 14:02:50: Iteration calculation: 16\n",
      "[ ] 2018-10-05 14:02:51: Iteration calculation: 17\n",
      "[ ] 2018-10-05 14:02:52: Iteration calculation: 18\n",
      "[ ] 2018-10-05 14:02:54: Iteration calculation: 19\n",
      "[ ] 2018-10-05 14:02:55: Iteration calculation: 20\n",
      "[ ] 2018-10-05 14:02:56: Iteration calculation: 21\n",
      "[ ] 2018-10-05 14:02:57: Iteration calculation: 22\n",
      "[ ] 2018-10-05 14:02:59: Iteration calculation: 23\n",
      "[ ] 2018-10-05 14:03:00: Iteration calculation: 24\n",
      "[ ] 2018-10-05 14:03:01: Iteration calculation: 25\n",
      "[ ] 2018-10-05 14:03:03: Iteration calculation: 26\n",
      "[ ] 2018-10-05 14:03:04: Iteration calculation: 27\n",
      "[ ] 2018-10-05 14:03:05: Iteration calculation: 28\n",
      "[ ] 2018-10-05 14:03:07: Iteration calculation: 29\n",
      "[ ] 2018-10-05 14:03:08: Iteration calculation: 30\n",
      "[ ] 2018-10-05 14:03:09: Iteration calculation: 31\n",
      "[ ] 2018-10-05 14:03:10: Iteration calculation: 32\n",
      "[ ] 2018-10-05 14:03:11: Iteration calculation: 33\n",
      "[ ] 2018-10-05 14:03:13: Iteration calculation: 34\n",
      "[ ] 2018-10-05 14:03:15: Iteration calculation: 35\n",
      "[ ] 2018-10-05 14:03:16: Iteration calculation: 36\n",
      "[ ] 2018-10-05 14:03:18: Iteration calculation: 37\n",
      "[ ] 2018-10-05 14:03:19: Iteration calculation: 38\n",
      "[ ] 2018-10-05 14:03:19: Iteration calculation: 39\n",
      "--- Absolute Error ---\n",
      "2.47014E-01 +- 3.29563E-01\n",
      "--- Symmetry Error ---\n",
      "0.00000E+00 +- 0.00000E+00\n",
      "--- Idempotence Error ---\n",
      "9.82775E-16 +- 4.22685E-16\n",
      "--- Occupance Error ---\n",
      "1.40000E+01 +- 8.58828E-15\n",
      "--- HF Energy Error ---\n",
      "7.91337E+01 +- 2.27888E+00\n",
      "--- Avg. Iterations ---\n",
      "9.63750E+01 +- 1.58204E+01\n",
      "\n"
     ]
    }
   ],
   "source": [
    "from SCFInitialGuess.utilities.analysis import mf_initializer as mf_initializer\n",
    "\n",
    "\n",
    "print(make_results_str(measure_all_quantities(\n",
    "    p_pure,\n",
    "    dataset,\n",
    "    molecules[1],\n",
    "    N_ELECTRONS,\n",
    "    mf_initializer,\n",
    "    dim,\n",
    "    is_triu=False,\n",
    "    is_dataset_triu=False,\n",
    "    s=S[ind:]\n",
    ")))"
   ]
  },
  {
   "cell_type": "markdown",
   "metadata": {},
   "source": [
    "# Embedding the Blocks In Classical Guesses"
   ]
  },
  {
   "cell_type": "code",
   "execution_count": 36,
   "metadata": {},
   "outputs": [],
   "source": [
    "from pyscf.scf import hf\n",
    "\n",
    "p_sad = np.array([\n",
    "    hf.init_guess_by_atom(mol.get_pyscf_molecule()) for mol in molecules[1]\n",
    "]).astype(\"float64\")"
   ]
  },
  {
   "cell_type": "code",
   "execution_count": 40,
   "metadata": {},
   "outputs": [],
   "source": [
    "f_sad = fock_from_density(p_sad)"
   ]
  },
  {
   "cell_type": "code",
   "execution_count": 41,
   "metadata": {},
   "outputs": [],
   "source": [
    "from SCFInitialGuess.utilities.dataset import reconstruct_from_triu\n",
    "\n",
    "def embedd(x):\n",
    "    p = x[1].copy()\n",
    "    p[mask] = (x[0].copy())[mask]\n",
    "    return p\n",
    "\n",
    "f_embedded_sad = np.array(list(map(embedd, zip(f_test, f_sad))))"
   ]
  },
  {
   "cell_type": "code",
   "execution_count": 42,
   "metadata": {},
   "outputs": [],
   "source": [
    "p_embedded_sad = density_from_fock_batch(f_embedded_sad)"
   ]
  },
  {
   "cell_type": "markdown",
   "metadata": {},
   "source": [
    "## SAD"
   ]
  },
  {
   "cell_type": "code",
   "execution_count": 43,
   "metadata": {},
   "outputs": [
    {
     "name": "stdout",
     "output_type": "stream",
     "text": [
      "[ ] 2018-10-05 14:05:56: Iteration calculation: 0\n",
      "[ ] 2018-10-05 14:05:57: Iteration calculation: 1\n",
      "[ ] 2018-10-05 14:05:59: Iteration calculation: 2\n",
      "[ ] 2018-10-05 14:06:01: Iteration calculation: 3\n",
      "[ ] 2018-10-05 14:06:02: Iteration calculation: 4\n",
      "[ ] 2018-10-05 14:06:02: Iteration calculation: 5\n",
      "[ ] 2018-10-05 14:06:03: Iteration calculation: 6\n",
      "[ ] 2018-10-05 14:06:04: Iteration calculation: 7\n",
      "[ ] 2018-10-05 14:06:05: Iteration calculation: 8\n",
      "[ ] 2018-10-05 14:06:07: Iteration calculation: 9\n",
      "[ ] 2018-10-05 14:06:08: Iteration calculation: 10\n",
      "[ ] 2018-10-05 14:06:09: Iteration calculation: 11\n",
      "[ ] 2018-10-05 14:06:11: Iteration calculation: 12\n",
      "[ ] 2018-10-05 14:06:12: Iteration calculation: 13\n",
      "[ ] 2018-10-05 14:06:13: Iteration calculation: 14\n",
      "[ ] 2018-10-05 14:06:13: Iteration calculation: 15\n",
      "[ ] 2018-10-05 14:06:14: Iteration calculation: 16\n",
      "[ ] 2018-10-05 14:06:16: Iteration calculation: 17\n",
      "[ ] 2018-10-05 14:06:18: Iteration calculation: 18\n",
      "[ ] 2018-10-05 14:06:19: Iteration calculation: 19\n",
      "[ ] 2018-10-05 14:06:21: Iteration calculation: 20\n",
      "[ ] 2018-10-05 14:06:23: Iteration calculation: 21\n",
      "[ ] 2018-10-05 14:06:24: Iteration calculation: 22\n",
      "[ ] 2018-10-05 14:06:26: Iteration calculation: 23\n",
      "[ ] 2018-10-05 14:06:28: Iteration calculation: 24\n",
      "[ ] 2018-10-05 14:06:30: Iteration calculation: 25\n",
      "[ ] 2018-10-05 14:06:31: Iteration calculation: 26\n",
      "[ ] 2018-10-05 14:06:33: Iteration calculation: 27\n",
      "[ ] 2018-10-05 14:06:35: Iteration calculation: 28\n",
      "[ ] 2018-10-05 14:06:35: Iteration calculation: 29\n",
      "[ ] 2018-10-05 14:06:37: Iteration calculation: 30\n",
      "[ ] 2018-10-05 14:06:38: Iteration calculation: 31\n",
      "[ ] 2018-10-05 14:06:39: Iteration calculation: 32\n",
      "[ ] 2018-10-05 14:06:40: Iteration calculation: 33\n",
      "[ ] 2018-10-05 14:06:41: Iteration calculation: 34\n",
      "[ ] 2018-10-05 14:06:42: Iteration calculation: 35\n",
      "[ ] 2018-10-05 14:06:44: Iteration calculation: 36\n",
      "[ ] 2018-10-05 14:06:45: Iteration calculation: 37\n",
      "[ ] 2018-10-05 14:06:45: Iteration calculation: 38\n",
      "[ ] 2018-10-05 14:06:46: Iteration calculation: 39\n",
      "--- Absolute Error ---\n",
      "1.73360E-01 +- 1.06659E-01\n",
      "--- Symmetry Error ---\n",
      "0.00000E+00 +- 0.00000E+00\n",
      "--- Idempotence Error ---\n",
      "3.60814E-16 +- 1.11209E-16\n",
      "--- Occupance Error ---\n",
      "1.40000E+01 +- 5.93819E-15\n",
      "--- HF Energy Error ---\n",
      "7.96165E+01 +- 2.94703E+00\n",
      "--- Avg. Iterations ---\n",
      "8.01750E+01 +- 3.22257E+01\n",
      "\n"
     ]
    }
   ],
   "source": [
    "print(make_results_str(measure_all_quantities(\n",
    "    p_embedded_sad,\n",
    "    dataset,\n",
    "    molecules[1],\n",
    "    N_ELECTRONS,\n",
    "    mf_initializer,\n",
    "    dim,\n",
    "    is_triu=False,\n",
    "    is_dataset_triu=False,\n",
    "    s=S[ind:]\n",
    ")))"
   ]
  },
  {
   "cell_type": "markdown",
   "metadata": {},
   "source": [
    "## GWH"
   ]
  },
  {
   "cell_type": "code",
   "execution_count": 57,
   "metadata": {},
   "outputs": [],
   "source": [
    "f_gwh = []\n",
    "\n",
    "k = np.ones((dim, dim)) * 1.75 - \\\n",
    "            np.diag(np.ones(dim)) * 0.75  \n",
    "\n",
    "for h,s in zip(h_test, s_test):\n",
    "    h_diag = np.diag(h)   \n",
    "        \n",
    "    f_gwh.append(k * np.add.outer(h_diag, h_diag) * s / 2)\n",
    "    \n",
    "f_gwh = np.array(f_gwh)"
   ]
  },
  {
   "cell_type": "code",
   "execution_count": 60,
   "metadata": {},
   "outputs": [],
   "source": [
    "f_embedded_gwh = np.array(list(map(embedd, zip(f_test, f_gwh))))"
   ]
  },
  {
   "cell_type": "code",
   "execution_count": 61,
   "metadata": {},
   "outputs": [],
   "source": [
    "p_embedded_gwh = density_from_fock_batch(f_embedded_gwh)"
   ]
  },
  {
   "cell_type": "code",
   "execution_count": 63,
   "metadata": {},
   "outputs": [
    {
     "name": "stdout",
     "output_type": "stream",
     "text": [
      "[ ] 2018-10-05 14:17:23: Iteration calculation: 0\n",
      "[ ] 2018-10-05 14:17:24: Iteration calculation: 1\n",
      "[ ] 2018-10-05 14:17:25: Iteration calculation: 2\n",
      "[ ] 2018-10-05 14:17:26: Iteration calculation: 3\n",
      "[ ] 2018-10-05 14:17:27: Iteration calculation: 4\n",
      "[ ] 2018-10-05 14:17:29: Iteration calculation: 5\n",
      "[ ] 2018-10-05 14:17:30: Iteration calculation: 6\n",
      "[ ] 2018-10-05 14:17:31: Iteration calculation: 7\n",
      "[ ] 2018-10-05 14:17:33: Iteration calculation: 8\n",
      "[ ] 2018-10-05 14:17:34: Iteration calculation: 9\n",
      "[ ] 2018-10-05 14:17:36: Iteration calculation: 10\n",
      "[ ] 2018-10-05 14:17:37: Iteration calculation: 11\n",
      "[ ] 2018-10-05 14:17:38: Iteration calculation: 12\n",
      "[ ] 2018-10-05 14:17:39: Iteration calculation: 13\n",
      "[ ] 2018-10-05 14:17:41: Iteration calculation: 14\n",
      "[ ] 2018-10-05 14:17:42: Iteration calculation: 15\n",
      "[ ] 2018-10-05 14:17:44: Iteration calculation: 16\n",
      "[ ] 2018-10-05 14:17:46: Iteration calculation: 17\n",
      "[ ] 2018-10-05 14:17:47: Iteration calculation: 18\n",
      "[ ] 2018-10-05 14:17:49: Iteration calculation: 19\n",
      "[ ] 2018-10-05 14:17:50: Iteration calculation: 20\n",
      "[ ] 2018-10-05 14:17:51: Iteration calculation: 21\n",
      "[ ] 2018-10-05 14:17:52: Iteration calculation: 22\n",
      "[ ] 2018-10-05 14:17:54: Iteration calculation: 23\n",
      "[ ] 2018-10-05 14:17:55: Iteration calculation: 24\n",
      "[ ] 2018-10-05 14:17:56: Iteration calculation: 25\n",
      "[ ] 2018-10-05 14:17:57: Iteration calculation: 26\n",
      "[ ] 2018-10-05 14:17:58: Iteration calculation: 27\n",
      "[ ] 2018-10-05 14:18:00: Iteration calculation: 28\n",
      "[ ] 2018-10-05 14:18:01: Iteration calculation: 29\n",
      "[ ] 2018-10-05 14:18:02: Iteration calculation: 30\n",
      "[ ] 2018-10-05 14:18:03: Iteration calculation: 31\n",
      "[ ] 2018-10-05 14:18:04: Iteration calculation: 32\n",
      "[ ] 2018-10-05 14:18:06: Iteration calculation: 33\n",
      "[ ] 2018-10-05 14:18:07: Iteration calculation: 34\n",
      "[ ] 2018-10-05 14:18:08: Iteration calculation: 35\n",
      "[ ] 2018-10-05 14:18:09: Iteration calculation: 36\n",
      "[ ] 2018-10-05 14:18:11: Iteration calculation: 37\n",
      "[ ] 2018-10-05 14:18:12: Iteration calculation: 38\n",
      "[ ] 2018-10-05 14:18:13: Iteration calculation: 39\n",
      "--- Absolute Error ---\n",
      "2.36185E-02 +- 1.83714E-02\n",
      "--- Symmetry Error ---\n",
      "0.00000E+00 +- 0.00000E+00\n",
      "--- Idempotence Error ---\n",
      "6.06296E-17 +- 1.24575E-17\n",
      "--- Occupance Error ---\n",
      "1.40000E+01 +- 5.76290E-15\n",
      "--- HF Energy Error ---\n",
      "2.99592E+01 +- 6.28718E-01\n",
      "--- Avg. Iterations ---\n",
      "1.00000E+02 +- 0.00000E+00\n",
      "\n"
     ]
    }
   ],
   "source": [
    "print(make_results_str(measure_all_quantities(\n",
    "    p_embedded_gwh,\n",
    "    dataset,\n",
    "    molecules[1],\n",
    "    N_ELECTRONS,\n",
    "    mf_initializer,\n",
    "    dim,\n",
    "    is_triu=False,\n",
    "    is_dataset_triu=False,\n",
    "    s=S[ind:]\n",
    ")))"
   ]
  },
  {
   "cell_type": "markdown",
   "metadata": {},
   "source": [
    "# Test "
   ]
  },
  {
   "cell_type": "code",
   "execution_count": null,
   "metadata": {},
   "outputs": [],
   "source": [
    "from SCFInitialGuess.utilities.dataset import make_matrix_batch\n",
    "s_test_batch = make_matrix_batch(S[ind:], dim)"
   ]
  },
  {
   "cell_type": "code",
   "execution_count": null,
   "metadata": {},
   "outputs": [],
   "source": [
    "from SCFInitialGuess.nn.post_processing import multi_mc_wheeny\n",
    "from SCFInitialGuess.utilities.dataset import make_matrix_batch\n",
    "\n",
    "#del p_embedded_sad\n",
    "#del p_sad\n",
    "#del p_gwh\n",
    "#del P\n",
    "#del dataset\n",
    "#del molecules\n",
    "#del p_pure\n",
    "#del s_train\n",
    "#del p_train\n",
    "\n",
    "f = lambda x: multi_mc_wheeny(x[0], x[1], 20)\n",
    "\n",
    "p_embedded_gwh_mcw5 = np.array(list(map(f, zip(p_embedded_gwh, s_test_batch))))"
   ]
  },
  {
   "cell_type": "code",
   "execution_count": null,
   "metadata": {},
   "outputs": [],
   "source": [
    "from SCFInitialGuess.utilities.analysis import mf_initializer\n",
    "\n",
    "print(make_results_str(measure_all_quantities(\n",
    "    p_embedded_gwh_mcw5,\n",
    "    dataset,\n",
    "    molecules[1],\n",
    "    N_ELECTRONS,\n",
    "    mf_initializer,\n",
    "    dim,\n",
    "    is_triu=False,\n",
    "    is_dataset_triu=True,\n",
    "    s=S[ind:]\n",
    ")))"
   ]
  },
  {
   "cell_type": "code",
   "execution_count": null,
   "metadata": {},
   "outputs": [],
   "source": []
  }
 ],
 "metadata": {
  "kernelspec": {
   "display_name": "Python 3",
   "language": "python",
   "name": "python3"
  },
  "language_info": {
   "codemirror_mode": {
    "name": "ipython",
    "version": 3
   },
   "file_extension": ".py",
   "mimetype": "text/x-python",
   "name": "python",
   "nbconvert_exporter": "python",
   "pygments_lexer": "ipython3",
   "version": "3.6.4"
  }
 },
 "nbformat": 4,
 "nbformat_minor": 2
}
