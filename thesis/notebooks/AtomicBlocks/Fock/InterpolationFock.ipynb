{
 "cells": [
  {
   "cell_type": "code",
   "execution_count": 1,
   "metadata": {},
   "outputs": [
    {
     "name": "stderr",
     "output_type": "stream",
     "text": [
      "/home/jo/anaconda3/lib/python3.6/site-packages/h5py/__init__.py:36: FutureWarning: Conversion of the second argument of issubdtype from `float` to `np.floating` is deprecated. In future, it will be treated as `np.float64 == np.dtype(float).type`.\n",
      "  from ._conv import register_converters as _register_converters\n"
     ]
    }
   ],
   "source": [
    "import numpy as np\n",
    "import matplotlib.pyplot as plt\n",
    "import tensorflow as tf\n",
    "from tensorflow import keras\n",
    "\n",
    "from os.path import join\n",
    "\n",
    "plt.style.use([\"seaborn\", \"thesis\"])"
   ]
  },
  {
   "cell_type": "code",
   "execution_count": 2,
   "metadata": {},
   "outputs": [],
   "source": [
    "subfolder = \"EmbeddedBlocks/\""
   ]
  },
  {
   "cell_type": "code",
   "execution_count": 3,
   "metadata": {},
   "outputs": [],
   "source": [
    "from SCFInitialGuess.utilities.usermessages import Messenger as msg\n",
    "\n",
    "msg.print_level = 0"
   ]
  },
  {
   "cell_type": "markdown",
   "metadata": {},
   "source": [
    "# Fetch Dataset "
   ]
  },
  {
   "cell_type": "code",
   "execution_count": 4,
   "metadata": {},
   "outputs": [],
   "source": [
    "from SCFInitialGuess.utilities.dataset import extract_triu_batch, AbstractDataset\n",
    "from sklearn.model_selection import train_test_split\n",
    "from pyscf.scf import hf\n",
    "\n",
    "data_path = \"../../dataset/EthenT/\"\n",
    "postfix = \"EthenT\"\n",
    "dim = 72\n",
    "N_ELECTRONS = 16\n",
    "basis = \"6-311++g**\"\n",
    "subfolder = \"EmbeddedBlocks/\"\n",
    "#data_path = \"../../../cc2ai/ethen/\"\n",
    "#postfix = \"_ethen_6-31g**\"\n",
    "#dim = 48\n",
    "#N_ELECTRONS = 16\n",
    "#basis = \"6-31g**\"\n",
    "#data_path = \"../../dataset/TSmall_sto3g\"\n",
    "#postfix = \"TSmall_sto3g\"\n",
    "#dim = 26\n",
    "#N_ELECTRONS = 30\n",
    "#basis = \"sto-3g\"\n",
    "#data_path = \"../../../butadien/data/\"\n",
    "#postfix = \"\"\n",
    "#dim = 26\n",
    "\n",
    "\n",
    "def split(x, y, ind):\n",
    "    return x[:ind], y[:ind], x[ind:], y[ind:]\n",
    "\n",
    "#S, P = np.load(join(data_path, \"dataset\" + postfix + \".npy\"))\n",
    "S = np.load(join(data_path, \"S\" + postfix + \".npy\"))\n",
    "P = np.load(join(data_path, \"P\" + postfix + \".npy\"))\n",
    "\n",
    "#index = np.load(join(data_path, \"index\" + postfix + \".npy\"))\n",
    "\n",
    "\n",
    "ind = int(0.8 * len(S))\n",
    "\n",
    "molecules = np.load(join(data_path, \"molecules\" + postfix + \".npy\"))\n",
    "molecules = (molecules[:ind], molecules[ind:])\n",
    "\n",
    "\n",
    "\n",
    "h_test = [hf.get_hcore(mol.get_pyscf_molecule()) for mol in molecules[1]]\n",
    "\n",
    "s_triu_norm, mu, std = AbstractDataset.normalize(S)\n",
    "\n",
    "s_train, p_train, s_test, p_test = split(S.reshape(-1, dim, dim), P.reshape(-1, dim, dim), ind)"
   ]
  },
  {
   "cell_type": "markdown",
   "metadata": {},
   "source": [
    "# Utilities "
   ]
  },
  {
   "cell_type": "code",
   "execution_count": 5,
   "metadata": {},
   "outputs": [],
   "source": [
    "def fock_from_density_batch(p_batch):\n",
    "    f = []\n",
    "    for p, s, h, mol in zip(p_batch, s_test, h_test, molecules[1]):\n",
    "        f.append(hf.get_fock(None, h1e=h, s1e=s, vhf=hf.get_veff(mol=mol.get_pyscf_molecule(), dm=p), dm=p))\n",
    "    return np.array(f)"
   ]
  },
  {
   "cell_type": "code",
   "execution_count": 6,
   "metadata": {},
   "outputs": [],
   "source": [
    "f_test = fock_from_density_batch(p_test)\n",
    "np.save(data_path + subfolder + \"f_test.npy\", f_test)"
   ]
  },
  {
   "cell_type": "code",
   "execution_count": 7,
   "metadata": {},
   "outputs": [],
   "source": [
    "from pyscf.scf import hf\n",
    "\n",
    "def density_from_fock(f, s, mol):\n",
    "    \n",
    "    mo_energy, mo_coeff = hf.eig(f, s)\n",
    "    mo_occ = hf.get_occ(mf=hf.SCF(mol), mo_energy=mo_energy, mo_coeff=mo_coeff)\n",
    "    \n",
    "    return hf.make_rdm1(mo_coeff, mo_occ)\n",
    "\n",
    "def density_from_fock_batch(f_batch):\n",
    "    p = []\n",
    "    for (s, f, mol) in zip(s_test, f_batch, molecules[1]):\n",
    "        p.append(density_from_fock(f, s, mol.get_pyscf_molecule()))\n",
    "    return np.array(p)"
   ]
  },
  {
   "cell_type": "code",
   "execution_count": 8,
   "metadata": {},
   "outputs": [],
   "source": [
    "from SCFInitialGuess.utilities.analysis import make_results_str, measure_all_quantities\n",
    "from SCFInitialGuess.utilities.dataset import StaticDataset\n",
    "\n",
    "dataset = StaticDataset(\n",
    "    train=(s_train, p_train),\n",
    "    validation=(None, None),\n",
    "    test=(s_test, p_test),\n",
    "    mu=mu,\n",
    "    std=std\n",
    ")"
   ]
  },
  {
   "cell_type": "code",
   "execution_count": 9,
   "metadata": {},
   "outputs": [
    {
     "data": {
      "text/plain": [
       "(201, 72, 72)"
      ]
     },
     "execution_count": 9,
     "metadata": {},
     "output_type": "execute_result"
    }
   ],
   "source": [
    "f_test.shape"
   ]
  },
  {
   "cell_type": "code",
   "execution_count": 10,
   "metadata": {},
   "outputs": [
    {
     "data": {
      "text/plain": [
       "<matplotlib.axes._subplots.AxesSubplot at 0x7fa4d4f34f98>"
      ]
     },
     "execution_count": 10,
     "metadata": {},
     "output_type": "execute_result"
    },
    {
     "data": {
      "image/png": "[encoded data removed]",
      "text/plain": [
       "<matplotlib.figure.Figure at 0x7fa4d51ef438>"
      ]
     },
     "metadata": {},
     "output_type": "display_data"
    }
   ],
   "source": [
    "import seaborn as sns\n",
    "\n",
    "sns.heatmap(f_test[0].reshape(dim, dim))"
   ]
  },
  {
   "cell_type": "code",
   "execution_count": 11,
   "metadata": {},
   "outputs": [],
   "source": [
    "p_test_test = density_from_fock_batch(f_test)"
   ]
  },
  {
   "cell_type": "code",
   "execution_count": 12,
   "metadata": {},
   "outputs": [
    {
     "data": {
      "text/plain": [
       "3.8222473964990985e-08"
      ]
     },
     "execution_count": 12,
     "metadata": {},
     "output_type": "execute_result"
    }
   ],
   "source": [
    "np.mean(np.abs(p_test.flatten() - p_test_test.flatten()))"
   ]
  },
  {
   "cell_type": "code",
   "execution_count": 13,
   "metadata": {
    "scrolled": true
   },
   "outputs": [
    {
     "name": "stdout",
     "output_type": "stream",
     "text": [
      "--- Absolute Error ---\n",
      "3.82225E-08 +- 4.77498E-08\n",
      "--- Symmetry Error ---\n",
      "0.00000E+00 +- 0.00000E+00\n",
      "--- Idempotence Error ---\n",
      "2.41775E-17 +- 4.98951E-18\n",
      "--- Occupance Error ---\n",
      "4.42764E-15 +- 3.74679E-15\n",
      "--- HF Energy Error ---\n",
      "1.00901E-11 +- 1.76986E-11\n",
      "--- Avg. Iterations ---\n",
      "1.00000E+00 +- 0.00000E+00\n",
      "--- Num. Not Convd. ---\n",
      "0\n",
      "\n"
     ]
    }
   ],
   "source": [
    "from SCFInitialGuess.utilities.analysis import mf_initializer, make_results_str, measure_all_quantities\n",
    "\n",
    "\n",
    "\n",
    "print(make_results_str(measure_all_quantities(\n",
    "    p_test_test,\n",
    "    dataset,\n",
    "    molecules[1],\n",
    "    N_ELECTRONS,\n",
    "    mf_initializer,\n",
    "    dim,\n",
    "    is_triu=False,\n",
    "    is_dataset_triu=False,\n",
    "    s=S[ind:]\n",
    ")))"
   ]
  },
  {
   "cell_type": "markdown",
   "metadata": {},
   "source": [
    "# Pure blocks\n",
    "\n",
    "i will now set all other elements zero"
   ]
  },
  {
   "cell_type": "markdown",
   "metadata": {},
   "source": [
    "## Utilities"
   ]
  },
  {
   "cell_type": "code",
   "execution_count": 14,
   "metadata": {},
   "outputs": [],
   "source": [
    "from SCFInitialGuess.utilities.analysis import mf_initializer_damping as mf_initializer_standard\n",
    "\n",
    "def mf_initializer(mol):\n",
    "    mf = mf_initializer_standard(mol)\n",
    "    mf.max_cycle = 200\n",
    "    return mf"
   ]
  },
  {
   "cell_type": "code",
   "execution_count": 15,
   "metadata": {},
   "outputs": [],
   "source": [
    "from SCFInitialGuess.utilities.constants import number_of_basis_functions as N_BASIS\n",
    "\n",
    "mol = molecules[0][0]\n",
    "\n",
    "mask = np.zeros((dim, dim))\n",
    "\n",
    "current_dim = 0\n",
    "for atom in mol.species:\n",
    "    \n",
    "    # calculate block range\n",
    "    index_start = current_dim\n",
    "    current_dim += N_BASIS[basis][atom] \n",
    "    index_end = current_dim\n",
    "    \n",
    "    # calculate logical vector\n",
    "    L = np.arange(dim)\n",
    "    L = np.logical_and(index_start <= L, L < index_end)\n",
    "    \n",
    "    m = np.logical_and.outer(L, L)\n",
    "    mask = np.logical_or(mask, m)\n",
    "    \n",
    "#mask"
   ]
  },
  {
   "cell_type": "code",
   "execution_count": 16,
   "metadata": {},
   "outputs": [],
   "source": [
    "from SCFInitialGuess.utilities.dataset import reconstruct_from_triu\n",
    "\n",
    "def extract_pure(p):\n",
    "    p_batch = p.copy()\n",
    "    p_batch[np.logical_not(mask)] = 0\n",
    "    return p_batch\n",
    "\n",
    "f_pure = np.array(list(map(extract_pure, f_test))).astype(\"float64\")"
   ]
  },
  {
   "cell_type": "code",
   "execution_count": 17,
   "metadata": {},
   "outputs": [],
   "source": [
    "np.save(data_path + subfolder + \"f_pure.npy\", f_pure)"
   ]
  },
  {
   "cell_type": "code",
   "execution_count": 18,
   "metadata": {},
   "outputs": [
    {
     "data": {
      "text/plain": [
       "<matplotlib.axes._subplots.AxesSubplot at 0x7fa4d469cd30>"
      ]
     },
     "execution_count": 18,
     "metadata": {},
     "output_type": "execute_result"
    },
    {
     "data": {
      "image/png": "[encoded data removed]",
      "text/plain": [
       "<matplotlib.figure.Figure at 0x7fa4d463b240>"
      ]
     },
     "metadata": {},
     "output_type": "display_data"
    }
   ],
   "source": [
    "sns.heatmap(f_pure[0])"
   ]
  },
  {
   "cell_type": "markdown",
   "metadata": {},
   "source": [
    "## Pure Block Analysis "
   ]
  },
  {
   "cell_type": "code",
   "execution_count": 19,
   "metadata": {
    "scrolled": true
   },
   "outputs": [
    {
     "name": "stdout",
     "output_type": "stream",
     "text": [
      "--- Absolute Error ---\n",
      "1.60077E+01 +- 5.89051E+01\n",
      "--- Symmetry Error ---\n",
      "0.00000E+00 +- 0.00000E+00\n",
      "--- Idempotence Error ---\n",
      "2.93282E-11 +- 7.99523E-11\n",
      "--- Occupance Error ---\n",
      "1.85575E-12 +- 2.59955E-12\n",
      "--- HF Energy Error ---\n",
      "3.10816E+01 +- 8.33928E+00\n",
      "--- Avg. Iterations ---\n",
      "2.00000E+02 +- 0.00000E+00\n",
      "--- Num. Not Convd. ---\n",
      "201\n",
      "\n"
     ]
    }
   ],
   "source": [
    "\n",
    "\n",
    "print(make_results_str(measure_all_quantities(\n",
    "    density_from_fock_batch(f_pure),\n",
    "    dataset,\n",
    "    molecules[1],\n",
    "    N_ELECTRONS,\n",
    "    mf_initializer,\n",
    "    dim,\n",
    "    is_triu=False,\n",
    "    is_dataset_triu=False,\n",
    "    s=S[ind:]\n",
    ")))"
   ]
  },
  {
   "cell_type": "markdown",
   "metadata": {},
   "source": [
    "# Embedding the Blocks In Classical Guesses"
   ]
  },
  {
   "cell_type": "code",
   "execution_count": 20,
   "metadata": {},
   "outputs": [],
   "source": [
    "from SCFInitialGuess.utilities.dataset import reconstruct_from_triu\n",
    "\n",
    "def embedd(x, y):\n",
    "    p = x.copy()\n",
    "    p[mask] = (y.copy())[mask]\n",
    "    return p\n",
    "\n",
    "def embedd_batch(f_batch):\n",
    "    f_embedded = []\n",
    "    for (f_guess, f_conv) in zip(f_batch, f_test):\n",
    "        f_embedded.append(embedd(f_guess, f_conv))\n",
    "    return np.array(f_embedded)\n"
   ]
  },
  {
   "cell_type": "markdown",
   "metadata": {},
   "source": [
    "## Converged in Converged "
   ]
  },
  {
   "cell_type": "code",
   "execution_count": 21,
   "metadata": {},
   "outputs": [],
   "source": [
    "f_test_test_test = embedd_batch(f_test)"
   ]
  },
  {
   "cell_type": "code",
   "execution_count": 22,
   "metadata": {},
   "outputs": [
    {
     "data": {
      "text/plain": [
       "<matplotlib.axes._subplots.AxesSubplot at 0x7fa4d46966a0>"
      ]
     },
     "execution_count": 22,
     "metadata": {},
     "output_type": "execute_result"
    },
    {
     "data": {
      "image/png": "[encoded data removed]",
      "text/plain": [
       "<matplotlib.figure.Figure at 0x7fa4d40e8320>"
      ]
     },
     "metadata": {},
     "output_type": "display_data"
    }
   ],
   "source": [
    "sns.heatmap(f_test_test_test[0])"
   ]
  },
  {
   "cell_type": "code",
   "execution_count": 23,
   "metadata": {},
   "outputs": [
    {
     "name": "stdout",
     "output_type": "stream",
     "text": [
      "--- Absolute Error ---\n",
      "3.82225E-08 +- 4.77498E-08\n",
      "--- Symmetry Error ---\n",
      "0.00000E+00 +- 0.00000E+00\n",
      "--- Idempotence Error ---\n",
      "2.41775E-17 +- 4.98951E-18\n",
      "--- Occupance Error ---\n",
      "4.42764E-15 +- 3.74679E-15\n",
      "--- HF Energy Error ---\n",
      "1.00920E-11 +- 1.76976E-11\n",
      "--- Avg. Iterations ---\n",
      "1.00000E+00 +- 0.00000E+00\n",
      "--- Num. Not Convd. ---\n",
      "0\n",
      "\n"
     ]
    }
   ],
   "source": [
    "\n",
    "print(make_results_str(measure_all_quantities(\n",
    "    density_from_fock_batch(f_test_test_test),\n",
    "    dataset,\n",
    "    molecules[1],\n",
    "    N_ELECTRONS,\n",
    "    mf_initializer,\n",
    "    dim,\n",
    "    is_triu=False,\n",
    "    is_dataset_triu=False,\n",
    "    s=S[ind:]\n",
    ")))"
   ]
  },
  {
   "cell_type": "markdown",
   "metadata": {},
   "source": [
    "## Zeros "
   ]
  },
  {
   "cell_type": "code",
   "execution_count": 24,
   "metadata": {},
   "outputs": [],
   "source": [
    "f_test_zeros = embedd_batch(np.zeros(f_test.shape))"
   ]
  },
  {
   "cell_type": "code",
   "execution_count": 25,
   "metadata": {},
   "outputs": [
    {
     "data": {
      "text/plain": [
       "<matplotlib.axes._subplots.AxesSubplot at 0x7fa4d40f6630>"
      ]
     },
     "execution_count": 25,
     "metadata": {},
     "output_type": "execute_result"
    },
    {
     "data": {
      "image/png": "[encoded data removed]",
      "text/plain": [
       "<matplotlib.figure.Figure at 0x7fa4d40dc4e0>"
      ]
     },
     "metadata": {},
     "output_type": "display_data"
    }
   ],
   "source": [
    "sns.heatmap(f_test_zeros[0])"
   ]
  },
  {
   "cell_type": "code",
   "execution_count": 26,
   "metadata": {},
   "outputs": [
    {
     "name": "stdout",
     "output_type": "stream",
     "text": [
      "--- Absolute Error ---\n",
      "1.60077E+01 +- 5.89051E+01\n",
      "--- Symmetry Error ---\n",
      "0.00000E+00 +- 0.00000E+00\n",
      "--- Idempotence Error ---\n",
      "2.93282E-11 +- 7.99523E-11\n",
      "--- Occupance Error ---\n",
      "1.85575E-12 +- 2.59955E-12\n",
      "--- HF Energy Error ---\n",
      "3.10816E+01 +- 8.33928E+00\n",
      "--- Avg. Iterations ---\n",
      "2.00000E+02 +- 0.00000E+00\n",
      "--- Num. Not Convd. ---\n",
      "201\n",
      "\n"
     ]
    }
   ],
   "source": [
    "print(make_results_str(measure_all_quantities(\n",
    "    density_from_fock_batch(f_test_zeros),\n",
    "    dataset,\n",
    "    molecules[1],\n",
    "    N_ELECTRONS,\n",
    "    mf_initializer,\n",
    "    dim,\n",
    "    is_triu=False,\n",
    "    is_dataset_triu=False,\n",
    "    s=S[ind:]\n",
    ")))"
   ]
  },
  {
   "cell_type": "markdown",
   "metadata": {},
   "source": [
    "# GWH"
   ]
  },
  {
   "cell_type": "code",
   "execution_count": 27,
   "metadata": {},
   "outputs": [],
   "source": [
    "f_gwh = []\n",
    "\n",
    "k = np.ones((dim, dim)) * 1.75 - \\\n",
    "            np.diag(np.ones(dim)) * 0.75  \n",
    "\n",
    "for h,s in zip(h_test, s_test):\n",
    "    h_diag = np.diag(h)   \n",
    "        \n",
    "    f_gwh.append(k * np.add.outer(h_diag, h_diag) * s / 2)\n",
    "    \n",
    "f_gwh = np.array(f_gwh)"
   ]
  },
  {
   "cell_type": "code",
   "execution_count": 28,
   "metadata": {},
   "outputs": [],
   "source": [
    "np.save(data_path + subfolder + \"f_gwh.npy\", f_gwh)"
   ]
  },
  {
   "cell_type": "code",
   "execution_count": 29,
   "metadata": {},
   "outputs": [
    {
     "data": {
      "text/plain": [
       "<matplotlib.axes._subplots.AxesSubplot at 0x7fa4d4032828>"
      ]
     },
     "execution_count": 29,
     "metadata": {},
     "output_type": "execute_result"
    },
    {
     "data": {
      "image/png": "[encoded data removed]",
      "text/plain": [
       "<matplotlib.figure.Figure at 0x7fa4c5a45c50>"
      ]
     },
     "metadata": {},
     "output_type": "display_data"
    }
   ],
   "source": [
    "sns.heatmap(f_gwh[0])"
   ]
  },
  {
   "cell_type": "code",
   "execution_count": 30,
   "metadata": {},
   "outputs": [
    {
     "name": "stdout",
     "output_type": "stream",
     "text": [
      "--- Absolute Error ---\n",
      "1.44241E-02 +- 1.08830E-02\n",
      "--- Symmetry Error ---\n",
      "0.00000E+00 +- 0.00000E+00\n",
      "--- Idempotence Error ---\n",
      "2.51096E-17 +- 4.94844E-18\n",
      "--- Occupance Error ---\n",
      "3.72947E-15 +- 3.38993E-15\n",
      "--- HF Energy Error ---\n",
      "4.92599E+00 +- 4.65357E-01\n",
      "--- Avg. Iterations ---\n",
      "1.91114E+02 +- 3.70334E+01\n",
      "--- Num. Not Convd. ---\n",
      "190\n",
      "\n"
     ]
    }
   ],
   "source": [
    "print(make_results_str(measure_all_quantities(\n",
    "    density_from_fock_batch(f_gwh),\n",
    "    dataset,\n",
    "    molecules[1],\n",
    "    N_ELECTRONS,\n",
    "    mf_initializer,\n",
    "    dim,\n",
    "    is_triu=False,\n",
    "    is_dataset_triu=False,\n",
    "    s=S[ind:]\n",
    ")))"
   ]
  },
  {
   "cell_type": "markdown",
   "metadata": {},
   "source": [
    "## EmbeddedGWH "
   ]
  },
  {
   "cell_type": "code",
   "execution_count": 31,
   "metadata": {},
   "outputs": [],
   "source": [
    "f_embedded_gwh = embedd_batch(f_gwh)"
   ]
  },
  {
   "cell_type": "code",
   "execution_count": 32,
   "metadata": {},
   "outputs": [],
   "source": [
    "np.save(data_path + subfolder + \"f_embedded_gwh.npy\", f_embedded_gwh)"
   ]
  },
  {
   "cell_type": "markdown",
   "metadata": {},
   "source": [
    "### Diff Conv vs GWH "
   ]
  },
  {
   "cell_type": "code",
   "execution_count": 33,
   "metadata": {},
   "outputs": [
    {
     "data": {
      "text/plain": [
       "0.8039124665156132"
      ]
     },
     "execution_count": 33,
     "metadata": {},
     "output_type": "execute_result"
    }
   ],
   "source": [
    "np.mean(np.abs(f_test.flatten() - f_gwh.flatten()))"
   ]
  },
  {
   "cell_type": "markdown",
   "metadata": {},
   "source": [
    "### Diff Embedded vs gwh"
   ]
  },
  {
   "cell_type": "code",
   "execution_count": 34,
   "metadata": {},
   "outputs": [
    {
     "data": {
      "text/plain": [
       "0.22515650669336923"
      ]
     },
     "execution_count": 34,
     "metadata": {},
     "output_type": "execute_result"
    }
   ],
   "source": [
    "np.mean(np.abs(f_embedded_gwh.flatten() - f_gwh.flatten()))"
   ]
  },
  {
   "cell_type": "markdown",
   "metadata": {},
   "source": [
    "### Diff Conv vs Embedded "
   ]
  },
  {
   "cell_type": "code",
   "execution_count": 35,
   "metadata": {},
   "outputs": [
    {
     "data": {
      "text/plain": [
       "0.5787559598222435"
      ]
     },
     "execution_count": 35,
     "metadata": {},
     "output_type": "execute_result"
    }
   ],
   "source": [
    "np.mean(np.abs(f_embedded_gwh.flatten() - f_test.flatten()))"
   ]
  },
  {
   "cell_type": "markdown",
   "metadata": {},
   "source": [
    "### Analysing the density"
   ]
  },
  {
   "cell_type": "code",
   "execution_count": 36,
   "metadata": {},
   "outputs": [],
   "source": [
    "p_embedded_gwh = density_from_fock_batch(f_embedded_gwh)"
   ]
  },
  {
   "cell_type": "code",
   "execution_count": 37,
   "metadata": {},
   "outputs": [
    {
     "name": "stdout",
     "output_type": "stream",
     "text": [
      "--- Absolute Error ---\n",
      "4.55148E-02 +- 3.89630E-02\n",
      "--- Symmetry Error ---\n",
      "0.00000E+00 +- 0.00000E+00\n",
      "--- Idempotence Error ---\n",
      "7.60443E-17 +- 1.72464E-17\n",
      "--- Occupance Error ---\n",
      "3.75598E-15 +- 3.36753E-15\n",
      "--- HF Energy Error ---\n",
      "4.40612E+00 +- 3.24643E-01\n",
      "--- Avg. Iterations ---\n",
      "7.10896E+01 +- 7.54485E+01\n",
      "--- Num. Not Convd. ---\n",
      "51\n",
      "\n"
     ]
    }
   ],
   "source": [
    "print(make_results_str(measure_all_quantities(\n",
    "    p_embedded_gwh,\n",
    "    dataset,\n",
    "    molecules[1],\n",
    "    N_ELECTRONS,\n",
    "    mf_initializer,\n",
    "    dim,\n",
    "    is_triu=False,\n",
    "    is_dataset_triu=False,\n",
    "    s=S[ind:]\n",
    ")))"
   ]
  },
  {
   "cell_type": "markdown",
   "metadata": {},
   "source": [
    "## SAD"
   ]
  },
  {
   "cell_type": "code",
   "execution_count": 38,
   "metadata": {},
   "outputs": [],
   "source": [
    "f_sad = fock_from_density_batch(np.array([\n",
    "    hf.init_guess_by_atom(mol.get_pyscf_molecule()) for mol in molecules[1]\n",
    "]))"
   ]
  },
  {
   "cell_type": "code",
   "execution_count": 39,
   "metadata": {},
   "outputs": [],
   "source": [
    "np.save(data_path + subfolder + \"f_sad.npy\", f_sad)"
   ]
  },
  {
   "cell_type": "code",
   "execution_count": 40,
   "metadata": {},
   "outputs": [
    {
     "data": {
      "text/plain": [
       "<matplotlib.axes._subplots.AxesSubplot at 0x7fa4c5a45630>"
      ]
     },
     "execution_count": 40,
     "metadata": {},
     "output_type": "execute_result"
    },
    {
     "data": {
      "image/png": "[encoded data removed]",
      "text/plain": [
       "<matplotlib.figure.Figure at 0x7fa4d4032438>"
      ]
     },
     "metadata": {},
     "output_type": "display_data"
    }
   ],
   "source": [
    "sns.heatmap(f_sad[0])"
   ]
  },
  {
   "cell_type": "code",
   "execution_count": 41,
   "metadata": {},
   "outputs": [
    {
     "name": "stdout",
     "output_type": "stream",
     "text": [
      "--- Absolute Error ---\n",
      "3.93480E-03 +- 3.78767E-03\n",
      "--- Symmetry Error ---\n",
      "0.00000E+00 +- 0.00000E+00\n",
      "--- Idempotence Error ---\n",
      "2.50914E-17 +- 4.88139E-18\n",
      "--- Occupance Error ---\n",
      "4.18902E-15 +- 3.59272E-15\n",
      "--- HF Energy Error ---\n",
      "7.22802E-02 +- 1.55124E-02\n",
      "--- Avg. Iterations ---\n",
      "2.40050E+01 +- 8.41788E+00\n",
      "--- Num. Not Convd. ---\n",
      "0\n",
      "\n"
     ]
    }
   ],
   "source": [
    "print(make_results_str(measure_all_quantities(\n",
    "    density_from_fock_batch(f_sad),\n",
    "    dataset,\n",
    "    molecules[1],\n",
    "    N_ELECTRONS,\n",
    "    mf_initializer,\n",
    "    dim,\n",
    "    is_triu=False,\n",
    "    is_dataset_triu=False,\n",
    "    s=S[ind:]\n",
    ")))"
   ]
  },
  {
   "cell_type": "markdown",
   "metadata": {},
   "source": [
    "## Embedded SAD"
   ]
  },
  {
   "cell_type": "code",
   "execution_count": 42,
   "metadata": {},
   "outputs": [],
   "source": [
    "f_embedded_sad = embedd_batch(f_sad)"
   ]
  },
  {
   "cell_type": "code",
   "execution_count": 43,
   "metadata": {},
   "outputs": [],
   "source": [
    "np.save(data_path + subfolder + \"f_embedded_sad.npy\", f_embedded_sad)"
   ]
  },
  {
   "cell_type": "code",
   "execution_count": 44,
   "metadata": {},
   "outputs": [
    {
     "data": {
      "text/plain": [
       "<matplotlib.axes._subplots.AxesSubplot at 0x7fa4c58d23c8>"
      ]
     },
     "execution_count": 44,
     "metadata": {},
     "output_type": "execute_result"
    },
    {
     "data": {
      "image/png": "[encoded data removed]",
      "text/plain": [
       "<matplotlib.figure.Figure at 0x7fa4c58d9438>"
      ]
     },
     "metadata": {},
     "output_type": "display_data"
    }
   ],
   "source": [
    "sns.heatmap(f_embedded_sad[0])"
   ]
  },
  {
   "cell_type": "code",
   "execution_count": 45,
   "metadata": {},
   "outputs": [],
   "source": [
    "p_embedded_sad = density_from_fock_batch(f_embedded_sad)"
   ]
  },
  {
   "cell_type": "code",
   "execution_count": 46,
   "metadata": {},
   "outputs": [
    {
     "name": "stdout",
     "output_type": "stream",
     "text": [
      "--- Absolute Error ---\n",
      "1.81328E-02 +- 1.66307E-02\n",
      "--- Symmetry Error ---\n",
      "0.00000E+00 +- 0.00000E+00\n",
      "--- Idempotence Error ---\n",
      "3.93924E-17 +- 9.07480E-18\n",
      "--- Occupance Error ---\n",
      "4.20670E-15 +- 3.41472E-15\n",
      "--- HF Energy Error ---\n",
      "9.65760E-02 +- 1.13512E-02\n",
      "--- Avg. Iterations ---\n",
      "2.15522E+01 +- 6.31578E+00\n",
      "--- Num. Not Convd. ---\n",
      "0\n",
      "\n"
     ]
    }
   ],
   "source": [
    "print(make_results_str(measure_all_quantities(\n",
    "    p_embedded_sad,\n",
    "    dataset,\n",
    "    molecules[1],\n",
    "    N_ELECTRONS,\n",
    "    mf_initializer,\n",
    "    dim,\n",
    "    is_triu=False,\n",
    "    is_dataset_triu=False,\n",
    "    s=S[ind:]\n",
    ")))"
   ]
  },
  {
   "cell_type": "markdown",
   "metadata": {},
   "source": [
    "# McWheeny Density"
   ]
  },
  {
   "cell_type": "code",
   "execution_count": 47,
   "metadata": {},
   "outputs": [],
   "source": [
    "from SCFInitialGuess.utilities.dataset import make_matrix_batch\n",
    "s_test_batch = make_matrix_batch(S[ind:], dim)"
   ]
  },
  {
   "cell_type": "code",
   "execution_count": 48,
   "metadata": {},
   "outputs": [],
   "source": [
    "from SCFInitialGuess.nn.post_processing import multi_mc_wheeny\n",
    "\n",
    "def multi_mc_wheeny_batch(p_batch):\n",
    "    p_res = []\n",
    "    for p, s in zip(p_batch, s_test_batch):\n",
    "        p_res.append(multi_mc_wheeny(p, s, 5))\n",
    "    return np.asarray(p_res)"
   ]
  },
  {
   "cell_type": "markdown",
   "metadata": {},
   "source": [
    "### GWH"
   ]
  },
  {
   "cell_type": "code",
   "execution_count": 49,
   "metadata": {},
   "outputs": [],
   "source": [
    "p_embedded_gwh_mcw5 = multi_mc_wheeny_batch(p_embedded_gwh)"
   ]
  },
  {
   "cell_type": "code",
   "execution_count": 50,
   "metadata": {},
   "outputs": [
    {
     "name": "stdout",
     "output_type": "stream",
     "text": [
      "--- Absolute Error ---\n",
      "4.55148E-02 +- 3.89630E-02\n",
      "--- Symmetry Error ---\n",
      "1.04118E-16 +- 1.16265E-17\n",
      "--- Idempotence Error ---\n",
      "6.66490E-17 +- 6.59721E-18\n",
      "--- Occupance Error ---\n",
      "1.69682E-15 +- 1.92724E-15\n",
      "--- HF Energy Error ---\n",
      "4.40612E+00 +- 3.24643E-01\n",
      "--- Avg. Iterations ---\n",
      "5.33532E+01 +- 3.02841E+01\n",
      "--- Num. Not Convd. ---\n",
      "50\n",
      "\n"
     ]
    }
   ],
   "source": [
    "from SCFInitialGuess.utilities.analysis import mf_initializer\n",
    "\n",
    "print(make_results_str(measure_all_quantities(\n",
    "    p_embedded_gwh_mcw5,\n",
    "    dataset,\n",
    "    molecules[1],\n",
    "    N_ELECTRONS,\n",
    "    mf_initializer,\n",
    "    dim,\n",
    "    is_triu=False,\n",
    "    is_dataset_triu=False,\n",
    "    s=S[ind:]\n",
    ")))"
   ]
  },
  {
   "cell_type": "markdown",
   "metadata": {},
   "source": [
    "### SAP "
   ]
  },
  {
   "cell_type": "code",
   "execution_count": 51,
   "metadata": {},
   "outputs": [],
   "source": [
    "p_embedded_sap_mcw5 = multi_mc_wheeny_batch(p_embedded_sad)"
   ]
  },
  {
   "cell_type": "code",
   "execution_count": 52,
   "metadata": {
    "scrolled": true
   },
   "outputs": [
    {
     "name": "stdout",
     "output_type": "stream",
     "text": [
      "--- Absolute Error ---\n",
      "1.81328E-02 +- 1.66307E-02\n",
      "--- Symmetry Error ---\n",
      "4.64615E-17 +- 1.07389E-17\n",
      "--- Idempotence Error ---\n",
      "2.91454E-17 +- 6.41581E-18\n",
      "--- Occupance Error ---\n",
      "8.04221E-16 +- 1.27654E-15\n",
      "--- HF Energy Error ---\n",
      "9.65760E-02 +- 1.13512E-02\n",
      "--- Avg. Iterations ---\n",
      "2.69851E+01 +- 1.61358E+01\n",
      "--- Num. Not Convd. ---\n",
      "4\n",
      "\n"
     ]
    }
   ],
   "source": [
    "from SCFInitialGuess.utilities.analysis import mf_initializer\n",
    "\n",
    "print(make_results_str(measure_all_quantities(\n",
    "    p_embedded_sap_mcw5,\n",
    "    dataset,\n",
    "    molecules[1],\n",
    "    N_ELECTRONS,\n",
    "    mf_initializer,\n",
    "    dim,\n",
    "    is_triu=False,\n",
    "    is_dataset_triu=False,\n",
    "    s=S[ind:]\n",
    ")))"
   ]
  },
  {
   "cell_type": "markdown",
   "metadata": {},
   "source": [
    "# McWheeny Fock "
   ]
  },
  {
   "cell_type": "code",
   "execution_count": 53,
   "metadata": {},
   "outputs": [],
   "source": [
    "from SCFInitialGuess.nn.post_processing import multi_mc_wheeny\n",
    "\n",
    "def multi_mc_wheeny_batch_fock(p_batch):\n",
    "    p_res = []\n",
    "    for p, s in zip(p_batch, s_test_batch):\n",
    "        p_res.append(multi_mc_wheeny(p, s, 1))\n",
    "    return np.asarray(p_res)"
   ]
  },
  {
   "cell_type": "markdown",
   "metadata": {},
   "source": [
    "## GWH "
   ]
  },
  {
   "cell_type": "code",
   "execution_count": 54,
   "metadata": {},
   "outputs": [],
   "source": [
    "f_gwh_mcw5 = multi_mc_wheeny_batch_fock(f_gwh)"
   ]
  },
  {
   "cell_type": "code",
   "execution_count": 55,
   "metadata": {},
   "outputs": [
    {
     "data": {
      "text/plain": [
       "<matplotlib.axes._subplots.AxesSubplot at 0x7fa4c58aee48>"
      ]
     },
     "execution_count": 55,
     "metadata": {},
     "output_type": "execute_result"
    },
    {
     "data": {
      "image/png": "[encoded data removed]",
      "text/plain": [
       "<matplotlib.figure.Figure at 0x7fa4c58d2ef0>"
      ]
     },
     "metadata": {},
     "output_type": "display_data"
    }
   ],
   "source": [
    "sns.heatmap(f_gwh_mcw5[0])"
   ]
  },
  {
   "cell_type": "markdown",
   "metadata": {},
   "source": [
    "# Embedd Outer "
   ]
  },
  {
   "cell_type": "code",
   "execution_count": 56,
   "metadata": {},
   "outputs": [],
   "source": [
    "from SCFInitialGuess.utilities.dataset import reconstruct_from_triu\n",
    "\n",
    "def embedd_outer(x, y):\n",
    "    p = x.copy()\n",
    "    p[np.logical_not(mask)] = (y.copy())[np.logical_not(mask)]\n",
    "    return p\n",
    "\n",
    "def embedd_batch_outer(f_batch):\n",
    "    f_embedded = []\n",
    "    for (f_guess, f_conv) in zip(f_batch, f_test):\n",
    "        f_embedded.append(embedd_outer(f_guess, f_conv))\n",
    "    return np.array(f_embedded)"
   ]
  },
  {
   "cell_type": "markdown",
   "metadata": {},
   "source": [
    "## Converged "
   ]
  },
  {
   "cell_type": "code",
   "execution_count": 57,
   "metadata": {},
   "outputs": [
    {
     "name": "stdout",
     "output_type": "stream",
     "text": [
      "--- Absolute Error ---\n",
      "3.82225E-08 +- 4.77498E-08\n",
      "--- Symmetry Error ---\n",
      "0.00000E+00 +- 0.00000E+00\n",
      "--- Idempotence Error ---\n",
      "2.41775E-17 +- 4.98951E-18\n",
      "--- Occupance Error ---\n",
      "4.42764E-15 +- 3.74679E-15\n",
      "--- HF Energy Error ---\n",
      "1.00915E-11 +- 1.76986E-11\n",
      "--- Avg. Iterations ---\n",
      "1.00000E+00 +- 0.00000E+00\n",
      "--- Num. Not Convd. ---\n",
      "0\n",
      "\n"
     ]
    }
   ],
   "source": [
    "print(make_results_str(measure_all_quantities(\n",
    "    density_from_fock_batch(embedd_batch_outer(f_embedded_sad)),\n",
    "    dataset,\n",
    "    molecules[1],\n",
    "    N_ELECTRONS,\n",
    "    mf_initializer,\n",
    "    dim,\n",
    "    is_triu=False,\n",
    "    is_dataset_triu=False,\n",
    "    s=S[ind:]\n",
    ")))"
   ]
  },
  {
   "cell_type": "markdown",
   "metadata": {},
   "source": [
    "## SAD "
   ]
  },
  {
   "cell_type": "code",
   "execution_count": 58,
   "metadata": {},
   "outputs": [],
   "source": [
    "f_embedded_outer_sad = embedd_batch_outer(f_sad)"
   ]
  },
  {
   "cell_type": "code",
   "execution_count": 59,
   "metadata": {},
   "outputs": [
    {
     "name": "stdout",
     "output_type": "stream",
     "text": [
      "--- Absolute Error ---\n",
      "1.66838E+01 +- 6.06317E+01\n",
      "--- Symmetry Error ---\n",
      "0.00000E+00 +- 0.00000E+00\n",
      "--- Idempotence Error ---\n",
      "2.91385E-11 +- 5.33295E-11\n",
      "--- Occupance Error ---\n",
      "2.02663E-12 +- 2.32285E-12\n",
      "--- HF Energy Error ---\n",
      "2.22332E+01 +- 5.26680E+00\n",
      "--- Avg. Iterations ---\n",
      "9.51891E+01 +- 1.56385E+01\n",
      "--- Num. Not Convd. ---\n",
      "183\n",
      "\n"
     ]
    }
   ],
   "source": [
    "print(make_results_str(measure_all_quantities(\n",
    "    density_from_fock_batch(f_embedded_outer_sad),\n",
    "    dataset,\n",
    "    molecules[1],\n",
    "    N_ELECTRONS,\n",
    "    mf_initializer,\n",
    "    dim,\n",
    "    is_triu=False,\n",
    "    is_dataset_triu=False,\n",
    "    s=S[ind:]\n",
    ")))"
   ]
  },
  {
   "cell_type": "markdown",
   "metadata": {},
   "source": [
    "## GWH "
   ]
  },
  {
   "cell_type": "code",
   "execution_count": 60,
   "metadata": {},
   "outputs": [],
   "source": [
    "f_embedded_outer_gwh = embedd_batch_outer(f_gwh)"
   ]
  },
  {
   "cell_type": "code",
   "execution_count": 61,
   "metadata": {},
   "outputs": [
    {
     "name": "stdout",
     "output_type": "stream",
     "text": [
      "--- Absolute Error ---\n",
      "1.36850E+01 +- 5.20640E+01\n",
      "--- Symmetry Error ---\n",
      "0.00000E+00 +- 0.00000E+00\n",
      "--- Idempotence Error ---\n",
      "2.45704E-11 +- 5.98729E-11\n",
      "--- Occupance Error ---\n",
      "2.01746E-12 +- 2.41213E-12\n",
      "--- HF Energy Error ---\n",
      "8.70489E+01 +- 6.32680E+00\n",
      "--- Avg. Iterations ---\n",
      "9.70398E+01 +- 1.22786E+01\n",
      "--- Num. Not Convd. ---\n",
      "189\n",
      "\n"
     ]
    }
   ],
   "source": [
    "print(make_results_str(measure_all_quantities(\n",
    "    density_from_fock_batch(f_embedded_outer_gwh),\n",
    "    dataset,\n",
    "    molecules[1],\n",
    "    N_ELECTRONS,\n",
    "    mf_initializer,\n",
    "    dim,\n",
    "    is_triu=False,\n",
    "    is_dataset_triu=False,\n",
    "    s=S[ind:]\n",
    ")))"
   ]
  },
  {
   "cell_type": "code",
   "execution_count": null,
   "metadata": {},
   "outputs": [],
   "source": []
  },
  {
   "cell_type": "code",
   "execution_count": null,
   "metadata": {},
   "outputs": [],
   "source": []
  },
  {
   "cell_type": "code",
   "execution_count": null,
   "metadata": {},
   "outputs": [],
   "source": []
  }
 ],
 "metadata": {
  "kernelspec": {
   "display_name": "Python 3",
   "language": "python",
   "name": "python3"
  },
  "language_info": {
   "codemirror_mode": {
    "name": "ipython",
    "version": 3
   },
   "file_extension": ".py",
   "mimetype": "text/x-python",
   "name": "python",
   "nbconvert_exporter": "python",
   "pygments_lexer": "ipython3",
   "version": "3.6.4"
  }
 },
 "nbformat": 4,
 "nbformat_minor": 2
}
