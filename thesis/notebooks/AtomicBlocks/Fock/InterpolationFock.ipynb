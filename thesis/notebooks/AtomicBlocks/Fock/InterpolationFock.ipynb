{
 "cells": [
  {
   "cell_type": "code",
   "execution_count": 1,
   "metadata": {},
   "outputs": [
    {
     "name": "stderr",
     "output_type": "stream",
     "text": [
      "/home/jo/anaconda3/lib/python3.6/site-packages/h5py/__init__.py:36: FutureWarning: Conversion of the second argument of issubdtype from `float` to `np.floating` is deprecated. In future, it will be treated as `np.float64 == np.dtype(float).type`.\n",
      "  from ._conv import register_converters as _register_converters\n"
     ]
    }
   ],
   "source": [
    "import numpy as np\n",
    "import matplotlib.pyplot as plt\n",
    "import tensorflow as tf\n",
    "from tensorflow import keras\n",
    "\n",
    "from os.path import join\n",
    "\n",
    "plt.style.use([\"seaborn\", \"thesis\"])"
   ]
  },
  {
   "cell_type": "code",
   "execution_count": 2,
   "metadata": {},
   "outputs": [],
   "source": [
    "subfolder = \"EmbeddedBlocks/\""
   ]
  },
  {
   "cell_type": "code",
   "execution_count": 3,
   "metadata": {},
   "outputs": [],
   "source": [
    "from SCFInitialGuess.utilities.usermessages import Messenger as msg\n",
    "\n",
    "msg.print_level = 0"
   ]
  },
  {
   "cell_type": "markdown",
   "metadata": {},
   "source": [
    "# Fetch Dataset "
   ]
  },
  {
   "cell_type": "code",
   "execution_count": 4,
   "metadata": {},
   "outputs": [],
   "source": [
    "from SCFInitialGuess.utilities.dataset import extract_triu_batch, AbstractDataset\n",
    "from sklearn.model_selection import train_test_split\n",
    "from pyscf.scf import hf\n",
    "\n",
    "data_path = \"../../../dataset/EthenT/\"\n",
    "postfix = \"EthenT\"\n",
    "dim = 72\n",
    "N_ELECTRONS = 16\n",
    "basis = \"6-311++g**\"\n",
    "subfolder = \"EmbeddedBlocks/\"\n",
    "#data_path = \"../../../cc2ai/ethen/\"\n",
    "#postfix = \"_ethen_6-31g**\"\n",
    "#dim = 48\n",
    "#N_ELECTRONS = 16\n",
    "#basis = \"6-31g**\"\n",
    "#data_path = \"../../dataset/TSmall_sto3g\"\n",
    "#postfix = \"TSmall_sto3g\"\n",
    "#dim = 26\n",
    "#N_ELECTRONS = 30\n",
    "#basis = \"sto-3g\"\n",
    "#data_path = \"../../../butadien/data/\"\n",
    "#postfix = \"\"\n",
    "#dim = 26\n",
    "\n",
    "\n",
    "def split(x, y, ind):\n",
    "    return x[:ind], y[:ind], x[ind:], y[ind:]\n",
    "\n",
    "#S, P = np.load(join(data_path, \"dataset\" + postfix + \".npy\"))\n",
    "S = np.load(join(data_path, \"S\" + postfix + \".npy\"))\n",
    "P = np.load(join(data_path, \"P\" + postfix + \".npy\"))\n",
    "\n",
    "#index = np.load(join(data_path, \"index\" + postfix + \".npy\"))\n",
    "\n",
    "\n",
    "ind = 0#int(0.8 * len(S))\n",
    "\n",
    "molecules = np.load(join(data_path, \"molecules\" + postfix + \".npy\"))\n",
    "molecules = (molecules[:ind], molecules[ind:])\n",
    "\n",
    "\n",
    "\n",
    "h_test = [hf.get_hcore(mol.get_pyscf_molecule()) for mol in molecules[1]]\n",
    "\n",
    "s_triu_norm, mu, std = AbstractDataset.normalize(S)\n",
    "\n",
    "s_train, p_train, s_test, p_test = split(S.reshape(-1, dim, dim), P.reshape(-1, dim, dim), ind)\n",
    "#s_test, p_test = S.reshape(-1, dim, dim), P.reshape(-1, dim, dim)"
   ]
  },
  {
   "cell_type": "markdown",
   "metadata": {},
   "source": [
    "# Utilities "
   ]
  },
  {
   "cell_type": "code",
   "execution_count": 5,
   "metadata": {},
   "outputs": [],
   "source": [
    "def fock_from_density_batch(p_batch):\n",
    "    f = []\n",
    "    for p, s, h, mol in zip(p_batch, s_test, h_test, molecules[1]):\n",
    "        f.append(hf.get_fock(None, h1e=h, s1e=s, vhf=hf.get_veff(mol=mol.get_pyscf_molecule(), dm=p), dm=p))\n",
    "    return np.array(f)"
   ]
  },
  {
   "cell_type": "code",
   "execution_count": 6,
   "metadata": {},
   "outputs": [],
   "source": [
    "f_test = fock_from_density_batch(p_test)\n",
    "np.save(data_path + subfolder + \"f_test.npy\", f_test)"
   ]
  },
  {
   "cell_type": "code",
   "execution_count": 7,
   "metadata": {},
   "outputs": [],
   "source": [
    "from pyscf.scf import hf\n",
    "\n",
    "def density_from_fock(f, s, mol):\n",
    "    \n",
    "    mo_energy, mo_coeff = hf.eig(f, s)\n",
    "    mo_occ = hf.get_occ(mf=hf.SCF(mol), mo_energy=mo_energy, mo_coeff=mo_coeff)\n",
    "    \n",
    "    return hf.make_rdm1(mo_coeff, mo_occ)\n",
    "\n",
    "def density_from_fock_batch(f_batch):\n",
    "    p = []\n",
    "    for (s, f, mol) in zip(s_test, f_batch, molecules[1]):\n",
    "        p.append(density_from_fock(f, s, mol.get_pyscf_molecule()))\n",
    "    return np.array(p)"
   ]
  },
  {
   "cell_type": "code",
   "execution_count": 8,
   "metadata": {},
   "outputs": [],
   "source": [
    "from SCFInitialGuess.utilities.analysis import make_results_str, measure_all_quantities\n",
    "from SCFInitialGuess.utilities.dataset import StaticDataset\n",
    "\n",
    "dataset = StaticDataset(\n",
    "    train=(s_train, p_train),\n",
    "    validation=(None, None),\n",
    "    test=(s_test, p_test),\n",
    "    mu=mu,\n",
    "    std=std\n",
    ")"
   ]
  },
  {
   "cell_type": "code",
   "execution_count": 9,
   "metadata": {},
   "outputs": [
    {
     "data": {
      "text/plain": [
       "(1001, 72, 72)"
      ]
     },
     "execution_count": 9,
     "metadata": {},
     "output_type": "execute_result"
    }
   ],
   "source": [
    "f_test.shape"
   ]
  },
  {
   "cell_type": "code",
   "execution_count": 10,
   "metadata": {},
   "outputs": [
    {
     "data": {
      "text/plain": [
       "<matplotlib.axes._subplots.AxesSubplot at 0x7fe5b4c145f8>"
      ]
     },
     "execution_count": 10,
     "metadata": {},
     "output_type": "execute_result"
    },
    {
     "data": {
      "image/png": "[encoded data removed]",
      "text/plain": [
       "<matplotlib.figure.Figure at 0x7fe5c4248550>"
      ]
     },
     "metadata": {},
     "output_type": "display_data"
    }
   ],
   "source": [
    "import seaborn as sns\n",
    "\n",
    "sns.heatmap(f_test[0].reshape(dim, dim))"
   ]
  },
  {
   "cell_type": "code",
   "execution_count": 11,
   "metadata": {},
   "outputs": [],
   "source": [
    "p_test_test = density_from_fock_batch(f_test)"
   ]
  },
  {
   "cell_type": "code",
   "execution_count": 12,
   "metadata": {},
   "outputs": [
    {
     "data": {
      "text/plain": [
       "3.920578106085594e-08"
      ]
     },
     "execution_count": 12,
     "metadata": {},
     "output_type": "execute_result"
    }
   ],
   "source": [
    "np.mean(np.abs(p_test.flatten() - p_test_test.flatten()))"
   ]
  },
  {
   "cell_type": "code",
   "execution_count": 13,
   "metadata": {
    "scrolled": true
   },
   "outputs": [
    {
     "name": "stdout",
     "output_type": "stream",
     "text": [
      "--- Absolute Error ---\n",
      "3.92058E-08 +- 4.90271E-08\n",
      "--- Symmetry Error ---\n",
      "0.00000E+00 +- 0.00000E+00\n",
      "--- Idempotence Error ---\n",
      "2.47690E-17 +- 5.21795E-18\n",
      "--- Occupance Error ---\n",
      "4.30159E-15 +- 3.67058E-15\n",
      "--- HF Energy Error ---\n",
      "9.42593E-12 +- 1.23645E-11\n",
      "--- Avg. Iterations ---\n",
      "1.00000E+00 +- 0.00000E+00\n",
      "--- Avg. Iterations W/O Non Converged ---\n",
      "1.00000E+00 +- 0.00000E+00\n",
      "--- Num. Not Convd. ---\n",
      "0\n",
      "\n"
     ]
    }
   ],
   "source": [
    "from SCFInitialGuess.utilities.analysis import mf_initializer, make_results_str, measure_all_quantities\n",
    "\n",
    "\n",
    "\n",
    "print(make_results_str(measure_all_quantities(\n",
    "    p_test_test,\n",
    "    dataset,\n",
    "    molecules[1],\n",
    "    N_ELECTRONS,\n",
    "    mf_initializer,\n",
    "    dim,\n",
    "    is_triu=False,\n",
    "    is_dataset_triu=False,\n",
    "    s=S[ind:]\n",
    ")))"
   ]
  },
  {
   "cell_type": "markdown",
   "metadata": {},
   "source": [
    "# Pure blocks\n",
    "\n",
    "i will now set all other elements zero"
   ]
  },
  {
   "cell_type": "markdown",
   "metadata": {},
   "source": [
    "## Utilities"
   ]
  },
  {
   "cell_type": "code",
   "execution_count": 14,
   "metadata": {},
   "outputs": [],
   "source": [
    "from SCFInitialGuess.utilities.analysis import mf_initializer as mf_initializer_standard\n",
    "\n",
    "def mf_initializer(mol):\n",
    "    mf = mf_initializer_standard(mol)\n",
    "    mf.max_cycle = 100\n",
    "    return mf"
   ]
  },
  {
   "cell_type": "code",
   "execution_count": 15,
   "metadata": {},
   "outputs": [],
   "source": [
    "from SCFInitialGuess.utilities.constants import number_of_basis_functions as N_BASIS\n",
    "\n",
    "mol = molecules[1][0]\n",
    "\n",
    "mask = np.zeros((dim, dim))\n",
    "\n",
    "current_dim = 0\n",
    "for atom in mol.species:\n",
    "    \n",
    "    # calculate block range\n",
    "    index_start = current_dim\n",
    "    current_dim += N_BASIS[basis][atom] \n",
    "    index_end = current_dim\n",
    "    \n",
    "    # calculate logical vector\n",
    "    L = np.arange(dim)\n",
    "    L = np.logical_and(index_start <= L, L < index_end)\n",
    "    \n",
    "    m = np.logical_and.outer(L, L)\n",
    "    mask = np.logical_or(mask, m)\n",
    "    \n",
    "#mask"
   ]
  },
  {
   "cell_type": "code",
   "execution_count": 16,
   "metadata": {},
   "outputs": [],
   "source": [
    "from SCFInitialGuess.utilities.dataset import reconstruct_from_triu\n",
    "\n",
    "def extract_pure(p):\n",
    "    p_batch = p.copy()\n",
    "    p_batch[np.logical_not(mask)] = 0\n",
    "    return p_batch\n",
    "\n",
    "f_pure = np.array(list(map(extract_pure, f_test))).astype(\"float64\")"
   ]
  },
  {
   "cell_type": "code",
   "execution_count": 17,
   "metadata": {},
   "outputs": [],
   "source": [
    "np.save(data_path + subfolder + \"f_pure.npy\", f_pure)"
   ]
  },
  {
   "cell_type": "code",
   "execution_count": 18,
   "metadata": {},
   "outputs": [
    {
     "data": {
      "text/plain": [
       "<matplotlib.axes._subplots.AxesSubplot at 0x7fe5b435c748>"
      ]
     },
     "execution_count": 18,
     "metadata": {},
     "output_type": "execute_result"
    },
    {
     "data": {
      "image/png": "[encoded data removed]",
      "text/plain": [
       "<matplotlib.figure.Figure at 0x7fe5d6457cc0>"
      ]
     },
     "metadata": {},
     "output_type": "display_data"
    }
   ],
   "source": [
    "sns.heatmap(f_pure[0])"
   ]
  },
  {
   "cell_type": "markdown",
   "metadata": {},
   "source": [
    "## Pure Block Analysis "
   ]
  },
  {
   "cell_type": "code",
   "execution_count": 19,
   "metadata": {
    "scrolled": true
   },
   "outputs": [
    {
     "name": "stdout",
     "output_type": "stream",
     "text": [
      "--- Absolute Error ---\n",
      "1.58759E+01 +- 5.92054E+01\n",
      "--- Symmetry Error ---\n",
      "0.00000E+00 +- 0.00000E+00\n",
      "--- Idempotence Error ---\n",
      "2.79336E-11 +- 5.66452E-11\n",
      "--- Occupance Error ---\n",
      "1.91084E-12 +- 2.28503E-12\n",
      "--- HF Energy Error ---\n",
      "3.06065E+01 +- 8.19006E+00\n",
      "--- Avg. Iterations ---\n",
      "9.84515E+01 +- 9.62181E+00\n",
      "--- Avg. Iterations W/O Non Converged ---\n",
      "4.25926E+01 +- 1.50191E+01\n",
      "--- Num. Not Convd. ---\n",
      "974\n",
      "\n"
     ]
    }
   ],
   "source": [
    "\n",
    "\n",
    "print(make_results_str(measure_all_quantities(\n",
    "    density_from_fock_batch(f_pure),\n",
    "    dataset,\n",
    "    molecules[1],\n",
    "    N_ELECTRONS,\n",
    "    mf_initializer,\n",
    "    dim,\n",
    "    is_triu=False,\n",
    "    is_dataset_triu=False,\n",
    "    s=S[ind:]\n",
    ")))"
   ]
  },
  {
   "cell_type": "markdown",
   "metadata": {},
   "source": [
    "# Embedding the Blocks In Classical Guesses"
   ]
  },
  {
   "cell_type": "code",
   "execution_count": 20,
   "metadata": {},
   "outputs": [],
   "source": [
    "from SCFInitialGuess.utilities.dataset import reconstruct_from_triu\n",
    "\n",
    "def embedd(x, y):\n",
    "    p = x.copy()\n",
    "    p[mask] = (y.copy())[mask]\n",
    "    return p\n",
    "\n",
    "def embedd_batch(f_batch):\n",
    "    f_embedded = []\n",
    "    for (f_guess, f_conv) in zip(f_batch, f_test):\n",
    "        f_embedded.append(embedd(f_guess, f_conv))\n",
    "    return np.array(f_embedded)\n"
   ]
  },
  {
   "cell_type": "markdown",
   "metadata": {},
   "source": [
    "## Converged in Converged "
   ]
  },
  {
   "cell_type": "code",
   "execution_count": 21,
   "metadata": {},
   "outputs": [],
   "source": [
    "f_test_test_test = embedd_batch(f_test)"
   ]
  },
  {
   "cell_type": "code",
   "execution_count": 22,
   "metadata": {},
   "outputs": [
    {
     "data": {
      "text/plain": [
       "<matplotlib.axes._subplots.AxesSubplot at 0x7fe5b4327c88>"
      ]
     },
     "execution_count": 22,
     "metadata": {},
     "output_type": "execute_result"
    },
    {
     "data": {
      "image/png": "[encoded data removed]",
      "text/plain": [
       "<matplotlib.figure.Figure at 0x7fe5b42f7ef0>"
      ]
     },
     "metadata": {},
     "output_type": "display_data"
    }
   ],
   "source": [
    "sns.heatmap(f_test_test_test[0])"
   ]
  },
  {
   "cell_type": "code",
   "execution_count": 23,
   "metadata": {},
   "outputs": [
    {
     "name": "stdout",
     "output_type": "stream",
     "text": [
      "--- Absolute Error ---\n",
      "3.92058E-08 +- 4.90271E-08\n",
      "--- Symmetry Error ---\n",
      "0.00000E+00 +- 0.00000E+00\n",
      "--- Idempotence Error ---\n",
      "2.47690E-17 +- 5.21795E-18\n",
      "--- Occupance Error ---\n",
      "4.30159E-15 +- 3.67058E-15\n",
      "--- HF Energy Error ---\n",
      "9.42496E-12 +- 1.23631E-11\n",
      "--- Avg. Iterations ---\n",
      "1.00000E+00 +- 0.00000E+00\n",
      "--- Avg. Iterations W/O Non Converged ---\n",
      "1.00000E+00 +- 0.00000E+00\n",
      "--- Num. Not Convd. ---\n",
      "0\n",
      "\n"
     ]
    }
   ],
   "source": [
    "\n",
    "print(make_results_str(measure_all_quantities(\n",
    "    density_from_fock_batch(f_test_test_test),\n",
    "    dataset,\n",
    "    molecules[1],\n",
    "    N_ELECTRONS,\n",
    "    mf_initializer,\n",
    "    dim,\n",
    "    is_triu=False,\n",
    "    is_dataset_triu=False,\n",
    "    s=S[ind:]\n",
    ")))"
   ]
  },
  {
   "cell_type": "markdown",
   "metadata": {},
   "source": [
    "## Zeros "
   ]
  },
  {
   "cell_type": "code",
   "execution_count": 24,
   "metadata": {},
   "outputs": [],
   "source": [
    "f_test_zeros = embedd_batch(np.zeros(f_test.shape))"
   ]
  },
  {
   "cell_type": "code",
   "execution_count": 25,
   "metadata": {},
   "outputs": [
    {
     "data": {
      "text/plain": [
       "<matplotlib.axes._subplots.AxesSubplot at 0x7fe5aeca2898>"
      ]
     },
     "execution_count": 25,
     "metadata": {},
     "output_type": "execute_result"
    },
    {
     "data": {
      "image/png": "[encoded data removed]",
      "text/plain": [
       "<matplotlib.figure.Figure at 0x7fe5aecef0b8>"
      ]
     },
     "metadata": {},
     "output_type": "display_data"
    }
   ],
   "source": [
    "sns.heatmap(f_test_zeros[0])"
   ]
  },
  {
   "cell_type": "code",
   "execution_count": 26,
   "metadata": {},
   "outputs": [
    {
     "name": "stdout",
     "output_type": "stream",
     "text": [
      "--- Absolute Error ---\n",
      "1.58759E+01 +- 5.92054E+01\n",
      "--- Symmetry Error ---\n",
      "0.00000E+00 +- 0.00000E+00\n",
      "--- Idempotence Error ---\n",
      "2.79336E-11 +- 5.66452E-11\n",
      "--- Occupance Error ---\n",
      "1.91084E-12 +- 2.28503E-12\n",
      "--- HF Energy Error ---\n",
      "3.06065E+01 +- 8.19006E+00\n",
      "--- Avg. Iterations ---\n",
      "9.84515E+01 +- 9.62181E+00\n",
      "--- Avg. Iterations W/O Non Converged ---\n",
      "4.25926E+01 +- 1.50191E+01\n",
      "--- Num. Not Convd. ---\n",
      "974\n",
      "\n"
     ]
    }
   ],
   "source": [
    "print(make_results_str(measure_all_quantities(\n",
    "    density_from_fock_batch(f_test_zeros),\n",
    "    dataset,\n",
    "    molecules[1],\n",
    "    N_ELECTRONS,\n",
    "    mf_initializer,\n",
    "    dim,\n",
    "    is_triu=False,\n",
    "    is_dataset_triu=False,\n",
    "    s=S[ind:]\n",
    ")))"
   ]
  },
  {
   "cell_type": "markdown",
   "metadata": {},
   "source": [
    "# GWH"
   ]
  },
  {
   "cell_type": "code",
   "execution_count": 27,
   "metadata": {},
   "outputs": [],
   "source": [
    "f_gwh = []\n",
    "\n",
    "k = np.ones((dim, dim)) * 1.75 - \\\n",
    "            np.diag(np.ones(dim)) * 0.75  \n",
    "\n",
    "for h,s in zip(h_test, s_test):\n",
    "    h_diag = np.diag(h)   \n",
    "        \n",
    "    f_gwh.append(k * np.add.outer(h_diag, h_diag) * s / 2)\n",
    "    \n",
    "f_gwh = np.array(f_gwh)"
   ]
  },
  {
   "cell_type": "code",
   "execution_count": 28,
   "metadata": {},
   "outputs": [],
   "source": [
    "np.save(data_path + subfolder + \"f_gwh.npy\", f_gwh)"
   ]
  },
  {
   "cell_type": "code",
   "execution_count": 29,
   "metadata": {},
   "outputs": [
    {
     "data": {
      "text/plain": [
       "<matplotlib.axes._subplots.AxesSubplot at 0x7fe5b43a76a0>"
      ]
     },
     "execution_count": 29,
     "metadata": {},
     "output_type": "execute_result"
    },
    {
     "data": {
      "image/png": "[encoded data removed]",
      "text/plain": [
       "<matplotlib.figure.Figure at 0x7fe5aec39748>"
      ]
     },
     "metadata": {},
     "output_type": "display_data"
    }
   ],
   "source": [
    "sns.heatmap(f_gwh[0])"
   ]
  },
  {
   "cell_type": "code",
   "execution_count": 30,
   "metadata": {},
   "outputs": [
    {
     "name": "stdout",
     "output_type": "stream",
     "text": [
      "--- Absolute Error ---\n",
      "1.44548E-02 +- 1.09225E-02\n",
      "--- Symmetry Error ---\n",
      "0.00000E+00 +- 0.00000E+00\n",
      "--- Idempotence Error ---\n",
      "2.50867E-17 +- 4.84395E-18\n",
      "--- Occupance Error ---\n",
      "3.94845E-15 +- 3.41856E-15\n",
      "--- HF Energy Error ---\n",
      "4.90516E+00 +- 4.94588E-01\n",
      "--- Avg. Iterations ---\n",
      "8.86703E+01 +- 2.36339E+01\n",
      "--- Avg. Iterations W/O Non Converged ---\n",
      "4.38564E+01 +- 1.58715E+01\n",
      "--- Num. Not Convd. ---\n",
      "799\n",
      "\n"
     ]
    }
   ],
   "source": [
    "print(make_results_str(measure_all_quantities(\n",
    "    density_from_fock_batch(f_gwh),\n",
    "    dataset,\n",
    "    molecules[1],\n",
    "    N_ELECTRONS,\n",
    "    mf_initializer,\n",
    "    dim,\n",
    "    is_triu=False,\n",
    "    is_dataset_triu=False,\n",
    "    s=S[ind:]\n",
    ")))"
   ]
  },
  {
   "cell_type": "code",
   "execution_count": 70,
   "metadata": {},
   "outputs": [
    {
     "data": {
      "text/plain": [
       "0.7982017982017982"
      ]
     },
     "execution_count": 70,
     "metadata": {},
     "output_type": "execute_result"
    }
   ],
   "source": [
    "799/len(p_test)"
   ]
  },
  {
   "cell_type": "markdown",
   "metadata": {},
   "source": [
    "## EmbeddedGWH "
   ]
  },
  {
   "cell_type": "code",
   "execution_count": 31,
   "metadata": {},
   "outputs": [],
   "source": [
    "f_embedded_gwh = embedd_batch(f_gwh)"
   ]
  },
  {
   "cell_type": "code",
   "execution_count": 32,
   "metadata": {},
   "outputs": [],
   "source": [
    "np.save(data_path + subfolder + \"f_embedded_gwh.npy\", f_embedded_gwh)"
   ]
  },
  {
   "cell_type": "markdown",
   "metadata": {},
   "source": [
    "### Diff Conv vs GWH "
   ]
  },
  {
   "cell_type": "code",
   "execution_count": 33,
   "metadata": {},
   "outputs": [
    {
     "data": {
      "text/plain": [
       "0.8007077155630588"
      ]
     },
     "execution_count": 33,
     "metadata": {},
     "output_type": "execute_result"
    }
   ],
   "source": [
    "np.mean(np.abs(f_test.flatten() - f_gwh.flatten()))"
   ]
  },
  {
   "cell_type": "markdown",
   "metadata": {},
   "source": [
    "### Diff Embedded vs gwh"
   ]
  },
  {
   "cell_type": "code",
   "execution_count": 34,
   "metadata": {},
   "outputs": [
    {
     "data": {
      "text/plain": [
       "0.22473747438468838"
      ]
     },
     "execution_count": 34,
     "metadata": {},
     "output_type": "execute_result"
    }
   ],
   "source": [
    "np.mean(np.abs(f_embedded_gwh.flatten() - f_gwh.flatten()))"
   ]
  },
  {
   "cell_type": "markdown",
   "metadata": {},
   "source": [
    "### Diff Conv vs Embedded "
   ]
  },
  {
   "cell_type": "code",
   "execution_count": 35,
   "metadata": {},
   "outputs": [
    {
     "data": {
      "text/plain": [
       "0.5759702411783706"
      ]
     },
     "execution_count": 35,
     "metadata": {},
     "output_type": "execute_result"
    }
   ],
   "source": [
    "np.mean(np.abs(f_embedded_gwh.flatten() - f_test.flatten()))"
   ]
  },
  {
   "cell_type": "markdown",
   "metadata": {},
   "source": [
    "### Analysing the density"
   ]
  },
  {
   "cell_type": "code",
   "execution_count": 36,
   "metadata": {},
   "outputs": [],
   "source": [
    "p_embedded_gwh = density_from_fock_batch(f_embedded_gwh)"
   ]
  },
  {
   "cell_type": "code",
   "execution_count": 37,
   "metadata": {},
   "outputs": [
    {
     "name": "stdout",
     "output_type": "stream",
     "text": [
      "--- Absolute Error ---\n",
      "4.56640E-02 +- 3.91440E-02\n",
      "--- Symmetry Error ---\n",
      "0.00000E+00 +- 0.00000E+00\n",
      "--- Idempotence Error ---\n",
      "7.51408E-17 +- 1.76234E-17\n",
      "--- Occupance Error ---\n",
      "3.47286E-15 +- 3.27620E-15\n",
      "--- HF Energy Error ---\n",
      "4.40846E+00 +- 3.32923E-01\n",
      "--- Avg. Iterations ---\n",
      "5.47073E+01 +- 3.12755E+01\n",
      "--- Avg. Iterations W/O Non Converged ---\n",
      "3.71179E+01 +- 1.58733E+01\n",
      "--- Num. Not Convd. ---\n",
      "280\n",
      "\n"
     ]
    }
   ],
   "source": [
    "print(make_results_str(measure_all_quantities(\n",
    "    p_embedded_gwh,\n",
    "    dataset,\n",
    "    molecules[1],\n",
    "    N_ELECTRONS,\n",
    "    mf_initializer,\n",
    "    dim,\n",
    "    is_triu=False,\n",
    "    is_dataset_triu=False,\n",
    "    s=S[ind:]\n",
    ")))"
   ]
  },
  {
   "cell_type": "code",
   "execution_count": 69,
   "metadata": {},
   "outputs": [
    {
     "data": {
      "text/plain": [
       "0.27972027972027974"
      ]
     },
     "execution_count": 69,
     "metadata": {},
     "output_type": "execute_result"
    }
   ],
   "source": [
    "280 / len(molecules[1])"
   ]
  },
  {
   "cell_type": "markdown",
   "metadata": {},
   "source": [
    "## SAD"
   ]
  },
  {
   "cell_type": "code",
   "execution_count": 39,
   "metadata": {},
   "outputs": [],
   "source": [
    "f_sad = fock_from_density_batch(np.array([\n",
    "    hf.init_guess_by_atom(mol.get_pyscf_molecule()) for mol in molecules[1]\n",
    "]))"
   ]
  },
  {
   "cell_type": "code",
   "execution_count": 40,
   "metadata": {},
   "outputs": [],
   "source": [
    "np.save(data_path + subfolder + \"f_sad.npy\", f_sad)"
   ]
  },
  {
   "cell_type": "code",
   "execution_count": 41,
   "metadata": {},
   "outputs": [
    {
     "data": {
      "text/plain": [
       "<matplotlib.axes._subplots.AxesSubplot at 0x7fe5aeaba780>"
      ]
     },
     "execution_count": 41,
     "metadata": {},
     "output_type": "execute_result"
    },
    {
     "data": {
      "image/png": "[encoded data removed]",
      "text/plain": [
       "<matplotlib.figure.Figure at 0x7fe5aeb3f1d0>"
      ]
     },
     "metadata": {},
     "output_type": "display_data"
    }
   ],
   "source": [
    "sns.heatmap(f_sad[0])"
   ]
  },
  {
   "cell_type": "code",
   "execution_count": 42,
   "metadata": {},
   "outputs": [
    {
     "name": "stdout",
     "output_type": "stream",
     "text": [
      "--- Absolute Error ---\n",
      "3.99305E-03 +- 3.84032E-03\n",
      "--- Symmetry Error ---\n",
      "0.00000E+00 +- 0.00000E+00\n",
      "--- Idempotence Error ---\n",
      "2.48088E-17 +- 5.05049E-18\n",
      "--- Occupance Error ---\n",
      "4.41871E-15 +- 3.66543E-15\n",
      "--- HF Energy Error ---\n",
      "7.31085E-02 +- 1.56547E-02\n",
      "--- Avg. Iterations ---\n",
      "3.14795E+01 +- 2.00231E+01\n",
      "--- Avg. Iterations W/O Non Converged ---\n",
      "2.81038E+01 +- 1.33407E+01\n",
      "--- Num. Not Convd. ---\n",
      "47\n",
      "\n"
     ]
    }
   ],
   "source": [
    "print(make_results_str(measure_all_quantities(\n",
    "    density_from_fock_batch(f_sad),\n",
    "    dataset,\n",
    "    molecules[1],\n",
    "    N_ELECTRONS,\n",
    "    mf_initializer,\n",
    "    dim,\n",
    "    is_triu=False,\n",
    "    is_dataset_triu=False,\n",
    "    s=S[ind:]\n",
    ")))"
   ]
  },
  {
   "cell_type": "code",
   "execution_count": 68,
   "metadata": {},
   "outputs": [
    {
     "data": {
      "text/plain": [
       "0.04695304695304695"
      ]
     },
     "execution_count": 68,
     "metadata": {},
     "output_type": "execute_result"
    }
   ],
   "source": [
    "47/len(p_test)"
   ]
  },
  {
   "cell_type": "markdown",
   "metadata": {},
   "source": [
    "## Embedded SAD"
   ]
  },
  {
   "cell_type": "code",
   "execution_count": 43,
   "metadata": {},
   "outputs": [],
   "source": [
    "f_embedded_sad = embedd_batch(f_sad)"
   ]
  },
  {
   "cell_type": "code",
   "execution_count": 44,
   "metadata": {},
   "outputs": [],
   "source": [
    "np.save(data_path + subfolder + \"f_embedded_sad.npy\", f_embedded_sad)"
   ]
  },
  {
   "cell_type": "code",
   "execution_count": 45,
   "metadata": {},
   "outputs": [
    {
     "data": {
      "text/plain": [
       "<matplotlib.axes._subplots.AxesSubplot at 0x7fe5aea6a2b0>"
      ]
     },
     "execution_count": 45,
     "metadata": {},
     "output_type": "execute_result"
    },
    {
     "data": {
      "image/png": "[encoded data removed]",
      "text/plain": [
       "<matplotlib.figure.Figure at 0x7fe5ae9f0f28>"
      ]
     },
     "metadata": {},
     "output_type": "display_data"
    }
   ],
   "source": [
    "sns.heatmap(f_embedded_sad[0])"
   ]
  },
  {
   "cell_type": "code",
   "execution_count": 46,
   "metadata": {},
   "outputs": [],
   "source": [
    "p_embedded_sad = density_from_fock_batch(f_embedded_sad)"
   ]
  },
  {
   "cell_type": "code",
   "execution_count": 47,
   "metadata": {},
   "outputs": [
    {
     "name": "stdout",
     "output_type": "stream",
     "text": [
      "--- Absolute Error ---\n",
      "1.82383E-02 +- 1.67489E-02\n",
      "--- Symmetry Error ---\n",
      "0.00000E+00 +- 0.00000E+00\n",
      "--- Idempotence Error ---\n",
      "3.91771E-17 +- 8.35361E-18\n",
      "--- Occupance Error ---\n",
      "3.87746E-15 +- 3.36476E-15\n",
      "--- HF Energy Error ---\n",
      "9.71111E-02 +- 1.18776E-02\n",
      "--- Avg. Iterations ---\n",
      "2.85255E+01 +- 1.94496E+01\n",
      "--- Avg. Iterations W/O Non Converged ---\n",
      "2.53952E+01 +- 1.27012E+01\n",
      "--- Num. Not Convd. ---\n",
      "42\n",
      "\n"
     ]
    }
   ],
   "source": [
    "print(make_results_str(measure_all_quantities(\n",
    "    p_embedded_sad,\n",
    "    dataset,\n",
    "    molecules[1],\n",
    "    N_ELECTRONS,\n",
    "    mf_initializer,\n",
    "    dim,\n",
    "    is_triu=False,\n",
    "    is_dataset_triu=False,\n",
    "    s=S[ind:]\n",
    ")))"
   ]
  },
  {
   "cell_type": "code",
   "execution_count": 67,
   "metadata": {},
   "outputs": [
    {
     "data": {
      "text/plain": [
       "0.04195804195804196"
      ]
     },
     "execution_count": 67,
     "metadata": {},
     "output_type": "execute_result"
    }
   ],
   "source": [
    "42/len(p_test)"
   ]
  },
  {
   "cell_type": "markdown",
   "metadata": {},
   "source": [
    "# McWheeny Density"
   ]
  },
  {
   "cell_type": "code",
   "execution_count": 48,
   "metadata": {},
   "outputs": [],
   "source": [
    "from SCFInitialGuess.utilities.dataset import make_matrix_batch\n",
    "s_test_batch = make_matrix_batch(S[ind:], dim)"
   ]
  },
  {
   "cell_type": "code",
   "execution_count": 49,
   "metadata": {},
   "outputs": [],
   "source": [
    "from SCFInitialGuess.nn.post_processing import multi_mc_wheeny\n",
    "\n",
    "def multi_mc_wheeny_batch(p_batch):\n",
    "    p_res = []\n",
    "    for p, s in zip(p_batch, s_test_batch):\n",
    "        p_res.append(multi_mc_wheeny(p, s, 5))\n",
    "    return np.asarray(p_res)"
   ]
  },
  {
   "cell_type": "markdown",
   "metadata": {},
   "source": [
    "### GWH"
   ]
  },
  {
   "cell_type": "code",
   "execution_count": 50,
   "metadata": {},
   "outputs": [],
   "source": [
    "p_embedded_gwh_mcw5 = multi_mc_wheeny_batch(p_embedded_gwh)"
   ]
  },
  {
   "cell_type": "code",
   "execution_count": 51,
   "metadata": {},
   "outputs": [
    {
     "name": "stdout",
     "output_type": "stream",
     "text": [
      "--- Absolute Error ---\n",
      "4.56640E-02 +- 3.91440E-02\n",
      "--- Symmetry Error ---\n",
      "1.04053E-16 +- 1.15046E-17\n",
      "--- Idempotence Error ---\n",
      "6.64236E-17 +- 6.56134E-18\n",
      "--- Occupance Error ---\n",
      "1.48178E-15 +- 1.93719E-15\n",
      "--- HF Energy Error ---\n",
      "4.40846E+00 +- 3.32923E-01\n",
      "--- Avg. Iterations ---\n",
      "5.47073E+01 +- 3.12755E+01\n",
      "--- Avg. Iterations W/O Non Converged ---\n",
      "3.71179E+01 +- 1.58733E+01\n",
      "--- Num. Not Convd. ---\n",
      "280\n",
      "\n"
     ]
    }
   ],
   "source": [
    "from SCFInitialGuess.utilities.analysis import mf_initializer\n",
    "\n",
    "print(make_results_str(measure_all_quantities(\n",
    "    p_embedded_gwh_mcw5,\n",
    "    dataset,\n",
    "    molecules[1],\n",
    "    N_ELECTRONS,\n",
    "    mf_initializer,\n",
    "    dim,\n",
    "    is_triu=False,\n",
    "    is_dataset_triu=False,\n",
    "    s=S[ind:]\n",
    ")))"
   ]
  },
  {
   "cell_type": "code",
   "execution_count": 52,
   "metadata": {},
   "outputs": [
    {
     "data": {
      "text/plain": [
       "0.27972027972027974"
      ]
     },
     "execution_count": 52,
     "metadata": {},
     "output_type": "execute_result"
    }
   ],
   "source": [
    "280/1001"
   ]
  },
  {
   "cell_type": "markdown",
   "metadata": {},
   "source": [
    "### SAP "
   ]
  },
  {
   "cell_type": "code",
   "execution_count": 53,
   "metadata": {},
   "outputs": [],
   "source": [
    "p_embedded_sap_mcw5 = multi_mc_wheeny_batch(p_embedded_sad)"
   ]
  },
  {
   "cell_type": "code",
   "execution_count": 54,
   "metadata": {
    "scrolled": true
   },
   "outputs": [
    {
     "name": "stdout",
     "output_type": "stream",
     "text": [
      "--- Absolute Error ---\n",
      "1.82383E-02 +- 1.67489E-02\n",
      "--- Symmetry Error ---\n",
      "4.66811E-17 +- 1.17278E-17\n",
      "--- Idempotence Error ---\n",
      "2.93329E-17 +- 7.19897E-18\n",
      "--- Occupance Error ---\n",
      "8.23406E-16 +- 1.34153E-15\n",
      "--- HF Energy Error ---\n",
      "9.71111E-02 +- 1.18776E-02\n",
      "--- Avg. Iterations ---\n",
      "2.85255E+01 +- 1.94496E+01\n",
      "--- Avg. Iterations W/O Non Converged ---\n",
      "2.53952E+01 +- 1.27012E+01\n",
      "--- Num. Not Convd. ---\n",
      "42\n",
      "\n"
     ]
    }
   ],
   "source": [
    "from SCFInitialGuess.utilities.analysis import mf_initializer\n",
    "\n",
    "print(make_results_str(measure_all_quantities(\n",
    "    p_embedded_sap_mcw5,\n",
    "    dataset,\n",
    "    molecules[1],\n",
    "    N_ELECTRONS,\n",
    "    mf_initializer,\n",
    "    dim,\n",
    "    is_triu=False,\n",
    "    is_dataset_triu=False,\n",
    "    s=S[ind:]\n",
    ")))"
   ]
  },
  {
   "cell_type": "code",
   "execution_count": 66,
   "metadata": {},
   "outputs": [
    {
     "data": {
      "text/plain": [
       "0.04195804195804196"
      ]
     },
     "execution_count": 66,
     "metadata": {},
     "output_type": "execute_result"
    }
   ],
   "source": [
    "42/1001"
   ]
  },
  {
   "cell_type": "markdown",
   "metadata": {},
   "source": [
    "# McWheeny Fock "
   ]
  },
  {
   "cell_type": "code",
   "execution_count": 56,
   "metadata": {},
   "outputs": [],
   "source": [
    "from SCFInitialGuess.nn.post_processing import multi_mc_wheeny\n",
    "\n",
    "def multi_mc_wheeny_batch_fock(p_batch):\n",
    "    p_res = []\n",
    "    for p, s in zip(p_batch, s_test_batch):\n",
    "        p_res.append(multi_mc_wheeny(p, s, 1))\n",
    "    return np.asarray(p_res)"
   ]
  },
  {
   "cell_type": "markdown",
   "metadata": {},
   "source": [
    "## GWH "
   ]
  },
  {
   "cell_type": "code",
   "execution_count": 57,
   "metadata": {},
   "outputs": [],
   "source": [
    "f_gwh_mcw5 = multi_mc_wheeny_batch_fock(f_gwh)"
   ]
  },
  {
   "cell_type": "code",
   "execution_count": 58,
   "metadata": {},
   "outputs": [
    {
     "data": {
      "text/plain": [
       "<matplotlib.axes._subplots.AxesSubplot at 0x7fe5ae937f28>"
      ]
     },
     "execution_count": 58,
     "metadata": {},
     "output_type": "execute_result"
    },
    {
     "data": {
      "image/png": "[encoded data removed]",
      "text/plain": [
       "<matplotlib.figure.Figure at 0x7fe5ae9c57b8>"
      ]
     },
     "metadata": {},
     "output_type": "display_data"
    }
   ],
   "source": [
    "sns.heatmap(f_gwh_mcw5[0])"
   ]
  },
  {
   "cell_type": "markdown",
   "metadata": {},
   "source": [
    "# Embedd Outer "
   ]
  },
  {
   "cell_type": "code",
   "execution_count": 59,
   "metadata": {},
   "outputs": [],
   "source": [
    "from SCFInitialGuess.utilities.dataset import reconstruct_from_triu\n",
    "\n",
    "def embedd_outer(x, y):\n",
    "    p = x.copy()\n",
    "    p[np.logical_not(mask)] = (y.copy())[np.logical_not(mask)]\n",
    "    return p\n",
    "\n",
    "def embedd_batch_outer(f_batch):\n",
    "    f_embedded = []\n",
    "    for (f_guess, f_conv) in zip(f_batch, f_test):\n",
    "        f_embedded.append(embedd_outer(f_guess, f_conv))\n",
    "    return np.array(f_embedded)"
   ]
  },
  {
   "cell_type": "markdown",
   "metadata": {},
   "source": [
    "## Converged "
   ]
  },
  {
   "cell_type": "code",
   "execution_count": 60,
   "metadata": {},
   "outputs": [
    {
     "name": "stdout",
     "output_type": "stream",
     "text": [
      "--- Absolute Error ---\n",
      "3.92058E-08 +- 4.90271E-08\n",
      "--- Symmetry Error ---\n",
      "0.00000E+00 +- 0.00000E+00\n",
      "--- Idempotence Error ---\n",
      "2.47690E-17 +- 5.21795E-18\n",
      "--- Occupance Error ---\n",
      "4.30159E-15 +- 3.67058E-15\n",
      "--- HF Energy Error ---\n",
      "9.42552E-12 +- 1.23639E-11\n",
      "--- Avg. Iterations ---\n",
      "1.00000E+00 +- 0.00000E+00\n",
      "--- Avg. Iterations W/O Non Converged ---\n",
      "1.00000E+00 +- 0.00000E+00\n",
      "--- Num. Not Convd. ---\n",
      "0\n",
      "\n"
     ]
    }
   ],
   "source": [
    "print(make_results_str(measure_all_quantities(\n",
    "    density_from_fock_batch(embedd_batch_outer(f_embedded_sad)),\n",
    "    dataset,\n",
    "    molecules[1],\n",
    "    N_ELECTRONS,\n",
    "    mf_initializer,\n",
    "    dim,\n",
    "    is_triu=False,\n",
    "    is_dataset_triu=False,\n",
    "    s=S[ind:]\n",
    ")))"
   ]
  },
  {
   "cell_type": "markdown",
   "metadata": {},
   "source": [
    "## SAD "
   ]
  },
  {
   "cell_type": "code",
   "execution_count": 61,
   "metadata": {},
   "outputs": [],
   "source": [
    "f_embedded_outer_sad = embedd_batch_outer(f_sad)"
   ]
  },
  {
   "cell_type": "code",
   "execution_count": 62,
   "metadata": {},
   "outputs": [
    {
     "name": "stdout",
     "output_type": "stream",
     "text": [
      "--- Absolute Error ---\n",
      "1.65497E+01 +- 6.09536E+01\n",
      "--- Symmetry Error ---\n",
      "0.00000E+00 +- 0.00000E+00\n",
      "--- Idempotence Error ---\n",
      "2.97513E-11 +- 5.84798E-11\n",
      "--- Occupance Error ---\n",
      "1.98145E-12 +- 2.32729E-12\n",
      "--- HF Energy Error ---\n",
      "2.25980E+01 +- 6.76589E+00\n",
      "--- Avg. Iterations ---\n",
      "9.62877E+01 +- 1.41617E+01\n",
      "--- Avg. Iterations W/O Non Converged ---\n",
      "4.45373E+01 +- 1.12294E+01\n",
      "--- Num. Not Convd. ---\n",
      "934\n",
      "\n"
     ]
    }
   ],
   "source": [
    "print(make_results_str(measure_all_quantities(\n",
    "    density_from_fock_batch(f_embedded_outer_sad),\n",
    "    dataset,\n",
    "    molecules[1],\n",
    "    N_ELECTRONS,\n",
    "    mf_initializer,\n",
    "    dim,\n",
    "    is_triu=False,\n",
    "    is_dataset_triu=False,\n",
    "    s=S[ind:]\n",
    ")))"
   ]
  },
  {
   "cell_type": "code",
   "execution_count": 63,
   "metadata": {},
   "outputs": [
    {
     "data": {
      "text/plain": [
       "0.9330669330669331"
      ]
     },
     "execution_count": 63,
     "metadata": {},
     "output_type": "execute_result"
    }
   ],
   "source": [
    "934/1001"
   ]
  },
  {
   "cell_type": "markdown",
   "metadata": {},
   "source": [
    "## GWH "
   ]
  },
  {
   "cell_type": "code",
   "execution_count": 64,
   "metadata": {},
   "outputs": [],
   "source": [
    "f_embedded_outer_gwh = embedd_batch_outer(f_gwh)"
   ]
  },
  {
   "cell_type": "code",
   "execution_count": 65,
   "metadata": {},
   "outputs": [
    {
     "ename": "KeyboardInterrupt",
     "evalue": "",
     "output_type": "error",
     "traceback": [
      "\u001b[0;31m---------------------------------------------------------------------------\u001b[0m",
      "\u001b[0;31mKeyboardInterrupt\u001b[0m                         Traceback (most recent call last)",
      "\u001b[0;32m<ipython-input-65-300e3b183787>\u001b[0m in \u001b[0;36m<module>\u001b[0;34m()\u001b[0m\n\u001b[1;32m      8\u001b[0m     \u001b[0mis_triu\u001b[0m\u001b[0;34m=\u001b[0m\u001b[0;32mFalse\u001b[0m\u001b[0;34m,\u001b[0m\u001b[0;34m\u001b[0m\u001b[0m\n\u001b[1;32m      9\u001b[0m     \u001b[0mis_dataset_triu\u001b[0m\u001b[0;34m=\u001b[0m\u001b[0;32mFalse\u001b[0m\u001b[0;34m,\u001b[0m\u001b[0;34m\u001b[0m\u001b[0m\n\u001b[0;32m---> 10\u001b[0;31m     \u001b[0ms\u001b[0m\u001b[0;34m=\u001b[0m\u001b[0mS\u001b[0m\u001b[0;34m[\u001b[0m\u001b[0mind\u001b[0m\u001b[0;34m:\u001b[0m\u001b[0;34m]\u001b[0m\u001b[0;34m\u001b[0m\u001b[0m\n\u001b[0m\u001b[1;32m     11\u001b[0m )))\n",
      "\u001b[0;32m~/Repos/SCFInitialGuess/SCFInitialGuess/utilities/analysis.py\u001b[0m in \u001b[0;36mmeasure_all_quantities\u001b[0;34m(p, dataset, molecules, n_electrons, mf_initializer, dim, is_triu, is_dataset_triu, s)\u001b[0m\n\u001b[1;32m    355\u001b[0m         \u001b[0mmf_initializer\u001b[0m\u001b[0;34m,\u001b[0m\u001b[0;34m\u001b[0m\u001b[0m\n\u001b[1;32m    356\u001b[0m         \u001b[0mp_batch\u001b[0m\u001b[0;34m.\u001b[0m\u001b[0mastype\u001b[0m\u001b[0;34m(\u001b[0m\u001b[0;34m'float64'\u001b[0m\u001b[0;34m)\u001b[0m\u001b[0;34m,\u001b[0m\u001b[0;34m\u001b[0m\u001b[0m\n\u001b[0;32m--> 357\u001b[0;31m         \u001b[0mmolecules\u001b[0m\u001b[0;34m\u001b[0m\u001b[0m\n\u001b[0m\u001b[1;32m    358\u001b[0m     ))\n\u001b[1;32m    359\u001b[0m \u001b[0;34m\u001b[0m\u001b[0m\n",
      "\u001b[0;32m~/Repos/SCFInitialGuess/SCFInitialGuess/utilities/analysis.py\u001b[0m in \u001b[0;36mmeasure_iterations\u001b[0;34m(mf_initializer, guesses, molecules)\u001b[0m\n\u001b[1;32m    240\u001b[0m         \u001b[0mmsg\u001b[0m\u001b[0;34m.\u001b[0m\u001b[0minfo\u001b[0m\u001b[0;34m(\u001b[0m\u001b[0;34m\"Iteration calculation: \"\u001b[0m \u001b[0;34m+\u001b[0m \u001b[0mstr\u001b[0m\u001b[0;34m(\u001b[0m\u001b[0mi\u001b[0m\u001b[0;34m)\u001b[0m\u001b[0;34m)\u001b[0m\u001b[0;34m\u001b[0m\u001b[0m\n\u001b[1;32m    241\u001b[0m \u001b[0;34m\u001b[0m\u001b[0m\n\u001b[0;32m--> 242\u001b[0;31m         \u001b[0mmf\u001b[0m \u001b[0;34m=\u001b[0m \u001b[0mmf_initializer\u001b[0m\u001b[0;34m(\u001b[0m\u001b[0mmolecule\u001b[0m\u001b[0;34m.\u001b[0m\u001b[0mget_pyscf_molecule\u001b[0m\u001b[0;34m(\u001b[0m\u001b[0;34m)\u001b[0m\u001b[0;34m)\u001b[0m\u001b[0;34m\u001b[0m\u001b[0m\n\u001b[0m\u001b[1;32m    243\u001b[0m \u001b[0;34m\u001b[0m\u001b[0m\n\u001b[1;32m    244\u001b[0m         \u001b[0;32mtry\u001b[0m\u001b[0;34m:\u001b[0m\u001b[0;34m\u001b[0m\u001b[0m\n",
      "\u001b[0;32m~/Repos/SCFInitialGuess/SCFInitialGuess/utilities/dataset.py\u001b[0m in \u001b[0;36mget_pyscf_molecule\u001b[0;34m(self)\u001b[0m\n\u001b[1;32m     68\u001b[0m         \u001b[0mmol\u001b[0m\u001b[0;34m.\u001b[0m\u001b[0matom\u001b[0m \u001b[0;34m=\u001b[0m \u001b[0mself\u001b[0m\u001b[0;34m.\u001b[0m\u001b[0mgeometry\u001b[0m\u001b[0;34m\u001b[0m\u001b[0m\n\u001b[1;32m     69\u001b[0m         \u001b[0mmol\u001b[0m\u001b[0;34m.\u001b[0m\u001b[0mbasis\u001b[0m \u001b[0;34m=\u001b[0m \u001b[0mself\u001b[0m\u001b[0;34m.\u001b[0m\u001b[0mbasis\u001b[0m\u001b[0;34m\u001b[0m\u001b[0m\n\u001b[0;32m---> 70\u001b[0;31m         \u001b[0mmol\u001b[0m\u001b[0;34m.\u001b[0m\u001b[0mbuild\u001b[0m\u001b[0;34m(\u001b[0m\u001b[0;34m)\u001b[0m\u001b[0;34m\u001b[0m\u001b[0m\n\u001b[0m\u001b[1;32m     71\u001b[0m \u001b[0;34m\u001b[0m\u001b[0m\n\u001b[1;32m     72\u001b[0m         \u001b[0;32mreturn\u001b[0m \u001b[0mmol\u001b[0m\u001b[0;34m\u001b[0m\u001b[0m\n",
      "\u001b[0;32m~/Repos/pyscf/pyscf/gto/mole.py\u001b[0m in \u001b[0;36mbuild\u001b[0;34m(self, dump_input, parse_arg, verbose, output, max_memory, atom, basis, unit, nucmod, ecp, charge, spin, symmetry, symmetry_subgroup, cart)\u001b[0m\n\u001b[1;32m   1720\u001b[0m \u001b[0;31m# release circular referred objs\u001b[0m\u001b[0;34m\u001b[0m\u001b[0;34m\u001b[0m\u001b[0m\n\u001b[1;32m   1721\u001b[0m \u001b[0;31m# Note obj.x = obj.member_function causes circular referrence\u001b[0m\u001b[0;34m\u001b[0m\u001b[0;34m\u001b[0m\u001b[0m\n\u001b[0;32m-> 1722\u001b[0;31m         \u001b[0mgc\u001b[0m\u001b[0;34m.\u001b[0m\u001b[0mcollect\u001b[0m\u001b[0;34m(\u001b[0m\u001b[0;34m)\u001b[0m\u001b[0;34m\u001b[0m\u001b[0m\n\u001b[0m\u001b[1;32m   1723\u001b[0m \u001b[0;34m\u001b[0m\u001b[0m\n\u001b[1;32m   1724\u001b[0m         \u001b[0;32mif\u001b[0m \u001b[0mverbose\u001b[0m \u001b[0;32mis\u001b[0m \u001b[0;32mnot\u001b[0m \u001b[0;32mNone\u001b[0m\u001b[0;34m:\u001b[0m \u001b[0mself\u001b[0m\u001b[0;34m.\u001b[0m\u001b[0mverbose\u001b[0m \u001b[0;34m=\u001b[0m \u001b[0mverbose\u001b[0m\u001b[0;34m\u001b[0m\u001b[0m\n",
      "\u001b[0;31mKeyboardInterrupt\u001b[0m: "
     ]
    }
   ],
   "source": [
    "print(make_results_str(measure_all_quantities(\n",
    "    density_from_fock_batch(f_embedded_outer_gwh),\n",
    "    dataset,\n",
    "    molecules[1],\n",
    "    N_ELECTRONS,\n",
    "    mf_initializer,\n",
    "    dim,\n",
    "    is_triu=False,\n",
    "    is_dataset_triu=False,\n",
    "    s=S[ind:]\n",
    ")))"
   ]
  },
  {
   "cell_type": "code",
   "execution_count": null,
   "metadata": {},
   "outputs": [],
   "source": [
    "960 / 1001"
   ]
  },
  {
   "cell_type": "code",
   "execution_count": null,
   "metadata": {},
   "outputs": [],
   "source": []
  },
  {
   "cell_type": "code",
   "execution_count": null,
   "metadata": {},
   "outputs": [],
   "source": []
  },
  {
   "cell_type": "code",
   "execution_count": null,
   "metadata": {},
   "outputs": [],
   "source": []
  },
  {
   "cell_type": "code",
   "execution_count": null,
   "metadata": {},
   "outputs": [],
   "source": []
  },
  {
   "cell_type": "code",
   "execution_count": null,
   "metadata": {},
   "outputs": [],
   "source": []
  }
 ],
 "metadata": {
  "kernelspec": {
   "display_name": "Python 3",
   "language": "python",
   "name": "python3"
  },
  "language_info": {
   "codemirror_mode": {
    "name": "ipython",
    "version": 3
   },
   "file_extension": ".py",
   "mimetype": "text/x-python",
   "name": "python",
   "nbconvert_exporter": "python",
   "pygments_lexer": "ipython3",
   "version": "3.6.4"
  }
 },
 "nbformat": 4,
 "nbformat_minor": 2
}
