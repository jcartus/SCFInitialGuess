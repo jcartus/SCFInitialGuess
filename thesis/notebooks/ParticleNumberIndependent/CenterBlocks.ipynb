{
 "cells": [
  {
   "cell_type": "code",
   "execution_count": 1,
   "metadata": {},
   "outputs": [
    {
     "name": "stderr",
     "output_type": "stream",
     "text": [
      "/home/jo/anaconda3/lib/python3.6/site-packages/h5py/__init__.py:36: FutureWarning: Conversion of the second argument of issubdtype from `float` to `np.floating` is deprecated. In future, it will be treated as `np.float64 == np.dtype(float).type`.\n",
      "  from ._conv import register_converters as _register_converters\n"
     ]
    }
   ],
   "source": [
    "import numpy as np\n",
    "import matplotlib.pyplot as plt\n",
    "import tensorflow as tf\n",
    "from tensorflow import keras\n",
    "import seaborn as sns\n",
    "\n",
    "from os.path import join\n",
    "\n",
    "plt.style.use([\"seaborn\", \"thesis\"])"
   ]
  },
  {
   "cell_type": "code",
   "execution_count": 2,
   "metadata": {},
   "outputs": [],
   "source": [
    "plt.rc(\"figure\", figsize=(8,4))"
   ]
  },
  {
   "cell_type": "markdown",
   "metadata": {},
   "source": [
    "# Fetch Dataset "
   ]
  },
  {
   "cell_type": "code",
   "execution_count": 3,
   "metadata": {},
   "outputs": [],
   "source": [
    "from SCFInitialGuess.utilities.dataset import extract_triu_batch, AbstractDataset\n",
    "from sklearn.model_selection import train_test_split\n",
    "\n",
    "data_path = \"../../dataset/TSmall_sto3g\"\n",
    "postfix = \"TSmall_sto3g\"\n",
    "dim = 26\n",
    "data_path = \"../../dataset/EthenT/\"\n",
    "postfix = \"EthenT\"\n",
    "dim = 72\n",
    "basis = \"6-311++g**\"\n",
    "n_electrons = 16\n",
    "#data_path = \"../butadien/data/\"\n",
    "#postfix = \"\"\n",
    "#dim = 26\n",
    "\n",
    "\n",
    "def split(x, y, ind):\n",
    "    return x[:ind], y[:ind], x[ind:], y[ind:]\n",
    "\n",
    "S = np.load(join(data_path, \"S\" + postfix + \".npy\"))\n",
    "P = np.load(join(data_path, \"P\" + postfix + \".npy\"))\n",
    "\n",
    "index = np.load(join(data_path, \"index\" + postfix + \".npy\"))\n",
    "\n",
    "molecules = np.load(join(data_path, \"molecules\" + postfix + \".npy\"))\n",
    "\n",
    "\n",
    "ind = int(0.8 * len(index))\n",
    "ind_val = int(0.8 * ind)\n",
    "\n",
    "\n",
    "molecules = (\n",
    "    molecules[:ind_val], \n",
    "    molecules[ind_val:ind], \n",
    "    molecules[ind:]\n",
    ")\n",
    "\n",
    "#s_triu_norm, mu, std = AbstractDataset.normalize(S)\n",
    "\n",
    "\n",
    "s_train, p_train, s_test, p_test = split(S, P, ind)\n",
    "s_train, p_train, s_val, p_val = split(s_train, p_train, ind_val)\n",
    "\n"
   ]
  },
  {
   "cell_type": "code",
   "execution_count": 4,
   "metadata": {},
   "outputs": [],
   "source": [
    "from SCFInitialGuess.utilities.dataset import make_center_block_dataset\n",
    "from SCFInitialGuess.descriptors.high_level import AtomicNumberWeighted\n",
    "from SCFInitialGuess.descriptors.cutoffs import BehlerCutoff1\n",
    "from SCFInitialGuess.descriptors.models import RADIAL_GAUSSIAN_MODELS\n",
    "from SCFInitialGuess.descriptors.coordinate_descriptors import \\\n",
    "    Gaussians, SPHAngularDescriptor\n",
    "\n",
    "descriptor = AtomicNumberWeighted(\n",
    "    Gaussians(*RADIAL_GAUSSIAN_MODELS[\"Man\"]),\n",
    "    SPHAngularDescriptor(15),\n",
    "    BehlerCutoff1(5)\n",
    ")\n",
    "    \n",
    "    \n"
   ]
  },
  {
   "cell_type": "markdown",
   "metadata": {},
   "source": [
    "# Utilities "
   ]
  },
  {
   "cell_type": "markdown",
   "metadata": {},
   "source": [
    "## Calculate Descriptors and extract center blocks "
   ]
  },
  {
   "cell_type": "markdown",
   "metadata": {},
   "source": [
    "## Networks "
   ]
  },
  {
   "cell_type": "code",
   "execution_count": null,
   "metadata": {},
   "outputs": [],
   "source": [
    "#keras.backend.clear_session()\n",
    "\n",
    "#activation = \"elu\"\n",
    "#learning_rate = 1e-5\n",
    "\n",
    "intializer = keras.initializers.TruncatedNormal(mean=0.0, stddev=0.01)\n",
    "\n",
    "def make_model(\n",
    "        structure, \n",
    "        input_dim, \n",
    "        output_dim,\n",
    "        activation=\"elu\", \n",
    "        learning_rate=1e-3\n",
    "    ):\n",
    "\n",
    "    model = keras.Sequential()\n",
    "\n",
    "    # input layer\n",
    "    model.add(keras.layers.Dense(\n",
    "        structure[0], \n",
    "        activation=activation, \n",
    "        input_dim=input_dim, \n",
    "        kernel_initializer=intializer\n",
    "    ))\n",
    "\n",
    "    for layer in structure[1:]:\n",
    "        model.add(keras.layers.Dense(\n",
    "            layer, \n",
    "            activation=activation, \n",
    "            #kernel_initializer=intializer, \n",
    "            #bias_initializer='zeros',\n",
    "            kernel_regularizer=keras.regularizers.l2(1e-6)\n",
    "        ))\n",
    "\n",
    "    #output\n",
    "    model.add(keras.layers.Dense(output_dim))\n",
    "\n",
    "    model.compile(\n",
    "        optimizer=keras.optimizers.Adam(learning_rate), \n",
    "        loss='MSE', \n",
    "        metrics=['mae', 'mse']\n",
    "    )\n",
    "    \n",
    "    return model\n",
    "\n"
   ]
  },
  {
   "cell_type": "code",
   "execution_count": 6,
   "metadata": {},
   "outputs": [],
   "source": [
    "path = \"../../models/ParticleNumberIndependent/CenterBlocks/\"\n",
    "\n",
    "early_stopping = keras.callbacks.EarlyStopping(\n",
    "    monitor=\"val_mean_squared_error\", \n",
    "    min_delta=1e-10, \n",
    "    patience=200, \n",
    "    verbose=1\n",
    ")\n",
    "\n",
    "reduce_lr = keras.callbacks.ReduceLROnPlateau(\n",
    "    monitor='val_mean_squared_error', \n",
    "    factor=0.5, \n",
    "    patience=50, \n",
    "    verbose=1, \n",
    "    mode='auto', \n",
    "    min_delta=1e-6, \n",
    "    cooldown=50, \n",
    "    min_lr=1e-10\n",
    ")\n",
    "\n",
    "\n",
    "\n",
    "epochs = 1000\n",
    "\n",
    "\n",
    "def train_model(model, dataset, filepath, learning_rate=1e-4):\n",
    "    \n",
    "    checkpoint = keras.callbacks.ModelCheckpoint(\n",
    "        filepath, \n",
    "        monitor='val_mean_squared_error', \n",
    "        verbose=1, \n",
    "        save_best_only=True, \n",
    "        save_weights_only=False, \n",
    "        mode='auto', \n",
    "        period=1\n",
    "    )\n",
    "    \n",
    "    error = []\n",
    "    while True:\n",
    "        keras.backend.set_value(model.optimizer.lr, learning_rate)\n",
    "            \n",
    "        history = model.fit(\n",
    "            x = dataset.training[0],\n",
    "            y = dataset.training[1],\n",
    "            epochs=epochs,\n",
    "            shuffle=True,\n",
    "            validation_data=dataset.validation, \n",
    "            verbose=1, \n",
    "            callbacks=[\n",
    "                early_stopping, \n",
    "                reduce_lr,\n",
    "                checkpoint\n",
    "            ]\n",
    "        )\n",
    "\n",
    "        error.append(model.evaluate(\n",
    "            dataset.testing[0], \n",
    "            dataset.testing[1], \n",
    "            verbose=1\n",
    "        )[1])\n",
    "    \n",
    "    return error\n",
    "    "
   ]
  },
  {
   "cell_type": "markdown",
   "metadata": {},
   "source": [
    "# C  "
   ]
  },
  {
   "cell_type": "markdown",
   "metadata": {},
   "source": [
    "## Compute inputs "
   ]
  },
  {
   "cell_type": "code",
   "execution_count": 8,
   "metadata": {},
   "outputs": [],
   "source": [
    "name_C = \"model_C_\" + postfix + \".h5\"\n"
   ]
  },
  {
   "cell_type": "code",
   "execution_count": null,
   "metadata": {},
   "outputs": [],
   "source": [
    "\n",
    "\n",
    "dataset_C = make_center_block_dataset(\n",
    "    descriptor,\n",
    "    molecules,\n",
    "    (p_train, p_val, p_test),\n",
    "    \"C\"\n",
    ")"
   ]
  },
  {
   "cell_type": "code",
   "execution_count": null,
   "metadata": {},
   "outputs": [],
   "source": [
    "from SCFInitialGuess.utilities.constants import number_of_basis_functions as N_BASIS\n",
    "\n",
    "\n",
    "species = \"C\"\n",
    "\n",
    "dim_C = N_BASIS[basis][species]\n",
    "dim_C_triu = dim_C * (dim_C + 1) // 2\n"
   ]
  },
  {
   "cell_type": "code",
   "execution_count": null,
   "metadata": {},
   "outputs": [],
   "source": [
    "descriptor.number_of_descriptors, dim_C_triu"
   ]
  },
  {
   "cell_type": "code",
   "execution_count": null,
   "metadata": {},
   "outputs": [],
   "source": [
    "structure_C = [450, 350, 300]"
   ]
  },
  {
   "cell_type": "code",
   "execution_count": null,
   "metadata": {},
   "outputs": [],
   "source": [
    "keras.backend.clear_session()"
   ]
  },
  {
   "cell_type": "code",
   "execution_count": null,
   "metadata": {},
   "outputs": [],
   "source": [
    "model_C = make_model(\n",
    "    structure=structure_C,\n",
    "    input_dim=descriptor.number_of_descriptors,\n",
    "    output_dim=dim_C_triu\n",
    ")\n",
    "\n",
    "model_C.summary()"
   ]
  },
  {
   "cell_type": "code",
   "execution_count": null,
   "metadata": {},
   "outputs": [],
   "source": []
  },
  {
   "cell_type": "code",
   "execution_count": null,
   "metadata": {},
   "outputs": [],
   "source": [
    "\n",
    "train_model(\n",
    "    model_C, \n",
    "    dataset_C, \n",
    "    path + name_C,\n",
    "    learning_rate=1e-4\n",
    ")"
   ]
  },
  {
   "cell_type": "markdown",
   "metadata": {},
   "source": [
    "#  H"
   ]
  },
  {
   "cell_type": "code",
   "execution_count": 9,
   "metadata": {},
   "outputs": [],
   "source": [
    "name_H = \"model_H_\" + postfix + \".h5\""
   ]
  },
  {
   "cell_type": "code",
   "execution_count": null,
   "metadata": {},
   "outputs": [],
   "source": [
    "dataset_H = make_center_block_dataset(\n",
    "    descriptor,\n",
    "    molecules,\n",
    "    (p_train, p_val, p_test),\n",
    "    \"H\"\n",
    ")"
   ]
  },
  {
   "cell_type": "code",
   "execution_count": null,
   "metadata": {},
   "outputs": [],
   "source": [
    "species = \"H\"\n",
    "dim_H = N_BASIS[basis][species]\n",
    "dim_H_triu = dim_H * (dim_H + 1) // 2\n",
    "\n",
    "descriptor.number_of_descriptors, dim_H_triu"
   ]
  },
  {
   "cell_type": "code",
   "execution_count": null,
   "metadata": {},
   "outputs": [],
   "source": [
    "structure_H = [250, 100, 50]"
   ]
  },
  {
   "cell_type": "code",
   "execution_count": null,
   "metadata": {},
   "outputs": [],
   "source": [
    "model_H = make_model(\n",
    "    structure=structure_H,\n",
    "    input_dim=descriptor.number_of_descriptors,\n",
    "    output_dim=dim_H_triu\n",
    ")\n",
    "\n",
    "model_H.summary()"
   ]
  },
  {
   "cell_type": "code",
   "execution_count": null,
   "metadata": {},
   "outputs": [],
   "source": [
    "\n",
    "\n",
    "train_model(\n",
    "    model_H, \n",
    "    dataset_H,\n",
    "    path + name_H,\n",
    "    learning_rate=1e-3\n",
    ")"
   ]
  },
  {
   "cell_type": "markdown",
   "metadata": {},
   "source": [
    "# Test the Guess"
   ]
  },
  {
   "cell_type": "code",
   "execution_count": 10,
   "metadata": {},
   "outputs": [],
   "source": [
    "model_C = keras.models.load_model(path + name_C)\n",
    "model_H = keras.models.load_model(path + name_H)\n",
    "\n",
    "networks = {\n",
    "    \"C\": model_C,\n",
    "    \"H\": model_H\n",
    "}"
   ]
  },
  {
   "cell_type": "code",
   "execution_count": 23,
   "metadata": {},
   "outputs": [],
   "source": [
    "from SCFInitialGuess.utilities.dataset import reconstruct_from_triu\n",
    "from SCFInitialGuess.utilities.constants import number_of_basis_functions as N_BASIS\n",
    "from pyscf.scf.hf import init_guess_by_wolfsberg_helmholtz\n",
    "\n",
    "\n",
    "def init_guess_by_ann(mol, descriptor):\n",
    "    \n",
    "    p  = init_guess_by_wolfsberg_helmholtz(mol.get_pyscf_molecule()).copy() # TODO set up my own GWH in SCFInitialGuess\n",
    "    \n",
    "    for atom_index, atom in enumerate(mol.species):\n",
    "        \n",
    "        mask = mol.make_atom_mask(atom_index)\n",
    "        \n",
    "        \n",
    "        G = descriptor.calculate_atom_descriptor(\n",
    "            atom_index, \n",
    "            mol,\n",
    "            descriptor.number_of_descriptors\n",
    "        )\n",
    "        \n",
    "        #f(G)\n",
    "        f = networks[atom].predict(G.reshape(1, -1))\n",
    "        \n",
    "        f_batch = reconstruct_from_triu(\n",
    "            f,\n",
    "            N_BASIS[mol.basis][atom]\n",
    "        )\n",
    "        \n",
    "        p[mask] = f_batch.flatten()\n",
    "        \n",
    "    return p\n",
    "        \n",
    "    "
   ]
  },
  {
   "cell_type": "code",
   "execution_count": 25,
   "metadata": {},
   "outputs": [
    {
     "data": {
      "text/plain": [
       "<matplotlib.axes._subplots.AxesSubplot at 0x7fe9e33c5b38>"
      ]
     },
     "execution_count": 25,
     "metadata": {},
     "output_type": "execute_result"
    },
    {
     "data": {
      "image/png": "[encoded data removed]",
      "text/plain": [
       "<matplotlib.figure.Figure at 0x7fe9e33a8a20>"
      ]
     },
     "metadata": {},
     "output_type": "display_data"
    }
   ],
   "source": [
    "sns.heatmap(np.abs(init_guess_by_ann(molecules[2][0], descriptor) \\\n",
    "                   - init_guess_by_wolfsberg_helmholtz(molecules[2][0].get_pyscf_molecule())))"
   ]
  },
  {
   "cell_type": "code",
   "execution_count": 27,
   "metadata": {},
   "outputs": [],
   "source": [
    "p_nn = np.array([\n",
    "    init_guess_by_ann(mol, descriptor) for mol in molecules[2]\n",
    "])"
   ]
  },
  {
   "cell_type": "markdown",
   "metadata": {},
   "source": [
    "## Analysis "
   ]
  },
  {
   "cell_type": "code",
   "execution_count": 28,
   "metadata": {},
   "outputs": [],
   "source": [
    "from SCFInitialGuess.utilities.dataset import StaticDataset\n",
    "\n",
    "dataset = StaticDataset(\n",
    "    #train=(s_train, p_train),\n",
    "    train=(None, None),\n",
    "    validation=(None, None),\n",
    "    test=(s_test, p_test),\n",
    "    mu=0,\n",
    "    std=1\n",
    ")"
   ]
  },
  {
   "cell_type": "code",
   "execution_count": 30,
   "metadata": {},
   "outputs": [
    {
     "name": "stdout",
     "output_type": "stream",
     "text": [
      "[ ] 2018-11-12 22:47:00: Iteration calculation: 0\n",
      "[ ] 2018-11-12 22:47:01: Iteration calculation: 1\n",
      "[ ] 2018-11-12 22:47:02: Iteration calculation: 2\n",
      "[ ] 2018-11-12 22:47:02: Iteration calculation: 3\n",
      "[ ] 2018-11-12 22:47:03: Iteration calculation: 4\n",
      "[ ] 2018-11-12 22:47:04: Iteration calculation: 5\n",
      "[ ] 2018-11-12 22:47:05: Iteration calculation: 6\n",
      "[ ] 2018-11-12 22:47:05: Iteration calculation: 7\n",
      "[ ] 2018-11-12 22:47:06: Iteration calculation: 8\n",
      "[ ] 2018-11-12 22:47:06: Iteration calculation: 9\n",
      "[ ] 2018-11-12 22:47:07: Iteration calculation: 10\n",
      "[ ] 2018-11-12 22:47:07: Iteration calculation: 11\n",
      "[ ] 2018-11-12 22:47:08: Iteration calculation: 12\n",
      "[ ] 2018-11-12 22:47:08: Iteration calculation: 13\n",
      "[ ] 2018-11-12 22:47:09: Iteration calculation: 14\n",
      "[ ] 2018-11-12 22:47:10: Iteration calculation: 15\n",
      "[ ] 2018-11-12 22:47:10: Iteration calculation: 16\n",
      "[ ] 2018-11-12 22:47:11: Iteration calculation: 17\n",
      "[ ] 2018-11-12 22:47:11: Iteration calculation: 18\n",
      "[ ] 2018-11-12 22:47:12: Iteration calculation: 19\n",
      "[ ] 2018-11-12 22:47:13: Iteration calculation: 20\n",
      "[ ] 2018-11-12 22:47:13: Iteration calculation: 21\n",
      "[ ] 2018-11-12 22:47:14: Iteration calculation: 22\n",
      "[ ] 2018-11-12 22:47:14: Iteration calculation: 23\n",
      "[ ] 2018-11-12 22:47:15: Iteration calculation: 24\n",
      "[ ] 2018-11-12 22:47:15: Iteration calculation: 25\n",
      "[ ] 2018-11-12 22:47:16: Iteration calculation: 26\n",
      "[ ] 2018-11-12 22:47:17: Iteration calculation: 27\n",
      "[ ] 2018-11-12 22:47:17: Iteration calculation: 28\n",
      "[ ] 2018-11-12 22:47:18: Iteration calculation: 29\n",
      "[ ] 2018-11-12 22:47:19: Iteration calculation: 30\n",
      "[ ] 2018-11-12 22:47:19: Iteration calculation: 31\n",
      "[ ] 2018-11-12 22:47:20: Iteration calculation: 32\n",
      "[ ] 2018-11-12 22:47:21: Iteration calculation: 33\n",
      "[ ] 2018-11-12 22:47:21: Iteration calculation: 34\n",
      "[ ] 2018-11-12 22:47:22: Iteration calculation: 35\n",
      "[ ] 2018-11-12 22:47:22: Iteration calculation: 36\n",
      "[ ] 2018-11-12 22:47:23: Iteration calculation: 37\n",
      "[ ] 2018-11-12 22:47:24: Iteration calculation: 38\n",
      "[ ] 2018-11-12 22:47:24: Iteration calculation: 39\n",
      "[ ] 2018-11-12 22:47:25: Iteration calculation: 40\n",
      "[ ] 2018-11-12 22:47:25: Iteration calculation: 41\n",
      "[ ] 2018-11-12 22:47:26: Iteration calculation: 42\n",
      "[ ] 2018-11-12 22:47:26: Iteration calculation: 43\n",
      "[ ] 2018-11-12 22:47:27: Iteration calculation: 44\n",
      "[ ] 2018-11-12 22:47:28: Iteration calculation: 45\n",
      "[ ] 2018-11-12 22:47:28: Iteration calculation: 46\n",
      "[ ] 2018-11-12 22:47:29: Iteration calculation: 47\n",
      "[ ] 2018-11-12 22:47:29: Iteration calculation: 48\n",
      "[ ] 2018-11-12 22:47:30: Iteration calculation: 49\n",
      "[ ] 2018-11-12 22:47:30: Iteration calculation: 50\n",
      "[ ] 2018-11-12 22:47:31: Iteration calculation: 51\n",
      "[ ] 2018-11-12 22:47:31: Iteration calculation: 52\n",
      "[ ] 2018-11-12 22:47:33: Iteration calculation: 53\n",
      "[ ] 2018-11-12 22:47:33: Iteration calculation: 54\n",
      "[ ] 2018-11-12 22:47:34: Iteration calculation: 55\n",
      "[ ] 2018-11-12 22:47:34: Iteration calculation: 56\n",
      "[ ] 2018-11-12 22:47:35: Iteration calculation: 57\n",
      "[ ] 2018-11-12 22:47:35: Iteration calculation: 58\n",
      "[ ] 2018-11-12 22:47:36: Iteration calculation: 59\n",
      "[ ] 2018-11-12 22:47:36: Iteration calculation: 60\n",
      "[ ] 2018-11-12 22:47:37: Iteration calculation: 61\n",
      "[ ] 2018-11-12 22:47:37: Iteration calculation: 62\n",
      "[ ] 2018-11-12 22:47:38: Iteration calculation: 63\n",
      "[ ] 2018-11-12 22:47:38: Iteration calculation: 64\n",
      "[ ] 2018-11-12 22:47:40: Iteration calculation: 65\n",
      "[ ] 2018-11-12 22:47:40: Iteration calculation: 66\n",
      "[ ] 2018-11-12 22:47:42: Iteration calculation: 67\n",
      "[ ] 2018-11-12 22:47:42: Iteration calculation: 68\n",
      "[ ] 2018-11-12 22:47:43: Iteration calculation: 69\n",
      "[ ] 2018-11-12 22:47:43: Iteration calculation: 70\n",
      "[ ] 2018-11-12 22:47:44: Iteration calculation: 71\n",
      "[ ] 2018-11-12 22:47:45: Iteration calculation: 72\n",
      "[ ] 2018-11-12 22:47:45: Iteration calculation: 73\n",
      "[ ] 2018-11-12 22:47:46: Iteration calculation: 74\n",
      "[ ] 2018-11-12 22:47:47: Iteration calculation: 75\n",
      "[ ] 2018-11-12 22:47:48: Iteration calculation: 76\n",
      "[ ] 2018-11-12 22:47:48: Iteration calculation: 77\n",
      "[ ] 2018-11-12 22:47:49: Iteration calculation: 78\n",
      "[ ] 2018-11-12 22:47:50: Iteration calculation: 79\n",
      "[ ] 2018-11-12 22:47:50: Iteration calculation: 80\n",
      "[ ] 2018-11-12 22:47:51: Iteration calculation: 81\n",
      "[ ] 2018-11-12 22:47:51: Iteration calculation: 82\n",
      "[ ] 2018-11-12 22:47:52: Iteration calculation: 83\n",
      "[ ] 2018-11-12 22:47:53: Iteration calculation: 84\n",
      "[ ] 2018-11-12 22:47:54: Iteration calculation: 85\n",
      "[ ] 2018-11-12 22:47:55: Iteration calculation: 86\n",
      "[ ] 2018-11-12 22:47:55: Iteration calculation: 87\n",
      "[ ] 2018-11-12 22:47:56: Iteration calculation: 88\n",
      "[ ] 2018-11-12 22:47:56: Iteration calculation: 89\n",
      "[ ] 2018-11-12 22:47:57: Iteration calculation: 90\n",
      "[ ] 2018-11-12 22:47:57: Iteration calculation: 91\n",
      "[ ] 2018-11-12 22:47:58: Iteration calculation: 92\n",
      "[ ] 2018-11-12 22:47:58: Iteration calculation: 93\n",
      "[ ] 2018-11-12 22:47:59: Iteration calculation: 94\n",
      "[ ] 2018-11-12 22:48:00: Iteration calculation: 95\n",
      "[ ] 2018-11-12 22:48:00: Iteration calculation: 96\n",
      "[ ] 2018-11-12 22:48:01: Iteration calculation: 97\n",
      "[ ] 2018-11-12 22:48:01: Iteration calculation: 98\n",
      "[ ] 2018-11-12 22:48:02: Iteration calculation: 99\n",
      "[ ] 2018-11-12 22:48:02: Iteration calculation: 100\n",
      "[ ] 2018-11-12 22:48:03: Iteration calculation: 101\n",
      "[ ] 2018-11-12 22:48:04: Iteration calculation: 102\n",
      "[ ] 2018-11-12 22:48:05: Iteration calculation: 103\n",
      "[ ] 2018-11-12 22:48:05: Iteration calculation: 104\n",
      "[ ] 2018-11-12 22:48:06: Iteration calculation: 105\n",
      "[ ] 2018-11-12 22:48:07: Iteration calculation: 106\n",
      "[ ] 2018-11-12 22:48:07: Iteration calculation: 107\n",
      "[ ] 2018-11-12 22:48:08: Iteration calculation: 108\n",
      "[ ] 2018-11-12 22:48:08: Iteration calculation: 109\n",
      "[ ] 2018-11-12 22:48:09: Iteration calculation: 110\n",
      "[ ] 2018-11-12 22:48:10: Iteration calculation: 111\n",
      "[ ] 2018-11-12 22:48:10: Iteration calculation: 112\n",
      "[ ] 2018-11-12 22:48:11: Iteration calculation: 113\n",
      "[ ] 2018-11-12 22:48:11: Iteration calculation: 114\n",
      "[ ] 2018-11-12 22:48:12: Iteration calculation: 115\n",
      "[ ] 2018-11-12 22:48:13: Iteration calculation: 116\n",
      "[ ] 2018-11-12 22:48:14: Iteration calculation: 117\n",
      "[ ] 2018-11-12 22:48:15: Iteration calculation: 118\n",
      "[ ] 2018-11-12 22:48:15: Iteration calculation: 119\n",
      "[ ] 2018-11-12 22:48:16: Iteration calculation: 120\n",
      "[ ] 2018-11-12 22:48:17: Iteration calculation: 121\n",
      "[ ] 2018-11-12 22:48:17: Iteration calculation: 122\n",
      "[ ] 2018-11-12 22:48:18: Iteration calculation: 123\n",
      "[ ] 2018-11-12 22:48:19: Iteration calculation: 124\n",
      "[ ] 2018-11-12 22:48:19: Iteration calculation: 125\n",
      "[ ] 2018-11-12 22:48:20: Iteration calculation: 126\n",
      "[ ] 2018-11-12 22:48:20: Iteration calculation: 127\n",
      "[ ] 2018-11-12 22:48:21: Iteration calculation: 128\n",
      "[ ] 2018-11-12 22:48:22: Iteration calculation: 129\n",
      "[ ] 2018-11-12 22:48:23: Iteration calculation: 130\n",
      "[ ] 2018-11-12 22:48:24: Iteration calculation: 131\n",
      "[ ] 2018-11-12 22:48:25: Iteration calculation: 132\n",
      "[ ] 2018-11-12 22:48:26: Iteration calculation: 133\n",
      "[ ] 2018-11-12 22:48:27: Iteration calculation: 134\n",
      "[ ] 2018-11-12 22:48:27: Iteration calculation: 135\n",
      "[ ] 2018-11-12 22:48:28: Iteration calculation: 136\n",
      "[ ] 2018-11-12 22:48:28: Iteration calculation: 137\n",
      "[ ] 2018-11-12 22:48:29: Iteration calculation: 138\n",
      "[ ] 2018-11-12 22:48:30: Iteration calculation: 139\n",
      "[ ] 2018-11-12 22:48:31: Iteration calculation: 140\n",
      "[ ] 2018-11-12 22:48:32: Iteration calculation: 141\n",
      "[ ] 2018-11-12 22:48:33: Iteration calculation: 142\n",
      "[ ] 2018-11-12 22:48:33: Iteration calculation: 143\n",
      "[ ] 2018-11-12 22:48:34: Iteration calculation: 144\n",
      "[ ] 2018-11-12 22:48:34: Iteration calculation: 145\n",
      "[ ] 2018-11-12 22:48:35: Iteration calculation: 146\n",
      "[ ] 2018-11-12 22:48:35: Iteration calculation: 147\n",
      "[ ] 2018-11-12 22:48:36: Iteration calculation: 148\n",
      "[ ] 2018-11-12 22:48:37: Iteration calculation: 149\n",
      "[ ] 2018-11-12 22:48:37: Iteration calculation: 150\n",
      "[ ] 2018-11-12 22:48:38: Iteration calculation: 151\n",
      "[ ] 2018-11-12 22:48:38: Iteration calculation: 152\n",
      "[ ] 2018-11-12 22:48:39: Iteration calculation: 153\n",
      "[ ] 2018-11-12 22:48:39: Iteration calculation: 154\n",
      "[ ] 2018-11-12 22:48:40: Iteration calculation: 155\n",
      "[ ] 2018-11-12 22:48:41: Iteration calculation: 156\n",
      "[ ] 2018-11-12 22:48:42: Iteration calculation: 157\n",
      "[ ] 2018-11-12 22:48:42: Iteration calculation: 158\n",
      "[ ] 2018-11-12 22:48:43: Iteration calculation: 159\n"
     ]
    },
    {
     "name": "stdout",
     "output_type": "stream",
     "text": [
      "[ ] 2018-11-12 22:48:43: Iteration calculation: 160\n",
      "[ ] 2018-11-12 22:48:44: Iteration calculation: 161\n",
      "[ ] 2018-11-12 22:48:44: Iteration calculation: 162\n",
      "[ ] 2018-11-12 22:48:45: Iteration calculation: 163\n",
      "[ ] 2018-11-12 22:48:46: Iteration calculation: 164\n",
      "[ ] 2018-11-12 22:48:47: Iteration calculation: 165\n",
      "[ ] 2018-11-12 22:48:47: Iteration calculation: 166\n",
      "[ ] 2018-11-12 22:48:48: Iteration calculation: 167\n",
      "[ ] 2018-11-12 22:48:49: Iteration calculation: 168\n",
      "[ ] 2018-11-12 22:48:49: Iteration calculation: 169\n",
      "[ ] 2018-11-12 22:48:50: Iteration calculation: 170\n",
      "[ ] 2018-11-12 22:48:50: Iteration calculation: 171\n",
      "[ ] 2018-11-12 22:48:51: Iteration calculation: 172\n",
      "[ ] 2018-11-12 22:48:52: Iteration calculation: 173\n",
      "[ ] 2018-11-12 22:48:53: Iteration calculation: 174\n",
      "[ ] 2018-11-12 22:48:53: Iteration calculation: 175\n",
      "[ ] 2018-11-12 22:48:54: Iteration calculation: 176\n",
      "[ ] 2018-11-12 22:48:55: Iteration calculation: 177\n",
      "[ ] 2018-11-12 22:48:55: Iteration calculation: 178\n",
      "[ ] 2018-11-12 22:48:56: Iteration calculation: 179\n",
      "[ ] 2018-11-12 22:48:57: Iteration calculation: 180\n",
      "[ ] 2018-11-12 22:48:58: Iteration calculation: 181\n",
      "[ ] 2018-11-12 22:48:59: Iteration calculation: 182\n",
      "[ ] 2018-11-12 22:48:59: Iteration calculation: 183\n",
      "[ ] 2018-11-12 22:49:00: Iteration calculation: 184\n",
      "[ ] 2018-11-12 22:49:01: Iteration calculation: 185\n",
      "[ ] 2018-11-12 22:49:01: Iteration calculation: 186\n",
      "[ ] 2018-11-12 22:49:02: Iteration calculation: 187\n",
      "[ ] 2018-11-12 22:49:02: Iteration calculation: 188\n",
      "[ ] 2018-11-12 22:49:04: Iteration calculation: 189\n",
      "[ ] 2018-11-12 22:49:04: Iteration calculation: 190\n",
      "[ ] 2018-11-12 22:49:05: Iteration calculation: 191\n",
      "[ ] 2018-11-12 22:49:06: Iteration calculation: 192\n",
      "[ ] 2018-11-12 22:49:07: Iteration calculation: 193\n",
      "[ ] 2018-11-12 22:49:08: Iteration calculation: 194\n",
      "[ ] 2018-11-12 22:49:08: Iteration calculation: 195\n",
      "[ ] 2018-11-12 22:49:09: Iteration calculation: 196\n",
      "[ ] 2018-11-12 22:49:10: Iteration calculation: 197\n",
      "[ ] 2018-11-12 22:49:11: Iteration calculation: 198\n",
      "[ ] 2018-11-12 22:49:12: Iteration calculation: 199\n",
      "[ ] 2018-11-12 22:49:12: Iteration calculation: 200\n",
      "--- Absolute Error ---\n",
      "1.04782E-02 +- 7.25766E-03\n",
      "--- Symmetry Error ---\n",
      "0.00000E+00 +- 0.00000E+00\n",
      "--- Idempotence Error ---\n",
      "1.23834E-02 +- 1.67298E-03\n",
      "--- Occupance Error ---\n",
      "1.77350E+00 +- 6.09896E-01\n",
      "--- HF Energy Error ---\n",
      "2.46068E+00 +- 9.32892E-01\n",
      "--- Avg. Iterations ---\n",
      "3.45224E+01 +- 1.75406E+01\n",
      "--- Avg. Iterations W/O Non Converged ---\n",
      "3.25077E+01 +- 1.34597E+01\n",
      "--- Num. Not Convd. ---\n",
      "6\n",
      "\n"
     ]
    }
   ],
   "source": [
    "from SCFInitialGuess.utilities.analysis import \\\n",
    "    make_results_str, measure_all_quantities, mf_initializer\n",
    "\n",
    "\n",
    "print(make_results_str(measure_all_quantities(\n",
    "    p_nn,\n",
    "    dataset,\n",
    "    molecules[2],\n",
    "    n_electrons,\n",
    "    mf_initializer,\n",
    "    dim=dim,\n",
    "    is_triu=False,\n",
    "    is_dataset_triu=False,\n",
    "    s=S[ind:]\n",
    ")))"
   ]
  },
  {
   "cell_type": "code",
   "execution_count": null,
   "metadata": {},
   "outputs": [],
   "source": []
  }
 ],
 "metadata": {
  "kernelspec": {
   "display_name": "Python 3",
   "language": "python",
   "name": "python3"
  },
  "language_info": {
   "codemirror_mode": {
    "name": "ipython",
    "version": 3
   },
   "file_extension": ".py",
   "mimetype": "text/x-python",
   "name": "python",
   "nbconvert_exporter": "python",
   "pygments_lexer": "ipython3",
   "version": "3.6.4"
  }
 },
 "nbformat": 4,
 "nbformat_minor": 2
}
