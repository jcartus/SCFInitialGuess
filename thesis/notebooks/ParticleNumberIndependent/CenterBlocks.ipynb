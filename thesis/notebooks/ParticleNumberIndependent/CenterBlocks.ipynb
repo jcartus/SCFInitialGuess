{
 "cells": [
  {
   "cell_type": "code",
   "execution_count": 21,
   "metadata": {},
   "outputs": [],
   "source": [
    "import numpy as np\n",
    "import matplotlib.pyplot as plt\n",
    "import tensorflow as tf\n",
    "from tensorflow import keras\n",
    "import seaborn as sns\n",
    "\n",
    "plt.style.use([\"seaborn\", \"thesis\"])"
   ]
  },
  {
   "cell_type": "markdown",
   "metadata": {},
   "source": [
    "# Fetch Dataset "
   ]
  },
  {
   "cell_type": "code",
   "execution_count": 14,
   "metadata": {},
   "outputs": [],
   "source": [
    "from SCFInitialGuess.utilities.dataset import extract_triu_batch, AbstractDataset\n",
    "from sklearn.model_selection import train_test_split\n",
    "\n",
    "data_path = \"../../dataset/TSmall_sto3g\"\n",
    "postfix = \"TSmall_sto3g\"\n",
    "dim = 26\n",
    "#data_path = \"../butadien/data/\"\n",
    "#postfix = \"\"\n",
    "#dim = 26\n",
    "\n",
    "\n",
    "def split(x, y, ind):\n",
    "    return x[:ind], y[:ind], x[ind:], y[ind:]\n",
    "\n",
    "S = np.load(join(data_path, \"S\" + postfix + \".npy\"))\n",
    "P = np.load(join(data_path, \"P\" + postfix + \".npy\"))\n",
    "F = np.load(join(data_path, \"F\" + postfix + \".npy\"))\n",
    "\n",
    "index = np.load(join(data_path, \"index\" + postfix + \".npy\"))\n",
    "\n",
    "molecules = np.load(join(data_path, \"molecules\" + postfix + \".npy\"))\n",
    "\n",
    "\n",
    "ind = int(0.8 * len(index))\n",
    "\n",
    "molecules = (molecules[:ind], molecules[ind:])\n",
    "\n",
    "s_triu_norm, mu, std = AbstractDataset.normalize(S)\n",
    "\n",
    "\n",
    "s_train, p_train, s_test, p_test = split(s_triu_norm, P, ind)\n"
   ]
  },
  {
   "cell_type": "markdown",
   "metadata": {},
   "source": [
    "## Calculate Descriptors and extract center blocks "
   ]
  },
  {
   "cell_type": "code",
   "execution_count": 43,
   "metadata": {},
   "outputs": [],
   "source": [
    "from SCFInitialGuess.utilities.constants import number_of_basis_functions as N_BASIS\n",
    "from SCFInitialGuess.descriptors.coordinate_descriptors import NonWeighted, Gaussians\n",
    "from SCFInitialGuess.descriptors.coordinate_descriptors import \\\n",
    "    Gaussians, RADIAL_GAUSSIAN_MODELS, AZIMUTHAL_GAUSSIAN_MODELS, POLAR_GAUSSIAN_MODELS\n",
    "\n",
    "\n",
    "def make_mask(mol, species):\n",
    "\n",
    "    masks = []\n",
    "    current_dim = 0\n",
    "    for atom in mol.species:\n",
    "        # calculate block range\n",
    "        index_start = current_dim\n",
    "        current_dim += N_BASIS[mol.basis][atom] \n",
    "        index_end = current_dim\n",
    "\n",
    "        if atom == species:\n",
    "\n",
    "            # calculate logical vector\n",
    "            L = np.arange(dim)\n",
    "            L = np.logical_and(index_start <= L, L < index_end)\n",
    "\n",
    "            masks.append(np.logical_and.outer(L, L))\n",
    "            \n",
    "    \n",
    "    return masks\n",
    "\n",
    "\n",
    "\n",
    "\n",
    "def extract_dataset(molecules, p_batch, species):    \n",
    "    \n",
    "    # make mask to extract central blocks\n",
    "    masks = make_mask(molecules[0], species)\n",
    "    \n",
    "    descriptor = NonWeighted(\n",
    "        Gaussians(*RADIAL_GAUSSIAN_MODELS[\"Equidistant-Broadening_1\"]),\n",
    "        Gaussians(*AZIMUTHAL_GAUSSIAN_MODELS[\"Equisitant_1\"]),\n",
    "        Gaussians(*POLAR_GAUSSIAN_MODELS[\"Equisitant_1\"])\n",
    "    )\n",
    "    \n",
    "    descriptor_values, blocks = [], []\n",
    "    for p, mol in zip(p_batch, molecules):\n",
    "        for mask in masks:\n",
    "            blocks.append(p.copy()[mask])\n",
    "        \n",
    "        for i, atom in enumerate(mol.species):\n",
    "            if atom == species:\n",
    "                descriptor_values.append(\n",
    "                    descriptor.calculate_atom_descriptor(\n",
    "                        i, \n",
    "                        mol,\n",
    "                        descriptor.number_of_descriptors\n",
    "                    )\n",
    "                )\n",
    "            \n",
    "    return descriptor_values, blocks"
   ]
  },
  {
   "cell_type": "code",
   "execution_count": 44,
   "metadata": {},
   "outputs": [],
   "source": [
    "inputs_test, outputs_test = extract_dataset(\n",
    "    molecules[1], \n",
    "    p_test.reshape(-1, dim, dim),\n",
    "    \"C\"\n",
    ")\n",
    "\n",
    "inputs_train, outputs_train = extract_dataset(\n",
    "    molecules[1], \n",
    "    p_test.reshape(-1, dim, dim),\n",
    "    \"C\"\n",
    ")"
   ]
  },
  {
   "cell_type": "code",
   "execution_count": 41,
   "metadata": {},
   "outputs": [
    {
     "name": "stdout",
     "output_type": "stream",
     "text": [
      "(804, 18)\n",
      "804\n"
     ]
    }
   ],
   "source": [
    " "
   ]
  },
  {
   "cell_type": "code",
   "execution_count": null,
   "metadata": {},
   "outputs": [],
   "source": []
  }
 ],
 "metadata": {
  "kernelspec": {
   "display_name": "Python 3",
   "language": "python",
   "name": "python3"
  },
  "language_info": {
   "codemirror_mode": {
    "name": "ipython",
    "version": 3
   },
   "file_extension": ".py",
   "mimetype": "text/x-python",
   "name": "python",
   "nbconvert_exporter": "python",
   "pygments_lexer": "ipython3",
   "version": "3.6.4"
  }
 },
 "nbformat": 4,
 "nbformat_minor": 2
}
