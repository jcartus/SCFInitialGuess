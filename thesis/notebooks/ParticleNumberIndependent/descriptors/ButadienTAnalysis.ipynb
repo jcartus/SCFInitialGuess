{
 "cells": [
  {
   "cell_type": "code",
   "execution_count": 1,
   "metadata": {},
   "outputs": [
    {
     "name": "stderr",
     "output_type": "stream",
     "text": [
      "/home/jo/anaconda3/lib/python3.6/site-packages/h5py/__init__.py:36: FutureWarning: Conversion of the second argument of issubdtype from `float` to `np.floating` is deprecated. In future, it will be treated as `np.float64 == np.dtype(float).type`.\n",
      "  from ._conv import register_converters as _register_converters\n"
     ]
    }
   ],
   "source": [
    "import numpy as np\n",
    "import matplotlib.pyplot as plt\n",
    "import tensorflow as tf\n",
    "from tensorflow import keras\n",
    "import seaborn as sns\n",
    "\n",
    "from os.path import join\n",
    "\n",
    "plt.style.use([\"seaborn\", \"thesis\"])"
   ]
  },
  {
   "cell_type": "code",
   "execution_count": 2,
   "metadata": {},
   "outputs": [],
   "source": [
    "plt.rc(\"figure\", figsize=(8,4))"
   ]
  },
  {
   "cell_type": "markdown",
   "metadata": {},
   "source": [
    "# Dataset"
   ]
  },
  {
   "cell_type": "code",
   "execution_count": 3,
   "metadata": {},
   "outputs": [],
   "source": [
    "from SCFInitialGuess.utilities.dataset import extract_triu_batch, AbstractDataset\n",
    "from sklearn.model_selection import train_test_split\n",
    "\n",
    "# fetch dataset\n",
    "data_path = \"../../../dataset/TSmall_sto3g/\"\n",
    "postfix = \"TSmall_sto3g\"\n",
    "dim = 26\n",
    "N_ELECTRONS = 30\n",
    "#data_path = \"../butadien/data/\"\n",
    "#postfix = \"\"\n",
    "#dim = 26\n",
    "\n",
    "\n",
    "def split(x, y, ind):\n",
    "    return x[:ind], y[:ind], x[ind:], y[ind:]\n",
    "\n",
    "S = np.load(join(data_path, \"S\" + postfix + \".npy\"))\n",
    "P = np.load(join(data_path, \"P\" + postfix + \".npy\"))\n",
    "#F = np.load(join(data_path, \"F\" + postfix + \".npy\"))\n",
    "\n",
    "molecules = np.load(join(data_path, \"molecules\" + postfix + \".npy\"))\n",
    "\n",
    "\n",
    "\n",
    "ind = int(0.8 * len(molecules))\n",
    "molecules = (molecules[:ind], molecules[ind:])\n",
    "\n",
    "s_triu = extract_triu_batch(S, dim)\n",
    "p_triu = extract_triu_batch(P, dim)\n",
    "\n",
    "s_train, p_train, s_test, p_test = split(s_triu, p_triu, ind)"
   ]
  },
  {
   "cell_type": "markdown",
   "metadata": {},
   "source": [
    "# Fetching Descriptor "
   ]
  },
  {
   "cell_type": "code",
   "execution_count": 4,
   "metadata": {},
   "outputs": [],
   "source": [
    "import pickle\n",
    "\n",
    "descriptor = pickle.load(open(\"../../../models/ButadienTDescriptor/descriptor.dump\", \"rb\"))"
   ]
  },
  {
   "cell_type": "code",
   "execution_count": 22,
   "metadata": {},
   "outputs": [],
   "source": [
    "mu, std = np.load(\"../../../models/ButadienTDescriptor/normalisation.npy\")"
   ]
  },
  {
   "cell_type": "code",
   "execution_count": 20,
   "metadata": {},
   "outputs": [],
   "source": [
    "from SCFInitialGuess.utilities.dataset import StaticDataset\n",
    "\n",
    "dataset = StaticDataset(\n",
    "    train=(s_train, p_train),\n",
    "    validation=(None, None),\n",
    "    test=(s_test, p_test),\n",
    "    mu=0,\n",
    "    std=1\n",
    ")"
   ]
  },
  {
   "cell_type": "code",
   "execution_count": 7,
   "metadata": {},
   "outputs": [
    {
     "name": "stdout",
     "output_type": "stream",
     "text": [
      "_________________________________________________________________\n",
      "Layer (type)                 Output Shape              Param #   \n",
      "=================================================================\n",
      "dense (Dense)                (None, 700)               1386700   \n",
      "_________________________________________________________________\n",
      "dense_1 (Dense)              (None, 500)               350500    \n",
      "_________________________________________________________________\n",
      "dense_2 (Dense)              (None, 400)               200400    \n",
      "_________________________________________________________________\n",
      "dense_3 (Dense)              (None, 351)               140751    \n",
      "=================================================================\n",
      "Total params: 2,078,351\n",
      "Trainable params: 2,078,351\n",
      "Non-trainable params: 0\n",
      "_________________________________________________________________\n"
     ]
    }
   ],
   "source": [
    "filepath = \"../../../models/ButadienTDescriptor/model_descriptos_\" + postfix + \".h5\"\n",
    "model = keras.models.load_model(filepath)\n",
    "model.summary()"
   ]
  },
  {
   "cell_type": "markdown",
   "metadata": {},
   "source": [
    "# Make Guess "
   ]
  },
  {
   "cell_type": "code",
   "execution_count": 8,
   "metadata": {},
   "outputs": [
    {
     "data": {
      "text/plain": [
       "(201, 1980)"
      ]
     },
     "execution_count": 8,
     "metadata": {},
     "output_type": "execute_result"
    }
   ],
   "source": [
    "from SCFInitialGuess.utilities.dataset import AbstractDataset\n",
    "\n",
    "G = []\n",
    "for mol in molecules[1]:\n",
    "    G.append(\n",
    "        descriptor.calculate_all_descriptors(mol).flatten()\n",
    "    )\n",
    "\n",
    "G = np.asarray(G)\n",
    "G_norm = AbstractDataset.normalize(G, mean=mu, std=std)[0]\n",
    "G_norm.shape"
   ]
  },
  {
   "cell_type": "code",
   "execution_count": 9,
   "metadata": {},
   "outputs": [
    {
     "data": {
      "text/plain": [
       "(201, 351)"
      ]
     },
     "execution_count": 9,
     "metadata": {},
     "output_type": "execute_result"
    }
   ],
   "source": [
    "p_nn = model.predict(G_norm)\n",
    "p_nn.shape"
   ]
  },
  {
   "cell_type": "markdown",
   "metadata": {},
   "source": [
    "# Ananlysis "
   ]
  },
  {
   "cell_type": "code",
   "execution_count": 16,
   "metadata": {},
   "outputs": [
    {
     "data": {
      "text/plain": [
       "70551.0"
      ]
     },
     "execution_count": 16,
     "metadata": {},
     "output_type": "execute_result"
    }
   ],
   "source": [
    "from SCFInitialGuess.utilities.usermessages import Messenger as msg\n",
    "msg.print_level = 0"
   ]
  },
  {
   "cell_type": "code",
   "execution_count": 21,
   "metadata": {},
   "outputs": [
    {
     "name": "stdout",
     "output_type": "stream",
     "text": [
      "[ ] 2018-12-10 01:06:41: Iteration calculation: 0\n",
      "[ ] 2018-12-10 01:06:41: Iteration calculation: 1\n",
      "[ ] 2018-12-10 01:06:41: Iteration calculation: 2\n",
      "[ ] 2018-12-10 01:06:42: Iteration calculation: 3\n",
      "[ ] 2018-12-10 01:06:42: Iteration calculation: 4\n",
      "[ ] 2018-12-10 01:06:43: Iteration calculation: 5\n",
      "[ ] 2018-12-10 01:06:43: Iteration calculation: 6\n",
      "[ ] 2018-12-10 01:06:43: Iteration calculation: 7\n",
      "[ ] 2018-12-10 01:06:44: Iteration calculation: 8\n",
      "[ ] 2018-12-10 01:06:44: Iteration calculation: 9\n",
      "[ ] 2018-12-10 01:06:44: Iteration calculation: 10\n",
      "[ ] 2018-12-10 01:06:45: Iteration calculation: 11\n",
      "[ ] 2018-12-10 01:06:45: Iteration calculation: 12\n",
      "[ ] 2018-12-10 01:06:45: Iteration calculation: 13\n",
      "[ ] 2018-12-10 01:06:46: Iteration calculation: 14\n",
      "[ ] 2018-12-10 01:06:46: Iteration calculation: 15\n",
      "[ ] 2018-12-10 01:06:47: Iteration calculation: 16\n",
      "[ ] 2018-12-10 01:06:47: Iteration calculation: 17\n",
      "[ ] 2018-12-10 01:06:47: Iteration calculation: 18\n",
      "[ ] 2018-12-10 01:06:48: Iteration calculation: 19\n",
      "[ ] 2018-12-10 01:06:48: Iteration calculation: 20\n",
      "[ ] 2018-12-10 01:06:49: Iteration calculation: 21\n",
      "[ ] 2018-12-10 01:06:49: Iteration calculation: 22\n",
      "[ ] 2018-12-10 01:06:49: Iteration calculation: 23\n",
      "[ ] 2018-12-10 01:06:50: Iteration calculation: 24\n",
      "[ ] 2018-12-10 01:06:50: Iteration calculation: 25\n",
      "[ ] 2018-12-10 01:06:51: Iteration calculation: 26\n",
      "[ ] 2018-12-10 01:06:51: Iteration calculation: 27\n",
      "[ ] 2018-12-10 01:06:52: Iteration calculation: 28\n",
      "[ ] 2018-12-10 01:06:52: Iteration calculation: 29\n",
      "[ ] 2018-12-10 01:06:52: Iteration calculation: 30\n",
      "[ ] 2018-12-10 01:06:53: Iteration calculation: 31\n",
      "[ ] 2018-12-10 01:06:53: Iteration calculation: 32\n",
      "[ ] 2018-12-10 01:06:53: Iteration calculation: 33\n",
      "[ ] 2018-12-10 01:06:54: Iteration calculation: 34\n",
      "[ ] 2018-12-10 01:06:54: Iteration calculation: 35\n",
      "[ ] 2018-12-10 01:06:54: Iteration calculation: 36\n",
      "[ ] 2018-12-10 01:06:55: Iteration calculation: 37\n",
      "[ ] 2018-12-10 01:06:55: Iteration calculation: 38\n",
      "[ ] 2018-12-10 01:06:56: Iteration calculation: 39\n",
      "[ ] 2018-12-10 01:06:56: Iteration calculation: 40\n",
      "[ ] 2018-12-10 01:06:56: Iteration calculation: 41\n",
      "[ ] 2018-12-10 01:06:57: Iteration calculation: 42\n",
      "[ ] 2018-12-10 01:06:57: Iteration calculation: 43\n",
      "[ ] 2018-12-10 01:06:58: Iteration calculation: 44\n",
      "[ ] 2018-12-10 01:06:58: Iteration calculation: 45\n",
      "[ ] 2018-12-10 01:06:58: Iteration calculation: 46\n",
      "[ ] 2018-12-10 01:06:59: Iteration calculation: 47\n",
      "[ ] 2018-12-10 01:06:59: Iteration calculation: 48\n",
      "[ ] 2018-12-10 01:07:00: Iteration calculation: 49\n",
      "[ ] 2018-12-10 01:07:00: Iteration calculation: 50\n",
      "[ ] 2018-12-10 01:07:00: Iteration calculation: 51\n",
      "[ ] 2018-12-10 01:07:01: Iteration calculation: 52\n",
      "[ ] 2018-12-10 01:07:01: Iteration calculation: 53\n",
      "[ ] 2018-12-10 01:07:02: Iteration calculation: 54\n",
      "[ ] 2018-12-10 01:07:02: Iteration calculation: 55\n",
      "[ ] 2018-12-10 01:07:02: Iteration calculation: 56\n",
      "[ ] 2018-12-10 01:07:03: Iteration calculation: 57\n",
      "[ ] 2018-12-10 01:07:03: Iteration calculation: 58\n",
      "[ ] 2018-12-10 01:07:04: Iteration calculation: 59\n",
      "[ ] 2018-12-10 01:07:04: Iteration calculation: 60\n",
      "[ ] 2018-12-10 01:07:05: Iteration calculation: 61\n",
      "[ ] 2018-12-10 01:07:05: Iteration calculation: 62\n",
      "[ ] 2018-12-10 01:07:06: Iteration calculation: 63\n",
      "[ ] 2018-12-10 01:07:07: Iteration calculation: 64\n",
      "[ ] 2018-12-10 01:07:07: Iteration calculation: 65\n",
      "[ ] 2018-12-10 01:07:07: Iteration calculation: 66\n",
      "[ ] 2018-12-10 01:07:08: Iteration calculation: 67\n",
      "[ ] 2018-12-10 01:07:08: Iteration calculation: 68\n",
      "[ ] 2018-12-10 01:07:09: Iteration calculation: 69\n",
      "[ ] 2018-12-10 01:07:09: Iteration calculation: 70\n",
      "[ ] 2018-12-10 01:07:09: Iteration calculation: 71\n",
      "[ ] 2018-12-10 01:07:10: Iteration calculation: 72\n",
      "[ ] 2018-12-10 01:07:10: Iteration calculation: 73\n",
      "[ ] 2018-12-10 01:07:11: Iteration calculation: 74\n",
      "[ ] 2018-12-10 01:07:11: Iteration calculation: 75\n",
      "[ ] 2018-12-10 01:07:11: Iteration calculation: 76\n",
      "[ ] 2018-12-10 01:07:12: Iteration calculation: 77\n",
      "[ ] 2018-12-10 01:07:12: Iteration calculation: 78\n",
      "[ ] 2018-12-10 01:07:13: Iteration calculation: 79\n",
      "[ ] 2018-12-10 01:07:13: Iteration calculation: 80\n",
      "[ ] 2018-12-10 01:07:13: Iteration calculation: 81\n",
      "[ ] 2018-12-10 01:07:14: Iteration calculation: 82\n",
      "[ ] 2018-12-10 01:07:14: Iteration calculation: 83\n",
      "[ ] 2018-12-10 01:07:14: Iteration calculation: 84\n",
      "[ ] 2018-12-10 01:07:15: Iteration calculation: 85\n",
      "[ ] 2018-12-10 01:07:15: Iteration calculation: 86\n",
      "[ ] 2018-12-10 01:07:16: Iteration calculation: 87\n",
      "[ ] 2018-12-10 01:07:16: Iteration calculation: 88\n",
      "[ ] 2018-12-10 01:07:17: Iteration calculation: 89\n",
      "[ ] 2018-12-10 01:07:17: Iteration calculation: 90\n",
      "[ ] 2018-12-10 01:07:17: Iteration calculation: 91\n",
      "[ ] 2018-12-10 01:07:18: Iteration calculation: 92\n",
      "[ ] 2018-12-10 01:07:18: Iteration calculation: 93\n",
      "[ ] 2018-12-10 01:07:18: Iteration calculation: 94\n",
      "[ ] 2018-12-10 01:07:19: Iteration calculation: 95\n",
      "[ ] 2018-12-10 01:07:19: Iteration calculation: 96\n",
      "[ ] 2018-12-10 01:07:20: Iteration calculation: 97\n",
      "[ ] 2018-12-10 01:07:20: Iteration calculation: 98\n",
      "[ ] 2018-12-10 01:07:21: Iteration calculation: 99\n",
      "[ ] 2018-12-10 01:07:22: Iteration calculation: 100\n",
      "[ ] 2018-12-10 01:07:23: Iteration calculation: 101\n",
      "[ ] 2018-12-10 01:07:23: Iteration calculation: 102\n",
      "[ ] 2018-12-10 01:07:24: Iteration calculation: 103\n",
      "[ ] 2018-12-10 01:07:25: Iteration calculation: 104\n",
      "[ ] 2018-12-10 01:07:26: Iteration calculation: 105\n",
      "[ ] 2018-12-10 01:07:27: Iteration calculation: 106\n",
      "[ ] 2018-12-10 01:07:28: Iteration calculation: 107\n",
      "[ ] 2018-12-10 01:07:28: Iteration calculation: 108\n",
      "[ ] 2018-12-10 01:07:28: Iteration calculation: 109\n",
      "[ ] 2018-12-10 01:07:29: Iteration calculation: 110\n",
      "[ ] 2018-12-10 01:07:30: Iteration calculation: 111\n",
      "[ ] 2018-12-10 01:07:30: Iteration calculation: 112\n",
      "[ ] 2018-12-10 01:07:30: Iteration calculation: 113\n",
      "[ ] 2018-12-10 01:07:31: Iteration calculation: 114\n",
      "[ ] 2018-12-10 01:07:31: Iteration calculation: 115\n",
      "[ ] 2018-12-10 01:07:32: Iteration calculation: 116\n",
      "[ ] 2018-12-10 01:07:32: Iteration calculation: 117\n",
      "[ ] 2018-12-10 01:07:33: Iteration calculation: 118\n",
      "[ ] 2018-12-10 01:07:33: Iteration calculation: 119\n",
      "[ ] 2018-12-10 01:07:33: Iteration calculation: 120\n",
      "[ ] 2018-12-10 01:07:34: Iteration calculation: 121\n",
      "[ ] 2018-12-10 01:07:34: Iteration calculation: 122\n",
      "[ ] 2018-12-10 01:07:35: Iteration calculation: 123\n",
      "[ ] 2018-12-10 01:07:35: Iteration calculation: 124\n",
      "[ ] 2018-12-10 01:07:36: Iteration calculation: 125\n",
      "[ ] 2018-12-10 01:07:36: Iteration calculation: 126\n",
      "[ ] 2018-12-10 01:07:37: Iteration calculation: 127\n",
      "[ ] 2018-12-10 01:07:37: Iteration calculation: 128\n",
      "[ ] 2018-12-10 01:07:38: Iteration calculation: 129\n",
      "[ ] 2018-12-10 01:07:38: Iteration calculation: 130\n",
      "[ ] 2018-12-10 01:07:38: Iteration calculation: 131\n",
      "[ ] 2018-12-10 01:07:39: Iteration calculation: 132\n",
      "[ ] 2018-12-10 01:07:39: Iteration calculation: 133\n",
      "[ ] 2018-12-10 01:07:40: Iteration calculation: 134\n",
      "[ ] 2018-12-10 01:07:40: Iteration calculation: 135\n",
      "[ ] 2018-12-10 01:07:40: Iteration calculation: 136\n",
      "[ ] 2018-12-10 01:07:41: Iteration calculation: 137\n",
      "[ ] 2018-12-10 01:07:41: Iteration calculation: 138\n",
      "[ ] 2018-12-10 01:07:42: Iteration calculation: 139\n",
      "[ ] 2018-12-10 01:07:42: Iteration calculation: 140\n",
      "[ ] 2018-12-10 01:07:42: Iteration calculation: 141\n",
      "[ ] 2018-12-10 01:07:43: Iteration calculation: 142\n",
      "[ ] 2018-12-10 01:07:43: Iteration calculation: 143\n",
      "[ ] 2018-12-10 01:07:43: Iteration calculation: 144\n",
      "[ ] 2018-12-10 01:07:44: Iteration calculation: 145\n",
      "[ ] 2018-12-10 01:07:44: Iteration calculation: 146\n",
      "[ ] 2018-12-10 01:07:45: Iteration calculation: 147\n",
      "[ ] 2018-12-10 01:07:45: Iteration calculation: 148\n",
      "[ ] 2018-12-10 01:07:46: Iteration calculation: 149\n",
      "[ ] 2018-12-10 01:07:46: Iteration calculation: 150\n",
      "[ ] 2018-12-10 01:07:46: Iteration calculation: 151\n",
      "[ ] 2018-12-10 01:07:47: Iteration calculation: 152\n",
      "[ ] 2018-12-10 01:07:47: Iteration calculation: 153\n",
      "[ ] 2018-12-10 01:07:48: Iteration calculation: 154\n",
      "[ ] 2018-12-10 01:07:48: Iteration calculation: 155\n",
      "[ ] 2018-12-10 01:07:49: Iteration calculation: 156\n",
      "[ ] 2018-12-10 01:07:49: Iteration calculation: 157\n",
      "[ ] 2018-12-10 01:07:50: Iteration calculation: 158\n",
      "[ ] 2018-12-10 01:07:51: Iteration calculation: 159\n"
     ]
    },
    {
     "name": "stdout",
     "output_type": "stream",
     "text": [
      "[ ] 2018-12-10 01:07:51: Iteration calculation: 160\n",
      "[ ] 2018-12-10 01:07:52: Iteration calculation: 161\n",
      "[ ] 2018-12-10 01:07:52: Iteration calculation: 162\n",
      "[ ] 2018-12-10 01:07:53: Iteration calculation: 163\n",
      "[ ] 2018-12-10 01:07:53: Iteration calculation: 164\n",
      "[ ] 2018-12-10 01:07:54: Iteration calculation: 165\n",
      "[ ] 2018-12-10 01:07:54: Iteration calculation: 166\n",
      "[ ] 2018-12-10 01:07:55: Iteration calculation: 167\n",
      "[ ] 2018-12-10 01:07:55: Iteration calculation: 168\n",
      "[ ] 2018-12-10 01:07:56: Iteration calculation: 169\n",
      "[ ] 2018-12-10 01:07:56: Iteration calculation: 170\n",
      "[ ] 2018-12-10 01:07:56: Iteration calculation: 171\n",
      "[ ] 2018-12-10 01:07:57: Iteration calculation: 172\n",
      "[ ] 2018-12-10 01:07:57: Iteration calculation: 173\n",
      "[ ] 2018-12-10 01:07:58: Iteration calculation: 174\n",
      "[ ] 2018-12-10 01:07:58: Iteration calculation: 175\n",
      "[ ] 2018-12-10 01:07:59: Iteration calculation: 176\n",
      "[ ] 2018-12-10 01:07:59: Iteration calculation: 177\n",
      "[ ] 2018-12-10 01:07:59: Iteration calculation: 178\n",
      "[ ] 2018-12-10 01:08:00: Iteration calculation: 179\n",
      "[ ] 2018-12-10 01:08:00: Iteration calculation: 180\n",
      "[ ] 2018-12-10 01:08:00: Iteration calculation: 181\n",
      "[ ] 2018-12-10 01:08:01: Iteration calculation: 182\n",
      "[ ] 2018-12-10 01:08:01: Iteration calculation: 183\n",
      "[ ] 2018-12-10 01:08:02: Iteration calculation: 184\n",
      "[ ] 2018-12-10 01:08:02: Iteration calculation: 185\n",
      "[ ] 2018-12-10 01:08:02: Iteration calculation: 186\n",
      "[ ] 2018-12-10 01:08:03: Iteration calculation: 187\n",
      "[ ] 2018-12-10 01:08:03: Iteration calculation: 188\n",
      "[ ] 2018-12-10 01:08:04: Iteration calculation: 189\n",
      "[ ] 2018-12-10 01:08:04: Iteration calculation: 190\n",
      "[ ] 2018-12-10 01:08:04: Iteration calculation: 191\n",
      "[ ] 2018-12-10 01:08:05: Iteration calculation: 192\n",
      "[ ] 2018-12-10 01:08:05: Iteration calculation: 193\n",
      "[ ] 2018-12-10 01:08:06: Iteration calculation: 194\n",
      "[ ] 2018-12-10 01:08:06: Iteration calculation: 195\n",
      "[ ] 2018-12-10 01:08:07: Iteration calculation: 196\n",
      "[ ] 2018-12-10 01:08:07: Iteration calculation: 197\n",
      "[ ] 2018-12-10 01:08:07: Iteration calculation: 198\n",
      "[ ] 2018-12-10 01:08:08: Iteration calculation: 199\n",
      "[ ] 2018-12-10 01:08:08: Iteration calculation: 200\n",
      "--- Absolute Error ---\n",
      "4.47887E+01 +- 1.06333E+02\n",
      "--- Symmetry Error ---\n",
      "0.00000E+00 +- 0.00000E+00\n",
      "--- Idempotence Error ---\n",
      "1.73476E+05 +- 8.62134E+05\n",
      "--- Occupance Error ---\n",
      "6.78853E+03 +- 1.59089E+04\n",
      "--- HF Energy Error ---\n",
      "5.05961E+07 +- 2.50884E+08\n",
      "--- Avg. Iterations ---\n",
      "9.51294E+01 +- 1.85749E+01\n",
      "--- Avg. Iterations W/O Non Converged ---\n",
      "2.46923E+01 +- 5.49664E+00\n",
      "--- Num. Not Convd. ---\n",
      "188\n",
      "\n"
     ]
    }
   ],
   "source": [
    "from SCFInitialGuess.utilities.analysis import mf_initializer as mf_initializer\n",
    "from SCFInitialGuess.utilities.analysis import make_results_str, measure_all_quantities\n",
    "\n",
    "print(make_results_str(measure_all_quantities(\n",
    "    p_nn,\n",
    "    dataset,\n",
    "    molecules[1],\n",
    "    N_ELECTRONS,\n",
    "    mf_initializer,\n",
    "    dim,\n",
    "    is_triu=True,\n",
    "    is_dataset_triu=True\n",
    ")))"
   ]
  },
  {
   "cell_type": "markdown",
   "metadata": {},
   "source": [
    "## Damping and DIIS "
   ]
  },
  {
   "cell_type": "code",
   "execution_count": null,
   "metadata": {},
   "outputs": [],
   "source": [
    "def format_results(result):\n",
    "    if isinstance(result, list):\n",
    "        out = list(map(\n",
    "            lambda x: \"{:0.5E} +- {:0.5E}\".format(*x),\n",
    "            result\n",
    "        ))\n",
    "        out = \"\\n\".join(out)\n",
    "    else:\n",
    "        out =  \"{:0.5E} +- {:0.5E}\".format(*result)\n",
    "    return out"
   ]
  },
  {
   "cell_type": "code",
   "execution_count": null,
   "metadata": {},
   "outputs": [],
   "source": [
    "from SCFInitialGuess.utilities.analysis import mf_initializer_damping, measure_iterations, statistics\n",
    "from SCFInitialGuess.utilities.dataset import make_matrix_batch\n",
    "\n",
    "print(\"--- Iterations Damped ---\\n\" + \\\n",
    "format_results(statistics(list(measure_iterations(\n",
    "    mf_initializer_damping,\n",
    "    make_matrix_batch(p_nn, dim, is_triu=True).astype('float64'),\n",
    "    molecules[ind:]\n",
    ")))))"
   ]
  },
  {
   "cell_type": "code",
   "execution_count": null,
   "metadata": {},
   "outputs": [],
   "source": [
    "from SCFInitialGuess.utilities.analysis import mf_initializer_diis, measure_iterations, statistics\n",
    "from SCFInitialGuess.utilities.dataset import make_matrix_batch\n",
    "\n",
    "print(\"--- Iterations Damped ---\\n\" + \\\n",
    "format_results(statistics(list(measure_iterations(\n",
    "    mf_initializer_diis,\n",
    "    make_matrix_batch(p_nn, dim, is_triu=True).astype('float64'),\n",
    "    molecules[ind:]\n",
    ")))))"
   ]
  }
 ],
 "metadata": {
  "kernelspec": {
   "display_name": "Python 3",
   "language": "python",
   "name": "python3"
  },
  "language_info": {
   "codemirror_mode": {
    "name": "ipython",
    "version": 3
   },
   "file_extension": ".py",
   "mimetype": "text/x-python",
   "name": "python",
   "nbconvert_exporter": "python",
   "pygments_lexer": "ipython3",
   "version": "3.6.4"
  }
 },
 "nbformat": 4,
 "nbformat_minor": 2
}
