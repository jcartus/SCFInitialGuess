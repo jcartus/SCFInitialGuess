{
 "cells": [
  {
   "cell_type": "code",
   "execution_count": 1,
   "metadata": {},
   "outputs": [
    {
     "name": "stderr",
     "output_type": "stream",
     "text": [
      "/home/jcartus/anaconda3/lib/python3.6/site-packages/h5py/__init__.py:36: FutureWarning: Conversion of the second argument of issubdtype from `float` to `np.floating` is deprecated. In future, it will be treated as `np.float64 == np.dtype(float).type`.\n",
      "  from ._conv import register_converters as _register_converters\n"
     ]
    }
   ],
   "source": [
    "import numpy as np\n",
    "import matplotlib.pyplot as plt\n",
    "import tensorflow as tf\n",
    "from tensorflow import keras\n",
    "import seaborn as sns\n",
    "\n",
    "from os.path import join\n",
    "\n",
    "plt.style.use([\"seaborn\", \"thesis\"])"
   ]
  },
  {
   "cell_type": "code",
   "execution_count": 2,
   "metadata": {},
   "outputs": [],
   "source": [
    "plt.rc(\"figure\", figsize=(8,4))"
   ]
  },
  {
   "cell_type": "markdown",
   "metadata": {},
   "source": [
    "# Dataset"
   ]
  },
  {
   "cell_type": "code",
   "execution_count": 3,
   "metadata": {},
   "outputs": [],
   "source": [
    "from SCFInitialGuess.utilities.dataset import extract_triu_batch, AbstractDataset\n",
    "from sklearn.model_selection import train_test_split\n",
    "\n",
    "# fetch dataset\n",
    "data_path = \"../../../dataset/TSmall_sto3g/\"\n",
    "postfix = \"TSmall_sto3g\"\n",
    "dim = 26\n",
    "N_ELECTRONS = 30\n",
    "#data_path = \"../butadien/data/\"\n",
    "#postfix = \"\"\n",
    "#dim = 26\n",
    "\n",
    "\n",
    "def split(x, y, ind):\n",
    "    return x[:ind], y[:ind], x[ind:], y[ind:]\n",
    "\n",
    "S = np.load(join(data_path, \"S\" + postfix + \".npy\"))\n",
    "P = np.load(join(data_path, \"P\" + postfix + \".npy\"))\n",
    "#F = np.load(join(data_path, \"F\" + postfix + \".npy\"))\n",
    "\n",
    "molecules = np.load(join(data_path, \"molecules\" + postfix + \".npy\"))\n",
    "\n",
    "\n",
    "\n",
    "ind = int(0.8 * len(molecules))\n",
    "molecules = (molecules[:ind], molecules[ind:])\n",
    "\n",
    "s_triu = extract_triu_batch(S, dim)\n",
    "p_triu = extract_triu_batch(P, dim)\n",
    "\n",
    "s_train, p_train, s_test, p_test = split(s_triu, p_triu, ind)"
   ]
  },
  {
   "cell_type": "markdown",
   "metadata": {},
   "source": [
    "# Fetching Descriptor "
   ]
  },
  {
   "cell_type": "code",
   "execution_count": 5,
   "metadata": {},
   "outputs": [],
   "source": [
    "import pickle\n",
    "\n",
    "descriptor = pickle.load(open(\"../../../models/ButadienTDescriptor/descriptor.dump\", \"rb\"))"
   ]
  },
  {
   "cell_type": "code",
   "execution_count": 6,
   "metadata": {},
   "outputs": [],
   "source": [
    "mu, std = np.load(\"../../../models/ButadienTDescriptor/normalisation.npy\")"
   ]
  },
  {
   "cell_type": "code",
   "execution_count": 7,
   "metadata": {},
   "outputs": [],
   "source": [
    "from SCFInitialGuess.utilities.dataset import StaticDataset\n",
    "\n",
    "dataset = StaticDataset(\n",
    "    train=(s_train, p_train),\n",
    "    validation=(None, None),\n",
    "    test=(s_test, p_test),\n",
    "    mu=0,\n",
    "    std=1\n",
    ")"
   ]
  },
  {
   "cell_type": "code",
   "execution_count": 8,
   "metadata": {},
   "outputs": [
    {
     "name": "stdout",
     "output_type": "stream",
     "text": [
      "_________________________________________________________________\n",
      "Layer (type)                 Output Shape              Param #   \n",
      "=================================================================\n",
      "dense (Dense)                (None, 700)               1386700   \n",
      "_________________________________________________________________\n",
      "dense_1 (Dense)              (None, 500)               350500    \n",
      "_________________________________________________________________\n",
      "dense_2 (Dense)              (None, 400)               200400    \n",
      "_________________________________________________________________\n",
      "dense_3 (Dense)              (None, 351)               140751    \n",
      "=================================================================\n",
      "Total params: 2,078,351\n",
      "Trainable params: 2,078,351\n",
      "Non-trainable params: 0\n",
      "_________________________________________________________________\n"
     ]
    }
   ],
   "source": [
    "filepath = \"../../../models/ButadienTDescriptor/model_descriptos_\" + postfix + \".h5\"\n",
    "model = keras.models.load_model(filepath)\n",
    "model.summary()"
   ]
  },
  {
   "cell_type": "markdown",
   "metadata": {},
   "source": [
    "# Make Guess "
   ]
  },
  {
   "cell_type": "code",
   "execution_count": 9,
   "metadata": {},
   "outputs": [
    {
     "data": {
      "text/plain": [
       "(201, 1980)"
      ]
     },
     "execution_count": 9,
     "metadata": {},
     "output_type": "execute_result"
    }
   ],
   "source": [
    "from SCFInitialGuess.utilities.dataset import AbstractDataset\n",
    "\n",
    "G = []\n",
    "for mol in molecules[1]:\n",
    "    G.append(\n",
    "        descriptor.calculate_all_descriptors(mol).flatten()\n",
    "    )\n",
    "\n",
    "G = np.asarray(G)\n",
    "G_norm = AbstractDataset.normalize(G, mean=mu, std=std)[0]\n",
    "G_norm.shape"
   ]
  },
  {
   "cell_type": "code",
   "execution_count": 10,
   "metadata": {},
   "outputs": [
    {
     "data": {
      "text/plain": [
       "(201, 351)"
      ]
     },
     "execution_count": 10,
     "metadata": {},
     "output_type": "execute_result"
    }
   ],
   "source": [
    "p_nn = model.predict(G_norm)\n",
    "p_nn.shape"
   ]
  },
  {
   "cell_type": "markdown",
   "metadata": {},
   "source": [
    "# Ananlysis "
   ]
  },
  {
   "cell_type": "code",
   "execution_count": 11,
   "metadata": {},
   "outputs": [],
   "source": [
    "from SCFInitialGuess.utilities.usermessages import Messenger as msg\n",
    "msg.print_level = 0"
   ]
  },
  {
   "cell_type": "code",
   "execution_count": 12,
   "metadata": {},
   "outputs": [
    {
     "name": "stdout",
     "output_type": "stream",
     "text": [
      "--- Absolute Error ---\n",
      "1.04232E-03 +- 4.86030E-04\n",
      "--- Symmetry Error ---\n",
      "0.00000E+00 +- 0.00000E+00\n",
      "--- Idempotence Error ---\n",
      "1.48397E-03 +- 5.81248E-04\n",
      "--- Occupance Error ---\n",
      "1.72373E-02 +- 1.92167E-02\n",
      "--- HF Energy Error ---\n",
      "5.95613E-02 +- 6.78977E-02\n",
      "--- Avg. Iterations ---\n",
      "2.61990E+01 +- 2.38294E+01\n",
      "--- Avg. Iterations W/O Non Converged ---\n",
      "2.15132E+01 +- 1.53663E+01\n",
      "--- Num. Not Convd. ---\n",
      "12\n",
      "\n"
     ]
    }
   ],
   "source": [
    "from SCFInitialGuess.utilities.analysis import mf_initializer as mf_initializer\n",
    "from SCFInitialGuess.utilities.analysis import make_results_str, measure_all_quantities\n",
    "\n",
    "print(make_results_str(measure_all_quantities(\n",
    "    p_nn,\n",
    "    dataset,\n",
    "    molecules[1],\n",
    "    N_ELECTRONS,\n",
    "    mf_initializer,\n",
    "    dim,\n",
    "    is_triu=True,\n",
    "    is_dataset_triu=True\n",
    ")))"
   ]
  },
  {
   "cell_type": "code",
   "execution_count": 19,
   "metadata": {},
   "outputs": [
    {
     "data": {
      "text/plain": [
       "0.05970149253731343"
      ]
     },
     "execution_count": 19,
     "metadata": {},
     "output_type": "execute_result"
    }
   ],
   "source": [
    "12 / len(p_nn)"
   ]
  },
  {
   "cell_type": "markdown",
   "metadata": {},
   "source": [
    "## Damping and DIIS "
   ]
  },
  {
   "cell_type": "code",
   "execution_count": 23,
   "metadata": {},
   "outputs": [
    {
     "name": "stdout",
     "output_type": "stream",
     "text": [
      "(12.616915422885572, 7.477828750626247)\n",
      "0\n",
      "(12.616915422885572, 7.477828750626247)\n"
     ]
    }
   ],
   "source": [
    "from SCFInitialGuess.utilities.analysis import mf_initializer_damping, measure_iterations, statistics\n",
    "from SCFInitialGuess.utilities.dataset import make_matrix_batch\n",
    "\n",
    "iterations = np.array(measure_iterations(\n",
    "    mf_initializer_damping,\n",
    "    make_matrix_batch(p_nn, dim, is_triu=True),\n",
    "    molecules[1]\n",
    "))\n",
    "\n",
    "print(statistics(iterations))\n",
    "print(np.sum(iterations == 100))\n",
    "print(statistics(iterations[iterations != 100]))"
   ]
  },
  {
   "cell_type": "code",
   "execution_count": 24,
   "metadata": {},
   "outputs": [
    {
     "name": "stdout",
     "output_type": "stream",
     "text": [
      "(8.044776119402986, 0.9158554029057793)\n",
      "0\n",
      "(8.044776119402986, 0.9158554029057793)\n"
     ]
    }
   ],
   "source": [
    "from SCFInitialGuess.utilities.analysis import mf_initializer_diis, measure_iterations, statistics\n",
    "from SCFInitialGuess.utilities.dataset import make_matrix_batch\n",
    "\n",
    "\n",
    "iterations = np.array(list(measure_iterations(\n",
    "    mf_initializer_diis,\n",
    "    make_matrix_batch(p_nn, dim, is_triu=True),\n",
    "    molecules[1]\n",
    ")))\n",
    "print(statistics(iterations))\n",
    "print(np.sum(iterations == 100))\n",
    "print(statistics(iterations[iterations != 100]))"
   ]
  },
  {
   "cell_type": "code",
   "execution_count": null,
   "metadata": {},
   "outputs": [],
   "source": []
  }
 ],
 "metadata": {
  "kernelspec": {
   "display_name": "Python 3",
   "language": "python",
   "name": "python3"
  },
  "language_info": {
   "codemirror_mode": {
    "name": "ipython",
    "version": 3
   },
   "file_extension": ".py",
   "mimetype": "text/x-python",
   "name": "python",
   "nbconvert_exporter": "python",
   "pygments_lexer": "ipython3",
   "version": "3.6.4"
  }
 },
 "nbformat": 4,
 "nbformat_minor": 2
}
