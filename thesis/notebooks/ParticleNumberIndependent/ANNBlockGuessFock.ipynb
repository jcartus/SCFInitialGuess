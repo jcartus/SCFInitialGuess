{
 "cells": [
  {
   "cell_type": "code",
   "execution_count": 4,
   "metadata": {},
   "outputs": [],
   "source": [
    "import numpy as np\n",
    "import matplotlib.pyplot as plt\n",
    "import tensorflow as tf\n",
    "from tensorflow import keras\n",
    "import seaborn as sns\n",
    "\n",
    "from os.path import join\n",
    "\n",
    "plt.style.use([\"seaborn\", \"thesis\"])"
   ]
  },
  {
   "cell_type": "code",
   "execution_count": 5,
   "metadata": {},
   "outputs": [],
   "source": [
    "plt.rc(\"figure\", figsize=(8,4))"
   ]
  },
  {
   "cell_type": "markdown",
   "metadata": {},
   "source": [
    "# Fetch Dataset "
   ]
  },
  {
   "cell_type": "code",
   "execution_count": 6,
   "metadata": {},
   "outputs": [
    {
     "ename": "FileNotFoundError",
     "evalue": "[Errno 2] No such file or directory: '../../dataset/EthenT/3/SEthenT3.npy'",
     "output_type": "error",
     "traceback": [
      "\u001b[0;31m---------------------------------------------------------------------------\u001b[0m",
      "\u001b[0;31mFileNotFoundError\u001b[0m                         Traceback (most recent call last)",
      "\u001b[0;32m<ipython-input-6-82479578b195>\u001b[0m in \u001b[0;36m<module>\u001b[0;34m()\u001b[0m\n\u001b[1;32m     18\u001b[0m     \u001b[0;32mreturn\u001b[0m \u001b[0mx\u001b[0m\u001b[0;34m[\u001b[0m\u001b[0;34m:\u001b[0m\u001b[0mind\u001b[0m\u001b[0;34m]\u001b[0m\u001b[0;34m,\u001b[0m \u001b[0my\u001b[0m\u001b[0;34m[\u001b[0m\u001b[0;34m:\u001b[0m\u001b[0mind\u001b[0m\u001b[0;34m]\u001b[0m\u001b[0;34m,\u001b[0m \u001b[0mx\u001b[0m\u001b[0;34m[\u001b[0m\u001b[0mind\u001b[0m\u001b[0;34m:\u001b[0m\u001b[0;34m]\u001b[0m\u001b[0;34m,\u001b[0m \u001b[0my\u001b[0m\u001b[0;34m[\u001b[0m\u001b[0mind\u001b[0m\u001b[0;34m:\u001b[0m\u001b[0;34m]\u001b[0m\u001b[0;34m\u001b[0m\u001b[0m\n\u001b[1;32m     19\u001b[0m \u001b[0;34m\u001b[0m\u001b[0m\n\u001b[0;32m---> 20\u001b[0;31m \u001b[0mS\u001b[0m \u001b[0;34m=\u001b[0m \u001b[0mnp\u001b[0m\u001b[0;34m.\u001b[0m\u001b[0mload\u001b[0m\u001b[0;34m(\u001b[0m\u001b[0mjoin\u001b[0m\u001b[0;34m(\u001b[0m\u001b[0mdata_path\u001b[0m\u001b[0;34m,\u001b[0m \u001b[0;34m\"S\"\u001b[0m \u001b[0;34m+\u001b[0m \u001b[0mpostfix\u001b[0m \u001b[0;34m+\u001b[0m \u001b[0;34m\".npy\"\u001b[0m\u001b[0;34m)\u001b[0m\u001b[0;34m)\u001b[0m\u001b[0;34m.\u001b[0m\u001b[0mreshape\u001b[0m\u001b[0;34m(\u001b[0m\u001b[0;34m-\u001b[0m\u001b[0;36m1\u001b[0m\u001b[0;34m,\u001b[0m \u001b[0mdim\u001b[0m\u001b[0;34m,\u001b[0m \u001b[0mdim\u001b[0m\u001b[0;34m)\u001b[0m\u001b[0;34m\u001b[0m\u001b[0m\n\u001b[0m\u001b[1;32m     21\u001b[0m \u001b[0mP\u001b[0m \u001b[0;34m=\u001b[0m \u001b[0mnp\u001b[0m\u001b[0;34m.\u001b[0m\u001b[0mload\u001b[0m\u001b[0;34m(\u001b[0m\u001b[0mjoin\u001b[0m\u001b[0;34m(\u001b[0m\u001b[0mdata_path\u001b[0m\u001b[0;34m,\u001b[0m \u001b[0;34m\"P\"\u001b[0m \u001b[0;34m+\u001b[0m \u001b[0mpostfix\u001b[0m \u001b[0;34m+\u001b[0m \u001b[0;34m\".npy\"\u001b[0m\u001b[0;34m)\u001b[0m\u001b[0;34m)\u001b[0m\u001b[0;34m.\u001b[0m\u001b[0mreshape\u001b[0m\u001b[0;34m(\u001b[0m\u001b[0;34m-\u001b[0m\u001b[0;36m1\u001b[0m\u001b[0;34m,\u001b[0m \u001b[0mdim\u001b[0m\u001b[0;34m,\u001b[0m \u001b[0mdim\u001b[0m\u001b[0;34m)\u001b[0m\u001b[0;34m\u001b[0m\u001b[0m\n\u001b[1;32m     22\u001b[0m \u001b[0;34m\u001b[0m\u001b[0m\n",
      "\u001b[0;32m~/anaconda3/lib/python3.6/site-packages/numpy/lib/npyio.py\u001b[0m in \u001b[0;36mload\u001b[0;34m(file, mmap_mode, allow_pickle, fix_imports, encoding)\u001b[0m\n\u001b[1;32m    370\u001b[0m     \u001b[0mown_fid\u001b[0m \u001b[0;34m=\u001b[0m \u001b[0;32mFalse\u001b[0m\u001b[0;34m\u001b[0m\u001b[0m\n\u001b[1;32m    371\u001b[0m     \u001b[0;32mif\u001b[0m \u001b[0misinstance\u001b[0m\u001b[0;34m(\u001b[0m\u001b[0mfile\u001b[0m\u001b[0;34m,\u001b[0m \u001b[0mbasestring\u001b[0m\u001b[0;34m)\u001b[0m\u001b[0;34m:\u001b[0m\u001b[0;34m\u001b[0m\u001b[0m\n\u001b[0;32m--> 372\u001b[0;31m         \u001b[0mfid\u001b[0m \u001b[0;34m=\u001b[0m \u001b[0mopen\u001b[0m\u001b[0;34m(\u001b[0m\u001b[0mfile\u001b[0m\u001b[0;34m,\u001b[0m \u001b[0;34m\"rb\"\u001b[0m\u001b[0;34m)\u001b[0m\u001b[0;34m\u001b[0m\u001b[0m\n\u001b[0m\u001b[1;32m    373\u001b[0m         \u001b[0mown_fid\u001b[0m \u001b[0;34m=\u001b[0m \u001b[0;32mTrue\u001b[0m\u001b[0;34m\u001b[0m\u001b[0m\n\u001b[1;32m    374\u001b[0m     \u001b[0;32melif\u001b[0m \u001b[0mis_pathlib_path\u001b[0m\u001b[0;34m(\u001b[0m\u001b[0mfile\u001b[0m\u001b[0;34m)\u001b[0m\u001b[0;34m:\u001b[0m\u001b[0;34m\u001b[0m\u001b[0m\n",
      "\u001b[0;31mFileNotFoundError\u001b[0m: [Errno 2] No such file or directory: '../../dataset/EthenT/3/SEthenT3.npy'"
     ]
    }
   ],
   "source": [
    "from SCFInitialGuess.utilities.dataset import extract_triu_batch, AbstractDataset\n",
    "from sklearn.model_selection import train_test_split\n",
    "\n",
    "#data_path = \"../../dataset/ButadieneT\"\n",
    "#postfix = \"ButadieneT\"\n",
    "#n_electrons = 30\n",
    "#dim = 130\n",
    "\n",
    "data_path = \"../../dataset/EthenT/3\"\n",
    "postfix = \"EthenT3\"\n",
    "dim = 72\n",
    "basis = \"6-311++g**\"\n",
    "n_electrons = 16\n",
    "\n",
    "\n",
    "\n",
    "def split(x, y, ind):\n",
    "    return x[:ind], y[:ind], x[ind:], y[ind:]\n",
    "\n",
    "S = np.load(join(data_path, \"S\" + postfix + \".npy\")).reshape(-1, dim, dim)\n",
    "P = np.load(join(data_path, \"P\" + postfix + \".npy\")).reshape(-1, dim, dim)\n",
    "\n",
    "molecules = np.load(join(data_path, \"molecules\" + postfix + \".npy\"))\n",
    "\n",
    "\n",
    "ind = int(0.8 * len(molecules))\n",
    "ind_val = int(0.8 * ind)\n",
    "\n",
    "\n",
    "molecules = (\n",
    "    molecules[:ind_val], \n",
    "    molecules[ind_val:ind], \n",
    "    molecules[ind:]\n",
    ")\n",
    "\n",
    "#s_triu_norm, mu, std = AbstractDataset.normalize(S)\n",
    "\n",
    "\n",
    "s_train, p_train, s_test, p_test = split(S, P, ind)\n",
    "s_train, p_train, s_val, p_val = split(s_train, p_train, ind_val)\n",
    "\n"
   ]
  },
  {
   "cell_type": "markdown",
   "metadata": {},
   "source": [
    "# SetUp descriptor And Normalisation"
   ]
  },
  {
   "cell_type": "code",
   "execution_count": 7,
   "metadata": {},
   "outputs": [
    {
     "ename": "FileNotFoundError",
     "evalue": "[Errno 2] No such file or directory: '../../models/DescriptorC/F/descriptor.dump'",
     "output_type": "error",
     "traceback": [
      "\u001b[0;31m---------------------------------------------------------------------------\u001b[0m",
      "\u001b[0;31mFileNotFoundError\u001b[0m                         Traceback (most recent call last)",
      "\u001b[0;32m<ipython-input-7-dc3acef299e6>\u001b[0m in \u001b[0;36m<module>\u001b[0;34m()\u001b[0m\n\u001b[1;32m      4\u001b[0m \u001b[0mtarget\u001b[0m \u001b[0;34m=\u001b[0m \u001b[0;34m\"F\"\u001b[0m\u001b[0;34m\u001b[0m\u001b[0m\n\u001b[1;32m      5\u001b[0m \u001b[0;34m\u001b[0m\u001b[0m\n\u001b[0;32m----> 6\u001b[0;31m \u001b[0mdescriptor_C\u001b[0m \u001b[0;34m=\u001b[0m \u001b[0mpickle\u001b[0m\u001b[0;34m.\u001b[0m\u001b[0mload\u001b[0m\u001b[0;34m(\u001b[0m\u001b[0mopen\u001b[0m\u001b[0;34m(\u001b[0m\u001b[0mmodel_path\u001b[0m \u001b[0;34m+\u001b[0m \u001b[0;34m\"C/\"\u001b[0m \u001b[0;34m+\u001b[0m \u001b[0mtarget\u001b[0m \u001b[0;34m+\u001b[0m \u001b[0;34m\"/descriptor.dump\"\u001b[0m\u001b[0;34m,\u001b[0m \u001b[0;34m\"rb\"\u001b[0m\u001b[0;34m)\u001b[0m\u001b[0;34m)\u001b[0m\u001b[0;34m\u001b[0m\u001b[0m\n\u001b[0m\u001b[1;32m      7\u001b[0m \u001b[0mdescriptor_H\u001b[0m \u001b[0;34m=\u001b[0m \u001b[0mpickle\u001b[0m\u001b[0;34m.\u001b[0m\u001b[0mload\u001b[0m\u001b[0;34m(\u001b[0m\u001b[0mopen\u001b[0m\u001b[0;34m(\u001b[0m\u001b[0mmodel_path\u001b[0m \u001b[0;34m+\u001b[0m \u001b[0;34m\"H/\"\u001b[0m \u001b[0;34m+\u001b[0m \u001b[0mtarget\u001b[0m \u001b[0;34m+\u001b[0m \u001b[0;34m\"/descriptor.dump\"\u001b[0m\u001b[0;34m,\u001b[0m \u001b[0;34m\"rb\"\u001b[0m\u001b[0;34m)\u001b[0m\u001b[0;34m)\u001b[0m\u001b[0;34m\u001b[0m\u001b[0m\n\u001b[1;32m      8\u001b[0m \u001b[0;34m\u001b[0m\u001b[0m\n",
      "\u001b[0;31mFileNotFoundError\u001b[0m: [Errno 2] No such file or directory: '../../models/DescriptorC/F/descriptor.dump'"
     ]
    }
   ],
   "source": [
    "import pickle\n",
    "\n",
    "model_path = \"../../models/Descriptor\"\n",
    "target = \"F\"\n",
    "\n",
    "descriptor_C = pickle.load(open(model_path + \"C/\" + target + \"/descriptor.dump\", \"rb\"))\n",
    "descriptor_H = pickle.load(open(model_path + \"H/\" + target + \"/descriptor.dump\", \"rb\"))\n",
    "\n",
    "descriptors = {\n",
    "    \"C\": descriptor_C,\n",
    "    \"H\": descriptor_H\n",
    "}"
   ]
  },
  {
   "cell_type": "code",
   "execution_count": 5,
   "metadata": {},
   "outputs": [
    {
     "data": {
      "text/plain": [
       "<SCFInitialGuess.descriptors.high_level.AtomicNumberWeighted at 0x7fd75601bba8>"
      ]
     },
     "execution_count": 5,
     "metadata": {},
     "output_type": "execute_result"
    }
   ],
   "source": [
    "descriptor_H"
   ]
  },
  {
   "cell_type": "code",
   "execution_count": 6,
   "metadata": {},
   "outputs": [],
   "source": [
    "normalisations = {\n",
    "    \"C\": np.load(model_path + \"C/\" + target + \"/normalisation.npy\"),\n",
    "    \"H\": np.load(model_path + \"H/\" + target + \"/normalisation.npy\")\n",
    "}"
   ]
  },
  {
   "cell_type": "markdown",
   "metadata": {},
   "source": [
    "# Fetch Networks "
   ]
  },
  {
   "cell_type": "code",
   "execution_count": 7,
   "metadata": {},
   "outputs": [],
   "source": [
    "path = model_path\n",
    "\n",
    "name_C = model_path + \"C/\" + target + \"/C_\" + target + \".h5\"\n",
    "name_H = model_path + \"H/\" + target + \"/H_\" + target + \".h5\"\n",
    "\n",
    "\n",
    "model_C = keras.models.load_model(name_C)\n",
    "model_H = keras.models.load_model(name_H)\n",
    "\n",
    "networks = {\n",
    "    \"C\": model_C,\n",
    "    \"H\": model_H\n",
    "}"
   ]
  },
  {
   "cell_type": "markdown",
   "metadata": {},
   "source": [
    "# Guess Method "
   ]
  },
  {
   "cell_type": "code",
   "execution_count": 19,
   "metadata": {},
   "outputs": [],
   "source": [
    "from pyscf.scf import hf\n",
    "h_test = [hf.get_hcore(mol.get_pyscf_molecule()) for mol in molecules[2]]"
   ]
  },
  {
   "cell_type": "code",
   "execution_count": 28,
   "metadata": {},
   "outputs": [],
   "source": [
    "#f_gwh_test = []\n",
    "\n",
    "k = np.ones((dim, dim)) * 1.75 - \\\n",
    "            np.diag(np.ones(dim)) * 0.75  \n",
    "\n",
    "#for h,s in zip(h_test, s_test):\n",
    "#    h_diag = np.diag(h)   \n",
    "#    f_gwh_test.append(k * np.add.outer(h_diag, h_diag) * s / 2)\n",
    "#f_gwh_test = np.array(f_gwh_test)\n",
    "\n",
    "def gwh_fock(mol):\n",
    "    h = hf.get_hcore(mol.get_pyscf_molecule())\n",
    "    s = hf.get_ovlp(mol.get_pyscf_molecule())\n",
    "    h_diag = np.diag(h)   \n",
    "    \n",
    "    return k * np.add.outer(h_diag, h_diag) * s / 2\n"
   ]
  },
  {
   "cell_type": "code",
   "execution_count": 3,
   "metadata": {},
   "outputs": [],
   "source": [
    "from SCFInitialGuess.utilities.dataset import reconstruct_from_triu, AbstractDataset, density_from_fock\n",
    "from SCFInitialGuess.utilities.constants import number_of_basis_functions as N_BASIS\n",
    "from pyscf.scf.hf import init_guess_by_wolfsberg_helmholtz, get_ovlp\n",
    "\n",
    "\n",
    "def init_guess_by_ann(mol):\n",
    "    \n",
    "    f_out = gwh_fock(mol)\n",
    "    s = get_ovlp(mol)\n",
    "    \n",
    "    for atom_index, atom in enumerate(mol.species):\n",
    "        \n",
    "        mask = mol.make_atom_mask(atom_index)\n",
    "        \n",
    "        \n",
    "        G = descriptors[atom].calculate_atom_descriptor(\n",
    "            atom_index, \n",
    "            mol,\n",
    "            descriptors[atom].number_of_descriptors\n",
    "        )\n",
    "        \n",
    "        G_norm = AbstractDataset.normalize(G, *normalisations[atom])\n",
    "        \n",
    "        #f(G)\n",
    "        f = networks[atom].predict(G.reshape(1, -1))\n",
    "        \n",
    "        f_batch = reconstruct_from_triu(\n",
    "            f,\n",
    "            N_BASIS[mol.basis][atom]\n",
    "        )\n",
    "        \n",
    "        f_out[mask] = f_batch.flatten()\n",
    "        \n",
    "    \n",
    "    p_out = density_from_fock(f_out, s, mol)\n",
    "    \n",
    "        \n",
    "    return p_out\n",
    "        \n",
    "    "
   ]
  },
  {
   "cell_type": "markdown",
   "metadata": {},
   "source": [
    "# Analysis "
   ]
  },
  {
   "cell_type": "markdown",
   "metadata": {},
   "source": [
    "## Utils "
   ]
  },
  {
   "cell_type": "code",
   "execution_count": 22,
   "metadata": {},
   "outputs": [],
   "source": [
    "from SCFInitialGuess.utilities.dataset import StaticDataset\n",
    "\n",
    "dataset = StaticDataset(\n",
    "    #train=(s_train, p_train),\n",
    "    train=(None, None),\n",
    "    validation=(None, None),\n",
    "    test=(s_test, p_test),\n",
    "    mu=0,\n",
    "    std=1\n",
    ")"
   ]
  },
  {
   "cell_type": "markdown",
   "metadata": {},
   "source": [
    " ## Execution "
   ]
  },
  {
   "cell_type": "code",
   "execution_count": 32,
   "metadata": {},
   "outputs": [],
   "source": [
    "f_nn = np.array([\n",
    "    init_guess_by_ann(mol) for mol in molecules[2]\n",
    "])"
   ]
  },
  {
   "cell_type": "code",
   "execution_count": 33,
   "metadata": {},
   "outputs": [
    {
     "data": {
      "text/plain": [
       "(201, 72, 72)"
      ]
     },
     "execution_count": 33,
     "metadata": {},
     "output_type": "execute_result"
    }
   ],
   "source": [
    "f_nn.shape"
   ]
  },
  {
   "cell_type": "code",
   "execution_count": 34,
   "metadata": {},
   "outputs": [
    {
     "name": "stdout",
     "output_type": "stream",
     "text": [
      "--- Absolute Error ---\n",
      "6.64424E-01 +- 4.06621E-01\n",
      "--- Symmetry Error ---\n",
      "0.00000E+00 +- 0.00000E+00\n",
      "--- Idempotence Error ---\n",
      "2.15945E+02 +- 5.00249E+01\n",
      "--- Occupance Error ---\n",
      "9.73139E+02 +- 1.09127E+02\n",
      "--- HF Energy Error ---\n",
      "1.13599E+05 +- 3.06702E+04\n",
      "--- Avg. Iterations ---\n",
      "9.96567E+01 +- 4.85476E+00\n",
      "--- Avg. Iterations W/O Non Converged ---\n",
      "3.10000E+01 +- 0.00000E+00\n",
      "--- Num. Not Convd. ---\n",
      "200\n",
      "\n"
     ]
    }
   ],
   "source": [
    "from SCFInitialGuess.utilities.analysis import \\\n",
    "    make_results_str, measure_all_quantities, mf_initializer\n",
    "from  SCFInitialGuess.utilities.usermessages import Messenger as msg\n",
    "\n",
    "msg.print_level=0\n",
    "\n",
    "print(make_results_str(measure_all_quantities(\n",
    "    f_nn,\n",
    "    dataset,\n",
    "    molecules[2],\n",
    "    n_electrons,\n",
    "    mf_initializer,\n",
    "    dim=dim,\n",
    "    is_triu=False,\n",
    "    is_dataset_triu=False,\n",
    "    s=S[ind:]\n",
    ")))"
   ]
  },
  {
   "cell_type": "code",
   "execution_count": null,
   "metadata": {},
   "outputs": [],
   "source": []
  }
 ],
 "metadata": {
  "kernelspec": {
   "display_name": "Python 3",
   "language": "python",
   "name": "python3"
  },
  "language_info": {
   "codemirror_mode": {
    "name": "ipython",
    "version": 3
   },
   "file_extension": ".py",
   "mimetype": "text/x-python",
   "name": "python",
   "nbconvert_exporter": "python",
   "pygments_lexer": "ipython3",
   "version": "3.6.4"
  }
 },
 "nbformat": 4,
 "nbformat_minor": 2
}
