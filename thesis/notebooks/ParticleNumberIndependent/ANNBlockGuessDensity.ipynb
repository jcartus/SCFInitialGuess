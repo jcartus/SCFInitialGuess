{
 "cells": [
  {
   "cell_type": "code",
   "execution_count": 1,
   "metadata": {},
   "outputs": [
    {
     "name": "stderr",
     "output_type": "stream",
     "text": [
      "/home/jo/anaconda3/lib/python3.6/site-packages/h5py/__init__.py:36: FutureWarning: Conversion of the second argument of issubdtype from `float` to `np.floating` is deprecated. In future, it will be treated as `np.float64 == np.dtype(float).type`.\n",
      "  from ._conv import register_converters as _register_converters\n"
     ]
    }
   ],
   "source": [
    "import numpy as np\n",
    "import matplotlib.pyplot as plt\n",
    "import tensorflow as tf\n",
    "from tensorflow import keras\n",
    "import seaborn as sns\n",
    "\n",
    "from os.path import join\n",
    "\n",
    "plt.style.use([\"seaborn\", \"thesis\"])"
   ]
  },
  {
   "cell_type": "code",
   "execution_count": 2,
   "metadata": {},
   "outputs": [],
   "source": [
    "plt.rc(\"figure\", figsize=(8,4))"
   ]
  },
  {
   "cell_type": "markdown",
   "metadata": {},
   "source": [
    "# Fetch Dataset "
   ]
  },
  {
   "cell_type": "code",
   "execution_count": 3,
   "metadata": {},
   "outputs": [],
   "source": [
    "from SCFInitialGuess.utilities.dataset import Data\n",
    "\n",
    "target = \"P\"\n",
    "\n",
    "data = Data()\n",
    "\n",
    "data.include(data_path = \"../../dataset/MethanT/\", postfix = \"MethanT\", target=target)\n",
    "data.include(data_path = \"../../dataset/MethanT2/\", postfix = \"MethanT2\", target=target)\n",
    "data.include(data_path = \"../../dataset/MethanT3/\", postfix = \"MethanT3\", target=target)\n",
    "data.include(data_path = \"../../dataset/MethanT4/\", postfix = \"MethanT4\", target=target)\n",
    "\n",
    "data.include(data_path = \"../../dataset/EthanT/\",  postfix = \"EthanT\", target=target)\n",
    "data.include(data_path = \"../../dataset/EthanT2/\", postfix = \"EthanT2\", target=target)\n",
    "data.include(data_path = \"../../dataset/EthanT3/\", postfix = \"EthanT3\", target=target)\n",
    "\n",
    "data.include(data_path = \"../../dataset/EthenT/\",  postfix = \"EthenT\", target=target)\n",
    "data.include(data_path = \"../../dataset/EthenT2/\", postfix = \"EthenT2\", target=target)\n",
    "data.include(data_path = \"../../dataset/EthenT3/\", postfix = \"EthenT3\", target=target)\n",
    "\n",
    "data.include(data_path = \"../../dataset/EthinT/\",  postfix = \"EthinT\", target=target)\n",
    "data.include(data_path = \"../../dataset/EthinT2/\", postfix = \"EthinT2\", target=target)\n",
    "data.include(data_path = \"../../dataset/EthinT3/\", postfix = \"EthinT3\", target=target)\n",
    "\n",
    "#data.include(data_path = \"../../dataset/QM9/\", postfix = \"QM9-300\")"
   ]
  },
  {
   "cell_type": "markdown",
   "metadata": {},
   "source": [
    "# SetUp descriptor And Normalisation"
   ]
  },
  {
   "cell_type": "code",
   "execution_count": 4,
   "metadata": {},
   "outputs": [],
   "source": [
    "import pickle\n",
    "\n",
    "model_path = \"../../models/Descriptor\"\n",
    "target = \"P\"\n",
    "\n",
    "descriptor_C = pickle.load(open(model_path + \"C/\" + target + \"/descriptor.dump\", \"rb\"))\n",
    "descriptor_H = pickle.load(open(model_path + \"H/\" + target + \"/descriptor.dump\", \"rb\"))\n",
    "\n",
    "descriptors = {\n",
    "    \"C\": descriptor_C,\n",
    "    \"H\": descriptor_H\n",
    "}"
   ]
  },
  {
   "cell_type": "code",
   "execution_count": 5,
   "metadata": {},
   "outputs": [
    {
     "data": {
      "text/plain": [
       "<SCFInitialGuess.descriptors.high_level.AtomicNumberWeighted at 0x7fcced01db70>"
      ]
     },
     "execution_count": 5,
     "metadata": {},
     "output_type": "execute_result"
    }
   ],
   "source": [
    "descriptor_H"
   ]
  },
  {
   "cell_type": "code",
   "execution_count": 6,
   "metadata": {},
   "outputs": [],
   "source": [
    "normalisations = {\n",
    "    \"C\": np.load(model_path + \"C/\" + target + \"/normalisation.npy\"),\n",
    "    \"H\": np.load(model_path + \"H/\" + target + \"/normalisation.npy\")\n",
    "}"
   ]
  },
  {
   "cell_type": "markdown",
   "metadata": {},
   "source": [
    "# Fetch Networks "
   ]
  },
  {
   "cell_type": "code",
   "execution_count": 7,
   "metadata": {},
   "outputs": [],
   "source": [
    "path = model_path\n",
    "\n",
    "name_C = model_path + \"C/\" + target + \"/C_\" + target + \".h5\"\n",
    "name_H = model_path + \"H/\" + target + \"/H_\" + target + \".h5\"\n",
    "\n",
    "\n",
    "model_C = keras.models.load_model(name_C)\n",
    "model_H = keras.models.load_model(name_H)\n",
    "\n",
    "networks = {\n",
    "    \"C\": model_C,\n",
    "    \"H\": model_H\n",
    "}"
   ]
  },
  {
   "cell_type": "markdown",
   "metadata": {},
   "source": [
    "# Guess Method "
   ]
  },
  {
   "cell_type": "code",
   "execution_count": 8,
   "metadata": {},
   "outputs": [],
   "source": [
    "from SCFInitialGuess.utilities.dataset import reconstruct_from_triu, AbstractDataset\n",
    "from SCFInitialGuess.utilities.constants import number_of_basis_functions as N_BASIS\n",
    "from pyscf.scf.hf import init_guess_by_wolfsberg_helmholtz\n",
    "\n",
    "\n",
    "def init_guess_by_ann(mol):\n",
    "    \n",
    "    p  = init_guess_by_wolfsberg_helmholtz(mol.get_pyscf_molecule()).copy() # TODO set up my own GWH in SCFInitialGuess\n",
    "    \n",
    "    for atom_index, atom in enumerate(mol.species):\n",
    "        \n",
    "        mask = mol.make_atom_mask(atom_index)\n",
    "        \n",
    "        \n",
    "        G = descriptors[atom].calculate_atom_descriptor(\n",
    "            atom_index, \n",
    "            mol,\n",
    "            descriptors[atom].number_of_descriptors\n",
    "        )\n",
    "        \n",
    "        G_norm = AbstractDataset.normalize(G, *normalisations[atom])\n",
    "        \n",
    "        #f(G)\n",
    "        f = networks[atom].predict(G.reshape(1, -1))\n",
    "        \n",
    "        f_batch = reconstruct_from_triu(\n",
    "            f,\n",
    "            N_BASIS[mol.basis][atom]\n",
    "        )\n",
    "        \n",
    "        p[mask] = f_batch.flatten()\n",
    "        \n",
    "    return p\n",
    "        \n",
    "    "
   ]
  },
  {
   "cell_type": "markdown",
   "metadata": {},
   "source": [
    "# Analysis "
   ]
  },
  {
   "cell_type": "markdown",
   "metadata": {},
   "source": [
    "## Utils "
   ]
  },
  {
   "cell_type": "code",
   "execution_count": 9,
   "metadata": {},
   "outputs": [],
   "source": [
    "from SCFInitialGuess.utilities.dataset import StaticDataset\n",
    "\n",
    "dataset = StaticDataset(\n",
    "    #train=(s_train, p_train),\n",
    "    train=(data.S[0], data.T[0]),\n",
    "    validation=(data.S[1], data.T[1]),\n",
    "    test=(data.S[2], data.T[2]),\n",
    "    mu=0,\n",
    "    std=1\n",
    ")"
   ]
  },
  {
   "cell_type": "markdown",
   "metadata": {},
   "source": [
    " ## Execution "
   ]
  },
  {
   "cell_type": "code",
   "execution_count": 12,
   "metadata": {},
   "outputs": [
    {
     "data": {
      "text/plain": [
       "<matplotlib.axes._subplots.AxesSubplot at 0x7fcc6daaa710>"
      ]
     },
     "execution_count": 12,
     "metadata": {},
     "output_type": "execute_result"
    },
    {
     "data": {
      "image/png": "[encoded data removed]",
      "text/plain": [
       "<matplotlib.figure.Figure at 0x7fcc98047588>"
      ]
     },
     "metadata": {},
     "output_type": "display_data"
    }
   ],
   "source": [
    "sns.heatmap(np.abs(init_guess_by_ann(data.molecules[2][0]) \\\n",
    "                   - init_guess_by_wolfsberg_helmholtz(data.molecules[2][0].get_pyscf_molecule())), square=True)"
   ]
  },
  {
   "cell_type": "code",
   "execution_count": 13,
   "metadata": {},
   "outputs": [],
   "source": [
    "p_nn = np.array([\n",
    "    init_guess_by_ann(mol) for mol in data.molecules[2]\n",
    "])"
   ]
  },
  {
   "cell_type": "markdown",
   "metadata": {},
   "source": [
    "## Pure "
   ]
  },
  {
   "cell_type": "code",
   "execution_count": 18,
   "metadata": {},
   "outputs": [
    {
     "ename": "KeyboardInterrupt",
     "evalue": "",
     "output_type": "error",
     "traceback": [
      "\u001b[0;31m---------------------------------------------------------------------------\u001b[0m",
      "\u001b[0;31mKeyboardInterrupt\u001b[0m                         Traceback (most recent call last)",
      "\u001b[0;32m<ipython-input-18-83ec2fd0c8c6>\u001b[0m in \u001b[0;36m<module>\u001b[0;34m()\u001b[0m\n\u001b[1;32m      8\u001b[0m     \u001b[0mmf_initializer\u001b[0m\u001b[0;34m,\u001b[0m\u001b[0;34m\u001b[0m\u001b[0m\n\u001b[1;32m      9\u001b[0m     \u001b[0mp_nn\u001b[0m\u001b[0;34m,\u001b[0m\u001b[0;34m\u001b[0m\u001b[0m\n\u001b[0;32m---> 10\u001b[0;31m     \u001b[0mdata\u001b[0m\u001b[0;34m.\u001b[0m\u001b[0mmolecules\u001b[0m\u001b[0;34m[\u001b[0m\u001b[0;36m2\u001b[0m\u001b[0;34m]\u001b[0m\u001b[0;34m\u001b[0m\u001b[0m\n\u001b[0m\u001b[1;32m     11\u001b[0m ))\n\u001b[1;32m     12\u001b[0m \u001b[0;34m\u001b[0m\u001b[0m\n",
      "\u001b[0;32m~/Repos/SCFInitialGuess/SCFInitialGuess/utilities/analysis.py\u001b[0m in \u001b[0;36mmeasure_iterations\u001b[0;34m(mf_initializer, guesses, molecules)\u001b[0m\n\u001b[1;32m    243\u001b[0m \u001b[0;34m\u001b[0m\u001b[0m\n\u001b[1;32m    244\u001b[0m         \u001b[0;32mtry\u001b[0m\u001b[0;34m:\u001b[0m\u001b[0;34m\u001b[0m\u001b[0m\n\u001b[0;32m--> 245\u001b[0;31m             \u001b[0mmf\u001b[0m\u001b[0;34m.\u001b[0m\u001b[0mkernel\u001b[0m\u001b[0;34m(\u001b[0m\u001b[0mdm0\u001b[0m\u001b[0;34m=\u001b[0m\u001b[0mp\u001b[0m\u001b[0;34m)\u001b[0m\u001b[0;34m\u001b[0m\u001b[0m\n\u001b[0m\u001b[1;32m    246\u001b[0m \u001b[0;34m\u001b[0m\u001b[0m\n\u001b[1;32m    247\u001b[0m             \u001b[0miterations\u001b[0m\u001b[0;34m.\u001b[0m\u001b[0mappend\u001b[0m\u001b[0;34m(\u001b[0m\u001b[0mmf\u001b[0m\u001b[0;34m.\u001b[0m\u001b[0miterations\u001b[0m\u001b[0;34m)\u001b[0m\u001b[0;34m\u001b[0m\u001b[0m\n",
      "\u001b[0;32m~/Repos/pyscf/pyscf/scf/hf.py\u001b[0m in \u001b[0;36mkernel\u001b[0;34m(self, dm0)\u001b[0m\n\u001b[1;32m   1382\u001b[0m         \u001b[0;32mreturn\u001b[0m \u001b[0mself\u001b[0m\u001b[0;34m.\u001b[0m\u001b[0me_tot\u001b[0m\u001b[0;34m\u001b[0m\u001b[0m\n\u001b[1;32m   1383\u001b[0m     \u001b[0;32mdef\u001b[0m \u001b[0mkernel\u001b[0m\u001b[0;34m(\u001b[0m\u001b[0mself\u001b[0m\u001b[0;34m,\u001b[0m \u001b[0mdm0\u001b[0m\u001b[0;34m=\u001b[0m\u001b[0;32mNone\u001b[0m\u001b[0;34m)\u001b[0m\u001b[0;34m:\u001b[0m\u001b[0;34m\u001b[0m\u001b[0m\n\u001b[0;32m-> 1384\u001b[0;31m         \u001b[0;32mreturn\u001b[0m \u001b[0mself\u001b[0m\u001b[0;34m.\u001b[0m\u001b[0mscf\u001b[0m\u001b[0;34m(\u001b[0m\u001b[0mdm0\u001b[0m\u001b[0;34m)\u001b[0m\u001b[0;34m\u001b[0m\u001b[0m\n\u001b[0m\u001b[1;32m   1385\u001b[0m     \u001b[0mkernel\u001b[0m\u001b[0;34m.\u001b[0m\u001b[0m__doc__\u001b[0m \u001b[0;34m=\u001b[0m \u001b[0mscf\u001b[0m\u001b[0;34m.\u001b[0m\u001b[0m__doc__\u001b[0m\u001b[0;34m\u001b[0m\u001b[0m\n\u001b[1;32m   1386\u001b[0m \u001b[0;34m\u001b[0m\u001b[0m\n",
      "\u001b[0;32m~/Repos/pyscf/pyscf/scf/hf.py\u001b[0m in \u001b[0;36mscf\u001b[0;34m(self, dm0)\u001b[0m\n\u001b[1;32m   1376\u001b[0m                 kernel(self, self.conv_tol, self.conv_tol_grad,\n\u001b[1;32m   1377\u001b[0m                        \u001b[0mdm0\u001b[0m\u001b[0;34m=\u001b[0m\u001b[0mdm0\u001b[0m\u001b[0;34m,\u001b[0m \u001b[0mcallback\u001b[0m\u001b[0;34m=\u001b[0m\u001b[0mself\u001b[0m\u001b[0;34m.\u001b[0m\u001b[0mcallback\u001b[0m\u001b[0;34m,\u001b[0m\u001b[0;34m\u001b[0m\u001b[0m\n\u001b[0;32m-> 1378\u001b[0;31m                        conv_check=self.conv_check, return_iterations=True)\n\u001b[0m\u001b[1;32m   1379\u001b[0m \u001b[0;34m\u001b[0m\u001b[0m\n\u001b[1;32m   1380\u001b[0m         \u001b[0mlogger\u001b[0m\u001b[0;34m.\u001b[0m\u001b[0mtimer\u001b[0m\u001b[0;34m(\u001b[0m\u001b[0mself\u001b[0m\u001b[0;34m,\u001b[0m \u001b[0;34m'SCF'\u001b[0m\u001b[0;34m,\u001b[0m \u001b[0;34m*\u001b[0m\u001b[0mcput0\u001b[0m\u001b[0;34m)\u001b[0m\u001b[0;34m\u001b[0m\u001b[0m\n",
      "\u001b[0;32m~/Repos/pyscf/pyscf/scf/hf.py\u001b[0m in \u001b[0;36mkernel\u001b[0;34m(mf, conv_tol, conv_tol_grad, dump_chk, dm0, callback, conv_check, return_iterations, **kwargs)\u001b[0m\n\u001b[1;32m    148\u001b[0m         \u001b[0;31m# attach mo_coeff and mo_occ to dm to improve DFT get_veff efficiency\u001b[0m\u001b[0;34m\u001b[0m\u001b[0;34m\u001b[0m\u001b[0m\n\u001b[1;32m    149\u001b[0m         \u001b[0mdm\u001b[0m \u001b[0;34m=\u001b[0m \u001b[0mlib\u001b[0m\u001b[0;34m.\u001b[0m\u001b[0mtag_array\u001b[0m\u001b[0;34m(\u001b[0m\u001b[0mdm\u001b[0m\u001b[0;34m,\u001b[0m \u001b[0mmo_coeff\u001b[0m\u001b[0;34m=\u001b[0m\u001b[0mmo_coeff\u001b[0m\u001b[0;34m,\u001b[0m \u001b[0mmo_occ\u001b[0m\u001b[0;34m=\u001b[0m\u001b[0mmo_occ\u001b[0m\u001b[0;34m)\u001b[0m\u001b[0;34m\u001b[0m\u001b[0m\n\u001b[0;32m--> 150\u001b[0;31m         \u001b[0mvhf\u001b[0m \u001b[0;34m=\u001b[0m \u001b[0mmf\u001b[0m\u001b[0;34m.\u001b[0m\u001b[0mget_veff\u001b[0m\u001b[0;34m(\u001b[0m\u001b[0mmol\u001b[0m\u001b[0;34m,\u001b[0m \u001b[0mdm\u001b[0m\u001b[0;34m,\u001b[0m \u001b[0mdm_last\u001b[0m\u001b[0;34m,\u001b[0m \u001b[0mvhf\u001b[0m\u001b[0;34m)\u001b[0m\u001b[0;34m\u001b[0m\u001b[0m\n\u001b[0m\u001b[1;32m    151\u001b[0m         \u001b[0me_tot\u001b[0m \u001b[0;34m=\u001b[0m \u001b[0mmf\u001b[0m\u001b[0;34m.\u001b[0m\u001b[0menergy_tot\u001b[0m\u001b[0;34m(\u001b[0m\u001b[0mdm\u001b[0m\u001b[0;34m,\u001b[0m \u001b[0mh1e\u001b[0m\u001b[0;34m,\u001b[0m \u001b[0mvhf\u001b[0m\u001b[0;34m)\u001b[0m\u001b[0;34m\u001b[0m\u001b[0m\n\u001b[1;32m    152\u001b[0m \u001b[0;34m\u001b[0m\u001b[0m\n",
      "\u001b[0;32m~/Repos/pyscf/pyscf/scf/hf.py\u001b[0m in \u001b[0;36mget_veff\u001b[0;34m(self, mol, dm, dm_last, vhf_last, hermi)\u001b[0m\n\u001b[1;32m   1436\u001b[0m         \u001b[0;32mif\u001b[0m \u001b[0mself\u001b[0m\u001b[0;34m.\u001b[0m\u001b[0mdirect_scf\u001b[0m\u001b[0;34m:\u001b[0m\u001b[0;34m\u001b[0m\u001b[0m\n\u001b[1;32m   1437\u001b[0m             \u001b[0mddm\u001b[0m \u001b[0;34m=\u001b[0m \u001b[0mnumpy\u001b[0m\u001b[0;34m.\u001b[0m\u001b[0masarray\u001b[0m\u001b[0;34m(\u001b[0m\u001b[0mdm\u001b[0m\u001b[0;34m)\u001b[0m \u001b[0;34m-\u001b[0m \u001b[0mnumpy\u001b[0m\u001b[0;34m.\u001b[0m\u001b[0masarray\u001b[0m\u001b[0;34m(\u001b[0m\u001b[0mdm_last\u001b[0m\u001b[0;34m)\u001b[0m\u001b[0;34m\u001b[0m\u001b[0m\n\u001b[0;32m-> 1438\u001b[0;31m             \u001b[0mvj\u001b[0m\u001b[0;34m,\u001b[0m \u001b[0mvk\u001b[0m \u001b[0;34m=\u001b[0m \u001b[0mself\u001b[0m\u001b[0;34m.\u001b[0m\u001b[0mget_jk\u001b[0m\u001b[0;34m(\u001b[0m\u001b[0mmol\u001b[0m\u001b[0;34m,\u001b[0m \u001b[0mddm\u001b[0m\u001b[0;34m,\u001b[0m \u001b[0mhermi\u001b[0m\u001b[0;34m=\u001b[0m\u001b[0mhermi\u001b[0m\u001b[0;34m)\u001b[0m\u001b[0;34m\u001b[0m\u001b[0m\n\u001b[0m\u001b[1;32m   1439\u001b[0m             \u001b[0;32mreturn\u001b[0m \u001b[0mnumpy\u001b[0m\u001b[0;34m.\u001b[0m\u001b[0masarray\u001b[0m\u001b[0;34m(\u001b[0m\u001b[0mvhf_last\u001b[0m\u001b[0;34m)\u001b[0m \u001b[0;34m+\u001b[0m \u001b[0mvj\u001b[0m \u001b[0;34m-\u001b[0m \u001b[0mvk\u001b[0m \u001b[0;34m*\u001b[0m \u001b[0;36m.5\u001b[0m\u001b[0;34m\u001b[0m\u001b[0m\n\u001b[1;32m   1440\u001b[0m         \u001b[0;32melse\u001b[0m\u001b[0;34m:\u001b[0m\u001b[0;34m\u001b[0m\u001b[0m\n",
      "\u001b[0;32m~/Repos/pyscf/pyscf/scf/hf.py\u001b[0m in \u001b[0;36mget_jk\u001b[0;34m(self, mol, dm, hermi)\u001b[0m\n\u001b[1;32m   1562\u001b[0m             \u001b[0;32mif\u001b[0m \u001b[0mself\u001b[0m\u001b[0;34m.\u001b[0m\u001b[0m_eri\u001b[0m \u001b[0;32mis\u001b[0m \u001b[0;32mNone\u001b[0m\u001b[0;34m:\u001b[0m\u001b[0;34m\u001b[0m\u001b[0m\n\u001b[1;32m   1563\u001b[0m                 \u001b[0mself\u001b[0m\u001b[0;34m.\u001b[0m\u001b[0m_eri\u001b[0m \u001b[0;34m=\u001b[0m \u001b[0mmol\u001b[0m\u001b[0;34m.\u001b[0m\u001b[0mintor\u001b[0m\u001b[0;34m(\u001b[0m\u001b[0;34m'int2e'\u001b[0m\u001b[0;34m,\u001b[0m \u001b[0maosym\u001b[0m\u001b[0;34m=\u001b[0m\u001b[0;34m's8'\u001b[0m\u001b[0;34m)\u001b[0m\u001b[0;34m\u001b[0m\u001b[0m\n\u001b[0;32m-> 1564\u001b[0;31m             \u001b[0mvj\u001b[0m\u001b[0;34m,\u001b[0m \u001b[0mvk\u001b[0m \u001b[0;34m=\u001b[0m \u001b[0mdot_eri_dm\u001b[0m\u001b[0;34m(\u001b[0m\u001b[0mself\u001b[0m\u001b[0;34m.\u001b[0m\u001b[0m_eri\u001b[0m\u001b[0;34m,\u001b[0m \u001b[0mdm\u001b[0m\u001b[0;34m,\u001b[0m \u001b[0mhermi\u001b[0m\u001b[0;34m)\u001b[0m\u001b[0;34m\u001b[0m\u001b[0m\n\u001b[0m\u001b[1;32m   1565\u001b[0m         \u001b[0;32melse\u001b[0m\u001b[0;34m:\u001b[0m\u001b[0;34m\u001b[0m\u001b[0m\n\u001b[1;32m   1566\u001b[0m             \u001b[0mvj\u001b[0m\u001b[0;34m,\u001b[0m \u001b[0mvk\u001b[0m \u001b[0;34m=\u001b[0m \u001b[0mSCF\u001b[0m\u001b[0;34m.\u001b[0m\u001b[0mget_jk\u001b[0m\u001b[0;34m(\u001b[0m\u001b[0mself\u001b[0m\u001b[0;34m,\u001b[0m \u001b[0mmol\u001b[0m\u001b[0;34m,\u001b[0m \u001b[0mdm\u001b[0m\u001b[0;34m,\u001b[0m \u001b[0mhermi\u001b[0m\u001b[0;34m)\u001b[0m\u001b[0;34m\u001b[0m\u001b[0m\n",
      "\u001b[0;32m~/Repos/pyscf/pyscf/scf/hf.py\u001b[0m in \u001b[0;36mdot_eri_dm\u001b[0;34m(eri, dm, hermi)\u001b[0m\n\u001b[1;32m    582\u001b[0m     '''\n\u001b[1;32m    583\u001b[0m     \u001b[0;32mif\u001b[0m \u001b[0misinstance\u001b[0m\u001b[0;34m(\u001b[0m\u001b[0mdm\u001b[0m\u001b[0;34m,\u001b[0m \u001b[0mnumpy\u001b[0m\u001b[0;34m.\u001b[0m\u001b[0mndarray\u001b[0m\u001b[0;34m)\u001b[0m \u001b[0;32mand\u001b[0m \u001b[0mdm\u001b[0m\u001b[0;34m.\u001b[0m\u001b[0mndim\u001b[0m \u001b[0;34m==\u001b[0m \u001b[0;36m2\u001b[0m\u001b[0;34m:\u001b[0m\u001b[0;34m\u001b[0m\u001b[0m\n\u001b[0;32m--> 584\u001b[0;31m         \u001b[0mvj\u001b[0m\u001b[0;34m,\u001b[0m \u001b[0mvk\u001b[0m \u001b[0;34m=\u001b[0m \u001b[0m_vhf\u001b[0m\u001b[0;34m.\u001b[0m\u001b[0mincore\u001b[0m\u001b[0;34m(\u001b[0m\u001b[0meri\u001b[0m\u001b[0;34m,\u001b[0m \u001b[0mdm\u001b[0m\u001b[0;34m,\u001b[0m \u001b[0mhermi\u001b[0m\u001b[0;34m=\u001b[0m\u001b[0mhermi\u001b[0m\u001b[0;34m)\u001b[0m\u001b[0;34m\u001b[0m\u001b[0m\n\u001b[0m\u001b[1;32m    585\u001b[0m     \u001b[0;32melse\u001b[0m\u001b[0;34m:\u001b[0m\u001b[0;34m\u001b[0m\u001b[0m\n\u001b[1;32m    586\u001b[0m         \u001b[0mdm\u001b[0m \u001b[0;34m=\u001b[0m \u001b[0mnumpy\u001b[0m\u001b[0;34m.\u001b[0m\u001b[0masarray\u001b[0m\u001b[0;34m(\u001b[0m\u001b[0mdm\u001b[0m\u001b[0;34m,\u001b[0m \u001b[0morder\u001b[0m\u001b[0;34m=\u001b[0m\u001b[0;34m'C'\u001b[0m\u001b[0;34m)\u001b[0m\u001b[0;34m\u001b[0m\u001b[0m\n",
      "\u001b[0;32m~/Repos/pyscf/pyscf/scf/_vhf.py\u001b[0m in \u001b[0;36mincore\u001b[0;34m(eri, dm, hermi)\u001b[0m\n\u001b[1;32m    130\u001b[0m          \u001b[0mdm\u001b[0m\u001b[0;34m.\u001b[0m\u001b[0mctypes\u001b[0m\u001b[0;34m.\u001b[0m\u001b[0mdata_as\u001b[0m\u001b[0;34m(\u001b[0m\u001b[0mctypes\u001b[0m\u001b[0;34m.\u001b[0m\u001b[0mc_void_p\u001b[0m\u001b[0;34m)\u001b[0m\u001b[0;34m,\u001b[0m\u001b[0;34m\u001b[0m\u001b[0m\n\u001b[1;32m    131\u001b[0m          \u001b[0mvk\u001b[0m\u001b[0;34m.\u001b[0m\u001b[0mctypes\u001b[0m\u001b[0;34m.\u001b[0m\u001b[0mdata_as\u001b[0m\u001b[0;34m(\u001b[0m\u001b[0mctypes\u001b[0m\u001b[0;34m.\u001b[0m\u001b[0mc_void_p\u001b[0m\u001b[0;34m)\u001b[0m\u001b[0;34m,\u001b[0m\u001b[0;34m\u001b[0m\u001b[0m\n\u001b[0;32m--> 132\u001b[0;31m          ctypes.c_int(nao), fvj, fvk)\n\u001b[0m\u001b[1;32m    133\u001b[0m     \u001b[0;32mif\u001b[0m \u001b[0mhermi\u001b[0m \u001b[0;34m!=\u001b[0m \u001b[0;36m0\u001b[0m\u001b[0;34m:\u001b[0m\u001b[0;34m\u001b[0m\u001b[0m\n\u001b[1;32m    134\u001b[0m         \u001b[0mvj\u001b[0m \u001b[0;34m=\u001b[0m \u001b[0mpyscf\u001b[0m\u001b[0;34m.\u001b[0m\u001b[0mlib\u001b[0m\u001b[0;34m.\u001b[0m\u001b[0mhermi_triu\u001b[0m\u001b[0;34m(\u001b[0m\u001b[0mvj\u001b[0m\u001b[0;34m,\u001b[0m \u001b[0mhermi\u001b[0m\u001b[0;34m)\u001b[0m\u001b[0;34m\u001b[0m\u001b[0m\n",
      "\u001b[0;31mKeyboardInterrupt\u001b[0m: "
     ]
    }
   ],
   "source": [
    "from SCFInitialGuess.utilities.analysis import mf_initializer\n",
    "from SCFInitialGuess.utilities.analysis import measure_iterations\n",
    "from SCFInitialGuess.utilities.usermessages import Messenger as msg\n",
    "msg.print_level = 0\n",
    "\n",
    "    \n",
    "iterations = np.array(measure_iterations(\n",
    "    mf_initializer, \n",
    "    p_nn, \n",
    "    data.molecules[2]\n",
    "))\n",
    "\n",
    "max_cycle = mf_initializer(\n",
    "    data.molecules[2][0].get_pyscf_molecule()\n",
    ").max_cycle\n",
    "\n",
    "print(statistics(iterations))\n",
    "print(statistics(iterations[iterations != max_cycle]))\n",
    "print(np.sum(max_cycle == np.array(iterations)))\n"
   ]
  },
  {
   "cell_type": "markdown",
   "metadata": {},
   "source": [
    "## Damping "
   ]
  },
  {
   "cell_type": "code",
   "execution_count": null,
   "metadata": {},
   "outputs": [],
   "source": [
    "from SCFInitialGuess.utilities.analysis import mf_initializer_damping as mf_initializer\n",
    "from SCFInitialGuess.utilities.analysis import measure_iterations\n",
    "from SCFInitialGuess.utilities.usermessages import Messenger as msg\n",
    "msg.print_level = 0\n",
    "\n",
    "    \n",
    "iterations = np.array(measure_iterations(\n",
    "    mf_initializer, \n",
    "    p_nn, \n",
    "    data.molecules[2]\n",
    "))\n",
    "\n",
    "max_cycle = mf_initializer(\n",
    "    data.molecules[2][0].get_pyscf_molecule()\n",
    ").max_cycle\n",
    "\n",
    "print(statistics(iterations))\n",
    "print(statistics(iterations[iterations != max_cycle]))\n",
    "print(np.sum(max_cycle == np.array(iterations)))"
   ]
  },
  {
   "cell_type": "markdown",
   "metadata": {},
   "source": [
    "## DIIS "
   ]
  },
  {
   "cell_type": "code",
   "execution_count": null,
   "metadata": {},
   "outputs": [],
   "source": [
    "from SCFInitialGuess.utilities.analysis import mf_initializer_diis as mf_initializer\n",
    "from SCFInitialGuess.utilities.analysis import measure_iterations\n",
    "from SCFInitialGuess.utilities.usermessages import Messenger as msg\n",
    "msg.print_level = 0\n",
    "\n",
    "    \n",
    "iterations = np.array(measure_iterations(\n",
    "    mf_initializer, \n",
    "    p_nn, \n",
    "    data.molecules[2]\n",
    "))\n",
    "\n",
    "max_cycle = mf_initializer(\n",
    "    data.molecules[2][0].get_pyscf_molecule()\n",
    ").max_cycle\n",
    "\n",
    "print(statistics(iterations))\n",
    "print(statistics(iterations[iterations != max_cycle]))\n",
    "print(np.sum(max_cycle == np.array(iterations)))"
   ]
  },
  {
   "cell_type": "markdown",
   "metadata": {},
   "source": [
    "# In case only 1 kind of molecule is used "
   ]
  },
  {
   "cell_type": "code",
   "execution_count": 37,
   "metadata": {},
   "outputs": [
    {
     "name": "stdout",
     "output_type": "stream",
     "text": [
      "--- Absolute Error ---\n",
      "1.15405E-02 +- 8.43906E-03\n",
      "--- Symmetry Error ---\n",
      "0.00000E+00 +- 0.00000E+00\n",
      "--- Idempotence Error ---\n",
      "1.15436E-02 +- 8.69451E-04\n",
      "--- Occupance Error ---\n",
      "1.51234E+00 +- 3.14587E-01\n",
      "--- HF Energy Error ---\n",
      "1.75421E+00 +- 3.01624E-01\n",
      "--- Avg. Iterations ---\n",
      "3.46866E+01 +- 1.72089E+01\n",
      "--- Avg. Iterations W/O Non Converged ---\n",
      "3.26769E+01 +- 1.30370E+01\n",
      "--- Num. Not Convd. ---\n",
      "6\n",
      "\n"
     ]
    }
   ],
   "source": [
    "from SCFInitialGuess.utilities.analysis import \\\n",
    "    make_results_str, measure_all_quantities, mf_initializer\n",
    "from  SCFInitialGuess.utilities.usermessages import Messenger as msg\n",
    "\n",
    "msg.print_level=0\n",
    "\n",
    "print(make_results_str(measure_all_quantities(\n",
    "    p_nn,\n",
    "    dataset,\n",
    "    molecules[2],\n",
    "    n_electrons,\n",
    "    mf_initializer,\n",
    "    dim=dim,\n",
    "    is_triu=False,\n",
    "    is_dataset_triu=False,\n",
    "    s=S[ind:]\n",
    ")))"
   ]
  },
  {
   "cell_type": "code",
   "execution_count": null,
   "metadata": {},
   "outputs": [],
   "source": []
  }
 ],
 "metadata": {
  "kernelspec": {
   "display_name": "Python 3",
   "language": "python",
   "name": "python3"
  },
  "language_info": {
   "codemirror_mode": {
    "name": "ipython",
    "version": 3
   },
   "file_extension": ".py",
   "mimetype": "text/x-python",
   "name": "python",
   "nbconvert_exporter": "python",
   "pygments_lexer": "ipython3",
   "version": "3.6.4"
  }
 },
 "nbformat": 4,
 "nbformat_minor": 2
}
