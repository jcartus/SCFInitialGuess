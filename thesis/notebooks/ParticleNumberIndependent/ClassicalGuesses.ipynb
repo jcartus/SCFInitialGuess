{
 "cells": [
  {
   "cell_type": "code",
   "execution_count": null,
   "metadata": {
    "scrolled": true
   },
   "outputs": [],
   "source": [
    "import numpy as np\n",
    "import matplotlib.pyplot as plt\n",
    "import tensorflow as tf\n",
    "from tensorflow import keras\n",
    "import seaborn as sns\n",
    "\n",
    "from os.path import join\n",
    "\n",
    "plt.style.use([\"seaborn\", \"thesis\"])"
   ]
  },
  {
   "cell_type": "code",
   "execution_count": null,
   "metadata": {
    "scrolled": true
   },
   "outputs": [],
   "source": [
    "plt.rc(\"figure\", figsize=(8,4))"
   ]
  },
  {
   "cell_type": "markdown",
   "metadata": {},
   "source": [
    "# Data "
   ]
  },
  {
   "cell_type": "code",
   "execution_count": null,
   "metadata": {
    "scrolled": true
   },
   "outputs": [],
   "source": [
    "from SCFInitialGuess.utilities.dataset import Data\n",
    "\n",
    "target = \"P\"\n",
    "\n",
    "data = Data()\n",
    "\n",
    "data.include(data_path = \"../../dataset/MethanT/\", postfix = \"MethanT\", target=target)\n",
    "data.include(data_path = \"../../dataset/MethanT2/\", postfix = \"MethanT2\", target=target)\n",
    "data.include(data_path = \"../../dataset/MethanT3/\", postfix = \"MethanT3\", target=target)\n",
    "data.include(data_path = \"../../dataset/MethanT4/\", postfix = \"MethanT4\", target=target)\n",
    "\n",
    "data.include(data_path = \"../../dataset/EthanT/\",  postfix = \"EthanT\", target=target)\n",
    "data.include(data_path = \"../../dataset/EthanT2/\", postfix = \"EthanT2\", target=target)\n",
    "data.include(data_path = \"../../dataset/EthanT3/\", postfix = \"EthanT3\", target=target)\n",
    "\n",
    "data.include(data_path = \"../../dataset/EthenT/\",  postfix = \"EthenT\", target=target)\n",
    "data.include(data_path = \"../../dataset/EthenT2/\", postfix = \"EthenT2\", target=target)\n",
    "data.include(data_path = \"../../dataset/EthenT3/\", postfix = \"EthenT3\", target=target)\n",
    "\n",
    "data.include(data_path = \"../../dataset/EthinT/\",  postfix = \"EthinT\", target=target)\n",
    "data.include(data_path = \"../../dataset/EthinT2/\", postfix = \"EthinT2\", target=target)\n",
    "data.include(data_path = \"../../dataset/EthinT3/\", postfix = \"EthinT3\", target=target)\n",
    "\n",
    "#data.include(data_path = \"../../dataset/QM9/\", postfix = \"QM9-300\")"
   ]
  },
  {
   "cell_type": "markdown",
   "metadata": {},
   "source": [
    "# Calculate Guesses "
   ]
  },
  {
   "cell_type": "code",
   "execution_count": null,
   "metadata": {
    "scrolled": true
   },
   "outputs": [],
   "source": [
    "from pyscf.scf import hf\n",
    "p_gwh = [hf.init_guess_by_wolfsberg_helmholtz(mol.get_pyscf_molecule()) for mol in data.molecules[2]]"
   ]
  },
  {
   "cell_type": "code",
   "execution_count": null,
   "metadata": {
    "scrolled": true
   },
   "outputs": [],
   "source": [
    "p_sad = [hf.init_guess_by_atom(mol.get_pyscf_molecule()) for mol in data.molecules[2]]"
   ]
  },
  {
   "cell_type": "markdown",
   "metadata": {},
   "source": [
    "# Evaluate GWH "
   ]
  },
  {
   "cell_type": "code",
   "execution_count": null,
   "metadata": {},
   "outputs": [],
   "source": [
    "from SCFInitialGuess.utilities.analysis import mf_initializer\n",
    "from SCFInitialGuess.utilities.analysis import measure_iterations\n",
    "from SCFInitialGuess.utilities.usermessages import Messenger as msg\n",
    "msg.print_level = 0\n",
    "\n",
    "    \n",
    "iterations = np.array(measure_iterations(\n",
    "    mf_initializer, \n",
    "    p_gwh, \n",
    "    data.molecules[2]\n",
    "))\n",
    "\n",
    "max_cycle = mf_initializer(\n",
    "    data.molecules[2][0].get_pyscf_molecule()\n",
    ").max_cycle\n",
    "\n",
    "print(statistics(iterations))\n",
    "print(statistics(iterations[iterations != max_cycle]))\n",
    "print(np.sum(max_cycle == np.array(iterations)))\n"
   ]
  },
  {
   "cell_type": "code",
   "execution_count": null,
   "metadata": {},
   "outputs": [],
   "source": [
    "from SCFInitialGuess.utilities.analysis import mf_initializer_damping as mf_initializer\n",
    "\n",
    "    \n",
    "iterations = np.array(measure_iterations(\n",
    "    mf_initializer, \n",
    "    p_gwh, \n",
    "    data.molecules[2]\n",
    "))\n",
    "\n",
    "max_cycle = mf_initializer(\n",
    "    data.molecules[2][0].get_pyscf_molecule()\n",
    ").max_cycle\n",
    "\n",
    "print(statistics(iterations))\n",
    "print(statistics(iterations[iterations != max_cycle]))\n",
    "print(np.sum(max_cycle == np.array(iterations)))"
   ]
  },
  {
   "cell_type": "code",
   "execution_count": null,
   "metadata": {},
   "outputs": [],
   "source": [
    "from SCFInitialGuess.utilities.analysis import mf_initializer_diis as mf_initializer\n",
    "\n",
    "    \n",
    "iterations = np.array(measure_iterations(\n",
    "    mf_initializer, \n",
    "    p_gwh, \n",
    "    data.molecules[2]\n",
    "))\n",
    "\n",
    "max_cycle = mf_initializer(\n",
    "    data.molecules[2][0].get_pyscf_molecule()\n",
    ").max_cycle\n",
    "\n",
    "print(statistics(iterations))\n",
    "print(statistics(iterations[iterations != max_cycle]))\n",
    "print(np.sum(max_cycle == np.array(iterations)))"
   ]
  },
  {
   "cell_type": "markdown",
   "metadata": {},
   "source": [
    "# Evaluate SAD "
   ]
  },
  {
   "cell_type": "code",
   "execution_count": null,
   "metadata": {},
   "outputs": [],
   "source": [
    "from SCFInitialGuess.utilities.analysis import mf_initializer\n",
    "from SCFInitialGuess.utilities.analysis import measure_iterations\n",
    "from SCFInitialGuess.utilities.usermessages import Messenger as msg\n",
    "msg.print_level = 0\n",
    "\n",
    "    \n",
    "iterations = np.array(measure_iterations(\n",
    "    mf_initializer, \n",
    "    p_sad, \n",
    "    data.molecules[2]\n",
    "))\n",
    "\n",
    "max_cycle = mf_initializer(\n",
    "    data.molecules[2][0].get_pyscf_molecule()\n",
    ").max_cycle\n",
    "\n",
    "print(statistics(iterations))\n",
    "print(statistics(iterations[iterations != max_cycle]))\n",
    "print(np.sum(max_cycle == np.array(iterations)))\n"
   ]
  },
  {
   "cell_type": "code",
   "execution_count": null,
   "metadata": {},
   "outputs": [],
   "source": [
    "from SCFInitialGuess.utilities.analysis import mf_initializer_damping as mf_initializer\n",
    "\n",
    "    \n",
    "iterations = np.array(measure_iterations(\n",
    "    mf_initializer, \n",
    "    p_sad, \n",
    "    data.molecules[2]\n",
    "))\n",
    "\n",
    "max_cycle = mf_initializer(\n",
    "    data.molecules[2][0].get_pyscf_molecule()\n",
    ").max_cycle\n",
    "\n",
    "print(statistics(iterations))\n",
    "print(statistics(iterations[iterations != max_cycle]))\n",
    "print(np.sum(max_cycle == np.array(iterations)))"
   ]
  },
  {
   "cell_type": "code",
   "execution_count": null,
   "metadata": {},
   "outputs": [],
   "source": [
    "from SCFInitialGuess.utilities.analysis import mf_initializer_diis as mf_initializer\n",
    "\n",
    "    \n",
    "iterations = np.array(measure_iterations(\n",
    "    mf_initializer, \n",
    "    p_sad, \n",
    "    data.molecules[2]\n",
    "))\n",
    "\n",
    "max_cycle = mf_initializer(\n",
    "    data.molecules[2][0].get_pyscf_molecule()\n",
    ").max_cycle\n",
    "\n",
    "print(statistics(iterations))\n",
    "print(statistics(iterations[iterations != max_cycle]))\n",
    "print(np.sum(max_cycle == np.array(iterations)))"
   ]
  }
 ],
 "metadata": {
  "kernelspec": {
   "display_name": "Python 3",
   "language": "python",
   "name": "python3"
  },
  "language_info": {
   "codemirror_mode": {
    "name": "ipython",
    "version": 3
   },
   "file_extension": ".py",
   "mimetype": "text/x-python",
   "name": "python",
   "nbconvert_exporter": "python",
   "pygments_lexer": "ipython3",
   "version": "3.6.4"
  }
 },
 "nbformat": 4,
 "nbformat_minor": 2
}
