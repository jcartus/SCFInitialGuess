{
 "cells": [
  {
   "cell_type": "code",
   "execution_count": 2,
   "metadata": {},
   "outputs": [
    {
     "name": "stderr",
     "output_type": "stream",
     "text": [
      "/home/jo/anaconda3/lib/python3.6/site-packages/h5py/__init__.py:36: FutureWarning: Conversion of the second argument of issubdtype from `float` to `np.floating` is deprecated. In future, it will be treated as `np.float64 == np.dtype(float).type`.\n",
      "  from ._conv import register_converters as _register_converters\n"
     ]
    }
   ],
   "source": [
    "import numpy as np\n",
    "import matplotlib.pyplot as plt\n",
    "import tensorflow as tf\n",
    "from tensorflow import keras\n",
    "\n",
    "from os.path import join\n",
    "\n",
    "plt.style.use([\"seaborn\", \"thesis\"])"
   ]
  },
  {
   "cell_type": "markdown",
   "metadata": {},
   "source": [
    "# Prepare Dataset "
   ]
  },
  {
   "cell_type": "code",
   "execution_count": 5,
   "metadata": {},
   "outputs": [],
   "source": [
    "from SCFInitialGuess.utilities.dataset import extract_triu_batch, AbstractDataset\n",
    "\n",
    "data_path = \"../../dataset/TSmall_sto3g\"\n",
    "postfix = \"TSmall_sto3g\"\n",
    "dim = 26\n",
    "\n",
    "S = np.load(join(data_path, \"S\" + postfix + \".npy\"))\n",
    "P = np.load(join(data_path, \"P\" + postfix + \".npy\"))\n",
    "F = np.load(join(data_path, \"F\" + postfix + \".npy\"))\n",
    "\n",
    "index = np.load(join(data_path, \"index\" + postfix + \".npy\"))\n",
    "\n",
    "molecules = np.load(join(data_path, \"molecules\" + postfix + \".npy\"))\n",
    "\n",
    "def split(x, y, ind):\n",
    "    return x[:ind], y[:ind], x[ind:], y[ind:]\n",
    "\n",
    "S = np.load(join(data_path, \"S\" + postfix + \".npy\"))\n",
    "P = np.load(join(data_path, \"P\" + postfix + \".npy\"))\n",
    "F = np.load(join(data_path, \"F\" + postfix + \".npy\"))\n",
    "\n",
    "index = np.load(join(data_path, \"index\" + postfix + \".npy\"))\n",
    "\n",
    "molecules = np.load(join(data_path, \"molecules\" + postfix + \".npy\"))\n",
    "\n",
    "\n",
    "\n",
    "ind = int(0.8 * len(index))\n",
    "\n",
    "s_triu = extract_triu_batch(S, dim)\n",
    "p_triu = extract_triu_batch(P, dim)\n",
    "\n",
    "s_triu_norm, mu, std = AbstractDataset.normalize(s_triu)\n",
    "\n",
    "\n",
    "s_train, p_train, s_test, p_test = split(s_triu_norm, p_triu, ind)"
   ]
  },
  {
   "cell_type": "markdown",
   "metadata": {},
   "source": [
    "# Test Utilities "
   ]
  },
  {
   "cell_type": "markdown",
   "metadata": {},
   "source": [
    "## Model generation "
   ]
  },
  {
   "cell_type": "code",
   "execution_count": 10,
   "metadata": {},
   "outputs": [],
   "source": [
    "dim_triu = dim * (dim + 1) // 2"
   ]
  },
  {
   "cell_type": "code",
   "execution_count": 8,
   "metadata": {},
   "outputs": [],
   "source": [
    "intializer = keras.initializers.TruncatedNormal(mean=0.0, stddev=0.01)\n",
    "\n",
    "def build_model(activation, structure, learning_rate):\n",
    "\n",
    "\n",
    "\n",
    "    model = keras.Sequential()\n",
    "\n",
    "    # input layer\n",
    "    model.add(keras.layers.Dense(dim_triu, activation=activation, input_dim=dim_triu, kernel_initializer=intializer, bias_initializer='zeros'))\n",
    "\n",
    "    # hidden\n",
    "    for layer in structure:\n",
    "\n",
    "        model.add(keras.layers.Dense(\n",
    "                layer, \n",
    "                activation=activation, \n",
    "                kernel_initializer=intializer, \n",
    "                #bias_initializer='zeros',\n",
    "                #kernel_regularizer=keras.regularizers.l2(1e-8)\n",
    "        ))\n",
    "\n",
    "\n",
    "    #output\n",
    "    model.add(keras.layers.Dense(dim_triu))\n",
    "\n",
    "    model.compile(optimizer=keras.optimizers.Adam(learning_rate), loss='MSE', metrics=['mae', 'mse'])\n",
    "    \n",
    "    return model"
   ]
  },
  {
   "cell_type": "markdown",
   "metadata": {},
   "source": [
    "## Training "
   ]
  },
  {
   "cell_type": "code",
   "execution_count": 36,
   "metadata": {},
   "outputs": [],
   "source": [
    "early_stopping = keras.callbacks.EarlyStopping(\n",
    "    monitor=\"val_mean_squared_error\", \n",
    "    min_delta=1e-7, \n",
    "    patience=5, \n",
    "    verbose=1\n",
    ")\n",
    "\n",
    "reduce_lr = keras.callbacks.ReduceLROnPlateau(\n",
    "    monitor='val_loss', \n",
    "    factor=0.5, \n",
    "    patience=5, \n",
    "    verbose=1, \n",
    "    mode='auto', \n",
    "    min_delta=1e-5, \n",
    "    cooldown=10, \n",
    "    min_lr=1e-10\n",
    ")"
   ]
  },
  {
   "cell_type": "code",
   "execution_count": 37,
   "metadata": {},
   "outputs": [],
   "source": [
    "n_tests = 2#5\n",
    "n_resets = 1\n",
    "epochs = 10000\n",
    "\n",
    "\n",
    "def test_model(structure, activation, learning_rate=1e-4):\n",
    "    error = []\n",
    "    \n",
    "    for i in range(n_tests):\n",
    "        \n",
    "        keras.backend.clear_session()\n",
    "        model = build_model(activation, structure, learning_rate)\n",
    "        \n",
    "        for j in range(n_resets):\n",
    "            keras.backend.set_value(model.optimizer.lr, learning_rate)\n",
    "            \n",
    "            history = model.fit(\n",
    "                x = s_train,\n",
    "                y = p_train,\n",
    "                epochs=epochs,\n",
    "                shuffle=True,\n",
    "                validation_data=(s_test, p_test), \n",
    "                verbose=0, \n",
    "                callbacks=[\n",
    "                    early_stopping, \n",
    "                    reduce_lr\n",
    "                ]\n",
    "            )\n",
    "        \n",
    "        error.append(np.min(history.history[\"val_mean_absolute_error\"]))\n",
    "        \n",
    "        print(\" - Test \" + str(i+1) + \": \" + str(error[-1]))\n",
    "    \n",
    "    return error\n",
    "\n",
    "def run_layer_test_series(activation, structures, learning_rate):\n",
    "    error = []\n",
    "    for structure in structures:\n",
    "        print(\"Layers: \" + str(structure))\n",
    "        error.append(test_model(structure, activation, learning_rate=learning_rate))\n",
    "    return error"
   ]
  },
  {
   "cell_type": "markdown",
   "metadata": {},
   "source": [
    "# Testing "
   ]
  },
  {
   "cell_type": "code",
   "execution_count": 38,
   "metadata": {},
   "outputs": [],
   "source": [
    "structures = [\n",
    "        [dim_triu, dim_triu],\n",
    "        #[dim_triu, dim_triu, dim_triu],\n",
    "        #[dim_triu + 100, dim_triu + 100],\n",
    "        [dim_triu + 250, dim_triu + 150, dim_triu + 50],\n",
    "        #[dim_triu + 100, dim_triu + 200, dim_triu + 100],\n",
    "        #[dim_triu * 2]\n",
    "    ]\n",
    "        \n",
    "learning_rates = [1e-3, 1e-4]#, 1e-5]"
   ]
  },
  {
   "cell_type": "code",
   "execution_count": 48,
   "metadata": {
    "scrolled": true
   },
   "outputs": [
    {
     "name": "stdout",
     "output_type": "stream",
     "text": [
      "# lr0.001\n",
      "Layers: [351, 351]\n",
      "\n",
      "Epoch 00043: ReduceLROnPlateau reducing learning rate to 0.0005000000237487257.\n",
      "Epoch 00043: early stopping\n",
      " - Test 1: 0.011192191925029554\n",
      "\n",
      "Epoch 00047: ReduceLROnPlateau reducing learning rate to 0.0005000000237487257.\n",
      "\n",
      "Epoch 00069: ReduceLROnPlateau reducing learning rate to 0.0002500000118743628.\n",
      "\n",
      "Epoch 00086: ReduceLROnPlateau reducing learning rate to 0.0001250000059371814.\n",
      "\n",
      "Epoch 00101: ReduceLROnPlateau reducing learning rate to 6.25000029685907e-05.\n",
      "\n",
      "Epoch 00115: ReduceLROnPlateau reducing learning rate to 3.125000148429535e-05.\n",
      "\n",
      "Epoch 00129: ReduceLROnPlateau reducing learning rate to 1.5625000742147677e-05.\n",
      "\n",
      "Epoch 00143: ReduceLROnPlateau reducing learning rate to 7.812500371073838e-06.\n",
      "\n",
      "Epoch 00157: ReduceLROnPlateau reducing learning rate to 3.906250185536919e-06.\n",
      "Epoch 00168: early stopping\n",
      " - Test 2: 0.005693463138327818\n",
      "Layers: [601, 501, 401]\n",
      "\n",
      "Epoch 00052: ReduceLROnPlateau reducing learning rate to 0.0005000000237487257.\n",
      "Epoch 00052: early stopping\n",
      " - Test 1: 0.012988217462280497\n",
      "\n",
      "Epoch 00043: ReduceLROnPlateau reducing learning rate to 0.0005000000237487257.\n",
      "Epoch 00043: early stopping\n",
      " - Test 2: 0.014057095662982607\n",
      "# lr0.0001\n",
      "Layers: [351, 351]\n",
      "\n",
      "Epoch 00114: ReduceLROnPlateau reducing learning rate to 4.999999873689376e-05.\n",
      "Epoch 00114: early stopping\n",
      " - Test 1: 0.013906710058339496\n",
      "\n",
      "Epoch 00080: ReduceLROnPlateau reducing learning rate to 4.999999873689376e-05.\n",
      "\n",
      "Epoch 00137: ReduceLROnPlateau reducing learning rate to 2.499999936844688e-05.\n",
      "\n",
      "Epoch 00151: ReduceLROnPlateau reducing learning rate to 1.249999968422344e-05.\n",
      "\n",
      "Epoch 00168: ReduceLROnPlateau reducing learning rate to 6.24999984211172e-06.\n",
      "\n",
      "Epoch 00182: ReduceLROnPlateau reducing learning rate to 3.12499992105586e-06.\n",
      "\n",
      "Epoch 00196: ReduceLROnPlateau reducing learning rate to 1.56249996052793e-06.\n",
      "\n",
      "Epoch 00210: ReduceLROnPlateau reducing learning rate to 7.81249980263965e-07.\n",
      "\n",
      "Epoch 00224: ReduceLROnPlateau reducing learning rate to 3.906249901319825e-07.\n",
      "Epoch 00230: early stopping\n",
      " - Test 2: 0.012063723367949327\n",
      "Layers: [601, 501, 401]\n",
      "\n",
      "Epoch 00094: ReduceLROnPlateau reducing learning rate to 4.999999873689376e-05.\n",
      "\n",
      "Epoch 00175: ReduceLROnPlateau reducing learning rate to 2.499999936844688e-05.\n",
      "\n",
      "Epoch 00192: ReduceLROnPlateau reducing learning rate to 1.249999968422344e-05.\n",
      "\n",
      "Epoch 00206: ReduceLROnPlateau reducing learning rate to 6.24999984211172e-06.\n",
      "\n",
      "Epoch 00220: ReduceLROnPlateau reducing learning rate to 3.12499992105586e-06.\n",
      "\n",
      "Epoch 00234: ReduceLROnPlateau reducing learning rate to 1.56249996052793e-06.\n",
      "\n",
      "Epoch 00248: ReduceLROnPlateau reducing learning rate to 7.81249980263965e-07.\n",
      "\n",
      "Epoch 00262: ReduceLROnPlateau reducing learning rate to 3.906249901319825e-07.\n",
      "\n",
      "Epoch 00276: ReduceLROnPlateau reducing learning rate to 1.9531249506599124e-07.\n",
      "Epoch 00284: early stopping\n",
      " - Test 1: 0.011969676556352952\n",
      "\n",
      "Epoch 00119: ReduceLROnPlateau reducing learning rate to 4.999999873689376e-05.\n",
      "\n",
      "Epoch 00175: ReduceLROnPlateau reducing learning rate to 2.499999936844688e-05.\n",
      "\n",
      "Epoch 00189: ReduceLROnPlateau reducing learning rate to 1.249999968422344e-05.\n",
      "\n",
      "Epoch 00208: ReduceLROnPlateau reducing learning rate to 6.24999984211172e-06.\n",
      "\n",
      "Epoch 00222: ReduceLROnPlateau reducing learning rate to 3.12499992105586e-06.\n",
      "\n",
      "Epoch 00236: ReduceLROnPlateau reducing learning rate to 1.56249996052793e-06.\n",
      "\n",
      "Epoch 00250: ReduceLROnPlateau reducing learning rate to 7.81249980263965e-07.\n",
      "\n",
      "Epoch 00264: ReduceLROnPlateau reducing learning rate to 3.906249901319825e-07.\n",
      "Epoch 00268: early stopping\n",
      " - Test 2: 0.011926189690494715\n"
     ]
    }
   ],
   "source": [
    "res = []\n",
    "for lr in learning_rates:\n",
    "    print(\"# lr\" + str(lr))\n",
    "    res.append(run_layer_test_series('elu', structures, lr))"
   ]
  },
  {
   "cell_type": "code",
   "execution_count": 50,
   "metadata": {},
   "outputs": [],
   "source": [
    "x = [ \n",
    "    s for s in range(len(structures)) for i in range(n_tests)\n",
    "]"
   ]
  },
  {
   "cell_type": "code",
   "execution_count": 51,
   "metadata": {},
   "outputs": [
    {
     "data": {
      "text/plain": [
       "'351_351'"
      ]
     },
     "execution_count": 51,
     "metadata": {},
     "output_type": "execute_result"
    }
   ],
   "source": [
    "def structure_string(structure):\n",
    "    return \"_\".join(list(map(str,list(structure))))\n",
    "structure_string(structures[0])"
   ]
  },
  {
   "cell_type": "code",
   "execution_count": 65,
   "metadata": {},
   "outputs": [
    {
     "data": {
      "image/png": "[encoded data removed]",
      "text/plain": [
       "<matplotlib.figure.Figure at 0x7fa4797b24a8>"
      ]
     },
     "metadata": {},
     "output_type": "display_data"
    }
   ],
   "source": [
    "for r, lr in zip(res, learning_rates):\n",
    "    plt.scatter(x, np.array(r).flatten(), marker=\"x\", label=\"Lr = \" + str(lr) )\n",
    "\n",
    "#plt.xlabel(\"Number of Hidden Layers / 1\")\n",
    "plt.ylabel(\"Mean Absolute Error / 1\")\n",
    "\n",
    "plt.xticks(\n",
    "    np.arange(len(structures)),\n",
    "    [structure_string(structure) for structure in structures],\n",
    "    rotation=-60\n",
    ")\n",
    "\n",
    "plt.ylim(0, 0.02)\n",
    "\n",
    "plt.legend()\n",
    "\n",
    "plt.show()"
   ]
  },
  {
   "cell_type": "code",
   "execution_count": 64,
   "metadata": {},
   "outputs": [
    {
     "data": {
      "text/plain": [
       "2.5e-05"
      ]
     },
     "execution_count": 64,
     "metadata": {},
     "output_type": "execute_result"
    }
   ],
   "source": [
    "(5e-3)**2"
   ]
  },
  {
   "cell_type": "code",
   "execution_count": null,
   "metadata": {},
   "outputs": [],
   "source": []
  }
 ],
 "metadata": {
  "kernelspec": {
   "display_name": "Python 3",
   "language": "python",
   "name": "python3"
  },
  "language_info": {
   "codemirror_mode": {
    "name": "ipython",
    "version": 3
   },
   "file_extension": ".py",
   "mimetype": "text/x-python",
   "name": "python",
   "nbconvert_exporter": "python",
   "pygments_lexer": "ipython3",
   "version": "3.6.4"
  }
 },
 "nbformat": 4,
 "nbformat_minor": 2
}
