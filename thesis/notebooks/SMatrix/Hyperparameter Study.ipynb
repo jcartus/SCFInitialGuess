{
 "cells": [
  {
   "cell_type": "code",
   "execution_count": 2,
   "metadata": {},
   "outputs": [
    {
     "name": "stderr",
     "output_type": "stream",
     "text": [
      "/home/jcartus/anaconda3/lib/python3.6/site-packages/h5py/__init__.py:36: FutureWarning: Conversion of the second argument of issubdtype from `float` to `np.floating` is deprecated. In future, it will be treated as `np.float64 == np.dtype(float).type`.\n",
      "  from ._conv import register_converters as _register_converters\n"
     ]
    }
   ],
   "source": [
    "import numpy as np\n",
    "import matplotlib.pyplot as plt\n",
    "import tensorflow as tf\n",
    "from tensorflow import keras\n",
    "\n",
    "from os.path import join\n",
    "\n",
    "plt.style.use([\"seaborn\", \"thesis\"])"
   ]
  },
  {
   "cell_type": "markdown",
   "metadata": {},
   "source": [
    "# Prepare Dataset "
   ]
  },
  {
   "cell_type": "code",
   "execution_count": 3,
   "metadata": {},
   "outputs": [],
   "source": [
    "data_path = \"../../dataset/400\"\n",
    "postfix = \"400\"\n",
    "\n",
    "dim = 26\n",
    "\n",
    "S = np.load(join(data_path, \"S\" + postfix + \".npy\"))\n",
    "P = np.load(join(data_path, \"P\" + postfix + \".npy\"))\n",
    "F = np.load(join(data_path, \"F\" + postfix + \".npy\"))\n",
    "\n",
    "index = np.load(join(data_path, \"index\" + postfix + \".npy\"))\n",
    "\n",
    "molecules = np.load(join(data_path, \"molecules\" + postfix + \".npy\"))"
   ]
  },
  {
   "cell_type": "code",
   "execution_count": 4,
   "metadata": {},
   "outputs": [],
   "source": [
    "from SCFInitialGuess.utilities.dataset import extract_triu_batch, AbstractDataset\n",
    "\n",
    "BATCH_SIZE = 32\n",
    "\n",
    "s_triu = extract_triu_batch(S, dim)\n",
    "p_triu = extract_triu_batch(P, dim)\n",
    "\n",
    "s_triu_norm, mu, std = AbstractDataset.normalize(s_triu)\n",
    "\n",
    "#dataset = tf.data.Dataset.from_tensor_slices((s_triu_norm, p_triu))\n",
    "#dataset.batch(BATCH_SIZE).repeat()\n",
    "\n",
    "data= (s_triu_norm, p_triu)\n",
    "\n",
    "#ind_validation = int(np.ceil(0.8 * len(S)))\n",
    "#train = (s_triu_norm[:ind_validation], p_triu[:ind_validation])\n",
    "#validation = (s_triu_norm[ind_validation:], p_triu[ind_validation:])\n",
    "\n",
    "#train.batch(BATCH_SIZE).repeat()\n",
    "#validation.batch(BATCH_SIZE).repeat()\n",
    "\n",
    "\n"
   ]
  },
  {
   "cell_type": "markdown",
   "metadata": {},
   "source": [
    "# Test Utilities "
   ]
  },
  {
   "cell_type": "code",
   "execution_count": 91,
   "metadata": {},
   "outputs": [],
   "source": [
    "def build_model(activation, n_layers, learning_rate=1e-4):\n",
    "    initializer = keras.initializers.TruncatedNormal(mean=0.0, stddev=0.01)\n",
    "    \n",
    "    model = keras.Sequential()\n",
    "    \n",
    "    # input layer\n",
    "    model.add(keras.layers.Dense(\n",
    "        dim_triu, \n",
    "        activation=activation, \n",
    "        input_dim=dim_triu,\n",
    "        kernel_initializer=initializer, \n",
    "        #bias_initializer='zeros',\n",
    "    ))\n",
    "    \n",
    "    # hidden layers\n",
    "    for i in range(n_layers):\n",
    "        model.add(keras.layers.Dense(\n",
    "            dim_triu, \n",
    "            activation,\n",
    "            kernel_initializer=initializer, \n",
    "        ))\n",
    "    \n",
    "    #output\n",
    "    model.add(keras.layers.Dense(\n",
    "        dim_triu,\n",
    "        kernel_initializer=initializer, \n",
    "    ))\n",
    "    \n",
    "    model.compile(optimizer=tf.train.AdamOptimizer(learning_rate), loss='MSE', metrics=['mae', 'mse'])\n",
    "    \n",
    "    return model"
   ]
  },
  {
   "cell_type": "code",
   "execution_count": 98,
   "metadata": {},
   "outputs": [],
   "source": [
    "N_TESTS = 5\n",
    "EPOCHS = 10000\n",
    "\n",
    "early_stopping = keras.callbacks.EarlyStopping(monitor=\"val_mean_squared_error\", min_delta=1e-10, patience=5)\n",
    "\n",
    "def test_model(n_layers, activation, n_tests=N_TESTS, epochs=EPOCHS, learning_rate=1e-4):\n",
    "    error = []\n",
    "    \n",
    "    for i in range(n_tests):\n",
    "        keras.backend.clear_session()\n",
    "        model = build_model(activation, layer, learning_rate)\n",
    "        history = model.fit(data[0], data[1], epochs=epochs, validation_split=0.2, verbose=0, callbacks=[early_stopping])\n",
    "        \n",
    "        error.append(np.min(history.history[\"val_mean_absolute_error\"]))\n",
    "        \n",
    "        print(\" - Test \" + str(i+1) + \": \" + str(error[-1]))\n",
    "    \n",
    "    return error\n",
    "\n",
    "def run_layer_test_series(activation, layers, learning_rate):\n",
    "    error = []\n",
    "    for layer in layers:\n",
    "        print(\"Layers: \" + str(layer))\n",
    "        error.append(test_model(layer, activation, learning_rate=learning_rate))\n",
    "    return error"
   ]
  },
  {
   "cell_type": "markdown",
   "metadata": {},
   "source": [
    "# Testing "
   ]
  },
  {
   "cell_type": "code",
   "execution_count": 101,
   "metadata": {},
   "outputs": [],
   "source": [
    "layers = [2, 3, 4, 6, 10]\n",
    "learning_rates = [1e-3, 1e-4, 1e-5]"
   ]
  },
  {
   "cell_type": "code",
   "execution_count": 102,
   "metadata": {},
   "outputs": [
    {
     "name": "stdout",
     "output_type": "stream",
     "text": [
      "# lr0.001\n",
      "Layers: 2\n",
      " - Test 1: 0.03917955647199607\n",
      " - Test 2: 0.03664106512365262\n",
      " - Test 3: 0.03918226792915794\n",
      " - Test 4: 0.02795815156880489\n",
      " - Test 5: 0.03831909710833849\n",
      "Layers: 3\n",
      " - Test 1: 0.03956884308910567\n",
      " - Test 2: 0.034777032873354666\n",
      " - Test 3: 0.031135836600764723\n",
      " - Test 4: 0.02837332609024915\n",
      " - Test 5: 0.03408684920180927\n",
      "# lr0.0001\n",
      "Layers: 2\n",
      " - Test 1: 0.12126924781021008\n",
      " - Test 2: 0.12314820043311632\n",
      " - Test 3: 0.12000379101796584\n",
      " - Test 4: 0.1223202926560867\n",
      " - Test 5: 0.12112834064428471\n",
      "Layers: 3\n",
      " - Test 1: 0.12321732925974634\n",
      " - Test 2: 0.1179753709430537\n",
      " - Test 3: 0.12115989311421213\n",
      " - Test 4: 0.11912330375476317\n",
      " - Test 5: 0.11986900096343568\n"
     ]
    }
   ],
   "source": [
    "res = []\n",
    "for lr in learning_rates:\n",
    "    print(\"# lr\" + str(lr))\n",
    "    res.append(run_layer_test_series('elu', layers, lr))"
   ]
  },
  {
   "cell_type": "code",
   "execution_count": 103,
   "metadata": {},
   "outputs": [],
   "source": [
    "x = np.array([layer for layer in layers for i in range(N_TESTS)])"
   ]
  },
  {
   "cell_type": "code",
   "execution_count": 105,
   "metadata": {},
   "outputs": [
    {
     "data": {
      "image/png": "[encoded data removed]",
      "text/plain": [
       "<matplotlib.figure.Figure at 0x7f34b7072588>"
      ]
     },
     "metadata": {},
     "output_type": "display_data"
    }
   ],
   "source": [
    "for r, lr in zip(res, learning_rates):\n",
    "    plt.scatter(x, np.array(r).flatten(), marker=\"x\", label=\"Lr = \" + str(lr) )\n",
    "\n",
    "plt.xlabel(\"Number of Hidden Layers / 1\")\n",
    "plt.ylabel(\"MAE / 1\")\n",
    "\n",
    "plt.legend()\n",
    "\n",
    "plt.show()"
   ]
  },
  {
   "cell_type": "code",
   "execution_count": 64,
   "metadata": {},
   "outputs": [
    {
     "data": {
      "text/plain": [
       "2.5e-05"
      ]
     },
     "execution_count": 64,
     "metadata": {},
     "output_type": "execute_result"
    }
   ],
   "source": [
    "(5e-3)**2"
   ]
  },
  {
   "cell_type": "code",
   "execution_count": null,
   "metadata": {},
   "outputs": [],
   "source": []
  }
 ],
 "metadata": {
  "kernelspec": {
   "display_name": "Python 3",
   "language": "python",
   "name": "python3"
  }
 },
 "nbformat": 4,
 "nbformat_minor": 2
}
