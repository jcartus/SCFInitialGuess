{
 "cells": [
  {
   "cell_type": "code",
   "execution_count": 2,
   "metadata": {},
   "outputs": [
    {
     "name": "stderr",
     "output_type": "stream",
     "text": [
      "/home/jcartus/anaconda3/lib/python3.6/site-packages/h5py/__init__.py:36: FutureWarning: Conversion of the second argument of issubdtype from `float` to `np.floating` is deprecated. In future, it will be treated as `np.float64 == np.dtype(float).type`.\n",
      "  from ._conv import register_converters as _register_converters\n"
     ]
    }
   ],
   "source": [
    "import numpy as np\n",
    "import matplotlib.pyplot as plt\n",
    "import tensorflow as tf\n",
    "from tensorflow import keras\n",
    "\n",
    "from os.path import join\n",
    "\n",
    "plt.style.use([\"seaborn\", \"thesis\"])"
   ]
  },
  {
   "cell_type": "markdown",
   "metadata": {},
   "source": [
    "# Prepare Dataset "
   ]
  },
  {
   "cell_type": "code",
   "execution_count": 3,
   "metadata": {},
   "outputs": [],
   "source": [
    "data_path = \"../../dataset/400\"\n",
    "postfix = \"400\"\n",
    "\n",
    "dim = 26\n",
    "\n",
    "S = np.load(join(data_path, \"S\" + postfix + \".npy\"))\n",
    "P = np.load(join(data_path, \"P\" + postfix + \".npy\"))\n",
    "F = np.load(join(data_path, \"F\" + postfix + \".npy\"))\n",
    "\n",
    "index = np.load(join(data_path, \"index\" + postfix + \".npy\"))\n",
    "\n",
    "molecules = np.load(join(data_path, \"molecules\" + postfix + \".npy\"))"
   ]
  },
  {
   "cell_type": "code",
   "execution_count": 4,
   "metadata": {},
   "outputs": [],
   "source": [
    "from SCFInitialGuess.utilities.dataset import extract_triu_batch, AbstractDataset\n",
    "\n",
    "BATCH_SIZE = 32\n",
    "\n",
    "s_triu = extract_triu_batch(S, dim)\n",
    "p_triu = extract_triu_batch(P, dim)\n",
    "\n",
    "s_triu_norm, mu, std = AbstractDataset.normalize(s_triu)\n",
    "\n",
    "#dataset = tf.data.Dataset.from_tensor_slices((s_triu_norm, p_triu))\n",
    "#dataset.batch(BATCH_SIZE).repeat()\n",
    "\n",
    "data= (s_triu_norm, p_triu)\n",
    "\n",
    "#ind_validation = int(np.ceil(0.8 * len(S)))\n",
    "#train = (s_triu_norm[:ind_validation], p_triu[:ind_validation])\n",
    "#validation = (s_triu_norm[ind_validation:], p_triu[ind_validation:])\n",
    "\n",
    "#train.batch(BATCH_SIZE).repeat()\n",
    "#validation.batch(BATCH_SIZE).repeat()\n",
    "\n",
    "\n"
   ]
  },
  {
   "cell_type": "markdown",
   "metadata": {},
   "source": [
    "# Test Utilities "
   ]
  },
  {
   "cell_type": "code",
   "execution_count": 6,
   "metadata": {},
   "outputs": [],
   "source": [
    "def build_model(activation, n_layers):\n",
    "    model = keras.Sequential()\n",
    "    \n",
    "    # input layer\n",
    "    model.add(keras.layers.Dense(dim_triu, activation, input_dim=dim_triu))\n",
    "    \n",
    "    # hidden layers\n",
    "    for i in range(n_layers):\n",
    "        model.add(keras.layers.Dense(dim_triu, activation))\n",
    "    \n",
    "    #output\n",
    "    model.add(keras.layers.Dense(dim_triu))\n",
    "    \n",
    "    model.compile(optimizer=tf.train.AdamOptimizer(0.01), loss='MSE', metrics=['mae'])\n",
    "    \n",
    "    return model"
   ]
  },
  {
   "cell_type": "code",
   "execution_count": 69,
   "metadata": {},
   "outputs": [],
   "source": [
    "N_TESTS = 5\n",
    "EPOCHS = 10000\n",
    "\n",
    "early_stopping = keras.callbacks.EarlyStopping(monitor=\"val_mean_absolute_error\", min_delta=5e-3, patience=5)\n",
    "\n",
    "def test_model(n_layers, activation, n_tests=N_TESTS, epochs=EPOCHS):\n",
    "    min_mae = []\n",
    "    \n",
    "    for i in range(n_tests):\n",
    "        \n",
    "        model = build_model(activation, layer)\n",
    "        history = model.fit(data[0], data[1], epochs=epochs, validation_split=0.2, verbose=0, callbacks=[early_stopping])\n",
    "        \n",
    "        min_mae.append(np.min(history.history[\"val_mean_absolute_error\"]))\n",
    "        \n",
    "        print(\" - Test \" + str(i+1) + \": \" + str(min_mae[-1]))\n",
    "    \n",
    "    return min_mae\n",
    "\n",
    "def run_layer_test_series(activation, layers):\n",
    "    error = []\n",
    "    for layer in layers:\n",
    "        print(\"Layers: \" + str(layer))\n",
    "        error.append(test_model(layer, activation))\n",
    "    return error"
   ]
  },
  {
   "cell_type": "markdown",
   "metadata": {},
   "source": [
    "# Testing "
   ]
  },
  {
   "cell_type": "code",
   "execution_count": 70,
   "metadata": {},
   "outputs": [],
   "source": [
    "layers = [2, 4, 6, 10, 15]"
   ]
  },
  {
   "cell_type": "code",
   "execution_count": 71,
   "metadata": {},
   "outputs": [
    {
     "name": "stdout",
     "output_type": "stream",
     "text": [
      "Layers: 2\n",
      " - Test 1: 0.29602374173392937\n",
      " - Test 2: 0.2982772837493045\n",
      " - Test 3: 0.30300367962230335\n",
      " - Test 4: 0.2976743822748011\n",
      " - Test 5: 0.29623397076425473\n",
      "Layers: 4\n",
      " - Test 1: 0.31212324076447606\n",
      " - Test 2: 0.29581759685327197\n",
      " - Test 3: 0.29620830111267155\n",
      " - Test 4: 0.30428011358276874\n",
      " - Test 5: 0.2910728952116218\n",
      "Layers: 6\n",
      " - Test 1: 0.29784041372212494\n",
      " - Test 2: 0.29671070299857905\n",
      " - Test 3: 0.3033972614067645\n",
      " - Test 4: 0.30686181143295665\n",
      " - Test 5: 0.296159055607378\n",
      "Layers: 10\n",
      " - Test 1: 0.2962838386701158\n",
      " - Test 2: 0.30304396251016413\n",
      " - Test 3: 0.2927912264323432\n",
      " - Test 4: 0.28670895124269913\n",
      " - Test 5: 0.297175712329297\n",
      "Layers: 15\n",
      " - Test 1: 0.30037788738889143\n",
      " - Test 2: 0.3008864861874541\n",
      " - Test 3: 0.2967762560391229\n",
      " - Test 4: 0.2971033296309227\n",
      " - Test 5: 0.29810879718173633\n"
     ]
    }
   ],
   "source": [
    "mae_elu = run_layer_test_series('elu', layers)"
   ]
  },
  {
   "cell_type": "code",
   "execution_count": 72,
   "metadata": {},
   "outputs": [
    {
     "name": "stdout",
     "output_type": "stream",
     "text": [
      "Layers: 2\n",
      " - Test 1: 0.45033029239039774\n",
      " - Test 2: 0.42942329009702385\n",
      " - Test 3: 0.4378868866065317\n",
      " - Test 4: 0.450256195935336\n",
      " - Test 5: 0.4440347480872446\n",
      "Layers: 4\n",
      " - Test 1: 0.4524356299195408\n",
      " - Test 2: 0.47241906144402246\n",
      " - Test 3: 0.42864725363156025\n",
      " - Test 4: 0.462668812471973\n",
      " - Test 5: 0.44279449463875825\n",
      "Layers: 6\n",
      " - Test 1: 0.46706840666857635\n",
      " - Test 2: 0.4610422524538907\n",
      " - Test 3: 0.4483066977055605\n",
      " - Test 4: 0.45682121086711724\n",
      " - Test 5: 0.4456955635350598\n",
      "Layers: 10\n",
      " - Test 1: 0.45468797934942007\n",
      " - Test 2: 0.44336698937021995\n",
      " - Test 3: 0.43828939948200196\n",
      " - Test 4: 0.4587912808272464\n",
      " - Test 5: 0.4533353440525118\n",
      "Layers: 15\n",
      " - Test 1: 0.44585656159180254\n",
      " - Test 2: 0.4463162234992035\n",
      " - Test 3: 0.440402929201599\n",
      " - Test 4: 0.45321271389969126\n",
      " - Test 5: 0.43851291468320797\n"
     ]
    }
   ],
   "source": [
    "mae_selu = run_layer_test_series('selu', layers)"
   ]
  },
  {
   "cell_type": "code",
   "execution_count": 73,
   "metadata": {},
   "outputs": [],
   "source": [
    "x = np.array([layer for layer in layers for i in range(N_TESTS)])"
   ]
  },
  {
   "cell_type": "code",
   "execution_count": 74,
   "metadata": {},
   "outputs": [
    {
     "data": {
      "image/png": "[encoded data removed]",
      "text/plain": [
       "<matplotlib.figure.Figure at 0x7f34bcc2e1d0>"
      ]
     },
     "metadata": {},
     "output_type": "display_data"
    }
   ],
   "source": [
    "plt.scatter(x, np.array(mae_elu).flatten(), marker=\"x\", label=\"ELU\")\n",
    "plt.scatter(x, np.array(mae_selu).flatten(), marker=\"x\",  label=\"SELU\")\n",
    "\n",
    "plt.xlabel(\"Number of Hidden Layers / 1\")\n",
    "plt.ylabel(\"MAE / 1\")\n",
    "\n",
    "plt.legend()\n",
    "\n",
    "plt.show()"
   ]
  },
  {
   "cell_type": "code",
   "execution_count": 64,
   "metadata": {},
   "outputs": [
    {
     "data": {
      "text/plain": [
       "2.5e-05"
      ]
     },
     "execution_count": 64,
     "metadata": {},
     "output_type": "execute_result"
    }
   ],
   "source": [
    "(5e-3)**2"
   ]
  },
  {
   "cell_type": "code",
   "execution_count": null,
   "metadata": {},
   "outputs": [],
   "source": []
  }
 ],
 "metadata": {
  "kernelspec": {
   "display_name": "Python 3",
   "language": "python",
   "name": "python3"
  }
 },
 "nbformat": 4,
 "nbformat_minor": 2
}
