{
 "cells": [
  {
   "cell_type": "code",
   "execution_count": 1,
   "metadata": {},
   "outputs": [
    {
     "name": "stderr",
     "output_type": "stream",
     "text": [
      "/home/jo/anaconda3/lib/python3.6/site-packages/h5py/__init__.py:36: FutureWarning: Conversion of the second argument of issubdtype from `float` to `np.floating` is deprecated. In future, it will be treated as `np.float64 == np.dtype(float).type`.\n",
      "  from ._conv import register_converters as _register_converters\n"
     ]
    }
   ],
   "source": [
    "import numpy as np\n",
    "import tensorflow as tf\n",
    "import matplotlib as mpl\n",
    "import matplotlib.pyplot as plt\n",
    "\n",
    "from tensorflow import keras\n",
    "\n",
    "from os.path import join\n",
    "\n",
    "mpl.style.use([\"seaborn\", \"thesis\"])"
   ]
  },
  {
   "cell_type": "markdown",
   "metadata": {},
   "source": [
    "# Fetch Data"
   ]
  },
  {
   "cell_type": "code",
   "execution_count": 3,
   "metadata": {},
   "outputs": [],
   "source": [
    "from SCFInitialGuess.utilities.dataset import extract_triu_batch, AbstractDataset\n",
    "from sklearn.model_selection import train_test_split\n",
    "\n",
    "data_path = \"../../dataset/TSmall_sto3g\"\n",
    "postfix = \"TSmall_sto3g\"\n",
    "dim = 26\n",
    "#data_path = \"../butadien/data/\"\n",
    "#postfix = \"\"\n",
    "#dim = 26\n",
    "\n",
    "\n",
    "def split(x, y, ind):\n",
    "    return x[:ind], y[:ind], x[ind:], y[ind:]\n",
    "\n",
    "S = np.load(join(data_path, \"S\" + postfix + \".npy\"))\n",
    "P = np.load(join(data_path, \"P\" + postfix + \".npy\"))\n",
    "F = np.load(join(data_path, \"F\" + postfix + \".npy\"))\n",
    "\n",
    "index = np.load(join(data_path, \"index\" + postfix + \".npy\"))\n",
    "\n",
    "\n",
    "\n",
    "ind = int(0.8 * len(index))\n",
    "\n",
    "# extract only test models\n",
    "molecules = np.load(join(data_path, \"molecules\" + postfix + \".npy\"))[ind:]\n",
    "\n",
    "s_triu = extract_triu_batch(S, dim)\n",
    "p_triu = extract_triu_batch(P, dim)\n",
    "\n",
    "s_triu_norm, mu, std = AbstractDataset.normalize(s_triu)\n",
    "\n",
    "\n",
    "s_train, p_train, s_test, p_test = split(s_triu_norm, p_triu, ind)"
   ]
  },
  {
   "cell_type": "markdown",
   "metadata": {},
   "source": [
    "# Fetch Model "
   ]
  },
  {
   "cell_type": "code",
   "execution_count": 5,
   "metadata": {},
   "outputs": [],
   "source": [
    "filepath = \"../../models/TSmall_sto3gmodelTSmall_sto3g_250-150-50+triu.h5\"\n",
    "model = keras.models.load_model(filepath)"
   ]
  },
  {
   "cell_type": "markdown",
   "metadata": {},
   "source": [
    "# Make Absolute Error Heatmap "
   ]
  },
  {
   "cell_type": "code",
   "execution_count": 6,
   "metadata": {},
   "outputs": [
    {
     "name": "stdout",
     "output_type": "stream",
     "text": [
      "Mean abs. error: 0.0003380415287868359\n"
     ]
    }
   ],
   "source": [
    "from SCFInitialGuess.utilities.dataset import reconstruct_from_triu\n",
    "\n",
    "p_nn = model.predict(s_test)\n",
    "error = np.mean(np.abs(p_nn - p_test), 0)\n",
    "\n",
    "print(\"Mean abs. error: \" + str(np.mean(error)))\n",
    "\n",
    "error = reconstruct_from_triu(error, dim)                    "
   ]
  },
  {
   "cell_type": "code",
   "execution_count": 9,
   "metadata": {},
   "outputs": [],
   "source": [
    "import seaborn as sns\n",
    "\n",
    "def matrix_error(error, xlabel=None, ylabel=None, ButadienMode=False, **kwargs):\n",
    "    \n",
    "    ax = sns.heatmap(\n",
    "        error, \n",
    "        cmap=\"viridis\", \n",
    "        #cmap=\"plasma\",\n",
    "        #cmap=\"YlGnBu\", \n",
    "        #cmap=\"winter\",\n",
    "        #cmap=\"summer\",\n",
    "        #cmap=\"gist_earth\",\n",
    "        #cmap=\"ocean\",\n",
    "        square=True,\n",
    "        **kwargs\n",
    "    )\n",
    "    #ax.set_xlabel(xlabel)\n",
    "    #ax.set_ylabel(ylabel)\n",
    "    \n",
    "    cbar_min = np.min(error)\n",
    "    cbar_max = np.max(error)\n",
    "    cbar_step = (cbar_max - cbar_min) / 5\n",
    "    \n",
    "    cbar = ax.collections[0].colorbar\n",
    "    cbar.ax.set_yticklabels(\n",
    "        [\n",
    "            '{:0.1E}'.format(x) for x in np.arange(cbar_min, cbar_max + cbar_step, cbar_step)\n",
    "        ]\n",
    "    )        \n",
    "\n",
    "    if ButadienMode:\n",
    "        C_labels = [\"1s  \", \"2s  \", \"2px\", \"2py\", \"2pz\"]\n",
    "        H_labels = [\"1s  \"]\n",
    "        labels = [\n",
    "             \"C\" + str(ci) + \": \" + orbital \\\n",
    "                for ci in range(1,5) for orbital in C_labels\n",
    "        ] + [\n",
    "            \"H\" + str(hi) + \": \" + orbital \\\n",
    "                for hi in range(1,7) for orbital in H_labels\n",
    "        ]\n",
    "\n",
    "\n",
    "        plt.yticks(np.arange(26)+0.5, labels, rotation=0) \n",
    "        plt.xticks(np.arange(26)+0.5, labels, rotation='vertical') \n",
    "\n",
    "\n",
    "    plt.tight_layout()\n",
    "        \n",
    "    return ax\n"
   ]
  },
  {
   "cell_type": "code",
   "execution_count": 11,
   "metadata": {},
   "outputs": [],
   "source": [
    "plt.rc(\"figure\", figsize=(8,5))"
   ]
  },
  {
   "cell_type": "code",
   "execution_count": 12,
   "metadata": {},
   "outputs": [
    {
     "data": {
      "image/png": "[encoded data removed]",
      "text/plain": [
       "<matplotlib.figure.Figure at 0x7f47eb4e42e8>"
      ]
     },
     "metadata": {},
     "output_type": "display_data"
    }
   ],
   "source": [
    "matrix_error(error, ButadienMode=True)\n",
    "\n",
    "plt.savefig(\"/home/jo/Repos/MastersThesis/SMatrixDescriptor/figures/HeatMapNNAbsError.pdf\")\n",
    "plt.show()"
   ]
  },
  {
   "cell_type": "code",
   "execution_count": null,
   "metadata": {},
   "outputs": [],
   "source": []
  }
 ],
 "metadata": {
  "kernelspec": {
   "display_name": "Python 3",
   "language": "python",
   "name": "python3"
  },
  "language_info": {
   "codemirror_mode": {
    "name": "ipython",
    "version": 3
   },
   "file_extension": ".py",
   "mimetype": "text/x-python",
   "name": "python",
   "nbconvert_exporter": "python",
   "pygments_lexer": "ipython3",
   "version": "3.6.4"
  }
 },
 "nbformat": 4,
 "nbformat_minor": 2
}
