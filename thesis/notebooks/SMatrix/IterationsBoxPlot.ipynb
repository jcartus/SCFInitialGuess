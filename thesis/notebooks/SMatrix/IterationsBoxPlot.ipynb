{
 "cells": [
  {
   "cell_type": "code",
   "execution_count": 1,
   "metadata": {},
   "outputs": [
    {
     "name": "stderr",
     "output_type": "stream",
     "text": [
      "/home/jo/anaconda3/lib/python3.6/site-packages/h5py/__init__.py:36: FutureWarning: Conversion of the second argument of issubdtype from `float` to `np.floating` is deprecated. In future, it will be treated as `np.float64 == np.dtype(float).type`.\n",
      "  from ._conv import register_converters as _register_converters\n"
     ]
    }
   ],
   "source": [
    "import numpy as np\n",
    "import matplotlib.pyplot as plt\n",
    "import tensorflow as tf\n",
    "from tensorflow import keras\n",
    "\n",
    "from SCFInitialGuess.utilities.usermessages import Messenger as msg\n",
    "\n",
    "msg.print_level = 0\n",
    "\n",
    "from os.path import join\n",
    "\n",
    "plt.style.use([\"seaborn\", \"thesis\"])"
   ]
  },
  {
   "cell_type": "code",
   "execution_count": 2,
   "metadata": {},
   "outputs": [],
   "source": [
    "\n",
    "plt.rcParams['figure.figsize'] = (8, 4)"
   ]
  },
  {
   "cell_type": "markdown",
   "metadata": {},
   "source": [
    "# Dataset "
   ]
  },
  {
   "cell_type": "code",
   "execution_count": 3,
   "metadata": {},
   "outputs": [],
   "source": [
    "from SCFInitialGuess.utilities.dataset import extract_triu_batch, AbstractDataset\n",
    "from sklearn.model_selection import train_test_split\n",
    "\n",
    "data_path = \"../../dataset/TSmall_sto3g\"\n",
    "postfix = \"TSmall_sto3g\"\n",
    "dim = 26\n",
    "#data_path = \"../butadien/data/\"\n",
    "#postfix = \"\"\n",
    "#dim = 26\n",
    "\n",
    "S = np.load(join(data_path, \"S\" + postfix + \".npy\"))\n",
    "P = np.load(join(data_path, \"P\" + postfix + \".npy\"))\n",
    "F = np.load(join(data_path, \"F\" + postfix + \".npy\"))\n",
    "\n",
    "index = np.load(join(data_path, \"index\" + postfix + \".npy\"))\n",
    "\n",
    "molecules = np.load(join(data_path, \"molecules\" + postfix + \".npy\"))\n",
    "\n",
    "\n",
    "ind = int(0.8 * len(index))\n",
    "\n",
    "\n",
    "molecules = (molecules[:ind], molecules[ind:])\n",
    "\n",
    "def split(x, y, ind):\n",
    "    return x[:ind], y[:ind], x[ind:], y[ind:]\n",
    "\n",
    "s_triu = extract_triu_batch(S, dim)\n",
    "p_triu = extract_triu_batch(P, dim)\n",
    "\n",
    "s_triu_norm, mu, std = AbstractDataset.normalize(s_triu)\n",
    "\n",
    "\n",
    "s_train, p_train, s_test, p_test = split(s_triu_norm, p_triu, ind)"
   ]
  },
  {
   "cell_type": "markdown",
   "metadata": {},
   "source": [
    "# Model "
   ]
  },
  {
   "cell_type": "code",
   "execution_count": null,
   "metadata": {},
   "outputs": [],
   "source": [
    "keras.backend.clear_session()"
   ]
  },
  {
   "cell_type": "code",
   "execution_count": 4,
   "metadata": {},
   "outputs": [
    {
     "name": "stdout",
     "output_type": "stream",
     "text": [
      "_________________________________________________________________\n",
      "Layer (type)                 Output Shape              Param #   \n",
      "=================================================================\n",
      "dense (Dense)                (None, 351)               123552    \n",
      "_________________________________________________________________\n",
      "dense_1 (Dense)              (None, 601)               211552    \n",
      "_________________________________________________________________\n",
      "dense_2 (Dense)              (None, 501)               301602    \n",
      "_________________________________________________________________\n",
      "dense_3 (Dense)              (None, 401)               201302    \n",
      "_________________________________________________________________\n",
      "dense_4 (Dense)              (None, 351)               141102    \n",
      "=================================================================\n",
      "Total params: 979,110\n",
      "Trainable params: 979,110\n",
      "Non-trainable params: 0\n",
      "_________________________________________________________________\n"
     ]
    }
   ],
   "source": [
    "filepath = \"../../models/\" + \"TSmall_sto3gmodelTSmall_sto3g_250-150-50+triu.h5\"\n",
    "model = keras.models.load_model(filepath)\n",
    "model.summary()"
   ]
  },
  {
   "cell_type": "markdown",
   "metadata": {},
   "source": [
    "# Guesses "
   ]
  },
  {
   "cell_type": "code",
   "execution_count": 5,
   "metadata": {},
   "outputs": [],
   "source": [
    "from SCFInitialGuess.utilities.dataset import make_matrix_batch\n",
    "\n",
    "p_nn = model.predict(s_test)\n",
    "p_batch = make_matrix_batch(p_nn, dim=dim, is_triu=True).astype(\"float64\")"
   ]
  },
  {
   "cell_type": "code",
   "execution_count": 6,
   "metadata": {},
   "outputs": [],
   "source": [
    "from SCFInitialGuess.utilities.dataset import make_matrix_batch, extract_triu_batch\n",
    "from SCFInitialGuess.nn.post_processing import multi_mc_wheeny\n",
    "from pyscf.scf import hf\n",
    "\n",
    "#s_raw = make_matrix_batch(dataset.inverse_input_transform(dataset.testing[0]), dim, False)\n",
    "\n",
    "#p_mcw1 = np.array(list(map(lambda x: multi_mc_wheeny(x[0], x[1], n_max=1), zip(p_batch, s_raw)))).astype(\"float64\")\n",
    "#p_mcw5 = np.array(list(map(lambda x: multi_mc_wheeny(x[0], x[1], n_max=5), zip  (p_batch, s_raw)))).astype(\"float64\")\n",
    "p_1e = np.array([\n",
    "    hf.init_guess_by_1e(mol.get_pyscf_molecule()) for mol in molecules[1]\n",
    "]).astype(\"float64\")\n",
    "p_sap = np.array([\n",
    "    hf.init_guess_by_atom(mol.get_pyscf_molecule()) for mol in molecules[1]\n",
    "]).astype(\"float64\")\n",
    "p_gwh = np.array([\n",
    "    hf.init_guess_by_wolfsberg_helmholtz(mol.get_pyscf_molecule()) for mol in molecules[1]\n",
    "]).astype(\"float64\")"
   ]
  },
  {
   "cell_type": "markdown",
   "metadata": {},
   "source": [
    "# Iterations "
   ]
  },
  {
   "cell_type": "code",
   "execution_count": 7,
   "metadata": {},
   "outputs": [
    {
     "name": "stdout",
     "output_type": "stream",
     "text": [
      "nn\n",
      "h_core\n",
      "sap\n",
      "gwh\n"
     ]
    },
    {
     "data": {
      "text/plain": [
       "(201, 4)"
      ]
     },
     "execution_count": 7,
     "metadata": {},
     "output_type": "execute_result"
    }
   ],
   "source": [
    "from SCFInitialGuess.utilities.analysis import measure_iterations\n",
    "from SCFInitialGuess.utilities.analysis import mf_initializer_diis as mf_initializer\n",
    "\n",
    "\n",
    "iterations = []\n",
    "\n",
    "print(\"nn\")\n",
    "iterations.append(measure_iterations(mf_initializer, p_batch, molecules[1]))\n",
    "#print(\"mcw1\")\n",
    "#iterations.append(measure_iterations(mf_initializer, p_mcw1, molecules[1]))\n",
    "#print(\"mcw5\")\n",
    "#iterations.append(measure_iterations(mf_initializer, p_mcw5, molecules[1]))\n",
    "print(\"h_core\")\n",
    "iterations.append(measure_iterations(mf_initializer, p_1e, molecules[1]))\n",
    "print(\"sap\")\n",
    "iterations.append(measure_iterations(mf_initializer, p_sap, molecules[1]))\n",
    "print(\"gwh\")\n",
    "iterations.append(measure_iterations(mf_initializer, p_gwh, molecules[1]))\n",
    "\n",
    "iterations = np.array(iterations).T\n",
    "iterations.shape"
   ]
  },
  {
   "cell_type": "markdown",
   "metadata": {},
   "source": [
    "# Plot "
   ]
  },
  {
   "cell_type": "code",
   "execution_count": 8,
   "metadata": {},
   "outputs": [],
   "source": [
    "labels = [\"NN\", \"H_Core\", \"SAD\", \"GWH\"]"
   ]
  },
  {
   "cell_type": "code",
   "execution_count": 9,
   "metadata": {},
   "outputs": [
    {
     "data": {
      "image/png": "[encoded data removed]",
      "text/plain": [
       "<matplotlib.figure.Figure at 0x7feea7684f28>"
      ]
     },
     "metadata": {},
     "output_type": "display_data"
    }
   ],
   "source": [
    "from pandas import DataFrame\n",
    "from seaborn import boxplot\n",
    "\n",
    "#frame = DataFrame([[iterations[:,i] for i in range(len(labels))]], columns=labels)\n",
    "frame = DataFrame(iterations, columns=labels)\n",
    "\n",
    "boxplot(data=iterations)\n",
    "\n",
    "plt.xticks(np.arange(5), labels)\n",
    "plt.ylabel(\"Iterations / 1\")\n",
    "plt.tight_layout()\n",
    "\n",
    "plt.savefig(\"/home/jo/Repos/MastersThesis/SMatrixDescriptor/figures/IterationsBoxPlot.pdf\")\n",
    "plt.show()"
   ]
  },
  {
   "cell_type": "markdown",
   "metadata": {},
   "source": [
    "# Make DataFrame "
   ]
  },
  {
   "cell_type": "code",
   "execution_count": 10,
   "metadata": {},
   "outputs": [
    {
     "name": "stdout",
     "output_type": "stream",
     "text": [
      "nn\n",
      "h_core\n",
      "sap\n",
      "gwh\n"
     ]
    }
   ],
   "source": [
    "from SCFInitialGuess.utilities.analysis import measure_iterations\n",
    "from SCFInitialGuess.utilities.analysis import mf_initializer as mf_initializer\n",
    "from pandas import DataFrame\n",
    "\n",
    "\n",
    "iterations = []\n",
    "labels = []\n",
    "x = []\n",
    "x_offset = 0.5\n",
    "x_delta = 2\n",
    "i = 0\n",
    "\n",
    "print(\"nn\")\n",
    "iterations += measure_iterations(mf_initializer, p_batch, molecules[1])\n",
    "labels += [\"NN\"] * len(p_batch)\n",
    "i += 1\n",
    "x += [x_offset + x_delta * i] * len(p_batch)\n",
    "\n",
    "print(\"h_core\")\n",
    "iterations += measure_iterations(mf_initializer, p_1e, molecules[1])\n",
    "labels += [\"H_Core\"] * len(p_1e)\n",
    "i += 1\n",
    "x += [x_offset + x_delta * i] * len(p_1e)\n",
    "\n",
    "print(\"sap\")\n",
    "iterations += measure_iterations(mf_initializer, p_sap, molecules[1])\n",
    "labels += [\"SAD\"] * len(p_sap)\n",
    "i += 1\n",
    "x += [x_offset + x_delta * i] * len(p_sap)\n",
    "\n",
    "print(\"gwh\")\n",
    "iterations += measure_iterations(mf_initializer, p_gwh, molecules[1])\n",
    "labels += [\"GWH\"] * len(p_gwh)\n",
    "i += 1\n",
    "x += [x_offset + x_delta * i] * len(p_gwh)\n",
    "\n",
    "\n",
    "\n",
    "enhancement = len(x) * [\"Pure\"]\n"
   ]
  },
  {
   "cell_type": "markdown",
   "metadata": {},
   "source": [
    "## Damped "
   ]
  },
  {
   "cell_type": "code",
   "execution_count": 11,
   "metadata": {},
   "outputs": [
    {
     "name": "stdout",
     "output_type": "stream",
     "text": [
      "nn\n",
      "h_core\n",
      "sap\n",
      "gwh\n"
     ]
    }
   ],
   "source": [
    "from SCFInitialGuess.utilities.analysis import measure_iterations\n",
    "from SCFInitialGuess.utilities.analysis import mf_initializer_damping as mf_initializer\n",
    "from pandas import DataFrame\n",
    "\n",
    "\n",
    "x_offset = 1\n",
    "x_delta = 2\n",
    "i = 0\n",
    "\n",
    "print(\"nn\")\n",
    "iterations += measure_iterations(mf_initializer, p_batch, molecules[1])\n",
    "labels += [\"NN\"] * len(p_batch)\n",
    "i += 1\n",
    "x += [x_offset + x_delta * i] * len(p_batch)\n",
    "\n",
    "print(\"h_core\")\n",
    "iterations += measure_iterations(mf_initializer, p_1e, molecules[1])\n",
    "labels += [\"H_Core\"] * len(p_1e)\n",
    "i += 1\n",
    "x += [x_offset + x_delta * i] * len(p_1e)\n",
    "\n",
    "print(\"sap\")\n",
    "iterations += measure_iterations(mf_initializer, p_sap, molecules[1])\n",
    "labels += [\"SAD\"] * len(p_sap)\n",
    "i += 1\n",
    "x += [x_offset + x_delta * i] * len(p_sap)\n",
    "\n",
    "print(\"gwh\")\n",
    "iterations += measure_iterations(mf_initializer, p_gwh, molecules[1])\n",
    "labels += [\"GWH\"] * len(p_gwh)\n",
    "i += 1\n",
    "x += [x_offset + x_delta * i] * len(p_gwh)\n",
    "\n",
    "\n",
    "\n",
    "enhancement += (len(x) - len(enhancement)) * [\"Damped\"]\n"
   ]
  },
  {
   "cell_type": "markdown",
   "metadata": {},
   "source": [
    "## DIIS "
   ]
  },
  {
   "cell_type": "code",
   "execution_count": 12,
   "metadata": {},
   "outputs": [
    {
     "name": "stdout",
     "output_type": "stream",
     "text": [
      "nn\n",
      "h_core\n",
      "sap\n",
      "gwh\n"
     ]
    }
   ],
   "source": [
    "from SCFInitialGuess.utilities.analysis import measure_iterations\n",
    "from SCFInitialGuess.utilities.analysis import mf_initializer_diis as mf_initializer\n",
    "from pandas import DataFrame\n",
    "\n",
    "\n",
    "x_offset = 1.5\n",
    "x_delta = 2\n",
    "i = 0\n",
    "\n",
    "print(\"nn\")\n",
    "iterations += measure_iterations(mf_initializer, p_batch, molecules[1])\n",
    "labels += [\"NN\"] * len(p_batch)\n",
    "i += 1\n",
    "x += [x_offset + x_delta * i] * len(p_batch)\n",
    "\n",
    "print(\"h_core\")\n",
    "iterations += measure_iterations(mf_initializer, p_1e, molecules[1])\n",
    "labels += [\"H_Core\"] * len(p_1e)\n",
    "i += 1\n",
    "x += [x_offset + x_delta * i] * len(p_1e)\n",
    "\n",
    "print(\"sap\")\n",
    "iterations += measure_iterations(mf_initializer, p_sap, molecules[1])\n",
    "labels += [\"SAD\"] * len(p_sap)\n",
    "i += 1\n",
    "x += [x_offset + x_delta * i] * len(p_sap)\n",
    "\n",
    "print(\"gwh\")\n",
    "iterations += measure_iterations(mf_initializer, p_gwh, molecules[1])\n",
    "labels += [\"GWH\"] * len(p_gwh)\n",
    "i += 1\n",
    "x += [x_offset + x_delta * i] * len(p_gwh)\n",
    "\n",
    "\n",
    "\n",
    "enhancement += (len(x) - len(enhancement)) * [\"DIIS\"]"
   ]
  },
  {
   "cell_type": "markdown",
   "metadata": {},
   "source": [
    "# Plot "
   ]
  },
  {
   "cell_type": "code",
   "execution_count": 13,
   "metadata": {},
   "outputs": [],
   "source": [
    "x_sav = x"
   ]
  },
  {
   "cell_type": "code",
   "execution_count": 27,
   "metadata": {},
   "outputs": [
    {
     "name": "stdout",
     "output_type": "stream",
     "text": [
      "0.5\n",
      "2.5\n",
      "4.5\n",
      "6.5\n",
      "1\n",
      "3\n",
      "5\n",
      "7\n",
      "1.5\n",
      "3.5\n",
      "5.5\n",
      "7.5\n"
     ]
    }
   ],
   "source": [
    "x = []\n",
    "dx = 2\n",
    "\n",
    "for i in [-0.5, 0, 0.5]:\n",
    "    for j in range(4):\n",
    "        x += [j * dx + 1 + i] * 201\n",
    "        print(x[-1])"
   ]
  },
  {
   "cell_type": "code",
   "execution_count": 38,
   "metadata": {},
   "outputs": [
    {
     "name": "stdout",
     "output_type": "stream",
     "text": [
      "3\n",
      "0\n",
      "1\n",
      "2\n",
      "3\n",
      "0\n",
      "1\n",
      "2\n",
      "3\n",
      "0\n",
      "1\n",
      "2\n"
     ]
    }
   ],
   "source": [
    "x = []\n",
    "dx = 2\n",
    "\n",
    "for i in [0, 1, 2]:\n",
    "    for j in [3, 0, 1, 2]:\n",
    "        x += [j] * 201\n",
    "        print(x[-1])"
   ]
  },
  {
   "cell_type": "code",
   "execution_count": 17,
   "metadata": {},
   "outputs": [
    {
     "data": {
      "text/plain": [
       "(2412, 2412, 2412, 2412)"
      ]
     },
     "execution_count": 17,
     "metadata": {},
     "output_type": "execute_result"
    }
   ],
   "source": [
    "len(x), len(iterations), len(labels), len(enhancement)\n",
    "#enhancement = [\"Pure\"]*804 + [\"Damping\"]*804 + [\"DIIS\"]*804"
   ]
  },
  {
   "cell_type": "code",
   "execution_count": 68,
   "metadata": {},
   "outputs": [],
   "source": [
    "data = DataFrame(\n",
    "    {\n",
    "        \"x\": x,\n",
    "        \"iterations\": iterations,\n",
    "        #\"labels\": labels,\n",
    "        \"Method\": enhancement\n",
    "    }\n",
    ")"
   ]
  },
  {
   "cell_type": "code",
   "execution_count": 77,
   "metadata": {},
   "outputs": [
    {
     "data": {
      "image/png": "[encoded data removed]",
      "text/plain": [
       "<matplotlib.figure.Figure at 0x7fee69586780>"
      ]
     },
     "metadata": {},
     "output_type": "display_data"
    }
   ],
   "source": [
    "labels = [\"H_Core\", \"SAD\", \"GWH\", \"NN\"]\n",
    "from pandas import DataFrame\n",
    "import seaborn as sns\n",
    "\n",
    "sns.boxplot(data=data, x=\"x\", y=\"iterations\", hue=\"Method\", width=00.7)\n",
    "sns.despine(offset=10, trim=True)\n",
    "\n",
    "plt.xticks([0, 1, 2,3], labels)\n",
    "#plt.xticks(np.arange(10), np.arange(10))\n",
    "plt.ylabel(\"Iterations / 1\")\n",
    "plt.xlabel(\"\")\n",
    "plt.tight_layout()\n",
    "plt.legend(bbox_to_anchor=(1.02, 0.9))\n",
    "\n",
    "plt.savefig(\"/home/jo/Repos/MastersThesis/SMatrixDescriptor/figures/IterationsBoxPlot2.pdf\")\n",
    "plt.show()"
   ]
  },
  {
   "cell_type": "code",
   "execution_count": 70,
   "metadata": {},
   "outputs": [
    {
     "data": {
      "image/png": "[encoded data removed]",
      "text/plain": [
       "<matplotlib.figure.Figure at 0x7fee90c39710>"
      ]
     },
     "metadata": {},
     "output_type": "display_data"
    }
   ],
   "source": [
    "labels = [\"NN\", \"H_core\", \"SAD\", \"GWH\"]\n",
    "from pandas import DataFrame\n",
    "import seaborn as sns\n",
    "\n",
    "sns.violinplot(data=data, x=\"x\", y=\"iterations\", hue=\"Method\")\n",
    "sns.despine(offset=10, trim=True)\n",
    "\n",
    "plt.xticks([0, 1, 2,3], labels)\n",
    "#plt.xticks(np.arange(10), np.arange(10))\n",
    "plt.ylabel(\"Iterations / 1\")\n",
    "plt.xlabel(\"\")\n",
    "plt.tight_layout()\n",
    "#plt.legend(bbox_to_anchor=(1.1, 0.9))\n",
    "\n",
    "#plt.savefig(\"/home/jo/Repos/MastersThesis/SMatrixDescriptor/figures/IterationsBoxPlot2.pdf\")\n",
    "plt.show()"
   ]
  },
  {
   "cell_type": "code",
   "execution_count": null,
   "metadata": {},
   "outputs": [],
   "source": []
  }
 ],
 "metadata": {
  "kernelspec": {
   "display_name": "Python 3",
   "language": "python",
   "name": "python3"
  },
  "language_info": {
   "codemirror_mode": {
    "name": "ipython",
    "version": 3
   },
   "file_extension": ".py",
   "mimetype": "text/x-python",
   "name": "python",
   "nbconvert_exporter": "python",
   "pygments_lexer": "ipython3",
   "version": "3.6.4"
  }
 },
 "nbformat": 4,
 "nbformat_minor": 2
}
