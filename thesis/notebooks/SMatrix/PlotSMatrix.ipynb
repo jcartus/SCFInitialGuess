{
 "cells": [
  {
   "cell_type": "code",
   "execution_count": 1,
   "metadata": {},
   "outputs": [],
   "source": [
    "import numpy as np\n",
    "import matplotlib.pyplot as plt\n",
    "import seaborn as sns\n",
    "\n",
    "from os.path import join\n",
    "\n",
    "plt.style.use([\"seaborn\", \"thesis\"])"
   ]
  },
  {
   "cell_type": "code",
   "execution_count": 3,
   "metadata": {},
   "outputs": [],
   "source": [
    "plt.rc(\"figure\", figsize=(8,6))"
   ]
  },
  {
   "cell_type": "code",
   "execution_count": 4,
   "metadata": {},
   "outputs": [],
   "source": [
    "figure_save_path = \"/home/jo/Repos/MastersThesis/SMatrixDescriptor/figures/\""
   ]
  },
  {
   "cell_type": "markdown",
   "metadata": {},
   "source": [
    "# Data "
   ]
  },
  {
   "cell_type": "code",
   "execution_count": 14,
   "metadata": {},
   "outputs": [],
   "source": [
    "\n",
    "from SCFInitialGuess.utilities.dataset import extract_triu_batch, AbstractDataset\n",
    "from sklearn.model_selection import train_test_split\n",
    "\n",
    "data_path = \"../../../butadien/data/400\"\n",
    "postfix = \"400\"\n",
    "dim = 26\n",
    "#data_path = \"../../dataset/TSmall_sto3g\"\n",
    "#postfix = \"TSmall_sto3g\"\n",
    "#dim = 26\n",
    "#data_path = \"../butadien/data/\"\n",
    "#postfix = \"\"\n",
    "#dim = 26\n",
    "\n",
    "\n",
    "def split(x, y, ind):\n",
    "    return x[:ind], y[:ind], x[ind:], y[ind:]\n",
    "\n",
    "S = np.load(join(data_path, \"S\" + postfix + \".npy\"))\n",
    "P = np.load(join(data_path, \"P\" + postfix + \".npy\"))\n",
    "F = np.load(join(data_path, \"F\" + postfix + \".npy\"))\n",
    "\n",
    "molecules = np.load(join(data_path, \"molecules\" + postfix + \".npy\"))"
   ]
  },
  {
   "cell_type": "markdown",
   "metadata": {},
   "source": [
    "# Utils "
   ]
  },
  {
   "cell_type": "code",
   "execution_count": 15,
   "metadata": {},
   "outputs": [],
   "source": [
    "import seaborn as sns\n",
    "\n",
    "def matrix_error(error, xlabel=None, ylabel=None, ButadienMode=False, **kwargs):\n",
    "    \n",
    "    ax = sns.heatmap(\n",
    "        error, \n",
    "        cmap=\"viridis\", \n",
    "        #cmap=\"plasma\",\n",
    "        #cmap=\"YlGnBu\", \n",
    "        #cmap=\"winter\",\n",
    "        #cmap=\"summer\",\n",
    "        #cmap=\"gist_earth\",\n",
    "        #cmap=\"ocean\",\n",
    "        square=True,\n",
    "        **kwargs\n",
    "    )\n",
    "    #ax.set_xlabel(xlabel)\n",
    "    #ax.set_ylabel(ylabel)\n",
    "    \n",
    "    cbar_min = np.min(error)\n",
    "    cbar_max = np.max(error)\n",
    "    cbar_step = (cbar_max - cbar_min) / 5\n",
    "    \n",
    "    cbar = ax.collections[0].colorbar\n",
    "    cbar.ax.set_yticklabels(\n",
    "        [\n",
    "            '{:0.1E}'.format(x) for x in np.arange(cbar_min, cbar_max + cbar_step, cbar_step)\n",
    "        ]\n",
    "    )        \n",
    "\n",
    "    if ButadienMode:\n",
    "        C_labels = [\"1s  \", \"2s  \", \"2px\", \"2py\", \"2pz\"]\n",
    "        H_labels = [\"1s  \"]\n",
    "        labels = [\n",
    "             \"C\" + str(ci) + \": \" + orbital \\\n",
    "                for ci in range(1,5) for orbital in C_labels\n",
    "        ] + [\n",
    "            \"H\" + str(hi) + \": \" + orbital \\\n",
    "                for hi in range(1,7) for orbital in H_labels\n",
    "        ]\n",
    "\n",
    "\n",
    "        plt.yticks(np.arange(26)+0.5, labels, rotation=0) \n",
    "        plt.xticks(np.arange(26)+0.5, labels, rotation='vertical') \n",
    "\n",
    "\n",
    "    plt.tight_layout()\n",
    "        \n",
    "    return ax\n"
   ]
  },
  {
   "cell_type": "markdown",
   "metadata": {},
   "source": [
    "# SMatrix "
   ]
  },
  {
   "cell_type": "code",
   "execution_count": 18,
   "metadata": {},
   "outputs": [
    {
     "data": {
      "text/plain": [
       "['C', 'C', 'C', 'C', 'H', 'H', 'H', 'H', 'H', 'H']"
      ]
     },
     "execution_count": 18,
     "metadata": {},
     "output_type": "execute_result"
    }
   ],
   "source": [
    "molecules[0].species"
   ]
  },
  {
   "cell_type": "code",
   "execution_count": 19,
   "metadata": {},
   "outputs": [
    {
     "data": {
      "text/plain": [
       "(26, 26)"
      ]
     },
     "execution_count": 19,
     "metadata": {},
     "output_type": "execute_result"
    }
   ],
   "source": [
    "s = S[0].reshape(dim, dim)\n",
    "s.shape"
   ]
  },
  {
   "cell_type": "code",
   "execution_count": 20,
   "metadata": {},
   "outputs": [
    {
     "data": {
      "image/png": "[encoded data removed]",
      "text/plain": [
       "<matplotlib.figure.Figure at 0x7f11e1f35b00>"
      ]
     },
     "metadata": {},
     "output_type": "display_data"
    }
   ],
   "source": [
    "matrix_error(s, ButadienMode=True)\n",
    "\n",
    "plt.savefig(\"/home/jo/Repos/MastersThesis/SMatrixDescriptor/figures/Overlap.pdf\")\n",
    "plt.show()"
   ]
  },
  {
   "cell_type": "code",
   "execution_count": null,
   "metadata": {},
   "outputs": [],
   "source": []
  }
 ],
 "metadata": {
  "kernelspec": {
   "display_name": "Python 3",
   "language": "python",
   "name": "python3"
  },
  "language_info": {
   "codemirror_mode": {
    "name": "ipython",
    "version": 3
   },
   "file_extension": ".py",
   "mimetype": "text/x-python",
   "name": "python",
   "nbconvert_exporter": "python",
   "pygments_lexer": "ipython3",
   "version": "3.6.4"
  }
 },
 "nbformat": 4,
 "nbformat_minor": 2
}
