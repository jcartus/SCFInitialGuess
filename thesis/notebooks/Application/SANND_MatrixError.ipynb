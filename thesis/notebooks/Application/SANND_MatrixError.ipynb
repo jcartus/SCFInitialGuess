{
 "cells": [
  {
   "cell_type": "code",
   "execution_count": 1,
   "metadata": {},
   "outputs": [
    {
     "name": "stderr",
     "output_type": "stream",
     "text": [
      "/home/jo/anaconda3/lib/python3.6/site-packages/h5py/__init__.py:36: FutureWarning: Conversion of the second argument of issubdtype from `float` to `np.floating` is deprecated. In future, it will be treated as `np.float64 == np.dtype(float).type`.\n",
      "  from ._conv import register_converters as _register_converters\n"
     ]
    }
   ],
   "source": [
    "import numpy as np\n",
    "import matplotlib.pyplot as plt\n",
    "import tensorflow as tf\n",
    "from tensorflow import keras\n",
    "import seaborn as sns\n",
    "\n",
    "from os.path import join\n",
    "\n",
    "plt.style.use([\"seaborn\", \"thesis\"])"
   ]
  },
  {
   "cell_type": "code",
   "execution_count": 2,
   "metadata": {},
   "outputs": [],
   "source": [
    "#plt.rcParams()"
   ]
  },
  {
   "cell_type": "markdown",
   "metadata": {},
   "source": [
    "# Dataset "
   ]
  },
  {
   "cell_type": "code",
   "execution_count": 3,
   "metadata": {},
   "outputs": [],
   "source": [
    "from SCFInitialGuess.utilities.dataset import ScreenedData\n",
    "\n",
    "target = \"P\"\n",
    "\n",
    "data = ScreenedData(r_max=10)\n",
    "\n",
    "data.include(data_path = \"../../dataset/MethanT/\", postfix = \"MethanT\", target=target)\n",
    "data.include(data_path = \"../../dataset/MethanT2/\", postfix = \"MethanT2\", target=target)\n",
    "data.include(data_path = \"../../dataset/MethanT3/\", postfix = \"MethanT3\", target=target)\n",
    "data.include(data_path = \"../../dataset/MethanT4/\", postfix = \"MethanT4\", target=target)\n",
    "\n",
    "data.include(data_path = \"../../dataset/EthanT/\",  postfix = \"EthanT\", target=target)\n",
    "data.include(data_path = \"../../dataset/EthanT2/\", postfix = \"EthanT2\", target=target)\n",
    "data.include(data_path = \"../../dataset/EthanT3/\", postfix = \"EthanT3\", target=target)\n",
    "data.include(data_path = \"../../dataset/EthanT4/\",  postfix = \"EthanT4\", target=target)\n",
    "data.include(data_path = \"../../dataset/EthanT5/\",  postfix = \"EthanT5\", target=target)\n",
    "data.include(data_path = \"../../dataset/EthanT6/\",  postfix = \"EthanT6\", target=target)\n",
    "\n",
    "data.include(data_path = \"../../dataset/EthenT/\",  postfix = \"EthenT\", target=target)\n",
    "data.include(data_path = \"../../dataset/EthenT2/\", postfix = \"EthenT2\", target=target)\n",
    "data.include(data_path = \"../../dataset/EthenT3/\", postfix = \"EthenT3\", target=target)\n",
    "data.include(data_path = \"../../dataset/EthenT4/\",  postfix = \"EthenT4\", target=target)\n",
    "data.include(data_path = \"../../dataset/EthenT5/\",  postfix = \"EthenT5\", target=target)\n",
    "data.include(data_path = \"../../dataset/EthenT6/\",  postfix = \"EthenT6\", target=target)\n",
    "\n",
    "\n",
    "data.include(data_path = \"../../dataset/EthinT/\",  postfix = \"EthinT\", target=target)\n",
    "data.include(data_path = \"../../dataset/EthinT2/\", postfix = \"EthinT2\", target=target)\n",
    "data.include(data_path = \"../../dataset/EthinT3/\", postfix = \"EthinT3\", target=target)\n",
    "\n",
    "#data.include(data_path = \"../../dataset/QM9/\", postfix = \"QM9-300\")"
   ]
  },
  {
   "cell_type": "code",
   "execution_count": 3,
   "metadata": {},
   "outputs": [],
   "source": [
    "from SCFInitialGuess.utilities.dataset import StaticDataset\n",
    "\n",
    "dataset = StaticDataset(\n",
    "    #train=(s_train, p_train),\n",
    "    train=(data.S[0], data.T[0]),\n",
    "    validation=(data.S[1], data.T[1]),\n",
    "    test=(data.S[2], data.T[2]),\n",
    "    mu=0,\n",
    "    std=1\n",
    ")"
   ]
  },
  {
   "cell_type": "markdown",
   "metadata": {},
   "source": [
    "# Find molecules and Reference\n",
    "find all samples that are ethene molecules. (ethene has dim 72)"
   ]
  },
  {
   "cell_type": "code",
   "execution_count": 4,
   "metadata": {},
   "outputs": [],
   "source": [
    "indices = [i for (i, mol) in enumerate(data.molecules[2])  if mol.dim == 72 ]"
   ]
  },
  {
   "cell_type": "code",
   "execution_count": 22,
   "metadata": {},
   "outputs": [
    {
     "data": {
      "text/plain": [
       "(735, 72, 72)"
      ]
     },
     "execution_count": 22,
     "metadata": {},
     "output_type": "execute_result"
    }
   ],
   "source": [
    "reference = np.array(data.T[2])[indices]\n",
    "reference = np.array([r.reshape(72, 72) for r in reference])\n",
    "reference.reshape(-1, 72, 72)\n",
    "reference.shape"
   ]
  },
  {
   "cell_type": "markdown",
   "metadata": {},
   "source": [
    "# Fetch precalculated data "
   ]
  },
  {
   "cell_type": "code",
   "execution_count": 34,
   "metadata": {},
   "outputs": [
    {
     "data": {
      "text/plain": [
       "(735, 72, 72)"
      ]
     },
     "execution_count": 34,
     "metadata": {},
     "output_type": "execute_result"
    }
   ],
   "source": [
    "p_sannd_center = np.load(\"data/p_nn.npy\")[indices]\n",
    "p_sannd_center = np.array([p.reshape(72, 72) for p in p_sannd_center])\n",
    "p_sannd_center.shape"
   ]
  },
  {
   "cell_type": "code",
   "execution_count": 35,
   "metadata": {},
   "outputs": [
    {
     "data": {
      "text/plain": [
       "(735, 72, 72)"
      ]
     },
     "execution_count": 35,
     "metadata": {},
     "output_type": "execute_result"
    }
   ],
   "source": [
    "p_sannd_full = np.load(\"data/p_nn_full_sannd.npy\")[indices]\n",
    "p_sannd_full = np.array([p.reshape(72, 72) for p in p_sannd_full])\n",
    "p_sannd_full.shape"
   ]
  },
  {
   "cell_type": "markdown",
   "metadata": {},
   "source": [
    "# Calculate Error "
   ]
  },
  {
   "cell_type": "code",
   "execution_count": 36,
   "metadata": {},
   "outputs": [
    {
     "data": {
      "text/plain": [
       "(72, 72)"
      ]
     },
     "execution_count": 36,
     "metadata": {},
     "output_type": "execute_result"
    }
   ],
   "source": [
    "e_center = np.mean(np.abs(reference - p_sannd_center), 0)\n",
    "e_center.shape"
   ]
  },
  {
   "cell_type": "code",
   "execution_count": 37,
   "metadata": {},
   "outputs": [
    {
     "data": {
      "text/plain": [
       "(72, 72)"
      ]
     },
     "execution_count": 37,
     "metadata": {},
     "output_type": "execute_result"
    }
   ],
   "source": [
    "e_full = np.mean(np.abs(reference - p_sannd_full), 0)\n",
    "e_full.shape"
   ]
  },
  {
   "cell_type": "markdown",
   "metadata": {},
   "source": [
    "# Plot "
   ]
  },
  {
   "cell_type": "code",
   "execution_count": 39,
   "metadata": {},
   "outputs": [],
   "source": [
    "plt.rcParams['figure.figsize'] = (8, 4)"
   ]
  },
  {
   "cell_type": "code",
   "execution_count": 43,
   "metadata": {},
   "outputs": [],
   "source": [
    "export_folder = \"/home/jo/Repos/MastersThesis/Application/figures/\""
   ]
  },
  {
   "cell_type": "code",
   "execution_count": 48,
   "metadata": {},
   "outputs": [],
   "source": [
    "vmin = 0\n",
    "vmax = 0.05\n",
    "\n",
    "ylabel = r\"Row Index / 1\"\n",
    "xlabel = r\"Column Index / 1\"\n",
    "\n",
    "norm = plt.Normalize(vmin, vmax)"
   ]
  },
  {
   "cell_type": "code",
   "execution_count": 49,
   "metadata": {},
   "outputs": [
    {
     "data": {
      "image/png": "[encoded data removed]",
      "text/plain": [
       "<matplotlib.figure.Figure at 0x7f8c88e744a8>"
      ]
     },
     "metadata": {},
     "output_type": "display_data"
    }
   ],
   "source": [
    "fig, axes = plt.subplots(1, 2)#, sharex=True, sharey=True)\n",
    "#title_size = 20\n",
    "#label_size = 15\n",
    "ticks = np.arange(0,70, 10)\n",
    "\n",
    "cbar_ax = fig.add_axes([.83, .19, .03, .62])\n",
    "\n",
    "sns.heatmap(\n",
    "    e_center, \n",
    "    square=True, \n",
    "    ax=axes[0], \n",
    "    cbar=True, \n",
    "    cbar_ax=cbar_ax, \n",
    "    cbar_kws={'label': 'MAE / 1'}, \n",
    "    cmap=\"viridis\",\n",
    "    vmin=vmin, \n",
    "    vmax=vmax\n",
    ")\n",
    "axes[0].set_title(\"SANND (Center)\")#, fontsize=title_size)\n",
    "axes[0].set_xlabel(xlabel)#, fontsize=title_size)\n",
    "axes[0].set_ylabel(ylabel)#, fontsize=title_size)\n",
    "axes[0].set_yticks(ticks)\n",
    "axes[0].set_xticks(ticks)\n",
    "axes[0].set_yticklabels(ticks)\n",
    "axes[0].set_xticklabels(ticks)\n",
    "#axes[0].tick_params(labelsize=label_size)\n",
    "#plt.yticks(ticks, ticks)\n",
    "\n",
    "\n",
    "sns.heatmap(\n",
    "    e_full, \n",
    "    square=True, \n",
    "    ax=axes[1], \n",
    "    cbar=False, \n",
    "    cmap=\"viridis\",\n",
    "    vmin=vmin, \n",
    "    vmax=vmax\n",
    ")\n",
    "axes[1].set_title(\"SANND\")#, fontsize=title_size)\n",
    "#axes[1].ticklabel_format(style='plain', axis='y')\n",
    "axes[1].set_xlabel(xlabel)#, fontsize=title_size)\n",
    "#axes[1].tick_params(labelsize=label_size)\n",
    "axes[1].set_yticks(ticks)\n",
    "axes[1].set_xticks(ticks)\n",
    "axes[1].set_yticklabels(ticks)\n",
    "axes[1].set_xticklabels(ticks)\n",
    "\n",
    "\n",
    "\n",
    "_ = plt.setp([a.get_yticklabels() for a in [axes[1]]], visible=False)\n",
    "\n",
    "fig.subplots_adjust(right=0.8)\n",
    "\n",
    "#cbar_ax.tick_params(labelsize=label_size)\n",
    "#cbar_ax.set_ylabel('MAE / 1', fontsize=20)\n",
    "\n",
    "#plt.rcParams[\"axes.edgecolor\"] = \"0.15\"\n",
    "#plt.rcParams[\"axes.linewidth\"] = 1.25\n",
    "#\n",
    "\n",
    "\n",
    "plt.savefig(export_folder + \"SANNDMatrixError.pdf\")\n"
   ]
  },
  {
   "cell_type": "code",
   "execution_count": 31,
   "metadata": {},
   "outputs": [
    {
     "data": {
      "text/plain": [
       "array([ 0, 10, 20, 30, 40, 50, 60])"
      ]
     },
     "execution_count": 31,
     "metadata": {},
     "output_type": "execute_result"
    }
   ],
   "source": [
    "ticks"
   ]
  },
  {
   "cell_type": "code",
   "execution_count": null,
   "metadata": {},
   "outputs": [],
   "source": []
  },
  {
   "cell_type": "code",
   "execution_count": null,
   "metadata": {},
   "outputs": [],
   "source": []
  }
 ],
 "metadata": {
  "kernelspec": {
   "display_name": "Python 3",
   "language": "python",
   "name": "python3"
  },
  "language_info": {
   "codemirror_mode": {
    "name": "ipython",
    "version": 3
   },
   "file_extension": ".py",
   "mimetype": "text/x-python",
   "name": "python",
   "nbconvert_exporter": "python",
   "pygments_lexer": "ipython3",
   "version": "3.6.4"
  }
 },
 "nbformat": 4,
 "nbformat_minor": 2
}
