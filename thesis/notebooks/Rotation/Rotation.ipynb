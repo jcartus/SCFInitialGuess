{
 "cells": [
  {
   "cell_type": "code",
   "execution_count": 1,
   "metadata": {},
   "outputs": [
    {
     "name": "stderr",
     "output_type": "stream",
     "text": [
      "/home/jo/anaconda3/lib/python3.6/site-packages/h5py/__init__.py:36: FutureWarning: Conversion of the second argument of issubdtype from `float` to `np.floating` is deprecated. In future, it will be treated as `np.float64 == np.dtype(float).type`.\n",
      "  from ._conv import register_converters as _register_converters\n"
     ]
    }
   ],
   "source": [
    "import numpy as np\n",
    "import matplotlib.pyplot as plt\n",
    "import seaborn as sns\n",
    "\n",
    "from pyscf import scf, gto\n",
    "\n",
    "plt.style.use([\"seaborn\"])"
   ]
  },
  {
   "cell_type": "markdown",
   "metadata": {},
   "source": [
    "# s-Funktionen "
   ]
  },
  {
   "cell_type": "markdown",
   "metadata": {},
   "source": [
    "## H2 "
   ]
  },
  {
   "cell_type": "code",
   "execution_count": 2,
   "metadata": {},
   "outputs": [
    {
     "data": {
      "text/plain": [
       "<pyscf.gto.mole.Mole at 0x7f7cfb5b2fd0>"
      ]
     },
     "execution_count": 2,
     "metadata": {},
     "output_type": "execute_result"
    }
   ],
   "source": [
    "basis = \"3-21++g\"\n",
    "H2_1 = gto.Mole(atom=\"H 0.0 0.0 0.0\\nH 1.0 0.0 0.0\", basis=basis)\n",
    "H2_1.build()\n",
    "H2_2 = gto.Mole(atom=\"H 0.0 0.0 0.0\\nH 0.0 1.0 0.0\", basis=basis)\n",
    "H2_2.build()"
   ]
  },
  {
   "cell_type": "markdown",
   "metadata": {},
   "source": [
    "### Overlap "
   ]
  },
  {
   "cell_type": "code",
   "execution_count": 3,
   "metadata": {},
   "outputs": [
    {
     "name": "stdout",
     "output_type": "stream",
     "text": [
      "0.0\n"
     ]
    },
    {
     "data": {
      "image/png": "[encoded data removed]",
      "text/plain": [
       "<matplotlib.figure.Figure at 0x7f7cfb369320>"
      ]
     },
     "metadata": {},
     "output_type": "display_data"
    }
   ],
   "source": [
    "sH2_1 = scf.hf.get_ovlp(H2_1)\n",
    "sH2_2 = scf.hf.get_ovlp(H2_2)\n",
    "\n",
    "print(np.mean(np.abs(sH2_1 - sH2_2)))\n",
    "\n",
    "sns.heatmap(sH2_1-sH2_2)\n",
    "plt.show()"
   ]
  },
  {
   "cell_type": "markdown",
   "metadata": {},
   "source": [
    "### Density "
   ]
  },
  {
   "cell_type": "code",
   "execution_count": 4,
   "metadata": {},
   "outputs": [
    {
     "name": "stdout",
     "output_type": "stream",
     "text": [
      "7.128629284092192e-17\n"
     ]
    },
    {
     "data": {
      "image/png": "[encoded data removed]",
      "text/plain": [
       "<matplotlib.figure.Figure at 0x7f7cf161b8d0>"
      ]
     },
     "metadata": {},
     "output_type": "display_data"
    }
   ],
   "source": [
    "def calculate_density(mol):\n",
    "    mf = scf.RHF(mol)\n",
    "    mf.verbose = 0\n",
    "    mf.scf()\n",
    "    return mf.make_rdm1()\n",
    "\n",
    "pH2_1 = calculate_density(H2_1)\n",
    "pH2_2 = calculate_density(H2_2)\n",
    "print(np.mean(pH2_1 - pH2_2))\n",
    "\n",
    "sns.heatmap(pH2_1 - pH2_2)\n",
    "plt.show()"
   ]
  },
  {
   "cell_type": "markdown",
   "metadata": {},
   "source": [
    "# Ausgangsmolecule\n",
    "\n",
    "in x direction"
   ]
  },
  {
   "cell_type": "code",
   "execution_count": 5,
   "metadata": {},
   "outputs": [
    {
     "data": {
      "text/plain": [
       "<pyscf.gto.mole.Mole at 0x7f7d3852e080>"
      ]
     },
     "execution_count": 5,
     "metadata": {},
     "output_type": "execute_result"
    }
   ],
   "source": [
    "mol = gto.Mole()\n",
    "mol.atom = \"\"\"\n",
    "F 0.0 0.0 0.0\n",
    "H 1.0 0.0 0.0\n",
    "\"\"\"\n",
    "mol.basis = \"sto-3g\"\n",
    "\n",
    "mol.build()"
   ]
  },
  {
   "cell_type": "code",
   "execution_count": 6,
   "metadata": {},
   "outputs": [
    {
     "name": "stdout",
     "output_type": "stream",
     "text": [
      "[[1.         0.23798988 0.         0.         0.         0.04057559]\n",
      " [0.23798988 1.         0.         0.         0.         0.39514046]\n",
      " [0.         0.         1.         0.         0.         0.31965214]\n",
      " [0.         0.         0.         1.         0.         0.        ]\n",
      " [0.         0.         0.         0.         1.         0.        ]\n",
      " [0.04057559 0.39514046 0.31965214 0.         0.         1.        ]]\n"
     ]
    }
   ],
   "source": [
    "s = scf.hf.get_ovlp(mol)\n",
    "print(s)"
   ]
  },
  {
   "cell_type": "code",
   "execution_count": 7,
   "metadata": {},
   "outputs": [
    {
     "data": {
      "image/png": "[encoded data removed]",
      "text/plain": [
       "<matplotlib.figure.Figure at 0x7f7cf0ca18d0>"
      ]
     },
     "metadata": {},
     "output_type": "display_data"
    }
   ],
   "source": [
    "sns.heatmap(s)\n",
    "plt.show()"
   ]
  },
  {
   "cell_type": "markdown",
   "metadata": {},
   "source": [
    "# 90 ° Rotation \n",
    "in y direction"
   ]
  },
  {
   "cell_type": "code",
   "execution_count": 18,
   "metadata": {},
   "outputs": [
    {
     "data": {
      "text/plain": [
       "0.7071067811865475"
      ]
     },
     "execution_count": 18,
     "metadata": {},
     "output_type": "execute_result"
    }
   ],
   "source": [
    "1/np.sqrt(2)"
   ]
  },
  {
   "cell_type": "code",
   "execution_count": 19,
   "metadata": {},
   "outputs": [
    {
     "name": "stdout",
     "output_type": "stream",
     "text": [
      "[[1.         0.23798988 0.         0.         0.         0.04057559]\n",
      " [0.23798988 1.         0.         0.         0.         0.39514046]\n",
      " [0.         0.         1.         0.         0.         0.        ]\n",
      " [0.         0.         0.         1.         0.         0.31965214]\n",
      " [0.         0.         0.         0.         1.         0.        ]\n",
      " [0.04057559 0.39514046 0.         0.31965214 0.         1.        ]]\n"
     ]
    }
   ],
   "source": [
    "mol90 = gto.Mole()\n",
    "mol90.atom = \"\"\"\n",
    "F 0.0 0.0 0.0\n",
    "H 0.0 1.0 0.0\n",
    "\"\"\"\n",
    "mol90.basis = \"sto-3g\"\n",
    "mol90.build()\n",
    "\n",
    "s90 = scf.hf.get_ovlp(mol90)\n",
    "print(s90)"
   ]
  },
  {
   "cell_type": "code",
   "execution_count": 20,
   "metadata": {},
   "outputs": [
    {
     "name": "stdout",
     "output_type": "stream",
     "text": [
      "[[ 0.       0.       0.       0.       0.       0.     ]\n",
      " [ 0.       0.       0.       0.       0.       0.     ]\n",
      " [ 0.       0.       0.       0.       0.       0.31965]\n",
      " [ 0.       0.       0.       0.       0.      -0.31965]\n",
      " [ 0.       0.       0.       0.       0.       0.     ]\n",
      " [ 0.       0.       0.31965 -0.31965  0.       0.     ]]\n"
     ]
    }
   ],
   "source": [
    "np.set_printoptions(precision=5, suppress=True)\n",
    "print(s - s90)"
   ]
  },
  {
   "cell_type": "code",
   "execution_count": 21,
   "metadata": {},
   "outputs": [
    {
     "data": {
      "text/plain": [
       "<matplotlib.axes._subplots.AxesSubplot at 0x7f7cf0cc7198>"
      ]
     },
     "execution_count": 21,
     "metadata": {},
     "output_type": "execute_result"
    },
    {
     "data": {
      "image/png": "[encoded data removed]",
      "text/plain": [
       "<matplotlib.figure.Figure at 0x7f7cf06222e8>"
      ]
     },
     "metadata": {},
     "output_type": "display_data"
    }
   ],
   "source": [
    "sns.heatmap((s - s90))"
   ]
  },
  {
   "cell_type": "code",
   "execution_count": 22,
   "metadata": {},
   "outputs": [
    {
     "name": "stdout",
     "output_type": "stream",
     "text": [
      "0.19670692001957413\n"
     ]
    },
    {
     "data": {
      "text/plain": [
       "<matplotlib.axes._subplots.AxesSubplot at 0x7f7cf2e01128>"
      ]
     },
     "execution_count": 22,
     "metadata": {},
     "output_type": "execute_result"
    },
    {
     "data": {
      "image/png": "[encoded data removed]",
      "text/plain": [
       "<matplotlib.figure.Figure at 0x7f7cf21e2588>"
      ]
     },
     "metadata": {},
     "output_type": "display_data"
    }
   ],
   "source": [
    "pMol = calculate_density(mol)\n",
    "pMol90 = calculate_density(mol90)\n",
    "print(np.mean(np.abs(pMol - pMol90)))\n",
    "\n",
    "sns.heatmap(pMol - pMol90)"
   ]
  },
  {
   "cell_type": "markdown",
   "metadata": {},
   "source": [
    "# Rotation of the Basis "
   ]
  },
  {
   "cell_type": "markdown",
   "metadata": {},
   "source": [
    "## Rotation Matrix "
   ]
  },
  {
   "cell_type": "code",
   "execution_count": 23,
   "metadata": {},
   "outputs": [
    {
     "data": {
      "text/plain": [
       "<matplotlib.axes._subplots.AxesSubplot at 0x7f7cf169be48>"
      ]
     },
     "execution_count": 23,
     "metadata": {},
     "output_type": "execute_result"
    },
    {
     "data": {
      "image/png": "[encoded data removed]",
      "text/plain": [
       "<matplotlib.figure.Figure at 0x7f7cf05af7b8>"
      ]
     },
     "metadata": {},
     "output_type": "display_data"
    }
   ],
   "source": [
    "def rotation_z(theta):\n",
    "    return np.array([\n",
    "        [np.cos(theta), -np.sin(theta), 0],\n",
    "        [np.sin(theta), np.cos(theta), 0],\n",
    "        [0, 0, 1]\n",
    "    ])\n",
    "\n",
    "R90 = rotation_z(-np.pi/2)\n",
    "sns.heatmap(R90)"
   ]
  },
  {
   "cell_type": "markdown",
   "metadata": {},
   "source": [
    "## OverlapMatrix\n",
    "over lap of mol basis to basis rotated 90 degree around z axis. Thus pz is not changed"
   ]
  },
  {
   "cell_type": "code",
   "execution_count": 25,
   "metadata": {},
   "outputs": [
    {
     "name": "stdout",
     "output_type": "stream",
     "text": [
      "[[1.      0.23799 0.      0.      0.      0.04058]\n",
      " [0.23799 1.      0.      0.      0.      0.39514]\n",
      " [0.      0.      1.      0.      0.      0.     ]\n",
      " [0.      0.      0.      1.      0.      0.31965]\n",
      " [0.      0.      0.      0.      1.      0.     ]\n",
      " [0.04058 0.39514 0.      0.31965 0.      1.     ]]\n",
      "[[ 0.  1.  0.]\n",
      " [-1.  0.  0.]\n",
      " [ 0.  0.  1.]]\n"
     ]
    }
   ],
   "source": [
    "print(s90)\n",
    "print(R90)"
   ]
  },
  {
   "cell_type": "code",
   "execution_count": 26,
   "metadata": {},
   "outputs": [],
   "source": [
    "quantum_number = [\n",
    "    [1, 0, 0], # F 1s\n",
    "    [2, 0, 0], # F 2s\n",
    "    [2, 1, 0], # F 2px\n",
    "    [2, 1, 1], # F 2py\n",
    "    [2, 1, 2], # F 2pz\n",
    "    [1, 0, 0], # H 1s   \n",
    "]"
   ]
  },
  {
   "cell_type": "code",
   "execution_count": 29,
   "metadata": {},
   "outputs": [],
   "source": [
    "def make_transformation_overlap(R,S):\n",
    "    \n",
    "    Q = S.copy()\n",
    "    \n",
    "    for i, lhs in enumerate(quantum_number): \n",
    "        for j, rhs in enumerate(quantum_number):\n",
    "            ni, nj = lhs[0], rhs[0]\n",
    "            li, lj = lhs[1], rhs[1]\n",
    "            mi, mj = lhs[2], rhs[2]\n",
    "            \n",
    "            # if li = 0 no ration was performed, no change necessary\n",
    "            if li > 0:\n",
    "                new_overlap = 0\n",
    "                \n",
    "                if li == 1:\n",
    "                    # rotated orbital phi_tilde_i = sum_m_prime R(m, m_prime) phi_k \n",
    "                    for m_prime, k in enumerate(range(i - mi, i - mi + 3)):\n",
    "                        new_overlap += S[k, j] * R[mi, m_prime]\n",
    "\n",
    "                elif li == 2:\n",
    "                    # use higher order rotations\n",
    "                    raise IndexError(\"d-orbitals not implemented\")\n",
    "            \n",
    "    return Q\n",
    "\n",
    "q90 = make_transformation_overlap(R90, s)"
   ]
  },
  {
   "cell_type": "code",
   "execution_count": 35,
   "metadata": {},
   "outputs": [
    {
     "data": {
      "text/plain": [
       "<matplotlib.axes._subplots.AxesSubplot at 0x7f7cf00e6320>"
      ]
     },
     "execution_count": 35,
     "metadata": {},
     "output_type": "execute_result"
    },
    {
     "data": {
      "image/png": "[encoded data removed]",
      "text/plain": [
       "<matplotlib.figure.Figure at 0x7f7cf01513c8>"
      ]
     },
     "metadata": {},
     "output_type": "display_data"
    }
   ],
   "source": [
    "sns.heatmap(q90)"
   ]
  },
  {
   "cell_type": "code",
   "execution_count": 36,
   "metadata": {},
   "outputs": [
    {
     "ename": "SyntaxError",
     "evalue": "invalid syntax (<ipython-input-36-bc3a005e76a2>, line 1)",
     "output_type": "error",
     "traceback": [
      "\u001b[0;36m  File \u001b[0;32m\"<ipython-input-36-bc3a005e76a2>\"\u001b[0;36m, line \u001b[0;32m1\u001b[0m\n\u001b[0;31m    s_trans = q90.T s @ q90\u001b[0m\n\u001b[0m                    ^\u001b[0m\n\u001b[0;31mSyntaxError\u001b[0m\u001b[0;31m:\u001b[0m invalid syntax\n"
     ]
    }
   ],
   "source": [
    "s_trans = q90.T s @ q90\n",
    "\n",
    "print(np.mean(np.abs(s_trans-s90)))\n",
    "sns.heatmap(s_trans-s)"
   ]
  },
  {
   "cell_type": "code",
   "execution_count": null,
   "metadata": {},
   "outputs": [],
   "source": []
  }
 ],
 "metadata": {
  "kernelspec": {
   "display_name": "Python 3",
   "language": "python",
   "name": "python3"
  },
  "language_info": {
   "codemirror_mode": {
    "name": "ipython",
    "version": 3
   },
   "file_extension": ".py",
   "mimetype": "text/x-python",
   "name": "python",
   "nbconvert_exporter": "python",
   "pygments_lexer": "ipython3",
   "version": "3.6.4"
  }
 },
 "nbformat": 4,
 "nbformat_minor": 2
}
