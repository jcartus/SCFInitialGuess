{
 "cells": [
  {
   "cell_type": "code",
   "execution_count": 2,
   "metadata": {},
   "outputs": [],
   "source": [
    "import numpy as np\n",
    "import matplotlib.pyplot as plt\n",
    "import seaborn as sns\n",
    "\n",
    "from pyscf import scf, gto\n",
    "\n",
    "plt.style.use([\"seaborn\"])"
   ]
  },
  {
   "cell_type": "markdown",
   "metadata": {},
   "source": [
    "# s-Funktionen "
   ]
  },
  {
   "cell_type": "markdown",
   "metadata": {},
   "source": [
    "## H2 "
   ]
  },
  {
   "cell_type": "code",
   "execution_count": 3,
   "metadata": {},
   "outputs": [
    {
     "data": {
      "text/plain": [
       "<pyscf.gto.mole.Mole at 0x7f323d5dcfd0>"
      ]
     },
     "execution_count": 3,
     "metadata": {},
     "output_type": "execute_result"
    }
   ],
   "source": [
    "basis = \"3-21++g\"\n",
    "H2_1 = gto.Mole(atom=\"H 0.0 0.0 0.0\\nH 1.0 0.0 0.0\", basis=basis)\n",
    "H2_1.build()\n",
    "H2_2 = gto.Mole(atom=\"H 0.0 0.0 0.0\\nH 0.0 1.0 0.0\", basis=basis)\n",
    "H2_2.build()"
   ]
  },
  {
   "cell_type": "markdown",
   "metadata": {},
   "source": [
    "### Overlap "
   ]
  },
  {
   "cell_type": "code",
   "execution_count": 4,
   "metadata": {},
   "outputs": [
    {
     "name": "stdout",
     "output_type": "stream",
     "text": [
      "0.0\n"
     ]
    },
    {
     "data": {
      "image/png": "[encoded data removed]",
      "text/plain": [
       "<matplotlib.figure.Figure at 0x7f323d397390>"
      ]
     },
     "metadata": {},
     "output_type": "display_data"
    }
   ],
   "source": [
    "sH2_1 = scf.hf.get_ovlp(H2_1)\n",
    "sH2_2 = scf.hf.get_ovlp(H2_2)\n",
    "\n",
    "print(np.mean(np.abs(sH2_1 - sH2_2)))\n",
    "\n",
    "sns.heatmap(sH2_1-sH2_2)\n",
    "plt.show()"
   ]
  },
  {
   "cell_type": "markdown",
   "metadata": {},
   "source": [
    "### Density "
   ]
  },
  {
   "cell_type": "code",
   "execution_count": 5,
   "metadata": {},
   "outputs": [
    {
     "name": "stdout",
     "output_type": "stream",
     "text": [
      "2.2936899293471115e-17\n"
     ]
    },
    {
     "data": {
      "image/png": "[encoded data removed]",
      "text/plain": [
       "<matplotlib.figure.Figure at 0x7f32340a7860>"
      ]
     },
     "metadata": {},
     "output_type": "display_data"
    }
   ],
   "source": [
    "def calculate_density(mol):\n",
    "    mf = scf.RHF(mol)\n",
    "    mf.verbose = 0\n",
    "    mf.scf()\n",
    "    return mf.make_rdm1()\n",
    "\n",
    "pH2_1 = calculate_density(H2_1)\n",
    "pH2_2 = calculate_density(H2_2)\n",
    "print(np.mean(pH2_1 - pH2_2))\n",
    "\n",
    "sns.heatmap(pH2_1 - pH2_2)\n",
    "plt.show()"
   ]
  },
  {
   "cell_type": "markdown",
   "metadata": {},
   "source": [
    "# Ausgangsmolecule\n",
    "\n",
    "in x direction"
   ]
  },
  {
   "cell_type": "code",
   "execution_count": 6,
   "metadata": {},
   "outputs": [
    {
     "data": {
      "text/plain": [
       "<pyscf.gto.mole.Mole at 0x7f323d397588>"
      ]
     },
     "execution_count": 6,
     "metadata": {},
     "output_type": "execute_result"
    }
   ],
   "source": [
    "mol = gto.Mole()\n",
    "mol.atom = \"\"\"\n",
    "F 0.0 0.0 0.0\n",
    "H 1.0 0.0 0.0\n",
    "\"\"\"\n",
    "mol.basis = \"sto-3g\"\n",
    "\n",
    "mol.build()"
   ]
  },
  {
   "cell_type": "code",
   "execution_count": 89,
   "metadata": {},
   "outputs": [
    {
     "name": "stdout",
     "output_type": "stream",
     "text": [
      "[[1.      0.23799 0.      0.      0.      0.04058]\n",
      " [0.23799 1.      0.      0.      0.      0.39514]\n",
      " [0.      0.      1.      0.      0.      0.31965]\n",
      " [0.      0.      0.      1.      0.      0.     ]\n",
      " [0.      0.      0.      0.      1.      0.     ]\n",
      " [0.04058 0.39514 0.31965 0.      0.      1.     ]]\n"
     ]
    }
   ],
   "source": [
    "s = scf.hf.get_ovlp(mol)\n",
    "print(s)"
   ]
  },
  {
   "cell_type": "code",
   "execution_count": 90,
   "metadata": {},
   "outputs": [
    {
     "data": {
      "image/png": "[encoded data removed]",
      "text/plain": [
       "<matplotlib.figure.Figure at 0x7f3225a38898>"
      ]
     },
     "metadata": {},
     "output_type": "display_data"
    }
   ],
   "source": [
    "sns.heatmap(s)\n",
    "plt.show()"
   ]
  },
  {
   "cell_type": "code",
   "execution_count": 176,
   "metadata": {},
   "outputs": [
    {
     "data": {
      "text/plain": [
       "array([[1.05829, 0.49201, 0.01297, 0.     , 0.     , 0.17519],\n",
       "       [0.49201, 1.21278, 0.12631, 0.     , 0.     , 0.79994],\n",
       "       [0.01297, 0.12631, 1.10218, 0.     , 0.     , 0.6393 ],\n",
       "       [0.     , 0.     , 0.     , 1.     , 0.     , 0.     ],\n",
       "       [0.     , 0.     , 0.     , 0.     , 1.     , 0.     ],\n",
       "       [0.17519, 0.79994, 0.6393 , 0.     , 0.     , 1.25996]])"
      ]
     },
     "execution_count": 176,
     "metadata": {},
     "output_type": "execute_result"
    }
   ],
   "source": [
    "s.T@s"
   ]
  },
  {
   "cell_type": "markdown",
   "metadata": {},
   "source": [
    "# 90 ° Rotation \n",
    "in y direction"
   ]
  },
  {
   "cell_type": "code",
   "execution_count": 91,
   "metadata": {},
   "outputs": [
    {
     "data": {
      "text/plain": [
       "0.7071067811865475"
      ]
     },
     "execution_count": 91,
     "metadata": {},
     "output_type": "execute_result"
    }
   ],
   "source": [
    "1/np.sqrt(2)"
   ]
  },
  {
   "cell_type": "code",
   "execution_count": 92,
   "metadata": {},
   "outputs": [
    {
     "name": "stdout",
     "output_type": "stream",
     "text": [
      "[[1.      0.23799 0.      0.      0.      0.04058]\n",
      " [0.23799 1.      0.      0.      0.      0.39514]\n",
      " [0.      0.      1.      0.      0.      0.     ]\n",
      " [0.      0.      0.      1.      0.      0.31965]\n",
      " [0.      0.      0.      0.      1.      0.     ]\n",
      " [0.04058 0.39514 0.      0.31965 0.      1.     ]]\n"
     ]
    }
   ],
   "source": [
    "mol90 = gto.Mole()\n",
    "mol90.atom = \"\"\"\n",
    "F 0.0 0.0 0.0\n",
    "H 0.0 1.0 0.0\n",
    "\"\"\"\n",
    "mol90.basis = \"sto-3g\"\n",
    "mol90.build()\n",
    "\n",
    "s90 = scf.hf.get_ovlp(mol90)\n",
    "print(s90)"
   ]
  },
  {
   "cell_type": "code",
   "execution_count": 93,
   "metadata": {},
   "outputs": [
    {
     "name": "stdout",
     "output_type": "stream",
     "text": [
      "[[ 0.       0.       0.       0.       0.       0.     ]\n",
      " [ 0.       0.       0.       0.       0.       0.     ]\n",
      " [ 0.       0.       0.       0.       0.       0.31965]\n",
      " [ 0.       0.       0.       0.       0.      -0.31965]\n",
      " [ 0.       0.       0.       0.       0.       0.     ]\n",
      " [ 0.       0.       0.31965 -0.31965  0.       0.     ]]\n"
     ]
    }
   ],
   "source": [
    "np.set_printoptions(precision=5, suppress=True)\n",
    "print(s - s90)"
   ]
  },
  {
   "cell_type": "code",
   "execution_count": 94,
   "metadata": {},
   "outputs": [
    {
     "data": {
      "text/plain": [
       "<matplotlib.axes._subplots.AxesSubplot at 0x7f32259ce4e0>"
      ]
     },
     "execution_count": 94,
     "metadata": {},
     "output_type": "execute_result"
    },
    {
     "data": {
      "image/png": "[encoded data removed]",
      "text/plain": [
       "<matplotlib.figure.Figure at 0x7f32259ce668>"
      ]
     },
     "metadata": {},
     "output_type": "display_data"
    }
   ],
   "source": [
    "sns.heatmap((s - s90))"
   ]
  },
  {
   "cell_type": "code",
   "execution_count": 95,
   "metadata": {},
   "outputs": [
    {
     "name": "stdout",
     "output_type": "stream",
     "text": [
      "0.19670692001959122\n"
     ]
    },
    {
     "data": {
      "text/plain": [
       "<matplotlib.axes._subplots.AxesSubplot at 0x7f3225a42e80>"
      ]
     },
     "execution_count": 95,
     "metadata": {},
     "output_type": "execute_result"
    },
    {
     "data": {
      "image/png": "[encoded data removed]",
      "text/plain": [
       "<matplotlib.figure.Figure at 0x7f3225a6b4e0>"
      ]
     },
     "metadata": {},
     "output_type": "display_data"
    }
   ],
   "source": [
    "pMol = calculate_density(mol)\n",
    "pMol90 = calculate_density(mol90)\n",
    "print(np.mean(np.abs(pMol - pMol90)))\n",
    "\n",
    "sns.heatmap(pMol - pMol90)"
   ]
  },
  {
   "cell_type": "markdown",
   "metadata": {},
   "source": [
    "# Rotation of the Basis "
   ]
  },
  {
   "cell_type": "markdown",
   "metadata": {},
   "source": [
    "## Rotation Matrix "
   ]
  },
  {
   "cell_type": "code",
   "execution_count": 119,
   "metadata": {},
   "outputs": [
    {
     "data": {
      "text/plain": [
       "<matplotlib.axes._subplots.AxesSubplot at 0x7f32255f67f0>"
      ]
     },
     "execution_count": 119,
     "metadata": {},
     "output_type": "execute_result"
    },
    {
     "data": {
      "image/png": "[encoded data removed]",
      "text/plain": [
       "<matplotlib.figure.Figure at 0x7f32255995c0>"
      ]
     },
     "metadata": {},
     "output_type": "display_data"
    }
   ],
   "source": [
    "def rotation_z(theta):\n",
    "    return np.array([\n",
    "        [np.cos(theta), -np.sin(theta), 0],\n",
    "        [np.sin(theta), np.cos(theta), 0],\n",
    "        [0, 0, 1]\n",
    "    ])\n",
    "\n",
    "R90 = rotation_z(-np.pi/2)\n",
    "sns.heatmap(R90)"
   ]
  },
  {
   "cell_type": "markdown",
   "metadata": {},
   "source": [
    "## OverlapMatrix\n",
    "over lap of mol basis to basis rotated 90 degree around z axis. Thus pz is not changed"
   ]
  },
  {
   "cell_type": "code",
   "execution_count": 120,
   "metadata": {},
   "outputs": [
    {
     "name": "stdout",
     "output_type": "stream",
     "text": [
      "[[1.      0.23799 0.      0.      0.      0.04058]\n",
      " [0.23799 1.      0.      0.      0.      0.39514]\n",
      " [0.      0.      1.      0.      0.      0.     ]\n",
      " [0.      0.      0.      1.      0.      0.31965]\n",
      " [0.      0.      0.      0.      1.      0.     ]\n",
      " [0.04058 0.39514 0.      0.31965 0.      1.     ]]\n",
      "[[ 0.  1.  0.]\n",
      " [-1.  0.  0.]\n",
      " [ 0.  0.  1.]]\n"
     ]
    }
   ],
   "source": [
    "print(s90)\n",
    "print(R)"
   ]
  },
  {
   "cell_type": "code",
   "execution_count": 172,
   "metadata": {},
   "outputs": [
    {
     "name": "stdout",
     "output_type": "stream",
     "text": [
      "[[ 0.  1.  0.]\n",
      " [-1.  0.  0.]\n",
      " [ 0.  0.  1.]]\n",
      "[[1. 0. 0.]\n",
      " [0. 1. 0.]\n",
      " [0. 0. 1.]]\n",
      "[[ 0. -0.  0.]\n",
      " [ 0.  0.  0.]\n",
      " [ 0.  0.  1.]]\n"
     ]
    },
    {
     "data": {
      "text/plain": [
       "<matplotlib.axes._subplots.AxesSubplot at 0x7f3223927390>"
      ]
     },
     "execution_count": 172,
     "metadata": {},
     "output_type": "execute_result"
    },
    {
     "data": {
      "image/png": "[encoded data removed]",
      "text/plain": [
       "<matplotlib.figure.Figure at 0x7f322398d438>"
      ]
     },
     "metadata": {},
     "output_type": "display_data"
    }
   ],
   "source": [
    "\n",
    "def make_basis_rotation(R, S):\n",
    "    Q = S.copy()\n",
    "    for i in range(3):\n",
    "        upper = 0\n",
    "        lower = 0\n",
    "        for j in range(3):\n",
    "            upper += S[j + 2, 5] * R[i, j]\n",
    "            lower += S[5, j + 2] * R[i, j] # TODO: sollte nicht eines der beiden R transponiert sein?\n",
    "            #print(\"r and s: i={0},j={1}\".format(i+2,j))\n",
    "            #print(R[i,j], R[j,i], s[j + 2, 5], s[5, j + 2])\n",
    "\n",
    "        #print(\"\\nlowerupper\")\n",
    "        #print(upper, lower)\n",
    "        #print(\"\\n\\n\")\n",
    "\n",
    "        Q[i + 2, 5] = lower\n",
    "        Q[5, i + 2] = upper\n",
    "        \n",
    "    Q[2:5, 2:5] = R.T * S[2:5, 2:5]\n",
    "    print(R)\n",
    "    print(S[2:5, 2:5])\n",
    "    print(Q[2:5, 2:5])\n",
    "    \n",
    "    return Q\n",
    "\n",
    "q90 = make_basis_rotation(R90, s)\n",
    "sns.heatmap(q90)"
   ]
  },
  {
   "cell_type": "code",
   "execution_count": 173,
   "metadata": {},
   "outputs": [
    {
     "name": "stdout",
     "output_type": "stream",
     "text": [
      "0.16651962206270507\n"
     ]
    },
    {
     "data": {
      "text/plain": [
       "<matplotlib.axes._subplots.AxesSubplot at 0x7f322397f0f0>"
      ]
     },
     "execution_count": 173,
     "metadata": {},
     "output_type": "execute_result"
    },
    {
     "data": {
      "image/png": "[encoded data removed]",
      "text/plain": [
       "<matplotlib.figure.Figure at 0x7f3223977dd8>"
      ]
     },
     "metadata": {},
     "output_type": "display_data"
    }
   ],
   "source": [
    "s_trans = s @ q90.T\n",
    "\n",
    "print(np.mean(np.abs(s_trans-s90)))\n",
    "sns.heatmap(s_trans-s)"
   ]
  },
  {
   "cell_type": "code",
   "execution_count": null,
   "metadata": {},
   "outputs": [],
   "source": []
  }
 ],
 "metadata": {
  "kernelspec": {
   "display_name": "Python 3",
   "language": "python",
   "name": "python3"
  },
  "language_info": {
   "codemirror_mode": {
    "name": "ipython",
    "version": 3
   },
   "file_extension": ".py",
   "mimetype": "text/x-python",
   "name": "python",
   "nbconvert_exporter": "python",
   "pygments_lexer": "ipython3",
   "version": "3.6.4"
  }
 },
 "nbformat": 4,
 "nbformat_minor": 2
}
