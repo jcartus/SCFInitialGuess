{
 "cells": [
  {
   "cell_type": "code",
   "execution_count": 2,
   "metadata": {},
   "outputs": [
    {
     "name": "stderr",
     "output_type": "stream",
     "text": [
      "/home/jo/anaconda3/lib/python3.6/site-packages/h5py/__init__.py:36: FutureWarning: Conversion of the second argument of issubdtype from `float` to `np.floating` is deprecated. In future, it will be treated as `np.float64 == np.dtype(float).type`.\n",
      "  from ._conv import register_converters as _register_converters\n"
     ]
    }
   ],
   "source": [
    "import numpy as np\n",
    "import matplotlib.pyplot as plt\n",
    "import seaborn as sns\n",
    "\n",
    "from pyscf import scf, gto\n",
    "\n",
    "plt.style.use([\"seaborn\"])"
   ]
  },
  {
   "cell_type": "markdown",
   "metadata": {},
   "source": [
    "# s-Funktionen "
   ]
  },
  {
   "cell_type": "markdown",
   "metadata": {},
   "source": [
    "## H2 "
   ]
  },
  {
   "cell_type": "code",
   "execution_count": 45,
   "metadata": {},
   "outputs": [
    {
     "data": {
      "text/plain": [
       "<pyscf.gto.mole.Mole at 0x7f1cd0d58438>"
      ]
     },
     "execution_count": 45,
     "metadata": {},
     "output_type": "execute_result"
    }
   ],
   "source": [
    "basis = \"3-21++g\"\n",
    "H2_1 = gto.Mole(atom=\"H 0.0 0.0 0.0\\nH 1.0 0.0 0.0\", basis=basis)\n",
    "H2_1.build()\n",
    "H2_2 = gto.Mole(atom=\"H 0.0 0.0 0.0\\nH 0.0 1.0 0.0\", basis=basis)\n",
    "H2_2.build()"
   ]
  },
  {
   "cell_type": "markdown",
   "metadata": {},
   "source": [
    "### Overlap "
   ]
  },
  {
   "cell_type": "code",
   "execution_count": 46,
   "metadata": {},
   "outputs": [
    {
     "name": "stdout",
     "output_type": "stream",
     "text": [
      "0.0\n"
     ]
    },
    {
     "data": {
      "image/png": "[encoded data removed]",
      "text/plain": [
       "<matplotlib.figure.Figure at 0x7f1cd0f0f588>"
      ]
     },
     "metadata": {},
     "output_type": "display_data"
    }
   ],
   "source": [
    "sH2_1 = scf.hf.get_ovlp(H2_1)\n",
    "sH2_2 = scf.hf.get_ovlp(H2_2)\n",
    "\n",
    "print(np.mean(np.abs(sH2_1 - sH2_2)))\n",
    "\n",
    "sns.heatmap(sH2_1-sH2_2)\n",
    "plt.show()"
   ]
  },
  {
   "cell_type": "markdown",
   "metadata": {},
   "source": [
    "### Density "
   ]
  },
  {
   "cell_type": "code",
   "execution_count": 50,
   "metadata": {},
   "outputs": [
    {
     "name": "stdout",
     "output_type": "stream",
     "text": [
      "-1.1384122811097797e-18\n"
     ]
    },
    {
     "data": {
      "image/png": "[encoded data removed]",
      "text/plain": [
       "<matplotlib.figure.Figure at 0x7f1cc3b12908>"
      ]
     },
     "metadata": {},
     "output_type": "display_data"
    }
   ],
   "source": [
    "def calculate_density(mol):\n",
    "    mf = scf.RHF(mol)\n",
    "    mf.verbose = 0\n",
    "    mf.scf()\n",
    "    return mf.make_rdm1()\n",
    "\n",
    "pH2_1 = calculate_density(H2_1)\n",
    "pH2_2 = calculate_density(H2_2)\n",
    "print(np.mean(pH2_1 - pH2_2))\n",
    "\n",
    "sns.heatmap(pH2_1 - pH2_2)\n",
    "plt.show()"
   ]
  },
  {
   "cell_type": "markdown",
   "metadata": {},
   "source": [
    "# Ausgangsmolecule\n",
    "\n",
    "in x direction"
   ]
  },
  {
   "cell_type": "code",
   "execution_count": 37,
   "metadata": {},
   "outputs": [
    {
     "data": {
      "text/plain": [
       "<pyscf.gto.mole.Mole at 0x7f1cd09fc710>"
      ]
     },
     "execution_count": 37,
     "metadata": {},
     "output_type": "execute_result"
    }
   ],
   "source": [
    "mol = gto.Mole()\n",
    "mol.atom = \"\"\"\n",
    "F 0.0 0.0 0.0\n",
    "H 1.0 0.0 0.0\n",
    "\"\"\"\n",
    "mol.basis = \"sto-3g\"\n",
    "\n",
    "mol.build()"
   ]
  },
  {
   "cell_type": "code",
   "execution_count": 38,
   "metadata": {},
   "outputs": [
    {
     "name": "stdout",
     "output_type": "stream",
     "text": [
      "[[1.         0.23798988 0.         0.         0.         0.04057559]\n",
      " [0.23798988 1.         0.         0.         0.         0.39514046]\n",
      " [0.         0.         1.         0.         0.         0.31965214]\n",
      " [0.         0.         0.         1.         0.         0.        ]\n",
      " [0.         0.         0.         0.         1.         0.        ]\n",
      " [0.04057559 0.39514046 0.31965214 0.         0.         1.        ]]\n"
     ]
    }
   ],
   "source": [
    "s = scf.hf.get_ovlp(mol)\n",
    "print(s)"
   ]
  },
  {
   "cell_type": "code",
   "execution_count": 39,
   "metadata": {},
   "outputs": [
    {
     "data": {
      "image/png": "[encoded data removed]",
      "text/plain": [
       "<matplotlib.figure.Figure at 0x7f1cd092f6a0>"
      ]
     },
     "metadata": {},
     "output_type": "display_data"
    }
   ],
   "source": [
    "sns.heatmap(s)\n",
    "plt.show()"
   ]
  },
  {
   "cell_type": "markdown",
   "metadata": {},
   "source": [
    "# 90 ° Rotation \n",
    "in y direction"
   ]
  },
  {
   "cell_type": "code",
   "execution_count": 40,
   "metadata": {},
   "outputs": [
    {
     "name": "stdout",
     "output_type": "stream",
     "text": [
      "[[1.         0.23798988 0.         0.         0.         0.04057559]\n",
      " [0.23798988 1.         0.         0.         0.         0.39514046]\n",
      " [0.         0.         1.         0.         0.         0.        ]\n",
      " [0.         0.         0.         1.         0.         0.31965214]\n",
      " [0.         0.         0.         0.         1.         0.        ]\n",
      " [0.04057559 0.39514046 0.         0.31965214 0.         1.        ]]\n"
     ]
    }
   ],
   "source": [
    "mol90 = gto.Mole()\n",
    "mol90.atom = \"\"\"\n",
    "F 0.0 0.0 0.0\n",
    "H 0.0 1.0 0.0\n",
    "\"\"\"\n",
    "mol90.basis = \"sto-3g\"\n",
    "mol90.build()\n",
    "\n",
    "s90 = scf.hf.get_ovlp(mol90)\n",
    "print(s90)"
   ]
  },
  {
   "cell_type": "code",
   "execution_count": 41,
   "metadata": {},
   "outputs": [
    {
     "data": {
      "text/plain": [
       "<matplotlib.axes._subplots.AxesSubplot at 0x7f1cd0b97358>"
      ]
     },
     "execution_count": 41,
     "metadata": {},
     "output_type": "execute_result"
    },
    {
     "data": {
      "image/png": "[encoded data removed]",
      "text/plain": [
       "<matplotlib.figure.Figure at 0x7f1cd0b97ac8>"
      ]
     },
     "metadata": {},
     "output_type": "display_data"
    }
   ],
   "source": [
    "sns.heatmap((s - s90))"
   ]
  },
  {
   "cell_type": "code",
   "execution_count": 47,
   "metadata": {},
   "outputs": [
    {
     "name": "stdout",
     "output_type": "stream",
     "text": [
      "1.2118434812747587e-15\n"
     ]
    },
    {
     "data": {
      "text/plain": [
       "<matplotlib.axes._subplots.AxesSubplot at 0x7f1cd0f0fd68>"
      ]
     },
     "execution_count": 47,
     "metadata": {},
     "output_type": "execute_result"
    },
    {
     "data": {
      "image/png": "[encoded data removed]",
      "text/plain": [
       "<matplotlib.figure.Figure at 0x7f1cd0bb4da0>"
      ]
     },
     "metadata": {},
     "output_type": "display_data"
    }
   ],
   "source": [
    "pMol = calculate_density(mol)\n",
    "pMol90 = calculate_density(mol90)\n",
    "print(np.mean(pMol - pMol90))\n",
    "\n",
    "sns.heatmap(pMol - pMol90)"
   ]
  },
  {
   "cell_type": "markdown",
   "metadata": {},
   "source": [
    "# Rotation of the Basis "
   ]
  },
  {
   "cell_type": "markdown",
   "metadata": {},
   "source": [
    "## Rotation Matrix "
   ]
  },
  {
   "cell_type": "code",
   "execution_count": 33,
   "metadata": {},
   "outputs": [
    {
     "data": {
      "text/plain": [
       "array([[ 6.123234e-17, -1.000000e+00,  0.000000e+00],\n",
       "       [ 1.000000e+00,  6.123234e-17,  0.000000e+00],\n",
       "       [ 0.000000e+00,  0.000000e+00,  1.000000e+00]])"
      ]
     },
     "execution_count": 33,
     "metadata": {},
     "output_type": "execute_result"
    }
   ],
   "source": [
    "def rotation_z(theta):\n",
    "    return np.array([\n",
    "        [np.cos(theta), -np.sin(theta), 0],\n",
    "        [np.sin(theta), np.cos(theta), 0],\n",
    "        [0, 0, 1]\n",
    "    ])\n",
    "rotation_z(np.pi/2)"
   ]
  },
  {
   "cell_type": "markdown",
   "metadata": {},
   "source": [
    "## Orbitals in the Molecule "
   ]
  },
  {
   "cell_type": "code",
   "execution_count": null,
   "metadata": {},
   "outputs": [],
   "source": [
    "k = [\n",
    "    (0,  0), # 1s  of F\n",
    "    (0,  0), # 2s  of F\n",
    "    (1,  1), # 2px of F\n",
    "    (1, -1), # 2py of F\n",
    "    (1,  0), # 2pz of F\n",
    "    (0,  0), # 1s  of H\n",
    "]"
   ]
  }
 ],
 "metadata": {
  "kernelspec": {
   "display_name": "Python 3",
   "language": "python",
   "name": "python3"
  },
  "language_info": {
   "codemirror_mode": {
    "name": "ipython",
    "version": 3
   },
   "file_extension": ".py",
   "mimetype": "text/x-python",
   "name": "python",
   "nbconvert_exporter": "python",
   "pygments_lexer": "ipython3",
   "version": "3.6.4"
  }
 },
 "nbformat": 4,
 "nbformat_minor": 2
}
