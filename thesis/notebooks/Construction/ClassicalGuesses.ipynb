{
 "cells": [
  {
   "cell_type": "code",
   "execution_count": 1,
   "metadata": {
    "scrolled": true
   },
   "outputs": [
    {
     "name": "stderr",
     "output_type": "stream",
     "text": [
      "/home/jcartus/anaconda3/lib/python3.6/site-packages/h5py/__init__.py:36: FutureWarning: Conversion of the second argument of issubdtype from `float` to `np.floating` is deprecated. In future, it will be treated as `np.float64 == np.dtype(float).type`.\n",
      "  from ._conv import register_converters as _register_converters\n"
     ]
    }
   ],
   "source": [
    "import numpy as np\n",
    "import matplotlib.pyplot as plt\n",
    "import tensorflow as tf\n",
    "from tensorflow import keras\n",
    "import seaborn as sns\n",
    "\n",
    "from os.path import join\n",
    "\n",
    "plt.style.use([\"seaborn\", \"thesis\"])"
   ]
  },
  {
   "cell_type": "code",
   "execution_count": 2,
   "metadata": {
    "scrolled": true
   },
   "outputs": [],
   "source": [
    "plt.rc(\"figure\", figsize=(8,4))"
   ]
  },
  {
   "cell_type": "markdown",
   "metadata": {},
   "source": [
    "# Data "
   ]
  },
  {
   "cell_type": "code",
   "execution_count": 3,
   "metadata": {
    "scrolled": true
   },
   "outputs": [],
   "source": [
    "from SCFInitialGuess.utilities.dataset import Data\n",
    "\n",
    "target = \"P\"\n",
    "\n",
    "data = Data()\n",
    "data.include(data_path = \"../../dataset/EthanT/\",  postfix = \"EthanT\", target=target, split_test=0, split_validation=0)\n"
   ]
  },
  {
   "cell_type": "code",
   "execution_count": 4,
   "metadata": {},
   "outputs": [
    {
     "data": {
      "text/plain": [
       "1001"
      ]
     },
     "execution_count": 4,
     "metadata": {},
     "output_type": "execute_result"
    }
   ],
   "source": [
    "len(data.molecules[2])"
   ]
  },
  {
   "cell_type": "markdown",
   "metadata": {},
   "source": [
    "# Calculate Guesses "
   ]
  },
  {
   "cell_type": "code",
   "execution_count": 5,
   "metadata": {
    "scrolled": true
   },
   "outputs": [],
   "source": [
    "from pyscf.scf import hf\n",
    "p_gwh = [hf.init_guess_by_wolfsberg_helmholtz(mol.get_pyscf_molecule()) for mol in data.molecules[2]]"
   ]
  },
  {
   "cell_type": "code",
   "execution_count": 6,
   "metadata": {
    "scrolled": true
   },
   "outputs": [],
   "source": [
    "p_sad = [hf.init_guess_by_atom(mol.get_pyscf_molecule()) for mol in data.molecules[2]]"
   ]
  },
  {
   "cell_type": "code",
   "execution_count": 7,
   "metadata": {},
   "outputs": [],
   "source": [
    "p_1e = [hf.init_guess_by_1e(mol.get_pyscf_molecule()) for mol in data.molecules[2]]"
   ]
  },
  {
   "cell_type": "code",
   "execution_count": 8,
   "metadata": {},
   "outputs": [],
   "source": [
    "p_gwh = np.array(p_gwh)\n",
    "p_sad = np.array(p_sad)\n",
    "p_1e = np.array(p_1e)"
   ]
  },
  {
   "cell_type": "markdown",
   "metadata": {},
   "source": [
    "# Evaluate GWH "
   ]
  },
  {
   "cell_type": "code",
   "execution_count": 9,
   "metadata": {},
   "outputs": [
    {
     "data": {
      "text/plain": [
       "array([[0, 1, 2],\n",
       "       [3, 4, 5],\n",
       "       [6, 7, 8]])"
      ]
     },
     "execution_count": 9,
     "metadata": {},
     "output_type": "execute_result"
    }
   ],
   "source": [
    "p = np.arange(9)\n",
    "p.reshape(-1, int(np.sqrt(np.prod(p.shape))))"
   ]
  },
  {
   "cell_type": "code",
   "execution_count": 10,
   "metadata": {},
   "outputs": [
    {
     "ename": "ImportError",
     "evalue": "cannot import name 'analyze_raw_batch'",
     "output_type": "error",
     "traceback": [
      "\u001b[0;31m---------------------------------------------------------------------------\u001b[0m",
      "\u001b[0;31mImportError\u001b[0m                               Traceback (most recent call last)",
      "\u001b[0;32m<ipython-input-10-0d719801e4cb>\u001b[0m in \u001b[0;36m<module>\u001b[0;34m()\u001b[0m\n\u001b[0;32m----> 1\u001b[0;31m \u001b[0;32mfrom\u001b[0m \u001b[0mSCFInitialGuess\u001b[0m\u001b[0;34m.\u001b[0m\u001b[0mutilities\u001b[0m\u001b[0;34m.\u001b[0m\u001b[0manalysis\u001b[0m \u001b[0;32mimport\u001b[0m \u001b[0manalyze_raw_batch\u001b[0m\u001b[0;34m\u001b[0m\u001b[0m\n\u001b[0m\u001b[1;32m      2\u001b[0m result = analyze_raw_batch(\n\u001b[1;32m      3\u001b[0m     \u001b[0mp_gwh\u001b[0m\u001b[0;34m,\u001b[0m\u001b[0;34m\u001b[0m\u001b[0m\n\u001b[1;32m      4\u001b[0m     \u001b[0mdata\u001b[0m\u001b[0;34m.\u001b[0m\u001b[0mT\u001b[0m\u001b[0;34m[\u001b[0m\u001b[0;36m2\u001b[0m\u001b[0;34m]\u001b[0m\u001b[0;34m,\u001b[0m\u001b[0;34m\u001b[0m\u001b[0m\n\u001b[1;32m      5\u001b[0m     \u001b[0mdata\u001b[0m\u001b[0;34m.\u001b[0m\u001b[0mS\u001b[0m\u001b[0;34m[\u001b[0m\u001b[0;36m2\u001b[0m\u001b[0;34m]\u001b[0m\u001b[0;34m,\u001b[0m\u001b[0;34m\u001b[0m\u001b[0m\n",
      "\u001b[0;31mImportError\u001b[0m: cannot import name 'analyze_raw_batch'"
     ]
    }
   ],
   "source": [
    "from SCFInitialGuess.utilities.analysis import analyze_raw_batch\n",
    "result = analyze_raw_batch(\n",
    "    p_gwh,\n",
    "    data.T[2],\n",
    "    data.S[2],\n",
    "    data.molecules[2]\n",
    ")"
   ]
  },
  {
   "cell_type": "code",
   "execution_count": null,
   "metadata": {},
   "outputs": [],
   "source": [
    "from SCFInitialGuess.utilities.analysis import format_raw\n",
    "\n",
    "print(format_raw(result))"
   ]
  },
  {
   "cell_type": "code",
   "execution_count": null,
   "metadata": {},
   "outputs": [],
   "source": [
    "from SCFInitialGuess.utilities.analysis import mf_initializer\n",
    "from SCFInitialGuess.utilities.analysis import measure_iterations, statistics\n",
    "from SCFInitialGuess.utilities.usermessages import Messenger as msg\n",
    "msg.print_level = 3\n",
    "\n",
    "    \n",
    "iterations = np.array(measure_iterations(\n",
    "    mf_initializer, \n",
    "    p_gwh, \n",
    "    data.molecules[2]\n",
    "))"
   ]
  },
  {
   "cell_type": "code",
   "execution_count": null,
   "metadata": {},
   "outputs": [],
   "source": [
    "\n",
    "max_cycle = mf_initializer(\n",
    "    data.molecules[2][0].get_pyscf_molecule()\n",
    ").max_cycle\n",
    "\n",
    "print(statistics(iterations))\n",
    "print(statistics(iterations[iterations != max_cycle]))\n",
    "print(np.sum(max_cycle == np.array(iterations)))\n",
    "print(np.sum(max_cycle == np.array(iterations)) / len(data.molecules[2]))"
   ]
  },
  {
   "cell_type": "code",
   "execution_count": null,
   "metadata": {},
   "outputs": [],
   "source": [
    "from SCFInitialGuess.utilities.analysis import mf_initializer_damping as mf_initializer\n",
    "from SCFInitialGuess.utilities.analysis import measure_iterations, statistics\n",
    "    \n",
    "iterations = np.array(measure_iterations(\n",
    "    mf_initializer, \n",
    "    p_gwh, \n",
    "    data.molecules[2]\n",
    "))\n",
    "\n",
    "max_cycle = mf_initializer(\n",
    "    data.molecules[2][0].get_pyscf_molecule()\n",
    ").max_cycle\n",
    "\n",
    "print(statistics(iterations))\n",
    "print(statistics(iterations[iterations != max_cycle]))\n",
    "print(np.sum(max_cycle == np.array(iterations)))\n",
    "print(np.sum(max_cycle == np.array(iterations)) / len(data.molecules[2]))"
   ]
  },
  {
   "cell_type": "code",
   "execution_count": null,
   "metadata": {},
   "outputs": [],
   "source": [
    "from SCFInitialGuess.utilities.analysis import mf_initializer_diis as mf_initializer\n",
    "from SCFInitialGuess.utilities.analysis import statistics\n",
    "    \n",
    "iterations = np.array(measure_iterations(\n",
    "    mf_initializer, \n",
    "    p_gwh, \n",
    "    data.molecules[2]\n",
    "))\n",
    "\n",
    "max_cycle = mf_initializer(\n",
    "    data.molecules[2][0].get_pyscf_molecule()\n",
    ").max_cycle\n",
    "\n"
   ]
  },
  {
   "cell_type": "code",
   "execution_count": null,
   "metadata": {},
   "outputs": [],
   "source": [
    "from SCFInitialGuess.utilities.analysis import statistics\n",
    "    \n",
    "print(statistics(iterations))\n",
    "print(statistics(iterations[iterations != max_cycle]))\n",
    "print(np.sum(max_cycle == np.array(iterations)))\n",
    "print(np.sum(max_cycle == np.array(iterations)) / len(data.molecules[2]))"
   ]
  },
  {
   "cell_type": "markdown",
   "metadata": {},
   "source": [
    "# Evaluate SAD "
   ]
  },
  {
   "cell_type": "code",
   "execution_count": null,
   "metadata": {},
   "outputs": [],
   "source": [
    "result = analyze_raw_batch(\n",
    "    p_sad,\n",
    "    data.T[2],\n",
    "    data.S[2],\n",
    "    data.molecules[2]\n",
    ")"
   ]
  },
  {
   "cell_type": "code",
   "execution_count": null,
   "metadata": {},
   "outputs": [],
   "source": [
    "print(format_raw(result))"
   ]
  },
  {
   "cell_type": "code",
   "execution_count": null,
   "metadata": {},
   "outputs": [],
   "source": [
    "from SCFInitialGuess.utilities.analysis import mf_initializer\n",
    "from SCFInitialGuess.utilities.analysis import measure_iterations, statistics\n",
    "from SCFInitialGuess.utilities.usermessages import Messenger as msg\n",
    "msg.print_level = 0\n",
    "\n",
    "    \n",
    "iterations = np.array(measure_iterations(\n",
    "    mf_initializer, \n",
    "    p_sad, \n",
    "    data.molecules[2]\n",
    "))\n",
    "\n",
    "max_cycle = mf_initializer(\n",
    "    data.molecules[2][0].get_pyscf_molecule()\n",
    ").max_cycle\n",
    "\n",
    "print(statistics(iterations))\n",
    "print(statistics(iterations[iterations != max_cycle]))\n",
    "print(np.sum(max_cycle == np.array(iterations)))\n",
    "print(np.sum(max_cycle == np.array(iterations)) / len(data.molecules[2]))"
   ]
  },
  {
   "cell_type": "code",
   "execution_count": null,
   "metadata": {},
   "outputs": [],
   "source": [
    "from SCFInitialGuess.utilities.analysis import mf_initializer_damping as mf_initializer\n",
    "\n",
    "    \n",
    "iterations = np.array(measure_iterations(\n",
    "    mf_initializer, \n",
    "    p_sad, \n",
    "    data.molecules[2]\n",
    "))\n",
    "\n",
    "max_cycle = mf_initializer(\n",
    "    data.molecules[2][0].get_pyscf_molecule()\n",
    ").max_cycle\n",
    "\n",
    "print(statistics(iterations))\n",
    "print(statistics(iterations[iterations != max_cycle]))\n",
    "print(np.sum(max_cycle == np.array(iterations)))\n",
    "print(np.sum(max_cycle == np.array(iterations)) / len(data.molecules[2]))"
   ]
  },
  {
   "cell_type": "code",
   "execution_count": null,
   "metadata": {},
   "outputs": [],
   "source": [
    "from SCFInitialGuess.utilities.analysis import mf_initializer_diis as mf_initializer\n",
    "\n",
    "    \n",
    "iterations = np.array(measure_iterations(\n",
    "    mf_initializer, \n",
    "    p_sad, \n",
    "    data.molecules[2]\n",
    "))\n",
    "\n",
    "max_cycle = mf_initializer(\n",
    "    data.molecules[2][0].get_pyscf_molecule()\n",
    ").max_cycle\n",
    "\n",
    "print(statistics(iterations))\n",
    "print(statistics(iterations[iterations != max_cycle]))\n",
    "print(np.sum(max_cycle == np.array(iterations)))\n",
    "print(np.sum(max_cycle == np.array(iterations)) / len(data.molecules[2]))"
   ]
  },
  {
   "cell_type": "markdown",
   "metadata": {},
   "source": [
    "# H_core "
   ]
  },
  {
   "cell_type": "code",
   "execution_count": null,
   "metadata": {},
   "outputs": [],
   "source": [
    "result = analyze_raw_batch(\n",
    "    p_1e,\n",
    "    data.T[2],\n",
    "    data.S[2],\n",
    "    data.molecules[2]\n",
    ")"
   ]
  },
  {
   "cell_type": "code",
   "execution_count": null,
   "metadata": {},
   "outputs": [],
   "source": [
    "print(format_raw(result))"
   ]
  },
  {
   "cell_type": "code",
   "execution_count": null,
   "metadata": {},
   "outputs": [],
   "source": [
    "from SCFInitialGuess.utilities.analysis import mf_initializer\n",
    "from SCFInitialGuess.utilities.analysis import measure_iterations, statistics\n",
    "from SCFInitialGuess.utilities.usermessages import Messenger as msg\n",
    "msg.print_level = 0\n",
    "\n",
    "    \n",
    "iterations = np.array(measure_iterations(\n",
    "    mf_initializer, \n",
    "    p_1e, \n",
    "    data.molecules[2]\n",
    "))\n",
    "\n",
    "max_cycle = mf_initializer(\n",
    "    data.molecules[2][0].get_pyscf_molecule()\n",
    ").max_cycle\n",
    "\n"
   ]
  },
  {
   "cell_type": "code",
   "execution_count": null,
   "metadata": {},
   "outputs": [],
   "source": [
    "print(statistics(iterations))\n",
    "print(statistics(iterations[iterations != max_cycle]))\n",
    "print(np.sum(max_cycle == np.array(iterations)))\n",
    "print(np.sum(max_cycle == np.array(iterations)) / len(data.molecules[2]))"
   ]
  },
  {
   "cell_type": "code",
   "execution_count": null,
   "metadata": {},
   "outputs": [],
   "source": [
    "from SCFInitialGuess.utilities.analysis import mf_initializer_damping as mf_initializer\n",
    "\n",
    "    \n",
    "iterations = np.array(measure_iterations(\n",
    "    mf_initializer, \n",
    "    p_1e, \n",
    "    data.molecules[2]\n",
    "))\n",
    "\n",
    "max_cycle = mf_initializer(\n",
    "    data.molecules[2][0].get_pyscf_molecule()\n",
    ").max_cycle\n",
    "\n"
   ]
  },
  {
   "cell_type": "code",
   "execution_count": null,
   "metadata": {},
   "outputs": [],
   "source": [
    "print(statistics(iterations))\n",
    "print(statistics(iterations[iterations != max_cycle]))\n",
    "print(np.sum(max_cycle == np.array(iterations)))\n",
    "print(np.sum(max_cycle == np.array(iterations)) / len(data.molecules[2]))"
   ]
  },
  {
   "cell_type": "code",
   "execution_count": null,
   "metadata": {},
   "outputs": [],
   "source": [
    "from SCFInitialGuess.utilities.analysis import mf_initializer_diis as mf_initializer\n",
    "\n",
    "    \n",
    "iterations = np.array(measure_iterations(\n",
    "    mf_initializer, \n",
    "    p_1e, \n",
    "    data.molecules[2]\n",
    "))\n",
    "\n",
    "max_cycle = mf_initializer(\n",
    "    data.molecules[2][0].get_pyscf_molecule()\n",
    ").max_cycle\n",
    "\n"
   ]
  },
  {
   "cell_type": "code",
   "execution_count": null,
   "metadata": {},
   "outputs": [],
   "source": [
    "print(statistics(iterations))\n",
    "print(statistics(iterations[iterations != max_cycle]))\n",
    "print(np.sum(max_cycle == np.array(iterations)))\n",
    "print(np.sum(max_cycle == np.array(iterations)) / len(data.molecules[2]))"
   ]
  }
 ],
 "metadata": {
  "kernelspec": {
   "display_name": "Python 3",
   "language": "python",
   "name": "python3"
  },
  "language_info": {
   "codemirror_mode": {
    "name": "ipython",
    "version": 3
   },
   "file_extension": ".py",
   "mimetype": "text/x-python",
   "name": "python",
   "nbconvert_exporter": "python",
   "pygments_lexer": "ipython3",
   "version": "3.6.4"
  }
 },
 "nbformat": 4,
 "nbformat_minor": 2
}
