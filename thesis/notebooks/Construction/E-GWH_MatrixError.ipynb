{
 "cells": [
  {
   "cell_type": "code",
   "execution_count": 1,
   "metadata": {},
   "outputs": [
    {
     "name": "stderr",
     "output_type": "stream",
     "text": [
      "/home/jo/anaconda3/lib/python3.6/site-packages/h5py/__init__.py:36: FutureWarning: Conversion of the second argument of issubdtype from `float` to `np.floating` is deprecated. In future, it will be treated as `np.float64 == np.dtype(float).type`.\n",
      "  from ._conv import register_converters as _register_converters\n"
     ]
    }
   ],
   "source": [
    "import numpy as np\n",
    "import matplotlib.pyplot as plt\n",
    "import tensorflow as tf\n",
    "from tensorflow import keras\n",
    "import seaborn as sns\n",
    "\n",
    "from os.path import join\n",
    "\n",
    "plt.style.use([\"seaborn\", \"thesis\"])"
   ]
  },
  {
   "cell_type": "code",
   "execution_count": null,
   "metadata": {},
   "outputs": [],
   "source": [
    "plt.rcParams()"
   ]
  },
  {
   "cell_type": "markdown",
   "metadata": {},
   "source": [
    "# Dataset "
   ]
  },
  {
   "cell_type": "code",
   "execution_count": 2,
   "metadata": {},
   "outputs": [],
   "source": [
    "data_path = \"../../dataset/EthenT/\"\n",
    "postfix = \"EthenT\"\n",
    "dim = 72\n",
    "N_ELECTRONS = 16\n",
    "basis = \"6-311++g**\"\n",
    "subfolder = \"EmbeddedBlocks/\"\n",
    "\n",
    "#data_path = \"../../../cc2ai/ethen/\"\n",
    "#postfix = \"_ethen_6-31g**\"\n",
    "#dim = 48\n",
    "#N_ELECTRONS = 16\n",
    "#basis = \"6-31g**\"\n",
    "\n",
    "#data_path = \"../thesis/dataset/TSmall_sto3g\"\n",
    "#postfix = \"TSmall_sto3g\"\n",
    "#dim = 26\n",
    "#N_ELECTRONS = 30\n",
    "#basis = \"sto-3g\"\n",
    "\n",
    "#data_path = \"../../../butadien/data/\"\n",
    "#postfix = \"\"\n",
    "#dim = 26"
   ]
  },
  {
   "cell_type": "code",
   "execution_count": 3,
   "metadata": {},
   "outputs": [],
   "source": [
    "from SCFInitialGuess.utilities.dataset import extract_triu_batch, AbstractDataset\n",
    "from sklearn.model_selection import train_test_split\n",
    "from pyscf.scf import hf\n",
    "\n",
    "\n",
    "def split(x, y, ind):\n",
    "    return x[:ind], y[:ind], x[ind:], y[ind:]\n",
    "\n",
    "#S, P = np.load(join(data_path, \"dataset\" + postfix + \".npy\"))\n",
    "S = np.load(join(data_path, \"S\" + postfix + \".npy\"))\n",
    "P = np.load(join(data_path, \"P\" + postfix + \".npy\"))\n",
    "\n",
    "#index = np.load(join(data_path, \"index\" + postfix + \".npy\"))\n",
    "\n",
    "\n",
    "#ind = int(0.8 * len(S))\n",
    "ind = 0\n",
    "\n",
    "\n",
    "molecules = np.load(join(data_path, \"molecules\" + postfix + \".npy\"))\n",
    "molecules = (molecules[:ind], molecules[ind:])\n",
    "\n",
    "\n",
    "\n",
    "h_test = [hf.get_hcore(mol.get_pyscf_molecule()) for mol in molecules[1]]\n",
    "\n",
    "s_triu_norm, mu, std = AbstractDataset.normalize(S)\n",
    "\n",
    "s_train, p_train, s_test, p_test = split(S.reshape(-1, dim, dim), P.reshape(-1, dim, dim), ind)\n",
    "#s_test, p_test = S.reshape(-1, dim, dim), P.reshape(-1, dim, dim)"
   ]
  },
  {
   "cell_type": "code",
   "execution_count": 7,
   "metadata": {},
   "outputs": [],
   "source": [
    "def fock_from_density_batch(p_batch):\n",
    "    f = []\n",
    "    for p, s, h, mol in zip(p_batch, s_test, h_test, molecules[1]):\n",
    "        f.append(hf.get_fock(None, h1e=h, s1e=s, vhf=hf.get_veff(mol=mol.get_pyscf_molecule(), dm=p), dm=p))\n",
    "    return np.array(f)\n",
    "\n",
    "f_test = fock_from_density_batch(p_test)"
   ]
  },
  {
   "cell_type": "markdown",
   "metadata": {},
   "source": [
    "# Calculate guesses "
   ]
  },
  {
   "cell_type": "code",
   "execution_count": 4,
   "metadata": {},
   "outputs": [],
   "source": [
    "from SCFInitialGuess.construction.fock import gwh_scheme\n",
    "\n",
    "def gwh_scheme_wrapper(M, k=1.75):\n",
    "    F = []\n",
    "    for m, s in zip(M, s_test):\n",
    "        F.append(gwh_scheme(np.diag(m), s, k))\n",
    "        \n",
    "    return np.array(F)"
   ]
  },
  {
   "cell_type": "code",
   "execution_count": 5,
   "metadata": {},
   "outputs": [],
   "source": [
    "f_gwh = gwh_scheme_wrapper(h_test)"
   ]
  },
  {
   "cell_type": "code",
   "execution_count": 8,
   "metadata": {},
   "outputs": [],
   "source": [
    "f_nn_gwh = gwh_scheme_wrapper(f_test)"
   ]
  },
  {
   "cell_type": "markdown",
   "metadata": {},
   "source": [
    "# Calculate Error "
   ]
  },
  {
   "cell_type": "code",
   "execution_count": 9,
   "metadata": {},
   "outputs": [],
   "source": [
    "e_gwh = np.mean(np.abs(f_gwh - f_test), 0)"
   ]
  },
  {
   "cell_type": "code",
   "execution_count": 12,
   "metadata": {},
   "outputs": [],
   "source": [
    "e_nn_gwh = np.mean(np.abs(f_nn_gwh - f_test), 0)"
   ]
  },
  {
   "cell_type": "markdown",
   "metadata": {},
   "source": [
    "# Plot "
   ]
  },
  {
   "cell_type": "code",
   "execution_count": 34,
   "metadata": {},
   "outputs": [],
   "source": [
    "plt.rcParams['figure.figsize'] = (8, 4)"
   ]
  },
  {
   "cell_type": "code",
   "execution_count": 116,
   "metadata": {},
   "outputs": [],
   "source": [
    "export_folder = \"/home/jo/Repos/MastersThesis/DensityGuessSchemes/figures/\""
   ]
  },
  {
   "cell_type": "code",
   "execution_count": 84,
   "metadata": {},
   "outputs": [],
   "source": [
    "vmin = 0\n",
    "vmax = 3\n",
    "\n",
    "ylabel = r\"Row Index / 1\"\n",
    "xlabel = r\"Column Index / 1\"\n",
    "\n",
    "norm = plt.Normalize(vmin, vmax)"
   ]
  },
  {
   "cell_type": "code",
   "execution_count": 135,
   "metadata": {},
   "outputs": [
    {
     "name": "stderr",
     "output_type": "stream",
     "text": [
      "/home/jo/anaconda3/lib/python3.6/site-packages/matplotlib/figure.py:2022: UserWarning: This figure includes Axes that are not compatible with tight_layout, so results might be incorrect.\n",
      "  warnings.warn(\"This figure includes Axes that are not compatible \"\n"
     ]
    },
    {
     "data": {
      "image/png": "[encoded data removed]",
      "text/plain": [
       "<matplotlib.figure.Figure at 0x7f78008dbef0>"
      ]
     },
     "metadata": {},
     "output_type": "display_data"
    }
   ],
   "source": [
    "fig, axes = plt.subplots(1, 2)#, sharex=True, sharey=True)\n",
    "#title_size = 20\n",
    "#label_size = 15\n",
    "ticks = np.arange(0,70, 10)\n",
    "\n",
    "cbar_ax = fig.add_axes([.91, .15, .03, .7])\n",
    "\n",
    "sns.heatmap(\n",
    "    e_gwh, \n",
    "    square=True, \n",
    "    ax=axes[0], \n",
    "    cbar=True, \n",
    "    cbar_ax=cbar_ax, \n",
    "    cbar_kws={'label': 'MAE / 1'}, \n",
    "    vmin=vmin, \n",
    "    vmax=vmax\n",
    ")\n",
    "axes[0].set_title(\"GWH\")#, fontsize=title_size)\n",
    "axes[0].set_xlabel(xlabel)#, fontsize=title_size)\n",
    "axes[0].set_ylabel(ylabel)#, fontsize=title_size)\n",
    "axes[0].set_yticks(ticks)\n",
    "axes[0].set_xticks(ticks)\n",
    "axes[0].set_yticklabels(ticks)\n",
    "axes[0].set_xticklabels(ticks)\n",
    "#axes[0].tick_params(labelsize=label_size)\n",
    "#plt.yticks(ticks, ticks)\n",
    "\n",
    "\n",
    "sns.heatmap(\n",
    "    e_nn_gwh, \n",
    "    square=True, \n",
    "    ax=axes[1], \n",
    "    cbar=False, \n",
    "    vmin=vmin, \n",
    "    vmax=vmax\n",
    ")\n",
    "axes[1].set_title(\"E-GWH\")#, fontsize=title_size)\n",
    "#axes[1].ticklabel_format(style='plain', axis='y')\n",
    "axes[1].set_xlabel(xlabel)#, fontsize=title_size)\n",
    "#axes[1].tick_params(labelsize=label_size)\n",
    "axes[1].set_yticks(ticks)\n",
    "axes[1].set_xticks(ticks)\n",
    "axes[1].set_yticklabels(ticks)\n",
    "axes[1].set_xticklabels(ticks)\n",
    "\n",
    "\n",
    "\n",
    "_ = plt.setp([a.get_yticklabels() for a in [axes[1]]], visible=False)\n",
    "\n",
    "\n",
    "#cbar_ax.tick_params(labelsize=label_size)\n",
    "#cbar_ax.set_ylabel('MAE / 1', fontsize=20)\n",
    "\n",
    "#plt.rcParams[\"axes.edgecolor\"] = \"0.15\"\n",
    "#plt.rcParams[\"axes.linewidth\"] = 1.25\n",
    "#\n",
    "\n",
    "\n",
    "plt.tight_layout()\n",
    "\n",
    "plt.savefig(export_folder + \"EGWH_MatrixError.pdf\")\n"
   ]
  },
  {
   "cell_type": "code",
   "execution_count": 52,
   "metadata": {},
   "outputs": [
    {
     "data": {
      "text/plain": [
       "array([ 0, 10, 20, 30, 40, 50, 60])"
      ]
     },
     "execution_count": 52,
     "metadata": {},
     "output_type": "execute_result"
    }
   ],
   "source": [
    "ticks"
   ]
  },
  {
   "cell_type": "code",
   "execution_count": null,
   "metadata": {},
   "outputs": [],
   "source": []
  }
 ],
 "metadata": {
  "kernelspec": {
   "display_name": "Python 3",
   "language": "python",
   "name": "python3"
  },
  "language_info": {
   "codemirror_mode": {
    "name": "ipython",
    "version": 3
   },
   "file_extension": ".py",
   "mimetype": "text/x-python",
   "name": "python",
   "nbconvert_exporter": "python",
   "pygments_lexer": "ipython3",
   "version": "3.6.4"
  }
 },
 "nbformat": 4,
 "nbformat_minor": 2
}
