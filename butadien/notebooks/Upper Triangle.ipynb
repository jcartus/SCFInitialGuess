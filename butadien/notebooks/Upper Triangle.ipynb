{
 "cells": [
  {
   "cell_type": "code",
   "execution_count": 1,
   "metadata": {
    "collapsed": true
   },
   "outputs": [],
   "source": [
    "import numpy as np\n",
    "import matplotlib.pyplot as plt\n",
    "import tensorflow as tf"
   ]
  },
  {
   "cell_type": "code",
   "execution_count": 2,
   "metadata": {
    "collapsed": true
   },
   "outputs": [],
   "source": [
    "S, P = np.load(\"../data/dataset.npy\")\n",
    "molecules = np.load(\"../data/molecules.npy\")"
   ]
  },
  {
   "cell_type": "code",
   "execution_count": 21,
   "metadata": {
    "collapsed": true
   },
   "outputs": [],
   "source": [
    "def extract_triu(A):\n",
    "    \"\"\"Extracts the upper triangular part of the matrix.\n",
    "    Input can be matrix, will be reshaped if it is not.\n",
    "    \"\"\"\n",
    "    return A.reshape(dim, dim)[np.triu_indices(dim)]\n",
    "\n",
    "def reconstruct_from_triu(A_flat):\n",
    "    \"\"\"Reconstructus the full symmetric matrix (dim x dim, not\n",
    "    flattened out) from the flattend elements of the upper \n",
    "    triag of a symmetric matrix!\"\"\"\n",
    "    result = np.zeros((dim, dim))\n",
    "    result[np.triu_indices(dim)] = A_flat\n",
    "    return result + result.T - np.diag(np.diag(result))\n"
   ]
  },
  {
   "cell_type": "code",
   "execution_count": 65,
   "metadata": {},
   "outputs": [
    {
     "name": "stdout",
     "output_type": "stream",
     "text": [
      "[-] 2018-03-26 14:00:57: Data set normalized. Mean value std: 0.008433127559152844\n"
     ]
    }
   ],
   "source": [
    "from SCFInitialGuess.utilities.dataset import Dataset\n",
    "\n",
    "dim = 26\n",
    "dim_triu = int(dim * (dim + 1) / 2)\n",
    "\n",
    "ind_cut = 150\n",
    "index = np.arange(200)\n",
    "np.random.shuffle(index)\n",
    "\n",
    "S_triu = list(map(extract_triu, S))\n",
    "P_triu = list(map(extract_triu, P))\n",
    "\n",
    "S_test = np.array(S_triu)[index[150:]]\n",
    "P_test = np.array(P_triu)[index[150:]]\n",
    "molecules_test = [molecules[index[i]] for i in range(150, 200)]\n",
    "\n",
    "S_train = np.array(S_triu)[index[:150]]\n",
    "P_train = np.array(P_triu)[index[:150]]\n",
    "molecules_train = [molecules[index[i]] for i in range(150)]\n",
    "\n",
    "dataset = Dataset(np.array(S_train), np.array(P_train), split_test=0.0)\n",
    "\n",
    "dataset.testing = (Dataset.normalize(S_test, mean=dataset.x_mean, std=dataset.x_std)[0], P_test)"
   ]
  },
  {
   "cell_type": "code",
   "execution_count": 67,
   "metadata": {},
   "outputs": [
    {
     "name": "stdout",
     "output_type": "stream",
     "text": [
      "[-] 2018-03-26 14:01:44: No target graph specified for Trainer setup. Creating new graph ...\n",
      "[-] 2018-03-26 14:01:44: Setting up the training in the target graph ...\n",
      "[-] 2018-03-26 14:01:44: network ...\n",
      "[-] 2018-03-26 14:01:44: error function ...\n",
      "[-] 2018-03-26 14:01:44: cost function ...\n",
      "[-] 2018-03-26 14:01:44: training step\n",
      "[-] 2018-03-26 14:01:44: Starting network training ...\n",
      "[ ] 2018-03-26 14:01:44: Val. Cost: 9.457E-02. Error: 9.457E-02. Diff: 1.0E+10\n",
      "[ ] 2018-03-26 14:01:46: Val. Cost: 2.660E-05. Error: 2.445E-05. Diff: 9.5E-02\n",
      "[ ] 2018-03-26 14:01:47: Val. Cost: 1.546E-05. Error: 1.334E-05. Diff: 1.1E-05\n",
      "[ ] 2018-03-26 14:01:48: Val. Cost: 1.265E-05. Error: 1.054E-05. Diff: 2.8E-06\n",
      "[ ] 2018-03-26 14:01:50: Val. Cost: 5.550E-05. Error: 5.339E-05. Diff: 4.3E-05\n",
      "[ ] 2018-03-26 14:01:51: Val. Cost: 5.390E-05. Error: 5.180E-05. Diff: 1.6E-06\n",
      "[ ] 2018-03-26 14:01:53: Val. Cost: 2.398E-05. Error: 2.188E-05. Diff: 3.0E-05\n",
      "[ ] 2018-03-26 14:01:54: Val. Cost: 1.376E-05. Error: 1.166E-05. Diff: 1.0E-05\n",
      "[ ] 2018-03-26 14:01:55: Val. Cost: 3.361E-05. Error: 3.153E-05. Diff: 2.0E-05\n",
      "[ ] 2018-03-26 14:01:57: Val. Cost: 1.330E-05. Error: 1.114E-05. Diff: 2.0E-05\n",
      "[ ] 2018-03-26 14:01:58: Val. Cost: 6.965E-06. Error: 4.827E-06. Diff: 6.3E-06\n",
      "[ ] 2018-03-26 14:01:59: Val. Cost: 1.206E-05. Error: 9.949E-06. Diff: 5.1E-06\n",
      "[ ] 2018-03-26 14:02:01: Val. Cost: 9.589E-06. Error: 7.513E-06. Diff: 2.4E-06\n",
      "[ ] 2018-03-26 14:02:02: Val. Cost: 1.309E-05. Error: 1.104E-05. Diff: 3.5E-06\n",
      "[ ] 2018-03-26 14:02:04: Val. Cost: 7.103E-06. Error: 4.968E-06. Diff: 6.1E-06\n",
      "[ ] 2018-03-26 14:02:05: Val. Cost: 4.819E-06. Error: 2.720E-06. Diff: 2.2E-06\n",
      "[ ] 2018-03-26 14:02:06: Val. Cost: 3.938E-06. Error: 1.872E-06. Diff: 8.5E-07\n",
      "[ ] 2018-03-26 14:02:08: Val. Cost: 4.426E-06. Error: 2.396E-06. Diff: 5.2E-07\n",
      "[ ] 2018-03-26 14:02:09: Val. Cost: 5.015E-06. Error: 3.041E-06. Diff: 6.5E-07\n",
      "[ ] 2018-03-26 14:02:10: Val. Cost: 7.725E-06. Error: 5.788E-06. Diff: 2.7E-06\n",
      "[ ] 2018-03-26 14:02:12: Val. Cost: 2.329E-05. Error: 2.133E-05. Diff: 1.6E-05\n",
      "[ ] 2018-03-26 14:02:13: Val. Cost: 5.513E-06. Error: 3.588E-06. Diff: 1.8E-05\n",
      "[ ] 2018-03-26 14:02:15: Val. Cost: 1.092E-05. Error: 9.004E-06. Diff: 5.4E-06\n",
      "[ ] 2018-03-26 14:02:16: Val. Cost: 5.217E-06. Error: 3.334E-06. Diff: 5.7E-06\n",
      "[ ] 2018-03-26 14:02:17: Val. Cost: 7.187E-06. Error: 5.301E-06. Diff: 2.0E-06\n",
      "[ ] 2018-03-26 14:02:19: Val. Cost: 3.213E-06. Error: 1.379E-06. Diff: 3.9E-06\n",
      "[ ] 2018-03-26 14:02:20: Val. Cost: 7.924E-06. Error: 6.146E-06. Diff: 4.8E-06\n",
      "[ ] 2018-03-26 14:02:21: Val. Cost: 1.710E-04. Error: 1.661E-04. Diff: 1.6E-04\n",
      "[ ] 2018-03-26 14:02:23: Val. Cost: 3.306E-05. Error: 2.824E-05. Diff: 1.4E-04\n",
      "[ ] 2018-03-26 14:02:24: Val. Cost: 2.291E-05. Error: 1.810E-05. Diff: 1.0E-05\n",
      "[ ] 2018-03-26 14:02:26: Val. Cost: 1.825E-05. Error: 1.347E-05. Diff: 4.6E-06\n",
      "[ ] 2018-03-26 14:02:27: Val. Cost: 1.663E-05. Error: 1.187E-05. Diff: 1.6E-06\n",
      "[ ] 2018-03-26 14:02:28: Val. Cost: 1.453E-05. Error: 9.794E-06. Diff: 2.1E-06\n",
      "[ ] 2018-03-26 14:02:30: Val. Cost: 1.401E-05. Error: 9.291E-06. Diff: 5.0E-07\n",
      "[ ] 2018-03-26 14:02:31: Val. Cost: 1.311E-05. Error: 8.410E-06. Diff: 8.8E-07\n",
      "[ ] 2018-03-26 14:02:32: Val. Cost: 1.425E-05. Error: 9.574E-06. Diff: 1.2E-06\n",
      "[ ] 2018-03-26 14:02:34: Val. Cost: 1.637E-05. Error: 1.172E-05. Diff: 2.1E-06\n",
      "[ ] 2018-03-26 14:02:35: Val. Cost: 2.453E-05. Error: 1.995E-05. Diff: 8.2E-06\n",
      "[ ] 2018-03-26 14:02:37: Val. Cost: 1.131E-05. Error: 6.764E-06. Diff: 1.3E-05\n",
      "[ ] 2018-03-26 14:02:38: Val. Cost: 1.725E-05. Error: 1.275E-05. Diff: 6.0E-06\n",
      "[-] 2018-03-26 14:02:39: Convergence reached after 8000 steps.\n",
      "[-] 2018-03-26 14:02:39: Test error: 1.37616E-05\n"
     ]
    }
   ],
   "source": [
    "from SCFInitialGuess.nn.networks import EluTrNNN\n",
    "from SCFInitialGuess.nn.training import Trainer, RegularizedMSE\n",
    "\n",
    "trainer = Trainer(\n",
    "    EluTrNNN([dim_triu, 400, 400, dim_triu]),\n",
    "    cost_function=RegularizedMSE(alpha=1e-7),\n",
    "    optimizer=tf.train.AdamOptimizer(learning_rate=1e-3)\n",
    ")\n",
    "\n",
    "trainer.setup()\n",
    "network, sess = trainer.train(\n",
    "    dataset,\n",
    "    convergence_threshold=1e-7\n",
    ")\n",
    "graph = trainer.graph"
   ]
  },
  {
   "cell_type": "code",
   "execution_count": 68,
   "metadata": {},
   "outputs": [
    {
     "data": {
      "image/png": "[encoded data removed]",
      "text/plain": [
       "<matplotlib.figure.Figure at 0x7f53485be550>"
      ]
     },
     "metadata": {},
     "output_type": "display_data"
    }
   ],
   "source": [
    "from SCFInitialGuess.utilities.plotutils import prediction_scatter\n",
    "\n",
    "with graph_orig.as_default():\n",
    "    prediction_scatter(\n",
    "        dataset.testing[1].flatten(), \n",
    "        network_orig.run(sess_orig, dataset.testing[0]).flatten()\n",
    "    )\n",
    "plt.show()"
   ]
  },
  {
   "cell_type": "code",
   "execution_count": 69,
   "metadata": {
    "collapsed": true
   },
   "outputs": [],
   "source": [
    "def mc_wheeny_purification(p,s):\n",
    "    p = p.reshape(dim, dim)\n",
    "    s = s.reshape(dim, dim)\n",
    "    return (3 * np.dot(np.dot(p, s), p) - np.dot(np.dot(np.dot(np.dot(p, s), p), s), p)) / 2\n",
    "\n",
    "def multi_mc_wheeny(p, s, n_max=4):\n",
    "    for i in range(n_max):\n",
    "        p = mc_wheeny_purification(p, s)\n",
    "    return p\n",
    "\n",
    "def idemp_error(p, s):\n",
    "    p = p.reshape(dim, dim)\n",
    "    s = s.reshape(dim, dim)\n",
    "    return np.mean(np.abs(np.dot(np.dot(p, s), p) - 2 * p))"
   ]
  },
  {
   "cell_type": "code",
   "execution_count": 71,
   "metadata": {},
   "outputs": [
    {
     "name": "stdout",
     "output_type": "stream",
     "text": [
      "Orig:         3.297E-16\n",
      "NN:           3.531E-03\n",
      "NN pruified:  1.127E-04\n",
      "NN multified: 7.431E-17\n",
      "Error NN before: 2.405E-03\n",
      "Error NN multifed:  1.602E-03\n",
      "---------------------------\n",
      "Orig:         2.585E-16\n",
      "NN:           5.217E-03\n",
      "NN pruified:  3.170E-04\n",
      "NN multified: 7.604E-17\n",
      "Error NN before: 3.206E-03\n",
      "Error NN multifed:  1.871E-03\n",
      "---------------------------\n",
      "Orig:         3.407E-16\n",
      "NN:           2.968E-03\n",
      "NN pruified:  7.994E-05\n",
      "NN multified: 7.442E-17\n",
      "Error NN before: 2.276E-03\n",
      "Error NN multifed:  1.660E-03\n",
      "---------------------------\n",
      "Orig:         3.269E-16\n",
      "NN:           3.242E-03\n",
      "NN pruified:  1.207E-04\n",
      "NN multified: 7.141E-17\n",
      "Error NN before: 2.243E-03\n",
      "Error NN multifed:  1.469E-03\n",
      "---------------------------\n",
      "Orig:         3.619E-16\n",
      "NN:           3.651E-03\n",
      "NN pruified:  1.193E-04\n",
      "NN multified: 7.066E-17\n",
      "Error NN before: 2.623E-03\n",
      "Error NN multifed:  1.875E-03\n",
      "---------------------------\n",
      "Orig:         2.830E-16\n",
      "NN:           3.340E-03\n",
      "NN pruified:  7.430E-05\n",
      "NN multified: 7.715E-17\n",
      "Error NN before: 2.444E-03\n",
      "Error NN multifed:  1.701E-03\n",
      "---------------------------\n",
      "Orig:         2.684E-16\n",
      "NN:           2.361E-03\n",
      "NN pruified:  4.657E-05\n",
      "NN multified: 7.447E-17\n",
      "Error NN before: 1.544E-03\n",
      "Error NN multifed:  9.998E-04\n",
      "---------------------------\n",
      "Orig:         3.240E-16\n",
      "NN:           3.425E-03\n",
      "NN pruified:  1.357E-04\n",
      "NN multified: 7.498E-17\n",
      "Error NN before: 2.399E-03\n",
      "Error NN multifed:  1.462E-03\n",
      "---------------------------\n",
      "Orig:         3.795E-16\n",
      "NN:           4.301E-03\n",
      "NN pruified:  1.380E-04\n",
      "NN multified: 6.610E-17\n",
      "Error NN before: 2.807E-03\n",
      "Error NN multifed:  1.863E-03\n",
      "---------------------------\n",
      "Orig:         3.257E-16\n",
      "NN:           3.458E-03\n",
      "NN pruified:  1.198E-04\n",
      "NN multified: 6.371E-17\n",
      "Error NN before: 2.392E-03\n",
      "Error NN multifed:  1.577E-03\n",
      "---------------------------\n",
      "Orig:         3.276E-16\n",
      "NN:           4.264E-03\n",
      "NN pruified:  1.554E-04\n",
      "NN multified: 8.188E-17\n",
      "Error NN before: 2.849E-03\n",
      "Error NN multifed:  1.893E-03\n",
      "---------------------------\n",
      "Orig:         3.061E-16\n",
      "NN:           2.804E-03\n",
      "NN pruified:  6.770E-05\n",
      "NN multified: 7.643E-17\n",
      "Error NN before: 2.029E-03\n",
      "Error NN multifed:  1.427E-03\n",
      "---------------------------\n",
      "Orig:         3.192E-16\n",
      "NN:           5.003E-03\n",
      "NN pruified:  2.375E-04\n",
      "NN multified: 8.342E-17\n",
      "Error NN before: 3.558E-03\n",
      "Error NN multifed:  2.515E-03\n",
      "---------------------------\n",
      "Orig:         2.624E-16\n",
      "NN:           3.152E-03\n",
      "NN pruified:  9.621E-05\n",
      "NN multified: 7.161E-17\n",
      "Error NN before: 2.306E-03\n",
      "Error NN multifed:  1.621E-03\n",
      "---------------------------\n",
      "Orig:         3.467E-16\n",
      "NN:           3.371E-03\n",
      "NN pruified:  8.955E-05\n",
      "NN multified: 7.286E-17\n",
      "Error NN before: 2.335E-03\n",
      "Error NN multifed:  1.612E-03\n",
      "---------------------------\n",
      "Orig:         2.975E-16\n",
      "NN:           3.343E-03\n",
      "NN pruified:  9.456E-05\n",
      "NN multified: 7.047E-17\n",
      "Error NN before: 2.377E-03\n",
      "Error NN multifed:  1.587E-03\n",
      "---------------------------\n",
      "Orig:         3.356E-16\n",
      "NN:           2.383E-03\n",
      "NN pruified:  4.545E-05\n",
      "NN multified: 6.700E-17\n",
      "Error NN before: 1.739E-03\n",
      "Error NN multifed:  1.227E-03\n",
      "---------------------------\n",
      "Orig:         3.007E-16\n",
      "NN:           4.142E-03\n",
      "NN pruified:  2.258E-04\n",
      "NN multified: 7.577E-17\n",
      "Error NN before: 2.671E-03\n",
      "Error NN multifed:  1.650E-03\n",
      "---------------------------\n",
      "Orig:         3.137E-16\n",
      "NN:           8.579E-03\n",
      "NN pruified:  8.918E-04\n",
      "NN multified: 9.305E-17\n",
      "Error NN before: 6.225E-03\n",
      "Error NN multifed:  4.327E-03\n",
      "---------------------------\n",
      "Orig:         3.710E-16\n",
      "NN:           2.465E-03\n",
      "NN pruified:  4.713E-05\n",
      "NN multified: 6.618E-17\n",
      "Error NN before: 1.826E-03\n",
      "Error NN multifed:  1.302E-03\n",
      "---------------------------\n",
      "Orig:         2.763E-16\n",
      "NN:           3.965E-03\n",
      "NN pruified:  1.733E-04\n",
      "NN multified: 6.910E-17\n",
      "Error NN before: 2.540E-03\n",
      "Error NN multifed:  1.598E-03\n",
      "---------------------------\n",
      "Orig:         3.288E-16\n",
      "NN:           2.390E-03\n",
      "NN pruified:  5.651E-05\n",
      "NN multified: 7.204E-17\n",
      "Error NN before: 1.649E-03\n",
      "Error NN multifed:  1.078E-03\n",
      "---------------------------\n",
      "Orig:         3.127E-16\n",
      "NN:           2.519E-03\n",
      "NN pruified:  5.489E-05\n",
      "NN multified: 7.530E-17\n",
      "Error NN before: 1.807E-03\n",
      "Error NN multifed:  1.294E-03\n",
      "---------------------------\n",
      "Orig:         2.997E-16\n",
      "NN:           4.226E-03\n",
      "NN pruified:  2.097E-04\n",
      "NN multified: 6.966E-17\n",
      "Error NN before: 2.716E-03\n",
      "Error NN multifed:  1.581E-03\n",
      "---------------------------\n",
      "Orig:         3.074E-16\n",
      "NN:           2.603E-03\n",
      "NN pruified:  5.315E-05\n",
      "NN multified: 7.390E-17\n",
      "Error NN before: 1.800E-03\n",
      "Error NN multifed:  1.241E-03\n",
      "---------------------------\n",
      "Orig:         3.981E-16\n",
      "NN:           2.633E-03\n",
      "NN pruified:  8.927E-05\n",
      "NN multified: 7.601E-17\n",
      "Error NN before: 1.718E-03\n",
      "Error NN multifed:  1.035E-03\n",
      "---------------------------\n",
      "Orig:         3.007E-16\n",
      "NN:           3.420E-03\n",
      "NN pruified:  1.277E-04\n",
      "NN multified: 7.087E-17\n",
      "Error NN before: 2.388E-03\n",
      "Error NN multifed:  1.527E-03\n",
      "---------------------------\n",
      "Orig:         2.707E-16\n",
      "NN:           3.491E-03\n",
      "NN pruified:  1.064E-04\n",
      "NN multified: 6.589E-17\n",
      "Error NN before: 2.337E-03\n",
      "Error NN multifed:  1.465E-03\n",
      "---------------------------\n",
      "Orig:         3.567E-16\n",
      "NN:           2.969E-03\n",
      "NN pruified:  6.544E-05\n",
      "NN multified: 7.535E-17\n",
      "Error NN before: 2.005E-03\n",
      "Error NN multifed:  1.333E-03\n",
      "---------------------------\n",
      "Orig:         3.961E-16\n",
      "NN:           4.404E-03\n",
      "NN pruified:  2.130E-04\n",
      "NN multified: 8.119E-17\n",
      "Error NN before: 3.003E-03\n",
      "Error NN multifed:  2.029E-03\n",
      "---------------------------\n",
      "Orig:         3.568E-16\n",
      "NN:           3.937E-03\n",
      "NN pruified:  1.096E-04\n",
      "NN multified: 7.839E-17\n",
      "Error NN before: 2.649E-03\n",
      "Error NN multifed:  1.882E-03\n",
      "---------------------------\n",
      "Orig:         2.928E-16\n",
      "NN:           2.419E-03\n",
      "NN pruified:  4.593E-05\n",
      "NN multified: 7.522E-17\n",
      "Error NN before: 1.623E-03\n",
      "Error NN multifed:  1.048E-03\n",
      "---------------------------\n",
      "Orig:         2.827E-16\n",
      "NN:           2.715E-03\n",
      "NN pruified:  7.200E-05\n",
      "NN multified: 7.563E-17\n",
      "Error NN before: 1.843E-03\n",
      "Error NN multifed:  1.150E-03\n",
      "---------------------------\n",
      "Orig:         3.566E-16\n",
      "NN:           2.367E-03\n",
      "NN pruified:  6.080E-05\n",
      "NN multified: 8.376E-17\n",
      "Error NN before: 1.589E-03\n",
      "Error NN multifed:  1.007E-03\n",
      "---------------------------\n",
      "Orig:         3.036E-16\n",
      "NN:           4.032E-03\n",
      "NN pruified:  1.858E-04\n",
      "NN multified: 7.543E-17\n",
      "Error NN before: 2.777E-03\n",
      "Error NN multifed:  1.753E-03\n",
      "---------------------------\n",
      "Orig:         3.150E-16\n",
      "NN:           2.737E-03\n",
      "NN pruified:  5.996E-05\n",
      "NN multified: 6.567E-17\n",
      "Error NN before: 2.159E-03\n",
      "Error NN multifed:  1.588E-03\n",
      "---------------------------\n",
      "Orig:         3.765E-16\n",
      "NN:           3.034E-03\n",
      "NN pruified:  9.182E-05\n",
      "NN multified: 7.479E-17\n",
      "Error NN before: 2.343E-03\n",
      "Error NN multifed:  1.758E-03\n",
      "---------------------------\n",
      "Orig:         2.761E-16\n",
      "NN:           5.513E-03\n",
      "NN pruified:  3.051E-04\n",
      "NN multified: 6.966E-17\n",
      "Error NN before: 3.781E-03\n",
      "Error NN multifed:  2.652E-03\n",
      "---------------------------\n",
      "Orig:         2.770E-16\n",
      "NN:           3.635E-03\n",
      "NN pruified:  1.090E-04\n",
      "NN multified: 6.798E-17\n",
      "Error NN before: 2.559E-03\n",
      "Error NN multifed:  1.815E-03\n",
      "---------------------------\n",
      "Orig:         3.143E-16\n",
      "NN:           2.322E-03\n",
      "NN pruified:  4.868E-05\n",
      "NN multified: 6.772E-17\n",
      "Error NN before: 1.538E-03\n",
      "Error NN multifed:  9.916E-04\n",
      "---------------------------\n",
      "Orig:         3.558E-16\n",
      "NN:           4.006E-03\n",
      "NN pruified:  1.158E-04\n",
      "NN multified: 7.224E-17\n",
      "Error NN before: 2.693E-03\n",
      "Error NN multifed:  1.872E-03\n",
      "---------------------------\n",
      "Orig:         3.389E-16\n",
      "NN:           2.818E-03\n",
      "NN pruified:  5.555E-05\n",
      "NN multified: 7.454E-17\n",
      "Error NN before: 1.948E-03\n",
      "Error NN multifed:  1.394E-03\n",
      "---------------------------\n",
      "Orig:         3.494E-16\n",
      "NN:           3.098E-03\n",
      "NN pruified:  7.319E-05\n",
      "NN multified: 7.314E-17\n",
      "Error NN before: 2.190E-03\n",
      "Error NN multifed:  1.427E-03\n",
      "---------------------------\n",
      "Orig:         2.987E-16\n",
      "NN:           2.539E-03\n",
      "NN pruified:  6.671E-05\n",
      "NN multified: 8.285E-17\n",
      "Error NN before: 1.716E-03\n",
      "Error NN multifed:  1.125E-03\n",
      "---------------------------\n",
      "Orig:         2.938E-16\n",
      "NN:           4.109E-03\n",
      "NN pruified:  2.005E-04\n",
      "NN multified: 7.552E-17\n",
      "Error NN before: 2.706E-03\n",
      "Error NN multifed:  1.789E-03\n",
      "---------------------------\n",
      "Orig:         3.874E-16\n",
      "NN:           3.931E-03\n",
      "NN pruified:  1.838E-04\n",
      "NN multified: 6.446E-17\n",
      "Error NN before: 2.645E-03\n",
      "Error NN multifed:  1.716E-03\n",
      "---------------------------\n",
      "Orig:         3.149E-16\n",
      "NN:           3.474E-03\n",
      "NN pruified:  8.727E-05\n",
      "NN multified: 7.478E-17\n",
      "Error NN before: 2.289E-03\n",
      "Error NN multifed:  1.732E-03\n",
      "---------------------------\n",
      "Orig:         2.873E-16\n",
      "NN:           3.266E-03\n",
      "NN pruified:  9.704E-05\n",
      "NN multified: 7.492E-17\n",
      "Error NN before: 2.218E-03\n",
      "Error NN multifed:  1.440E-03\n",
      "---------------------------\n",
      "Orig:         2.888E-16\n",
      "NN:           2.927E-03\n",
      "NN pruified:  7.343E-05\n",
      "NN multified: 7.833E-17\n",
      "Error NN before: 2.125E-03\n",
      "Error NN multifed:  1.468E-03\n",
      "---------------------------\n",
      "Orig:         3.074E-16\n",
      "NN:           3.354E-03\n",
      "NN pruified:  1.146E-04\n",
      "NN multified: 7.323E-17\n",
      "Error NN before: 2.202E-03\n",
      "Error NN multifed:  1.397E-03\n",
      "---------------------------\n"
     ]
    }
   ],
   "source": [
    "for (s, p) in zip(*dataset.testing):\n",
    "#for (s, p) in zip(S_test, P_test):\n",
    "    \n",
    "    #s_norm = s.reshape(1, dim**2)\n",
    "    s_raw = reconstruct_from_triu(dataset.inverse_input_transform(s))\n",
    "    p_raw = reconstruct_from_triu(p)\n",
    "    \n",
    "    \n",
    "    print(\"Orig:         {:0.3E}\".format(idemp_error(p_raw, s_raw))) \n",
    "    \n",
    "    with graph.as_default():\n",
    "        p_nn = reconstruct_from_triu(network.run(sess, s.reshape(1, dim_triu)))\n",
    "        \n",
    "    print(\"NN:           {:0.3E}\".format(idemp_error(p_nn, s_raw)))\n",
    "    print(\"NN pruified:  {:0.3E}\".format(idemp_error(mc_wheeny_purification(p_nn, s_raw), s_raw)))\n",
    "    p_nn_multi = multi_mc_wheeny(p_nn, s_raw, n_max=5)\n",
    "    print(\"NN multified: {:0.3E}\".format(idemp_error(p_nn_multi, s_raw))) \n",
    "    print(\"Error NN before: {:0.3E}\".format(np.mean(np.abs(p_raw - p_nn))))\n",
    "    print(\"Error NN multifed:  {:0.3E}\".format(np.mean(np.abs(p_raw - p_nn_multi))))\n",
    "    print(\"---------------------------\")"
   ]
  },
  {
   "cell_type": "code",
   "execution_count": 81,
   "metadata": {},
   "outputs": [
    {
     "name": "stderr",
     "output_type": "stream",
     "text": [
      "Warn: Ipython shell catchs sys.args\n"
     ]
    },
    {
     "name": "stdout",
     "output_type": "stream",
     "text": [
      "Calculating: 1/50\n",
      "Accuracy (MSE):\n",
      " -Noise: 1.103E-08\n",
      " -NN:    8.762E-06\n",
      " -Pruif: 4.197E-06\n",
      "Idempotency:\n",
      " -Noise: 1.190E-04\n",
      " -Orig:  3.531E-03\n",
      " -Purif: 7.413E-17\n"
     ]
    },
    {
     "name": "stderr",
     "output_type": "stream",
     "text": [
      "Warn: Ipython shell catchs sys.args\n"
     ]
    },
    {
     "name": "stdout",
     "output_type": "stream",
     "text": [
      "Calculating: 2/50\n",
      "Accuracy (MSE):\n",
      " -Noise: 1.047E-08\n",
      " -NN:    1.939E-05\n",
      " -Pruif: 5.705E-06\n",
      "Idempotency:\n",
      " -Noise: 1.154E-04\n",
      " -Orig:  5.217E-03\n",
      " -Purif: 7.743E-17\n"
     ]
    },
    {
     "name": "stderr",
     "output_type": "stream",
     "text": [
      "Warn: Ipython shell catchs sys.args\n"
     ]
    },
    {
     "name": "stdout",
     "output_type": "stream",
     "text": [
      "Calculating: 3/50\n",
      "Accuracy (MSE):\n",
      " -Noise: 9.549E-09\n",
      " -NN:    8.321E-06\n",
      " -Pruif: 4.887E-06\n",
      "Idempotency:\n",
      " -Noise: 1.112E-04\n",
      " -Orig:  2.968E-03\n",
      " -Purif: 7.236E-17\n"
     ]
    },
    {
     "name": "stderr",
     "output_type": "stream",
     "text": [
      "Warn: Ipython shell catchs sys.args\n"
     ]
    },
    {
     "name": "stdout",
     "output_type": "stream",
     "text": [
      "Calculating: 4/50\n",
      "Accuracy (MSE):\n",
      " -Noise: 1.075E-08\n",
      " -NN:    7.725E-06\n",
      " -Pruif: 3.613E-06\n",
      "Idempotency:\n",
      " -Noise: 1.165E-04\n",
      " -Orig:  3.242E-03\n",
      " -Purif: 7.890E-17\n"
     ]
    },
    {
     "name": "stderr",
     "output_type": "stream",
     "text": [
      "Warn: Ipython shell catchs sys.args\n"
     ]
    },
    {
     "name": "stdout",
     "output_type": "stream",
     "text": [
      "Calculating: 5/50\n",
      "Accuracy (MSE):\n",
      " -Noise: 1.012E-08\n",
      " -NN:    1.190E-05\n",
      " -Pruif: 6.177E-06\n",
      "Idempotency:\n",
      " -Noise: 1.183E-04\n",
      " -Orig:  3.651E-03\n",
      " -Purif: 7.903E-17\n"
     ]
    },
    {
     "name": "stderr",
     "output_type": "stream",
     "text": [
      "Warn: Ipython shell catchs sys.args\n"
     ]
    },
    {
     "name": "stdout",
     "output_type": "stream",
     "text": [
      "Calculating: 6/50\n",
      "Accuracy (MSE):\n",
      " -Noise: 1.079E-08\n",
      " -NN:    8.655E-06\n",
      " -Pruif: 4.569E-06\n",
      "Idempotency:\n",
      " -Noise: 1.196E-04\n",
      " -Orig:  3.340E-03\n",
      " -Purif: 6.910E-17\n"
     ]
    },
    {
     "name": "stderr",
     "output_type": "stream",
     "text": [
      "Warn: Ipython shell catchs sys.args\n"
     ]
    },
    {
     "name": "stdout",
     "output_type": "stream",
     "text": [
      "Calculating: 7/50\n",
      "Accuracy (MSE):\n",
      " -Noise: 9.732E-09\n",
      " -NN:    3.754E-06\n",
      " -Pruif: 1.675E-06\n",
      "Idempotency:\n",
      " -Noise: 1.103E-04\n",
      " -Orig:  2.361E-03\n",
      " -Purif: 7.394E-17\n"
     ]
    },
    {
     "name": "stderr",
     "output_type": "stream",
     "text": [
      "Warn: Ipython shell catchs sys.args\n"
     ]
    },
    {
     "name": "stdout",
     "output_type": "stream",
     "text": [
      "Calculating: 8/50\n",
      "Accuracy (MSE):\n",
      " -Noise: 1.012E-08\n",
      " -NN:    9.136E-06\n",
      " -Pruif: 3.843E-06\n",
      "Idempotency:\n",
      " -Noise: 1.126E-04\n",
      " -Orig:  3.425E-03\n",
      " -Purif: 7.470E-17\n"
     ]
    },
    {
     "name": "stderr",
     "output_type": "stream",
     "text": [
      "Warn: Ipython shell catchs sys.args\n"
     ]
    },
    {
     "name": "stdout",
     "output_type": "stream",
     "text": [
      "Calculating: 9/50\n",
      "Accuracy (MSE):\n",
      " -Noise: 1.064E-08\n",
      " -NN:    1.317E-05\n",
      " -Pruif: 6.196E-06\n",
      "Idempotency:\n",
      " -Noise: 1.149E-04\n",
      " -Orig:  4.301E-03\n",
      " -Purif: 7.118E-17\n"
     ]
    },
    {
     "name": "stderr",
     "output_type": "stream",
     "text": [
      "Warn: Ipython shell catchs sys.args\n"
     ]
    },
    {
     "name": "stdout",
     "output_type": "stream",
     "text": [
      "Calculating: 10/50\n",
      "Accuracy (MSE):\n",
      " -Noise: 1.016E-08\n",
      " -NN:    8.939E-06\n",
      " -Pruif: 4.089E-06\n",
      "Idempotency:\n",
      " -Noise: 1.175E-04\n",
      " -Orig:  3.458E-03\n",
      " -Purif: 6.796E-17\n"
     ]
    },
    {
     "name": "stderr",
     "output_type": "stream",
     "text": [
      "Warn: Ipython shell catchs sys.args\n"
     ]
    },
    {
     "name": "stdout",
     "output_type": "stream",
     "text": [
      "Calculating: 11/50\n",
      "Accuracy (MSE):\n",
      " -Noise: 1.050E-08\n",
      " -NN:    1.313E-05\n",
      " -Pruif: 5.935E-06\n",
      "Idempotency:\n",
      " -Noise: 1.177E-04\n",
      " -Orig:  4.264E-03\n",
      " -Purif: 7.527E-17\n"
     ]
    },
    {
     "name": "stderr",
     "output_type": "stream",
     "text": [
      "Warn: Ipython shell catchs sys.args\n"
     ]
    },
    {
     "name": "stdout",
     "output_type": "stream",
     "text": [
      "Calculating: 12/50\n",
      "Accuracy (MSE):\n",
      " -Noise: 1.019E-08\n",
      " -NN:    6.808E-06\n",
      " -Pruif: 3.339E-06\n",
      "Idempotency:\n",
      " -Noise: 1.136E-04\n",
      " -Orig:  2.804E-03\n",
      " -Purif: 7.273E-17\n"
     ]
    },
    {
     "name": "stderr",
     "output_type": "stream",
     "text": [
      "Warn: Ipython shell catchs sys.args\n"
     ]
    },
    {
     "name": "stdout",
     "output_type": "stream",
     "text": [
      "Calculating: 13/50\n",
      "Accuracy (MSE):\n",
      " -Noise: 1.019E-08\n",
      " -NN:    1.952E-05\n",
      " -Pruif: 1.010E-05\n",
      "Idempotency:\n",
      " -Noise: 1.151E-04\n",
      " -Orig:  5.003E-03\n",
      " -Purif: 6.918E-17\n"
     ]
    },
    {
     "name": "stderr",
     "output_type": "stream",
     "text": [
      "Warn: Ipython shell catchs sys.args\n"
     ]
    },
    {
     "name": "stdout",
     "output_type": "stream",
     "text": [
      "Calculating: 14/50\n",
      "Accuracy (MSE):\n",
      " -Noise: 9.268E-09\n",
      " -NN:    8.221E-06\n",
      " -Pruif: 4.193E-06\n",
      "Idempotency:\n",
      " -Noise: 1.100E-04\n",
      " -Orig:  3.152E-03\n",
      " -Purif: 8.068E-17\n"
     ]
    },
    {
     "name": "stderr",
     "output_type": "stream",
     "text": [
      "Warn: Ipython shell catchs sys.args\n"
     ]
    },
    {
     "name": "stdout",
     "output_type": "stream",
     "text": [
      "Calculating: 15/50\n",
      "Accuracy (MSE):\n",
      " -Noise: 1.053E-08\n",
      " -NN:    8.562E-06\n",
      " -Pruif: 4.182E-06\n",
      "Idempotency:\n",
      " -Noise: 1.153E-04\n",
      " -Orig:  3.371E-03\n",
      " -Purif: 7.327E-17\n"
     ]
    },
    {
     "name": "stderr",
     "output_type": "stream",
     "text": [
      "Warn: Ipython shell catchs sys.args\n"
     ]
    },
    {
     "name": "stdout",
     "output_type": "stream",
     "text": [
      "Calculating: 16/50\n",
      "Accuracy (MSE):\n",
      " -Noise: 9.773E-09\n",
      " -NN:    9.483E-06\n",
      " -Pruif: 4.176E-06\n",
      "Idempotency:\n",
      " -Noise: 1.144E-04\n",
      " -Orig:  3.343E-03\n",
      " -Purif: 7.018E-17\n"
     ]
    },
    {
     "name": "stderr",
     "output_type": "stream",
     "text": [
      "Warn: Ipython shell catchs sys.args\n"
     ]
    },
    {
     "name": "stdout",
     "output_type": "stream",
     "text": [
      "Calculating: 17/50\n",
      "Accuracy (MSE):\n",
      " -Noise: 1.013E-08\n",
      " -NN:    5.216E-06\n",
      " -Pruif: 2.573E-06\n",
      "Idempotency:\n",
      " -Noise: 1.177E-04\n",
      " -Orig:  2.383E-03\n",
      " -Purif: 7.336E-17\n"
     ]
    },
    {
     "name": "stderr",
     "output_type": "stream",
     "text": [
      "Warn: Ipython shell catchs sys.args\n"
     ]
    },
    {
     "name": "stdout",
     "output_type": "stream",
     "text": [
      "Calculating: 18/50\n",
      "Accuracy (MSE):\n",
      " -Noise: 1.049E-08\n",
      " -NN:    1.431E-05\n",
      " -Pruif: 4.307E-06\n",
      "Idempotency:\n",
      " -Noise: 1.261E-04\n",
      " -Orig:  4.142E-03\n",
      " -Purif: 7.135E-17\n"
     ]
    },
    {
     "name": "stderr",
     "output_type": "stream",
     "text": [
      "Warn: Ipython shell catchs sys.args\n"
     ]
    },
    {
     "name": "stdout",
     "output_type": "stream",
     "text": [
      "Calculating: 19/50\n",
      "Accuracy (MSE):\n",
      " -Noise: 1.032E-08\n",
      " -NN:    1.117E-04\n",
      " -Pruif: 3.190E-05\n",
      "Idempotency:\n",
      " -Noise: 1.231E-04\n",
      " -Orig:  8.579E-03\n",
      " -Purif: 9.709E-17\n"
     ]
    },
    {
     "name": "stderr",
     "output_type": "stream",
     "text": [
      "Warn: Ipython shell catchs sys.args\n"
     ]
    },
    {
     "name": "stdout",
     "output_type": "stream",
     "text": [
      "Calculating: 20/50\n",
      "Accuracy (MSE):\n",
      " -Noise: 1.049E-08\n",
      " -NN:    5.276E-06\n",
      " -Pruif: 2.853E-06\n",
      "Idempotency:\n",
      " -Noise: 1.167E-04\n",
      " -Orig:  2.465E-03\n",
      " -Purif: 6.762E-17\n"
     ]
    },
    {
     "name": "stderr",
     "output_type": "stream",
     "text": [
      "Warn: Ipython shell catchs sys.args\n"
     ]
    },
    {
     "name": "stdout",
     "output_type": "stream",
     "text": [
      "Calculating: 21/50\n",
      "Accuracy (MSE):\n",
      " -Noise: 1.014E-08\n",
      " -NN:    1.074E-05\n",
      " -Pruif: 4.162E-06\n",
      "Idempotency:\n",
      " -Noise: 1.140E-04\n",
      " -Orig:  3.965E-03\n",
      " -Purif: 7.638E-17\n"
     ]
    },
    {
     "name": "stderr",
     "output_type": "stream",
     "text": [
      "Warn: Ipython shell catchs sys.args\n"
     ]
    },
    {
     "name": "stdout",
     "output_type": "stream",
     "text": [
      "Calculating: 22/50\n",
      "Accuracy (MSE):\n",
      " -Noise: 9.587E-09\n",
      " -NN:    4.025E-06\n",
      " -Pruif: 1.780E-06\n",
      "Idempotency:\n",
      " -Noise: 1.132E-04\n",
      " -Orig:  2.390E-03\n",
      " -Purif: 8.501E-17\n"
     ]
    },
    {
     "name": "stderr",
     "output_type": "stream",
     "text": [
      "Warn: Ipython shell catchs sys.args\n"
     ]
    },
    {
     "name": "stdout",
     "output_type": "stream",
     "text": [
      "Calculating: 23/50\n",
      "Accuracy (MSE):\n",
      " -Noise: 9.728E-09\n",
      " -NN:    5.254E-06\n",
      " -Pruif: 2.679E-06\n",
      "Idempotency:\n",
      " -Noise: 1.152E-04\n",
      " -Orig:  2.519E-03\n",
      " -Purif: 7.530E-17\n"
     ]
    },
    {
     "name": "stderr",
     "output_type": "stream",
     "text": [
      "Warn: Ipython shell catchs sys.args\n"
     ]
    },
    {
     "name": "stdout",
     "output_type": "stream",
     "text": [
      "Calculating: 24/50\n",
      "Accuracy (MSE):\n",
      " -Noise: 9.448E-09\n",
      " -NN:    1.149E-05\n",
      " -Pruif: 3.919E-06\n",
      "Idempotency:\n",
      " -Noise: 1.100E-04\n",
      " -Orig:  4.226E-03\n",
      " -Purif: 7.544E-17\n"
     ]
    },
    {
     "name": "stderr",
     "output_type": "stream",
     "text": [
      "Warn: Ipython shell catchs sys.args\n"
     ]
    },
    {
     "name": "stdout",
     "output_type": "stream",
     "text": [
      "Calculating: 25/50\n",
      "Accuracy (MSE):\n",
      " -Noise: 9.929E-09\n",
      " -NN:    5.451E-06\n",
      " -Pruif: 2.514E-06\n",
      "Idempotency:\n",
      " -Noise: 1.067E-04\n",
      " -Orig:  2.603E-03\n",
      " -Purif: 7.030E-17\n"
     ]
    },
    {
     "name": "stderr",
     "output_type": "stream",
     "text": [
      "Warn: Ipython shell catchs sys.args\n"
     ]
    },
    {
     "name": "stdout",
     "output_type": "stream",
     "text": [
      "Calculating: 26/50\n",
      "Accuracy (MSE):\n",
      " -Noise: 9.970E-09\n",
      " -NN:    4.918E-06\n",
      " -Pruif: 1.683E-06\n",
      "Idempotency:\n",
      " -Noise: 1.174E-04\n",
      " -Orig:  2.633E-03\n",
      " -Purif: 7.059E-17\n"
     ]
    },
    {
     "name": "stderr",
     "output_type": "stream",
     "text": [
      "Warn: Ipython shell catchs sys.args\n"
     ]
    },
    {
     "name": "stdout",
     "output_type": "stream",
     "text": [
      "Calculating: 27/50\n",
      "Accuracy (MSE):\n",
      " -Noise: 9.880E-09\n",
      " -NN:    8.591E-06\n",
      " -Pruif: 3.631E-06\n",
      "Idempotency:\n",
      " -Noise: 1.074E-04\n",
      " -Orig:  3.420E-03\n",
      " -Purif: 6.272E-17\n"
     ]
    },
    {
     "name": "stderr",
     "output_type": "stream",
     "text": [
      "Warn: Ipython shell catchs sys.args\n"
     ]
    },
    {
     "name": "stdout",
     "output_type": "stream",
     "text": [
      "Calculating: 28/50\n",
      "Accuracy (MSE):\n",
      " -Noise: 9.153E-09\n",
      " -NN:    8.384E-06\n",
      " -Pruif: 3.445E-06\n",
      "Idempotency:\n",
      " -Noise: 1.126E-04\n",
      " -Orig:  3.491E-03\n",
      " -Purif: 7.017E-17\n"
     ]
    },
    {
     "name": "stderr",
     "output_type": "stream",
     "text": [
      "Warn: Ipython shell catchs sys.args\n"
     ]
    },
    {
     "name": "stdout",
     "output_type": "stream",
     "text": [
      "Calculating: 29/50\n",
      "Accuracy (MSE):\n",
      " -Noise: 9.568E-09\n",
      " -NN:    7.391E-06\n",
      " -Pruif: 3.019E-06\n",
      "Idempotency:\n",
      " -Noise: 1.161E-04\n",
      " -Orig:  2.969E-03\n",
      " -Purif: 7.390E-17\n"
     ]
    },
    {
     "name": "stderr",
     "output_type": "stream",
     "text": [
      "Warn: Ipython shell catchs sys.args\n"
     ]
    },
    {
     "name": "stdout",
     "output_type": "stream",
     "text": [
      "Calculating: 30/50\n",
      "Accuracy (MSE):\n",
      " -Noise: 1.026E-08\n",
      " -NN:    1.467E-05\n",
      " -Pruif: 6.261E-06\n",
      "Idempotency:\n",
      " -Noise: 1.185E-04\n",
      " -Orig:  4.404E-03\n",
      " -Purif: 7.538E-17\n"
     ]
    },
    {
     "name": "stderr",
     "output_type": "stream",
     "text": [
      "Warn: Ipython shell catchs sys.args\n"
     ]
    },
    {
     "name": "stdout",
     "output_type": "stream",
     "text": [
      "Calculating: 31/50\n",
      "Accuracy (MSE):\n",
      " -Noise: 1.017E-08\n",
      " -NN:    1.100E-05\n",
      " -Pruif: 5.767E-06\n",
      "Idempotency:\n",
      " -Noise: 1.232E-04\n",
      " -Orig:  3.937E-03\n",
      " -Purif: 7.088E-17\n"
     ]
    },
    {
     "name": "stderr",
     "output_type": "stream",
     "text": [
      "Warn: Ipython shell catchs sys.args\n"
     ]
    },
    {
     "name": "stdout",
     "output_type": "stream",
     "text": [
      "Calculating: 32/50\n",
      "Accuracy (MSE):\n",
      " -Noise: 1.012E-08\n",
      " -NN:    4.748E-06\n",
      " -Pruif: 1.792E-06\n",
      "Idempotency:\n",
      " -Noise: 1.238E-04\n",
      " -Orig:  2.419E-03\n",
      " -Purif: 6.705E-17\n"
     ]
    },
    {
     "name": "stderr",
     "output_type": "stream",
     "text": [
      "Warn: Ipython shell catchs sys.args\n"
     ]
    },
    {
     "name": "stdout",
     "output_type": "stream",
     "text": [
      "Calculating: 33/50\n",
      "Accuracy (MSE):\n",
      " -Noise: 9.185E-09\n",
      " -NN:    4.986E-06\n",
      " -Pruif: 2.026E-06\n",
      "Idempotency:\n",
      " -Noise: 1.065E-04\n",
      " -Orig:  2.715E-03\n",
      " -Purif: 8.233E-17\n"
     ]
    },
    {
     "name": "stderr",
     "output_type": "stream",
     "text": [
      "Warn: Ipython shell catchs sys.args\n"
     ]
    },
    {
     "name": "stdout",
     "output_type": "stream",
     "text": [
      "Calculating: 34/50\n",
      "Accuracy (MSE):\n",
      " -Noise: 9.380E-09\n",
      " -NN:    4.003E-06\n",
      " -Pruif: 1.774E-06\n",
      "Idempotency:\n",
      " -Noise: 1.143E-04\n",
      " -Orig:  2.367E-03\n",
      " -Purif: 7.152E-17\n"
     ]
    },
    {
     "name": "stderr",
     "output_type": "stream",
     "text": [
      "Warn: Ipython shell catchs sys.args\n"
     ]
    },
    {
     "name": "stdout",
     "output_type": "stream",
     "text": [
      "Calculating: 35/50\n",
      "Accuracy (MSE):\n",
      " -Noise: 1.026E-08\n",
      " -NN:    1.156E-05\n",
      " -Pruif: 4.818E-06\n",
      "Idempotency:\n",
      " -Noise: 1.176E-04\n",
      " -Orig:  4.032E-03\n",
      " -Purif: 7.652E-17\n"
     ]
    },
    {
     "name": "stderr",
     "output_type": "stream",
     "text": [
      "Warn: Ipython shell catchs sys.args\n"
     ]
    },
    {
     "name": "stdout",
     "output_type": "stream",
     "text": [
      "Calculating: 36/50\n",
      "Accuracy (MSE):\n",
      " -Noise: 9.615E-09\n",
      " -NN:    7.085E-06\n",
      " -Pruif: 4.131E-06\n",
      "Idempotency:\n",
      " -Noise: 1.132E-04\n",
      " -Orig:  2.737E-03\n",
      " -Purif: 7.118E-17\n"
     ]
    },
    {
     "name": "stderr",
     "output_type": "stream",
     "text": [
      "Warn: Ipython shell catchs sys.args\n"
     ]
    },
    {
     "name": "stdout",
     "output_type": "stream",
     "text": [
      "Calculating: 37/50\n",
      "Accuracy (MSE):\n",
      " -Noise: 9.203E-09\n",
      " -NN:    8.633E-06\n",
      " -Pruif: 4.978E-06\n",
      "Idempotency:\n",
      " -Noise: 1.147E-04\n",
      " -Orig:  3.034E-03\n",
      " -Purif: 7.710E-17\n"
     ]
    },
    {
     "name": "stderr",
     "output_type": "stream",
     "text": [
      "Warn: Ipython shell catchs sys.args\n"
     ]
    },
    {
     "name": "stdout",
     "output_type": "stream",
     "text": [
      "Calculating: 38/50\n",
      "Accuracy (MSE):\n",
      " -Noise: 9.071E-09\n",
      " -NN:    2.866E-05\n",
      " -Pruif: 1.257E-05\n",
      "Idempotency:\n",
      " -Noise: 1.150E-04\n",
      " -Orig:  5.513E-03\n",
      " -Purif: 7.624E-17\n"
     ]
    },
    {
     "name": "stderr",
     "output_type": "stream",
     "text": [
      "Warn: Ipython shell catchs sys.args\n"
     ]
    },
    {
     "name": "stdout",
     "output_type": "stream",
     "text": [
      "Calculating: 39/50\n",
      "Accuracy (MSE):\n",
      " -Noise: 1.049E-08\n",
      " -NN:    1.147E-05\n",
      " -Pruif: 5.375E-06\n",
      "Idempotency:\n",
      " -Noise: 1.236E-04\n",
      " -Orig:  3.635E-03\n",
      " -Purif: 6.590E-17\n"
     ]
    },
    {
     "name": "stderr",
     "output_type": "stream",
     "text": [
      "Warn: Ipython shell catchs sys.args\n"
     ]
    },
    {
     "name": "stdout",
     "output_type": "stream",
     "text": [
      "Calculating: 40/50\n",
      "Accuracy (MSE):\n",
      " -Noise: 1.001E-08\n",
      " -NN:    3.641E-06\n",
      " -Pruif: 1.619E-06\n",
      "Idempotency:\n",
      " -Noise: 1.223E-04\n",
      " -Orig:  2.322E-03\n",
      " -Purif: 7.488E-17\n"
     ]
    },
    {
     "name": "stderr",
     "output_type": "stream",
     "text": [
      "Warn: Ipython shell catchs sys.args\n"
     ]
    },
    {
     "name": "stdout",
     "output_type": "stream",
     "text": [
      "Calculating: 41/50\n",
      "Accuracy (MSE):\n",
      " -Noise: 9.907E-09\n",
      " -NN:    1.155E-05\n",
      " -Pruif: 6.415E-06\n",
      "Idempotency:\n",
      " -Noise: 1.194E-04\n",
      " -Orig:  4.006E-03\n",
      " -Purif: 7.633E-17\n"
     ]
    },
    {
     "name": "stderr",
     "output_type": "stream",
     "text": [
      "Warn: Ipython shell catchs sys.args\n"
     ]
    },
    {
     "name": "stdout",
     "output_type": "stream",
     "text": [
      "Calculating: 42/50\n",
      "Accuracy (MSE):\n",
      " -Noise: 9.899E-09\n",
      " -NN:    6.274E-06\n",
      " -Pruif: 3.179E-06\n",
      "Idempotency:\n",
      " -Noise: 1.198E-04\n",
      " -Orig:  2.818E-03\n",
      " -Purif: 7.095E-17\n"
     ]
    },
    {
     "name": "stderr",
     "output_type": "stream",
     "text": [
      "Warn: Ipython shell catchs sys.args\n"
     ]
    },
    {
     "name": "stdout",
     "output_type": "stream",
     "text": [
      "Calculating: 43/50\n",
      "Accuracy (MSE):\n",
      " -Noise: 8.928E-09\n",
      " -NN:    7.422E-06\n",
      " -Pruif: 3.309E-06\n",
      "Idempotency:\n",
      " -Noise: 1.132E-04\n",
      " -Orig:  3.098E-03\n",
      " -Purif: 7.314E-17\n"
     ]
    },
    {
     "name": "stderr",
     "output_type": "stream",
     "text": [
      "Warn: Ipython shell catchs sys.args\n"
     ]
    },
    {
     "name": "stdout",
     "output_type": "stream",
     "text": [
      "Calculating: 44/50\n",
      "Accuracy (MSE):\n",
      " -Noise: 1.018E-08\n",
      " -NN:    5.133E-06\n",
      " -Pruif: 1.962E-06\n",
      "Idempotency:\n",
      " -Noise: 1.181E-04\n",
      " -Orig:  2.539E-03\n",
      " -Purif: 7.910E-17\n"
     ]
    },
    {
     "name": "stderr",
     "output_type": "stream",
     "text": [
      "Warn: Ipython shell catchs sys.args\n"
     ]
    },
    {
     "name": "stdout",
     "output_type": "stream",
     "text": [
      "Calculating: 45/50\n",
      "Accuracy (MSE):\n",
      " -Noise: 9.733E-09\n",
      " -NN:    2.008E-05\n",
      " -Pruif: 5.451E-06\n",
      "Idempotency:\n",
      " -Noise: 1.105E-04\n",
      " -Orig:  4.109E-03\n",
      " -Purif: 7.777E-17\n"
     ]
    },
    {
     "name": "stderr",
     "output_type": "stream",
     "text": [
      "Warn: Ipython shell catchs sys.args\n"
     ]
    },
    {
     "name": "stdout",
     "output_type": "stream",
     "text": [
      "Calculating: 46/50\n",
      "Accuracy (MSE):\n",
      " -Noise: 9.899E-09\n",
      " -NN:    1.161E-05\n",
      " -Pruif: 4.593E-06\n",
      "Idempotency:\n",
      " -Noise: 1.236E-04\n",
      " -Orig:  3.931E-03\n",
      " -Purif: 6.419E-17\n"
     ]
    },
    {
     "name": "stderr",
     "output_type": "stream",
     "text": [
      "Warn: Ipython shell catchs sys.args\n"
     ]
    },
    {
     "name": "stdout",
     "output_type": "stream",
     "text": [
      "Calculating: 47/50\n",
      "Accuracy (MSE):\n",
      " -Noise: 9.580E-09\n",
      " -NN:    8.754E-06\n",
      " -Pruif: 4.671E-06\n",
      "Idempotency:\n",
      " -Noise: 1.126E-04\n",
      " -Orig:  3.474E-03\n",
      " -Purif: 8.429E-17\n"
     ]
    },
    {
     "name": "stderr",
     "output_type": "stream",
     "text": [
      "Warn: Ipython shell catchs sys.args\n"
     ]
    },
    {
     "name": "stdout",
     "output_type": "stream",
     "text": [
      "Calculating: 48/50\n",
      "Accuracy (MSE):\n",
      " -Noise: 9.834E-09\n",
      " -NN:    7.348E-06\n",
      " -Pruif: 3.248E-06\n",
      "Idempotency:\n",
      " -Noise: 1.130E-04\n",
      " -Orig:  3.266E-03\n",
      " -Purif: 7.279E-17\n"
     ]
    },
    {
     "name": "stderr",
     "output_type": "stream",
     "text": [
      "Warn: Ipython shell catchs sys.args\n"
     ]
    },
    {
     "name": "stdout",
     "output_type": "stream",
     "text": [
      "Calculating: 49/50\n",
      "Accuracy (MSE):\n",
      " -Noise: 8.910E-09\n",
      " -NN:    8.236E-06\n",
      " -Pruif: 3.804E-06\n",
      "Idempotency:\n",
      " -Noise: 1.112E-04\n",
      " -Orig:  2.927E-03\n",
      " -Purif: 7.249E-17\n"
     ]
    },
    {
     "name": "stderr",
     "output_type": "stream",
     "text": [
      "Warn: Ipython shell catchs sys.args\n"
     ]
    },
    {
     "name": "stdout",
     "output_type": "stream",
     "text": [
      "Calculating: 50/50\n",
      "Accuracy (MSE):\n",
      " -Noise: 1.009E-08\n",
      " -NN:    8.153E-06\n",
      " -Pruif: 3.143E-06\n",
      "Idempotency:\n",
      " -Noise: 1.247E-04\n",
      " -Orig:  3.354E-03\n",
      " -Purif: 7.326E-17\n"
     ]
    }
   ],
   "source": [
    "from pyscf.scf import hf\n",
    "from SCFInitialGuess.utilities.plotutils import prediction_scatter\n",
    "\n",
    "keys = [\"noise\", \"nn\", \"nn_purified\"]\n",
    "\n",
    "iterations = {}\n",
    "for k in keys:\n",
    "    iterations[k] = []\n",
    "\n",
    "for i, (molecule, p) in enumerate(zip(molecules_test, P_test)):\n",
    "    \n",
    "    mol = molecule.get_pyscf_molecule()\n",
    "    \n",
    "    \n",
    "    print(\"Calculating: \" + str(i + 1) + \"/\" + str(len(molecules_test)))\n",
    "    \n",
    "    guesses = {}\n",
    "\n",
    "    s_raw = hf.get_ovlp(mol)\n",
    "    s_norm = dataset.input_transformation(extract_triu(s_raw)).reshape(1, dim_triu)\n",
    "    \n",
    "        \n",
    "    # P_actual wi noise\n",
    "    p_raw = reconstruct_from_triu(p)\n",
    "    p_noise = p_raw + np.random.randn(dim, dim) * 1e-2\n",
    "    guesses[\"noise\"] = p_noise\n",
    "    \n",
    "    \n",
    "    with graph.as_default():\n",
    "        p_orig = reconstruct_from_triu(network.run(sess, s_norm)).astype('float64')\n",
    "        \n",
    "    guesses[\"nn\"] = p_orig\n",
    "\n",
    "\n",
    "    p_purified = multi_mc_wheeny(p_orig, s_raw, n_max=5)\n",
    "    guesses[\"nn_purified\"] = p_purified\n",
    "\n",
    "    # check errors\n",
    "    print(\"Accuracy (MSE):\")\n",
    "    print(\" -Noise: {:0.3E}\".format(np.mean(np.abs(p_raw - p_noise)**2)))\n",
    "    print(\" -NN:    {:0.3E}\".format(np.mean(np.abs(p_raw - p_orig)**2)))\n",
    "    print(\" -Pruif: {:0.3E}\".format(np.mean(np.abs(p_raw - p_purified)**2)))\n",
    "\n",
    "    print(\"Idempotency:\")\n",
    "    print(\" -Noise: {:0.3E}\".format(idemp_error(p_noise, s_raw)))\n",
    "    print(\" -Orig:  {:0.3E}\".format(idemp_error(p_orig, s_raw)))\n",
    "    print(\" -Purif: {:0.3E}\".format(idemp_error(p_purified, s_raw)))\n",
    "\n",
    "    \n",
    "    \n",
    "    for (key, guess) in guesses.items():\n",
    "        mf = hf.RHF(mol)\n",
    "        mf.diis = None\n",
    "        mf.verbose = 1\n",
    "        mf.kernel(dm0=guess)\n",
    "        iterations[key].append(mf.iterations)\n",
    "\n",
    "for k in keys:\n",
    "    iterations[k] = np.array(iterations[k])"
   ]
  },
  {
   "cell_type": "code",
   "execution_count": 83,
   "metadata": {},
   "outputs": [
    {
     "name": "stdout",
     "output_type": "stream",
     "text": [
      "noise: 5.74\n",
      "nn: 13.12\n",
      "nn_purified: 9.12\n"
     ]
    }
   ],
   "source": [
    "for key, val in iterations.items():\n",
    "    print(key + \": \" + str(val.mean()))"
   ]
  },
  {
   "cell_type": "code",
   "execution_count": 94,
   "metadata": {},
   "outputs": [
    {
     "ename": "TypeError",
     "evalue": "Argument 'obj' has incorrect type (expected list, got dict_values)",
     "output_type": "error",
     "traceback": [
      "\u001b[0;31m---------------------------------------------------------------------------\u001b[0m",
      "\u001b[0;31mAttributeError\u001b[0m                            Traceback (most recent call last)",
      "\u001b[0;32m~/anaconda3/lib/python3.6/site-packages/seaborn/utils.py\u001b[0m in \u001b[0;36mcategorical_order\u001b[0;34m(values, order)\u001b[0m\n\u001b[1;32m    507\u001b[0m             \u001b[0;32mtry\u001b[0m\u001b[0;34m:\u001b[0m\u001b[0;34m\u001b[0m\u001b[0m\n\u001b[0;32m--> 508\u001b[0;31m                 \u001b[0morder\u001b[0m \u001b[0;34m=\u001b[0m \u001b[0mvalues\u001b[0m\u001b[0;34m.\u001b[0m\u001b[0mcat\u001b[0m\u001b[0;34m.\u001b[0m\u001b[0mcategories\u001b[0m\u001b[0;34m\u001b[0m\u001b[0m\n\u001b[0m\u001b[1;32m    509\u001b[0m             \u001b[0;32mexcept\u001b[0m \u001b[0;34m(\u001b[0m\u001b[0mTypeError\u001b[0m\u001b[0;34m,\u001b[0m \u001b[0mAttributeError\u001b[0m\u001b[0;34m)\u001b[0m\u001b[0;34m:\u001b[0m\u001b[0;34m\u001b[0m\u001b[0m\n",
      "\u001b[0;31mAttributeError\u001b[0m: 'dict_values' object has no attribute 'cat'",
      "\nDuring handling of the above exception, another exception occurred:\n",
      "\u001b[0;31mAttributeError\u001b[0m                            Traceback (most recent call last)",
      "\u001b[0;32m~/anaconda3/lib/python3.6/site-packages/seaborn/utils.py\u001b[0m in \u001b[0;36mcategorical_order\u001b[0;34m(values, order)\u001b[0m\n\u001b[1;32m    510\u001b[0m                 \u001b[0;32mtry\u001b[0m\u001b[0;34m:\u001b[0m\u001b[0;34m\u001b[0m\u001b[0m\n\u001b[0;32m--> 511\u001b[0;31m                     \u001b[0morder\u001b[0m \u001b[0;34m=\u001b[0m \u001b[0mvalues\u001b[0m\u001b[0;34m.\u001b[0m\u001b[0munique\u001b[0m\u001b[0;34m(\u001b[0m\u001b[0;34m)\u001b[0m\u001b[0;34m\u001b[0m\u001b[0m\n\u001b[0m\u001b[1;32m    512\u001b[0m                 \u001b[0;32mexcept\u001b[0m \u001b[0mAttributeError\u001b[0m\u001b[0;34m:\u001b[0m\u001b[0;34m\u001b[0m\u001b[0m\n",
      "\u001b[0;31mAttributeError\u001b[0m: 'dict_values' object has no attribute 'unique'",
      "\nDuring handling of the above exception, another exception occurred:\n",
      "\u001b[0;31mTypeError\u001b[0m                                 Traceback (most recent call last)",
      "\u001b[0;32m<ipython-input-94-1d46b41a54c1>\u001b[0m in \u001b[0;36m<module>\u001b[0;34m()\u001b[0m\n\u001b[1;32m      4\u001b[0m \u001b[0;34m\u001b[0m\u001b[0m\n\u001b[1;32m      5\u001b[0m \u001b[0mdata\u001b[0m \u001b[0;34m=\u001b[0m \u001b[0mDataFrame\u001b[0m\u001b[0;34m(\u001b[0m\u001b[0miterations\u001b[0m\u001b[0;34m)\u001b[0m\u001b[0;34m\u001b[0m\u001b[0m\n\u001b[0;32m----> 6\u001b[0;31m \u001b[0max\u001b[0m \u001b[0;34m=\u001b[0m \u001b[0msns\u001b[0m\u001b[0;34m.\u001b[0m\u001b[0mcountplot\u001b[0m\u001b[0;34m(\u001b[0m\u001b[0miterations\u001b[0m\u001b[0;34m.\u001b[0m\u001b[0mvalues\u001b[0m\u001b[0;34m(\u001b[0m\u001b[0;34m)\u001b[0m\u001b[0;34m)\u001b[0m\u001b[0;34m\u001b[0m\u001b[0m\n\u001b[0m\u001b[1;32m      7\u001b[0m \u001b[0mplt\u001b[0m\u001b[0;34m.\u001b[0m\u001b[0mshow\u001b[0m\u001b[0;34m(\u001b[0m\u001b[0;34m)\u001b[0m\u001b[0;34m\u001b[0m\u001b[0m\n",
      "\u001b[0;32m~/anaconda3/lib/python3.6/site-packages/seaborn/categorical.py\u001b[0m in \u001b[0;36mcountplot\u001b[0;34m(x, y, hue, data, order, hue_order, orient, color, palette, saturation, dodge, ax, **kwargs)\u001b[0m\n\u001b[1;32m   3357\u001b[0m                           \u001b[0mestimator\u001b[0m\u001b[0;34m,\u001b[0m \u001b[0mci\u001b[0m\u001b[0;34m,\u001b[0m \u001b[0mn_boot\u001b[0m\u001b[0;34m,\u001b[0m \u001b[0munits\u001b[0m\u001b[0;34m,\u001b[0m\u001b[0;34m\u001b[0m\u001b[0m\n\u001b[1;32m   3358\u001b[0m                           \u001b[0morient\u001b[0m\u001b[0;34m,\u001b[0m \u001b[0mcolor\u001b[0m\u001b[0;34m,\u001b[0m \u001b[0mpalette\u001b[0m\u001b[0;34m,\u001b[0m \u001b[0msaturation\u001b[0m\u001b[0;34m,\u001b[0m\u001b[0;34m\u001b[0m\u001b[0m\n\u001b[0;32m-> 3359\u001b[0;31m                           errcolor, errwidth, capsize, dodge)\n\u001b[0m\u001b[1;32m   3360\u001b[0m \u001b[0;34m\u001b[0m\u001b[0m\n\u001b[1;32m   3361\u001b[0m     \u001b[0mplotter\u001b[0m\u001b[0;34m.\u001b[0m\u001b[0mvalue_label\u001b[0m \u001b[0;34m=\u001b[0m \u001b[0;34m\"count\"\u001b[0m\u001b[0;34m\u001b[0m\u001b[0m\n",
      "\u001b[0;32m~/anaconda3/lib/python3.6/site-packages/seaborn/categorical.py\u001b[0m in \u001b[0;36m__init__\u001b[0;34m(self, x, y, hue, data, order, hue_order, estimator, ci, n_boot, units, orient, color, palette, saturation, errcolor, errwidth, capsize, dodge)\u001b[0m\n\u001b[1;32m   1594\u001b[0m         \u001b[0;34m\"\"\"Initialize the plotter.\"\"\"\u001b[0m\u001b[0;34m\u001b[0m\u001b[0m\n\u001b[1;32m   1595\u001b[0m         self.establish_variables(x, y, hue, data, orient,\n\u001b[0;32m-> 1596\u001b[0;31m                                  order, hue_order, units)\n\u001b[0m\u001b[1;32m   1597\u001b[0m         \u001b[0mself\u001b[0m\u001b[0;34m.\u001b[0m\u001b[0mestablish_colors\u001b[0m\u001b[0;34m(\u001b[0m\u001b[0mcolor\u001b[0m\u001b[0;34m,\u001b[0m \u001b[0mpalette\u001b[0m\u001b[0;34m,\u001b[0m \u001b[0msaturation\u001b[0m\u001b[0;34m)\u001b[0m\u001b[0;34m\u001b[0m\u001b[0m\n\u001b[1;32m   1598\u001b[0m         \u001b[0mself\u001b[0m\u001b[0;34m.\u001b[0m\u001b[0mestimate_statistic\u001b[0m\u001b[0;34m(\u001b[0m\u001b[0mestimator\u001b[0m\u001b[0;34m,\u001b[0m \u001b[0mci\u001b[0m\u001b[0;34m,\u001b[0m \u001b[0mn_boot\u001b[0m\u001b[0;34m)\u001b[0m\u001b[0;34m\u001b[0m\u001b[0m\n",
      "\u001b[0;32m~/anaconda3/lib/python3.6/site-packages/seaborn/categorical.py\u001b[0m in \u001b[0;36mestablish_variables\u001b[0;34m(self, x, y, hue, data, orient, order, hue_order, units)\u001b[0m\n\u001b[1;32m    197\u001b[0m \u001b[0;34m\u001b[0m\u001b[0m\n\u001b[1;32m    198\u001b[0m                 \u001b[0;31m# Get the order on the categorical axis\u001b[0m\u001b[0;34m\u001b[0m\u001b[0;34m\u001b[0m\u001b[0m\n\u001b[0;32m--> 199\u001b[0;31m                 \u001b[0mgroup_names\u001b[0m \u001b[0;34m=\u001b[0m \u001b[0mcategorical_order\u001b[0m\u001b[0;34m(\u001b[0m\u001b[0mgroups\u001b[0m\u001b[0;34m,\u001b[0m \u001b[0morder\u001b[0m\u001b[0;34m)\u001b[0m\u001b[0;34m\u001b[0m\u001b[0m\n\u001b[0m\u001b[1;32m    200\u001b[0m \u001b[0;34m\u001b[0m\u001b[0m\n\u001b[1;32m    201\u001b[0m                 \u001b[0;31m# Group the numeric data\u001b[0m\u001b[0;34m\u001b[0m\u001b[0;34m\u001b[0m\u001b[0m\n",
      "\u001b[0;32m~/anaconda3/lib/python3.6/site-packages/seaborn/utils.py\u001b[0m in \u001b[0;36mcategorical_order\u001b[0;34m(values, order)\u001b[0m\n\u001b[1;32m    511\u001b[0m                     \u001b[0morder\u001b[0m \u001b[0;34m=\u001b[0m \u001b[0mvalues\u001b[0m\u001b[0;34m.\u001b[0m\u001b[0munique\u001b[0m\u001b[0;34m(\u001b[0m\u001b[0;34m)\u001b[0m\u001b[0;34m\u001b[0m\u001b[0m\n\u001b[1;32m    512\u001b[0m                 \u001b[0;32mexcept\u001b[0m \u001b[0mAttributeError\u001b[0m\u001b[0;34m:\u001b[0m\u001b[0;34m\u001b[0m\u001b[0m\n\u001b[0;32m--> 513\u001b[0;31m                     \u001b[0morder\u001b[0m \u001b[0;34m=\u001b[0m \u001b[0mpd\u001b[0m\u001b[0;34m.\u001b[0m\u001b[0munique\u001b[0m\u001b[0;34m(\u001b[0m\u001b[0mvalues\u001b[0m\u001b[0;34m)\u001b[0m\u001b[0;34m\u001b[0m\u001b[0m\n\u001b[0m\u001b[1;32m    514\u001b[0m                 \u001b[0;32mtry\u001b[0m\u001b[0;34m:\u001b[0m\u001b[0;34m\u001b[0m\u001b[0m\n\u001b[1;32m    515\u001b[0m                     \u001b[0mnp\u001b[0m\u001b[0;34m.\u001b[0m\u001b[0masarray\u001b[0m\u001b[0;34m(\u001b[0m\u001b[0mvalues\u001b[0m\u001b[0;34m)\u001b[0m\u001b[0;34m.\u001b[0m\u001b[0mastype\u001b[0m\u001b[0;34m(\u001b[0m\u001b[0mnp\u001b[0m\u001b[0;34m.\u001b[0m\u001b[0mfloat\u001b[0m\u001b[0;34m)\u001b[0m\u001b[0;34m\u001b[0m\u001b[0m\n",
      "\u001b[0;32m~/anaconda3/lib/python3.6/site-packages/pandas/core/algorithms.py\u001b[0m in \u001b[0;36munique\u001b[0;34m(values)\u001b[0m\n\u001b[1;32m    341\u001b[0m     \"\"\"\n\u001b[1;32m    342\u001b[0m \u001b[0;34m\u001b[0m\u001b[0m\n\u001b[0;32m--> 343\u001b[0;31m     \u001b[0mvalues\u001b[0m \u001b[0;34m=\u001b[0m \u001b[0m_ensure_arraylike\u001b[0m\u001b[0;34m(\u001b[0m\u001b[0mvalues\u001b[0m\u001b[0;34m)\u001b[0m\u001b[0;34m\u001b[0m\u001b[0m\n\u001b[0m\u001b[1;32m    344\u001b[0m \u001b[0;34m\u001b[0m\u001b[0m\n\u001b[1;32m    345\u001b[0m     \u001b[0;31m# categorical is a fast-path\u001b[0m\u001b[0;34m\u001b[0m\u001b[0;34m\u001b[0m\u001b[0m\n",
      "\u001b[0;32m~/anaconda3/lib/python3.6/site-packages/pandas/core/algorithms.py\u001b[0m in \u001b[0;36m_ensure_arraylike\u001b[0;34m(values)\u001b[0m\n\u001b[1;32m    164\u001b[0m         \u001b[0minferred\u001b[0m \u001b[0;34m=\u001b[0m \u001b[0mlib\u001b[0m\u001b[0;34m.\u001b[0m\u001b[0minfer_dtype\u001b[0m\u001b[0;34m(\u001b[0m\u001b[0mvalues\u001b[0m\u001b[0;34m)\u001b[0m\u001b[0;34m\u001b[0m\u001b[0m\n\u001b[1;32m    165\u001b[0m         \u001b[0;32mif\u001b[0m \u001b[0minferred\u001b[0m \u001b[0;32min\u001b[0m \u001b[0;34m[\u001b[0m\u001b[0;34m'mixed'\u001b[0m\u001b[0;34m,\u001b[0m \u001b[0;34m'string'\u001b[0m\u001b[0;34m,\u001b[0m \u001b[0;34m'unicode'\u001b[0m\u001b[0;34m]\u001b[0m\u001b[0;34m:\u001b[0m\u001b[0;34m\u001b[0m\u001b[0m\n\u001b[0;32m--> 166\u001b[0;31m             \u001b[0mvalues\u001b[0m \u001b[0;34m=\u001b[0m \u001b[0mlib\u001b[0m\u001b[0;34m.\u001b[0m\u001b[0mlist_to_object_array\u001b[0m\u001b[0;34m(\u001b[0m\u001b[0mvalues\u001b[0m\u001b[0;34m)\u001b[0m\u001b[0;34m\u001b[0m\u001b[0m\n\u001b[0m\u001b[1;32m    167\u001b[0m         \u001b[0;32melse\u001b[0m\u001b[0;34m:\u001b[0m\u001b[0;34m\u001b[0m\u001b[0m\n\u001b[1;32m    168\u001b[0m             \u001b[0mvalues\u001b[0m \u001b[0;34m=\u001b[0m \u001b[0mnp\u001b[0m\u001b[0;34m.\u001b[0m\u001b[0masarray\u001b[0m\u001b[0;34m(\u001b[0m\u001b[0mvalues\u001b[0m\u001b[0;34m)\u001b[0m\u001b[0;34m\u001b[0m\u001b[0m\n",
      "\u001b[0;31mTypeError\u001b[0m: Argument 'obj' has incorrect type (expected list, got dict_values)"
     ]
    }
   ],
   "source": [
    "from SCFInitialGuess.utilities.plotutils import iterations_histogram\n",
    "from pandas import  DataFrame\n",
    "import seaborn as sns\n",
    "\n",
    "data = DataFrame(iterations)\n",
    "for key, val in iterations.items():\n",
    "    hist, bins = np.histogram(val)\n",
    "    center = (bins[:-1] + bins[1:]) / 2\n",
    "    #axes[i].bar(center, hist, label=name)\n",
    "    plt.bar(center, hist, label=name)\n",
    "    \n",
    "plt.legend()\n",
    "plt.show()\n",
    "plt.show()"
   ]
  },
  {
   "cell_type": "code",
   "execution_count": null,
   "metadata": {
    "collapsed": true
   },
   "outputs": [],
   "source": []
  }
 ],
 "metadata": {
  "kernelspec": {
   "display_name": "Python 3",
   "language": "python",
   "name": "python3"
  },
  "language_info": {
   "codemirror_mode": {
    "name": "ipython",
    "version": 3
   },
   "file_extension": ".py",
   "mimetype": "text/x-python",
   "name": "python",
   "nbconvert_exporter": "python",
   "pygments_lexer": "ipython3",
   "version": "3.6.2"
  }
 },
 "nbformat": 4,
 "nbformat_minor": 2
}
