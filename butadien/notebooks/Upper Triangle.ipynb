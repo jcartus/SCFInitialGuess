{
 "cells": [
  {
   "cell_type": "code",
   "execution_count": 1,
   "metadata": {},
   "outputs": [
    {
     "name": "stderr",
     "output_type": "stream",
     "text": [
      "/home/jo/anaconda3/lib/python3.6/site-packages/h5py/__init__.py:36: FutureWarning: Conversion of the second argument of issubdtype from `float` to `np.floating` is deprecated. In future, it will be treated as `np.float64 == np.dtype(float).type`.\n",
      "  from ._conv import register_converters as _register_converters\n"
     ]
    }
   ],
   "source": [
    "import numpy as np\n",
    "import matplotlib.pyplot as plt\n",
    "import tensorflow as tf"
   ]
  },
  {
   "cell_type": "code",
   "execution_count": 2,
   "metadata": {},
   "outputs": [],
   "source": [
    "S, P = np.load(\"../data/dataset.npy\")\n",
    "molecules = np.load(\"../data/molecules.npy\")"
   ]
  },
  {
   "cell_type": "code",
   "execution_count": 3,
   "metadata": {},
   "outputs": [],
   "source": [
    "def extract_triu(A):\n",
    "    \"\"\"Extracts the upper triangular part of the matrix.\n",
    "    Input can be matrix, will be reshaped if it is not.\n",
    "    \"\"\"\n",
    "    return A.reshape(dim, dim)[np.triu_indices(dim)]\n",
    "\n",
    "def reconstruct_from_triu(A_flat):\n",
    "    \"\"\"Reconstructus the full symmetric matrix (dim x dim, not\n",
    "    flattened out) from the flattend elements of the upper \n",
    "    triag of a symmetric matrix!\"\"\"\n",
    "    result = np.zeros((dim, dim))\n",
    "    result[np.triu_indices(dim)] = A_flat\n",
    "    return result + result.T - np.diag(np.diag(result))\n"
   ]
  },
  {
   "cell_type": "code",
   "execution_count": 4,
   "metadata": {},
   "outputs": [
    {
     "name": "stdout",
     "output_type": "stream",
     "text": [
      "[-] 2018-03-28 21:21:33: Data set normalized. Mean value std: 0.008441599944217284\n"
     ]
    }
   ],
   "source": [
    "from SCFInitialGuess.utilities.dataset import Dataset\n",
    "\n",
    "dim = 26\n",
    "dim_triu = int(dim * (dim + 1) / 2)\n",
    "\n",
    "ind_cut = 150\n",
    "index = np.arange(200)\n",
    "np.random.shuffle(index)\n",
    "\n",
    "S_triu = list(map(extract_triu, S))\n",
    "P_triu = list(map(extract_triu, P))\n",
    "\n",
    "S_test = np.array(S_triu)[index[150:]]\n",
    "P_test = np.array(P_triu)[index[150:]]\n",
    "molecules_test = [molecules[index[i]] for i in range(150, 200)]\n",
    "\n",
    "S_train = np.array(S_triu)[index[:150]]\n",
    "P_train = np.array(P_triu)[index[:150]]\n",
    "molecules_train = [molecules[index[i]] for i in range(150)]\n",
    "\n",
    "dataset = Dataset(np.array(S_train), np.array(P_train), split_test=0.0)\n",
    "\n",
    "dataset.testing = (Dataset.normalize(S_test, mean=dataset.x_mean, std=dataset.x_std)[0], P_test)"
   ]
  },
  {
   "cell_type": "code",
   "execution_count": 6,
   "metadata": {
    "scrolled": true
   },
   "outputs": [
    {
     "name": "stdout",
     "output_type": "stream",
     "text": [
      "[-] 2018-03-28 21:24:49: No target graph specified for Trainer setup. Creating new graph ...\n",
      "[-] 2018-03-28 21:24:49: Setting up the training in the target graph ...\n",
      "[-] 2018-03-28 21:24:49: network ...\n",
      "[-] 2018-03-28 21:24:49: error function ...\n",
      "[-] 2018-03-28 21:24:49: cost function ...\n",
      "[-] 2018-03-28 21:24:49: training step\n",
      "[-] 2018-03-28 21:24:49: Starting network training ...\n",
      "[ ] 2018-03-28 21:24:49: Val. Cost: 9.497E-02. Error: 9.497E-02. Diff: 1.0E+10\n",
      "[ ] 2018-03-28 21:24:51: Val. Cost: 3.105E-04. Error: 3.067E-04. Diff: 9.5E-02\n",
      "[ ] 2018-03-28 21:24:52: Val. Cost: 1.260E-04. Error: 1.220E-04. Diff: 1.8E-04\n",
      "[ ] 2018-03-28 21:24:53: Val. Cost: 5.663E-05. Error: 5.245E-05. Diff: 6.9E-05\n",
      "[ ] 2018-03-28 21:24:54: Val. Cost: 5.072E-05. Error: 4.630E-05. Diff: 6.2E-06\n",
      "[ ] 2018-03-28 21:24:55: Val. Cost: 1.644E-05. Error: 1.198E-05. Diff: 3.4E-05\n",
      "[ ] 2018-03-28 21:24:57: Val. Cost: 1.597E-05. Error: 1.154E-05. Diff: 4.4E-07\n",
      "[ ] 2018-03-28 21:24:58: Val. Cost: 2.135E-05. Error: 1.686E-05. Diff: 5.3E-06\n",
      "[ ] 2018-03-28 21:24:59: Val. Cost: 1.316E-05. Error: 8.686E-06. Diff: 8.2E-06\n",
      "[ ] 2018-03-28 21:25:00: Val. Cost: 4.571E-05. Error: 4.124E-05. Diff: 3.3E-05\n",
      "[ ] 2018-03-28 21:25:01: Val. Cost: 1.084E-05. Error: 6.300E-06. Diff: 3.5E-05\n",
      "[ ] 2018-03-28 21:25:02: Val. Cost: 1.051E-05. Error: 6.052E-06. Diff: 2.5E-07\n",
      "[ ] 2018-03-28 21:25:03: Val. Cost: 1.307E-04. Error: 1.262E-04. Diff: 1.2E-04\n",
      "[ ] 2018-03-28 21:25:04: Val. Cost: 1.044E-05. Error: 5.977E-06. Diff: 1.2E-04\n",
      "[-] 2018-03-28 21:25:06: Convergence reached after 2800 steps.\n",
      "[-] 2018-03-28 21:25:06: Test error: 6.00362E-06\n"
     ]
    }
   ],
   "source": [
    "from SCFInitialGuess.nn.networks import EluTrNNN\n",
    "from SCFInitialGuess.nn.training import Trainer\n",
    "from SCFInitialGuess.nn.cost_functions import RegularizedMSE\n",
    "\n",
    "trainer = Trainer(\n",
    "    EluTrNNN([dim_triu, 400, 400, 400, 400, dim_triu]),\n",
    "    cost_function=RegularizedMSE(alpha=1e-7),\n",
    "    optimizer=tf.train.AdamOptimizer(learning_rate=1e-3)\n",
    ")\n",
    "\n",
    "trainer.setup()\n",
    "network, sess = trainer.train(\n",
    "    dataset,\n",
    "    convergence_threshold=1e-7\n",
    ")\n",
    "graph = trainer.graph"
   ]
  },
  {
   "cell_type": "code",
   "execution_count": 7,
   "metadata": {},
   "outputs": [
    {
     "data": {
      "image/png": "[encoded data removed]",
      "text/plain": [
       "<matplotlib.figure.Figure at 0x7feea57adda0>"
      ]
     },
     "metadata": {},
     "output_type": "display_data"
    }
   ],
   "source": [
    "#from SCFInitialGuess.utilities.analysis import prediction_scatter\n",
    "import matplotlib.pyplot as plt\n",
    "\n",
    "with graph.as_default():\n",
    "    plt.scatter(\n",
    "        dataset.testing[1].flatten(), \n",
    "        network.run(sess, dataset.testing[0]).flatten()\n",
    "    )\n",
    "plt.show()"
   ]
  },
  {
   "cell_type": "code",
   "execution_count": 8,
   "metadata": {},
   "outputs": [],
   "source": [
    "def mc_wheeny_purification(p,s):\n",
    "    p = p.reshape(dim, dim)\n",
    "    s = s.reshape(dim, dim)\n",
    "    return (3 * np.dot(np.dot(p, s), p) - np.dot(np.dot(np.dot(np.dot(p, s), p), s), p)) / 2\n",
    "\n",
    "def multi_mc_wheeny(p, s, n_max=4):\n",
    "    for i in range(n_max):\n",
    "        p = mc_wheeny_purification(p, s)\n",
    "    return p\n",
    "\n",
    "def idemp_error(p, s):\n",
    "    p = p.reshape(dim, dim)\n",
    "    s = s.reshape(dim, dim)\n",
    "    return np.mean(np.abs(np.dot(np.dot(p, s), p) - 2 * p))"
   ]
  },
  {
   "cell_type": "code",
   "execution_count": 9,
   "metadata": {},
   "outputs": [
    {
     "name": "stdout",
     "output_type": "stream",
     "text": [
      "Orig:         2.909E-16\n",
      "NN:           2.185E-03\n",
      "NN pruified:  6.709E-05\n",
      "NN multified: 6.593E-17\n",
      "Error NN before: 1.529E-03\n",
      "Error NN multifed:  1.047E-03\n",
      "---------------------------\n",
      "Orig:         2.535E-16\n",
      "NN:           2.080E-03\n",
      "NN pruified:  4.884E-05\n",
      "NN multified: 6.960E-17\n",
      "Error NN before: 1.384E-03\n",
      "Error NN multifed:  9.056E-04\n",
      "---------------------------\n",
      "Orig:         3.228E-16\n",
      "NN:           2.419E-03\n",
      "NN pruified:  5.711E-05\n",
      "NN multified: 7.031E-17\n",
      "Error NN before: 1.756E-03\n",
      "Error NN multifed:  1.310E-03\n",
      "---------------------------\n",
      "Orig:         2.818E-16\n",
      "NN:           2.116E-03\n",
      "NN pruified:  5.746E-05\n",
      "NN multified: 6.742E-17\n",
      "Error NN before: 1.553E-03\n",
      "Error NN multifed:  1.136E-03\n",
      "---------------------------\n",
      "Orig:         2.967E-16\n",
      "NN:           2.145E-03\n",
      "NN pruified:  5.563E-05\n",
      "NN multified: 6.872E-17\n",
      "Error NN before: 1.739E-03\n",
      "Error NN multifed:  1.441E-03\n",
      "---------------------------\n",
      "Orig:         3.042E-16\n",
      "NN:           2.178E-03\n",
      "NN pruified:  6.660E-05\n",
      "NN multified: 6.675E-17\n",
      "Error NN before: 1.542E-03\n",
      "Error NN multifed:  1.064E-03\n",
      "---------------------------\n",
      "Orig:         2.712E-16\n",
      "NN:           2.453E-03\n",
      "NN pruified:  6.879E-05\n",
      "NN multified: 8.050E-17\n",
      "Error NN before: 1.831E-03\n",
      "Error NN multifed:  1.304E-03\n",
      "---------------------------\n",
      "Orig:         2.920E-16\n",
      "NN:           2.273E-03\n",
      "NN pruified:  5.801E-05\n",
      "NN multified: 6.610E-17\n",
      "Error NN before: 1.671E-03\n",
      "Error NN multifed:  1.236E-03\n",
      "---------------------------\n",
      "Orig:         2.982E-16\n",
      "NN:           1.988E-03\n",
      "NN pruified:  4.987E-05\n",
      "NN multified: 6.556E-17\n",
      "Error NN before: 1.426E-03\n",
      "Error NN multifed:  1.037E-03\n",
      "---------------------------\n",
      "Orig:         2.537E-16\n",
      "NN:           2.017E-03\n",
      "NN pruified:  4.324E-05\n",
      "NN multified: 7.601E-17\n",
      "Error NN before: 1.426E-03\n",
      "Error NN multifed:  1.047E-03\n",
      "---------------------------\n",
      "Orig:         2.290E-16\n",
      "NN:           2.118E-03\n",
      "NN pruified:  5.260E-05\n",
      "NN multified: 7.677E-17\n",
      "Error NN before: 1.421E-03\n",
      "Error NN multifed:  9.721E-04\n",
      "---------------------------\n",
      "Orig:         2.579E-16\n",
      "NN:           2.295E-03\n",
      "NN pruified:  6.004E-05\n",
      "NN multified: 6.608E-17\n",
      "Error NN before: 1.692E-03\n",
      "Error NN multifed:  1.205E-03\n",
      "---------------------------\n",
      "Orig:         3.082E-16\n",
      "NN:           2.043E-03\n",
      "NN pruified:  5.101E-05\n",
      "NN multified: 6.522E-17\n",
      "Error NN before: 1.513E-03\n",
      "Error NN multifed:  1.139E-03\n",
      "---------------------------\n",
      "Orig:         2.754E-16\n",
      "NN:           2.418E-03\n",
      "NN pruified:  6.411E-05\n",
      "NN multified: 6.970E-17\n",
      "Error NN before: 1.573E-03\n",
      "Error NN multifed:  1.118E-03\n",
      "---------------------------\n",
      "Orig:         3.645E-16\n",
      "NN:           2.182E-03\n",
      "NN pruified:  5.709E-05\n",
      "NN multified: 7.192E-17\n",
      "Error NN before: 1.767E-03\n",
      "Error NN multifed:  1.510E-03\n",
      "---------------------------\n",
      "Orig:         3.395E-16\n",
      "NN:           2.349E-03\n",
      "NN pruified:  7.475E-05\n",
      "NN multified: 6.673E-17\n",
      "Error NN before: 1.539E-03\n",
      "Error NN multifed:  1.108E-03\n",
      "---------------------------\n",
      "Orig:         3.466E-16\n",
      "NN:           1.824E-03\n",
      "NN pruified:  3.588E-05\n",
      "NN multified: 6.691E-17\n",
      "Error NN before: 1.362E-03\n",
      "Error NN multifed:  1.063E-03\n",
      "---------------------------\n",
      "Orig:         3.104E-16\n",
      "NN:           2.431E-03\n",
      "NN pruified:  6.759E-05\n",
      "NN multified: 6.889E-17\n",
      "Error NN before: 1.597E-03\n",
      "Error NN multifed:  1.059E-03\n",
      "---------------------------\n",
      "Orig:         2.567E-16\n",
      "NN:           2.161E-03\n",
      "NN pruified:  5.618E-05\n",
      "NN multified: 6.892E-17\n",
      "Error NN before: 1.513E-03\n",
      "Error NN multifed:  1.132E-03\n",
      "---------------------------\n",
      "Orig:         2.716E-16\n",
      "NN:           2.443E-03\n",
      "NN pruified:  6.421E-05\n",
      "NN multified: 7.642E-17\n",
      "Error NN before: 1.887E-03\n",
      "Error NN multifed:  1.467E-03\n",
      "---------------------------\n",
      "Orig:         2.120E-16\n",
      "NN:           2.028E-03\n",
      "NN pruified:  4.871E-05\n",
      "NN multified: 7.426E-17\n",
      "Error NN before: 1.347E-03\n",
      "Error NN multifed:  9.178E-04\n",
      "---------------------------\n",
      "Orig:         3.327E-16\n",
      "NN:           3.988E-03\n",
      "NN pruified:  2.270E-04\n",
      "NN multified: 7.248E-17\n",
      "Error NN before: 2.872E-03\n",
      "Error NN multifed:  2.068E-03\n",
      "---------------------------\n",
      "Orig:         3.208E-16\n",
      "NN:           2.105E-03\n",
      "NN pruified:  6.735E-05\n",
      "NN multified: 6.810E-17\n",
      "Error NN before: 1.436E-03\n",
      "Error NN multifed:  9.796E-04\n",
      "---------------------------\n",
      "Orig:         2.447E-16\n",
      "NN:           2.157E-03\n",
      "NN pruified:  5.807E-05\n",
      "NN multified: 6.472E-17\n",
      "Error NN before: 1.509E-03\n",
      "Error NN multifed:  1.015E-03\n",
      "---------------------------\n",
      "Orig:         2.846E-16\n",
      "NN:           2.218E-03\n",
      "NN pruified:  5.951E-05\n",
      "NN multified: 6.709E-17\n",
      "Error NN before: 1.631E-03\n",
      "Error NN multifed:  1.207E-03\n",
      "---------------------------\n",
      "Orig:         2.760E-16\n",
      "NN:           2.312E-03\n",
      "NN pruified:  5.134E-05\n",
      "NN multified: 7.201E-17\n",
      "Error NN before: 1.566E-03\n",
      "Error NN multifed:  1.184E-03\n",
      "---------------------------\n",
      "Orig:         3.012E-16\n",
      "NN:           2.298E-03\n",
      "NN pruified:  5.938E-05\n",
      "NN multified: 6.740E-17\n",
      "Error NN before: 1.576E-03\n",
      "Error NN multifed:  1.118E-03\n",
      "---------------------------\n",
      "Orig:         3.904E-16\n",
      "NN:           2.133E-03\n",
      "NN pruified:  5.913E-05\n",
      "NN multified: 6.249E-17\n",
      "Error NN before: 1.590E-03\n",
      "Error NN multifed:  1.198E-03\n",
      "---------------------------\n",
      "Orig:         3.133E-16\n",
      "NN:           2.252E-03\n",
      "NN pruified:  5.255E-05\n",
      "NN multified: 6.431E-17\n",
      "Error NN before: 1.630E-03\n",
      "Error NN multifed:  1.228E-03\n",
      "---------------------------\n",
      "Orig:         2.841E-16\n",
      "NN:           2.690E-03\n",
      "NN pruified:  7.657E-05\n",
      "NN multified: 5.926E-17\n",
      "Error NN before: 1.860E-03\n",
      "Error NN multifed:  1.299E-03\n",
      "---------------------------\n",
      "Orig:         2.774E-16\n",
      "NN:           2.540E-03\n",
      "NN pruified:  6.856E-05\n",
      "NN multified: 6.338E-17\n",
      "Error NN before: 1.615E-03\n",
      "Error NN multifed:  1.124E-03\n",
      "---------------------------\n",
      "Orig:         2.615E-16\n",
      "NN:           2.284E-03\n",
      "NN pruified:  5.665E-05\n",
      "NN multified: 7.642E-17\n",
      "Error NN before: 1.539E-03\n",
      "Error NN multifed:  1.154E-03\n",
      "---------------------------\n",
      "Orig:         2.802E-16\n",
      "NN:           1.838E-03\n",
      "NN pruified:  4.038E-05\n",
      "NN multified: 6.645E-17\n",
      "Error NN before: 1.309E-03\n",
      "Error NN multifed:  9.514E-04\n",
      "---------------------------\n",
      "Orig:         3.006E-16\n",
      "NN:           1.982E-03\n",
      "NN pruified:  4.023E-05\n",
      "NN multified: 6.316E-17\n",
      "Error NN before: 1.419E-03\n",
      "Error NN multifed:  1.004E-03\n",
      "---------------------------\n",
      "Orig:         3.581E-16\n",
      "NN:           2.681E-03\n",
      "NN pruified:  7.402E-05\n",
      "NN multified: 7.177E-17\n",
      "Error NN before: 1.775E-03\n",
      "Error NN multifed:  1.229E-03\n",
      "---------------------------\n",
      "Orig:         3.028E-16\n",
      "NN:           3.275E-03\n",
      "NN pruified:  1.455E-04\n",
      "NN multified: 7.278E-17\n",
      "Error NN before: 2.416E-03\n",
      "Error NN multifed:  1.748E-03\n",
      "---------------------------\n",
      "Orig:         2.718E-16\n",
      "NN:           2.445E-03\n",
      "NN pruified:  6.490E-05\n",
      "NN multified: 6.605E-17\n",
      "Error NN before: 1.724E-03\n",
      "Error NN multifed:  1.316E-03\n",
      "---------------------------\n",
      "Orig:         3.036E-16\n",
      "NN:           2.111E-03\n",
      "NN pruified:  5.020E-05\n",
      "NN multified: 6.611E-17\n",
      "Error NN before: 1.414E-03\n",
      "Error NN multifed:  9.149E-04\n",
      "---------------------------\n",
      "Orig:         3.550E-16\n",
      "NN:           2.263E-03\n",
      "NN pruified:  5.807E-05\n",
      "NN multified: 5.801E-17\n",
      "Error NN before: 1.517E-03\n",
      "Error NN multifed:  1.088E-03\n",
      "---------------------------\n",
      "Orig:         2.810E-16\n",
      "NN:           2.068E-03\n",
      "NN pruified:  4.993E-05\n",
      "NN multified: 6.303E-17\n",
      "Error NN before: 1.480E-03\n",
      "Error NN multifed:  1.130E-03\n",
      "---------------------------\n",
      "Orig:         2.736E-16\n",
      "NN:           1.968E-03\n",
      "NN pruified:  4.587E-05\n",
      "NN multified: 6.858E-17\n",
      "Error NN before: 1.441E-03\n",
      "Error NN multifed:  1.125E-03\n",
      "---------------------------\n",
      "Orig:         2.920E-16\n",
      "NN:           2.302E-03\n",
      "NN pruified:  5.228E-05\n",
      "NN multified: 7.568E-17\n",
      "Error NN before: 1.682E-03\n",
      "Error NN multifed:  1.231E-03\n",
      "---------------------------\n",
      "Orig:         3.007E-16\n",
      "NN:           2.290E-03\n",
      "NN pruified:  6.159E-05\n",
      "NN multified: 6.866E-17\n",
      "Error NN before: 1.555E-03\n",
      "Error NN multifed:  1.077E-03\n",
      "---------------------------\n",
      "Orig:         2.946E-16\n",
      "NN:           2.090E-03\n",
      "NN pruified:  4.308E-05\n",
      "NN multified: 6.366E-17\n",
      "Error NN before: 1.427E-03\n",
      "Error NN multifed:  9.749E-04\n",
      "---------------------------\n",
      "Orig:         3.308E-16\n",
      "NN:           1.972E-03\n",
      "NN pruified:  3.466E-05\n",
      "NN multified: 6.443E-17\n",
      "Error NN before: 1.334E-03\n",
      "Error NN multifed:  9.328E-04\n",
      "---------------------------\n",
      "Orig:         2.691E-16\n",
      "NN:           1.950E-03\n",
      "NN pruified:  4.342E-05\n",
      "NN multified: 6.093E-17\n",
      "Error NN before: 1.302E-03\n",
      "Error NN multifed:  9.317E-04\n",
      "---------------------------\n",
      "Orig:         2.870E-16\n",
      "NN:           2.320E-03\n",
      "NN pruified:  6.448E-05\n",
      "NN multified: 7.461E-17\n",
      "Error NN before: 1.606E-03\n",
      "Error NN multifed:  1.123E-03\n",
      "---------------------------\n",
      "Orig:         2.311E-16\n",
      "NN:           2.108E-03\n",
      "NN pruified:  4.326E-05\n",
      "NN multified: 6.491E-17\n",
      "Error NN before: 1.386E-03\n",
      "Error NN multifed:  9.004E-04\n",
      "---------------------------\n",
      "Orig:         3.882E-16\n",
      "NN:           2.164E-03\n",
      "NN pruified:  5.222E-05\n",
      "NN multified: 6.902E-17\n",
      "Error NN before: 1.522E-03\n",
      "Error NN multifed:  1.146E-03\n",
      "---------------------------\n",
      "Orig:         3.343E-16\n",
      "NN:           2.306E-03\n",
      "NN pruified:  5.852E-05\n",
      "NN multified: 6.750E-17\n",
      "Error NN before: 1.706E-03\n",
      "Error NN multifed:  1.249E-03\n",
      "---------------------------\n"
     ]
    }
   ],
   "source": [
    "P_NN_multi = []\n",
    "for (s, p) in zip(*dataset.testing):\n",
    "#for (s, p) in zip(S_test, P_test):\n",
    "    \n",
    "    #s_norm = s.reshape(1, dim**2)\n",
    "    s_raw = reconstruct_from_triu(dataset.inverse_input_transform(s))\n",
    "    p_raw = reconstruct_from_triu(p)\n",
    "    \n",
    "    \n",
    "    print(\"Orig:         {:0.3E}\".format(idemp_error(p_raw, s_raw))) \n",
    "    \n",
    "    with graph.as_default():\n",
    "        p_nn = reconstruct_from_triu(network.run(sess, s.reshape(1, dim_triu)))\n",
    "        \n",
    "    print(\"NN:           {:0.3E}\".format(idemp_error(p_nn, s_raw)))\n",
    "    print(\"NN pruified:  {:0.3E}\".format(idemp_error(mc_wheeny_purification(p_nn, s_raw), s_raw)))\n",
    "    p_nn_multi = multi_mc_wheeny(p_nn, s_raw, n_max=5)\n",
    "    \n",
    "    P_NN_multi.append(extract_triu(p_nn_multi))\n",
    "    print(\"NN multified: {:0.3E}\".format(idemp_error(p_nn_multi, s_raw))) \n",
    "    print(\"Error NN before: {:0.3E}\".format(np.mean(np.abs(p_raw - p_nn))))\n",
    "    print(\"Error NN multifed:  {:0.3E}\".format(np.mean(np.abs(p_raw - p_nn_multi))))\n",
    "    print(\"---------------------------\")"
   ]
  },
  {
   "cell_type": "code",
   "execution_count": 10,
   "metadata": {},
   "outputs": [
    {
     "data": {
      "image/png": "[encoded data removed]",
      "text/plain": [
       "<matplotlib.figure.Figure at 0x7fee9c8840f0>"
      ]
     },
     "metadata": {},
     "output_type": "display_data"
    }
   ],
   "source": [
    "with graph.as_default():\n",
    "    plt.scatter(\n",
    "        dataset.testing[1].flatten(), \n",
    "        network.run(sess, dataset.testing[0]).flatten(),\n",
    "        label=\"orig\"\n",
    "    )\n",
    "    plt.scatter(\n",
    "        dataset.testing[1].flatten(), \n",
    "        np.array(P_NN_multi).flatten(),\n",
    "        label=\"pruified\"\n",
    "    )\n",
    "plt.legend()\n",
    "plt.show()"
   ]
  },
  {
   "cell_type": "code",
   "execution_count": 26,
   "metadata": {},
   "outputs": [
    {
     "name": "stderr",
     "output_type": "stream",
     "text": [
      "Warn: Ipython shell catchs sys.args\n"
     ]
    },
    {
     "name": "stdout",
     "output_type": "stream",
     "text": [
      "Calculating: 1/50\n",
      "Accuracy (MSE):\n",
      " -Noise: 7.625E-04\n",
      " -NN:    1.529E-03\n",
      " -Pruif: 1.047E-03\n",
      " -minao: 8.363E-02\n",
      "Idempotency:\n",
      " -Noise: 1.090E-03\n",
      " -Orig:  2.185E-03\n",
      " -Purif: 6.307E-17\n",
      " -minao: 1.267E-01\n"
     ]
    },
    {
     "name": "stderr",
     "output_type": "stream",
     "text": [
      "Warn: Ipython shell catchs sys.args\n"
     ]
    },
    {
     "name": "stdout",
     "output_type": "stream",
     "text": [
      "Calculating: 2/50\n",
      "Accuracy (MSE):\n",
      " -Noise: 8.144E-04\n",
      " -NN:    1.384E-03\n",
      " -Pruif: 9.056E-04\n",
      " -minao: 8.210E-02\n",
      "Idempotency:\n",
      " -Noise: 1.200E-03\n",
      " -Orig:  2.080E-03\n",
      " -Purif: 6.567E-17\n",
      " -minao: 1.249E-01\n"
     ]
    },
    {
     "name": "stderr",
     "output_type": "stream",
     "text": [
      "Warn: Ipython shell catchs sys.args\n"
     ]
    },
    {
     "name": "stdout",
     "output_type": "stream",
     "text": [
      "Calculating: 3/50\n",
      "Accuracy (MSE):\n",
      " -Noise: 7.752E-04\n",
      " -NN:    1.756E-03\n",
      " -Pruif: 1.310E-03\n",
      " -minao: 8.224E-02\n",
      "Idempotency:\n",
      " -Noise: 1.137E-03\n",
      " -Orig:  2.419E-03\n",
      " -Purif: 6.248E-17\n",
      " -minao: 1.216E-01\n"
     ]
    },
    {
     "name": "stderr",
     "output_type": "stream",
     "text": [
      "Warn: Ipython shell catchs sys.args\n"
     ]
    },
    {
     "name": "stdout",
     "output_type": "stream",
     "text": [
      "Calculating: 4/50\n",
      "Accuracy (MSE):\n",
      " -Noise: 7.677E-04\n",
      " -NN:    1.553E-03\n",
      " -Pruif: 1.136E-03\n",
      " -minao: 8.403E-02\n",
      "Idempotency:\n",
      " -Noise: 1.136E-03\n",
      " -Orig:  2.116E-03\n",
      " -Purif: 6.352E-17\n",
      " -minao: 1.250E-01\n"
     ]
    },
    {
     "name": "stderr",
     "output_type": "stream",
     "text": [
      "Warn: Ipython shell catchs sys.args\n"
     ]
    },
    {
     "name": "stdout",
     "output_type": "stream",
     "text": [
      "Calculating: 5/50\n",
      "Accuracy (MSE):\n",
      " -Noise: 8.265E-04\n",
      " -NN:    1.739E-03\n",
      " -Pruif: 1.441E-03\n",
      " -minao: 8.190E-02\n",
      "Idempotency:\n",
      " -Noise: 1.175E-03\n",
      " -Orig:  2.145E-03\n",
      " -Purif: 6.603E-17\n",
      " -minao: 1.221E-01\n"
     ]
    },
    {
     "name": "stderr",
     "output_type": "stream",
     "text": [
      "Warn: Ipython shell catchs sys.args\n"
     ]
    },
    {
     "name": "stdout",
     "output_type": "stream",
     "text": [
      "Calculating: 6/50\n",
      "Accuracy (MSE):\n",
      " -Noise: 7.795E-04\n",
      " -NN:    1.542E-03\n",
      " -Pruif: 1.064E-03\n",
      " -minao: 8.375E-02\n",
      "Idempotency:\n",
      " -Noise: 1.121E-03\n",
      " -Orig:  2.178E-03\n",
      " -Purif: 6.188E-17\n",
      " -minao: 1.264E-01\n"
     ]
    },
    {
     "name": "stderr",
     "output_type": "stream",
     "text": [
      "Warn: Ipython shell catchs sys.args\n"
     ]
    },
    {
     "name": "stdout",
     "output_type": "stream",
     "text": [
      "Calculating: 7/50\n",
      "Accuracy (MSE):\n",
      " -Noise: 7.808E-04\n",
      " -NN:    1.831E-03\n",
      " -Pruif: 1.304E-03\n",
      " -minao: 8.357E-02\n",
      "Idempotency:\n",
      " -Noise: 1.221E-03\n",
      " -Orig:  2.453E-03\n",
      " -Purif: 6.856E-17\n",
      " -minao: 1.276E-01\n"
     ]
    },
    {
     "name": "stderr",
     "output_type": "stream",
     "text": [
      "Warn: Ipython shell catchs sys.args\n"
     ]
    },
    {
     "name": "stdout",
     "output_type": "stream",
     "text": [
      "Calculating: 8/50\n",
      "Accuracy (MSE):\n",
      " -Noise: 7.794E-04\n",
      " -NN:    1.671E-03\n",
      " -Pruif: 1.236E-03\n",
      " -minao: 8.352E-02\n",
      "Idempotency:\n",
      " -Noise: 1.096E-03\n",
      " -Orig:  2.273E-03\n",
      " -Purif: 6.758E-17\n",
      " -minao: 1.230E-01\n"
     ]
    },
    {
     "name": "stderr",
     "output_type": "stream",
     "text": [
      "Warn: Ipython shell catchs sys.args\n"
     ]
    },
    {
     "name": "stdout",
     "output_type": "stream",
     "text": [
      "Calculating: 9/50\n",
      "Accuracy (MSE):\n",
      " -Noise: 8.006E-04\n",
      " -NN:    1.426E-03\n",
      " -Pruif: 1.037E-03\n",
      " -minao: 8.413E-02\n",
      "Idempotency:\n",
      " -Noise: 1.165E-03\n",
      " -Orig:  1.988E-03\n",
      " -Purif: 6.175E-17\n",
      " -minao: 1.250E-01\n"
     ]
    },
    {
     "name": "stderr",
     "output_type": "stream",
     "text": [
      "Warn: Ipython shell catchs sys.args\n"
     ]
    },
    {
     "name": "stdout",
     "output_type": "stream",
     "text": [
      "Calculating: 10/50\n",
      "Accuracy (MSE):\n",
      " -Noise: 7.865E-04\n",
      " -NN:    1.426E-03\n",
      " -Pruif: 1.047E-03\n",
      " -minao: 8.289E-02\n",
      "Idempotency:\n",
      " -Noise: 1.110E-03\n",
      " -Orig:  2.017E-03\n",
      " -Purif: 7.403E-17\n",
      " -minao: 1.246E-01\n"
     ]
    },
    {
     "name": "stderr",
     "output_type": "stream",
     "text": [
      "Warn: Ipython shell catchs sys.args\n"
     ]
    },
    {
     "name": "stdout",
     "output_type": "stream",
     "text": [
      "Calculating: 11/50\n",
      "Accuracy (MSE):\n",
      " -Noise: 8.490E-04\n",
      " -NN:    1.421E-03\n",
      " -Pruif: 9.721E-04\n",
      " -minao: 8.399E-02\n",
      "Idempotency:\n",
      " -Noise: 1.262E-03\n",
      " -Orig:  2.118E-03\n",
      " -Purif: 7.045E-17\n",
      " -minao: 1.262E-01\n"
     ]
    },
    {
     "name": "stderr",
     "output_type": "stream",
     "text": [
      "Warn: Ipython shell catchs sys.args\n"
     ]
    },
    {
     "name": "stdout",
     "output_type": "stream",
     "text": [
      "Calculating: 12/50\n",
      "Accuracy (MSE):\n",
      " -Noise: 7.618E-04\n",
      " -NN:    1.692E-03\n",
      " -Pruif: 1.205E-03\n",
      " -minao: 8.383E-02\n",
      "Idempotency:\n",
      " -Noise: 1.108E-03\n",
      " -Orig:  2.295E-03\n",
      " -Purif: 7.266E-17\n",
      " -minao: 1.272E-01\n"
     ]
    },
    {
     "name": "stderr",
     "output_type": "stream",
     "text": [
      "Warn: Ipython shell catchs sys.args\n"
     ]
    },
    {
     "name": "stdout",
     "output_type": "stream",
     "text": [
      "Calculating: 13/50\n",
      "Accuracy (MSE):\n",
      " -Noise: 8.099E-04\n",
      " -NN:    1.513E-03\n",
      " -Pruif: 1.139E-03\n",
      " -minao: 8.216E-02\n",
      "Idempotency:\n",
      " -Noise: 1.193E-03\n",
      " -Orig:  2.043E-03\n",
      " -Purif: 6.906E-17\n",
      " -minao: 1.248E-01\n"
     ]
    },
    {
     "name": "stderr",
     "output_type": "stream",
     "text": [
      "Warn: Ipython shell catchs sys.args\n"
     ]
    },
    {
     "name": "stdout",
     "output_type": "stream",
     "text": [
      "Calculating: 14/50\n",
      "Accuracy (MSE):\n",
      " -Noise: 7.929E-04\n",
      " -NN:    1.573E-03\n",
      " -Pruif: 1.118E-03\n",
      " -minao: 8.275E-02\n",
      "Idempotency:\n",
      " -Noise: 1.230E-03\n",
      " -Orig:  2.418E-03\n",
      " -Purif: 7.392E-17\n",
      " -minao: 1.220E-01\n"
     ]
    },
    {
     "name": "stderr",
     "output_type": "stream",
     "text": [
      "Warn: Ipython shell catchs sys.args\n"
     ]
    },
    {
     "name": "stdout",
     "output_type": "stream",
     "text": [
      "Calculating: 15/50\n",
      "Accuracy (MSE):\n",
      " -Noise: 7.800E-04\n",
      " -NN:    1.767E-03\n",
      " -Pruif: 1.510E-03\n",
      " -minao: 8.184E-02\n",
      "Idempotency:\n",
      " -Noise: 1.177E-03\n",
      " -Orig:  2.182E-03\n",
      " -Purif: 6.515E-17\n",
      " -minao: 1.224E-01\n"
     ]
    },
    {
     "name": "stderr",
     "output_type": "stream",
     "text": [
      "Warn: Ipython shell catchs sys.args\n"
     ]
    },
    {
     "name": "stdout",
     "output_type": "stream",
     "text": [
      "Calculating: 16/50\n",
      "Accuracy (MSE):\n",
      " -Noise: 7.376E-04\n",
      " -NN:    1.539E-03\n",
      " -Pruif: 1.108E-03\n",
      " -minao: 8.195E-02\n",
      "Idempotency:\n",
      " -Noise: 1.089E-03\n",
      " -Orig:  2.349E-03\n",
      " -Purif: 6.412E-17\n",
      " -minao: 1.238E-01\n"
     ]
    },
    {
     "name": "stderr",
     "output_type": "stream",
     "text": [
      "Warn: Ipython shell catchs sys.args\n"
     ]
    },
    {
     "name": "stdout",
     "output_type": "stream",
     "text": [
      "Calculating: 17/50\n",
      "Accuracy (MSE):\n",
      " -Noise: 7.753E-04\n",
      " -NN:    1.362E-03\n",
      " -Pruif: 1.063E-03\n",
      " -minao: 8.225E-02\n",
      "Idempotency:\n",
      " -Noise: 1.162E-03\n",
      " -Orig:  1.824E-03\n",
      " -Purif: 6.294E-17\n",
      " -minao: 1.229E-01\n"
     ]
    },
    {
     "name": "stderr",
     "output_type": "stream",
     "text": [
      "Warn: Ipython shell catchs sys.args\n"
     ]
    },
    {
     "name": "stdout",
     "output_type": "stream",
     "text": [
      "Calculating: 18/50\n",
      "Accuracy (MSE):\n",
      " -Noise: 7.905E-04\n",
      " -NN:    1.597E-03\n",
      " -Pruif: 1.059E-03\n",
      " -minao: 8.190E-02\n",
      "Idempotency:\n",
      " -Noise: 1.154E-03\n",
      " -Orig:  2.431E-03\n",
      " -Purif: 6.679E-17\n",
      " -minao: 1.260E-01\n"
     ]
    },
    {
     "name": "stderr",
     "output_type": "stream",
     "text": [
      "Warn: Ipython shell catchs sys.args\n"
     ]
    },
    {
     "name": "stdout",
     "output_type": "stream",
     "text": [
      "Calculating: 19/50\n",
      "Accuracy (MSE):\n",
      " -Noise: 7.746E-04\n",
      " -NN:    1.513E-03\n",
      " -Pruif: 1.132E-03\n",
      " -minao: 8.218E-02\n",
      "Idempotency:\n",
      " -Noise: 1.146E-03\n",
      " -Orig:  2.161E-03\n",
      " -Purif: 6.319E-17\n",
      " -minao: 1.235E-01\n"
     ]
    },
    {
     "name": "stderr",
     "output_type": "stream",
     "text": [
      "Warn: Ipython shell catchs sys.args\n"
     ]
    },
    {
     "name": "stdout",
     "output_type": "stream",
     "text": [
      "Calculating: 20/50\n",
      "Accuracy (MSE):\n",
      " -Noise: 8.049E-04\n",
      " -NN:    1.887E-03\n",
      " -Pruif: 1.467E-03\n",
      " -minao: 8.232E-02\n",
      "Idempotency:\n",
      " -Noise: 1.126E-03\n",
      " -Orig:  2.443E-03\n",
      " -Purif: 6.652E-17\n",
      " -minao: 1.210E-01\n"
     ]
    },
    {
     "name": "stderr",
     "output_type": "stream",
     "text": [
      "Warn: Ipython shell catchs sys.args\n"
     ]
    },
    {
     "name": "stdout",
     "output_type": "stream",
     "text": [
      "Calculating: 21/50\n",
      "Accuracy (MSE):\n",
      " -Noise: 8.017E-04\n",
      " -NN:    1.347E-03\n",
      " -Pruif: 9.178E-04\n",
      " -minao: 8.181E-02\n",
      "Idempotency:\n",
      " -Noise: 1.222E-03\n",
      " -Orig:  2.028E-03\n",
      " -Purif: 7.297E-17\n",
      " -minao: 1.235E-01\n"
     ]
    },
    {
     "name": "stderr",
     "output_type": "stream",
     "text": [
      "Warn: Ipython shell catchs sys.args\n"
     ]
    },
    {
     "name": "stdout",
     "output_type": "stream",
     "text": [
      "Calculating: 22/50\n",
      "Accuracy (MSE):\n",
      " -Noise: 7.894E-04\n",
      " -NN:    2.872E-03\n",
      " -Pruif: 2.068E-03\n",
      " -minao: 8.286E-02\n",
      "Idempotency:\n",
      " -Noise: 1.235E-03\n",
      " -Orig:  3.988E-03\n",
      " -Purif: 6.556E-17\n",
      " -minao: 1.256E-01\n"
     ]
    },
    {
     "name": "stderr",
     "output_type": "stream",
     "text": [
      "Warn: Ipython shell catchs sys.args\n"
     ]
    },
    {
     "name": "stdout",
     "output_type": "stream",
     "text": [
      "Calculating: 23/50\n",
      "Accuracy (MSE):\n",
      " -Noise: 7.568E-04\n",
      " -NN:    1.436E-03\n",
      " -Pruif: 9.796E-04\n",
      " -minao: 8.277E-02\n",
      "Idempotency:\n",
      " -Noise: 1.112E-03\n",
      " -Orig:  2.105E-03\n",
      " -Purif: 7.168E-17\n",
      " -minao: 1.244E-01\n"
     ]
    },
    {
     "name": "stderr",
     "output_type": "stream",
     "text": [
      "Warn: Ipython shell catchs sys.args\n"
     ]
    },
    {
     "name": "stdout",
     "output_type": "stream",
     "text": [
      "Calculating: 24/50\n",
      "Accuracy (MSE):\n",
      " -Noise: 7.947E-04\n",
      " -NN:    1.509E-03\n",
      " -Pruif: 1.015E-03\n",
      " -minao: 8.221E-02\n",
      "Idempotency:\n",
      " -Noise: 1.156E-03\n",
      " -Orig:  2.157E-03\n",
      " -Purif: 7.142E-17\n",
      " -minao: 1.218E-01\n"
     ]
    },
    {
     "name": "stderr",
     "output_type": "stream",
     "text": [
      "Warn: Ipython shell catchs sys.args\n"
     ]
    },
    {
     "name": "stdout",
     "output_type": "stream",
     "text": [
      "Calculating: 25/50\n",
      "Accuracy (MSE):\n",
      " -Noise: 8.012E-04\n",
      " -NN:    1.631E-03\n",
      " -Pruif: 1.207E-03\n",
      " -minao: 8.372E-02\n",
      "Idempotency:\n",
      " -Noise: 1.177E-03\n",
      " -Orig:  2.218E-03\n",
      " -Purif: 6.689E-17\n",
      " -minao: 1.255E-01\n"
     ]
    },
    {
     "name": "stderr",
     "output_type": "stream",
     "text": [
      "Warn: Ipython shell catchs sys.args\n"
     ]
    },
    {
     "name": "stdout",
     "output_type": "stream",
     "text": [
      "Calculating: 26/50\n",
      "Accuracy (MSE):\n",
      " -Noise: 8.268E-04\n",
      " -NN:    1.566E-03\n",
      " -Pruif: 1.184E-03\n",
      " -minao: 8.249E-02\n",
      "Idempotency:\n",
      " -Noise: 1.153E-03\n",
      " -Orig:  2.312E-03\n",
      " -Purif: 6.429E-17\n",
      " -minao: 1.209E-01\n"
     ]
    },
    {
     "name": "stderr",
     "output_type": "stream",
     "text": [
      "Warn: Ipython shell catchs sys.args\n"
     ]
    },
    {
     "name": "stdout",
     "output_type": "stream",
     "text": [
      "Calculating: 27/50\n",
      "Accuracy (MSE):\n",
      " -Noise: 8.178E-04\n",
      " -NN:    1.576E-03\n",
      " -Pruif: 1.118E-03\n",
      " -minao: 8.293E-02\n",
      "Idempotency:\n",
      " -Noise: 1.153E-03\n",
      " -Orig:  2.298E-03\n",
      " -Purif: 6.040E-17\n",
      " -minao: 1.264E-01\n"
     ]
    },
    {
     "name": "stderr",
     "output_type": "stream",
     "text": [
      "Warn: Ipython shell catchs sys.args\n"
     ]
    },
    {
     "name": "stdout",
     "output_type": "stream",
     "text": [
      "Calculating: 28/50\n",
      "Accuracy (MSE):\n",
      " -Noise: 8.017E-04\n",
      " -NN:    1.590E-03\n",
      " -Pruif: 1.198E-03\n",
      " -minao: 8.172E-02\n",
      "Idempotency:\n",
      " -Noise: 1.254E-03\n",
      " -Orig:  2.133E-03\n",
      " -Purif: 5.988E-17\n",
      " -minao: 1.229E-01\n"
     ]
    },
    {
     "name": "stderr",
     "output_type": "stream",
     "text": [
      "Warn: Ipython shell catchs sys.args\n"
     ]
    },
    {
     "name": "stdout",
     "output_type": "stream",
     "text": [
      "Calculating: 29/50\n",
      "Accuracy (MSE):\n",
      " -Noise: 8.028E-04\n",
      " -NN:    1.630E-03\n",
      " -Pruif: 1.228E-03\n",
      " -minao: 8.220E-02\n",
      "Idempotency:\n",
      " -Noise: 1.179E-03\n",
      " -Orig:  2.252E-03\n",
      " -Purif: 7.223E-17\n",
      " -minao: 1.220E-01\n"
     ]
    },
    {
     "name": "stderr",
     "output_type": "stream",
     "text": [
      "Warn: Ipython shell catchs sys.args\n"
     ]
    },
    {
     "name": "stdout",
     "output_type": "stream",
     "text": [
      "Calculating: 30/50\n",
      "Accuracy (MSE):\n",
      " -Noise: 7.690E-04\n",
      " -NN:    1.860E-03\n",
      " -Pruif: 1.299E-03\n",
      " -minao: 8.277E-02\n",
      "Idempotency:\n",
      " -Noise: 1.112E-03\n",
      " -Orig:  2.690E-03\n",
      " -Purif: 5.908E-17\n",
      " -minao: 1.255E-01\n"
     ]
    },
    {
     "name": "stderr",
     "output_type": "stream",
     "text": [
      "Warn: Ipython shell catchs sys.args\n"
     ]
    },
    {
     "name": "stdout",
     "output_type": "stream",
     "text": [
      "Calculating: 31/50\n",
      "Accuracy (MSE):\n",
      " -Noise: 7.869E-04\n",
      " -NN:    1.615E-03\n",
      " -Pruif: 1.124E-03\n",
      " -minao: 8.292E-02\n",
      "Idempotency:\n",
      " -Noise: 1.153E-03\n",
      " -Orig:  2.540E-03\n",
      " -Purif: 6.680E-17\n",
      " -minao: 1.224E-01\n"
     ]
    },
    {
     "name": "stderr",
     "output_type": "stream",
     "text": [
      "Warn: Ipython shell catchs sys.args\n"
     ]
    },
    {
     "name": "stdout",
     "output_type": "stream",
     "text": [
      "Calculating: 32/50\n",
      "Accuracy (MSE):\n",
      " -Noise: 7.765E-04\n",
      " -NN:    1.539E-03\n",
      " -Pruif: 1.154E-03\n",
      " -minao: 8.264E-02\n",
      "Idempotency:\n",
      " -Noise: 1.181E-03\n",
      " -Orig:  2.284E-03\n",
      " -Purif: 7.967E-17\n",
      " -minao: 1.222E-01\n"
     ]
    },
    {
     "name": "stderr",
     "output_type": "stream",
     "text": [
      "Warn: Ipython shell catchs sys.args\n"
     ]
    },
    {
     "name": "stdout",
     "output_type": "stream",
     "text": [
      "Calculating: 33/50\n",
      "Accuracy (MSE):\n",
      " -Noise: 7.760E-04\n",
      " -NN:    1.309E-03\n",
      " -Pruif: 9.514E-04\n",
      " -minao: 8.146E-02\n",
      "Idempotency:\n",
      " -Noise: 1.132E-03\n",
      " -Orig:  1.838E-03\n",
      " -Purif: 6.617E-17\n",
      " -minao: 1.231E-01\n"
     ]
    },
    {
     "name": "stderr",
     "output_type": "stream",
     "text": [
      "Warn: Ipython shell catchs sys.args\n"
     ]
    },
    {
     "name": "stdout",
     "output_type": "stream",
     "text": [
      "Calculating: 34/50\n",
      "Accuracy (MSE):\n",
      " -Noise: 7.909E-04\n",
      " -NN:    1.419E-03\n",
      " -Pruif: 1.004E-03\n",
      " -minao: 8.274E-02\n",
      "Idempotency:\n",
      " -Noise: 1.112E-03\n",
      " -Orig:  1.982E-03\n",
      " -Purif: 7.142E-17\n",
      " -minao: 1.273E-01\n"
     ]
    },
    {
     "name": "stderr",
     "output_type": "stream",
     "text": [
      "Warn: Ipython shell catchs sys.args\n"
     ]
    },
    {
     "name": "stdout",
     "output_type": "stream",
     "text": [
      "Calculating: 35/50\n",
      "Accuracy (MSE):\n",
      " -Noise: 8.037E-04\n",
      " -NN:    1.775E-03\n",
      " -Pruif: 1.229E-03\n",
      " -minao: 8.287E-02\n",
      "Idempotency:\n",
      " -Noise: 1.212E-03\n",
      " -Orig:  2.681E-03\n",
      " -Purif: 6.863E-17\n",
      " -minao: 1.236E-01\n"
     ]
    },
    {
     "name": "stderr",
     "output_type": "stream",
     "text": [
      "Warn: Ipython shell catchs sys.args\n"
     ]
    },
    {
     "name": "stdout",
     "output_type": "stream",
     "text": [
      "Calculating: 36/50\n",
      "Accuracy (MSE):\n",
      " -Noise: 7.775E-04\n",
      " -NN:    2.416E-03\n",
      " -Pruif: 1.748E-03\n",
      " -minao: 8.270E-02\n",
      "Idempotency:\n",
      " -Noise: 1.151E-03\n",
      " -Orig:  3.275E-03\n",
      " -Purif: 6.985E-17\n",
      " -minao: 1.259E-01\n"
     ]
    },
    {
     "name": "stderr",
     "output_type": "stream",
     "text": [
      "Warn: Ipython shell catchs sys.args\n"
     ]
    },
    {
     "name": "stdout",
     "output_type": "stream",
     "text": [
      "Calculating: 37/50\n",
      "Accuracy (MSE):\n",
      " -Noise: 8.041E-04\n",
      " -NN:    1.724E-03\n",
      " -Pruif: 1.316E-03\n",
      " -minao: 8.237E-02\n",
      "Idempotency:\n",
      " -Noise: 1.083E-03\n",
      " -Orig:  2.445E-03\n",
      " -Purif: 6.993E-17\n",
      " -minao: 1.209E-01\n"
     ]
    },
    {
     "name": "stderr",
     "output_type": "stream",
     "text": [
      "Warn: Ipython shell catchs sys.args\n"
     ]
    },
    {
     "name": "stdout",
     "output_type": "stream",
     "text": [
      "Calculating: 38/50\n",
      "Accuracy (MSE):\n",
      " -Noise: 7.911E-04\n",
      " -NN:    1.414E-03\n",
      " -Pruif: 9.149E-04\n",
      " -minao: 8.254E-02\n",
      "Idempotency:\n",
      " -Noise: 1.131E-03\n",
      " -Orig:  2.111E-03\n",
      " -Purif: 6.560E-17\n",
      " -minao: 1.245E-01\n"
     ]
    },
    {
     "name": "stderr",
     "output_type": "stream",
     "text": [
      "Warn: Ipython shell catchs sys.args\n"
     ]
    },
    {
     "name": "stdout",
     "output_type": "stream",
     "text": [
      "Calculating: 39/50\n",
      "Accuracy (MSE):\n",
      " -Noise: 8.063E-04\n",
      " -NN:    1.517E-03\n",
      " -Pruif: 1.088E-03\n",
      " -minao: 8.218E-02\n",
      "Idempotency:\n",
      " -Noise: 1.144E-03\n",
      " -Orig:  2.263E-03\n",
      " -Purif: 6.542E-17\n",
      " -minao: 1.231E-01\n"
     ]
    },
    {
     "name": "stderr",
     "output_type": "stream",
     "text": [
      "Warn: Ipython shell catchs sys.args\n"
     ]
    },
    {
     "name": "stdout",
     "output_type": "stream",
     "text": [
      "Calculating: 40/50\n",
      "Accuracy (MSE):\n",
      " -Noise: 8.112E-04\n",
      " -NN:    1.480E-03\n",
      " -Pruif: 1.130E-03\n",
      " -minao: 8.201E-02\n",
      "Idempotency:\n",
      " -Noise: 1.167E-03\n",
      " -Orig:  2.068E-03\n",
      " -Purif: 6.703E-17\n",
      " -minao: 1.241E-01\n"
     ]
    },
    {
     "name": "stderr",
     "output_type": "stream",
     "text": [
      "Warn: Ipython shell catchs sys.args\n"
     ]
    },
    {
     "name": "stdout",
     "output_type": "stream",
     "text": [
      "Calculating: 41/50\n",
      "Accuracy (MSE):\n",
      " -Noise: 7.785E-04\n",
      " -NN:    1.441E-03\n",
      " -Pruif: 1.125E-03\n",
      " -minao: 8.186E-02\n",
      "Idempotency:\n",
      " -Noise: 1.108E-03\n",
      " -Orig:  1.968E-03\n",
      " -Purif: 6.502E-17\n",
      " -minao: 1.248E-01\n"
     ]
    },
    {
     "name": "stderr",
     "output_type": "stream",
     "text": [
      "Warn: Ipython shell catchs sys.args\n"
     ]
    },
    {
     "name": "stdout",
     "output_type": "stream",
     "text": [
      "Calculating: 42/50\n",
      "Accuracy (MSE):\n",
      " -Noise: 7.823E-04\n",
      " -NN:    1.682E-03\n",
      " -Pruif: 1.231E-03\n",
      " -minao: 8.295E-02\n",
      "Idempotency:\n",
      " -Noise: 1.104E-03\n",
      " -Orig:  2.302E-03\n",
      " -Purif: 7.281E-17\n",
      " -minao: 1.294E-01\n"
     ]
    },
    {
     "name": "stderr",
     "output_type": "stream",
     "text": [
      "Warn: Ipython shell catchs sys.args\n"
     ]
    },
    {
     "name": "stdout",
     "output_type": "stream",
     "text": [
      "Calculating: 43/50\n",
      "Accuracy (MSE):\n",
      " -Noise: 7.973E-04\n",
      " -NN:    1.555E-03\n",
      " -Pruif: 1.077E-03\n",
      " -minao: 8.257E-02\n",
      "Idempotency:\n",
      " -Noise: 1.229E-03\n",
      " -Orig:  2.290E-03\n",
      " -Purif: 6.264E-17\n",
      " -minao: 1.229E-01\n"
     ]
    },
    {
     "name": "stderr",
     "output_type": "stream",
     "text": [
      "Warn: Ipython shell catchs sys.args\n"
     ]
    },
    {
     "name": "stdout",
     "output_type": "stream",
     "text": [
      "Calculating: 44/50\n",
      "Accuracy (MSE):\n",
      " -Noise: 8.132E-04\n",
      " -NN:    1.427E-03\n",
      " -Pruif: 9.749E-04\n",
      " -minao: 8.307E-02\n",
      "Idempotency:\n",
      " -Noise: 1.165E-03\n",
      " -Orig:  2.090E-03\n",
      " -Purif: 6.574E-17\n",
      " -minao: 1.288E-01\n"
     ]
    },
    {
     "name": "stderr",
     "output_type": "stream",
     "text": [
      "Warn: Ipython shell catchs sys.args\n"
     ]
    },
    {
     "name": "stdout",
     "output_type": "stream",
     "text": [
      "Calculating: 45/50\n",
      "Accuracy (MSE):\n",
      " -Noise: 8.193E-04\n",
      " -NN:    1.334E-03\n",
      " -Pruif: 9.328E-04\n",
      " -minao: 8.297E-02\n",
      "Idempotency:\n",
      " -Noise: 1.171E-03\n",
      " -Orig:  1.972E-03\n",
      " -Purif: 7.540E-17\n",
      " -minao: 1.275E-01\n"
     ]
    },
    {
     "name": "stderr",
     "output_type": "stream",
     "text": [
      "Warn: Ipython shell catchs sys.args\n"
     ]
    },
    {
     "name": "stdout",
     "output_type": "stream",
     "text": [
      "Calculating: 46/50\n",
      "Accuracy (MSE):\n",
      " -Noise: 7.766E-04\n",
      " -NN:    1.302E-03\n",
      " -Pruif: 9.317E-04\n",
      " -minao: 8.278E-02\n",
      "Idempotency:\n",
      " -Noise: 1.134E-03\n",
      " -Orig:  1.950E-03\n",
      " -Purif: 6.798E-17\n",
      " -minao: 1.286E-01\n"
     ]
    },
    {
     "name": "stderr",
     "output_type": "stream",
     "text": [
      "Warn: Ipython shell catchs sys.args\n"
     ]
    },
    {
     "name": "stdout",
     "output_type": "stream",
     "text": [
      "Calculating: 47/50\n",
      "Accuracy (MSE):\n",
      " -Noise: 8.229E-04\n",
      " -NN:    1.606E-03\n",
      " -Pruif: 1.123E-03\n",
      " -minao: 8.257E-02\n",
      "Idempotency:\n",
      " -Noise: 1.235E-03\n",
      " -Orig:  2.320E-03\n",
      " -Purif: 6.297E-17\n",
      " -minao: 1.222E-01\n"
     ]
    },
    {
     "name": "stderr",
     "output_type": "stream",
     "text": [
      "Warn: Ipython shell catchs sys.args\n"
     ]
    },
    {
     "name": "stdout",
     "output_type": "stream",
     "text": [
      "Calculating: 48/50\n",
      "Accuracy (MSE):\n",
      " -Noise: 7.804E-04\n",
      " -NN:    1.386E-03\n",
      " -Pruif: 9.004E-04\n",
      " -minao: 8.404E-02\n",
      "Idempotency:\n",
      " -Noise: 1.102E-03\n",
      " -Orig:  2.108E-03\n",
      " -Purif: 6.474E-17\n",
      " -minao: 1.265E-01\n"
     ]
    },
    {
     "name": "stderr",
     "output_type": "stream",
     "text": [
      "Warn: Ipython shell catchs sys.args\n"
     ]
    },
    {
     "name": "stdout",
     "output_type": "stream",
     "text": [
      "Calculating: 49/50\n",
      "Accuracy (MSE):\n",
      " -Noise: 7.977E-04\n",
      " -NN:    1.522E-03\n",
      " -Pruif: 1.146E-03\n",
      " -minao: 8.300E-02\n",
      "Idempotency:\n",
      " -Noise: 1.230E-03\n",
      " -Orig:  2.164E-03\n",
      " -Purif: 7.191E-17\n",
      " -minao: 1.257E-01\n"
     ]
    },
    {
     "name": "stderr",
     "output_type": "stream",
     "text": [
      "Warn: Ipython shell catchs sys.args\n"
     ]
    },
    {
     "name": "stdout",
     "output_type": "stream",
     "text": [
      "Calculating: 50/50\n",
      "Accuracy (MSE):\n",
      " -Noise: 7.971E-04\n",
      " -NN:    1.706E-03\n",
      " -Pruif: 1.249E-03\n",
      " -minao: 8.350E-02\n",
      "Idempotency:\n",
      " -Noise: 1.214E-03\n",
      " -Orig:  2.306E-03\n",
      " -Purif: 8.080E-17\n",
      " -minao: 1.231E-01\n"
     ]
    }
   ],
   "source": [
    "from pyscf.scf import hf\n",
    "from SCFInitialGuess.utilities.analysis import prediction_scatter\n",
    "\n",
    "keys = [\"minao\", \"noise\", \"nn\", \"nn_purified\"]\n",
    "\n",
    "iterations = {}\n",
    "for k in keys:\n",
    "    iterations[k] = []\n",
    "\n",
    "for i, (molecule, p) in enumerate(zip(molecules_test, P_test)):\n",
    "    \n",
    "    mol = molecule.get_pyscf_molecule()\n",
    "    \n",
    "    \n",
    "    print(\"Calculating: \" + str(i + 1) + \"/\" + str(len(molecules_test)))\n",
    "    \n",
    "    guesses = {}\n",
    "\n",
    "    s_raw = hf.get_ovlp(mol)\n",
    "    s_norm = dataset.input_transformation(extract_triu(s_raw)).reshape(1, dim_triu)\n",
    "    \n",
    "    # pyscf init guess\n",
    "    p_minao = hf.init_guess_by_minao(mol)\n",
    "    guesses[\"minao\"] = p_minao\n",
    "        \n",
    "    # P_actual wi noise\n",
    "    p_raw = reconstruct_from_triu(p)\n",
    "    p_noise = p_raw + np.random.randn(dim, dim) * 1e-3\n",
    "    guesses[\"noise\"] = p_noise\n",
    "    \n",
    "    \n",
    "    with graph.as_default():\n",
    "        p_orig = reconstruct_from_triu(network.run(sess, s_norm)).astype('float64')\n",
    "        \n",
    "    guesses[\"nn\"] = p_orig\n",
    "\n",
    "\n",
    "    p_purified = multi_mc_wheeny(p_orig, s_raw, n_max=5)\n",
    "    guesses[\"nn_purified\"] = p_purified\n",
    "\n",
    "    # check errors\n",
    "    print(\"Accuracy (MSE):\")\n",
    "    print(\" -Noise: {:0.3E}\".format(np.mean(np.abs(p_raw - p_noise))))\n",
    "    print(\" -NN:    {:0.3E}\".format(np.mean(np.abs(p_raw - p_orig))))\n",
    "    print(\" -Pruif: {:0.3E}\".format(np.mean(np.abs(p_raw - p_purified))))\n",
    "    print(\" -minao: {:0.3E}\".format(np.mean(np.abs(p_raw - p_minao))))\n",
    "    \n",
    "\n",
    "    print(\"Idempotency:\")\n",
    "    print(\" -Noise: {:0.3E}\".format(idemp_error(p_noise, s_raw)))\n",
    "    print(\" -Orig:  {:0.3E}\".format(idemp_error(p_orig, s_raw)))\n",
    "    print(\" -Purif: {:0.3E}\".format(idemp_error(p_purified, s_raw)))\n",
    "    print(\" -minao: {:0.3E}\".format(idemp_error(p_minao, s_raw)))\n",
    "\n",
    "    \n",
    "    \n",
    "    for (key, guess) in guesses.items():\n",
    "        mf = hf.RHF(mol)\n",
    "        mf.diis = None\n",
    "        mf.verbose = 1\n",
    "        mf.kernel(dm0=guess)\n",
    "        iterations[key].append(mf.iterations)\n",
    "\n",
    "        \n",
    "for k in keys:\n",
    "    iterations[k] = np.array(iterations[k])"
   ]
  },
  {
   "cell_type": "code",
   "execution_count": 27,
   "metadata": {},
   "outputs": [
    {
     "name": "stdout",
     "output_type": "stream",
     "text": [
      "minao: 13.68\n",
      "noise: 9.76\n",
      "nn: 11.66\n",
      "nn_purified: 9.54\n"
     ]
    }
   ],
   "source": [
    "for key, val in iterations.items():\n",
    "    print(key + \": \" + str(val.mean()))"
   ]
  },
  {
   "cell_type": "code",
   "execution_count": 28,
   "metadata": {},
   "outputs": [
    {
     "data": {
      "image/png": "[encoded data removed]",
      "text/plain": [
       "<matplotlib.figure.Figure at 0x7fee9c8aac50>"
      ]
     },
     "metadata": {},
     "output_type": "display_data"
    }
   ],
   "source": [
    "from SCFInitialGuess.utilities.analysis import iterations_histogram\n",
    "\n",
    "for key, val in iterations.items():\n",
    "    hist, bins = np.histogram(val)\n",
    "    center = (bins[:-1] + bins[1:]) / 2\n",
    "    #axes[i].bar(center, hist, label=name)\n",
    "    plt.bar(center, hist, label=key)\n",
    "    \n",
    "plt.legend()\n",
    "plt.show()\n",
    "plt.show()"
   ]
  },
  {
   "cell_type": "code",
   "execution_count": null,
   "metadata": {},
   "outputs": [],
   "source": []
  }
 ],
 "metadata": {
  "kernelspec": {
   "display_name": "Python 2",
   "language": "python",
   "name": "python2"
  },
  "language_info": {
   "codemirror_mode": {
    "name": "ipython",
    "version": 3
   },
   "file_extension": ".py",
   "mimetype": "text/x-python",
   "name": "python",
   "nbconvert_exporter": "python",
   "pygments_lexer": "ipython3",
   "version": "3.6.4"
  }
 },
 "nbformat": 4,
 "nbformat_minor": 2
}
