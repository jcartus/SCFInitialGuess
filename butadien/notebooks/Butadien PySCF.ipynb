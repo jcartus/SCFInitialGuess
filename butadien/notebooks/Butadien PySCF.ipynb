{
 "cells": [
  {
   "cell_type": "markdown",
   "metadata": {},
   "source": [
    "# Butadien II\n",
    "We will invetigate various Butadien configurations and train a network on it. The data will be solely pyscf generated this time."
   ]
  },
  {
   "cell_type": "code",
   "execution_count": 60,
   "metadata": {},
   "outputs": [],
   "source": [
    "import tensorflow as tf\n",
    "\n",
    "import numpy as np\n",
    "import matplotlib.pyplot as plt\n",
    "\n",
    "dim = 26\n",
    "\n",
    "#%matplotlib notebook\n",
    "\n",
    "figures_path = \"/home/jo/Repos/MastersThesis/InitialGuess/Butadien/figures/\"\n"
   ]
  },
  {
   "cell_type": "markdown",
   "metadata": {},
   "source": [
    "## Creating the dataset\n",
    "\n",
    "Split: Tresting 25 % (validation 10% and Traning 90%)"
   ]
  },
  {
   "cell_type": "code",
   "execution_count": 61,
   "metadata": {},
   "outputs": [],
   "source": [
    "S, P = np.load(\"../data/dataset.npy\")\n",
    "molecules = np.load(\"../data/molecules.npy\")"
   ]
  },
  {
   "cell_type": "code",
   "execution_count": 62,
   "metadata": {},
   "outputs": [
    {
     "name": "stdout",
     "output_type": "stream",
     "text": [
      "[-] 2018-04-14 01:04:28: Data set normalized. Mean value std: 0.008690842044725597\n"
     ]
    }
   ],
   "source": [
    "from SCFInitialGuess.utilities.dataset import Dataset\n",
    "\n",
    "ind_cut = 150\n",
    "index = np.arange(200)\n",
    "np.random.shuffle(index)\n",
    "\n",
    "S_test = np.array(S)[index[ind_cut:]]\n",
    "P_test = np.array(P)[index[ind_cut:]]\n",
    "molecules_test = [molecules[index[i]] for i in range(ind_cut, 200)]\n",
    "\n",
    "S_train = np.array(S)[index[:ind_cut]]\n",
    "P_train = np.array(P)[index[:ind_cut]]\n",
    "molecules_train = [molecules[index[i]] for i in range(ind_cut)]\n",
    "\n",
    "dataset = Dataset(np.array(S_train), np.array(P_train), split_test=0.0, split_validation=0.1)\n",
    "\n",
    "dataset.testing = (Dataset.normalize(S_test, mean=dataset.x_mean, std=dataset.x_std)[0], P_test)"
   ]
  },
  {
   "cell_type": "code",
   "execution_count": 63,
   "metadata": {},
   "outputs": [
    {
     "data": {
      "text/plain": [
       "(135, 15, 50)"
      ]
     },
     "execution_count": 63,
     "metadata": {},
     "output_type": "execute_result"
    }
   ],
   "source": [
    "len(dataset.training[0]), len(dataset.validation[0]), len(dataset.testing[0])"
   ]
  },
  {
   "cell_type": "code",
   "execution_count": 64,
   "metadata": {
    "scrolled": true
   },
   "outputs": [
    {
     "name": "stdout",
     "output_type": "stream",
     "text": [
      "[-] 2018-04-14 01:04:28: Setting up the graph ...\n",
      "[w] 2018-04-14 01:04:29: Careful! If more than 1 network is in current graph, it should be cleared before merging the summary!\n",
      "[-] 2018-04-14 01:04:29: Starting network training ...\n",
      "[ ] 2018-04-14 01:04:29: Validation cost: 5.80691E-02. Diff to prev.: 1.0E+10\n",
      "[ ] 2018-04-14 01:04:29: Validation cost: 2.40959E-04. Diff to prev.: 5.8E-02\n",
      "[ ] 2018-04-14 01:04:30: Validation cost: 7.60961E-05. Diff to prev.: 1.6E-04\n",
      "[ ] 2018-04-14 01:04:30: Validation cost: 4.62376E-05. Diff to prev.: 3.0E-05\n",
      "[ ] 2018-04-14 01:04:31: Validation cost: 3.08967E-05. Diff to prev.: 1.5E-05\n",
      "[ ] 2018-04-14 01:04:31: Validation cost: 2.27267E-05. Diff to prev.: 8.2E-06\n",
      "[ ] 2018-04-14 01:04:31: Validation cost: 1.89377E-05. Diff to prev.: 3.8E-06\n",
      "[ ] 2018-04-14 01:04:32: Validation cost: 2.88967E-05. Diff to prev.: 1.0E-05\n",
      "[ ] 2018-04-14 01:04:32: Validation cost: 2.90146E-05. Diff to prev.: 1.2E-07\n",
      "[ ] 2018-04-14 01:04:32: Validation cost: 1.64404E-05. Diff to prev.: 1.3E-05\n",
      "[ ] 2018-04-14 01:04:33: Validation cost: 2.08879E-05. Diff to prev.: 4.4E-06\n",
      "[ ] 2018-04-14 01:04:33: Validation cost: 3.74017E-05. Diff to prev.: 1.7E-05\n",
      "[ ] 2018-04-14 01:04:34: Validation cost: 4.10165E-05. Diff to prev.: 3.6E-06\n",
      "[ ] 2018-04-14 01:04:34: Validation cost: 1.02589E-05. Diff to prev.: 3.1E-05\n",
      "[ ] 2018-04-14 01:04:34: Validation cost: 9.51671E-06. Diff to prev.: 7.4E-07\n",
      "[ ] 2018-04-14 01:04:35: Validation cost: 9.93147E-06. Diff to prev.: 4.1E-07\n",
      "[ ] 2018-04-14 01:04:35: Validation cost: 1.09149E-05. Diff to prev.: 9.8E-07\n",
      "[ ] 2018-04-14 01:04:36: Validation cost: 2.18166E-05. Diff to prev.: 1.1E-05\n",
      "[ ] 2018-04-14 01:04:36: Validation cost: 2.45107E-05. Diff to prev.: 2.7E-06\n",
      "[ ] 2018-04-14 01:04:36: Validation cost: 2.53403E-05. Diff to prev.: 8.3E-07\n",
      "[ ] 2018-04-14 01:04:36: Validation cost: 2.13608E-05. Diff to prev.: 4.0E-06\n",
      "[ ] 2018-04-14 01:04:37: Validation cost: 6.80356E-06. Diff to prev.: 1.5E-05\n",
      "[ ] 2018-04-14 01:04:37: Validation cost: 7.35351E-06. Diff to prev.: 5.5E-07\n",
      "[ ] 2018-04-14 01:04:38: Validation cost: 6.30965E-06. Diff to prev.: 1.0E-06\n",
      "[ ] 2018-04-14 01:04:38: Validation cost: 8.60178E-06. Diff to prev.: 2.3E-06\n",
      "[ ] 2018-04-14 01:04:38: Validation cost: 7.14890E-06. Diff to prev.: 1.5E-06\n",
      "[ ] 2018-04-14 01:04:39: Validation cost: 9.00768E-06. Diff to prev.: 1.9E-06\n",
      "[ ] 2018-04-14 01:04:39: Validation cost: 1.09979E-05. Diff to prev.: 2.0E-06\n",
      "[ ] 2018-04-14 01:04:39: Validation cost: 2.17693E-05. Diff to prev.: 1.1E-05\n",
      "[ ] 2018-04-14 01:04:40: Validation cost: 5.07720E-06. Diff to prev.: 1.7E-05\n",
      "[ ] 2018-04-14 01:04:40: Validation cost: 3.86032E-06. Diff to prev.: 1.2E-06\n",
      "[ ] 2018-04-14 01:04:40: Validation cost: 4.92860E-06. Diff to prev.: 1.1E-06\n",
      "[ ] 2018-04-14 01:04:41: Validation cost: 3.60315E-06. Diff to prev.: 1.3E-06\n",
      "[ ] 2018-04-14 01:04:41: Validation cost: 3.84593E-06. Diff to prev.: 2.4E-07\n",
      "[ ] 2018-04-14 01:04:41: Validation cost: 5.52890E-06. Diff to prev.: 1.7E-06\n",
      "[ ] 2018-04-14 01:04:42: Validation cost: 7.16945E-06. Diff to prev.: 1.6E-06\n",
      "[ ] 2018-04-14 01:04:42: Validation cost: 7.93421E-06. Diff to prev.: 7.6E-07\n",
      "[ ] 2018-04-14 01:04:42: Validation cost: 1.31992E-05. Diff to prev.: 5.3E-06\n",
      "[ ] 2018-04-14 01:04:43: Validation cost: 3.99744E-06. Diff to prev.: 9.2E-06\n",
      "[ ] 2018-04-14 01:04:43: Validation cost: 2.33363E-06. Diff to prev.: 1.7E-06\n",
      "[ ] 2018-04-14 01:04:43: Validation cost: 4.02887E-06. Diff to prev.: 1.7E-06\n",
      "[ ] 2018-04-14 01:04:44: Validation cost: 5.01541E-06. Diff to prev.: 9.9E-07\n",
      "[ ] 2018-04-14 01:04:44: Validation cost: 9.60974E-06. Diff to prev.: 4.6E-06\n",
      "[ ] 2018-04-14 01:04:44: Validation cost: 3.42302E-06. Diff to prev.: 6.2E-06\n",
      "[ ] 2018-04-14 01:04:45: Validation cost: 2.52371E-06. Diff to prev.: 9.0E-07\n",
      "[ ] 2018-04-14 01:04:45: Validation cost: 7.05199E-06. Diff to prev.: 4.5E-06\n",
      "[ ] 2018-04-14 01:04:45: Validation cost: 2.47672E-05. Diff to prev.: 1.8E-05\n",
      "[ ] 2018-04-14 01:04:46: Validation cost: 2.33780E-06. Diff to prev.: 2.2E-05\n",
      "[ ] 2018-04-14 01:04:46: Validation cost: 1.68139E-06. Diff to prev.: 6.6E-07\n",
      "[ ] 2018-04-14 01:04:46: Validation cost: 2.21014E-06. Diff to prev.: 5.3E-07\n",
      "[ ] 2018-04-14 01:04:47: Validation cost: 3.47532E-06. Diff to prev.: 1.3E-06\n",
      "[ ] 2018-04-14 01:04:47: Validation cost: 1.59283E-05. Diff to prev.: 1.2E-05\n",
      "[ ] 2018-04-14 01:04:47: Validation cost: 2.66624E-06. Diff to prev.: 1.3E-05\n",
      "[ ] 2018-04-14 01:04:48: Validation cost: 4.35227E-06. Diff to prev.: 1.7E-06\n",
      "[ ] 2018-04-14 01:04:48: Validation cost: 1.00584E-05. Diff to prev.: 5.7E-06\n",
      "[ ] 2018-04-14 01:04:48: Validation cost: 7.97397E-06. Diff to prev.: 2.1E-06\n",
      "[ ] 2018-04-14 01:04:49: Validation cost: 4.57024E-06. Diff to prev.: 3.4E-06\n",
      "[ ] 2018-04-14 01:04:49: Validation cost: 3.47456E-06. Diff to prev.: 1.1E-06\n",
      "[ ] 2018-04-14 01:04:49: Validation cost: 5.93213E-06. Diff to prev.: 2.5E-06\n",
      "[ ] 2018-04-14 01:04:50: Validation cost: 8.55685E-06. Diff to prev.: 2.6E-06\n",
      "[ ] 2018-04-14 01:04:50: Validation cost: 4.36065E-06. Diff to prev.: 4.2E-06\n",
      "[ ] 2018-04-14 01:04:50: Validation cost: 1.33954E-05. Diff to prev.: 9.0E-06\n",
      "[ ] 2018-04-14 01:04:51: Validation cost: 5.73499E-06. Diff to prev.: 7.7E-06\n",
      "[ ] 2018-04-14 01:04:51: Validation cost: 2.50497E-06. Diff to prev.: 3.2E-06\n",
      "[ ] 2018-04-14 01:04:52: Validation cost: 5.14843E-06. Diff to prev.: 2.6E-06\n",
      "[ ] 2018-04-14 01:04:52: Validation cost: 1.56256E-05. Diff to prev.: 1.0E-05\n",
      "[ ] 2018-04-14 01:04:52: Validation cost: 4.31269E-06. Diff to prev.: 1.1E-05\n",
      "[ ] 2018-04-14 01:04:53: Validation cost: 2.65030E-06. Diff to prev.: 1.7E-06\n",
      "[ ] 2018-04-14 01:04:53: Validation cost: 1.23260E-05. Diff to prev.: 9.7E-06\n",
      "[ ] 2018-04-14 01:04:53: Validation cost: 3.30410E-06. Diff to prev.: 9.0E-06\n",
      "[ ] 2018-04-14 01:04:54: Validation cost: 2.62973E-06. Diff to prev.: 6.7E-07\n",
      "[ ] 2018-04-14 01:04:54: Validation cost: 7.02554E-06. Diff to prev.: 4.4E-06\n",
      "[ ] 2018-04-14 01:04:54: Validation cost: 9.91716E-06. Diff to prev.: 2.9E-06\n",
      "[ ] 2018-04-14 01:04:55: Validation cost: 5.50147E-06. Diff to prev.: 4.4E-06\n",
      "[ ] 2018-04-14 01:04:55: Validation cost: 2.02368E-06. Diff to prev.: 3.5E-06\n",
      "[ ] 2018-04-14 01:04:55: Validation cost: 8.71729E-06. Diff to prev.: 6.7E-06\n",
      "[ ] 2018-04-14 01:04:56: Validation cost: 4.94647E-06. Diff to prev.: 3.8E-06\n",
      "[ ] 2018-04-14 01:04:56: Validation cost: 8.31182E-06. Diff to prev.: 3.4E-06\n",
      "[ ] 2018-04-14 01:04:56: Validation cost: 3.62445E-06. Diff to prev.: 4.7E-06\n",
      "[ ] 2018-04-14 01:04:57: Validation cost: 4.34125E-06. Diff to prev.: 7.2E-07\n",
      "[ ] 2018-04-14 01:04:57: Validation cost: 9.33796E-06. Diff to prev.: 5.0E-06\n",
      "[ ] 2018-04-14 01:04:57: Validation cost: 7.54006E-06. Diff to prev.: 1.8E-06\n",
      "[ ] 2018-04-14 01:04:58: Validation cost: 5.83566E-06. Diff to prev.: 1.7E-06\n",
      "[ ] 2018-04-14 01:04:58: Validation cost: 4.15168E-06. Diff to prev.: 1.7E-06\n",
      "[ ] 2018-04-14 01:04:58: Validation cost: 6.74765E-06. Diff to prev.: 2.6E-06\n",
      "[ ] 2018-04-14 01:04:59: Validation cost: 4.97117E-06. Diff to prev.: 1.8E-06\n",
      "[ ] 2018-04-14 01:04:59: Validation cost: 3.56352E-06. Diff to prev.: 1.4E-06\n",
      "[ ] 2018-04-14 01:04:59: Validation cost: 2.70960E-06. Diff to prev.: 8.5E-07\n",
      "[ ] 2018-04-14 01:05:00: Validation cost: 1.49826E-05. Diff to prev.: 1.2E-05\n",
      "[ ] 2018-04-14 01:05:00: Validation cost: 3.59381E-06. Diff to prev.: 1.1E-05\n",
      "[ ] 2018-04-14 01:05:00: Validation cost: 2.69621E-06. Diff to prev.: 9.0E-07\n",
      "[ ] 2018-04-14 01:05:01: Validation cost: 4.05644E-06. Diff to prev.: 1.4E-06\n",
      "[ ] 2018-04-14 01:05:01: Validation cost: 5.72473E-06. Diff to prev.: 1.7E-06\n",
      "[ ] 2018-04-14 01:05:02: Validation cost: 1.01434E-05. Diff to prev.: 4.4E-06\n",
      "[ ] 2018-04-14 01:05:02: Validation cost: 4.68096E-06. Diff to prev.: 5.5E-06\n",
      "[ ] 2018-04-14 01:05:02: Validation cost: 1.07948E-05. Diff to prev.: 6.1E-06\n",
      "[ ] 2018-04-14 01:05:03: Validation cost: 2.41900E-06. Diff to prev.: 8.4E-06\n",
      "[ ] 2018-04-14 01:05:03: Validation cost: 4.07784E-06. Diff to prev.: 1.7E-06\n",
      "[ ] 2018-04-14 01:05:03: Validation cost: 3.02382E-06. Diff to prev.: 1.1E-06\n",
      "[ ] 2018-04-14 01:05:04: Validation cost: 9.11219E-06. Diff to prev.: 6.1E-06\n",
      "[ ] 2018-04-14 01:05:04: Validation cost: 4.76135E-06. Diff to prev.: 4.4E-06\n",
      "[ ] 2018-04-14 01:05:04: Validation cost: 9.55245E-06. Diff to prev.: 4.8E-06\n",
      "[ ] 2018-04-14 01:05:05: Validation cost: 5.29959E-06. Diff to prev.: 4.3E-06\n"
     ]
    },
    {
     "name": "stdout",
     "output_type": "stream",
     "text": [
      "[ ] 2018-04-14 01:05:05: Validation cost: 2.85845E-06. Diff to prev.: 2.4E-06\n",
      "[ ] 2018-04-14 01:05:05: Validation cost: 6.33589E-06. Diff to prev.: 3.5E-06\n",
      "[ ] 2018-04-14 01:05:06: Validation cost: 3.54838E-06. Diff to prev.: 2.8E-06\n",
      "[ ] 2018-04-14 01:05:06: Validation cost: 4.81646E-06. Diff to prev.: 1.3E-06\n",
      "[ ] 2018-04-14 01:05:06: Validation cost: 3.16926E-06. Diff to prev.: 1.6E-06\n",
      "[ ] 2018-04-14 01:05:07: Validation cost: 4.05964E-06. Diff to prev.: 8.9E-07\n",
      "[ ] 2018-04-14 01:05:07: Validation cost: 1.25101E-05. Diff to prev.: 8.5E-06\n",
      "[ ] 2018-04-14 01:05:07: Validation cost: 6.53870E-06. Diff to prev.: 6.0E-06\n",
      "[ ] 2018-04-14 01:05:08: Validation cost: 1.39609E-05. Diff to prev.: 7.4E-06\n",
      "[ ] 2018-04-14 01:05:08: Validation cost: 4.32950E-06. Diff to prev.: 9.6E-06\n",
      "[ ] 2018-04-14 01:05:08: Validation cost: 4.82788E-06. Diff to prev.: 5.0E-07\n",
      "[ ] 2018-04-14 01:05:09: Validation cost: 2.75890E-06. Diff to prev.: 2.1E-06\n",
      "[ ] 2018-04-14 01:05:09: Validation cost: 3.98103E-06. Diff to prev.: 1.2E-06\n",
      "[-] 2018-04-14 01:05:09: Convergence reached after 11600 steps.\n",
      "[-] 2018-04-14 01:05:09: Test error: 4.82527E-06\n"
     ]
    }
   ],
   "source": [
    "from SCFInitialGuess.nn.networks import EluTrNNN\n",
    "from SCFInitialGuess.nn.training import train_network\n",
    "from shutil import rmtree\n",
    "\n",
    "structure = [dim**2, 200, 100, dim**2]\n",
    "save_path = \"log/orig/\"\n",
    "\n",
    "try:\n",
    "    sess.close()\n",
    "except:\n",
    "    pass\n",
    "\n",
    "tf.reset_default_graph()\n",
    "try:\n",
    "    rmtree(save_path)\n",
    "except:\n",
    "    print(\"could not delete\")\n",
    "\n",
    "network, sess = train_network(\n",
    "    EluTrNNN(structure, log_histograms=True),\n",
    "    dataset,\n",
    "    evaluation_period=100,\n",
    "    mini_batch_size=20,\n",
    "    convergence_threshold=1e-7,\n",
    "    regularisation_parameter=1e-6,\n",
    "    summary_save_path=save_path\n",
    ")\n"
   ]
  },
  {
   "cell_type": "markdown",
   "metadata": {
    "collapsed": true
   },
   "source": [
    "## Analysis with test data"
   ]
  },
  {
   "cell_type": "markdown",
   "metadata": {},
   "source": [
    "### Scatter"
   ]
  },
  {
   "cell_type": "code",
   "execution_count": 65,
   "metadata": {},
   "outputs": [
    {
     "data": {
      "image/png": "[encoded data removed]",
      "text/plain": [
       "<matplotlib.figure.Figure at 0x7f47b405c908>"
      ]
     },
     "metadata": {},
     "output_type": "display_data"
    }
   ],
   "source": [
    "from functools import reduce\n",
    "\n",
    "\n",
    "flatten = lambda x, y: list(x) + list(y)\n",
    "\n",
    "\n",
    "#training\n",
    "expected = reduce(flatten, dataset.training[1])\n",
    "actual = reduce(flatten, \n",
    "    network.run(\n",
    "        sess, \n",
    "        dataset.training[0]\n",
    "    )\n",
    ")\n",
    "\n",
    "frac  = 1\n",
    "index = np.arange(int(np.floor(frac * len(actual))))\n",
    "np.random.shuffle(index)\n",
    "plt.scatter(np.array(expected)[index], np.array(actual)[index], label=\"training\")\n",
    "\n",
    "# test dataset\n",
    "expected = reduce(flatten, dataset.testing[1])\n",
    "actual = reduce(flatten, \n",
    "    network.run(\n",
    "        sess, \n",
    "        dataset.testing[0]\n",
    "    )\n",
    ")\n",
    "plt.scatter(expected,actual, marker=\"x\", label=\"test\")\n",
    "\n",
    "plt.legend()\n",
    "\n",
    "lower, upper = -1, 2.5\n",
    "plt.axis([lower, upper, lower, upper])\n",
    "plt.ylabel(\"prediction\")\n",
    "plt.xlabel(\"actual\")\n",
    "plt.show()"
   ]
  },
  {
   "cell_type": "markdown",
   "metadata": {
    "collapsed": true
   },
   "source": [
    "### Accumulated test error matrix"
   ]
  },
  {
   "cell_type": "code",
   "execution_count": 66,
   "metadata": {},
   "outputs": [
    {
     "name": "stdout",
     "output_type": "stream",
     "text": [
      "Mean abs. error: 0.0014520782941701926\n"
     ]
    },
    {
     "data": {
      "image/png": "[encoded data removed]",
      "text/plain": [
       "<matplotlib.figure.Figure at 0x7f47ad8ebe10>"
      ]
     },
     "metadata": {},
     "output_type": "display_data"
    }
   ],
   "source": [
    "from SCFInitialGuess.utilities.analysis import matrix_error\n",
    "\n",
    "error = np.zeros((dim, dim))\n",
    "for (x, y) in zip(*dataset.testing):\n",
    "    x = x.reshape(1, dim**2)\n",
    "    error += np.abs((y - network.run(sess, x)).reshape(dim, dim))\n",
    "error /= len(dataset.testing[0])\n",
    "\n",
    "print(\"Mean abs. error: \" + str(np.mean(error)))\n",
    "\n",
    "matrix_error(error)\n",
    "plt.show()"
   ]
  },
  {
   "cell_type": "markdown",
   "metadata": {},
   "source": [
    "### Iterations"
   ]
  },
  {
   "cell_type": "code",
   "execution_count": 67,
   "metadata": {},
   "outputs": [
    {
     "name": "stdout",
     "output_type": "stream",
     "text": [
      "Calculating: 1/50\n"
     ]
    },
    {
     "name": "stderr",
     "output_type": "stream",
     "text": [
      "Warn: Ipython shell catchs sys.args\n"
     ]
    },
    {
     "name": "stdout",
     "output_type": "stream",
     "text": [
      "Calculating: 2/50\n"
     ]
    },
    {
     "name": "stderr",
     "output_type": "stream",
     "text": [
      "Warn: Ipython shell catchs sys.args\n"
     ]
    },
    {
     "name": "stdout",
     "output_type": "stream",
     "text": [
      "Calculating: 3/50\n"
     ]
    },
    {
     "name": "stderr",
     "output_type": "stream",
     "text": [
      "Warn: Ipython shell catchs sys.args\n"
     ]
    },
    {
     "name": "stdout",
     "output_type": "stream",
     "text": [
      "Calculating: 4/50\n"
     ]
    },
    {
     "name": "stderr",
     "output_type": "stream",
     "text": [
      "Warn: Ipython shell catchs sys.args\n"
     ]
    },
    {
     "name": "stdout",
     "output_type": "stream",
     "text": [
      "Calculating: 5/50\n"
     ]
    },
    {
     "name": "stderr",
     "output_type": "stream",
     "text": [
      "Warn: Ipython shell catchs sys.args\n"
     ]
    },
    {
     "name": "stdout",
     "output_type": "stream",
     "text": [
      "Calculating: 6/50\n"
     ]
    },
    {
     "name": "stderr",
     "output_type": "stream",
     "text": [
      "Warn: Ipython shell catchs sys.args\n"
     ]
    },
    {
     "name": "stdout",
     "output_type": "stream",
     "text": [
      "Calculating: 7/50\n"
     ]
    },
    {
     "name": "stderr",
     "output_type": "stream",
     "text": [
      "Warn: Ipython shell catchs sys.args\n"
     ]
    },
    {
     "name": "stdout",
     "output_type": "stream",
     "text": [
      "Calculating: 8/50\n"
     ]
    },
    {
     "name": "stderr",
     "output_type": "stream",
     "text": [
      "Warn: Ipython shell catchs sys.args\n"
     ]
    },
    {
     "name": "stdout",
     "output_type": "stream",
     "text": [
      "Calculating: 9/50\n"
     ]
    },
    {
     "name": "stderr",
     "output_type": "stream",
     "text": [
      "Warn: Ipython shell catchs sys.args\n"
     ]
    },
    {
     "name": "stdout",
     "output_type": "stream",
     "text": [
      "Calculating: 10/50\n"
     ]
    },
    {
     "name": "stderr",
     "output_type": "stream",
     "text": [
      "Warn: Ipython shell catchs sys.args\n"
     ]
    },
    {
     "name": "stdout",
     "output_type": "stream",
     "text": [
      "Calculating: 11/50\n"
     ]
    },
    {
     "name": "stderr",
     "output_type": "stream",
     "text": [
      "Warn: Ipython shell catchs sys.args\n"
     ]
    },
    {
     "name": "stdout",
     "output_type": "stream",
     "text": [
      "Calculating: 12/50\n"
     ]
    },
    {
     "name": "stderr",
     "output_type": "stream",
     "text": [
      "Warn: Ipython shell catchs sys.args\n"
     ]
    },
    {
     "name": "stdout",
     "output_type": "stream",
     "text": [
      "Calculating: 13/50\n"
     ]
    },
    {
     "name": "stderr",
     "output_type": "stream",
     "text": [
      "Warn: Ipython shell catchs sys.args\n"
     ]
    },
    {
     "name": "stdout",
     "output_type": "stream",
     "text": [
      "Calculating: 14/50\n"
     ]
    },
    {
     "name": "stderr",
     "output_type": "stream",
     "text": [
      "Warn: Ipython shell catchs sys.args\n"
     ]
    },
    {
     "name": "stdout",
     "output_type": "stream",
     "text": [
      "Calculating: 15/50\n"
     ]
    },
    {
     "name": "stderr",
     "output_type": "stream",
     "text": [
      "Warn: Ipython shell catchs sys.args\n"
     ]
    },
    {
     "name": "stdout",
     "output_type": "stream",
     "text": [
      "Calculating: 16/50\n"
     ]
    },
    {
     "name": "stderr",
     "output_type": "stream",
     "text": [
      "Warn: Ipython shell catchs sys.args\n"
     ]
    },
    {
     "name": "stdout",
     "output_type": "stream",
     "text": [
      "Calculating: 17/50\n"
     ]
    },
    {
     "name": "stderr",
     "output_type": "stream",
     "text": [
      "Warn: Ipython shell catchs sys.args\n"
     ]
    },
    {
     "name": "stdout",
     "output_type": "stream",
     "text": [
      "Calculating: 18/50\n"
     ]
    },
    {
     "name": "stderr",
     "output_type": "stream",
     "text": [
      "Warn: Ipython shell catchs sys.args\n"
     ]
    },
    {
     "name": "stdout",
     "output_type": "stream",
     "text": [
      "Calculating: 19/50\n"
     ]
    },
    {
     "name": "stderr",
     "output_type": "stream",
     "text": [
      "Warn: Ipython shell catchs sys.args\n"
     ]
    },
    {
     "name": "stdout",
     "output_type": "stream",
     "text": [
      "Calculating: 20/50\n"
     ]
    },
    {
     "name": "stderr",
     "output_type": "stream",
     "text": [
      "Warn: Ipython shell catchs sys.args\n"
     ]
    },
    {
     "name": "stdout",
     "output_type": "stream",
     "text": [
      "Calculating: 21/50\n"
     ]
    },
    {
     "name": "stderr",
     "output_type": "stream",
     "text": [
      "Warn: Ipython shell catchs sys.args\n"
     ]
    },
    {
     "name": "stdout",
     "output_type": "stream",
     "text": [
      "Calculating: 22/50\n"
     ]
    },
    {
     "name": "stderr",
     "output_type": "stream",
     "text": [
      "Warn: Ipython shell catchs sys.args\n"
     ]
    },
    {
     "name": "stdout",
     "output_type": "stream",
     "text": [
      "Calculating: 23/50\n"
     ]
    },
    {
     "name": "stderr",
     "output_type": "stream",
     "text": [
      "Warn: Ipython shell catchs sys.args\n"
     ]
    },
    {
     "name": "stdout",
     "output_type": "stream",
     "text": [
      "Calculating: 24/50\n"
     ]
    },
    {
     "name": "stderr",
     "output_type": "stream",
     "text": [
      "Warn: Ipython shell catchs sys.args\n"
     ]
    },
    {
     "name": "stdout",
     "output_type": "stream",
     "text": [
      "Calculating: 25/50\n"
     ]
    },
    {
     "name": "stderr",
     "output_type": "stream",
     "text": [
      "Warn: Ipython shell catchs sys.args\n"
     ]
    },
    {
     "name": "stdout",
     "output_type": "stream",
     "text": [
      "Calculating: 26/50\n"
     ]
    },
    {
     "name": "stderr",
     "output_type": "stream",
     "text": [
      "Warn: Ipython shell catchs sys.args\n"
     ]
    },
    {
     "name": "stdout",
     "output_type": "stream",
     "text": [
      "Calculating: 27/50\n"
     ]
    },
    {
     "name": "stderr",
     "output_type": "stream",
     "text": [
      "Warn: Ipython shell catchs sys.args\n"
     ]
    },
    {
     "name": "stdout",
     "output_type": "stream",
     "text": [
      "Calculating: 28/50\n"
     ]
    },
    {
     "name": "stderr",
     "output_type": "stream",
     "text": [
      "Warn: Ipython shell catchs sys.args\n"
     ]
    },
    {
     "name": "stdout",
     "output_type": "stream",
     "text": [
      "Calculating: 29/50\n"
     ]
    },
    {
     "name": "stderr",
     "output_type": "stream",
     "text": [
      "Warn: Ipython shell catchs sys.args\n"
     ]
    },
    {
     "name": "stdout",
     "output_type": "stream",
     "text": [
      "Calculating: 30/50\n"
     ]
    },
    {
     "name": "stderr",
     "output_type": "stream",
     "text": [
      "Warn: Ipython shell catchs sys.args\n"
     ]
    },
    {
     "name": "stdout",
     "output_type": "stream",
     "text": [
      "Calculating: 31/50\n"
     ]
    },
    {
     "name": "stderr",
     "output_type": "stream",
     "text": [
      "Warn: Ipython shell catchs sys.args\n"
     ]
    },
    {
     "name": "stdout",
     "output_type": "stream",
     "text": [
      "Calculating: 32/50\n"
     ]
    },
    {
     "name": "stderr",
     "output_type": "stream",
     "text": [
      "Warn: Ipython shell catchs sys.args\n"
     ]
    },
    {
     "name": "stdout",
     "output_type": "stream",
     "text": [
      "Calculating: 33/50\n"
     ]
    },
    {
     "name": "stderr",
     "output_type": "stream",
     "text": [
      "Warn: Ipython shell catchs sys.args\n"
     ]
    },
    {
     "name": "stdout",
     "output_type": "stream",
     "text": [
      "Calculating: 34/50\n"
     ]
    },
    {
     "name": "stderr",
     "output_type": "stream",
     "text": [
      "Warn: Ipython shell catchs sys.args\n"
     ]
    },
    {
     "name": "stdout",
     "output_type": "stream",
     "text": [
      "Calculating: 35/50\n"
     ]
    },
    {
     "name": "stderr",
     "output_type": "stream",
     "text": [
      "Warn: Ipython shell catchs sys.args\n"
     ]
    },
    {
     "name": "stdout",
     "output_type": "stream",
     "text": [
      "Calculating: 36/50\n"
     ]
    },
    {
     "name": "stderr",
     "output_type": "stream",
     "text": [
      "Warn: Ipython shell catchs sys.args\n"
     ]
    },
    {
     "name": "stdout",
     "output_type": "stream",
     "text": [
      "Calculating: 37/50\n"
     ]
    },
    {
     "name": "stderr",
     "output_type": "stream",
     "text": [
      "Warn: Ipython shell catchs sys.args\n"
     ]
    },
    {
     "name": "stdout",
     "output_type": "stream",
     "text": [
      "Calculating: 38/50\n"
     ]
    },
    {
     "name": "stderr",
     "output_type": "stream",
     "text": [
      "Warn: Ipython shell catchs sys.args\n"
     ]
    },
    {
     "name": "stdout",
     "output_type": "stream",
     "text": [
      "Calculating: 39/50\n"
     ]
    },
    {
     "name": "stderr",
     "output_type": "stream",
     "text": [
      "Warn: Ipython shell catchs sys.args\n"
     ]
    },
    {
     "name": "stdout",
     "output_type": "stream",
     "text": [
      "Calculating: 40/50\n"
     ]
    },
    {
     "name": "stderr",
     "output_type": "stream",
     "text": [
      "Warn: Ipython shell catchs sys.args\n"
     ]
    },
    {
     "name": "stdout",
     "output_type": "stream",
     "text": [
      "Calculating: 41/50\n"
     ]
    },
    {
     "name": "stderr",
     "output_type": "stream",
     "text": [
      "Warn: Ipython shell catchs sys.args\n"
     ]
    },
    {
     "name": "stdout",
     "output_type": "stream",
     "text": [
      "Calculating: 42/50\n"
     ]
    },
    {
     "name": "stderr",
     "output_type": "stream",
     "text": [
      "Warn: Ipython shell catchs sys.args\n"
     ]
    },
    {
     "name": "stdout",
     "output_type": "stream",
     "text": [
      "Calculating: 43/50\n"
     ]
    },
    {
     "name": "stderr",
     "output_type": "stream",
     "text": [
      "Warn: Ipython shell catchs sys.args\n"
     ]
    },
    {
     "name": "stdout",
     "output_type": "stream",
     "text": [
      "Calculating: 44/50\n"
     ]
    },
    {
     "name": "stderr",
     "output_type": "stream",
     "text": [
      "Warn: Ipython shell catchs sys.args\n"
     ]
    },
    {
     "name": "stdout",
     "output_type": "stream",
     "text": [
      "Calculating: 45/50\n"
     ]
    },
    {
     "name": "stderr",
     "output_type": "stream",
     "text": [
      "Warn: Ipython shell catchs sys.args\n"
     ]
    },
    {
     "name": "stdout",
     "output_type": "stream",
     "text": [
      "Calculating: 46/50\n"
     ]
    },
    {
     "name": "stderr",
     "output_type": "stream",
     "text": [
      "Warn: Ipython shell catchs sys.args\n"
     ]
    },
    {
     "name": "stdout",
     "output_type": "stream",
     "text": [
      "Calculating: 47/50\n"
     ]
    },
    {
     "name": "stderr",
     "output_type": "stream",
     "text": [
      "Warn: Ipython shell catchs sys.args\n"
     ]
    },
    {
     "name": "stdout",
     "output_type": "stream",
     "text": [
      "Calculating: 48/50\n"
     ]
    },
    {
     "name": "stderr",
     "output_type": "stream",
     "text": [
      "Warn: Ipython shell catchs sys.args\n"
     ]
    },
    {
     "name": "stdout",
     "output_type": "stream",
     "text": [
      "Calculating: 49/50\n"
     ]
    },
    {
     "name": "stderr",
     "output_type": "stream",
     "text": [
      "Warn: Ipython shell catchs sys.args\n"
     ]
    },
    {
     "name": "stdout",
     "output_type": "stream",
     "text": [
      "Calculating: 50/50\n"
     ]
    },
    {
     "name": "stderr",
     "output_type": "stream",
     "text": [
      "Warn: Ipython shell catchs sys.args\n"
     ]
    }
   ],
   "source": [
    "from pyscf.scf import hf\n",
    "\n",
    "dim = 26\n",
    "\n",
    "keys = [\"H_core\", \"SAP\", \"MINAO\", \"NN\", \"Converged\", \"Converged w/ noise\"]\n",
    "\n",
    "iterations = {}\n",
    "for k in keys:\n",
    "    iterations[k] = []\n",
    "\n",
    "for i, (molecule, p) in enumerate(zip(molecules_test, P_test)):\n",
    "    \n",
    "    mol = molecule.get_pyscf_molecule()\n",
    "    \n",
    "    print(\"Calculating: \" + str(i + 1) + \"/\" + str(len(molecules_test)))\n",
    "    \n",
    "    guesses = {}\n",
    "    \n",
    "    # assemble pyscf initial guesses\n",
    "    guesses[\"H_core\"] = hf.init_guess_by_1e(mol)\n",
    "    guesses[\"SAP\"] = hf.init_guess_by_atom(mol)\n",
    "    guesses[\"MINAO\"] = hf.init_guess_by_minao(mol)\n",
    "    \n",
    "    # nn guess\n",
    "    s = hf.get_ovlp(mol).reshape(1, dim**2)\n",
    "    s = Dataset.normalize(s, mean=dataset.x_mean, std=dataset.x_std)[0]\n",
    "    guesses[\"NN\"] = network.run(sess, s).reshape(dim, dim).astype('float64')\n",
    "    \n",
    "    \n",
    "    # P_actual wi noise\n",
    "    guesses[\"Converged\"] = p.reshape(dim, dim)\n",
    "    guesses[\"Converged w/ noise\"] = p.reshape(dim, dim) + np.random.randn(dim, dim) * 1e-3\n",
    "    \n",
    "    \n",
    "    for (key, guess) in guesses.items():\n",
    "        mf = hf.RHF(mol)\n",
    "        mf.diis = None\n",
    "        mf.max_cycle = 50\n",
    "        mf.verbose = 1\n",
    "        mf.kernel(dm0=guess)\n",
    "        iterations[key].append(mf.iterations)\n",
    "\n",
    "for k in keys:\n",
    "    iterations[k] = np.array(iterations[k])"
   ]
  },
  {
   "cell_type": "code",
   "execution_count": 68,
   "metadata": {},
   "outputs": [
    {
     "name": "stdout",
     "output_type": "stream",
     "text": [
      "H_core: 50.0\n",
      "SAP: 14.92\n",
      "MINAO: 13.82\n",
      "NN: 12.6\n",
      "Converged: 1.0\n",
      "Converged w/ noise: 9.8\n"
     ]
    }
   ],
   "source": [
    "for key, val in iterations.items():\n",
    "    print(key + \": \" + str(val.mean()))"
   ]
  },
  {
   "cell_type": "code",
   "execution_count": 69,
   "metadata": {},
   "outputs": [
    {
     "data": {
      "image/png": "[encoded data removed]",
      "text/plain": [
       "<matplotlib.figure.Figure at 0x7f47fc45cfd0>"
      ]
     },
     "metadata": {},
     "output_type": "display_data"
    }
   ],
   "source": [
    "from SCFInitialGuess.utilities.analysis import iterations_histogram\n",
    "\n",
    "def norm_hist(x):\n",
    "    return x / np.sum(x)\n",
    "\n",
    "for key in [\"H_core\", \"SAP\", \"MINAO\", \"Converged w/ noise\"]:\n",
    "    val = iterations[key]\n",
    "    hist, bins = np.histogram(val)\n",
    "    \n",
    "    center = (bins[:-1] + bins[1:]) / 2\n",
    "    #axes[i].bar(center, hist, label=name)\n",
    "    \n",
    "    plt.bar(center, norm_hist(hist), label=key)\n",
    "    \n",
    "plt.legend()\n",
    "\n",
    "plt.show()"
   ]
  },
  {
   "cell_type": "code",
   "execution_count": 88,
   "metadata": {},
   "outputs": [
    {
     "data": {
      "image/png": "[encoded data removed]",
      "text/plain": [
       "<matplotlib.figure.Figure at 0x7f47c80c6320>"
      ]
     },
     "metadata": {},
     "output_type": "display_data"
    }
   ],
   "source": [
    "from SCFInitialGuess.utilities.analysis import iterations_histogram\n",
    "\n",
    "def norm_hist(x):\n",
    "    return x / np.sum(x)\n",
    "\n",
    "for key in [\"SAP\", \"MINAO\", \"Converged w/ noise\"]:\n",
    "    val = iterations[key]\n",
    "    hist, bins = np.histogram(val, bins=40)\n",
    "    \n",
    "    center = (bins[:-1] + bins[1:]) / 2\n",
    "    #axes[i].bar(center, hist, label=name)\n",
    "    \n",
    "    plt.bar(center, norm_hist(hist), label=key)\n",
    "    \n",
    "plt.legend()\n",
    "plt.savefig(figures_path + \"IterationsHistogramClassics.png\")\n",
    "plt.show()"
   ]
  },
  {
   "cell_type": "markdown",
   "metadata": {},
   "source": [
    "### Comparing the others against the result\n",
    "TODO: matrix plot von fehler der jeweiligen initial guesses"
   ]
  },
  {
   "cell_type": "code",
   "execution_count": 71,
   "metadata": {
    "scrolled": true
   },
   "outputs": [
    {
     "name": "stdout",
     "output_type": "stream",
     "text": [
      "Calculating: 1/50\n",
      "Calculating: 2/50\n"
     ]
    },
    {
     "name": "stderr",
     "output_type": "stream",
     "text": [
      "Warn: Ipython shell catchs sys.args\n",
      "Warn: Ipython shell catchs sys.args\n"
     ]
    },
    {
     "name": "stdout",
     "output_type": "stream",
     "text": [
      "Calculating: 3/50\n",
      "Calculating: 4/50\n"
     ]
    },
    {
     "name": "stderr",
     "output_type": "stream",
     "text": [
      "Warn: Ipython shell catchs sys.args\n",
      "Warn: Ipython shell catchs sys.args\n"
     ]
    },
    {
     "name": "stdout",
     "output_type": "stream",
     "text": [
      "Calculating: 5/50\n",
      "Calculating: 6/50\n"
     ]
    },
    {
     "name": "stderr",
     "output_type": "stream",
     "text": [
      "Warn: Ipython shell catchs sys.args\n",
      "Warn: Ipython shell catchs sys.args\n"
     ]
    },
    {
     "name": "stdout",
     "output_type": "stream",
     "text": [
      "Calculating: 7/50\n",
      "Calculating: 8/50\n"
     ]
    },
    {
     "name": "stderr",
     "output_type": "stream",
     "text": [
      "Warn: Ipython shell catchs sys.args\n",
      "Warn: Ipython shell catchs sys.args\n"
     ]
    },
    {
     "name": "stdout",
     "output_type": "stream",
     "text": [
      "Calculating: 9/50\n",
      "Calculating: 10/50\n"
     ]
    },
    {
     "name": "stderr",
     "output_type": "stream",
     "text": [
      "Warn: Ipython shell catchs sys.args\n",
      "Warn: Ipython shell catchs sys.args\n"
     ]
    },
    {
     "name": "stdout",
     "output_type": "stream",
     "text": [
      "Calculating: 11/50\n",
      "Calculating: 12/50\n"
     ]
    },
    {
     "name": "stderr",
     "output_type": "stream",
     "text": [
      "Warn: Ipython shell catchs sys.args\n",
      "Warn: Ipython shell catchs sys.args\n"
     ]
    },
    {
     "name": "stdout",
     "output_type": "stream",
     "text": [
      "Calculating: 13/50\n",
      "Calculating: 14/50\n"
     ]
    },
    {
     "name": "stderr",
     "output_type": "stream",
     "text": [
      "Warn: Ipython shell catchs sys.args\n",
      "Warn: Ipython shell catchs sys.args\n"
     ]
    },
    {
     "name": "stdout",
     "output_type": "stream",
     "text": [
      "Calculating: 15/50\n",
      "Calculating: 16/50\n"
     ]
    },
    {
     "name": "stderr",
     "output_type": "stream",
     "text": [
      "Warn: Ipython shell catchs sys.args\n",
      "Warn: Ipython shell catchs sys.args\n"
     ]
    },
    {
     "name": "stdout",
     "output_type": "stream",
     "text": [
      "Calculating: 17/50\n",
      "Calculating: 18/50\n"
     ]
    },
    {
     "name": "stderr",
     "output_type": "stream",
     "text": [
      "Warn: Ipython shell catchs sys.args\n",
      "Warn: Ipython shell catchs sys.args\n"
     ]
    },
    {
     "name": "stdout",
     "output_type": "stream",
     "text": [
      "Calculating: 19/50\n",
      "Calculating: 20/50\n"
     ]
    },
    {
     "name": "stderr",
     "output_type": "stream",
     "text": [
      "Warn: Ipython shell catchs sys.args\n",
      "Warn: Ipython shell catchs sys.args\n"
     ]
    },
    {
     "name": "stdout",
     "output_type": "stream",
     "text": [
      "Calculating: 21/50\n",
      "Calculating: 22/50\n"
     ]
    },
    {
     "name": "stderr",
     "output_type": "stream",
     "text": [
      "Warn: Ipython shell catchs sys.args\n",
      "Warn: Ipython shell catchs sys.args\n"
     ]
    },
    {
     "name": "stdout",
     "output_type": "stream",
     "text": [
      "Calculating: 23/50\n",
      "Calculating: 24/50\n"
     ]
    },
    {
     "name": "stderr",
     "output_type": "stream",
     "text": [
      "Warn: Ipython shell catchs sys.args\n",
      "Warn: Ipython shell catchs sys.args\n"
     ]
    },
    {
     "name": "stdout",
     "output_type": "stream",
     "text": [
      "Calculating: 25/50\n",
      "Calculating: 26/50\n"
     ]
    },
    {
     "name": "stderr",
     "output_type": "stream",
     "text": [
      "Warn: Ipython shell catchs sys.args\n",
      "Warn: Ipython shell catchs sys.args\n"
     ]
    },
    {
     "name": "stdout",
     "output_type": "stream",
     "text": [
      "Calculating: 27/50\n",
      "Calculating: 28/50\n"
     ]
    },
    {
     "name": "stderr",
     "output_type": "stream",
     "text": [
      "Warn: Ipython shell catchs sys.args\n",
      "Warn: Ipython shell catchs sys.args\n"
     ]
    },
    {
     "name": "stdout",
     "output_type": "stream",
     "text": [
      "Calculating: 29/50\n",
      "Calculating: 30/50\n"
     ]
    },
    {
     "name": "stderr",
     "output_type": "stream",
     "text": [
      "Warn: Ipython shell catchs sys.args\n",
      "Warn: Ipython shell catchs sys.args\n"
     ]
    },
    {
     "name": "stdout",
     "output_type": "stream",
     "text": [
      "Calculating: 31/50\n"
     ]
    },
    {
     "name": "stderr",
     "output_type": "stream",
     "text": [
      "Warn: Ipython shell catchs sys.args\n"
     ]
    },
    {
     "name": "stdout",
     "output_type": "stream",
     "text": [
      "Calculating: 32/50\n"
     ]
    },
    {
     "name": "stderr",
     "output_type": "stream",
     "text": [
      "Warn: Ipython shell catchs sys.args\n",
      "Warn: Ipython shell catchs sys.args\n"
     ]
    },
    {
     "name": "stdout",
     "output_type": "stream",
     "text": [
      "Calculating: 33/50\n",
      "Calculating: 34/50\n",
      "Calculating: 35/50\n"
     ]
    },
    {
     "name": "stderr",
     "output_type": "stream",
     "text": [
      "Warn: Ipython shell catchs sys.args\n",
      "Warn: Ipython shell catchs sys.args\n"
     ]
    },
    {
     "name": "stdout",
     "output_type": "stream",
     "text": [
      "Calculating: 36/50\n",
      "Calculating: 37/50\n"
     ]
    },
    {
     "name": "stderr",
     "output_type": "stream",
     "text": [
      "Warn: Ipython shell catchs sys.args\n",
      "Warn: Ipython shell catchs sys.args\n"
     ]
    },
    {
     "name": "stdout",
     "output_type": "stream",
     "text": [
      "Calculating: 38/50\n",
      "Calculating: 39/50\n"
     ]
    },
    {
     "name": "stderr",
     "output_type": "stream",
     "text": [
      "Warn: Ipython shell catchs sys.args\n",
      "Warn: Ipython shell catchs sys.args\n"
     ]
    },
    {
     "name": "stdout",
     "output_type": "stream",
     "text": [
      "Calculating: 40/50\n",
      "Calculating: 41/50\n"
     ]
    },
    {
     "name": "stderr",
     "output_type": "stream",
     "text": [
      "Warn: Ipython shell catchs sys.args\n",
      "Warn: Ipython shell catchs sys.args\n"
     ]
    },
    {
     "name": "stdout",
     "output_type": "stream",
     "text": [
      "Calculating: 42/50\n",
      "Calculating: 43/50\n"
     ]
    },
    {
     "name": "stderr",
     "output_type": "stream",
     "text": [
      "Warn: Ipython shell catchs sys.args\n",
      "Warn: Ipython shell catchs sys.args\n"
     ]
    },
    {
     "name": "stdout",
     "output_type": "stream",
     "text": [
      "Calculating: 44/50\n",
      "Calculating: 45/50\n"
     ]
    },
    {
     "name": "stderr",
     "output_type": "stream",
     "text": [
      "Warn: Ipython shell catchs sys.args\n",
      "Warn: Ipython shell catchs sys.args\n"
     ]
    },
    {
     "name": "stdout",
     "output_type": "stream",
     "text": [
      "Calculating: 46/50\n",
      "Calculating: 47/50\n"
     ]
    },
    {
     "name": "stderr",
     "output_type": "stream",
     "text": [
      "Warn: Ipython shell catchs sys.args\n",
      "Warn: Ipython shell catchs sys.args\n"
     ]
    },
    {
     "name": "stdout",
     "output_type": "stream",
     "text": [
      "Calculating: 48/50\n",
      "Calculating: 49/50\n"
     ]
    },
    {
     "name": "stderr",
     "output_type": "stream",
     "text": [
      "Warn: Ipython shell catchs sys.args\n",
      "Warn: Ipython shell catchs sys.args\n"
     ]
    },
    {
     "name": "stdout",
     "output_type": "stream",
     "text": [
      "Calculating: 50/50\n"
     ]
    },
    {
     "name": "stderr",
     "output_type": "stream",
     "text": [
      "Warn: Ipython shell catchs sys.args\n"
     ]
    }
   ],
   "source": [
    "from pyscf.scf import hf\n",
    "\n",
    "dim = 26\n",
    "\n",
    "\n",
    "number_of_samples = len(S_test)\n",
    "\n",
    "dP_1e, dP_atom, dP_minao, dP_NN = [np.zeros((dim, dim)) for i in range(4)]\n",
    "dP_1e_avg, dP_atom_avg, dP_minao_avg, dP_NN_avg = [[] for i in range(4)]\n",
    "\n",
    "P_1e, P_atom, P_minao, P_expected = [[] for i in range(4)]\n",
    "\n",
    "for i, (molecule, s, p) in enumerate(zip(molecules_test, S_test, P_test)):\n",
    "    \n",
    "    mol = molecule.get_pyscf_molecule()\n",
    "    \n",
    "    print(\"Calculating: \" + str(i + 1) + \"/\" + str(number_of_samples))\n",
    "    \n",
    "    # assemble pyscf initial guesses\n",
    "    P_1e.append(hf.init_guess_by_1e(mol))\n",
    "    \n",
    "    P_atom.append(hf.init_guess_by_atom(mol))\n",
    "    P_minao.append(hf.init_guess_by_minao(mol))\n",
    "    \n",
    "    p = p.reshape(dim, dim)\n",
    "    P_expected.append(p)\n",
    "    \n",
    "    \n",
    "    # nn guess\n",
    "    s = Dataset.normalize(s.reshape(1, dim**2), mean=dataset.x_mean, std=dataset.x_std)[0]\n",
    "    P_NN = network.run(sess, s).reshape(dim, dim).astype('float64')\n",
    "    \n",
    "    \n",
    "    # calculate deltas\n",
    "    dP_1e += np.abs(p - P_1e[-1])\n",
    "    dP_1e_avg.append(np.mean(np.abs(p - P_1e[-1])))\n",
    "    \n",
    "    dP_atom += np.abs(p - P_atom[-1])\n",
    "    dP_atom_avg.append(np.mean(np.abs(p - P_atom[-1])))\n",
    "        \n",
    "    dP_minao += np.abs(p - P_minao[-1])\n",
    "    dP_minao_avg.append(np.mean(np.abs(p - P_minao[-1])))\n",
    "    \n",
    "    dP_NN += np.abs(p - P_NN)\n",
    "    dP_NN_avg.append(np.mean(np.abs(p - P_NN[-1])))\n",
    "\n",
    "dP_1e_avg = np.array(dP_1e_avg)\n",
    "dP_atom_avg = np.array(dP_atom_avg)\n",
    "dP_minao_avg = np.array(dP_minao_avg)\n",
    "dP_NN_avg = np.array(dP_NN_avg)\n",
    "\n",
    "    \n",
    "dP_1e /= number_of_samples\n",
    "dP_atom /= number_of_samples\n",
    "dP_minao /= number_of_samples\n",
    "dP_NN /= number_of_samples"
   ]
  },
  {
   "cell_type": "code",
   "execution_count": 72,
   "metadata": {},
   "outputs": [
    {
     "name": "stdout",
     "output_type": "stream",
     "text": [
      "1e:    0.3264 +- 0.0131\n",
      "atom:  0.0908 +- 0.0007\n",
      "minao: 0.0826 +- 0.0008\n",
      "NN:    0.1696 +- 0.0033\n"
     ]
    }
   ],
   "source": [
    "print(\"1e:    {:5.4f} +- {:5.4f}\".format(np.mean(dP_1e_avg), np.std(dP_1e_avg)))\n",
    "print(\"atom:  {:5.4f} +- {:5.4f}\".format(np.mean(dP_atom_avg), np.std(dP_atom_avg)))\n",
    "print(\"minao: {:5.4f} +- {:5.4f}\".format(np.mean(dP_minao_avg), np.std(dP_minao_avg)))\n",
    "print(\"NN:    {:5.4f} +- {:5.4f}\".format(np.mean(dP_NN_avg), np.std(dP_NN_avg)))"
   ]
  },
  {
   "cell_type": "code",
   "execution_count": 73,
   "metadata": {},
   "outputs": [
    {
     "data": {
      "image/png": "[encoded data removed]",
      "text/plain": [
       "<matplotlib.figure.Figure at 0x7f47ae2c8438>"
      ]
     },
     "metadata": {},
     "output_type": "display_data"
    },
    {
     "data": {
      "image/png": "[encoded data removed]",
      "text/plain": [
       "<matplotlib.figure.Figure at 0x7f47ae17a400>"
      ]
     },
     "metadata": {},
     "output_type": "display_data"
    },
    {
     "data": {
      "image/png": "[encoded data removed]",
      "text/plain": [
       "<matplotlib.figure.Figure at 0x7f47aec58be0>"
      ]
     },
     "metadata": {},
     "output_type": "display_data"
    },
    {
     "data": {
      "image/png": "[encoded data removed]",
      "text/plain": [
       "<matplotlib.figure.Figure at 0x7f47ae346828>"
      ]
     },
     "metadata": {},
     "output_type": "display_data"
    }
   ],
   "source": [
    "import matplotlib\n",
    "\n",
    "title = [\"1e\", \"atom\", \"minao\", \"NN\"]\n",
    "norm = None\n",
    "norm = matplotlib.colors.Normalize(vmin=0, vmax=1)\n",
    "for i, error in enumerate([dP_1e, dP_atom, dP_minao, dP_NN]):\n",
    "    plt.figure()\n",
    "    plt.title(title[i])\n",
    "    matrix_error(error, vmin=0, vmax=1)\n",
    "plt.show()   "
   ]
  },
  {
   "cell_type": "code",
   "execution_count": 74,
   "metadata": {},
   "outputs": [
    {
     "data": {
      "image/png": "[encoded data removed]",
      "text/plain": [
       "<matplotlib.figure.Figure at 0x7f47fc431a58>"
      ]
     },
     "metadata": {},
     "output_type": "display_data"
    }
   ],
   "source": [
    "flatten = lambda x, y: list(x) + list(y)\n",
    "\n",
    "def transform(x):\n",
    "    return reduce(flatten, map(lambda y: y.flatten(), x))\n",
    "\n",
    "fig = plt.figure()\n",
    "\n",
    "expected = transform(P_expected)\n",
    "labels = [\"Hcore\", \"SAP\", \"MINAO\"]\n",
    "for i, guess in enumerate(map(transform, [P_1e, P_atom, P_minao])):\n",
    "    \n",
    "    #fig = plt.figure()\n",
    "    plt.scatter(expected, guess, marker=\"x\", label=labels[i])\n",
    "    plt.ylabel(\"prediction\")\n",
    "    plt.xlabel(\"actual\")\n",
    "    #plt.axis('equal')\n",
    "    #plt.set_aspect('equal', 'box')\n",
    "    lower, upper = -2, 2.5\n",
    "    plt.axis([lower, upper, lower, upper])\n",
    "    #plt.title(labels[i])\n",
    "    \n",
    "plt.legend()    \n",
    "\n",
    "fig.savefig(figures_path + \"ClassicsScatter.png\")\n",
    "plt.show()"
   ]
  },
  {
   "cell_type": "markdown",
   "metadata": {},
   "source": [
    "## Check: was the calculation consistent?\n",
    "Comapre newly calculated p vs P_test."
   ]
  },
  {
   "cell_type": "code",
   "execution_count": 75,
   "metadata": {
    "scrolled": true
   },
   "outputs": [
    {
     "name": "stderr",
     "output_type": "stream",
     "text": [
      "Warn: Ipython shell catchs sys.args\n"
     ]
    },
    {
     "name": "stdout",
     "output_type": "stream",
     "text": [
      "Calculating: 1/50\n"
     ]
    },
    {
     "name": "stderr",
     "output_type": "stream",
     "text": [
      "Warn: Ipython shell catchs sys.args\n"
     ]
    },
    {
     "name": "stdout",
     "output_type": "stream",
     "text": [
      "Calculating: 2/50\n",
      "Calculating: 3/50"
     ]
    },
    {
     "name": "stderr",
     "output_type": "stream",
     "text": [
      "Warn: Ipython shell catchs sys.args\n",
      "Warn: Ipython shell catchs sys.args\n"
     ]
    },
    {
     "name": "stdout",
     "output_type": "stream",
     "text": [
      "\n",
      "Calculating: 4/50\n"
     ]
    },
    {
     "name": "stderr",
     "output_type": "stream",
     "text": [
      "Warn: Ipython shell catchs sys.args\n",
      "Warn: Ipython shell catchs sys.args\n"
     ]
    },
    {
     "name": "stdout",
     "output_type": "stream",
     "text": [
      "Calculating: 5/50\n",
      "Calculating: 6/50\n"
     ]
    },
    {
     "name": "stderr",
     "output_type": "stream",
     "text": [
      "Warn: Ipython shell catchs sys.args\n",
      "Warn: Ipython shell catchs sys.args\n"
     ]
    },
    {
     "name": "stdout",
     "output_type": "stream",
     "text": [
      "Calculating: 7/50\n",
      "Calculating: 8/50\n"
     ]
    },
    {
     "name": "stderr",
     "output_type": "stream",
     "text": [
      "Warn: Ipython shell catchs sys.args\n",
      "Warn: Ipython shell catchs sys.args\n"
     ]
    },
    {
     "name": "stdout",
     "output_type": "stream",
     "text": [
      "Calculating: 9/50\n",
      "Calculating: 10/50\n"
     ]
    },
    {
     "name": "stderr",
     "output_type": "stream",
     "text": [
      "Warn: Ipython shell catchs sys.args\n",
      "Warn: Ipython shell catchs sys.args\n"
     ]
    },
    {
     "name": "stdout",
     "output_type": "stream",
     "text": [
      "Calculating: 11/50\n",
      "Calculating: 12/50\n"
     ]
    },
    {
     "name": "stderr",
     "output_type": "stream",
     "text": [
      "Warn: Ipython shell catchs sys.args\n",
      "Warn: Ipython shell catchs sys.args\n"
     ]
    },
    {
     "name": "stdout",
     "output_type": "stream",
     "text": [
      "Calculating: 13/50\n",
      "Calculating: 14/50\n"
     ]
    },
    {
     "name": "stderr",
     "output_type": "stream",
     "text": [
      "Warn: Ipython shell catchs sys.args\n",
      "Warn: Ipython shell catchs sys.args\n"
     ]
    },
    {
     "name": "stdout",
     "output_type": "stream",
     "text": [
      "Calculating: 15/50\n",
      "Calculating: 16/50\n"
     ]
    },
    {
     "name": "stderr",
     "output_type": "stream",
     "text": [
      "Warn: Ipython shell catchs sys.args\n",
      "Warn: Ipython shell catchs sys.args\n"
     ]
    },
    {
     "name": "stdout",
     "output_type": "stream",
     "text": [
      "Calculating: 17/50\n",
      "Calculating: 18/50\n"
     ]
    },
    {
     "name": "stderr",
     "output_type": "stream",
     "text": [
      "Warn: Ipython shell catchs sys.args\n",
      "Warn: Ipython shell catchs sys.args\n"
     ]
    },
    {
     "name": "stdout",
     "output_type": "stream",
     "text": [
      "Calculating: 19/50\n",
      "Calculating: 20/50\n"
     ]
    },
    {
     "name": "stderr",
     "output_type": "stream",
     "text": [
      "Warn: Ipython shell catchs sys.args\n",
      "Warn: Ipython shell catchs sys.args\n"
     ]
    },
    {
     "name": "stdout",
     "output_type": "stream",
     "text": [
      "Calculating: 21/50\n",
      "Calculating: 22/50\n"
     ]
    },
    {
     "name": "stderr",
     "output_type": "stream",
     "text": [
      "Warn: Ipython shell catchs sys.args\n",
      "Warn: Ipython shell catchs sys.args\n"
     ]
    },
    {
     "name": "stdout",
     "output_type": "stream",
     "text": [
      "Calculating: 23/50\n",
      "Calculating: 24/50\n"
     ]
    },
    {
     "name": "stderr",
     "output_type": "stream",
     "text": [
      "Warn: Ipython shell catchs sys.args\n",
      "Warn: Ipython shell catchs sys.args\n"
     ]
    },
    {
     "name": "stdout",
     "output_type": "stream",
     "text": [
      "Calculating: 25/50\n",
      "Calculating: 26/50\n"
     ]
    },
    {
     "name": "stderr",
     "output_type": "stream",
     "text": [
      "Warn: Ipython shell catchs sys.args\n",
      "Warn: Ipython shell catchs sys.args\n"
     ]
    },
    {
     "name": "stdout",
     "output_type": "stream",
     "text": [
      "Calculating: 27/50\n",
      "Calculating: 28/50\n"
     ]
    },
    {
     "name": "stderr",
     "output_type": "stream",
     "text": [
      "Warn: Ipython shell catchs sys.args\n"
     ]
    },
    {
     "name": "stdout",
     "output_type": "stream",
     "text": [
      "Calculating: 29/50\n"
     ]
    },
    {
     "name": "stderr",
     "output_type": "stream",
     "text": [
      "Warn: Ipython shell catchs sys.args\n"
     ]
    },
    {
     "name": "stdout",
     "output_type": "stream",
     "text": [
      "Calculating: 30/50\n"
     ]
    },
    {
     "name": "stderr",
     "output_type": "stream",
     "text": [
      "Warn: Ipython shell catchs sys.args\n",
      "Warn: Ipython shell catchs sys.args\n"
     ]
    },
    {
     "name": "stdout",
     "output_type": "stream",
     "text": [
      "Calculating: 31/50\n",
      "Calculating: 32/50\n"
     ]
    },
    {
     "name": "stderr",
     "output_type": "stream",
     "text": [
      "Warn: Ipython shell catchs sys.args\n"
     ]
    },
    {
     "name": "stdout",
     "output_type": "stream",
     "text": [
      "Calculating: 33/50\n"
     ]
    },
    {
     "name": "stderr",
     "output_type": "stream",
     "text": [
      "Warn: Ipython shell catchs sys.args\n"
     ]
    },
    {
     "name": "stdout",
     "output_type": "stream",
     "text": [
      "Calculating: 34/50\n"
     ]
    },
    {
     "name": "stderr",
     "output_type": "stream",
     "text": [
      "Warn: Ipython shell catchs sys.args\n",
      "Warn: Ipython shell catchs sys.args\n"
     ]
    },
    {
     "name": "stdout",
     "output_type": "stream",
     "text": [
      "Calculating: 35/50\n",
      "Calculating: 36/50\n"
     ]
    },
    {
     "name": "stderr",
     "output_type": "stream",
     "text": [
      "Warn: Ipython shell catchs sys.args\n",
      "Warn: Ipython shell catchs sys.args\n"
     ]
    },
    {
     "name": "stdout",
     "output_type": "stream",
     "text": [
      "Calculating: 37/50\n",
      "Calculating: 38/50\n"
     ]
    },
    {
     "name": "stderr",
     "output_type": "stream",
     "text": [
      "Warn: Ipython shell catchs sys.args\n",
      "Warn: Ipython shell catchs sys.args\n"
     ]
    },
    {
     "name": "stdout",
     "output_type": "stream",
     "text": [
      "Calculating: 39/50\n",
      "Calculating: 40/50\n"
     ]
    },
    {
     "name": "stderr",
     "output_type": "stream",
     "text": [
      "Warn: Ipython shell catchs sys.args\n"
     ]
    },
    {
     "name": "stdout",
     "output_type": "stream",
     "text": [
      "Calculating: 41/50\n"
     ]
    },
    {
     "name": "stderr",
     "output_type": "stream",
     "text": [
      "Warn: Ipython shell catchs sys.args\n",
      "Warn: Ipython shell catchs sys.args\n"
     ]
    },
    {
     "name": "stdout",
     "output_type": "stream",
     "text": [
      "Calculating: 42/50\n",
      "Calculating: 43/50\n"
     ]
    },
    {
     "name": "stderr",
     "output_type": "stream",
     "text": [
      "Warn: Ipython shell catchs sys.args\n",
      "Warn: Ipython shell catchs sys.args\n"
     ]
    },
    {
     "name": "stdout",
     "output_type": "stream",
     "text": [
      "Calculating: 44/50\n",
      "Calculating: 45/50\n"
     ]
    },
    {
     "name": "stderr",
     "output_type": "stream",
     "text": [
      "Warn: Ipython shell catchs sys.args\n",
      "Warn: Ipython shell catchs sys.args\n"
     ]
    },
    {
     "name": "stdout",
     "output_type": "stream",
     "text": [
      "Calculating: 46/50\n",
      "Calculating: 47/50\n"
     ]
    },
    {
     "name": "stderr",
     "output_type": "stream",
     "text": [
      "Warn: Ipython shell catchs sys.args\n"
     ]
    },
    {
     "name": "stdout",
     "output_type": "stream",
     "text": [
      "Calculating: 48/50\n"
     ]
    },
    {
     "name": "stderr",
     "output_type": "stream",
     "text": [
      "Warn: Ipython shell catchs sys.args\n",
      "Warn: Ipython shell catchs sys.args\n"
     ]
    },
    {
     "name": "stdout",
     "output_type": "stream",
     "text": [
      "Calculating: 49/50\n",
      "Calculating: 50/50\n"
     ]
    }
   ],
   "source": [
    "from pyscf.scf import hf\n",
    "\n",
    "dim = 26\n",
    "\n",
    "number_of_samples = len(S_test)\n",
    "\n",
    "dP = np.zeros((dim, dim))\n",
    "\n",
    "for i, (molecule, p) in enumerate(zip(molecules_test, P_test)):\n",
    "    \n",
    "    mol = molecule.get_pyscf_molecule()\n",
    "    \n",
    "    print(\"Calculating: \" + str(i + 1) + \"/\" + str(number_of_samples))\n",
    "    \n",
    "    mf = hf.RHF(mol)\n",
    "    mf.verbose = 1\n",
    "    mf.kernel()\n",
    "    \n",
    "    p = p.reshape(dim, dim)\n",
    "    \n",
    "    dP += np.abs(p - mf.make_rdm1())\n",
    "\n",
    "dP /= number_of_samples\n"
   ]
  },
  {
   "cell_type": "code",
   "execution_count": 76,
   "metadata": {},
   "outputs": [
    {
     "data": {
      "image/png": "[encoded data removed]",
      "text/plain": [
       "<matplotlib.figure.Figure at 0x7f47cb7f4d68>"
      ]
     },
     "metadata": {},
     "output_type": "display_data"
    }
   ],
   "source": [
    "plt.figure()\n",
    "matrix_error(dP)\n",
    "plt.show()"
   ]
  },
  {
   "cell_type": "markdown",
   "metadata": {},
   "source": [
    "## Physically motivated output activations\n",
    "As we suspect the high number of iterations may be due to pysically to unphysical values. Thus we willtransform the output."
   ]
  },
  {
   "cell_type": "markdown",
   "metadata": {},
   "source": [
    "### Sigmoid\n",
    "We will now try $\\sigma(x) * 2$ to frce the values to be be between 1 and 2."
   ]
  },
  {
   "cell_type": "code",
   "execution_count": 77,
   "metadata": {
    "scrolled": true
   },
   "outputs": [
    {
     "name": "stdout",
     "output_type": "stream",
     "text": [
      "[-] 2018-04-14 01:06:05: Setting up the graph ...\n",
      "[-] 2018-04-14 01:06:05: Starting network training ...\n",
      "[ ] 2018-04-14 01:06:05: Validation cost: 5.78984E-02. Diff to prev.: 1.0E+10\n",
      "[ ] 2018-04-14 01:06:06: Validation cost: 3.05027E-04. Diff to prev.: 5.8E-02\n",
      "[ ] 2018-04-14 01:06:06: Validation cost: 1.58203E-04. Diff to prev.: 1.5E-04\n",
      "[ ] 2018-04-14 01:06:06: Validation cost: 1.10340E-04. Diff to prev.: 4.8E-05\n",
      "[ ] 2018-04-14 01:06:06: Validation cost: 8.13022E-05. Diff to prev.: 2.9E-05\n",
      "[ ] 2018-04-14 01:06:07: Validation cost: 7.03143E-05. Diff to prev.: 1.1E-05\n",
      "[-] 2018-04-14 01:06:07: Convergence reached after 600 steps.\n",
      "[-] 2018-04-14 01:06:07: Test error: 7.64417E-05\n"
     ]
    }
   ],
   "source": [
    "from SCFInitialGuess.nn.training import train_network\n",
    "from SCFInitialGuess.nn.networks import EluTrNNN\n",
    "import tensorflow as tf\n",
    "\n",
    "class EluTrNNNSigmoid(EluTrNNN):\n",
    "    def _output_activation(self, preactivation):\n",
    "        \"\"\"Sigmoidal output activation.\"\"\"\n",
    "        return tf.nn.sigmoid(preactivation) * 4 - 2\n",
    "\n",
    "structure = [dim**2, 200, 100, dim**2]\n",
    "\n",
    "\n",
    "#tf.reset_default_graph()\n",
    "sigmoid_nn, sess_sigmoid = train_network(\n",
    "    EluTrNNNSigmoid(structure),\n",
    "    dataset,\n",
    "    evaluation_period=100,\n",
    "    mini_batch_size=20,\n",
    "    convergence_threshold=1e-5,\n",
    "    regularisation_parameter=1e-8\n",
    ")"
   ]
  },
  {
   "cell_type": "markdown",
   "metadata": {},
   "source": [
    "### McWheene Matrix Purification.\n",
    "We will try the McWheene transformation \n",
    "\n",
    "$$P \\rightarrow 3P^2 - 2P^3 $$\n",
    "\n",
    "as output activation. This transformation is used to force idempotence upon the density matrix."
   ]
  },
  {
   "cell_type": "code",
   "execution_count": 78,
   "metadata": {
    "scrolled": true
   },
   "outputs": [
    {
     "name": "stdout",
     "output_type": "stream",
     "text": [
      "[-] 2018-04-14 01:06:07: Setting up the graph ...\n",
      "[-] 2018-04-14 01:06:07: Starting network training ...\n",
      "[ ] 2018-04-14 01:06:07: Validation cost: 5.77527E-02. Diff to prev.: 1.0E+10\n",
      "[ ] 2018-04-14 01:06:08: Validation cost: 6.95650E-03. Diff to prev.: 5.1E-02\n",
      "[ ] 2018-04-14 01:06:08: Validation cost: 1.96021E-03. Diff to prev.: 5.0E-03\n",
      "[ ] 2018-04-14 01:06:08: Validation cost: 1.24028E-03. Diff to prev.: 7.2E-04\n",
      "[ ] 2018-04-14 01:06:09: Validation cost: 9.38144E-04. Diff to prev.: 3.0E-04\n",
      "[ ] 2018-04-14 01:06:09: Validation cost: 1.26495E-03. Diff to prev.: 3.3E-04\n",
      "[-] 2018-04-14 01:06:09: Convergence reached after 600 steps.\n",
      "[-] 2018-04-14 01:06:09: Test error: 9.49493E-04\n"
     ]
    }
   ],
   "source": [
    "from SCFInitialGuess.nn.training import train_network\n",
    "from SCFInitialGuess.nn.networks import EluTrNNN\n",
    "import tensorflow as tf\n",
    "\n",
    "class EluTrNNNMcWheene(EluTrNNN):\n",
    "    def _output_activation(self, preactivation):\n",
    "        \"\"\"McWheene output transformation used as activaton.\"\"\"\n",
    "        \n",
    "        reshaped_pre = tf.reshape(preactivation, shape=[-1, dim, dim])\n",
    "    \n",
    "        # if 3D tensor and dims match, tf will ignore first dim!\n",
    "        squared = tf.matmul(\n",
    "            reshaped_pre, \n",
    "            reshaped_pre\n",
    "        )\n",
    "        \n",
    "        cubed = tf.matmul(\n",
    "            squared,\n",
    "            reshaped_pre\n",
    "        )\n",
    "        \n",
    "        out = 3 * squared - 2 * cubed\n",
    "        \n",
    "        return tf.reshape(out, shape=[-1, dim**2])\n",
    "\n",
    "structure = [dim**2, 200, 100, dim**2]\n",
    "\n",
    "#tf.reset_default_graph()\n",
    "mcwheene_nn, sess_mcwheeny = train_network(\n",
    "    EluTrNNNMcWheene(structure),\n",
    "    dataset,\n",
    "    evaluation_period=100,\n",
    "    mini_batch_size=20,\n",
    "    convergence_threshold=1e-5,\n",
    "    regularisation_parameter=1e-6\n",
    ")"
   ]
  },
  {
   "cell_type": "markdown",
   "metadata": {},
   "source": [
    "### Analysis\n"
   ]
  },
  {
   "cell_type": "code",
   "execution_count": 79,
   "metadata": {},
   "outputs": [
    {
     "data": {
      "image/png": "[encoded data removed]",
      "text/plain": [
       "<matplotlib.figure.Figure at 0x7f47ac12df60>"
      ]
     },
     "metadata": {},
     "output_type": "display_data"
    }
   ],
   "source": [
    "# test dataset\n",
    "\n",
    "#original network\n",
    "plt.scatter(\n",
    "    np.array(dataset.testing[1]).flatten(),\n",
    "    np.array(\n",
    "        network.run(\n",
    "            sess, \n",
    "            dataset.testing[0]\n",
    "        )\n",
    "    ).flatten(), \n",
    "    marker=\"x\", \n",
    "    label=\"original\"\n",
    ")\n",
    "\n",
    "# sigmoid\n",
    "plt.scatter(\n",
    "    np.array(dataset.testing[1]).flatten(),\n",
    "    np.array(\n",
    "        sigmoid_nn.run(\n",
    "            sess_sigmoid, \n",
    "            dataset.testing[0]\n",
    "        )\n",
    "    ).flatten(), \n",
    "    marker=\"x\", \n",
    "    label=\"sigmoid\"\n",
    ")\n",
    "\n",
    "# mcwheene\n",
    "plt.scatter(\n",
    "    np.array(dataset.testing[1]).flatten(),\n",
    "    np.array(\n",
    "        mcwheene_nn.run(\n",
    "            sess_mcwheeny, \n",
    "            dataset.testing[0]\n",
    "        )\n",
    "    ).flatten(), \n",
    "    marker=\"x\", \n",
    "    label=\"McWheene\"\n",
    ")\n",
    "\n",
    "\n",
    "plt.legend()\n",
    "\n",
    "#lower, upper = -1, 2.5\n",
    "#plt.axis([lower, upper, lower, upper])\n",
    "plt.ylabel(\"prediction\")\n",
    "plt.xlabel(\"actual\")\n",
    "plt.show()"
   ]
  },
  {
   "cell_type": "code",
   "execution_count": 80,
   "metadata": {},
   "outputs": [
    {
     "name": "stdout",
     "output_type": "stream",
     "text": [
      "Calculating: 1/50\n"
     ]
    },
    {
     "name": "stderr",
     "output_type": "stream",
     "text": [
      "Warn: Ipython shell catchs sys.args\n"
     ]
    },
    {
     "ename": "FailedPreconditionError",
     "evalue": "Attempting to use uninitialized value hidden_layer_2_1/w\n\t [[Node: hidden_layer_2_1/w/read = Identity[T=DT_FLOAT, _class=[\"loc:@hidden_layer_2_1/w\"], _device=\"/job:localhost/replica:0/task:0/device:CPU:0\"](hidden_layer_2_1/w)]]\n\nCaused by op 'hidden_layer_2_1/w/read', defined at:\n  File \"/home/jo/anaconda3/lib/python3.6/runpy.py\", line 193, in _run_module_as_main\n    \"__main__\", mod_spec)\n  File \"/home/jo/anaconda3/lib/python3.6/runpy.py\", line 85, in _run_code\n    exec(code, run_globals)\n  File \"/home/jo/anaconda3/lib/python3.6/site-packages/ipykernel_launcher.py\", line 16, in <module>\n    app.launch_new_instance()\n  File \"/home/jo/anaconda3/lib/python3.6/site-packages/traitlets/config/application.py\", line 658, in launch_instance\n    app.start()\n  File \"/home/jo/anaconda3/lib/python3.6/site-packages/ipykernel/kernelapp.py\", line 478, in start\n    self.io_loop.start()\n  File \"/home/jo/anaconda3/lib/python3.6/site-packages/zmq/eventloop/ioloop.py\", line 177, in start\n    super(ZMQIOLoop, self).start()\n  File \"/home/jo/anaconda3/lib/python3.6/site-packages/tornado/ioloop.py\", line 888, in start\n    handler_func(fd_obj, events)\n  File \"/home/jo/anaconda3/lib/python3.6/site-packages/tornado/stack_context.py\", line 277, in null_wrapper\n    return fn(*args, **kwargs)\n  File \"/home/jo/anaconda3/lib/python3.6/site-packages/zmq/eventloop/zmqstream.py\", line 440, in _handle_events\n    self._handle_recv()\n  File \"/home/jo/anaconda3/lib/python3.6/site-packages/zmq/eventloop/zmqstream.py\", line 472, in _handle_recv\n    self._run_callback(callback, msg)\n  File \"/home/jo/anaconda3/lib/python3.6/site-packages/zmq/eventloop/zmqstream.py\", line 414, in _run_callback\n    callback(*args, **kwargs)\n  File \"/home/jo/anaconda3/lib/python3.6/site-packages/tornado/stack_context.py\", line 277, in null_wrapper\n    return fn(*args, **kwargs)\n  File \"/home/jo/anaconda3/lib/python3.6/site-packages/ipykernel/kernelbase.py\", line 283, in dispatcher\n    return self.dispatch_shell(stream, msg)\n  File \"/home/jo/anaconda3/lib/python3.6/site-packages/ipykernel/kernelbase.py\", line 233, in dispatch_shell\n    handler(stream, idents, msg)\n  File \"/home/jo/anaconda3/lib/python3.6/site-packages/ipykernel/kernelbase.py\", line 399, in execute_request\n    user_expressions, allow_stdin)\n  File \"/home/jo/anaconda3/lib/python3.6/site-packages/ipykernel/ipkernel.py\", line 208, in do_execute\n    res = shell.run_cell(code, store_history=store_history, silent=silent)\n  File \"/home/jo/anaconda3/lib/python3.6/site-packages/ipykernel/zmqshell.py\", line 537, in run_cell\n    return super(ZMQInteractiveShell, self).run_cell(*args, **kwargs)\n  File \"/home/jo/anaconda3/lib/python3.6/site-packages/IPython/core/interactiveshell.py\", line 2728, in run_cell\n    interactivity=interactivity, compiler=compiler, result=result)\n  File \"/home/jo/anaconda3/lib/python3.6/site-packages/IPython/core/interactiveshell.py\", line 2850, in run_ast_nodes\n    if self.run_code(code, result):\n  File \"/home/jo/anaconda3/lib/python3.6/site-packages/IPython/core/interactiveshell.py\", line 2910, in run_code\n    exec(code_obj, self.user_global_ns, self.user_ns)\n  File \"<ipython-input-77-bb74ce4bc465>\", line 20, in <module>\n    regularisation_parameter=1e-8\n  File \"/home/jo/Repos/SCFInitialGuess/SCFInitialGuess/nn/training.py\", line 285, in train_network\n    network_output = network.setup()\n  File \"/home/jo/Repos/SCFInitialGuess/SCFInitialGuess/nn/networks.py\", line 84, in setup\n    name=\"hidden_layer_\" + str(layer)\n  File \"/home/jo/Repos/SCFInitialGuess/SCFInitialGuess/nn/networks.py\", line 118, in _add_layer\n    name=\"w\"\n  File \"/home/jo/anaconda3/lib/python3.6/site-packages/tensorflow/python/ops/variables.py\", line 233, in __init__\n    constraint=constraint)\n  File \"/home/jo/anaconda3/lib/python3.6/site-packages/tensorflow/python/ops/variables.py\", line 381, in _init_from_args\n    self._snapshot = array_ops.identity(self._variable, name=\"read\")\n  File \"/home/jo/anaconda3/lib/python3.6/site-packages/tensorflow/python/ops/array_ops.py\", line 131, in identity\n    return gen_array_ops.identity(input, name=name)\n  File \"/home/jo/anaconda3/lib/python3.6/site-packages/tensorflow/python/ops/gen_array_ops.py\", line 2051, in identity\n    \"Identity\", input=input, name=name)\n  File \"/home/jo/anaconda3/lib/python3.6/site-packages/tensorflow/python/framework/op_def_library.py\", line 787, in _apply_op_helper\n    op_def=op_def)\n  File \"/home/jo/anaconda3/lib/python3.6/site-packages/tensorflow/python/framework/ops.py\", line 3271, in create_op\n    op_def=op_def)\n  File \"/home/jo/anaconda3/lib/python3.6/site-packages/tensorflow/python/framework/ops.py\", line 1650, in __init__\n    self._traceback = self._graph._extract_stack()  # pylint: disable=protected-access\n\nFailedPreconditionError (see above for traceback): Attempting to use uninitialized value hidden_layer_2_1/w\n\t [[Node: hidden_layer_2_1/w/read = Identity[T=DT_FLOAT, _class=[\"loc:@hidden_layer_2_1/w\"], _device=\"/job:localhost/replica:0/task:0/device:CPU:0\"](hidden_layer_2_1/w)]]\n",
     "output_type": "error",
     "traceback": [
      "\u001b[0;31m---------------------------------------------------------------------------\u001b[0m",
      "\u001b[0;31mFailedPreconditionError\u001b[0m                   Traceback (most recent call last)",
      "\u001b[0;32m~/anaconda3/lib/python3.6/site-packages/tensorflow/python/client/session.py\u001b[0m in \u001b[0;36m_do_call\u001b[0;34m(self, fn, *args)\u001b[0m\n\u001b[1;32m   1360\u001b[0m     \u001b[0;32mtry\u001b[0m\u001b[0;34m:\u001b[0m\u001b[0;34m\u001b[0m\u001b[0m\n\u001b[0;32m-> 1361\u001b[0;31m       \u001b[0;32mreturn\u001b[0m \u001b[0mfn\u001b[0m\u001b[0;34m(\u001b[0m\u001b[0;34m*\u001b[0m\u001b[0margs\u001b[0m\u001b[0;34m)\u001b[0m\u001b[0;34m\u001b[0m\u001b[0m\n\u001b[0m\u001b[1;32m   1362\u001b[0m     \u001b[0;32mexcept\u001b[0m \u001b[0merrors\u001b[0m\u001b[0;34m.\u001b[0m\u001b[0mOpError\u001b[0m \u001b[0;32mas\u001b[0m \u001b[0me\u001b[0m\u001b[0;34m:\u001b[0m\u001b[0;34m\u001b[0m\u001b[0m\n",
      "\u001b[0;32m~/anaconda3/lib/python3.6/site-packages/tensorflow/python/client/session.py\u001b[0m in \u001b[0;36m_run_fn\u001b[0;34m(session, feed_dict, fetch_list, target_list, options, run_metadata)\u001b[0m\n\u001b[1;32m   1339\u001b[0m           return tf_session.TF_Run(session, options, feed_dict, fetch_list,\n\u001b[0;32m-> 1340\u001b[0;31m                                    target_list, status, run_metadata)\n\u001b[0m\u001b[1;32m   1341\u001b[0m \u001b[0;34m\u001b[0m\u001b[0m\n",
      "\u001b[0;32m~/anaconda3/lib/python3.6/site-packages/tensorflow/python/framework/errors_impl.py\u001b[0m in \u001b[0;36m__exit__\u001b[0;34m(self, type_arg, value_arg, traceback_arg)\u001b[0m\n\u001b[1;32m    515\u001b[0m             \u001b[0mcompat\u001b[0m\u001b[0;34m.\u001b[0m\u001b[0mas_text\u001b[0m\u001b[0;34m(\u001b[0m\u001b[0mc_api\u001b[0m\u001b[0;34m.\u001b[0m\u001b[0mTF_Message\u001b[0m\u001b[0;34m(\u001b[0m\u001b[0mself\u001b[0m\u001b[0;34m.\u001b[0m\u001b[0mstatus\u001b[0m\u001b[0;34m.\u001b[0m\u001b[0mstatus\u001b[0m\u001b[0;34m)\u001b[0m\u001b[0;34m)\u001b[0m\u001b[0;34m,\u001b[0m\u001b[0;34m\u001b[0m\u001b[0m\n\u001b[0;32m--> 516\u001b[0;31m             c_api.TF_GetCode(self.status.status))\n\u001b[0m\u001b[1;32m    517\u001b[0m     \u001b[0;31m# Delete the underlying status object from memory otherwise it stays alive\u001b[0m\u001b[0;34m\u001b[0m\u001b[0;34m\u001b[0m\u001b[0m\n",
      "\u001b[0;31mFailedPreconditionError\u001b[0m: Attempting to use uninitialized value hidden_layer_2_1/w\n\t [[Node: hidden_layer_2_1/w/read = Identity[T=DT_FLOAT, _class=[\"loc:@hidden_layer_2_1/w\"], _device=\"/job:localhost/replica:0/task:0/device:CPU:0\"](hidden_layer_2_1/w)]]",
      "\nDuring handling of the above exception, another exception occurred:\n",
      "\u001b[0;31mFailedPreconditionError\u001b[0m                   Traceback (most recent call last)",
      "\u001b[0;32m<ipython-input-80-48e5fcb9d7bd>\u001b[0m in \u001b[0;36m<module>\u001b[0;34m()\u001b[0m\n\u001b[1;32m     14\u001b[0m     \u001b[0ms\u001b[0m \u001b[0;34m=\u001b[0m \u001b[0mhf\u001b[0m\u001b[0;34m.\u001b[0m\u001b[0mget_ovlp\u001b[0m\u001b[0;34m(\u001b[0m\u001b[0mmol\u001b[0m\u001b[0;34m)\u001b[0m\u001b[0;34m.\u001b[0m\u001b[0mreshape\u001b[0m\u001b[0;34m(\u001b[0m\u001b[0;36m1\u001b[0m\u001b[0;34m,\u001b[0m \u001b[0mdim\u001b[0m\u001b[0;34m**\u001b[0m\u001b[0;36m2\u001b[0m\u001b[0;34m)\u001b[0m\u001b[0;34m\u001b[0m\u001b[0m\n\u001b[1;32m     15\u001b[0m     \u001b[0ms\u001b[0m \u001b[0;34m=\u001b[0m \u001b[0mDataset\u001b[0m\u001b[0;34m.\u001b[0m\u001b[0mnormalize\u001b[0m\u001b[0;34m(\u001b[0m\u001b[0ms\u001b[0m\u001b[0;34m,\u001b[0m \u001b[0mmean\u001b[0m\u001b[0;34m=\u001b[0m\u001b[0mdataset\u001b[0m\u001b[0;34m.\u001b[0m\u001b[0mx_mean\u001b[0m\u001b[0;34m,\u001b[0m \u001b[0mstd\u001b[0m\u001b[0;34m=\u001b[0m\u001b[0mdataset\u001b[0m\u001b[0;34m.\u001b[0m\u001b[0mx_std\u001b[0m\u001b[0;34m)\u001b[0m\u001b[0;34m[\u001b[0m\u001b[0;36m0\u001b[0m\u001b[0;34m]\u001b[0m\u001b[0;34m\u001b[0m\u001b[0m\n\u001b[0;32m---> 16\u001b[0;31m     \u001b[0mP_Sigmoid\u001b[0m \u001b[0;34m=\u001b[0m \u001b[0msigmoid_nn\u001b[0m\u001b[0;34m.\u001b[0m\u001b[0mrun\u001b[0m\u001b[0;34m(\u001b[0m\u001b[0msess\u001b[0m\u001b[0;34m,\u001b[0m \u001b[0ms\u001b[0m\u001b[0;34m)\u001b[0m\u001b[0;34m.\u001b[0m\u001b[0mreshape\u001b[0m\u001b[0;34m(\u001b[0m\u001b[0mdim\u001b[0m\u001b[0;34m,\u001b[0m \u001b[0mdim\u001b[0m\u001b[0;34m)\u001b[0m\u001b[0;34m.\u001b[0m\u001b[0mastype\u001b[0m\u001b[0;34m(\u001b[0m\u001b[0;34m'float64'\u001b[0m\u001b[0;34m)\u001b[0m\u001b[0;34m\u001b[0m\u001b[0m\n\u001b[0m\u001b[1;32m     17\u001b[0m     \u001b[0mP_McWheene\u001b[0m \u001b[0;34m=\u001b[0m \u001b[0mmcwheene_nn\u001b[0m\u001b[0;34m.\u001b[0m\u001b[0mrun\u001b[0m\u001b[0;34m(\u001b[0m\u001b[0msess\u001b[0m\u001b[0;34m,\u001b[0m \u001b[0ms\u001b[0m\u001b[0;34m)\u001b[0m\u001b[0;34m.\u001b[0m\u001b[0mreshape\u001b[0m\u001b[0;34m(\u001b[0m\u001b[0mdim\u001b[0m\u001b[0;34m,\u001b[0m \u001b[0mdim\u001b[0m\u001b[0;34m)\u001b[0m\u001b[0;34m.\u001b[0m\u001b[0mastype\u001b[0m\u001b[0;34m(\u001b[0m\u001b[0;34m'float64'\u001b[0m\u001b[0;34m)\u001b[0m\u001b[0;34m\u001b[0m\u001b[0m\n\u001b[1;32m     18\u001b[0m \u001b[0;34m\u001b[0m\u001b[0m\n",
      "\u001b[0;32m~/Repos/SCFInitialGuess/SCFInitialGuess/nn/networks.py\u001b[0m in \u001b[0;36mrun\u001b[0;34m(self, session, inputs)\u001b[0m\n\u001b[1;32m     57\u001b[0m     \u001b[0;32mdef\u001b[0m \u001b[0mrun\u001b[0m\u001b[0;34m(\u001b[0m\u001b[0mself\u001b[0m\u001b[0;34m,\u001b[0m \u001b[0msession\u001b[0m\u001b[0;34m,\u001b[0m \u001b[0minputs\u001b[0m\u001b[0;34m)\u001b[0m\u001b[0;34m:\u001b[0m\u001b[0;34m\u001b[0m\u001b[0m\n\u001b[1;32m     58\u001b[0m         \u001b[0;34m\"\"\"Evaluate the neural network\"\"\"\u001b[0m\u001b[0;34m\u001b[0m\u001b[0m\n\u001b[0;32m---> 59\u001b[0;31m         \u001b[0;32mreturn\u001b[0m \u001b[0msession\u001b[0m\u001b[0;34m.\u001b[0m\u001b[0mrun\u001b[0m\u001b[0;34m(\u001b[0m\u001b[0mself\u001b[0m\u001b[0;34m.\u001b[0m\u001b[0m_graph\u001b[0m\u001b[0;34m,\u001b[0m \u001b[0mfeed_dict\u001b[0m\u001b[0;34m=\u001b[0m\u001b[0;34m{\u001b[0m\u001b[0mself\u001b[0m\u001b[0;34m.\u001b[0m\u001b[0minput_tensor\u001b[0m\u001b[0;34m:\u001b[0m \u001b[0minputs\u001b[0m\u001b[0;34m}\u001b[0m\u001b[0;34m)\u001b[0m\u001b[0;34m\u001b[0m\u001b[0m\n\u001b[0m\u001b[1;32m     60\u001b[0m \u001b[0;34m\u001b[0m\u001b[0m\n\u001b[1;32m     61\u001b[0m     \u001b[0;32mdef\u001b[0m \u001b[0msetup\u001b[0m\u001b[0;34m(\u001b[0m\u001b[0mself\u001b[0m\u001b[0;34m,\u001b[0m \u001b[0minput_tensor\u001b[0m\u001b[0;34m=\u001b[0m\u001b[0;32mNone\u001b[0m\u001b[0;34m)\u001b[0m\u001b[0;34m:\u001b[0m\u001b[0;34m\u001b[0m\u001b[0m\n",
      "\u001b[0;32m~/anaconda3/lib/python3.6/site-packages/tensorflow/python/client/session.py\u001b[0m in \u001b[0;36mrun\u001b[0;34m(self, fetches, feed_dict, options, run_metadata)\u001b[0m\n\u001b[1;32m    903\u001b[0m     \u001b[0;32mtry\u001b[0m\u001b[0;34m:\u001b[0m\u001b[0;34m\u001b[0m\u001b[0m\n\u001b[1;32m    904\u001b[0m       result = self._run(None, fetches, feed_dict, options_ptr,\n\u001b[0;32m--> 905\u001b[0;31m                          run_metadata_ptr)\n\u001b[0m\u001b[1;32m    906\u001b[0m       \u001b[0;32mif\u001b[0m \u001b[0mrun_metadata\u001b[0m\u001b[0;34m:\u001b[0m\u001b[0;34m\u001b[0m\u001b[0m\n\u001b[1;32m    907\u001b[0m         \u001b[0mproto_data\u001b[0m \u001b[0;34m=\u001b[0m \u001b[0mtf_session\u001b[0m\u001b[0;34m.\u001b[0m\u001b[0mTF_GetBuffer\u001b[0m\u001b[0;34m(\u001b[0m\u001b[0mrun_metadata_ptr\u001b[0m\u001b[0;34m)\u001b[0m\u001b[0;34m\u001b[0m\u001b[0m\n",
      "\u001b[0;32m~/anaconda3/lib/python3.6/site-packages/tensorflow/python/client/session.py\u001b[0m in \u001b[0;36m_run\u001b[0;34m(self, handle, fetches, feed_dict, options, run_metadata)\u001b[0m\n\u001b[1;32m   1135\u001b[0m     \u001b[0;32mif\u001b[0m \u001b[0mfinal_fetches\u001b[0m \u001b[0;32mor\u001b[0m \u001b[0mfinal_targets\u001b[0m \u001b[0;32mor\u001b[0m \u001b[0;34m(\u001b[0m\u001b[0mhandle\u001b[0m \u001b[0;32mand\u001b[0m \u001b[0mfeed_dict_tensor\u001b[0m\u001b[0;34m)\u001b[0m\u001b[0;34m:\u001b[0m\u001b[0;34m\u001b[0m\u001b[0m\n\u001b[1;32m   1136\u001b[0m       results = self._do_run(handle, final_targets, final_fetches,\n\u001b[0;32m-> 1137\u001b[0;31m                              feed_dict_tensor, options, run_metadata)\n\u001b[0m\u001b[1;32m   1138\u001b[0m     \u001b[0;32melse\u001b[0m\u001b[0;34m:\u001b[0m\u001b[0;34m\u001b[0m\u001b[0m\n\u001b[1;32m   1139\u001b[0m       \u001b[0mresults\u001b[0m \u001b[0;34m=\u001b[0m \u001b[0;34m[\u001b[0m\u001b[0;34m]\u001b[0m\u001b[0;34m\u001b[0m\u001b[0m\n",
      "\u001b[0;32m~/anaconda3/lib/python3.6/site-packages/tensorflow/python/client/session.py\u001b[0m in \u001b[0;36m_do_run\u001b[0;34m(self, handle, target_list, fetch_list, feed_dict, options, run_metadata)\u001b[0m\n\u001b[1;32m   1353\u001b[0m     \u001b[0;32mif\u001b[0m \u001b[0mhandle\u001b[0m \u001b[0;32mis\u001b[0m \u001b[0;32mNone\u001b[0m\u001b[0;34m:\u001b[0m\u001b[0;34m\u001b[0m\u001b[0m\n\u001b[1;32m   1354\u001b[0m       return self._do_call(_run_fn, self._session, feeds, fetches, targets,\n\u001b[0;32m-> 1355\u001b[0;31m                            options, run_metadata)\n\u001b[0m\u001b[1;32m   1356\u001b[0m     \u001b[0;32melse\u001b[0m\u001b[0;34m:\u001b[0m\u001b[0;34m\u001b[0m\u001b[0m\n\u001b[1;32m   1357\u001b[0m       \u001b[0;32mreturn\u001b[0m \u001b[0mself\u001b[0m\u001b[0;34m.\u001b[0m\u001b[0m_do_call\u001b[0m\u001b[0;34m(\u001b[0m\u001b[0m_prun_fn\u001b[0m\u001b[0;34m,\u001b[0m \u001b[0mself\u001b[0m\u001b[0;34m.\u001b[0m\u001b[0m_session\u001b[0m\u001b[0;34m,\u001b[0m \u001b[0mhandle\u001b[0m\u001b[0;34m,\u001b[0m \u001b[0mfeeds\u001b[0m\u001b[0;34m,\u001b[0m \u001b[0mfetches\u001b[0m\u001b[0;34m)\u001b[0m\u001b[0;34m\u001b[0m\u001b[0m\n",
      "\u001b[0;32m~/anaconda3/lib/python3.6/site-packages/tensorflow/python/client/session.py\u001b[0m in \u001b[0;36m_do_call\u001b[0;34m(self, fn, *args)\u001b[0m\n\u001b[1;32m   1372\u001b[0m         \u001b[0;32mexcept\u001b[0m \u001b[0mKeyError\u001b[0m\u001b[0;34m:\u001b[0m\u001b[0;34m\u001b[0m\u001b[0m\n\u001b[1;32m   1373\u001b[0m           \u001b[0;32mpass\u001b[0m\u001b[0;34m\u001b[0m\u001b[0m\n\u001b[0;32m-> 1374\u001b[0;31m       \u001b[0;32mraise\u001b[0m \u001b[0mtype\u001b[0m\u001b[0;34m(\u001b[0m\u001b[0me\u001b[0m\u001b[0;34m)\u001b[0m\u001b[0;34m(\u001b[0m\u001b[0mnode_def\u001b[0m\u001b[0;34m,\u001b[0m \u001b[0mop\u001b[0m\u001b[0;34m,\u001b[0m \u001b[0mmessage\u001b[0m\u001b[0;34m)\u001b[0m\u001b[0;34m\u001b[0m\u001b[0m\n\u001b[0m\u001b[1;32m   1375\u001b[0m \u001b[0;34m\u001b[0m\u001b[0m\n\u001b[1;32m   1376\u001b[0m   \u001b[0;32mdef\u001b[0m \u001b[0m_extend_graph\u001b[0m\u001b[0;34m(\u001b[0m\u001b[0mself\u001b[0m\u001b[0;34m)\u001b[0m\u001b[0;34m:\u001b[0m\u001b[0;34m\u001b[0m\u001b[0m\n",
      "\u001b[0;31mFailedPreconditionError\u001b[0m: Attempting to use uninitialized value hidden_layer_2_1/w\n\t [[Node: hidden_layer_2_1/w/read = Identity[T=DT_FLOAT, _class=[\"loc:@hidden_layer_2_1/w\"], _device=\"/job:localhost/replica:0/task:0/device:CPU:0\"](hidden_layer_2_1/w)]]\n\nCaused by op 'hidden_layer_2_1/w/read', defined at:\n  File \"/home/jo/anaconda3/lib/python3.6/runpy.py\", line 193, in _run_module_as_main\n    \"__main__\", mod_spec)\n  File \"/home/jo/anaconda3/lib/python3.6/runpy.py\", line 85, in _run_code\n    exec(code, run_globals)\n  File \"/home/jo/anaconda3/lib/python3.6/site-packages/ipykernel_launcher.py\", line 16, in <module>\n    app.launch_new_instance()\n  File \"/home/jo/anaconda3/lib/python3.6/site-packages/traitlets/config/application.py\", line 658, in launch_instance\n    app.start()\n  File \"/home/jo/anaconda3/lib/python3.6/site-packages/ipykernel/kernelapp.py\", line 478, in start\n    self.io_loop.start()\n  File \"/home/jo/anaconda3/lib/python3.6/site-packages/zmq/eventloop/ioloop.py\", line 177, in start\n    super(ZMQIOLoop, self).start()\n  File \"/home/jo/anaconda3/lib/python3.6/site-packages/tornado/ioloop.py\", line 888, in start\n    handler_func(fd_obj, events)\n  File \"/home/jo/anaconda3/lib/python3.6/site-packages/tornado/stack_context.py\", line 277, in null_wrapper\n    return fn(*args, **kwargs)\n  File \"/home/jo/anaconda3/lib/python3.6/site-packages/zmq/eventloop/zmqstream.py\", line 440, in _handle_events\n    self._handle_recv()\n  File \"/home/jo/anaconda3/lib/python3.6/site-packages/zmq/eventloop/zmqstream.py\", line 472, in _handle_recv\n    self._run_callback(callback, msg)\n  File \"/home/jo/anaconda3/lib/python3.6/site-packages/zmq/eventloop/zmqstream.py\", line 414, in _run_callback\n    callback(*args, **kwargs)\n  File \"/home/jo/anaconda3/lib/python3.6/site-packages/tornado/stack_context.py\", line 277, in null_wrapper\n    return fn(*args, **kwargs)\n  File \"/home/jo/anaconda3/lib/python3.6/site-packages/ipykernel/kernelbase.py\", line 283, in dispatcher\n    return self.dispatch_shell(stream, msg)\n  File \"/home/jo/anaconda3/lib/python3.6/site-packages/ipykernel/kernelbase.py\", line 233, in dispatch_shell\n    handler(stream, idents, msg)\n  File \"/home/jo/anaconda3/lib/python3.6/site-packages/ipykernel/kernelbase.py\", line 399, in execute_request\n    user_expressions, allow_stdin)\n  File \"/home/jo/anaconda3/lib/python3.6/site-packages/ipykernel/ipkernel.py\", line 208, in do_execute\n    res = shell.run_cell(code, store_history=store_history, silent=silent)\n  File \"/home/jo/anaconda3/lib/python3.6/site-packages/ipykernel/zmqshell.py\", line 537, in run_cell\n    return super(ZMQInteractiveShell, self).run_cell(*args, **kwargs)\n  File \"/home/jo/anaconda3/lib/python3.6/site-packages/IPython/core/interactiveshell.py\", line 2728, in run_cell\n    interactivity=interactivity, compiler=compiler, result=result)\n  File \"/home/jo/anaconda3/lib/python3.6/site-packages/IPython/core/interactiveshell.py\", line 2850, in run_ast_nodes\n    if self.run_code(code, result):\n  File \"/home/jo/anaconda3/lib/python3.6/site-packages/IPython/core/interactiveshell.py\", line 2910, in run_code\n    exec(code_obj, self.user_global_ns, self.user_ns)\n  File \"<ipython-input-77-bb74ce4bc465>\", line 20, in <module>\n    regularisation_parameter=1e-8\n  File \"/home/jo/Repos/SCFInitialGuess/SCFInitialGuess/nn/training.py\", line 285, in train_network\n    network_output = network.setup()\n  File \"/home/jo/Repos/SCFInitialGuess/SCFInitialGuess/nn/networks.py\", line 84, in setup\n    name=\"hidden_layer_\" + str(layer)\n  File \"/home/jo/Repos/SCFInitialGuess/SCFInitialGuess/nn/networks.py\", line 118, in _add_layer\n    name=\"w\"\n  File \"/home/jo/anaconda3/lib/python3.6/site-packages/tensorflow/python/ops/variables.py\", line 233, in __init__\n    constraint=constraint)\n  File \"/home/jo/anaconda3/lib/python3.6/site-packages/tensorflow/python/ops/variables.py\", line 381, in _init_from_args\n    self._snapshot = array_ops.identity(self._variable, name=\"read\")\n  File \"/home/jo/anaconda3/lib/python3.6/site-packages/tensorflow/python/ops/array_ops.py\", line 131, in identity\n    return gen_array_ops.identity(input, name=name)\n  File \"/home/jo/anaconda3/lib/python3.6/site-packages/tensorflow/python/ops/gen_array_ops.py\", line 2051, in identity\n    \"Identity\", input=input, name=name)\n  File \"/home/jo/anaconda3/lib/python3.6/site-packages/tensorflow/python/framework/op_def_library.py\", line 787, in _apply_op_helper\n    op_def=op_def)\n  File \"/home/jo/anaconda3/lib/python3.6/site-packages/tensorflow/python/framework/ops.py\", line 3271, in create_op\n    op_def=op_def)\n  File \"/home/jo/anaconda3/lib/python3.6/site-packages/tensorflow/python/framework/ops.py\", line 1650, in __init__\n    self._traceback = self._graph._extract_stack()  # pylint: disable=protected-access\n\nFailedPreconditionError (see above for traceback): Attempting to use uninitialized value hidden_layer_2_1/w\n\t [[Node: hidden_layer_2_1/w/read = Identity[T=DT_FLOAT, _class=[\"loc:@hidden_layer_2_1/w\"], _device=\"/job:localhost/replica:0/task:0/device:CPU:0\"](hidden_layer_2_1/w)]]\n"
     ]
    }
   ],
   "source": [
    "from pyscf.scf import hf\n",
    "\n",
    "dim = 26\n",
    "\n",
    "iterations_output_activations = []\n",
    "for i, molecule in enumerate(molecules_test):\n",
    "    \n",
    "    mol = molecule.get_pyscf_molecule()\n",
    "    \n",
    "    \n",
    "    print(\"Calculating: \" + str(i + 1) + \"/\" + str(len(molecules_test)))\n",
    "    \n",
    "    # nn guess\n",
    "    s = hf.get_ovlp(mol).reshape(1, dim**2)\n",
    "    s = Dataset.normalize(s, mean=dataset.x_mean, std=dataset.x_std)[0]\n",
    "    P_Sigmoid = sigmoid_nn.run(sess, s).reshape(dim, dim).astype('float64')\n",
    "    P_McWheene = mcwheene_nn.run(sess, s).reshape(dim, dim).astype('float64')\n",
    "        \n",
    "    iterations_molecule = []\n",
    "    for guess in [P_Sigmoid, P_McWheene]:\n",
    "        \n",
    "        mf = hf.RHF(mol)\n",
    "        mf.verbose = 1\n",
    "        mf.kernel(dm0=guess)\n",
    "        iterations_molecule.append(mf.iterations)\n",
    "    \n",
    "    iterations_output_activations.append(iterations_molecule)\n",
    "\n",
    "iterations_output_activations = np.array(iterations_output_activations)"
   ]
  },
  {
   "cell_type": "code",
   "execution_count": null,
   "metadata": {},
   "outputs": [],
   "source": [
    "#fig, axes = plt.subplots(2,2)\n",
    "\n",
    "print(np.mean(iterations_output_activations,0))\n",
    "\n",
    "bins = 20 # todo hier kann man auch ein array angeben\n",
    "\n",
    "for i, name in enumerate([\"Sigmoid\", \"McWheene\"]):\n",
    "    \n",
    "    hist, bins = np.histogram(iterations_output_activations[:,i])\n",
    "    center = (bins[:-1] + bins[1:]) / 2\n",
    "    #axes[i].bar(center, hist, label=name)\n",
    "    plt.bar(center, hist, label=name)\n",
    "    \n",
    "plt.legend()\n",
    "plt.show()"
   ]
  },
  {
   "cell_type": "code",
   "execution_count": null,
   "metadata": {},
   "outputs": [],
   "source": [
    "str(tf.get_default_graph())"
   ]
  },
  {
   "cell_type": "code",
   "execution_count": null,
   "metadata": {},
   "outputs": [],
   "source": []
  }
 ],
 "metadata": {
  "anaconda-cloud": {},
  "kernelspec": {
   "display_name": "Python 2",
   "language": "python",
   "name": "python2"
  },
  "language_info": {
   "codemirror_mode": {
    "name": "ipython",
    "version": 3
   },
   "file_extension": ".py",
   "mimetype": "text/x-python",
   "name": "python",
   "nbconvert_exporter": "python",
   "pygments_lexer": "ipython3",
   "version": "3.6.4"
  }
 },
 "nbformat": 4,
 "nbformat_minor": 1
}
