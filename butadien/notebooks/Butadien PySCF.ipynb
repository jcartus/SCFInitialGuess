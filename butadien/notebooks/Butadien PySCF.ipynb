{
 "cells": [
  {
   "cell_type": "markdown",
   "metadata": {},
   "source": [
    "# Butadien II\n",
    "We will invetigate various Butadien configurations and train a network on it. The data will be solely pyscf generated this time."
   ]
  },
  {
   "cell_type": "code",
   "execution_count": 2,
   "metadata": {
    "collapsed": true
   },
   "outputs": [],
   "source": [
    "import tensorflow as tf\n",
    "\n",
    "import numpy as np\n",
    "import matplotlib.pyplot as plt\n",
    "\n",
    "dim = 26"
   ]
  },
  {
   "cell_type": "markdown",
   "metadata": {},
   "source": [
    "## Creating the dataset"
   ]
  },
  {
   "cell_type": "code",
   "execution_count": 6,
   "metadata": {},
   "outputs": [
    {
     "name": "stdout",
     "output_type": "stream",
     "text": [
      "All done.\n"
     ]
    }
   ],
   "source": [
    "from os import listdir\n",
    "from os.path import join\n",
    "\n",
    "from SCFInitialGuess.utilities import Molecule\n",
    "\n",
    "def grep_molecule(input_file):\n",
    "    import re\n",
    "    \n",
    "    with open(input_file) as f:\n",
    "            \n",
    "        molecule = re.search(r\"\\$molecule.*\\$end\", f.read(), re.DOTALL)\n",
    "        if molecule is None:\n",
    "            raise ValueError(\"No molecule found in \" + f.name)\n",
    "        else:\n",
    "            molecule = molecule.group(0)\n",
    "\n",
    "            # cut out geometries\n",
    "            geometries = molecule.splitlines()[2:-1]\n",
    "\n",
    "    # from geometries take the species and positions\n",
    "    species, positions = [], []\n",
    "    for line in geometries:\n",
    "        splits = line.split()\n",
    "        species.append(splits[0])\n",
    "        positions.append(splits[1:])\n",
    "\n",
    "    return species, positions\n",
    "\n",
    "def fetch_molecules(folder):\n",
    "    \n",
    "    files = [file for file in listdir(folder) if \".inp\" in file]\n",
    "    \n",
    "    for i, file in enumerate(files):\n",
    "        \n",
    "\n",
    "        mol = Molecule(*grep_molecule(join(folder, file)))\n",
    "        \n",
    "        mol.basis = \"sto-3g\"\n",
    "        \n",
    "        yield mol\n",
    "        \n",
    "    print(\"All done.\")\n",
    "        \n",
    "molecules = list(fetch_molecules(\"../data/data\"))"
   ]
  },
  {
   "cell_type": "code",
   "execution_count": 7,
   "metadata": {
    "scrolled": true
   },
   "outputs": [
    {
     "name": "stdout",
     "output_type": "stream",
     "text": [
      "1/200\n"
     ]
    },
    {
     "name": "stderr",
     "output_type": "stream",
     "text": [
      "Warn: Ipython shell catchs sys.args\n"
     ]
    },
    {
     "name": "stdout",
     "output_type": "stream",
     "text": [
      "2/200\n"
     ]
    },
    {
     "name": "stderr",
     "output_type": "stream",
     "text": [
      "Warn: Ipython shell catchs sys.args\n"
     ]
    },
    {
     "name": "stdout",
     "output_type": "stream",
     "text": [
      "3/200\n"
     ]
    },
    {
     "name": "stderr",
     "output_type": "stream",
     "text": [
      "Warn: Ipython shell catchs sys.args\n"
     ]
    },
    {
     "name": "stdout",
     "output_type": "stream",
     "text": [
      "4/200\n"
     ]
    },
    {
     "name": "stderr",
     "output_type": "stream",
     "text": [
      "Warn: Ipython shell catchs sys.args\n"
     ]
    },
    {
     "name": "stdout",
     "output_type": "stream",
     "text": [
      "5/200\n"
     ]
    },
    {
     "name": "stderr",
     "output_type": "stream",
     "text": [
      "Warn: Ipython shell catchs sys.args\n"
     ]
    },
    {
     "name": "stdout",
     "output_type": "stream",
     "text": [
      "6/200\n"
     ]
    },
    {
     "name": "stderr",
     "output_type": "stream",
     "text": [
      "Warn: Ipython shell catchs sys.args\n"
     ]
    },
    {
     "name": "stdout",
     "output_type": "stream",
     "text": [
      "7/200\n"
     ]
    },
    {
     "name": "stderr",
     "output_type": "stream",
     "text": [
      "Warn: Ipython shell catchs sys.args\n"
     ]
    },
    {
     "name": "stdout",
     "output_type": "stream",
     "text": [
      "8/200\n"
     ]
    },
    {
     "name": "stderr",
     "output_type": "stream",
     "text": [
      "Warn: Ipython shell catchs sys.args\n"
     ]
    },
    {
     "name": "stdout",
     "output_type": "stream",
     "text": [
      "9/200\n"
     ]
    },
    {
     "name": "stderr",
     "output_type": "stream",
     "text": [
      "Warn: Ipython shell catchs sys.args\n"
     ]
    },
    {
     "name": "stdout",
     "output_type": "stream",
     "text": [
      "10/200\n"
     ]
    },
    {
     "name": "stderr",
     "output_type": "stream",
     "text": [
      "Warn: Ipython shell catchs sys.args\n"
     ]
    },
    {
     "name": "stdout",
     "output_type": "stream",
     "text": [
      "11/200\n"
     ]
    },
    {
     "name": "stderr",
     "output_type": "stream",
     "text": [
      "Warn: Ipython shell catchs sys.args\n"
     ]
    },
    {
     "name": "stdout",
     "output_type": "stream",
     "text": [
      "12/200\n"
     ]
    },
    {
     "name": "stderr",
     "output_type": "stream",
     "text": [
      "Warn: Ipython shell catchs sys.args\n"
     ]
    },
    {
     "name": "stdout",
     "output_type": "stream",
     "text": [
      "13/200\n"
     ]
    },
    {
     "name": "stderr",
     "output_type": "stream",
     "text": [
      "Warn: Ipython shell catchs sys.args\n"
     ]
    },
    {
     "name": "stdout",
     "output_type": "stream",
     "text": [
      "14/200\n"
     ]
    },
    {
     "name": "stderr",
     "output_type": "stream",
     "text": [
      "Warn: Ipython shell catchs sys.args\n"
     ]
    },
    {
     "name": "stdout",
     "output_type": "stream",
     "text": [
      "15/200\n"
     ]
    },
    {
     "name": "stderr",
     "output_type": "stream",
     "text": [
      "Warn: Ipython shell catchs sys.args\n"
     ]
    },
    {
     "name": "stdout",
     "output_type": "stream",
     "text": [
      "16/200\n"
     ]
    },
    {
     "name": "stderr",
     "output_type": "stream",
     "text": [
      "Warn: Ipython shell catchs sys.args\n"
     ]
    },
    {
     "name": "stdout",
     "output_type": "stream",
     "text": [
      "17/200\n"
     ]
    },
    {
     "name": "stderr",
     "output_type": "stream",
     "text": [
      "Warn: Ipython shell catchs sys.args\n"
     ]
    },
    {
     "name": "stdout",
     "output_type": "stream",
     "text": [
      "18/200\n"
     ]
    },
    {
     "name": "stderr",
     "output_type": "stream",
     "text": [
      "Warn: Ipython shell catchs sys.args\n"
     ]
    },
    {
     "name": "stdout",
     "output_type": "stream",
     "text": [
      "19/200\n"
     ]
    },
    {
     "name": "stderr",
     "output_type": "stream",
     "text": [
      "Warn: Ipython shell catchs sys.args\n"
     ]
    },
    {
     "name": "stdout",
     "output_type": "stream",
     "text": [
      "20/200\n"
     ]
    },
    {
     "name": "stderr",
     "output_type": "stream",
     "text": [
      "Warn: Ipython shell catchs sys.args\n"
     ]
    },
    {
     "name": "stdout",
     "output_type": "stream",
     "text": [
      "21/200\n"
     ]
    },
    {
     "name": "stderr",
     "output_type": "stream",
     "text": [
      "Warn: Ipython shell catchs sys.args\n"
     ]
    },
    {
     "name": "stdout",
     "output_type": "stream",
     "text": [
      "22/200\n"
     ]
    },
    {
     "name": "stderr",
     "output_type": "stream",
     "text": [
      "Warn: Ipython shell catchs sys.args\n"
     ]
    },
    {
     "name": "stdout",
     "output_type": "stream",
     "text": [
      "23/200\n"
     ]
    },
    {
     "name": "stderr",
     "output_type": "stream",
     "text": [
      "Warn: Ipython shell catchs sys.args\n"
     ]
    },
    {
     "name": "stdout",
     "output_type": "stream",
     "text": [
      "24/200\n"
     ]
    },
    {
     "name": "stderr",
     "output_type": "stream",
     "text": [
      "Warn: Ipython shell catchs sys.args\n"
     ]
    },
    {
     "name": "stdout",
     "output_type": "stream",
     "text": [
      "25/200\n"
     ]
    },
    {
     "name": "stderr",
     "output_type": "stream",
     "text": [
      "Warn: Ipython shell catchs sys.args\n"
     ]
    },
    {
     "name": "stdout",
     "output_type": "stream",
     "text": [
      "26/200\n"
     ]
    },
    {
     "name": "stderr",
     "output_type": "stream",
     "text": [
      "Warn: Ipython shell catchs sys.args\n"
     ]
    },
    {
     "name": "stdout",
     "output_type": "stream",
     "text": [
      "27/200\n"
     ]
    },
    {
     "name": "stderr",
     "output_type": "stream",
     "text": [
      "Warn: Ipython shell catchs sys.args\n"
     ]
    },
    {
     "name": "stdout",
     "output_type": "stream",
     "text": [
      "28/200\n"
     ]
    },
    {
     "name": "stderr",
     "output_type": "stream",
     "text": [
      "Warn: Ipython shell catchs sys.args\n"
     ]
    },
    {
     "name": "stdout",
     "output_type": "stream",
     "text": [
      "29/200\n"
     ]
    },
    {
     "name": "stderr",
     "output_type": "stream",
     "text": [
      "Warn: Ipython shell catchs sys.args\n"
     ]
    },
    {
     "name": "stdout",
     "output_type": "stream",
     "text": [
      "30/200\n"
     ]
    },
    {
     "name": "stderr",
     "output_type": "stream",
     "text": [
      "Warn: Ipython shell catchs sys.args\n"
     ]
    },
    {
     "name": "stdout",
     "output_type": "stream",
     "text": [
      "31/200\n"
     ]
    },
    {
     "name": "stderr",
     "output_type": "stream",
     "text": [
      "Warn: Ipython shell catchs sys.args\n"
     ]
    },
    {
     "name": "stdout",
     "output_type": "stream",
     "text": [
      "32/200\n"
     ]
    },
    {
     "name": "stderr",
     "output_type": "stream",
     "text": [
      "Warn: Ipython shell catchs sys.args\n"
     ]
    },
    {
     "name": "stdout",
     "output_type": "stream",
     "text": [
      "33/200\n"
     ]
    },
    {
     "name": "stderr",
     "output_type": "stream",
     "text": [
      "Warn: Ipython shell catchs sys.args\n"
     ]
    },
    {
     "name": "stdout",
     "output_type": "stream",
     "text": [
      "34/200\n"
     ]
    },
    {
     "name": "stderr",
     "output_type": "stream",
     "text": [
      "Warn: Ipython shell catchs sys.args\n"
     ]
    },
    {
     "name": "stdout",
     "output_type": "stream",
     "text": [
      "35/200\n"
     ]
    },
    {
     "name": "stderr",
     "output_type": "stream",
     "text": [
      "Warn: Ipython shell catchs sys.args\n"
     ]
    },
    {
     "name": "stdout",
     "output_type": "stream",
     "text": [
      "36/200\n"
     ]
    },
    {
     "name": "stderr",
     "output_type": "stream",
     "text": [
      "Warn: Ipython shell catchs sys.args\n"
     ]
    },
    {
     "name": "stdout",
     "output_type": "stream",
     "text": [
      "37/200\n"
     ]
    },
    {
     "name": "stderr",
     "output_type": "stream",
     "text": [
      "Warn: Ipython shell catchs sys.args\n"
     ]
    },
    {
     "name": "stdout",
     "output_type": "stream",
     "text": [
      "38/200\n"
     ]
    },
    {
     "name": "stderr",
     "output_type": "stream",
     "text": [
      "Warn: Ipython shell catchs sys.args\n"
     ]
    },
    {
     "name": "stdout",
     "output_type": "stream",
     "text": [
      "39/200\n"
     ]
    },
    {
     "name": "stderr",
     "output_type": "stream",
     "text": [
      "Warn: Ipython shell catchs sys.args\n"
     ]
    },
    {
     "name": "stdout",
     "output_type": "stream",
     "text": [
      "40/200\n"
     ]
    },
    {
     "name": "stderr",
     "output_type": "stream",
     "text": [
      "Warn: Ipython shell catchs sys.args\n"
     ]
    },
    {
     "name": "stdout",
     "output_type": "stream",
     "text": [
      "41/200\n"
     ]
    },
    {
     "name": "stderr",
     "output_type": "stream",
     "text": [
      "Warn: Ipython shell catchs sys.args\n"
     ]
    },
    {
     "name": "stdout",
     "output_type": "stream",
     "text": [
      "42/200\n"
     ]
    },
    {
     "name": "stderr",
     "output_type": "stream",
     "text": [
      "Warn: Ipython shell catchs sys.args\n"
     ]
    },
    {
     "name": "stdout",
     "output_type": "stream",
     "text": [
      "43/200\n"
     ]
    },
    {
     "name": "stderr",
     "output_type": "stream",
     "text": [
      "Warn: Ipython shell catchs sys.args\n"
     ]
    },
    {
     "name": "stdout",
     "output_type": "stream",
     "text": [
      "44/200\n"
     ]
    },
    {
     "name": "stderr",
     "output_type": "stream",
     "text": [
      "Warn: Ipython shell catchs sys.args\n"
     ]
    },
    {
     "name": "stdout",
     "output_type": "stream",
     "text": [
      "45/200\n"
     ]
    },
    {
     "name": "stderr",
     "output_type": "stream",
     "text": [
      "Warn: Ipython shell catchs sys.args\n"
     ]
    },
    {
     "name": "stdout",
     "output_type": "stream",
     "text": [
      "46/200\n"
     ]
    },
    {
     "name": "stderr",
     "output_type": "stream",
     "text": [
      "Warn: Ipython shell catchs sys.args\n"
     ]
    },
    {
     "name": "stdout",
     "output_type": "stream",
     "text": [
      "47/200\n"
     ]
    },
    {
     "name": "stderr",
     "output_type": "stream",
     "text": [
      "Warn: Ipython shell catchs sys.args\n"
     ]
    },
    {
     "name": "stdout",
     "output_type": "stream",
     "text": [
      "48/200\n"
     ]
    },
    {
     "name": "stderr",
     "output_type": "stream",
     "text": [
      "Warn: Ipython shell catchs sys.args\n"
     ]
    },
    {
     "name": "stdout",
     "output_type": "stream",
     "text": [
      "49/200\n"
     ]
    },
    {
     "name": "stderr",
     "output_type": "stream",
     "text": [
      "Warn: Ipython shell catchs sys.args\n"
     ]
    },
    {
     "name": "stdout",
     "output_type": "stream",
     "text": [
      "50/200\n"
     ]
    },
    {
     "name": "stderr",
     "output_type": "stream",
     "text": [
      "Warn: Ipython shell catchs sys.args\n"
     ]
    },
    {
     "name": "stdout",
     "output_type": "stream",
     "text": [
      "51/200\n"
     ]
    },
    {
     "name": "stderr",
     "output_type": "stream",
     "text": [
      "Warn: Ipython shell catchs sys.args\n"
     ]
    },
    {
     "name": "stdout",
     "output_type": "stream",
     "text": [
      "52/200\n"
     ]
    },
    {
     "name": "stderr",
     "output_type": "stream",
     "text": [
      "Warn: Ipython shell catchs sys.args\n"
     ]
    },
    {
     "name": "stdout",
     "output_type": "stream",
     "text": [
      "53/200\n"
     ]
    },
    {
     "name": "stderr",
     "output_type": "stream",
     "text": [
      "Warn: Ipython shell catchs sys.args\n"
     ]
    },
    {
     "name": "stdout",
     "output_type": "stream",
     "text": [
      "54/200\n"
     ]
    },
    {
     "name": "stderr",
     "output_type": "stream",
     "text": [
      "Warn: Ipython shell catchs sys.args\n"
     ]
    },
    {
     "name": "stdout",
     "output_type": "stream",
     "text": [
      "55/200\n"
     ]
    },
    {
     "name": "stderr",
     "output_type": "stream",
     "text": [
      "Warn: Ipython shell catchs sys.args\n"
     ]
    },
    {
     "name": "stdout",
     "output_type": "stream",
     "text": [
      "56/200\n"
     ]
    },
    {
     "name": "stderr",
     "output_type": "stream",
     "text": [
      "Warn: Ipython shell catchs sys.args\n"
     ]
    },
    {
     "name": "stdout",
     "output_type": "stream",
     "text": [
      "57/200\n"
     ]
    },
    {
     "name": "stderr",
     "output_type": "stream",
     "text": [
      "Warn: Ipython shell catchs sys.args\n"
     ]
    },
    {
     "name": "stdout",
     "output_type": "stream",
     "text": [
      "58/200\n"
     ]
    },
    {
     "name": "stderr",
     "output_type": "stream",
     "text": [
      "Warn: Ipython shell catchs sys.args\n"
     ]
    },
    {
     "name": "stdout",
     "output_type": "stream",
     "text": [
      "59/200\n"
     ]
    },
    {
     "name": "stderr",
     "output_type": "stream",
     "text": [
      "Warn: Ipython shell catchs sys.args\n"
     ]
    },
    {
     "name": "stdout",
     "output_type": "stream",
     "text": [
      "60/200\n"
     ]
    },
    {
     "name": "stderr",
     "output_type": "stream",
     "text": [
      "Warn: Ipython shell catchs sys.args\n"
     ]
    },
    {
     "name": "stdout",
     "output_type": "stream",
     "text": [
      "61/200\n"
     ]
    },
    {
     "name": "stderr",
     "output_type": "stream",
     "text": [
      "Warn: Ipython shell catchs sys.args\n"
     ]
    },
    {
     "name": "stdout",
     "output_type": "stream",
     "text": [
      "62/200\n"
     ]
    },
    {
     "name": "stderr",
     "output_type": "stream",
     "text": [
      "Warn: Ipython shell catchs sys.args\n"
     ]
    },
    {
     "name": "stdout",
     "output_type": "stream",
     "text": [
      "63/200\n"
     ]
    },
    {
     "name": "stderr",
     "output_type": "stream",
     "text": [
      "Warn: Ipython shell catchs sys.args\n"
     ]
    },
    {
     "name": "stdout",
     "output_type": "stream",
     "text": [
      "64/200\n"
     ]
    },
    {
     "name": "stderr",
     "output_type": "stream",
     "text": [
      "Warn: Ipython shell catchs sys.args\n"
     ]
    },
    {
     "name": "stdout",
     "output_type": "stream",
     "text": [
      "65/200\n"
     ]
    },
    {
     "name": "stderr",
     "output_type": "stream",
     "text": [
      "Warn: Ipython shell catchs sys.args\n"
     ]
    },
    {
     "name": "stdout",
     "output_type": "stream",
     "text": [
      "66/200\n"
     ]
    },
    {
     "name": "stderr",
     "output_type": "stream",
     "text": [
      "Warn: Ipython shell catchs sys.args\n"
     ]
    },
    {
     "name": "stdout",
     "output_type": "stream",
     "text": [
      "67/200\n"
     ]
    },
    {
     "name": "stderr",
     "output_type": "stream",
     "text": [
      "Warn: Ipython shell catchs sys.args\n"
     ]
    },
    {
     "name": "stdout",
     "output_type": "stream",
     "text": [
      "68/200\n"
     ]
    },
    {
     "name": "stderr",
     "output_type": "stream",
     "text": [
      "Warn: Ipython shell catchs sys.args\n"
     ]
    },
    {
     "name": "stdout",
     "output_type": "stream",
     "text": [
      "69/200\n"
     ]
    },
    {
     "name": "stderr",
     "output_type": "stream",
     "text": [
      "Warn: Ipython shell catchs sys.args\n"
     ]
    },
    {
     "name": "stdout",
     "output_type": "stream",
     "text": [
      "70/200\n"
     ]
    },
    {
     "name": "stderr",
     "output_type": "stream",
     "text": [
      "Warn: Ipython shell catchs sys.args\n"
     ]
    },
    {
     "name": "stdout",
     "output_type": "stream",
     "text": [
      "71/200\n"
     ]
    },
    {
     "name": "stderr",
     "output_type": "stream",
     "text": [
      "Warn: Ipython shell catchs sys.args\n"
     ]
    },
    {
     "name": "stdout",
     "output_type": "stream",
     "text": [
      "72/200\n"
     ]
    },
    {
     "name": "stderr",
     "output_type": "stream",
     "text": [
      "Warn: Ipython shell catchs sys.args\n"
     ]
    },
    {
     "name": "stdout",
     "output_type": "stream",
     "text": [
      "73/200\n"
     ]
    },
    {
     "name": "stderr",
     "output_type": "stream",
     "text": [
      "Warn: Ipython shell catchs sys.args\n"
     ]
    },
    {
     "name": "stdout",
     "output_type": "stream",
     "text": [
      "74/200\n"
     ]
    },
    {
     "name": "stderr",
     "output_type": "stream",
     "text": [
      "Warn: Ipython shell catchs sys.args\n"
     ]
    },
    {
     "name": "stdout",
     "output_type": "stream",
     "text": [
      "75/200\n"
     ]
    },
    {
     "name": "stderr",
     "output_type": "stream",
     "text": [
      "Warn: Ipython shell catchs sys.args\n"
     ]
    },
    {
     "name": "stdout",
     "output_type": "stream",
     "text": [
      "76/200\n"
     ]
    },
    {
     "name": "stderr",
     "output_type": "stream",
     "text": [
      "Warn: Ipython shell catchs sys.args\n"
     ]
    },
    {
     "name": "stdout",
     "output_type": "stream",
     "text": [
      "77/200\n"
     ]
    },
    {
     "name": "stderr",
     "output_type": "stream",
     "text": [
      "Warn: Ipython shell catchs sys.args\n"
     ]
    },
    {
     "name": "stdout",
     "output_type": "stream",
     "text": [
      "78/200\n"
     ]
    },
    {
     "name": "stderr",
     "output_type": "stream",
     "text": [
      "Warn: Ipython shell catchs sys.args\n"
     ]
    },
    {
     "name": "stdout",
     "output_type": "stream",
     "text": [
      "79/200\n"
     ]
    },
    {
     "name": "stderr",
     "output_type": "stream",
     "text": [
      "Warn: Ipython shell catchs sys.args\n"
     ]
    },
    {
     "name": "stdout",
     "output_type": "stream",
     "text": [
      "80/200\n"
     ]
    },
    {
     "name": "stderr",
     "output_type": "stream",
     "text": [
      "Warn: Ipython shell catchs sys.args\n"
     ]
    },
    {
     "name": "stdout",
     "output_type": "stream",
     "text": [
      "81/200\n"
     ]
    },
    {
     "name": "stderr",
     "output_type": "stream",
     "text": [
      "Warn: Ipython shell catchs sys.args\n"
     ]
    },
    {
     "name": "stdout",
     "output_type": "stream",
     "text": [
      "82/200\n"
     ]
    },
    {
     "name": "stderr",
     "output_type": "stream",
     "text": [
      "Warn: Ipython shell catchs sys.args\n"
     ]
    },
    {
     "name": "stdout",
     "output_type": "stream",
     "text": [
      "83/200\n"
     ]
    },
    {
     "name": "stderr",
     "output_type": "stream",
     "text": [
      "Warn: Ipython shell catchs sys.args\n"
     ]
    },
    {
     "name": "stdout",
     "output_type": "stream",
     "text": [
      "84/200\n"
     ]
    },
    {
     "name": "stderr",
     "output_type": "stream",
     "text": [
      "Warn: Ipython shell catchs sys.args\n"
     ]
    },
    {
     "name": "stdout",
     "output_type": "stream",
     "text": [
      "85/200\n"
     ]
    },
    {
     "name": "stderr",
     "output_type": "stream",
     "text": [
      "Warn: Ipython shell catchs sys.args\n"
     ]
    },
    {
     "name": "stdout",
     "output_type": "stream",
     "text": [
      "86/200\n"
     ]
    },
    {
     "name": "stderr",
     "output_type": "stream",
     "text": [
      "Warn: Ipython shell catchs sys.args\n"
     ]
    },
    {
     "name": "stdout",
     "output_type": "stream",
     "text": [
      "87/200\n"
     ]
    },
    {
     "name": "stderr",
     "output_type": "stream",
     "text": [
      "Warn: Ipython shell catchs sys.args\n"
     ]
    },
    {
     "name": "stdout",
     "output_type": "stream",
     "text": [
      "88/200\n"
     ]
    },
    {
     "name": "stderr",
     "output_type": "stream",
     "text": [
      "Warn: Ipython shell catchs sys.args\n"
     ]
    },
    {
     "name": "stdout",
     "output_type": "stream",
     "text": [
      "89/200\n"
     ]
    },
    {
     "name": "stderr",
     "output_type": "stream",
     "text": [
      "Warn: Ipython shell catchs sys.args\n"
     ]
    },
    {
     "name": "stdout",
     "output_type": "stream",
     "text": [
      "90/200\n"
     ]
    },
    {
     "name": "stderr",
     "output_type": "stream",
     "text": [
      "Warn: Ipython shell catchs sys.args\n"
     ]
    },
    {
     "name": "stdout",
     "output_type": "stream",
     "text": [
      "91/200\n"
     ]
    },
    {
     "name": "stderr",
     "output_type": "stream",
     "text": [
      "Warn: Ipython shell catchs sys.args\n"
     ]
    },
    {
     "name": "stdout",
     "output_type": "stream",
     "text": [
      "92/200\n"
     ]
    },
    {
     "name": "stderr",
     "output_type": "stream",
     "text": [
      "Warn: Ipython shell catchs sys.args\n"
     ]
    },
    {
     "name": "stdout",
     "output_type": "stream",
     "text": [
      "93/200\n"
     ]
    },
    {
     "name": "stderr",
     "output_type": "stream",
     "text": [
      "Warn: Ipython shell catchs sys.args\n"
     ]
    },
    {
     "name": "stdout",
     "output_type": "stream",
     "text": [
      "94/200\n"
     ]
    },
    {
     "name": "stderr",
     "output_type": "stream",
     "text": [
      "Warn: Ipython shell catchs sys.args\n"
     ]
    },
    {
     "name": "stdout",
     "output_type": "stream",
     "text": [
      "95/200\n"
     ]
    },
    {
     "name": "stderr",
     "output_type": "stream",
     "text": [
      "Warn: Ipython shell catchs sys.args\n"
     ]
    },
    {
     "name": "stdout",
     "output_type": "stream",
     "text": [
      "96/200\n"
     ]
    },
    {
     "name": "stderr",
     "output_type": "stream",
     "text": [
      "Warn: Ipython shell catchs sys.args\n"
     ]
    },
    {
     "name": "stdout",
     "output_type": "stream",
     "text": [
      "97/200\n"
     ]
    },
    {
     "name": "stderr",
     "output_type": "stream",
     "text": [
      "Warn: Ipython shell catchs sys.args\n"
     ]
    },
    {
     "name": "stdout",
     "output_type": "stream",
     "text": [
      "98/200\n"
     ]
    },
    {
     "name": "stderr",
     "output_type": "stream",
     "text": [
      "Warn: Ipython shell catchs sys.args\n"
     ]
    },
    {
     "name": "stdout",
     "output_type": "stream",
     "text": [
      "99/200\n"
     ]
    },
    {
     "name": "stderr",
     "output_type": "stream",
     "text": [
      "Warn: Ipython shell catchs sys.args\n"
     ]
    },
    {
     "name": "stdout",
     "output_type": "stream",
     "text": [
      "100/200\n"
     ]
    },
    {
     "name": "stderr",
     "output_type": "stream",
     "text": [
      "Warn: Ipython shell catchs sys.args\n"
     ]
    },
    {
     "name": "stdout",
     "output_type": "stream",
     "text": [
      "101/200\n"
     ]
    },
    {
     "name": "stderr",
     "output_type": "stream",
     "text": [
      "Warn: Ipython shell catchs sys.args\n"
     ]
    },
    {
     "name": "stdout",
     "output_type": "stream",
     "text": [
      "102/200\n"
     ]
    },
    {
     "name": "stderr",
     "output_type": "stream",
     "text": [
      "Warn: Ipython shell catchs sys.args\n"
     ]
    },
    {
     "name": "stdout",
     "output_type": "stream",
     "text": [
      "103/200\n"
     ]
    },
    {
     "name": "stderr",
     "output_type": "stream",
     "text": [
      "Warn: Ipython shell catchs sys.args\n"
     ]
    },
    {
     "name": "stdout",
     "output_type": "stream",
     "text": [
      "104/200\n"
     ]
    },
    {
     "name": "stderr",
     "output_type": "stream",
     "text": [
      "Warn: Ipython shell catchs sys.args\n"
     ]
    },
    {
     "name": "stdout",
     "output_type": "stream",
     "text": [
      "105/200\n"
     ]
    },
    {
     "name": "stderr",
     "output_type": "stream",
     "text": [
      "Warn: Ipython shell catchs sys.args\n"
     ]
    },
    {
     "name": "stdout",
     "output_type": "stream",
     "text": [
      "106/200\n"
     ]
    },
    {
     "name": "stderr",
     "output_type": "stream",
     "text": [
      "Warn: Ipython shell catchs sys.args\n"
     ]
    },
    {
     "name": "stdout",
     "output_type": "stream",
     "text": [
      "107/200\n"
     ]
    },
    {
     "name": "stderr",
     "output_type": "stream",
     "text": [
      "Warn: Ipython shell catchs sys.args\n"
     ]
    },
    {
     "name": "stdout",
     "output_type": "stream",
     "text": [
      "108/200\n"
     ]
    },
    {
     "name": "stderr",
     "output_type": "stream",
     "text": [
      "Warn: Ipython shell catchs sys.args\n"
     ]
    },
    {
     "name": "stdout",
     "output_type": "stream",
     "text": [
      "109/200\n"
     ]
    },
    {
     "name": "stderr",
     "output_type": "stream",
     "text": [
      "Warn: Ipython shell catchs sys.args\n"
     ]
    },
    {
     "name": "stdout",
     "output_type": "stream",
     "text": [
      "110/200\n"
     ]
    },
    {
     "name": "stderr",
     "output_type": "stream",
     "text": [
      "Warn: Ipython shell catchs sys.args\n"
     ]
    },
    {
     "name": "stdout",
     "output_type": "stream",
     "text": [
      "111/200\n"
     ]
    },
    {
     "name": "stderr",
     "output_type": "stream",
     "text": [
      "Warn: Ipython shell catchs sys.args\n"
     ]
    },
    {
     "name": "stdout",
     "output_type": "stream",
     "text": [
      "112/200\n"
     ]
    },
    {
     "name": "stderr",
     "output_type": "stream",
     "text": [
      "Warn: Ipython shell catchs sys.args\n"
     ]
    },
    {
     "name": "stdout",
     "output_type": "stream",
     "text": [
      "113/200\n"
     ]
    },
    {
     "name": "stderr",
     "output_type": "stream",
     "text": [
      "Warn: Ipython shell catchs sys.args\n"
     ]
    },
    {
     "name": "stdout",
     "output_type": "stream",
     "text": [
      "114/200\n"
     ]
    },
    {
     "name": "stderr",
     "output_type": "stream",
     "text": [
      "Warn: Ipython shell catchs sys.args\n"
     ]
    },
    {
     "name": "stdout",
     "output_type": "stream",
     "text": [
      "115/200\n"
     ]
    },
    {
     "name": "stderr",
     "output_type": "stream",
     "text": [
      "Warn: Ipython shell catchs sys.args\n"
     ]
    },
    {
     "name": "stdout",
     "output_type": "stream",
     "text": [
      "116/200\n"
     ]
    },
    {
     "name": "stderr",
     "output_type": "stream",
     "text": [
      "Warn: Ipython shell catchs sys.args\n"
     ]
    },
    {
     "name": "stdout",
     "output_type": "stream",
     "text": [
      "117/200\n"
     ]
    },
    {
     "name": "stderr",
     "output_type": "stream",
     "text": [
      "Warn: Ipython shell catchs sys.args\n"
     ]
    },
    {
     "name": "stdout",
     "output_type": "stream",
     "text": [
      "118/200\n"
     ]
    },
    {
     "name": "stderr",
     "output_type": "stream",
     "text": [
      "Warn: Ipython shell catchs sys.args\n"
     ]
    },
    {
     "name": "stdout",
     "output_type": "stream",
     "text": [
      "119/200\n"
     ]
    },
    {
     "name": "stderr",
     "output_type": "stream",
     "text": [
      "Warn: Ipython shell catchs sys.args\n"
     ]
    },
    {
     "name": "stdout",
     "output_type": "stream",
     "text": [
      "120/200\n"
     ]
    },
    {
     "name": "stderr",
     "output_type": "stream",
     "text": [
      "Warn: Ipython shell catchs sys.args\n"
     ]
    },
    {
     "name": "stdout",
     "output_type": "stream",
     "text": [
      "121/200\n"
     ]
    },
    {
     "name": "stderr",
     "output_type": "stream",
     "text": [
      "Warn: Ipython shell catchs sys.args\n"
     ]
    },
    {
     "name": "stdout",
     "output_type": "stream",
     "text": [
      "122/200\n"
     ]
    },
    {
     "name": "stderr",
     "output_type": "stream",
     "text": [
      "Warn: Ipython shell catchs sys.args\n"
     ]
    },
    {
     "name": "stdout",
     "output_type": "stream",
     "text": [
      "123/200\n"
     ]
    },
    {
     "name": "stderr",
     "output_type": "stream",
     "text": [
      "Warn: Ipython shell catchs sys.args\n"
     ]
    },
    {
     "name": "stdout",
     "output_type": "stream",
     "text": [
      "124/200\n"
     ]
    },
    {
     "name": "stderr",
     "output_type": "stream",
     "text": [
      "Warn: Ipython shell catchs sys.args\n"
     ]
    },
    {
     "name": "stdout",
     "output_type": "stream",
     "text": [
      "125/200\n"
     ]
    },
    {
     "name": "stderr",
     "output_type": "stream",
     "text": [
      "Warn: Ipython shell catchs sys.args\n"
     ]
    },
    {
     "name": "stdout",
     "output_type": "stream",
     "text": [
      "126/200\n"
     ]
    },
    {
     "name": "stderr",
     "output_type": "stream",
     "text": [
      "Warn: Ipython shell catchs sys.args\n"
     ]
    },
    {
     "name": "stdout",
     "output_type": "stream",
     "text": [
      "127/200\n"
     ]
    },
    {
     "name": "stderr",
     "output_type": "stream",
     "text": [
      "Warn: Ipython shell catchs sys.args\n"
     ]
    },
    {
     "name": "stdout",
     "output_type": "stream",
     "text": [
      "128/200\n"
     ]
    },
    {
     "name": "stderr",
     "output_type": "stream",
     "text": [
      "Warn: Ipython shell catchs sys.args\n"
     ]
    },
    {
     "name": "stdout",
     "output_type": "stream",
     "text": [
      "129/200\n"
     ]
    },
    {
     "name": "stderr",
     "output_type": "stream",
     "text": [
      "Warn: Ipython shell catchs sys.args\n"
     ]
    },
    {
     "name": "stdout",
     "output_type": "stream",
     "text": [
      "130/200\n"
     ]
    },
    {
     "name": "stderr",
     "output_type": "stream",
     "text": [
      "Warn: Ipython shell catchs sys.args\n"
     ]
    },
    {
     "name": "stdout",
     "output_type": "stream",
     "text": [
      "131/200\n"
     ]
    },
    {
     "name": "stderr",
     "output_type": "stream",
     "text": [
      "Warn: Ipython shell catchs sys.args\n"
     ]
    },
    {
     "name": "stdout",
     "output_type": "stream",
     "text": [
      "132/200\n"
     ]
    },
    {
     "name": "stderr",
     "output_type": "stream",
     "text": [
      "Warn: Ipython shell catchs sys.args\n"
     ]
    },
    {
     "name": "stdout",
     "output_type": "stream",
     "text": [
      "133/200\n"
     ]
    },
    {
     "name": "stderr",
     "output_type": "stream",
     "text": [
      "Warn: Ipython shell catchs sys.args\n"
     ]
    },
    {
     "name": "stdout",
     "output_type": "stream",
     "text": [
      "134/200\n"
     ]
    },
    {
     "name": "stderr",
     "output_type": "stream",
     "text": [
      "Warn: Ipython shell catchs sys.args\n"
     ]
    },
    {
     "name": "stdout",
     "output_type": "stream",
     "text": [
      "135/200\n"
     ]
    },
    {
     "name": "stderr",
     "output_type": "stream",
     "text": [
      "Warn: Ipython shell catchs sys.args\n"
     ]
    },
    {
     "name": "stdout",
     "output_type": "stream",
     "text": [
      "136/200\n"
     ]
    },
    {
     "name": "stderr",
     "output_type": "stream",
     "text": [
      "Warn: Ipython shell catchs sys.args\n"
     ]
    },
    {
     "name": "stdout",
     "output_type": "stream",
     "text": [
      "137/200\n"
     ]
    },
    {
     "name": "stderr",
     "output_type": "stream",
     "text": [
      "Warn: Ipython shell catchs sys.args\n"
     ]
    },
    {
     "name": "stdout",
     "output_type": "stream",
     "text": [
      "138/200\n"
     ]
    },
    {
     "name": "stderr",
     "output_type": "stream",
     "text": [
      "Warn: Ipython shell catchs sys.args\n"
     ]
    },
    {
     "name": "stdout",
     "output_type": "stream",
     "text": [
      "139/200\n"
     ]
    },
    {
     "name": "stderr",
     "output_type": "stream",
     "text": [
      "Warn: Ipython shell catchs sys.args\n"
     ]
    },
    {
     "name": "stdout",
     "output_type": "stream",
     "text": [
      "140/200\n"
     ]
    },
    {
     "name": "stderr",
     "output_type": "stream",
     "text": [
      "Warn: Ipython shell catchs sys.args\n"
     ]
    },
    {
     "name": "stdout",
     "output_type": "stream",
     "text": [
      "141/200\n"
     ]
    },
    {
     "name": "stderr",
     "output_type": "stream",
     "text": [
      "Warn: Ipython shell catchs sys.args\n"
     ]
    },
    {
     "name": "stdout",
     "output_type": "stream",
     "text": [
      "142/200\n"
     ]
    },
    {
     "name": "stderr",
     "output_type": "stream",
     "text": [
      "Warn: Ipython shell catchs sys.args\n"
     ]
    },
    {
     "name": "stdout",
     "output_type": "stream",
     "text": [
      "143/200\n"
     ]
    },
    {
     "name": "stderr",
     "output_type": "stream",
     "text": [
      "Warn: Ipython shell catchs sys.args\n"
     ]
    },
    {
     "name": "stdout",
     "output_type": "stream",
     "text": [
      "144/200\n"
     ]
    },
    {
     "name": "stderr",
     "output_type": "stream",
     "text": [
      "Warn: Ipython shell catchs sys.args\n"
     ]
    },
    {
     "name": "stdout",
     "output_type": "stream",
     "text": [
      "145/200\n"
     ]
    },
    {
     "name": "stderr",
     "output_type": "stream",
     "text": [
      "Warn: Ipython shell catchs sys.args\n"
     ]
    },
    {
     "name": "stdout",
     "output_type": "stream",
     "text": [
      "146/200\n"
     ]
    },
    {
     "name": "stderr",
     "output_type": "stream",
     "text": [
      "Warn: Ipython shell catchs sys.args\n"
     ]
    },
    {
     "name": "stdout",
     "output_type": "stream",
     "text": [
      "147/200\n"
     ]
    },
    {
     "name": "stderr",
     "output_type": "stream",
     "text": [
      "Warn: Ipython shell catchs sys.args\n"
     ]
    },
    {
     "name": "stdout",
     "output_type": "stream",
     "text": [
      "148/200\n"
     ]
    },
    {
     "name": "stderr",
     "output_type": "stream",
     "text": [
      "Warn: Ipython shell catchs sys.args\n"
     ]
    },
    {
     "name": "stdout",
     "output_type": "stream",
     "text": [
      "149/200\n"
     ]
    },
    {
     "name": "stderr",
     "output_type": "stream",
     "text": [
      "Warn: Ipython shell catchs sys.args\n"
     ]
    },
    {
     "name": "stdout",
     "output_type": "stream",
     "text": [
      "150/200\n"
     ]
    },
    {
     "name": "stderr",
     "output_type": "stream",
     "text": [
      "Warn: Ipython shell catchs sys.args\n"
     ]
    },
    {
     "name": "stdout",
     "output_type": "stream",
     "text": [
      "151/200\n"
     ]
    },
    {
     "name": "stderr",
     "output_type": "stream",
     "text": [
      "Warn: Ipython shell catchs sys.args\n"
     ]
    },
    {
     "name": "stdout",
     "output_type": "stream",
     "text": [
      "152/200\n"
     ]
    },
    {
     "name": "stderr",
     "output_type": "stream",
     "text": [
      "Warn: Ipython shell catchs sys.args\n"
     ]
    },
    {
     "name": "stdout",
     "output_type": "stream",
     "text": [
      "153/200\n"
     ]
    },
    {
     "name": "stderr",
     "output_type": "stream",
     "text": [
      "Warn: Ipython shell catchs sys.args\n"
     ]
    },
    {
     "name": "stdout",
     "output_type": "stream",
     "text": [
      "154/200\n"
     ]
    },
    {
     "name": "stderr",
     "output_type": "stream",
     "text": [
      "Warn: Ipython shell catchs sys.args\n"
     ]
    },
    {
     "name": "stdout",
     "output_type": "stream",
     "text": [
      "155/200\n"
     ]
    },
    {
     "name": "stderr",
     "output_type": "stream",
     "text": [
      "Warn: Ipython shell catchs sys.args\n"
     ]
    },
    {
     "name": "stdout",
     "output_type": "stream",
     "text": [
      "156/200\n"
     ]
    },
    {
     "name": "stderr",
     "output_type": "stream",
     "text": [
      "Warn: Ipython shell catchs sys.args\n"
     ]
    },
    {
     "name": "stdout",
     "output_type": "stream",
     "text": [
      "157/200\n"
     ]
    },
    {
     "name": "stderr",
     "output_type": "stream",
     "text": [
      "Warn: Ipython shell catchs sys.args\n"
     ]
    },
    {
     "name": "stdout",
     "output_type": "stream",
     "text": [
      "158/200\n"
     ]
    },
    {
     "name": "stderr",
     "output_type": "stream",
     "text": [
      "Warn: Ipython shell catchs sys.args\n"
     ]
    },
    {
     "name": "stdout",
     "output_type": "stream",
     "text": [
      "159/200\n"
     ]
    },
    {
     "name": "stderr",
     "output_type": "stream",
     "text": [
      "Warn: Ipython shell catchs sys.args\n"
     ]
    },
    {
     "name": "stdout",
     "output_type": "stream",
     "text": [
      "160/200\n"
     ]
    },
    {
     "name": "stderr",
     "output_type": "stream",
     "text": [
      "Warn: Ipython shell catchs sys.args\n"
     ]
    },
    {
     "name": "stdout",
     "output_type": "stream",
     "text": [
      "161/200\n"
     ]
    },
    {
     "name": "stderr",
     "output_type": "stream",
     "text": [
      "Warn: Ipython shell catchs sys.args\n"
     ]
    },
    {
     "name": "stdout",
     "output_type": "stream",
     "text": [
      "162/200\n"
     ]
    },
    {
     "name": "stderr",
     "output_type": "stream",
     "text": [
      "Warn: Ipython shell catchs sys.args\n"
     ]
    },
    {
     "name": "stdout",
     "output_type": "stream",
     "text": [
      "163/200\n"
     ]
    },
    {
     "name": "stderr",
     "output_type": "stream",
     "text": [
      "Warn: Ipython shell catchs sys.args\n"
     ]
    },
    {
     "name": "stdout",
     "output_type": "stream",
     "text": [
      "164/200\n"
     ]
    },
    {
     "name": "stderr",
     "output_type": "stream",
     "text": [
      "Warn: Ipython shell catchs sys.args\n"
     ]
    },
    {
     "name": "stdout",
     "output_type": "stream",
     "text": [
      "165/200\n"
     ]
    },
    {
     "name": "stderr",
     "output_type": "stream",
     "text": [
      "Warn: Ipython shell catchs sys.args\n"
     ]
    },
    {
     "name": "stdout",
     "output_type": "stream",
     "text": [
      "166/200\n"
     ]
    },
    {
     "name": "stderr",
     "output_type": "stream",
     "text": [
      "Warn: Ipython shell catchs sys.args\n"
     ]
    },
    {
     "name": "stdout",
     "output_type": "stream",
     "text": [
      "167/200\n"
     ]
    },
    {
     "name": "stderr",
     "output_type": "stream",
     "text": [
      "Warn: Ipython shell catchs sys.args\n"
     ]
    },
    {
     "name": "stdout",
     "output_type": "stream",
     "text": [
      "168/200\n"
     ]
    },
    {
     "name": "stderr",
     "output_type": "stream",
     "text": [
      "Warn: Ipython shell catchs sys.args\n"
     ]
    },
    {
     "name": "stdout",
     "output_type": "stream",
     "text": [
      "169/200\n"
     ]
    },
    {
     "name": "stderr",
     "output_type": "stream",
     "text": [
      "Warn: Ipython shell catchs sys.args\n"
     ]
    },
    {
     "name": "stdout",
     "output_type": "stream",
     "text": [
      "170/200\n"
     ]
    },
    {
     "name": "stderr",
     "output_type": "stream",
     "text": [
      "Warn: Ipython shell catchs sys.args\n"
     ]
    },
    {
     "name": "stdout",
     "output_type": "stream",
     "text": [
      "171/200\n"
     ]
    },
    {
     "name": "stderr",
     "output_type": "stream",
     "text": [
      "Warn: Ipython shell catchs sys.args\n"
     ]
    },
    {
     "name": "stdout",
     "output_type": "stream",
     "text": [
      "172/200\n"
     ]
    },
    {
     "name": "stderr",
     "output_type": "stream",
     "text": [
      "Warn: Ipython shell catchs sys.args\n"
     ]
    },
    {
     "name": "stdout",
     "output_type": "stream",
     "text": [
      "173/200\n"
     ]
    },
    {
     "name": "stderr",
     "output_type": "stream",
     "text": [
      "Warn: Ipython shell catchs sys.args\n"
     ]
    },
    {
     "name": "stdout",
     "output_type": "stream",
     "text": [
      "174/200\n"
     ]
    },
    {
     "name": "stderr",
     "output_type": "stream",
     "text": [
      "Warn: Ipython shell catchs sys.args\n"
     ]
    },
    {
     "name": "stdout",
     "output_type": "stream",
     "text": [
      "175/200\n"
     ]
    },
    {
     "name": "stderr",
     "output_type": "stream",
     "text": [
      "Warn: Ipython shell catchs sys.args\n"
     ]
    },
    {
     "name": "stdout",
     "output_type": "stream",
     "text": [
      "176/200\n"
     ]
    },
    {
     "name": "stderr",
     "output_type": "stream",
     "text": [
      "Warn: Ipython shell catchs sys.args\n"
     ]
    },
    {
     "name": "stdout",
     "output_type": "stream",
     "text": [
      "177/200\n"
     ]
    },
    {
     "name": "stderr",
     "output_type": "stream",
     "text": [
      "Warn: Ipython shell catchs sys.args\n"
     ]
    },
    {
     "name": "stdout",
     "output_type": "stream",
     "text": [
      "178/200\n"
     ]
    },
    {
     "name": "stderr",
     "output_type": "stream",
     "text": [
      "Warn: Ipython shell catchs sys.args\n"
     ]
    },
    {
     "name": "stdout",
     "output_type": "stream",
     "text": [
      "179/200\n"
     ]
    },
    {
     "name": "stderr",
     "output_type": "stream",
     "text": [
      "Warn: Ipython shell catchs sys.args\n"
     ]
    },
    {
     "name": "stdout",
     "output_type": "stream",
     "text": [
      "180/200\n"
     ]
    },
    {
     "name": "stderr",
     "output_type": "stream",
     "text": [
      "Warn: Ipython shell catchs sys.args\n"
     ]
    },
    {
     "name": "stdout",
     "output_type": "stream",
     "text": [
      "181/200\n"
     ]
    },
    {
     "name": "stderr",
     "output_type": "stream",
     "text": [
      "Warn: Ipython shell catchs sys.args\n"
     ]
    },
    {
     "name": "stdout",
     "output_type": "stream",
     "text": [
      "182/200\n"
     ]
    },
    {
     "name": "stderr",
     "output_type": "stream",
     "text": [
      "Warn: Ipython shell catchs sys.args\n"
     ]
    },
    {
     "name": "stdout",
     "output_type": "stream",
     "text": [
      "183/200\n"
     ]
    },
    {
     "name": "stderr",
     "output_type": "stream",
     "text": [
      "Warn: Ipython shell catchs sys.args\n"
     ]
    },
    {
     "name": "stdout",
     "output_type": "stream",
     "text": [
      "184/200\n"
     ]
    },
    {
     "name": "stderr",
     "output_type": "stream",
     "text": [
      "Warn: Ipython shell catchs sys.args\n"
     ]
    },
    {
     "name": "stdout",
     "output_type": "stream",
     "text": [
      "185/200\n"
     ]
    },
    {
     "name": "stderr",
     "output_type": "stream",
     "text": [
      "Warn: Ipython shell catchs sys.args\n"
     ]
    },
    {
     "name": "stdout",
     "output_type": "stream",
     "text": [
      "186/200\n"
     ]
    },
    {
     "name": "stderr",
     "output_type": "stream",
     "text": [
      "Warn: Ipython shell catchs sys.args\n"
     ]
    },
    {
     "name": "stdout",
     "output_type": "stream",
     "text": [
      "187/200\n"
     ]
    },
    {
     "name": "stderr",
     "output_type": "stream",
     "text": [
      "Warn: Ipython shell catchs sys.args\n"
     ]
    },
    {
     "name": "stdout",
     "output_type": "stream",
     "text": [
      "188/200\n"
     ]
    },
    {
     "name": "stderr",
     "output_type": "stream",
     "text": [
      "Warn: Ipython shell catchs sys.args\n"
     ]
    },
    {
     "name": "stdout",
     "output_type": "stream",
     "text": [
      "189/200\n"
     ]
    },
    {
     "name": "stderr",
     "output_type": "stream",
     "text": [
      "Warn: Ipython shell catchs sys.args\n"
     ]
    },
    {
     "name": "stdout",
     "output_type": "stream",
     "text": [
      "190/200\n"
     ]
    },
    {
     "name": "stderr",
     "output_type": "stream",
     "text": [
      "Warn: Ipython shell catchs sys.args\n"
     ]
    },
    {
     "name": "stdout",
     "output_type": "stream",
     "text": [
      "191/200\n"
     ]
    },
    {
     "name": "stderr",
     "output_type": "stream",
     "text": [
      "Warn: Ipython shell catchs sys.args\n"
     ]
    },
    {
     "name": "stdout",
     "output_type": "stream",
     "text": [
      "192/200\n"
     ]
    },
    {
     "name": "stderr",
     "output_type": "stream",
     "text": [
      "Warn: Ipython shell catchs sys.args\n"
     ]
    },
    {
     "name": "stdout",
     "output_type": "stream",
     "text": [
      "193/200\n"
     ]
    },
    {
     "name": "stderr",
     "output_type": "stream",
     "text": [
      "Warn: Ipython shell catchs sys.args\n"
     ]
    },
    {
     "name": "stdout",
     "output_type": "stream",
     "text": [
      "194/200\n"
     ]
    },
    {
     "name": "stderr",
     "output_type": "stream",
     "text": [
      "Warn: Ipython shell catchs sys.args\n"
     ]
    },
    {
     "name": "stdout",
     "output_type": "stream",
     "text": [
      "195/200\n"
     ]
    },
    {
     "name": "stderr",
     "output_type": "stream",
     "text": [
      "Warn: Ipython shell catchs sys.args\n"
     ]
    },
    {
     "name": "stdout",
     "output_type": "stream",
     "text": [
      "196/200\n"
     ]
    },
    {
     "name": "stderr",
     "output_type": "stream",
     "text": [
      "Warn: Ipython shell catchs sys.args\n"
     ]
    },
    {
     "name": "stdout",
     "output_type": "stream",
     "text": [
      "197/200\n"
     ]
    },
    {
     "name": "stderr",
     "output_type": "stream",
     "text": [
      "Warn: Ipython shell catchs sys.args\n"
     ]
    },
    {
     "name": "stdout",
     "output_type": "stream",
     "text": [
      "198/200\n"
     ]
    },
    {
     "name": "stderr",
     "output_type": "stream",
     "text": [
      "Warn: Ipython shell catchs sys.args\n"
     ]
    },
    {
     "name": "stdout",
     "output_type": "stream",
     "text": [
      "199/200\n"
     ]
    },
    {
     "name": "stderr",
     "output_type": "stream",
     "text": [
      "Warn: Ipython shell catchs sys.args\n"
     ]
    },
    {
     "name": "stdout",
     "output_type": "stream",
     "text": [
      "200/200\n"
     ]
    },
    {
     "name": "stderr",
     "output_type": "stream",
     "text": [
      "Warn: Ipython shell catchs sys.args\n"
     ]
    }
   ],
   "source": [
    "from pyscf.scf import hf\n",
    "\n",
    "S, P = [], []\n",
    "for i, molecule in enumerate(molecules):\n",
    "    \n",
    "    print(str(i + 1) + \"/\" + str(len(molecules)))\n",
    "    \n",
    "    mol = molecule.get_pyscf_molecule()\n",
    "    mf = hf.RHF(mol)\n",
    "    mf.verbose = 1\n",
    "    mf.run()\n",
    "    \n",
    "    S.append(mf.get_ovlp().reshape((dim**2, )))\n",
    "    P.append(mf.make_rdm1().reshape((dim**2, )))\n",
    "    \n",
    "    \n"
   ]
  },
  {
   "cell_type": "code",
   "execution_count": 8,
   "metadata": {},
   "outputs": [
    {
     "name": "stdout",
     "output_type": "stream",
     "text": [
      "[-] 2018-03-26 11:26:40: Data set normalized. Mean value std: 0.008768825994212727\n"
     ]
    }
   ],
   "source": [
    "from SCFInitialGuess.utilities.dataset import Dataset\n",
    "\n",
    "ind_cut = 150\n",
    "index = np.arange(200)\n",
    "np.random.shuffle(index)\n",
    "\n",
    "S_test = np.array(S)[index[150:]]\n",
    "P_test = np.array(P)[index[150:]]\n",
    "molecules_test = [molecules[index[i]] for i in range(150, 200)]\n",
    "\n",
    "S_train = np.array(S)[index[:150]]\n",
    "P_train = np.array(P)[index[:150]]\n",
    "molecules_train = [molecules[index[i]] for i in range(150)]\n",
    "\n",
    "dataset = Dataset(np.array(S_train), np.array(P_train), split_test=0.0)\n",
    "\n",
    "dataset.testing = (Dataset.normalize(S_test, mean=dataset.x_mean, std=dataset.x_std)[0], P_test)"
   ]
  },
  {
   "cell_type": "code",
   "execution_count": 9,
   "metadata": {
    "scrolled": true
   },
   "outputs": [
    {
     "name": "stdout",
     "output_type": "stream",
     "text": [
      "could not delete\n",
      "[-] 2018-03-26 11:27:05: Setting up the graph ...\n",
      "[w] 2018-03-26 11:27:16: Careful! If more than 1 network is in current graph, it should be cleared before merging the summary!\n",
      "[-] 2018-03-26 11:27:16: Starting network training ...\n",
      "[ ] 2018-03-26 11:27:16: Validation cost: 5.80030E-02. Diff to prev.: 1.0E+10\n",
      "[ ] 2018-03-26 11:27:17: Validation cost: 1.89653E-04. Diff to prev.: 5.8E-02\n",
      "[ ] 2018-03-26 11:27:17: Validation cost: 7.00971E-05. Diff to prev.: 1.2E-04\n",
      "[ ] 2018-03-26 11:27:18: Validation cost: 4.20627E-05. Diff to prev.: 2.8E-05\n",
      "[ ] 2018-03-26 11:27:18: Validation cost: 2.86786E-05. Diff to prev.: 1.3E-05\n",
      "[ ] 2018-03-26 11:27:19: Validation cost: 2.27933E-05. Diff to prev.: 5.9E-06\n",
      "[ ] 2018-03-26 11:27:20: Validation cost: 1.82700E-05. Diff to prev.: 4.5E-06\n",
      "[ ] 2018-03-26 11:27:21: Validation cost: 1.65970E-05. Diff to prev.: 1.7E-06\n",
      "[ ] 2018-03-26 11:27:21: Validation cost: 1.79476E-05. Diff to prev.: 1.4E-06\n",
      "[ ] 2018-03-26 11:27:22: Validation cost: 1.45847E-05. Diff to prev.: 3.4E-06\n",
      "[ ] 2018-03-26 11:27:23: Validation cost: 1.49679E-05. Diff to prev.: 3.8E-07\n",
      "[ ] 2018-03-26 11:27:23: Validation cost: 3.65763E-05. Diff to prev.: 2.2E-05\n",
      "[ ] 2018-03-26 11:27:24: Validation cost: 2.05778E-05. Diff to prev.: 1.6E-05\n",
      "[ ] 2018-03-26 11:27:25: Validation cost: 3.04696E-05. Diff to prev.: 9.9E-06\n",
      "[ ] 2018-03-26 11:27:25: Validation cost: 1.72716E-05. Diff to prev.: 1.3E-05\n",
      "[ ] 2018-03-26 11:27:26: Validation cost: 9.73191E-06. Diff to prev.: 7.5E-06\n",
      "[ ] 2018-03-26 11:27:27: Validation cost: 9.37198E-06. Diff to prev.: 3.6E-07\n",
      "[ ] 2018-03-26 11:27:28: Validation cost: 7.48035E-06. Diff to prev.: 1.9E-06\n",
      "[ ] 2018-03-26 11:27:28: Validation cost: 1.00329E-05. Diff to prev.: 2.6E-06\n",
      "[ ] 2018-03-26 11:27:29: Validation cost: 9.88965E-06. Diff to prev.: 1.4E-07\n",
      "[ ] 2018-03-26 11:27:30: Validation cost: 6.89253E-06. Diff to prev.: 3.0E-06\n",
      "[ ] 2018-03-26 11:27:30: Validation cost: 1.11605E-05. Diff to prev.: 4.3E-06\n",
      "[ ] 2018-03-26 11:27:31: Validation cost: 1.50098E-05. Diff to prev.: 3.8E-06\n",
      "[ ] 2018-03-26 11:27:32: Validation cost: 1.18847E-05. Diff to prev.: 3.1E-06\n",
      "[ ] 2018-03-26 11:27:33: Validation cost: 6.59693E-06. Diff to prev.: 5.3E-06\n",
      "[ ] 2018-03-26 11:27:33: Validation cost: 5.31031E-06. Diff to prev.: 1.3E-06\n",
      "[ ] 2018-03-26 11:27:34: Validation cost: 1.50968E-05. Diff to prev.: 9.8E-06\n",
      "[ ] 2018-03-26 11:27:35: Validation cost: 1.00553E-05. Diff to prev.: 5.0E-06\n",
      "[ ] 2018-03-26 11:27:35: Validation cost: 8.05672E-06. Diff to prev.: 2.0E-06\n",
      "[ ] 2018-03-26 11:27:36: Validation cost: 4.73895E-06. Diff to prev.: 3.3E-06\n",
      "[ ] 2018-03-26 11:27:37: Validation cost: 5.23255E-06. Diff to prev.: 4.9E-07\n",
      "[ ] 2018-03-26 11:27:37: Validation cost: 6.42583E-06. Diff to prev.: 1.2E-06\n",
      "[ ] 2018-03-26 11:27:38: Validation cost: 6.11698E-06. Diff to prev.: 3.1E-07\n",
      "[ ] 2018-03-26 11:27:39: Validation cost: 6.79343E-06. Diff to prev.: 6.8E-07\n",
      "[ ] 2018-03-26 11:27:40: Validation cost: 1.46541E-05. Diff to prev.: 7.9E-06\n",
      "[ ] 2018-03-26 11:27:40: Validation cost: 5.28874E-06. Diff to prev.: 9.4E-06\n",
      "[ ] 2018-03-26 11:27:41: Validation cost: 4.50259E-06. Diff to prev.: 7.9E-07\n",
      "[ ] 2018-03-26 11:27:42: Validation cost: 2.72916E-06. Diff to prev.: 1.8E-06\n",
      "[ ] 2018-03-26 11:27:42: Validation cost: 6.95001E-06. Diff to prev.: 4.2E-06\n",
      "[ ] 2018-03-26 11:27:43: Validation cost: 1.81939E-05. Diff to prev.: 1.1E-05\n",
      "[ ] 2018-03-26 11:27:44: Validation cost: 3.16257E-06. Diff to prev.: 1.5E-05\n",
      "[ ] 2018-03-26 11:27:44: Validation cost: 2.84682E-06. Diff to prev.: 3.2E-07\n",
      "[ ] 2018-03-26 11:27:45: Validation cost: 4.49124E-06. Diff to prev.: 1.6E-06\n",
      "[ ] 2018-03-26 11:27:45: Validation cost: 3.81001E-06. Diff to prev.: 6.8E-07\n",
      "[ ] 2018-03-26 11:27:46: Validation cost: 2.66281E-06. Diff to prev.: 1.1E-06\n",
      "[ ] 2018-03-26 11:27:47: Validation cost: 5.27300E-06. Diff to prev.: 2.6E-06\n",
      "[ ] 2018-03-26 11:27:47: Validation cost: 6.82189E-06. Diff to prev.: 1.5E-06\n",
      "[ ] 2018-03-26 11:27:48: Validation cost: 7.57796E-06. Diff to prev.: 7.6E-07\n",
      "[ ] 2018-03-26 11:27:49: Validation cost: 4.27874E-06. Diff to prev.: 3.3E-06\n",
      "[ ] 2018-03-26 11:27:49: Validation cost: 5.69126E-06. Diff to prev.: 1.4E-06\n",
      "[ ] 2018-03-26 11:27:50: Validation cost: 1.45047E-05. Diff to prev.: 8.8E-06\n",
      "[ ] 2018-03-26 11:27:51: Validation cost: 5.19931E-06. Diff to prev.: 9.3E-06\n",
      "[ ] 2018-03-26 11:27:51: Validation cost: 5.64342E-06. Diff to prev.: 4.4E-07\n",
      "[ ] 2018-03-26 11:27:52: Validation cost: 6.19507E-06. Diff to prev.: 5.5E-07\n",
      "[ ] 2018-03-26 11:27:52: Validation cost: 2.13153E-06. Diff to prev.: 4.1E-06\n",
      "[ ] 2018-03-26 11:27:53: Validation cost: 2.81812E-06. Diff to prev.: 6.9E-07\n",
      "[ ] 2018-03-26 11:27:54: Validation cost: 1.36421E-05. Diff to prev.: 1.1E-05\n",
      "[ ] 2018-03-26 11:27:54: Validation cost: 1.31919E-05. Diff to prev.: 4.5E-07\n",
      "[ ] 2018-03-26 11:27:55: Validation cost: 5.08090E-06. Diff to prev.: 8.1E-06\n",
      "[ ] 2018-03-26 11:27:56: Validation cost: 9.82197E-06. Diff to prev.: 4.7E-06\n",
      "[ ] 2018-03-26 11:27:56: Validation cost: 3.82580E-06. Diff to prev.: 6.0E-06\n",
      "[-] 2018-03-26 11:27:57: Convergence reached after 6100 steps.\n",
      "[-] 2018-03-26 11:27:57: Test error: 3.84735E-06\n"
     ]
    }
   ],
   "source": [
    "from SCFInitialGuess.nn.networks import EluTrNNN\n",
    "from SCFInitialGuess.nn.training import train_network\n",
    "from shutil import rmtree\n",
    "\n",
    "structure = [dim**2, 200, 100, dim**2]\n",
    "save_path = \"log/orig/\"\n",
    "\n",
    "try:\n",
    "    sess.close()\n",
    "except:\n",
    "    pass\n",
    "\n",
    "tf.reset_default_graph()\n",
    "try:\n",
    "    rmtree(save_path)\n",
    "except:\n",
    "    print(\"could not delete\")\n",
    "\n",
    "network, sess = train_network(\n",
    "    EluTrNNN(structure, log_histograms=True),\n",
    "    dataset,\n",
    "    evaluation_period=100,\n",
    "    mini_batch_size=20,\n",
    "    convergence_threshold=1e-7,\n",
    "    regularisation_parameter=1e-6,\n",
    "    summary_save_path=save_path\n",
    ")\n"
   ]
  },
  {
   "cell_type": "markdown",
   "metadata": {
    "collapsed": true
   },
   "source": [
    "## Analysis with test data"
   ]
  },
  {
   "cell_type": "markdown",
   "metadata": {},
   "source": [
    "\n",
    "### Plot utilities"
   ]
  },
  {
   "cell_type": "code",
   "execution_count": 10,
   "metadata": {},
   "outputs": [
    {
     "data": {
      "image/png": "[encoded data removed]",
      "text/plain": [
       "<matplotlib.figure.Figure at 0x7fb4400962b0>"
      ]
     },
     "metadata": {},
     "output_type": "display_data"
    }
   ],
   "source": [
    "import seaborn as sns\n",
    "\n",
    "cmap = plt.get_cmap('PuRd')# oder RdPu\n",
    "\n",
    "def matrix_error(error, xlabel=\"index\", ylabel=\"index\", **kwargs):\n",
    "    \n",
    "    ax = sns.heatmap(error, **kwargs)\n",
    "    ax.set_xlabel(xlabel)\n",
    "    ax.set_ylabel(ylabel)\n",
    "    return ax\n",
    "    \n",
    "matrix_error(np.random.rand(10, 10))\n",
    "\n",
    "plt.show()\n"
   ]
  },
  {
   "cell_type": "markdown",
   "metadata": {},
   "source": [
    "### Scatter"
   ]
  },
  {
   "cell_type": "code",
   "execution_count": 11,
   "metadata": {},
   "outputs": [
    {
     "data": {
      "image/png": "[encoded data removed]",
      "text/plain": [
       "<matplotlib.figure.Figure at 0x7fb3bd39c9e8>"
      ]
     },
     "metadata": {},
     "output_type": "display_data"
    }
   ],
   "source": [
    "from functools import reduce\n",
    "\n",
    "\n",
    "flatten = lambda x, y: list(x) + list(y)\n",
    "\n",
    "\n",
    "#training\n",
    "expected = reduce(flatten, dataset.training[1])\n",
    "actual = reduce(flatten, \n",
    "    network.run(\n",
    "        sess, \n",
    "        dataset.training[0]\n",
    "    )\n",
    ")\n",
    "\n",
    "frac  = 1\n",
    "index = np.arange(int(np.floor(frac * len(actual))))\n",
    "np.random.shuffle(index)\n",
    "plt.scatter(np.array(expected)[index], np.array(actual)[index], label=\"training\")\n",
    "\n",
    "# test dataset\n",
    "expected = reduce(flatten, dataset.testing[1])\n",
    "actual = reduce(flatten, \n",
    "    network.run(\n",
    "        sess, \n",
    "        dataset.testing[0]\n",
    "    )\n",
    ")\n",
    "plt.scatter(expected,actual, marker=\"x\", label=\"test\")\n",
    "\n",
    "plt.legend()\n",
    "\n",
    "lower, upper = -1, 2.5\n",
    "plt.axis([lower, upper, lower, upper])\n",
    "plt.ylabel(\"prediction\")\n",
    "plt.xlabel(\"actual\")\n",
    "plt.show()"
   ]
  },
  {
   "cell_type": "markdown",
   "metadata": {
    "collapsed": true
   },
   "source": [
    "### Accumulated test error matrix"
   ]
  },
  {
   "cell_type": "code",
   "execution_count": 13,
   "metadata": {},
   "outputs": [
    {
     "name": "stdout",
     "output_type": "stream",
     "text": [
      "Mean abs. error: 0.00124593573828\n"
     ]
    },
    {
     "data": {
      "image/png": "[encoded data removed]",
      "text/plain": [
       "<matplotlib.figure.Figure at 0x7fb3c24b69b0>"
      ]
     },
     "metadata": {},
     "output_type": "display_data"
    }
   ],
   "source": [
    "error = np.zeros((dim, dim))\n",
    "for (x, y) in zip(*dataset.testing):\n",
    "    x = x.reshape(1, dim**2)\n",
    "    error += np.abs((y - network.run(sess, x)).reshape(dim, dim))\n",
    "error /= len(dataset.testing[0])\n",
    "\n",
    "print(\"Mean abs. error: \" + str(np.mean(error)))\n",
    "\n",
    "matrix_error(error)\n",
    "plt.show()"
   ]
  },
  {
   "cell_type": "markdown",
   "metadata": {},
   "source": [
    "### Iterations"
   ]
  },
  {
   "cell_type": "code",
   "execution_count": 16,
   "metadata": {
    "scrolled": true
   },
   "outputs": [
    {
     "name": "stderr",
     "output_type": "stream",
     "text": [
      "Warn: Ipython shell catchs sys.args\n"
     ]
    },
    {
     "name": "stdout",
     "output_type": "stream",
     "text": [
      "Calculating: 1/50\n"
     ]
    },
    {
     "name": "stderr",
     "output_type": "stream",
     "text": [
      "Warn: Ipython shell catchs sys.args\n"
     ]
    },
    {
     "name": "stdout",
     "output_type": "stream",
     "text": [
      "Calculating: 2/50\n"
     ]
    },
    {
     "name": "stderr",
     "output_type": "stream",
     "text": [
      "Warn: Ipython shell catchs sys.args\n"
     ]
    },
    {
     "name": "stdout",
     "output_type": "stream",
     "text": [
      "Calculating: 3/50\n"
     ]
    },
    {
     "name": "stderr",
     "output_type": "stream",
     "text": [
      "Warn: Ipython shell catchs sys.args\n"
     ]
    },
    {
     "name": "stdout",
     "output_type": "stream",
     "text": [
      "Calculating: 4/50\n"
     ]
    },
    {
     "name": "stderr",
     "output_type": "stream",
     "text": [
      "Warn: Ipython shell catchs sys.args\n"
     ]
    },
    {
     "name": "stdout",
     "output_type": "stream",
     "text": [
      "Calculating: 5/50\n"
     ]
    },
    {
     "name": "stderr",
     "output_type": "stream",
     "text": [
      "Warn: Ipython shell catchs sys.args\n"
     ]
    },
    {
     "name": "stdout",
     "output_type": "stream",
     "text": [
      "Calculating: 6/50\n"
     ]
    },
    {
     "name": "stderr",
     "output_type": "stream",
     "text": [
      "Warn: Ipython shell catchs sys.args\n"
     ]
    },
    {
     "name": "stdout",
     "output_type": "stream",
     "text": [
      "Calculating: 7/50\n"
     ]
    },
    {
     "name": "stderr",
     "output_type": "stream",
     "text": [
      "Warn: Ipython shell catchs sys.args\n"
     ]
    },
    {
     "name": "stdout",
     "output_type": "stream",
     "text": [
      "Calculating: 8/50\n"
     ]
    },
    {
     "name": "stderr",
     "output_type": "stream",
     "text": [
      "Warn: Ipython shell catchs sys.args\n"
     ]
    },
    {
     "name": "stdout",
     "output_type": "stream",
     "text": [
      "Calculating: 9/50\n"
     ]
    },
    {
     "name": "stderr",
     "output_type": "stream",
     "text": [
      "Warn: Ipython shell catchs sys.args\n"
     ]
    },
    {
     "name": "stdout",
     "output_type": "stream",
     "text": [
      "Calculating: 10/50\n"
     ]
    },
    {
     "name": "stderr",
     "output_type": "stream",
     "text": [
      "Warn: Ipython shell catchs sys.args\n"
     ]
    },
    {
     "name": "stdout",
     "output_type": "stream",
     "text": [
      "Calculating: 11/50\n"
     ]
    },
    {
     "name": "stderr",
     "output_type": "stream",
     "text": [
      "Warn: Ipython shell catchs sys.args\n"
     ]
    },
    {
     "name": "stdout",
     "output_type": "stream",
     "text": [
      "Calculating: 12/50\n"
     ]
    },
    {
     "name": "stderr",
     "output_type": "stream",
     "text": [
      "Warn: Ipython shell catchs sys.args\n"
     ]
    },
    {
     "name": "stdout",
     "output_type": "stream",
     "text": [
      "Calculating: 13/50\n"
     ]
    },
    {
     "name": "stderr",
     "output_type": "stream",
     "text": [
      "Warn: Ipython shell catchs sys.args\n"
     ]
    },
    {
     "name": "stdout",
     "output_type": "stream",
     "text": [
      "Calculating: 14/50\n"
     ]
    },
    {
     "name": "stderr",
     "output_type": "stream",
     "text": [
      "Warn: Ipython shell catchs sys.args\n"
     ]
    },
    {
     "name": "stdout",
     "output_type": "stream",
     "text": [
      "Calculating: 15/50\n"
     ]
    },
    {
     "name": "stderr",
     "output_type": "stream",
     "text": [
      "Warn: Ipython shell catchs sys.args\n"
     ]
    },
    {
     "name": "stdout",
     "output_type": "stream",
     "text": [
      "Calculating: 16/50\n"
     ]
    },
    {
     "name": "stderr",
     "output_type": "stream",
     "text": [
      "Warn: Ipython shell catchs sys.args\n"
     ]
    },
    {
     "name": "stdout",
     "output_type": "stream",
     "text": [
      "Calculating: 17/50\n"
     ]
    },
    {
     "name": "stderr",
     "output_type": "stream",
     "text": [
      "Warn: Ipython shell catchs sys.args\n"
     ]
    },
    {
     "name": "stdout",
     "output_type": "stream",
     "text": [
      "Calculating: 18/50\n"
     ]
    },
    {
     "name": "stderr",
     "output_type": "stream",
     "text": [
      "Warn: Ipython shell catchs sys.args\n"
     ]
    },
    {
     "name": "stdout",
     "output_type": "stream",
     "text": [
      "Calculating: 19/50\n"
     ]
    },
    {
     "name": "stderr",
     "output_type": "stream",
     "text": [
      "Warn: Ipython shell catchs sys.args\n"
     ]
    },
    {
     "name": "stdout",
     "output_type": "stream",
     "text": [
      "Calculating: 20/50\n"
     ]
    },
    {
     "name": "stderr",
     "output_type": "stream",
     "text": [
      "Warn: Ipython shell catchs sys.args\n"
     ]
    },
    {
     "name": "stdout",
     "output_type": "stream",
     "text": [
      "Calculating: 21/50\n"
     ]
    },
    {
     "name": "stderr",
     "output_type": "stream",
     "text": [
      "Warn: Ipython shell catchs sys.args\n"
     ]
    },
    {
     "name": "stdout",
     "output_type": "stream",
     "text": [
      "Calculating: 22/50\n"
     ]
    },
    {
     "name": "stderr",
     "output_type": "stream",
     "text": [
      "Warn: Ipython shell catchs sys.args\n"
     ]
    },
    {
     "name": "stdout",
     "output_type": "stream",
     "text": [
      "Calculating: 23/50\n"
     ]
    },
    {
     "name": "stderr",
     "output_type": "stream",
     "text": [
      "Warn: Ipython shell catchs sys.args\n"
     ]
    },
    {
     "name": "stdout",
     "output_type": "stream",
     "text": [
      "Calculating: 24/50\n"
     ]
    },
    {
     "name": "stderr",
     "output_type": "stream",
     "text": [
      "Warn: Ipython shell catchs sys.args\n"
     ]
    },
    {
     "name": "stdout",
     "output_type": "stream",
     "text": [
      "Calculating: 25/50\n"
     ]
    },
    {
     "name": "stderr",
     "output_type": "stream",
     "text": [
      "Warn: Ipython shell catchs sys.args\n"
     ]
    },
    {
     "name": "stdout",
     "output_type": "stream",
     "text": [
      "Calculating: 26/50\n"
     ]
    },
    {
     "name": "stderr",
     "output_type": "stream",
     "text": [
      "Warn: Ipython shell catchs sys.args\n"
     ]
    },
    {
     "name": "stdout",
     "output_type": "stream",
     "text": [
      "Calculating: 27/50\n"
     ]
    },
    {
     "name": "stderr",
     "output_type": "stream",
     "text": [
      "Warn: Ipython shell catchs sys.args\n"
     ]
    },
    {
     "name": "stdout",
     "output_type": "stream",
     "text": [
      "Calculating: 28/50\n"
     ]
    },
    {
     "name": "stderr",
     "output_type": "stream",
     "text": [
      "Warn: Ipython shell catchs sys.args\n"
     ]
    },
    {
     "name": "stdout",
     "output_type": "stream",
     "text": [
      "Calculating: 29/50\n"
     ]
    },
    {
     "name": "stderr",
     "output_type": "stream",
     "text": [
      "Warn: Ipython shell catchs sys.args\n"
     ]
    },
    {
     "name": "stdout",
     "output_type": "stream",
     "text": [
      "Calculating: 30/50\n"
     ]
    },
    {
     "name": "stderr",
     "output_type": "stream",
     "text": [
      "Warn: Ipython shell catchs sys.args\n"
     ]
    },
    {
     "name": "stdout",
     "output_type": "stream",
     "text": [
      "Calculating: 31/50\n"
     ]
    },
    {
     "name": "stderr",
     "output_type": "stream",
     "text": [
      "Warn: Ipython shell catchs sys.args\n"
     ]
    },
    {
     "name": "stdout",
     "output_type": "stream",
     "text": [
      "Calculating: 32/50\n"
     ]
    },
    {
     "name": "stderr",
     "output_type": "stream",
     "text": [
      "Warn: Ipython shell catchs sys.args\n"
     ]
    },
    {
     "name": "stdout",
     "output_type": "stream",
     "text": [
      "Calculating: 33/50\n"
     ]
    },
    {
     "name": "stderr",
     "output_type": "stream",
     "text": [
      "Warn: Ipython shell catchs sys.args\n"
     ]
    },
    {
     "name": "stdout",
     "output_type": "stream",
     "text": [
      "Calculating: 34/50\n"
     ]
    },
    {
     "name": "stderr",
     "output_type": "stream",
     "text": [
      "Warn: Ipython shell catchs sys.args\n"
     ]
    },
    {
     "name": "stdout",
     "output_type": "stream",
     "text": [
      "Calculating: 35/50\n"
     ]
    },
    {
     "name": "stderr",
     "output_type": "stream",
     "text": [
      "Warn: Ipython shell catchs sys.args\n"
     ]
    },
    {
     "name": "stdout",
     "output_type": "stream",
     "text": [
      "Calculating: 36/50\n"
     ]
    },
    {
     "name": "stderr",
     "output_type": "stream",
     "text": [
      "Warn: Ipython shell catchs sys.args\n"
     ]
    },
    {
     "name": "stdout",
     "output_type": "stream",
     "text": [
      "Calculating: 37/50\n"
     ]
    },
    {
     "name": "stderr",
     "output_type": "stream",
     "text": [
      "Warn: Ipython shell catchs sys.args\n"
     ]
    },
    {
     "name": "stdout",
     "output_type": "stream",
     "text": [
      "Calculating: 38/50\n"
     ]
    },
    {
     "name": "stderr",
     "output_type": "stream",
     "text": [
      "Warn: Ipython shell catchs sys.args\n"
     ]
    },
    {
     "name": "stdout",
     "output_type": "stream",
     "text": [
      "Calculating: 39/50\n"
     ]
    },
    {
     "name": "stderr",
     "output_type": "stream",
     "text": [
      "Warn: Ipython shell catchs sys.args\n"
     ]
    },
    {
     "name": "stdout",
     "output_type": "stream",
     "text": [
      "Calculating: 40/50\n"
     ]
    },
    {
     "name": "stderr",
     "output_type": "stream",
     "text": [
      "Warn: Ipython shell catchs sys.args\n"
     ]
    },
    {
     "name": "stdout",
     "output_type": "stream",
     "text": [
      "Calculating: 41/50\n"
     ]
    },
    {
     "name": "stderr",
     "output_type": "stream",
     "text": [
      "Warn: Ipython shell catchs sys.args\n"
     ]
    },
    {
     "name": "stdout",
     "output_type": "stream",
     "text": [
      "Calculating: 42/50\n"
     ]
    },
    {
     "name": "stderr",
     "output_type": "stream",
     "text": [
      "Warn: Ipython shell catchs sys.args\n"
     ]
    },
    {
     "name": "stdout",
     "output_type": "stream",
     "text": [
      "Calculating: 43/50\n"
     ]
    },
    {
     "name": "stderr",
     "output_type": "stream",
     "text": [
      "Warn: Ipython shell catchs sys.args\n"
     ]
    },
    {
     "name": "stdout",
     "output_type": "stream",
     "text": [
      "Calculating: 44/50\n"
     ]
    },
    {
     "name": "stderr",
     "output_type": "stream",
     "text": [
      "Warn: Ipython shell catchs sys.args\n"
     ]
    },
    {
     "name": "stdout",
     "output_type": "stream",
     "text": [
      "Calculating: 45/50\n"
     ]
    },
    {
     "name": "stderr",
     "output_type": "stream",
     "text": [
      "Warn: Ipython shell catchs sys.args\n"
     ]
    },
    {
     "name": "stdout",
     "output_type": "stream",
     "text": [
      "Calculating: 46/50\n"
     ]
    },
    {
     "name": "stderr",
     "output_type": "stream",
     "text": [
      "Warn: Ipython shell catchs sys.args\n"
     ]
    },
    {
     "name": "stdout",
     "output_type": "stream",
     "text": [
      "Calculating: 47/50\n"
     ]
    },
    {
     "name": "stderr",
     "output_type": "stream",
     "text": [
      "Warn: Ipython shell catchs sys.args\n"
     ]
    },
    {
     "name": "stdout",
     "output_type": "stream",
     "text": [
      "Calculating: 48/50\n"
     ]
    },
    {
     "name": "stderr",
     "output_type": "stream",
     "text": [
      "Warn: Ipython shell catchs sys.args\n"
     ]
    },
    {
     "name": "stdout",
     "output_type": "stream",
     "text": [
      "Calculating: 49/50\n"
     ]
    },
    {
     "name": "stderr",
     "output_type": "stream",
     "text": [
      "Warn: Ipython shell catchs sys.args\n"
     ]
    },
    {
     "name": "stdout",
     "output_type": "stream",
     "text": [
      "Calculating: 50/50\n"
     ]
    }
   ],
   "source": [
    "from pyscf.scf import hf\n",
    "\n",
    "dim = 26\n",
    "\n",
    "iterations = []\n",
    "for i, (molecule, p) in enumerate(zip(molecules_test, P_test)):\n",
    "    \n",
    "    mol = molecule.get_pyscf_molecule()\n",
    "    \n",
    "    \n",
    "    print(\"Calculating: \" + str(i + 1) + \"/\" + str(len(molecules_test)))\n",
    "    \n",
    "    # assemble pyscf initial guesses\n",
    "    P_1e = hf.init_guess_by_1e(mol)\n",
    "    P_atom = hf.init_guess_by_atom(mol)\n",
    "    P_minao = hf.init_guess_by_minao(mol)\n",
    "    \n",
    "    # nn guess\n",
    "    s = hf.get_ovlp(mol).reshape(1, dim**2)\n",
    "    s = Dataset.normalize(s, mean=dataset.x_mean, std=dataset.x_std)[0]\n",
    "    P_NN = network.run(sess, s).reshape(dim, dim).astype('float64')\n",
    "    \n",
    "    # P_actual wi noise\n",
    "    p_noise = p.reshape(dim, dim) + np.random.randn(dim, dim) * 1e-3\n",
    "    \n",
    "    \n",
    "    iterations_molecule = []\n",
    "    for guess in [P_1e, P_atom, P_minao, P_NN, p.reshape(dim, dim), p_noise]:\n",
    "        \n",
    "        mf = hf.RHF(mol)\n",
    "        mf.verbose = 1\n",
    "        mf.diis = None\n",
    "        mf.kernel(dm0=guess)\n",
    "        iterations_molecule.append(mf.iterations)\n",
    "    \n",
    "    iterations.append(iterations_molecule)\n",
    "\n",
    "iterations = np.array(iterations)"
   ]
  },
  {
   "cell_type": "code",
   "execution_count": 17,
   "metadata": {},
   "outputs": [
    {
     "name": "stdout",
     "output_type": "stream",
     "text": [
      "[ 50.    15.12  13.38  12.88   1.     9.88]\n"
     ]
    },
    {
     "data": {
      "image/png": "[encoded data removed]",
      "text/plain": [
       "<matplotlib.figure.Figure at 0x7fb3bd192710>"
      ]
     },
     "metadata": {},
     "output_type": "display_data"
    }
   ],
   "source": [
    "#fig, axes = plt.subplots(2,2)\n",
    "\n",
    "print(np.mean(iterations,0))\n",
    "\n",
    "bins = 20 # todo hier kann man auch ein array angeben\n",
    "\n",
    "for i, name in enumerate(['1e', 'atom', 'P_minao', 'P_NN', 'P_final', \"P_final w/ noise sigma=1e-3\"]):\n",
    "    \n",
    "    hist, bins = np.histogram(iterations[:,i])\n",
    "    center = (bins[:-1] + bins[1:]) / 2\n",
    "    #axes[i].bar(center, hist, label=name)\n",
    "    plt.bar(center, hist, label=name)\n",
    "    \n",
    "plt.legend()\n",
    "plt.show()"
   ]
  },
  {
   "cell_type": "markdown",
   "metadata": {},
   "source": [
    "### Comparing the others against the result\n",
    "TODO: matrix plot von fehler der jeweiligen initial guesses"
   ]
  },
  {
   "cell_type": "code",
   "execution_count": 20,
   "metadata": {
    "scrolled": true
   },
   "outputs": [
    {
     "name": "stderr",
     "output_type": "stream",
     "text": [
      "Warn: Ipython shell catchs sys.args\n"
     ]
    },
    {
     "name": "stdout",
     "output_type": "stream",
     "text": [
      "Calculating: 1/50\n"
     ]
    },
    {
     "name": "stderr",
     "output_type": "stream",
     "text": [
      "Warn: Ipython shell catchs sys.args\n"
     ]
    },
    {
     "name": "stdout",
     "output_type": "stream",
     "text": [
      "Calculating: 2/50\n"
     ]
    },
    {
     "name": "stderr",
     "output_type": "stream",
     "text": [
      "Warn: Ipython shell catchs sys.args\n"
     ]
    },
    {
     "name": "stdout",
     "output_type": "stream",
     "text": [
      "Calculating: 3/50\n"
     ]
    },
    {
     "name": "stderr",
     "output_type": "stream",
     "text": [
      "Warn: Ipython shell catchs sys.args\n"
     ]
    },
    {
     "name": "stdout",
     "output_type": "stream",
     "text": [
      "Calculating: 4/50\n"
     ]
    },
    {
     "name": "stderr",
     "output_type": "stream",
     "text": [
      "Warn: Ipython shell catchs sys.args\n"
     ]
    },
    {
     "name": "stdout",
     "output_type": "stream",
     "text": [
      "Calculating: 5/50\n"
     ]
    },
    {
     "name": "stderr",
     "output_type": "stream",
     "text": [
      "Warn: Ipython shell catchs sys.args\n"
     ]
    },
    {
     "name": "stdout",
     "output_type": "stream",
     "text": [
      "Calculating: 6/50\n"
     ]
    },
    {
     "name": "stderr",
     "output_type": "stream",
     "text": [
      "Warn: Ipython shell catchs sys.args\n"
     ]
    },
    {
     "name": "stdout",
     "output_type": "stream",
     "text": [
      "Calculating: 7/50\n"
     ]
    },
    {
     "name": "stderr",
     "output_type": "stream",
     "text": [
      "Warn: Ipython shell catchs sys.args\n"
     ]
    },
    {
     "name": "stdout",
     "output_type": "stream",
     "text": [
      "Calculating: 8/50\n"
     ]
    },
    {
     "name": "stderr",
     "output_type": "stream",
     "text": [
      "Warn: Ipython shell catchs sys.args\n"
     ]
    },
    {
     "name": "stdout",
     "output_type": "stream",
     "text": [
      "Calculating: 9/50\n"
     ]
    },
    {
     "name": "stderr",
     "output_type": "stream",
     "text": [
      "Warn: Ipython shell catchs sys.args\n"
     ]
    },
    {
     "name": "stdout",
     "output_type": "stream",
     "text": [
      "Calculating: 10/50\n"
     ]
    },
    {
     "name": "stderr",
     "output_type": "stream",
     "text": [
      "Warn: Ipython shell catchs sys.args\n"
     ]
    },
    {
     "name": "stdout",
     "output_type": "stream",
     "text": [
      "Calculating: 11/50\n"
     ]
    },
    {
     "name": "stderr",
     "output_type": "stream",
     "text": [
      "Warn: Ipython shell catchs sys.args\n"
     ]
    },
    {
     "name": "stdout",
     "output_type": "stream",
     "text": [
      "Calculating: 12/50\n"
     ]
    },
    {
     "name": "stderr",
     "output_type": "stream",
     "text": [
      "Warn: Ipython shell catchs sys.args\n"
     ]
    },
    {
     "name": "stdout",
     "output_type": "stream",
     "text": [
      "Calculating: 13/50\n"
     ]
    },
    {
     "name": "stderr",
     "output_type": "stream",
     "text": [
      "Warn: Ipython shell catchs sys.args\n"
     ]
    },
    {
     "name": "stdout",
     "output_type": "stream",
     "text": [
      "Calculating: 14/50\n"
     ]
    },
    {
     "name": "stderr",
     "output_type": "stream",
     "text": [
      "Warn: Ipython shell catchs sys.args\n"
     ]
    },
    {
     "name": "stdout",
     "output_type": "stream",
     "text": [
      "Calculating: 15/50\n"
     ]
    },
    {
     "name": "stderr",
     "output_type": "stream",
     "text": [
      "Warn: Ipython shell catchs sys.args\n"
     ]
    },
    {
     "name": "stdout",
     "output_type": "stream",
     "text": [
      "Calculating: 16/50\n"
     ]
    },
    {
     "name": "stderr",
     "output_type": "stream",
     "text": [
      "Warn: Ipython shell catchs sys.args\n"
     ]
    },
    {
     "name": "stdout",
     "output_type": "stream",
     "text": [
      "Calculating: 17/50\n"
     ]
    },
    {
     "name": "stderr",
     "output_type": "stream",
     "text": [
      "Warn: Ipython shell catchs sys.args\n"
     ]
    },
    {
     "name": "stdout",
     "output_type": "stream",
     "text": [
      "Calculating: 18/50\n"
     ]
    },
    {
     "name": "stderr",
     "output_type": "stream",
     "text": [
      "Warn: Ipython shell catchs sys.args\n"
     ]
    },
    {
     "name": "stdout",
     "output_type": "stream",
     "text": [
      "Calculating: 19/50\n"
     ]
    },
    {
     "name": "stderr",
     "output_type": "stream",
     "text": [
      "Warn: Ipython shell catchs sys.args\n"
     ]
    },
    {
     "name": "stdout",
     "output_type": "stream",
     "text": [
      "Calculating: 20/50\n"
     ]
    },
    {
     "name": "stderr",
     "output_type": "stream",
     "text": [
      "Warn: Ipython shell catchs sys.args\n"
     ]
    },
    {
     "name": "stdout",
     "output_type": "stream",
     "text": [
      "Calculating: 21/50\n"
     ]
    },
    {
     "name": "stderr",
     "output_type": "stream",
     "text": [
      "Warn: Ipython shell catchs sys.args\n"
     ]
    },
    {
     "name": "stdout",
     "output_type": "stream",
     "text": [
      "Calculating: 22/50\n"
     ]
    },
    {
     "name": "stderr",
     "output_type": "stream",
     "text": [
      "Warn: Ipython shell catchs sys.args\n"
     ]
    },
    {
     "name": "stdout",
     "output_type": "stream",
     "text": [
      "Calculating: 23/50\n"
     ]
    },
    {
     "name": "stderr",
     "output_type": "stream",
     "text": [
      "Warn: Ipython shell catchs sys.args\n"
     ]
    },
    {
     "name": "stdout",
     "output_type": "stream",
     "text": [
      "Calculating: 24/50\n"
     ]
    },
    {
     "name": "stderr",
     "output_type": "stream",
     "text": [
      "Warn: Ipython shell catchs sys.args\n"
     ]
    },
    {
     "name": "stdout",
     "output_type": "stream",
     "text": [
      "Calculating: 25/50\n"
     ]
    },
    {
     "name": "stderr",
     "output_type": "stream",
     "text": [
      "Warn: Ipython shell catchs sys.args\n"
     ]
    },
    {
     "name": "stdout",
     "output_type": "stream",
     "text": [
      "Calculating: 26/50\n"
     ]
    },
    {
     "name": "stderr",
     "output_type": "stream",
     "text": [
      "Warn: Ipython shell catchs sys.args\n"
     ]
    },
    {
     "name": "stdout",
     "output_type": "stream",
     "text": [
      "Calculating: 27/50\n"
     ]
    },
    {
     "name": "stderr",
     "output_type": "stream",
     "text": [
      "Warn: Ipython shell catchs sys.args\n"
     ]
    },
    {
     "name": "stdout",
     "output_type": "stream",
     "text": [
      "Calculating: 28/50\n"
     ]
    },
    {
     "name": "stderr",
     "output_type": "stream",
     "text": [
      "Warn: Ipython shell catchs sys.args\n"
     ]
    },
    {
     "name": "stdout",
     "output_type": "stream",
     "text": [
      "Calculating: 29/50\n"
     ]
    },
    {
     "name": "stderr",
     "output_type": "stream",
     "text": [
      "Warn: Ipython shell catchs sys.args\n"
     ]
    },
    {
     "name": "stdout",
     "output_type": "stream",
     "text": [
      "Calculating: 30/50\n"
     ]
    },
    {
     "name": "stderr",
     "output_type": "stream",
     "text": [
      "Warn: Ipython shell catchs sys.args\n"
     ]
    },
    {
     "name": "stdout",
     "output_type": "stream",
     "text": [
      "Calculating: 31/50\n"
     ]
    },
    {
     "name": "stderr",
     "output_type": "stream",
     "text": [
      "Warn: Ipython shell catchs sys.args\n"
     ]
    },
    {
     "name": "stdout",
     "output_type": "stream",
     "text": [
      "Calculating: 32/50\n"
     ]
    },
    {
     "name": "stderr",
     "output_type": "stream",
     "text": [
      "Warn: Ipython shell catchs sys.args\n"
     ]
    },
    {
     "name": "stdout",
     "output_type": "stream",
     "text": [
      "Calculating: 33/50\n"
     ]
    },
    {
     "name": "stderr",
     "output_type": "stream",
     "text": [
      "Warn: Ipython shell catchs sys.args\n"
     ]
    },
    {
     "name": "stdout",
     "output_type": "stream",
     "text": [
      "Calculating: 34/50\n"
     ]
    },
    {
     "name": "stderr",
     "output_type": "stream",
     "text": [
      "Warn: Ipython shell catchs sys.args\n"
     ]
    },
    {
     "name": "stdout",
     "output_type": "stream",
     "text": [
      "Calculating: 35/50\n"
     ]
    },
    {
     "name": "stderr",
     "output_type": "stream",
     "text": [
      "Warn: Ipython shell catchs sys.args\n"
     ]
    },
    {
     "name": "stdout",
     "output_type": "stream",
     "text": [
      "Calculating: 36/50\n"
     ]
    },
    {
     "name": "stderr",
     "output_type": "stream",
     "text": [
      "Warn: Ipython shell catchs sys.args\n"
     ]
    },
    {
     "name": "stdout",
     "output_type": "stream",
     "text": [
      "Calculating: 37/50\n"
     ]
    },
    {
     "name": "stderr",
     "output_type": "stream",
     "text": [
      "Warn: Ipython shell catchs sys.args\n"
     ]
    },
    {
     "name": "stdout",
     "output_type": "stream",
     "text": [
      "Calculating: 38/50\n"
     ]
    },
    {
     "name": "stderr",
     "output_type": "stream",
     "text": [
      "Warn: Ipython shell catchs sys.args\n"
     ]
    },
    {
     "name": "stdout",
     "output_type": "stream",
     "text": [
      "Calculating: 39/50\n"
     ]
    },
    {
     "name": "stderr",
     "output_type": "stream",
     "text": [
      "Warn: Ipython shell catchs sys.args\n"
     ]
    },
    {
     "name": "stdout",
     "output_type": "stream",
     "text": [
      "Calculating: 40/50\n"
     ]
    },
    {
     "name": "stderr",
     "output_type": "stream",
     "text": [
      "Warn: Ipython shell catchs sys.args\n"
     ]
    },
    {
     "name": "stdout",
     "output_type": "stream",
     "text": [
      "Calculating: 41/50\n"
     ]
    },
    {
     "name": "stderr",
     "output_type": "stream",
     "text": [
      "Warn: Ipython shell catchs sys.args\n"
     ]
    },
    {
     "name": "stdout",
     "output_type": "stream",
     "text": [
      "Calculating: 42/50\n"
     ]
    },
    {
     "name": "stderr",
     "output_type": "stream",
     "text": [
      "Warn: Ipython shell catchs sys.args\n"
     ]
    },
    {
     "name": "stdout",
     "output_type": "stream",
     "text": [
      "Calculating: 43/50\n"
     ]
    },
    {
     "name": "stderr",
     "output_type": "stream",
     "text": [
      "Warn: Ipython shell catchs sys.args\n"
     ]
    },
    {
     "name": "stdout",
     "output_type": "stream",
     "text": [
      "Calculating: 44/50\n"
     ]
    },
    {
     "name": "stderr",
     "output_type": "stream",
     "text": [
      "Warn: Ipython shell catchs sys.args\n"
     ]
    },
    {
     "name": "stdout",
     "output_type": "stream",
     "text": [
      "Calculating: 45/50\n"
     ]
    },
    {
     "name": "stderr",
     "output_type": "stream",
     "text": [
      "Warn: Ipython shell catchs sys.args\n"
     ]
    },
    {
     "name": "stdout",
     "output_type": "stream",
     "text": [
      "Calculating: 46/50\n"
     ]
    },
    {
     "name": "stderr",
     "output_type": "stream",
     "text": [
      "Warn: Ipython shell catchs sys.args\n"
     ]
    },
    {
     "name": "stdout",
     "output_type": "stream",
     "text": [
      "Calculating: 47/50\n"
     ]
    },
    {
     "name": "stderr",
     "output_type": "stream",
     "text": [
      "Warn: Ipython shell catchs sys.args\n"
     ]
    },
    {
     "name": "stdout",
     "output_type": "stream",
     "text": [
      "Calculating: 48/50\n"
     ]
    },
    {
     "name": "stderr",
     "output_type": "stream",
     "text": [
      "Warn: Ipython shell catchs sys.args\n"
     ]
    },
    {
     "name": "stdout",
     "output_type": "stream",
     "text": [
      "Calculating: 49/50\n"
     ]
    },
    {
     "name": "stderr",
     "output_type": "stream",
     "text": [
      "Warn: Ipython shell catchs sys.args\n"
     ]
    },
    {
     "name": "stdout",
     "output_type": "stream",
     "text": [
      "Calculating: 50/50\n"
     ]
    }
   ],
   "source": [
    "from pyscf.scf import hf\n",
    "\n",
    "dim = 26\n",
    "\n",
    "\n",
    "number_of_samples = len(S_test)\n",
    "\n",
    "dP_1e, dP_atom, dP_minao, dP_NN = [np.zeros((dim, dim)) for i in range(4)]\n",
    "P_1e, P_atom, P_minao, P_expected = [[] for i in range(4)]\n",
    "\n",
    "for i, (molecule, s, p) in enumerate(zip(molecules_test, S_test, P_test)):\n",
    "    \n",
    "    mol = molecule.get_pyscf_molecule()\n",
    "    \n",
    "    print(\"Calculating: \" + str(i + 1) + \"/\" + str(number_of_samples))\n",
    "    \n",
    "    # assemble pyscf initial guesses\n",
    "    P_1e.append(hf.init_guess_by_1e(mol))\n",
    "    P_atom.append(hf.init_guess_by_atom(mol))\n",
    "    P_minao.append(hf.init_guess_by_minao(mol))\n",
    "    \n",
    "    p = p.reshape(dim, dim)\n",
    "    P_expected.append(p)\n",
    "    \n",
    "    \n",
    "    # nn guess\n",
    "    s = Dataset.normalize(s.reshape(1, dim**2), mean=dataset.x_mean, std=dataset.x_std)[0]\n",
    "    P_NN = network.run(sess, s).reshape(dim, dim).astype('float64')\n",
    "    \n",
    "    \n",
    "    # calculate deltas\n",
    "    dP_1e += np.abs(p - P_1e[-1])\n",
    "    dP_atom += np.abs(p - P_atom[-1])\n",
    "    dP_minao += np.abs(p - P_minao[-1])\n",
    "    dP_NN += np.abs(p - P_NN)\n",
    "    \n",
    "\n",
    "    \n",
    "dP_1e /= number_of_samples\n",
    "dP_atom /= number_of_samples\n",
    "dP_minao /= number_of_samples\n",
    "dP_NN /= number_of_samples"
   ]
  },
  {
   "cell_type": "code",
   "execution_count": 22,
   "metadata": {},
   "outputs": [
    {
     "data": {
      "image/png": "[encoded data removed]",
      "text/plain": [
       "<matplotlib.figure.Figure at 0x7f09deebc748>"
      ]
     },
     "metadata": {},
     "output_type": "display_data"
    },
    {
     "data": {
      "image/png": "[encoded data removed]",
      "text/plain": [
       "<matplotlib.figure.Figure at 0x7f09dede9080>"
      ]
     },
     "metadata": {},
     "output_type": "display_data"
    },
    {
     "data": {
      "image/png": "[encoded data removed]",
      "text/plain": [
       "<matplotlib.figure.Figure at 0x7f09dc0ffb38>"
      ]
     },
     "metadata": {},
     "output_type": "display_data"
    },
    {
     "data": {
      "image/png": "[encoded data removed]",
      "text/plain": [
       "<matplotlib.figure.Figure at 0x7f09dedf6b00>"
      ]
     },
     "metadata": {},
     "output_type": "display_data"
    }
   ],
   "source": [
    "import matplotlib\n",
    "\n",
    "title = [\"1e\", \"atom\", \"minao\", \"NN\"]\n",
    "norm = None\n",
    "norm = matplotlib.colors.Normalize(vmin=0, vmax=1)\n",
    "for i, error in enumerate([dP_1e, dP_atom, dP_minao, dP_NN]):\n",
    "    plt.figure()\n",
    "    plt.title(title[i])\n",
    "    matrix_error(error, vmin=0, vmax=1)\n",
    "plt.show()   "
   ]
  },
  {
   "cell_type": "code",
   "execution_count": 23,
   "metadata": {},
   "outputs": [
    {
     "data": {
      "image/png": "[encoded data removed]",
      "text/plain": [
       "<matplotlib.figure.Figure at 0x7f09deeb6240>"
      ]
     },
     "metadata": {},
     "output_type": "display_data"
    },
    {
     "data": {
      "image/png": "[encoded data removed]",
      "text/plain": [
       "<matplotlib.figure.Figure at 0x7f09ded5e710>"
      ]
     },
     "metadata": {},
     "output_type": "display_data"
    },
    {
     "data": {
      "image/png": "[encoded data removed]",
      "text/plain": [
       "<matplotlib.figure.Figure at 0x7f09def01cf8>"
      ]
     },
     "metadata": {},
     "output_type": "display_data"
    }
   ],
   "source": [
    "flatten = lambda x, y: list(x) + list(y)\n",
    "\n",
    "def transform(x):\n",
    "    return reduce(flatten, map(lambda y: y.flatten(), x))\n",
    "\n",
    "expected = transform(P_expected)\n",
    "labels = [\"1e\", \"atom\", \"minao\"]\n",
    "for i, guess in enumerate(map(transform, [P_1e, P_atom, P_minao])):\n",
    "    \n",
    "    fig = plt.figure()\n",
    "    plt.scatter(expected, guess, marker=\"x\", label=\"test\")\n",
    "    plt.ylabel(\"prediction\")\n",
    "    plt.xlabel(\"actual\")\n",
    "    #plt.axis('equal')\n",
    "    #plt.set_aspect('equal', 'box')\n",
    "    lower, upper = -0.5, 2.5\n",
    "    plt.axis([lower, upper, lower, upper])\n",
    "    plt.title(labels[i])\n",
    "    \n",
    "plt.show()"
   ]
  },
  {
   "cell_type": "markdown",
   "metadata": {},
   "source": [
    "## Check: was the calculation consistent?\n",
    "Comapre newly calculated p vs P_test."
   ]
  },
  {
   "cell_type": "code",
   "execution_count": 24,
   "metadata": {
    "scrolled": true
   },
   "outputs": [
    {
     "name": "stderr",
     "output_type": "stream",
     "text": [
      "Warn: Ipython shell catchs sys.args\n"
     ]
    },
    {
     "name": "stdout",
     "output_type": "stream",
     "text": [
      "Calculating: 1/50\n"
     ]
    },
    {
     "name": "stderr",
     "output_type": "stream",
     "text": [
      "Warn: Ipython shell catchs sys.args\n"
     ]
    },
    {
     "name": "stdout",
     "output_type": "stream",
     "text": [
      "Calculating: 2/50\n"
     ]
    },
    {
     "name": "stderr",
     "output_type": "stream",
     "text": [
      "Warn: Ipython shell catchs sys.args\n"
     ]
    },
    {
     "name": "stdout",
     "output_type": "stream",
     "text": [
      "Calculating: 3/50\n"
     ]
    },
    {
     "name": "stderr",
     "output_type": "stream",
     "text": [
      "Warn: Ipython shell catchs sys.args\n"
     ]
    },
    {
     "name": "stdout",
     "output_type": "stream",
     "text": [
      "Calculating: 4/50\n"
     ]
    },
    {
     "name": "stderr",
     "output_type": "stream",
     "text": [
      "Warn: Ipython shell catchs sys.args\n"
     ]
    },
    {
     "name": "stdout",
     "output_type": "stream",
     "text": [
      "Calculating: 5/50\n"
     ]
    },
    {
     "name": "stderr",
     "output_type": "stream",
     "text": [
      "Warn: Ipython shell catchs sys.args\n"
     ]
    },
    {
     "name": "stdout",
     "output_type": "stream",
     "text": [
      "Calculating: 6/50\n"
     ]
    },
    {
     "name": "stderr",
     "output_type": "stream",
     "text": [
      "Warn: Ipython shell catchs sys.args\n"
     ]
    },
    {
     "name": "stdout",
     "output_type": "stream",
     "text": [
      "Calculating: 7/50\n"
     ]
    },
    {
     "name": "stderr",
     "output_type": "stream",
     "text": [
      "Warn: Ipython shell catchs sys.args\n"
     ]
    },
    {
     "name": "stdout",
     "output_type": "stream",
     "text": [
      "Calculating: 8/50\n"
     ]
    },
    {
     "name": "stderr",
     "output_type": "stream",
     "text": [
      "Warn: Ipython shell catchs sys.args\n"
     ]
    },
    {
     "name": "stdout",
     "output_type": "stream",
     "text": [
      "Calculating: 9/50\n"
     ]
    },
    {
     "name": "stderr",
     "output_type": "stream",
     "text": [
      "Warn: Ipython shell catchs sys.args\n"
     ]
    },
    {
     "name": "stdout",
     "output_type": "stream",
     "text": [
      "Calculating: 10/50\n"
     ]
    },
    {
     "name": "stderr",
     "output_type": "stream",
     "text": [
      "Warn: Ipython shell catchs sys.args\n"
     ]
    },
    {
     "name": "stdout",
     "output_type": "stream",
     "text": [
      "Calculating: 11/50\n"
     ]
    },
    {
     "name": "stderr",
     "output_type": "stream",
     "text": [
      "Warn: Ipython shell catchs sys.args\n"
     ]
    },
    {
     "name": "stdout",
     "output_type": "stream",
     "text": [
      "Calculating: 12/50\n"
     ]
    },
    {
     "name": "stderr",
     "output_type": "stream",
     "text": [
      "Warn: Ipython shell catchs sys.args\n"
     ]
    },
    {
     "name": "stdout",
     "output_type": "stream",
     "text": [
      "Calculating: 13/50\n"
     ]
    },
    {
     "name": "stderr",
     "output_type": "stream",
     "text": [
      "Warn: Ipython shell catchs sys.args\n"
     ]
    },
    {
     "name": "stdout",
     "output_type": "stream",
     "text": [
      "Calculating: 14/50\n"
     ]
    },
    {
     "name": "stderr",
     "output_type": "stream",
     "text": [
      "Warn: Ipython shell catchs sys.args\n"
     ]
    },
    {
     "name": "stdout",
     "output_type": "stream",
     "text": [
      "Calculating: 15/50\n"
     ]
    },
    {
     "name": "stderr",
     "output_type": "stream",
     "text": [
      "Warn: Ipython shell catchs sys.args\n"
     ]
    },
    {
     "name": "stdout",
     "output_type": "stream",
     "text": [
      "Calculating: 16/50\n"
     ]
    },
    {
     "name": "stderr",
     "output_type": "stream",
     "text": [
      "Warn: Ipython shell catchs sys.args\n"
     ]
    },
    {
     "name": "stdout",
     "output_type": "stream",
     "text": [
      "Calculating: 17/50\n"
     ]
    },
    {
     "name": "stderr",
     "output_type": "stream",
     "text": [
      "Warn: Ipython shell catchs sys.args\n"
     ]
    },
    {
     "name": "stdout",
     "output_type": "stream",
     "text": [
      "Calculating: 18/50\n"
     ]
    },
    {
     "name": "stderr",
     "output_type": "stream",
     "text": [
      "Warn: Ipython shell catchs sys.args\n"
     ]
    },
    {
     "name": "stdout",
     "output_type": "stream",
     "text": [
      "Calculating: 19/50\n"
     ]
    },
    {
     "name": "stderr",
     "output_type": "stream",
     "text": [
      "Warn: Ipython shell catchs sys.args\n"
     ]
    },
    {
     "name": "stdout",
     "output_type": "stream",
     "text": [
      "Calculating: 20/50\n"
     ]
    },
    {
     "name": "stderr",
     "output_type": "stream",
     "text": [
      "Warn: Ipython shell catchs sys.args\n"
     ]
    },
    {
     "name": "stdout",
     "output_type": "stream",
     "text": [
      "Calculating: 21/50\n"
     ]
    },
    {
     "name": "stderr",
     "output_type": "stream",
     "text": [
      "Warn: Ipython shell catchs sys.args\n"
     ]
    },
    {
     "name": "stdout",
     "output_type": "stream",
     "text": [
      "Calculating: 22/50\n"
     ]
    },
    {
     "name": "stderr",
     "output_type": "stream",
     "text": [
      "Warn: Ipython shell catchs sys.args\n"
     ]
    },
    {
     "name": "stdout",
     "output_type": "stream",
     "text": [
      "Calculating: 23/50\n"
     ]
    },
    {
     "name": "stderr",
     "output_type": "stream",
     "text": [
      "Warn: Ipython shell catchs sys.args\n"
     ]
    },
    {
     "name": "stdout",
     "output_type": "stream",
     "text": [
      "Calculating: 24/50\n"
     ]
    },
    {
     "name": "stderr",
     "output_type": "stream",
     "text": [
      "Warn: Ipython shell catchs sys.args\n"
     ]
    },
    {
     "name": "stdout",
     "output_type": "stream",
     "text": [
      "Calculating: 25/50\n"
     ]
    },
    {
     "name": "stderr",
     "output_type": "stream",
     "text": [
      "Warn: Ipython shell catchs sys.args\n"
     ]
    },
    {
     "name": "stdout",
     "output_type": "stream",
     "text": [
      "Calculating: 26/50\n"
     ]
    },
    {
     "name": "stderr",
     "output_type": "stream",
     "text": [
      "Warn: Ipython shell catchs sys.args\n"
     ]
    },
    {
     "name": "stdout",
     "output_type": "stream",
     "text": [
      "Calculating: 27/50\n"
     ]
    },
    {
     "name": "stderr",
     "output_type": "stream",
     "text": [
      "Warn: Ipython shell catchs sys.args\n"
     ]
    },
    {
     "name": "stdout",
     "output_type": "stream",
     "text": [
      "Calculating: 28/50\n"
     ]
    },
    {
     "name": "stderr",
     "output_type": "stream",
     "text": [
      "Warn: Ipython shell catchs sys.args\n"
     ]
    },
    {
     "name": "stdout",
     "output_type": "stream",
     "text": [
      "Calculating: 29/50\n"
     ]
    },
    {
     "name": "stderr",
     "output_type": "stream",
     "text": [
      "Warn: Ipython shell catchs sys.args\n"
     ]
    },
    {
     "name": "stdout",
     "output_type": "stream",
     "text": [
      "Calculating: 30/50\n"
     ]
    },
    {
     "name": "stderr",
     "output_type": "stream",
     "text": [
      "Warn: Ipython shell catchs sys.args\n"
     ]
    },
    {
     "name": "stdout",
     "output_type": "stream",
     "text": [
      "Calculating: 31/50\n"
     ]
    },
    {
     "name": "stderr",
     "output_type": "stream",
     "text": [
      "Warn: Ipython shell catchs sys.args\n"
     ]
    },
    {
     "name": "stdout",
     "output_type": "stream",
     "text": [
      "Calculating: 32/50\n"
     ]
    },
    {
     "name": "stderr",
     "output_type": "stream",
     "text": [
      "Warn: Ipython shell catchs sys.args\n"
     ]
    },
    {
     "name": "stdout",
     "output_type": "stream",
     "text": [
      "Calculating: 33/50\n"
     ]
    },
    {
     "name": "stderr",
     "output_type": "stream",
     "text": [
      "Warn: Ipython shell catchs sys.args\n"
     ]
    },
    {
     "name": "stdout",
     "output_type": "stream",
     "text": [
      "Calculating: 34/50\n"
     ]
    },
    {
     "name": "stderr",
     "output_type": "stream",
     "text": [
      "Warn: Ipython shell catchs sys.args\n"
     ]
    },
    {
     "name": "stdout",
     "output_type": "stream",
     "text": [
      "Calculating: 35/50\n"
     ]
    },
    {
     "name": "stderr",
     "output_type": "stream",
     "text": [
      "Warn: Ipython shell catchs sys.args\n"
     ]
    },
    {
     "name": "stdout",
     "output_type": "stream",
     "text": [
      "Calculating: 36/50\n"
     ]
    },
    {
     "name": "stderr",
     "output_type": "stream",
     "text": [
      "Warn: Ipython shell catchs sys.args\n"
     ]
    },
    {
     "name": "stdout",
     "output_type": "stream",
     "text": [
      "Calculating: 37/50\n"
     ]
    },
    {
     "name": "stderr",
     "output_type": "stream",
     "text": [
      "Warn: Ipython shell catchs sys.args\n"
     ]
    },
    {
     "name": "stdout",
     "output_type": "stream",
     "text": [
      "Calculating: 38/50\n"
     ]
    },
    {
     "name": "stderr",
     "output_type": "stream",
     "text": [
      "Warn: Ipython shell catchs sys.args\n"
     ]
    },
    {
     "name": "stdout",
     "output_type": "stream",
     "text": [
      "Calculating: 39/50\n"
     ]
    },
    {
     "name": "stderr",
     "output_type": "stream",
     "text": [
      "Warn: Ipython shell catchs sys.args\n"
     ]
    },
    {
     "name": "stdout",
     "output_type": "stream",
     "text": [
      "Calculating: 40/50\n"
     ]
    },
    {
     "name": "stderr",
     "output_type": "stream",
     "text": [
      "Warn: Ipython shell catchs sys.args\n"
     ]
    },
    {
     "name": "stdout",
     "output_type": "stream",
     "text": [
      "Calculating: 41/50\n"
     ]
    },
    {
     "name": "stderr",
     "output_type": "stream",
     "text": [
      "Warn: Ipython shell catchs sys.args\n"
     ]
    },
    {
     "name": "stdout",
     "output_type": "stream",
     "text": [
      "Calculating: 42/50\n"
     ]
    },
    {
     "name": "stderr",
     "output_type": "stream",
     "text": [
      "Warn: Ipython shell catchs sys.args\n"
     ]
    },
    {
     "name": "stdout",
     "output_type": "stream",
     "text": [
      "Calculating: 43/50\n"
     ]
    },
    {
     "name": "stderr",
     "output_type": "stream",
     "text": [
      "Warn: Ipython shell catchs sys.args\n"
     ]
    },
    {
     "name": "stdout",
     "output_type": "stream",
     "text": [
      "Calculating: 44/50\n"
     ]
    },
    {
     "name": "stderr",
     "output_type": "stream",
     "text": [
      "Warn: Ipython shell catchs sys.args\n"
     ]
    },
    {
     "name": "stdout",
     "output_type": "stream",
     "text": [
      "Calculating: 45/50\n"
     ]
    },
    {
     "name": "stderr",
     "output_type": "stream",
     "text": [
      "Warn: Ipython shell catchs sys.args\n"
     ]
    },
    {
     "name": "stdout",
     "output_type": "stream",
     "text": [
      "Calculating: 46/50\n"
     ]
    },
    {
     "name": "stderr",
     "output_type": "stream",
     "text": [
      "Warn: Ipython shell catchs sys.args\n"
     ]
    },
    {
     "name": "stdout",
     "output_type": "stream",
     "text": [
      "Calculating: 47/50\n"
     ]
    },
    {
     "name": "stderr",
     "output_type": "stream",
     "text": [
      "Warn: Ipython shell catchs sys.args\n"
     ]
    },
    {
     "name": "stdout",
     "output_type": "stream",
     "text": [
      "Calculating: 48/50\n"
     ]
    },
    {
     "name": "stderr",
     "output_type": "stream",
     "text": [
      "Warn: Ipython shell catchs sys.args\n"
     ]
    },
    {
     "name": "stdout",
     "output_type": "stream",
     "text": [
      "Calculating: 49/50\n"
     ]
    },
    {
     "name": "stderr",
     "output_type": "stream",
     "text": [
      "Warn: Ipython shell catchs sys.args\n"
     ]
    },
    {
     "name": "stdout",
     "output_type": "stream",
     "text": [
      "Calculating: 50/50\n"
     ]
    }
   ],
   "source": [
    "from pyscf.scf import hf\n",
    "\n",
    "dim = 26\n",
    "\n",
    "number_of_samples = len(S_test)\n",
    "\n",
    "dP = np.zeros((dim, dim))\n",
    "\n",
    "for i, (molecule, p) in enumerate(zip(molecules_test, P_test)):\n",
    "    \n",
    "    mol = molecule.get_pyscf_molecule()\n",
    "    \n",
    "    print(\"Calculating: \" + str(i + 1) + \"/\" + str(number_of_samples))\n",
    "    \n",
    "    mf = hf.RHF(mol)\n",
    "    mf.verbose = 1\n",
    "    mf.kernel()\n",
    "    \n",
    "    p = p.reshape(dim, dim)\n",
    "    \n",
    "    dP += np.abs(p - mf.make_rdm1())\n",
    "\n",
    "dP /= number_of_samples\n"
   ]
  },
  {
   "cell_type": "code",
   "execution_count": 25,
   "metadata": {},
   "outputs": [
    {
     "data": {
      "image/png": "[encoded data removed]",
      "text/plain": [
       "<matplotlib.figure.Figure at 0x7f09dc0408d0>"
      ]
     },
     "metadata": {},
     "output_type": "display_data"
    }
   ],
   "source": [
    "plt.figure()\n",
    "matrix_error(dP)\n",
    "plt.show()"
   ]
  },
  {
   "cell_type": "markdown",
   "metadata": {},
   "source": [
    "## Physically motivated output activations\n",
    "As we suspect the high number of iterations may be due to pysically to unphysical values. Thus we willtransform the output."
   ]
  },
  {
   "cell_type": "markdown",
   "metadata": {},
   "source": [
    "### Sigmoid\n",
    "We will now try $\\sigma(x) * 2$ to frce the values to be be between 1 and 2."
   ]
  },
  {
   "cell_type": "code",
   "execution_count": 51,
   "metadata": {
    "scrolled": true
   },
   "outputs": [
    {
     "name": "stdout",
     "output_type": "stream",
     "text": [
      "[-] 2018-03-19 18:42:47: Setting up the graph ...\n",
      "[-] 2018-03-19 18:42:48: Starting network training ...\n",
      "[ ] 2018-03-19 18:42:48: Validation cost: 5.79088E-02. Diff to prev.: 1.0E+10\n",
      "[ ] 2018-03-19 18:42:48: Validation cost: 2.78867E-04. Diff to prev.: 5.8E-02\n",
      "[ ] 2018-03-19 18:42:49: Validation cost: 1.53180E-04. Diff to prev.: 1.3E-04\n",
      "[ ] 2018-03-19 18:42:50: Validation cost: 1.03149E-04. Diff to prev.: 5.0E-05\n",
      "[ ] 2018-03-19 18:42:50: Validation cost: 7.78471E-05. Diff to prev.: 2.5E-05\n",
      "[-] 2018-03-19 18:42:51: Convergence reached after 500 steps.\n",
      "[-] 2018-03-19 18:42:51: Test error: 7.37029E-05\n"
     ]
    }
   ],
   "source": [
    "from SCFInitialGuess.nn.training import train_network\n",
    "from SCFInitialGuess.nn.networks import EluTrNNN\n",
    "import tensorflow as tf\n",
    "\n",
    "class EluTrNNNSigmoid(EluTrNNN):\n",
    "    def _output_activation(self, preactivation):\n",
    "        \"\"\"Sigmoidal output activation.\"\"\"\n",
    "        return tf.nn.sigmoid(preactivation) * 4 - 2\n",
    "\n",
    "structure = [dim**2, 200, 100, dim**2]\n",
    "\n",
    "\n",
    "#tf.reset_default_graph()\n",
    "sigmoid_nn, sess_sigmoid = train_network(\n",
    "    EluTrNNNSigmoid(structure),\n",
    "    dataset,\n",
    "    evaluation_period=100,\n",
    "    mini_batch_size=20,\n",
    "    convergence_threshold=1e-5,\n",
    "    regularisation_parameter=1e-8\n",
    ")"
   ]
  },
  {
   "cell_type": "markdown",
   "metadata": {},
   "source": [
    "### McWheene Matrix Purification.\n",
    "We will try the McWheene transformation \n",
    "\n",
    "$$P \\rightarrow 3P^2 - 2P^3 $$\n",
    "\n",
    "as output activation. This transformation is used to force idempotence upon the density matrix."
   ]
  },
  {
   "cell_type": "code",
   "execution_count": 49,
   "metadata": {
    "scrolled": true
   },
   "outputs": [
    {
     "name": "stdout",
     "output_type": "stream",
     "text": [
      "[-] 2018-03-19 18:39:22: Setting up the graph ...\n",
      "[-] 2018-03-19 18:39:22: Starting network training ...\n",
      "[ ] 2018-03-19 18:39:22: Validation cost: 5.76880E-02. Diff to prev.: 1.0E+10\n",
      "[ ] 2018-03-19 18:39:23: Validation cost: 3.91985E-03. Diff to prev.: 5.4E-02\n",
      "[ ] 2018-03-19 18:39:23: Validation cost: 1.52655E-03. Diff to prev.: 2.4E-03\n",
      "[ ] 2018-03-19 18:39:24: Validation cost: 8.93187E-04. Diff to prev.: 6.3E-04\n",
      "[ ] 2018-03-19 18:39:24: Validation cost: 7.07508E-04. Diff to prev.: 1.9E-04\n",
      "[ ] 2018-03-19 18:39:25: Validation cost: 8.81944E-04. Diff to prev.: 1.7E-04\n",
      "[ ] 2018-03-19 18:39:25: Validation cost: 5.19098E-04. Diff to prev.: 3.6E-04\n",
      "[ ] 2018-03-19 18:39:26: Validation cost: 6.93689E-04. Diff to prev.: 1.7E-04\n",
      "[ ] 2018-03-19 18:39:27: Validation cost: 5.92101E-04. Diff to prev.: 1.0E-04\n",
      "[-] 2018-03-19 18:39:27: Convergence reached after 900 steps.\n",
      "[-] 2018-03-19 18:39:27: Test error: 4.48026E-04\n"
     ]
    }
   ],
   "source": [
    "from SCFInitialGuess.nn.training import train_network\n",
    "from SCFInitialGuess.nn.networks import EluTrNNN\n",
    "import tensorflow as tf\n",
    "\n",
    "class EluTrNNNMcWheene(EluTrNNN):\n",
    "    def _output_activation(self, preactivation):\n",
    "        \"\"\"McWheene output transformation used as activaton.\"\"\"\n",
    "        \n",
    "        reshaped_pre = tf.reshape(preactivation, shape=[-1, dim, dim])\n",
    "    \n",
    "        # if 3D tensor and dims match, tf will ignore first dim!\n",
    "        squared = tf.matmul(\n",
    "            reshaped_pre, \n",
    "            reshaped_pre\n",
    "        )\n",
    "        \n",
    "        cubed = tf.matmul(\n",
    "            squared,\n",
    "            reshaped_pre\n",
    "        )\n",
    "        \n",
    "        out = 3 * squared - 2 * cubed\n",
    "        \n",
    "        return tf.reshape(out, shape=[-1, dim**2])\n",
    "\n",
    "structure = [dim**2, 200, 100, dim**2]\n",
    "\n",
    "#tf.reset_default_graph()\n",
    "mcwheene_nn, sess_mcwheeny = train_network(\n",
    "    EluTrNNNMcWheene(structure),\n",
    "    dataset,\n",
    "    evaluation_period=100,\n",
    "    mini_batch_size=20,\n",
    "    convergence_threshold=1e-5,\n",
    "    regularisation_parameter=1e-6\n",
    ")"
   ]
  },
  {
   "cell_type": "markdown",
   "metadata": {},
   "source": [
    "### Analysis\n"
   ]
  },
  {
   "cell_type": "code",
   "execution_count": 52,
   "metadata": {},
   "outputs": [
    {
     "data": {
      "image/png": "[encoded data removed]",
      "text/plain": [
       "<matplotlib.figure.Figure at 0x7f09c0cd61d0>"
      ]
     },
     "metadata": {},
     "output_type": "display_data"
    }
   ],
   "source": [
    "# test dataset\n",
    "\n",
    "#original network\n",
    "plt.scatter(\n",
    "    np.array(dataset.testing[1]).flatten(),\n",
    "    np.array(\n",
    "        network.run(\n",
    "            sess, \n",
    "            dataset.testing[0]\n",
    "        )\n",
    "    ).flatten(), \n",
    "    marker=\"x\", \n",
    "    label=\"original\"\n",
    ")\n",
    "\n",
    "# sigmoid\n",
    "plt.scatter(\n",
    "    np.array(dataset.testing[1]).flatten(),\n",
    "    np.array(\n",
    "        sigmoid_nn.run(\n",
    "            sess_sigmoid, \n",
    "            dataset.testing[0]\n",
    "        )\n",
    "    ).flatten(), \n",
    "    marker=\"x\", \n",
    "    label=\"sigmoid\"\n",
    ")\n",
    "\n",
    "# mcwheene\n",
    "plt.scatter(\n",
    "    np.array(dataset.testing[1]).flatten(),\n",
    "    np.array(\n",
    "        mcwheene_nn.run(\n",
    "            sess_mcwheeny, \n",
    "            dataset.testing[0]\n",
    "        )\n",
    "    ).flatten(), \n",
    "    marker=\"x\", \n",
    "    label=\"McWheene\"\n",
    ")\n",
    "\n",
    "\n",
    "plt.legend()\n",
    "\n",
    "#lower, upper = -1, 2.5\n",
    "#plt.axis([lower, upper, lower, upper])\n",
    "plt.ylabel(\"prediction\")\n",
    "plt.xlabel(\"actual\")\n",
    "plt.show()"
   ]
  },
  {
   "cell_type": "code",
   "execution_count": null,
   "metadata": {
    "collapsed": true
   },
   "outputs": [],
   "source": [
    "from pyscf.scf import hf\n",
    "\n",
    "dim = 26\n",
    "\n",
    "iterations_output_activations = []\n",
    "for i, molecule in enumerate(molecules_test):\n",
    "    \n",
    "    mol = molecule.get_pyscf_molecule()\n",
    "    \n",
    "    \n",
    "    print(\"Calculating: \" + str(i + 1) + \"/\" + str(len(molecules_test)))\n",
    "    \n",
    "    # nn guess\n",
    "    s = hf.get_ovlp(mol).reshape(1, dim**2)\n",
    "    s = Dataset.normalize(s, mean=dataset.x_mean, std=dataset.x_std)[0]\n",
    "    P_Sigmoid = sigmoid_nn.run(sess, s).reshape(dim, dim).astype('float64')\n",
    "    P_McWheene = mcwheene_nn.run(sess, s).reshape(dim, dim).astype('float64')\n",
    "        \n",
    "    iterations_molecule = []\n",
    "    for guess in [P_Sigmoid, P_McWheene]:\n",
    "        \n",
    "        mf = hf.RHF(mol)\n",
    "        mf.verbose = 1\n",
    "        mf.kernel(dm0=guess)\n",
    "        iterations_molecule.append(mf.iterations)\n",
    "    \n",
    "    iterations_output_activations.append(iterations_molecule)\n",
    "\n",
    "iterations_output_activations = np.array(iterations_output_activations)"
   ]
  },
  {
   "cell_type": "code",
   "execution_count": null,
   "metadata": {
    "collapsed": true
   },
   "outputs": [],
   "source": [
    "#fig, axes = plt.subplots(2,2)\n",
    "\n",
    "print(np.mean(iterations_output_activations,0))\n",
    "\n",
    "bins = 20 # todo hier kann man auch ein array angeben\n",
    "\n",
    "for i, name in enumerate([\"Sigmoid\", \"McWheene\"]):\n",
    "    \n",
    "    hist, bins = np.histogram(iterations_output_activations[:,i])\n",
    "    center = (bins[:-1] + bins[1:]) / 2\n",
    "    #axes[i].bar(center, hist, label=name)\n",
    "    plt.bar(center, hist, label=name)\n",
    "    \n",
    "plt.legend()\n",
    "plt.show()"
   ]
  },
  {
   "cell_type": "code",
   "execution_count": null,
   "metadata": {
    "collapsed": true
   },
   "outputs": [],
   "source": [
    "str(tf.get_default_graph())"
   ]
  },
  {
   "cell_type": "code",
   "execution_count": null,
   "metadata": {
    "collapsed": true
   },
   "outputs": [],
   "source": []
  }
 ],
 "metadata": {
  "anaconda-cloud": {},
  "kernelspec": {
   "display_name": "Python 2",
   "language": "python",
   "name": "python2"
  },
  "language_info": {
   "codemirror_mode": {
    "name": "ipython",
    "version": 3
   },
   "file_extension": ".py",
   "mimetype": "text/x-python",
   "name": "python",
   "nbconvert_exporter": "python",
   "pygments_lexer": "ipython3",
   "version": "3.6.2"
  }
 },
 "nbformat": 4,
 "nbformat_minor": 1
}
