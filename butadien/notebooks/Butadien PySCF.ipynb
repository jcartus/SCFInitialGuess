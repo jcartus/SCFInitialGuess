{
 "cells": [
  {
   "cell_type": "markdown",
   "metadata": {},
   "source": [
    "# Butadien II\n",
    "We will invetigate various Butadien configurations and train a network on it. The data will be solely pyscf generated this time."
   ]
  },
  {
   "cell_type": "code",
   "execution_count": 1,
   "metadata": {},
   "outputs": [
    {
     "name": "stderr",
     "output_type": "stream",
     "text": [
      "/home/jo/anaconda3/lib/python3.6/site-packages/h5py/__init__.py:36: FutureWarning: Conversion of the second argument of issubdtype from `float` to `np.floating` is deprecated. In future, it will be treated as `np.float64 == np.dtype(float).type`.\n",
      "  from ._conv import register_converters as _register_converters\n"
     ]
    }
   ],
   "source": [
    "import tensorflow as tf\n",
    "\n",
    "import numpy as np\n",
    "import matplotlib.pyplot as plt\n",
    "\n",
    "dim = 26\n",
    "\n",
    "#%matplotlib notebook\n",
    "\n",
    "figures_path = \"/home/jo/Repos/MastersThesis/InitialGuess/Butadien/figures/\"\n"
   ]
  },
  {
   "cell_type": "markdown",
   "metadata": {},
   "source": [
    "## Creating the dataset\n",
    "\n",
    "Split: Tresting 25 % (validation 10% and Traning 90%)"
   ]
  },
  {
   "cell_type": "code",
   "execution_count": 2,
   "metadata": {},
   "outputs": [],
   "source": [
    "S, P = np.load(\"../data/dataset.npy\")\n",
    "molecules = np.load(\"../data/molecules.npy\")"
   ]
  },
  {
   "cell_type": "code",
   "execution_count": 3,
   "metadata": {},
   "outputs": [
    {
     "name": "stdout",
     "output_type": "stream",
     "text": [
      "[-] 2018-04-14 13:25:50: Data set normalized. Mean value std: 0.00866527364763319\n"
     ]
    }
   ],
   "source": [
    "from SCFInitialGuess.utilities.dataset import Dataset\n",
    "\n",
    "ind_cut = 150\n",
    "index = np.arange(200)\n",
    "np.random.shuffle(index)\n",
    "\n",
    "S_test = np.array(S)[index[ind_cut:]]\n",
    "P_test = np.array(P)[index[ind_cut:]]\n",
    "molecules_test = [molecules[index[i]] for i in range(ind_cut, 200)]\n",
    "\n",
    "S_train = np.array(S)[index[:ind_cut]]\n",
    "P_train = np.array(P)[index[:ind_cut]]\n",
    "molecules_train = [molecules[index[i]] for i in range(ind_cut)]\n",
    "\n",
    "dataset = Dataset(np.array(S_train), np.array(P_train), split_test=0.0, split_validation=0.1)\n",
    "\n",
    "dataset.testing = (Dataset.normalize(S_test, mean=dataset.x_mean, std=dataset.x_std)[0], P_test)"
   ]
  },
  {
   "cell_type": "code",
   "execution_count": 4,
   "metadata": {},
   "outputs": [
    {
     "data": {
      "text/plain": [
       "(135, 15, 50)"
      ]
     },
     "execution_count": 4,
     "metadata": {},
     "output_type": "execute_result"
    }
   ],
   "source": [
    "len(dataset.training[0]), len(dataset.validation[0]), len(dataset.testing[0])"
   ]
  },
  {
   "cell_type": "code",
   "execution_count": 5,
   "metadata": {
    "scrolled": true
   },
   "outputs": [
    {
     "name": "stdout",
     "output_type": "stream",
     "text": [
      "[-] 2018-04-14 13:25:51: Setting up the graph ...\n",
      "[w] 2018-04-14 13:25:52: Careful! If more than 1 network is in current graph, it should be cleared before merging the summary!\n",
      "[-] 2018-04-14 13:25:52: Starting network training ...\n",
      "[ ] 2018-04-14 13:25:53: Validation cost: 5.82172E-02. Diff to prev.: 1.0E+10\n",
      "[ ] 2018-04-14 13:25:53: Validation cost: 2.07941E-04. Diff to prev.: 5.8E-02\n",
      "[ ] 2018-04-14 13:25:53: Validation cost: 7.20426E-05. Diff to prev.: 1.4E-04\n",
      "[ ] 2018-04-14 13:25:54: Validation cost: 3.14815E-05. Diff to prev.: 4.1E-05\n",
      "[ ] 2018-04-14 13:25:54: Validation cost: 2.00418E-05. Diff to prev.: 1.1E-05\n",
      "[ ] 2018-04-14 13:25:54: Validation cost: 1.66688E-05. Diff to prev.: 3.4E-06\n",
      "[ ] 2018-04-14 13:25:55: Validation cost: 1.67970E-05. Diff to prev.: 1.3E-07\n",
      "[ ] 2018-04-14 13:25:55: Validation cost: 2.04330E-05. Diff to prev.: 3.6E-06\n",
      "[ ] 2018-04-14 13:25:55: Validation cost: 1.87052E-05. Diff to prev.: 1.7E-06\n",
      "[ ] 2018-04-14 13:25:56: Validation cost: 2.03873E-05. Diff to prev.: 1.7E-06\n",
      "[ ] 2018-04-14 13:25:56: Validation cost: 4.43336E-05. Diff to prev.: 2.4E-05\n",
      "[ ] 2018-04-14 13:25:57: Validation cost: 1.22555E-05. Diff to prev.: 3.2E-05\n",
      "[ ] 2018-04-14 13:25:57: Validation cost: 9.52789E-06. Diff to prev.: 2.7E-06\n",
      "[ ] 2018-04-14 13:25:57: Validation cost: 1.12271E-05. Diff to prev.: 1.7E-06\n",
      "[ ] 2018-04-14 13:25:58: Validation cost: 7.68762E-06. Diff to prev.: 3.5E-06\n",
      "[ ] 2018-04-14 13:25:58: Validation cost: 8.14221E-06. Diff to prev.: 4.5E-07\n",
      "[ ] 2018-04-14 13:25:58: Validation cost: 8.45722E-06. Diff to prev.: 3.2E-07\n",
      "[ ] 2018-04-14 13:25:59: Validation cost: 3.50238E-05. Diff to prev.: 2.7E-05\n",
      "[ ] 2018-04-14 13:25:59: Validation cost: 8.68485E-06. Diff to prev.: 2.6E-05\n",
      "[ ] 2018-04-14 13:25:59: Validation cost: 1.42372E-05. Diff to prev.: 5.6E-06\n",
      "[ ] 2018-04-14 13:26:00: Validation cost: 1.08687E-05. Diff to prev.: 3.4E-06\n",
      "[ ] 2018-04-14 13:26:00: Validation cost: 6.35124E-06. Diff to prev.: 4.5E-06\n",
      "[ ] 2018-04-14 13:26:00: Validation cost: 1.01791E-05. Diff to prev.: 3.8E-06\n",
      "[ ] 2018-04-14 13:26:01: Validation cost: 1.17797E-05. Diff to prev.: 1.6E-06\n",
      "[-] 2018-04-14 13:26:01: Convergence reached after 2400 steps.\n",
      "[-] 2018-04-14 13:26:01: Test error: 1.14861E-05\n"
     ]
    }
   ],
   "source": [
    "from SCFInitialGuess.nn.networks import EluTrNNN\n",
    "from SCFInitialGuess.nn.training import train_network\n",
    "from shutil import rmtree\n",
    "\n",
    "structure = [dim**2, 200, 100, dim**2]\n",
    "save_path = \"log/orig/\"\n",
    "\n",
    "try:\n",
    "    sess.close()\n",
    "except:\n",
    "    pass\n",
    "\n",
    "tf.reset_default_graph()\n",
    "try:\n",
    "    rmtree(save_path)\n",
    "except:\n",
    "    print(\"could not delete\")\n",
    "\n",
    "network, sess = train_network(\n",
    "    EluTrNNN(structure, log_histograms=True),\n",
    "    dataset,\n",
    "    evaluation_period=100,\n",
    "    mini_batch_size=20,\n",
    "    convergence_threshold=1e-7,\n",
    "    regularisation_parameter=1e-6,\n",
    "    summary_save_path=save_path\n",
    ")\n"
   ]
  },
  {
   "cell_type": "markdown",
   "metadata": {
    "collapsed": true
   },
   "source": [
    "## Analysis with test data"
   ]
  },
  {
   "cell_type": "markdown",
   "metadata": {},
   "source": [
    "### Scatter"
   ]
  },
  {
   "cell_type": "code",
   "execution_count": 6,
   "metadata": {},
   "outputs": [
    {
     "data": {
      "image/png": "[encoded data removed]",
      "text/plain": [
       "<matplotlib.figure.Figure at 0x7fc939191128>"
      ]
     },
     "metadata": {},
     "output_type": "display_data"
    }
   ],
   "source": [
    "from functools import reduce\n",
    "\n",
    "\n",
    "flatten = lambda x, y: list(x) + list(y)\n",
    "\n",
    "\n",
    "#training\n",
    "expected = reduce(flatten, dataset.training[1])\n",
    "actual = reduce(flatten, \n",
    "    network.run(\n",
    "        sess, \n",
    "        dataset.training[0]\n",
    "    )\n",
    ")\n",
    "\n",
    "frac  = 1\n",
    "index = np.arange(int(np.floor(frac * len(actual))))\n",
    "np.random.shuffle(index)\n",
    "plt.scatter(np.array(expected)[index], np.array(actual)[index], label=\"training\")\n",
    "\n",
    "# test dataset\n",
    "expected = reduce(flatten, dataset.testing[1])\n",
    "actual = reduce(flatten, \n",
    "    network.run(\n",
    "        sess, \n",
    "        dataset.testing[0]\n",
    "    )\n",
    ")\n",
    "plt.scatter(expected,actual, marker=\"x\", label=\"test\")\n",
    "\n",
    "plt.legend()\n",
    "\n",
    "lower, upper = -1, 2.5\n",
    "plt.axis([lower, upper, lower, upper])\n",
    "plt.ylabel(\"prediction\")\n",
    "plt.xlabel(\"actual\")\n",
    "plt.show()"
   ]
  },
  {
   "cell_type": "markdown",
   "metadata": {
    "collapsed": true
   },
   "source": [
    "### Accumulated test error matrix"
   ]
  },
  {
   "cell_type": "code",
   "execution_count": 7,
   "metadata": {},
   "outputs": [
    {
     "name": "stdout",
     "output_type": "stream",
     "text": [
      "Mean abs. error: 0.0017664925763431769\n"
     ]
    },
    {
     "data": {
      "image/png": "[encoded data removed]",
      "text/plain": [
       "<matplotlib.figure.Figure at 0x7fc90cd8ac50>"
      ]
     },
     "metadata": {},
     "output_type": "display_data"
    }
   ],
   "source": [
    "from SCFInitialGuess.utilities.analysis import matrix_error\n",
    "\n",
    "error = np.zeros((dim, dim))\n",
    "for (x, y) in zip(*dataset.testing):\n",
    "    x = x.reshape(1, dim**2)\n",
    "    error += np.abs((y - network.run(sess, x)).reshape(dim, dim))\n",
    "error /= len(dataset.testing[0])\n",
    "\n",
    "print(\"Mean abs. error: \" + str(np.mean(error)))\n",
    "\n",
    "matrix_error(error, ButadienMode=True)\n",
    "#plt.savefig(figures_path + )\n",
    "plt.show()"
   ]
  },
  {
   "cell_type": "markdown",
   "metadata": {},
   "source": [
    "### Iterations"
   ]
  },
  {
   "cell_type": "code",
   "execution_count": 8,
   "metadata": {},
   "outputs": [
    {
     "name": "stderr",
     "output_type": "stream",
     "text": [
      "Warn: Ipython shell catchs sys.args\n"
     ]
    },
    {
     "name": "stdout",
     "output_type": "stream",
     "text": [
      "Calculating: 1/50\n",
      "Calculating: 2/50\n"
     ]
    },
    {
     "name": "stderr",
     "output_type": "stream",
     "text": [
      "Warn: Ipython shell catchs sys.args\n"
     ]
    },
    {
     "name": "stdout",
     "output_type": "stream",
     "text": [
      "Calculating: 3/50\n"
     ]
    },
    {
     "name": "stderr",
     "output_type": "stream",
     "text": [
      "Warn: Ipython shell catchs sys.args\n"
     ]
    },
    {
     "name": "stdout",
     "output_type": "stream",
     "text": [
      "Calculating: 4/50\n"
     ]
    },
    {
     "name": "stderr",
     "output_type": "stream",
     "text": [
      "Warn: Ipython shell catchs sys.args\n"
     ]
    },
    {
     "name": "stdout",
     "output_type": "stream",
     "text": [
      "Calculating: 5/50\n"
     ]
    },
    {
     "name": "stderr",
     "output_type": "stream",
     "text": [
      "Warn: Ipython shell catchs sys.args\n"
     ]
    },
    {
     "name": "stdout",
     "output_type": "stream",
     "text": [
      "Calculating: 6/50\n"
     ]
    },
    {
     "name": "stderr",
     "output_type": "stream",
     "text": [
      "Warn: Ipython shell catchs sys.args\n"
     ]
    },
    {
     "name": "stdout",
     "output_type": "stream",
     "text": [
      "Calculating: 7/50\n"
     ]
    },
    {
     "name": "stderr",
     "output_type": "stream",
     "text": [
      "Warn: Ipython shell catchs sys.args\n"
     ]
    },
    {
     "name": "stdout",
     "output_type": "stream",
     "text": [
      "Calculating: 8/50\n"
     ]
    },
    {
     "name": "stderr",
     "output_type": "stream",
     "text": [
      "Warn: Ipython shell catchs sys.args\n"
     ]
    },
    {
     "name": "stdout",
     "output_type": "stream",
     "text": [
      "Calculating: 9/50\n"
     ]
    },
    {
     "name": "stderr",
     "output_type": "stream",
     "text": [
      "Warn: Ipython shell catchs sys.args\n"
     ]
    },
    {
     "name": "stdout",
     "output_type": "stream",
     "text": [
      "Calculating: 10/50\n"
     ]
    },
    {
     "name": "stderr",
     "output_type": "stream",
     "text": [
      "Warn: Ipython shell catchs sys.args\n"
     ]
    },
    {
     "name": "stdout",
     "output_type": "stream",
     "text": [
      "Calculating: 11/50\n"
     ]
    },
    {
     "name": "stderr",
     "output_type": "stream",
     "text": [
      "Warn: Ipython shell catchs sys.args\n"
     ]
    },
    {
     "name": "stdout",
     "output_type": "stream",
     "text": [
      "Calculating: 12/50\n"
     ]
    },
    {
     "name": "stderr",
     "output_type": "stream",
     "text": [
      "Warn: Ipython shell catchs sys.args\n"
     ]
    },
    {
     "name": "stdout",
     "output_type": "stream",
     "text": [
      "Calculating: 13/50\n"
     ]
    },
    {
     "name": "stderr",
     "output_type": "stream",
     "text": [
      "Warn: Ipython shell catchs sys.args\n"
     ]
    },
    {
     "name": "stdout",
     "output_type": "stream",
     "text": [
      "Calculating: 14/50\n"
     ]
    },
    {
     "name": "stderr",
     "output_type": "stream",
     "text": [
      "Warn: Ipython shell catchs sys.args\n"
     ]
    },
    {
     "name": "stdout",
     "output_type": "stream",
     "text": [
      "Calculating: 15/50\n"
     ]
    },
    {
     "name": "stderr",
     "output_type": "stream",
     "text": [
      "Warn: Ipython shell catchs sys.args\n"
     ]
    },
    {
     "name": "stdout",
     "output_type": "stream",
     "text": [
      "Calculating: 16/50\n"
     ]
    },
    {
     "name": "stderr",
     "output_type": "stream",
     "text": [
      "Warn: Ipython shell catchs sys.args\n"
     ]
    },
    {
     "name": "stdout",
     "output_type": "stream",
     "text": [
      "Calculating: 17/50\n"
     ]
    },
    {
     "name": "stderr",
     "output_type": "stream",
     "text": [
      "Warn: Ipython shell catchs sys.args\n"
     ]
    },
    {
     "name": "stdout",
     "output_type": "stream",
     "text": [
      "Calculating: 18/50\n"
     ]
    },
    {
     "name": "stderr",
     "output_type": "stream",
     "text": [
      "Warn: Ipython shell catchs sys.args\n"
     ]
    },
    {
     "name": "stdout",
     "output_type": "stream",
     "text": [
      "Calculating: 19/50\n"
     ]
    },
    {
     "name": "stderr",
     "output_type": "stream",
     "text": [
      "Warn: Ipython shell catchs sys.args\n"
     ]
    },
    {
     "name": "stdout",
     "output_type": "stream",
     "text": [
      "Calculating: 20/50\n"
     ]
    },
    {
     "name": "stderr",
     "output_type": "stream",
     "text": [
      "Warn: Ipython shell catchs sys.args\n"
     ]
    },
    {
     "name": "stdout",
     "output_type": "stream",
     "text": [
      "Calculating: 21/50\n"
     ]
    },
    {
     "name": "stderr",
     "output_type": "stream",
     "text": [
      "Warn: Ipython shell catchs sys.args\n"
     ]
    },
    {
     "name": "stdout",
     "output_type": "stream",
     "text": [
      "Calculating: 22/50\n"
     ]
    },
    {
     "name": "stderr",
     "output_type": "stream",
     "text": [
      "Warn: Ipython shell catchs sys.args\n"
     ]
    },
    {
     "name": "stdout",
     "output_type": "stream",
     "text": [
      "Calculating: 23/50\n"
     ]
    },
    {
     "name": "stderr",
     "output_type": "stream",
     "text": [
      "Warn: Ipython shell catchs sys.args\n"
     ]
    },
    {
     "name": "stdout",
     "output_type": "stream",
     "text": [
      "Calculating: 24/50\n"
     ]
    },
    {
     "name": "stderr",
     "output_type": "stream",
     "text": [
      "Warn: Ipython shell catchs sys.args\n"
     ]
    },
    {
     "name": "stdout",
     "output_type": "stream",
     "text": [
      "Calculating: 25/50\n"
     ]
    },
    {
     "name": "stderr",
     "output_type": "stream",
     "text": [
      "Warn: Ipython shell catchs sys.args\n"
     ]
    },
    {
     "name": "stdout",
     "output_type": "stream",
     "text": [
      "Calculating: 26/50\n"
     ]
    },
    {
     "name": "stderr",
     "output_type": "stream",
     "text": [
      "Warn: Ipython shell catchs sys.args\n"
     ]
    },
    {
     "name": "stdout",
     "output_type": "stream",
     "text": [
      "Calculating: 27/50\n"
     ]
    },
    {
     "name": "stderr",
     "output_type": "stream",
     "text": [
      "Warn: Ipython shell catchs sys.args\n"
     ]
    },
    {
     "name": "stdout",
     "output_type": "stream",
     "text": [
      "Calculating: 28/50\n"
     ]
    },
    {
     "name": "stderr",
     "output_type": "stream",
     "text": [
      "Warn: Ipython shell catchs sys.args\n"
     ]
    },
    {
     "name": "stdout",
     "output_type": "stream",
     "text": [
      "Calculating: 29/50\n"
     ]
    },
    {
     "name": "stderr",
     "output_type": "stream",
     "text": [
      "Warn: Ipython shell catchs sys.args\n"
     ]
    },
    {
     "name": "stdout",
     "output_type": "stream",
     "text": [
      "Calculating: 30/50\n"
     ]
    },
    {
     "name": "stderr",
     "output_type": "stream",
     "text": [
      "Warn: Ipython shell catchs sys.args\n"
     ]
    },
    {
     "name": "stdout",
     "output_type": "stream",
     "text": [
      "Calculating: 31/50\n"
     ]
    },
    {
     "name": "stderr",
     "output_type": "stream",
     "text": [
      "Warn: Ipython shell catchs sys.args\n"
     ]
    },
    {
     "name": "stdout",
     "output_type": "stream",
     "text": [
      "Calculating: 32/50\n"
     ]
    },
    {
     "name": "stderr",
     "output_type": "stream",
     "text": [
      "Warn: Ipython shell catchs sys.args\n"
     ]
    },
    {
     "name": "stdout",
     "output_type": "stream",
     "text": [
      "Calculating: 33/50\n"
     ]
    },
    {
     "name": "stderr",
     "output_type": "stream",
     "text": [
      "Warn: Ipython shell catchs sys.args\n"
     ]
    },
    {
     "name": "stdout",
     "output_type": "stream",
     "text": [
      "Calculating: 34/50\n"
     ]
    },
    {
     "name": "stderr",
     "output_type": "stream",
     "text": [
      "Warn: Ipython shell catchs sys.args\n"
     ]
    },
    {
     "name": "stdout",
     "output_type": "stream",
     "text": [
      "Calculating: 35/50\n"
     ]
    },
    {
     "name": "stderr",
     "output_type": "stream",
     "text": [
      "Warn: Ipython shell catchs sys.args\n"
     ]
    },
    {
     "name": "stdout",
     "output_type": "stream",
     "text": [
      "Calculating: 36/50\n"
     ]
    },
    {
     "name": "stderr",
     "output_type": "stream",
     "text": [
      "Warn: Ipython shell catchs sys.args\n"
     ]
    },
    {
     "name": "stdout",
     "output_type": "stream",
     "text": [
      "Calculating: 37/50\n"
     ]
    },
    {
     "name": "stderr",
     "output_type": "stream",
     "text": [
      "Warn: Ipython shell catchs sys.args\n"
     ]
    },
    {
     "name": "stdout",
     "output_type": "stream",
     "text": [
      "Calculating: 38/50\n"
     ]
    },
    {
     "name": "stderr",
     "output_type": "stream",
     "text": [
      "Warn: Ipython shell catchs sys.args\n"
     ]
    },
    {
     "name": "stdout",
     "output_type": "stream",
     "text": [
      "Calculating: 39/50\n"
     ]
    },
    {
     "name": "stderr",
     "output_type": "stream",
     "text": [
      "Warn: Ipython shell catchs sys.args\n"
     ]
    },
    {
     "name": "stdout",
     "output_type": "stream",
     "text": [
      "Calculating: 40/50\n"
     ]
    },
    {
     "name": "stderr",
     "output_type": "stream",
     "text": [
      "Warn: Ipython shell catchs sys.args\n"
     ]
    },
    {
     "name": "stdout",
     "output_type": "stream",
     "text": [
      "Calculating: 41/50\n"
     ]
    },
    {
     "name": "stderr",
     "output_type": "stream",
     "text": [
      "Warn: Ipython shell catchs sys.args\n"
     ]
    },
    {
     "name": "stdout",
     "output_type": "stream",
     "text": [
      "Calculating: 42/50\n"
     ]
    },
    {
     "name": "stderr",
     "output_type": "stream",
     "text": [
      "Warn: Ipython shell catchs sys.args\n"
     ]
    },
    {
     "name": "stdout",
     "output_type": "stream",
     "text": [
      "Calculating: 43/50\n"
     ]
    },
    {
     "name": "stderr",
     "output_type": "stream",
     "text": [
      "Warn: Ipython shell catchs sys.args\n"
     ]
    },
    {
     "name": "stdout",
     "output_type": "stream",
     "text": [
      "Calculating: 44/50\n"
     ]
    },
    {
     "name": "stderr",
     "output_type": "stream",
     "text": [
      "Warn: Ipython shell catchs sys.args\n"
     ]
    },
    {
     "name": "stdout",
     "output_type": "stream",
     "text": [
      "Calculating: 45/50\n"
     ]
    },
    {
     "name": "stderr",
     "output_type": "stream",
     "text": [
      "Warn: Ipython shell catchs sys.args\n"
     ]
    },
    {
     "name": "stdout",
     "output_type": "stream",
     "text": [
      "Calculating: 46/50\n"
     ]
    },
    {
     "name": "stderr",
     "output_type": "stream",
     "text": [
      "Warn: Ipython shell catchs sys.args\n"
     ]
    },
    {
     "name": "stdout",
     "output_type": "stream",
     "text": [
      "Calculating: 47/50\n"
     ]
    },
    {
     "name": "stderr",
     "output_type": "stream",
     "text": [
      "Warn: Ipython shell catchs sys.args\n"
     ]
    },
    {
     "name": "stdout",
     "output_type": "stream",
     "text": [
      "Calculating: 48/50\n"
     ]
    },
    {
     "name": "stderr",
     "output_type": "stream",
     "text": [
      "Warn: Ipython shell catchs sys.args\n"
     ]
    },
    {
     "name": "stdout",
     "output_type": "stream",
     "text": [
      "Calculating: 49/50\n"
     ]
    },
    {
     "name": "stderr",
     "output_type": "stream",
     "text": [
      "Warn: Ipython shell catchs sys.args\n"
     ]
    },
    {
     "name": "stdout",
     "output_type": "stream",
     "text": [
      "Calculating: 50/50\n"
     ]
    },
    {
     "name": "stderr",
     "output_type": "stream",
     "text": [
      "Warn: Ipython shell catchs sys.args\n"
     ]
    }
   ],
   "source": [
    "from pyscf.scf import hf\n",
    "\n",
    "dim = 26\n",
    "\n",
    "keys = [\"H_core\", \"SAP\", \"MINAO\", \"NN\", \"Converged\", \"Converged w/ noise\"]\n",
    "\n",
    "iterations = {}\n",
    "for k in keys:\n",
    "    iterations[k] = []\n",
    "\n",
    "for i, (molecule, p) in enumerate(zip(molecules_test, P_test)):\n",
    "    \n",
    "    mol = molecule.get_pyscf_molecule()\n",
    "    \n",
    "    print(\"Calculating: \" + str(i + 1) + \"/\" + str(len(molecules_test)))\n",
    "    \n",
    "    guesses = {}\n",
    "    \n",
    "    # assemble pyscf initial guesses\n",
    "    guesses[\"H_core\"] = hf.init_guess_by_1e(mol)\n",
    "    guesses[\"SAP\"] = hf.init_guess_by_atom(mol)\n",
    "    guesses[\"MINAO\"] = hf.init_guess_by_minao(mol)\n",
    "    \n",
    "    # nn guess\n",
    "    s = hf.get_ovlp(mol).reshape(1, dim**2)\n",
    "    s = Dataset.normalize(s, mean=dataset.x_mean, std=dataset.x_std)[0]\n",
    "    guesses[\"NN\"] = network.run(sess, s).reshape(dim, dim).astype('float64')\n",
    "    \n",
    "    \n",
    "    # P_actual wi noise\n",
    "    guesses[\"Converged\"] = p.reshape(dim, dim)\n",
    "    guesses[\"Converged w/ noise\"] = p.reshape(dim, dim) + np.random.randn(dim, dim) * 1e-3\n",
    "    \n",
    "    \n",
    "    for (key, guess) in guesses.items():\n",
    "        mf = hf.RHF(mol)\n",
    "        mf.diis = None\n",
    "        mf.max_cycle = 50\n",
    "        mf.verbose = 1\n",
    "        mf.kernel(dm0=guess)\n",
    "        iterations[key].append(mf.iterations)\n",
    "\n",
    "for k in keys:\n",
    "    iterations[k] = np.array(iterations[k])"
   ]
  },
  {
   "cell_type": "code",
   "execution_count": 9,
   "metadata": {},
   "outputs": [
    {
     "name": "stdout",
     "output_type": "stream",
     "text": [
      "H_core: 50.0\n",
      "SAP: 14.88\n",
      "MINAO: 13.26\n",
      "NN: 14.46\n",
      "Converged: 1.0\n",
      "Converged w/ noise: 9.72\n"
     ]
    }
   ],
   "source": [
    "for key, val in iterations.items():\n",
    "    print(key + \": \" + str(val.mean()))"
   ]
  },
  {
   "cell_type": "code",
   "execution_count": 22,
   "metadata": {},
   "outputs": [
    {
     "data": {
      "image/png": "[encoded data removed]",
      "text/plain": [
       "<matplotlib.figure.Figure at 0x7fc8f11b4c18>"
      ]
     },
     "metadata": {},
     "output_type": "display_data"
    }
   ],
   "source": [
    "from SCFInitialGuess.utilities.analysis import iterations_histogram\n",
    "\n",
    "def norm_hist(x):\n",
    "    return x / np.sum(x)\n",
    "\n",
    "for key in [\"H_core\", \"SAP\", \"MINAO\", \"Converged\", \"Converged w/ noise\"]:\n",
    "    val = iterations[key]\n",
    "    hist, bins = np.histogram(val)\n",
    "    \n",
    "    center = (bins[:-1] + bins[1:]) / 2\n",
    "    #axes[i].bar(center, hist, label=name)\n",
    "    \n",
    "    plt.bar(center, norm_hist(hist), label=key)\n",
    "    \n",
    "plt.legend()\n",
    "\n",
    "plt.show()"
   ]
  },
  {
   "cell_type": "code",
   "execution_count": 11,
   "metadata": {},
   "outputs": [
    {
     "data": {
      "image/png": "[encoded data removed]",
      "text/plain": [
       "<matplotlib.figure.Figure at 0x7fc9394358d0>"
      ]
     },
     "metadata": {},
     "output_type": "display_data"
    }
   ],
   "source": [
    "from SCFInitialGuess.utilities.analysis import iterations_histogram\n",
    "\n",
    "def norm_hist(x):\n",
    "    return x / np.sum(x)\n",
    "\n",
    "for key in [\"SAP\", \"MINAO\", \"Converged w/ noise\"]:\n",
    "    val = iterations[key]\n",
    "    hist, bins = np.histogram(val, bins=40)\n",
    "    \n",
    "    center = (bins[:-1] + bins[1:]) / 2\n",
    "    #axes[i].bar(center, hist, label=name)\n",
    "    \n",
    "    plt.bar(center, norm_hist(hist), label=key)\n",
    "    \n",
    "plt.legend()\n",
    "plt.savefig(figures_path + \"IterationsHistogramClassics.png\")\n",
    "plt.show()"
   ]
  },
  {
   "cell_type": "markdown",
   "metadata": {},
   "source": [
    "### Comparing the others against the result\n",
    "TODO: matrix plot von fehler der jeweiligen initial guesses"
   ]
  },
  {
   "cell_type": "code",
   "execution_count": 12,
   "metadata": {
    "scrolled": true
   },
   "outputs": [
    {
     "name": "stdout",
     "output_type": "stream",
     "text": [
      "Calculating: 1/50\n",
      "Calculating: 2/50\n"
     ]
    },
    {
     "name": "stderr",
     "output_type": "stream",
     "text": [
      "Warn: Ipython shell catchs sys.args\n",
      "Warn: Ipython shell catchs sys.args\n"
     ]
    },
    {
     "name": "stdout",
     "output_type": "stream",
     "text": [
      "Calculating: 3/50\n",
      "Calculating: 4/50\n"
     ]
    },
    {
     "name": "stderr",
     "output_type": "stream",
     "text": [
      "Warn: Ipython shell catchs sys.args\n",
      "Warn: Ipython shell catchs sys.args\n"
     ]
    },
    {
     "name": "stdout",
     "output_type": "stream",
     "text": [
      "Calculating: 5/50\n",
      "Calculating: 6/50\n"
     ]
    },
    {
     "name": "stderr",
     "output_type": "stream",
     "text": [
      "Warn: Ipython shell catchs sys.args\n",
      "Warn: Ipython shell catchs sys.args\n"
     ]
    },
    {
     "name": "stdout",
     "output_type": "stream",
     "text": [
      "Calculating: 7/50\n",
      "Calculating: 8/50\n"
     ]
    },
    {
     "name": "stderr",
     "output_type": "stream",
     "text": [
      "Warn: Ipython shell catchs sys.args\n",
      "Warn: Ipython shell catchs sys.args\n"
     ]
    },
    {
     "name": "stdout",
     "output_type": "stream",
     "text": [
      "Calculating: 9/50\n",
      "Calculating: 10/50\n"
     ]
    },
    {
     "name": "stderr",
     "output_type": "stream",
     "text": [
      "Warn: Ipython shell catchs sys.args\n",
      "Warn: Ipython shell catchs sys.args\n"
     ]
    },
    {
     "name": "stdout",
     "output_type": "stream",
     "text": [
      "Calculating: 11/50\n",
      "Calculating: 12/50\n"
     ]
    },
    {
     "name": "stderr",
     "output_type": "stream",
     "text": [
      "Warn: Ipython shell catchs sys.args\n",
      "Warn: Ipython shell catchs sys.args\n"
     ]
    },
    {
     "name": "stdout",
     "output_type": "stream",
     "text": [
      "Calculating: 13/50\n"
     ]
    },
    {
     "name": "stderr",
     "output_type": "stream",
     "text": [
      "Warn: Ipython shell catchs sys.args\n",
      "Warn: Ipython shell catchs sys.args\n"
     ]
    },
    {
     "name": "stdout",
     "output_type": "stream",
     "text": [
      "Calculating: 14/50\n",
      "Calculating: 15/50\n"
     ]
    },
    {
     "name": "stderr",
     "output_type": "stream",
     "text": [
      "Warn: Ipython shell catchs sys.args\n",
      "Warn: Ipython shell catchs sys.args\n"
     ]
    },
    {
     "name": "stdout",
     "output_type": "stream",
     "text": [
      "Calculating: 16/50\n",
      "Calculating: 17/50\n",
      "Calculating: 18/50\n"
     ]
    },
    {
     "name": "stderr",
     "output_type": "stream",
     "text": [
      "Warn: Ipython shell catchs sys.args\n",
      "Warn: Ipython shell catchs sys.args\n"
     ]
    },
    {
     "name": "stdout",
     "output_type": "stream",
     "text": [
      "Calculating: 19/50\n",
      "Calculating: 20/50\n"
     ]
    },
    {
     "name": "stderr",
     "output_type": "stream",
     "text": [
      "Warn: Ipython shell catchs sys.args\n",
      "Warn: Ipython shell catchs sys.args\n"
     ]
    },
    {
     "name": "stdout",
     "output_type": "stream",
     "text": [
      "Calculating: 21/50\n",
      "Calculating: 22/50\n"
     ]
    },
    {
     "name": "stderr",
     "output_type": "stream",
     "text": [
      "Warn: Ipython shell catchs sys.args\n",
      "Warn: Ipython shell catchs sys.args\n"
     ]
    },
    {
     "name": "stdout",
     "output_type": "stream",
     "text": [
      "Calculating: 23/50\n",
      "Calculating: 24/50\n"
     ]
    },
    {
     "name": "stderr",
     "output_type": "stream",
     "text": [
      "Warn: Ipython shell catchs sys.args\n",
      "Warn: Ipython shell catchs sys.args\n"
     ]
    },
    {
     "name": "stdout",
     "output_type": "stream",
     "text": [
      "Calculating: 25/50\n",
      "Calculating: 26/50\n"
     ]
    },
    {
     "name": "stderr",
     "output_type": "stream",
     "text": [
      "Warn: Ipython shell catchs sys.args\n",
      "Warn: Ipython shell catchs sys.args\n"
     ]
    },
    {
     "name": "stdout",
     "output_type": "stream",
     "text": [
      "Calculating: 27/50\n"
     ]
    },
    {
     "name": "stderr",
     "output_type": "stream",
     "text": [
      "Warn: Ipython shell catchs sys.args\n",
      "Warn: Ipython shell catchs sys.args\n"
     ]
    },
    {
     "name": "stdout",
     "output_type": "stream",
     "text": [
      "Calculating: 28/50\n",
      "Calculating: 29/50\n"
     ]
    },
    {
     "name": "stderr",
     "output_type": "stream",
     "text": [
      "Warn: Ipython shell catchs sys.args\n",
      "Warn: Ipython shell catchs sys.args\n"
     ]
    },
    {
     "name": "stdout",
     "output_type": "stream",
     "text": [
      "Calculating: 30/50\n",
      "Calculating: 31/50\n",
      "Calculating: 32/50\n"
     ]
    },
    {
     "name": "stderr",
     "output_type": "stream",
     "text": [
      "Warn: Ipython shell catchs sys.args\n",
      "Warn: Ipython shell catchs sys.args\n"
     ]
    },
    {
     "name": "stdout",
     "output_type": "stream",
     "text": [
      "Calculating: 33/50\n",
      "Calculating: 34/50\n"
     ]
    },
    {
     "name": "stderr",
     "output_type": "stream",
     "text": [
      "Warn: Ipython shell catchs sys.args\n",
      "Warn: Ipython shell catchs sys.args\n"
     ]
    },
    {
     "name": "stdout",
     "output_type": "stream",
     "text": [
      "Calculating: 35/50\n",
      "Calculating: 36/50\n"
     ]
    },
    {
     "name": "stderr",
     "output_type": "stream",
     "text": [
      "Warn: Ipython shell catchs sys.args\n",
      "Warn: Ipython shell catchs sys.args\n"
     ]
    },
    {
     "name": "stdout",
     "output_type": "stream",
     "text": [
      "Calculating: 37/50\n",
      "Calculating: 38/50\n"
     ]
    },
    {
     "name": "stderr",
     "output_type": "stream",
     "text": [
      "Warn: Ipython shell catchs sys.args\n",
      "Warn: Ipython shell catchs sys.args\n"
     ]
    },
    {
     "name": "stdout",
     "output_type": "stream",
     "text": [
      "Calculating: 39/50\n",
      "Calculating: 40/50\n"
     ]
    },
    {
     "name": "stderr",
     "output_type": "stream",
     "text": [
      "Warn: Ipython shell catchs sys.args\n",
      "Warn: Ipython shell catchs sys.args\n"
     ]
    },
    {
     "name": "stdout",
     "output_type": "stream",
     "text": [
      "Calculating: 41/50\n",
      "Calculating: 42/50\n"
     ]
    },
    {
     "name": "stderr",
     "output_type": "stream",
     "text": [
      "Warn: Ipython shell catchs sys.args\n",
      "Warn: Ipython shell catchs sys.args\n"
     ]
    },
    {
     "name": "stdout",
     "output_type": "stream",
     "text": [
      "Calculating: 43/50\n",
      "Calculating: 44/50\n"
     ]
    },
    {
     "name": "stderr",
     "output_type": "stream",
     "text": [
      "Warn: Ipython shell catchs sys.args\n",
      "Warn: Ipython shell catchs sys.args\n"
     ]
    },
    {
     "name": "stdout",
     "output_type": "stream",
     "text": [
      "Calculating: 45/50\n",
      "Calculating: 46/50\n"
     ]
    },
    {
     "name": "stderr",
     "output_type": "stream",
     "text": [
      "Warn: Ipython shell catchs sys.args\n",
      "Warn: Ipython shell catchs sys.args\n"
     ]
    },
    {
     "name": "stdout",
     "output_type": "stream",
     "text": [
      "Calculating: 47/50\n"
     ]
    },
    {
     "name": "stderr",
     "output_type": "stream",
     "text": [
      "Warn: Ipython shell catchs sys.args\n"
     ]
    },
    {
     "name": "stdout",
     "output_type": "stream",
     "text": [
      "Calculating: 48/50\n"
     ]
    },
    {
     "name": "stderr",
     "output_type": "stream",
     "text": [
      "Warn: Ipython shell catchs sys.args\n",
      "Warn: Ipython shell catchs sys.args\n"
     ]
    },
    {
     "name": "stdout",
     "output_type": "stream",
     "text": [
      "Calculating: 49/50\n",
      "Calculating: 50/50\n"
     ]
    },
    {
     "name": "stderr",
     "output_type": "stream",
     "text": [
      "Warn: Ipython shell catchs sys.args\n"
     ]
    }
   ],
   "source": [
    "from pyscf.scf import hf\n",
    "\n",
    "dim = 26\n",
    "\n",
    "\n",
    "number_of_samples = len(S_test)\n",
    "\n",
    "dP_1e, dP_atom, dP_minao, dP_NN = [np.zeros((dim, dim)) for i in range(4)]\n",
    "dP_1e_avg, dP_atom_avg, dP_minao_avg, dP_NN_avg = [[] for i in range(4)]\n",
    "\n",
    "P_1e, P_atom, P_minao, P_expected = [[] for i in range(4)]\n",
    "\n",
    "for i, (molecule, s, p) in enumerate(zip(molecules_test, S_test, P_test)):\n",
    "    \n",
    "    mol = molecule.get_pyscf_molecule()\n",
    "    \n",
    "    print(\"Calculating: \" + str(i + 1) + \"/\" + str(number_of_samples))\n",
    "    \n",
    "    # assemble pyscf initial guesses\n",
    "    P_1e.append(hf.init_guess_by_1e(mol))\n",
    "    \n",
    "    P_atom.append(hf.init_guess_by_atom(mol))\n",
    "    P_minao.append(hf.init_guess_by_minao(mol))\n",
    "    \n",
    "    p = p.reshape(dim, dim)\n",
    "    P_expected.append(p)\n",
    "    \n",
    "    \n",
    "    # nn guess\n",
    "    s = Dataset.normalize(s.reshape(1, dim**2), mean=dataset.x_mean, std=dataset.x_std)[0]\n",
    "    P_NN = network.run(sess, s).reshape(dim, dim).astype('float64')\n",
    "    \n",
    "    \n",
    "    # calculate deltas\n",
    "    dP_1e += np.abs(p - P_1e[-1])\n",
    "    dP_1e_avg.append(np.mean(np.abs(p - P_1e[-1])))\n",
    "    \n",
    "    dP_atom += np.abs(p - P_atom[-1])\n",
    "    dP_atom_avg.append(np.mean(np.abs(p - P_atom[-1])))\n",
    "        \n",
    "    dP_minao += np.abs(p - P_minao[-1])\n",
    "    dP_minao_avg.append(np.mean(np.abs(p - P_minao[-1])))\n",
    "    \n",
    "    dP_NN += np.abs(p - P_NN)\n",
    "    dP_NN_avg.append(np.mean(np.abs(p - P_NN[-1])))\n",
    "\n",
    "dP_1e_avg = np.array(dP_1e_avg)\n",
    "dP_atom_avg = np.array(dP_atom_avg)\n",
    "dP_minao_avg = np.array(dP_minao_avg)\n",
    "dP_NN_avg = np.array(dP_NN_avg)\n",
    "\n",
    "    \n",
    "dP_1e /= number_of_samples\n",
    "dP_atom /= number_of_samples\n",
    "dP_minao /= number_of_samples\n",
    "dP_NN /= number_of_samples"
   ]
  },
  {
   "cell_type": "code",
   "execution_count": 13,
   "metadata": {},
   "outputs": [
    {
     "name": "stdout",
     "output_type": "stream",
     "text": [
      "1e:    0.3269 +- 0.0155\n",
      "atom:  0.0908 +- 0.0007\n",
      "minao: 0.0826 +- 0.0007\n",
      "NN:    0.1692 +- 0.0031\n"
     ]
    }
   ],
   "source": [
    "print(\"1e:    {:5.4f} +- {:5.4f}\".format(np.mean(dP_1e_avg), np.std(dP_1e_avg)))\n",
    "print(\"atom:  {:5.4f} +- {:5.4f}\".format(np.mean(dP_atom_avg), np.std(dP_atom_avg)))\n",
    "print(\"minao: {:5.4f} +- {:5.4f}\".format(np.mean(dP_minao_avg), np.std(dP_minao_avg)))\n",
    "print(\"NN:    {:5.4f} +- {:5.4f}\".format(np.mean(dP_NN_avg), np.std(dP_NN_avg)))"
   ]
  },
  {
   "cell_type": "code",
   "execution_count": 25,
   "metadata": {},
   "outputs": [
    {
     "data": {
      "application/javascript": [
       "/* Put everything inside the global mpl namespace */\n",
       "window.mpl = {};\n",
       "\n",
       "\n",
       "mpl.get_websocket_type = function() {\n",
       "    if (typeof(WebSocket) !== 'undefined') {\n",
       "        return WebSocket;\n",
       "    } else if (typeof(MozWebSocket) !== 'undefined') {\n",
       "        return MozWebSocket;\n",
       "    } else {\n",
       "        alert('Your browser does not have WebSocket support.' +\n",
       "              'Please try Chrome, Safari or Firefox ≥ 6. ' +\n",
       "              'Firefox 4 and 5 are also supported but you ' +\n",
       "              'have to enable WebSockets in about:config.');\n",
       "    };\n",
       "}\n",
       "\n",
       "mpl.figure = function(figure_id, websocket, ondownload, parent_element) {\n",
       "    this.id = figure_id;\n",
       "\n",
       "    this.ws = websocket;\n",
       "\n",
       "    this.supports_binary = (this.ws.binaryType != undefined);\n",
       "\n",
       "    if (!this.supports_binary) {\n",
       "        var warnings = document.getElementById(\"mpl-warnings\");\n",
       "        if (warnings) {\n",
       "            warnings.style.display = 'block';\n",
       "            warnings.textContent = (\n",
       "                \"This browser does not support binary websocket messages. \" +\n",
       "                    \"Performance may be slow.\");\n",
       "        }\n",
       "    }\n",
       "\n",
       "    this.imageObj = new Image();\n",
       "\n",
       "    this.context = undefined;\n",
       "    this.message = undefined;\n",
       "    this.canvas = undefined;\n",
       "    this.rubberband_canvas = undefined;\n",
       "    this.rubberband_context = undefined;\n",
       "    this.format_dropdown = undefined;\n",
       "\n",
       "    this.image_mode = 'full';\n",
       "\n",
       "    this.root = $('<div/>');\n",
       "    this._root_extra_style(this.root)\n",
       "    this.root.attr('style', 'display: inline-block');\n",
       "\n",
       "    $(parent_element).append(this.root);\n",
       "\n",
       "    this._init_header(this);\n",
       "    this._init_canvas(this);\n",
       "    this._init_toolbar(this);\n",
       "\n",
       "    var fig = this;\n",
       "\n",
       "    this.waiting = false;\n",
       "\n",
       "    this.ws.onopen =  function () {\n",
       "            fig.send_message(\"supports_binary\", {value: fig.supports_binary});\n",
       "            fig.send_message(\"send_image_mode\", {});\n",
       "            if (mpl.ratio != 1) {\n",
       "                fig.send_message(\"set_dpi_ratio\", {'dpi_ratio': mpl.ratio});\n",
       "            }\n",
       "            fig.send_message(\"refresh\", {});\n",
       "        }\n",
       "\n",
       "    this.imageObj.onload = function() {\n",
       "            if (fig.image_mode == 'full') {\n",
       "                // Full images could contain transparency (where diff images\n",
       "                // almost always do), so we need to clear the canvas so that\n",
       "                // there is no ghosting.\n",
       "                fig.context.clearRect(0, 0, fig.canvas.width, fig.canvas.height);\n",
       "            }\n",
       "            fig.context.drawImage(fig.imageObj, 0, 0);\n",
       "        };\n",
       "\n",
       "    this.imageObj.onunload = function() {\n",
       "        fig.ws.close();\n",
       "    }\n",
       "\n",
       "    this.ws.onmessage = this._make_on_message_function(this);\n",
       "\n",
       "    this.ondownload = ondownload;\n",
       "}\n",
       "\n",
       "mpl.figure.prototype._init_header = function() {\n",
       "    var titlebar = $(\n",
       "        '<div class=\"ui-dialog-titlebar ui-widget-header ui-corner-all ' +\n",
       "        'ui-helper-clearfix\"/>');\n",
       "    var titletext = $(\n",
       "        '<div class=\"ui-dialog-title\" style=\"width: 100%; ' +\n",
       "        'text-align: center; padding: 3px;\"/>');\n",
       "    titlebar.append(titletext)\n",
       "    this.root.append(titlebar);\n",
       "    this.header = titletext[0];\n",
       "}\n",
       "\n",
       "\n",
       "\n",
       "mpl.figure.prototype._canvas_extra_style = function(canvas_div) {\n",
       "\n",
       "}\n",
       "\n",
       "\n",
       "mpl.figure.prototype._root_extra_style = function(canvas_div) {\n",
       "\n",
       "}\n",
       "\n",
       "mpl.figure.prototype._init_canvas = function() {\n",
       "    var fig = this;\n",
       "\n",
       "    var canvas_div = $('<div/>');\n",
       "\n",
       "    canvas_div.attr('style', 'position: relative; clear: both; outline: 0');\n",
       "\n",
       "    function canvas_keyboard_event(event) {\n",
       "        return fig.key_event(event, event['data']);\n",
       "    }\n",
       "\n",
       "    canvas_div.keydown('key_press', canvas_keyboard_event);\n",
       "    canvas_div.keyup('key_release', canvas_keyboard_event);\n",
       "    this.canvas_div = canvas_div\n",
       "    this._canvas_extra_style(canvas_div)\n",
       "    this.root.append(canvas_div);\n",
       "\n",
       "    var canvas = $('<canvas/>');\n",
       "    canvas.addClass('mpl-canvas');\n",
       "    canvas.attr('style', \"left: 0; top: 0; z-index: 0; outline: 0\")\n",
       "\n",
       "    this.canvas = canvas[0];\n",
       "    this.context = canvas[0].getContext(\"2d\");\n",
       "\n",
       "    var backingStore = this.context.backingStorePixelRatio ||\n",
       "\tthis.context.webkitBackingStorePixelRatio ||\n",
       "\tthis.context.mozBackingStorePixelRatio ||\n",
       "\tthis.context.msBackingStorePixelRatio ||\n",
       "\tthis.context.oBackingStorePixelRatio ||\n",
       "\tthis.context.backingStorePixelRatio || 1;\n",
       "\n",
       "    mpl.ratio = (window.devicePixelRatio || 1) / backingStore;\n",
       "\n",
       "    var rubberband = $('<canvas/>');\n",
       "    rubberband.attr('style', \"position: absolute; left: 0; top: 0; z-index: 1;\")\n",
       "\n",
       "    var pass_mouse_events = true;\n",
       "\n",
       "    canvas_div.resizable({\n",
       "        start: function(event, ui) {\n",
       "            pass_mouse_events = false;\n",
       "        },\n",
       "        resize: function(event, ui) {\n",
       "            fig.request_resize(ui.size.width, ui.size.height);\n",
       "        },\n",
       "        stop: function(event, ui) {\n",
       "            pass_mouse_events = true;\n",
       "            fig.request_resize(ui.size.width, ui.size.height);\n",
       "        },\n",
       "    });\n",
       "\n",
       "    function mouse_event_fn(event) {\n",
       "        if (pass_mouse_events)\n",
       "            return fig.mouse_event(event, event['data']);\n",
       "    }\n",
       "\n",
       "    rubberband.mousedown('button_press', mouse_event_fn);\n",
       "    rubberband.mouseup('button_release', mouse_event_fn);\n",
       "    // Throttle sequential mouse events to 1 every 20ms.\n",
       "    rubberband.mousemove('motion_notify', mouse_event_fn);\n",
       "\n",
       "    rubberband.mouseenter('figure_enter', mouse_event_fn);\n",
       "    rubberband.mouseleave('figure_leave', mouse_event_fn);\n",
       "\n",
       "    canvas_div.on(\"wheel\", function (event) {\n",
       "        event = event.originalEvent;\n",
       "        event['data'] = 'scroll'\n",
       "        if (event.deltaY < 0) {\n",
       "            event.step = 1;\n",
       "        } else {\n",
       "            event.step = -1;\n",
       "        }\n",
       "        mouse_event_fn(event);\n",
       "    });\n",
       "\n",
       "    canvas_div.append(canvas);\n",
       "    canvas_div.append(rubberband);\n",
       "\n",
       "    this.rubberband = rubberband;\n",
       "    this.rubberband_canvas = rubberband[0];\n",
       "    this.rubberband_context = rubberband[0].getContext(\"2d\");\n",
       "    this.rubberband_context.strokeStyle = \"#000000\";\n",
       "\n",
       "    this._resize_canvas = function(width, height) {\n",
       "        // Keep the size of the canvas, canvas container, and rubber band\n",
       "        // canvas in synch.\n",
       "        canvas_div.css('width', width)\n",
       "        canvas_div.css('height', height)\n",
       "\n",
       "        canvas.attr('width', width * mpl.ratio);\n",
       "        canvas.attr('height', height * mpl.ratio);\n",
       "        canvas.attr('style', 'width: ' + width + 'px; height: ' + height + 'px;');\n",
       "\n",
       "        rubberband.attr('width', width);\n",
       "        rubberband.attr('height', height);\n",
       "    }\n",
       "\n",
       "    // Set the figure to an initial 600x600px, this will subsequently be updated\n",
       "    // upon first draw.\n",
       "    this._resize_canvas(600, 600);\n",
       "\n",
       "    // Disable right mouse context menu.\n",
       "    $(this.rubberband_canvas).bind(\"contextmenu\",function(e){\n",
       "        return false;\n",
       "    });\n",
       "\n",
       "    function set_focus () {\n",
       "        canvas.focus();\n",
       "        canvas_div.focus();\n",
       "    }\n",
       "\n",
       "    window.setTimeout(set_focus, 100);\n",
       "}\n",
       "\n",
       "mpl.figure.prototype._init_toolbar = function() {\n",
       "    var fig = this;\n",
       "\n",
       "    var nav_element = $('<div/>')\n",
       "    nav_element.attr('style', 'width: 100%');\n",
       "    this.root.append(nav_element);\n",
       "\n",
       "    // Define a callback function for later on.\n",
       "    function toolbar_event(event) {\n",
       "        return fig.toolbar_button_onclick(event['data']);\n",
       "    }\n",
       "    function toolbar_mouse_event(event) {\n",
       "        return fig.toolbar_button_onmouseover(event['data']);\n",
       "    }\n",
       "\n",
       "    for(var toolbar_ind in mpl.toolbar_items) {\n",
       "        var name = mpl.toolbar_items[toolbar_ind][0];\n",
       "        var tooltip = mpl.toolbar_items[toolbar_ind][1];\n",
       "        var image = mpl.toolbar_items[toolbar_ind][2];\n",
       "        var method_name = mpl.toolbar_items[toolbar_ind][3];\n",
       "\n",
       "        if (!name) {\n",
       "            // put a spacer in here.\n",
       "            continue;\n",
       "        }\n",
       "        var button = $('<button/>');\n",
       "        button.addClass('ui-button ui-widget ui-state-default ui-corner-all ' +\n",
       "                        'ui-button-icon-only');\n",
       "        button.attr('role', 'button');\n",
       "        button.attr('aria-disabled', 'false');\n",
       "        button.click(method_name, toolbar_event);\n",
       "        button.mouseover(tooltip, toolbar_mouse_event);\n",
       "\n",
       "        var icon_img = $('<span/>');\n",
       "        icon_img.addClass('ui-button-icon-primary ui-icon');\n",
       "        icon_img.addClass(image);\n",
       "        icon_img.addClass('ui-corner-all');\n",
       "\n",
       "        var tooltip_span = $('<span/>');\n",
       "        tooltip_span.addClass('ui-button-text');\n",
       "        tooltip_span.html(tooltip);\n",
       "\n",
       "        button.append(icon_img);\n",
       "        button.append(tooltip_span);\n",
       "\n",
       "        nav_element.append(button);\n",
       "    }\n",
       "\n",
       "    var fmt_picker_span = $('<span/>');\n",
       "\n",
       "    var fmt_picker = $('<select/>');\n",
       "    fmt_picker.addClass('mpl-toolbar-option ui-widget ui-widget-content');\n",
       "    fmt_picker_span.append(fmt_picker);\n",
       "    nav_element.append(fmt_picker_span);\n",
       "    this.format_dropdown = fmt_picker[0];\n",
       "\n",
       "    for (var ind in mpl.extensions) {\n",
       "        var fmt = mpl.extensions[ind];\n",
       "        var option = $(\n",
       "            '<option/>', {selected: fmt === mpl.default_extension}).html(fmt);\n",
       "        fmt_picker.append(option)\n",
       "    }\n",
       "\n",
       "    // Add hover states to the ui-buttons\n",
       "    $( \".ui-button\" ).hover(\n",
       "        function() { $(this).addClass(\"ui-state-hover\");},\n",
       "        function() { $(this).removeClass(\"ui-state-hover\");}\n",
       "    );\n",
       "\n",
       "    var status_bar = $('<span class=\"mpl-message\"/>');\n",
       "    nav_element.append(status_bar);\n",
       "    this.message = status_bar[0];\n",
       "}\n",
       "\n",
       "mpl.figure.prototype.request_resize = function(x_pixels, y_pixels) {\n",
       "    // Request matplotlib to resize the figure. Matplotlib will then trigger a resize in the client,\n",
       "    // which will in turn request a refresh of the image.\n",
       "    this.send_message('resize', {'width': x_pixels, 'height': y_pixels});\n",
       "}\n",
       "\n",
       "mpl.figure.prototype.send_message = function(type, properties) {\n",
       "    properties['type'] = type;\n",
       "    properties['figure_id'] = this.id;\n",
       "    this.ws.send(JSON.stringify(properties));\n",
       "}\n",
       "\n",
       "mpl.figure.prototype.send_draw_message = function() {\n",
       "    if (!this.waiting) {\n",
       "        this.waiting = true;\n",
       "        this.ws.send(JSON.stringify({type: \"draw\", figure_id: this.id}));\n",
       "    }\n",
       "}\n",
       "\n",
       "\n",
       "mpl.figure.prototype.handle_save = function(fig, msg) {\n",
       "    var format_dropdown = fig.format_dropdown;\n",
       "    var format = format_dropdown.options[format_dropdown.selectedIndex].value;\n",
       "    fig.ondownload(fig, format);\n",
       "}\n",
       "\n",
       "\n",
       "mpl.figure.prototype.handle_resize = function(fig, msg) {\n",
       "    var size = msg['size'];\n",
       "    if (size[0] != fig.canvas.width || size[1] != fig.canvas.height) {\n",
       "        fig._resize_canvas(size[0], size[1]);\n",
       "        fig.send_message(\"refresh\", {});\n",
       "    };\n",
       "}\n",
       "\n",
       "mpl.figure.prototype.handle_rubberband = function(fig, msg) {\n",
       "    var x0 = msg['x0'] / mpl.ratio;\n",
       "    var y0 = (fig.canvas.height - msg['y0']) / mpl.ratio;\n",
       "    var x1 = msg['x1'] / mpl.ratio;\n",
       "    var y1 = (fig.canvas.height - msg['y1']) / mpl.ratio;\n",
       "    x0 = Math.floor(x0) + 0.5;\n",
       "    y0 = Math.floor(y0) + 0.5;\n",
       "    x1 = Math.floor(x1) + 0.5;\n",
       "    y1 = Math.floor(y1) + 0.5;\n",
       "    var min_x = Math.min(x0, x1);\n",
       "    var min_y = Math.min(y0, y1);\n",
       "    var width = Math.abs(x1 - x0);\n",
       "    var height = Math.abs(y1 - y0);\n",
       "\n",
       "    fig.rubberband_context.clearRect(\n",
       "        0, 0, fig.canvas.width, fig.canvas.height);\n",
       "\n",
       "    fig.rubberband_context.strokeRect(min_x, min_y, width, height);\n",
       "}\n",
       "\n",
       "mpl.figure.prototype.handle_figure_label = function(fig, msg) {\n",
       "    // Updates the figure title.\n",
       "    fig.header.textContent = msg['label'];\n",
       "}\n",
       "\n",
       "mpl.figure.prototype.handle_cursor = function(fig, msg) {\n",
       "    var cursor = msg['cursor'];\n",
       "    switch(cursor)\n",
       "    {\n",
       "    case 0:\n",
       "        cursor = 'pointer';\n",
       "        break;\n",
       "    case 1:\n",
       "        cursor = 'default';\n",
       "        break;\n",
       "    case 2:\n",
       "        cursor = 'crosshair';\n",
       "        break;\n",
       "    case 3:\n",
       "        cursor = 'move';\n",
       "        break;\n",
       "    }\n",
       "    fig.rubberband_canvas.style.cursor = cursor;\n",
       "}\n",
       "\n",
       "mpl.figure.prototype.handle_message = function(fig, msg) {\n",
       "    fig.message.textContent = msg['message'];\n",
       "}\n",
       "\n",
       "mpl.figure.prototype.handle_draw = function(fig, msg) {\n",
       "    // Request the server to send over a new figure.\n",
       "    fig.send_draw_message();\n",
       "}\n",
       "\n",
       "mpl.figure.prototype.handle_image_mode = function(fig, msg) {\n",
       "    fig.image_mode = msg['mode'];\n",
       "}\n",
       "\n",
       "mpl.figure.prototype.updated_canvas_event = function() {\n",
       "    // Called whenever the canvas gets updated.\n",
       "    this.send_message(\"ack\", {});\n",
       "}\n",
       "\n",
       "// A function to construct a web socket function for onmessage handling.\n",
       "// Called in the figure constructor.\n",
       "mpl.figure.prototype._make_on_message_function = function(fig) {\n",
       "    return function socket_on_message(evt) {\n",
       "        if (evt.data instanceof Blob) {\n",
       "            /* FIXME: We get \"Resource interpreted as Image but\n",
       "             * transferred with MIME type text/plain:\" errors on\n",
       "             * Chrome.  But how to set the MIME type?  It doesn't seem\n",
       "             * to be part of the websocket stream */\n",
       "            evt.data.type = \"image/png\";\n",
       "\n",
       "            /* Free the memory for the previous frames */\n",
       "            if (fig.imageObj.src) {\n",
       "                (window.URL || window.webkitURL).revokeObjectURL(\n",
       "                    fig.imageObj.src);\n",
       "            }\n",
       "\n",
       "            fig.imageObj.src = (window.URL || window.webkitURL).createObjectURL(\n",
       "                evt.data);\n",
       "            fig.updated_canvas_event();\n",
       "            fig.waiting = false;\n",
       "            return;\n",
       "        }\n",
       "        else if (typeof evt.data === 'string' && evt.data.slice(0, 21) == \"data:image/png;base64\") {\n",
       "            fig.imageObj.src = evt.data;\n",
       "            fig.updated_canvas_event();\n",
       "            fig.waiting = false;\n",
       "            return;\n",
       "        }\n",
       "\n",
       "        var msg = JSON.parse(evt.data);\n",
       "        var msg_type = msg['type'];\n",
       "\n",
       "        // Call the  \"handle_{type}\" callback, which takes\n",
       "        // the figure and JSON message as its only arguments.\n",
       "        try {\n",
       "            var callback = fig[\"handle_\" + msg_type];\n",
       "        } catch (e) {\n",
       "            console.log(\"No handler for the '\" + msg_type + \"' message type: \", msg);\n",
       "            return;\n",
       "        }\n",
       "\n",
       "        if (callback) {\n",
       "            try {\n",
       "                // console.log(\"Handling '\" + msg_type + \"' message: \", msg);\n",
       "                callback(fig, msg);\n",
       "            } catch (e) {\n",
       "                console.log(\"Exception inside the 'handler_\" + msg_type + \"' callback:\", e, e.stack, msg);\n",
       "            }\n",
       "        }\n",
       "    };\n",
       "}\n",
       "\n",
       "// from http://stackoverflow.com/questions/1114465/getting-mouse-location-in-canvas\n",
       "mpl.findpos = function(e) {\n",
       "    //this section is from http://www.quirksmode.org/js/events_properties.html\n",
       "    var targ;\n",
       "    if (!e)\n",
       "        e = window.event;\n",
       "    if (e.target)\n",
       "        targ = e.target;\n",
       "    else if (e.srcElement)\n",
       "        targ = e.srcElement;\n",
       "    if (targ.nodeType == 3) // defeat Safari bug\n",
       "        targ = targ.parentNode;\n",
       "\n",
       "    // jQuery normalizes the pageX and pageY\n",
       "    // pageX,Y are the mouse positions relative to the document\n",
       "    // offset() returns the position of the element relative to the document\n",
       "    var x = e.pageX - $(targ).offset().left;\n",
       "    var y = e.pageY - $(targ).offset().top;\n",
       "\n",
       "    return {\"x\": x, \"y\": y};\n",
       "};\n",
       "\n",
       "/*\n",
       " * return a copy of an object with only non-object keys\n",
       " * we need this to avoid circular references\n",
       " * http://stackoverflow.com/a/24161582/3208463\n",
       " */\n",
       "function simpleKeys (original) {\n",
       "  return Object.keys(original).reduce(function (obj, key) {\n",
       "    if (typeof original[key] !== 'object')\n",
       "        obj[key] = original[key]\n",
       "    return obj;\n",
       "  }, {});\n",
       "}\n",
       "\n",
       "mpl.figure.prototype.mouse_event = function(event, name) {\n",
       "    var canvas_pos = mpl.findpos(event)\n",
       "\n",
       "    if (name === 'button_press')\n",
       "    {\n",
       "        this.canvas.focus();\n",
       "        this.canvas_div.focus();\n",
       "    }\n",
       "\n",
       "    var x = canvas_pos.x * mpl.ratio;\n",
       "    var y = canvas_pos.y * mpl.ratio;\n",
       "\n",
       "    this.send_message(name, {x: x, y: y, button: event.button,\n",
       "                             step: event.step,\n",
       "                             guiEvent: simpleKeys(event)});\n",
       "\n",
       "    /* This prevents the web browser from automatically changing to\n",
       "     * the text insertion cursor when the button is pressed.  We want\n",
       "     * to control all of the cursor setting manually through the\n",
       "     * 'cursor' event from matplotlib */\n",
       "    event.preventDefault();\n",
       "    return false;\n",
       "}\n",
       "\n",
       "mpl.figure.prototype._key_event_extra = function(event, name) {\n",
       "    // Handle any extra behaviour associated with a key event\n",
       "}\n",
       "\n",
       "mpl.figure.prototype.key_event = function(event, name) {\n",
       "\n",
       "    // Prevent repeat events\n",
       "    if (name == 'key_press')\n",
       "    {\n",
       "        if (event.which === this._key)\n",
       "            return;\n",
       "        else\n",
       "            this._key = event.which;\n",
       "    }\n",
       "    if (name == 'key_release')\n",
       "        this._key = null;\n",
       "\n",
       "    var value = '';\n",
       "    if (event.ctrlKey && event.which != 17)\n",
       "        value += \"ctrl+\";\n",
       "    if (event.altKey && event.which != 18)\n",
       "        value += \"alt+\";\n",
       "    if (event.shiftKey && event.which != 16)\n",
       "        value += \"shift+\";\n",
       "\n",
       "    value += 'k';\n",
       "    value += event.which.toString();\n",
       "\n",
       "    this._key_event_extra(event, name);\n",
       "\n",
       "    this.send_message(name, {key: value,\n",
       "                             guiEvent: simpleKeys(event)});\n",
       "    return false;\n",
       "}\n",
       "\n",
       "mpl.figure.prototype.toolbar_button_onclick = function(name) {\n",
       "    if (name == 'download') {\n",
       "        this.handle_save(this, null);\n",
       "    } else {\n",
       "        this.send_message(\"toolbar_button\", {name: name});\n",
       "    }\n",
       "};\n",
       "\n",
       "mpl.figure.prototype.toolbar_button_onmouseover = function(tooltip) {\n",
       "    this.message.textContent = tooltip;\n",
       "};\n",
       "mpl.toolbar_items = [[\"Home\", \"Reset original view\", \"fa fa-home icon-home\", \"home\"], [\"Back\", \"Back to  previous view\", \"fa fa-arrow-left icon-arrow-left\", \"back\"], [\"Forward\", \"Forward to next view\", \"fa fa-arrow-right icon-arrow-right\", \"forward\"], [\"\", \"\", \"\", \"\"], [\"Pan\", \"Pan axes with left mouse, zoom with right\", \"fa fa-arrows icon-move\", \"pan\"], [\"Zoom\", \"Zoom to rectangle\", \"fa fa-square-o icon-check-empty\", \"zoom\"], [\"\", \"\", \"\", \"\"], [\"Download\", \"Download plot\", \"fa fa-floppy-o icon-save\", \"download\"]];\n",
       "\n",
       "mpl.extensions = [\"eps\", \"jpeg\", \"pdf\", \"png\", \"ps\", \"raw\", \"svg\", \"tif\"];\n",
       "\n",
       "mpl.default_extension = \"png\";var comm_websocket_adapter = function(comm) {\n",
       "    // Create a \"websocket\"-like object which calls the given IPython comm\n",
       "    // object with the appropriate methods. Currently this is a non binary\n",
       "    // socket, so there is still some room for performance tuning.\n",
       "    var ws = {};\n",
       "\n",
       "    ws.close = function() {\n",
       "        comm.close()\n",
       "    };\n",
       "    ws.send = function(m) {\n",
       "        //console.log('sending', m);\n",
       "        comm.send(m);\n",
       "    };\n",
       "    // Register the callback with on_msg.\n",
       "    comm.on_msg(function(msg) {\n",
       "        //console.log('receiving', msg['content']['data'], msg);\n",
       "        // Pass the mpl event to the overriden (by mpl) onmessage function.\n",
       "        ws.onmessage(msg['content']['data'])\n",
       "    });\n",
       "    return ws;\n",
       "}\n",
       "\n",
       "mpl.mpl_figure_comm = function(comm, msg) {\n",
       "    // This is the function which gets called when the mpl process\n",
       "    // starts-up an IPython Comm through the \"matplotlib\" channel.\n",
       "\n",
       "    var id = msg.content.data.id;\n",
       "    // Get hold of the div created by the display call when the Comm\n",
       "    // socket was opened in Python.\n",
       "    var element = $(\"#\" + id);\n",
       "    var ws_proxy = comm_websocket_adapter(comm)\n",
       "\n",
       "    function ondownload(figure, format) {\n",
       "        window.open(figure.imageObj.src);\n",
       "    }\n",
       "\n",
       "    var fig = new mpl.figure(id, ws_proxy,\n",
       "                           ondownload,\n",
       "                           element.get(0));\n",
       "\n",
       "    // Call onopen now - mpl needs it, as it is assuming we've passed it a real\n",
       "    // web socket which is closed, not our websocket->open comm proxy.\n",
       "    ws_proxy.onopen();\n",
       "\n",
       "    fig.parent_element = element.get(0);\n",
       "    fig.cell_info = mpl.find_output_cell(\"<div id='\" + id + \"'></div>\");\n",
       "    if (!fig.cell_info) {\n",
       "        console.error(\"Failed to find cell for figure\", id, fig);\n",
       "        return;\n",
       "    }\n",
       "\n",
       "    var output_index = fig.cell_info[2]\n",
       "    var cell = fig.cell_info[0];\n",
       "\n",
       "};\n",
       "\n",
       "mpl.figure.prototype.handle_close = function(fig, msg) {\n",
       "    var width = fig.canvas.width/mpl.ratio\n",
       "    fig.root.unbind('remove')\n",
       "\n",
       "    // Update the output cell to use the data from the current canvas.\n",
       "    fig.push_to_output();\n",
       "    var dataURL = fig.canvas.toDataURL();\n",
       "    // Re-enable the keyboard manager in IPython - without this line, in FF,\n",
       "    // the notebook keyboard shortcuts fail.\n",
       "    IPython.keyboard_manager.enable()\n",
       "    $(fig.parent_element).html('<img src=\"' + dataURL + '\" width=\"' + width + '\">');\n",
       "    fig.close_ws(fig, msg);\n",
       "}\n",
       "\n",
       "mpl.figure.prototype.close_ws = function(fig, msg){\n",
       "    fig.send_message('closing', msg);\n",
       "    // fig.ws.close()\n",
       "}\n",
       "\n",
       "mpl.figure.prototype.push_to_output = function(remove_interactive) {\n",
       "    // Turn the data on the canvas into data in the output cell.\n",
       "    var width = this.canvas.width/mpl.ratio\n",
       "    var dataURL = this.canvas.toDataURL();\n",
       "    this.cell_info[1]['text/html'] = '<img src=\"' + dataURL + '\" width=\"' + width + '\">';\n",
       "}\n",
       "\n",
       "mpl.figure.prototype.updated_canvas_event = function() {\n",
       "    // Tell IPython that the notebook contents must change.\n",
       "    IPython.notebook.set_dirty(true);\n",
       "    this.send_message(\"ack\", {});\n",
       "    var fig = this;\n",
       "    // Wait a second, then push the new image to the DOM so\n",
       "    // that it is saved nicely (might be nice to debounce this).\n",
       "    setTimeout(function () { fig.push_to_output() }, 1000);\n",
       "}\n",
       "\n",
       "mpl.figure.prototype._init_toolbar = function() {\n",
       "    var fig = this;\n",
       "\n",
       "    var nav_element = $('<div/>')\n",
       "    nav_element.attr('style', 'width: 100%');\n",
       "    this.root.append(nav_element);\n",
       "\n",
       "    // Define a callback function for later on.\n",
       "    function toolbar_event(event) {\n",
       "        return fig.toolbar_button_onclick(event['data']);\n",
       "    }\n",
       "    function toolbar_mouse_event(event) {\n",
       "        return fig.toolbar_button_onmouseover(event['data']);\n",
       "    }\n",
       "\n",
       "    for(var toolbar_ind in mpl.toolbar_items){\n",
       "        var name = mpl.toolbar_items[toolbar_ind][0];\n",
       "        var tooltip = mpl.toolbar_items[toolbar_ind][1];\n",
       "        var image = mpl.toolbar_items[toolbar_ind][2];\n",
       "        var method_name = mpl.toolbar_items[toolbar_ind][3];\n",
       "\n",
       "        if (!name) { continue; };\n",
       "\n",
       "        var button = $('<button class=\"btn btn-default\" href=\"#\" title=\"' + name + '\"><i class=\"fa ' + image + ' fa-lg\"></i></button>');\n",
       "        button.click(method_name, toolbar_event);\n",
       "        button.mouseover(tooltip, toolbar_mouse_event);\n",
       "        nav_element.append(button);\n",
       "    }\n",
       "\n",
       "    // Add the status bar.\n",
       "    var status_bar = $('<span class=\"mpl-message\" style=\"text-align:right; float: right;\"/>');\n",
       "    nav_element.append(status_bar);\n",
       "    this.message = status_bar[0];\n",
       "\n",
       "    // Add the close button to the window.\n",
       "    var buttongrp = $('<div class=\"btn-group inline pull-right\"></div>');\n",
       "    var button = $('<button class=\"btn btn-mini btn-primary\" href=\"#\" title=\"Stop Interaction\"><i class=\"fa fa-power-off icon-remove icon-large\"></i></button>');\n",
       "    button.click(function (evt) { fig.handle_close(fig, {}); } );\n",
       "    button.mouseover('Stop Interaction', toolbar_mouse_event);\n",
       "    buttongrp.append(button);\n",
       "    var titlebar = this.root.find($('.ui-dialog-titlebar'));\n",
       "    titlebar.prepend(buttongrp);\n",
       "}\n",
       "\n",
       "mpl.figure.prototype._root_extra_style = function(el){\n",
       "    var fig = this\n",
       "    el.on(\"remove\", function(){\n",
       "\tfig.close_ws(fig, {});\n",
       "    });\n",
       "}\n",
       "\n",
       "mpl.figure.prototype._canvas_extra_style = function(el){\n",
       "    // this is important to make the div 'focusable\n",
       "    el.attr('tabindex', 0)\n",
       "    // reach out to IPython and tell the keyboard manager to turn it's self\n",
       "    // off when our div gets focus\n",
       "\n",
       "    // location in version 3\n",
       "    if (IPython.notebook.keyboard_manager) {\n",
       "        IPython.notebook.keyboard_manager.register_events(el);\n",
       "    }\n",
       "    else {\n",
       "        // location in version 2\n",
       "        IPython.keyboard_manager.register_events(el);\n",
       "    }\n",
       "\n",
       "}\n",
       "\n",
       "mpl.figure.prototype._key_event_extra = function(event, name) {\n",
       "    var manager = IPython.notebook.keyboard_manager;\n",
       "    if (!manager)\n",
       "        manager = IPython.keyboard_manager;\n",
       "\n",
       "    // Check for shift+enter\n",
       "    if (event.shiftKey && event.which == 13) {\n",
       "        this.canvas_div.blur();\n",
       "        event.shiftKey = false;\n",
       "        // Send a \"J\" for go to next cell\n",
       "        event.which = 74;\n",
       "        event.keyCode = 74;\n",
       "        manager.command_mode();\n",
       "        manager.handle_keydown(event);\n",
       "    }\n",
       "}\n",
       "\n",
       "mpl.figure.prototype.handle_save = function(fig, msg) {\n",
       "    fig.ondownload(fig, null);\n",
       "}\n",
       "\n",
       "\n",
       "mpl.find_output_cell = function(html_output) {\n",
       "    // Return the cell and output element which can be found *uniquely* in the notebook.\n",
       "    // Note - this is a bit hacky, but it is done because the \"notebook_saving.Notebook\"\n",
       "    // IPython event is triggered only after the cells have been serialised, which for\n",
       "    // our purposes (turning an active figure into a static one), is too late.\n",
       "    var cells = IPython.notebook.get_cells();\n",
       "    var ncells = cells.length;\n",
       "    for (var i=0; i<ncells; i++) {\n",
       "        var cell = cells[i];\n",
       "        if (cell.cell_type === 'code'){\n",
       "            for (var j=0; j<cell.output_area.outputs.length; j++) {\n",
       "                var data = cell.output_area.outputs[j];\n",
       "                if (data.data) {\n",
       "                    // IPython >= 3 moved mimebundle to data attribute of output\n",
       "                    data = data.data;\n",
       "                }\n",
       "                if (data['text/html'] == html_output) {\n",
       "                    return [cell, data, j];\n",
       "                }\n",
       "            }\n",
       "        }\n",
       "    }\n",
       "}\n",
       "\n",
       "// Register the function which deals with the matplotlib target/channel.\n",
       "// The kernel may be null if the page has been refreshed.\n",
       "if (IPython.notebook.kernel != null) {\n",
       "    IPython.notebook.kernel.comm_manager.register_target('matplotlib', mpl.mpl_figure_comm);\n",
       "}\n"
      ],
      "text/plain": [
       "<IPython.core.display.Javascript object>"
      ]
     },
     "metadata": {},
     "output_type": "display_data"
    },
    {
     "data": {
      "text/html": [
       "<img src=\"data:image/png;base64,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\" width=\"640\">"
      ],
      "text/plain": [
       "<IPython.core.display.HTML object>"
      ]
     },
     "metadata": {},
     "output_type": "display_data"
    },
    {
     "data": {
      "application/javascript": [
       "/* Put everything inside the global mpl namespace */\n",
       "window.mpl = {};\n",
       "\n",
       "\n",
       "mpl.get_websocket_type = function() {\n",
       "    if (typeof(WebSocket) !== 'undefined') {\n",
       "        return WebSocket;\n",
       "    } else if (typeof(MozWebSocket) !== 'undefined') {\n",
       "        return MozWebSocket;\n",
       "    } else {\n",
       "        alert('Your browser does not have WebSocket support.' +\n",
       "              'Please try Chrome, Safari or Firefox ≥ 6. ' +\n",
       "              'Firefox 4 and 5 are also supported but you ' +\n",
       "              'have to enable WebSockets in about:config.');\n",
       "    };\n",
       "}\n",
       "\n",
       "mpl.figure = function(figure_id, websocket, ondownload, parent_element) {\n",
       "    this.id = figure_id;\n",
       "\n",
       "    this.ws = websocket;\n",
       "\n",
       "    this.supports_binary = (this.ws.binaryType != undefined);\n",
       "\n",
       "    if (!this.supports_binary) {\n",
       "        var warnings = document.getElementById(\"mpl-warnings\");\n",
       "        if (warnings) {\n",
       "            warnings.style.display = 'block';\n",
       "            warnings.textContent = (\n",
       "                \"This browser does not support binary websocket messages. \" +\n",
       "                    \"Performance may be slow.\");\n",
       "        }\n",
       "    }\n",
       "\n",
       "    this.imageObj = new Image();\n",
       "\n",
       "    this.context = undefined;\n",
       "    this.message = undefined;\n",
       "    this.canvas = undefined;\n",
       "    this.rubberband_canvas = undefined;\n",
       "    this.rubberband_context = undefined;\n",
       "    this.format_dropdown = undefined;\n",
       "\n",
       "    this.image_mode = 'full';\n",
       "\n",
       "    this.root = $('<div/>');\n",
       "    this._root_extra_style(this.root)\n",
       "    this.root.attr('style', 'display: inline-block');\n",
       "\n",
       "    $(parent_element).append(this.root);\n",
       "\n",
       "    this._init_header(this);\n",
       "    this._init_canvas(this);\n",
       "    this._init_toolbar(this);\n",
       "\n",
       "    var fig = this;\n",
       "\n",
       "    this.waiting = false;\n",
       "\n",
       "    this.ws.onopen =  function () {\n",
       "            fig.send_message(\"supports_binary\", {value: fig.supports_binary});\n",
       "            fig.send_message(\"send_image_mode\", {});\n",
       "            if (mpl.ratio != 1) {\n",
       "                fig.send_message(\"set_dpi_ratio\", {'dpi_ratio': mpl.ratio});\n",
       "            }\n",
       "            fig.send_message(\"refresh\", {});\n",
       "        }\n",
       "\n",
       "    this.imageObj.onload = function() {\n",
       "            if (fig.image_mode == 'full') {\n",
       "                // Full images could contain transparency (where diff images\n",
       "                // almost always do), so we need to clear the canvas so that\n",
       "                // there is no ghosting.\n",
       "                fig.context.clearRect(0, 0, fig.canvas.width, fig.canvas.height);\n",
       "            }\n",
       "            fig.context.drawImage(fig.imageObj, 0, 0);\n",
       "        };\n",
       "\n",
       "    this.imageObj.onunload = function() {\n",
       "        fig.ws.close();\n",
       "    }\n",
       "\n",
       "    this.ws.onmessage = this._make_on_message_function(this);\n",
       "\n",
       "    this.ondownload = ondownload;\n",
       "}\n",
       "\n",
       "mpl.figure.prototype._init_header = function() {\n",
       "    var titlebar = $(\n",
       "        '<div class=\"ui-dialog-titlebar ui-widget-header ui-corner-all ' +\n",
       "        'ui-helper-clearfix\"/>');\n",
       "    var titletext = $(\n",
       "        '<div class=\"ui-dialog-title\" style=\"width: 100%; ' +\n",
       "        'text-align: center; padding: 3px;\"/>');\n",
       "    titlebar.append(titletext)\n",
       "    this.root.append(titlebar);\n",
       "    this.header = titletext[0];\n",
       "}\n",
       "\n",
       "\n",
       "\n",
       "mpl.figure.prototype._canvas_extra_style = function(canvas_div) {\n",
       "\n",
       "}\n",
       "\n",
       "\n",
       "mpl.figure.prototype._root_extra_style = function(canvas_div) {\n",
       "\n",
       "}\n",
       "\n",
       "mpl.figure.prototype._init_canvas = function() {\n",
       "    var fig = this;\n",
       "\n",
       "    var canvas_div = $('<div/>');\n",
       "\n",
       "    canvas_div.attr('style', 'position: relative; clear: both; outline: 0');\n",
       "\n",
       "    function canvas_keyboard_event(event) {\n",
       "        return fig.key_event(event, event['data']);\n",
       "    }\n",
       "\n",
       "    canvas_div.keydown('key_press', canvas_keyboard_event);\n",
       "    canvas_div.keyup('key_release', canvas_keyboard_event);\n",
       "    this.canvas_div = canvas_div\n",
       "    this._canvas_extra_style(canvas_div)\n",
       "    this.root.append(canvas_div);\n",
       "\n",
       "    var canvas = $('<canvas/>');\n",
       "    canvas.addClass('mpl-canvas');\n",
       "    canvas.attr('style', \"left: 0; top: 0; z-index: 0; outline: 0\")\n",
       "\n",
       "    this.canvas = canvas[0];\n",
       "    this.context = canvas[0].getContext(\"2d\");\n",
       "\n",
       "    var backingStore = this.context.backingStorePixelRatio ||\n",
       "\tthis.context.webkitBackingStorePixelRatio ||\n",
       "\tthis.context.mozBackingStorePixelRatio ||\n",
       "\tthis.context.msBackingStorePixelRatio ||\n",
       "\tthis.context.oBackingStorePixelRatio ||\n",
       "\tthis.context.backingStorePixelRatio || 1;\n",
       "\n",
       "    mpl.ratio = (window.devicePixelRatio || 1) / backingStore;\n",
       "\n",
       "    var rubberband = $('<canvas/>');\n",
       "    rubberband.attr('style', \"position: absolute; left: 0; top: 0; z-index: 1;\")\n",
       "\n",
       "    var pass_mouse_events = true;\n",
       "\n",
       "    canvas_div.resizable({\n",
       "        start: function(event, ui) {\n",
       "            pass_mouse_events = false;\n",
       "        },\n",
       "        resize: function(event, ui) {\n",
       "            fig.request_resize(ui.size.width, ui.size.height);\n",
       "        },\n",
       "        stop: function(event, ui) {\n",
       "            pass_mouse_events = true;\n",
       "            fig.request_resize(ui.size.width, ui.size.height);\n",
       "        },\n",
       "    });\n",
       "\n",
       "    function mouse_event_fn(event) {\n",
       "        if (pass_mouse_events)\n",
       "            return fig.mouse_event(event, event['data']);\n",
       "    }\n",
       "\n",
       "    rubberband.mousedown('button_press', mouse_event_fn);\n",
       "    rubberband.mouseup('button_release', mouse_event_fn);\n",
       "    // Throttle sequential mouse events to 1 every 20ms.\n",
       "    rubberband.mousemove('motion_notify', mouse_event_fn);\n",
       "\n",
       "    rubberband.mouseenter('figure_enter', mouse_event_fn);\n",
       "    rubberband.mouseleave('figure_leave', mouse_event_fn);\n",
       "\n",
       "    canvas_div.on(\"wheel\", function (event) {\n",
       "        event = event.originalEvent;\n",
       "        event['data'] = 'scroll'\n",
       "        if (event.deltaY < 0) {\n",
       "            event.step = 1;\n",
       "        } else {\n",
       "            event.step = -1;\n",
       "        }\n",
       "        mouse_event_fn(event);\n",
       "    });\n",
       "\n",
       "    canvas_div.append(canvas);\n",
       "    canvas_div.append(rubberband);\n",
       "\n",
       "    this.rubberband = rubberband;\n",
       "    this.rubberband_canvas = rubberband[0];\n",
       "    this.rubberband_context = rubberband[0].getContext(\"2d\");\n",
       "    this.rubberband_context.strokeStyle = \"#000000\";\n",
       "\n",
       "    this._resize_canvas = function(width, height) {\n",
       "        // Keep the size of the canvas, canvas container, and rubber band\n",
       "        // canvas in synch.\n",
       "        canvas_div.css('width', width)\n",
       "        canvas_div.css('height', height)\n",
       "\n",
       "        canvas.attr('width', width * mpl.ratio);\n",
       "        canvas.attr('height', height * mpl.ratio);\n",
       "        canvas.attr('style', 'width: ' + width + 'px; height: ' + height + 'px;');\n",
       "\n",
       "        rubberband.attr('width', width);\n",
       "        rubberband.attr('height', height);\n",
       "    }\n",
       "\n",
       "    // Set the figure to an initial 600x600px, this will subsequently be updated\n",
       "    // upon first draw.\n",
       "    this._resize_canvas(600, 600);\n",
       "\n",
       "    // Disable right mouse context menu.\n",
       "    $(this.rubberband_canvas).bind(\"contextmenu\",function(e){\n",
       "        return false;\n",
       "    });\n",
       "\n",
       "    function set_focus () {\n",
       "        canvas.focus();\n",
       "        canvas_div.focus();\n",
       "    }\n",
       "\n",
       "    window.setTimeout(set_focus, 100);\n",
       "}\n",
       "\n",
       "mpl.figure.prototype._init_toolbar = function() {\n",
       "    var fig = this;\n",
       "\n",
       "    var nav_element = $('<div/>')\n",
       "    nav_element.attr('style', 'width: 100%');\n",
       "    this.root.append(nav_element);\n",
       "\n",
       "    // Define a callback function for later on.\n",
       "    function toolbar_event(event) {\n",
       "        return fig.toolbar_button_onclick(event['data']);\n",
       "    }\n",
       "    function toolbar_mouse_event(event) {\n",
       "        return fig.toolbar_button_onmouseover(event['data']);\n",
       "    }\n",
       "\n",
       "    for(var toolbar_ind in mpl.toolbar_items) {\n",
       "        var name = mpl.toolbar_items[toolbar_ind][0];\n",
       "        var tooltip = mpl.toolbar_items[toolbar_ind][1];\n",
       "        var image = mpl.toolbar_items[toolbar_ind][2];\n",
       "        var method_name = mpl.toolbar_items[toolbar_ind][3];\n",
       "\n",
       "        if (!name) {\n",
       "            // put a spacer in here.\n",
       "            continue;\n",
       "        }\n",
       "        var button = $('<button/>');\n",
       "        button.addClass('ui-button ui-widget ui-state-default ui-corner-all ' +\n",
       "                        'ui-button-icon-only');\n",
       "        button.attr('role', 'button');\n",
       "        button.attr('aria-disabled', 'false');\n",
       "        button.click(method_name, toolbar_event);\n",
       "        button.mouseover(tooltip, toolbar_mouse_event);\n",
       "\n",
       "        var icon_img = $('<span/>');\n",
       "        icon_img.addClass('ui-button-icon-primary ui-icon');\n",
       "        icon_img.addClass(image);\n",
       "        icon_img.addClass('ui-corner-all');\n",
       "\n",
       "        var tooltip_span = $('<span/>');\n",
       "        tooltip_span.addClass('ui-button-text');\n",
       "        tooltip_span.html(tooltip);\n",
       "\n",
       "        button.append(icon_img);\n",
       "        button.append(tooltip_span);\n",
       "\n",
       "        nav_element.append(button);\n",
       "    }\n",
       "\n",
       "    var fmt_picker_span = $('<span/>');\n",
       "\n",
       "    var fmt_picker = $('<select/>');\n",
       "    fmt_picker.addClass('mpl-toolbar-option ui-widget ui-widget-content');\n",
       "    fmt_picker_span.append(fmt_picker);\n",
       "    nav_element.append(fmt_picker_span);\n",
       "    this.format_dropdown = fmt_picker[0];\n",
       "\n",
       "    for (var ind in mpl.extensions) {\n",
       "        var fmt = mpl.extensions[ind];\n",
       "        var option = $(\n",
       "            '<option/>', {selected: fmt === mpl.default_extension}).html(fmt);\n",
       "        fmt_picker.append(option)\n",
       "    }\n",
       "\n",
       "    // Add hover states to the ui-buttons\n",
       "    $( \".ui-button\" ).hover(\n",
       "        function() { $(this).addClass(\"ui-state-hover\");},\n",
       "        function() { $(this).removeClass(\"ui-state-hover\");}\n",
       "    );\n",
       "\n",
       "    var status_bar = $('<span class=\"mpl-message\"/>');\n",
       "    nav_element.append(status_bar);\n",
       "    this.message = status_bar[0];\n",
       "}\n",
       "\n",
       "mpl.figure.prototype.request_resize = function(x_pixels, y_pixels) {\n",
       "    // Request matplotlib to resize the figure. Matplotlib will then trigger a resize in the client,\n",
       "    // which will in turn request a refresh of the image.\n",
       "    this.send_message('resize', {'width': x_pixels, 'height': y_pixels});\n",
       "}\n",
       "\n",
       "mpl.figure.prototype.send_message = function(type, properties) {\n",
       "    properties['type'] = type;\n",
       "    properties['figure_id'] = this.id;\n",
       "    this.ws.send(JSON.stringify(properties));\n",
       "}\n",
       "\n",
       "mpl.figure.prototype.send_draw_message = function() {\n",
       "    if (!this.waiting) {\n",
       "        this.waiting = true;\n",
       "        this.ws.send(JSON.stringify({type: \"draw\", figure_id: this.id}));\n",
       "    }\n",
       "}\n",
       "\n",
       "\n",
       "mpl.figure.prototype.handle_save = function(fig, msg) {\n",
       "    var format_dropdown = fig.format_dropdown;\n",
       "    var format = format_dropdown.options[format_dropdown.selectedIndex].value;\n",
       "    fig.ondownload(fig, format);\n",
       "}\n",
       "\n",
       "\n",
       "mpl.figure.prototype.handle_resize = function(fig, msg) {\n",
       "    var size = msg['size'];\n",
       "    if (size[0] != fig.canvas.width || size[1] != fig.canvas.height) {\n",
       "        fig._resize_canvas(size[0], size[1]);\n",
       "        fig.send_message(\"refresh\", {});\n",
       "    };\n",
       "}\n",
       "\n",
       "mpl.figure.prototype.handle_rubberband = function(fig, msg) {\n",
       "    var x0 = msg['x0'] / mpl.ratio;\n",
       "    var y0 = (fig.canvas.height - msg['y0']) / mpl.ratio;\n",
       "    var x1 = msg['x1'] / mpl.ratio;\n",
       "    var y1 = (fig.canvas.height - msg['y1']) / mpl.ratio;\n",
       "    x0 = Math.floor(x0) + 0.5;\n",
       "    y0 = Math.floor(y0) + 0.5;\n",
       "    x1 = Math.floor(x1) + 0.5;\n",
       "    y1 = Math.floor(y1) + 0.5;\n",
       "    var min_x = Math.min(x0, x1);\n",
       "    var min_y = Math.min(y0, y1);\n",
       "    var width = Math.abs(x1 - x0);\n",
       "    var height = Math.abs(y1 - y0);\n",
       "\n",
       "    fig.rubberband_context.clearRect(\n",
       "        0, 0, fig.canvas.width, fig.canvas.height);\n",
       "\n",
       "    fig.rubberband_context.strokeRect(min_x, min_y, width, height);\n",
       "}\n",
       "\n",
       "mpl.figure.prototype.handle_figure_label = function(fig, msg) {\n",
       "    // Updates the figure title.\n",
       "    fig.header.textContent = msg['label'];\n",
       "}\n",
       "\n",
       "mpl.figure.prototype.handle_cursor = function(fig, msg) {\n",
       "    var cursor = msg['cursor'];\n",
       "    switch(cursor)\n",
       "    {\n",
       "    case 0:\n",
       "        cursor = 'pointer';\n",
       "        break;\n",
       "    case 1:\n",
       "        cursor = 'default';\n",
       "        break;\n",
       "    case 2:\n",
       "        cursor = 'crosshair';\n",
       "        break;\n",
       "    case 3:\n",
       "        cursor = 'move';\n",
       "        break;\n",
       "    }\n",
       "    fig.rubberband_canvas.style.cursor = cursor;\n",
       "}\n",
       "\n",
       "mpl.figure.prototype.handle_message = function(fig, msg) {\n",
       "    fig.message.textContent = msg['message'];\n",
       "}\n",
       "\n",
       "mpl.figure.prototype.handle_draw = function(fig, msg) {\n",
       "    // Request the server to send over a new figure.\n",
       "    fig.send_draw_message();\n",
       "}\n",
       "\n",
       "mpl.figure.prototype.handle_image_mode = function(fig, msg) {\n",
       "    fig.image_mode = msg['mode'];\n",
       "}\n",
       "\n",
       "mpl.figure.prototype.updated_canvas_event = function() {\n",
       "    // Called whenever the canvas gets updated.\n",
       "    this.send_message(\"ack\", {});\n",
       "}\n",
       "\n",
       "// A function to construct a web socket function for onmessage handling.\n",
       "// Called in the figure constructor.\n",
       "mpl.figure.prototype._make_on_message_function = function(fig) {\n",
       "    return function socket_on_message(evt) {\n",
       "        if (evt.data instanceof Blob) {\n",
       "            /* FIXME: We get \"Resource interpreted as Image but\n",
       "             * transferred with MIME type text/plain:\" errors on\n",
       "             * Chrome.  But how to set the MIME type?  It doesn't seem\n",
       "             * to be part of the websocket stream */\n",
       "            evt.data.type = \"image/png\";\n",
       "\n",
       "            /* Free the memory for the previous frames */\n",
       "            if (fig.imageObj.src) {\n",
       "                (window.URL || window.webkitURL).revokeObjectURL(\n",
       "                    fig.imageObj.src);\n",
       "            }\n",
       "\n",
       "            fig.imageObj.src = (window.URL || window.webkitURL).createObjectURL(\n",
       "                evt.data);\n",
       "            fig.updated_canvas_event();\n",
       "            fig.waiting = false;\n",
       "            return;\n",
       "        }\n",
       "        else if (typeof evt.data === 'string' && evt.data.slice(0, 21) == \"data:image/png;base64\") {\n",
       "            fig.imageObj.src = evt.data;\n",
       "            fig.updated_canvas_event();\n",
       "            fig.waiting = false;\n",
       "            return;\n",
       "        }\n",
       "\n",
       "        var msg = JSON.parse(evt.data);\n",
       "        var msg_type = msg['type'];\n",
       "\n",
       "        // Call the  \"handle_{type}\" callback, which takes\n",
       "        // the figure and JSON message as its only arguments.\n",
       "        try {\n",
       "            var callback = fig[\"handle_\" + msg_type];\n",
       "        } catch (e) {\n",
       "            console.log(\"No handler for the '\" + msg_type + \"' message type: \", msg);\n",
       "            return;\n",
       "        }\n",
       "\n",
       "        if (callback) {\n",
       "            try {\n",
       "                // console.log(\"Handling '\" + msg_type + \"' message: \", msg);\n",
       "                callback(fig, msg);\n",
       "            } catch (e) {\n",
       "                console.log(\"Exception inside the 'handler_\" + msg_type + \"' callback:\", e, e.stack, msg);\n",
       "            }\n",
       "        }\n",
       "    };\n",
       "}\n",
       "\n",
       "// from http://stackoverflow.com/questions/1114465/getting-mouse-location-in-canvas\n",
       "mpl.findpos = function(e) {\n",
       "    //this section is from http://www.quirksmode.org/js/events_properties.html\n",
       "    var targ;\n",
       "    if (!e)\n",
       "        e = window.event;\n",
       "    if (e.target)\n",
       "        targ = e.target;\n",
       "    else if (e.srcElement)\n",
       "        targ = e.srcElement;\n",
       "    if (targ.nodeType == 3) // defeat Safari bug\n",
       "        targ = targ.parentNode;\n",
       "\n",
       "    // jQuery normalizes the pageX and pageY\n",
       "    // pageX,Y are the mouse positions relative to the document\n",
       "    // offset() returns the position of the element relative to the document\n",
       "    var x = e.pageX - $(targ).offset().left;\n",
       "    var y = e.pageY - $(targ).offset().top;\n",
       "\n",
       "    return {\"x\": x, \"y\": y};\n",
       "};\n",
       "\n",
       "/*\n",
       " * return a copy of an object with only non-object keys\n",
       " * we need this to avoid circular references\n",
       " * http://stackoverflow.com/a/24161582/3208463\n",
       " */\n",
       "function simpleKeys (original) {\n",
       "  return Object.keys(original).reduce(function (obj, key) {\n",
       "    if (typeof original[key] !== 'object')\n",
       "        obj[key] = original[key]\n",
       "    return obj;\n",
       "  }, {});\n",
       "}\n",
       "\n",
       "mpl.figure.prototype.mouse_event = function(event, name) {\n",
       "    var canvas_pos = mpl.findpos(event)\n",
       "\n",
       "    if (name === 'button_press')\n",
       "    {\n",
       "        this.canvas.focus();\n",
       "        this.canvas_div.focus();\n",
       "    }\n",
       "\n",
       "    var x = canvas_pos.x * mpl.ratio;\n",
       "    var y = canvas_pos.y * mpl.ratio;\n",
       "\n",
       "    this.send_message(name, {x: x, y: y, button: event.button,\n",
       "                             step: event.step,\n",
       "                             guiEvent: simpleKeys(event)});\n",
       "\n",
       "    /* This prevents the web browser from automatically changing to\n",
       "     * the text insertion cursor when the button is pressed.  We want\n",
       "     * to control all of the cursor setting manually through the\n",
       "     * 'cursor' event from matplotlib */\n",
       "    event.preventDefault();\n",
       "    return false;\n",
       "}\n",
       "\n",
       "mpl.figure.prototype._key_event_extra = function(event, name) {\n",
       "    // Handle any extra behaviour associated with a key event\n",
       "}\n",
       "\n",
       "mpl.figure.prototype.key_event = function(event, name) {\n",
       "\n",
       "    // Prevent repeat events\n",
       "    if (name == 'key_press')\n",
       "    {\n",
       "        if (event.which === this._key)\n",
       "            return;\n",
       "        else\n",
       "            this._key = event.which;\n",
       "    }\n",
       "    if (name == 'key_release')\n",
       "        this._key = null;\n",
       "\n",
       "    var value = '';\n",
       "    if (event.ctrlKey && event.which != 17)\n",
       "        value += \"ctrl+\";\n",
       "    if (event.altKey && event.which != 18)\n",
       "        value += \"alt+\";\n",
       "    if (event.shiftKey && event.which != 16)\n",
       "        value += \"shift+\";\n",
       "\n",
       "    value += 'k';\n",
       "    value += event.which.toString();\n",
       "\n",
       "    this._key_event_extra(event, name);\n",
       "\n",
       "    this.send_message(name, {key: value,\n",
       "                             guiEvent: simpleKeys(event)});\n",
       "    return false;\n",
       "}\n",
       "\n",
       "mpl.figure.prototype.toolbar_button_onclick = function(name) {\n",
       "    if (name == 'download') {\n",
       "        this.handle_save(this, null);\n",
       "    } else {\n",
       "        this.send_message(\"toolbar_button\", {name: name});\n",
       "    }\n",
       "};\n",
       "\n",
       "mpl.figure.prototype.toolbar_button_onmouseover = function(tooltip) {\n",
       "    this.message.textContent = tooltip;\n",
       "};\n",
       "mpl.toolbar_items = [[\"Home\", \"Reset original view\", \"fa fa-home icon-home\", \"home\"], [\"Back\", \"Back to  previous view\", \"fa fa-arrow-left icon-arrow-left\", \"back\"], [\"Forward\", \"Forward to next view\", \"fa fa-arrow-right icon-arrow-right\", \"forward\"], [\"\", \"\", \"\", \"\"], [\"Pan\", \"Pan axes with left mouse, zoom with right\", \"fa fa-arrows icon-move\", \"pan\"], [\"Zoom\", \"Zoom to rectangle\", \"fa fa-square-o icon-check-empty\", \"zoom\"], [\"\", \"\", \"\", \"\"], [\"Download\", \"Download plot\", \"fa fa-floppy-o icon-save\", \"download\"]];\n",
       "\n",
       "mpl.extensions = [\"eps\", \"jpeg\", \"pdf\", \"png\", \"ps\", \"raw\", \"svg\", \"tif\"];\n",
       "\n",
       "mpl.default_extension = \"png\";var comm_websocket_adapter = function(comm) {\n",
       "    // Create a \"websocket\"-like object which calls the given IPython comm\n",
       "    // object with the appropriate methods. Currently this is a non binary\n",
       "    // socket, so there is still some room for performance tuning.\n",
       "    var ws = {};\n",
       "\n",
       "    ws.close = function() {\n",
       "        comm.close()\n",
       "    };\n",
       "    ws.send = function(m) {\n",
       "        //console.log('sending', m);\n",
       "        comm.send(m);\n",
       "    };\n",
       "    // Register the callback with on_msg.\n",
       "    comm.on_msg(function(msg) {\n",
       "        //console.log('receiving', msg['content']['data'], msg);\n",
       "        // Pass the mpl event to the overriden (by mpl) onmessage function.\n",
       "        ws.onmessage(msg['content']['data'])\n",
       "    });\n",
       "    return ws;\n",
       "}\n",
       "\n",
       "mpl.mpl_figure_comm = function(comm, msg) {\n",
       "    // This is the function which gets called when the mpl process\n",
       "    // starts-up an IPython Comm through the \"matplotlib\" channel.\n",
       "\n",
       "    var id = msg.content.data.id;\n",
       "    // Get hold of the div created by the display call when the Comm\n",
       "    // socket was opened in Python.\n",
       "    var element = $(\"#\" + id);\n",
       "    var ws_proxy = comm_websocket_adapter(comm)\n",
       "\n",
       "    function ondownload(figure, format) {\n",
       "        window.open(figure.imageObj.src);\n",
       "    }\n",
       "\n",
       "    var fig = new mpl.figure(id, ws_proxy,\n",
       "                           ondownload,\n",
       "                           element.get(0));\n",
       "\n",
       "    // Call onopen now - mpl needs it, as it is assuming we've passed it a real\n",
       "    // web socket which is closed, not our websocket->open comm proxy.\n",
       "    ws_proxy.onopen();\n",
       "\n",
       "    fig.parent_element = element.get(0);\n",
       "    fig.cell_info = mpl.find_output_cell(\"<div id='\" + id + \"'></div>\");\n",
       "    if (!fig.cell_info) {\n",
       "        console.error(\"Failed to find cell for figure\", id, fig);\n",
       "        return;\n",
       "    }\n",
       "\n",
       "    var output_index = fig.cell_info[2]\n",
       "    var cell = fig.cell_info[0];\n",
       "\n",
       "};\n",
       "\n",
       "mpl.figure.prototype.handle_close = function(fig, msg) {\n",
       "    var width = fig.canvas.width/mpl.ratio\n",
       "    fig.root.unbind('remove')\n",
       "\n",
       "    // Update the output cell to use the data from the current canvas.\n",
       "    fig.push_to_output();\n",
       "    var dataURL = fig.canvas.toDataURL();\n",
       "    // Re-enable the keyboard manager in IPython - without this line, in FF,\n",
       "    // the notebook keyboard shortcuts fail.\n",
       "    IPython.keyboard_manager.enable()\n",
       "    $(fig.parent_element).html('<img src=\"' + dataURL + '\" width=\"' + width + '\">');\n",
       "    fig.close_ws(fig, msg);\n",
       "}\n",
       "\n",
       "mpl.figure.prototype.close_ws = function(fig, msg){\n",
       "    fig.send_message('closing', msg);\n",
       "    // fig.ws.close()\n",
       "}\n",
       "\n",
       "mpl.figure.prototype.push_to_output = function(remove_interactive) {\n",
       "    // Turn the data on the canvas into data in the output cell.\n",
       "    var width = this.canvas.width/mpl.ratio\n",
       "    var dataURL = this.canvas.toDataURL();\n",
       "    this.cell_info[1]['text/html'] = '<img src=\"' + dataURL + '\" width=\"' + width + '\">';\n",
       "}\n",
       "\n",
       "mpl.figure.prototype.updated_canvas_event = function() {\n",
       "    // Tell IPython that the notebook contents must change.\n",
       "    IPython.notebook.set_dirty(true);\n",
       "    this.send_message(\"ack\", {});\n",
       "    var fig = this;\n",
       "    // Wait a second, then push the new image to the DOM so\n",
       "    // that it is saved nicely (might be nice to debounce this).\n",
       "    setTimeout(function () { fig.push_to_output() }, 1000);\n",
       "}\n",
       "\n",
       "mpl.figure.prototype._init_toolbar = function() {\n",
       "    var fig = this;\n",
       "\n",
       "    var nav_element = $('<div/>')\n",
       "    nav_element.attr('style', 'width: 100%');\n",
       "    this.root.append(nav_element);\n",
       "\n",
       "    // Define a callback function for later on.\n",
       "    function toolbar_event(event) {\n",
       "        return fig.toolbar_button_onclick(event['data']);\n",
       "    }\n",
       "    function toolbar_mouse_event(event) {\n",
       "        return fig.toolbar_button_onmouseover(event['data']);\n",
       "    }\n",
       "\n",
       "    for(var toolbar_ind in mpl.toolbar_items){\n",
       "        var name = mpl.toolbar_items[toolbar_ind][0];\n",
       "        var tooltip = mpl.toolbar_items[toolbar_ind][1];\n",
       "        var image = mpl.toolbar_items[toolbar_ind][2];\n",
       "        var method_name = mpl.toolbar_items[toolbar_ind][3];\n",
       "\n",
       "        if (!name) { continue; };\n",
       "\n",
       "        var button = $('<button class=\"btn btn-default\" href=\"#\" title=\"' + name + '\"><i class=\"fa ' + image + ' fa-lg\"></i></button>');\n",
       "        button.click(method_name, toolbar_event);\n",
       "        button.mouseover(tooltip, toolbar_mouse_event);\n",
       "        nav_element.append(button);\n",
       "    }\n",
       "\n",
       "    // Add the status bar.\n",
       "    var status_bar = $('<span class=\"mpl-message\" style=\"text-align:right; float: right;\"/>');\n",
       "    nav_element.append(status_bar);\n",
       "    this.message = status_bar[0];\n",
       "\n",
       "    // Add the close button to the window.\n",
       "    var buttongrp = $('<div class=\"btn-group inline pull-right\"></div>');\n",
       "    var button = $('<button class=\"btn btn-mini btn-primary\" href=\"#\" title=\"Stop Interaction\"><i class=\"fa fa-power-off icon-remove icon-large\"></i></button>');\n",
       "    button.click(function (evt) { fig.handle_close(fig, {}); } );\n",
       "    button.mouseover('Stop Interaction', toolbar_mouse_event);\n",
       "    buttongrp.append(button);\n",
       "    var titlebar = this.root.find($('.ui-dialog-titlebar'));\n",
       "    titlebar.prepend(buttongrp);\n",
       "}\n",
       "\n",
       "mpl.figure.prototype._root_extra_style = function(el){\n",
       "    var fig = this\n",
       "    el.on(\"remove\", function(){\n",
       "\tfig.close_ws(fig, {});\n",
       "    });\n",
       "}\n",
       "\n",
       "mpl.figure.prototype._canvas_extra_style = function(el){\n",
       "    // this is important to make the div 'focusable\n",
       "    el.attr('tabindex', 0)\n",
       "    // reach out to IPython and tell the keyboard manager to turn it's self\n",
       "    // off when our div gets focus\n",
       "\n",
       "    // location in version 3\n",
       "    if (IPython.notebook.keyboard_manager) {\n",
       "        IPython.notebook.keyboard_manager.register_events(el);\n",
       "    }\n",
       "    else {\n",
       "        // location in version 2\n",
       "        IPython.keyboard_manager.register_events(el);\n",
       "    }\n",
       "\n",
       "}\n",
       "\n",
       "mpl.figure.prototype._key_event_extra = function(event, name) {\n",
       "    var manager = IPython.notebook.keyboard_manager;\n",
       "    if (!manager)\n",
       "        manager = IPython.keyboard_manager;\n",
       "\n",
       "    // Check for shift+enter\n",
       "    if (event.shiftKey && event.which == 13) {\n",
       "        this.canvas_div.blur();\n",
       "        event.shiftKey = false;\n",
       "        // Send a \"J\" for go to next cell\n",
       "        event.which = 74;\n",
       "        event.keyCode = 74;\n",
       "        manager.command_mode();\n",
       "        manager.handle_keydown(event);\n",
       "    }\n",
       "}\n",
       "\n",
       "mpl.figure.prototype.handle_save = function(fig, msg) {\n",
       "    fig.ondownload(fig, null);\n",
       "}\n",
       "\n",
       "\n",
       "mpl.find_output_cell = function(html_output) {\n",
       "    // Return the cell and output element which can be found *uniquely* in the notebook.\n",
       "    // Note - this is a bit hacky, but it is done because the \"notebook_saving.Notebook\"\n",
       "    // IPython event is triggered only after the cells have been serialised, which for\n",
       "    // our purposes (turning an active figure into a static one), is too late.\n",
       "    var cells = IPython.notebook.get_cells();\n",
       "    var ncells = cells.length;\n",
       "    for (var i=0; i<ncells; i++) {\n",
       "        var cell = cells[i];\n",
       "        if (cell.cell_type === 'code'){\n",
       "            for (var j=0; j<cell.output_area.outputs.length; j++) {\n",
       "                var data = cell.output_area.outputs[j];\n",
       "                if (data.data) {\n",
       "                    // IPython >= 3 moved mimebundle to data attribute of output\n",
       "                    data = data.data;\n",
       "                }\n",
       "                if (data['text/html'] == html_output) {\n",
       "                    return [cell, data, j];\n",
       "                }\n",
       "            }\n",
       "        }\n",
       "    }\n",
       "}\n",
       "\n",
       "// Register the function which deals with the matplotlib target/channel.\n",
       "// The kernel may be null if the page has been refreshed.\n",
       "if (IPython.notebook.kernel != null) {\n",
       "    IPython.notebook.kernel.comm_manager.register_target('matplotlib', mpl.mpl_figure_comm);\n",
       "}\n"
      ],
      "text/plain": [
       "<IPython.core.display.Javascript object>"
      ]
     },
     "metadata": {},
     "output_type": "display_data"
    },
    {
     "data": {
      "text/html": [
       "<img src=\"data:image/png;base64,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\" width=\"640\">"
      ],
      "text/plain": [
       "<IPython.core.display.HTML object>"
      ]
     },
     "metadata": {},
     "output_type": "display_data"
    },
    {
     "data": {
      "application/javascript": [
       "/* Put everything inside the global mpl namespace */\n",
       "window.mpl = {};\n",
       "\n",
       "\n",
       "mpl.get_websocket_type = function() {\n",
       "    if (typeof(WebSocket) !== 'undefined') {\n",
       "        return WebSocket;\n",
       "    } else if (typeof(MozWebSocket) !== 'undefined') {\n",
       "        return MozWebSocket;\n",
       "    } else {\n",
       "        alert('Your browser does not have WebSocket support.' +\n",
       "              'Please try Chrome, Safari or Firefox ≥ 6. ' +\n",
       "              'Firefox 4 and 5 are also supported but you ' +\n",
       "              'have to enable WebSockets in about:config.');\n",
       "    };\n",
       "}\n",
       "\n",
       "mpl.figure = function(figure_id, websocket, ondownload, parent_element) {\n",
       "    this.id = figure_id;\n",
       "\n",
       "    this.ws = websocket;\n",
       "\n",
       "    this.supports_binary = (this.ws.binaryType != undefined);\n",
       "\n",
       "    if (!this.supports_binary) {\n",
       "        var warnings = document.getElementById(\"mpl-warnings\");\n",
       "        if (warnings) {\n",
       "            warnings.style.display = 'block';\n",
       "            warnings.textContent = (\n",
       "                \"This browser does not support binary websocket messages. \" +\n",
       "                    \"Performance may be slow.\");\n",
       "        }\n",
       "    }\n",
       "\n",
       "    this.imageObj = new Image();\n",
       "\n",
       "    this.context = undefined;\n",
       "    this.message = undefined;\n",
       "    this.canvas = undefined;\n",
       "    this.rubberband_canvas = undefined;\n",
       "    this.rubberband_context = undefined;\n",
       "    this.format_dropdown = undefined;\n",
       "\n",
       "    this.image_mode = 'full';\n",
       "\n",
       "    this.root = $('<div/>');\n",
       "    this._root_extra_style(this.root)\n",
       "    this.root.attr('style', 'display: inline-block');\n",
       "\n",
       "    $(parent_element).append(this.root);\n",
       "\n",
       "    this._init_header(this);\n",
       "    this._init_canvas(this);\n",
       "    this._init_toolbar(this);\n",
       "\n",
       "    var fig = this;\n",
       "\n",
       "    this.waiting = false;\n",
       "\n",
       "    this.ws.onopen =  function () {\n",
       "            fig.send_message(\"supports_binary\", {value: fig.supports_binary});\n",
       "            fig.send_message(\"send_image_mode\", {});\n",
       "            if (mpl.ratio != 1) {\n",
       "                fig.send_message(\"set_dpi_ratio\", {'dpi_ratio': mpl.ratio});\n",
       "            }\n",
       "            fig.send_message(\"refresh\", {});\n",
       "        }\n",
       "\n",
       "    this.imageObj.onload = function() {\n",
       "            if (fig.image_mode == 'full') {\n",
       "                // Full images could contain transparency (where diff images\n",
       "                // almost always do), so we need to clear the canvas so that\n",
       "                // there is no ghosting.\n",
       "                fig.context.clearRect(0, 0, fig.canvas.width, fig.canvas.height);\n",
       "            }\n",
       "            fig.context.drawImage(fig.imageObj, 0, 0);\n",
       "        };\n",
       "\n",
       "    this.imageObj.onunload = function() {\n",
       "        fig.ws.close();\n",
       "    }\n",
       "\n",
       "    this.ws.onmessage = this._make_on_message_function(this);\n",
       "\n",
       "    this.ondownload = ondownload;\n",
       "}\n",
       "\n",
       "mpl.figure.prototype._init_header = function() {\n",
       "    var titlebar = $(\n",
       "        '<div class=\"ui-dialog-titlebar ui-widget-header ui-corner-all ' +\n",
       "        'ui-helper-clearfix\"/>');\n",
       "    var titletext = $(\n",
       "        '<div class=\"ui-dialog-title\" style=\"width: 100%; ' +\n",
       "        'text-align: center; padding: 3px;\"/>');\n",
       "    titlebar.append(titletext)\n",
       "    this.root.append(titlebar);\n",
       "    this.header = titletext[0];\n",
       "}\n",
       "\n",
       "\n",
       "\n",
       "mpl.figure.prototype._canvas_extra_style = function(canvas_div) {\n",
       "\n",
       "}\n",
       "\n",
       "\n",
       "mpl.figure.prototype._root_extra_style = function(canvas_div) {\n",
       "\n",
       "}\n",
       "\n",
       "mpl.figure.prototype._init_canvas = function() {\n",
       "    var fig = this;\n",
       "\n",
       "    var canvas_div = $('<div/>');\n",
       "\n",
       "    canvas_div.attr('style', 'position: relative; clear: both; outline: 0');\n",
       "\n",
       "    function canvas_keyboard_event(event) {\n",
       "        return fig.key_event(event, event['data']);\n",
       "    }\n",
       "\n",
       "    canvas_div.keydown('key_press', canvas_keyboard_event);\n",
       "    canvas_div.keyup('key_release', canvas_keyboard_event);\n",
       "    this.canvas_div = canvas_div\n",
       "    this._canvas_extra_style(canvas_div)\n",
       "    this.root.append(canvas_div);\n",
       "\n",
       "    var canvas = $('<canvas/>');\n",
       "    canvas.addClass('mpl-canvas');\n",
       "    canvas.attr('style', \"left: 0; top: 0; z-index: 0; outline: 0\")\n",
       "\n",
       "    this.canvas = canvas[0];\n",
       "    this.context = canvas[0].getContext(\"2d\");\n",
       "\n",
       "    var backingStore = this.context.backingStorePixelRatio ||\n",
       "\tthis.context.webkitBackingStorePixelRatio ||\n",
       "\tthis.context.mozBackingStorePixelRatio ||\n",
       "\tthis.context.msBackingStorePixelRatio ||\n",
       "\tthis.context.oBackingStorePixelRatio ||\n",
       "\tthis.context.backingStorePixelRatio || 1;\n",
       "\n",
       "    mpl.ratio = (window.devicePixelRatio || 1) / backingStore;\n",
       "\n",
       "    var rubberband = $('<canvas/>');\n",
       "    rubberband.attr('style', \"position: absolute; left: 0; top: 0; z-index: 1;\")\n",
       "\n",
       "    var pass_mouse_events = true;\n",
       "\n",
       "    canvas_div.resizable({\n",
       "        start: function(event, ui) {\n",
       "            pass_mouse_events = false;\n",
       "        },\n",
       "        resize: function(event, ui) {\n",
       "            fig.request_resize(ui.size.width, ui.size.height);\n",
       "        },\n",
       "        stop: function(event, ui) {\n",
       "            pass_mouse_events = true;\n",
       "            fig.request_resize(ui.size.width, ui.size.height);\n",
       "        },\n",
       "    });\n",
       "\n",
       "    function mouse_event_fn(event) {\n",
       "        if (pass_mouse_events)\n",
       "            return fig.mouse_event(event, event['data']);\n",
       "    }\n",
       "\n",
       "    rubberband.mousedown('button_press', mouse_event_fn);\n",
       "    rubberband.mouseup('button_release', mouse_event_fn);\n",
       "    // Throttle sequential mouse events to 1 every 20ms.\n",
       "    rubberband.mousemove('motion_notify', mouse_event_fn);\n",
       "\n",
       "    rubberband.mouseenter('figure_enter', mouse_event_fn);\n",
       "    rubberband.mouseleave('figure_leave', mouse_event_fn);\n",
       "\n",
       "    canvas_div.on(\"wheel\", function (event) {\n",
       "        event = event.originalEvent;\n",
       "        event['data'] = 'scroll'\n",
       "        if (event.deltaY < 0) {\n",
       "            event.step = 1;\n",
       "        } else {\n",
       "            event.step = -1;\n",
       "        }\n",
       "        mouse_event_fn(event);\n",
       "    });\n",
       "\n",
       "    canvas_div.append(canvas);\n",
       "    canvas_div.append(rubberband);\n",
       "\n",
       "    this.rubberband = rubberband;\n",
       "    this.rubberband_canvas = rubberband[0];\n",
       "    this.rubberband_context = rubberband[0].getContext(\"2d\");\n",
       "    this.rubberband_context.strokeStyle = \"#000000\";\n",
       "\n",
       "    this._resize_canvas = function(width, height) {\n",
       "        // Keep the size of the canvas, canvas container, and rubber band\n",
       "        // canvas in synch.\n",
       "        canvas_div.css('width', width)\n",
       "        canvas_div.css('height', height)\n",
       "\n",
       "        canvas.attr('width', width * mpl.ratio);\n",
       "        canvas.attr('height', height * mpl.ratio);\n",
       "        canvas.attr('style', 'width: ' + width + 'px; height: ' + height + 'px;');\n",
       "\n",
       "        rubberband.attr('width', width);\n",
       "        rubberband.attr('height', height);\n",
       "    }\n",
       "\n",
       "    // Set the figure to an initial 600x600px, this will subsequently be updated\n",
       "    // upon first draw.\n",
       "    this._resize_canvas(600, 600);\n",
       "\n",
       "    // Disable right mouse context menu.\n",
       "    $(this.rubberband_canvas).bind(\"contextmenu\",function(e){\n",
       "        return false;\n",
       "    });\n",
       "\n",
       "    function set_focus () {\n",
       "        canvas.focus();\n",
       "        canvas_div.focus();\n",
       "    }\n",
       "\n",
       "    window.setTimeout(set_focus, 100);\n",
       "}\n",
       "\n",
       "mpl.figure.prototype._init_toolbar = function() {\n",
       "    var fig = this;\n",
       "\n",
       "    var nav_element = $('<div/>')\n",
       "    nav_element.attr('style', 'width: 100%');\n",
       "    this.root.append(nav_element);\n",
       "\n",
       "    // Define a callback function for later on.\n",
       "    function toolbar_event(event) {\n",
       "        return fig.toolbar_button_onclick(event['data']);\n",
       "    }\n",
       "    function toolbar_mouse_event(event) {\n",
       "        return fig.toolbar_button_onmouseover(event['data']);\n",
       "    }\n",
       "\n",
       "    for(var toolbar_ind in mpl.toolbar_items) {\n",
       "        var name = mpl.toolbar_items[toolbar_ind][0];\n",
       "        var tooltip = mpl.toolbar_items[toolbar_ind][1];\n",
       "        var image = mpl.toolbar_items[toolbar_ind][2];\n",
       "        var method_name = mpl.toolbar_items[toolbar_ind][3];\n",
       "\n",
       "        if (!name) {\n",
       "            // put a spacer in here.\n",
       "            continue;\n",
       "        }\n",
       "        var button = $('<button/>');\n",
       "        button.addClass('ui-button ui-widget ui-state-default ui-corner-all ' +\n",
       "                        'ui-button-icon-only');\n",
       "        button.attr('role', 'button');\n",
       "        button.attr('aria-disabled', 'false');\n",
       "        button.click(method_name, toolbar_event);\n",
       "        button.mouseover(tooltip, toolbar_mouse_event);\n",
       "\n",
       "        var icon_img = $('<span/>');\n",
       "        icon_img.addClass('ui-button-icon-primary ui-icon');\n",
       "        icon_img.addClass(image);\n",
       "        icon_img.addClass('ui-corner-all');\n",
       "\n",
       "        var tooltip_span = $('<span/>');\n",
       "        tooltip_span.addClass('ui-button-text');\n",
       "        tooltip_span.html(tooltip);\n",
       "\n",
       "        button.append(icon_img);\n",
       "        button.append(tooltip_span);\n",
       "\n",
       "        nav_element.append(button);\n",
       "    }\n",
       "\n",
       "    var fmt_picker_span = $('<span/>');\n",
       "\n",
       "    var fmt_picker = $('<select/>');\n",
       "    fmt_picker.addClass('mpl-toolbar-option ui-widget ui-widget-content');\n",
       "    fmt_picker_span.append(fmt_picker);\n",
       "    nav_element.append(fmt_picker_span);\n",
       "    this.format_dropdown = fmt_picker[0];\n",
       "\n",
       "    for (var ind in mpl.extensions) {\n",
       "        var fmt = mpl.extensions[ind];\n",
       "        var option = $(\n",
       "            '<option/>', {selected: fmt === mpl.default_extension}).html(fmt);\n",
       "        fmt_picker.append(option)\n",
       "    }\n",
       "\n",
       "    // Add hover states to the ui-buttons\n",
       "    $( \".ui-button\" ).hover(\n",
       "        function() { $(this).addClass(\"ui-state-hover\");},\n",
       "        function() { $(this).removeClass(\"ui-state-hover\");}\n",
       "    );\n",
       "\n",
       "    var status_bar = $('<span class=\"mpl-message\"/>');\n",
       "    nav_element.append(status_bar);\n",
       "    this.message = status_bar[0];\n",
       "}\n",
       "\n",
       "mpl.figure.prototype.request_resize = function(x_pixels, y_pixels) {\n",
       "    // Request matplotlib to resize the figure. Matplotlib will then trigger a resize in the client,\n",
       "    // which will in turn request a refresh of the image.\n",
       "    this.send_message('resize', {'width': x_pixels, 'height': y_pixels});\n",
       "}\n",
       "\n",
       "mpl.figure.prototype.send_message = function(type, properties) {\n",
       "    properties['type'] = type;\n",
       "    properties['figure_id'] = this.id;\n",
       "    this.ws.send(JSON.stringify(properties));\n",
       "}\n",
       "\n",
       "mpl.figure.prototype.send_draw_message = function() {\n",
       "    if (!this.waiting) {\n",
       "        this.waiting = true;\n",
       "        this.ws.send(JSON.stringify({type: \"draw\", figure_id: this.id}));\n",
       "    }\n",
       "}\n",
       "\n",
       "\n",
       "mpl.figure.prototype.handle_save = function(fig, msg) {\n",
       "    var format_dropdown = fig.format_dropdown;\n",
       "    var format = format_dropdown.options[format_dropdown.selectedIndex].value;\n",
       "    fig.ondownload(fig, format);\n",
       "}\n",
       "\n",
       "\n",
       "mpl.figure.prototype.handle_resize = function(fig, msg) {\n",
       "    var size = msg['size'];\n",
       "    if (size[0] != fig.canvas.width || size[1] != fig.canvas.height) {\n",
       "        fig._resize_canvas(size[0], size[1]);\n",
       "        fig.send_message(\"refresh\", {});\n",
       "    };\n",
       "}\n",
       "\n",
       "mpl.figure.prototype.handle_rubberband = function(fig, msg) {\n",
       "    var x0 = msg['x0'] / mpl.ratio;\n",
       "    var y0 = (fig.canvas.height - msg['y0']) / mpl.ratio;\n",
       "    var x1 = msg['x1'] / mpl.ratio;\n",
       "    var y1 = (fig.canvas.height - msg['y1']) / mpl.ratio;\n",
       "    x0 = Math.floor(x0) + 0.5;\n",
       "    y0 = Math.floor(y0) + 0.5;\n",
       "    x1 = Math.floor(x1) + 0.5;\n",
       "    y1 = Math.floor(y1) + 0.5;\n",
       "    var min_x = Math.min(x0, x1);\n",
       "    var min_y = Math.min(y0, y1);\n",
       "    var width = Math.abs(x1 - x0);\n",
       "    var height = Math.abs(y1 - y0);\n",
       "\n",
       "    fig.rubberband_context.clearRect(\n",
       "        0, 0, fig.canvas.width, fig.canvas.height);\n",
       "\n",
       "    fig.rubberband_context.strokeRect(min_x, min_y, width, height);\n",
       "}\n",
       "\n",
       "mpl.figure.prototype.handle_figure_label = function(fig, msg) {\n",
       "    // Updates the figure title.\n",
       "    fig.header.textContent = msg['label'];\n",
       "}\n",
       "\n",
       "mpl.figure.prototype.handle_cursor = function(fig, msg) {\n",
       "    var cursor = msg['cursor'];\n",
       "    switch(cursor)\n",
       "    {\n",
       "    case 0:\n",
       "        cursor = 'pointer';\n",
       "        break;\n",
       "    case 1:\n",
       "        cursor = 'default';\n",
       "        break;\n",
       "    case 2:\n",
       "        cursor = 'crosshair';\n",
       "        break;\n",
       "    case 3:\n",
       "        cursor = 'move';\n",
       "        break;\n",
       "    }\n",
       "    fig.rubberband_canvas.style.cursor = cursor;\n",
       "}\n",
       "\n",
       "mpl.figure.prototype.handle_message = function(fig, msg) {\n",
       "    fig.message.textContent = msg['message'];\n",
       "}\n",
       "\n",
       "mpl.figure.prototype.handle_draw = function(fig, msg) {\n",
       "    // Request the server to send over a new figure.\n",
       "    fig.send_draw_message();\n",
       "}\n",
       "\n",
       "mpl.figure.prototype.handle_image_mode = function(fig, msg) {\n",
       "    fig.image_mode = msg['mode'];\n",
       "}\n",
       "\n",
       "mpl.figure.prototype.updated_canvas_event = function() {\n",
       "    // Called whenever the canvas gets updated.\n",
       "    this.send_message(\"ack\", {});\n",
       "}\n",
       "\n",
       "// A function to construct a web socket function for onmessage handling.\n",
       "// Called in the figure constructor.\n",
       "mpl.figure.prototype._make_on_message_function = function(fig) {\n",
       "    return function socket_on_message(evt) {\n",
       "        if (evt.data instanceof Blob) {\n",
       "            /* FIXME: We get \"Resource interpreted as Image but\n",
       "             * transferred with MIME type text/plain:\" errors on\n",
       "             * Chrome.  But how to set the MIME type?  It doesn't seem\n",
       "             * to be part of the websocket stream */\n",
       "            evt.data.type = \"image/png\";\n",
       "\n",
       "            /* Free the memory for the previous frames */\n",
       "            if (fig.imageObj.src) {\n",
       "                (window.URL || window.webkitURL).revokeObjectURL(\n",
       "                    fig.imageObj.src);\n",
       "            }\n",
       "\n",
       "            fig.imageObj.src = (window.URL || window.webkitURL).createObjectURL(\n",
       "                evt.data);\n",
       "            fig.updated_canvas_event();\n",
       "            fig.waiting = false;\n",
       "            return;\n",
       "        }\n",
       "        else if (typeof evt.data === 'string' && evt.data.slice(0, 21) == \"data:image/png;base64\") {\n",
       "            fig.imageObj.src = evt.data;\n",
       "            fig.updated_canvas_event();\n",
       "            fig.waiting = false;\n",
       "            return;\n",
       "        }\n",
       "\n",
       "        var msg = JSON.parse(evt.data);\n",
       "        var msg_type = msg['type'];\n",
       "\n",
       "        // Call the  \"handle_{type}\" callback, which takes\n",
       "        // the figure and JSON message as its only arguments.\n",
       "        try {\n",
       "            var callback = fig[\"handle_\" + msg_type];\n",
       "        } catch (e) {\n",
       "            console.log(\"No handler for the '\" + msg_type + \"' message type: \", msg);\n",
       "            return;\n",
       "        }\n",
       "\n",
       "        if (callback) {\n",
       "            try {\n",
       "                // console.log(\"Handling '\" + msg_type + \"' message: \", msg);\n",
       "                callback(fig, msg);\n",
       "            } catch (e) {\n",
       "                console.log(\"Exception inside the 'handler_\" + msg_type + \"' callback:\", e, e.stack, msg);\n",
       "            }\n",
       "        }\n",
       "    };\n",
       "}\n",
       "\n",
       "// from http://stackoverflow.com/questions/1114465/getting-mouse-location-in-canvas\n",
       "mpl.findpos = function(e) {\n",
       "    //this section is from http://www.quirksmode.org/js/events_properties.html\n",
       "    var targ;\n",
       "    if (!e)\n",
       "        e = window.event;\n",
       "    if (e.target)\n",
       "        targ = e.target;\n",
       "    else if (e.srcElement)\n",
       "        targ = e.srcElement;\n",
       "    if (targ.nodeType == 3) // defeat Safari bug\n",
       "        targ = targ.parentNode;\n",
       "\n",
       "    // jQuery normalizes the pageX and pageY\n",
       "    // pageX,Y are the mouse positions relative to the document\n",
       "    // offset() returns the position of the element relative to the document\n",
       "    var x = e.pageX - $(targ).offset().left;\n",
       "    var y = e.pageY - $(targ).offset().top;\n",
       "\n",
       "    return {\"x\": x, \"y\": y};\n",
       "};\n",
       "\n",
       "/*\n",
       " * return a copy of an object with only non-object keys\n",
       " * we need this to avoid circular references\n",
       " * http://stackoverflow.com/a/24161582/3208463\n",
       " */\n",
       "function simpleKeys (original) {\n",
       "  return Object.keys(original).reduce(function (obj, key) {\n",
       "    if (typeof original[key] !== 'object')\n",
       "        obj[key] = original[key]\n",
       "    return obj;\n",
       "  }, {});\n",
       "}\n",
       "\n",
       "mpl.figure.prototype.mouse_event = function(event, name) {\n",
       "    var canvas_pos = mpl.findpos(event)\n",
       "\n",
       "    if (name === 'button_press')\n",
       "    {\n",
       "        this.canvas.focus();\n",
       "        this.canvas_div.focus();\n",
       "    }\n",
       "\n",
       "    var x = canvas_pos.x * mpl.ratio;\n",
       "    var y = canvas_pos.y * mpl.ratio;\n",
       "\n",
       "    this.send_message(name, {x: x, y: y, button: event.button,\n",
       "                             step: event.step,\n",
       "                             guiEvent: simpleKeys(event)});\n",
       "\n",
       "    /* This prevents the web browser from automatically changing to\n",
       "     * the text insertion cursor when the button is pressed.  We want\n",
       "     * to control all of the cursor setting manually through the\n",
       "     * 'cursor' event from matplotlib */\n",
       "    event.preventDefault();\n",
       "    return false;\n",
       "}\n",
       "\n",
       "mpl.figure.prototype._key_event_extra = function(event, name) {\n",
       "    // Handle any extra behaviour associated with a key event\n",
       "}\n",
       "\n",
       "mpl.figure.prototype.key_event = function(event, name) {\n",
       "\n",
       "    // Prevent repeat events\n",
       "    if (name == 'key_press')\n",
       "    {\n",
       "        if (event.which === this._key)\n",
       "            return;\n",
       "        else\n",
       "            this._key = event.which;\n",
       "    }\n",
       "    if (name == 'key_release')\n",
       "        this._key = null;\n",
       "\n",
       "    var value = '';\n",
       "    if (event.ctrlKey && event.which != 17)\n",
       "        value += \"ctrl+\";\n",
       "    if (event.altKey && event.which != 18)\n",
       "        value += \"alt+\";\n",
       "    if (event.shiftKey && event.which != 16)\n",
       "        value += \"shift+\";\n",
       "\n",
       "    value += 'k';\n",
       "    value += event.which.toString();\n",
       "\n",
       "    this._key_event_extra(event, name);\n",
       "\n",
       "    this.send_message(name, {key: value,\n",
       "                             guiEvent: simpleKeys(event)});\n",
       "    return false;\n",
       "}\n",
       "\n",
       "mpl.figure.prototype.toolbar_button_onclick = function(name) {\n",
       "    if (name == 'download') {\n",
       "        this.handle_save(this, null);\n",
       "    } else {\n",
       "        this.send_message(\"toolbar_button\", {name: name});\n",
       "    }\n",
       "};\n",
       "\n",
       "mpl.figure.prototype.toolbar_button_onmouseover = function(tooltip) {\n",
       "    this.message.textContent = tooltip;\n",
       "};\n",
       "mpl.toolbar_items = [[\"Home\", \"Reset original view\", \"fa fa-home icon-home\", \"home\"], [\"Back\", \"Back to  previous view\", \"fa fa-arrow-left icon-arrow-left\", \"back\"], [\"Forward\", \"Forward to next view\", \"fa fa-arrow-right icon-arrow-right\", \"forward\"], [\"\", \"\", \"\", \"\"], [\"Pan\", \"Pan axes with left mouse, zoom with right\", \"fa fa-arrows icon-move\", \"pan\"], [\"Zoom\", \"Zoom to rectangle\", \"fa fa-square-o icon-check-empty\", \"zoom\"], [\"\", \"\", \"\", \"\"], [\"Download\", \"Download plot\", \"fa fa-floppy-o icon-save\", \"download\"]];\n",
       "\n",
       "mpl.extensions = [\"eps\", \"jpeg\", \"pdf\", \"png\", \"ps\", \"raw\", \"svg\", \"tif\"];\n",
       "\n",
       "mpl.default_extension = \"png\";var comm_websocket_adapter = function(comm) {\n",
       "    // Create a \"websocket\"-like object which calls the given IPython comm\n",
       "    // object with the appropriate methods. Currently this is a non binary\n",
       "    // socket, so there is still some room for performance tuning.\n",
       "    var ws = {};\n",
       "\n",
       "    ws.close = function() {\n",
       "        comm.close()\n",
       "    };\n",
       "    ws.send = function(m) {\n",
       "        //console.log('sending', m);\n",
       "        comm.send(m);\n",
       "    };\n",
       "    // Register the callback with on_msg.\n",
       "    comm.on_msg(function(msg) {\n",
       "        //console.log('receiving', msg['content']['data'], msg);\n",
       "        // Pass the mpl event to the overriden (by mpl) onmessage function.\n",
       "        ws.onmessage(msg['content']['data'])\n",
       "    });\n",
       "    return ws;\n",
       "}\n",
       "\n",
       "mpl.mpl_figure_comm = function(comm, msg) {\n",
       "    // This is the function which gets called when the mpl process\n",
       "    // starts-up an IPython Comm through the \"matplotlib\" channel.\n",
       "\n",
       "    var id = msg.content.data.id;\n",
       "    // Get hold of the div created by the display call when the Comm\n",
       "    // socket was opened in Python.\n",
       "    var element = $(\"#\" + id);\n",
       "    var ws_proxy = comm_websocket_adapter(comm)\n",
       "\n",
       "    function ondownload(figure, format) {\n",
       "        window.open(figure.imageObj.src);\n",
       "    }\n",
       "\n",
       "    var fig = new mpl.figure(id, ws_proxy,\n",
       "                           ondownload,\n",
       "                           element.get(0));\n",
       "\n",
       "    // Call onopen now - mpl needs it, as it is assuming we've passed it a real\n",
       "    // web socket which is closed, not our websocket->open comm proxy.\n",
       "    ws_proxy.onopen();\n",
       "\n",
       "    fig.parent_element = element.get(0);\n",
       "    fig.cell_info = mpl.find_output_cell(\"<div id='\" + id + \"'></div>\");\n",
       "    if (!fig.cell_info) {\n",
       "        console.error(\"Failed to find cell for figure\", id, fig);\n",
       "        return;\n",
       "    }\n",
       "\n",
       "    var output_index = fig.cell_info[2]\n",
       "    var cell = fig.cell_info[0];\n",
       "\n",
       "};\n",
       "\n",
       "mpl.figure.prototype.handle_close = function(fig, msg) {\n",
       "    var width = fig.canvas.width/mpl.ratio\n",
       "    fig.root.unbind('remove')\n",
       "\n",
       "    // Update the output cell to use the data from the current canvas.\n",
       "    fig.push_to_output();\n",
       "    var dataURL = fig.canvas.toDataURL();\n",
       "    // Re-enable the keyboard manager in IPython - without this line, in FF,\n",
       "    // the notebook keyboard shortcuts fail.\n",
       "    IPython.keyboard_manager.enable()\n",
       "    $(fig.parent_element).html('<img src=\"' + dataURL + '\" width=\"' + width + '\">');\n",
       "    fig.close_ws(fig, msg);\n",
       "}\n",
       "\n",
       "mpl.figure.prototype.close_ws = function(fig, msg){\n",
       "    fig.send_message('closing', msg);\n",
       "    // fig.ws.close()\n",
       "}\n",
       "\n",
       "mpl.figure.prototype.push_to_output = function(remove_interactive) {\n",
       "    // Turn the data on the canvas into data in the output cell.\n",
       "    var width = this.canvas.width/mpl.ratio\n",
       "    var dataURL = this.canvas.toDataURL();\n",
       "    this.cell_info[1]['text/html'] = '<img src=\"' + dataURL + '\" width=\"' + width + '\">';\n",
       "}\n",
       "\n",
       "mpl.figure.prototype.updated_canvas_event = function() {\n",
       "    // Tell IPython that the notebook contents must change.\n",
       "    IPython.notebook.set_dirty(true);\n",
       "    this.send_message(\"ack\", {});\n",
       "    var fig = this;\n",
       "    // Wait a second, then push the new image to the DOM so\n",
       "    // that it is saved nicely (might be nice to debounce this).\n",
       "    setTimeout(function () { fig.push_to_output() }, 1000);\n",
       "}\n",
       "\n",
       "mpl.figure.prototype._init_toolbar = function() {\n",
       "    var fig = this;\n",
       "\n",
       "    var nav_element = $('<div/>')\n",
       "    nav_element.attr('style', 'width: 100%');\n",
       "    this.root.append(nav_element);\n",
       "\n",
       "    // Define a callback function for later on.\n",
       "    function toolbar_event(event) {\n",
       "        return fig.toolbar_button_onclick(event['data']);\n",
       "    }\n",
       "    function toolbar_mouse_event(event) {\n",
       "        return fig.toolbar_button_onmouseover(event['data']);\n",
       "    }\n",
       "\n",
       "    for(var toolbar_ind in mpl.toolbar_items){\n",
       "        var name = mpl.toolbar_items[toolbar_ind][0];\n",
       "        var tooltip = mpl.toolbar_items[toolbar_ind][1];\n",
       "        var image = mpl.toolbar_items[toolbar_ind][2];\n",
       "        var method_name = mpl.toolbar_items[toolbar_ind][3];\n",
       "\n",
       "        if (!name) { continue; };\n",
       "\n",
       "        var button = $('<button class=\"btn btn-default\" href=\"#\" title=\"' + name + '\"><i class=\"fa ' + image + ' fa-lg\"></i></button>');\n",
       "        button.click(method_name, toolbar_event);\n",
       "        button.mouseover(tooltip, toolbar_mouse_event);\n",
       "        nav_element.append(button);\n",
       "    }\n",
       "\n",
       "    // Add the status bar.\n",
       "    var status_bar = $('<span class=\"mpl-message\" style=\"text-align:right; float: right;\"/>');\n",
       "    nav_element.append(status_bar);\n",
       "    this.message = status_bar[0];\n",
       "\n",
       "    // Add the close button to the window.\n",
       "    var buttongrp = $('<div class=\"btn-group inline pull-right\"></div>');\n",
       "    var button = $('<button class=\"btn btn-mini btn-primary\" href=\"#\" title=\"Stop Interaction\"><i class=\"fa fa-power-off icon-remove icon-large\"></i></button>');\n",
       "    button.click(function (evt) { fig.handle_close(fig, {}); } );\n",
       "    button.mouseover('Stop Interaction', toolbar_mouse_event);\n",
       "    buttongrp.append(button);\n",
       "    var titlebar = this.root.find($('.ui-dialog-titlebar'));\n",
       "    titlebar.prepend(buttongrp);\n",
       "}\n",
       "\n",
       "mpl.figure.prototype._root_extra_style = function(el){\n",
       "    var fig = this\n",
       "    el.on(\"remove\", function(){\n",
       "\tfig.close_ws(fig, {});\n",
       "    });\n",
       "}\n",
       "\n",
       "mpl.figure.prototype._canvas_extra_style = function(el){\n",
       "    // this is important to make the div 'focusable\n",
       "    el.attr('tabindex', 0)\n",
       "    // reach out to IPython and tell the keyboard manager to turn it's self\n",
       "    // off when our div gets focus\n",
       "\n",
       "    // location in version 3\n",
       "    if (IPython.notebook.keyboard_manager) {\n",
       "        IPython.notebook.keyboard_manager.register_events(el);\n",
       "    }\n",
       "    else {\n",
       "        // location in version 2\n",
       "        IPython.keyboard_manager.register_events(el);\n",
       "    }\n",
       "\n",
       "}\n",
       "\n",
       "mpl.figure.prototype._key_event_extra = function(event, name) {\n",
       "    var manager = IPython.notebook.keyboard_manager;\n",
       "    if (!manager)\n",
       "        manager = IPython.keyboard_manager;\n",
       "\n",
       "    // Check for shift+enter\n",
       "    if (event.shiftKey && event.which == 13) {\n",
       "        this.canvas_div.blur();\n",
       "        event.shiftKey = false;\n",
       "        // Send a \"J\" for go to next cell\n",
       "        event.which = 74;\n",
       "        event.keyCode = 74;\n",
       "        manager.command_mode();\n",
       "        manager.handle_keydown(event);\n",
       "    }\n",
       "}\n",
       "\n",
       "mpl.figure.prototype.handle_save = function(fig, msg) {\n",
       "    fig.ondownload(fig, null);\n",
       "}\n",
       "\n",
       "\n",
       "mpl.find_output_cell = function(html_output) {\n",
       "    // Return the cell and output element which can be found *uniquely* in the notebook.\n",
       "    // Note - this is a bit hacky, but it is done because the \"notebook_saving.Notebook\"\n",
       "    // IPython event is triggered only after the cells have been serialised, which for\n",
       "    // our purposes (turning an active figure into a static one), is too late.\n",
       "    var cells = IPython.notebook.get_cells();\n",
       "    var ncells = cells.length;\n",
       "    for (var i=0; i<ncells; i++) {\n",
       "        var cell = cells[i];\n",
       "        if (cell.cell_type === 'code'){\n",
       "            for (var j=0; j<cell.output_area.outputs.length; j++) {\n",
       "                var data = cell.output_area.outputs[j];\n",
       "                if (data.data) {\n",
       "                    // IPython >= 3 moved mimebundle to data attribute of output\n",
       "                    data = data.data;\n",
       "                }\n",
       "                if (data['text/html'] == html_output) {\n",
       "                    return [cell, data, j];\n",
       "                }\n",
       "            }\n",
       "        }\n",
       "    }\n",
       "}\n",
       "\n",
       "// Register the function which deals with the matplotlib target/channel.\n",
       "// The kernel may be null if the page has been refreshed.\n",
       "if (IPython.notebook.kernel != null) {\n",
       "    IPython.notebook.kernel.comm_manager.register_target('matplotlib', mpl.mpl_figure_comm);\n",
       "}\n"
      ],
      "text/plain": [
       "<IPython.core.display.Javascript object>"
      ]
     },
     "metadata": {},
     "output_type": "display_data"
    },
    {
     "data": {
      "text/html": [
       "<img src=\"data:image/png;base64,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\" width=\"640\">"
      ],
      "text/plain": [
       "<IPython.core.display.HTML object>"
      ]
     },
     "metadata": {},
     "output_type": "display_data"
    },
    {
     "data": {
      "application/javascript": [
       "/* Put everything inside the global mpl namespace */\n",
       "window.mpl = {};\n",
       "\n",
       "\n",
       "mpl.get_websocket_type = function() {\n",
       "    if (typeof(WebSocket) !== 'undefined') {\n",
       "        return WebSocket;\n",
       "    } else if (typeof(MozWebSocket) !== 'undefined') {\n",
       "        return MozWebSocket;\n",
       "    } else {\n",
       "        alert('Your browser does not have WebSocket support.' +\n",
       "              'Please try Chrome, Safari or Firefox ≥ 6. ' +\n",
       "              'Firefox 4 and 5 are also supported but you ' +\n",
       "              'have to enable WebSockets in about:config.');\n",
       "    };\n",
       "}\n",
       "\n",
       "mpl.figure = function(figure_id, websocket, ondownload, parent_element) {\n",
       "    this.id = figure_id;\n",
       "\n",
       "    this.ws = websocket;\n",
       "\n",
       "    this.supports_binary = (this.ws.binaryType != undefined);\n",
       "\n",
       "    if (!this.supports_binary) {\n",
       "        var warnings = document.getElementById(\"mpl-warnings\");\n",
       "        if (warnings) {\n",
       "            warnings.style.display = 'block';\n",
       "            warnings.textContent = (\n",
       "                \"This browser does not support binary websocket messages. \" +\n",
       "                    \"Performance may be slow.\");\n",
       "        }\n",
       "    }\n",
       "\n",
       "    this.imageObj = new Image();\n",
       "\n",
       "    this.context = undefined;\n",
       "    this.message = undefined;\n",
       "    this.canvas = undefined;\n",
       "    this.rubberband_canvas = undefined;\n",
       "    this.rubberband_context = undefined;\n",
       "    this.format_dropdown = undefined;\n",
       "\n",
       "    this.image_mode = 'full';\n",
       "\n",
       "    this.root = $('<div/>');\n",
       "    this._root_extra_style(this.root)\n",
       "    this.root.attr('style', 'display: inline-block');\n",
       "\n",
       "    $(parent_element).append(this.root);\n",
       "\n",
       "    this._init_header(this);\n",
       "    this._init_canvas(this);\n",
       "    this._init_toolbar(this);\n",
       "\n",
       "    var fig = this;\n",
       "\n",
       "    this.waiting = false;\n",
       "\n",
       "    this.ws.onopen =  function () {\n",
       "            fig.send_message(\"supports_binary\", {value: fig.supports_binary});\n",
       "            fig.send_message(\"send_image_mode\", {});\n",
       "            if (mpl.ratio != 1) {\n",
       "                fig.send_message(\"set_dpi_ratio\", {'dpi_ratio': mpl.ratio});\n",
       "            }\n",
       "            fig.send_message(\"refresh\", {});\n",
       "        }\n",
       "\n",
       "    this.imageObj.onload = function() {\n",
       "            if (fig.image_mode == 'full') {\n",
       "                // Full images could contain transparency (where diff images\n",
       "                // almost always do), so we need to clear the canvas so that\n",
       "                // there is no ghosting.\n",
       "                fig.context.clearRect(0, 0, fig.canvas.width, fig.canvas.height);\n",
       "            }\n",
       "            fig.context.drawImage(fig.imageObj, 0, 0);\n",
       "        };\n",
       "\n",
       "    this.imageObj.onunload = function() {\n",
       "        fig.ws.close();\n",
       "    }\n",
       "\n",
       "    this.ws.onmessage = this._make_on_message_function(this);\n",
       "\n",
       "    this.ondownload = ondownload;\n",
       "}\n",
       "\n",
       "mpl.figure.prototype._init_header = function() {\n",
       "    var titlebar = $(\n",
       "        '<div class=\"ui-dialog-titlebar ui-widget-header ui-corner-all ' +\n",
       "        'ui-helper-clearfix\"/>');\n",
       "    var titletext = $(\n",
       "        '<div class=\"ui-dialog-title\" style=\"width: 100%; ' +\n",
       "        'text-align: center; padding: 3px;\"/>');\n",
       "    titlebar.append(titletext)\n",
       "    this.root.append(titlebar);\n",
       "    this.header = titletext[0];\n",
       "}\n",
       "\n",
       "\n",
       "\n",
       "mpl.figure.prototype._canvas_extra_style = function(canvas_div) {\n",
       "\n",
       "}\n",
       "\n",
       "\n",
       "mpl.figure.prototype._root_extra_style = function(canvas_div) {\n",
       "\n",
       "}\n",
       "\n",
       "mpl.figure.prototype._init_canvas = function() {\n",
       "    var fig = this;\n",
       "\n",
       "    var canvas_div = $('<div/>');\n",
       "\n",
       "    canvas_div.attr('style', 'position: relative; clear: both; outline: 0');\n",
       "\n",
       "    function canvas_keyboard_event(event) {\n",
       "        return fig.key_event(event, event['data']);\n",
       "    }\n",
       "\n",
       "    canvas_div.keydown('key_press', canvas_keyboard_event);\n",
       "    canvas_div.keyup('key_release', canvas_keyboard_event);\n",
       "    this.canvas_div = canvas_div\n",
       "    this._canvas_extra_style(canvas_div)\n",
       "    this.root.append(canvas_div);\n",
       "\n",
       "    var canvas = $('<canvas/>');\n",
       "    canvas.addClass('mpl-canvas');\n",
       "    canvas.attr('style', \"left: 0; top: 0; z-index: 0; outline: 0\")\n",
       "\n",
       "    this.canvas = canvas[0];\n",
       "    this.context = canvas[0].getContext(\"2d\");\n",
       "\n",
       "    var backingStore = this.context.backingStorePixelRatio ||\n",
       "\tthis.context.webkitBackingStorePixelRatio ||\n",
       "\tthis.context.mozBackingStorePixelRatio ||\n",
       "\tthis.context.msBackingStorePixelRatio ||\n",
       "\tthis.context.oBackingStorePixelRatio ||\n",
       "\tthis.context.backingStorePixelRatio || 1;\n",
       "\n",
       "    mpl.ratio = (window.devicePixelRatio || 1) / backingStore;\n",
       "\n",
       "    var rubberband = $('<canvas/>');\n",
       "    rubberband.attr('style', \"position: absolute; left: 0; top: 0; z-index: 1;\")\n",
       "\n",
       "    var pass_mouse_events = true;\n",
       "\n",
       "    canvas_div.resizable({\n",
       "        start: function(event, ui) {\n",
       "            pass_mouse_events = false;\n",
       "        },\n",
       "        resize: function(event, ui) {\n",
       "            fig.request_resize(ui.size.width, ui.size.height);\n",
       "        },\n",
       "        stop: function(event, ui) {\n",
       "            pass_mouse_events = true;\n",
       "            fig.request_resize(ui.size.width, ui.size.height);\n",
       "        },\n",
       "    });\n",
       "\n",
       "    function mouse_event_fn(event) {\n",
       "        if (pass_mouse_events)\n",
       "            return fig.mouse_event(event, event['data']);\n",
       "    }\n",
       "\n",
       "    rubberband.mousedown('button_press', mouse_event_fn);\n",
       "    rubberband.mouseup('button_release', mouse_event_fn);\n",
       "    // Throttle sequential mouse events to 1 every 20ms.\n",
       "    rubberband.mousemove('motion_notify', mouse_event_fn);\n",
       "\n",
       "    rubberband.mouseenter('figure_enter', mouse_event_fn);\n",
       "    rubberband.mouseleave('figure_leave', mouse_event_fn);\n",
       "\n",
       "    canvas_div.on(\"wheel\", function (event) {\n",
       "        event = event.originalEvent;\n",
       "        event['data'] = 'scroll'\n",
       "        if (event.deltaY < 0) {\n",
       "            event.step = 1;\n",
       "        } else {\n",
       "            event.step = -1;\n",
       "        }\n",
       "        mouse_event_fn(event);\n",
       "    });\n",
       "\n",
       "    canvas_div.append(canvas);\n",
       "    canvas_div.append(rubberband);\n",
       "\n",
       "    this.rubberband = rubberband;\n",
       "    this.rubberband_canvas = rubberband[0];\n",
       "    this.rubberband_context = rubberband[0].getContext(\"2d\");\n",
       "    this.rubberband_context.strokeStyle = \"#000000\";\n",
       "\n",
       "    this._resize_canvas = function(width, height) {\n",
       "        // Keep the size of the canvas, canvas container, and rubber band\n",
       "        // canvas in synch.\n",
       "        canvas_div.css('width', width)\n",
       "        canvas_div.css('height', height)\n",
       "\n",
       "        canvas.attr('width', width * mpl.ratio);\n",
       "        canvas.attr('height', height * mpl.ratio);\n",
       "        canvas.attr('style', 'width: ' + width + 'px; height: ' + height + 'px;');\n",
       "\n",
       "        rubberband.attr('width', width);\n",
       "        rubberband.attr('height', height);\n",
       "    }\n",
       "\n",
       "    // Set the figure to an initial 600x600px, this will subsequently be updated\n",
       "    // upon first draw.\n",
       "    this._resize_canvas(600, 600);\n",
       "\n",
       "    // Disable right mouse context menu.\n",
       "    $(this.rubberband_canvas).bind(\"contextmenu\",function(e){\n",
       "        return false;\n",
       "    });\n",
       "\n",
       "    function set_focus () {\n",
       "        canvas.focus();\n",
       "        canvas_div.focus();\n",
       "    }\n",
       "\n",
       "    window.setTimeout(set_focus, 100);\n",
       "}\n",
       "\n",
       "mpl.figure.prototype._init_toolbar = function() {\n",
       "    var fig = this;\n",
       "\n",
       "    var nav_element = $('<div/>')\n",
       "    nav_element.attr('style', 'width: 100%');\n",
       "    this.root.append(nav_element);\n",
       "\n",
       "    // Define a callback function for later on.\n",
       "    function toolbar_event(event) {\n",
       "        return fig.toolbar_button_onclick(event['data']);\n",
       "    }\n",
       "    function toolbar_mouse_event(event) {\n",
       "        return fig.toolbar_button_onmouseover(event['data']);\n",
       "    }\n",
       "\n",
       "    for(var toolbar_ind in mpl.toolbar_items) {\n",
       "        var name = mpl.toolbar_items[toolbar_ind][0];\n",
       "        var tooltip = mpl.toolbar_items[toolbar_ind][1];\n",
       "        var image = mpl.toolbar_items[toolbar_ind][2];\n",
       "        var method_name = mpl.toolbar_items[toolbar_ind][3];\n",
       "\n",
       "        if (!name) {\n",
       "            // put a spacer in here.\n",
       "            continue;\n",
       "        }\n",
       "        var button = $('<button/>');\n",
       "        button.addClass('ui-button ui-widget ui-state-default ui-corner-all ' +\n",
       "                        'ui-button-icon-only');\n",
       "        button.attr('role', 'button');\n",
       "        button.attr('aria-disabled', 'false');\n",
       "        button.click(method_name, toolbar_event);\n",
       "        button.mouseover(tooltip, toolbar_mouse_event);\n",
       "\n",
       "        var icon_img = $('<span/>');\n",
       "        icon_img.addClass('ui-button-icon-primary ui-icon');\n",
       "        icon_img.addClass(image);\n",
       "        icon_img.addClass('ui-corner-all');\n",
       "\n",
       "        var tooltip_span = $('<span/>');\n",
       "        tooltip_span.addClass('ui-button-text');\n",
       "        tooltip_span.html(tooltip);\n",
       "\n",
       "        button.append(icon_img);\n",
       "        button.append(tooltip_span);\n",
       "\n",
       "        nav_element.append(button);\n",
       "    }\n",
       "\n",
       "    var fmt_picker_span = $('<span/>');\n",
       "\n",
       "    var fmt_picker = $('<select/>');\n",
       "    fmt_picker.addClass('mpl-toolbar-option ui-widget ui-widget-content');\n",
       "    fmt_picker_span.append(fmt_picker);\n",
       "    nav_element.append(fmt_picker_span);\n",
       "    this.format_dropdown = fmt_picker[0];\n",
       "\n",
       "    for (var ind in mpl.extensions) {\n",
       "        var fmt = mpl.extensions[ind];\n",
       "        var option = $(\n",
       "            '<option/>', {selected: fmt === mpl.default_extension}).html(fmt);\n",
       "        fmt_picker.append(option)\n",
       "    }\n",
       "\n",
       "    // Add hover states to the ui-buttons\n",
       "    $( \".ui-button\" ).hover(\n",
       "        function() { $(this).addClass(\"ui-state-hover\");},\n",
       "        function() { $(this).removeClass(\"ui-state-hover\");}\n",
       "    );\n",
       "\n",
       "    var status_bar = $('<span class=\"mpl-message\"/>');\n",
       "    nav_element.append(status_bar);\n",
       "    this.message = status_bar[0];\n",
       "}\n",
       "\n",
       "mpl.figure.prototype.request_resize = function(x_pixels, y_pixels) {\n",
       "    // Request matplotlib to resize the figure. Matplotlib will then trigger a resize in the client,\n",
       "    // which will in turn request a refresh of the image.\n",
       "    this.send_message('resize', {'width': x_pixels, 'height': y_pixels});\n",
       "}\n",
       "\n",
       "mpl.figure.prototype.send_message = function(type, properties) {\n",
       "    properties['type'] = type;\n",
       "    properties['figure_id'] = this.id;\n",
       "    this.ws.send(JSON.stringify(properties));\n",
       "}\n",
       "\n",
       "mpl.figure.prototype.send_draw_message = function() {\n",
       "    if (!this.waiting) {\n",
       "        this.waiting = true;\n",
       "        this.ws.send(JSON.stringify({type: \"draw\", figure_id: this.id}));\n",
       "    }\n",
       "}\n",
       "\n",
       "\n",
       "mpl.figure.prototype.handle_save = function(fig, msg) {\n",
       "    var format_dropdown = fig.format_dropdown;\n",
       "    var format = format_dropdown.options[format_dropdown.selectedIndex].value;\n",
       "    fig.ondownload(fig, format);\n",
       "}\n",
       "\n",
       "\n",
       "mpl.figure.prototype.handle_resize = function(fig, msg) {\n",
       "    var size = msg['size'];\n",
       "    if (size[0] != fig.canvas.width || size[1] != fig.canvas.height) {\n",
       "        fig._resize_canvas(size[0], size[1]);\n",
       "        fig.send_message(\"refresh\", {});\n",
       "    };\n",
       "}\n",
       "\n",
       "mpl.figure.prototype.handle_rubberband = function(fig, msg) {\n",
       "    var x0 = msg['x0'] / mpl.ratio;\n",
       "    var y0 = (fig.canvas.height - msg['y0']) / mpl.ratio;\n",
       "    var x1 = msg['x1'] / mpl.ratio;\n",
       "    var y1 = (fig.canvas.height - msg['y1']) / mpl.ratio;\n",
       "    x0 = Math.floor(x0) + 0.5;\n",
       "    y0 = Math.floor(y0) + 0.5;\n",
       "    x1 = Math.floor(x1) + 0.5;\n",
       "    y1 = Math.floor(y1) + 0.5;\n",
       "    var min_x = Math.min(x0, x1);\n",
       "    var min_y = Math.min(y0, y1);\n",
       "    var width = Math.abs(x1 - x0);\n",
       "    var height = Math.abs(y1 - y0);\n",
       "\n",
       "    fig.rubberband_context.clearRect(\n",
       "        0, 0, fig.canvas.width, fig.canvas.height);\n",
       "\n",
       "    fig.rubberband_context.strokeRect(min_x, min_y, width, height);\n",
       "}\n",
       "\n",
       "mpl.figure.prototype.handle_figure_label = function(fig, msg) {\n",
       "    // Updates the figure title.\n",
       "    fig.header.textContent = msg['label'];\n",
       "}\n",
       "\n",
       "mpl.figure.prototype.handle_cursor = function(fig, msg) {\n",
       "    var cursor = msg['cursor'];\n",
       "    switch(cursor)\n",
       "    {\n",
       "    case 0:\n",
       "        cursor = 'pointer';\n",
       "        break;\n",
       "    case 1:\n",
       "        cursor = 'default';\n",
       "        break;\n",
       "    case 2:\n",
       "        cursor = 'crosshair';\n",
       "        break;\n",
       "    case 3:\n",
       "        cursor = 'move';\n",
       "        break;\n",
       "    }\n",
       "    fig.rubberband_canvas.style.cursor = cursor;\n",
       "}\n",
       "\n",
       "mpl.figure.prototype.handle_message = function(fig, msg) {\n",
       "    fig.message.textContent = msg['message'];\n",
       "}\n",
       "\n",
       "mpl.figure.prototype.handle_draw = function(fig, msg) {\n",
       "    // Request the server to send over a new figure.\n",
       "    fig.send_draw_message();\n",
       "}\n",
       "\n",
       "mpl.figure.prototype.handle_image_mode = function(fig, msg) {\n",
       "    fig.image_mode = msg['mode'];\n",
       "}\n",
       "\n",
       "mpl.figure.prototype.updated_canvas_event = function() {\n",
       "    // Called whenever the canvas gets updated.\n",
       "    this.send_message(\"ack\", {});\n",
       "}\n",
       "\n",
       "// A function to construct a web socket function for onmessage handling.\n",
       "// Called in the figure constructor.\n",
       "mpl.figure.prototype._make_on_message_function = function(fig) {\n",
       "    return function socket_on_message(evt) {\n",
       "        if (evt.data instanceof Blob) {\n",
       "            /* FIXME: We get \"Resource interpreted as Image but\n",
       "             * transferred with MIME type text/plain:\" errors on\n",
       "             * Chrome.  But how to set the MIME type?  It doesn't seem\n",
       "             * to be part of the websocket stream */\n",
       "            evt.data.type = \"image/png\";\n",
       "\n",
       "            /* Free the memory for the previous frames */\n",
       "            if (fig.imageObj.src) {\n",
       "                (window.URL || window.webkitURL).revokeObjectURL(\n",
       "                    fig.imageObj.src);\n",
       "            }\n",
       "\n",
       "            fig.imageObj.src = (window.URL || window.webkitURL).createObjectURL(\n",
       "                evt.data);\n",
       "            fig.updated_canvas_event();\n",
       "            fig.waiting = false;\n",
       "            return;\n",
       "        }\n",
       "        else if (typeof evt.data === 'string' && evt.data.slice(0, 21) == \"data:image/png;base64\") {\n",
       "            fig.imageObj.src = evt.data;\n",
       "            fig.updated_canvas_event();\n",
       "            fig.waiting = false;\n",
       "            return;\n",
       "        }\n",
       "\n",
       "        var msg = JSON.parse(evt.data);\n",
       "        var msg_type = msg['type'];\n",
       "\n",
       "        // Call the  \"handle_{type}\" callback, which takes\n",
       "        // the figure and JSON message as its only arguments.\n",
       "        try {\n",
       "            var callback = fig[\"handle_\" + msg_type];\n",
       "        } catch (e) {\n",
       "            console.log(\"No handler for the '\" + msg_type + \"' message type: \", msg);\n",
       "            return;\n",
       "        }\n",
       "\n",
       "        if (callback) {\n",
       "            try {\n",
       "                // console.log(\"Handling '\" + msg_type + \"' message: \", msg);\n",
       "                callback(fig, msg);\n",
       "            } catch (e) {\n",
       "                console.log(\"Exception inside the 'handler_\" + msg_type + \"' callback:\", e, e.stack, msg);\n",
       "            }\n",
       "        }\n",
       "    };\n",
       "}\n",
       "\n",
       "// from http://stackoverflow.com/questions/1114465/getting-mouse-location-in-canvas\n",
       "mpl.findpos = function(e) {\n",
       "    //this section is from http://www.quirksmode.org/js/events_properties.html\n",
       "    var targ;\n",
       "    if (!e)\n",
       "        e = window.event;\n",
       "    if (e.target)\n",
       "        targ = e.target;\n",
       "    else if (e.srcElement)\n",
       "        targ = e.srcElement;\n",
       "    if (targ.nodeType == 3) // defeat Safari bug\n",
       "        targ = targ.parentNode;\n",
       "\n",
       "    // jQuery normalizes the pageX and pageY\n",
       "    // pageX,Y are the mouse positions relative to the document\n",
       "    // offset() returns the position of the element relative to the document\n",
       "    var x = e.pageX - $(targ).offset().left;\n",
       "    var y = e.pageY - $(targ).offset().top;\n",
       "\n",
       "    return {\"x\": x, \"y\": y};\n",
       "};\n",
       "\n",
       "/*\n",
       " * return a copy of an object with only non-object keys\n",
       " * we need this to avoid circular references\n",
       " * http://stackoverflow.com/a/24161582/3208463\n",
       " */\n",
       "function simpleKeys (original) {\n",
       "  return Object.keys(original).reduce(function (obj, key) {\n",
       "    if (typeof original[key] !== 'object')\n",
       "        obj[key] = original[key]\n",
       "    return obj;\n",
       "  }, {});\n",
       "}\n",
       "\n",
       "mpl.figure.prototype.mouse_event = function(event, name) {\n",
       "    var canvas_pos = mpl.findpos(event)\n",
       "\n",
       "    if (name === 'button_press')\n",
       "    {\n",
       "        this.canvas.focus();\n",
       "        this.canvas_div.focus();\n",
       "    }\n",
       "\n",
       "    var x = canvas_pos.x * mpl.ratio;\n",
       "    var y = canvas_pos.y * mpl.ratio;\n",
       "\n",
       "    this.send_message(name, {x: x, y: y, button: event.button,\n",
       "                             step: event.step,\n",
       "                             guiEvent: simpleKeys(event)});\n",
       "\n",
       "    /* This prevents the web browser from automatically changing to\n",
       "     * the text insertion cursor when the button is pressed.  We want\n",
       "     * to control all of the cursor setting manually through the\n",
       "     * 'cursor' event from matplotlib */\n",
       "    event.preventDefault();\n",
       "    return false;\n",
       "}\n",
       "\n",
       "mpl.figure.prototype._key_event_extra = function(event, name) {\n",
       "    // Handle any extra behaviour associated with a key event\n",
       "}\n",
       "\n",
       "mpl.figure.prototype.key_event = function(event, name) {\n",
       "\n",
       "    // Prevent repeat events\n",
       "    if (name == 'key_press')\n",
       "    {\n",
       "        if (event.which === this._key)\n",
       "            return;\n",
       "        else\n",
       "            this._key = event.which;\n",
       "    }\n",
       "    if (name == 'key_release')\n",
       "        this._key = null;\n",
       "\n",
       "    var value = '';\n",
       "    if (event.ctrlKey && event.which != 17)\n",
       "        value += \"ctrl+\";\n",
       "    if (event.altKey && event.which != 18)\n",
       "        value += \"alt+\";\n",
       "    if (event.shiftKey && event.which != 16)\n",
       "        value += \"shift+\";\n",
       "\n",
       "    value += 'k';\n",
       "    value += event.which.toString();\n",
       "\n",
       "    this._key_event_extra(event, name);\n",
       "\n",
       "    this.send_message(name, {key: value,\n",
       "                             guiEvent: simpleKeys(event)});\n",
       "    return false;\n",
       "}\n",
       "\n",
       "mpl.figure.prototype.toolbar_button_onclick = function(name) {\n",
       "    if (name == 'download') {\n",
       "        this.handle_save(this, null);\n",
       "    } else {\n",
       "        this.send_message(\"toolbar_button\", {name: name});\n",
       "    }\n",
       "};\n",
       "\n",
       "mpl.figure.prototype.toolbar_button_onmouseover = function(tooltip) {\n",
       "    this.message.textContent = tooltip;\n",
       "};\n",
       "mpl.toolbar_items = [[\"Home\", \"Reset original view\", \"fa fa-home icon-home\", \"home\"], [\"Back\", \"Back to  previous view\", \"fa fa-arrow-left icon-arrow-left\", \"back\"], [\"Forward\", \"Forward to next view\", \"fa fa-arrow-right icon-arrow-right\", \"forward\"], [\"\", \"\", \"\", \"\"], [\"Pan\", \"Pan axes with left mouse, zoom with right\", \"fa fa-arrows icon-move\", \"pan\"], [\"Zoom\", \"Zoom to rectangle\", \"fa fa-square-o icon-check-empty\", \"zoom\"], [\"\", \"\", \"\", \"\"], [\"Download\", \"Download plot\", \"fa fa-floppy-o icon-save\", \"download\"]];\n",
       "\n",
       "mpl.extensions = [\"eps\", \"jpeg\", \"pdf\", \"png\", \"ps\", \"raw\", \"svg\", \"tif\"];\n",
       "\n",
       "mpl.default_extension = \"png\";var comm_websocket_adapter = function(comm) {\n",
       "    // Create a \"websocket\"-like object which calls the given IPython comm\n",
       "    // object with the appropriate methods. Currently this is a non binary\n",
       "    // socket, so there is still some room for performance tuning.\n",
       "    var ws = {};\n",
       "\n",
       "    ws.close = function() {\n",
       "        comm.close()\n",
       "    };\n",
       "    ws.send = function(m) {\n",
       "        //console.log('sending', m);\n",
       "        comm.send(m);\n",
       "    };\n",
       "    // Register the callback with on_msg.\n",
       "    comm.on_msg(function(msg) {\n",
       "        //console.log('receiving', msg['content']['data'], msg);\n",
       "        // Pass the mpl event to the overriden (by mpl) onmessage function.\n",
       "        ws.onmessage(msg['content']['data'])\n",
       "    });\n",
       "    return ws;\n",
       "}\n",
       "\n",
       "mpl.mpl_figure_comm = function(comm, msg) {\n",
       "    // This is the function which gets called when the mpl process\n",
       "    // starts-up an IPython Comm through the \"matplotlib\" channel.\n",
       "\n",
       "    var id = msg.content.data.id;\n",
       "    // Get hold of the div created by the display call when the Comm\n",
       "    // socket was opened in Python.\n",
       "    var element = $(\"#\" + id);\n",
       "    var ws_proxy = comm_websocket_adapter(comm)\n",
       "\n",
       "    function ondownload(figure, format) {\n",
       "        window.open(figure.imageObj.src);\n",
       "    }\n",
       "\n",
       "    var fig = new mpl.figure(id, ws_proxy,\n",
       "                           ondownload,\n",
       "                           element.get(0));\n",
       "\n",
       "    // Call onopen now - mpl needs it, as it is assuming we've passed it a real\n",
       "    // web socket which is closed, not our websocket->open comm proxy.\n",
       "    ws_proxy.onopen();\n",
       "\n",
       "    fig.parent_element = element.get(0);\n",
       "    fig.cell_info = mpl.find_output_cell(\"<div id='\" + id + \"'></div>\");\n",
       "    if (!fig.cell_info) {\n",
       "        console.error(\"Failed to find cell for figure\", id, fig);\n",
       "        return;\n",
       "    }\n",
       "\n",
       "    var output_index = fig.cell_info[2]\n",
       "    var cell = fig.cell_info[0];\n",
       "\n",
       "};\n",
       "\n",
       "mpl.figure.prototype.handle_close = function(fig, msg) {\n",
       "    var width = fig.canvas.width/mpl.ratio\n",
       "    fig.root.unbind('remove')\n",
       "\n",
       "    // Update the output cell to use the data from the current canvas.\n",
       "    fig.push_to_output();\n",
       "    var dataURL = fig.canvas.toDataURL();\n",
       "    // Re-enable the keyboard manager in IPython - without this line, in FF,\n",
       "    // the notebook keyboard shortcuts fail.\n",
       "    IPython.keyboard_manager.enable()\n",
       "    $(fig.parent_element).html('<img src=\"' + dataURL + '\" width=\"' + width + '\">');\n",
       "    fig.close_ws(fig, msg);\n",
       "}\n",
       "\n",
       "mpl.figure.prototype.close_ws = function(fig, msg){\n",
       "    fig.send_message('closing', msg);\n",
       "    // fig.ws.close()\n",
       "}\n",
       "\n",
       "mpl.figure.prototype.push_to_output = function(remove_interactive) {\n",
       "    // Turn the data on the canvas into data in the output cell.\n",
       "    var width = this.canvas.width/mpl.ratio\n",
       "    var dataURL = this.canvas.toDataURL();\n",
       "    this.cell_info[1]['text/html'] = '<img src=\"' + dataURL + '\" width=\"' + width + '\">';\n",
       "}\n",
       "\n",
       "mpl.figure.prototype.updated_canvas_event = function() {\n",
       "    // Tell IPython that the notebook contents must change.\n",
       "    IPython.notebook.set_dirty(true);\n",
       "    this.send_message(\"ack\", {});\n",
       "    var fig = this;\n",
       "    // Wait a second, then push the new image to the DOM so\n",
       "    // that it is saved nicely (might be nice to debounce this).\n",
       "    setTimeout(function () { fig.push_to_output() }, 1000);\n",
       "}\n",
       "\n",
       "mpl.figure.prototype._init_toolbar = function() {\n",
       "    var fig = this;\n",
       "\n",
       "    var nav_element = $('<div/>')\n",
       "    nav_element.attr('style', 'width: 100%');\n",
       "    this.root.append(nav_element);\n",
       "\n",
       "    // Define a callback function for later on.\n",
       "    function toolbar_event(event) {\n",
       "        return fig.toolbar_button_onclick(event['data']);\n",
       "    }\n",
       "    function toolbar_mouse_event(event) {\n",
       "        return fig.toolbar_button_onmouseover(event['data']);\n",
       "    }\n",
       "\n",
       "    for(var toolbar_ind in mpl.toolbar_items){\n",
       "        var name = mpl.toolbar_items[toolbar_ind][0];\n",
       "        var tooltip = mpl.toolbar_items[toolbar_ind][1];\n",
       "        var image = mpl.toolbar_items[toolbar_ind][2];\n",
       "        var method_name = mpl.toolbar_items[toolbar_ind][3];\n",
       "\n",
       "        if (!name) { continue; };\n",
       "\n",
       "        var button = $('<button class=\"btn btn-default\" href=\"#\" title=\"' + name + '\"><i class=\"fa ' + image + ' fa-lg\"></i></button>');\n",
       "        button.click(method_name, toolbar_event);\n",
       "        button.mouseover(tooltip, toolbar_mouse_event);\n",
       "        nav_element.append(button);\n",
       "    }\n",
       "\n",
       "    // Add the status bar.\n",
       "    var status_bar = $('<span class=\"mpl-message\" style=\"text-align:right; float: right;\"/>');\n",
       "    nav_element.append(status_bar);\n",
       "    this.message = status_bar[0];\n",
       "\n",
       "    // Add the close button to the window.\n",
       "    var buttongrp = $('<div class=\"btn-group inline pull-right\"></div>');\n",
       "    var button = $('<button class=\"btn btn-mini btn-primary\" href=\"#\" title=\"Stop Interaction\"><i class=\"fa fa-power-off icon-remove icon-large\"></i></button>');\n",
       "    button.click(function (evt) { fig.handle_close(fig, {}); } );\n",
       "    button.mouseover('Stop Interaction', toolbar_mouse_event);\n",
       "    buttongrp.append(button);\n",
       "    var titlebar = this.root.find($('.ui-dialog-titlebar'));\n",
       "    titlebar.prepend(buttongrp);\n",
       "}\n",
       "\n",
       "mpl.figure.prototype._root_extra_style = function(el){\n",
       "    var fig = this\n",
       "    el.on(\"remove\", function(){\n",
       "\tfig.close_ws(fig, {});\n",
       "    });\n",
       "}\n",
       "\n",
       "mpl.figure.prototype._canvas_extra_style = function(el){\n",
       "    // this is important to make the div 'focusable\n",
       "    el.attr('tabindex', 0)\n",
       "    // reach out to IPython and tell the keyboard manager to turn it's self\n",
       "    // off when our div gets focus\n",
       "\n",
       "    // location in version 3\n",
       "    if (IPython.notebook.keyboard_manager) {\n",
       "        IPython.notebook.keyboard_manager.register_events(el);\n",
       "    }\n",
       "    else {\n",
       "        // location in version 2\n",
       "        IPython.keyboard_manager.register_events(el);\n",
       "    }\n",
       "\n",
       "}\n",
       "\n",
       "mpl.figure.prototype._key_event_extra = function(event, name) {\n",
       "    var manager = IPython.notebook.keyboard_manager;\n",
       "    if (!manager)\n",
       "        manager = IPython.keyboard_manager;\n",
       "\n",
       "    // Check for shift+enter\n",
       "    if (event.shiftKey && event.which == 13) {\n",
       "        this.canvas_div.blur();\n",
       "        event.shiftKey = false;\n",
       "        // Send a \"J\" for go to next cell\n",
       "        event.which = 74;\n",
       "        event.keyCode = 74;\n",
       "        manager.command_mode();\n",
       "        manager.handle_keydown(event);\n",
       "    }\n",
       "}\n",
       "\n",
       "mpl.figure.prototype.handle_save = function(fig, msg) {\n",
       "    fig.ondownload(fig, null);\n",
       "}\n",
       "\n",
       "\n",
       "mpl.find_output_cell = function(html_output) {\n",
       "    // Return the cell and output element which can be found *uniquely* in the notebook.\n",
       "    // Note - this is a bit hacky, but it is done because the \"notebook_saving.Notebook\"\n",
       "    // IPython event is triggered only after the cells have been serialised, which for\n",
       "    // our purposes (turning an active figure into a static one), is too late.\n",
       "    var cells = IPython.notebook.get_cells();\n",
       "    var ncells = cells.length;\n",
       "    for (var i=0; i<ncells; i++) {\n",
       "        var cell = cells[i];\n",
       "        if (cell.cell_type === 'code'){\n",
       "            for (var j=0; j<cell.output_area.outputs.length; j++) {\n",
       "                var data = cell.output_area.outputs[j];\n",
       "                if (data.data) {\n",
       "                    // IPython >= 3 moved mimebundle to data attribute of output\n",
       "                    data = data.data;\n",
       "                }\n",
       "                if (data['text/html'] == html_output) {\n",
       "                    return [cell, data, j];\n",
       "                }\n",
       "            }\n",
       "        }\n",
       "    }\n",
       "}\n",
       "\n",
       "// Register the function which deals with the matplotlib target/channel.\n",
       "// The kernel may be null if the page has been refreshed.\n",
       "if (IPython.notebook.kernel != null) {\n",
       "    IPython.notebook.kernel.comm_manager.register_target('matplotlib', mpl.mpl_figure_comm);\n",
       "}\n"
      ],
      "text/plain": [
       "<IPython.core.display.Javascript object>"
      ]
     },
     "metadata": {},
     "output_type": "display_data"
    },
    {
     "data": {
      "text/html": [
       "<img src=\"data:image/png;base64,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\" width=\"640\">"
      ],
      "text/plain": [
       "<IPython.core.display.HTML object>"
      ]
     },
     "metadata": {},
     "output_type": "display_data"
    }
   ],
   "source": [
    "import matplotlib\n",
    "%matplotlib notebook\n",
    "title = [\"H_core\", \"SAP\", \"MINAO\", \"NN\"]\n",
    "norm = None\n",
    "norm = matplotlib.colors.Normalize(vmin=0, vmax=1)\n",
    "for i, error in enumerate([dP_1e, dP_atom, dP_minao, dP_NN]):\n",
    "    plt.figure()\n",
    "    #plt.title(title[i])\n",
    "    matrix_error(error, vmin=0, vmax=1, ButadienMode=True)\n",
    "    plt.savefig(figures_path + \"MatrixError_\" + title[i] + \".png\")\n",
    "#plt.show()   "
   ]
  },
  {
   "cell_type": "code",
   "execution_count": 15,
   "metadata": {},
   "outputs": [
    {
     "data": {
      "image/png": "[encoded data removed]",
      "text/plain": [
       "<matplotlib.figure.Figure at 0x7fc90cd3e9b0>"
      ]
     },
     "metadata": {},
     "output_type": "display_data"
    }
   ],
   "source": [
    "flatten = lambda x, y: list(x) + list(y)\n",
    "\n",
    "def transform(x):\n",
    "    return reduce(flatten, map(lambda y: y.flatten(), x))\n",
    "\n",
    "fig = plt.figure()\n",
    "\n",
    "expected = transform(P_expected)\n",
    "labels = [\"Hcore\", \"SAP\", \"MINAO\"]\n",
    "for i, guess in enumerate(map(transform, [P_1e, P_atom, P_minao])):\n",
    "    \n",
    "    #fig = plt.figure()\n",
    "    plt.scatter(expected, guess, marker=\"x\", label=labels[i])\n",
    "    plt.ylabel(\"prediction\")\n",
    "    plt.xlabel(\"actual\")\n",
    "    #plt.axis('equal')\n",
    "    #plt.set_aspect('equal', 'box')\n",
    "    lower, upper = -2, 2.5\n",
    "    plt.axis([lower, upper, lower, upper])\n",
    "    #plt.title(labels[i])\n",
    "    \n",
    "plt.legend()    \n",
    "\n",
    "fig.savefig(figures_path + \"ClassicsScatter.png\")\n",
    "plt.show()"
   ]
  },
  {
   "cell_type": "markdown",
   "metadata": {},
   "source": [
    "## Check: was the calculation consistent?\n",
    "Comapre newly calculated p vs P_test."
   ]
  },
  {
   "cell_type": "code",
   "execution_count": 16,
   "metadata": {
    "scrolled": true
   },
   "outputs": [
    {
     "name": "stderr",
     "output_type": "stream",
     "text": [
      "Warn: Ipython shell catchs sys.args\n"
     ]
    },
    {
     "name": "stdout",
     "output_type": "stream",
     "text": [
      "Calculating: 1/50\n"
     ]
    },
    {
     "name": "stderr",
     "output_type": "stream",
     "text": [
      "Warn: Ipython shell catchs sys.args\n"
     ]
    },
    {
     "name": "stdout",
     "output_type": "stream",
     "text": [
      "Calculating: 2/50\n"
     ]
    },
    {
     "name": "stderr",
     "output_type": "stream",
     "text": [
      "Warn: Ipython shell catchs sys.args\n",
      "Warn: Ipython shell catchs sys.args\n"
     ]
    },
    {
     "name": "stdout",
     "output_type": "stream",
     "text": [
      "Calculating: 3/50\n",
      "Calculating: 4/50\n"
     ]
    },
    {
     "name": "stderr",
     "output_type": "stream",
     "text": [
      "Warn: Ipython shell catchs sys.args\n"
     ]
    },
    {
     "name": "stdout",
     "output_type": "stream",
     "text": [
      "Calculating: 5/50\n"
     ]
    },
    {
     "name": "stderr",
     "output_type": "stream",
     "text": [
      "Warn: Ipython shell catchs sys.args\n"
     ]
    },
    {
     "name": "stdout",
     "output_type": "stream",
     "text": [
      "Calculating: 6/50\n"
     ]
    },
    {
     "name": "stderr",
     "output_type": "stream",
     "text": [
      "Warn: Ipython shell catchs sys.args\n"
     ]
    },
    {
     "name": "stdout",
     "output_type": "stream",
     "text": [
      "Calculating: 7/50\n"
     ]
    },
    {
     "name": "stderr",
     "output_type": "stream",
     "text": [
      "Warn: Ipython shell catchs sys.args\n"
     ]
    },
    {
     "name": "stdout",
     "output_type": "stream",
     "text": [
      "Calculating: 8/50\n"
     ]
    },
    {
     "name": "stderr",
     "output_type": "stream",
     "text": [
      "Warn: Ipython shell catchs sys.args\n"
     ]
    },
    {
     "name": "stdout",
     "output_type": "stream",
     "text": [
      "Calculating: 9/50\n"
     ]
    },
    {
     "name": "stderr",
     "output_type": "stream",
     "text": [
      "Warn: Ipython shell catchs sys.args\n"
     ]
    },
    {
     "name": "stdout",
     "output_type": "stream",
     "text": [
      "Calculating: 10/50\n"
     ]
    },
    {
     "name": "stderr",
     "output_type": "stream",
     "text": [
      "Warn: Ipython shell catchs sys.args\n"
     ]
    },
    {
     "name": "stdout",
     "output_type": "stream",
     "text": [
      "Calculating: 11/50\n"
     ]
    },
    {
     "name": "stderr",
     "output_type": "stream",
     "text": [
      "Warn: Ipython shell catchs sys.args\n"
     ]
    },
    {
     "name": "stdout",
     "output_type": "stream",
     "text": [
      "Calculating: 12/50\n"
     ]
    },
    {
     "name": "stderr",
     "output_type": "stream",
     "text": [
      "Warn: Ipython shell catchs sys.args\n"
     ]
    },
    {
     "name": "stdout",
     "output_type": "stream",
     "text": [
      "Calculating: 13/50\n"
     ]
    },
    {
     "name": "stderr",
     "output_type": "stream",
     "text": [
      "Warn: Ipython shell catchs sys.args\n"
     ]
    },
    {
     "name": "stdout",
     "output_type": "stream",
     "text": [
      "Calculating: 14/50\n"
     ]
    },
    {
     "name": "stderr",
     "output_type": "stream",
     "text": [
      "Warn: Ipython shell catchs sys.args\n"
     ]
    },
    {
     "name": "stdout",
     "output_type": "stream",
     "text": [
      "Calculating: 15/50\n"
     ]
    },
    {
     "name": "stderr",
     "output_type": "stream",
     "text": [
      "Warn: Ipython shell catchs sys.args\n"
     ]
    },
    {
     "name": "stdout",
     "output_type": "stream",
     "text": [
      "Calculating: 16/50\n"
     ]
    },
    {
     "name": "stderr",
     "output_type": "stream",
     "text": [
      "Warn: Ipython shell catchs sys.args\n",
      "Warn: Ipython shell catchs sys.args\n"
     ]
    },
    {
     "name": "stdout",
     "output_type": "stream",
     "text": [
      "Calculating: 17/50\n"
     ]
    },
    {
     "name": "stderr",
     "output_type": "stream",
     "text": [
      "Warn: Ipython shell catchs sys.args\n"
     ]
    },
    {
     "name": "stdout",
     "output_type": "stream",
     "text": [
      "Calculating: 18/50\n",
      "Calculating: 19/50\n"
     ]
    },
    {
     "name": "stderr",
     "output_type": "stream",
     "text": [
      "Warn: Ipython shell catchs sys.args\n"
     ]
    },
    {
     "name": "stdout",
     "output_type": "stream",
     "text": [
      "Calculating: 20/50\n"
     ]
    },
    {
     "name": "stderr",
     "output_type": "stream",
     "text": [
      "Warn: Ipython shell catchs sys.args\n"
     ]
    },
    {
     "name": "stdout",
     "output_type": "stream",
     "text": [
      "Calculating: 21/50\n"
     ]
    },
    {
     "name": "stderr",
     "output_type": "stream",
     "text": [
      "Warn: Ipython shell catchs sys.args\n"
     ]
    },
    {
     "name": "stdout",
     "output_type": "stream",
     "text": [
      "Calculating: 22/50\n"
     ]
    },
    {
     "name": "stderr",
     "output_type": "stream",
     "text": [
      "Warn: Ipython shell catchs sys.args\n",
      "Warn: Ipython shell catchs sys.args\n"
     ]
    },
    {
     "name": "stdout",
     "output_type": "stream",
     "text": [
      "Calculating: 23/50\n",
      "Calculating: 24/50\n"
     ]
    },
    {
     "name": "stderr",
     "output_type": "stream",
     "text": [
      "Warn: Ipython shell catchs sys.args\n"
     ]
    },
    {
     "name": "stdout",
     "output_type": "stream",
     "text": [
      "Calculating: 25/50\n"
     ]
    },
    {
     "name": "stderr",
     "output_type": "stream",
     "text": [
      "Warn: Ipython shell catchs sys.args\n"
     ]
    },
    {
     "name": "stdout",
     "output_type": "stream",
     "text": [
      "Calculating: 26/50\n"
     ]
    },
    {
     "name": "stderr",
     "output_type": "stream",
     "text": [
      "Warn: Ipython shell catchs sys.args\n"
     ]
    },
    {
     "name": "stdout",
     "output_type": "stream",
     "text": [
      "Calculating: 27/50\n"
     ]
    },
    {
     "name": "stderr",
     "output_type": "stream",
     "text": [
      "Warn: Ipython shell catchs sys.args\n"
     ]
    },
    {
     "name": "stdout",
     "output_type": "stream",
     "text": [
      "Calculating: 28/50\n"
     ]
    },
    {
     "name": "stderr",
     "output_type": "stream",
     "text": [
      "Warn: Ipython shell catchs sys.args\n",
      "Warn: Ipython shell catchs sys.args\n"
     ]
    },
    {
     "name": "stdout",
     "output_type": "stream",
     "text": [
      "Calculating: 29/50\n",
      "Calculating: 30/50\n"
     ]
    },
    {
     "name": "stderr",
     "output_type": "stream",
     "text": [
      "Warn: Ipython shell catchs sys.args\n",
      "Warn: Ipython shell catchs sys.args\n"
     ]
    },
    {
     "name": "stdout",
     "output_type": "stream",
     "text": [
      "Calculating: 31/50\n",
      "Calculating: 32/50\n"
     ]
    },
    {
     "name": "stderr",
     "output_type": "stream",
     "text": [
      "Warn: Ipython shell catchs sys.args\n"
     ]
    },
    {
     "name": "stdout",
     "output_type": "stream",
     "text": [
      "Calculating: 33/50\n"
     ]
    },
    {
     "name": "stderr",
     "output_type": "stream",
     "text": [
      "Warn: Ipython shell catchs sys.args\n"
     ]
    },
    {
     "name": "stdout",
     "output_type": "stream",
     "text": [
      "Calculating: 34/50\n"
     ]
    },
    {
     "name": "stderr",
     "output_type": "stream",
     "text": [
      "Warn: Ipython shell catchs sys.args\n",
      "Warn: Ipython shell catchs sys.args\n"
     ]
    },
    {
     "name": "stdout",
     "output_type": "stream",
     "text": [
      "Calculating: 35/50\n",
      "Calculating: 36/50\n"
     ]
    },
    {
     "name": "stderr",
     "output_type": "stream",
     "text": [
      "Warn: Ipython shell catchs sys.args\n",
      "Warn: Ipython shell catchs sys.args\n"
     ]
    },
    {
     "name": "stdout",
     "output_type": "stream",
     "text": [
      "Calculating: 37/50\n",
      "Calculating: 38/50\n"
     ]
    },
    {
     "name": "stderr",
     "output_type": "stream",
     "text": [
      "Warn: Ipython shell catchs sys.args\n",
      "Warn: Ipython shell catchs sys.args\n"
     ]
    },
    {
     "name": "stdout",
     "output_type": "stream",
     "text": [
      "Calculating: 39/50\n",
      "Calculating: 40/50\n"
     ]
    },
    {
     "name": "stderr",
     "output_type": "stream",
     "text": [
      "Warn: Ipython shell catchs sys.args\n"
     ]
    },
    {
     "name": "stdout",
     "output_type": "stream",
     "text": [
      "Calculating: 41/50\n",
      "Calculating: 42/50\n"
     ]
    },
    {
     "name": "stderr",
     "output_type": "stream",
     "text": [
      "Warn: Ipython shell catchs sys.args\n",
      "Warn: Ipython shell catchs sys.args\n"
     ]
    },
    {
     "name": "stdout",
     "output_type": "stream",
     "text": [
      "Calculating: 43/50\n",
      "Calculating: 44/50\n"
     ]
    },
    {
     "name": "stderr",
     "output_type": "stream",
     "text": [
      "Warn: Ipython shell catchs sys.args\n",
      "Warn: Ipython shell catchs sys.args\n",
      "Warn: Ipython shell catchs sys.args\n"
     ]
    },
    {
     "name": "stdout",
     "output_type": "stream",
     "text": [
      "Calculating: 45/50\n",
      "Calculating: 46/50\n"
     ]
    },
    {
     "name": "stderr",
     "output_type": "stream",
     "text": [
      "Warn: Ipython shell catchs sys.args\n",
      "Warn: Ipython shell catchs sys.args\n"
     ]
    },
    {
     "name": "stdout",
     "output_type": "stream",
     "text": [
      "Calculating: 47/50\n",
      "Calculating: 48/50\n"
     ]
    },
    {
     "name": "stderr",
     "output_type": "stream",
     "text": [
      "Warn: Ipython shell catchs sys.args\n"
     ]
    },
    {
     "name": "stdout",
     "output_type": "stream",
     "text": [
      "Calculating: 49/50\n",
      "Calculating: 50/50\n"
     ]
    },
    {
     "name": "stderr",
     "output_type": "stream",
     "text": [
      "Warn: Ipython shell catchs sys.args\n"
     ]
    }
   ],
   "source": [
    "from pyscf.scf import hf\n",
    "\n",
    "dim = 26\n",
    "\n",
    "number_of_samples = len(S_test)\n",
    "\n",
    "dP = np.zeros((dim, dim))\n",
    "\n",
    "for i, (molecule, p) in enumerate(zip(molecules_test, P_test)):\n",
    "    \n",
    "    mol = molecule.get_pyscf_molecule()\n",
    "    \n",
    "    print(\"Calculating: \" + str(i + 1) + \"/\" + str(number_of_samples))\n",
    "    \n",
    "    mf = hf.RHF(mol)\n",
    "    mf.verbose = 1\n",
    "    mf.kernel()\n",
    "    \n",
    "    p = p.reshape(dim, dim)\n",
    "    \n",
    "    dP += np.abs(p - mf.make_rdm1())\n",
    "\n",
    "dP /= number_of_samples\n"
   ]
  },
  {
   "cell_type": "code",
   "execution_count": 17,
   "metadata": {},
   "outputs": [
    {
     "data": {
      "image/png": "[encoded data removed]",
      "text/plain": [
       "<matplotlib.figure.Figure at 0x7fc902b02cf8>"
      ]
     },
     "metadata": {},
     "output_type": "display_data"
    }
   ],
   "source": [
    "plt.figure()\n",
    "matrix_error(dP)\n",
    "plt.show()"
   ]
  },
  {
   "cell_type": "markdown",
   "metadata": {},
   "source": [
    "## Physically motivated output activations\n",
    "As we suspect the high number of iterations may be due to pysically to unphysical values. Thus we willtransform the output."
   ]
  },
  {
   "cell_type": "markdown",
   "metadata": {},
   "source": [
    "### Sigmoid\n",
    "We will now try $\\sigma(x) * 2$ to frce the values to be be between 1 and 2."
   ]
  },
  {
   "cell_type": "code",
   "execution_count": 18,
   "metadata": {
    "scrolled": true
   },
   "outputs": [
    {
     "name": "stdout",
     "output_type": "stream",
     "text": [
      "[-] 2018-04-14 13:27:26: Setting up the graph ...\n",
      "[-] 2018-04-14 13:27:27: Starting network training ...\n",
      "[ ] 2018-04-14 13:27:27: Validation cost: 5.75984E-02. Diff to prev.: 1.0E+10\n",
      "[ ] 2018-04-14 13:27:27: Validation cost: 2.40465E-04. Diff to prev.: 5.7E-02\n",
      "[ ] 2018-04-14 13:27:27: Validation cost: 1.31009E-04. Diff to prev.: 1.1E-04\n",
      "[ ] 2018-04-14 13:27:28: Validation cost: 9.43881E-05. Diff to prev.: 3.7E-05\n",
      "[ ] 2018-04-14 13:27:28: Validation cost: 7.36083E-05. Diff to prev.: 2.1E-05\n",
      "[-] 2018-04-14 13:27:28: Convergence reached after 500 steps.\n",
      "[-] 2018-04-14 13:27:28: Test error: 6.60412E-05\n"
     ]
    }
   ],
   "source": [
    "from SCFInitialGuess.nn.training import train_network\n",
    "from SCFInitialGuess.nn.networks import EluTrNNN\n",
    "import tensorflow as tf\n",
    "\n",
    "class EluTrNNNSigmoid(EluTrNNN):\n",
    "    def _output_activation(self, preactivation):\n",
    "        \"\"\"Sigmoidal output activation.\"\"\"\n",
    "        return tf.nn.sigmoid(preactivation) * 4 - 2\n",
    "\n",
    "structure = [dim**2, 200, 100, dim**2]\n",
    "\n",
    "\n",
    "#tf.reset_default_graph()\n",
    "sigmoid_nn, sess_sigmoid = train_network(\n",
    "    EluTrNNNSigmoid(structure),\n",
    "    dataset,\n",
    "    evaluation_period=100,\n",
    "    mini_batch_size=20,\n",
    "    convergence_threshold=1e-5,\n",
    "    regularisation_parameter=1e-8\n",
    ")"
   ]
  },
  {
   "cell_type": "markdown",
   "metadata": {},
   "source": [
    "### McWheene Matrix Purification.\n",
    "We will try the McWheene transformation \n",
    "\n",
    "$$P \\rightarrow 3P^2 - 2P^3 $$\n",
    "\n",
    "as output activation. This transformation is used to force idempotence upon the density matrix."
   ]
  },
  {
   "cell_type": "code",
   "execution_count": 19,
   "metadata": {
    "scrolled": true
   },
   "outputs": [
    {
     "name": "stdout",
     "output_type": "stream",
     "text": [
      "[-] 2018-04-14 13:27:28: Setting up the graph ...\n",
      "[-] 2018-04-14 13:27:29: Starting network training ...\n",
      "[ ] 2018-04-14 13:27:29: Validation cost: 5.78293E-02. Diff to prev.: 1.0E+10\n",
      "[ ] 2018-04-14 13:27:29: Validation cost: 3.90753E-03. Diff to prev.: 5.4E-02\n",
      "[ ] 2018-04-14 13:27:30: Validation cost: 2.12885E-03. Diff to prev.: 1.8E-03\n",
      "[ ] 2018-04-14 13:27:30: Validation cost: 1.09122E-03. Diff to prev.: 1.0E-03\n",
      "[ ] 2018-04-14 13:27:31: Validation cost: 8.48045E-04. Diff to prev.: 2.4E-04\n",
      "[ ] 2018-04-14 13:27:31: Validation cost: 1.17711E-03. Diff to prev.: 3.3E-04\n",
      "[ ] 2018-04-14 13:27:31: Validation cost: 7.91718E-04. Diff to prev.: 3.9E-04\n",
      "[ ] 2018-04-14 13:27:32: Validation cost: 8.38954E-04. Diff to prev.: 4.7E-05\n",
      "[ ] 2018-04-14 13:27:32: Validation cost: 1.08433E-03. Diff to prev.: 2.5E-04\n",
      "[ ] 2018-04-14 13:27:32: Validation cost: 2.22667E-03. Diff to prev.: 1.1E-03\n",
      "[ ] 2018-04-14 13:27:33: Validation cost: 4.44978E-04. Diff to prev.: 1.8E-03\n",
      "[ ] 2018-04-14 13:27:33: Validation cost: 4.74863E-04. Diff to prev.: 3.0E-05\n",
      "[ ] 2018-04-14 13:27:34: Validation cost: 3.36515E-04. Diff to prev.: 1.4E-04\n",
      "[-] 2018-04-14 13:27:34: Convergence reached after 1300 steps.\n",
      "[-] 2018-04-14 13:27:34: Test error: 3.34095E-04\n"
     ]
    }
   ],
   "source": [
    "from SCFInitialGuess.nn.training import train_network\n",
    "from SCFInitialGuess.nn.networks import EluTrNNN\n",
    "import tensorflow as tf\n",
    "\n",
    "class EluTrNNNMcWheene(EluTrNNN):\n",
    "    def _output_activation(self, preactivation):\n",
    "        \"\"\"McWheene output transformation used as activaton.\"\"\"\n",
    "        \n",
    "        reshaped_pre = tf.reshape(preactivation, shape=[-1, dim, dim])\n",
    "    \n",
    "        # if 3D tensor and dims match, tf will ignore first dim!\n",
    "        squared = tf.matmul(\n",
    "            reshaped_pre, \n",
    "            reshaped_pre\n",
    "        )\n",
    "        \n",
    "        cubed = tf.matmul(\n",
    "            squared,\n",
    "            reshaped_pre\n",
    "        )\n",
    "        \n",
    "        out = 3 * squared - 2 * cubed\n",
    "        \n",
    "        return tf.reshape(out, shape=[-1, dim**2])\n",
    "\n",
    "structure = [dim**2, 200, 100, dim**2]\n",
    "\n",
    "#tf.reset_default_graph()\n",
    "mcwheene_nn, sess_mcwheeny = train_network(\n",
    "    EluTrNNNMcWheene(structure),\n",
    "    dataset,\n",
    "    evaluation_period=100,\n",
    "    mini_batch_size=20,\n",
    "    convergence_threshold=1e-5,\n",
    "    regularisation_parameter=1e-6\n",
    ")"
   ]
  },
  {
   "cell_type": "markdown",
   "metadata": {},
   "source": [
    "### Analysis\n"
   ]
  },
  {
   "cell_type": "code",
   "execution_count": 20,
   "metadata": {},
   "outputs": [
    {
     "data": {
      "image/png": "[encoded data removed]",
      "text/plain": [
       "<matplotlib.figure.Figure at 0x7fc8f05a8cc0>"
      ]
     },
     "metadata": {},
     "output_type": "display_data"
    }
   ],
   "source": [
    "# test dataset\n",
    "\n",
    "#original network\n",
    "plt.scatter(\n",
    "    np.array(dataset.testing[1]).flatten(),\n",
    "    np.array(\n",
    "        network.run(\n",
    "            sess, \n",
    "            dataset.testing[0]\n",
    "        )\n",
    "    ).flatten(), \n",
    "    marker=\"x\", \n",
    "    label=\"original\"\n",
    ")\n",
    "\n",
    "# sigmoid\n",
    "plt.scatter(\n",
    "    np.array(dataset.testing[1]).flatten(),\n",
    "    np.array(\n",
    "        sigmoid_nn.run(\n",
    "            sess_sigmoid, \n",
    "            dataset.testing[0]\n",
    "        )\n",
    "    ).flatten(), \n",
    "    marker=\"x\", \n",
    "    label=\"sigmoid\"\n",
    ")\n",
    "\n",
    "# mcwheene\n",
    "plt.scatter(\n",
    "    np.array(dataset.testing[1]).flatten(),\n",
    "    np.array(\n",
    "        mcwheene_nn.run(\n",
    "            sess_mcwheeny, \n",
    "            dataset.testing[0]\n",
    "        )\n",
    "    ).flatten(), \n",
    "    marker=\"x\", \n",
    "    label=\"McWheene\"\n",
    ")\n",
    "\n",
    "\n",
    "plt.legend()\n",
    "\n",
    "#lower, upper = -1, 2.5\n",
    "#plt.axis([lower, upper, lower, upper])\n",
    "plt.ylabel(\"prediction\")\n",
    "plt.xlabel(\"actual\")\n",
    "plt.show()"
   ]
  },
  {
   "cell_type": "code",
   "execution_count": 21,
   "metadata": {},
   "outputs": [
    {
     "name": "stderr",
     "output_type": "stream",
     "text": [
      "Warn: Ipython shell catchs sys.args\n"
     ]
    },
    {
     "name": "stdout",
     "output_type": "stream",
     "text": [
      "Calculating: 1/50\n"
     ]
    },
    {
     "ename": "FailedPreconditionError",
     "evalue": "Attempting to use uninitialized value hidden_layer_1_1/b\n\t [[Node: hidden_layer_1_1/b/read = Identity[T=DT_FLOAT, _class=[\"loc:@hidden_layer_1_1/b\"], _device=\"/job:localhost/replica:0/task:0/device:CPU:0\"](hidden_layer_1_1/b)]]\n\nCaused by op 'hidden_layer_1_1/b/read', defined at:\n  File \"/home/jo/anaconda3/lib/python3.6/runpy.py\", line 193, in _run_module_as_main\n    \"__main__\", mod_spec)\n  File \"/home/jo/anaconda3/lib/python3.6/runpy.py\", line 85, in _run_code\n    exec(code, run_globals)\n  File \"/home/jo/anaconda3/lib/python3.6/site-packages/ipykernel_launcher.py\", line 16, in <module>\n    app.launch_new_instance()\n  File \"/home/jo/anaconda3/lib/python3.6/site-packages/traitlets/config/application.py\", line 658, in launch_instance\n    app.start()\n  File \"/home/jo/anaconda3/lib/python3.6/site-packages/ipykernel/kernelapp.py\", line 478, in start\n    self.io_loop.start()\n  File \"/home/jo/anaconda3/lib/python3.6/site-packages/zmq/eventloop/ioloop.py\", line 177, in start\n    super(ZMQIOLoop, self).start()\n  File \"/home/jo/anaconda3/lib/python3.6/site-packages/tornado/ioloop.py\", line 888, in start\n    handler_func(fd_obj, events)\n  File \"/home/jo/anaconda3/lib/python3.6/site-packages/tornado/stack_context.py\", line 277, in null_wrapper\n    return fn(*args, **kwargs)\n  File \"/home/jo/anaconda3/lib/python3.6/site-packages/zmq/eventloop/zmqstream.py\", line 440, in _handle_events\n    self._handle_recv()\n  File \"/home/jo/anaconda3/lib/python3.6/site-packages/zmq/eventloop/zmqstream.py\", line 472, in _handle_recv\n    self._run_callback(callback, msg)\n  File \"/home/jo/anaconda3/lib/python3.6/site-packages/zmq/eventloop/zmqstream.py\", line 414, in _run_callback\n    callback(*args, **kwargs)\n  File \"/home/jo/anaconda3/lib/python3.6/site-packages/tornado/stack_context.py\", line 277, in null_wrapper\n    return fn(*args, **kwargs)\n  File \"/home/jo/anaconda3/lib/python3.6/site-packages/ipykernel/kernelbase.py\", line 283, in dispatcher\n    return self.dispatch_shell(stream, msg)\n  File \"/home/jo/anaconda3/lib/python3.6/site-packages/ipykernel/kernelbase.py\", line 233, in dispatch_shell\n    handler(stream, idents, msg)\n  File \"/home/jo/anaconda3/lib/python3.6/site-packages/ipykernel/kernelbase.py\", line 399, in execute_request\n    user_expressions, allow_stdin)\n  File \"/home/jo/anaconda3/lib/python3.6/site-packages/ipykernel/ipkernel.py\", line 208, in do_execute\n    res = shell.run_cell(code, store_history=store_history, silent=silent)\n  File \"/home/jo/anaconda3/lib/python3.6/site-packages/ipykernel/zmqshell.py\", line 537, in run_cell\n    return super(ZMQInteractiveShell, self).run_cell(*args, **kwargs)\n  File \"/home/jo/anaconda3/lib/python3.6/site-packages/IPython/core/interactiveshell.py\", line 2728, in run_cell\n    interactivity=interactivity, compiler=compiler, result=result)\n  File \"/home/jo/anaconda3/lib/python3.6/site-packages/IPython/core/interactiveshell.py\", line 2850, in run_ast_nodes\n    if self.run_code(code, result):\n  File \"/home/jo/anaconda3/lib/python3.6/site-packages/IPython/core/interactiveshell.py\", line 2910, in run_code\n    exec(code_obj, self.user_global_ns, self.user_ns)\n  File \"<ipython-input-18-bb74ce4bc465>\", line 20, in <module>\n    regularisation_parameter=1e-8\n  File \"/home/jo/Repos/SCFInitialGuess/SCFInitialGuess/nn/training.py\", line 285, in train_network\n    network_output = network.setup()\n  File \"/home/jo/Repos/SCFInitialGuess/SCFInitialGuess/nn/networks.py\", line 84, in setup\n    name=\"hidden_layer_\" + str(layer)\n  File \"/home/jo/Repos/SCFInitialGuess/SCFInitialGuess/nn/networks.py\", line 122, in _add_layer\n    name=\"b\"\n  File \"/home/jo/anaconda3/lib/python3.6/site-packages/tensorflow/python/ops/variables.py\", line 233, in __init__\n    constraint=constraint)\n  File \"/home/jo/anaconda3/lib/python3.6/site-packages/tensorflow/python/ops/variables.py\", line 381, in _init_from_args\n    self._snapshot = array_ops.identity(self._variable, name=\"read\")\n  File \"/home/jo/anaconda3/lib/python3.6/site-packages/tensorflow/python/ops/array_ops.py\", line 131, in identity\n    return gen_array_ops.identity(input, name=name)\n  File \"/home/jo/anaconda3/lib/python3.6/site-packages/tensorflow/python/ops/gen_array_ops.py\", line 2051, in identity\n    \"Identity\", input=input, name=name)\n  File \"/home/jo/anaconda3/lib/python3.6/site-packages/tensorflow/python/framework/op_def_library.py\", line 787, in _apply_op_helper\n    op_def=op_def)\n  File \"/home/jo/anaconda3/lib/python3.6/site-packages/tensorflow/python/framework/ops.py\", line 3271, in create_op\n    op_def=op_def)\n  File \"/home/jo/anaconda3/lib/python3.6/site-packages/tensorflow/python/framework/ops.py\", line 1650, in __init__\n    self._traceback = self._graph._extract_stack()  # pylint: disable=protected-access\n\nFailedPreconditionError (see above for traceback): Attempting to use uninitialized value hidden_layer_1_1/b\n\t [[Node: hidden_layer_1_1/b/read = Identity[T=DT_FLOAT, _class=[\"loc:@hidden_layer_1_1/b\"], _device=\"/job:localhost/replica:0/task:0/device:CPU:0\"](hidden_layer_1_1/b)]]\n",
     "output_type": "error",
     "traceback": [
      "\u001b[0;31m---------------------------------------------------------------------------\u001b[0m",
      "\u001b[0;31mFailedPreconditionError\u001b[0m                   Traceback (most recent call last)",
      "\u001b[0;32m~/anaconda3/lib/python3.6/site-packages/tensorflow/python/client/session.py\u001b[0m in \u001b[0;36m_do_call\u001b[0;34m(self, fn, *args)\u001b[0m\n\u001b[1;32m   1360\u001b[0m     \u001b[0;32mtry\u001b[0m\u001b[0;34m:\u001b[0m\u001b[0;34m\u001b[0m\u001b[0m\n\u001b[0;32m-> 1361\u001b[0;31m       \u001b[0;32mreturn\u001b[0m \u001b[0mfn\u001b[0m\u001b[0;34m(\u001b[0m\u001b[0;34m*\u001b[0m\u001b[0margs\u001b[0m\u001b[0;34m)\u001b[0m\u001b[0;34m\u001b[0m\u001b[0m\n\u001b[0m\u001b[1;32m   1362\u001b[0m     \u001b[0;32mexcept\u001b[0m \u001b[0merrors\u001b[0m\u001b[0;34m.\u001b[0m\u001b[0mOpError\u001b[0m \u001b[0;32mas\u001b[0m \u001b[0me\u001b[0m\u001b[0;34m:\u001b[0m\u001b[0;34m\u001b[0m\u001b[0m\n",
      "\u001b[0;32m~/anaconda3/lib/python3.6/site-packages/tensorflow/python/client/session.py\u001b[0m in \u001b[0;36m_run_fn\u001b[0;34m(session, feed_dict, fetch_list, target_list, options, run_metadata)\u001b[0m\n\u001b[1;32m   1339\u001b[0m           return tf_session.TF_Run(session, options, feed_dict, fetch_list,\n\u001b[0;32m-> 1340\u001b[0;31m                                    target_list, status, run_metadata)\n\u001b[0m\u001b[1;32m   1341\u001b[0m \u001b[0;34m\u001b[0m\u001b[0m\n",
      "\u001b[0;32m~/anaconda3/lib/python3.6/site-packages/tensorflow/python/framework/errors_impl.py\u001b[0m in \u001b[0;36m__exit__\u001b[0;34m(self, type_arg, value_arg, traceback_arg)\u001b[0m\n\u001b[1;32m    515\u001b[0m             \u001b[0mcompat\u001b[0m\u001b[0;34m.\u001b[0m\u001b[0mas_text\u001b[0m\u001b[0;34m(\u001b[0m\u001b[0mc_api\u001b[0m\u001b[0;34m.\u001b[0m\u001b[0mTF_Message\u001b[0m\u001b[0;34m(\u001b[0m\u001b[0mself\u001b[0m\u001b[0;34m.\u001b[0m\u001b[0mstatus\u001b[0m\u001b[0;34m.\u001b[0m\u001b[0mstatus\u001b[0m\u001b[0;34m)\u001b[0m\u001b[0;34m)\u001b[0m\u001b[0;34m,\u001b[0m\u001b[0;34m\u001b[0m\u001b[0m\n\u001b[0;32m--> 516\u001b[0;31m             c_api.TF_GetCode(self.status.status))\n\u001b[0m\u001b[1;32m    517\u001b[0m     \u001b[0;31m# Delete the underlying status object from memory otherwise it stays alive\u001b[0m\u001b[0;34m\u001b[0m\u001b[0;34m\u001b[0m\u001b[0m\n",
      "\u001b[0;31mFailedPreconditionError\u001b[0m: Attempting to use uninitialized value hidden_layer_1_1/b\n\t [[Node: hidden_layer_1_1/b/read = Identity[T=DT_FLOAT, _class=[\"loc:@hidden_layer_1_1/b\"], _device=\"/job:localhost/replica:0/task:0/device:CPU:0\"](hidden_layer_1_1/b)]]",
      "\nDuring handling of the above exception, another exception occurred:\n",
      "\u001b[0;31mFailedPreconditionError\u001b[0m                   Traceback (most recent call last)",
      "\u001b[0;32m<ipython-input-21-48e5fcb9d7bd>\u001b[0m in \u001b[0;36m<module>\u001b[0;34m()\u001b[0m\n\u001b[1;32m     14\u001b[0m     \u001b[0ms\u001b[0m \u001b[0;34m=\u001b[0m \u001b[0mhf\u001b[0m\u001b[0;34m.\u001b[0m\u001b[0mget_ovlp\u001b[0m\u001b[0;34m(\u001b[0m\u001b[0mmol\u001b[0m\u001b[0;34m)\u001b[0m\u001b[0;34m.\u001b[0m\u001b[0mreshape\u001b[0m\u001b[0;34m(\u001b[0m\u001b[0;36m1\u001b[0m\u001b[0;34m,\u001b[0m \u001b[0mdim\u001b[0m\u001b[0;34m**\u001b[0m\u001b[0;36m2\u001b[0m\u001b[0;34m)\u001b[0m\u001b[0;34m\u001b[0m\u001b[0m\n\u001b[1;32m     15\u001b[0m     \u001b[0ms\u001b[0m \u001b[0;34m=\u001b[0m \u001b[0mDataset\u001b[0m\u001b[0;34m.\u001b[0m\u001b[0mnormalize\u001b[0m\u001b[0;34m(\u001b[0m\u001b[0ms\u001b[0m\u001b[0;34m,\u001b[0m \u001b[0mmean\u001b[0m\u001b[0;34m=\u001b[0m\u001b[0mdataset\u001b[0m\u001b[0;34m.\u001b[0m\u001b[0mx_mean\u001b[0m\u001b[0;34m,\u001b[0m \u001b[0mstd\u001b[0m\u001b[0;34m=\u001b[0m\u001b[0mdataset\u001b[0m\u001b[0;34m.\u001b[0m\u001b[0mx_std\u001b[0m\u001b[0;34m)\u001b[0m\u001b[0;34m[\u001b[0m\u001b[0;36m0\u001b[0m\u001b[0;34m]\u001b[0m\u001b[0;34m\u001b[0m\u001b[0m\n\u001b[0;32m---> 16\u001b[0;31m     \u001b[0mP_Sigmoid\u001b[0m \u001b[0;34m=\u001b[0m \u001b[0msigmoid_nn\u001b[0m\u001b[0;34m.\u001b[0m\u001b[0mrun\u001b[0m\u001b[0;34m(\u001b[0m\u001b[0msess\u001b[0m\u001b[0;34m,\u001b[0m \u001b[0ms\u001b[0m\u001b[0;34m)\u001b[0m\u001b[0;34m.\u001b[0m\u001b[0mreshape\u001b[0m\u001b[0;34m(\u001b[0m\u001b[0mdim\u001b[0m\u001b[0;34m,\u001b[0m \u001b[0mdim\u001b[0m\u001b[0;34m)\u001b[0m\u001b[0;34m.\u001b[0m\u001b[0mastype\u001b[0m\u001b[0;34m(\u001b[0m\u001b[0;34m'float64'\u001b[0m\u001b[0;34m)\u001b[0m\u001b[0;34m\u001b[0m\u001b[0m\n\u001b[0m\u001b[1;32m     17\u001b[0m     \u001b[0mP_McWheene\u001b[0m \u001b[0;34m=\u001b[0m \u001b[0mmcwheene_nn\u001b[0m\u001b[0;34m.\u001b[0m\u001b[0mrun\u001b[0m\u001b[0;34m(\u001b[0m\u001b[0msess\u001b[0m\u001b[0;34m,\u001b[0m \u001b[0ms\u001b[0m\u001b[0;34m)\u001b[0m\u001b[0;34m.\u001b[0m\u001b[0mreshape\u001b[0m\u001b[0;34m(\u001b[0m\u001b[0mdim\u001b[0m\u001b[0;34m,\u001b[0m \u001b[0mdim\u001b[0m\u001b[0;34m)\u001b[0m\u001b[0;34m.\u001b[0m\u001b[0mastype\u001b[0m\u001b[0;34m(\u001b[0m\u001b[0;34m'float64'\u001b[0m\u001b[0;34m)\u001b[0m\u001b[0;34m\u001b[0m\u001b[0m\n\u001b[1;32m     18\u001b[0m \u001b[0;34m\u001b[0m\u001b[0m\n",
      "\u001b[0;32m~/Repos/SCFInitialGuess/SCFInitialGuess/nn/networks.py\u001b[0m in \u001b[0;36mrun\u001b[0;34m(self, session, inputs)\u001b[0m\n\u001b[1;32m     57\u001b[0m     \u001b[0;32mdef\u001b[0m \u001b[0mrun\u001b[0m\u001b[0;34m(\u001b[0m\u001b[0mself\u001b[0m\u001b[0;34m,\u001b[0m \u001b[0msession\u001b[0m\u001b[0;34m,\u001b[0m \u001b[0minputs\u001b[0m\u001b[0;34m)\u001b[0m\u001b[0;34m:\u001b[0m\u001b[0;34m\u001b[0m\u001b[0m\n\u001b[1;32m     58\u001b[0m         \u001b[0;34m\"\"\"Evaluate the neural network\"\"\"\u001b[0m\u001b[0;34m\u001b[0m\u001b[0m\n\u001b[0;32m---> 59\u001b[0;31m         \u001b[0;32mreturn\u001b[0m \u001b[0msession\u001b[0m\u001b[0;34m.\u001b[0m\u001b[0mrun\u001b[0m\u001b[0;34m(\u001b[0m\u001b[0mself\u001b[0m\u001b[0;34m.\u001b[0m\u001b[0m_graph\u001b[0m\u001b[0;34m,\u001b[0m \u001b[0mfeed_dict\u001b[0m\u001b[0;34m=\u001b[0m\u001b[0;34m{\u001b[0m\u001b[0mself\u001b[0m\u001b[0;34m.\u001b[0m\u001b[0minput_tensor\u001b[0m\u001b[0;34m:\u001b[0m \u001b[0minputs\u001b[0m\u001b[0;34m}\u001b[0m\u001b[0;34m)\u001b[0m\u001b[0;34m\u001b[0m\u001b[0m\n\u001b[0m\u001b[1;32m     60\u001b[0m \u001b[0;34m\u001b[0m\u001b[0m\n\u001b[1;32m     61\u001b[0m     \u001b[0;32mdef\u001b[0m \u001b[0msetup\u001b[0m\u001b[0;34m(\u001b[0m\u001b[0mself\u001b[0m\u001b[0;34m,\u001b[0m \u001b[0minput_tensor\u001b[0m\u001b[0;34m=\u001b[0m\u001b[0;32mNone\u001b[0m\u001b[0;34m)\u001b[0m\u001b[0;34m:\u001b[0m\u001b[0;34m\u001b[0m\u001b[0m\n",
      "\u001b[0;32m~/anaconda3/lib/python3.6/site-packages/tensorflow/python/client/session.py\u001b[0m in \u001b[0;36mrun\u001b[0;34m(self, fetches, feed_dict, options, run_metadata)\u001b[0m\n\u001b[1;32m    903\u001b[0m     \u001b[0;32mtry\u001b[0m\u001b[0;34m:\u001b[0m\u001b[0;34m\u001b[0m\u001b[0m\n\u001b[1;32m    904\u001b[0m       result = self._run(None, fetches, feed_dict, options_ptr,\n\u001b[0;32m--> 905\u001b[0;31m                          run_metadata_ptr)\n\u001b[0m\u001b[1;32m    906\u001b[0m       \u001b[0;32mif\u001b[0m \u001b[0mrun_metadata\u001b[0m\u001b[0;34m:\u001b[0m\u001b[0;34m\u001b[0m\u001b[0m\n\u001b[1;32m    907\u001b[0m         \u001b[0mproto_data\u001b[0m \u001b[0;34m=\u001b[0m \u001b[0mtf_session\u001b[0m\u001b[0;34m.\u001b[0m\u001b[0mTF_GetBuffer\u001b[0m\u001b[0;34m(\u001b[0m\u001b[0mrun_metadata_ptr\u001b[0m\u001b[0;34m)\u001b[0m\u001b[0;34m\u001b[0m\u001b[0m\n",
      "\u001b[0;32m~/anaconda3/lib/python3.6/site-packages/tensorflow/python/client/session.py\u001b[0m in \u001b[0;36m_run\u001b[0;34m(self, handle, fetches, feed_dict, options, run_metadata)\u001b[0m\n\u001b[1;32m   1135\u001b[0m     \u001b[0;32mif\u001b[0m \u001b[0mfinal_fetches\u001b[0m \u001b[0;32mor\u001b[0m \u001b[0mfinal_targets\u001b[0m \u001b[0;32mor\u001b[0m \u001b[0;34m(\u001b[0m\u001b[0mhandle\u001b[0m \u001b[0;32mand\u001b[0m \u001b[0mfeed_dict_tensor\u001b[0m\u001b[0;34m)\u001b[0m\u001b[0;34m:\u001b[0m\u001b[0;34m\u001b[0m\u001b[0m\n\u001b[1;32m   1136\u001b[0m       results = self._do_run(handle, final_targets, final_fetches,\n\u001b[0;32m-> 1137\u001b[0;31m                              feed_dict_tensor, options, run_metadata)\n\u001b[0m\u001b[1;32m   1138\u001b[0m     \u001b[0;32melse\u001b[0m\u001b[0;34m:\u001b[0m\u001b[0;34m\u001b[0m\u001b[0m\n\u001b[1;32m   1139\u001b[0m       \u001b[0mresults\u001b[0m \u001b[0;34m=\u001b[0m \u001b[0;34m[\u001b[0m\u001b[0;34m]\u001b[0m\u001b[0;34m\u001b[0m\u001b[0m\n",
      "\u001b[0;32m~/anaconda3/lib/python3.6/site-packages/tensorflow/python/client/session.py\u001b[0m in \u001b[0;36m_do_run\u001b[0;34m(self, handle, target_list, fetch_list, feed_dict, options, run_metadata)\u001b[0m\n\u001b[1;32m   1353\u001b[0m     \u001b[0;32mif\u001b[0m \u001b[0mhandle\u001b[0m \u001b[0;32mis\u001b[0m \u001b[0;32mNone\u001b[0m\u001b[0;34m:\u001b[0m\u001b[0;34m\u001b[0m\u001b[0m\n\u001b[1;32m   1354\u001b[0m       return self._do_call(_run_fn, self._session, feeds, fetches, targets,\n\u001b[0;32m-> 1355\u001b[0;31m                            options, run_metadata)\n\u001b[0m\u001b[1;32m   1356\u001b[0m     \u001b[0;32melse\u001b[0m\u001b[0;34m:\u001b[0m\u001b[0;34m\u001b[0m\u001b[0m\n\u001b[1;32m   1357\u001b[0m       \u001b[0;32mreturn\u001b[0m \u001b[0mself\u001b[0m\u001b[0;34m.\u001b[0m\u001b[0m_do_call\u001b[0m\u001b[0;34m(\u001b[0m\u001b[0m_prun_fn\u001b[0m\u001b[0;34m,\u001b[0m \u001b[0mself\u001b[0m\u001b[0;34m.\u001b[0m\u001b[0m_session\u001b[0m\u001b[0;34m,\u001b[0m \u001b[0mhandle\u001b[0m\u001b[0;34m,\u001b[0m \u001b[0mfeeds\u001b[0m\u001b[0;34m,\u001b[0m \u001b[0mfetches\u001b[0m\u001b[0;34m)\u001b[0m\u001b[0;34m\u001b[0m\u001b[0m\n",
      "\u001b[0;32m~/anaconda3/lib/python3.6/site-packages/tensorflow/python/client/session.py\u001b[0m in \u001b[0;36m_do_call\u001b[0;34m(self, fn, *args)\u001b[0m\n\u001b[1;32m   1372\u001b[0m         \u001b[0;32mexcept\u001b[0m \u001b[0mKeyError\u001b[0m\u001b[0;34m:\u001b[0m\u001b[0;34m\u001b[0m\u001b[0m\n\u001b[1;32m   1373\u001b[0m           \u001b[0;32mpass\u001b[0m\u001b[0;34m\u001b[0m\u001b[0m\n\u001b[0;32m-> 1374\u001b[0;31m       \u001b[0;32mraise\u001b[0m \u001b[0mtype\u001b[0m\u001b[0;34m(\u001b[0m\u001b[0me\u001b[0m\u001b[0;34m)\u001b[0m\u001b[0;34m(\u001b[0m\u001b[0mnode_def\u001b[0m\u001b[0;34m,\u001b[0m \u001b[0mop\u001b[0m\u001b[0;34m,\u001b[0m \u001b[0mmessage\u001b[0m\u001b[0;34m)\u001b[0m\u001b[0;34m\u001b[0m\u001b[0m\n\u001b[0m\u001b[1;32m   1375\u001b[0m \u001b[0;34m\u001b[0m\u001b[0m\n\u001b[1;32m   1376\u001b[0m   \u001b[0;32mdef\u001b[0m \u001b[0m_extend_graph\u001b[0m\u001b[0;34m(\u001b[0m\u001b[0mself\u001b[0m\u001b[0;34m)\u001b[0m\u001b[0;34m:\u001b[0m\u001b[0;34m\u001b[0m\u001b[0m\n",
      "\u001b[0;31mFailedPreconditionError\u001b[0m: Attempting to use uninitialized value hidden_layer_1_1/b\n\t [[Node: hidden_layer_1_1/b/read = Identity[T=DT_FLOAT, _class=[\"loc:@hidden_layer_1_1/b\"], _device=\"/job:localhost/replica:0/task:0/device:CPU:0\"](hidden_layer_1_1/b)]]\n\nCaused by op 'hidden_layer_1_1/b/read', defined at:\n  File \"/home/jo/anaconda3/lib/python3.6/runpy.py\", line 193, in _run_module_as_main\n    \"__main__\", mod_spec)\n  File \"/home/jo/anaconda3/lib/python3.6/runpy.py\", line 85, in _run_code\n    exec(code, run_globals)\n  File \"/home/jo/anaconda3/lib/python3.6/site-packages/ipykernel_launcher.py\", line 16, in <module>\n    app.launch_new_instance()\n  File \"/home/jo/anaconda3/lib/python3.6/site-packages/traitlets/config/application.py\", line 658, in launch_instance\n    app.start()\n  File \"/home/jo/anaconda3/lib/python3.6/site-packages/ipykernel/kernelapp.py\", line 478, in start\n    self.io_loop.start()\n  File \"/home/jo/anaconda3/lib/python3.6/site-packages/zmq/eventloop/ioloop.py\", line 177, in start\n    super(ZMQIOLoop, self).start()\n  File \"/home/jo/anaconda3/lib/python3.6/site-packages/tornado/ioloop.py\", line 888, in start\n    handler_func(fd_obj, events)\n  File \"/home/jo/anaconda3/lib/python3.6/site-packages/tornado/stack_context.py\", line 277, in null_wrapper\n    return fn(*args, **kwargs)\n  File \"/home/jo/anaconda3/lib/python3.6/site-packages/zmq/eventloop/zmqstream.py\", line 440, in _handle_events\n    self._handle_recv()\n  File \"/home/jo/anaconda3/lib/python3.6/site-packages/zmq/eventloop/zmqstream.py\", line 472, in _handle_recv\n    self._run_callback(callback, msg)\n  File \"/home/jo/anaconda3/lib/python3.6/site-packages/zmq/eventloop/zmqstream.py\", line 414, in _run_callback\n    callback(*args, **kwargs)\n  File \"/home/jo/anaconda3/lib/python3.6/site-packages/tornado/stack_context.py\", line 277, in null_wrapper\n    return fn(*args, **kwargs)\n  File \"/home/jo/anaconda3/lib/python3.6/site-packages/ipykernel/kernelbase.py\", line 283, in dispatcher\n    return self.dispatch_shell(stream, msg)\n  File \"/home/jo/anaconda3/lib/python3.6/site-packages/ipykernel/kernelbase.py\", line 233, in dispatch_shell\n    handler(stream, idents, msg)\n  File \"/home/jo/anaconda3/lib/python3.6/site-packages/ipykernel/kernelbase.py\", line 399, in execute_request\n    user_expressions, allow_stdin)\n  File \"/home/jo/anaconda3/lib/python3.6/site-packages/ipykernel/ipkernel.py\", line 208, in do_execute\n    res = shell.run_cell(code, store_history=store_history, silent=silent)\n  File \"/home/jo/anaconda3/lib/python3.6/site-packages/ipykernel/zmqshell.py\", line 537, in run_cell\n    return super(ZMQInteractiveShell, self).run_cell(*args, **kwargs)\n  File \"/home/jo/anaconda3/lib/python3.6/site-packages/IPython/core/interactiveshell.py\", line 2728, in run_cell\n    interactivity=interactivity, compiler=compiler, result=result)\n  File \"/home/jo/anaconda3/lib/python3.6/site-packages/IPython/core/interactiveshell.py\", line 2850, in run_ast_nodes\n    if self.run_code(code, result):\n  File \"/home/jo/anaconda3/lib/python3.6/site-packages/IPython/core/interactiveshell.py\", line 2910, in run_code\n    exec(code_obj, self.user_global_ns, self.user_ns)\n  File \"<ipython-input-18-bb74ce4bc465>\", line 20, in <module>\n    regularisation_parameter=1e-8\n  File \"/home/jo/Repos/SCFInitialGuess/SCFInitialGuess/nn/training.py\", line 285, in train_network\n    network_output = network.setup()\n  File \"/home/jo/Repos/SCFInitialGuess/SCFInitialGuess/nn/networks.py\", line 84, in setup\n    name=\"hidden_layer_\" + str(layer)\n  File \"/home/jo/Repos/SCFInitialGuess/SCFInitialGuess/nn/networks.py\", line 122, in _add_layer\n    name=\"b\"\n  File \"/home/jo/anaconda3/lib/python3.6/site-packages/tensorflow/python/ops/variables.py\", line 233, in __init__\n    constraint=constraint)\n  File \"/home/jo/anaconda3/lib/python3.6/site-packages/tensorflow/python/ops/variables.py\", line 381, in _init_from_args\n    self._snapshot = array_ops.identity(self._variable, name=\"read\")\n  File \"/home/jo/anaconda3/lib/python3.6/site-packages/tensorflow/python/ops/array_ops.py\", line 131, in identity\n    return gen_array_ops.identity(input, name=name)\n  File \"/home/jo/anaconda3/lib/python3.6/site-packages/tensorflow/python/ops/gen_array_ops.py\", line 2051, in identity\n    \"Identity\", input=input, name=name)\n  File \"/home/jo/anaconda3/lib/python3.6/site-packages/tensorflow/python/framework/op_def_library.py\", line 787, in _apply_op_helper\n    op_def=op_def)\n  File \"/home/jo/anaconda3/lib/python3.6/site-packages/tensorflow/python/framework/ops.py\", line 3271, in create_op\n    op_def=op_def)\n  File \"/home/jo/anaconda3/lib/python3.6/site-packages/tensorflow/python/framework/ops.py\", line 1650, in __init__\n    self._traceback = self._graph._extract_stack()  # pylint: disable=protected-access\n\nFailedPreconditionError (see above for traceback): Attempting to use uninitialized value hidden_layer_1_1/b\n\t [[Node: hidden_layer_1_1/b/read = Identity[T=DT_FLOAT, _class=[\"loc:@hidden_layer_1_1/b\"], _device=\"/job:localhost/replica:0/task:0/device:CPU:0\"](hidden_layer_1_1/b)]]\n"
     ]
    }
   ],
   "source": [
    "from pyscf.scf import hf\n",
    "\n",
    "dim = 26\n",
    "\n",
    "iterations_output_activations = []\n",
    "for i, molecule in enumerate(molecules_test):\n",
    "    \n",
    "    mol = molecule.get_pyscf_molecule()\n",
    "    \n",
    "    \n",
    "    print(\"Calculating: \" + str(i + 1) + \"/\" + str(len(molecules_test)))\n",
    "    \n",
    "    # nn guess\n",
    "    s = hf.get_ovlp(mol).reshape(1, dim**2)\n",
    "    s = Dataset.normalize(s, mean=dataset.x_mean, std=dataset.x_std)[0]\n",
    "    P_Sigmoid = sigmoid_nn.run(sess, s).reshape(dim, dim).astype('float64')\n",
    "    P_McWheene = mcwheene_nn.run(sess, s).reshape(dim, dim).astype('float64')\n",
    "        \n",
    "    iterations_molecule = []\n",
    "    for guess in [P_Sigmoid, P_McWheene]:\n",
    "        \n",
    "        mf = hf.RHF(mol)\n",
    "        mf.verbose = 1\n",
    "        mf.kernel(dm0=guess)\n",
    "        iterations_molecule.append(mf.iterations)\n",
    "    \n",
    "    iterations_output_activations.append(iterations_molecule)\n",
    "\n",
    "iterations_output_activations = np.array(iterations_output_activations)"
   ]
  },
  {
   "cell_type": "code",
   "execution_count": null,
   "metadata": {},
   "outputs": [],
   "source": [
    "#fig, axes = plt.subplots(2,2)\n",
    "\n",
    "print(np.mean(iterations_output_activations,0))\n",
    "\n",
    "bins = 20 # todo hier kann man auch ein array angeben\n",
    "\n",
    "for i, name in enumerate([\"Sigmoid\", \"McWheene\"]):\n",
    "    \n",
    "    hist, bins = np.histogram(iterations_output_activations[:,i])\n",
    "    center = (bins[:-1] + bins[1:]) / 2\n",
    "    #axes[i].bar(center, hist, label=name)\n",
    "    plt.bar(center, hist, label=name)\n",
    "    \n",
    "plt.legend()\n",
    "plt.show()"
   ]
  },
  {
   "cell_type": "code",
   "execution_count": null,
   "metadata": {},
   "outputs": [],
   "source": [
    "str(tf.get_default_graph())"
   ]
  },
  {
   "cell_type": "code",
   "execution_count": null,
   "metadata": {},
   "outputs": [],
   "source": []
  }
 ],
 "metadata": {
  "anaconda-cloud": {},
  "kernelspec": {
   "display_name": "Python 2",
   "language": "python",
   "name": "python2"
  },
  "language_info": {
   "codemirror_mode": {
    "name": "ipython",
    "version": 3
   },
   "file_extension": ".py",
   "mimetype": "text/x-python",
   "name": "python",
   "nbconvert_exporter": "python",
   "pygments_lexer": "ipython3",
   "version": "3.6.4"
  }
 },
 "nbformat": 4,
 "nbformat_minor": 1
}
