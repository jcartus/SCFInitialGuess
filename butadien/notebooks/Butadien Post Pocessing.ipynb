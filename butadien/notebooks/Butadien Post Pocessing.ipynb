{
 "cells": [
  {
   "cell_type": "code",
   "execution_count": 2,
   "metadata": {
    "collapsed": true
   },
   "outputs": [],
   "source": [
    "import numpy as np\n",
    "import matplotlib.pyplot as plt\n",
    "import tensorflow as tf"
   ]
  },
  {
   "cell_type": "code",
   "execution_count": 3,
   "metadata": {
    "collapsed": true
   },
   "outputs": [],
   "source": [
    "S, P = np.load(\"../data/dataset.npy\")\n",
    "molecules = np.load(\"../data/molecules.npy\")"
   ]
  },
  {
   "cell_type": "code",
   "execution_count": 4,
   "metadata": {},
   "outputs": [
    {
     "name": "stdout",
     "output_type": "stream",
     "text": [
      "[-] 2018-03-26 12:02:33: Data set normalized. Mean value std: 0.008754558889917387\n"
     ]
    }
   ],
   "source": [
    "from SCFInitialGuess.utilities.dataset import Dataset\n",
    "\n",
    "dim = 26\n",
    "\n",
    "ind_cut = 150\n",
    "index = np.arange(200)\n",
    "np.random.shuffle(index)\n",
    "\n",
    "S_test = np.array(S)[index[150:]]\n",
    "P_test = np.array(P)[index[150:]]\n",
    "molecules_test = [molecules[index[i]] for i in range(150, 200)]\n",
    "\n",
    "S_train = np.array(S)[index[:150]]\n",
    "P_train = np.array(P)[index[:150]]\n",
    "molecules_train = [molecules[index[i]] for i in range(150)]\n",
    "\n",
    "dataset = Dataset(np.array(S_train), np.array(P_train), split_test=0.0)\n",
    "\n",
    "dataset.testing = (Dataset.normalize(S_test, mean=dataset.x_mean, std=dataset.x_std)[0], P_test)"
   ]
  },
  {
   "cell_type": "code",
   "execution_count": 7,
   "metadata": {
    "scrolled": true
   },
   "outputs": [
    {
     "name": "stdout",
     "output_type": "stream",
     "text": [
      "[-] 2018-03-26 12:05:06: No target graph specified for Trainer setup. Creating new graph ...\n",
      "[-] 2018-03-26 12:05:06: Setting up the training in the target graph ...\n",
      "[-] 2018-03-26 12:05:06: network ...\n",
      "[-] 2018-03-26 12:05:06: error function ...\n",
      "[-] 2018-03-26 12:05:06: cost function ...\n",
      "[-] 2018-03-26 12:05:06: training step\n",
      "[-] 2018-03-26 12:05:07: Starting network training ...\n",
      "[ ] 2018-03-26 12:05:07: Val. Cost: 5.776E-02. Error: 5.776E-02. Diff: 1.0E+10\n",
      "[ ] 2018-03-26 12:05:09: Val. Cost: 2.540E-04. Error: 2.497E-04. Diff: 5.8E-02\n",
      "[ ] 2018-03-26 12:05:12: Val. Cost: 1.026E-04. Error: 9.814E-05. Diff: 1.5E-04\n",
      "[ ] 2018-03-26 12:05:14: Val. Cost: 4.950E-05. Error: 4.488E-05. Diff: 5.3E-05\n",
      "[ ] 2018-03-26 12:05:16: Val. Cost: 3.163E-05. Error: 2.697E-05. Diff: 1.8E-05\n",
      "[ ] 2018-03-26 12:05:19: Val. Cost: 1.324E-05. Error: 8.560E-06. Diff: 1.8E-05\n",
      "[ ] 2018-03-26 12:05:21: Val. Cost: 1.068E-05. Error: 6.082E-06. Diff: 2.5E-06\n",
      "[ ] 2018-03-26 12:05:24: Val. Cost: 1.040E-05. Error: 5.896E-06. Diff: 1.9E-07\n",
      "[ ] 2018-03-26 12:05:26: Val. Cost: 8.355E-06. Error: 3.945E-06. Diff: 2.0E-06\n",
      "[-] 2018-03-26 12:05:28: Convergence reached after 1800 steps.\n",
      "[-] 2018-03-26 12:05:28: Test error: 4.30608E-06\n"
     ]
    }
   ],
   "source": [
    "from SCFInitialGuess.nn.networks import EluTrNNN\n",
    "from SCFInitialGuess.nn.training import Trainer, RegularizedMSE\n",
    "\n",
    "trainer = Trainer(\n",
    "    EluTrNNN([dim**2, 600, 400, 200, 100, dim**2]),\n",
    "    cost_function=RegularizedMSE(alpha=1e-7),\n",
    "    optimizer=tf.train.AdamOptimizer(learning_rate=1e-3)\n",
    ")\n",
    "\n",
    "trainer.setup()\n",
    "network_orig, sess_orig = trainer.train(\n",
    "    dataset,\n",
    "    convergence_threshold=1e-7\n",
    ")\n",
    "graph_orig = trainer.graph"
   ]
  },
  {
   "cell_type": "markdown",
   "metadata": {},
   "source": [
    "$P'= \\dfrac{3}{2} PSP - \\dfrac{2}{2 \\cdot 2}PSPSP $"
   ]
  },
  {
   "cell_type": "code",
   "execution_count": 8,
   "metadata": {
    "collapsed": true
   },
   "outputs": [],
   "source": [
    "def mc_wheeny_purification(p,s):\n",
    "    p = p.reshape(dim, dim)\n",
    "    s = s.reshape(dim, dim)\n",
    "    return (3 * np.dot(np.dot(p, s), p) - np.dot(np.dot(np.dot(np.dot(p, s), p), s), p)) / 2\n",
    "\n",
    "def multi_mc_wheeny(p, s, n_max=4):\n",
    "    for i in range(n_max):\n",
    "        p = mc_wheeny_purification(p, s)\n",
    "    return p\n",
    "\n",
    "def idemp_error(p, s):\n",
    "    p = p.reshape(dim, dim)\n",
    "    s = s.reshape(dim, dim)\n",
    "    return np.mean(np.abs(np.dot(np.dot(p, s), p) - 2 * p))\n"
   ]
  },
  {
   "cell_type": "code",
   "execution_count": 9,
   "metadata": {},
   "outputs": [
    {
     "name": "stdout",
     "output_type": "stream",
     "text": [
      "Orip:         3.068E-16\n",
      "Orig prurif:  8.853E-17\n",
      "NN:           1.989E-03\n",
      "NN pruified:  4.080E-05\n",
      "NN multified: 6.369E-17\n",
      "Value before: 1.357E-03\n",
      "Value after:  8.945E-04\n",
      "Is nan: 0\n",
      "Is inf: 0\n",
      "Is fin: 676\n",
      "--------------------\n",
      "Orip:         3.191E-16\n",
      "Orig prurif:  8.043E-17\n",
      "NN:           1.571E-03\n",
      "NN pruified:  2.384E-05\n",
      "NN multified: 6.539E-17\n",
      "Value before: 1.205E-03\n",
      "Value after:  9.513E-04\n",
      "Is nan: 0\n",
      "Is inf: 0\n",
      "Is fin: 676\n",
      "--------------------\n",
      "Orip:         3.424E-16\n",
      "Orig prurif:  8.940E-17\n",
      "NN:           2.157E-03\n",
      "NN pruified:  5.321E-05\n",
      "NN multified: 6.865E-17\n",
      "Value before: 1.415E-03\n",
      "Value after:  9.595E-04\n",
      "Is nan: 0\n",
      "Is inf: 0\n",
      "Is fin: 676\n",
      "--------------------\n",
      "Orip:         3.416E-16\n",
      "Orig prurif:  9.039E-17\n",
      "NN:           2.103E-03\n",
      "NN pruified:  4.238E-05\n",
      "NN multified: 7.526E-17\n",
      "Value before: 1.521E-03\n",
      "Value after:  1.059E-03\n",
      "Is nan: 0\n",
      "Is inf: 0\n",
      "Is fin: 676\n",
      "--------------------\n",
      "Orip:         2.625E-16\n",
      "Orig prurif:  8.785E-17\n",
      "NN:           1.561E-03\n",
      "NN pruified:  1.988E-05\n",
      "NN multified: 6.593E-17\n",
      "Value before: 1.120E-03\n",
      "Value after:  8.150E-04\n",
      "Is nan: 0\n",
      "Is inf: 0\n",
      "Is fin: 676\n",
      "--------------------\n",
      "Orip:         3.256E-16\n",
      "Orig prurif:  8.410E-17\n",
      "NN:           1.811E-03\n",
      "NN pruified:  3.583E-05\n",
      "NN multified: 6.881E-17\n",
      "Value before: 1.259E-03\n",
      "Value after:  9.250E-04\n",
      "Is nan: 0\n",
      "Is inf: 0\n",
      "Is fin: 676\n",
      "--------------------\n",
      "Orip:         3.270E-16\n",
      "Orig prurif:  9.043E-17\n",
      "NN:           1.667E-03\n",
      "NN pruified:  2.814E-05\n",
      "NN multified: 6.512E-17\n",
      "Value before: 1.352E-03\n",
      "Value after:  1.045E-03\n",
      "Is nan: 0\n",
      "Is inf: 0\n",
      "Is fin: 676\n",
      "--------------------\n",
      "Orip:         2.850E-16\n",
      "Orig prurif:  8.749E-17\n",
      "NN:           1.889E-03\n",
      "NN pruified:  3.917E-05\n",
      "NN multified: 6.994E-17\n",
      "Value before: 1.391E-03\n",
      "Value after:  1.088E-03\n",
      "Is nan: 0\n",
      "Is inf: 0\n",
      "Is fin: 676\n",
      "--------------------\n",
      "Orip:         3.653E-16\n",
      "Orig prurif:  8.126E-17\n",
      "NN:           1.739E-03\n",
      "NN pruified:  2.915E-05\n",
      "NN multified: 7.275E-17\n",
      "Value before: 1.175E-03\n",
      "Value after:  8.227E-04\n",
      "Is nan: 0\n",
      "Is inf: 0\n",
      "Is fin: 676\n",
      "--------------------\n",
      "Orip:         3.266E-16\n",
      "Orig prurif:  8.391E-17\n",
      "NN:           1.552E-03\n",
      "NN pruified:  2.382E-05\n",
      "NN multified: 6.806E-17\n",
      "Value before: 1.065E-03\n",
      "Value after:  7.318E-04\n",
      "Is nan: 0\n",
      "Is inf: 0\n",
      "Is fin: 676\n",
      "--------------------\n",
      "Orip:         3.596E-16\n",
      "Orig prurif:  7.941E-17\n",
      "NN:           1.699E-03\n",
      "NN pruified:  2.591E-05\n",
      "NN multified: 6.268E-17\n",
      "Value before: 1.224E-03\n",
      "Value after:  8.924E-04\n",
      "Is nan: 0\n",
      "Is inf: 0\n",
      "Is fin: 676\n",
      "--------------------\n",
      "Orip:         3.803E-16\n",
      "Orig prurif:  8.599E-17\n",
      "NN:           2.409E-03\n",
      "NN pruified:  7.035E-05\n",
      "NN multified: 6.866E-17\n",
      "Value before: 1.605E-03\n",
      "Value after:  1.090E-03\n",
      "Is nan: 0\n",
      "Is inf: 0\n",
      "Is fin: 676\n",
      "--------------------\n",
      "Orip:         3.185E-16\n",
      "Orig prurif:  9.268E-17\n",
      "NN:           2.223E-03\n",
      "NN pruified:  6.107E-05\n",
      "NN multified: 7.023E-17\n",
      "Value before: 1.499E-03\n",
      "Value after:  1.064E-03\n",
      "Is nan: 0\n",
      "Is inf: 0\n",
      "Is fin: 676\n",
      "--------------------\n",
      "Orip:         3.469E-16\n",
      "Orig prurif:  8.338E-17\n",
      "NN:           1.713E-03\n",
      "NN pruified:  3.274E-05\n",
      "NN multified: 7.713E-17\n",
      "Value before: 1.340E-03\n",
      "Value after:  1.023E-03\n",
      "Is nan: 0\n",
      "Is inf: 0\n",
      "Is fin: 676\n",
      "--------------------\n",
      "Orip:         2.745E-16\n",
      "Orig prurif:  7.261E-17\n",
      "NN:           1.935E-03\n",
      "NN pruified:  3.722E-05\n",
      "NN multified: 6.892E-17\n",
      "Value before: 1.420E-03\n",
      "Value after:  1.030E-03\n",
      "Is nan: 0\n",
      "Is inf: 0\n",
      "Is fin: 676\n",
      "--------------------\n",
      "Orip:         3.514E-16\n",
      "Orig prurif:  8.474E-17\n",
      "NN:           1.981E-03\n",
      "NN pruified:  4.467E-05\n",
      "NN multified: 7.513E-17\n",
      "Value before: 1.435E-03\n",
      "Value after:  9.626E-04\n",
      "Is nan: 0\n",
      "Is inf: 0\n",
      "Is fin: 676\n",
      "--------------------\n",
      "Orip:         3.565E-16\n",
      "Orig prurif:  8.512E-17\n",
      "NN:           2.054E-03\n",
      "NN pruified:  3.873E-05\n",
      "NN multified: 7.089E-17\n",
      "Value before: 1.449E-03\n",
      "Value after:  1.044E-03\n",
      "Is nan: 0\n",
      "Is inf: 0\n",
      "Is fin: 676\n",
      "--------------------\n",
      "Orip:         3.424E-16\n",
      "Orig prurif:  8.666E-17\n",
      "NN:           2.042E-03\n",
      "NN pruified:  4.767E-05\n",
      "NN multified: 7.116E-17\n",
      "Value before: 1.463E-03\n",
      "Value after:  1.097E-03\n",
      "Is nan: 0\n",
      "Is inf: 0\n",
      "Is fin: 676\n",
      "--------------------\n",
      "Orip:         2.600E-16\n",
      "Orig prurif:  7.488E-17\n",
      "NN:           1.964E-03\n",
      "NN pruified:  3.267E-05\n",
      "NN multified: 7.486E-17\n",
      "Value before: 1.448E-03\n",
      "Value after:  1.101E-03\n",
      "Is nan: 0\n",
      "Is inf: 0\n",
      "Is fin: 676\n",
      "--------------------\n",
      "Orip:         3.391E-16\n",
      "Orig prurif:  7.146E-17\n",
      "NN:           1.635E-03\n",
      "NN pruified:  2.672E-05\n",
      "NN multified: 7.039E-17\n",
      "Value before: 1.208E-03\n",
      "Value after:  9.367E-04\n",
      "Is nan: 0\n",
      "Is inf: 0\n",
      "Is fin: 676\n",
      "--------------------\n",
      "Orip:         3.142E-16\n",
      "Orig prurif:  8.484E-17\n",
      "NN:           1.829E-03\n",
      "NN pruified:  3.136E-05\n",
      "NN multified: 6.792E-17\n",
      "Value before: 1.319E-03\n",
      "Value after:  9.057E-04\n",
      "Is nan: 0\n",
      "Is inf: 0\n",
      "Is fin: 676\n",
      "--------------------\n",
      "Orip:         3.595E-16\n",
      "Orig prurif:  8.256E-17\n",
      "NN:           2.024E-03\n",
      "NN pruified:  4.538E-05\n",
      "NN multified: 6.853E-17\n",
      "Value before: 1.531E-03\n",
      "Value after:  1.037E-03\n",
      "Is nan: 0\n",
      "Is inf: 0\n",
      "Is fin: 676\n",
      "--------------------\n",
      "Orip:         3.507E-16\n",
      "Orig prurif:  8.749E-17\n",
      "NN:           2.118E-03\n",
      "NN pruified:  5.801E-05\n",
      "NN multified: 8.356E-17\n",
      "Value before: 1.580E-03\n",
      "Value after:  1.138E-03\n",
      "Is nan: 0\n",
      "Is inf: 0\n",
      "Is fin: 676\n",
      "--------------------\n",
      "Orip:         3.107E-16\n",
      "Orig prurif:  8.993E-17\n",
      "NN:           1.578E-03\n",
      "NN pruified:  2.497E-05\n",
      "NN multified: 7.501E-17\n",
      "Value before: 1.243E-03\n",
      "Value after:  9.403E-04\n",
      "Is nan: 0\n",
      "Is inf: 0\n",
      "Is fin: 676\n",
      "--------------------\n",
      "Orip:         3.197E-16\n",
      "Orig prurif:  8.323E-17\n",
      "NN:           1.830E-03\n",
      "NN pruified:  3.406E-05\n",
      "NN multified: 6.735E-17\n",
      "Value before: 1.402E-03\n",
      "Value after:  1.025E-03\n",
      "Is nan: 0\n",
      "Is inf: 0\n",
      "Is fin: 676\n",
      "--------------------\n",
      "Orip:         3.319E-16\n",
      "Orig prurif:  9.199E-17\n",
      "NN:           2.094E-03\n",
      "NN pruified:  4.601E-05\n",
      "NN multified: 7.591E-17\n",
      "Value before: 1.723E-03\n",
      "Value after:  1.281E-03\n",
      "Is nan: 0\n",
      "Is inf: 0\n",
      "Is fin: 676\n",
      "--------------------\n",
      "Orip:         3.342E-16\n",
      "Orig prurif:  7.820E-17\n",
      "NN:           2.233E-03\n",
      "NN pruified:  5.862E-05\n",
      "NN multified: 6.681E-17\n",
      "Value before: 1.473E-03\n",
      "Value after:  9.251E-04\n",
      "Is nan: 0\n",
      "Is inf: 0\n",
      "Is fin: 676\n",
      "--------------------\n",
      "Orip:         3.143E-16\n",
      "Orig prurif:  8.069E-17\n",
      "NN:           1.792E-03\n",
      "NN pruified:  3.613E-05\n",
      "NN multified: 7.336E-17\n",
      "Value before: 1.303E-03\n",
      "Value after:  8.759E-04\n",
      "Is nan: 0\n",
      "Is inf: 0\n",
      "Is fin: 676\n",
      "--------------------\n",
      "Orip:         2.863E-16\n",
      "Orig prurif:  7.749E-17\n",
      "NN:           1.733E-03\n",
      "NN pruified:  3.447E-05\n",
      "NN multified: 7.219E-17\n",
      "Value before: 1.278E-03\n",
      "Value after:  9.985E-04\n",
      "Is nan: 0\n",
      "Is inf: 0\n",
      "Is fin: 676\n",
      "--------------------\n",
      "Orip:         3.425E-16\n",
      "Orig prurif:  8.282E-17\n",
      "NN:           1.456E-03\n",
      "NN pruified:  1.705E-05\n",
      "NN multified: 7.408E-17\n",
      "Value before: 1.231E-03\n",
      "Value after:  9.873E-04\n",
      "Is nan: 0\n",
      "Is inf: 0\n",
      "Is fin: 676\n",
      "--------------------\n",
      "Orip:         3.615E-16\n",
      "Orig prurif:  8.899E-17\n",
      "NN:           2.001E-03\n",
      "NN pruified:  4.272E-05\n",
      "NN multified: 7.875E-17\n",
      "Value before: 1.435E-03\n",
      "Value after:  1.014E-03\n",
      "Is nan: 0\n",
      "Is inf: 0\n",
      "Is fin: 676\n",
      "--------------------\n",
      "Orip:         2.938E-16\n",
      "Orig prurif:  7.479E-17\n",
      "NN:           1.781E-03\n",
      "NN pruified:  2.295E-05\n",
      "NN multified: 6.881E-17\n",
      "Value before: 1.343E-03\n",
      "Value after:  1.024E-03\n",
      "Is nan: 0\n",
      "Is inf: 0\n",
      "Is fin: 676\n",
      "--------------------\n",
      "Orip:         2.907E-16\n",
      "Orig prurif:  7.954E-17\n",
      "NN:           2.160E-03\n",
      "NN pruified:  4.708E-05\n",
      "NN multified: 7.586E-17\n",
      "Value before: 1.494E-03\n",
      "Value after:  1.035E-03\n",
      "Is nan: 0\n",
      "Is inf: 0\n",
      "Is fin: 676\n",
      "--------------------\n",
      "Orip:         2.746E-16\n",
      "Orig prurif:  8.638E-17\n",
      "NN:           1.908E-03\n",
      "NN pruified:  3.478E-05\n",
      "NN multified: 7.691E-17\n",
      "Value before: 1.313E-03\n",
      "Value after:  8.831E-04\n",
      "Is nan: 0\n",
      "Is inf: 0\n",
      "Is fin: 676\n",
      "--------------------\n",
      "Orip:         3.391E-16\n",
      "Orig prurif:  8.108E-17\n",
      "NN:           2.154E-03\n",
      "NN pruified:  5.352E-05\n",
      "NN multified: 7.115E-17\n",
      "Value before: 1.502E-03\n",
      "Value after:  1.087E-03\n",
      "Is nan: 0\n",
      "Is inf: 0\n",
      "Is fin: 676\n",
      "--------------------\n",
      "Orip:         3.779E-16\n",
      "Orig prurif:  7.924E-17\n",
      "NN:           3.002E-03\n",
      "NN pruified:  1.054E-04\n",
      "NN multified: 6.560E-17\n",
      "Value before: 2.260E-03\n",
      "Value after:  1.794E-03\n",
      "Is nan: 0\n",
      "Is inf: 0\n",
      "Is fin: 676\n",
      "--------------------\n",
      "Orip:         3.621E-16\n",
      "Orig prurif:  1.019E-16\n",
      "NN:           2.245E-03\n",
      "NN pruified:  6.400E-05\n",
      "NN multified: 7.389E-17\n",
      "Value before: 1.459E-03\n",
      "Value after:  9.200E-04\n",
      "Is nan: 0\n",
      "Is inf: 0\n",
      "Is fin: 676\n",
      "--------------------\n",
      "Orip:         2.869E-16\n",
      "Orig prurif:  8.320E-17\n",
      "NN:           1.593E-03\n",
      "NN pruified:  2.504E-05\n",
      "NN multified: 6.455E-17\n",
      "Value before: 1.206E-03\n",
      "Value after:  8.622E-04\n",
      "Is nan: 0\n",
      "Is inf: 0\n",
      "Is fin: 676\n",
      "--------------------\n",
      "Orip:         3.714E-16\n",
      "Orig prurif:  8.302E-17\n",
      "NN:           1.558E-03\n",
      "NN pruified:  2.141E-05\n",
      "NN multified: 7.890E-17\n",
      "Value before: 1.178E-03\n",
      "Value after:  8.760E-04\n",
      "Is nan: 0\n",
      "Is inf: 0\n",
      "Is fin: 676\n",
      "--------------------\n",
      "Orip:         2.727E-16\n",
      "Orig prurif:  8.443E-17\n",
      "NN:           3.672E-03\n",
      "NN pruified:  1.686E-04\n",
      "NN multified: 7.201E-17\n",
      "Value before: 2.893E-03\n",
      "Value after:  2.366E-03\n",
      "Is nan: 0\n",
      "Is inf: 0\n",
      "Is fin: 676\n",
      "--------------------\n",
      "Orip:         4.463E-16\n",
      "Orig prurif:  8.660E-17\n",
      "NN:           2.052E-03\n",
      "NN pruified:  4.642E-05\n",
      "NN multified: 6.566E-17\n",
      "Value before: 1.561E-03\n",
      "Value after:  1.119E-03\n",
      "Is nan: 0\n",
      "Is inf: 0\n",
      "Is fin: 676\n",
      "--------------------\n",
      "Orip:         3.063E-16\n",
      "Orig prurif:  8.890E-17\n",
      "NN:           2.251E-03\n",
      "NN pruified:  6.274E-05\n",
      "NN multified: 6.800E-17\n",
      "Value before: 1.554E-03\n",
      "Value after:  1.062E-03\n",
      "Is nan: 0\n",
      "Is inf: 0\n",
      "Is fin: 676\n",
      "--------------------\n",
      "Orip:         3.939E-16\n",
      "Orig prurif:  9.256E-17\n",
      "NN:           2.319E-03\n",
      "NN pruified:  6.489E-05\n",
      "NN multified: 7.025E-17\n",
      "Value before: 1.712E-03\n",
      "Value after:  1.219E-03\n",
      "Is nan: 0\n",
      "Is inf: 0\n",
      "Is fin: 676\n",
      "--------------------\n",
      "Orip:         3.201E-16\n",
      "Orig prurif:  8.436E-17\n",
      "NN:           2.580E-03\n",
      "NN pruified:  7.313E-05\n",
      "NN multified: 7.554E-17\n",
      "Value before: 1.747E-03\n",
      "Value after:  1.153E-03\n",
      "Is nan: 0\n",
      "Is inf: 0\n",
      "Is fin: 676\n",
      "--------------------\n",
      "Orip:         3.564E-16\n",
      "Orig prurif:  9.019E-17\n",
      "NN:           2.468E-03\n",
      "NN pruified:  8.023E-05\n",
      "NN multified: 7.232E-17\n",
      "Value before: 1.842E-03\n",
      "Value after:  1.314E-03\n",
      "Is nan: 0\n",
      "Is inf: 0\n",
      "Is fin: 676\n",
      "--------------------\n",
      "Orip:         2.985E-16\n",
      "Orig prurif:  9.533E-17\n",
      "NN:           1.513E-03\n",
      "NN pruified:  1.824E-05\n",
      "NN multified: 6.382E-17\n",
      "Value before: 1.256E-03\n"
     ]
    },
    {
     "name": "stdout",
     "output_type": "stream",
     "text": [
      "Value after:  9.890E-04\n",
      "Is nan: 0\n",
      "Is inf: 0\n",
      "Is fin: 676\n",
      "--------------------\n",
      "Orip:         3.625E-16\n",
      "Orig prurif:  9.193E-17\n",
      "NN:           1.787E-03\n",
      "NN pruified:  3.318E-05\n",
      "NN multified: 7.202E-17\n",
      "Value before: 1.212E-03\n",
      "Value after:  8.647E-04\n",
      "Is nan: 0\n",
      "Is inf: 0\n",
      "Is fin: 676\n",
      "--------------------\n",
      "Orip:         2.924E-16\n",
      "Orig prurif:  8.689E-17\n",
      "NN:           2.041E-03\n",
      "NN pruified:  4.826E-05\n",
      "NN multified: 7.906E-17\n",
      "Value before: 1.363E-03\n",
      "Value after:  8.723E-04\n",
      "Is nan: 0\n",
      "Is inf: 0\n",
      "Is fin: 676\n",
      "--------------------\n",
      "Orip:         3.175E-16\n",
      "Orig prurif:  8.878E-17\n",
      "NN:           1.969E-03\n",
      "NN pruified:  4.420E-05\n",
      "NN multified: 7.622E-17\n",
      "Value before: 1.287E-03\n",
      "Value after:  8.444E-04\n",
      "Is nan: 0\n",
      "Is inf: 0\n",
      "Is fin: 676\n",
      "--------------------\n",
      "Orip:         3.151E-16\n",
      "Orig prurif:  7.743E-17\n",
      "NN:           2.287E-03\n",
      "NN pruified:  7.093E-05\n",
      "NN multified: 6.673E-17\n",
      "Value before: 1.711E-03\n",
      "Value after:  1.233E-03\n",
      "Is nan: 0\n",
      "Is inf: 0\n",
      "Is fin: 676\n",
      "--------------------\n"
     ]
    }
   ],
   "source": [
    "#for (s, p) in zip(*dataset.testing):\n",
    "for (s, p) in zip(S_test, P_test):\n",
    "    \n",
    "    #s_norm = s.reshape(1, dim**2)\n",
    "    s_norm = dataset.input_transformation(s.reshape(1, dim**2))\n",
    "    \n",
    "    print(\"Orip:         {:0.3E}\".format(idemp_error(p, s))) \n",
    "    print(\"Orig prurif:  {:0.3E}\".format(idemp_error(mc_wheeny_purification(p, s), s)))\n",
    "    \n",
    "    with graph_orig.as_default():\n",
    "        p_nn = network_orig.run(sess_orig, s_norm).reshape(dim, dim)\n",
    "        \n",
    "    print(\"NN:           {:0.3E}\".format(idemp_error(p_nn, s)))\n",
    "    print(\"NN pruified:  {:0.3E}\".format(idemp_error(mc_wheeny_purification(p_nn, s), s)))\n",
    "    p_nn_multi = multi_mc_wheeny(p_nn, s, n_max=5)\n",
    "    print(\"NN multified: {:0.3E}\".format(idemp_error(p_nn_multi, s))) \n",
    "    print(\"Value before: {:0.3E}\".format(np.mean(np.abs(p.reshape(dim, dim) - p_nn))))\n",
    "    print(\"Value multi :  {:0.3E}\".format(np.mean(np.abs(p.reshape(dim, dim) - p_nn_multi))))\n",
    "    print(\"Is nan: \" + str(np.sum(np.isnan(p_nn_multi))))\n",
    "    print(\"Is inf: \" + str(np.sum(np.isinf(p_nn_multi))))\n",
    "    print(\"Is fin: \" + str(np.sum(np.isfinite(p_nn_multi))))\n",
    "    print(\"--------------------\")"
   ]
  },
  {
   "cell_type": "code",
   "execution_count": 10,
   "metadata": {
    "scrolled": true
   },
   "outputs": [
    {
     "name": "stderr",
     "output_type": "stream",
     "text": [
      "Warn: Ipython shell catchs sys.args\n"
     ]
    },
    {
     "name": "stdout",
     "output_type": "stream",
     "text": [
      "Calculating: 1/50\n",
      "Accuracy (MSE):\n",
      "Orig: 3.325E-06\n",
      "Sym:  2.881E-06\n",
      "Idem: 1.421E-06\n",
      "Idempotency:\n",
      "Orig: 1.989E-03\n",
      "Sym:  1.818E-03\n",
      "Idem: 6.369E-17\n"
     ]
    },
    {
     "name": "stderr",
     "output_type": "stream",
     "text": [
      "Warn: Ipython shell catchs sys.args\n"
     ]
    },
    {
     "name": "stdout",
     "output_type": "stream",
     "text": [
      "Calculating: 2/50\n",
      "Accuracy (MSE):\n",
      "Orig: 2.904E-06\n",
      "Sym:  2.595E-06\n",
      "Idem: 1.839E-06\n",
      "Idempotency:\n",
      "Orig: 1.571E-03\n",
      "Sym:  1.436E-03\n",
      "Idem: 6.539E-17\n"
     ]
    },
    {
     "name": "stderr",
     "output_type": "stream",
     "text": [
      "Warn: Ipython shell catchs sys.args\n"
     ]
    },
    {
     "name": "stdout",
     "output_type": "stream",
     "text": [
      "Calculating: 3/50\n",
      "Accuracy (MSE):\n",
      "Orig: 4.289E-06\n",
      "Sym:  3.878E-06\n",
      "Idem: 1.755E-06\n",
      "Idempotency:\n",
      "Orig: 2.157E-03\n",
      "Sym:  1.948E-03\n",
      "Idem: 6.865E-17\n"
     ]
    },
    {
     "name": "stderr",
     "output_type": "stream",
     "text": [
      "Warn: Ipython shell catchs sys.args\n"
     ]
    },
    {
     "name": "stdout",
     "output_type": "stream",
     "text": [
      "Calculating: 4/50\n",
      "Accuracy (MSE):\n",
      "Orig: 3.933E-06\n",
      "Sym:  3.437E-06\n",
      "Idem: 2.023E-06\n",
      "Idempotency:\n",
      "Orig: 2.103E-03\n",
      "Sym:  1.939E-03\n",
      "Idem: 7.526E-17\n"
     ]
    },
    {
     "name": "stderr",
     "output_type": "stream",
     "text": [
      "Warn: Ipython shell catchs sys.args\n"
     ]
    },
    {
     "name": "stdout",
     "output_type": "stream",
     "text": [
      "Calculating: 5/50\n",
      "Accuracy (MSE):\n",
      "Orig: 2.145E-06\n",
      "Sym:  1.805E-06\n",
      "Idem: 1.131E-06\n",
      "Idempotency:\n",
      "Orig: 1.561E-03\n",
      "Sym:  1.433E-03\n",
      "Idem: 6.593E-17\n"
     ]
    },
    {
     "name": "stderr",
     "output_type": "stream",
     "text": [
      "Warn: Ipython shell catchs sys.args\n"
     ]
    },
    {
     "name": "stdout",
     "output_type": "stream",
     "text": [
      "Calculating: 6/50\n",
      "Accuracy (MSE):\n",
      "Orig: 3.111E-06\n",
      "Sym:  2.815E-06\n",
      "Idem: 1.651E-06\n",
      "Idempotency:\n",
      "Orig: 1.811E-03\n",
      "Sym:  1.661E-03\n",
      "Idem: 6.881E-17\n"
     ]
    },
    {
     "name": "stderr",
     "output_type": "stream",
     "text": [
      "Warn: Ipython shell catchs sys.args\n"
     ]
    },
    {
     "name": "stdout",
     "output_type": "stream",
     "text": [
      "Calculating: 7/50\n",
      "Accuracy (MSE):\n",
      "Orig: 3.494E-06\n",
      "Sym:  3.085E-06\n",
      "Idem: 2.234E-06\n",
      "Idempotency:\n",
      "Orig: 1.667E-03\n",
      "Sym:  1.469E-03\n",
      "Idem: 6.512E-17\n"
     ]
    },
    {
     "name": "stderr",
     "output_type": "stream",
     "text": [
      "Warn: Ipython shell catchs sys.args\n"
     ]
    },
    {
     "name": "stdout",
     "output_type": "stream",
     "text": [
      "Calculating: 8/50\n",
      "Accuracy (MSE):\n",
      "Orig: 3.764E-06\n",
      "Sym:  3.324E-06\n",
      "Idem: 2.269E-06\n",
      "Idempotency:\n",
      "Orig: 1.889E-03\n",
      "Sym:  1.661E-03\n",
      "Idem: 6.994E-17\n"
     ]
    },
    {
     "name": "stderr",
     "output_type": "stream",
     "text": [
      "Warn: Ipython shell catchs sys.args\n"
     ]
    },
    {
     "name": "stdout",
     "output_type": "stream",
     "text": [
      "Calculating: 9/50\n",
      "Accuracy (MSE):\n",
      "Orig: 2.311E-06\n",
      "Sym:  1.934E-06\n",
      "Idem: 1.143E-06\n",
      "Idempotency:\n",
      "Orig: 1.739E-03\n",
      "Sym:  1.536E-03\n",
      "Idem: 7.275E-17\n"
     ]
    },
    {
     "name": "stderr",
     "output_type": "stream",
     "text": [
      "Warn: Ipython shell catchs sys.args\n"
     ]
    },
    {
     "name": "stdout",
     "output_type": "stream",
     "text": [
      "Calculating: 10/50\n",
      "Accuracy (MSE):\n",
      "Orig: 1.896E-06\n",
      "Sym:  1.573E-06\n",
      "Idem: 8.936E-07\n",
      "Idempotency:\n",
      "Orig: 1.552E-03\n",
      "Sym:  1.400E-03\n",
      "Idem: 6.806E-17\n"
     ]
    },
    {
     "name": "stderr",
     "output_type": "stream",
     "text": [
      "Warn: Ipython shell catchs sys.args\n"
     ]
    },
    {
     "name": "stdout",
     "output_type": "stream",
     "text": [
      "Calculating: 11/50\n",
      "Accuracy (MSE):\n",
      "Orig: 2.861E-06\n",
      "Sym:  2.468E-06\n",
      "Idem: 1.458E-06\n",
      "Idempotency:\n",
      "Orig: 1.699E-03\n",
      "Sym:  1.496E-03\n",
      "Idem: 6.268E-17\n"
     ]
    },
    {
     "name": "stderr",
     "output_type": "stream",
     "text": [
      "Warn: Ipython shell catchs sys.args\n"
     ]
    },
    {
     "name": "stdout",
     "output_type": "stream",
     "text": [
      "Calculating: 12/50\n",
      "Accuracy (MSE):\n",
      "Orig: 4.563E-06\n",
      "Sym:  3.888E-06\n",
      "Idem: 2.015E-06\n",
      "Idempotency:\n",
      "Orig: 2.409E-03\n",
      "Sym:  2.199E-03\n",
      "Idem: 6.866E-17\n"
     ]
    },
    {
     "name": "stderr",
     "output_type": "stream",
     "text": [
      "Warn: Ipython shell catchs sys.args\n"
     ]
    },
    {
     "name": "stdout",
     "output_type": "stream",
     "text": [
      "Calculating: 13/50\n",
      "Accuracy (MSE):\n",
      "Orig: 4.690E-06\n",
      "Sym:  4.217E-06\n",
      "Idem: 2.195E-06\n",
      "Idempotency:\n",
      "Orig: 2.223E-03\n",
      "Sym:  2.041E-03\n",
      "Idem: 7.023E-17\n"
     ]
    },
    {
     "name": "stderr",
     "output_type": "stream",
     "text": [
      "Warn: Ipython shell catchs sys.args\n"
     ]
    },
    {
     "name": "stdout",
     "output_type": "stream",
     "text": [
      "Calculating: 14/50\n",
      "Accuracy (MSE):\n",
      "Orig: 3.474E-06\n",
      "Sym:  3.088E-06\n",
      "Idem: 2.157E-06\n",
      "Idempotency:\n",
      "Orig: 1.713E-03\n",
      "Sym:  1.525E-03\n",
      "Idem: 7.713E-17\n"
     ]
    },
    {
     "name": "stderr",
     "output_type": "stream",
     "text": [
      "Warn: Ipython shell catchs sys.args\n"
     ]
    },
    {
     "name": "stdout",
     "output_type": "stream",
     "text": [
      "Calculating: 15/50\n",
      "Accuracy (MSE):\n",
      "Orig: 3.706E-06\n",
      "Sym:  3.322E-06\n",
      "Idem: 1.998E-06\n",
      "Idempotency:\n",
      "Orig: 1.935E-03\n",
      "Sym:  1.802E-03\n",
      "Idem: 6.892E-17\n"
     ]
    },
    {
     "name": "stderr",
     "output_type": "stream",
     "text": [
      "Warn: Ipython shell catchs sys.args\n"
     ]
    },
    {
     "name": "stdout",
     "output_type": "stream",
     "text": [
      "Calculating: 16/50\n",
      "Accuracy (MSE):\n",
      "Orig: 3.400E-06\n",
      "Sym:  2.950E-06\n",
      "Idem: 1.603E-06\n",
      "Idempotency:\n",
      "Orig: 1.981E-03\n",
      "Sym:  1.804E-03\n",
      "Idem: 7.513E-17\n"
     ]
    },
    {
     "name": "stderr",
     "output_type": "stream",
     "text": [
      "Warn: Ipython shell catchs sys.args\n"
     ]
    },
    {
     "name": "stdout",
     "output_type": "stream",
     "text": [
      "Calculating: 17/50\n",
      "Accuracy (MSE):\n",
      "Orig: 3.884E-06\n",
      "Sym:  3.419E-06\n",
      "Idem: 1.993E-06\n",
      "Idempotency:\n",
      "Orig: 2.054E-03\n",
      "Sym:  1.829E-03\n",
      "Idem: 7.089E-17\n"
     ]
    },
    {
     "name": "stderr",
     "output_type": "stream",
     "text": [
      "Warn: Ipython shell catchs sys.args\n"
     ]
    },
    {
     "name": "stdout",
     "output_type": "stream",
     "text": [
      "Calculating: 18/50\n",
      "Accuracy (MSE):\n",
      "Orig: 4.182E-06\n",
      "Sym:  3.544E-06\n",
      "Idem: 2.309E-06\n",
      "Idempotency:\n",
      "Orig: 2.042E-03\n",
      "Sym:  1.809E-03\n",
      "Idem: 7.116E-17\n"
     ]
    },
    {
     "name": "stderr",
     "output_type": "stream",
     "text": [
      "Warn: Ipython shell catchs sys.args\n"
     ]
    },
    {
     "name": "stdout",
     "output_type": "stream",
     "text": [
      "Calculating: 19/50\n",
      "Accuracy (MSE):\n",
      "Orig: 4.006E-06\n",
      "Sym:  3.515E-06\n",
      "Idem: 2.246E-06\n",
      "Idempotency:\n",
      "Orig: 1.964E-03\n",
      "Sym:  1.719E-03\n",
      "Idem: 7.486E-17\n"
     ]
    },
    {
     "name": "stderr",
     "output_type": "stream",
     "text": [
      "Warn: Ipython shell catchs sys.args\n"
     ]
    },
    {
     "name": "stdout",
     "output_type": "stream",
     "text": [
      "Calculating: 20/50\n",
      "Accuracy (MSE):\n",
      "Orig: 2.861E-06\n",
      "Sym:  2.553E-06\n",
      "Idem: 1.694E-06\n",
      "Idempotency:\n",
      "Orig: 1.635E-03\n",
      "Sym:  1.491E-03\n",
      "Idem: 7.039E-17\n"
     ]
    },
    {
     "name": "stderr",
     "output_type": "stream",
     "text": [
      "Warn: Ipython shell catchs sys.args\n"
     ]
    },
    {
     "name": "stdout",
     "output_type": "stream",
     "text": [
      "Calculating: 21/50\n",
      "Accuracy (MSE):\n",
      "Orig: 3.068E-06\n",
      "Sym:  2.765E-06\n",
      "Idem: 1.611E-06\n",
      "Idempotency:\n",
      "Orig: 1.829E-03\n",
      "Sym:  1.676E-03\n",
      "Idem: 6.792E-17\n"
     ]
    },
    {
     "name": "stderr",
     "output_type": "stream",
     "text": [
      "Warn: Ipython shell catchs sys.args\n"
     ]
    },
    {
     "name": "stdout",
     "output_type": "stream",
     "text": [
      "Calculating: 22/50\n",
      "Accuracy (MSE):\n",
      "Orig: 3.966E-06\n",
      "Sym:  3.494E-06\n",
      "Idem: 1.978E-06\n",
      "Idempotency:\n",
      "Orig: 2.024E-03\n",
      "Sym:  1.863E-03\n",
      "Idem: 6.853E-17\n"
     ]
    },
    {
     "name": "stderr",
     "output_type": "stream",
     "text": [
      "Warn: Ipython shell catchs sys.args\n"
     ]
    },
    {
     "name": "stdout",
     "output_type": "stream",
     "text": [
      "Calculating: 23/50\n",
      "Accuracy (MSE):\n",
      "Orig: 4.959E-06\n",
      "Sym:  4.600E-06\n",
      "Idem: 2.522E-06\n",
      "Idempotency:\n",
      "Orig: 2.118E-03\n",
      "Sym:  1.970E-03\n",
      "Idem: 8.356E-17\n"
     ]
    },
    {
     "name": "stderr",
     "output_type": "stream",
     "text": [
      "Warn: Ipython shell catchs sys.args\n"
     ]
    },
    {
     "name": "stdout",
     "output_type": "stream",
     "text": [
      "Calculating: 24/50\n",
      "Accuracy (MSE):\n",
      "Orig: 2.816E-06\n",
      "Sym:  2.489E-06\n",
      "Idem: 1.754E-06\n",
      "Idempotency:\n",
      "Orig: 1.578E-03\n",
      "Sym:  1.398E-03\n",
      "Idem: 7.501E-17\n"
     ]
    },
    {
     "name": "stderr",
     "output_type": "stream",
     "text": [
      "Warn: Ipython shell catchs sys.args\n"
     ]
    },
    {
     "name": "stdout",
     "output_type": "stream",
     "text": [
      "Calculating: 25/50\n",
      "Accuracy (MSE):\n",
      "Orig: 3.648E-06\n",
      "Sym:  3.268E-06\n",
      "Idem: 2.056E-06\n",
      "Idempotency:\n",
      "Orig: 1.830E-03\n",
      "Sym:  1.657E-03\n",
      "Idem: 6.735E-17\n"
     ]
    },
    {
     "name": "stderr",
     "output_type": "stream",
     "text": [
      "Warn: Ipython shell catchs sys.args\n"
     ]
    },
    {
     "name": "stdout",
     "output_type": "stream",
     "text": [
      "Calculating: 26/50\n",
      "Accuracy (MSE):\n",
      "Orig: 5.545E-06\n",
      "Sym:  5.145E-06\n",
      "Idem: 3.547E-06\n",
      "Idempotency:\n",
      "Orig: 2.094E-03\n",
      "Sym:  1.964E-03\n",
      "Idem: 7.591E-17\n"
     ]
    },
    {
     "name": "stderr",
     "output_type": "stream",
     "text": [
      "Warn: Ipython shell catchs sys.args\n"
     ]
    },
    {
     "name": "stdout",
     "output_type": "stream",
     "text": [
      "Calculating: 27/50\n",
      "Accuracy (MSE):\n",
      "Orig: 4.294E-06\n",
      "Sym:  3.878E-06\n",
      "Idem: 1.515E-06\n",
      "Idempotency:\n",
      "Orig: 2.233E-03\n",
      "Sym:  2.059E-03\n",
      "Idem: 6.681E-17\n"
     ]
    },
    {
     "name": "stderr",
     "output_type": "stream",
     "text": [
      "Warn: Ipython shell catchs sys.args\n"
     ]
    },
    {
     "name": "stdout",
     "output_type": "stream",
     "text": [
      "Calculating: 28/50\n",
      "Accuracy (MSE):\n",
      "Orig: 3.161E-06\n",
      "Sym:  2.860E-06\n",
      "Idem: 1.418E-06\n",
      "Idempotency:\n",
      "Orig: 1.792E-03\n",
      "Sym:  1.648E-03\n",
      "Idem: 7.336E-17\n"
     ]
    },
    {
     "name": "stderr",
     "output_type": "stream",
     "text": [
      "Warn: Ipython shell catchs sys.args\n"
     ]
    },
    {
     "name": "stdout",
     "output_type": "stream",
     "text": [
      "Calculating: 29/50\n",
      "Accuracy (MSE):\n",
      "Orig: 3.364E-06\n",
      "Sym:  3.021E-06\n",
      "Idem: 1.989E-06\n",
      "Idempotency:\n",
      "Orig: 1.733E-03\n",
      "Sym:  1.567E-03\n",
      "Idem: 7.219E-17\n"
     ]
    },
    {
     "name": "stderr",
     "output_type": "stream",
     "text": [
      "Warn: Ipython shell catchs sys.args\n"
     ]
    },
    {
     "name": "stdout",
     "output_type": "stream",
     "text": [
      "Calculating: 30/50\n",
      "Accuracy (MSE):\n",
      "Orig: 3.207E-06\n",
      "Sym:  2.871E-06\n",
      "Idem: 2.173E-06\n",
      "Idempotency:\n",
      "Orig: 1.456E-03\n",
      "Sym:  1.308E-03\n",
      "Idem: 7.408E-17\n"
     ]
    },
    {
     "name": "stderr",
     "output_type": "stream",
     "text": [
      "Warn: Ipython shell catchs sys.args\n"
     ]
    },
    {
     "name": "stdout",
     "output_type": "stream",
     "text": [
      "Calculating: 31/50\n",
      "Accuracy (MSE):\n",
      "Orig: 3.644E-06\n",
      "Sym:  3.260E-06\n",
      "Idem: 1.780E-06\n",
      "Idempotency:\n",
      "Orig: 2.001E-03\n",
      "Sym:  1.853E-03\n",
      "Idem: 7.875E-17\n"
     ]
    },
    {
     "name": "stderr",
     "output_type": "stream",
     "text": [
      "Warn: Ipython shell catchs sys.args\n"
     ]
    },
    {
     "name": "stdout",
     "output_type": "stream",
     "text": [
      "Calculating: 32/50\n",
      "Accuracy (MSE):\n",
      "Orig: 3.208E-06\n",
      "Sym:  2.712E-06\n",
      "Idem: 1.892E-06\n",
      "Idempotency:\n",
      "Orig: 1.781E-03\n",
      "Sym:  1.497E-03\n",
      "Idem: 6.881E-17\n"
     ]
    },
    {
     "name": "stderr",
     "output_type": "stream",
     "text": [
      "Warn: Ipython shell catchs sys.args\n"
     ]
    },
    {
     "name": "stdout",
     "output_type": "stream",
     "text": [
      "Calculating: 33/50\n",
      "Accuracy (MSE):\n",
      "Orig: 3.986E-06\n",
      "Sym:  3.480E-06\n",
      "Idem: 1.901E-06\n",
      "Idempotency:\n",
      "Orig: 2.160E-03\n",
      "Sym:  1.977E-03\n",
      "Idem: 7.586E-17\n"
     ]
    },
    {
     "name": "stderr",
     "output_type": "stream",
     "text": [
      "Warn: Ipython shell catchs sys.args\n"
     ]
    },
    {
     "name": "stdout",
     "output_type": "stream",
     "text": [
      "Calculating: 34/50\n",
      "Accuracy (MSE):\n",
      "Orig: 3.231E-06\n",
      "Sym:  2.853E-06\n",
      "Idem: 1.394E-06\n",
      "Idempotency:\n",
      "Orig: 1.908E-03\n",
      "Sym:  1.735E-03\n",
      "Idem: 7.691E-17\n"
     ]
    },
    {
     "name": "stderr",
     "output_type": "stream",
     "text": [
      "Warn: Ipython shell catchs sys.args\n"
     ]
    },
    {
     "name": "stdout",
     "output_type": "stream",
     "text": [
      "Calculating: 35/50\n",
      "Accuracy (MSE):\n",
      "Orig: 4.609E-06\n",
      "Sym:  4.147E-06\n",
      "Idem: 2.324E-06\n",
      "Idempotency:\n",
      "Orig: 2.154E-03\n",
      "Sym:  1.972E-03\n",
      "Idem: 7.115E-17\n"
     ]
    },
    {
     "name": "stderr",
     "output_type": "stream",
     "text": [
      "Warn: Ipython shell catchs sys.args\n"
     ]
    },
    {
     "name": "stdout",
     "output_type": "stream",
     "text": [
      "Calculating: 36/50\n",
      "Accuracy (MSE):\n",
      "Orig: 1.226E-05\n",
      "Sym:  1.159E-05\n",
      "Idem: 7.696E-06\n",
      "Idempotency:\n",
      "Orig: 3.002E-03\n",
      "Sym:  2.756E-03\n",
      "Idem: 6.560E-17\n"
     ]
    },
    {
     "name": "stderr",
     "output_type": "stream",
     "text": [
      "Warn: Ipython shell catchs sys.args\n"
     ]
    },
    {
     "name": "stdout",
     "output_type": "stream",
     "text": [
      "Calculating: 37/50\n",
      "Accuracy (MSE):\n",
      "Orig: 4.740E-06\n",
      "Sym:  4.346E-06\n",
      "Idem: 1.551E-06\n",
      "Idempotency:\n",
      "Orig: 2.245E-03\n",
      "Sym:  2.077E-03\n",
      "Idem: 7.389E-17\n"
     ]
    },
    {
     "name": "stderr",
     "output_type": "stream",
     "text": [
      "Warn: Ipython shell catchs sys.args\n"
     ]
    },
    {
     "name": "stdout",
     "output_type": "stream",
     "text": [
      "Calculating: 38/50\n",
      "Accuracy (MSE):\n",
      "Orig: 2.447E-06\n",
      "Sym:  2.070E-06\n",
      "Idem: 1.342E-06\n",
      "Idempotency:\n",
      "Orig: 1.593E-03\n",
      "Sym:  1.395E-03\n",
      "Idem: 6.455E-17\n"
     ]
    },
    {
     "name": "stderr",
     "output_type": "stream",
     "text": [
      "Warn: Ipython shell catchs sys.args\n"
     ]
    },
    {
     "name": "stdout",
     "output_type": "stream",
     "text": [
      "Calculating: 39/50\n",
      "Accuracy (MSE):\n",
      "Orig: 2.644E-06\n",
      "Sym:  2.335E-06\n",
      "Idem: 1.577E-06\n",
      "Idempotency:\n",
      "Orig: 1.558E-03\n",
      "Sym:  1.402E-03\n",
      "Idem: 7.890E-17\n"
     ]
    },
    {
     "name": "stderr",
     "output_type": "stream",
     "text": [
      "Warn: Ipython shell catchs sys.args\n"
     ]
    },
    {
     "name": "stdout",
     "output_type": "stream",
     "text": [
      "Calculating: 40/50\n",
      "Accuracy (MSE):\n",
      "Orig: 2.211E-05\n",
      "Sym:  2.139E-05\n",
      "Idem: 1.544E-05\n",
      "Idempotency:\n",
      "Orig: 3.672E-03\n",
      "Sym:  3.484E-03\n",
      "Idem: 7.201E-17\n"
     ]
    },
    {
     "name": "stderr",
     "output_type": "stream",
     "text": [
      "Warn: Ipython shell catchs sys.args\n"
     ]
    },
    {
     "name": "stdout",
     "output_type": "stream",
     "text": [
      "Calculating: 41/50\n",
      "Accuracy (MSE):\n",
      "Orig: 4.461E-06\n",
      "Sym:  4.085E-06\n",
      "Idem: 2.523E-06\n",
      "Idempotency:\n",
      "Orig: 2.052E-03\n",
      "Sym:  1.898E-03\n",
      "Idem: 6.566E-17\n"
     ]
    },
    {
     "name": "stderr",
     "output_type": "stream",
     "text": [
      "Warn: Ipython shell catchs sys.args\n"
     ]
    },
    {
     "name": "stdout",
     "output_type": "stream",
     "text": [
      "Calculating: 42/50\n",
      "Accuracy (MSE):\n",
      "Orig: 4.493E-06\n",
      "Sym:  4.083E-06\n",
      "Idem: 2.079E-06\n",
      "Idempotency:\n",
      "Orig: 2.251E-03\n",
      "Sym:  2.095E-03\n",
      "Idem: 6.800E-17\n"
     ]
    },
    {
     "name": "stderr",
     "output_type": "stream",
     "text": [
      "Warn: Ipython shell catchs sys.args\n"
     ]
    },
    {
     "name": "stdout",
     "output_type": "stream",
     "text": [
      "Calculating: 43/50\n",
      "Accuracy (MSE):\n",
      "Orig: 5.723E-06\n",
      "Sym:  5.226E-06\n",
      "Idem: 3.003E-06\n",
      "Idempotency:\n",
      "Orig: 2.319E-03\n",
      "Sym:  2.135E-03\n",
      "Idem: 7.025E-17\n"
     ]
    },
    {
     "name": "stderr",
     "output_type": "stream",
     "text": [
      "Warn: Ipython shell catchs sys.args\n"
     ]
    },
    {
     "name": "stdout",
     "output_type": "stream",
     "text": [
      "Calculating: 44/50\n",
      "Accuracy (MSE):\n",
      "Orig: 5.516E-06\n",
      "Sym:  4.819E-06\n",
      "Idem: 2.455E-06\n",
      "Idempotency:\n",
      "Orig: 2.580E-03\n",
      "Sym:  2.356E-03\n",
      "Idem: 7.554E-17\n"
     ]
    },
    {
     "name": "stderr",
     "output_type": "stream",
     "text": [
      "Warn: Ipython shell catchs sys.args\n"
     ]
    },
    {
     "name": "stdout",
     "output_type": "stream",
     "text": [
      "Calculating: 45/50\n",
      "Accuracy (MSE):\n",
      "Orig: 7.035E-06\n",
      "Sym:  6.601E-06\n",
      "Idem: 3.707E-06\n",
      "Idempotency:\n",
      "Orig: 2.468E-03\n",
      "Sym:  2.309E-03\n",
      "Idem: 7.232E-17\n"
     ]
    },
    {
     "name": "stderr",
     "output_type": "stream",
     "text": [
      "Warn: Ipython shell catchs sys.args\n"
     ]
    },
    {
     "name": "stdout",
     "output_type": "stream",
     "text": [
      "Calculating: 46/50\n",
      "Accuracy (MSE):\n",
      "Orig: 3.257E-06\n",
      "Sym:  2.912E-06\n",
      "Idem: 2.183E-06\n",
      "Idempotency:\n",
      "Orig: 1.513E-03\n",
      "Sym:  1.348E-03\n",
      "Idem: 6.382E-17\n"
     ]
    },
    {
     "name": "stderr",
     "output_type": "stream",
     "text": [
      "Warn: Ipython shell catchs sys.args\n"
     ]
    },
    {
     "name": "stdout",
     "output_type": "stream",
     "text": [
      "Calculating: 47/50\n",
      "Accuracy (MSE):\n",
      "Orig: 2.569E-06\n",
      "Sym:  2.177E-06\n",
      "Idem: 1.302E-06\n",
      "Idempotency:\n",
      "Orig: 1.787E-03\n",
      "Sym:  1.584E-03\n",
      "Idem: 7.202E-17\n"
     ]
    },
    {
     "name": "stderr",
     "output_type": "stream",
     "text": [
      "Warn: Ipython shell catchs sys.args\n"
     ]
    },
    {
     "name": "stdout",
     "output_type": "stream",
     "text": [
      "Calculating: 48/50\n",
      "Accuracy (MSE):\n",
      "Orig: 3.379E-06\n",
      "Sym:  2.918E-06\n",
      "Idem: 1.332E-06\n",
      "Idempotency:\n",
      "Orig: 2.041E-03\n",
      "Sym:  1.863E-03\n",
      "Idem: 7.906E-17\n"
     ]
    },
    {
     "name": "stderr",
     "output_type": "stream",
     "text": [
      "Warn: Ipython shell catchs sys.args\n"
     ]
    },
    {
     "name": "stdout",
     "output_type": "stream",
     "text": [
      "Calculating: 49/50\n",
      "Accuracy (MSE):\n",
      "Orig: 3.126E-06\n",
      "Sym:  2.660E-06\n",
      "Idem: 1.240E-06\n",
      "Idempotency:\n",
      "Orig: 1.969E-03\n",
      "Sym:  1.791E-03\n",
      "Idem: 7.622E-17\n"
     ]
    },
    {
     "name": "stderr",
     "output_type": "stream",
     "text": [
      "Warn: Ipython shell catchs sys.args\n"
     ]
    },
    {
     "name": "stdout",
     "output_type": "stream",
     "text": [
      "Calculating: 50/50\n",
      "Accuracy (MSE):\n",
      "Orig: 6.043E-06\n",
      "Sym:  5.652E-06\n",
      "Idem: 3.129E-06\n",
      "Idempotency:\n",
      "Orig: 2.287E-03\n",
      "Sym:  2.133E-03\n",
      "Idem: 6.673E-17\n"
     ]
    }
   ],
   "source": [
    "from pyscf.scf import hf\n",
    "from SCFInitialGuess.utilities.plotutils import prediction_scatter\n",
    "\n",
    "dim = 26\n",
    "\n",
    "\n",
    "\n",
    "iterations = []\n",
    "for i, (molecule, p) in enumerate(zip(molecules_test, P_test)):\n",
    "    \n",
    "    mol = molecule.get_pyscf_molecule()\n",
    "    \n",
    "    \n",
    "    print(\"Calculating: \" + str(i + 1) + \"/\" + str(len(molecules_test)))\n",
    "    \n",
    "\n",
    "    s_raw = hf.get_ovlp(mol)\n",
    "    s_norm = dataset.input_transformation(s_raw.reshape(1, dim**2))\n",
    "    \n",
    "    with graph_orig.as_default():\n",
    "        P_orig = network_orig.run(sess_orig, s_norm).reshape(dim, dim).astype('float64')\n",
    "        \n",
    "        P_orig_sym = (P_orig + P_orig.T) / 2\n",
    "        P_orig_idem = multi_mc_wheeny(P_orig, s_raw, n_max=5)\n",
    "        \n",
    "        # check errors\n",
    "        print(\"Accuracy (MSE):\")\n",
    "        print(\" -Orig: {:0.3E}\".format(np.mean(np.abs(p.reshape(dim, dim) - P_orig)**2)))\n",
    "        print(\" -Sym:  {:0.3E}\".format(np.mean(np.abs(p.reshape(dim, dim) - P_orig_sym)**2)))\n",
    "        print(\" -Idem: {:0.3E}\".format(np.mean(np.abs(p.reshape(dim, dim) - P_orig_idem)**2)))\n",
    "        \n",
    "        print(\"Idempotency:\")\n",
    "        print(\" -Orig: {:0.3E}\".format(idemp_error(P_orig, s_raw)))\n",
    "        print(\" -Sym:  {:0.3E}\".format(idemp_error(P_orig_sym, s_raw)))\n",
    "        print(\" -Idem: {:0.3E}\".format(idemp_error(P_orig_idem, s_raw)))\n",
    "\n",
    "    \n",
    "    # P_actual wi noise\n",
    "    p_noise = p.reshape(dim, dim) + np.random.randn(dim, dim) * 1e-4\n",
    "    \n",
    "    \n",
    "    iterations_molecule = []\n",
    "\n",
    "    for guess in [p_noise, P_orig, P_orig_sym, P_orig_idem]:\n",
    "        mf = hf.RHF(mol)\n",
    "        mf.diis = None\n",
    "        mf.verbose = 1\n",
    "        mf.kernel(dm0=guess)\n",
    "        iterations_molecule.append(mf.iterations)\n",
    "    \n",
    "    iterations.append(iterations_molecule)\n",
    "\n",
    "iterations = np.array(iterations)"
   ]
  },
  {
   "cell_type": "code",
   "execution_count": 11,
   "metadata": {},
   "outputs": [
    {
     "name": "stdout",
     "output_type": "stream",
     "text": [
      "[  5.62  12.06  12.04   9.12]\n"
     ]
    }
   ],
   "source": [
    "print(np.mean(iterations,0))"
   ]
  },
  {
   "cell_type": "code",
   "execution_count": null,
   "metadata": {
    "collapsed": true
   },
   "outputs": [],
   "source": []
  }
 ],
 "metadata": {
  "kernelspec": {
   "display_name": "Python 3",
   "language": "python",
   "name": "python3"
  },
  "language_info": {
   "codemirror_mode": {
    "name": "ipython",
    "version": 3
   },
   "file_extension": ".py",
   "mimetype": "text/x-python",
   "name": "python",
   "nbconvert_exporter": "python",
   "pygments_lexer": "ipython3",
   "version": "3.6.2"
  }
 },
 "nbformat": 4,
 "nbformat_minor": 2
}
