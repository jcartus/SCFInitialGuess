{
 "cells": [
  {
   "cell_type": "code",
   "execution_count": 1,
   "metadata": {},
   "outputs": [
    {
     "name": "stderr",
     "output_type": "stream",
     "text": [
      "/home/jo/anaconda3/lib/python3.6/site-packages/h5py/__init__.py:36: FutureWarning: Conversion of the second argument of issubdtype from `float` to `np.floating` is deprecated. In future, it will be treated as `np.float64 == np.dtype(float).type`.\n",
      "  from ._conv import register_converters as _register_converters\n"
     ]
    }
   ],
   "source": [
    "import numpy as np\n",
    "import matplotlib.pyplot as plt\n",
    "import tensorflow as tf\n",
    "\n",
    "import matplotlib as mpl\n",
    "\n",
    "mpl.style.use(\"seaborn\")\n"
   ]
  },
  {
   "cell_type": "code",
   "execution_count": 2,
   "metadata": {},
   "outputs": [],
   "source": [
    "S, P = np.load(\"../data/dataset.npy\")\n",
    "molecules = np.load(\"../data/molecules.npy\")"
   ]
  },
  {
   "cell_type": "code",
   "execution_count": 3,
   "metadata": {},
   "outputs": [
    {
     "name": "stdout",
     "output_type": "stream",
     "text": [
      "[-] 2018-04-19 22:10:41: Data set normalized. Mean value std: 0.00870849180058354\n"
     ]
    }
   ],
   "source": [
    "from SCFInitialGuess.utilities.dataset import Dataset\n",
    "\n",
    "dim = 26\n",
    "\n",
    "ind_cut = 150\n",
    "index = np.arange(200)\n",
    "np.random.shuffle(index)\n",
    "\n",
    "S_test = np.array(S)[index[150:]]\n",
    "P_test = np.array(P)[index[150:]]\n",
    "molecules_test = [molecules[index[i]] for i in range(150, 200)]\n",
    "\n",
    "S_train = np.array(S)[index[:150]]\n",
    "P_train = np.array(P)[index[:150]]\n",
    "molecules_train = [molecules[index[i]] for i in range(150)]\n",
    "\n",
    "dataset = Dataset(np.array(S_train), np.array(P_train), split_test=0.0)\n",
    "\n",
    "dataset.testing = (Dataset.normalize(S_test, mean=dataset.x_mean, std=dataset.x_std)[0], P_test)"
   ]
  },
  {
   "cell_type": "code",
   "execution_count": 4,
   "metadata": {
    "scrolled": true
   },
   "outputs": [
    {
     "name": "stdout",
     "output_type": "stream",
     "text": [
      "[-] 2018-04-19 22:10:41: No target graph specified for Trainer setup. Creating new graph ...\n",
      "[-] 2018-04-19 22:10:41: Setting up the training in the target graph ...\n",
      "[-] 2018-04-19 22:10:41: network ...\n",
      "[-] 2018-04-19 22:10:41: error function ...\n",
      "[-] 2018-04-19 22:10:41: cost function ...\n",
      "[-] 2018-04-19 22:10:41: training step\n",
      "[-] 2018-04-19 22:10:42: Starting network training ...\n",
      "[ ] 2018-04-19 22:10:42: Val. Cost: 5.797E-02. Error: 5.797E-02. Diff: 1.0E+10\n",
      "[ ] 2018-04-19 22:10:44: Val. Cost: 4.027E-05. Error: 3.437E-05. Diff: 5.8E-02\n",
      "[ ] 2018-04-19 22:10:45: Val. Cost: 2.568E-05. Error: 1.988E-05. Diff: 1.4E-05\n",
      "[ ] 2018-04-19 22:10:47: Val. Cost: 4.679E-05. Error: 4.107E-05. Diff: 2.1E-05\n",
      "[ ] 2018-04-19 22:10:49: Val. Cost: 4.718E-05. Error: 4.153E-05. Diff: 4.6E-07\n",
      "[ ] 2018-04-19 22:10:52: Val. Cost: 2.693E-05. Error: 2.136E-05. Diff: 2.0E-05\n",
      "[ ] 2018-04-19 22:10:53: Val. Cost: 2.931E-05. Error: 2.383E-05. Diff: 2.5E-06\n",
      "[ ] 2018-04-19 22:10:55: Val. Cost: 1.845E-05. Error: 1.307E-05. Diff: 1.1E-05\n",
      "[ ] 2018-04-19 22:10:57: Val. Cost: 1.237E-05. Error: 7.101E-06. Diff: 6.0E-06\n",
      "[ ] 2018-04-19 22:10:59: Val. Cost: 3.024E-05. Error: 2.506E-05. Diff: 1.8E-05\n",
      "[ ] 2018-04-19 22:11:00: Val. Cost: 9.294E-06. Error: 4.235E-06. Diff: 2.1E-05\n",
      "[-] 2018-04-19 22:11:02: Convergence reached after 2200 steps.\n",
      "[-] 2018-04-19 22:11:02: Test error: 2.76328E-06\n"
     ]
    }
   ],
   "source": [
    "from SCFInitialGuess.nn.networks import EluTrNNN\n",
    "from SCFInitialGuess.nn.training import Trainer, RegularizedMSE\n",
    "\n",
    "trainer = Trainer(\n",
    "    EluTrNNN([dim**2,700, 700, dim**2]),\n",
    "    cost_function=RegularizedMSE(alpha=1e-7),\n",
    "    optimizer=tf.train.AdamOptimizer(learning_rate=1e-3)\n",
    ")\n",
    "\n",
    "trainer.setup()\n",
    "network_orig, sess_orig = trainer.train(\n",
    "    dataset,\n",
    "    convergence_threshold=1e-7\n",
    ")\n",
    "graph_orig = trainer.graph"
   ]
  },
  {
   "cell_type": "markdown",
   "metadata": {},
   "source": [
    "$P'= \\dfrac{3}{2} PSP - \\dfrac{2}{2 \\cdot 2}PSPSP $"
   ]
  },
  {
   "cell_type": "code",
   "execution_count": 5,
   "metadata": {},
   "outputs": [],
   "source": [
    "def mc_wheeny_purification(p,s):\n",
    "    p = p.reshape(dim, dim)\n",
    "    s = s.reshape(dim, dim)\n",
    "    return (3 * np.dot(np.dot(p, s), p) - np.dot(np.dot(np.dot(np.dot(p, s), p), s), p)) / 2\n",
    "\n",
    "def multi_mc_wheeny(p, s, n_max=4):\n",
    "    for i in range(n_max):\n",
    "        p = mc_wheeny_purification(p, s)\n",
    "    return p\n",
    "\n",
    "def idemp_error(p, s):\n",
    "    p = p.reshape(dim, dim)\n",
    "    s = s.reshape(dim, dim)\n",
    "    return np.mean(np.abs(np.dot(np.dot(p, s), p) - 2 * p))\n"
   ]
  },
  {
   "cell_type": "code",
   "execution_count": 6,
   "metadata": {},
   "outputs": [
    {
     "name": "stdout",
     "output_type": "stream",
     "text": [
      "Orip:         2.991E-16\n",
      "Orig prurif:  7.800E-17\n",
      "NN:           1.689E-03\n",
      "NN pruified:  2.814E-05\n",
      "NN multified: 7.060E-17\n",
      "Value before: 1.065E-03\n",
      "Value multi :  6.615E-04\n",
      "Is nan: 0\n",
      "Is inf: 0\n",
      "Is fin: 676\n",
      "--------------------\n",
      "Orip:         2.657E-16\n",
      "Orig prurif:  8.632E-17\n",
      "NN:           1.794E-03\n",
      "NN pruified:  2.254E-05\n",
      "NN multified: 6.380E-17\n",
      "Value before: 1.227E-03\n",
      "Value multi :  8.646E-04\n",
      "Is nan: 0\n",
      "Is inf: 0\n",
      "Is fin: 676\n",
      "--------------------\n",
      "Orip:         2.750E-16\n",
      "Orig prurif:  7.025E-17\n",
      "NN:           2.147E-03\n",
      "NN pruified:  4.667E-05\n",
      "NN multified: 6.889E-17\n",
      "Value before: 1.453E-03\n",
      "Value multi :  9.495E-04\n",
      "Is nan: 0\n",
      "Is inf: 0\n",
      "Is fin: 676\n",
      "--------------------\n",
      "Orip:         2.714E-16\n",
      "Orig prurif:  7.962E-17\n",
      "NN:           1.183E-03\n",
      "NN pruified:  1.112E-05\n",
      "NN multified: 6.613E-17\n",
      "Value before: 7.670E-04\n",
      "Value multi :  4.938E-04\n",
      "Is nan: 0\n",
      "Is inf: 0\n",
      "Is fin: 676\n",
      "--------------------\n",
      "Orip:         2.869E-16\n",
      "Orig prurif:  9.067E-17\n",
      "NN:           1.918E-03\n",
      "NN pruified:  4.323E-05\n",
      "NN multified: 6.319E-17\n",
      "Value before: 1.288E-03\n",
      "Value multi :  8.720E-04\n",
      "Is nan: 0\n",
      "Is inf: 0\n",
      "Is fin: 676\n",
      "--------------------\n",
      "Orip:         2.052E-16\n",
      "Orig prurif:  7.492E-17\n",
      "NN:           1.881E-03\n",
      "NN pruified:  3.987E-05\n",
      "NN multified: 7.349E-17\n",
      "Value before: 1.228E-03\n",
      "Value multi :  7.344E-04\n",
      "Is nan: 0\n",
      "Is inf: 0\n",
      "Is fin: 676\n",
      "--------------------\n",
      "Orip:         3.103E-16\n",
      "Orig prurif:  8.405E-17\n",
      "NN:           1.949E-03\n",
      "NN pruified:  4.896E-05\n",
      "NN multified: 6.182E-17\n",
      "Value before: 1.131E-03\n",
      "Value multi :  5.981E-04\n",
      "Is nan: 0\n",
      "Is inf: 0\n",
      "Is fin: 676\n",
      "--------------------\n",
      "Orip:         2.631E-16\n",
      "Orig prurif:  7.156E-17\n",
      "NN:           1.795E-03\n",
      "NN pruified:  3.304E-05\n",
      "NN multified: 6.269E-17\n",
      "Value before: 1.254E-03\n",
      "Value multi :  8.440E-04\n",
      "Is nan: 0\n",
      "Is inf: 0\n",
      "Is fin: 676\n",
      "--------------------\n",
      "Orip:         2.985E-16\n",
      "Orig prurif:  8.573E-17\n",
      "NN:           1.792E-03\n",
      "NN pruified:  3.536E-05\n",
      "NN multified: 6.882E-17\n",
      "Value before: 1.137E-03\n",
      "Value multi :  6.326E-04\n",
      "Is nan: 0\n",
      "Is inf: 0\n",
      "Is fin: 676\n",
      "--------------------\n",
      "Orip:         2.806E-16\n",
      "Orig prurif:  7.818E-17\n",
      "NN:           2.057E-03\n",
      "NN pruified:  3.413E-05\n",
      "NN multified: 6.678E-17\n",
      "Value before: 1.423E-03\n",
      "Value multi :  9.803E-04\n",
      "Is nan: 0\n",
      "Is inf: 0\n",
      "Is fin: 676\n",
      "--------------------\n",
      "Orip:         2.886E-16\n",
      "Orig prurif:  8.229E-17\n",
      "NN:           1.604E-03\n",
      "NN pruified:  2.249E-05\n",
      "NN multified: 6.484E-17\n",
      "Value before: 1.101E-03\n",
      "Value multi :  7.390E-04\n",
      "Is nan: 0\n",
      "Is inf: 0\n",
      "Is fin: 676\n",
      "--------------------\n",
      "Orip:         3.177E-16\n",
      "Orig prurif:  7.845E-17\n",
      "NN:           1.566E-03\n",
      "NN pruified:  1.645E-05\n",
      "NN multified: 6.863E-17\n",
      "Value before: 1.113E-03\n",
      "Value multi :  7.913E-04\n",
      "Is nan: 0\n",
      "Is inf: 0\n",
      "Is fin: 676\n",
      "--------------------\n",
      "Orip:         2.446E-16\n",
      "Orig prurif:  7.818E-17\n",
      "NN:           1.529E-03\n",
      "NN pruified:  2.047E-05\n",
      "NN multified: 6.476E-17\n",
      "Value before: 1.050E-03\n",
      "Value multi :  7.171E-04\n",
      "Is nan: 0\n",
      "Is inf: 0\n",
      "Is fin: 676\n",
      "--------------------\n",
      "Orip:         2.841E-16\n",
      "Orig prurif:  8.804E-17\n",
      "NN:           1.538E-03\n",
      "NN pruified:  2.096E-05\n",
      "NN multified: 6.937E-17\n",
      "Value before: 1.039E-03\n",
      "Value multi :  7.180E-04\n",
      "Is nan: 0\n",
      "Is inf: 0\n",
      "Is fin: 676\n",
      "--------------------\n",
      "Orip:         2.828E-16\n",
      "Orig prurif:  7.817E-17\n",
      "NN:           1.436E-03\n",
      "NN pruified:  1.447E-05\n",
      "NN multified: 5.811E-17\n",
      "Value before: 9.896E-04\n",
      "Value multi :  6.565E-04\n",
      "Is nan: 0\n",
      "Is inf: 0\n",
      "Is fin: 676\n",
      "--------------------\n",
      "Orip:         2.369E-16\n",
      "Orig prurif:  7.288E-17\n",
      "NN:           1.517E-03\n",
      "NN pruified:  1.925E-05\n",
      "NN multified: 6.859E-17\n",
      "Value before: 1.073E-03\n",
      "Value multi :  7.576E-04\n",
      "Is nan: 0\n",
      "Is inf: 0\n",
      "Is fin: 676\n",
      "--------------------\n",
      "Orip:         3.123E-16\n",
      "Orig prurif:  7.583E-17\n",
      "NN:           1.486E-03\n",
      "NN pruified:  2.136E-05\n",
      "NN multified: 6.602E-17\n",
      "Value before: 1.050E-03\n",
      "Value multi :  7.178E-04\n",
      "Is nan: 0\n",
      "Is inf: 0\n",
      "Is fin: 676\n",
      "--------------------\n",
      "Orip:         3.025E-16\n",
      "Orig prurif:  7.126E-17\n",
      "NN:           2.633E-03\n",
      "NN pruified:  9.627E-05\n",
      "NN multified: 6.500E-17\n",
      "Value before: 1.549E-03\n",
      "Value multi :  7.565E-04\n",
      "Is nan: 0\n",
      "Is inf: 0\n",
      "Is fin: 676\n",
      "--------------------\n",
      "Orip:         3.257E-16\n",
      "Orig prurif:  7.843E-17\n",
      "NN:           2.472E-03\n",
      "NN pruified:  7.431E-05\n",
      "NN multified: 7.770E-17\n",
      "Value before: 1.426E-03\n",
      "Value multi :  7.692E-04\n",
      "Is nan: 0\n",
      "Is inf: 0\n",
      "Is fin: 676\n",
      "--------------------\n",
      "Orip:         3.228E-16\n",
      "Orig prurif:  7.516E-17\n",
      "NN:           1.590E-03\n",
      "NN pruified:  2.796E-05\n",
      "NN multified: 6.517E-17\n",
      "Value before: 1.011E-03\n",
      "Value multi :  5.925E-04\n",
      "Is nan: 0\n",
      "Is inf: 0\n",
      "Is fin: 676\n",
      "--------------------\n",
      "Orip:         2.289E-16\n",
      "Orig prurif:  8.271E-17\n",
      "NN:           1.187E-03\n",
      "NN pruified:  9.899E-06\n",
      "NN multified: 6.502E-17\n",
      "Value before: 8.258E-04\n",
      "Value multi :  5.751E-04\n",
      "Is nan: 0\n",
      "Is inf: 0\n",
      "Is fin: 676\n",
      "--------------------\n",
      "Orip:         3.608E-16\n",
      "Orig prurif:  8.187E-17\n",
      "NN:           1.623E-03\n",
      "NN pruified:  2.135E-05\n",
      "NN multified: 6.274E-17\n",
      "Value before: 1.139E-03\n",
      "Value multi :  7.796E-04\n",
      "Is nan: 0\n",
      "Is inf: 0\n",
      "Is fin: 676\n",
      "--------------------\n",
      "Orip:         3.112E-16\n",
      "Orig prurif:  8.511E-17\n",
      "NN:           1.918E-03\n",
      "NN pruified:  3.133E-05\n",
      "NN multified: 7.289E-17\n",
      "Value before: 1.345E-03\n",
      "Value multi :  9.235E-04\n",
      "Is nan: 0\n",
      "Is inf: 0\n",
      "Is fin: 676\n",
      "--------------------\n",
      "Orip:         3.134E-16\n",
      "Orig prurif:  7.734E-17\n",
      "NN:           2.844E-03\n",
      "NN pruified:  1.009E-04\n",
      "NN multified: 7.443E-17\n",
      "Value before: 1.684E-03\n",
      "Value multi :  8.868E-04\n",
      "Is nan: 0\n",
      "Is inf: 0\n",
      "Is fin: 676\n",
      "--------------------\n",
      "Orip:         2.564E-16\n",
      "Orig prurif:  7.652E-17\n",
      "NN:           1.482E-03\n",
      "NN pruified:  1.897E-05\n",
      "NN multified: 7.754E-17\n",
      "Value before: 9.822E-04\n",
      "Value multi :  6.585E-04\n",
      "Is nan: 0\n",
      "Is inf: 0\n",
      "Is fin: 676\n",
      "--------------------\n",
      "Orip:         3.156E-16\n",
      "Orig prurif:  8.387E-17\n",
      "NN:           1.353E-03\n",
      "NN pruified:  1.134E-05\n",
      "NN multified: 5.664E-17\n",
      "Value before: 9.957E-04\n",
      "Value multi :  7.183E-04\n",
      "Is nan: 0\n",
      "Is inf: 0\n",
      "Is fin: 676\n",
      "--------------------\n",
      "Orip:         3.319E-16\n",
      "Orig prurif:  8.028E-17\n",
      "NN:           1.494E-03\n",
      "NN pruified:  1.984E-05\n",
      "NN multified: 6.796E-17\n",
      "Value before: 1.118E-03\n",
      "Value multi :  7.959E-04\n",
      "Is nan: 0\n",
      "Is inf: 0\n",
      "Is fin: 676\n",
      "--------------------\n",
      "Orip:         2.666E-16\n",
      "Orig prurif:  8.312E-17\n",
      "NN:           1.969E-03\n",
      "NN pruified:  4.309E-05\n",
      "NN multified: 6.758E-17\n",
      "Value before: 1.329E-03\n",
      "Value multi :  8.499E-04\n",
      "Is nan: 0\n",
      "Is inf: 0\n",
      "Is fin: 676\n",
      "--------------------\n",
      "Orip:         2.790E-16\n",
      "Orig prurif:  8.338E-17\n",
      "NN:           1.866E-03\n",
      "NN pruified:  2.091E-05\n",
      "NN multified: 6.430E-17\n",
      "Value before: 1.235E-03\n",
      "Value multi :  9.164E-04\n",
      "Is nan: 0\n",
      "Is inf: 0\n",
      "Is fin: 676\n",
      "--------------------\n",
      "Orip:         3.309E-16\n",
      "Orig prurif:  7.861E-17\n",
      "NN:           1.601E-03\n",
      "NN pruified:  1.950E-05\n",
      "NN multified: 6.623E-17\n",
      "Value before: 1.113E-03\n",
      "Value multi :  7.756E-04\n",
      "Is nan: 0\n",
      "Is inf: 0\n",
      "Is fin: 676\n",
      "--------------------\n",
      "Orip:         2.748E-16\n",
      "Orig prurif:  8.598E-17\n",
      "NN:           1.532E-03\n",
      "NN pruified:  1.766E-05\n",
      "NN multified: 6.714E-17\n",
      "Value before: 1.060E-03\n",
      "Value multi :  7.032E-04\n",
      "Is nan: 0\n",
      "Is inf: 0\n",
      "Is fin: 676\n",
      "--------------------\n",
      "Orip:         2.693E-16\n",
      "Orig prurif:  7.911E-17\n",
      "NN:           1.276E-03\n",
      "NN pruified:  1.889E-05\n",
      "NN multified: 6.997E-17\n",
      "Value before: 7.896E-04\n",
      "Value multi :  4.613E-04\n",
      "Is nan: 0\n",
      "Is inf: 0\n",
      "Is fin: 676\n",
      "--------------------\n",
      "Orip:         2.906E-16\n",
      "Orig prurif:  8.392E-17\n",
      "NN:           1.202E-03\n",
      "NN pruified:  1.477E-05\n",
      "NN multified: 7.131E-17\n",
      "Value before: 7.759E-04\n",
      "Value multi :  5.209E-04\n",
      "Is nan: 0\n",
      "Is inf: 0\n",
      "Is fin: 676\n",
      "--------------------\n",
      "Orip:         2.238E-16\n",
      "Orig prurif:  7.456E-17\n",
      "NN:           1.278E-03\n",
      "NN pruified:  1.671E-05\n",
      "NN multified: 6.794E-17\n",
      "Value before: 8.341E-04\n",
      "Value multi :  5.466E-04\n",
      "Is nan: 0\n",
      "Is inf: 0\n",
      "Is fin: 676\n",
      "--------------------\n",
      "Orip:         2.874E-16\n",
      "Orig prurif:  7.685E-17\n",
      "NN:           2.928E-03\n",
      "NN pruified:  1.107E-04\n",
      "NN multified: 6.152E-17\n",
      "Value before: 1.806E-03\n",
      "Value multi :  1.023E-03\n",
      "Is nan: 0\n",
      "Is inf: 0\n",
      "Is fin: 676\n",
      "--------------------\n",
      "Orip:         2.767E-16\n",
      "Orig prurif:  8.082E-17\n",
      "NN:           2.323E-03\n",
      "NN pruified:  7.242E-05\n",
      "NN multified: 6.443E-17\n",
      "Value before: 1.301E-03\n",
      "Value multi :  6.227E-04\n",
      "Is nan: 0\n",
      "Is inf: 0\n",
      "Is fin: 676\n",
      "--------------------\n",
      "Orip:         3.349E-16\n",
      "Orig prurif:  7.297E-17\n",
      "NN:           2.141E-03\n",
      "NN pruified:  4.911E-05\n",
      "NN multified: 6.689E-17\n",
      "Value before: 1.364E-03\n",
      "Value multi :  8.251E-04\n",
      "Is nan: 0\n",
      "Is inf: 0\n",
      "Is fin: 676\n",
      "--------------------\n",
      "Orip:         3.268E-16\n",
      "Orig prurif:  9.425E-17\n",
      "NN:           1.322E-03\n",
      "NN pruified:  1.061E-05\n",
      "NN multified: 6.061E-17\n",
      "Value before: 9.339E-04\n",
      "Value multi :  6.592E-04\n",
      "Is nan: 0\n",
      "Is inf: 0\n",
      "Is fin: 676\n",
      "--------------------\n",
      "Orip:         2.420E-16\n",
      "Orig prurif:  8.538E-17\n"
     ]
    },
    {
     "name": "stdout",
     "output_type": "stream",
     "text": [
      "NN:           1.699E-03\n",
      "NN pruified:  2.883E-05\n",
      "NN multified: 6.030E-17\n",
      "Value before: 1.071E-03\n",
      "Value multi :  6.173E-04\n",
      "Is nan: 0\n",
      "Is inf: 0\n",
      "Is fin: 676\n",
      "--------------------\n",
      "Orip:         2.503E-16\n",
      "Orig prurif:  8.872E-17\n",
      "NN:           1.883E-03\n",
      "NN pruified:  3.391E-05\n",
      "NN multified: 6.808E-17\n",
      "Value before: 1.283E-03\n",
      "Value multi :  8.466E-04\n",
      "Is nan: 0\n",
      "Is inf: 0\n",
      "Is fin: 676\n",
      "--------------------\n",
      "Orip:         3.159E-16\n",
      "Orig prurif:  8.060E-17\n",
      "NN:           2.525E-03\n",
      "NN pruified:  7.834E-05\n",
      "NN multified: 6.812E-17\n",
      "Value before: 1.435E-03\n",
      "Value multi :  8.333E-04\n",
      "Is nan: 0\n",
      "Is inf: 0\n",
      "Is fin: 676\n",
      "--------------------\n",
      "Orip:         2.519E-16\n",
      "Orig prurif:  8.506E-17\n",
      "NN:           1.495E-03\n",
      "NN pruified:  1.686E-05\n",
      "NN multified: 5.905E-17\n",
      "Value before: 1.028E-03\n",
      "Value multi :  7.235E-04\n",
      "Is nan: 0\n",
      "Is inf: 0\n",
      "Is fin: 676\n",
      "--------------------\n",
      "Orip:         2.765E-16\n",
      "Orig prurif:  8.292E-17\n",
      "NN:           1.372E-03\n",
      "NN pruified:  1.878E-05\n",
      "NN multified: 6.653E-17\n",
      "Value before: 9.249E-04\n",
      "Value multi :  5.799E-04\n",
      "Is nan: 0\n",
      "Is inf: 0\n",
      "Is fin: 676\n",
      "--------------------\n",
      "Orip:         2.973E-16\n",
      "Orig prurif:  9.019E-17\n",
      "NN:           1.340E-03\n",
      "NN pruified:  1.196E-05\n",
      "NN multified: 6.708E-17\n",
      "Value before: 9.265E-04\n",
      "Value multi :  6.635E-04\n",
      "Is nan: 0\n",
      "Is inf: 0\n",
      "Is fin: 676\n",
      "--------------------\n",
      "Orip:         2.462E-16\n",
      "Orig prurif:  7.897E-17\n",
      "NN:           1.910E-03\n",
      "NN pruified:  3.555E-05\n",
      "NN multified: 7.080E-17\n",
      "Value before: 1.250E-03\n",
      "Value multi :  7.857E-04\n",
      "Is nan: 0\n",
      "Is inf: 0\n",
      "Is fin: 676\n",
      "--------------------\n",
      "Orip:         3.690E-16\n",
      "Orig prurif:  8.328E-17\n",
      "NN:           1.241E-03\n",
      "NN pruified:  1.253E-05\n",
      "NN multified: 6.507E-17\n",
      "Value before: 8.994E-04\n",
      "Value multi :  6.179E-04\n",
      "Is nan: 0\n",
      "Is inf: 0\n",
      "Is fin: 676\n",
      "--------------------\n",
      "Orip:         3.114E-16\n",
      "Orig prurif:  8.700E-17\n",
      "NN:           1.275E-03\n",
      "NN pruified:  1.070E-05\n",
      "NN multified: 6.598E-17\n",
      "Value before: 8.766E-04\n",
      "Value multi :  5.944E-04\n",
      "Is nan: 0\n",
      "Is inf: 0\n",
      "Is fin: 676\n",
      "--------------------\n",
      "Orip:         3.389E-16\n",
      "Orig prurif:  7.736E-17\n",
      "NN:           2.313E-03\n",
      "NN pruified:  6.277E-05\n",
      "NN multified: 6.639E-17\n",
      "Value before: 1.449E-03\n",
      "Value multi :  8.151E-04\n",
      "Is nan: 0\n",
      "Is inf: 0\n",
      "Is fin: 676\n",
      "--------------------\n",
      "Orip:         2.881E-16\n",
      "Orig prurif:  7.200E-17\n",
      "NN:           1.709E-03\n",
      "NN pruified:  2.045E-05\n",
      "NN multified: 6.172E-17\n",
      "Value before: 1.252E-03\n",
      "Value multi :  9.100E-04\n",
      "Is nan: 0\n",
      "Is inf: 0\n",
      "Is fin: 676\n",
      "--------------------\n",
      "Orip:         2.666E-16\n",
      "Orig prurif:  8.108E-17\n",
      "NN:           1.028E-03\n",
      "NN pruified:  9.437E-06\n",
      "NN multified: 7.127E-17\n",
      "Value before: 6.421E-04\n",
      "Value multi :  4.084E-04\n",
      "Is nan: 0\n",
      "Is inf: 0\n",
      "Is fin: 676\n",
      "--------------------\n"
     ]
    }
   ],
   "source": [
    "#for (s, p) in zip(*dataset.testing):\n",
    "for (s, p) in zip(S_test, P_test):\n",
    "    \n",
    "    #s_norm = s.reshape(1, dim**2)\n",
    "    s_norm = dataset.input_transformation(s.reshape(1, dim**2))\n",
    "    \n",
    "    print(\"Orip:         {:0.3E}\".format(idemp_error(p, s))) \n",
    "    print(\"Orig prurif:  {:0.3E}\".format(idemp_error(mc_wheeny_purification(p, s), s)))\n",
    "    \n",
    "    with graph_orig.as_default():\n",
    "        p_nn = network_orig.run(sess_orig, s_norm).reshape(dim, dim)\n",
    "        \n",
    "    print(\"NN:           {:0.3E}\".format(idemp_error(p_nn, s)))\n",
    "    print(\"NN pruified:  {:0.3E}\".format(idemp_error(mc_wheeny_purification(p_nn, s), s)))\n",
    "    p_nn_multi = multi_mc_wheeny(p_nn, s, n_max=5)\n",
    "    print(\"NN multified: {:0.3E}\".format(idemp_error(p_nn_multi, s))) \n",
    "    print(\"Value before: {:0.3E}\".format(np.mean(np.abs(p.reshape(dim, dim) - p_nn))))\n",
    "    print(\"Value multi :  {:0.3E}\".format(np.mean(np.abs(p.reshape(dim, dim) - p_nn_multi))))\n",
    "    print(\"Is nan: \" + str(np.sum(np.isnan(p_nn_multi))))\n",
    "    print(\"Is inf: \" + str(np.sum(np.isinf(p_nn_multi))))\n",
    "    print(\"Is fin: \" + str(np.sum(np.isfinite(p_nn_multi))))\n",
    "    print(\"--------------------\")"
   ]
  },
  {
   "cell_type": "code",
   "execution_count": 7,
   "metadata": {},
   "outputs": [
    {
     "name": "stdout",
     "output_type": "stream",
     "text": [
      "----- NN -----\n",
      "Abs:  1.141E-03 +- 2.388E-04\n",
      "Sym:  1.140E-03 +- 2.007E-04\n",
      "Ide:  1.734E-03 +- 4.356E-04\n",
      "Occ:  7.500E+02 +- 1.217E-01\n",
      "----- Sym -----\n",
      "Abs:  9.496E-04 +- 2.222E-04\n",
      "Sym:  0.000E+00 +- 0.000E+00\n",
      "Ide:  1.480E-03 +- 4.330E-04\n",
      "Occ:  9.496E-04 +- 1.144E-03\n",
      "----- McWheeny-1 -----\n",
      "Abs:  7.304E-04 +- 1.371E-04\n",
      "Sym:  8.272E-04 +- 1.491E-04\n",
      "Ide:  3.250E-05 +- 2.439E-05\n",
      "Occ:  7.304E-04 +- 6.150E-04\n",
      "----- McWheeny-5 -----\n",
      "Abs:  7.297E-04 +- 1.366E-04\n",
      "Sym:  8.296E-04 +- 1.500E-04\n",
      "Ide:  6.660E-17 +- 4.401E-18\n",
      "Occ:  7.297E-04 +- 6.152E-04\n"
     ]
    }
   ],
   "source": [
    "#for (s, p) in zip(*dataset.testing):\n",
    "\n",
    "error_ori = []\n",
    "error_sym = []\n",
    "error_Mc1 = []\n",
    "error_Mc5 = []\n",
    "\n",
    "symmetry_ori = []\n",
    "symmetry_sym = []\n",
    "symmetry_Mc1 = []\n",
    "symmetry_Mc5 = []\n",
    "\n",
    "idemp_ori = []\n",
    "idemp_sym = []\n",
    "idemp_Mc1 = []\n",
    "idemp_Mc5 = []\n",
    "\n",
    "occ_ori = []\n",
    "occ_sym = []\n",
    "occ_Mc1 = []\n",
    "occ_Mc5 = []\n",
    "\n",
    "for (s, p) in zip(S_test, P_test):\n",
    "    \n",
    "    p = p.reshape(dim, dim)\n",
    "    s = s.reshape(dim, dim)\n",
    "    \n",
    "    #s_norm = s.reshape(1, dim**2)\n",
    "    s_norm = dataset.input_transformation(s.reshape(1, dim**2))\n",
    "    \n",
    "    with graph_orig.as_default():\n",
    "        p_nn = network_orig.run(sess_orig, s_norm).reshape(dim, dim)\n",
    "\n",
    "    p_sym = (p_nn + p_nn.T)/2\n",
    "    p_mc1 = mc_wheeny_purification(p_nn, s)\n",
    "    p_mc5 = multi_mc_wheeny(p_nn, s, n_max=5)\n",
    "        \n",
    "    error_ori.append(np.mean(np.abs(p_nn - p)))\n",
    "    error_sym.append(np.mean(np.abs(p_sym - p)))\n",
    "    error_Mc1.append(np.mean(np.abs(p_mc1 - p)))\n",
    "    error_Mc5.append(np.mean(np.abs(p_mc5 - p)))\n",
    "\n",
    "    symmetry_ori.append(np.mean(np.abs(p_nn - p_nn.T)))\n",
    "    symmetry_sym.append(np.mean(np.abs(p_sym - p_sym.T)))\n",
    "    symmetry_Mc1.append(np.mean(np.abs(p_mc1 - p_mc1.T)))\n",
    "    symmetry_Mc5.append(np.mean(np.abs(p_mc5 - p_mc1.T)))\n",
    "\n",
    "    idemp_ori.append(idemp_error(p_nn, s))\n",
    "    idemp_sym.append(idemp_error(p_sym, s))\n",
    "    idemp_Mc1.append(idemp_error(p_mc1, s))\n",
    "    idemp_Mc5.append(idemp_error(p_mc5, s))\n",
    "    \n",
    "    occ_ori.append(np.abs(np.trace(np.dot(p_nn, s) - 30)))\n",
    "    occ_sym.append(np.abs(p_sym - p))\n",
    "    occ_Mc1.append(np.abs(p_mc1 - p))\n",
    "    occ_Mc5.append(np.abs(p_mc5 - p))\n",
    "\n",
    "\n",
    "def stats(x):\n",
    "    return np.mean(x), np.std(x)\n",
    "    \n",
    "\n",
    "print(\"----- NN -----\")\n",
    "print(\"Abs:  {:0.3E} +- {:0.3E}\".format(*stats(error_ori)))\n",
    "print(\"Sym:  {:0.3E} +- {:0.3E}\".format(*stats(symmetry_ori)))\n",
    "print(\"Ide:  {:0.3E} +- {:0.3E}\".format(*stats(idemp_ori)))\n",
    "print(\"Occ:  {:0.3E} +- {:0.3E}\".format(*stats(occ_ori)))\n",
    "      \n",
    "\n",
    "print(\"----- Sym -----\")\n",
    "print(\"Abs:  {:0.3E} +- {:0.3E}\".format(*stats(error_sym)))\n",
    "print(\"Sym:  {:0.3E} +- {:0.3E}\".format(*stats(symmetry_sym)))\n",
    "print(\"Ide:  {:0.3E} +- {:0.3E}\".format(*stats(idemp_sym)))\n",
    "print(\"Occ:  {:0.3E} +- {:0.3E}\".format(*stats(occ_sym)))\n",
    "      \n",
    "\n",
    "print(\"----- McWheeny-1 -----\")\n",
    "print(\"Abs:  {:0.3E} +- {:0.3E}\".format(*stats(error_Mc1)))\n",
    "print(\"Sym:  {:0.3E} +- {:0.3E}\".format(*stats(symmetry_Mc1)))\n",
    "print(\"Ide:  {:0.3E} +- {:0.3E}\".format(*stats(idemp_Mc1)))\n",
    "print(\"Occ:  {:0.3E} +- {:0.3E}\".format(*stats(occ_Mc1)))\n",
    "      \n",
    "\n",
    "print(\"----- McWheeny-5 -----\")\n",
    "print(\"Abs:  {:0.3E} +- {:0.3E}\".format(*stats(error_Mc5)))\n",
    "print(\"Sym:  {:0.3E} +- {:0.3E}\".format(*stats(symmetry_Mc5)))\n",
    "print(\"Ide:  {:0.3E} +- {:0.3E}\".format(*stats(idemp_Mc5)))\n",
    "print(\"Occ:  {:0.3E} +- {:0.3E}\".format(*stats(occ_Mc5)))\n"
   ]
  },
  {
   "cell_type": "code",
   "execution_count": 8,
   "metadata": {
    "scrolled": true
   },
   "outputs": [
    {
     "name": "stdout",
     "output_type": "stream",
     "text": [
      "Calculating: 1/50\n"
     ]
    },
    {
     "name": "stderr",
     "output_type": "stream",
     "text": [
      "Warn: Ipython shell catchs sys.args\n",
      "Warn: Ipython shell catchs sys.args\n"
     ]
    },
    {
     "name": "stdout",
     "output_type": "stream",
     "text": [
      "Calculating: 2/50\n"
     ]
    },
    {
     "name": "stderr",
     "output_type": "stream",
     "text": [
      "Warn: Ipython shell catchs sys.args\n"
     ]
    },
    {
     "name": "stdout",
     "output_type": "stream",
     "text": [
      "Calculating: 3/50\n"
     ]
    },
    {
     "name": "stderr",
     "output_type": "stream",
     "text": [
      "Warn: Ipython shell catchs sys.args\n"
     ]
    },
    {
     "name": "stdout",
     "output_type": "stream",
     "text": [
      "Calculating: 4/50\n"
     ]
    },
    {
     "name": "stderr",
     "output_type": "stream",
     "text": [
      "Warn: Ipython shell catchs sys.args\n"
     ]
    },
    {
     "name": "stdout",
     "output_type": "stream",
     "text": [
      "Calculating: 5/50\n"
     ]
    },
    {
     "name": "stderr",
     "output_type": "stream",
     "text": [
      "Warn: Ipython shell catchs sys.args\n"
     ]
    },
    {
     "name": "stdout",
     "output_type": "stream",
     "text": [
      "Calculating: 6/50\n"
     ]
    },
    {
     "name": "stderr",
     "output_type": "stream",
     "text": [
      "Warn: Ipython shell catchs sys.args\n"
     ]
    },
    {
     "name": "stdout",
     "output_type": "stream",
     "text": [
      "Calculating: 7/50\n"
     ]
    },
    {
     "name": "stderr",
     "output_type": "stream",
     "text": [
      "Warn: Ipython shell catchs sys.args\n"
     ]
    },
    {
     "name": "stdout",
     "output_type": "stream",
     "text": [
      "Calculating: 8/50\n"
     ]
    },
    {
     "name": "stderr",
     "output_type": "stream",
     "text": [
      "Warn: Ipython shell catchs sys.args\n"
     ]
    },
    {
     "name": "stdout",
     "output_type": "stream",
     "text": [
      "Calculating: 9/50\n"
     ]
    },
    {
     "name": "stderr",
     "output_type": "stream",
     "text": [
      "Warn: Ipython shell catchs sys.args\n"
     ]
    },
    {
     "name": "stdout",
     "output_type": "stream",
     "text": [
      "Calculating: 10/50\n"
     ]
    },
    {
     "name": "stderr",
     "output_type": "stream",
     "text": [
      "Warn: Ipython shell catchs sys.args\n"
     ]
    },
    {
     "name": "stdout",
     "output_type": "stream",
     "text": [
      "Calculating: 11/50\n"
     ]
    },
    {
     "name": "stderr",
     "output_type": "stream",
     "text": [
      "Warn: Ipython shell catchs sys.args\n"
     ]
    },
    {
     "name": "stdout",
     "output_type": "stream",
     "text": [
      "Calculating: 12/50\n"
     ]
    },
    {
     "name": "stderr",
     "output_type": "stream",
     "text": [
      "Warn: Ipython shell catchs sys.args\n"
     ]
    },
    {
     "name": "stdout",
     "output_type": "stream",
     "text": [
      "Calculating: 13/50\n"
     ]
    },
    {
     "name": "stderr",
     "output_type": "stream",
     "text": [
      "Warn: Ipython shell catchs sys.args\n"
     ]
    },
    {
     "name": "stdout",
     "output_type": "stream",
     "text": [
      "Calculating: 14/50\n"
     ]
    },
    {
     "name": "stderr",
     "output_type": "stream",
     "text": [
      "Warn: Ipython shell catchs sys.args\n"
     ]
    },
    {
     "name": "stdout",
     "output_type": "stream",
     "text": [
      "Calculating: 15/50\n"
     ]
    },
    {
     "name": "stderr",
     "output_type": "stream",
     "text": [
      "Warn: Ipython shell catchs sys.args\n"
     ]
    },
    {
     "name": "stdout",
     "output_type": "stream",
     "text": [
      "Calculating: 16/50\n"
     ]
    },
    {
     "name": "stderr",
     "output_type": "stream",
     "text": [
      "Warn: Ipython shell catchs sys.args\n"
     ]
    },
    {
     "name": "stdout",
     "output_type": "stream",
     "text": [
      "Calculating: 17/50\n"
     ]
    },
    {
     "name": "stderr",
     "output_type": "stream",
     "text": [
      "Warn: Ipython shell catchs sys.args\n"
     ]
    },
    {
     "name": "stdout",
     "output_type": "stream",
     "text": [
      "Calculating: 18/50\n"
     ]
    },
    {
     "name": "stderr",
     "output_type": "stream",
     "text": [
      "Warn: Ipython shell catchs sys.args\n"
     ]
    },
    {
     "name": "stdout",
     "output_type": "stream",
     "text": [
      "Calculating: 19/50\n"
     ]
    },
    {
     "name": "stderr",
     "output_type": "stream",
     "text": [
      "Warn: Ipython shell catchs sys.args\n"
     ]
    },
    {
     "name": "stdout",
     "output_type": "stream",
     "text": [
      "Calculating: 20/50\n"
     ]
    },
    {
     "name": "stderr",
     "output_type": "stream",
     "text": [
      "Warn: Ipython shell catchs sys.args\n"
     ]
    },
    {
     "name": "stdout",
     "output_type": "stream",
     "text": [
      "Calculating: 21/50\n"
     ]
    },
    {
     "name": "stderr",
     "output_type": "stream",
     "text": [
      "Warn: Ipython shell catchs sys.args\n"
     ]
    },
    {
     "name": "stdout",
     "output_type": "stream",
     "text": [
      "Calculating: 22/50\n"
     ]
    },
    {
     "name": "stderr",
     "output_type": "stream",
     "text": [
      "Warn: Ipython shell catchs sys.args\n"
     ]
    },
    {
     "name": "stdout",
     "output_type": "stream",
     "text": [
      "Calculating: 23/50\n"
     ]
    },
    {
     "name": "stderr",
     "output_type": "stream",
     "text": [
      "Warn: Ipython shell catchs sys.args\n"
     ]
    },
    {
     "name": "stdout",
     "output_type": "stream",
     "text": [
      "Calculating: 24/50\n"
     ]
    },
    {
     "name": "stderr",
     "output_type": "stream",
     "text": [
      "Warn: Ipython shell catchs sys.args\n"
     ]
    },
    {
     "name": "stdout",
     "output_type": "stream",
     "text": [
      "Calculating: 25/50\n"
     ]
    },
    {
     "name": "stderr",
     "output_type": "stream",
     "text": [
      "Warn: Ipython shell catchs sys.args\n"
     ]
    },
    {
     "name": "stdout",
     "output_type": "stream",
     "text": [
      "Calculating: 26/50\n"
     ]
    },
    {
     "name": "stderr",
     "output_type": "stream",
     "text": [
      "Warn: Ipython shell catchs sys.args\n"
     ]
    },
    {
     "name": "stdout",
     "output_type": "stream",
     "text": [
      "Calculating: 27/50\n"
     ]
    },
    {
     "name": "stderr",
     "output_type": "stream",
     "text": [
      "Warn: Ipython shell catchs sys.args\n"
     ]
    },
    {
     "name": "stdout",
     "output_type": "stream",
     "text": [
      "Calculating: 28/50\n"
     ]
    },
    {
     "name": "stderr",
     "output_type": "stream",
     "text": [
      "Warn: Ipython shell catchs sys.args\n"
     ]
    },
    {
     "name": "stdout",
     "output_type": "stream",
     "text": [
      "Calculating: 29/50\n"
     ]
    },
    {
     "name": "stderr",
     "output_type": "stream",
     "text": [
      "Warn: Ipython shell catchs sys.args\n"
     ]
    },
    {
     "name": "stdout",
     "output_type": "stream",
     "text": [
      "Calculating: 30/50\n"
     ]
    },
    {
     "name": "stderr",
     "output_type": "stream",
     "text": [
      "Warn: Ipython shell catchs sys.args\n"
     ]
    },
    {
     "name": "stdout",
     "output_type": "stream",
     "text": [
      "Calculating: 31/50\n"
     ]
    },
    {
     "name": "stderr",
     "output_type": "stream",
     "text": [
      "Warn: Ipython shell catchs sys.args\n"
     ]
    },
    {
     "name": "stdout",
     "output_type": "stream",
     "text": [
      "Calculating: 32/50\n"
     ]
    },
    {
     "name": "stderr",
     "output_type": "stream",
     "text": [
      "Warn: Ipython shell catchs sys.args\n"
     ]
    },
    {
     "name": "stdout",
     "output_type": "stream",
     "text": [
      "Calculating: 33/50\n"
     ]
    },
    {
     "name": "stderr",
     "output_type": "stream",
     "text": [
      "Warn: Ipython shell catchs sys.args\n"
     ]
    },
    {
     "name": "stdout",
     "output_type": "stream",
     "text": [
      "Calculating: 34/50\n"
     ]
    },
    {
     "name": "stderr",
     "output_type": "stream",
     "text": [
      "Warn: Ipython shell catchs sys.args\n"
     ]
    },
    {
     "name": "stdout",
     "output_type": "stream",
     "text": [
      "Calculating: 35/50\n"
     ]
    },
    {
     "name": "stderr",
     "output_type": "stream",
     "text": [
      "Warn: Ipython shell catchs sys.args\n"
     ]
    },
    {
     "name": "stdout",
     "output_type": "stream",
     "text": [
      "Calculating: 36/50\n"
     ]
    },
    {
     "name": "stderr",
     "output_type": "stream",
     "text": [
      "Warn: Ipython shell catchs sys.args\n"
     ]
    },
    {
     "name": "stdout",
     "output_type": "stream",
     "text": [
      "Calculating: 37/50\n"
     ]
    },
    {
     "name": "stderr",
     "output_type": "stream",
     "text": [
      "Warn: Ipython shell catchs sys.args\n"
     ]
    },
    {
     "name": "stdout",
     "output_type": "stream",
     "text": [
      "Calculating: 38/50\n"
     ]
    },
    {
     "name": "stderr",
     "output_type": "stream",
     "text": [
      "Warn: Ipython shell catchs sys.args\n"
     ]
    },
    {
     "name": "stdout",
     "output_type": "stream",
     "text": [
      "Calculating: 39/50\n"
     ]
    },
    {
     "name": "stderr",
     "output_type": "stream",
     "text": [
      "Warn: Ipython shell catchs sys.args\n"
     ]
    },
    {
     "name": "stdout",
     "output_type": "stream",
     "text": [
      "Calculating: 40/50\n"
     ]
    },
    {
     "name": "stderr",
     "output_type": "stream",
     "text": [
      "Warn: Ipython shell catchs sys.args\n"
     ]
    },
    {
     "name": "stdout",
     "output_type": "stream",
     "text": [
      "Calculating: 41/50\n"
     ]
    },
    {
     "name": "stderr",
     "output_type": "stream",
     "text": [
      "Warn: Ipython shell catchs sys.args\n"
     ]
    },
    {
     "name": "stdout",
     "output_type": "stream",
     "text": [
      "Calculating: 42/50\n"
     ]
    },
    {
     "name": "stderr",
     "output_type": "stream",
     "text": [
      "Warn: Ipython shell catchs sys.args\n"
     ]
    },
    {
     "name": "stdout",
     "output_type": "stream",
     "text": [
      "Calculating: 43/50\n"
     ]
    },
    {
     "name": "stderr",
     "output_type": "stream",
     "text": [
      "Warn: Ipython shell catchs sys.args\n"
     ]
    },
    {
     "name": "stdout",
     "output_type": "stream",
     "text": [
      "Calculating: 44/50\n"
     ]
    },
    {
     "name": "stderr",
     "output_type": "stream",
     "text": [
      "Warn: Ipython shell catchs sys.args\n"
     ]
    },
    {
     "name": "stdout",
     "output_type": "stream",
     "text": [
      "Calculating: 45/50\n"
     ]
    },
    {
     "name": "stderr",
     "output_type": "stream",
     "text": [
      "Warn: Ipython shell catchs sys.args\n"
     ]
    },
    {
     "name": "stdout",
     "output_type": "stream",
     "text": [
      "Calculating: 46/50\n"
     ]
    },
    {
     "name": "stderr",
     "output_type": "stream",
     "text": [
      "Warn: Ipython shell catchs sys.args\n"
     ]
    },
    {
     "name": "stdout",
     "output_type": "stream",
     "text": [
      "Calculating: 47/50\n"
     ]
    },
    {
     "name": "stderr",
     "output_type": "stream",
     "text": [
      "Warn: Ipython shell catchs sys.args\n"
     ]
    },
    {
     "name": "stdout",
     "output_type": "stream",
     "text": [
      "Calculating: 48/50\n"
     ]
    },
    {
     "name": "stderr",
     "output_type": "stream",
     "text": [
      "Warn: Ipython shell catchs sys.args\n"
     ]
    },
    {
     "name": "stdout",
     "output_type": "stream",
     "text": [
      "Calculating: 49/50\n"
     ]
    },
    {
     "name": "stderr",
     "output_type": "stream",
     "text": [
      "Warn: Ipython shell catchs sys.args\n"
     ]
    },
    {
     "name": "stdout",
     "output_type": "stream",
     "text": [
      "Calculating: 50/50\n"
     ]
    }
   ],
   "source": [
    "from pyscf.scf import hf\n",
    "from SCFInitialGuess.utilities.analysis import prediction_scatter\n",
    "\n",
    "dim = 26\n",
    "\n",
    "\n",
    "\n",
    "iterations = []\n",
    "for i, (molecule, p) in enumerate(zip(molecules_test, P_test)):\n",
    "    \n",
    "    mol = molecule.get_pyscf_molecule()\n",
    "    \n",
    "    \n",
    "    print(\"Calculating: \" + str(i + 1) + \"/\" + str(len(molecules_test)))\n",
    "    \n",
    "\n",
    "    s_raw = hf.get_ovlp(mol)\n",
    "    s_norm = dataset.input_transformation(s_raw.reshape(1, dim**2))\n",
    "    \n",
    "    with graph_orig.as_default():\n",
    "        p_nn = network_orig.run(sess_orig, s_norm).reshape(dim, dim).astype('float64')\n",
    "        \n",
    "        p_sym = (p_nn + p_nn.T) / 2\n",
    "        p_mc1 = multi_mc_wheeny(p_nn, s_raw, n_max=1)\n",
    "        p_mc5 = multi_mc_wheeny(p_nn, s_raw, n_max=5)\n",
    "        \n",
    "    \n",
    "    iterations_molecule = []\n",
    "\n",
    "    for guess in [p_nn, p_sym, p_mc1,  p_mc5]:\n",
    "        mf = hf.RHF(mol)\n",
    "        mf.diis = None\n",
    "        mf.verbose = 1\n",
    "        mf.kernel(dm0=guess)\n",
    "        iterations_molecule.append(mf.iterations)\n",
    "    \n",
    "    iterations.append(iterations_molecule)\n",
    "\n",
    "iterations = np.array(iterations)"
   ]
  },
  {
   "cell_type": "code",
   "execution_count": 9,
   "metadata": {},
   "outputs": [
    {
     "name": "stdout",
     "output_type": "stream",
     "text": [
      "NN:  12.16 +- 2.138784701647176\n",
      "Sym: 12.2 +- 2.0880613017821097\n",
      "Mc1: 8.28 +- 1.2496399481450646\n",
      "Mc5: 8.34 +- 1.1766052864066183\n"
     ]
    }
   ],
   "source": [
    "print(\"NN:  {0} +- {1}\".format(*stats(iterations[:,0])))\n",
    "print(\"Sym: {0} +- {1}\".format(*stats(iterations[:,1])))\n",
    "print(\"Mc1: {0} +- {1}\".format(*stats(iterations[:,2])))\n",
    "print(\"Mc5: {0} +- {1}\".format(*stats(iterations[:,3])))"
   ]
  },
  {
   "cell_type": "code",
   "execution_count": 10,
   "metadata": {},
   "outputs": [
    {
     "data": {
      "image/png": "[encoded data removed]",
      "text/plain": [
       "<matplotlib.figure.Figure at 0x7fa56d4e8518>"
      ]
     },
     "metadata": {},
     "output_type": "display_data"
    }
   ],
   "source": [
    "labels = [\"NN\", \"Symmetry\", \"McWheeny-1\", \"McWheeny-5\"]\n",
    "\n",
    "bins = 20 # todo hier kann man auch ein array angeben\n",
    "for i, label in enumerate(labels):\n",
    "    hist, bins = np.histogram(iterations[:,i])\n",
    "    center = (bins[:-1] + bins[1:]) / 2\n",
    "    #axes[i].bar(center, hist, label=name)\n",
    "    plt.bar(center, hist, label=label)\n",
    "    \n",
    "plt.legend()\n",
    "plt.show()"
   ]
  },
  {
   "cell_type": "code",
   "execution_count": null,
   "metadata": {},
   "outputs": [],
   "source": []
  }
 ],
 "metadata": {
  "kernelspec": {
   "display_name": "Python 3",
   "language": "python",
   "name": "python3"
  },
  "language_info": {
   "codemirror_mode": {
    "name": "ipython",
    "version": 3
   },
   "file_extension": ".py",
   "mimetype": "text/x-python",
   "name": "python",
   "nbconvert_exporter": "python",
   "pygments_lexer": "ipython3",
   "version": "3.6.4"
  }
 },
 "nbformat": 4,
 "nbformat_minor": 2
}
