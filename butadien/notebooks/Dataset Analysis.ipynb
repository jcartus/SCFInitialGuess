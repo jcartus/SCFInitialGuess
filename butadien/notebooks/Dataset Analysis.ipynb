{
 "cells": [
  {
   "cell_type": "markdown",
   "metadata": {},
   "source": [
    "# Fechting the dataset "
   ]
  },
  {
   "cell_type": "code",
   "execution_count": 1,
   "metadata": {
    "collapsed": true
   },
   "outputs": [],
   "source": [
    "import numpy as np\n",
    "import matplotlib.pyplot as plt\n",
    "from SCFInitialGuess.utilities.plotutils import matrix_error"
   ]
  },
  {
   "cell_type": "code",
   "execution_count": 2,
   "metadata": {
    "collapsed": true
   },
   "outputs": [],
   "source": [
    "S, P = np.load(\"butadien/dataset.npy\")\n",
    "dim = 26\n",
    "p = list(P.reshape(-1, dim, dim))\n",
    "s = list(S.reshape(-1, dim, dim))"
   ]
  },
  {
   "cell_type": "markdown",
   "metadata": {},
   "source": [
    "# Check for symmetry"
   ]
  },
  {
   "cell_type": "code",
   "execution_count": 3,
   "metadata": {
    "collapsed": true
   },
   "outputs": [],
   "source": [
    "def symmetry_error(M):\n",
    "    \n",
    "    error = np.zeros(M[0].shape)\n",
    "    for m in M:\n",
    "        error += np.abs(m - np.transpose(m))\n",
    "        \n",
    "    return error / len(M)"
   ]
  },
  {
   "cell_type": "markdown",
   "metadata": {},
   "source": [
    "## S -Matrix"
   ]
  },
  {
   "cell_type": "code",
   "execution_count": 4,
   "metadata": {},
   "outputs": [
    {
     "name": "stdout",
     "output_type": "stream",
     "text": [
      "0.0\n"
     ]
    },
    {
     "data": {
      "image/png": "[encoded data removed]",
      "text/plain": [
       "<matplotlib.figure.Figure at 0x7f718572f550>"
      ]
     },
     "metadata": {},
     "output_type": "display_data"
    }
   ],
   "source": [
    "error = symmetry_error(s)\n",
    "print(np.mean(error))\n",
    "matrix_error(error)\n",
    "plt.show()"
   ]
  },
  {
   "cell_type": "markdown",
   "metadata": {},
   "source": [
    "## P-Matrix"
   ]
  },
  {
   "cell_type": "code",
   "execution_count": 5,
   "metadata": {},
   "outputs": [
    {
     "name": "stdout",
     "output_type": "stream",
     "text": [
      "1.47132254253e-18\n"
     ]
    },
    {
     "data": {
      "image/png": "[encoded data removed]",
      "text/plain": [
       "<matplotlib.figure.Figure at 0x7f7146c97f98>"
      ]
     },
     "metadata": {},
     "output_type": "display_data"
    }
   ],
   "source": [
    "error = symmetry_error(p)\n",
    "print(np.mean(error))\n",
    "matrix_error(error)\n",
    "plt.show()"
   ]
  },
  {
   "cell_type": "markdown",
   "metadata": {},
   "source": [
    "# Idempotency\n",
    "\n",
    "$$PSP^T-2P=0$$,\n",
    "Faktor 2 wegen Definition/Besetzung"
   ]
  },
  {
   "cell_type": "code",
   "execution_count": 6,
   "metadata": {
    "collapsed": true
   },
   "outputs": [],
   "source": [
    "def idempotency_error(M):\n",
    "    \n",
    "    error = np.zeros(M[0].shape)\n",
    "    for m in M:\n",
    "        error += np.abs(m - np.dot(m, m))\n",
    "        \n",
    "    return error / len(M)\n",
    "\n",
    "def weighted_idempotency_eror(M, W):\n",
    "    \n",
    "    error = np.zeros(M[0].shape)\n",
    "    for m, w in zip(M, W):\n",
    "        error += np.abs(2 * m - np.dot(m, np.dot(w, m)))\n",
    "        \n",
    "    return error / len(M)\n",
    "    "
   ]
  },
  {
   "cell_type": "code",
   "execution_count": 10,
   "metadata": {},
   "outputs": [
    {
     "name": "stdout",
     "output_type": "stream",
     "text": [
      "3.11776929727e-16\n",
      "4.28554966415e-16\n",
      "2.75821513835e-16\n",
      "3.43905240259e-16\n",
      "2.68715178057e-16\n",
      "3.34589321303e-16\n",
      "3.07647338376e-16\n",
      "3.22237235303e-16\n",
      "3.3630944975e-16\n",
      "3.7454844642e-16\n",
      "2.93682060585e-16\n",
      "2.6760270804e-16\n",
      "2.65835306133e-16\n",
      "2.64910526587e-16\n",
      "2.77389316688e-16\n",
      "2.56481656621e-16\n",
      "2.82948559318e-16\n",
      "3.68167311182e-16\n",
      "2.99660369006e-16\n",
      "3.3808150282e-16\n",
      "2.61498337058e-16\n",
      "2.85171875456e-16\n",
      "3.73439645208e-16\n",
      "2.92716222496e-16\n",
      "2.84428250696e-16\n",
      "3.29875567916e-16\n",
      "2.70647255198e-16\n",
      "3.12801909762e-16\n",
      "2.31046209501e-16\n",
      "2.52219426927e-16\n",
      "2.76262732796e-16\n",
      "2.52506195194e-16\n",
      "2.80898819778e-16\n",
      "3.23909909856e-16\n",
      "2.83598098264e-16\n",
      "2.84484465617e-16\n",
      "2.68788955128e-16\n",
      "3.15199063123e-16\n",
      "3.31268992246e-16\n",
      "2.47097614164e-16\n",
      "2.5534420665e-16\n",
      "2.8730019359e-16\n",
      "2.77374160312e-16\n",
      "2.95987513858e-16\n",
      "3.02922879294e-16\n",
      "3.54238200194e-16\n",
      "2.78843967968e-16\n",
      "2.96505156242e-16\n",
      "2.38724518059e-16\n",
      "2.46446531513e-16\n",
      "2.54514535372e-16\n",
      "2.95317746363e-16\n",
      "2.81044369108e-16\n",
      "3.39791527016e-16\n",
      "3.0318996031e-16\n",
      "2.94565861779e-16\n",
      "3.18414380143e-16\n",
      "2.8587604552e-16\n",
      "3.22222519985e-16\n",
      "3.22300988315e-16\n",
      "3.19736834139e-16\n",
      "2.69293526139e-16\n",
      "3.236214375e-16\n",
      "3.10364018627e-16\n",
      "2.28794404989e-16\n",
      "3.14982784036e-16\n",
      "2.65479873065e-16\n",
      "2.91906037988e-16\n",
      "3.13214500012e-16\n",
      "2.98143568563e-16\n",
      "2.98960489239e-16\n",
      "2.89365821263e-16\n",
      "2.52257117387e-16\n",
      "2.59403068244e-16\n",
      "3.25240603629e-16\n",
      "3.04095934721e-16\n",
      "2.97372397691e-16\n",
      "2.87793738137e-16\n",
      "2.47005573258e-16\n",
      "2.56310205124e-16\n",
      "2.82675403723e-16\n",
      "2.35573314918e-16\n",
      "3.01117706734e-16\n",
      "2.46839474608e-16\n",
      "2.87204674337e-16\n",
      "3.02594410943e-16\n",
      "2.51270589641e-16\n",
      "2.90234165359e-16\n",
      "2.9331690418e-16\n",
      "3.24858341168e-16\n",
      "2.8003274112e-16\n",
      "3.1902961676e-16\n",
      "2.62611889674e-16\n",
      "3.05695453695e-16\n",
      "3.0216417835e-16\n",
      "2.52086066852e-16\n",
      "3.1253787606e-16\n",
      "2.95601487364e-16\n",
      "3.3707095743e-16\n",
      "3.37281663141e-16\n",
      "3.09603272776e-16\n",
      "2.9760676018e-16\n",
      "3.03926808805e-16\n",
      "2.78889757868e-16\n",
      "3.32231181578e-16\n",
      "3.55230181028e-16\n",
      "3.03272049831e-16\n",
      "3.54650068712e-16\n",
      "2.80980475759e-16\n",
      "2.48898817196e-16\n",
      "2.14144844865e-16\n",
      "3.29391045022e-16\n",
      "2.30049687768e-16\n",
      "2.69049400217e-16\n",
      "2.96999783387e-16\n",
      "3.61364481343e-16\n",
      "2.65105394286e-16\n",
      "2.85064658125e-16\n",
      "3.4687075774e-16\n",
      "2.85264978911e-16\n",
      "3.90715348286e-16\n",
      "3.43863860945e-16\n",
      "2.59853348954e-16\n",
      "3.72079059693e-16\n",
      "3.05697017449e-16\n",
      "3.41888419727e-16\n",
      "3.0943659273e-16\n",
      "3.00219591185e-16\n",
      "3.24849705441e-16\n",
      "3.91070560825e-16\n",
      "2.64591119986e-16\n",
      "3.20452952881e-16\n",
      "2.88942765896e-16\n",
      "2.80041482099e-16\n",
      "2.98346776278e-16\n",
      "3.04800265171e-16\n",
      "3.26241966981e-16\n",
      "2.85302027832e-16\n",
      "2.50606991953e-16\n",
      "2.66911824864e-16\n",
      "3.32796453276e-16\n",
      "3.0500491635e-16\n",
      "2.30036425939e-16\n",
      "3.08195373705e-16\n",
      "2.8753258134e-16\n",
      "2.65670670995e-16\n",
      "2.72317503929e-16\n",
      "4.18123329647e-16\n",
      "2.79890479681e-16\n",
      "3.59142530983e-16\n",
      "2.56606756872e-16\n",
      "3.44673002951e-16\n",
      "2.78598303353e-16\n",
      "2.71117584025e-16\n",
      "3.27436273413e-16\n",
      "2.66876565238e-16\n",
      "3.18922559815e-16\n",
      "2.65327126461e-16\n",
      "3.02961532063e-16\n",
      "3.3289513512e-16\n",
      "2.54236989239e-16\n",
      "3.71857608192e-16\n",
      "3.20932343457e-16\n",
      "2.98348079406e-16\n",
      "3.61456805428e-16\n",
      "3.02011411698e-16\n",
      "2.6925023223e-16\n",
      "2.60938192666e-16\n",
      "3.26539561231e-16\n",
      "3.51801632235e-16\n",
      "2.47062269333e-16\n",
      "2.85854373506e-16\n",
      "2.00297530195e-16\n",
      "3.76582468236e-16\n",
      "3.02718127874e-16\n",
      "3.3767508739e-16\n",
      "3.19053032961e-16\n",
      "3.08159557744e-16\n",
      "2.62238172723e-16\n",
      "3.27346939003e-16\n",
      "2.50552706664e-16\n",
      "2.75776044706e-16\n",
      "2.36178206707e-16\n",
      "2.45311727893e-16\n",
      "2.85216221891e-16\n",
      "2.7126734346e-16\n",
      "3.05325285261e-16\n",
      "3.04388797616e-16\n",
      "2.53549655207e-16\n",
      "2.89009205356e-16\n",
      "3.12940522444e-16\n",
      "3.27336630982e-16\n",
      "2.84551907483e-16\n",
      "2.95140200238e-16\n",
      "3.14654075108e-16\n",
      "2.46735741891e-16\n",
      "2.39200039349e-16\n",
      "2.4625083683e-16\n",
      "2.6626144891e-16\n",
      "3.17255895937e-16\n"
     ]
    },
    {
     "data": {
      "image/png": "[encoded data removed]",
      "text/plain": [
       "<matplotlib.figure.Figure at 0x7f7141372ac8>"
      ]
     },
     "metadata": {},
     "output_type": "display_data"
    }
   ],
   "source": [
    "def mc_wheeny_purification(p,s):\n",
    "    p = p.reshape(dim, dim)\n",
    "    s = s.reshape(dim, dim)\n",
    "    return (3 * np.dot(np.dot(p, s), p) - np.dot(np.dot(np.dot(np.dot(p, s), p), s), p)) / 2\n",
    "\n",
    "def mc_wheeny_purification_2(p, s=None):\n",
    "    p = p.reshape(dim, dim)\n",
    "    return 3 * np.dot(p, p) - 2 * np.dot(np.dot(p, p), p)\n",
    "\n",
    "def idemp_error(p, s):\n",
    "    p = p.reshape(dim, dim)\n",
    "    s = s.reshape(dim, dim)\n",
    "    return np.mean((np.abs(p @ s @ p.T - 2 * p)))\n",
    "\n",
    "\n",
    "for (s, p) in zip(S, P):\n",
    "    \n",
    "    print(idemp_error(p,s))\n",
    "    \n",
    "    \n",
    "matrix_error(error)\n",
    "plt.show()\n",
    "\n",
    "                   "
   ]
  },
  {
   "cell_type": "markdown",
   "metadata": {},
   "source": [
    "### Normal"
   ]
  },
  {
   "cell_type": "code",
   "execution_count": 7,
   "metadata": {},
   "outputs": [
    {
     "name": "stdout",
     "output_type": "stream",
     "text": [
      "0.0942548214771\n"
     ]
    },
    {
     "data": {
      "image/png": "[encoded data removed]",
      "text/plain": [
       "<matplotlib.figure.Figure at 0x7f7141290630>"
      ]
     },
     "metadata": {},
     "output_type": "display_data"
    }
   ],
   "source": [
    "error = idempotency_error(p)\n",
    "print(np.mean(error))\n",
    "matrix_error(error)\n",
    "plt.show()"
   ]
  },
  {
   "cell_type": "markdown",
   "metadata": {},
   "source": [
    "### Strange basis"
   ]
  },
  {
   "cell_type": "code",
   "execution_count": 8,
   "metadata": {},
   "outputs": [
    {
     "name": "stdout",
     "output_type": "stream",
     "text": [
      "2.96277439076e-16\n"
     ]
    },
    {
     "data": {
      "image/png": "[encoded data removed]",
      "text/plain": [
       "<matplotlib.figure.Figure at 0x7f71413a6fd0>"
      ]
     },
     "metadata": {},
     "output_type": "display_data"
    }
   ],
   "source": [
    "error = weighted_idempotency_eror(p, s)\n",
    "print(np.mean(error))\n",
    "matrix_error(error)\n",
    "plt.show()"
   ]
  },
  {
   "cell_type": "code",
   "execution_count": null,
   "metadata": {
    "collapsed": true
   },
   "outputs": [],
   "source": []
  }
 ],
 "metadata": {
  "kernelspec": {
   "display_name": "Python 3",
   "language": "python",
   "name": "python3"
  },
  "language_info": {
   "codemirror_mode": {
    "name": "ipython",
    "version": 3
   },
   "file_extension": ".py",
   "mimetype": "text/x-python",
   "name": "python",
   "nbconvert_exporter": "python",
   "pygments_lexer": "ipython3",
   "version": "3.6.2"
  }
 },
 "nbformat": 4,
 "nbformat_minor": 2
}
