{
 "cells": [
  {
   "cell_type": "code",
   "execution_count": 1,
   "metadata": {},
   "outputs": [
    {
     "name": "stderr",
     "output_type": "stream",
     "text": [
      "/home/jo/anaconda3/lib/python3.6/site-packages/h5py/__init__.py:36: FutureWarning: Conversion of the second argument of issubdtype from `float` to `np.floating` is deprecated. In future, it will be treated as `np.float64 == np.dtype(float).type`.\n",
      "  from ._conv import register_converters as _register_converters\n"
     ]
    }
   ],
   "source": [
    "import numpy as np\n",
    "import tensorflow as tf\n",
    "import matplotlib as mpl\n",
    "import matplotlib.pyplot as plt\n",
    "\n",
    "mpl.style.use(\"seaborn\")"
   ]
  },
  {
   "cell_type": "markdown",
   "metadata": {},
   "source": [
    "# Fetch dataset"
   ]
  },
  {
   "cell_type": "code",
   "execution_count": 2,
   "metadata": {},
   "outputs": [
    {
     "name": "stdout",
     "output_type": "stream",
     "text": [
      "[-] 2018-06-01 21:07:20: Data set normalized. Mean value std: 0.008732722987069362\n"
     ]
    }
   ],
   "source": [
    "from SCFInitialGuess.utilities.dataset import make_butadien_dataset, extract_triu\n",
    "\n",
    "#dim ethen\n",
    "dim = 26\n",
    "\n",
    "def load_triu(S, P, dim):\n",
    "    \n",
    "    return [extract_triu(s, dim) for s in S], [extract_triu(p, dim) for p in P]\n",
    "\n",
    "dataset, molecules = make_butadien_dataset(\n",
    "    np.load(\"../data/molecules.npy\"),\n",
    "    np.load(\"../data/S.npy\"), \n",
    "    np.load(\"../data/P.npy\")\n",
    ")"
   ]
  },
  {
   "cell_type": "markdown",
   "metadata": {},
   "source": [
    "# Fetch network "
   ]
  },
  {
   "cell_type": "code",
   "execution_count": 3,
   "metadata": {},
   "outputs": [],
   "source": [
    "from SCFInitialGuess.nn.networks import EluFixedValue\n",
    "\n",
    "graph = tf.Graph()\n",
    "\n",
    "structure, weights, biases = np.load(\"../data/network.npy\", encoding=\"latin1\")\n",
    "\n",
    "with graph.as_default():\n",
    "    sess = tf.Session()\n",
    "    network = EluFixedValue(structure, weights, biases)\n",
    "    network.setup()\n",
    "    sess.run(tf.global_variables_initializer())"
   ]
  },
  {
   "cell_type": "markdown",
   "metadata": {},
   "source": [
    "# Create guesses"
   ]
  },
  {
   "cell_type": "code",
   "execution_count": 4,
   "metadata": {},
   "outputs": [],
   "source": [
    "from SCFInitialGuess.utilities.dataset import make_matrix_batch\n",
    "from SCFInitialGuess.nn.post_processing import multi_mc_wheeny\n",
    "from pyscf.scf import hf\n",
    "\n",
    "s_raw = make_matrix_batch(dataset.inverse_input_transform(dataset.testing[0]), dim, False)\n",
    "\n",
    "p_nn = network.run(sess, dataset.testing[0])\n",
    "\n",
    "p_batch = make_matrix_batch(p_nn, dim, False).astype(\"float64\")\n",
    "p_mcw1 = np.array(list(map(lambda x: multi_mc_wheeny(x[0], x[1], n_max=1), zip(p_batch, s_raw)))).astype(\"float64\")\n",
    "p_mcw5 = np.array(list(map(lambda x: multi_mc_wheeny(x[0], x[1], n_max=5), zip  (p_batch, s_raw)))).astype(\"float64\")\n",
    "\n",
    "p_sap = np.array([\n",
    "    hf.init_guess_by_atom(mol.get_pyscf_molecule()) for mol in molecules[1]\n",
    "]).astype(\"float64\")\n",
    "p_minao = np.array([\n",
    "    hf.init_guess_by_minao(mol.get_pyscf_molecule()) for mol in molecules[1]\n",
    "]).astype(\"float64\")\n",
    "p_gwh = np.array([\n",
    "    hf.init_guess_by_wolfsberg_helmholtz(mol.get_pyscf_molecule()) for mol in molecules[1]\n",
    "]).astype(\"float64\")"
   ]
  },
  {
   "cell_type": "code",
   "execution_count": null,
   "metadata": {},
   "outputs": [],
   "source": []
  },
  {
   "cell_type": "markdown",
   "metadata": {},
   "source": [
    "# Measure iterations "
   ]
  },
  {
   "cell_type": "code",
   "execution_count": 20,
   "metadata": {},
   "outputs": [
    {
     "name": "stdout",
     "output_type": "stream",
     "text": [
      "nn\n",
      "[ ] 2018-06-01 21:17:32: Iteration calculation: 0\n",
      "[ ] 2018-06-01 21:17:33: Iteration calculation: 1\n",
      "[ ] 2018-06-01 21:17:33: Iteration calculation: 2\n",
      "[ ] 2018-06-01 21:17:33: Iteration calculation: 3\n",
      "[ ] 2018-06-01 21:17:33: Iteration calculation: 4\n",
      "[ ] 2018-06-01 21:17:33: Iteration calculation: 5\n",
      "[ ] 2018-06-01 21:17:33: Iteration calculation: 6\n",
      "[ ] 2018-06-01 21:17:33: Iteration calculation: 7\n",
      "[ ] 2018-06-01 21:17:34: Iteration calculation: 8\n",
      "[ ] 2018-06-01 21:17:34: Iteration calculation: 9\n",
      "[ ] 2018-06-01 21:17:34: Iteration calculation: 10\n",
      "[ ] 2018-06-01 21:17:34: Iteration calculation: 11\n",
      "[ ] 2018-06-01 21:17:34: Iteration calculation: 12\n",
      "[ ] 2018-06-01 21:17:34: Iteration calculation: 13\n",
      "[ ] 2018-06-01 21:17:34: Iteration calculation: 14\n",
      "[ ] 2018-06-01 21:17:34: Iteration calculation: 15\n",
      "[ ] 2018-06-01 21:17:35: Iteration calculation: 16\n",
      "[ ] 2018-06-01 21:17:35: Iteration calculation: 17\n",
      "[ ] 2018-06-01 21:17:35: Iteration calculation: 18\n",
      "[ ] 2018-06-01 21:17:35: Iteration calculation: 19\n",
      "[ ] 2018-06-01 21:17:35: Iteration calculation: 20\n",
      "[ ] 2018-06-01 21:17:36: Iteration calculation: 21\n",
      "[ ] 2018-06-01 21:17:36: Iteration calculation: 22\n",
      "[ ] 2018-06-01 21:17:36: Iteration calculation: 23\n",
      "[ ] 2018-06-01 21:17:36: Iteration calculation: 24\n",
      "[ ] 2018-06-01 21:17:36: Iteration calculation: 25\n",
      "[ ] 2018-06-01 21:17:36: Iteration calculation: 26\n",
      "[ ] 2018-06-01 21:17:36: Iteration calculation: 27\n",
      "[ ] 2018-06-01 21:17:37: Iteration calculation: 28\n",
      "[ ] 2018-06-01 21:17:37: Iteration calculation: 29\n",
      "[ ] 2018-06-01 21:17:37: Iteration calculation: 30\n",
      "[ ] 2018-06-01 21:17:37: Iteration calculation: 31\n",
      "[ ] 2018-06-01 21:17:37: Iteration calculation: 32\n",
      "[ ] 2018-06-01 21:17:37: Iteration calculation: 33\n",
      "[ ] 2018-06-01 21:17:37: Iteration calculation: 34\n",
      "[ ] 2018-06-01 21:17:38: Iteration calculation: 35\n",
      "[ ] 2018-06-01 21:17:38: Iteration calculation: 36\n",
      "[ ] 2018-06-01 21:17:38: Iteration calculation: 37\n",
      "[ ] 2018-06-01 21:17:38: Iteration calculation: 38\n",
      "[ ] 2018-06-01 21:17:38: Iteration calculation: 39\n",
      "[ ] 2018-06-01 21:17:38: Iteration calculation: 40\n",
      "[ ] 2018-06-01 21:17:38: Iteration calculation: 41\n",
      "[ ] 2018-06-01 21:17:39: Iteration calculation: 42\n",
      "[ ] 2018-06-01 21:17:39: Iteration calculation: 43\n",
      "[ ] 2018-06-01 21:17:39: Iteration calculation: 44\n",
      "[ ] 2018-06-01 21:17:39: Iteration calculation: 45\n",
      "[ ] 2018-06-01 21:17:39: Iteration calculation: 46\n",
      "[ ] 2018-06-01 21:17:39: Iteration calculation: 47\n",
      "[ ] 2018-06-01 21:17:39: Iteration calculation: 48\n",
      "[ ] 2018-06-01 21:17:40: Iteration calculation: 49\n",
      "mcw1\n",
      "[ ] 2018-06-01 21:17:40: Iteration calculation: 0\n",
      "[ ] 2018-06-01 21:17:40: Iteration calculation: 1\n",
      "[ ] 2018-06-01 21:17:40: Iteration calculation: 2\n",
      "[ ] 2018-06-01 21:17:40: Iteration calculation: 3\n",
      "[ ] 2018-06-01 21:17:40: Iteration calculation: 4\n",
      "[ ] 2018-06-01 21:17:40: Iteration calculation: 5\n",
      "[ ] 2018-06-01 21:17:41: Iteration calculation: 6\n",
      "[ ] 2018-06-01 21:17:41: Iteration calculation: 7\n",
      "[ ] 2018-06-01 21:17:41: Iteration calculation: 8\n",
      "[ ] 2018-06-01 21:17:41: Iteration calculation: 9\n",
      "[ ] 2018-06-01 21:17:41: Iteration calculation: 10\n",
      "[ ] 2018-06-01 21:17:41: Iteration calculation: 11\n",
      "[ ] 2018-06-01 21:17:41: Iteration calculation: 12\n",
      "[ ] 2018-06-01 21:17:41: Iteration calculation: 13\n",
      "[ ] 2018-06-01 21:17:42: Iteration calculation: 14\n",
      "[ ] 2018-06-01 21:17:42: Iteration calculation: 15\n",
      "[ ] 2018-06-01 21:17:42: Iteration calculation: 16\n",
      "[ ] 2018-06-01 21:17:42: Iteration calculation: 17\n",
      "[ ] 2018-06-01 21:17:42: Iteration calculation: 18\n",
      "[ ] 2018-06-01 21:17:42: Iteration calculation: 19\n",
      "[ ] 2018-06-01 21:17:42: Iteration calculation: 20\n",
      "[ ] 2018-06-01 21:17:42: Iteration calculation: 21\n",
      "[ ] 2018-06-01 21:17:43: Iteration calculation: 22\n",
      "[ ] 2018-06-01 21:17:43: Iteration calculation: 23\n",
      "[ ] 2018-06-01 21:17:43: Iteration calculation: 24\n",
      "[ ] 2018-06-01 21:17:43: Iteration calculation: 25\n",
      "[ ] 2018-06-01 21:17:43: Iteration calculation: 26\n",
      "[ ] 2018-06-01 21:17:43: Iteration calculation: 27\n",
      "[ ] 2018-06-01 21:17:43: Iteration calculation: 28\n",
      "[ ] 2018-06-01 21:17:44: Iteration calculation: 29\n",
      "[ ] 2018-06-01 21:17:44: Iteration calculation: 30\n",
      "[ ] 2018-06-01 21:17:44: Iteration calculation: 31\n",
      "[ ] 2018-06-01 21:17:44: Iteration calculation: 32\n",
      "[ ] 2018-06-01 21:17:44: Iteration calculation: 33\n",
      "[ ] 2018-06-01 21:17:44: Iteration calculation: 34\n",
      "[ ] 2018-06-01 21:17:44: Iteration calculation: 35\n",
      "[ ] 2018-06-01 21:17:44: Iteration calculation: 36\n",
      "[ ] 2018-06-01 21:17:45: Iteration calculation: 37\n",
      "[ ] 2018-06-01 21:17:45: Iteration calculation: 38\n",
      "[ ] 2018-06-01 21:17:45: Iteration calculation: 39\n",
      "[ ] 2018-06-01 21:17:45: Iteration calculation: 40\n",
      "[ ] 2018-06-01 21:17:45: Iteration calculation: 41\n",
      "[ ] 2018-06-01 21:17:45: Iteration calculation: 42\n",
      "[ ] 2018-06-01 21:17:45: Iteration calculation: 43\n",
      "[ ] 2018-06-01 21:17:46: Iteration calculation: 44\n",
      "[ ] 2018-06-01 21:17:46: Iteration calculation: 45\n",
      "[ ] 2018-06-01 21:17:46: Iteration calculation: 46\n",
      "[ ] 2018-06-01 21:17:46: Iteration calculation: 47\n",
      "[ ] 2018-06-01 21:17:46: Iteration calculation: 48\n",
      "[ ] 2018-06-01 21:17:46: Iteration calculation: 49\n",
      "mcw5\n",
      "[ ] 2018-06-01 21:17:46: Iteration calculation: 0\n",
      "[ ] 2018-06-01 21:17:47: Iteration calculation: 1\n",
      "[ ] 2018-06-01 21:17:47: Iteration calculation: 2\n",
      "[ ] 2018-06-01 21:17:47: Iteration calculation: 3\n",
      "[ ] 2018-06-01 21:17:47: Iteration calculation: 4\n",
      "[ ] 2018-06-01 21:17:47: Iteration calculation: 5\n",
      "[ ] 2018-06-01 21:17:47: Iteration calculation: 6\n",
      "[ ] 2018-06-01 21:17:47: Iteration calculation: 7\n",
      "[ ] 2018-06-01 21:17:48: Iteration calculation: 8\n",
      "[ ] 2018-06-01 21:17:48: Iteration calculation: 9\n",
      "[ ] 2018-06-01 21:17:48: Iteration calculation: 10\n",
      "[ ] 2018-06-01 21:17:48: Iteration calculation: 11\n",
      "[ ] 2018-06-01 21:17:48: Iteration calculation: 12\n",
      "[ ] 2018-06-01 21:17:48: Iteration calculation: 13\n",
      "[ ] 2018-06-01 21:17:48: Iteration calculation: 14\n",
      "[ ] 2018-06-01 21:17:48: Iteration calculation: 15\n",
      "[ ] 2018-06-01 21:17:49: Iteration calculation: 16\n",
      "[ ] 2018-06-01 21:17:49: Iteration calculation: 17\n",
      "[ ] 2018-06-01 21:17:49: Iteration calculation: 18\n",
      "[ ] 2018-06-01 21:17:49: Iteration calculation: 19\n",
      "[ ] 2018-06-01 21:17:49: Iteration calculation: 20\n",
      "[ ] 2018-06-01 21:17:49: Iteration calculation: 21\n",
      "[ ] 2018-06-01 21:17:49: Iteration calculation: 22\n",
      "[ ] 2018-06-01 21:17:49: Iteration calculation: 23\n",
      "[ ] 2018-06-01 21:17:49: Iteration calculation: 24\n",
      "[ ] 2018-06-01 21:17:50: Iteration calculation: 25\n",
      "[ ] 2018-06-01 21:17:50: Iteration calculation: 26\n",
      "[ ] 2018-06-01 21:17:50: Iteration calculation: 27\n",
      "[ ] 2018-06-01 21:17:50: Iteration calculation: 28\n",
      "[ ] 2018-06-01 21:17:50: Iteration calculation: 29\n",
      "[ ] 2018-06-01 21:17:50: Iteration calculation: 30\n",
      "[ ] 2018-06-01 21:17:50: Iteration calculation: 31\n",
      "[ ] 2018-06-01 21:17:51: Iteration calculation: 32\n",
      "[ ] 2018-06-01 21:17:51: Iteration calculation: 33\n",
      "[ ] 2018-06-01 21:17:51: Iteration calculation: 34\n",
      "[ ] 2018-06-01 21:17:51: Iteration calculation: 35\n",
      "[ ] 2018-06-01 21:17:51: Iteration calculation: 36\n",
      "[ ] 2018-06-01 21:17:51: Iteration calculation: 37\n",
      "[ ] 2018-06-01 21:17:52: Iteration calculation: 38\n",
      "[ ] 2018-06-01 21:17:52: Iteration calculation: 39\n",
      "[ ] 2018-06-01 21:17:52: Iteration calculation: 40\n",
      "[ ] 2018-06-01 21:17:52: Iteration calculation: 41\n",
      "[ ] 2018-06-01 21:17:52: Iteration calculation: 42\n",
      "[ ] 2018-06-01 21:17:52: Iteration calculation: 43\n",
      "[ ] 2018-06-01 21:17:52: Iteration calculation: 44\n",
      "[ ] 2018-06-01 21:17:52: Iteration calculation: 45\n",
      "[ ] 2018-06-01 21:17:53: Iteration calculation: 46\n",
      "[ ] 2018-06-01 21:17:53: Iteration calculation: 47\n",
      "[ ] 2018-06-01 21:17:53: Iteration calculation: 48\n",
      "[ ] 2018-06-01 21:17:53: Iteration calculation: 49\n",
      "sap\n",
      "[ ] 2018-06-01 21:17:53: Iteration calculation: 0\n",
      "[ ] 2018-06-01 21:17:53: Iteration calculation: 1\n",
      "[ ] 2018-06-01 21:17:53: Iteration calculation: 2\n",
      "[ ] 2018-06-01 21:17:54: Iteration calculation: 3\n",
      "[ ] 2018-06-01 21:17:54: Iteration calculation: 4\n",
      "[ ] 2018-06-01 21:17:54: Iteration calculation: 5\n",
      "[ ] 2018-06-01 21:17:54: Iteration calculation: 6\n",
      "[ ] 2018-06-01 21:17:54: Iteration calculation: 7\n",
      "[ ] 2018-06-01 21:17:54: Iteration calculation: 8\n",
      "[ ] 2018-06-01 21:17:54: Iteration calculation: 9\n",
      "[ ] 2018-06-01 21:17:55: Iteration calculation: 10\n",
      "[ ] 2018-06-01 21:17:55: Iteration calculation: 11\n"
     ]
    },
    {
     "name": "stdout",
     "output_type": "stream",
     "text": [
      "[ ] 2018-06-01 21:17:55: Iteration calculation: 12\n",
      "[ ] 2018-06-01 21:17:56: Iteration calculation: 13\n",
      "[ ] 2018-06-01 21:17:56: Iteration calculation: 14\n",
      "[ ] 2018-06-01 21:17:56: Iteration calculation: 15\n",
      "[ ] 2018-06-01 21:17:56: Iteration calculation: 16\n",
      "[ ] 2018-06-01 21:17:56: Iteration calculation: 17\n",
      "[ ] 2018-06-01 21:17:57: Iteration calculation: 18\n",
      "[ ] 2018-06-01 21:17:57: Iteration calculation: 19\n",
      "[ ] 2018-06-01 21:17:57: Iteration calculation: 20\n",
      "[ ] 2018-06-01 21:17:57: Iteration calculation: 21\n",
      "[ ] 2018-06-01 21:17:58: Iteration calculation: 22\n",
      "[ ] 2018-06-01 21:17:58: Iteration calculation: 23\n",
      "[ ] 2018-06-01 21:17:58: Iteration calculation: 24\n",
      "[ ] 2018-06-01 21:17:58: Iteration calculation: 25\n",
      "[ ] 2018-06-01 21:17:58: Iteration calculation: 26\n",
      "[ ] 2018-06-01 21:17:59: Iteration calculation: 27\n",
      "[ ] 2018-06-01 21:17:59: Iteration calculation: 28\n",
      "[ ] 2018-06-01 21:17:59: Iteration calculation: 29\n",
      "[ ] 2018-06-01 21:17:59: Iteration calculation: 30\n",
      "[ ] 2018-06-01 21:18:00: Iteration calculation: 31\n",
      "[ ] 2018-06-01 21:18:00: Iteration calculation: 32\n",
      "[ ] 2018-06-01 21:18:00: Iteration calculation: 33\n",
      "[ ] 2018-06-01 21:18:00: Iteration calculation: 34\n",
      "[ ] 2018-06-01 21:18:00: Iteration calculation: 35\n",
      "[ ] 2018-06-01 21:18:00: Iteration calculation: 36\n",
      "[ ] 2018-06-01 21:18:01: Iteration calculation: 37\n",
      "[ ] 2018-06-01 21:18:01: Iteration calculation: 38\n",
      "[ ] 2018-06-01 21:18:01: Iteration calculation: 39\n",
      "[ ] 2018-06-01 21:18:01: Iteration calculation: 40\n",
      "[ ] 2018-06-01 21:18:01: Iteration calculation: 41\n",
      "[ ] 2018-06-01 21:18:01: Iteration calculation: 42\n",
      "[ ] 2018-06-01 21:18:01: Iteration calculation: 43\n",
      "[ ] 2018-06-01 21:18:02: Iteration calculation: 44\n",
      "[ ] 2018-06-01 21:18:02: Iteration calculation: 45\n",
      "[ ] 2018-06-01 21:18:02: Iteration calculation: 46\n",
      "[ ] 2018-06-01 21:18:02: Iteration calculation: 47\n",
      "[ ] 2018-06-01 21:18:02: Iteration calculation: 48\n",
      "[ ] 2018-06-01 21:18:03: Iteration calculation: 49\n",
      "minao\n",
      "[ ] 2018-06-01 21:18:03: Iteration calculation: 0\n",
      "[ ] 2018-06-01 21:18:03: Iteration calculation: 1\n",
      "[ ] 2018-06-01 21:18:03: Iteration calculation: 2\n",
      "[ ] 2018-06-01 21:18:03: Iteration calculation: 3\n",
      "[ ] 2018-06-01 21:18:04: Iteration calculation: 4\n",
      "[ ] 2018-06-01 21:18:04: Iteration calculation: 5\n",
      "[ ] 2018-06-01 21:18:04: Iteration calculation: 6\n",
      "[ ] 2018-06-01 21:18:04: Iteration calculation: 7\n",
      "[ ] 2018-06-01 21:18:04: Iteration calculation: 8\n",
      "[ ] 2018-06-01 21:18:04: Iteration calculation: 9\n",
      "[ ] 2018-06-01 21:18:05: Iteration calculation: 10\n",
      "[ ] 2018-06-01 21:18:05: Iteration calculation: 11\n",
      "[ ] 2018-06-01 21:18:05: Iteration calculation: 12\n",
      "[ ] 2018-06-01 21:18:05: Iteration calculation: 13\n",
      "[ ] 2018-06-01 21:18:05: Iteration calculation: 14\n",
      "[ ] 2018-06-01 21:18:06: Iteration calculation: 15\n",
      "[ ] 2018-06-01 21:18:06: Iteration calculation: 16\n",
      "[ ] 2018-06-01 21:18:06: Iteration calculation: 17\n",
      "[ ] 2018-06-01 21:18:06: Iteration calculation: 18\n",
      "[ ] 2018-06-01 21:18:06: Iteration calculation: 19\n",
      "[ ] 2018-06-01 21:18:07: Iteration calculation: 20\n",
      "[ ] 2018-06-01 21:18:07: Iteration calculation: 21\n",
      "[ ] 2018-06-01 21:18:07: Iteration calculation: 22\n",
      "[ ] 2018-06-01 21:18:07: Iteration calculation: 23\n",
      "[ ] 2018-06-01 21:18:07: Iteration calculation: 24\n",
      "[ ] 2018-06-01 21:18:08: Iteration calculation: 25\n",
      "[ ] 2018-06-01 21:18:08: Iteration calculation: 26\n",
      "[ ] 2018-06-01 21:18:08: Iteration calculation: 27\n",
      "[ ] 2018-06-01 21:18:08: Iteration calculation: 28\n",
      "[ ] 2018-06-01 21:18:08: Iteration calculation: 29\n",
      "[ ] 2018-06-01 21:18:08: Iteration calculation: 30\n",
      "[ ] 2018-06-01 21:18:09: Iteration calculation: 31\n",
      "[ ] 2018-06-01 21:18:09: Iteration calculation: 32\n",
      "[ ] 2018-06-01 21:18:09: Iteration calculation: 33\n",
      "[ ] 2018-06-01 21:18:09: Iteration calculation: 34\n",
      "[ ] 2018-06-01 21:18:09: Iteration calculation: 35\n",
      "[ ] 2018-06-01 21:18:09: Iteration calculation: 36\n",
      "[ ] 2018-06-01 21:18:09: Iteration calculation: 37\n",
      "[ ] 2018-06-01 21:18:10: Iteration calculation: 38\n",
      "[ ] 2018-06-01 21:18:10: Iteration calculation: 39\n",
      "[ ] 2018-06-01 21:18:10: Iteration calculation: 40\n",
      "[ ] 2018-06-01 21:18:10: Iteration calculation: 41\n",
      "[ ] 2018-06-01 21:18:10: Iteration calculation: 42\n",
      "[ ] 2018-06-01 21:18:10: Iteration calculation: 43\n",
      "[ ] 2018-06-01 21:18:11: Iteration calculation: 44\n",
      "[ ] 2018-06-01 21:18:11: Iteration calculation: 45\n",
      "[ ] 2018-06-01 21:18:11: Iteration calculation: 46\n",
      "[ ] 2018-06-01 21:18:11: Iteration calculation: 47\n",
      "[ ] 2018-06-01 21:18:11: Iteration calculation: 48\n",
      "[ ] 2018-06-01 21:18:11: Iteration calculation: 49\n",
      "gwh\n",
      "[ ] 2018-06-01 21:18:11: Iteration calculation: 0\n",
      "[ ] 2018-06-01 21:18:12: Iteration calculation: 1\n",
      "[ ] 2018-06-01 21:18:12: Iteration calculation: 2\n",
      "[ ] 2018-06-01 21:18:12: Iteration calculation: 3\n",
      "[ ] 2018-06-01 21:18:12: Iteration calculation: 4\n",
      "[ ] 2018-06-01 21:18:12: Iteration calculation: 5\n",
      "[ ] 2018-06-01 21:18:12: Iteration calculation: 6\n",
      "[ ] 2018-06-01 21:18:13: Iteration calculation: 7\n",
      "[ ] 2018-06-01 21:18:13: Iteration calculation: 8\n",
      "[ ] 2018-06-01 21:18:13: Iteration calculation: 9\n",
      "[ ] 2018-06-01 21:18:13: Iteration calculation: 10\n",
      "[ ] 2018-06-01 21:18:13: Iteration calculation: 11\n",
      "[ ] 2018-06-01 21:18:13: Iteration calculation: 12\n",
      "[ ] 2018-06-01 21:18:14: Iteration calculation: 13\n",
      "[ ] 2018-06-01 21:18:14: Iteration calculation: 14\n",
      "[ ] 2018-06-01 21:18:14: Iteration calculation: 15\n",
      "[ ] 2018-06-01 21:18:14: Iteration calculation: 16\n",
      "[ ] 2018-06-01 21:18:14: Iteration calculation: 17\n",
      "[ ] 2018-06-01 21:18:14: Iteration calculation: 18\n",
      "[ ] 2018-06-01 21:18:14: Iteration calculation: 19\n",
      "[ ] 2018-06-01 21:18:15: Iteration calculation: 20\n",
      "[ ] 2018-06-01 21:18:15: Iteration calculation: 21\n",
      "[ ] 2018-06-01 21:18:15: Iteration calculation: 22\n",
      "[ ] 2018-06-01 21:18:15: Iteration calculation: 23\n",
      "[ ] 2018-06-01 21:18:15: Iteration calculation: 24\n",
      "[ ] 2018-06-01 21:18:15: Iteration calculation: 25\n",
      "[ ] 2018-06-01 21:18:16: Iteration calculation: 26\n",
      "[ ] 2018-06-01 21:18:16: Iteration calculation: 27\n",
      "[ ] 2018-06-01 21:18:16: Iteration calculation: 28\n",
      "[ ] 2018-06-01 21:18:17: Iteration calculation: 29\n",
      "[ ] 2018-06-01 21:18:17: Iteration calculation: 30\n",
      "[ ] 2018-06-01 21:18:17: Iteration calculation: 31\n",
      "[ ] 2018-06-01 21:18:18: Iteration calculation: 32\n",
      "[ ] 2018-06-01 21:18:18: Iteration calculation: 33\n",
      "[ ] 2018-06-01 21:18:18: Iteration calculation: 34\n",
      "[ ] 2018-06-01 21:18:18: Iteration calculation: 35\n",
      "[ ] 2018-06-01 21:18:19: Iteration calculation: 36\n",
      "[ ] 2018-06-01 21:18:19: Iteration calculation: 37\n",
      "[ ] 2018-06-01 21:18:19: Iteration calculation: 38\n",
      "[ ] 2018-06-01 21:18:20: Iteration calculation: 39\n",
      "[ ] 2018-06-01 21:18:20: Iteration calculation: 40\n",
      "[ ] 2018-06-01 21:18:20: Iteration calculation: 41\n",
      "[ ] 2018-06-01 21:18:20: Iteration calculation: 42\n",
      "[ ] 2018-06-01 21:18:21: Iteration calculation: 43\n",
      "[ ] 2018-06-01 21:18:21: Iteration calculation: 44\n",
      "[ ] 2018-06-01 21:18:21: Iteration calculation: 45\n",
      "[ ] 2018-06-01 21:18:21: Iteration calculation: 46\n",
      "[ ] 2018-06-01 21:18:22: Iteration calculation: 47\n",
      "[ ] 2018-06-01 21:18:22: Iteration calculation: 48\n",
      "[ ] 2018-06-01 21:18:22: Iteration calculation: 49\n"
     ]
    },
    {
     "data": {
      "text/plain": [
       "(50, 6)"
      ]
     },
     "execution_count": 20,
     "metadata": {},
     "output_type": "execute_result"
    }
   ],
   "source": [
    "from SCFInitialGuess.utilities.analysis import measure_iterations, mf_initializer\n",
    "\n",
    "iterations = []\n",
    "\n",
    "print(\"nn\")\n",
    "iterations.append(measure_iterations(mf_initializer, p_batch, molecules[1]))\n",
    "print(\"mcw1\")\n",
    "iterations.append(measure_iterations(mf_initializer, p_mcw1, molecules[1]))\n",
    "print(\"mcw5\")\n",
    "iterations.append(measure_iterations(mf_initializer, p_mcw5, molecules[1]))\n",
    "print(\"sap\")\n",
    "iterations.append(measure_iterations(mf_initializer, p_sap, molecules[1]))\n",
    "print(\"minao\")\n",
    "iterations.append(measure_iterations(mf_initializer, p_minao, molecules[1]))\n",
    "print(\"gwh\")\n",
    "iterations.append(measure_iterations(mf_initializer, p_gwh, molecules[1]))\n",
    "\n",
    "iterations = np.array(iterations).T\n",
    "iterations.shape"
   ]
  },
  {
   "cell_type": "code",
   "execution_count": 17,
   "metadata": {},
   "outputs": [
    {
     "data": {
      "text/plain": [
       "(7.0, 8.0, 10.0)"
      ]
     },
     "execution_count": 17,
     "metadata": {},
     "output_type": "execute_result"
    }
   ],
   "source": [
    "median = np.median(iterations[:, 1])\n",
    "\n",
    "lower_quartile = iterations[:, 1][iterations[:, 1] < median]\n",
    "upper_quartile = iterations[:, 1][iterations[:, 1] > median]\n",
    "np.median(lower_quartile), median, np.median(upper_quartile)"
   ]
  },
  {
   "cell_type": "markdown",
   "metadata": {},
   "source": [
    "# Plot "
   ]
  },
  {
   "cell_type": "code",
   "execution_count": 19,
   "metadata": {},
   "outputs": [
    {
     "data": {
      "image/png": "[encoded data removed]",
      "text/plain": [
       "<matplotlib.figure.Figure at 0x7fb6797900f0>"
      ]
     },
     "metadata": {},
     "output_type": "display_data"
    }
   ],
   "source": [
    "labels = [\"NN\", \"McW-1\", \"McW-5\", \"SAP\", \"MINAO\", \"GWH\"]\n",
    "\n",
    "plt.boxplot(iterations)\n",
    "plt.xticks(np.arange(1, 7), labels)\n",
    "plt.show()"
   ]
  },
  {
   "cell_type": "code",
   "execution_count": 30,
   "metadata": {},
   "outputs": [
    {
     "data": {
      "image/png": "[encoded data removed]",
      "text/plain": [
       "<matplotlib.figure.Figure at 0x7fb66273ba58>"
      ]
     },
     "metadata": {},
     "output_type": "display_data"
    }
   ],
   "source": [
    "from pandas import DataFrame\n",
    "from seaborn import boxplot\n",
    "\n",
    "#frame = DataFrame([[iterations[:,i] for i in range(len(labels))]], columns=labels)\n",
    "frame = DataFrame(iterations, columns=labels)\n",
    "boxplot(data=iterations)\n",
    "plt.xticks(np.arange(6), labels)\n",
    "plt.ylabel(\"Iterations untill convergence / 1\")\n",
    "plt.title(\"SCF calculations on butadiene test dataset (w/o damping or DIIS)\")\n",
    "plt.savefig(\"/home/jo/Repos/cc2aiPoster/figures/iterationsBoxPlot.pdf\")\n",
    "plt.show()"
   ]
  },
  {
   "cell_type": "markdown",
   "metadata": {},
   "source": [
    "# Subplot"
   ]
  },
  {
   "cell_type": "code",
   "execution_count": null,
   "metadata": {},
   "outputs": [],
   "source": [
    "def add_plot(ax, title, data):\n",
    "    \n",
    "    ax.boxplot(data)\n",
    "    ax.set_title(title)\n",
    "    ax.set_ylabel(\"Iterations / 1\")\n",
    "    \n",
    "    \n",
    "    \n",
    "data = np.random.rand(100, 6)\n",
    "    \n",
    "fig, axes = plt.subplots(3, 1)\n",
    "titles = [\"Plain\", \"Damped\", \"DIIS\"]\n",
    "for i in range(len(axes)):\n",
    "    add_plot(axes[i], titles[i], data)\n",
    "    \n",
    "axes[-1].set_xticklabels(labels)"
   ]
  },
  {
   "cell_type": "code",
   "execution_count": null,
   "metadata": {},
   "outputs": [],
   "source": [
    "import seaborn as sns\n",
    "\n",
    "\n",
    "data = np.random.rand(100, 6)\n",
    "\"\"\"\n",
    "data={\n",
    "        \"NN\": iterations[:,0],\n",
    "        \"McW-1\": iterations[:,1],\n",
    "        \"McW-5\": iterations[:,2]\n",
    "    }\n",
    "#\"\"\"\n",
    "\n",
    "sns.boxplot(\n",
    "    list(data.T),\n",
    "    orient=\"v\"\n",
    ")\n",
    "\n",
    "plt.show()"
   ]
  },
  {
   "cell_type": "code",
   "execution_count": null,
   "metadata": {},
   "outputs": [],
   "source": [
    "list(data.T)"
   ]
  },
  {
   "cell_type": "code",
   "execution_count": null,
   "metadata": {},
   "outputs": [],
   "source": []
  }
 ],
 "metadata": {
  "kernelspec": {
   "display_name": "Python 3",
   "language": "python",
   "name": "python3"
  },
  "language_info": {
   "codemirror_mode": {
    "name": "ipython",
    "version": 3
   },
   "file_extension": ".py",
   "mimetype": "text/x-python",
   "name": "python",
   "nbconvert_exporter": "python",
   "pygments_lexer": "ipython3",
   "version": "3.6.4"
  }
 },
 "nbformat": 4,
 "nbformat_minor": 2
}
