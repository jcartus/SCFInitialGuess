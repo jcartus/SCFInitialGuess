{
 "cells": [
  {
   "cell_type": "code",
   "execution_count": 4,
   "metadata": {},
   "outputs": [],
   "source": [
    "import numpy as np\n",
    "import tensorflow as tf\n",
    "import matplotlib as mpl\n",
    "import matplotlib.pyplot as plt\n",
    "\n",
    "mpl.style.use(\"seaborn\")"
   ]
  },
  {
   "cell_type": "markdown",
   "metadata": {},
   "source": [
    "# Fetch dataset"
   ]
  },
  {
   "cell_type": "code",
   "execution_count": 3,
   "metadata": {},
   "outputs": [
    {
     "name": "stdout",
     "output_type": "stream",
     "text": [
      "[-] 2018-05-28 17:28:02: Data set normalized. Mean value std: 0.008732722987069362\n"
     ]
    }
   ],
   "source": [
    "from SCFInitialGuess.utilities.dataset import make_butadien_dataset, extract_triu\n",
    "\n",
    "#dim ethen\n",
    "dim = 26\n",
    "\n",
    "def load_triu(S, P, dim):\n",
    "    \n",
    "    return [extract_triu(s, dim) for s in S], [extract_triu(p, dim) for p in P]\n",
    "\n",
    "dataset, molecules = make_butadien_dataset(\n",
    "    np.load(\"../data/molecules.npy\"),\n",
    "    np.load(\"../data/S.npy\"), \n",
    "    np.load(\"../data/P.npy\")\n",
    ")"
   ]
  },
  {
   "cell_type": "markdown",
   "metadata": {},
   "source": [
    "# Fetch network "
   ]
  },
  {
   "cell_type": "code",
   "execution_count": 4,
   "metadata": {},
   "outputs": [],
   "source": [
    "from SCFInitialGuess.nn.networks import EluFixedValue\n",
    "\n",
    "graph = tf.Graph()\n",
    "\n",
    "structure, weights, biases = np.load(\"../data/network.npy\", encoding=\"latin1\")\n",
    "\n",
    "with graph.as_default():\n",
    "    sess = tf.Session()\n",
    "    network = EluFixedValue(structure, weights, biases)\n",
    "    network.setup()\n",
    "    sess.run(tf.global_variables_initializer())"
   ]
  },
  {
   "cell_type": "markdown",
   "metadata": {},
   "source": [
    "# Create guesses"
   ]
  },
  {
   "cell_type": "code",
   "execution_count": 2,
   "metadata": {},
   "outputs": [
    {
     "ename": "NameError",
     "evalue": "name 'dataset' is not defined",
     "output_type": "error",
     "traceback": [
      "\u001b[0;31m---------------------------------------------------------------------------\u001b[0m",
      "\u001b[0;31mNameError\u001b[0m                                 Traceback (most recent call last)",
      "\u001b[0;32m<ipython-input-2-a30a4e3396ab>\u001b[0m in \u001b[0;36m<module>\u001b[0;34m()\u001b[0m\n\u001b[1;32m      3\u001b[0m \u001b[0;32mfrom\u001b[0m \u001b[0mpyscf\u001b[0m\u001b[0;34m.\u001b[0m\u001b[0mscf\u001b[0m \u001b[0;32mimport\u001b[0m \u001b[0mhf\u001b[0m\u001b[0;34m\u001b[0m\u001b[0m\n\u001b[1;32m      4\u001b[0m \u001b[0;34m\u001b[0m\u001b[0m\n\u001b[0;32m----> 5\u001b[0;31m \u001b[0ms_raw\u001b[0m \u001b[0;34m=\u001b[0m \u001b[0mmake_matrix_batch\u001b[0m\u001b[0;34m(\u001b[0m\u001b[0mdataset\u001b[0m\u001b[0;34m.\u001b[0m\u001b[0minverse_input_transform\u001b[0m\u001b[0;34m(\u001b[0m\u001b[0mdataset\u001b[0m\u001b[0;34m.\u001b[0m\u001b[0mtesting\u001b[0m\u001b[0;34m[\u001b[0m\u001b[0;36m0\u001b[0m\u001b[0;34m]\u001b[0m\u001b[0;34m)\u001b[0m\u001b[0;34m,\u001b[0m \u001b[0mdim\u001b[0m\u001b[0;34m,\u001b[0m \u001b[0;32mFalse\u001b[0m\u001b[0;34m)\u001b[0m\u001b[0;34m\u001b[0m\u001b[0m\n\u001b[0m\u001b[1;32m      6\u001b[0m \u001b[0;34m\u001b[0m\u001b[0m\n\u001b[1;32m      7\u001b[0m \u001b[0mp_nn\u001b[0m \u001b[0;34m=\u001b[0m \u001b[0mnetwork\u001b[0m\u001b[0;34m.\u001b[0m\u001b[0mrun\u001b[0m\u001b[0;34m(\u001b[0m\u001b[0msess\u001b[0m\u001b[0;34m,\u001b[0m \u001b[0mdataset\u001b[0m\u001b[0;34m.\u001b[0m\u001b[0mtesting\u001b[0m\u001b[0;34m[\u001b[0m\u001b[0;36m0\u001b[0m\u001b[0;34m]\u001b[0m\u001b[0;34m)\u001b[0m\u001b[0;34m\u001b[0m\u001b[0m\n",
      "\u001b[0;31mNameError\u001b[0m: name 'dataset' is not defined"
     ]
    }
   ],
   "source": [
    "from SCFInitialGuess.utilities.dataset import make_matrix_batch\n",
    "from SCFInitialGuess.nn.post_processing import multi_mc_wheeny\n",
    "from pyscf.scf import hf\n",
    "\n",
    "s_raw = make_matrix_batch(dataset.inverse_input_transform(dataset.testing[0]), dim, False)\n",
    "\n",
    "p_nn = network.run(sess, dataset.testing[0])\n",
    "\n",
    "p_batch = make_matrix_batch(p_nn, dim, False)\n",
    "p_mcw1 = np.array(list(map(lambda x: multi_mc_wheeny(x[0], x[1], n_max=1), zip(p_batch, s_raw))))\n",
    "p_mcw5 = np.array(list(map(lambda x: multi_mc_wheeny(x[0], x[1], n_max=5), zip  (p_batch, s_raw))))\n",
    "\n",
    "p_sap = np.array([\n",
    "    hf.init_guess_by_atom(mol.get_pyscf_molecule()) for mol in molecules[1]\n",
    "])\n",
    "p_minao = np.array([\n",
    "    hf.init_guess_by_minao(mol.get_pyscf_molecule()) for mol in molecules[1]\n",
    "])\n",
    "p_gwh = np.array([\n",
    "    hf.init_guess_by_wolfsberg_helmholtz(mol.get_pyscf_molecule()) for mol in molecules[1]\n",
    "])"
   ]
  },
  {
   "cell_type": "code",
   "execution_count": 8,
   "metadata": {},
   "outputs": [
    {
     "data": {
      "text/plain": [
       "(50, 26, 26)"
      ]
     },
     "execution_count": 8,
     "metadata": {},
     "output_type": "execute_result"
    }
   ],
   "source": []
  },
  {
   "cell_type": "markdown",
   "metadata": {},
   "source": [
    "# Measure iterations "
   ]
  },
  {
   "cell_type": "code",
   "execution_count": 1,
   "metadata": {},
   "outputs": [
    {
     "name": "stderr",
     "output_type": "stream",
     "text": [
      "/home/jcartus/anaconda3/lib/python3.6/site-packages/h5py/__init__.py:36: FutureWarning: Conversion of the second argument of issubdtype from `float` to `np.floating` is deprecated. In future, it will be treated as `np.float64 == np.dtype(float).type`.\n",
      "  from ._conv import register_converters as _register_converters\n"
     ]
    },
    {
     "ename": "NameError",
     "evalue": "name 'p_batch' is not defined",
     "output_type": "error",
     "traceback": [
      "\u001b[0;31m---------------------------------------------------------------------------\u001b[0m",
      "\u001b[0;31mNameError\u001b[0m                                 Traceback (most recent call last)",
      "\u001b[0;32m<ipython-input-1-c35af33e41f4>\u001b[0m in \u001b[0;36m<module>\u001b[0;34m()\u001b[0m\n\u001b[1;32m      4\u001b[0m \u001b[0;34m\u001b[0m\u001b[0m\n\u001b[1;32m      5\u001b[0m \u001b[0;31m# nn\u001b[0m\u001b[0;34m\u001b[0m\u001b[0;34m\u001b[0m\u001b[0m\n\u001b[0;32m----> 6\u001b[0;31m \u001b[0miterations\u001b[0m\u001b[0;34m.\u001b[0m\u001b[0mappend\u001b[0m\u001b[0;34m(\u001b[0m\u001b[0mmeasure_iterations\u001b[0m\u001b[0;34m(\u001b[0m\u001b[0mmf_initializer\u001b[0m\u001b[0;34m,\u001b[0m \u001b[0mp_batch\u001b[0m\u001b[0;34m,\u001b[0m \u001b[0mmolecules\u001b[0m\u001b[0;34m[\u001b[0m\u001b[0;36m1\u001b[0m\u001b[0;34m]\u001b[0m\u001b[0;34m)\u001b[0m\u001b[0;34m)\u001b[0m\u001b[0;34m\u001b[0m\u001b[0m\n\u001b[0m\u001b[1;32m      7\u001b[0m \u001b[0miterations\u001b[0m\u001b[0;34m.\u001b[0m\u001b[0mappend\u001b[0m\u001b[0;34m(\u001b[0m\u001b[0mmeasure_iterations\u001b[0m\u001b[0;34m(\u001b[0m\u001b[0mmf_initializer\u001b[0m\u001b[0;34m,\u001b[0m \u001b[0mp_mcw1\u001b[0m\u001b[0;34m,\u001b[0m \u001b[0mmolecules\u001b[0m\u001b[0;34m[\u001b[0m\u001b[0;36m1\u001b[0m\u001b[0;34m]\u001b[0m\u001b[0;34m)\u001b[0m\u001b[0;34m)\u001b[0m\u001b[0;34m\u001b[0m\u001b[0m\n\u001b[1;32m      8\u001b[0m \u001b[0miterations\u001b[0m\u001b[0;34m.\u001b[0m\u001b[0mappend\u001b[0m\u001b[0;34m(\u001b[0m\u001b[0mmeasure_iterations\u001b[0m\u001b[0;34m(\u001b[0m\u001b[0mmf_initializer\u001b[0m\u001b[0;34m,\u001b[0m \u001b[0mp_mcw5\u001b[0m\u001b[0;34m,\u001b[0m \u001b[0mmolecules\u001b[0m\u001b[0;34m[\u001b[0m\u001b[0;36m1\u001b[0m\u001b[0;34m]\u001b[0m\u001b[0;34m)\u001b[0m\u001b[0;34m)\u001b[0m\u001b[0;34m\u001b[0m\u001b[0m\n",
      "\u001b[0;31mNameError\u001b[0m: name 'p_batch' is not defined"
     ]
    }
   ],
   "source": [
    "from SCFInitialGuess.utilities.analysis import measure_iterations, mf_initializer\n",
    "\n",
    "iterations = []\n",
    "\n",
    "# nn\n",
    "iterations.append(measure_iterations(mf_initializer, p_batch, molecules[1]))\n",
    "iterations.append(measure_iterations(mf_initializer, p_mcw1, molecules[1]))\n",
    "iterations.append(measure_iterations(mf_initializer, p_mcw5, molecules[1]))\n",
    "iterations.append(measure_iterations(mf_initializer, p_sap, molecules[1]))\n",
    "iterations.append(measure_iterations(mf_initializer, p_minao, molecules[1]))\n",
    "iterations.append(measure_iterations(mf_initializer, p_gwh, molecules[1]))\n",
    "\n",
    "iterations = np.array(iterations).T\n",
    "iterations.shape"
   ]
  },
  {
   "cell_type": "markdown",
   "metadata": {},
   "source": [
    "# Plot "
   ]
  },
  {
   "cell_type": "code",
   "execution_count": 11,
   "metadata": {},
   "outputs": [
    {
     "data": {
      "image/png": "[encoded data removed]",
      "text/plain": [
       "<matplotlib.figure.Figure at 0x7f4e931cc320>"
      ]
     },
     "metadata": {},
     "output_type": "display_data"
    }
   ],
   "source": [
    "labels = [\"NN\", \"McW-1\", \"McW-5\", \"SAP\", \"MINAO\", \"GWH\"]\n",
    "\n",
    "iterations = np.random.rand(100, 6)\n",
    "\n",
    "plt.boxplot(iterations)\n",
    "plt.xticks(np.arange(1, 7), labels)\n",
    "plt.show()"
   ]
  },
  {
   "cell_type": "markdown",
   "metadata": {},
   "source": [
    "# Subplot"
   ]
  },
  {
   "cell_type": "code",
   "execution_count": 15,
   "metadata": {},
   "outputs": [
    {
     "data": {
      "text/plain": [
       "[Text(0,0,'NN'),\n",
       " Text(0,0,'McW-1'),\n",
       " Text(0,0,'McW-5'),\n",
       " Text(0,0,'SAP'),\n",
       " Text(0,0,'MINAO'),\n",
       " Text(0,0,'GWH')]"
      ]
     },
     "execution_count": 15,
     "metadata": {},
     "output_type": "execute_result"
    },
    {
     "data": {
      "image/png": "[encoded data removed]",
      "text/plain": [
       "<matplotlib.figure.Figure at 0x7f4e931820f0>"
      ]
     },
     "metadata": {},
     "output_type": "display_data"
    }
   ],
   "source": [
    "def add_plot(ax, title, data):\n",
    "    \n",
    "    ax.boxplot(data)\n",
    "    ax.set_title(title)\n",
    "    ax.set_ylabel(\"Iterations / 1\")\n",
    "    \n",
    "    \n",
    "    \n",
    "data = np.random.rand(100, 6)\n",
    "    \n",
    "fig, axes = plt.subplots(3, 1)\n",
    "titles = [\"Plain\", \"Damped\", \"DIIS\"]\n",
    "for i in range(len(axes)):\n",
    "    add_plot(axes[i], titles[i], data)\n",
    "    \n",
    "axes[-1].set_xticklabels(labels)"
   ]
  },
  {
   "cell_type": "code",
   "execution_count": 33,
   "metadata": {},
   "outputs": [
    {
     "data": {
      "image/png": "[encoded data removed]",
      "text/plain": [
       "<matplotlib.figure.Figure at 0x7f4e921ff240>"
      ]
     },
     "metadata": {},
     "output_type": "display_data"
    }
   ],
   "source": [
    "import seaborn as sns\n",
    "\n",
    "\n",
    "data = np.random.rand(100, 6)\n",
    "\"\"\"\n",
    "data={\n",
    "        \"NN\": iterations[:,0],\n",
    "        \"McW-1\": iterations[:,1],\n",
    "        \"McW-5\": iterations[:,2]\n",
    "    }\n",
    "#\"\"\"\n",
    "\n",
    "sns.boxplot(\n",
    "    list(data.T),\n",
    "    orient=\"v\"\n",
    ")\n",
    "\n",
    "plt.show()"
   ]
  },
  {
   "cell_type": "code",
   "execution_count": 32,
   "metadata": {},
   "outputs": [
    {
     "data": {
      "text/plain": [
       "[array([0.71823409, 0.56231579, 0.40239712, 0.57033188, 0.70307495,\n",
       "        0.02452326, 0.8634054 , 0.41096896, 0.59734988, 0.92356666,\n",
       "        0.27999991, 0.21404822, 0.17213569, 0.52267305, 0.11966976,\n",
       "        0.62199566, 0.4030036 , 0.39963215, 0.79265489, 0.04388238,\n",
       "        0.15142847, 0.39753242, 0.90814229, 0.38047319, 0.28743762,\n",
       "        0.09156302, 0.9282254 , 0.57836367, 0.52164341, 0.40726823,\n",
       "        0.61426834, 0.09065098, 0.87675717, 0.20370831, 0.76892722,\n",
       "        0.89517837, 0.18935626, 0.61978345, 0.28775651, 0.05328464,\n",
       "        0.62798374, 0.12465121, 0.88732698, 0.07645376, 0.77701492,\n",
       "        0.64859955, 0.65121731, 0.23409097, 0.21717191, 0.90276928,\n",
       "        0.51188461, 0.10978203, 0.4610835 , 0.34528021, 0.43953494,\n",
       "        0.72595619, 0.16971525, 0.52524176, 0.04678076, 0.37585175,\n",
       "        0.38000663, 0.08469362, 0.16938137, 0.64560961, 0.78674158,\n",
       "        0.18037474, 0.15814105, 0.97113013, 0.83080913, 0.1178768 ,\n",
       "        0.86741546, 0.71336914, 0.90266556, 0.82259712, 0.52760415,\n",
       "        0.13474726, 0.46628546, 0.09082187, 0.16662354, 0.02848162,\n",
       "        0.47419154, 0.69600902, 0.13241259, 0.01055595, 0.86670425,\n",
       "        0.360297  , 0.42298243, 0.32369988, 0.81194095, 0.50284783,\n",
       "        0.20691037, 0.88652693, 0.33276694, 0.03075983, 0.0661121 ,\n",
       "        0.75150125, 0.54698679, 0.12849966, 0.66599146, 0.84253637]),\n",
       " array([9.46509548e-01, 1.30967525e-01, 2.98899375e-02, 3.66934720e-04,\n",
       "        9.89157809e-02, 2.97674476e-02, 2.31161962e-01, 8.98194849e-01,\n",
       "        7.39853561e-01, 9.54379429e-01, 5.58841063e-01, 4.92059735e-02,\n",
       "        9.78968394e-01, 4.06787309e-03, 2.45564681e-01, 4.84760744e-01,\n",
       "        7.27960962e-02, 3.41600948e-01, 5.80544587e-03, 7.98245760e-01,\n",
       "        3.41269717e-02, 5.42389012e-01, 1.53642434e-01, 6.89866895e-01,\n",
       "        9.81166507e-02, 4.06640255e-01, 2.32047162e-01, 8.52775777e-02,\n",
       "        9.44342743e-01, 4.06471759e-02, 2.94851249e-01, 4.56416957e-01,\n",
       "        6.95907321e-01, 8.52811937e-01, 6.50188940e-01, 3.32993008e-01,\n",
       "        2.87214710e-01, 2.98802414e-01, 6.54698855e-01, 9.66030646e-01,\n",
       "        4.22092800e-01, 9.99521567e-01, 2.02328336e-01, 8.56713811e-01,\n",
       "        8.61439011e-01, 3.91599762e-01, 7.65516161e-01, 1.16915592e-01,\n",
       "        2.59265424e-01, 8.22652845e-01, 3.04362437e-01, 7.51834351e-01,\n",
       "        7.87212828e-01, 3.87942127e-01, 9.36286461e-01, 2.93830268e-01,\n",
       "        1.35953743e-02, 4.69618360e-01, 1.28810523e-01, 1.91061848e-02,\n",
       "        1.21544357e-01, 1.02869426e-01, 1.14733593e-01, 7.21559718e-01,\n",
       "        7.27437939e-01, 7.61263220e-01, 4.27331142e-01, 3.91536508e-01,\n",
       "        4.56001093e-01, 2.94151427e-01, 6.68034257e-01, 1.65609917e-01,\n",
       "        4.35751843e-01, 3.83576160e-02, 6.25154623e-02, 2.54828922e-01,\n",
       "        6.06363585e-01, 3.95130779e-01, 2.35285694e-02, 3.88575387e-01,\n",
       "        7.54734530e-01, 3.54118560e-01, 6.48131582e-01, 2.89895889e-01,\n",
       "        6.20532105e-01, 1.64839368e-01, 5.76404097e-01, 4.79969899e-02,\n",
       "        2.46433292e-01, 2.56121416e-01, 1.98338267e-01, 8.30792590e-01,\n",
       "        3.90495149e-01, 9.55910623e-01, 2.52733257e-01, 1.37947473e-01,\n",
       "        5.98753958e-01, 8.78009513e-01, 9.42199821e-01, 7.80550835e-01]),\n",
       " array([0.19718318, 0.93953386, 0.94467183, 0.81140127, 0.5137048 ,\n",
       "        0.34258247, 0.50264777, 0.85623847, 0.51298867, 0.52478714,\n",
       "        0.13700341, 0.70918416, 0.24237772, 0.16233942, 0.44155606,\n",
       "        0.22712194, 0.58011418, 0.3792321 , 0.39260525, 0.40319988,\n",
       "        0.44667016, 0.42258659, 0.79687411, 0.84702177, 0.37922125,\n",
       "        0.41000304, 0.90433615, 0.17348304, 0.65187363, 0.12374208,\n",
       "        0.86991064, 0.14943669, 0.97327018, 0.50353531, 0.94459675,\n",
       "        0.72439723, 0.77071647, 0.57724016, 0.37177954, 0.76770172,\n",
       "        0.31761109, 0.0606702 , 0.0203557 , 0.39831398, 0.73314659,\n",
       "        0.30682758, 0.65283862, 0.246856  , 0.53541389, 0.95711068,\n",
       "        0.84855092, 0.69243813, 0.9478903 , 0.5272788 , 0.88804326,\n",
       "        0.03679189, 0.93016225, 0.7560487 , 0.29999554, 0.02233273,\n",
       "        0.12206454, 0.323375  , 0.28770474, 0.56057827, 0.93684148,\n",
       "        0.01039453, 0.01876758, 0.53938885, 0.85034893, 0.78260161,\n",
       "        0.09414822, 0.61745744, 0.09647794, 0.64039951, 0.08325307,\n",
       "        0.08012222, 0.98185204, 0.36755239, 0.81663898, 0.38371805,\n",
       "        0.5698156 , 0.62609118, 0.05571571, 0.21468352, 0.22383998,\n",
       "        0.58976862, 0.63435883, 0.04000187, 0.24746856, 0.2864658 ,\n",
       "        0.77750274, 0.14842842, 0.48077385, 0.54748271, 0.72200833,\n",
       "        0.87304243, 0.82889237, 0.849799  , 0.88597222, 0.67352172]),\n",
       " array([0.36076469, 0.54631671, 0.01321971, 0.48697342, 0.35754662,\n",
       "        0.19452475, 0.39267043, 0.77531178, 0.46082804, 0.70446047,\n",
       "        0.66085689, 0.19850304, 0.07314429, 0.53349723, 0.68654975,\n",
       "        0.06189816, 0.37392419, 0.50748877, 0.05523112, 0.50435666,\n",
       "        0.08540834, 0.8386002 , 0.60039243, 0.68894851, 0.4161707 ,\n",
       "        0.29282745, 0.70343241, 0.26596925, 0.96072743, 0.18527645,\n",
       "        0.55933288, 0.33225783, 0.80514654, 0.2514136 , 0.06106404,\n",
       "        0.82328783, 0.82081586, 0.28028812, 0.10278245, 0.57049215,\n",
       "        0.2151761 , 0.13307862, 0.50174022, 0.99646137, 0.53168304,\n",
       "        0.58872696, 0.31395772, 0.45982449, 0.38345038, 0.42171284,\n",
       "        0.8177733 , 0.84290362, 0.24313065, 0.17373914, 0.63737117,\n",
       "        0.52275968, 0.54446929, 0.20475344, 0.72367196, 0.87900154,\n",
       "        0.20990043, 0.59801718, 0.06761285, 0.44178313, 0.53586379,\n",
       "        0.67541591, 0.04756131, 0.0054997 , 0.31028003, 0.88900503,\n",
       "        0.43327936, 0.47085982, 0.23602956, 0.44877948, 0.62218751,\n",
       "        0.43404449, 0.70882058, 0.81801229, 0.90152871, 0.01207964,\n",
       "        0.93399112, 0.19108256, 0.6082062 , 0.9810843 , 0.66003797,\n",
       "        0.421774  , 0.9321086 , 0.28604989, 0.42200183, 0.79467961,\n",
       "        0.5165756 , 0.57050157, 0.64363555, 0.39687464, 0.64124409,\n",
       "        0.26456025, 0.81947206, 0.59204819, 0.93573767, 0.53971264]),\n",
       " array([0.33269011, 0.81858944, 0.93977104, 0.72064119, 0.75845624,\n",
       "        0.36242543, 0.19012246, 0.31883101, 0.38017739, 0.90905842,\n",
       "        0.09326704, 0.51761787, 0.96092659, 0.11141886, 0.57301794,\n",
       "        0.38264366, 0.55058888, 0.37132994, 0.49082073, 0.33318468,\n",
       "        0.93170658, 0.61680404, 0.9038899 , 0.27607839, 0.51134367,\n",
       "        0.83718901, 0.91012131, 0.47107378, 0.06148187, 0.56984133,\n",
       "        0.94428432, 0.94234847, 0.82891456, 0.29039994, 0.64389118,\n",
       "        0.89151111, 0.71670924, 0.69190521, 0.76006964, 0.31493886,\n",
       "        0.68631045, 0.99197553, 0.44275758, 0.55458924, 0.59020641,\n",
       "        0.10883397, 0.5847771 , 0.58475675, 0.52374279, 0.8457762 ,\n",
       "        0.54607215, 0.66091579, 0.91164287, 0.52887887, 0.59024618,\n",
       "        0.195956  , 0.02519157, 0.99060056, 0.43166735, 0.07366065,\n",
       "        0.65493911, 0.036547  , 0.22874759, 0.95874561, 0.93522119,\n",
       "        0.40116295, 0.79499999, 0.22856351, 0.03061027, 0.26090722,\n",
       "        0.55763002, 0.31977494, 0.54778286, 0.03938867, 0.18046308,\n",
       "        0.94130678, 0.79646506, 0.2450234 , 0.055075  , 0.23150912,\n",
       "        0.1530224 , 0.24626785, 0.95834048, 0.38132193, 0.68438626,\n",
       "        0.02522552, 0.91507362, 0.84732425, 0.71706789, 0.82971734,\n",
       "        0.25001788, 0.25121921, 0.14557159, 0.48948819, 0.49693905,\n",
       "        0.52251449, 0.06988589, 0.32291292, 0.89912857, 0.64925941]),\n",
       " array([0.72697483, 0.17230193, 0.36031256, 0.7112699 , 0.67436418,\n",
       "        0.46070035, 0.59819128, 0.47709456, 0.47465099, 0.27569595,\n",
       "        0.89581065, 0.56109009, 0.61330588, 0.64915506, 0.42602885,\n",
       "        0.10786809, 0.24585863, 0.34524139, 0.99885704, 0.05328931,\n",
       "        0.16696288, 0.03998696, 0.0233628 , 0.87816186, 0.52636276,\n",
       "        0.43589424, 0.22603632, 0.55225187, 0.65605861, 0.24400699,\n",
       "        0.57868623, 0.41271325, 0.99279769, 0.84655356, 0.84897244,\n",
       "        0.22379894, 0.00713789, 0.32090803, 0.30637069, 0.31693612,\n",
       "        0.86804629, 0.11910925, 0.58101201, 0.26614299, 0.15510699,\n",
       "        0.95008215, 0.72743575, 0.15865693, 0.75526754, 0.8447429 ,\n",
       "        0.46487446, 0.9126905 , 0.78188   , 0.95409827, 0.79138032,\n",
       "        0.43115475, 0.60394916, 0.1171987 , 0.09728752, 0.77225088,\n",
       "        0.73779467, 0.75658016, 0.95787508, 0.90913349, 0.95984847,\n",
       "        0.378082  , 0.2126456 , 0.42977652, 0.78689751, 0.43452612,\n",
       "        0.89278177, 0.49901733, 0.3570079 , 0.05961546, 0.58296877,\n",
       "        0.66292773, 0.6111189 , 0.79532984, 0.98314377, 0.433208  ,\n",
       "        0.86387153, 0.16955902, 0.24474182, 0.15438602, 0.2587258 ,\n",
       "        0.73523432, 0.50696332, 0.21855931, 0.04878746, 0.74524658,\n",
       "        0.82305915, 0.23367051, 0.99578659, 0.60563524, 0.16894454,\n",
       "        0.969313  , 0.35913497, 0.84461147, 0.56804684, 0.52143645])]"
      ]
     },
     "execution_count": 32,
     "metadata": {},
     "output_type": "execute_result"
    }
   ],
   "source": [
    "list(data.T)"
   ]
  },
  {
   "cell_type": "code",
   "execution_count": null,
   "metadata": {},
   "outputs": [],
   "source": []
  }
 ],
 "metadata": {
  "kernelspec": {
   "display_name": "Python 3",
   "language": "python",
   "name": "python3"
  },
  "language_info": {
   "codemirror_mode": {
    "name": "ipython",
    "version": 3
   },
   "file_extension": ".py",
   "mimetype": "text/x-python",
   "name": "python",
   "nbconvert_exporter": "python",
   "pygments_lexer": "ipython3",
   "version": "3.6.4"
  }
 },
 "nbformat": 4,
 "nbformat_minor": 2
}
