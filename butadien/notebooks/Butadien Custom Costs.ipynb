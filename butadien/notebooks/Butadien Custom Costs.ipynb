{
 "cells": [
  {
   "cell_type": "code",
   "execution_count": 1,
   "metadata": {},
   "outputs": [
    {
     "name": "stderr",
     "output_type": "stream",
     "text": [
      "/home/jo/anaconda3/lib/python3.6/site-packages/h5py/__init__.py:36: FutureWarning: Conversion of the second argument of issubdtype from `float` to `np.floating` is deprecated. In future, it will be treated as `np.float64 == np.dtype(float).type`.\n",
      "  from ._conv import register_converters as _register_converters\n"
     ]
    }
   ],
   "source": [
    "import numpy as np\n",
    "import matplotlib.pyplot as plt\n",
    "import tensorflow as tf"
   ]
  },
  {
   "cell_type": "code",
   "execution_count": 2,
   "metadata": {
    "scrolled": true
   },
   "outputs": [],
   "source": [
    "S, P = np.load(\"../data/dataset.npy\")\n",
    "molecules = np.load(\"../data/molecules.npy\")"
   ]
  },
  {
   "cell_type": "code",
   "execution_count": 3,
   "metadata": {},
   "outputs": [
    {
     "name": "stdout",
     "output_type": "stream",
     "text": [
      "[-] 2018-04-16 21:19:25: Data set normalized. Mean value std: 0.008710623263892549\n"
     ]
    }
   ],
   "source": [
    "from SCFInitialGuess.utilities.dataset import Dataset\n",
    "\n",
    "dim = 26\n",
    "\n",
    "ind_cut = 150\n",
    "index = np.arange(200)\n",
    "np.random.shuffle(index)\n",
    "\n",
    "S_test = np.array(S)[index[150:]]\n",
    "P_test = np.array(P)[index[150:]]\n",
    "molecules_test = [molecules[index[i]] for i in range(150, 200)]\n",
    "\n",
    "S_train = np.array(S)[index[:150]]\n",
    "P_train = np.array(P)[index[:150]]\n",
    "molecules_train = [molecules[index[i]] for i in range(150)]\n",
    "\n",
    "dataset = Dataset(np.array(S_train), np.array(P_train), split_test=0.0)\n",
    "\n",
    "dataset.testing = (Dataset.normalize(S_test, mean=dataset.x_mean, std=dataset.x_std)[0], P_test)"
   ]
  },
  {
   "cell_type": "markdown",
   "metadata": {},
   "source": [
    "# Training different costs"
   ]
  },
  {
   "cell_type": "code",
   "execution_count": 4,
   "metadata": {},
   "outputs": [
    {
     "name": "stdout",
     "output_type": "stream",
     "text": [
      "[-] 2018-04-16 21:19:25: No target graph specified for Trainer setup. Creating new graph ...\n",
      "[-] 2018-04-16 21:19:25: Setting up the training in the target graph ...\n",
      "[-] 2018-04-16 21:19:26: network ...\n",
      "[-] 2018-04-16 21:19:26: error function ...\n",
      "[-] 2018-04-16 21:19:26: cost function ...\n",
      "[-] 2018-04-16 21:19:27: training step\n",
      "[-] 2018-04-16 21:19:28: Starting network training ...\n",
      "[ ] 2018-04-16 21:19:28: Val. Cost: 5.783E-02. Error: 5.782E-02. Diff: 1.0E+10\n",
      "[ ] 2018-04-16 21:19:29: Val. Cost: 1.015E-04. Error: 9.993E-05. Diff: 5.8E-02\n",
      "[ ] 2018-04-16 21:19:29: Val. Cost: 3.626E-05. Error: 3.473E-05. Diff: 6.5E-05\n",
      "[ ] 2018-04-16 21:19:30: Val. Cost: 2.605E-05. Error: 2.454E-05. Diff: 1.0E-05\n",
      "[ ] 2018-04-16 21:19:31: Val. Cost: 2.415E-05. Error: 2.264E-05. Diff: 1.9E-06\n",
      "[ ] 2018-04-16 21:19:32: Val. Cost: 2.164E-05. Error: 2.014E-05. Diff: 2.5E-06\n",
      "[ ] 2018-04-16 21:19:32: Val. Cost: 1.716E-05. Error: 1.566E-05. Diff: 4.5E-06\n",
      "[ ] 2018-04-16 21:19:33: Val. Cost: 1.265E-04. Error: 1.250E-04. Diff: 1.1E-04\n",
      "[ ] 2018-04-16 21:19:34: Val. Cost: 1.376E-05. Error: 1.222E-05. Diff: 1.1E-04\n",
      "[ ] 2018-04-16 21:19:34: Val. Cost: 1.417E-05. Error: 1.263E-05. Diff: 4.1E-07\n",
      "[ ] 2018-04-16 21:19:35: Val. Cost: 1.296E-05. Error: 1.144E-05. Diff: 1.2E-06\n",
      "[ ] 2018-04-16 21:19:36: Val. Cost: 1.159E-05. Error: 1.009E-05. Diff: 1.4E-06\n",
      "[ ] 2018-04-16 21:19:37: Val. Cost: 1.141E-05. Error: 9.919E-06. Diff: 1.7E-07\n",
      "[ ] 2018-04-16 21:19:37: Val. Cost: 9.658E-06. Error: 8.188E-06. Diff: 1.7E-06\n",
      "[ ] 2018-04-16 21:19:38: Val. Cost: 3.220E-05. Error: 3.074E-05. Diff: 2.3E-05\n",
      "[ ] 2018-04-16 21:19:39: Val. Cost: 9.326E-06. Error: 7.820E-06. Diff: 2.3E-05\n",
      "[ ] 2018-04-16 21:19:39: Val. Cost: 6.615E-06. Error: 5.134E-06. Diff: 2.7E-06\n",
      "[ ] 2018-04-16 21:19:40: Val. Cost: 1.194E-05. Error: 1.048E-05. Diff: 5.4E-06\n",
      "[ ] 2018-04-16 21:19:41: Val. Cost: 6.262E-06. Error: 4.832E-06. Diff: 5.7E-06\n",
      "[ ] 2018-04-16 21:19:42: Val. Cost: 7.121E-06. Error: 5.717E-06. Diff: 8.8E-07\n",
      "[ ] 2018-04-16 21:19:42: Val. Cost: 6.676E-06. Error: 5.269E-06. Diff: 4.5E-07\n",
      "[ ] 2018-04-16 21:19:43: Val. Cost: 4.753E-06. Error: 3.382E-06. Diff: 1.9E-06\n",
      "[ ] 2018-04-16 21:19:44: Val. Cost: 5.900E-06. Error: 4.552E-06. Diff: 1.2E-06\n",
      "[ ] 2018-04-16 21:19:45: Val. Cost: 5.546E-06. Error: 4.215E-06. Diff: 3.4E-07\n",
      "[ ] 2018-04-16 21:19:45: Val. Cost: 6.831E-06. Error: 5.516E-06. Diff: 1.3E-06\n",
      "[ ] 2018-04-16 21:19:46: Val. Cost: 1.015E-05. Error: 8.857E-06. Diff: 3.3E-06\n",
      "[ ] 2018-04-16 21:19:47: Val. Cost: 3.347E-06. Error: 2.073E-06. Diff: 6.8E-06\n",
      "[ ] 2018-04-16 21:19:47: Val. Cost: 4.110E-06. Error: 2.874E-06. Diff: 8.0E-07\n",
      "[ ] 2018-04-16 21:19:48: Val. Cost: 8.746E-06. Error: 7.540E-06. Diff: 4.7E-06\n",
      "[ ] 2018-04-16 21:19:49: Val. Cost: 3.394E-06. Error: 2.177E-06. Diff: 5.4E-06\n",
      "[ ] 2018-04-16 21:19:50: Val. Cost: 2.635E-06. Error: 1.462E-06. Diff: 7.2E-07\n",
      "[ ] 2018-04-16 21:19:51: Val. Cost: 5.250E-06. Error: 4.113E-06. Diff: 2.7E-06\n",
      "[ ] 2018-04-16 21:19:52: Val. Cost: 1.301E-05. Error: 1.181E-05. Diff: 7.7E-06\n",
      "[ ] 2018-04-16 21:19:53: Val. Cost: 2.806E-06. Error: 1.684E-06. Diff: 1.0E-05\n",
      "[ ] 2018-04-16 21:19:53: Val. Cost: 3.425E-06. Error: 2.319E-06. Diff: 6.4E-07\n",
      "[ ] 2018-04-16 21:19:54: Val. Cost: 2.909E-06. Error: 1.838E-06. Diff: 4.8E-07\n",
      "[ ] 2018-04-16 21:19:55: Val. Cost: 5.651E-06. Error: 4.573E-06. Diff: 2.7E-06\n",
      "[ ] 2018-04-16 21:19:56: Val. Cost: 5.980E-06. Error: 4.887E-06. Diff: 3.1E-07\n",
      "[ ] 2018-04-16 21:19:56: Val. Cost: 4.795E-06. Error: 3.769E-06. Diff: 1.1E-06\n",
      "[-] 2018-04-16 21:19:57: Convergence reached after 7800 steps.\n",
      "[-] 2018-04-16 21:19:57: Test error: 3.54851E-06\n"
     ]
    }
   ],
   "source": [
    "from SCFInitialGuess.nn.networks import EluTrNNN\n",
    "from SCFInitialGuess.nn.training import Trainer, RegularizedMSE\n",
    "\n",
    "trainer = Trainer(\n",
    "    EluTrNNN([dim**2, 200, 100, dim**2]),\n",
    "    cost_function=RegularizedMSE(alpha=1e-7)\n",
    ")\n",
    "\n",
    "trainer.setup()\n",
    "network_orig, sess_orig = trainer.train(\n",
    "    dataset,\n",
    "    convergence_threshold=1e-7\n",
    ")\n",
    "graph_orig = trainer.graph"
   ]
  },
  {
   "cell_type": "markdown",
   "metadata": {},
   "source": [
    "### Check symmetry"
   ]
  },
  {
   "cell_type": "code",
   "execution_count": 6,
   "metadata": {},
   "outputs": [
    {
     "name": "stdout",
     "output_type": "stream",
     "text": [
      "0.0006170495\n"
     ]
    },
    {
     "data": {
      "image/png": "[encoded data removed]",
      "text/plain": [
       "<matplotlib.figure.Figure at 0x7f15ea564a90>"
      ]
     },
     "metadata": {},
     "output_type": "display_data"
    }
   ],
   "source": [
    "from SCFInitialGuess.utilities.analysis import matrix_error\n",
    "\n",
    "with graph_orig.as_default():\n",
    "    reshaped = tf.reshape(network_orig.output_tensor, [-1, dim, dim])\n",
    "    transposed = tf.matrix_transpose(reshaped)\n",
    "    diff_mean = tf.reduce_mean(tf.abs(reshaped - transposed), axis=0)\n",
    "    error = sess_orig.run(diff_mean, {network_orig.input_tensor: dataset.testing[0]})\n",
    "    \n",
    "    matrix_error(error)\n",
    "    print(np.mean(error))\n",
    "\n",
    "plt.show()"
   ]
  },
  {
   "cell_type": "markdown",
   "metadata": {},
   "source": [
    "### Check idempotency"
   ]
  },
  {
   "cell_type": "code",
   "execution_count": 18,
   "metadata": {},
   "outputs": [
    {
     "name": "stdout",
     "output_type": "stream",
     "text": [
      "0.001858144\n"
     ]
    },
    {
     "data": {
      "image/png": "[encoded data removed]",
      "text/plain": [
       "<matplotlib.figure.Figure at 0x7f15db15e198>"
      ]
     },
     "metadata": {},
     "output_type": "display_data"
    }
   ],
   "source": [
    "from SCFInitialGuess.utilities.analysis import matrix_error\n",
    "\n",
    "def idempotency_error(network):\n",
    "    p = tf.reshape(network.output_tensor, [-1, dim, dim])\n",
    "    s_raw = dataset.inverse_input_transform(network.input_tensor)\n",
    "    s = tf.reshape(s_raw, [-1, dim, dim])\n",
    "    \n",
    "    \n",
    "    lhs = tf.matmul(tf.matmul(p, s), p)\n",
    "    rhs = 2 * p\n",
    "    return tf.reduce_mean(tf.abs(lhs - rhs), axis=0)\n",
    "\n",
    "with graph_orig.as_default():\n",
    "    \n",
    "    \n",
    "    \"\"\"\n",
    "    reshaped = tf.reshape(network_orig.output_tensor, [-1, dim, dim])\n",
    "    squared = tf.matmul(reshaped, reshaped)\n",
    "    diff_mean = tf.reduce_mean(tf.abs(reshaped - squared), axis=0)\n",
    "    error = sess_orig.run(diff_mean, {network_orig.input_tensor: dataset.testing[0]})\n",
    "    \"\"\"\n",
    "    error = sess_orig.run(\n",
    "        idempotency_error(network_orig),\n",
    "       {network_orig.input_tensor: dataset.testing[0]}\n",
    "    )\n",
    "    \n",
    "    matrix_error(error)\n",
    "    print(np.mean(error))\n",
    "    \n",
    "plt.show()"
   ]
  },
  {
   "cell_type": "markdown",
   "metadata": {},
   "source": [
    "## Enforce symmetry"
   ]
  },
  {
   "cell_type": "code",
   "execution_count": 9,
   "metadata": {
    "scrolled": true
   },
   "outputs": [
    {
     "name": "stdout",
     "output_type": "stream",
     "text": [
      "[-] 2018-04-16 21:21:29: No target graph specified for Trainer setup. Creating new graph ...\n",
      "[-] 2018-04-16 21:21:29: Setting up the training in the target graph ...\n",
      "[-] 2018-04-16 21:21:29: network ...\n",
      "[-] 2018-04-16 21:21:30: error function ...\n",
      "[-] 2018-04-16 21:21:30: cost function ...\n",
      "[-] 2018-04-16 21:21:30: training step\n",
      "[-] 2018-04-16 21:21:30: Starting network training ...\n",
      "[ ] 2018-04-16 21:21:30: Val. Cost: 6.318E-02. Error: 5.778E-02. Diff: 1.0E+10\n",
      "[ ] 2018-04-16 21:21:31: Val. Cost: 4.977E-04. Error: 2.658E-04. Diff: 5.8E-02\n",
      "[ ] 2018-04-16 21:21:32: Val. Cost: 2.424E-04. Error: 1.422E-04. Diff: 1.2E-04\n",
      "[ ] 2018-04-16 21:21:32: Val. Cost: 1.647E-04. Error: 1.176E-04. Diff: 2.5E-05\n",
      "[ ] 2018-04-16 21:21:33: Val. Cost: 5.181E-04. Error: 1.344E-04. Diff: 1.7E-05\n",
      "[ ] 2018-04-16 21:21:34: Val. Cost: 1.420E-04. Error: 8.849E-05. Diff: 4.6E-05\n",
      "[ ] 2018-04-16 21:21:35: Val. Cost: 9.996E-05. Error: 4.821E-05. Diff: 4.0E-05\n",
      "[ ] 2018-04-16 21:21:36: Val. Cost: 1.986E-04. Error: 3.632E-05. Diff: 1.2E-05\n",
      "[ ] 2018-04-16 21:21:37: Val. Cost: 9.925E-05. Error: 6.639E-05. Diff: 3.0E-05\n",
      "[ ] 2018-04-16 21:21:38: Val. Cost: 7.481E-05. Error: 2.873E-05. Diff: 3.8E-05\n",
      "[ ] 2018-04-16 21:21:39: Val. Cost: 1.118E-04. Error: 2.053E-05. Diff: 8.2E-06\n",
      "[ ] 2018-04-16 21:21:39: Val. Cost: 2.248E-05. Error: 1.534E-05. Diff: 5.2E-06\n",
      "[ ] 2018-04-16 21:21:40: Val. Cost: 1.012E-04. Error: 5.911E-05. Diff: 4.4E-05\n",
      "[ ] 2018-04-16 21:21:41: Val. Cost: 2.326E-05. Error: 1.508E-05. Diff: 4.4E-05\n",
      "[-] 2018-04-16 21:21:42: Convergence reached after 2800 steps.\n",
      "[-] 2018-04-16 21:21:42: Test error: 9.74006E-06\n"
     ]
    }
   ],
   "source": [
    "from SCFInitialGuess.nn.networks import EluTrNNN\n",
    "from SCFInitialGuess.nn.training import Trainer, MSE\n",
    "\n",
    "class SymmetryPenalty(MSE):\n",
    "    def __init__(self, coupling=1e-4):\n",
    "        \"\"\"alpha: coupling parameter\"\"\"\n",
    "        \n",
    "        self.coupling = coupling\n",
    "        \n",
    "    def function(self, network, y_placeholder):\n",
    "\n",
    "        error = \\\n",
    "            super(SymmetryPenalty, self).function(network, y_placeholder)\n",
    "\n",
    "        penalty = self.symmetry_measure(network.output_tensor) * self.coupling\n",
    "\n",
    "        cost = error + penalty\n",
    "\n",
    "        tf.summary.scalar(\"symmetry_penalty\", penalty)\n",
    "        tf.summary.scalar(\"total_loss\", cost)\n",
    "\n",
    "        return cost\n",
    "    \n",
    "    def symmetry_measure(self, output_tensor):\n",
    "        \n",
    "        reshaped = tf.reshape(output_tensor, [-1, dim, dim])\n",
    "        transposed = tf.matrix_transpose(reshaped)\n",
    "        return tf.reduce_mean(tf.norm(reshaped - transposed, axis=(1,2))**2 )\n",
    "\n",
    "    \n",
    "trainer_sym = Trainer(\n",
    "    EluTrNNN([dim**2, 200, 100, dim**2]),\n",
    "    cost_function=SymmetryPenalty(coupling=5e-2)\n",
    ")\n",
    "\n",
    "trainer_sym.setup()\n",
    "network_sym, sess_sym = trainer_sym.train(\n",
    "    dataset,\n",
    "    convergence_threshold=1e-6\n",
    ")\n",
    "graph_sym = trainer_sym.graph\n",
    "        "
   ]
  },
  {
   "cell_type": "code",
   "execution_count": 10,
   "metadata": {},
   "outputs": [
    {
     "name": "stdout",
     "output_type": "stream",
     "text": [
      "0.0007955005\n"
     ]
    },
    {
     "data": {
      "image/png": "[encoded data removed]",
      "text/plain": [
       "<matplotlib.figure.Figure at 0x7f15e06b07f0>"
      ]
     },
     "metadata": {},
     "output_type": "display_data"
    }
   ],
   "source": [
    "with graph_sym.as_default():\n",
    "    reshaped = tf.reshape(network_sym.output_tensor, [-1, dim, dim])\n",
    "    transposed = tf.matrix_transpose(reshaped)\n",
    "    diff_mean = tf.reduce_mean(tf.abs(reshaped - transposed), axis=0)\n",
    "    error = sess_sym.run(diff_mean, {network_sym.input_tensor: dataset.testing[0]})\n",
    "    matrix_error(error)\n",
    "    print(np.mean(error))\n",
    "\n",
    "plt.show()"
   ]
  },
  {
   "cell_type": "markdown",
   "metadata": {},
   "source": [
    "## Enforce idempotency"
   ]
  },
  {
   "cell_type": "code",
   "execution_count": 11,
   "metadata": {
    "scrolled": true
   },
   "outputs": [
    {
     "name": "stdout",
     "output_type": "stream",
     "text": [
      "[-] 2018-04-16 21:26:41: No target graph specified for Trainer setup. Creating new graph ...\n",
      "[-] 2018-04-16 21:26:41: Setting up the training in the target graph ...\n",
      "[-] 2018-04-16 21:26:41: network ...\n",
      "[-] 2018-04-16 21:26:41: error function ...\n",
      "[-] 2018-04-16 21:26:41: cost function ...\n",
      "[-] 2018-04-16 21:26:41: training step\n",
      "[-] 2018-04-16 21:26:41: Starting network training ...\n",
      "[ ] 2018-04-16 21:26:41: Val. Cost: 5.794E-02. Error: 5.793E-02. Diff: 1.0E+10\n",
      "[ ] 2018-04-16 21:26:42: Val. Cost: 1.067E-04. Error: 1.049E-04. Diff: 5.8E-02\n",
      "[ ] 2018-04-16 21:26:44: Val. Cost: 4.449E-05. Error: 4.357E-05. Diff: 6.1E-05\n",
      "[ ] 2018-04-16 21:26:45: Val. Cost: 3.829E-05. Error: 3.745E-05. Diff: 6.1E-06\n",
      "[ ] 2018-04-16 21:26:46: Val. Cost: 5.988E-05. Error: 5.854E-05. Diff: 2.1E-05\n",
      "[ ] 2018-04-16 21:26:47: Val. Cost: 5.241E-05. Error: 5.121E-05. Diff: 7.3E-06\n",
      "[ ] 2018-04-16 21:26:48: Val. Cost: 4.713E-05. Error: 4.604E-05. Diff: 5.2E-06\n",
      "[ ] 2018-04-16 21:26:49: Val. Cost: 3.038E-05. Error: 2.969E-05. Diff: 1.6E-05\n",
      "[ ] 2018-04-16 21:26:50: Val. Cost: 3.503E-05. Error: 3.424E-05. Diff: 4.5E-06\n",
      "[ ] 2018-04-16 21:26:51: Val. Cost: 2.021E-05. Error: 1.975E-05. Diff: 1.4E-05\n",
      "[ ] 2018-04-16 21:26:52: Val. Cost: 1.650E-05. Error: 1.613E-05. Diff: 3.6E-06\n",
      "[-] 2018-04-16 21:26:53: Convergence reached after 2200 steps.\n",
      "[-] 2018-04-16 21:26:53: Test error: 5.59700E-06\n"
     ]
    }
   ],
   "source": [
    "from SCFInitialGuess.nn.networks import EluTrNNN\n",
    "from SCFInitialGuess.nn.training import Trainer, MSE\n",
    "\n",
    "class IdempotencyPenalty(MSE):\n",
    "    def __init__(self, coupling=1e-4):\n",
    "        \n",
    "        self.coupling = coupling\n",
    "        \n",
    "    def function(self, network, y_placeholder):\n",
    "\n",
    "        error = \\\n",
    "            super(IdempotencyPenalty, self).function(network, y_placeholder)\n",
    "\n",
    "        penalty = self.idempotency_error(network) * self.coupling\n",
    "\n",
    "        cost = error + penalty\n",
    "\n",
    "        tf.summary.scalar(\"symmetry_penalty\", penalty)\n",
    "        tf.summary.scalar(\"total_loss\", cost)\n",
    "\n",
    "        return cost\n",
    "    \n",
    "    def idempotency_error(self, network):\n",
    "        p = tf.reshape(network.output_tensor, [-1, dim, dim])\n",
    "        s_raw = dataset.inverse_input_transform(network.input_tensor)\n",
    "        s = tf.reshape(s_raw, [-1, dim, dim])\n",
    "        \n",
    "\n",
    "        lhs = tf.matmul(tf.matmul(p, s), p)\n",
    "        rhs = 2 * p\n",
    "        return tf.reduce_mean(tf.norm(tf.abs(lhs - rhs), axis=(1,2)) **2 )\n",
    "\n",
    "try:\n",
    "    del graph_idem\n",
    "except:\n",
    "    pass\n",
    "    \n",
    "trainer = Trainer(\n",
    "    EluTrNNN([dim**2, 200, 100, dim**2]),\n",
    "    cost_function=IdempotencyPenalty(coupling=1e-5)\n",
    ")\n",
    "\n",
    "trainer.setup()\n",
    "network_idem, sess_idem = trainer.train(\n",
    "    dataset,\n",
    "    convergence_threshold=3e-6,\n",
    "    summary_save_path=\"log2/idem\"\n",
    ")\n",
    "graph_idem = trainer.graph"
   ]
  },
  {
   "cell_type": "code",
   "execution_count": 12,
   "metadata": {
    "scrolled": true
   },
   "outputs": [
    {
     "name": "stdout",
     "output_type": "stream",
     "text": [
      "0.0023619917\n"
     ]
    },
    {
     "data": {
      "image/png": "[encoded data removed]",
      "text/plain": [
       "<matplotlib.figure.Figure at 0x7f15e0475a58>"
      ]
     },
     "metadata": {},
     "output_type": "display_data"
    }
   ],
   "source": [
    "with graph_idem.as_default():\n",
    "    error = sess_idem.run(idempotency_error(network_idem), {network_idem.input_tensor: dataset.testing[0]})\n",
    "    \n",
    "    matrix_error(error)\n",
    "    print(np.mean(error))\n",
    "    \n",
    "plt.show()\n",
    "    \n",
    "    "
   ]
  },
  {
   "cell_type": "markdown",
   "metadata": {},
   "source": [
    "# Analysis"
   ]
  },
  {
   "cell_type": "code",
   "execution_count": 13,
   "metadata": {
    "scrolled": true
   },
   "outputs": [
    {
     "data": {
      "image/png": "[encoded data removed]",
      "text/plain": [
       "<matplotlib.figure.Figure at 0x7f15db1b7320>"
      ]
     },
     "metadata": {},
     "output_type": "display_data"
    }
   ],
   "source": [
    "with graph_orig.as_default():\n",
    "    plt.scatter(\n",
    "        x=dataset.testing[1],\n",
    "        y=network_orig.run(sess_orig, dataset.testing[0]),\n",
    "        label=\"orig\"\n",
    "    )\n",
    "    \n",
    "with graph_idem.as_default():\n",
    "    plt.scatter(\n",
    "        x=dataset.testing[1],\n",
    "        y=network_idem.run(sess_idem, dataset.testing[0]),\n",
    "        label=\"idempotent\"\n",
    "    )\n",
    "    \n",
    "\n",
    "with graph_sym.as_default():\n",
    "    plt.scatter(\n",
    "        x=dataset.testing[1],\n",
    "        y=network_sym.run(sess_sym, dataset.testing[0]),\n",
    "        label=\"hermit\"\n",
    "    )\n",
    "\n",
    "#lower = 1.8\n",
    "lower = -1\n",
    "upper = 2.2\n",
    "plt.xlim([lower, upper])\n",
    "plt.ylim([lower, upper])\n",
    "    \n",
    "\n",
    "plt.legend()\n",
    "plt.show()"
   ]
  },
  {
   "cell_type": "code",
   "execution_count": 15,
   "metadata": {
    "scrolled": true
   },
   "outputs": [
    {
     "name": "stderr",
     "output_type": "stream",
     "text": [
      "Warn: Ipython shell catchs sys.args\n"
     ]
    },
    {
     "name": "stdout",
     "output_type": "stream",
     "text": [
      "Calculating: 1/50\n",
      "idemp orig:    2.6847075141362027e-16\n",
      "Idemp orig NN: 0.0020659518226290195\n",
      "Idemp idem NN: 0.002042464204473053\n",
      "Idemp sym NN: 0.0022138676067214947\n"
     ]
    },
    {
     "name": "stderr",
     "output_type": "stream",
     "text": [
      "Warn: Ipython shell catchs sys.args\n"
     ]
    },
    {
     "name": "stdout",
     "output_type": "stream",
     "text": [
      "Calculating: 2/50\n",
      "idemp orig:    2.1720089964246496e-16\n",
      "Idemp orig NN: 0.0018508757628943086\n",
      "Idemp idem NN: 0.0021382264215324314\n",
      "Idemp sym NN: 0.0017240710728332958\n"
     ]
    },
    {
     "name": "stderr",
     "output_type": "stream",
     "text": [
      "Warn: Ipython shell catchs sys.args\n"
     ]
    },
    {
     "name": "stdout",
     "output_type": "stream",
     "text": [
      "Calculating: 3/50\n",
      "idemp orig:    3.694108557891729e-16\n",
      "Idemp orig NN: 0.001984802889473933\n",
      "Idemp idem NN: 0.0033482571793774156\n",
      "Idemp sym NN: 0.002211923849345017\n"
     ]
    },
    {
     "name": "stderr",
     "output_type": "stream",
     "text": [
      "Warn: Ipython shell catchs sys.args\n"
     ]
    },
    {
     "name": "stdout",
     "output_type": "stream",
     "text": [
      "Calculating: 4/50\n",
      "idemp orig:    3.728944968080296e-16\n",
      "Idemp orig NN: 0.0017581599088101637\n",
      "Idemp idem NN: 0.0026064907169236727\n",
      "Idemp sym NN: 0.0022924104722171802\n"
     ]
    },
    {
     "name": "stderr",
     "output_type": "stream",
     "text": [
      "Warn: Ipython shell catchs sys.args\n"
     ]
    },
    {
     "name": "stdout",
     "output_type": "stream",
     "text": [
      "Calculating: 5/50\n",
      "idemp orig:    2.538079144245793e-16\n",
      "Idemp orig NN: 0.001972236083262755\n",
      "Idemp idem NN: 0.003876495252674516\n",
      "Idemp sym NN: 0.0034798923225844414\n"
     ]
    },
    {
     "name": "stderr",
     "output_type": "stream",
     "text": [
      "Warn: Ipython shell catchs sys.args\n"
     ]
    },
    {
     "name": "stdout",
     "output_type": "stream",
     "text": [
      "Calculating: 6/50\n",
      "idemp orig:    2.526365881472292e-16\n",
      "Idemp orig NN: 0.0016534477163554157\n",
      "Idemp idem NN: 0.0020483078555332086\n",
      "Idemp sym NN: 0.0030877457164396028\n"
     ]
    },
    {
     "name": "stderr",
     "output_type": "stream",
     "text": [
      "Warn: Ipython shell catchs sys.args\n"
     ]
    },
    {
     "name": "stdout",
     "output_type": "stream",
     "text": [
      "Calculating: 7/50\n",
      "idemp orig:    2.702647972680805e-16\n",
      "Idemp orig NN: 0.0023078256472905284\n",
      "Idemp idem NN: 0.004706100621090544\n",
      "Idemp sym NN: 0.006486678820751775\n"
     ]
    },
    {
     "name": "stderr",
     "output_type": "stream",
     "text": [
      "Warn: Ipython shell catchs sys.args\n"
     ]
    },
    {
     "name": "stdout",
     "output_type": "stream",
     "text": [
      "Calculating: 8/50\n",
      "idemp orig:    2.546859467728914e-16\n",
      "Idemp orig NN: 0.0020018951210676542\n",
      "Idemp idem NN: 0.0017888718591302106\n",
      "Idemp sym NN: 0.0028806085870758803\n"
     ]
    },
    {
     "name": "stderr",
     "output_type": "stream",
     "text": [
      "Warn: Ipython shell catchs sys.args\n"
     ]
    },
    {
     "name": "stdout",
     "output_type": "stream",
     "text": [
      "Calculating: 9/50\n",
      "idemp orig:    2.552851849928543e-16\n",
      "Idemp orig NN: 0.0018307322388086342\n",
      "Idemp idem NN: 0.0019170986355833924\n",
      "Idemp sym NN: 0.0028360030784946614\n"
     ]
    },
    {
     "name": "stderr",
     "output_type": "stream",
     "text": [
      "Warn: Ipython shell catchs sys.args\n"
     ]
    },
    {
     "name": "stdout",
     "output_type": "stream",
     "text": [
      "Calculating: 10/50\n",
      "idemp orig:    2.6059384620708267e-16\n",
      "Idemp orig NN: 0.0018204706607089962\n",
      "Idemp idem NN: 0.0023146019359134985\n",
      "Idemp sym NN: 0.0020241748473953437\n"
     ]
    },
    {
     "name": "stderr",
     "output_type": "stream",
     "text": [
      "Warn: Ipython shell catchs sys.args\n"
     ]
    },
    {
     "name": "stdout",
     "output_type": "stream",
     "text": [
      "Calculating: 11/50\n",
      "idemp orig:    3.172049173346283e-16\n",
      "Idemp orig NN: 0.001475214206400184\n",
      "Idemp idem NN: 0.002173095864901286\n",
      "Idemp sym NN: 0.002162247362016796\n"
     ]
    },
    {
     "name": "stderr",
     "output_type": "stream",
     "text": [
      "Warn: Ipython shell catchs sys.args\n"
     ]
    },
    {
     "name": "stdout",
     "output_type": "stream",
     "text": [
      "Calculating: 12/50\n",
      "idemp orig:    2.4143562493390927e-16\n",
      "Idemp orig NN: 0.0019321558471019672\n",
      "Idemp idem NN: 0.0025198620667999188\n",
      "Idemp sym NN: 0.0028431372009336837\n"
     ]
    },
    {
     "name": "stderr",
     "output_type": "stream",
     "text": [
      "Warn: Ipython shell catchs sys.args\n"
     ]
    },
    {
     "name": "stdout",
     "output_type": "stream",
     "text": [
      "Calculating: 13/50\n",
      "idemp orig:    3.213269705942511e-16\n",
      "Idemp orig NN: 0.0017531130518062478\n",
      "Idemp idem NN: 0.0016510671031462127\n",
      "Idemp sym NN: 0.0016190718299472634\n"
     ]
    },
    {
     "name": "stderr",
     "output_type": "stream",
     "text": [
      "Warn: Ipython shell catchs sys.args\n"
     ]
    },
    {
     "name": "stdout",
     "output_type": "stream",
     "text": [
      "Calculating: 14/50\n",
      "idemp orig:    2.799636954043085e-16\n",
      "Idemp orig NN: 0.0017763757336620408\n",
      "Idemp idem NN: 0.001905383579853588\n",
      "Idemp sym NN: 0.0021578889065600863\n"
     ]
    },
    {
     "name": "stderr",
     "output_type": "stream",
     "text": [
      "Warn: Ipython shell catchs sys.args\n"
     ]
    },
    {
     "name": "stdout",
     "output_type": "stream",
     "text": [
      "Calculating: 15/50\n",
      "idemp orig:    3.3984830328355764e-16\n",
      "Idemp orig NN: 0.0018870028931473463\n",
      "Idemp idem NN: 0.001862996104783364\n",
      "Idemp sym NN: 0.0023483212968218197\n"
     ]
    },
    {
     "name": "stderr",
     "output_type": "stream",
     "text": [
      "Warn: Ipython shell catchs sys.args\n"
     ]
    },
    {
     "name": "stdout",
     "output_type": "stream",
     "text": [
      "Calculating: 16/50\n",
      "idemp orig:    3.7877685494104215e-16\n",
      "Idemp orig NN: 0.0022248059434789684\n",
      "Idemp idem NN: 0.001617448571625891\n",
      "Idemp sym NN: 0.002010069906964807\n"
     ]
    },
    {
     "name": "stderr",
     "output_type": "stream",
     "text": [
      "Warn: Ipython shell catchs sys.args\n"
     ]
    },
    {
     "name": "stdout",
     "output_type": "stream",
     "text": [
      "Calculating: 17/50\n",
      "idemp orig:    3.118790147396984e-16\n",
      "Idemp orig NN: 0.0014809837107047361\n",
      "Idemp idem NN: 0.0029126834848420746\n",
      "Idemp sym NN: 0.0020078700509074347\n"
     ]
    },
    {
     "name": "stderr",
     "output_type": "stream",
     "text": [
      "Warn: Ipython shell catchs sys.args\n"
     ]
    },
    {
     "name": "stdout",
     "output_type": "stream",
     "text": [
      "Calculating: 18/50\n",
      "idemp orig:    3.0017656792536973e-16\n",
      "Idemp orig NN: 0.002065383699414872\n",
      "Idemp idem NN: 0.0018499294294706742\n",
      "Idemp sym NN: 0.003415347139184959\n"
     ]
    },
    {
     "name": "stderr",
     "output_type": "stream",
     "text": [
      "Warn: Ipython shell catchs sys.args\n"
     ]
    },
    {
     "name": "stdout",
     "output_type": "stream",
     "text": [
      "Calculating: 19/50\n",
      "idemp orig:    2.783371916644093e-16\n",
      "Idemp orig NN: 0.0016281819507892481\n",
      "Idemp idem NN: 0.0019169062045680059\n",
      "Idemp sym NN: 0.0021438757031997063\n"
     ]
    },
    {
     "name": "stderr",
     "output_type": "stream",
     "text": [
      "Warn: Ipython shell catchs sys.args\n"
     ]
    },
    {
     "name": "stdout",
     "output_type": "stream",
     "text": [
      "Calculating: 20/50\n",
      "idemp orig:    3.3135556001610266e-16\n",
      "Idemp orig NN: 0.0016849112945857233\n",
      "Idemp idem NN: 0.002681478803845666\n",
      "Idemp sym NN: 0.0034247642103996763\n"
     ]
    },
    {
     "name": "stderr",
     "output_type": "stream",
     "text": [
      "Warn: Ipython shell catchs sys.args\n"
     ]
    },
    {
     "name": "stdout",
     "output_type": "stream",
     "text": [
      "Calculating: 21/50\n",
      "idemp orig:    2.699375518527425e-16\n",
      "Idemp orig NN: 0.0017806024534569094\n",
      "Idemp idem NN: 0.0019085882579718736\n",
      "Idemp sym NN: 0.0029745985358418043\n"
     ]
    },
    {
     "name": "stderr",
     "output_type": "stream",
     "text": [
      "Warn: Ipython shell catchs sys.args\n"
     ]
    },
    {
     "name": "stdout",
     "output_type": "stream",
     "text": [
      "Calculating: 22/50\n",
      "idemp orig:    3.233045168644798e-16\n",
      "Idemp orig NN: 0.001901126345923981\n",
      "Idemp idem NN: 0.0018841422560289297\n",
      "Idemp sym NN: 0.0027825036101683603\n"
     ]
    },
    {
     "name": "stderr",
     "output_type": "stream",
     "text": [
      "Warn: Ipython shell catchs sys.args\n"
     ]
    },
    {
     "name": "stdout",
     "output_type": "stream",
     "text": [
      "Calculating: 23/50\n",
      "idemp orig:    2.364288883631282e-16\n",
      "Idemp orig NN: 0.0019054869808840574\n",
      "Idemp idem NN: 0.002138712873682479\n",
      "Idemp sym NN: 0.002704555770292282\n"
     ]
    },
    {
     "name": "stderr",
     "output_type": "stream",
     "text": [
      "Warn: Ipython shell catchs sys.args\n"
     ]
    },
    {
     "name": "stdout",
     "output_type": "stream",
     "text": [
      "Calculating: 24/50\n",
      "idemp orig:    2.3799228063041305e-16\n",
      "Idemp orig NN: 0.0019400816454571107\n",
      "Idemp idem NN: 0.0022028533933472396\n",
      "Idemp sym NN: 0.004498877445215603\n"
     ]
    },
    {
     "name": "stderr",
     "output_type": "stream",
     "text": [
      "Warn: Ipython shell catchs sys.args\n"
     ]
    },
    {
     "name": "stdout",
     "output_type": "stream",
     "text": [
      "Calculating: 25/50\n",
      "idemp orig:    2.6576433579829387e-16\n",
      "Idemp orig NN: 0.0012749635026851915\n",
      "Idemp idem NN: 0.0020494898571816766\n",
      "Idemp sym NN: 0.0018616803464277987\n"
     ]
    },
    {
     "name": "stderr",
     "output_type": "stream",
     "text": [
      "Warn: Ipython shell catchs sys.args\n"
     ]
    },
    {
     "name": "stdout",
     "output_type": "stream",
     "text": [
      "Calculating: 26/50\n",
      "idemp orig:    2.719501021354187e-16\n",
      "Idemp orig NN: 0.0014925129445959814\n",
      "Idemp idem NN: 0.0019037472653219297\n",
      "Idemp sym NN: 0.002875071514115063\n"
     ]
    },
    {
     "name": "stderr",
     "output_type": "stream",
     "text": [
      "Warn: Ipython shell catchs sys.args\n"
     ]
    },
    {
     "name": "stdout",
     "output_type": "stream",
     "text": [
      "Calculating: 27/50\n",
      "idemp orig:    2.3084508678989107e-16\n",
      "Idemp orig NN: 0.0018167699388432622\n",
      "Idemp idem NN: 0.0024382771210529224\n",
      "Idemp sym NN: 0.0019013978786380386\n"
     ]
    },
    {
     "name": "stderr",
     "output_type": "stream",
     "text": [
      "Warn: Ipython shell catchs sys.args\n"
     ]
    },
    {
     "name": "stdout",
     "output_type": "stream",
     "text": [
      "Calculating: 28/50\n",
      "idemp orig:    2.814664220692646e-16\n",
      "Idemp orig NN: 0.0019922669261559565\n",
      "Idemp idem NN: 0.002182941803821801\n",
      "Idemp sym NN: 0.0018204163879684675\n"
     ]
    },
    {
     "name": "stderr",
     "output_type": "stream",
     "text": [
      "Warn: Ipython shell catchs sys.args\n"
     ]
    },
    {
     "name": "stdout",
     "output_type": "stream",
     "text": [
      "Calculating: 29/50\n",
      "idemp orig:    3.096541548969885e-16\n",
      "Idemp orig NN: 0.002332790143599008\n",
      "Idemp idem NN: 0.0021401385426559265\n",
      "Idemp sym NN: 0.0040925314429562975\n"
     ]
    },
    {
     "name": "stderr",
     "output_type": "stream",
     "text": [
      "Warn: Ipython shell catchs sys.args\n"
     ]
    },
    {
     "name": "stdout",
     "output_type": "stream",
     "text": [
      "Calculating: 30/50\n",
      "idemp orig:    3.3071389998036727e-16\n",
      "Idemp orig NN: 0.0018488101911914047\n",
      "Idemp idem NN: 0.002537870538229977\n",
      "Idemp sym NN: 0.004269583668219402\n"
     ]
    },
    {
     "name": "stderr",
     "output_type": "stream",
     "text": [
      "Warn: Ipython shell catchs sys.args\n"
     ]
    },
    {
     "name": "stdout",
     "output_type": "stream",
     "text": [
      "Calculating: 31/50\n",
      "idemp orig:    2.561851048730046e-16\n",
      "Idemp orig NN: 0.0019401899723825056\n",
      "Idemp idem NN: 0.0018045016423014755\n",
      "Idemp sym NN: 0.00284370150842186\n"
     ]
    },
    {
     "name": "stderr",
     "output_type": "stream",
     "text": [
      "Warn: Ipython shell catchs sys.args\n"
     ]
    },
    {
     "name": "stdout",
     "output_type": "stream",
     "text": [
      "Calculating: 32/50\n",
      "idemp orig:    2.6395928352754856e-16\n",
      "Idemp orig NN: 0.002133153349701623\n",
      "Idemp idem NN: 0.002735818108718772\n",
      "Idemp sym NN: 0.003764012330811765\n"
     ]
    },
    {
     "name": "stderr",
     "output_type": "stream",
     "text": [
      "Warn: Ipython shell catchs sys.args\n"
     ]
    },
    {
     "name": "stdout",
     "output_type": "stream",
     "text": [
      "Calculating: 33/50\n",
      "idemp orig:    2.278736350665717e-16\n",
      "Idemp orig NN: 0.002029998497810268\n",
      "Idemp idem NN: 0.0017150961006980098\n",
      "Idemp sym NN: 0.002057269024840114\n"
     ]
    },
    {
     "name": "stderr",
     "output_type": "stream",
     "text": [
      "Warn: Ipython shell catchs sys.args\n"
     ]
    },
    {
     "name": "stdout",
     "output_type": "stream",
     "text": [
      "Calculating: 34/50\n",
      "idemp orig:    3.0907781162674787e-16\n",
      "Idemp orig NN: 0.0017722494786842986\n",
      "Idemp idem NN: 0.0017894841310006817\n",
      "Idemp sym NN: 0.0035830233636290724\n"
     ]
    },
    {
     "name": "stderr",
     "output_type": "stream",
     "text": [
      "Warn: Ipython shell catchs sys.args\n"
     ]
    },
    {
     "name": "stdout",
     "output_type": "stream",
     "text": [
      "Calculating: 35/50\n",
      "idemp orig:    3.253291361136471e-16\n",
      "Idemp orig NN: 0.0014481243999475834\n",
      "Idemp idem NN: 0.0019432823763683626\n",
      "Idemp sym NN: 0.0019218743216508683\n"
     ]
    },
    {
     "name": "stderr",
     "output_type": "stream",
     "text": [
      "Warn: Ipython shell catchs sys.args\n"
     ]
    },
    {
     "name": "stdout",
     "output_type": "stream",
     "text": [
      "Calculating: 36/50\n",
      "idemp orig:    3.0611354464739235e-16\n",
      "Idemp orig NN: 0.001831753100886887\n",
      "Idemp idem NN: 0.0018991585716227606\n",
      "Idemp sym NN: 0.0033793346711833826\n"
     ]
    },
    {
     "name": "stderr",
     "output_type": "stream",
     "text": [
      "Warn: Ipython shell catchs sys.args\n"
     ]
    },
    {
     "name": "stdout",
     "output_type": "stream",
     "text": [
      "Calculating: 37/50\n",
      "idemp orig:    2.7181267229273403e-16\n",
      "Idemp orig NN: 0.001962233761520797\n",
      "Idemp idem NN: 0.002332708653214084\n",
      "Idemp sym NN: 0.0023910161544772293\n"
     ]
    },
    {
     "name": "stderr",
     "output_type": "stream",
     "text": [
      "Warn: Ipython shell catchs sys.args\n"
     ]
    },
    {
     "name": "stdout",
     "output_type": "stream",
     "text": [
      "Calculating: 38/50\n",
      "idemp orig:    2.7028866956351113e-16\n",
      "Idemp orig NN: 0.0014129044108334321\n",
      "Idemp idem NN: 0.0019683872598500007\n",
      "Idemp sym NN: 0.0017050953852037589\n"
     ]
    },
    {
     "name": "stderr",
     "output_type": "stream",
     "text": [
      "Warn: Ipython shell catchs sys.args\n"
     ]
    },
    {
     "name": "stdout",
     "output_type": "stream",
     "text": [
      "Calculating: 39/50\n",
      "idemp orig:    3.0995285680561285e-16\n",
      "Idemp orig NN: 0.001647088440071489\n",
      "Idemp idem NN: 0.001710628312101893\n",
      "Idemp sym NN: 0.0022589690464526993\n"
     ]
    },
    {
     "name": "stderr",
     "output_type": "stream",
     "text": [
      "Warn: Ipython shell catchs sys.args\n"
     ]
    },
    {
     "name": "stdout",
     "output_type": "stream",
     "text": [
      "Calculating: 40/50\n",
      "idemp orig:    3.870217934571471e-16\n",
      "Idemp orig NN: 0.0020847487105505724\n",
      "Idemp idem NN: 0.004486375965212463\n",
      "Idemp sym NN: 0.0030025931508632833\n"
     ]
    },
    {
     "name": "stderr",
     "output_type": "stream",
     "text": [
      "Warn: Ipython shell catchs sys.args\n"
     ]
    },
    {
     "name": "stdout",
     "output_type": "stream",
     "text": [
      "Calculating: 41/50\n",
      "idemp orig:    2.961641778662554e-16\n",
      "Idemp orig NN: 0.0018251578279926417\n",
      "Idemp idem NN: 0.002860604128460901\n",
      "Idemp sym NN: 0.001806986386687459\n"
     ]
    },
    {
     "name": "stderr",
     "output_type": "stream",
     "text": [
      "Warn: Ipython shell catchs sys.args\n"
     ]
    },
    {
     "name": "stdout",
     "output_type": "stream",
     "text": [
      "Calculating: 42/50\n",
      "idemp orig:    3.218550379985275e-16\n",
      "Idemp orig NN: 0.0019092840708924063\n",
      "Idemp idem NN: 0.0016438893211824452\n",
      "Idemp sym NN: 0.0021700660433602533\n"
     ]
    },
    {
     "name": "stderr",
     "output_type": "stream",
     "text": [
      "Warn: Ipython shell catchs sys.args\n"
     ]
    },
    {
     "name": "stdout",
     "output_type": "stream",
     "text": [
      "Calculating: 43/50\n",
      "idemp orig:    2.826555961828583e-16\n",
      "Idemp orig NN: 0.001873972261197858\n",
      "Idemp idem NN: 0.0038013007136851163\n",
      "Idemp sym NN: 0.0026945123873778364\n"
     ]
    },
    {
     "name": "stderr",
     "output_type": "stream",
     "text": [
      "Warn: Ipython shell catchs sys.args\n"
     ]
    },
    {
     "name": "stdout",
     "output_type": "stream",
     "text": [
      "Calculating: 44/50\n",
      "idemp orig:    3.8016362329672204e-16\n",
      "Idemp orig NN: 0.0018905107456403322\n",
      "Idemp idem NN: 0.0017479681748072294\n",
      "Idemp sym NN: 0.0023239314921774234\n"
     ]
    },
    {
     "name": "stderr",
     "output_type": "stream",
     "text": [
      "Warn: Ipython shell catchs sys.args\n"
     ]
    },
    {
     "name": "stdout",
     "output_type": "stream",
     "text": [
      "Calculating: 45/50\n",
      "idemp orig:    2.397297707465489e-16\n",
      "Idemp orig NN: 0.001474104856571664\n",
      "Idemp idem NN: 0.0025370359275976016\n",
      "Idemp sym NN: 0.002214851295648838\n"
     ]
    },
    {
     "name": "stderr",
     "output_type": "stream",
     "text": [
      "Warn: Ipython shell catchs sys.args\n"
     ]
    },
    {
     "name": "stdout",
     "output_type": "stream",
     "text": [
      "Calculating: 46/50\n",
      "idemp orig:    2.86904754504862e-16\n",
      "Idemp orig NN: 0.0019228495214044879\n",
      "Idemp idem NN: 0.0035230863667529808\n",
      "Idemp sym NN: 0.003657960333394533\n"
     ]
    },
    {
     "name": "stderr",
     "output_type": "stream",
     "text": [
      "Warn: Ipython shell catchs sys.args\n"
     ]
    },
    {
     "name": "stdout",
     "output_type": "stream",
     "text": [
      "Calculating: 47/50\n",
      "idemp orig:    3.400889608811633e-16\n",
      "Idemp orig NN: 0.0017093275802487447\n",
      "Idemp idem NN: 0.002106358137116761\n",
      "Idemp sym NN: 0.0018214624496087416\n"
     ]
    },
    {
     "name": "stderr",
     "output_type": "stream",
     "text": [
      "Warn: Ipython shell catchs sys.args\n"
     ]
    },
    {
     "name": "stdout",
     "output_type": "stream",
     "text": [
      "Calculating: 48/50\n",
      "idemp orig:    3.1478414729166825e-16\n",
      "Idemp orig NN: 0.0025677153211251533\n",
      "Idemp idem NN: 0.003516456578019002\n",
      "Idemp sym NN: 0.002580666923760315\n"
     ]
    },
    {
     "name": "stderr",
     "output_type": "stream",
     "text": [
      "Warn: Ipython shell catchs sys.args\n"
     ]
    },
    {
     "name": "stdout",
     "output_type": "stream",
     "text": [
      "Calculating: 49/50\n",
      "idemp orig:    2.7026473712372924e-16\n",
      "Idemp orig NN: 0.0020023470442454045\n",
      "Idemp idem NN: 0.0019275418680105192\n",
      "Idemp sym NN: 0.00424309100059588\n"
     ]
    },
    {
     "name": "stderr",
     "output_type": "stream",
     "text": [
      "Warn: Ipython shell catchs sys.args\n"
     ]
    },
    {
     "name": "stdout",
     "output_type": "stream",
     "text": [
      "Calculating: 50/50\n",
      "idemp orig:    2.629236779909008e-16\n",
      "Idemp orig NN: 0.002029553174567202\n",
      "Idemp idem NN: 0.0027854092670622364\n",
      "Idemp sym NN: 0.002314582863181394\n"
     ]
    }
   ],
   "source": [
    "from pyscf.scf import hf\n",
    "from SCFInitialGuess.utilities.analysis import prediction_scatter\n",
    "\n",
    "dim = 26\n",
    "\n",
    "def idemp_error(p, s):\n",
    "    p = p.reshape(dim, dim)\n",
    "    s = s.reshape(dim, dim)\n",
    "    return np.mean(np.abs(np.dot(np.dot(p, s), p) - 2 * p))\n",
    "\n",
    "iterations = []\n",
    "for i, (molecule, p) in enumerate(zip(molecules_test, P_test)):\n",
    "    \n",
    "    mol = molecule.get_pyscf_molecule()\n",
    "    \n",
    "    \n",
    "    print(\"Calculating: \" + str(i + 1) + \"/\" + str(len(molecules_test)))\n",
    "    \n",
    "    # nn guess\n",
    "    s_raw = hf.get_ovlp(mol).reshape(1, dim**2)\n",
    "    s = Dataset.normalize(s_raw, mean=dataset.x_mean, std=dataset.x_std)[0]\n",
    "    \n",
    "    with graph_orig.as_default():\n",
    "        P_orig = network_orig.run(sess_orig, s).reshape(dim, dim).astype('float64')\n",
    "        \n",
    "        print(\"idemp orig:    \" + str(idemp_error(p, s_raw)))\n",
    "        print(\"Idemp orig NN: \" + str(idemp_error(P_orig, s_raw)))\n",
    "        \n",
    "    with graph_idem.as_default():\n",
    "        P_idem = network_idem.run(sess_idem, s).reshape(dim, dim).astype('float64')\n",
    "        print(\"Idemp idem NN: \" + str(idemp_error(P_idem, s_raw)))\n",
    "    \n",
    "    with graph_sym.as_default():\n",
    "        P_sym = network_sym.run(sess_sym, s).reshape(dim, dim).astype('float64')\n",
    "        print(\"Idemp sym NN: \" + str(idemp_error(P_sym, s_raw)))\n",
    "    \n",
    "    \n",
    "    # P_actual wi noise\n",
    "    p_noise = p.reshape(dim, dim) + np.random.randn(dim, dim) * 5e-3\n",
    "    \n",
    "    \n",
    "    iterations_molecule = []\n",
    "    for guess in [p_noise, P_orig, P_idem, P_sym]:\n",
    "        \n",
    "        mf = hf.RHF(mol)\n",
    "        mf.diis = None\n",
    "        mf.verbose = 1\n",
    "        mf.kernel(dm0=guess)\n",
    "        iterations_molecule.append(mf.iterations)\n",
    "    \n",
    "    iterations.append(iterations_molecule)\n",
    "\n",
    "iterations = np.array(iterations)"
   ]
  },
  {
   "cell_type": "code",
   "execution_count": 16,
   "metadata": {},
   "outputs": [
    {
     "name": "stdout",
     "output_type": "stream",
     "text": [
      "noise orig idem sym\n",
      "[12.32 11.4  12.86 13.68]\n"
     ]
    }
   ],
   "source": [
    "print(\"noise\", \"orig\", \"idem\", \"sym\")\n",
    "print(np.mean(iterations,0))"
   ]
  },
  {
   "cell_type": "code",
   "execution_count": 17,
   "metadata": {},
   "outputs": [
    {
     "data": {
      "image/png": "[encoded data removed]",
      "text/plain": [
       "<matplotlib.figure.Figure at 0x7f15db1dcc50>"
      ]
     },
     "metadata": {},
     "output_type": "display_data"
    }
   ],
   "source": [
    "\n",
    "bins = 20 # todo hier kann man auch ein array angeben\n",
    "\n",
    "for i, name in enumerate(['noise', 'orig', 'idem', 'sym']):\n",
    "    \n",
    "    hist, bins = np.histogram(iterations[:,i])\n",
    "    center = (bins[:-1] + bins[1:]) / 2\n",
    "    #axes[i].bar(center, hist, label=name)\n",
    "    plt.bar(center, hist, label=name)\n",
    "    \n",
    "plt.legend()\n",
    "plt.show()"
   ]
  },
  {
   "cell_type": "code",
   "execution_count": null,
   "metadata": {},
   "outputs": [],
   "source": []
  }
 ],
 "metadata": {
  "kernelspec": {
   "display_name": "Python 3",
   "language": "python",
   "name": "python3"
  },
  "language_info": {
   "codemirror_mode": {
    "name": "ipython",
    "version": 3
   },
   "file_extension": ".py",
   "mimetype": "text/x-python",
   "name": "python",
   "nbconvert_exporter": "python",
   "pygments_lexer": "ipython3",
   "version": "3.6.4"
  }
 },
 "nbformat": 4,
 "nbformat_minor": 2
}
