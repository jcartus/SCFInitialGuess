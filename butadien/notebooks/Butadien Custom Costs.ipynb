{
 "cells": [
  {
   "cell_type": "code",
   "execution_count": 1,
   "metadata": {
    "collapsed": true
   },
   "outputs": [],
   "source": [
    "import numpy as np\n",
    "import matplotlib.pyplot as plt\n",
    "import tensorflow as tf"
   ]
  },
  {
   "cell_type": "code",
   "execution_count": 2,
   "metadata": {
    "collapsed": true,
    "scrolled": true
   },
   "outputs": [],
   "source": [
    "S, P = np.load(\"../data/dataset.npy\")\n",
    "molecules = np.load(\"../data/molecules.npy\")"
   ]
  },
  {
   "cell_type": "code",
   "execution_count": 3,
   "metadata": {},
   "outputs": [
    {
     "name": "stdout",
     "output_type": "stream",
     "text": [
      "[-] 2018-03-26 11:33:16: Data set normalized. Mean value std: 0.00872818475321164\n"
     ]
    }
   ],
   "source": [
    "from SCFInitialGuess.utilities.dataset import Dataset\n",
    "\n",
    "dim = 26\n",
    "\n",
    "ind_cut = 150\n",
    "index = np.arange(200)\n",
    "np.random.shuffle(index)\n",
    "\n",
    "S_test = np.array(S)[index[150:]]\n",
    "P_test = np.array(P)[index[150:]]\n",
    "molecules_test = [molecules[index[i]] for i in range(150, 200)]\n",
    "\n",
    "S_train = np.array(S)[index[:150]]\n",
    "P_train = np.array(P)[index[:150]]\n",
    "molecules_train = [molecules[index[i]] for i in range(150)]\n",
    "\n",
    "dataset = Dataset(np.array(S_train), np.array(P_train), split_test=0.0)\n",
    "\n",
    "dataset.testing = (Dataset.normalize(S_test, mean=dataset.x_mean, std=dataset.x_std)[0], P_test)"
   ]
  },
  {
   "cell_type": "markdown",
   "metadata": {},
   "source": [
    "# Training different costs"
   ]
  },
  {
   "cell_type": "code",
   "execution_count": 4,
   "metadata": {},
   "outputs": [
    {
     "name": "stdout",
     "output_type": "stream",
     "text": [
      "[-] 2018-03-26 11:33:16: No target graph specified for Trainer setup. Creating new graph ...\n",
      "[-] 2018-03-26 11:33:16: Setting up the training in the target graph ...\n",
      "[-] 2018-03-26 11:33:16: network ...\n",
      "[-] 2018-03-26 11:33:16: error function ...\n",
      "[-] 2018-03-26 11:33:16: cost function ...\n",
      "[-] 2018-03-26 11:33:31: training step\n",
      "[-] 2018-03-26 11:33:31: Starting network training ...\n",
      "[ ] 2018-03-26 11:33:31: Val. Cost: 5.781E-02. Error: 5.780E-02. Diff: 1.0E+10\n",
      "[ ] 2018-03-26 11:33:32: Val. Cost: 5.391E-05. Error: 5.259E-05. Diff: 5.8E-02\n",
      "[ ] 2018-03-26 11:33:34: Val. Cost: 2.148E-05. Error: 2.017E-05. Diff: 3.2E-05\n",
      "[ ] 2018-03-26 11:33:35: Val. Cost: 1.345E-05. Error: 1.214E-05. Diff: 8.0E-06\n",
      "[ ] 2018-03-26 11:33:36: Val. Cost: 1.202E-05. Error: 1.072E-05. Diff: 1.4E-06\n",
      "[ ] 2018-03-26 11:33:37: Val. Cost: 1.298E-05. Error: 1.168E-05. Diff: 9.6E-07\n",
      "[ ] 2018-03-26 11:33:39: Val. Cost: 4.682E-05. Error: 4.549E-05. Diff: 3.4E-05\n",
      "[ ] 2018-03-26 11:33:40: Val. Cost: 8.875E-06. Error: 7.521E-06. Diff: 3.8E-05\n",
      "[ ] 2018-03-26 11:33:41: Val. Cost: 7.125E-06. Error: 5.780E-06. Diff: 1.7E-06\n",
      "[ ] 2018-03-26 11:33:42: Val. Cost: 8.671E-06. Error: 7.334E-06. Diff: 1.6E-06\n",
      "[-] 2018-03-26 11:33:43: Convergence reached after 2000 steps.\n",
      "[-] 2018-03-26 11:33:43: Test error: 8.87328E-06\n"
     ]
    }
   ],
   "source": [
    "from SCFInitialGuess.nn.networks import EluTrNNN\n",
    "from SCFInitialGuess.nn.training import Trainer, RegularizedMSE\n",
    "\n",
    "trainer = Trainer(\n",
    "    EluTrNNN([dim**2, 200, 100, dim**2]),\n",
    "    cost_function=RegularizedMSE(alpha=1e-7)\n",
    ")\n",
    "\n",
    "trainer.setup()\n",
    "network_orig, sess_orig = trainer.train(\n",
    "    dataset,\n",
    "    convergence_threshold=1e-7\n",
    ")\n",
    "graph_orig = trainer.graph"
   ]
  },
  {
   "cell_type": "markdown",
   "metadata": {},
   "source": [
    "### Check symmetry"
   ]
  },
  {
   "cell_type": "code",
   "execution_count": 16,
   "metadata": {},
   "outputs": [
    {
     "name": "stdout",
     "output_type": "stream",
     "text": [
      "0.00132477\n"
     ]
    },
    {
     "data": {
      "image/png": "[encoded data removed]",
      "text/plain": [
       "<matplotlib.figure.Figure at 0x7f1976eeb2e8>"
      ]
     },
     "metadata": {},
     "output_type": "display_data"
    }
   ],
   "source": [
    "from SCFInitialGuess.utilities.plotutils import matrix_error\n",
    "\n",
    "with graph_orig.as_default():\n",
    "    reshaped = tf.reshape(network_orig.output_tensor, [-1, dim, dim])\n",
    "    transposed = tf.matrix_transpose(reshaped)\n",
    "    diff_mean = tf.reduce_mean(tf.abs(reshaped - transposed), axis=0)\n",
    "    error = sess_orig.run(diff_mean, {network_orig.input_tensor: dataset.testing[0]})\n",
    "    \n",
    "    matrix_error(error)\n",
    "    print(np.mean(error))\n",
    "\n",
    "plt.show()"
   ]
  },
  {
   "cell_type": "markdown",
   "metadata": {},
   "source": [
    "### Check idempotency"
   ]
  },
  {
   "cell_type": "code",
   "execution_count": 17,
   "metadata": {},
   "outputs": [
    {
     "name": "stdout",
     "output_type": "stream",
     "text": [
      "0.00287641\n"
     ]
    },
    {
     "data": {
      "image/png": "[encoded data removed]",
      "text/plain": [
       "<matplotlib.figure.Figure at 0x7f18f93bd048>"
      ]
     },
     "metadata": {},
     "output_type": "display_data"
    }
   ],
   "source": [
    "from SCFInitialGuess.utilities.plotutils import matrix_error\n",
    "\n",
    "def idempotency_error(network):\n",
    "    p = tf.reshape(network.output_tensor, [-1, dim, dim])\n",
    "    s_raw = dataset.inverse_input_transform(network.input_tensor)\n",
    "    s = tf.reshape(s_raw, [-1, dim, dim])\n",
    "    \n",
    "    \n",
    "    lhs = tf.matmul(tf.matmul(p, s), p)\n",
    "    rhs = 2 * p\n",
    "    return tf.reduce_mean(tf.abs(lhs - rhs), axis=0)\n",
    "\n",
    "with graph_orig.as_default():\n",
    "    \n",
    "    \n",
    "    \"\"\"\n",
    "    reshaped = tf.reshape(network_orig.output_tensor, [-1, dim, dim])\n",
    "    squared = tf.matmul(reshaped, reshaped)\n",
    "    diff_mean = tf.reduce_mean(tf.abs(reshaped - squared), axis=0)\n",
    "    error = sess_orig.run(diff_mean, {network_orig.input_tensor: dataset.testing[0]})\n",
    "    \"\"\"\n",
    "    error = sess_orig.run(\n",
    "        idempotency_error(network_orig),\n",
    "       {network_orig.input_tensor: dataset.testing[0]}\n",
    "    )\n",
    "    \n",
    "    matrix_error(error)\n",
    "    print(np.mean(error))\n",
    "    \n",
    "plt.show()"
   ]
  },
  {
   "cell_type": "markdown",
   "metadata": {},
   "source": [
    "## Enforce symmetry"
   ]
  },
  {
   "cell_type": "code",
   "execution_count": 7,
   "metadata": {
    "scrolled": true
   },
   "outputs": [
    {
     "name": "stdout",
     "output_type": "stream",
     "text": [
      "[-] 2018-03-26 11:33:46: No target graph specified for Trainer setup. Creating new graph ...\n",
      "[-] 2018-03-26 11:33:46: Setting up the training in the target graph ...\n",
      "[-] 2018-03-26 11:33:46: network ...\n",
      "[-] 2018-03-26 11:33:46: error function ...\n",
      "[-] 2018-03-26 11:33:46: cost function ...\n",
      "[-] 2018-03-26 11:33:46: training step\n",
      "[-] 2018-03-26 11:33:46: Starting network training ...\n",
      "[ ] 2018-03-26 11:33:46: Val. Cost: 6.374E-02. Error: 5.815E-02. Diff: 1.0E+10\n",
      "[ ] 2018-03-26 11:33:48: Val. Cost: 6.298E-04. Error: 2.993E-04. Diff: 5.8E-02\n",
      "[ ] 2018-03-26 11:33:49: Val. Cost: 2.089E-04. Error: 1.839E-04. Diff: 1.2E-04\n",
      "[ ] 2018-03-26 11:33:50: Val. Cost: 2.831E-04. Error: 1.442E-04. Diff: 4.0E-05\n",
      "[ ] 2018-03-26 11:33:52: Val. Cost: 5.086E-04. Error: 3.244E-04. Diff: 1.8E-04\n",
      "[ ] 2018-03-26 11:33:53: Val. Cost: 1.180E-04. Error: 4.843E-05. Diff: 2.8E-04\n",
      "[ ] 2018-03-26 11:33:54: Val. Cost: 5.528E-05. Error: 3.149E-05. Diff: 1.7E-05\n",
      "[ ] 2018-03-26 11:33:56: Val. Cost: 1.604E-04. Error: 1.367E-04. Diff: 1.1E-04\n",
      "[ ] 2018-03-26 11:33:57: Val. Cost: 4.835E-05. Error: 2.158E-05. Diff: 1.2E-04\n",
      "[ ] 2018-03-26 11:33:59: Val. Cost: 5.733E-05. Error: 2.368E-05. Diff: 2.1E-06\n",
      "[ ] 2018-03-26 11:34:00: Val. Cost: 4.273E-05. Error: 1.623E-05. Diff: 7.4E-06\n",
      "[ ] 2018-03-26 11:34:01: Val. Cost: 5.014E-05. Error: 8.849E-06. Diff: 7.4E-06\n",
      "[ ] 2018-03-26 11:34:03: Val. Cost: 1.360E-04. Error: 2.143E-05. Diff: 1.3E-05\n",
      "[ ] 2018-03-26 11:34:04: Val. Cost: 1.734E-05. Error: 6.431E-06. Diff: 1.5E-05\n",
      "[ ] 2018-03-26 11:34:05: Val. Cost: 3.124E-05. Error: 1.035E-05. Diff: 3.9E-06\n",
      "[ ] 2018-03-26 11:34:07: Val. Cost: 2.210E-05. Error: 6.517E-06. Diff: 3.8E-06\n",
      "[ ] 2018-03-26 11:34:08: Val. Cost: 5.221E-05. Error: 8.584E-06. Diff: 2.1E-06\n",
      "[ ] 2018-03-26 11:34:09: Val. Cost: 4.885E-05. Error: 1.342E-05. Diff: 4.8E-06\n",
      "[ ] 2018-03-26 11:34:11: Val. Cost: 9.287E-05. Error: 1.931E-05. Diff: 5.9E-06\n",
      "[ ] 2018-03-26 11:34:12: Val. Cost: 2.382E-05. Error: 5.312E-06. Diff: 1.4E-05\n",
      "[-] 2018-03-26 11:34:13: Convergence reached after 4000 steps.\n",
      "[-] 2018-03-26 11:34:13: Test error: 5.49480E-06\n"
     ]
    }
   ],
   "source": [
    "from SCFInitialGuess.nn.networks import EluTrNNN\n",
    "from SCFInitialGuess.nn.training import Trainer, MSE\n",
    "\n",
    "class SymmetryPenalty(MSE):\n",
    "    def __init__(self, coupling=1e-4):\n",
    "        \"\"\"alpha: coupling parameter\"\"\"\n",
    "        \n",
    "        self.coupling = coupling\n",
    "        \n",
    "    def function(self, network, y_placeholder):\n",
    "\n",
    "        error = \\\n",
    "            super(SymmetryPenalty, self).function(network, y_placeholder)\n",
    "\n",
    "        penalty = self.symmetry_measure(network.output_tensor) * self.coupling\n",
    "\n",
    "        cost = error + penalty\n",
    "\n",
    "        tf.summary.scalar(\"symmetry_penalty\", penalty)\n",
    "        tf.summary.scalar(\"total_loss\", cost)\n",
    "\n",
    "        return cost\n",
    "    \n",
    "    def symmetry_measure(self, output_tensor):\n",
    "        \n",
    "        reshaped = tf.reshape(output_tensor, [-1, dim, dim])\n",
    "        transposed = tf.matrix_transpose(reshaped)\n",
    "        return tf.reduce_mean(tf.norm(reshaped - transposed, axis=(1,2))**2 )\n",
    "\n",
    "    \n",
    "trainer_sym = Trainer(\n",
    "    EluTrNNN([dim**2, 200, 100, dim**2]),\n",
    "    cost_function=SymmetryPenalty(coupling=5e-2)\n",
    ")\n",
    "\n",
    "trainer_sym.setup()\n",
    "network_sym, sess_sym = trainer_sym.train(\n",
    "    dataset,\n",
    "    convergence_threshold=1e-6\n",
    ")\n",
    "graph_sym = trainer_sym.graph\n",
    "        "
   ]
  },
  {
   "cell_type": "code",
   "execution_count": 18,
   "metadata": {},
   "outputs": [
    {
     "name": "stdout",
     "output_type": "stream",
     "text": [
      "0.000599246\n"
     ]
    },
    {
     "data": {
      "image/png": "[encoded data removed]",
      "text/plain": [
       "<matplotlib.figure.Figure at 0x7f18f94307b8>"
      ]
     },
     "metadata": {},
     "output_type": "display_data"
    }
   ],
   "source": [
    "with graph_sym.as_default():\n",
    "    reshaped = tf.reshape(network_sym.output_tensor, [-1, dim, dim])\n",
    "    transposed = tf.matrix_transpose(reshaped)\n",
    "    diff_mean = tf.reduce_mean(tf.abs(reshaped - transposed), axis=0)\n",
    "    error = sess_sym.run(diff_mean, {network_sym.input_tensor: dataset.testing[0]})\n",
    "    matrix_error(error)\n",
    "    print(np.mean(error))\n",
    "\n",
    "plt.show()"
   ]
  },
  {
   "cell_type": "markdown",
   "metadata": {},
   "source": [
    "## Enforce idempotency"
   ]
  },
  {
   "cell_type": "code",
   "execution_count": 19,
   "metadata": {
    "scrolled": true
   },
   "outputs": [
    {
     "name": "stdout",
     "output_type": "stream",
     "text": [
      "[-] 2018-03-26 11:43:40: No target graph specified for Trainer setup. Creating new graph ...\n",
      "[-] 2018-03-26 11:43:40: Setting up the training in the target graph ...\n",
      "[-] 2018-03-26 11:43:40: network ...\n",
      "[-] 2018-03-26 11:43:40: error function ...\n",
      "[-] 2018-03-26 11:43:40: cost function ...\n",
      "[-] 2018-03-26 11:43:40: training step\n",
      "[-] 2018-03-26 11:43:40: Starting network training ...\n",
      "[ ] 2018-03-26 11:43:40: Val. Cost: 5.779E-02. Error: 5.778E-02. Diff: 1.0E+10\n",
      "[ ] 2018-03-26 11:43:42: Val. Cost: 6.125E-05. Error: 6.038E-05. Diff: 5.8E-02\n",
      "[ ] 2018-03-26 11:43:44: Val. Cost: 1.674E-05. Error: 1.648E-05. Diff: 4.4E-05\n",
      "[ ] 2018-03-26 11:43:46: Val. Cost: 1.063E-05. Error: 1.045E-05. Diff: 6.0E-06\n",
      "[-] 2018-03-26 11:43:47: Convergence reached after 800 steps.\n",
      "[-] 2018-03-26 11:43:47: Test error: 1.63769E-05\n"
     ]
    }
   ],
   "source": [
    "from SCFInitialGuess.nn.networks import EluTrNNN\n",
    "from SCFInitialGuess.nn.training import Trainer, MSE\n",
    "\n",
    "class IdempotencyPenalty(MSE):\n",
    "    def __init__(self, coupling=1e-4):\n",
    "        \n",
    "        self.coupling = coupling\n",
    "        \n",
    "    def function(self, network, y_placeholder):\n",
    "\n",
    "        error = \\\n",
    "            super(IdempotencyPenalty, self).function(network, y_placeholder)\n",
    "\n",
    "        penalty = self.idempotency_error(network) * self.coupling\n",
    "\n",
    "        cost = error + penalty\n",
    "\n",
    "        tf.summary.scalar(\"symmetry_penalty\", penalty)\n",
    "        tf.summary.scalar(\"total_loss\", cost)\n",
    "\n",
    "        return cost\n",
    "    \n",
    "    def idempotency_error(self, network):\n",
    "        p = tf.reshape(network.output_tensor, [-1, dim, dim])\n",
    "        s_raw = dataset.inverse_input_transform(network.input_tensor)\n",
    "        s = tf.reshape(s_raw, [-1, dim, dim])\n",
    "        \n",
    "\n",
    "        lhs = tf.matmul(tf.matmul(p, s), p)\n",
    "        rhs = 2 * p\n",
    "        return tf.reduce_mean(tf.norm(tf.abs(lhs - rhs), axis=(1,2)) **2 )\n",
    "\n",
    "try:\n",
    "    del graph_idem\n",
    "except:\n",
    "    pass\n",
    "    \n",
    "trainer = Trainer(\n",
    "    EluTrNNN([dim**2, 200, 100, dim**2]),\n",
    "    cost_function=IdempotencyPenalty(coupling=1e-5)\n",
    ")\n",
    "\n",
    "trainer.setup()\n",
    "network_idem, sess_idem = trainer.train(\n",
    "    dataset,\n",
    "    convergence_threshold=3e-6,\n",
    "    summary_save_path=\"log2/idem\"\n",
    ")\n",
    "graph_idem = trainer.graph"
   ]
  },
  {
   "cell_type": "code",
   "execution_count": 20,
   "metadata": {
    "scrolled": true
   },
   "outputs": [
    {
     "name": "stdout",
     "output_type": "stream",
     "text": [
      "0.00336399\n"
     ]
    },
    {
     "data": {
      "image/png": "[encoded data removed]",
      "text/plain": [
       "<matplotlib.figure.Figure at 0x7f18f9435f28>"
      ]
     },
     "metadata": {},
     "output_type": "display_data"
    }
   ],
   "source": [
    "with graph_idem.as_default():\n",
    "    error = sess_idem.run(idempotency_error(network_idem), {network_idem.input_tensor: dataset.testing[0]})\n",
    "    \n",
    "    matrix_error(error)\n",
    "    print(np.mean(error))\n",
    "    \n",
    "plt.show()\n",
    "    \n",
    "    "
   ]
  },
  {
   "cell_type": "markdown",
   "metadata": {},
   "source": [
    "# Analysis"
   ]
  },
  {
   "cell_type": "code",
   "execution_count": 21,
   "metadata": {
    "scrolled": true
   },
   "outputs": [
    {
     "data": {
      "image/png": "[encoded data removed]",
      "text/plain": [
       "<matplotlib.figure.Figure at 0x7f1913d75588>"
      ]
     },
     "metadata": {},
     "output_type": "display_data"
    }
   ],
   "source": [
    "with graph_orig.as_default():\n",
    "    plt.scatter(\n",
    "        x=dataset.testing[1],\n",
    "        y=network_orig.run(sess_orig, dataset.testing[0]),\n",
    "        label=\"orig\"\n",
    "    )\n",
    "    \n",
    "with graph_idem.as_default():\n",
    "    plt.scatter(\n",
    "        x=dataset.testing[1],\n",
    "        y=network_idem.run(sess_idem, dataset.testing[0]),\n",
    "        label=\"idempotent\"\n",
    "    )\n",
    "    \n",
    "\n",
    "with graph_sym.as_default():\n",
    "    plt.scatter(\n",
    "        x=dataset.testing[1],\n",
    "        y=network_sym.run(sess_sym, dataset.testing[0]),\n",
    "        label=\"hermit\"\n",
    "    )\n",
    "\n",
    "#lower = 1.8\n",
    "lower = -1\n",
    "upper = 2.2\n",
    "plt.xlim([lower, upper])\n",
    "plt.ylim([lower, upper])\n",
    "    \n",
    "\n",
    "plt.legend()\n",
    "plt.show()"
   ]
  },
  {
   "cell_type": "code",
   "execution_count": 22,
   "metadata": {
    "scrolled": true
   },
   "outputs": [
    {
     "name": "stderr",
     "output_type": "stream",
     "text": [
      "Warn: Ipython shell catchs sys.args\n"
     ]
    },
    {
     "name": "stdout",
     "output_type": "stream",
     "text": [
      "Calculating: 1/50\n",
      "idemp orig:    3.75907768904e-16\n",
      "Idemp orig NN: 0.00280056239815\n",
      "Idemp idem NN: 0.00695932117641\n",
      "Idemp sym NN: 0.00226382914004\n"
     ]
    },
    {
     "name": "stderr",
     "output_type": "stream",
     "text": [
      "Warn: Ipython shell catchs sys.args\n"
     ]
    },
    {
     "name": "stdout",
     "output_type": "stream",
     "text": [
      "Calculating: 2/50\n",
      "idemp orig:    2.62464014762e-16\n",
      "Idemp orig NN: 0.00273364420007\n",
      "Idemp idem NN: 0.00515686049982\n",
      "Idemp sym NN: 0.00132177465382\n"
     ]
    },
    {
     "name": "stderr",
     "output_type": "stream",
     "text": [
      "Warn: Ipython shell catchs sys.args\n"
     ]
    },
    {
     "name": "stdout",
     "output_type": "stream",
     "text": [
      "Calculating: 3/50\n",
      "idemp orig:    3.37043892472e-16\n",
      "Idemp orig NN: 0.00604744383056\n",
      "Idemp idem NN: 0.012096064025\n",
      "Idemp sym NN: 0.00244666542527\n"
     ]
    },
    {
     "name": "stderr",
     "output_type": "stream",
     "text": [
      "Warn: Ipython shell catchs sys.args\n"
     ]
    },
    {
     "name": "stdout",
     "output_type": "stream",
     "text": [
      "Calculating: 4/50\n",
      "idemp orig:    3.97763945487e-16\n",
      "Idemp orig NN: 0.00248145551841\n",
      "Idemp idem NN: 0.00194634270046\n",
      "Idemp sym NN: 0.00147699659578\n"
     ]
    },
    {
     "name": "stderr",
     "output_type": "stream",
     "text": [
      "Warn: Ipython shell catchs sys.args\n"
     ]
    },
    {
     "name": "stdout",
     "output_type": "stream",
     "text": [
      "Calculating: 5/50\n",
      "idemp orig:    3.75384472951e-16\n",
      "Idemp orig NN: 0.00294408647093\n",
      "Idemp idem NN: 0.00217675740427\n",
      "Idemp sym NN: 0.00179266630605\n"
     ]
    },
    {
     "name": "stderr",
     "output_type": "stream",
     "text": [
      "Warn: Ipython shell catchs sys.args\n"
     ]
    },
    {
     "name": "stdout",
     "output_type": "stream",
     "text": [
      "Calculating: 6/50\n",
      "idemp orig:    2.88822156424e-16\n",
      "Idemp orig NN: 0.00222151695213\n",
      "Idemp idem NN: 0.00208172008834\n",
      "Idemp sym NN: 0.00174944336717\n"
     ]
    },
    {
     "name": "stderr",
     "output_type": "stream",
     "text": [
      "Warn: Ipython shell catchs sys.args\n"
     ]
    },
    {
     "name": "stdout",
     "output_type": "stream",
     "text": [
      "Calculating: 7/50\n",
      "idemp orig:    3.11886713217e-16\n",
      "Idemp orig NN: 0.00213341448853\n",
      "Idemp idem NN: 0.00230703616969\n",
      "Idemp sym NN: 0.00214985915664\n"
     ]
    },
    {
     "name": "stderr",
     "output_type": "stream",
     "text": [
      "Warn: Ipython shell catchs sys.args\n"
     ]
    },
    {
     "name": "stdout",
     "output_type": "stream",
     "text": [
      "Calculating: 8/50\n",
      "idemp orig:    3.24045495272e-16\n",
      "Idemp orig NN: 0.00187847811644\n",
      "Idemp idem NN: 0.00235248020427\n",
      "Idemp sym NN: 0.00191587776664\n"
     ]
    },
    {
     "name": "stderr",
     "output_type": "stream",
     "text": [
      "Warn: Ipython shell catchs sys.args\n"
     ]
    },
    {
     "name": "stdout",
     "output_type": "stream",
     "text": [
      "Calculating: 9/50\n",
      "idemp orig:    2.77582219671e-16\n",
      "Idemp orig NN: 0.00175965903758\n",
      "Idemp idem NN: 0.00357004425893\n",
      "Idemp sym NN: 0.00168143499169\n"
     ]
    },
    {
     "name": "stderr",
     "output_type": "stream",
     "text": [
      "Warn: Ipython shell catchs sys.args\n"
     ]
    },
    {
     "name": "stdout",
     "output_type": "stream",
     "text": [
      "Calculating: 10/50\n",
      "idemp orig:    3.04285830486e-16\n",
      "Idemp orig NN: 0.00348441989539\n",
      "Idemp idem NN: 0.00211948412497\n",
      "Idemp sym NN: 0.00152790143316\n"
     ]
    },
    {
     "name": "stderr",
     "output_type": "stream",
     "text": [
      "Warn: Ipython shell catchs sys.args\n"
     ]
    },
    {
     "name": "stdout",
     "output_type": "stream",
     "text": [
      "Calculating: 11/50\n",
      "idemp orig:    3.60298585607e-16\n",
      "Idemp orig NN: 0.00303434496284\n",
      "Idemp idem NN: 0.00216083199713\n",
      "Idemp sym NN: 0.00267285375238\n"
     ]
    },
    {
     "name": "stderr",
     "output_type": "stream",
     "text": [
      "Warn: Ipython shell catchs sys.args\n"
     ]
    },
    {
     "name": "stdout",
     "output_type": "stream",
     "text": [
      "Calculating: 12/50\n",
      "idemp orig:    2.54253769513e-16\n",
      "Idemp orig NN: 0.00223709602043\n",
      "Idemp idem NN: 0.00330468698284\n",
      "Idemp sym NN: 0.00193741812347\n"
     ]
    },
    {
     "name": "stderr",
     "output_type": "stream",
     "text": [
      "Warn: Ipython shell catchs sys.args\n"
     ]
    },
    {
     "name": "stdout",
     "output_type": "stream",
     "text": [
      "Calculating: 13/50\n",
      "idemp orig:    4.46323772981e-16\n",
      "Idemp orig NN: 0.00203882308485\n",
      "Idemp idem NN: 0.00221803546412\n",
      "Idemp sym NN: 0.00311783993504\n"
     ]
    },
    {
     "name": "stderr",
     "output_type": "stream",
     "text": [
      "Warn: Ipython shell catchs sys.args\n"
     ]
    },
    {
     "name": "stdout",
     "output_type": "stream",
     "text": [
      "Calculating: 14/50\n",
      "idemp orig:    2.6252696585e-16\n",
      "Idemp orig NN: 0.0025472990957\n",
      "Idemp idem NN: 0.00459355679003\n",
      "Idemp sym NN: 0.00259513038259\n"
     ]
    },
    {
     "name": "stderr",
     "output_type": "stream",
     "text": [
      "Warn: Ipython shell catchs sys.args\n"
     ]
    },
    {
     "name": "stdout",
     "output_type": "stream",
     "text": [
      "Calculating: 15/50\n",
      "idemp orig:    3.25480058339e-16\n",
      "Idemp orig NN: 0.00218609357824\n",
      "Idemp idem NN: 0.0023148382876\n",
      "Idemp sym NN: 0.00180058435894\n"
     ]
    },
    {
     "name": "stderr",
     "output_type": "stream",
     "text": [
      "Warn: Ipython shell catchs sys.args\n"
     ]
    },
    {
     "name": "stdout",
     "output_type": "stream",
     "text": [
      "Calculating: 16/50\n",
      "idemp orig:    3.42486314723e-16\n",
      "Idemp orig NN: 0.0020120168287\n",
      "Idemp idem NN: 0.00302793604124\n",
      "Idemp sym NN: 0.00189120424359\n"
     ]
    },
    {
     "name": "stderr",
     "output_type": "stream",
     "text": [
      "Warn: Ipython shell catchs sys.args\n"
     ]
    },
    {
     "name": "stdout",
     "output_type": "stream",
     "text": [
      "Calculating: 17/50\n",
      "idemp orig:    2.93756759869e-16\n",
      "Idemp orig NN: 0.00222881544804\n",
      "Idemp idem NN: 0.00194739005759\n",
      "Idemp sym NN: 0.0022249020629\n"
     ]
    },
    {
     "name": "stderr",
     "output_type": "stream",
     "text": [
      "Warn: Ipython shell catchs sys.args\n"
     ]
    },
    {
     "name": "stdout",
     "output_type": "stream",
     "text": [
      "Calculating: 18/50\n",
      "idemp orig:    3.70587199108e-16\n",
      "Idemp orig NN: 0.00233977167578\n",
      "Idemp idem NN: 0.00454969228478\n",
      "Idemp sym NN: 0.00321051975914\n"
     ]
    },
    {
     "name": "stderr",
     "output_type": "stream",
     "text": [
      "Warn: Ipython shell catchs sys.args\n"
     ]
    },
    {
     "name": "stdout",
     "output_type": "stream",
     "text": [
      "Calculating: 19/50\n",
      "idemp orig:    3.77464665581e-16\n",
      "Idemp orig NN: 0.00319984441381\n",
      "Idemp idem NN: 0.00214557346198\n",
      "Idemp sym NN: 0.00177783931132\n"
     ]
    },
    {
     "name": "stderr",
     "output_type": "stream",
     "text": [
      "Warn: Ipython shell catchs sys.args\n"
     ]
    },
    {
     "name": "stdout",
     "output_type": "stream",
     "text": [
      "Calculating: 20/50\n",
      "idemp orig:    3.00717586413e-16\n",
      "Idemp orig NN: 0.00266045736618\n",
      "Idemp idem NN: 0.00259524556338\n",
      "Idemp sym NN: 0.00173680374152\n"
     ]
    },
    {
     "name": "stderr",
     "output_type": "stream",
     "text": [
      "Warn: Ipython shell catchs sys.args\n"
     ]
    },
    {
     "name": "stdout",
     "output_type": "stream",
     "text": [
      "Calculating: 21/50\n",
      "idemp orig:    3.39089361763e-16\n",
      "Idemp orig NN: 0.0022362688675\n",
      "Idemp idem NN: 0.00260413319928\n",
      "Idemp sym NN: 0.00244129445646\n"
     ]
    },
    {
     "name": "stderr",
     "output_type": "stream",
     "text": [
      "Warn: Ipython shell catchs sys.args\n"
     ]
    },
    {
     "name": "stdout",
     "output_type": "stream",
     "text": [
      "Calculating: 22/50\n",
      "idemp orig:    3.14664179359e-16\n",
      "Idemp orig NN: 0.00296769330829\n",
      "Idemp idem NN: 0.00278393054237\n",
      "Idemp sym NN: 0.00255472631974\n"
     ]
    },
    {
     "name": "stderr",
     "output_type": "stream",
     "text": [
      "Warn: Ipython shell catchs sys.args\n"
     ]
    },
    {
     "name": "stdout",
     "output_type": "stream",
     "text": [
      "Calculating: 23/50\n",
      "idemp orig:    3.69363622425e-16\n",
      "Idemp orig NN: 0.00240232845832\n",
      "Idemp idem NN: 0.00221854326784\n",
      "Idemp sym NN: 0.00150990447723\n"
     ]
    },
    {
     "name": "stderr",
     "output_type": "stream",
     "text": [
      "Warn: Ipython shell catchs sys.args\n"
     ]
    },
    {
     "name": "stdout",
     "output_type": "stream",
     "text": [
      "Calculating: 24/50\n",
      "idemp orig:    2.92387673953e-16\n",
      "Idemp orig NN: 0.00213104223644\n",
      "Idemp idem NN: 0.00311759092132\n",
      "Idemp sym NN: 0.00224805544403\n"
     ]
    },
    {
     "name": "stderr",
     "output_type": "stream",
     "text": [
      "Warn: Ipython shell catchs sys.args\n"
     ]
    },
    {
     "name": "stdout",
     "output_type": "stream",
     "text": [
      "Calculating: 25/50\n",
      "idemp orig:    3.44322040613e-16\n",
      "Idemp orig NN: 0.00467856220142\n",
      "Idemp idem NN: 0.00984820252804\n",
      "Idemp sym NN: 0.00204116647808\n"
     ]
    },
    {
     "name": "stderr",
     "output_type": "stream",
     "text": [
      "Warn: Ipython shell catchs sys.args\n"
     ]
    },
    {
     "name": "stdout",
     "output_type": "stream",
     "text": [
      "Calculating: 26/50\n",
      "idemp orig:    2.99071996866e-16\n",
      "Idemp orig NN: 0.00310350769199\n",
      "Idemp idem NN: 0.00277294284953\n",
      "Idemp sym NN: 0.00164696363705\n"
     ]
    },
    {
     "name": "stderr",
     "output_type": "stream",
     "text": [
      "Warn: Ipython shell catchs sys.args\n"
     ]
    },
    {
     "name": "stdout",
     "output_type": "stream",
     "text": [
      "Calculating: 27/50\n",
      "idemp orig:    3.40260011416e-16\n",
      "Idemp orig NN: 0.00229065785926\n",
      "Idemp idem NN: 0.0039459639908\n",
      "Idemp sym NN: 0.00169064414916\n"
     ]
    },
    {
     "name": "stderr",
     "output_type": "stream",
     "text": [
      "Warn: Ipython shell catchs sys.args\n"
     ]
    },
    {
     "name": "stdout",
     "output_type": "stream",
     "text": [
      "Calculating: 28/50\n",
      "idemp orig:    2.82759445429e-16\n",
      "Idemp orig NN: 0.00374899485215\n",
      "Idemp idem NN: 0.00246766195403\n",
      "Idemp sym NN: 0.00143266113726\n"
     ]
    },
    {
     "name": "stderr",
     "output_type": "stream",
     "text": [
      "Warn: Ipython shell catchs sys.args\n"
     ]
    },
    {
     "name": "stdout",
     "output_type": "stream",
     "text": [
      "Calculating: 29/50\n",
      "idemp orig:    3.50997141392e-16\n",
      "Idemp orig NN: 0.00309306398422\n",
      "Idemp idem NN: 0.00285996134303\n",
      "Idemp sym NN: 0.00258075469469\n"
     ]
    },
    {
     "name": "stderr",
     "output_type": "stream",
     "text": [
      "Warn: Ipython shell catchs sys.args\n"
     ]
    },
    {
     "name": "stdout",
     "output_type": "stream",
     "text": [
      "Calculating: 30/50\n",
      "idemp orig:    3.15171777636e-16\n",
      "Idemp orig NN: 0.00206778168414\n",
      "Idemp idem NN: 0.0028082523871\n",
      "Idemp sym NN: 0.0023350537648\n"
     ]
    },
    {
     "name": "stderr",
     "output_type": "stream",
     "text": [
      "Warn: Ipython shell catchs sys.args\n"
     ]
    },
    {
     "name": "stdout",
     "output_type": "stream",
     "text": [
      "Calculating: 31/50\n",
      "idemp orig:    3.42403235326e-16\n",
      "Idemp orig NN: 0.00216189221093\n",
      "Idemp idem NN: 0.00266606342122\n",
      "Idemp sym NN: 0.00184655244548\n"
     ]
    },
    {
     "name": "stderr",
     "output_type": "stream",
     "text": [
      "Warn: Ipython shell catchs sys.args\n"
     ]
    },
    {
     "name": "stdout",
     "output_type": "stream",
     "text": [
      "Calculating: 32/50\n",
      "idemp orig:    3.56398605341e-16\n",
      "Idemp orig NN: 0.00203649612772\n",
      "Idemp idem NN: 0.00217886103535\n",
      "Idemp sym NN: 0.00150102900954\n"
     ]
    },
    {
     "name": "stderr",
     "output_type": "stream",
     "text": [
      "Warn: Ipython shell catchs sys.args\n"
     ]
    },
    {
     "name": "stdout",
     "output_type": "stream",
     "text": [
      "Calculating: 33/50\n",
      "idemp orig:    3.62122402916e-16\n",
      "Idemp orig NN: 0.00186603781465\n",
      "Idemp idem NN: 0.00309941467323\n",
      "Idemp sym NN: 0.00217001173264\n"
     ]
    },
    {
     "name": "stderr",
     "output_type": "stream",
     "text": [
      "Warn: Ipython shell catchs sys.args\n"
     ]
    },
    {
     "name": "stdout",
     "output_type": "stream",
     "text": [
      "Calculating: 34/50\n",
      "idemp orig:    3.56856484287e-16\n",
      "Idemp orig NN: 0.00305158679464\n",
      "Idemp idem NN: 0.00253344412514\n",
      "Idemp sym NN: 0.00185942712134\n"
     ]
    },
    {
     "name": "stderr",
     "output_type": "stream",
     "text": [
      "Warn: Ipython shell catchs sys.args\n"
     ]
    },
    {
     "name": "stdout",
     "output_type": "stream",
     "text": [
      "Calculating: 35/50\n",
      "idemp orig:    3.71433710804e-16\n",
      "Idemp orig NN: 0.00551863629691\n",
      "Idemp idem NN: 0.00362016263358\n",
      "Idemp sym NN: 0.00174212353138\n"
     ]
    },
    {
     "name": "stderr",
     "output_type": "stream",
     "text": [
      "Warn: Ipython shell catchs sys.args\n"
     ]
    },
    {
     "name": "stdout",
     "output_type": "stream",
     "text": [
      "Calculating: 36/50\n",
      "idemp orig:    3.14295574678e-16\n",
      "Idemp orig NN: 0.00560956054301\n",
      "Idemp idem NN: 0.00232316685414\n",
      "Idemp sym NN: 0.00216517668707\n"
     ]
    },
    {
     "name": "stderr",
     "output_type": "stream",
     "text": [
      "Warn: Ipython shell catchs sys.args\n"
     ]
    },
    {
     "name": "stdout",
     "output_type": "stream",
     "text": [
      "Calculating: 37/50\n",
      "idemp orig:    3.40814943297e-16\n",
      "Idemp orig NN: 0.00341112370957\n",
      "Idemp idem NN: 0.00431933366868\n",
      "Idemp sym NN: 0.00191106178734\n"
     ]
    },
    {
     "name": "stderr",
     "output_type": "stream",
     "text": [
      "Warn: Ipython shell catchs sys.args\n"
     ]
    },
    {
     "name": "stdout",
     "output_type": "stream",
     "text": [
      "Calculating: 38/50\n",
      "idemp orig:    3.57171159533e-16\n",
      "Idemp orig NN: 0.00244699986211\n",
      "Idemp idem NN: 0.0035170325809\n",
      "Idemp sym NN: 0.00202753853322\n"
     ]
    },
    {
     "name": "stderr",
     "output_type": "stream",
     "text": [
      "Warn: Ipython shell catchs sys.args\n"
     ]
    },
    {
     "name": "stdout",
     "output_type": "stream",
     "text": [
      "Calculating: 39/50\n",
      "idemp orig:    3.28613338464e-16\n",
      "Idemp orig NN: 0.0025165605562\n",
      "Idemp idem NN: 0.00367904385967\n",
      "Idemp sym NN: 0.0032558469069\n"
     ]
    },
    {
     "name": "stderr",
     "output_type": "stream",
     "text": [
      "Warn: Ipython shell catchs sys.args\n"
     ]
    },
    {
     "name": "stdout",
     "output_type": "stream",
     "text": [
      "Calculating: 40/50\n",
      "idemp orig:    3.00502029058e-16\n",
      "Idemp orig NN: 0.00287065499818\n",
      "Idemp idem NN: 0.00213312981199\n",
      "Idemp sym NN: 0.00165471069796\n"
     ]
    },
    {
     "name": "stderr",
     "output_type": "stream",
     "text": [
      "Warn: Ipython shell catchs sys.args\n"
     ]
    },
    {
     "name": "stdout",
     "output_type": "stream",
     "text": [
      "Calculating: 41/50\n",
      "idemp orig:    2.76759685523e-16\n",
      "Idemp orig NN: 0.00214809796958\n",
      "Idemp idem NN: 0.00274655050229\n",
      "Idemp sym NN: 0.00184130815723\n"
     ]
    },
    {
     "name": "stderr",
     "output_type": "stream",
     "text": [
      "Warn: Ipython shell catchs sys.args\n"
     ]
    },
    {
     "name": "stdout",
     "output_type": "stream",
     "text": [
      "Calculating: 42/50\n",
      "idemp orig:    3.625175914e-16\n",
      "Idemp orig NN: 0.00334352216565\n",
      "Idemp idem NN: 0.00267022595465\n",
      "Idemp sym NN: 0.00191290117684\n"
     ]
    },
    {
     "name": "stderr",
     "output_type": "stream",
     "text": [
      "Warn: Ipython shell catchs sys.args\n"
     ]
    },
    {
     "name": "stdout",
     "output_type": "stream",
     "text": [
      "Calculating: 43/50\n",
      "idemp orig:    3.2162376292e-16\n",
      "Idemp orig NN: 0.00230027555882\n",
      "Idemp idem NN: 0.00305499632755\n",
      "Idemp sym NN: 0.00226651599873\n"
     ]
    },
    {
     "name": "stderr",
     "output_type": "stream",
     "text": [
      "Warn: Ipython shell catchs sys.args\n"
     ]
    },
    {
     "name": "stdout",
     "output_type": "stream",
     "text": [
      "Calculating: 44/50\n",
      "idemp orig:    2.95155116037e-16\n",
      "Idemp orig NN: 0.0020105313831\n",
      "Idemp idem NN: 0.00305645958351\n",
      "Idemp sym NN: 0.00193095531126\n"
     ]
    },
    {
     "name": "stderr",
     "output_type": "stream",
     "text": [
      "Warn: Ipython shell catchs sys.args\n"
     ]
    },
    {
     "name": "stdout",
     "output_type": "stream",
     "text": [
      "Calculating: 45/50\n",
      "idemp orig:    2.74560086308e-16\n",
      "Idemp orig NN: 0.00326413193644\n",
      "Idemp idem NN: 0.0025165701141\n",
      "Idemp sym NN: 0.00181824314975\n"
     ]
    },
    {
     "name": "stderr",
     "output_type": "stream",
     "text": [
      "Warn: Ipython shell catchs sys.args\n"
     ]
    },
    {
     "name": "stdout",
     "output_type": "stream",
     "text": [
      "Calculating: 46/50\n",
      "idemp orig:    2.86918627802e-16\n",
      "Idemp orig NN: 0.00230864994386\n",
      "Idemp idem NN: 0.0029147570186\n",
      "Idemp sym NN: 0.00202950528855\n"
     ]
    },
    {
     "name": "stderr",
     "output_type": "stream",
     "text": [
      "Warn: Ipython shell catchs sys.args\n"
     ]
    },
    {
     "name": "stdout",
     "output_type": "stream",
     "text": [
      "Calculating: 47/50\n",
      "idemp orig:    2.70158161333e-16\n",
      "Idemp orig NN: 0.00421104754879\n",
      "Idemp idem NN: 0.00610722012717\n",
      "Idemp sym NN: 0.00268091204578\n"
     ]
    },
    {
     "name": "stderr",
     "output_type": "stream",
     "text": [
      "Warn: Ipython shell catchs sys.args\n"
     ]
    },
    {
     "name": "stdout",
     "output_type": "stream",
     "text": [
      "Calculating: 48/50\n",
      "idemp orig:    3.56441247686e-16\n",
      "Idemp orig NN: 0.00391672067294\n",
      "Idemp idem NN: 0.00290672534043\n",
      "Idemp sym NN: 0.00262338917658\n"
     ]
    },
    {
     "name": "stderr",
     "output_type": "stream",
     "text": [
      "Warn: Ipython shell catchs sys.args\n"
     ]
    },
    {
     "name": "stdout",
     "output_type": "stream",
     "text": [
      "Calculating: 49/50\n",
      "idemp orig:    3.17462896505e-16\n",
      "Idemp orig NN: 0.00351743811558\n",
      "Idemp idem NN: 0.00324472051744\n",
      "Idemp sym NN: 0.00222577460806\n"
     ]
    },
    {
     "name": "stderr",
     "output_type": "stream",
     "text": [
      "Warn: Ipython shell catchs sys.args\n"
     ]
    },
    {
     "name": "stdout",
     "output_type": "stream",
     "text": [
      "Calculating: 50/50\n",
      "idemp orig:    3.1074389035e-16\n",
      "Idemp orig NN: 0.00362122713426\n",
      "Idemp idem NN: 0.00386077821209\n",
      "Idemp sym NN: 0.00262774366977\n"
     ]
    }
   ],
   "source": [
    "from pyscf.scf import hf\n",
    "from SCFInitialGuess.utilities.plotutils import prediction_scatter\n",
    "\n",
    "dim = 26\n",
    "\n",
    "def idemp_error(p, s):\n",
    "    p = p.reshape(dim, dim)\n",
    "    s = s.reshape(dim, dim)\n",
    "    return np.mean(np.abs(np.dot(np.dot(p, s), p) - 2 * p))\n",
    "\n",
    "iterations = []\n",
    "for i, (molecule, p) in enumerate(zip(molecules_test, P_test)):\n",
    "    \n",
    "    mol = molecule.get_pyscf_molecule()\n",
    "    \n",
    "    \n",
    "    print(\"Calculating: \" + str(i + 1) + \"/\" + str(len(molecules_test)))\n",
    "    \n",
    "    # nn guess\n",
    "    s_raw = hf.get_ovlp(mol).reshape(1, dim**2)\n",
    "    s = Dataset.normalize(s_raw, mean=dataset.x_mean, std=dataset.x_std)[0]\n",
    "    \n",
    "    with graph_orig.as_default():\n",
    "        P_orig = network_orig.run(sess_orig, s).reshape(dim, dim).astype('float64')\n",
    "        \n",
    "        print(\"idemp orig:    \" + str(idemp_error(p, s_raw)))\n",
    "        print(\"Idemp orig NN: \" + str(idemp_error(P_orig, s_raw)))\n",
    "        \n",
    "    with graph_idem.as_default():\n",
    "        P_idem = network_idem.run(sess_idem, s).reshape(dim, dim).astype('float64')\n",
    "        print(\"Idemp idem NN: \" + str(idemp_error(P_idem, s_raw)))\n",
    "    \n",
    "    with graph_sym.as_default():\n",
    "        P_sym = network_sym.run(sess_sym, s).reshape(dim, dim).astype('float64')\n",
    "        print(\"Idemp sym NN: \" + str(idemp_error(P_sym, s_raw)))\n",
    "    \n",
    "    \n",
    "    # P_actual wi noise\n",
    "    p_noise = p.reshape(dim, dim) + np.random.randn(dim, dim) * 5e-3\n",
    "    \n",
    "    \n",
    "    iterations_molecule = []\n",
    "    for guess in [p_noise, P_orig, P_idem, P_sym]:\n",
    "        \n",
    "        mf = hf.RHF(mol)\n",
    "        mf.diis = None\n",
    "        mf.verbose = 1\n",
    "        mf.kernel(dm0=guess)\n",
    "        iterations_molecule.append(mf.iterations)\n",
    "    \n",
    "    iterations.append(iterations_molecule)\n",
    "\n",
    "iterations = np.array(iterations)"
   ]
  },
  {
   "cell_type": "code",
   "execution_count": 23,
   "metadata": {},
   "outputs": [
    {
     "name": "stdout",
     "output_type": "stream",
     "text": [
      "noise orig idem sym\n",
      "[ 12.56  13.96  13.78  12.46]\n"
     ]
    }
   ],
   "source": [
    "print(\"noise\", \"orig\", \"idem\", \"sym\")\n",
    "print(np.mean(iterations,0))"
   ]
  },
  {
   "cell_type": "code",
   "execution_count": 25,
   "metadata": {},
   "outputs": [
    {
     "data": {
      "image/png": "[encoded data removed]",
      "text/plain": [
       "<matplotlib.figure.Figure at 0x7f18f92ba198>"
      ]
     },
     "metadata": {},
     "output_type": "display_data"
    }
   ],
   "source": [
    "\n",
    "bins = 20 # todo hier kann man auch ein array angeben\n",
    "\n",
    "for i, name in enumerate(['noise', 'orig', 'idem', 'sym']):\n",
    "    \n",
    "    hist, bins = np.histogram(iterations[:,i])\n",
    "    center = (bins[:-1] + bins[1:]) / 2\n",
    "    #axes[i].bar(center, hist, label=name)\n",
    "    plt.bar(center, hist, label=name)\n",
    "    \n",
    "plt.legend()\n",
    "plt.show()"
   ]
  },
  {
   "cell_type": "code",
   "execution_count": null,
   "metadata": {
    "collapsed": true
   },
   "outputs": [],
   "source": []
  }
 ],
 "metadata": {
  "kernelspec": {
   "display_name": "Python 3",
   "language": "python",
   "name": "python3"
  },
  "language_info": {
   "codemirror_mode": {
    "name": "ipython",
    "version": 3
   },
   "file_extension": ".py",
   "mimetype": "text/x-python",
   "name": "python",
   "nbconvert_exporter": "python",
   "pygments_lexer": "ipython3",
   "version": "3.6.2"
  }
 },
 "nbformat": 4,
 "nbformat_minor": 2
}
