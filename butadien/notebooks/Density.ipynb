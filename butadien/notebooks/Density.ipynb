{
 "cells": [
  {
   "cell_type": "code",
   "execution_count": 1,
   "metadata": {},
   "outputs": [
    {
     "name": "stderr",
     "output_type": "stream",
     "text": [
      "/home/jcartus/anaconda3/lib/python3.6/site-packages/h5py/__init__.py:36: FutureWarning: Conversion of the second argument of issubdtype from `float` to `np.floating` is deprecated. In future, it will be treated as `np.float64 == np.dtype(float).type`.\n",
      "  from ._conv import register_converters as _register_converters\n"
     ]
    }
   ],
   "source": [
    "import numpy as np\n",
    "import matplotlib.pyplot as plt\n",
    "from pyscf.scf import hf\n",
    "\n",
    "import matplotlib as mpl\n",
    "mpl.style.use(\"seaborn\")\n",
    "ticker = mpl.ticker\n",
    "\n",
    "from SCFInitialGuess.utilities.analysis import density_cut, matrix_error"
   ]
  },
  {
   "cell_type": "code",
   "execution_count": 2,
   "metadata": {},
   "outputs": [
    {
     "name": "stdout",
     "output_type": "stream",
     "text": [
      "[-] 2018-05-28 12:03:46: Data set normalized. Mean value std: 0.008732722987069362\n"
     ]
    }
   ],
   "source": [
    "from SCFInitialGuess.utilities.dataset import make_butadien_dataset\n",
    "\n",
    "molecules = np.load(\"../data/molecules.npy\")\n",
    "S = np.load(\"../data/S.npy\")\n",
    "P = np.load(\"../data/P.npy\")\n",
    "\n",
    "dataset, molecules_split =  make_butadien_dataset(molecules, S, P)\n"
   ]
  },
  {
   "cell_type": "code",
   "execution_count": 3,
   "metadata": {},
   "outputs": [],
   "source": [
    "index = 166\n",
    "dim = 26\n",
    "\n",
    "\n",
    "#mole = molecules[index].get_pyscf_molecule()\n",
    "s = S[index].reshape(dim, dim)\n",
    "p = P[index].reshape(dim, dim)"
   ]
  },
  {
   "cell_type": "code",
   "execution_count": 4,
   "metadata": {},
   "outputs": [],
   "source": [
    "z_value = 3\n",
    "nx = 80\n",
    "ny = 80\n",
    "\n",
    "norm = None#plt.Normalize(0, 7.6e-5)"
   ]
  },
  {
   "cell_type": "code",
   "execution_count": 5,
   "metadata": {},
   "outputs": [
    {
     "name": "stderr",
     "output_type": "stream",
     "text": [
      "Warn: Ipython shell catchs sys.args\n"
     ]
    },
    {
     "data": {
      "text/plain": [
       "<pyscf.gto.mole.Mole at 0x7f29daa618d0>"
      ]
     },
     "execution_count": 5,
     "metadata": {},
     "output_type": "execute_result"
    }
   ],
   "source": [
    "from pyscf.gto import Mole\n",
    "\n",
    "mole = Mole()\n",
    "mole.atom = \"\"\"\n",
    "   C       -4.33091        1.98230        0.00000\n",
    "   C       -3.21425        1.24567        0.00000\n",
    "   H       -4.30836        3.06736        0.00000\n",
    "   H       -5.30544        1.50418        0.00000\n",
    "   C       -1.89367        1.82420        0.00000\n",
    "   C       -0.77642        1.08809        0.00000\n",
    "   H       -0.79858        0.00302        0.00000\n",
    "   H        0.19786        1.56668        0.00000\n",
    "   H       -3.29578        0.16068        0.00000\n",
    "   H       -1.81231        2.90922        0.00000\n",
    "\"\"\"\n",
    "mole.basis = \"6-311++g**\"\n",
    "mole.build()"
   ]
  },
  {
   "cell_type": "code",
   "execution_count": 6,
   "metadata": {},
   "outputs": [
    {
     "data": {
      "text/plain": [
       "(0.0, 0.0)"
      ]
     },
     "execution_count": 6,
     "metadata": {},
     "output_type": "execute_result"
    }
   ],
   "source": [
    "coords = mole.atom_coords()[:, 2]\n",
    "np.mean(coords), np.std(coords)"
   ]
  },
  {
   "cell_type": "markdown",
   "metadata": {},
   "source": [
    "# H_core"
   ]
  },
  {
   "cell_type": "code",
   "execution_count": 7,
   "metadata": {},
   "outputs": [],
   "source": [
    "dm_1e = hf.init_guess_by_1e(mole)\n",
    "dm_1e_density, x, y = density_cut(mole, dm_1e, nx, ny, z_value=z_value)"
   ]
  },
  {
   "cell_type": "code",
   "execution_count": 8,
   "metadata": {},
   "outputs": [
    {
     "data": {
      "text/plain": [
       "(88.58807642915433, 9.801535058882256e-08)"
      ]
     },
     "execution_count": 8,
     "metadata": {},
     "output_type": "execute_result"
    }
   ],
   "source": [
    "np.max(dm_1e_density), np.min(dm_1e_density)\n"
   ]
  },
  {
   "cell_type": "code",
   "execution_count": 9,
   "metadata": {},
   "outputs": [
    {
     "data": {
      "image/png": "[encoded data removed]",
      "text/plain": [
       "<matplotlib.figure.Figure at 0x7f29d00c9748>"
      ]
     },
     "metadata": {},
     "output_type": "display_data"
    }
   ],
   "source": [
    "plt.contourf(*np.meshgrid(x, y), dm_1e_density, locator=ticker.LogLocator(), norm=norm)\n",
    "plt.colorbar()\n",
    "plt.show()"
   ]
  },
  {
   "cell_type": "code",
   "execution_count": 10,
   "metadata": {},
   "outputs": [
    {
     "data": {
      "text/plain": [
       "'\\nfor z in np.linspace(-1,5, 20):    \\n    dm_1e = hf.init_guess_by_1e(mole)\\n    dm_1e_density, x, y = density_cut(mole, dm_1e, nx, ny, z_value=z)\\n    plt.figure()\\n    plt.contourf(*np.meshgrid(x, y), dm_1e_density, locator=ticker.LogLocator())\\n    plt.colorbar()\\n    plt.title(\"z = \" + str(z))\\nplt.show()\\n'"
      ]
     },
     "execution_count": 10,
     "metadata": {},
     "output_type": "execute_result"
    }
   ],
   "source": [
    "\"\"\"\n",
    "for z in np.linspace(-1,5, 20):    \n",
    "    dm_1e = hf.init_guess_by_1e(mole)\n",
    "    dm_1e_density, x, y = density_cut(mole, dm_1e, nx, ny, z_value=z)\n",
    "    plt.figure()\n",
    "    plt.contourf(*np.meshgrid(x, y), dm_1e_density, locator=ticker.LogLocator())\n",
    "    plt.colorbar()\n",
    "    plt.title(\"z = \" + str(z))\n",
    "plt.show()\n",
    "\"\"\""
   ]
  },
  {
   "cell_type": "markdown",
   "metadata": {},
   "source": [
    "# SAP"
   ]
  },
  {
   "cell_type": "code",
   "execution_count": 11,
   "metadata": {},
   "outputs": [],
   "source": [
    "dm_sap = hf.init_guess_by_atom(mole)\n",
    "dm_sap_density, x, y = density_cut(mole, dm_sap, nx, ny, z_value)"
   ]
  },
  {
   "cell_type": "code",
   "execution_count": 22,
   "metadata": {},
   "outputs": [
    {
     "data": {
      "image/png": "[encoded data removed]",
      "text/plain": [
       "<matplotlib.figure.Figure at 0x7f29ba379630>"
      ]
     },
     "metadata": {},
     "output_type": "display_data"
    }
   ],
   "source": [
    "plt.contourf(*np.meshgrid(x, y), dm_sap_density, locator=ticker.LogLocator(), norm=norm)\n",
    "plt.colorbar()\n",
    "plt.title(\"SAP\")\n",
    "plt.show()"
   ]
  },
  {
   "cell_type": "markdown",
   "metadata": {},
   "source": [
    "# GWH"
   ]
  },
  {
   "cell_type": "code",
   "execution_count": 13,
   "metadata": {},
   "outputs": [],
   "source": [
    "dm_gwh = hf.init_guess_by_wolfsberg_helmholtz(mole)\n",
    "dm_gwh_density, x, y = density_cut(mole, dm_gwh, nx, ny, z_value)"
   ]
  },
  {
   "cell_type": "code",
   "execution_count": 21,
   "metadata": {},
   "outputs": [
    {
     "data": {
      "image/png": "[encoded data removed]",
      "text/plain": [
       "<matplotlib.figure.Figure at 0x7f29d0086160>"
      ]
     },
     "metadata": {},
     "output_type": "display_data"
    }
   ],
   "source": [
    "plt.contourf(*np.meshgrid(x, y), dm_gwh_density, locator=ticker.LogLocator(), norm=norm)\n",
    "plt.colorbar()\n",
    "plt.title(\"GWH\")\n",
    "plt.show()"
   ]
  },
  {
   "cell_type": "markdown",
   "metadata": {},
   "source": [
    "# MINAO"
   ]
  },
  {
   "cell_type": "code",
   "execution_count": 15,
   "metadata": {},
   "outputs": [],
   "source": [
    "dm_minao = hf.init_guess_by_minao(mole)\n",
    "dm_minao_density, x, y = density_cut(mole, dm_minao, nx, ny, z_value)"
   ]
  },
  {
   "cell_type": "code",
   "execution_count": 16,
   "metadata": {},
   "outputs": [
    {
     "data": {
      "image/png": "[encoded data removed]",
      "text/plain": [
       "<matplotlib.figure.Figure at 0x7f29ba2621d0>"
      ]
     },
     "metadata": {},
     "output_type": "display_data"
    }
   ],
   "source": [
    "plt.contourf(*np.meshgrid(x, y), dm_minao_density, locator=ticker.LogLocator(), norm=norm)\n",
    "plt.colorbar()\n",
    "plt.title(\"MINAO\")\n",
    "plt.show()"
   ]
  },
  {
   "cell_type": "markdown",
   "metadata": {},
   "source": [
    "# NN"
   ]
  },
  {
   "cell_type": "code",
   "execution_count": 17,
   "metadata": {},
   "outputs": [],
   "source": [
    "import tensorflow as tf\n",
    "from SCFInitialGuess.nn.networks import EluFixedValue\n",
    "\n",
    "graph = tf.Graph()\n",
    "\n",
    "structure, weights, biases = np.load(\"../data/network.npy\", encoding=\"latin1\")\n",
    "\n",
    "with graph.as_default():\n",
    "    sess = tf.Session()\n",
    "    network = EluFixedValue(structure, weights, biases)\n",
    "    network.setup()\n",
    "    sess.run(tf.global_variables_initializer())"
   ]
  },
  {
   "cell_type": "code",
   "execution_count": 18,
   "metadata": {},
   "outputs": [
    {
     "name": "stderr",
     "output_type": "stream",
     "text": [
      "Warn: Ipython shell catchs sys.args\n"
     ]
    }
   ],
   "source": [
    "mole_sto = mole\n",
    "mole_sto.basis = \"sto-3g\"\n",
    "mole_sto.build()\n",
    "\n",
    "\n",
    "s_test = hf.get_ovlp(mole_sto)\n",
    "\n",
    "s_test_norm = dataset.input_transformation(s.reshape(-1, dim**2))"
   ]
  },
  {
   "cell_type": "code",
   "execution_count": 19,
   "metadata": {},
   "outputs": [],
   "source": [
    "\n",
    "dm_nn = network.run(sess, s_test_norm).reshape(dim, dim).astype(\"float64\")\n",
    "dm_nn_density, x, y = density_cut(mole, dm_nn, nx, ny, z_value) "
   ]
  },
  {
   "cell_type": "code",
   "execution_count": 20,
   "metadata": {},
   "outputs": [
    {
     "data": {
      "image/png": "[encoded data removed]",
      "text/plain": [
       "<matplotlib.figure.Figure at 0x7f29ba1f6898>"
      ]
     },
     "metadata": {},
     "output_type": "display_data"
    }
   ],
   "source": [
    "plt.contourf(*np.meshgrid(x, y), dm_nn_density, locator=ticker.LogLocator(), norm=norm)\n",
    "plt.colorbar()\n",
    "plt.show()"
   ]
  },
  {
   "cell_type": "markdown",
   "metadata": {},
   "source": [
    "# Subplot"
   ]
  },
  {
   "cell_type": "code",
   "execution_count": 82,
   "metadata": {},
   "outputs": [
    {
     "data": {
      "image/png": "[encoded data removed]",
      "text/plain": [
       "<matplotlib.figure.Figure at 0x7f29811f0898>"
      ]
     },
     "metadata": {},
     "output_type": "display_data"
    }
   ],
   "source": [
    "fig, axes = plt.subplots(2, 2)\n",
    "\n",
    "vmin = 1e-11\n",
    "vmax = 1e5\n",
    "\n",
    "ylabel = \"y / m\"\n",
    "xlabel = \"x / m\"\n",
    "\n",
    "norm = plt.Normalize(vmin, vmax)\n",
    "\n",
    "axes[0,0].contourf(*np.meshgrid(x, y), dm_sap_density, locator=ticker.LogLocator(), vmin=vmin, vmax=vmax)\n",
    "axes[0,0].set_title(\"SAP\")\n",
    "axes[0,0].ticklabel_format(style='plain', axis='x')\n",
    "axes[0,0].set_ylabel(ylabel)\n",
    "\n",
    "\n",
    "\n",
    "axes[1,0].contourf(*np.meshgrid(x, y), dm_gwh_density, locator=ticker.LogLocator(), vmin=vmin, vmax=vmax)\n",
    "axes[1,0].set_title(\"GWH\")\n",
    "axes[0,0].set_ylabel(ylabel)\n",
    "\n",
    "axes[0,1].contourf(*np.meshgrid(x, y), dm_minao_density, locator=ticker.LogLocator(), vmin=vmin, vmax=vmax)\n",
    "axes[0,1].set_title(\"MINAO\")\n",
    "axes[0,1].ticklabel_format(style='plain')\n",
    "\n",
    "\n",
    "im = axes[1,1].contourf(*np.meshgrid(x, y), dm_nn_density, locator=ticker.LogLocator(),  vmin=vmin, vmax=vmax)\n",
    "axes[1,1].set_title(\"NN\")\n",
    "axes[1,1].ticklabel_format(style='plain', axis='y')\n",
    "\n",
    "_ = plt.setp([a.get_xticklabels() for a in axes[0, :]], visible=False)\n",
    "_ = plt.setp([a.get_yticklabels() for a in axes[:, 1]], visible=False)\n",
    "\n",
    "fig.subplots_adjust(right=0.8)\n",
    "cbar_ax = fig.add_axes([0.85, 0.15, 0.05, 0.7])\n",
    "fig.colorbar(im, cax=cbar_ax)\n",
    "\n",
    "plt.savefig(\"/home/jcartus/Repos/cc2aiPoster/densities/density_cuts.pdf\")\n",
    "#"
   ]
  },
  {
   "cell_type": "code",
   "execution_count": null,
   "metadata": {},
   "outputs": [],
   "source": []
  }
 ],
 "metadata": {
  "kernelspec": {
   "display_name": "Python 3",
   "language": "python",
   "name": "python3"
  },
  "language_info": {
   "codemirror_mode": {
    "name": "ipython",
    "version": 3
   },
   "file_extension": ".py",
   "mimetype": "text/x-python",
   "name": "python",
   "nbconvert_exporter": "python",
   "pygments_lexer": "ipython3",
   "version": "3.6.4"
  }
 },
 "nbformat": 4,
 "nbformat_minor": 2
}
