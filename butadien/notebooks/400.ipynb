{
 "cells": [
  {
   "cell_type": "code",
   "execution_count": 1,
   "metadata": {},
   "outputs": [
    {
     "name": "stderr",
     "output_type": "stream",
     "text": [
      "/home/jo/anaconda3/lib/python3.6/site-packages/h5py/__init__.py:36: FutureWarning: Conversion of the second argument of issubdtype from `float` to `np.floating` is deprecated. In future, it will be treated as `np.float64 == np.dtype(float).type`.\n",
      "  from ._conv import register_converters as _register_converters\n"
     ]
    }
   ],
   "source": [
    "import numpy as np\n",
    "import matplotlib.pyplot as plt\n",
    "import tensorflow as tf\n",
    "\n",
    "import matplotlib as mpl\n",
    "\n",
    "mpl.style.use(\"seaborn\")"
   ]
  },
  {
   "cell_type": "markdown",
   "metadata": {},
   "source": [
    "# Fetch data "
   ]
  },
  {
   "cell_type": "code",
   "execution_count": 13,
   "metadata": {},
   "outputs": [],
   "source": [
    "molecules = np.load(\"../data/molecules400.npy\")\n",
    "S = np.load(\"../data/S400.npy\")\n",
    "P = np.load(\"../data/P400.npy\")\n",
    "\n",
    "dim = 26"
   ]
  },
  {
   "cell_type": "code",
   "execution_count": 45,
   "metadata": {},
   "outputs": [
    {
     "name": "stdout",
     "output_type": "stream",
     "text": [
      "100 (603, 676) (603, 676)\n"
     ]
    }
   ],
   "source": [
    "print(len(molecules[1]), S.shape, P.shape)"
   ]
  },
  {
   "cell_type": "code",
   "execution_count": 19,
   "metadata": {},
   "outputs": [
    {
     "name": "stdout",
     "output_type": "stream",
     "text": [
      "[-] 2018-05-31 13:36:47: Data set normalized. Mean value std: 0.050517110993838175\n"
     ]
    }
   ],
   "source": [
    "from SCFInitialGuess.utilities.dataset import make_butadien_dataset\n",
    "\n",
    "folder = \"../data/\"\n",
    "\n",
    "dataset, molecules = make_butadien_dataset(\n",
    "    np.load(folder + \"molecules400.npy\"),\n",
    "    np.load(folder + \"S400.npy\"),\n",
    "    np.load(folder + \"P400.npy\"),\n",
    "    test_samples=100\n",
    ")\n"
   ]
  },
  {
   "cell_type": "markdown",
   "metadata": {},
   "source": [
    "# Train a network"
   ]
  },
  {
   "cell_type": "code",
   "execution_count": 40,
   "metadata": {},
   "outputs": [
    {
     "name": "stdout",
     "output_type": "stream",
     "text": [
      "[-] 2018-05-31 15:29:58: No target graph specified for Trainer setup. Creating new graph ...\n",
      "[-] 2018-05-31 15:29:58: Setting up the training in the target graph ...\n",
      "[-] 2018-05-31 15:29:58: network ...\n",
      "[-] 2018-05-31 15:29:58: error function ...\n",
      "[-] 2018-05-31 15:29:59: cost function ...\n",
      "[-] 2018-05-31 15:29:59: training step\n",
      "[-] 2018-05-31 15:29:59: Starting network training ...\n",
      "[ ] 2018-05-31 15:29:59: Val. Cost: 5.766E-02. Error: 5.766E-02. Diff: 1.0E+10\n",
      "[ ] 2018-05-31 15:30:01: Val. Cost: 4.784E-05. Error: 4.207E-05. Diff: 5.8E-02\n",
      "[ ] 2018-05-31 15:30:04: Val. Cost: 2.498E-05. Error: 1.919E-05. Diff: 2.3E-05\n",
      "[ ] 2018-05-31 15:30:07: Val. Cost: 1.512E-05. Error: 9.318E-06. Diff: 9.9E-06\n",
      "[ ] 2018-05-31 15:30:09: Val. Cost: 1.304E-05. Error: 7.254E-06. Diff: 2.1E-06\n",
      "[ ] 2018-05-31 15:30:12: Val. Cost: 1.972E-05. Error: 1.395E-05. Diff: 6.7E-06\n",
      "[ ] 2018-05-31 15:30:15: Val. Cost: 1.090E-05. Error: 5.174E-06. Diff: 8.8E-06\n",
      "[ ] 2018-05-31 15:30:17: Val. Cost: 1.023E-05. Error: 4.540E-06. Diff: 6.3E-07\n",
      "[ ] 2018-05-31 15:30:20: Val. Cost: 1.278E-05. Error: 7.139E-06. Diff: 2.6E-06\n",
      "[ ] 2018-05-31 15:30:23: Val. Cost: 1.124E-05. Error: 5.647E-06. Diff: 1.5E-06\n",
      "[ ] 2018-05-31 15:30:25: Val. Cost: 1.758E-05. Error: 1.204E-05. Diff: 6.4E-06\n",
      "[ ] 2018-05-31 15:30:28: Val. Cost: 1.165E-05. Error: 6.188E-06. Diff: 5.9E-06\n",
      "[ ] 2018-05-31 15:30:31: Val. Cost: 1.565E-05. Error: 1.025E-05. Diff: 4.1E-06\n",
      "[ ] 2018-05-31 15:30:33: Val. Cost: 1.080E-05. Error: 5.471E-06. Diff: 4.8E-06\n",
      "[-] 2018-05-31 15:30:36: Convergence reached after 2800 steps.\n",
      "[-] 2018-05-31 15:30:36: Test error: 6.74598E-06\n"
     ]
    }
   ],
   "source": [
    "from SCFInitialGuess.nn.training import Trainer\n",
    "from SCFInitialGuess.nn.networks import EluTrNNN\n",
    "from SCFInitialGuess.nn.cost_functions import RegularizedMSE\n",
    "\n",
    "trainer = Trainer(\n",
    "    EluTrNNN([dim**2, dim**2, dim**2, dim**2]),\n",
    "    cost_function=RegularizedMSE(alpha=1e-7),\n",
    "    optimizer=tf.train.AdamOptimizer(learning_rate=1e-3)\n",
    ")\n",
    "\n",
    "trainer.setup()\n",
    "\n",
    "network, sess = trainer.train(\n",
    "    dataset,\n",
    "    convergence_threshold=5e-7\n",
    ")\n",
    "    "
   ]
  },
  {
   "cell_type": "code",
   "execution_count": 41,
   "metadata": {},
   "outputs": [],
   "source": [
    "with trainer.graph.as_default():\n",
    "    p_400 = network.run(sess, dataset.testing[0])"
   ]
  },
  {
   "cell_type": "code",
   "execution_count": 42,
   "metadata": {},
   "outputs": [
    {
     "data": {
      "text/plain": [
       "(0.0016909562742881364, 0.0005494971231070022)"
      ]
     },
     "execution_count": 42,
     "metadata": {},
     "output_type": "execute_result"
    }
   ],
   "source": [
    "from SCFInitialGuess.utilities.analysis import measure_absolute_error, statistics\n",
    "\n",
    "statistics(measure_absolute_error(p_400, dataset))"
   ]
  },
  {
   "cell_type": "code",
   "execution_count": 25,
   "metadata": {},
   "outputs": [],
   "source": [
    "from os.path import join\n",
    "\n",
    "save_path = \"../data/network400.npy\"\n",
    "network.export(sess, save_path)"
   ]
  },
  {
   "cell_type": "markdown",
   "metadata": {},
   "source": [
    "# Retrain a network"
   ]
  },
  {
   "cell_type": "code",
   "execution_count": 35,
   "metadata": {},
   "outputs": [],
   "source": [
    "from SCFInitialGuess.nn.networks import EluFixedValue\n",
    "\n",
    "structure, weights, biases = np.load(\n",
    "    \"../data/network.npy\", \n",
    "    encoding=\"latin1\"\n",
    ")\n",
    "\n",
    "network_300 = EluFixedValue(structure, weights, biases)\n",
    "network_300.setup()\n",
    "\n",
    "graph = tf.Graph()\n",
    "\n",
    "with graph.as_default():\n",
    "    sess_300 = tf.Session()\n",
    "    network_300 = EluFixedValue(structure, weights, biases)\n",
    "    network_300.setup()\n",
    "    sess_300.run(tf.global_variables_initializer())\n",
    "    p_300 = network_300.run(sess_300, dataset.testing[0])"
   ]
  },
  {
   "cell_type": "code",
   "execution_count": 37,
   "metadata": {},
   "outputs": [
    {
     "data": {
      "text/plain": [
       "(0.07300608887054842, 0.048920488103008856)"
      ]
     },
     "execution_count": 37,
     "metadata": {},
     "output_type": "execute_result"
    }
   ],
   "source": [
    "from SCFInitialGuess.utilities.analysis import measure_absolute_error, statistics\n",
    "\n",
    "statistics(measure_absolute_error(p_300, dataset))"
   ]
  },
  {
   "cell_type": "code",
   "execution_count": null,
   "metadata": {},
   "outputs": [],
   "source": []
  }
 ],
 "metadata": {
  "kernelspec": {
   "display_name": "Python 3",
   "language": "python",
   "name": "python3"
  },
  "language_info": {
   "codemirror_mode": {
    "name": "ipython",
    "version": 3
   },
   "file_extension": ".py",
   "mimetype": "text/x-python",
   "name": "python",
   "nbconvert_exporter": "python",
   "pygments_lexer": "ipython3",
   "version": "3.6.4"
  }
 },
 "nbformat": 4,
 "nbformat_minor": 2
}
