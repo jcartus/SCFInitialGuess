{
 "cells": [
  {
   "cell_type": "code",
   "execution_count": 1,
   "metadata": {},
   "outputs": [
    {
     "name": "stderr",
     "output_type": "stream",
     "text": [
      "/home/jo/anaconda3/lib/python3.6/site-packages/h5py/__init__.py:36: FutureWarning: Conversion of the second argument of issubdtype from `float` to `np.floating` is deprecated. In future, it will be treated as `np.float64 == np.dtype(float).type`.\n",
      "  from ._conv import register_converters as _register_converters\n"
     ]
    }
   ],
   "source": [
    "import numpy as np\n",
    "import matplotlib.pyplot as plt\n",
    "import tensorflow as tf\n",
    "\n",
    "import matplotlib as mpl\n",
    "\n",
    "mpl.style.use(\"seaborn\")"
   ]
  },
  {
   "cell_type": "code",
   "execution_count": 2,
   "metadata": {},
   "outputs": [],
   "source": [
    "S = np.load(\"../data/S.npy\")\n",
    "P = np.load(\"../data/P.npy\")\n",
    "F = np.load(\"../data/F.npy\")\n",
    "\n",
    "molecules = np.load(\"../data/molecules.npy\")"
   ]
  },
  {
   "cell_type": "code",
   "execution_count": 3,
   "metadata": {},
   "outputs": [
    {
     "name": "stdout",
     "output_type": "stream",
     "text": [
      "[-] 2018-05-13 20:31:59: Data set normalized. Mean value std: 0.008732722987069362\n"
     ]
    }
   ],
   "source": [
    "from SCFInitialGuess.utilities.dataset import Dataset\n",
    "\n",
    "dim = 26\n",
    "\n",
    "ind_cut = 150\n",
    "index = np.arange(200)\n",
    "\n",
    "S_test = np.array(S)[index[150:]]\n",
    "P_test = np.array(P)[index[150:]]\n",
    "F_test = np.array(F)[index[150:]]\n",
    "molecules_test = [molecules[index[i]] for i in range(150, 200)]\n",
    "\n",
    "S_train = np.array(S)[index[:150]]\n",
    "P_train = np.array(P)[index[:150]]\n",
    "F_train = np.array(F)[index[:150]]\n",
    "molecules_train = [molecules[index[i]] for i in range(150)]\n",
    "\n",
    "dataset = Dataset(np.array(S_train), np.array(F_train), split_test=0.0)\n",
    "\n",
    "dataset.testing = (Dataset.normalize(S_test, mean=dataset.x_mean, std=dataset.x_std)[0], F_test)"
   ]
  },
  {
   "cell_type": "code",
   "execution_count": 18,
   "metadata": {
    "scrolled": false
   },
   "outputs": [
    {
     "name": "stdout",
     "output_type": "stream",
     "text": [
      "[-] 2018-05-13 21:10:56: No target graph specified for Trainer setup. Creating new graph ...\n",
      "[-] 2018-05-13 21:10:56: Setting up the training in the target graph ...\n",
      "[-] 2018-05-13 21:10:56: network ...\n",
      "[-] 2018-05-13 21:10:56: error function ...\n",
      "[-] 2018-05-13 21:10:56: cost function ...\n",
      "[-] 2018-05-13 21:10:56: training step\n",
      "[-] 2018-05-13 21:10:56: Starting network training ...\n",
      "[ ] 2018-05-13 21:10:56: Val. Cost: 8.982E-01. Error: 8.982E-01. Diff: 1.0E+10\n",
      "[ ] 2018-05-13 21:11:03: Val. Cost: 6.385E-04. Error: 6.385E-04. Diff: 9.0E-01\n",
      "[ ] 2018-05-13 21:11:11: Val. Cost: 2.367E-04. Error: 2.367E-04. Diff: 4.0E-04\n",
      "[ ] 2018-05-13 21:11:22: Val. Cost: 1.364E-04. Error: 1.364E-04. Diff: 1.0E-04\n",
      "[ ] 2018-05-13 21:11:31: Val. Cost: 1.382E-04. Error: 1.382E-04. Diff: 1.9E-06\n",
      "[ ] 2018-05-13 21:11:38: Val. Cost: 7.735E-05. Error: 7.735E-05. Diff: 6.1E-05\n",
      "[ ] 2018-05-13 21:11:44: Val. Cost: 1.241E-04. Error: 1.241E-04. Diff: 4.7E-05\n",
      "[ ] 2018-05-13 21:11:50: Val. Cost: 7.955E-05. Error: 7.955E-05. Diff: 4.5E-05\n",
      "[ ] 2018-05-13 21:12:00: Val. Cost: 9.735E-05. Error: 9.735E-05. Diff: 1.8E-05\n",
      "[ ] 2018-05-13 21:12:07: Val. Cost: 1.419E-04. Error: 1.419E-04. Diff: 4.5E-05\n",
      "[ ] 2018-05-13 21:12:14: Val. Cost: 1.275E-04. Error: 1.275E-04. Diff: 1.4E-05\n",
      "[ ] 2018-05-13 21:12:20: Val. Cost: 9.315E-05. Error: 9.315E-05. Diff: 3.4E-05\n",
      "[ ] 2018-05-13 21:12:28: Val. Cost: 1.215E-04. Error: 1.215E-04. Diff: 2.8E-05\n",
      "[ ] 2018-05-13 21:12:38: Val. Cost: 3.036E-04. Error: 3.036E-04. Diff: 1.8E-04\n",
      "[ ] 2018-05-13 21:12:45: Val. Cost: 5.026E-05. Error: 5.026E-05. Diff: 2.5E-04\n",
      "[ ] 2018-05-13 21:12:55: Val. Cost: 1.264E-04. Error: 1.264E-04. Diff: 7.6E-05\n",
      "[ ] 2018-05-13 21:13:10: Val. Cost: 6.790E-05. Error: 6.790E-05. Diff: 5.8E-05\n",
      "[ ] 2018-05-13 21:13:18: Val. Cost: 1.867E-04. Error: 1.867E-04. Diff: 1.2E-04\n",
      "[ ] 2018-05-13 21:13:25: Val. Cost: 2.056E-05. Error: 2.056E-05. Diff: 1.7E-04\n",
      "[ ] 2018-05-13 21:13:32: Val. Cost: 8.370E-03. Error: 8.370E-03. Diff: 8.3E-03\n",
      "[ ] 2018-05-13 21:13:40: Val. Cost: 1.084E-03. Error: 1.084E-03. Diff: 7.3E-03\n",
      "[-] 2018-05-13 21:13:46: Convergence reached after 4200 steps.\n",
      "[-] 2018-05-13 21:13:46: Test error: 1.07813E-03\n"
     ]
    }
   ],
   "source": [
    "from SCFInitialGuess.nn.networks import EluTrNNN\n",
    "from SCFInitialGuess.nn.training import Trainer, RegularizedMSE, MSE\n",
    "\n",
    "trainer = Trainer(\n",
    "    EluTrNNN([dim**2, 2 * dim**2, 2 * dim**2, dim**2, dim**2, dim**2]),\n",
    "    cost_function=MSE(),\n",
    "    #cost_function=RegularizedMSE(alpha=1e-7),\n",
    "    optimizer=tf.train.AdamOptimizer(learning_rate=1e-3)\n",
    ")\n",
    "\n",
    "trainer.setup()\n",
    "network, sess = trainer.train(\n",
    "    dataset,\n",
    "    convergence_threshold=1e-6\n",
    ")\n",
    "graph = trainer.graph"
   ]
  },
  {
   "cell_type": "markdown",
   "metadata": {},
   "source": [
    "# Calculate density matrices "
   ]
  },
  {
   "cell_type": "code",
   "execution_count": 6,
   "metadata": {},
   "outputs": [],
   "source": [
    "from pyscf.scf import hf\n",
    "\n",
    "def get_occ(mo_energy, mo_coeff, n_electrons = 30):\n",
    "    \n",
    "    \n",
    "    e_idx = np.argsort(mo_energy)\n",
    "    e_sort = mo_energy[e_idx]\n",
    "    nmo = mo_energy.size\n",
    "    mo_occ = np.zeros(nmo)\n",
    "    nocc = n_electrons // 2\n",
    "    mo_occ[e_idx[:nocc]] = 2\n",
    "    \n",
    "    return mo_occ\n",
    "\n",
    "def make_density(s, f):\n",
    "        mo_energy, mo_coeff = hf.eig(f.reshape(dim, dim), s.reshape(dim, dim))\n",
    "        mo_occ = get_occ(mo_energy, mo_coeff)\n",
    "        return hf.make_rdm1(mo_coeff, mo_occ)\n",
    "    \n",
    "with graph.as_default():\n",
    "    p_f = np.array(\n",
    "        [make_density(s, f).reshape(dim**2) for (s,f) in zip(S_test, network.run(sess, dataset.testing[0]))]\n",
    "    )"
   ]
  },
  {
   "cell_type": "markdown",
   "metadata": {},
   "source": [
    "# Scatter"
   ]
  },
  {
   "cell_type": "code",
   "execution_count": 12,
   "metadata": {},
   "outputs": [
    {
     "data": {
      "image/png": "[encoded data removed]",
      "text/plain": [
       "<matplotlib.figure.Figure at 0x7f91f1eb2048>"
      ]
     },
     "metadata": {},
     "output_type": "display_data"
    }
   ],
   "source": [
    "lower, upper = -1, 1.5\n",
    "\n",
    "plt.scatter(P_test.flatten(), p_f.flatten())\n",
    "\n",
    "plt.xlim(lower, upper)\n",
    "plt.ylim(lower, upper)\n",
    "plt.show()"
   ]
  },
  {
   "cell_type": "code",
   "execution_count": 14,
   "metadata": {},
   "outputs": [
    {
     "data": {
      "image/png": "[encoded data removed]",
      "text/plain": [
       "<matplotlib.figure.Figure at 0x7f91f1e914a8>"
      ]
     },
     "metadata": {},
     "output_type": "display_data"
    }
   ],
   "source": [
    "lower, upper = 2.06, 2.08\n",
    "\n",
    "plt.scatter(P_test.flatten(), p_f.flatten())\n",
    "\n",
    "plt.xlim(lower, upper)\n",
    "plt.ylim(lower, upper)\n",
    "plt.show()"
   ]
  },
  {
   "cell_type": "markdown",
   "metadata": {},
   "source": [
    "# Analysis "
   ]
  },
  {
   "cell_type": "code",
   "execution_count": 15,
   "metadata": {},
   "outputs": [
    {
     "name": "stderr",
     "output_type": "stream",
     "text": [
      "Warn: Ipython shell catchs sys.args\n",
      "Warn: Ipython shell catchs sys.args\n",
      "Warn: Ipython shell catchs sys.args\n",
      "Warn: Ipython shell catchs sys.args\n",
      "Warn: Ipython shell catchs sys.args\n",
      "Warn: Ipython shell catchs sys.args\n",
      "Warn: Ipython shell catchs sys.args\n",
      "Warn: Ipython shell catchs sys.args\n",
      "Warn: Ipython shell catchs sys.args\n",
      "Warn: Ipython shell catchs sys.args\n",
      "Warn: Ipython shell catchs sys.args\n",
      "Warn: Ipython shell catchs sys.args\n",
      "Warn: Ipython shell catchs sys.args\n",
      "Warn: Ipython shell catchs sys.args\n",
      "Warn: Ipython shell catchs sys.args\n",
      "Warn: Ipython shell catchs sys.args\n",
      "Warn: Ipython shell catchs sys.args\n",
      "Warn: Ipython shell catchs sys.args\n",
      "Warn: Ipython shell catchs sys.args\n",
      "Warn: Ipython shell catchs sys.args\n",
      "Warn: Ipython shell catchs sys.args\n",
      "Warn: Ipython shell catchs sys.args\n",
      "Warn: Ipython shell catchs sys.args\n",
      "Warn: Ipython shell catchs sys.args\n",
      "Warn: Ipython shell catchs sys.args\n",
      "Warn: Ipython shell catchs sys.args\n",
      "Warn: Ipython shell catchs sys.args\n",
      "Warn: Ipython shell catchs sys.args\n",
      "Warn: Ipython shell catchs sys.args\n",
      "Warn: Ipython shell catchs sys.args\n",
      "Warn: Ipython shell catchs sys.args\n",
      "Warn: Ipython shell catchs sys.args\n",
      "Warn: Ipython shell catchs sys.args\n",
      "Warn: Ipython shell catchs sys.args\n",
      "Warn: Ipython shell catchs sys.args\n",
      "Warn: Ipython shell catchs sys.args\n",
      "Warn: Ipython shell catchs sys.args\n",
      "Warn: Ipython shell catchs sys.args\n",
      "Warn: Ipython shell catchs sys.args\n",
      "Warn: Ipython shell catchs sys.args\n",
      "Warn: Ipython shell catchs sys.args\n",
      "Warn: Ipython shell catchs sys.args\n",
      "Warn: Ipython shell catchs sys.args\n",
      "Warn: Ipython shell catchs sys.args\n",
      "Warn: Ipython shell catchs sys.args\n",
      "Warn: Ipython shell catchs sys.args\n",
      "Warn: Ipython shell catchs sys.args\n",
      "Warn: Ipython shell catchs sys.args\n",
      "Warn: Ipython shell catchs sys.args\n",
      "Warn: Ipython shell catchs sys.args\n",
      "Warn: Ipython shell catchs sys.args\n",
      "Warn: Ipython shell catchs sys.args\n",
      "Warn: Ipython shell catchs sys.args\n",
      "Warn: Ipython shell catchs sys.args\n",
      "Warn: Ipython shell catchs sys.args\n",
      "Warn: Ipython shell catchs sys.args\n",
      "Warn: Ipython shell catchs sys.args\n",
      "Warn: Ipython shell catchs sys.args\n",
      "Warn: Ipython shell catchs sys.args\n",
      "Warn: Ipython shell catchs sys.args\n",
      "Warn: Ipython shell catchs sys.args\n",
      "Warn: Ipython shell catchs sys.args\n",
      "Warn: Ipython shell catchs sys.args\n",
      "Warn: Ipython shell catchs sys.args\n",
      "Warn: Ipython shell catchs sys.args\n",
      "Warn: Ipython shell catchs sys.args\n",
      "Warn: Ipython shell catchs sys.args\n",
      "Warn: Ipython shell catchs sys.args\n",
      "Warn: Ipython shell catchs sys.args\n",
      "Warn: Ipython shell catchs sys.args\n",
      "Warn: Ipython shell catchs sys.args\n",
      "Warn: Ipython shell catchs sys.args\n",
      "Warn: Ipython shell catchs sys.args\n",
      "Warn: Ipython shell catchs sys.args\n",
      "Warn: Ipython shell catchs sys.args\n",
      "Warn: Ipython shell catchs sys.args\n",
      "Warn: Ipython shell catchs sys.args\n",
      "Warn: Ipython shell catchs sys.args\n",
      "Warn: Ipython shell catchs sys.args\n",
      "Warn: Ipython shell catchs sys.args\n",
      "Warn: Ipython shell catchs sys.args\n",
      "Warn: Ipython shell catchs sys.args\n",
      "Warn: Ipython shell catchs sys.args\n",
      "Warn: Ipython shell catchs sys.args\n",
      "Warn: Ipython shell catchs sys.args\n",
      "Warn: Ipython shell catchs sys.args\n",
      "Warn: Ipython shell catchs sys.args\n",
      "Warn: Ipython shell catchs sys.args\n",
      "Warn: Ipython shell catchs sys.args\n",
      "Warn: Ipython shell catchs sys.args\n",
      "Warn: Ipython shell catchs sys.args\n",
      "Warn: Ipython shell catchs sys.args\n",
      "Warn: Ipython shell catchs sys.args\n",
      "Warn: Ipython shell catchs sys.args\n",
      "Warn: Ipython shell catchs sys.args\n",
      "Warn: Ipython shell catchs sys.args\n",
      "Warn: Ipython shell catchs sys.args\n",
      "Warn: Ipython shell catchs sys.args\n",
      "Warn: Ipython shell catchs sys.args\n",
      "Warn: Ipython shell catchs sys.args\n"
     ]
    },
    {
     "name": "stdout",
     "output_type": "stream",
     "text": [
      "[ ] 2018-05-13 20:50:24: Iteration calculation: 0\n"
     ]
    },
    {
     "name": "stderr",
     "output_type": "stream",
     "text": [
      "Warn: Ipython shell catchs sys.args\n"
     ]
    },
    {
     "name": "stdout",
     "output_type": "stream",
     "text": [
      "[ ] 2018-05-13 20:50:24: Iteration calculation: 1\n",
      "[ ] 2018-05-13 20:50:24: Iteration calculation: 2\n"
     ]
    },
    {
     "name": "stderr",
     "output_type": "stream",
     "text": [
      "Warn: Ipython shell catchs sys.args\n",
      "Warn: Ipython shell catchs sys.args\n"
     ]
    },
    {
     "name": "stdout",
     "output_type": "stream",
     "text": [
      "[ ] 2018-05-13 20:50:25: Iteration calculation: 3\n",
      "[ ] 2018-05-13 20:50:25: Iteration calculation: 4\n"
     ]
    },
    {
     "name": "stderr",
     "output_type": "stream",
     "text": [
      "Warn: Ipython shell catchs sys.args\n",
      "Warn: Ipython shell catchs sys.args\n"
     ]
    },
    {
     "name": "stdout",
     "output_type": "stream",
     "text": [
      "[ ] 2018-05-13 20:50:25: Iteration calculation: 5\n",
      "[ ] 2018-05-13 20:50:25: Iteration calculation: 6\n"
     ]
    },
    {
     "name": "stderr",
     "output_type": "stream",
     "text": [
      "Warn: Ipython shell catchs sys.args\n",
      "Warn: Ipython shell catchs sys.args\n"
     ]
    },
    {
     "name": "stdout",
     "output_type": "stream",
     "text": [
      "[ ] 2018-05-13 20:50:25: Iteration calculation: 7\n",
      "[ ] 2018-05-13 20:50:25: Iteration calculation: 8\n"
     ]
    },
    {
     "name": "stderr",
     "output_type": "stream",
     "text": [
      "Warn: Ipython shell catchs sys.args\n",
      "Warn: Ipython shell catchs sys.args\n"
     ]
    },
    {
     "name": "stdout",
     "output_type": "stream",
     "text": [
      "[ ] 2018-05-13 20:50:25: Iteration calculation: 9\n",
      "[ ] 2018-05-13 20:50:26: Iteration calculation: 10\n"
     ]
    },
    {
     "name": "stderr",
     "output_type": "stream",
     "text": [
      "Warn: Ipython shell catchs sys.args\n",
      "Warn: Ipython shell catchs sys.args\n"
     ]
    },
    {
     "name": "stdout",
     "output_type": "stream",
     "text": [
      "[ ] 2018-05-13 20:50:26: Iteration calculation: 11\n",
      "[ ] 2018-05-13 20:50:26: Iteration calculation: 12\n"
     ]
    },
    {
     "name": "stderr",
     "output_type": "stream",
     "text": [
      "Warn: Ipython shell catchs sys.args\n",
      "Warn: Ipython shell catchs sys.args\n"
     ]
    },
    {
     "name": "stdout",
     "output_type": "stream",
     "text": [
      "[ ] 2018-05-13 20:50:26: Iteration calculation: 13\n",
      "[ ] 2018-05-13 20:50:26: Iteration calculation: 14\n"
     ]
    },
    {
     "name": "stderr",
     "output_type": "stream",
     "text": [
      "Warn: Ipython shell catchs sys.args\n",
      "Warn: Ipython shell catchs sys.args\n"
     ]
    },
    {
     "name": "stdout",
     "output_type": "stream",
     "text": [
      "[ ] 2018-05-13 20:50:26: Iteration calculation: 15\n",
      "[ ] 2018-05-13 20:50:26: Iteration calculation: 16\n"
     ]
    },
    {
     "name": "stderr",
     "output_type": "stream",
     "text": [
      "Warn: Ipython shell catchs sys.args\n",
      "Warn: Ipython shell catchs sys.args\n"
     ]
    },
    {
     "name": "stdout",
     "output_type": "stream",
     "text": [
      "[ ] 2018-05-13 20:50:27: Iteration calculation: 17\n",
      "[ ] 2018-05-13 20:50:27: Iteration calculation: 18\n"
     ]
    },
    {
     "name": "stderr",
     "output_type": "stream",
     "text": [
      "Warn: Ipython shell catchs sys.args\n",
      "Warn: Ipython shell catchs sys.args\n"
     ]
    },
    {
     "name": "stdout",
     "output_type": "stream",
     "text": [
      "[ ] 2018-05-13 20:50:27: Iteration calculation: 19\n",
      "[ ] 2018-05-13 20:50:27: Iteration calculation: 20\n"
     ]
    },
    {
     "name": "stderr",
     "output_type": "stream",
     "text": [
      "Warn: Ipython shell catchs sys.args\n",
      "Warn: Ipython shell catchs sys.args\n"
     ]
    },
    {
     "name": "stdout",
     "output_type": "stream",
     "text": [
      "[ ] 2018-05-13 20:50:27: Iteration calculation: 21\n",
      "[ ] 2018-05-13 20:50:27: Iteration calculation: 22\n"
     ]
    },
    {
     "name": "stderr",
     "output_type": "stream",
     "text": [
      "Warn: Ipython shell catchs sys.args\n",
      "Warn: Ipython shell catchs sys.args\n"
     ]
    },
    {
     "name": "stdout",
     "output_type": "stream",
     "text": [
      "[ ] 2018-05-13 20:50:27: Iteration calculation: 23\n",
      "[ ] 2018-05-13 20:50:28: Iteration calculation: 24\n"
     ]
    },
    {
     "name": "stderr",
     "output_type": "stream",
     "text": [
      "Warn: Ipython shell catchs sys.args\n",
      "Warn: Ipython shell catchs sys.args\n"
     ]
    },
    {
     "name": "stdout",
     "output_type": "stream",
     "text": [
      "[ ] 2018-05-13 20:50:28: Iteration calculation: 25\n",
      "[ ] 2018-05-13 20:50:28: Iteration calculation: 26\n"
     ]
    },
    {
     "name": "stderr",
     "output_type": "stream",
     "text": [
      "Warn: Ipython shell catchs sys.args\n",
      "Warn: Ipython shell catchs sys.args\n"
     ]
    },
    {
     "name": "stdout",
     "output_type": "stream",
     "text": [
      "[ ] 2018-05-13 20:50:28: Iteration calculation: 27\n",
      "[ ] 2018-05-13 20:50:28: Iteration calculation: 28\n"
     ]
    },
    {
     "name": "stderr",
     "output_type": "stream",
     "text": [
      "Warn: Ipython shell catchs sys.args\n",
      "Warn: Ipython shell catchs sys.args\n"
     ]
    },
    {
     "name": "stdout",
     "output_type": "stream",
     "text": [
      "[ ] 2018-05-13 20:50:28: Iteration calculation: 29\n",
      "[ ] 2018-05-13 20:50:28: Iteration calculation: 30\n"
     ]
    },
    {
     "name": "stderr",
     "output_type": "stream",
     "text": [
      "Warn: Ipython shell catchs sys.args\n",
      "Warn: Ipython shell catchs sys.args\n"
     ]
    },
    {
     "name": "stdout",
     "output_type": "stream",
     "text": [
      "[ ] 2018-05-13 20:50:29: Iteration calculation: 31\n",
      "[ ] 2018-05-13 20:50:29: Iteration calculation: 32\n"
     ]
    },
    {
     "name": "stderr",
     "output_type": "stream",
     "text": [
      "Warn: Ipython shell catchs sys.args\n",
      "Warn: Ipython shell catchs sys.args\n"
     ]
    },
    {
     "name": "stdout",
     "output_type": "stream",
     "text": [
      "[ ] 2018-05-13 20:50:29: Iteration calculation: 33\n",
      "[ ] 2018-05-13 20:50:29: Iteration calculation: 34\n"
     ]
    },
    {
     "name": "stderr",
     "output_type": "stream",
     "text": [
      "Warn: Ipython shell catchs sys.args\n",
      "Warn: Ipython shell catchs sys.args\n"
     ]
    },
    {
     "name": "stdout",
     "output_type": "stream",
     "text": [
      "[ ] 2018-05-13 20:50:29: Iteration calculation: 35\n",
      "[ ] 2018-05-13 20:50:29: Iteration calculation: 36\n"
     ]
    },
    {
     "name": "stderr",
     "output_type": "stream",
     "text": [
      "Warn: Ipython shell catchs sys.args\n",
      "Warn: Ipython shell catchs sys.args\n"
     ]
    },
    {
     "name": "stdout",
     "output_type": "stream",
     "text": [
      "[ ] 2018-05-13 20:50:29: Iteration calculation: 37\n",
      "[ ] 2018-05-13 20:50:30: Iteration calculation: 38\n"
     ]
    },
    {
     "name": "stderr",
     "output_type": "stream",
     "text": [
      "Warn: Ipython shell catchs sys.args\n",
      "Warn: Ipython shell catchs sys.args\n"
     ]
    },
    {
     "name": "stdout",
     "output_type": "stream",
     "text": [
      "[ ] 2018-05-13 20:50:30: Iteration calculation: 39\n",
      "[ ] 2018-05-13 20:50:30: Iteration calculation: 40\n"
     ]
    },
    {
     "name": "stderr",
     "output_type": "stream",
     "text": [
      "Warn: Ipython shell catchs sys.args\n",
      "Warn: Ipython shell catchs sys.args\n"
     ]
    },
    {
     "name": "stdout",
     "output_type": "stream",
     "text": [
      "[ ] 2018-05-13 20:50:30: Iteration calculation: 41\n",
      "[ ] 2018-05-13 20:50:30: Iteration calculation: 42\n"
     ]
    },
    {
     "name": "stderr",
     "output_type": "stream",
     "text": [
      "Warn: Ipython shell catchs sys.args\n",
      "Warn: Ipython shell catchs sys.args\n"
     ]
    },
    {
     "name": "stdout",
     "output_type": "stream",
     "text": [
      "[ ] 2018-05-13 20:50:30: Iteration calculation: 43\n",
      "[ ] 2018-05-13 20:50:30: Iteration calculation: 44\n"
     ]
    },
    {
     "name": "stderr",
     "output_type": "stream",
     "text": [
      "Warn: Ipython shell catchs sys.args\n",
      "Warn: Ipython shell catchs sys.args\n"
     ]
    },
    {
     "name": "stdout",
     "output_type": "stream",
     "text": [
      "[ ] 2018-05-13 20:50:31: Iteration calculation: 45\n",
      "[ ] 2018-05-13 20:50:31: Iteration calculation: 46\n"
     ]
    },
    {
     "name": "stderr",
     "output_type": "stream",
     "text": [
      "Warn: Ipython shell catchs sys.args\n",
      "Warn: Ipython shell catchs sys.args\n"
     ]
    },
    {
     "name": "stdout",
     "output_type": "stream",
     "text": [
      "[ ] 2018-05-13 20:50:31: Iteration calculation: 47\n",
      "[ ] 2018-05-13 20:50:31: Iteration calculation: 48\n"
     ]
    },
    {
     "name": "stderr",
     "output_type": "stream",
     "text": [
      "Warn: Ipython shell catchs sys.args\n",
      "Warn: Ipython shell catchs sys.args\n"
     ]
    },
    {
     "name": "stdout",
     "output_type": "stream",
     "text": [
      "[ ] 2018-05-13 20:50:31: Iteration calculation: 49\n"
     ]
    },
    {
     "name": "stderr",
     "output_type": "stream",
     "text": [
      "Warn: Ipython shell catchs sys.args\n"
     ]
    }
   ],
   "source": [
    "from SCFInitialGuess.utilities.analysis import measure_all_quantities, mf_initializer\n",
    "\n",
    "n_electrons = 30\n",
    "\n",
    "results = measure_all_quantities(\n",
    "    p_f,\n",
    "    dataset,\n",
    "    molecules,\n",
    "    n_electrons,\n",
    "    mf_initializer,\n",
    "    dim,\n",
    "    is_triu=False    \n",
    ")"
   ]
  },
  {
   "cell_type": "code",
   "execution_count": 16,
   "metadata": {},
   "outputs": [
    {
     "name": "stdout",
     "output_type": "stream",
     "text": [
      "--- Absolute Error ---\n",
      "3.18716E-01 +- 5.57252E-03\n",
      "--- Symmetry Error ---\n",
      "1.50243E-18 +- 3.19455E-19\n",
      "--- Idempotence Error ---\n",
      "3.13445E-16 +- 3.78381E-17\n",
      "--- Occupance Error ---\n",
      "6.82121E-15 +- 6.02245E-15\n",
      "--- HF Energy Error ---\n",
      "3.16903E+03 +- 3.77645E+01\n",
      "--- Avg. Iterations ---\n",
      "1.58800E+01 +- 2.49512E+00\n",
      "\n"
     ]
    }
   ],
   "source": [
    "from SCFInitialGuess.utilities.analysis import make_results_str\n",
    "\n",
    "print(make_results_str(results))"
   ]
  },
  {
   "cell_type": "code",
   "execution_count": null,
   "metadata": {},
   "outputs": [],
   "source": []
  }
 ],
 "metadata": {
  "kernelspec": {
   "display_name": "Python 3",
   "language": "python",
   "name": "python3"
  },
  "language_info": {
   "codemirror_mode": {
    "name": "ipython",
    "version": 3
   },
   "file_extension": ".py",
   "mimetype": "text/x-python",
   "name": "python",
   "nbconvert_exporter": "python",
   "pygments_lexer": "ipython3",
   "version": "3.6.4"
  }
 },
 "nbformat": 4,
 "nbformat_minor": 2
}
