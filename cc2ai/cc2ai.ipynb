{
 "cells": [
  {
   "cell_type": "code",
   "execution_count": 21,
   "metadata": {},
   "outputs": [],
   "source": [
    "import numpy as np\n",
    "import matplotlib as mpl\n",
    "import matplotlib.pyplot as plt\n",
    "import tensorflow as tf\n",
    "\n",
    "mpl.style.use(\"seaborn\")"
   ]
  },
  {
   "cell_type": "markdown",
   "metadata": {},
   "source": [
    "# Fetch Data"
   ]
  },
  {
   "cell_type": "code",
   "execution_count": 14,
   "metadata": {},
   "outputs": [
    {
     "name": "stdout",
     "output_type": "stream",
     "text": [
      "[-] 2018-04-23 00:02:19: Data set normalized. Mean value std: 0.006816185644372876\n",
      "[-] 2018-04-23 00:02:19: Data set normalized. Mean value std: 0.015522870399034699\n",
      "[-] 2018-04-23 00:02:19: Data set normalized. Mean value std: 0.026441138734234378\n"
     ]
    }
   ],
   "source": [
    "from SCFInitialGuess.utilities.dataset import make_butadien_dataset, extract_triu\n",
    "\n",
    "dim_ethan = 58\n",
    "dim_ethen = 48\n",
    "dim_ethin = 38\n",
    "\n",
    "def load_triu(S, P, dim):\n",
    "    \n",
    "    return [extract_triu(s, dim) for s in S], [extract_triu(p, dim) for p in P]\n",
    "\n",
    "dataset_ethan, molecules_ethan = make_butadien_dataset(\n",
    "    np.load(\"ethan/molecules_ethan_6-31g**.npy\"),\n",
    "    *load_triu(*np.load(\"ethan/dataset_ethan_6-31g**.npy\"), dim_ethan), \n",
    ")\n",
    "\n",
    "dataset_ethen, molecules_ethen = make_butadien_dataset(\n",
    "    np.load(\"ethen/molecules_ethen_6-31g**.npy\"),\n",
    "    *load_triu(*np.load(\"ethen/dataset_ethen_6-31g**.npy\"), dim_ethen), \n",
    ")\n",
    "\n",
    "dataset_ethin, molecules_ethin = make_butadien_dataset(\n",
    "    np.load(\"ethin/molecules_ethin_6-31g**.npy\"),\n",
    "    *load_triu(*np.load(\"ethin/dataset_ethin_6-31g**.npy\"), dim_ethin), \n",
    ")"
   ]
  },
  {
   "cell_type": "markdown",
   "metadata": {},
   "source": [
    "# Ethan\n",
    "dim = 58 \n",
    "\n",
    "dim^2 = 3364\n",
    "\n",
    "dim_ut = 1711"
   ]
  },
  {
   "cell_type": "code",
   "execution_count": 15,
   "metadata": {},
   "outputs": [],
   "source": [
    "dim_ethan_triu = int(dim_ethan * (dim_ethan + 1) / 2)"
   ]
  },
  {
   "cell_type": "code",
   "execution_count": 27,
   "metadata": {},
   "outputs": [
    {
     "name": "stdout",
     "output_type": "stream",
     "text": [
      "[ ] 2018-04-23 00:32:33: Appending to graph: <tensorflow.python.framework.ops.Graph object at 0x7fd73c199208>\n",
      "[-] 2018-04-23 00:32:33: Setting up the training in the target graph ...\n",
      "[-] 2018-04-23 00:32:33: network ...\n",
      "[-] 2018-04-23 00:32:33: error function ...\n",
      "[-] 2018-04-23 00:32:33: cost function ...\n",
      "[-] 2018-04-23 00:32:33: training step\n",
      "[-] 2018-04-23 00:32:34: Starting network training ...\n",
      "[ ] 2018-04-23 00:32:34: Val. Cost: 2.036E-02. Error: 2.034E-02. Diff: 1.0E+10\n",
      "[ ] 2018-04-23 00:32:41: Val. Cost: 2.084E-04. Error: 1.868E-04. Diff: 2.0E-02\n",
      "[ ] 2018-04-23 00:32:49: Val. Cost: 1.694E-04. Error: 1.484E-04. Diff: 3.8E-05\n",
      "[ ] 2018-04-23 00:32:58: Val. Cost: 1.225E-04. Error: 1.018E-04. Diff: 4.7E-05\n",
      "[ ] 2018-04-23 00:33:07: Val. Cost: 1.515E-04. Error: 1.313E-04. Diff: 2.9E-05\n",
      "[ ] 2018-04-23 00:33:15: Val. Cost: 1.434E-04. Error: 1.239E-04. Diff: 7.3E-06\n",
      "[ ] 2018-04-23 00:33:23: Val. Cost: 2.202E-04. Error: 2.016E-04. Diff: 7.8E-05\n",
      "[ ] 2018-04-23 00:33:32: Val. Cost: 1.772E-04. Error: 1.595E-04. Diff: 4.2E-05\n",
      "[ ] 2018-04-23 00:33:39: Val. Cost: 1.098E-04. Error: 9.305E-05. Diff: 6.6E-05\n",
      "[ ] 2018-04-23 00:33:45: Val. Cost: 1.263E-04. Error: 1.105E-04. Diff: 1.7E-05\n",
      "[ ] 2018-04-23 00:33:52: Val. Cost: 9.583E-05. Error: 8.080E-05. Diff: 3.0E-05\n",
      "[ ] 2018-04-23 00:33:59: Val. Cost: 8.274E-05. Error: 6.837E-05. Diff: 1.2E-05\n",
      "[ ] 2018-04-23 00:34:05: Val. Cost: 5.976E-05. Error: 4.609E-05. Diff: 2.2E-05\n",
      "[ ] 2018-04-23 00:34:12: Val. Cost: 6.536E-05. Error: 5.226E-05. Diff: 6.2E-06\n",
      "[ ] 2018-04-23 00:34:19: Val. Cost: 5.960E-05. Error: 4.708E-05. Diff: 5.2E-06\n",
      "[ ] 2018-04-23 00:34:26: Val. Cost: 3.710E-05. Error: 2.510E-05. Diff: 2.2E-05\n",
      "[ ] 2018-04-23 00:34:33: Val. Cost: 4.747E-05. Error: 3.597E-05. Diff: 1.1E-05\n",
      "[ ] 2018-04-23 00:34:39: Val. Cost: 3.027E-05. Error: 1.926E-05. Diff: 1.7E-05\n",
      "[ ] 2018-04-23 00:34:46: Val. Cost: 4.637E-05. Error: 3.578E-05. Diff: 1.7E-05\n",
      "[ ] 2018-04-23 00:34:53: Val. Cost: 1.981E-05. Error: 9.624E-06. Diff: 2.6E-05\n",
      "[-] 2018-04-23 00:35:00: Convergence reached after 4000 steps.\n",
      "[-] 2018-04-23 00:35:00: Test error: 9.00675E-06\n"
     ]
    }
   ],
   "source": [
    "from SCFInitialGuess.nn.networks import EluTrNNN\n",
    "from SCFInitialGuess.nn.training import Trainer\n",
    "from SCFInitialGuess.nn.cost_functions import RegularizedMSE\n",
    "\n",
    "\n",
    "graph = tf.Graph()\n",
    "\n",
    "trainer = Trainer(\n",
    "    EluTrNNN([dim_ethan_triu, dim_ethan_triu, dim_ethan_triu]),\n",
    "    cost_function=RegularizedMSE(alpha=1e-7),\n",
    "    optimizer=tf.train.AdamOptimizer(learning_rate=1e-3)\n",
    ")\n",
    "\n",
    "trainer.setup(target_graph=graph)\n",
    "network, sess = trainer.train(\n",
    "    dataset_ethan,\n",
    "    convergence_threshold=5e-7\n",
    ")\n",
    "graph = trainer.graph"
   ]
  },
  {
   "cell_type": "code",
   "execution_count": 22,
   "metadata": {},
   "outputs": [
    {
     "data": {
      "image/png": "[encoded data removed]",
      "text/plain": [
       "<matplotlib.figure.Figure at 0x7fd7313f5e10>"
      ]
     },
     "metadata": {},
     "output_type": "display_data"
    }
   ],
   "source": [
    "plt.scatter(\n",
    "    dataset_ethan.testing[1],\n",
    "    network.run(sess, dataset_ethan.testing[0])\n",
    ")\n",
    "plt.show()"
   ]
  },
  {
   "cell_type": "code",
   "execution_count": null,
   "metadata": {},
   "outputs": [],
   "source": []
  }
 ],
 "metadata": {
  "kernelspec": {
   "display_name": "Python 3",
   "language": "python",
   "name": "python3"
  },
  "language_info": {
   "codemirror_mode": {
    "name": "ipython",
    "version": 3
   },
   "file_extension": ".py",
   "mimetype": "text/x-python",
   "name": "python",
   "nbconvert_exporter": "python",
   "pygments_lexer": "ipython3",
   "version": "3.6.4"
  }
 },
 "nbformat": 4,
 "nbformat_minor": 2
}
