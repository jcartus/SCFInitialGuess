{
 "cells": [
  {
   "cell_type": "code",
   "execution_count": 1,
   "metadata": {},
   "outputs": [],
   "source": [
    "import numpy as np\n",
    "import matplotlib as mpl\n",
    "import matplotlib.pyplot as plt\n",
    "import tensorflow as tf\n",
    "\n",
    "mpl.style.use(\"seaborn\")"
   ]
  },
  {
   "cell_type": "markdown",
   "metadata": {},
   "source": [
    "# Fetch Data"
   ]
  },
  {
   "cell_type": "code",
   "execution_count": 2,
   "metadata": {},
   "outputs": [],
   "source": [
    "#dim ethin\n",
    "dim = 38\n",
    "\n",
    "n_electrons = 14"
   ]
  },
  {
   "cell_type": "code",
   "execution_count": 3,
   "metadata": {},
   "outputs": [
    {
     "name": "stdout",
     "output_type": "stream",
     "text": [
      "[-] 2018-05-01 12:49:51: Data set normalized. Mean value std: 0.02655487899377967\n"
     ]
    }
   ],
   "source": [
    "from SCFInitialGuess.utilities.dataset import make_butadien_dataset, extract_triu\n",
    "\n",
    "def load_triu(S, P, dim):\n",
    "    \n",
    "    return [extract_triu(s, dim) for s in S], [extract_triu(p, dim) for p in P]\n",
    "\n",
    "dataset, molecules = make_butadien_dataset(\n",
    "    np.load(\"molecules_ethin_6-31g**.npy\"),\n",
    "    *load_triu(*np.load(\"dataset_ethin_6-31g**.npy\"), dim), \n",
    ")"
   ]
  },
  {
   "cell_type": "markdown",
   "metadata": {},
   "source": [
    "# Ethin\n",
    "dim = 38\n",
    "\n",
    "dim^2 = 2304\n",
    "\n",
    "dim_ut = 1176"
   ]
  },
  {
   "cell_type": "code",
   "execution_count": 4,
   "metadata": {},
   "outputs": [],
   "source": [
    "dim_triu = int(dim * (dim + 1) / 2)"
   ]
  },
  {
   "cell_type": "code",
   "execution_count": 12,
   "metadata": {},
   "outputs": [],
   "source": [
    "from SCFInitialGuess.nn.networks import EluFixedValue\n",
    "\n",
    "graph = tf.Graph()\n",
    "\n",
    "structure, weights, biases = np.load(\"network_ethin.npy\", encoding=\"latin1\")\n",
    "\n",
    "with graph.as_default():\n",
    "    sess = tf.Session()\n",
    "    network = EluFixedValue(structure, weights, biases)\n",
    "    network.setup()\n",
    "    sess.run(tf.global_variables_initializer())"
   ]
  },
  {
   "cell_type": "code",
   "execution_count": 13,
   "metadata": {},
   "outputs": [],
   "source": [
    "p = network.run(sess, dataset.testing[0])"
   ]
  },
  {
   "cell_type": "code",
   "execution_count": 14,
   "metadata": {},
   "outputs": [
    {
     "data": {
      "image/png": "[encoded data removed]",
      "text/plain": [
       "<matplotlib.figure.Figure at 0x7facde6b3518>"
      ]
     },
     "metadata": {},
     "output_type": "display_data"
    }
   ],
   "source": [
    "plt.scatter(\n",
    "    dataset.testing[1],\n",
    "    p\n",
    ")\n",
    "plt.show()"
   ]
  },
  {
   "cell_type": "code",
   "execution_count": 15,
   "metadata": {},
   "outputs": [
    {
     "name": "stderr",
     "output_type": "stream",
     "text": [
      "/home/jo/anaconda3/lib/python3.6/importlib/_bootstrap.py:219: RuntimeWarning: numpy.dtype size changed, may indicate binary incompatibility. Expected 96, got 88\n",
      "  return f(*args, **kwds)\n",
      "/home/jo/anaconda3/lib/python3.6/importlib/_bootstrap.py:219: RuntimeWarning: numpy.dtype size changed, may indicate binary incompatibility. Expected 96, got 88\n",
      "  return f(*args, **kwds)\n"
     ]
    },
    {
     "name": "stdout",
     "output_type": "stream",
     "text": [
      "[ ] 2018-05-01 12:59:50: Iteration calculation: 0\n"
     ]
    },
    {
     "name": "stderr",
     "output_type": "stream",
     "text": [
      "Warn: Ipython shell catchs sys.args\n"
     ]
    },
    {
     "name": "stdout",
     "output_type": "stream",
     "text": [
      "[ ] 2018-05-01 12:59:50: Iteration calculation: 1\n",
      "[ ] 2018-05-01 12:59:51: Iteration calculation: 2\n"
     ]
    },
    {
     "name": "stderr",
     "output_type": "stream",
     "text": [
      "Warn: Ipython shell catchs sys.args\n",
      "Warn: Ipython shell catchs sys.args\n"
     ]
    },
    {
     "name": "stdout",
     "output_type": "stream",
     "text": [
      "[ ] 2018-05-01 12:59:51: Iteration calculation: 3\n"
     ]
    },
    {
     "name": "stderr",
     "output_type": "stream",
     "text": [
      "Warn: Ipython shell catchs sys.args\n"
     ]
    },
    {
     "name": "stdout",
     "output_type": "stream",
     "text": [
      "[ ] 2018-05-01 12:59:51: Iteration calculation: 4\n"
     ]
    },
    {
     "name": "stderr",
     "output_type": "stream",
     "text": [
      "Warn: Ipython shell catchs sys.args\n"
     ]
    },
    {
     "name": "stdout",
     "output_type": "stream",
     "text": [
      "[ ] 2018-05-01 12:59:52: Iteration calculation: 5\n",
      "[ ] 2018-05-01 12:59:52: Iteration calculation: 6\n"
     ]
    },
    {
     "name": "stderr",
     "output_type": "stream",
     "text": [
      "Warn: Ipython shell catchs sys.args\n",
      "Warn: Ipython shell catchs sys.args\n"
     ]
    },
    {
     "name": "stdout",
     "output_type": "stream",
     "text": [
      "[ ] 2018-05-01 12:59:52: Iteration calculation: 7\n"
     ]
    },
    {
     "name": "stderr",
     "output_type": "stream",
     "text": [
      "Warn: Ipython shell catchs sys.args\n"
     ]
    },
    {
     "name": "stdout",
     "output_type": "stream",
     "text": [
      "[ ] 2018-05-01 12:59:53: Iteration calculation: 8\n"
     ]
    },
    {
     "name": "stderr",
     "output_type": "stream",
     "text": [
      "Warn: Ipython shell catchs sys.args\n"
     ]
    },
    {
     "name": "stdout",
     "output_type": "stream",
     "text": [
      "[ ] 2018-05-01 12:59:53: Iteration calculation: 9\n"
     ]
    },
    {
     "name": "stderr",
     "output_type": "stream",
     "text": [
      "Warn: Ipython shell catchs sys.args\n"
     ]
    },
    {
     "name": "stdout",
     "output_type": "stream",
     "text": [
      "[ ] 2018-05-01 12:59:54: Iteration calculation: 10\n"
     ]
    },
    {
     "name": "stderr",
     "output_type": "stream",
     "text": [
      "Warn: Ipython shell catchs sys.args\n"
     ]
    },
    {
     "name": "stdout",
     "output_type": "stream",
     "text": [
      "[ ] 2018-05-01 12:59:54: Iteration calculation: 11\n"
     ]
    },
    {
     "name": "stderr",
     "output_type": "stream",
     "text": [
      "Warn: Ipython shell catchs sys.args\n"
     ]
    },
    {
     "name": "stdout",
     "output_type": "stream",
     "text": [
      "[ ] 2018-05-01 12:59:54: Iteration calculation: 12\n"
     ]
    },
    {
     "name": "stderr",
     "output_type": "stream",
     "text": [
      "Warn: Ipython shell catchs sys.args\n"
     ]
    },
    {
     "name": "stdout",
     "output_type": "stream",
     "text": [
      "[ ] 2018-05-01 12:59:55: Iteration calculation: 13\n"
     ]
    },
    {
     "name": "stderr",
     "output_type": "stream",
     "text": [
      "Warn: Ipython shell catchs sys.args\n"
     ]
    },
    {
     "name": "stdout",
     "output_type": "stream",
     "text": [
      "[ ] 2018-05-01 12:59:55: Iteration calculation: 14\n"
     ]
    },
    {
     "name": "stderr",
     "output_type": "stream",
     "text": [
      "Warn: Ipython shell catchs sys.args\n"
     ]
    },
    {
     "name": "stdout",
     "output_type": "stream",
     "text": [
      "[ ] 2018-05-01 12:59:55: Iteration calculation: 15\n"
     ]
    },
    {
     "name": "stderr",
     "output_type": "stream",
     "text": [
      "Warn: Ipython shell catchs sys.args\n"
     ]
    },
    {
     "name": "stdout",
     "output_type": "stream",
     "text": [
      "[ ] 2018-05-01 12:59:56: Iteration calculation: 16\n"
     ]
    },
    {
     "name": "stderr",
     "output_type": "stream",
     "text": [
      "Warn: Ipython shell catchs sys.args\n"
     ]
    },
    {
     "name": "stdout",
     "output_type": "stream",
     "text": [
      "[ ] 2018-05-01 12:59:56: Iteration calculation: 17\n"
     ]
    },
    {
     "name": "stderr",
     "output_type": "stream",
     "text": [
      "Warn: Ipython shell catchs sys.args\n"
     ]
    },
    {
     "name": "stdout",
     "output_type": "stream",
     "text": [
      "[ ] 2018-05-01 12:59:56: Iteration calculation: 18\n"
     ]
    },
    {
     "name": "stderr",
     "output_type": "stream",
     "text": [
      "Warn: Ipython shell catchs sys.args\n"
     ]
    },
    {
     "name": "stdout",
     "output_type": "stream",
     "text": [
      "[ ] 2018-05-01 12:59:57: Iteration calculation: 19\n"
     ]
    },
    {
     "name": "stderr",
     "output_type": "stream",
     "text": [
      "Warn: Ipython shell catchs sys.args\n"
     ]
    },
    {
     "name": "stdout",
     "output_type": "stream",
     "text": [
      "[ ] 2018-05-01 12:59:57: Iteration calculation: 20\n"
     ]
    },
    {
     "name": "stderr",
     "output_type": "stream",
     "text": [
      "Warn: Ipython shell catchs sys.args\n"
     ]
    },
    {
     "name": "stdout",
     "output_type": "stream",
     "text": [
      "[ ] 2018-05-01 12:59:57: Iteration calculation: 21\n"
     ]
    },
    {
     "name": "stderr",
     "output_type": "stream",
     "text": [
      "Warn: Ipython shell catchs sys.args\n"
     ]
    },
    {
     "name": "stdout",
     "output_type": "stream",
     "text": [
      "[ ] 2018-05-01 12:59:58: Iteration calculation: 22\n"
     ]
    },
    {
     "name": "stderr",
     "output_type": "stream",
     "text": [
      "Warn: Ipython shell catchs sys.args\n"
     ]
    },
    {
     "name": "stdout",
     "output_type": "stream",
     "text": [
      "[ ] 2018-05-01 12:59:58: Iteration calculation: 23\n"
     ]
    },
    {
     "name": "stderr",
     "output_type": "stream",
     "text": [
      "Warn: Ipython shell catchs sys.args\n"
     ]
    },
    {
     "name": "stdout",
     "output_type": "stream",
     "text": [
      "[ ] 2018-05-01 12:59:58: Iteration calculation: 24\n",
      "[ ] 2018-05-01 12:59:58: Iteration calculation: 25\n"
     ]
    },
    {
     "name": "stderr",
     "output_type": "stream",
     "text": [
      "Warn: Ipython shell catchs sys.args\n",
      "Warn: Ipython shell catchs sys.args\n"
     ]
    },
    {
     "name": "stdout",
     "output_type": "stream",
     "text": [
      "[ ] 2018-05-01 12:59:59: Iteration calculation: 26\n"
     ]
    },
    {
     "name": "stderr",
     "output_type": "stream",
     "text": [
      "Warn: Ipython shell catchs sys.args\n"
     ]
    },
    {
     "name": "stdout",
     "output_type": "stream",
     "text": [
      "[ ] 2018-05-01 12:59:59: Iteration calculation: 27\n"
     ]
    },
    {
     "name": "stderr",
     "output_type": "stream",
     "text": [
      "Warn: Ipython shell catchs sys.args\n"
     ]
    },
    {
     "name": "stdout",
     "output_type": "stream",
     "text": [
      "[ ] 2018-05-01 12:59:59: Iteration calculation: 28\n"
     ]
    },
    {
     "name": "stderr",
     "output_type": "stream",
     "text": [
      "Warn: Ipython shell catchs sys.args\n"
     ]
    },
    {
     "name": "stdout",
     "output_type": "stream",
     "text": [
      "[ ] 2018-05-01 12:59:59: Iteration calculation: 29\n"
     ]
    },
    {
     "name": "stderr",
     "output_type": "stream",
     "text": [
      "Warn: Ipython shell catchs sys.args\n"
     ]
    },
    {
     "name": "stdout",
     "output_type": "stream",
     "text": [
      "[ ] 2018-05-01 13:00:00: Iteration calculation: 30\n"
     ]
    },
    {
     "name": "stderr",
     "output_type": "stream",
     "text": [
      "Warn: Ipython shell catchs sys.args\n"
     ]
    },
    {
     "name": "stdout",
     "output_type": "stream",
     "text": [
      "[ ] 2018-05-01 13:00:00: Iteration calculation: 31\n"
     ]
    },
    {
     "name": "stderr",
     "output_type": "stream",
     "text": [
      "Warn: Ipython shell catchs sys.args\n"
     ]
    },
    {
     "name": "stdout",
     "output_type": "stream",
     "text": [
      "[ ] 2018-05-01 13:00:00: Iteration calculation: 32\n"
     ]
    },
    {
     "name": "stderr",
     "output_type": "stream",
     "text": [
      "Warn: Ipython shell catchs sys.args\n"
     ]
    },
    {
     "name": "stdout",
     "output_type": "stream",
     "text": [
      "[ ] 2018-05-01 13:00:00: Iteration calculation: 33\n"
     ]
    },
    {
     "name": "stderr",
     "output_type": "stream",
     "text": [
      "Warn: Ipython shell catchs sys.args\n"
     ]
    },
    {
     "name": "stdout",
     "output_type": "stream",
     "text": [
      "[ ] 2018-05-01 13:00:01: Iteration calculation: 34\n"
     ]
    },
    {
     "name": "stderr",
     "output_type": "stream",
     "text": [
      "Warn: Ipython shell catchs sys.args\n"
     ]
    },
    {
     "name": "stdout",
     "output_type": "stream",
     "text": [
      "[ ] 2018-05-01 13:00:01: Iteration calculation: 35\n"
     ]
    },
    {
     "name": "stderr",
     "output_type": "stream",
     "text": [
      "Warn: Ipython shell catchs sys.args\n"
     ]
    },
    {
     "name": "stdout",
     "output_type": "stream",
     "text": [
      "[ ] 2018-05-01 13:00:01: Iteration calculation: 36\n"
     ]
    },
    {
     "name": "stderr",
     "output_type": "stream",
     "text": [
      "Warn: Ipython shell catchs sys.args\n"
     ]
    },
    {
     "name": "stdout",
     "output_type": "stream",
     "text": [
      "[ ] 2018-05-01 13:00:02: Iteration calculation: 37\n"
     ]
    },
    {
     "name": "stderr",
     "output_type": "stream",
     "text": [
      "Warn: Ipython shell catchs sys.args\n"
     ]
    },
    {
     "name": "stdout",
     "output_type": "stream",
     "text": [
      "[ ] 2018-05-01 13:00:02: Iteration calculation: 38\n"
     ]
    },
    {
     "name": "stderr",
     "output_type": "stream",
     "text": [
      "Warn: Ipython shell catchs sys.args\n"
     ]
    },
    {
     "name": "stdout",
     "output_type": "stream",
     "text": [
      "[ ] 2018-05-01 13:00:02: Iteration calculation: 39\n",
      "[ ] 2018-05-01 13:00:02: Iteration calculation: 40\n"
     ]
    },
    {
     "name": "stderr",
     "output_type": "stream",
     "text": [
      "Warn: Ipython shell catchs sys.args\n",
      "Warn: Ipython shell catchs sys.args\n",
      "Warn: Ipython shell catchs sys.args\n"
     ]
    },
    {
     "name": "stdout",
     "output_type": "stream",
     "text": [
      "[ ] 2018-05-01 13:00:03: Iteration calculation: 41\n"
     ]
    },
    {
     "name": "stderr",
     "output_type": "stream",
     "text": [
      "Warn: Ipython shell catchs sys.args\n"
     ]
    },
    {
     "name": "stdout",
     "output_type": "stream",
     "text": [
      "[ ] 2018-05-01 13:00:03: Iteration calculation: 42\n"
     ]
    },
    {
     "name": "stderr",
     "output_type": "stream",
     "text": [
      "Warn: Ipython shell catchs sys.args\n"
     ]
    },
    {
     "name": "stdout",
     "output_type": "stream",
     "text": [
      "[ ] 2018-05-01 13:00:03: Iteration calculation: 43\n",
      "[ ] 2018-05-01 13:00:04: Iteration calculation: 44\n"
     ]
    },
    {
     "name": "stderr",
     "output_type": "stream",
     "text": [
      "Warn: Ipython shell catchs sys.args\n"
     ]
    },
    {
     "name": "stdout",
     "output_type": "stream",
     "text": [
      "[ ] 2018-05-01 13:00:04: Iteration calculation: 45\n"
     ]
    },
    {
     "name": "stderr",
     "output_type": "stream",
     "text": [
      "Warn: Ipython shell catchs sys.args\n"
     ]
    },
    {
     "name": "stdout",
     "output_type": "stream",
     "text": [
      "[ ] 2018-05-01 13:00:05: Iteration calculation: 46\n",
      "[ ] 2018-05-01 13:00:05: Iteration calculation: 47\n"
     ]
    },
    {
     "name": "stderr",
     "output_type": "stream",
     "text": [
      "Warn: Ipython shell catchs sys.args\n",
      "Warn: Ipython shell catchs sys.args\n"
     ]
    },
    {
     "name": "stdout",
     "output_type": "stream",
     "text": [
      "[ ] 2018-05-01 13:00:06: Iteration calculation: 48\n"
     ]
    },
    {
     "name": "stderr",
     "output_type": "stream",
     "text": [
      "Warn: Ipython shell catchs sys.args\n"
     ]
    },
    {
     "name": "stdout",
     "output_type": "stream",
     "text": [
      "[ ] 2018-05-01 13:00:06: Iteration calculation: 49\n"
     ]
    },
    {
     "name": "stderr",
     "output_type": "stream",
     "text": [
      "Warn: Ipython shell catchs sys.args\n"
     ]
    }
   ],
   "source": [
    "from SCFInitialGuess.utilities.analysis import mf_initializer, measure_all_quantities, make_results_str\n",
    "\n",
    "results = measure_all_quantities(\n",
    "    p,\n",
    "    dataset,\n",
    "    molecules[1],\n",
    "    n_electrons,\n",
    "    mf_initializer,\n",
    "    dim,\n",
    "    True\n",
    ")"
   ]
  },
  {
   "cell_type": "code",
   "execution_count": 16,
   "metadata": {},
   "outputs": [
    {
     "name": "stdout",
     "output_type": "stream",
     "text": [
      "--- Absolute Error ---\n",
      "2.02470E-03 +- 3.40389E-04\n",
      "--- Symmetry Error ---\n",
      "0.00000E+00 +- 0.00000E+00\n",
      "--- Idempotence Error ---\n",
      "2.88336E-03 +- 3.81973E-04\n",
      "--- Occupance Error ---\n",
      "6.81431E-02 +- 4.76646E-02\n",
      "--- Avg. Iterations ---\n",
      "1.89600E+01 +- 6.17077E+00\n",
      "\n"
     ]
    }
   ],
   "source": [
    "print(make_results_str(list(map(lambda x: [x], results))))"
   ]
  },
  {
   "cell_type": "markdown",
   "metadata": {},
   "source": [
    "## McWheeny that shit"
   ]
  },
  {
   "cell_type": "code",
   "execution_count": 17,
   "metadata": {},
   "outputs": [],
   "source": [
    "def mc_wheeny_purification(p,s):\n",
    "    return (3 * np.dot(np.dot(p, s), p) - np.dot(np.dot(np.dot(np.dot(p, s), p), s), p)) / 2\n",
    "\n",
    "def multi_mc_wheeny(p, s, n_max=4):\n",
    "    for i in range(n_max):\n",
    "        p = mc_wheeny_purification(p, s)\n",
    "    return p"
   ]
  },
  {
   "cell_type": "code",
   "execution_count": 18,
   "metadata": {},
   "outputs": [],
   "source": [
    "from SCFInitialGuess.utilities.dataset import make_matrix_batch\n",
    "s_raw = make_matrix_batch(dataset.inverse_input_transform(dataset.testing[0]), dim, True)\n",
    "p_batch = make_matrix_batch(p, dim, True)"
   ]
  },
  {
   "cell_type": "code",
   "execution_count": 19,
   "metadata": {},
   "outputs": [],
   "source": [
    "p_mcw1 = np.array(list(map(lambda x: multi_mc_wheeny(x[0], x[1], n_max=1), zip(p_batch, s_raw))))\n",
    "p_mcw5 = np.array(list(map(lambda x: multi_mc_wheeny(x[0], x[1], n_max=5), zip(p_batch, s_raw))))"
   ]
  },
  {
   "cell_type": "code",
   "execution_count": 20,
   "metadata": {},
   "outputs": [
    {
     "name": "stdout",
     "output_type": "stream",
     "text": [
      "[ ] 2018-05-01 13:00:07: Iteration calculation: 0\n"
     ]
    },
    {
     "name": "stderr",
     "output_type": "stream",
     "text": [
      "Warn: Ipython shell catchs sys.args\n"
     ]
    },
    {
     "name": "stdout",
     "output_type": "stream",
     "text": [
      "[ ] 2018-05-01 13:00:08: Iteration calculation: 1\n"
     ]
    },
    {
     "name": "stderr",
     "output_type": "stream",
     "text": [
      "Warn: Ipython shell catchs sys.args\n"
     ]
    },
    {
     "name": "stdout",
     "output_type": "stream",
     "text": [
      "[ ] 2018-05-01 13:00:08: Iteration calculation: 2\n",
      "[ ] 2018-05-01 13:00:09: Iteration calculation: 3\n"
     ]
    },
    {
     "name": "stderr",
     "output_type": "stream",
     "text": [
      "Warn: Ipython shell catchs sys.args\n",
      "Warn: Ipython shell catchs sys.args\n"
     ]
    },
    {
     "name": "stdout",
     "output_type": "stream",
     "text": [
      "[ ] 2018-05-01 13:00:09: Iteration calculation: 4\n"
     ]
    },
    {
     "name": "stderr",
     "output_type": "stream",
     "text": [
      "Warn: Ipython shell catchs sys.args\n"
     ]
    },
    {
     "name": "stdout",
     "output_type": "stream",
     "text": [
      "[ ] 2018-05-01 13:00:10: Iteration calculation: 5\n"
     ]
    },
    {
     "name": "stderr",
     "output_type": "stream",
     "text": [
      "Warn: Ipython shell catchs sys.args\n"
     ]
    },
    {
     "name": "stdout",
     "output_type": "stream",
     "text": [
      "[ ] 2018-05-01 13:00:10: Iteration calculation: 6\n"
     ]
    },
    {
     "name": "stderr",
     "output_type": "stream",
     "text": [
      "Warn: Ipython shell catchs sys.args\n"
     ]
    },
    {
     "name": "stdout",
     "output_type": "stream",
     "text": [
      "[ ] 2018-05-01 13:00:11: Iteration calculation: 7\n"
     ]
    },
    {
     "name": "stderr",
     "output_type": "stream",
     "text": [
      "Warn: Ipython shell catchs sys.args\n"
     ]
    },
    {
     "name": "stdout",
     "output_type": "stream",
     "text": [
      "[ ] 2018-05-01 13:00:11: Iteration calculation: 8\n",
      "[ ] 2018-05-01 13:00:12: Iteration calculation: 9\n"
     ]
    },
    {
     "name": "stderr",
     "output_type": "stream",
     "text": [
      "Warn: Ipython shell catchs sys.args\n",
      "Warn: Ipython shell catchs sys.args\n"
     ]
    },
    {
     "name": "stdout",
     "output_type": "stream",
     "text": [
      "[ ] 2018-05-01 13:00:12: Iteration calculation: 10\n"
     ]
    },
    {
     "name": "stderr",
     "output_type": "stream",
     "text": [
      "Warn: Ipython shell catchs sys.args\n"
     ]
    },
    {
     "name": "stdout",
     "output_type": "stream",
     "text": [
      "[ ] 2018-05-01 13:00:13: Iteration calculation: 11\n"
     ]
    },
    {
     "name": "stderr",
     "output_type": "stream",
     "text": [
      "Warn: Ipython shell catchs sys.args\n"
     ]
    },
    {
     "name": "stdout",
     "output_type": "stream",
     "text": [
      "[ ] 2018-05-01 13:00:13: Iteration calculation: 12\n",
      "[ ] 2018-05-01 13:00:14: Iteration calculation: 13\n"
     ]
    },
    {
     "name": "stderr",
     "output_type": "stream",
     "text": [
      "Warn: Ipython shell catchs sys.args\n",
      "Warn: Ipython shell catchs sys.args\n"
     ]
    },
    {
     "name": "stdout",
     "output_type": "stream",
     "text": [
      "[ ] 2018-05-01 13:00:14: Iteration calculation: 14\n"
     ]
    },
    {
     "name": "stderr",
     "output_type": "stream",
     "text": [
      "Warn: Ipython shell catchs sys.args\n"
     ]
    },
    {
     "name": "stdout",
     "output_type": "stream",
     "text": [
      "[ ] 2018-05-01 13:00:15: Iteration calculation: 15\n",
      "[ ] 2018-05-01 13:00:15: Iteration calculation: 16\n"
     ]
    },
    {
     "name": "stderr",
     "output_type": "stream",
     "text": [
      "Warn: Ipython shell catchs sys.args\n",
      "Warn: Ipython shell catchs sys.args\n"
     ]
    },
    {
     "name": "stdout",
     "output_type": "stream",
     "text": [
      "[ ] 2018-05-01 13:00:16: Iteration calculation: 17\n"
     ]
    },
    {
     "name": "stderr",
     "output_type": "stream",
     "text": [
      "Warn: Ipython shell catchs sys.args\n"
     ]
    },
    {
     "name": "stdout",
     "output_type": "stream",
     "text": [
      "[ ] 2018-05-01 13:00:16: Iteration calculation: 18\n"
     ]
    },
    {
     "name": "stderr",
     "output_type": "stream",
     "text": [
      "Warn: Ipython shell catchs sys.args\n"
     ]
    },
    {
     "name": "stdout",
     "output_type": "stream",
     "text": [
      "[ ] 2018-05-01 13:00:17: Iteration calculation: 19\n",
      "[ ] 2018-05-01 13:00:17: Iteration calculation: 20\n",
      "[ ] 2018-05-01 13:00:18: Iteration calculation: 21\n"
     ]
    },
    {
     "name": "stderr",
     "output_type": "stream",
     "text": [
      "Warn: Ipython shell catchs sys.args\n",
      "Warn: Ipython shell catchs sys.args\n",
      "Warn: Ipython shell catchs sys.args\n"
     ]
    },
    {
     "name": "stdout",
     "output_type": "stream",
     "text": [
      "[ ] 2018-05-01 13:00:18: Iteration calculation: 22\n"
     ]
    },
    {
     "name": "stderr",
     "output_type": "stream",
     "text": [
      "Warn: Ipython shell catchs sys.args\n"
     ]
    },
    {
     "name": "stdout",
     "output_type": "stream",
     "text": [
      "[ ] 2018-05-01 13:00:19: Iteration calculation: 23\n",
      "[ ] 2018-05-01 13:00:19: Iteration calculation: 24\n"
     ]
    },
    {
     "name": "stderr",
     "output_type": "stream",
     "text": [
      "Warn: Ipython shell catchs sys.args\n",
      "Warn: Ipython shell catchs sys.args\n"
     ]
    },
    {
     "name": "stdout",
     "output_type": "stream",
     "text": [
      "[ ] 2018-05-01 13:00:20: Iteration calculation: 25\n"
     ]
    },
    {
     "name": "stderr",
     "output_type": "stream",
     "text": [
      "Warn: Ipython shell catchs sys.args\n"
     ]
    },
    {
     "name": "stdout",
     "output_type": "stream",
     "text": [
      "[ ] 2018-05-01 13:00:20: Iteration calculation: 26\n"
     ]
    },
    {
     "name": "stderr",
     "output_type": "stream",
     "text": [
      "Warn: Ipython shell catchs sys.args\n"
     ]
    },
    {
     "name": "stdout",
     "output_type": "stream",
     "text": [
      "[ ] 2018-05-01 13:00:20: Iteration calculation: 27\n"
     ]
    },
    {
     "name": "stderr",
     "output_type": "stream",
     "text": [
      "Warn: Ipython shell catchs sys.args\n"
     ]
    },
    {
     "name": "stdout",
     "output_type": "stream",
     "text": [
      "[ ] 2018-05-01 13:00:21: Iteration calculation: 28\n",
      "[ ] 2018-05-01 13:00:21: Iteration calculation: 29\n"
     ]
    },
    {
     "name": "stderr",
     "output_type": "stream",
     "text": [
      "Warn: Ipython shell catchs sys.args\n",
      "Warn: Ipython shell catchs sys.args\n"
     ]
    },
    {
     "name": "stdout",
     "output_type": "stream",
     "text": [
      "[ ] 2018-05-01 13:00:22: Iteration calculation: 30\n",
      "[ ] 2018-05-01 13:00:22: Iteration calculation: 31\n"
     ]
    },
    {
     "name": "stderr",
     "output_type": "stream",
     "text": [
      "Warn: Ipython shell catchs sys.args\n",
      "Warn: Ipython shell catchs sys.args\n"
     ]
    },
    {
     "name": "stdout",
     "output_type": "stream",
     "text": [
      "[ ] 2018-05-01 13:00:23: Iteration calculation: 32\n"
     ]
    },
    {
     "name": "stderr",
     "output_type": "stream",
     "text": [
      "Warn: Ipython shell catchs sys.args\n"
     ]
    },
    {
     "name": "stdout",
     "output_type": "stream",
     "text": [
      "[ ] 2018-05-01 13:00:23: Iteration calculation: 33\n"
     ]
    },
    {
     "name": "stderr",
     "output_type": "stream",
     "text": [
      "Warn: Ipython shell catchs sys.args\n"
     ]
    },
    {
     "name": "stdout",
     "output_type": "stream",
     "text": [
      "[ ] 2018-05-01 13:00:24: Iteration calculation: 34\n",
      "[ ] 2018-05-01 13:00:24: Iteration calculation: 35\n"
     ]
    },
    {
     "name": "stderr",
     "output_type": "stream",
     "text": [
      "Warn: Ipython shell catchs sys.args\n",
      "Warn: Ipython shell catchs sys.args\n"
     ]
    },
    {
     "name": "stdout",
     "output_type": "stream",
     "text": [
      "[ ] 2018-05-01 13:00:25: Iteration calculation: 36\n"
     ]
    },
    {
     "name": "stderr",
     "output_type": "stream",
     "text": [
      "Warn: Ipython shell catchs sys.args\n"
     ]
    },
    {
     "name": "stdout",
     "output_type": "stream",
     "text": [
      "[ ] 2018-05-01 13:00:25: Iteration calculation: 37\n",
      "[ ] 2018-05-01 13:00:25: Iteration calculation: 38\n"
     ]
    },
    {
     "name": "stderr",
     "output_type": "stream",
     "text": [
      "Warn: Ipython shell catchs sys.args\n"
     ]
    },
    {
     "name": "stdout",
     "output_type": "stream",
     "text": [
      "[ ] 2018-05-01 13:00:26: Iteration calculation: 39\n"
     ]
    },
    {
     "name": "stderr",
     "output_type": "stream",
     "text": [
      "Warn: Ipython shell catchs sys.args\n",
      "Warn: Ipython shell catchs sys.args\n"
     ]
    },
    {
     "name": "stdout",
     "output_type": "stream",
     "text": [
      "[ ] 2018-05-01 13:00:26: Iteration calculation: 40\n"
     ]
    },
    {
     "name": "stderr",
     "output_type": "stream",
     "text": [
      "Warn: Ipython shell catchs sys.args\n"
     ]
    },
    {
     "name": "stdout",
     "output_type": "stream",
     "text": [
      "[ ] 2018-05-01 13:00:27: Iteration calculation: 41\n"
     ]
    },
    {
     "name": "stderr",
     "output_type": "stream",
     "text": [
      "Warn: Ipython shell catchs sys.args\n"
     ]
    },
    {
     "name": "stdout",
     "output_type": "stream",
     "text": [
      "[ ] 2018-05-01 13:00:28: Iteration calculation: 42\n"
     ]
    },
    {
     "name": "stderr",
     "output_type": "stream",
     "text": [
      "Warn: Ipython shell catchs sys.args\n"
     ]
    },
    {
     "name": "stdout",
     "output_type": "stream",
     "text": [
      "[ ] 2018-05-01 13:00:28: Iteration calculation: 43\n",
      "[ ] 2018-05-01 13:00:28: Iteration calculation: 44\n"
     ]
    },
    {
     "name": "stderr",
     "output_type": "stream",
     "text": [
      "Warn: Ipython shell catchs sys.args\n",
      "Warn: Ipython shell catchs sys.args\n"
     ]
    },
    {
     "name": "stdout",
     "output_type": "stream",
     "text": [
      "[ ] 2018-05-01 13:00:29: Iteration calculation: 45\n"
     ]
    },
    {
     "name": "stderr",
     "output_type": "stream",
     "text": [
      "Warn: Ipython shell catchs sys.args\n"
     ]
    },
    {
     "name": "stdout",
     "output_type": "stream",
     "text": [
      "[ ] 2018-05-01 13:00:29: Iteration calculation: 46\n"
     ]
    },
    {
     "name": "stderr",
     "output_type": "stream",
     "text": [
      "Warn: Ipython shell catchs sys.args\n"
     ]
    },
    {
     "name": "stdout",
     "output_type": "stream",
     "text": [
      "[ ] 2018-05-01 13:00:30: Iteration calculation: 47\n"
     ]
    },
    {
     "name": "stderr",
     "output_type": "stream",
     "text": [
      "Warn: Ipython shell catchs sys.args\n"
     ]
    },
    {
     "name": "stdout",
     "output_type": "stream",
     "text": [
      "[ ] 2018-05-01 13:00:30: Iteration calculation: 48\n"
     ]
    },
    {
     "name": "stderr",
     "output_type": "stream",
     "text": [
      "Warn: Ipython shell catchs sys.args\n"
     ]
    },
    {
     "name": "stdout",
     "output_type": "stream",
     "text": [
      "[ ] 2018-05-01 13:00:31: Iteration calculation: 49\n"
     ]
    },
    {
     "name": "stderr",
     "output_type": "stream",
     "text": [
      "Warn: Ipython shell catchs sys.args\n"
     ]
    }
   ],
   "source": [
    "results = measure_all_quantities(\n",
    "    list(map(lambda x: extract_triu(x, dim), p_mcw1)),\n",
    "    dataset,\n",
    "    molecules[1],\n",
    "    n_electrons,\n",
    "    mf_initializer,\n",
    "    dim,\n",
    "    True\n",
    ")"
   ]
  },
  {
   "cell_type": "code",
   "execution_count": 21,
   "metadata": {},
   "outputs": [
    {
     "name": "stdout",
     "output_type": "stream",
     "text": [
      "--- Absolute Error ---\n",
      "1.35166E-03 +- 3.22173E-04\n",
      "--- Symmetry Error ---\n",
      "0.00000E+00 +- 0.00000E+00\n",
      "--- Idempotence Error ---\n",
      "7.02395E-05 +- 2.32827E-05\n",
      "--- Occupance Error ---\n",
      "4.32471E-03 +- 2.74508E-03\n",
      "--- Avg. Iterations ---\n",
      "1.88600E+01 +- 6.11232E+00\n",
      "\n"
     ]
    }
   ],
   "source": [
    "print(make_results_str(list(map(lambda x: [x], results))))"
   ]
  },
  {
   "cell_type": "code",
   "execution_count": 22,
   "metadata": {},
   "outputs": [
    {
     "name": "stdout",
     "output_type": "stream",
     "text": [
      "[ ] 2018-05-01 13:00:32: Iteration calculation: 0\n"
     ]
    },
    {
     "name": "stderr",
     "output_type": "stream",
     "text": [
      "Warn: Ipython shell catchs sys.args\n"
     ]
    },
    {
     "name": "stdout",
     "output_type": "stream",
     "text": [
      "[ ] 2018-05-01 13:00:32: Iteration calculation: 1\n"
     ]
    },
    {
     "name": "stderr",
     "output_type": "stream",
     "text": [
      "Warn: Ipython shell catchs sys.args\n"
     ]
    },
    {
     "name": "stdout",
     "output_type": "stream",
     "text": [
      "[ ] 2018-05-01 13:00:33: Iteration calculation: 2\n",
      "[ ] 2018-05-01 13:00:33: Iteration calculation: 3\n"
     ]
    },
    {
     "name": "stderr",
     "output_type": "stream",
     "text": [
      "Warn: Ipython shell catchs sys.args\n",
      "Warn: Ipython shell catchs sys.args\n"
     ]
    },
    {
     "name": "stdout",
     "output_type": "stream",
     "text": [
      "[ ] 2018-05-01 13:00:34: Iteration calculation: 4\n"
     ]
    },
    {
     "name": "stderr",
     "output_type": "stream",
     "text": [
      "Warn: Ipython shell catchs sys.args\n"
     ]
    },
    {
     "name": "stdout",
     "output_type": "stream",
     "text": [
      "[ ] 2018-05-01 13:00:35: Iteration calculation: 5\n"
     ]
    },
    {
     "name": "stderr",
     "output_type": "stream",
     "text": [
      "Warn: Ipython shell catchs sys.args\n"
     ]
    },
    {
     "name": "stdout",
     "output_type": "stream",
     "text": [
      "[ ] 2018-05-01 13:00:35: Iteration calculation: 6\n"
     ]
    },
    {
     "name": "stderr",
     "output_type": "stream",
     "text": [
      "Warn: Ipython shell catchs sys.args\n"
     ]
    },
    {
     "name": "stdout",
     "output_type": "stream",
     "text": [
      "[ ] 2018-05-01 13:00:36: Iteration calculation: 7\n",
      "[ ] 2018-05-01 13:00:36: Iteration calculation: 8\n"
     ]
    },
    {
     "name": "stderr",
     "output_type": "stream",
     "text": [
      "Warn: Ipython shell catchs sys.args\n",
      "Warn: Ipython shell catchs sys.args\n"
     ]
    },
    {
     "name": "stdout",
     "output_type": "stream",
     "text": [
      "[ ] 2018-05-01 13:00:36: Iteration calculation: 9\n"
     ]
    },
    {
     "name": "stderr",
     "output_type": "stream",
     "text": [
      "Warn: Ipython shell catchs sys.args\n"
     ]
    },
    {
     "name": "stdout",
     "output_type": "stream",
     "text": [
      "[ ] 2018-05-01 13:00:37: Iteration calculation: 10\n",
      "[ ] 2018-05-01 13:00:37: Iteration calculation: 11\n"
     ]
    },
    {
     "name": "stderr",
     "output_type": "stream",
     "text": [
      "Warn: Ipython shell catchs sys.args\n",
      "Warn: Ipython shell catchs sys.args\n"
     ]
    },
    {
     "name": "stdout",
     "output_type": "stream",
     "text": [
      "[ ] 2018-05-01 13:00:38: Iteration calculation: 12\n"
     ]
    },
    {
     "name": "stderr",
     "output_type": "stream",
     "text": [
      "Warn: Ipython shell catchs sys.args\n"
     ]
    },
    {
     "name": "stdout",
     "output_type": "stream",
     "text": [
      "[ ] 2018-05-01 13:00:39: Iteration calculation: 13\n",
      "[ ] 2018-05-01 13:00:39: Iteration calculation: 14\n"
     ]
    },
    {
     "name": "stderr",
     "output_type": "stream",
     "text": [
      "Warn: Ipython shell catchs sys.args\n",
      "Warn: Ipython shell catchs sys.args\n"
     ]
    },
    {
     "name": "stdout",
     "output_type": "stream",
     "text": [
      "[ ] 2018-05-01 13:00:39: Iteration calculation: 15\n",
      "[ ] 2018-05-01 13:00:40: Iteration calculation: 16\n"
     ]
    },
    {
     "name": "stderr",
     "output_type": "stream",
     "text": [
      "Warn: Ipython shell catchs sys.args\n",
      "Warn: Ipython shell catchs sys.args\n"
     ]
    },
    {
     "name": "stdout",
     "output_type": "stream",
     "text": [
      "[ ] 2018-05-01 13:00:40: Iteration calculation: 17\n"
     ]
    },
    {
     "name": "stderr",
     "output_type": "stream",
     "text": [
      "Warn: Ipython shell catchs sys.args\n"
     ]
    },
    {
     "name": "stdout",
     "output_type": "stream",
     "text": [
      "[ ] 2018-05-01 13:00:41: Iteration calculation: 18\n",
      "[ ] 2018-05-01 13:00:41: Iteration calculation: 19\n"
     ]
    },
    {
     "name": "stderr",
     "output_type": "stream",
     "text": [
      "Warn: Ipython shell catchs sys.args\n",
      "Warn: Ipython shell catchs sys.args\n"
     ]
    },
    {
     "name": "stdout",
     "output_type": "stream",
     "text": [
      "[ ] 2018-05-01 13:00:41: Iteration calculation: 20\n"
     ]
    },
    {
     "name": "stderr",
     "output_type": "stream",
     "text": [
      "Warn: Ipython shell catchs sys.args\n"
     ]
    },
    {
     "name": "stdout",
     "output_type": "stream",
     "text": [
      "[ ] 2018-05-01 13:00:42: Iteration calculation: 21\n",
      "[ ] 2018-05-01 13:00:42: Iteration calculation: 22\n"
     ]
    },
    {
     "name": "stderr",
     "output_type": "stream",
     "text": [
      "Warn: Ipython shell catchs sys.args\n",
      "Warn: Ipython shell catchs sys.args\n"
     ]
    },
    {
     "name": "stdout",
     "output_type": "stream",
     "text": [
      "[ ] 2018-05-01 13:00:43: Iteration calculation: 23\n",
      "[ ] 2018-05-01 13:00:43: Iteration calculation: 24\n"
     ]
    },
    {
     "name": "stderr",
     "output_type": "stream",
     "text": [
      "Warn: Ipython shell catchs sys.args\n",
      "Warn: Ipython shell catchs sys.args\n"
     ]
    },
    {
     "name": "stdout",
     "output_type": "stream",
     "text": [
      "[ ] 2018-05-01 13:00:44: Iteration calculation: 25\n",
      "[ ] 2018-05-01 13:00:44: Iteration calculation: 26\n"
     ]
    },
    {
     "name": "stderr",
     "output_type": "stream",
     "text": [
      "Warn: Ipython shell catchs sys.args\n",
      "Warn: Ipython shell catchs sys.args\n"
     ]
    },
    {
     "name": "stdout",
     "output_type": "stream",
     "text": [
      "[ ] 2018-05-01 13:00:45: Iteration calculation: 27\n"
     ]
    },
    {
     "name": "stderr",
     "output_type": "stream",
     "text": [
      "Warn: Ipython shell catchs sys.args\n"
     ]
    },
    {
     "name": "stdout",
     "output_type": "stream",
     "text": [
      "[ ] 2018-05-01 13:00:45: Iteration calculation: 28\n",
      "[ ] 2018-05-01 13:00:46: Iteration calculation: 29\n"
     ]
    },
    {
     "name": "stderr",
     "output_type": "stream",
     "text": [
      "Warn: Ipython shell catchs sys.args\n",
      "Warn: Ipython shell catchs sys.args\n"
     ]
    },
    {
     "name": "stdout",
     "output_type": "stream",
     "text": [
      "[ ] 2018-05-01 13:00:46: Iteration calculation: 30\n",
      "[ ] 2018-05-01 13:00:46: Iteration calculation: 31\n"
     ]
    },
    {
     "name": "stderr",
     "output_type": "stream",
     "text": [
      "Warn: Ipython shell catchs sys.args\n",
      "Warn: Ipython shell catchs sys.args\n"
     ]
    },
    {
     "name": "stdout",
     "output_type": "stream",
     "text": [
      "[ ] 2018-05-01 13:00:47: Iteration calculation: 32\n"
     ]
    },
    {
     "name": "stderr",
     "output_type": "stream",
     "text": [
      "Warn: Ipython shell catchs sys.args\n"
     ]
    },
    {
     "name": "stdout",
     "output_type": "stream",
     "text": [
      "[ ] 2018-05-01 13:00:47: Iteration calculation: 33\n"
     ]
    },
    {
     "name": "stderr",
     "output_type": "stream",
     "text": [
      "Warn: Ipython shell catchs sys.args\n"
     ]
    },
    {
     "name": "stdout",
     "output_type": "stream",
     "text": [
      "[ ] 2018-05-01 13:00:48: Iteration calculation: 34\n",
      "[ ] 2018-05-01 13:00:48: Iteration calculation: 35\n"
     ]
    },
    {
     "name": "stderr",
     "output_type": "stream",
     "text": [
      "Warn: Ipython shell catchs sys.args\n",
      "Warn: Ipython shell catchs sys.args\n"
     ]
    },
    {
     "name": "stdout",
     "output_type": "stream",
     "text": [
      "[ ] 2018-05-01 13:00:49: Iteration calculation: 36\n",
      "[ ] 2018-05-01 13:00:49: Iteration calculation: 37\n"
     ]
    },
    {
     "name": "stderr",
     "output_type": "stream",
     "text": [
      "Warn: Ipython shell catchs sys.args\n",
      "Warn: Ipython shell catchs sys.args\n"
     ]
    },
    {
     "name": "stdout",
     "output_type": "stream",
     "text": [
      "[ ] 2018-05-01 13:00:50: Iteration calculation: 38\n"
     ]
    },
    {
     "name": "stderr",
     "output_type": "stream",
     "text": [
      "Warn: Ipython shell catchs sys.args\n"
     ]
    },
    {
     "name": "stdout",
     "output_type": "stream",
     "text": [
      "[ ] 2018-05-01 13:00:50: Iteration calculation: 39\n"
     ]
    },
    {
     "name": "stderr",
     "output_type": "stream",
     "text": [
      "Warn: Ipython shell catchs sys.args\n"
     ]
    },
    {
     "name": "stdout",
     "output_type": "stream",
     "text": [
      "[ ] 2018-05-01 13:00:51: Iteration calculation: 40\n"
     ]
    },
    {
     "name": "stderr",
     "output_type": "stream",
     "text": [
      "Warn: Ipython shell catchs sys.args\n",
      "Warn: Ipython shell catchs sys.args\n"
     ]
    },
    {
     "name": "stdout",
     "output_type": "stream",
     "text": [
      "[ ] 2018-05-01 13:00:51: Iteration calculation: 41\n",
      "[ ] 2018-05-01 13:00:52: Iteration calculation: 42\n",
      "[ ] 2018-05-01 13:00:52: Iteration calculation: 43\n"
     ]
    },
    {
     "name": "stderr",
     "output_type": "stream",
     "text": [
      "Warn: Ipython shell catchs sys.args\n",
      "Warn: Ipython shell catchs sys.args\n"
     ]
    },
    {
     "name": "stdout",
     "output_type": "stream",
     "text": [
      "[ ] 2018-05-01 13:00:52: Iteration calculation: 44\n"
     ]
    },
    {
     "name": "stderr",
     "output_type": "stream",
     "text": [
      "Warn: Ipython shell catchs sys.args\n"
     ]
    },
    {
     "name": "stdout",
     "output_type": "stream",
     "text": [
      "[ ] 2018-05-01 13:00:53: Iteration calculation: 45\n"
     ]
    },
    {
     "name": "stderr",
     "output_type": "stream",
     "text": [
      "Warn: Ipython shell catchs sys.args\n"
     ]
    },
    {
     "name": "stdout",
     "output_type": "stream",
     "text": [
      "[ ] 2018-05-01 13:00:54: Iteration calculation: 46\n",
      "[ ] 2018-05-01 13:00:54: Iteration calculation: 47\n"
     ]
    },
    {
     "name": "stderr",
     "output_type": "stream",
     "text": [
      "Warn: Ipython shell catchs sys.args\n"
     ]
    },
    {
     "name": "stdout",
     "output_type": "stream",
     "text": [
      "[ ] 2018-05-01 13:00:55: Iteration calculation: 48\n"
     ]
    },
    {
     "name": "stderr",
     "output_type": "stream",
     "text": [
      "Warn: Ipython shell catchs sys.args\n",
      "Warn: Ipython shell catchs sys.args\n"
     ]
    },
    {
     "name": "stdout",
     "output_type": "stream",
     "text": [
      "[ ] 2018-05-01 13:00:55: Iteration calculation: 49\n"
     ]
    },
    {
     "name": "stderr",
     "output_type": "stream",
     "text": [
      "Warn: Ipython shell catchs sys.args\n"
     ]
    }
   ],
   "source": [
    "results = measure_all_quantities(\n",
    "    list(map(lambda x: extract_triu(x, dim), p_mcw5)),\n",
    "    dataset,\n",
    "    molecules[1],\n",
    "    n_electrons,\n",
    "    mf_initializer,\n",
    "    dim,\n",
    "    True\n",
    ")"
   ]
  },
  {
   "cell_type": "code",
   "execution_count": 23,
   "metadata": {},
   "outputs": [
    {
     "name": "stdout",
     "output_type": "stream",
     "text": [
      "--- Absolute Error ---\n",
      "1.35086E-03 +- 3.22979E-04\n",
      "--- Symmetry Error ---\n",
      "0.00000E+00 +- 0.00000E+00\n",
      "--- Idempotence Error ---\n",
      "2.75288E-17 +- 3.55260E-18\n",
      "--- Occupance Error ---\n",
      "1.74083E-15 +- 1.44268E-15\n",
      "--- Avg. Iterations ---\n",
      "1.88600E+01 +- 6.11232E+00\n",
      "\n"
     ]
    }
   ],
   "source": [
    "print(make_results_str(list(map(lambda x: [x], results))))"
   ]
  },
  {
   "cell_type": "markdown",
   "metadata": {},
   "source": [
    "## Classical Ethan"
   ]
  },
  {
   "cell_type": "code",
   "execution_count": 24,
   "metadata": {
    "scrolled": true
   },
   "outputs": [
    {
     "name": "stderr",
     "output_type": "stream",
     "text": [
      "Warn: Ipython shell catchs sys.args\n",
      "Warn: Ipython shell catchs sys.args\n",
      "Warn: Ipython shell catchs sys.args\n",
      "Warn: Ipython shell catchs sys.args\n",
      "Warn: Ipython shell catchs sys.args\n",
      "Warn: Ipython shell catchs sys.args\n",
      "Warn: Ipython shell catchs sys.args\n",
      "Warn: Ipython shell catchs sys.args\n",
      "Warn: Ipython shell catchs sys.args\n",
      "Warn: Ipython shell catchs sys.args\n",
      "Warn: Ipython shell catchs sys.args\n",
      "Warn: Ipython shell catchs sys.args\n",
      "Warn: Ipython shell catchs sys.args\n",
      "Warn: Ipython shell catchs sys.args\n",
      "Warn: Ipython shell catchs sys.args\n",
      "Warn: Ipython shell catchs sys.args\n",
      "Warn: Ipython shell catchs sys.args\n",
      "Warn: Ipython shell catchs sys.args\n",
      "Warn: Ipython shell catchs sys.args\n",
      "Warn: Ipython shell catchs sys.args\n",
      "Warn: Ipython shell catchs sys.args\n",
      "Warn: Ipython shell catchs sys.args\n",
      "Warn: Ipython shell catchs sys.args\n",
      "Warn: Ipython shell catchs sys.args\n",
      "Warn: Ipython shell catchs sys.args\n",
      "Warn: Ipython shell catchs sys.args\n",
      "Warn: Ipython shell catchs sys.args\n",
      "Warn: Ipython shell catchs sys.args\n",
      "Warn: Ipython shell catchs sys.args\n",
      "Warn: Ipython shell catchs sys.args\n",
      "Warn: Ipython shell catchs sys.args\n",
      "Warn: Ipython shell catchs sys.args\n",
      "Warn: Ipython shell catchs sys.args\n",
      "Warn: Ipython shell catchs sys.args\n",
      "Warn: Ipython shell catchs sys.args\n",
      "Warn: Ipython shell catchs sys.args\n",
      "Warn: Ipython shell catchs sys.args\n",
      "Warn: Ipython shell catchs sys.args\n",
      "Warn: Ipython shell catchs sys.args\n",
      "Warn: Ipython shell catchs sys.args\n",
      "Warn: Ipython shell catchs sys.args\n",
      "Warn: Ipython shell catchs sys.args\n",
      "Warn: Ipython shell catchs sys.args\n",
      "Warn: Ipython shell catchs sys.args\n",
      "Warn: Ipython shell catchs sys.args\n",
      "Warn: Ipython shell catchs sys.args\n",
      "Warn: Ipython shell catchs sys.args\n",
      "Warn: Ipython shell catchs sys.args\n",
      "Warn: Ipython shell catchs sys.args\n",
      "Warn: Ipython shell catchs sys.args\n",
      "Warn: Ipython shell catchs sys.args\n",
      "Warn: Ipython shell catchs sys.args\n",
      "Warn: Ipython shell catchs sys.args\n",
      "Warn: Ipython shell catchs sys.args\n",
      "Warn: Ipython shell catchs sys.args\n",
      "Warn: Ipython shell catchs sys.args\n",
      "Warn: Ipython shell catchs sys.args\n",
      "Warn: Ipython shell catchs sys.args\n",
      "Warn: Ipython shell catchs sys.args\n",
      "Warn: Ipython shell catchs sys.args\n",
      "Warn: Ipython shell catchs sys.args\n",
      "Warn: Ipython shell catchs sys.args\n",
      "Warn: Ipython shell catchs sys.args\n",
      "Warn: Ipython shell catchs sys.args\n",
      "Warn: Ipython shell catchs sys.args\n",
      "Warn: Ipython shell catchs sys.args\n",
      "Warn: Ipython shell catchs sys.args\n",
      "Warn: Ipython shell catchs sys.args\n",
      "Warn: Ipython shell catchs sys.args\n",
      "Warn: Ipython shell catchs sys.args\n",
      "Warn: Ipython shell catchs sys.args\n",
      "Warn: Ipython shell catchs sys.args\n",
      "Warn: Ipython shell catchs sys.args\n",
      "Warn: Ipython shell catchs sys.args\n",
      "Warn: Ipython shell catchs sys.args\n",
      "Warn: Ipython shell catchs sys.args\n",
      "Warn: Ipython shell catchs sys.args\n",
      "Warn: Ipython shell catchs sys.args\n",
      "Warn: Ipython shell catchs sys.args\n",
      "Warn: Ipython shell catchs sys.args\n",
      "Warn: Ipython shell catchs sys.args\n",
      "Warn: Ipython shell catchs sys.args\n",
      "Warn: Ipython shell catchs sys.args\n",
      "Warn: Ipython shell catchs sys.args\n",
      "Warn: Ipython shell catchs sys.args\n",
      "Warn: Ipython shell catchs sys.args\n",
      "Warn: Ipython shell catchs sys.args\n",
      "Warn: Ipython shell catchs sys.args\n",
      "Warn: Ipython shell catchs sys.args\n",
      "Warn: Ipython shell catchs sys.args\n",
      "Warn: Ipython shell catchs sys.args\n",
      "Warn: Ipython shell catchs sys.args\n",
      "Warn: Ipython shell catchs sys.args\n",
      "Warn: Ipython shell catchs sys.args\n",
      "Warn: Ipython shell catchs sys.args\n",
      "Warn: Ipython shell catchs sys.args\n",
      "Warn: Ipython shell catchs sys.args\n",
      "Warn: Ipython shell catchs sys.args\n",
      "Warn: Ipython shell catchs sys.args\n",
      "Warn: Ipython shell catchs sys.args\n",
      "Warn: Ipython shell catchs sys.args\n",
      "Warn: Ipython shell catchs sys.args\n",
      "Warn: Ipython shell catchs sys.args\n",
      "Warn: Ipython shell catchs sys.args\n",
      "Warn: Ipython shell catchs sys.args\n",
      "Warn: Ipython shell catchs sys.args\n",
      "Warn: Ipython shell catchs sys.args\n",
      "Warn: Ipython shell catchs sys.args\n",
      "Warn: Ipython shell catchs sys.args\n",
      "Warn: Ipython shell catchs sys.args\n",
      "Warn: Ipython shell catchs sys.args\n",
      "Warn: Ipython shell catchs sys.args\n",
      "Warn: Ipython shell catchs sys.args\n",
      "Warn: Ipython shell catchs sys.args\n",
      "Warn: Ipython shell catchs sys.args\n",
      "Warn: Ipython shell catchs sys.args\n",
      "Warn: Ipython shell catchs sys.args\n",
      "Warn: Ipython shell catchs sys.args\n",
      "Warn: Ipython shell catchs sys.args\n",
      "Warn: Ipython shell catchs sys.args\n",
      "Warn: Ipython shell catchs sys.args\n",
      "Warn: Ipython shell catchs sys.args\n",
      "Warn: Ipython shell catchs sys.args\n",
      "Warn: Ipython shell catchs sys.args\n",
      "Warn: Ipython shell catchs sys.args\n",
      "Warn: Ipython shell catchs sys.args\n",
      "Warn: Ipython shell catchs sys.args\n",
      "Warn: Ipython shell catchs sys.args\n",
      "Warn: Ipython shell catchs sys.args\n",
      "Warn: Ipython shell catchs sys.args\n",
      "Warn: Ipython shell catchs sys.args\n",
      "Warn: Ipython shell catchs sys.args\n",
      "Warn: Ipython shell catchs sys.args\n",
      "Warn: Ipython shell catchs sys.args\n",
      "Warn: Ipython shell catchs sys.args\n",
      "Warn: Ipython shell catchs sys.args\n",
      "Warn: Ipython shell catchs sys.args\n",
      "Warn: Ipython shell catchs sys.args\n",
      "Warn: Ipython shell catchs sys.args\n",
      "Warn: Ipython shell catchs sys.args\n",
      "Warn: Ipython shell catchs sys.args\n",
      "Warn: Ipython shell catchs sys.args\n",
      "Warn: Ipython shell catchs sys.args\n",
      "Warn: Ipython shell catchs sys.args\n",
      "Warn: Ipython shell catchs sys.args\n",
      "Warn: Ipython shell catchs sys.args\n",
      "Warn: Ipython shell catchs sys.args\n",
      "Warn: Ipython shell catchs sys.args\n",
      "Warn: Ipython shell catchs sys.args\n",
      "Warn: Ipython shell catchs sys.args\n"
     ]
    }
   ],
   "source": [
    "from pyscf.scf import hf\n",
    "\n",
    "p_sap = [hf.init_guess_by_atom(mol.get_pyscf_molecule()) for mol in molecules[1]]\n",
    "p_minao = [hf.init_guess_by_minao(mol.get_pyscf_molecule()) for mol in molecules[1]]\n",
    "p_gwh = [hf.init_guess_by_wolfsberg_helmholtz(mol.get_pyscf_molecule()) for mol in molecules[1]]"
   ]
  },
  {
   "cell_type": "code",
   "execution_count": 25,
   "metadata": {},
   "outputs": [
    {
     "name": "stderr",
     "output_type": "stream",
     "text": [
      "Warn: Ipython shell catchs sys.args\n"
     ]
    },
    {
     "name": "stdout",
     "output_type": "stream",
     "text": [
      "[ ] 2018-05-01 13:01:35: Iteration calculation: 0\n",
      "[ ] 2018-05-01 13:01:36: Iteration calculation: 1\n"
     ]
    },
    {
     "name": "stderr",
     "output_type": "stream",
     "text": [
      "Warn: Ipython shell catchs sys.args\n"
     ]
    },
    {
     "name": "stdout",
     "output_type": "stream",
     "text": [
      "[ ] 2018-05-01 13:01:37: Iteration calculation: 2\n"
     ]
    },
    {
     "name": "stderr",
     "output_type": "stream",
     "text": [
      "Warn: Ipython shell catchs sys.args\n"
     ]
    },
    {
     "name": "stdout",
     "output_type": "stream",
     "text": [
      "[ ] 2018-05-01 13:01:37: Iteration calculation: 3\n"
     ]
    },
    {
     "name": "stderr",
     "output_type": "stream",
     "text": [
      "Warn: Ipython shell catchs sys.args\n"
     ]
    },
    {
     "name": "stdout",
     "output_type": "stream",
     "text": [
      "[ ] 2018-05-01 13:01:38: Iteration calculation: 4\n"
     ]
    },
    {
     "name": "stderr",
     "output_type": "stream",
     "text": [
      "Warn: Ipython shell catchs sys.args\n"
     ]
    },
    {
     "name": "stdout",
     "output_type": "stream",
     "text": [
      "[ ] 2018-05-01 13:01:39: Iteration calculation: 5\n"
     ]
    },
    {
     "name": "stderr",
     "output_type": "stream",
     "text": [
      "Warn: Ipython shell catchs sys.args\n"
     ]
    },
    {
     "name": "stdout",
     "output_type": "stream",
     "text": [
      "[ ] 2018-05-01 13:01:39: Iteration calculation: 6\n",
      "[ ] 2018-05-01 13:01:39: Iteration calculation: 7\n"
     ]
    },
    {
     "name": "stderr",
     "output_type": "stream",
     "text": [
      "Warn: Ipython shell catchs sys.args\n",
      "Warn: Ipython shell catchs sys.args\n"
     ]
    },
    {
     "name": "stdout",
     "output_type": "stream",
     "text": [
      "[ ] 2018-05-01 13:01:40: Iteration calculation: 8\n"
     ]
    },
    {
     "name": "stderr",
     "output_type": "stream",
     "text": [
      "Warn: Ipython shell catchs sys.args\n"
     ]
    },
    {
     "name": "stdout",
     "output_type": "stream",
     "text": [
      "[ ] 2018-05-01 13:01:40: Iteration calculation: 9\n"
     ]
    },
    {
     "name": "stderr",
     "output_type": "stream",
     "text": [
      "Warn: Ipython shell catchs sys.args\n"
     ]
    },
    {
     "name": "stdout",
     "output_type": "stream",
     "text": [
      "[ ] 2018-05-01 13:01:41: Iteration calculation: 10\n"
     ]
    },
    {
     "name": "stderr",
     "output_type": "stream",
     "text": [
      "Warn: Ipython shell catchs sys.args\n"
     ]
    },
    {
     "name": "stdout",
     "output_type": "stream",
     "text": [
      "[ ] 2018-05-01 13:01:42: Iteration calculation: 11\n"
     ]
    },
    {
     "name": "stderr",
     "output_type": "stream",
     "text": [
      "Warn: Ipython shell catchs sys.args\n"
     ]
    },
    {
     "name": "stdout",
     "output_type": "stream",
     "text": [
      "[ ] 2018-05-01 13:01:43: Iteration calculation: 12\n",
      "[ ] 2018-05-01 13:01:43: Iteration calculation: 13\n"
     ]
    },
    {
     "name": "stderr",
     "output_type": "stream",
     "text": [
      "Warn: Ipython shell catchs sys.args\n",
      "Warn: Ipython shell catchs sys.args\n"
     ]
    },
    {
     "name": "stdout",
     "output_type": "stream",
     "text": [
      "[ ] 2018-05-01 13:01:44: Iteration calculation: 14\n"
     ]
    },
    {
     "name": "stderr",
     "output_type": "stream",
     "text": [
      "Warn: Ipython shell catchs sys.args\n"
     ]
    },
    {
     "name": "stdout",
     "output_type": "stream",
     "text": [
      "[ ] 2018-05-01 13:01:45: Iteration calculation: 15\n"
     ]
    },
    {
     "name": "stderr",
     "output_type": "stream",
     "text": [
      "Warn: Ipython shell catchs sys.args\n"
     ]
    },
    {
     "name": "stdout",
     "output_type": "stream",
     "text": [
      "[ ] 2018-05-01 13:01:45: Iteration calculation: 16\n"
     ]
    },
    {
     "name": "stderr",
     "output_type": "stream",
     "text": [
      "Warn: Ipython shell catchs sys.args\n"
     ]
    },
    {
     "name": "stdout",
     "output_type": "stream",
     "text": [
      "[ ] 2018-05-01 13:01:46: Iteration calculation: 17\n"
     ]
    },
    {
     "name": "stderr",
     "output_type": "stream",
     "text": [
      "Warn: Ipython shell catchs sys.args\n"
     ]
    },
    {
     "name": "stdout",
     "output_type": "stream",
     "text": [
      "[ ] 2018-05-01 13:01:47: Iteration calculation: 18\n"
     ]
    },
    {
     "name": "stderr",
     "output_type": "stream",
     "text": [
      "Warn: Ipython shell catchs sys.args\n"
     ]
    },
    {
     "name": "stdout",
     "output_type": "stream",
     "text": [
      "[ ] 2018-05-01 13:01:48: Iteration calculation: 19\n"
     ]
    },
    {
     "name": "stderr",
     "output_type": "stream",
     "text": [
      "Warn: Ipython shell catchs sys.args\n"
     ]
    },
    {
     "name": "stdout",
     "output_type": "stream",
     "text": [
      "[ ] 2018-05-01 13:01:48: Iteration calculation: 20\n",
      "[ ] 2018-05-01 13:01:49: Iteration calculation: 21\n"
     ]
    },
    {
     "name": "stderr",
     "output_type": "stream",
     "text": [
      "Warn: Ipython shell catchs sys.args\n",
      "Warn: Ipython shell catchs sys.args\n",
      "Warn: Ipython shell catchs sys.args\n"
     ]
    },
    {
     "name": "stdout",
     "output_type": "stream",
     "text": [
      "[ ] 2018-05-01 13:01:49: Iteration calculation: 22\n",
      "[ ] 2018-05-01 13:01:50: Iteration calculation: 23\n"
     ]
    },
    {
     "name": "stderr",
     "output_type": "stream",
     "text": [
      "Warn: Ipython shell catchs sys.args\n"
     ]
    },
    {
     "name": "stdout",
     "output_type": "stream",
     "text": [
      "[ ] 2018-05-01 13:01:51: Iteration calculation: 24\n"
     ]
    },
    {
     "name": "stderr",
     "output_type": "stream",
     "text": [
      "Warn: Ipython shell catchs sys.args\n"
     ]
    },
    {
     "name": "stdout",
     "output_type": "stream",
     "text": [
      "[ ] 2018-05-01 13:01:51: Iteration calculation: 25\n",
      "[ ] 2018-05-01 13:01:52: Iteration calculation: 26\n"
     ]
    },
    {
     "name": "stderr",
     "output_type": "stream",
     "text": [
      "Warn: Ipython shell catchs sys.args\n"
     ]
    },
    {
     "name": "stdout",
     "output_type": "stream",
     "text": [
      "[ ] 2018-05-01 13:01:52: Iteration calculation: 27\n"
     ]
    },
    {
     "name": "stderr",
     "output_type": "stream",
     "text": [
      "Warn: Ipython shell catchs sys.args\n",
      "Warn: Ipython shell catchs sys.args\n"
     ]
    },
    {
     "name": "stdout",
     "output_type": "stream",
     "text": [
      "[ ] 2018-05-01 13:01:53: Iteration calculation: 28\n",
      "[ ] 2018-05-01 13:01:53: Iteration calculation: 29\n"
     ]
    },
    {
     "name": "stderr",
     "output_type": "stream",
     "text": [
      "Warn: Ipython shell catchs sys.args\n"
     ]
    },
    {
     "name": "stdout",
     "output_type": "stream",
     "text": [
      "[ ] 2018-05-01 13:01:54: Iteration calculation: 30\n"
     ]
    },
    {
     "name": "stderr",
     "output_type": "stream",
     "text": [
      "Warn: Ipython shell catchs sys.args\n",
      "Warn: Ipython shell catchs sys.args\n"
     ]
    },
    {
     "name": "stdout",
     "output_type": "stream",
     "text": [
      "[ ] 2018-05-01 13:01:54: Iteration calculation: 31\n"
     ]
    },
    {
     "name": "stderr",
     "output_type": "stream",
     "text": [
      "Warn: Ipython shell catchs sys.args\n"
     ]
    },
    {
     "name": "stdout",
     "output_type": "stream",
     "text": [
      "[ ] 2018-05-01 13:01:55: Iteration calculation: 32\n"
     ]
    },
    {
     "name": "stderr",
     "output_type": "stream",
     "text": [
      "Warn: Ipython shell catchs sys.args\n"
     ]
    },
    {
     "name": "stdout",
     "output_type": "stream",
     "text": [
      "[ ] 2018-05-01 13:01:55: Iteration calculation: 33\n"
     ]
    },
    {
     "name": "stderr",
     "output_type": "stream",
     "text": [
      "Warn: Ipython shell catchs sys.args\n"
     ]
    },
    {
     "name": "stdout",
     "output_type": "stream",
     "text": [
      "[ ] 2018-05-01 13:01:56: Iteration calculation: 34\n",
      "[ ] 2018-05-01 13:01:56: Iteration calculation: 35\n"
     ]
    },
    {
     "name": "stderr",
     "output_type": "stream",
     "text": [
      "Warn: Ipython shell catchs sys.args\n",
      "Warn: Ipython shell catchs sys.args\n"
     ]
    },
    {
     "name": "stdout",
     "output_type": "stream",
     "text": [
      "[ ] 2018-05-01 13:01:56: Iteration calculation: 36\n",
      "[ ] 2018-05-01 13:01:57: Iteration calculation: 37\n"
     ]
    },
    {
     "name": "stderr",
     "output_type": "stream",
     "text": [
      "Warn: Ipython shell catchs sys.args\n",
      "Warn: Ipython shell catchs sys.args\n"
     ]
    },
    {
     "name": "stdout",
     "output_type": "stream",
     "text": [
      "[ ] 2018-05-01 13:01:57: Iteration calculation: 38\n",
      "[ ] 2018-05-01 13:01:58: Iteration calculation: 39\n"
     ]
    },
    {
     "name": "stderr",
     "output_type": "stream",
     "text": [
      "Warn: Ipython shell catchs sys.args\n",
      "Warn: Ipython shell catchs sys.args\n"
     ]
    },
    {
     "name": "stdout",
     "output_type": "stream",
     "text": [
      "[ ] 2018-05-01 13:01:58: Iteration calculation: 40\n"
     ]
    },
    {
     "name": "stderr",
     "output_type": "stream",
     "text": [
      "Warn: Ipython shell catchs sys.args\n"
     ]
    },
    {
     "name": "stdout",
     "output_type": "stream",
     "text": [
      "[ ] 2018-05-01 13:01:58: Iteration calculation: 41\n"
     ]
    },
    {
     "name": "stderr",
     "output_type": "stream",
     "text": [
      "Warn: Ipython shell catchs sys.args\n"
     ]
    },
    {
     "name": "stdout",
     "output_type": "stream",
     "text": [
      "[ ] 2018-05-01 13:01:59: Iteration calculation: 42\n"
     ]
    },
    {
     "name": "stderr",
     "output_type": "stream",
     "text": [
      "Warn: Ipython shell catchs sys.args\n"
     ]
    },
    {
     "name": "stdout",
     "output_type": "stream",
     "text": [
      "[ ] 2018-05-01 13:01:59: Iteration calculation: 43\n"
     ]
    },
    {
     "name": "stderr",
     "output_type": "stream",
     "text": [
      "Warn: Ipython shell catchs sys.args\n"
     ]
    },
    {
     "name": "stdout",
     "output_type": "stream",
     "text": [
      "[ ] 2018-05-01 13:01:59: Iteration calculation: 44\n"
     ]
    },
    {
     "name": "stderr",
     "output_type": "stream",
     "text": [
      "Warn: Ipython shell catchs sys.args\n"
     ]
    },
    {
     "name": "stdout",
     "output_type": "stream",
     "text": [
      "[ ] 2018-05-01 13:02:00: Iteration calculation: 45\n"
     ]
    },
    {
     "name": "stderr",
     "output_type": "stream",
     "text": [
      "Warn: Ipython shell catchs sys.args\n"
     ]
    },
    {
     "name": "stdout",
     "output_type": "stream",
     "text": [
      "[ ] 2018-05-01 13:02:00: Iteration calculation: 46\n"
     ]
    },
    {
     "name": "stderr",
     "output_type": "stream",
     "text": [
      "Warn: Ipython shell catchs sys.args\n"
     ]
    },
    {
     "name": "stdout",
     "output_type": "stream",
     "text": [
      "[ ] 2018-05-01 13:02:00: Iteration calculation: 47\n"
     ]
    },
    {
     "name": "stderr",
     "output_type": "stream",
     "text": [
      "Warn: Ipython shell catchs sys.args\n"
     ]
    },
    {
     "name": "stdout",
     "output_type": "stream",
     "text": [
      "[ ] 2018-05-01 13:02:01: Iteration calculation: 48\n"
     ]
    },
    {
     "name": "stderr",
     "output_type": "stream",
     "text": [
      "Warn: Ipython shell catchs sys.args\n"
     ]
    },
    {
     "name": "stdout",
     "output_type": "stream",
     "text": [
      "[ ] 2018-05-01 13:02:01: Iteration calculation: 49\n"
     ]
    },
    {
     "name": "stderr",
     "output_type": "stream",
     "text": [
      "Warn: Ipython shell catchs sys.args\n"
     ]
    }
   ],
   "source": [
    "results = measure_all_quantities(\n",
    "    list(map(lambda x: extract_triu(x, dim), p_sap)),\n",
    "    dataset,\n",
    "    molecules[1],\n",
    "    n_electrons,\n",
    "    mf_initializer,\n",
    "    dim,\n",
    "    True\n",
    ")"
   ]
  },
  {
   "cell_type": "code",
   "execution_count": 26,
   "metadata": {},
   "outputs": [
    {
     "name": "stdout",
     "output_type": "stream",
     "text": [
      "--- Absolute Error ---\n",
      "2.30560E-02 +- 1.43228E-03\n",
      "--- Symmetry Error ---\n",
      "0.00000E+00 +- 0.00000E+00\n",
      "--- Idempotence Error ---\n",
      "2.20169E-02 +- 1.59134E-03\n",
      "--- Occupance Error ---\n",
      "2.70006E-15 +- 2.28150E-15\n",
      "--- Avg. Iterations ---\n",
      "2.40000E+01 +- 1.14053E+01\n",
      "\n"
     ]
    }
   ],
   "source": [
    "print(make_results_str(list(map(lambda x: [x], results))))"
   ]
  },
  {
   "cell_type": "code",
   "execution_count": 27,
   "metadata": {},
   "outputs": [
    {
     "name": "stdout",
     "output_type": "stream",
     "text": [
      "[ ] 2018-05-01 13:02:01: Iteration calculation: 0\n"
     ]
    },
    {
     "name": "stderr",
     "output_type": "stream",
     "text": [
      "Warn: Ipython shell catchs sys.args\n"
     ]
    },
    {
     "name": "stdout",
     "output_type": "stream",
     "text": [
      "[ ] 2018-05-01 13:02:02: Iteration calculation: 1\n"
     ]
    },
    {
     "name": "stderr",
     "output_type": "stream",
     "text": [
      "Warn: Ipython shell catchs sys.args\n"
     ]
    },
    {
     "name": "stdout",
     "output_type": "stream",
     "text": [
      "[ ] 2018-05-01 13:02:02: Iteration calculation: 2\n"
     ]
    },
    {
     "name": "stderr",
     "output_type": "stream",
     "text": [
      "Warn: Ipython shell catchs sys.args\n"
     ]
    },
    {
     "name": "stdout",
     "output_type": "stream",
     "text": [
      "[ ] 2018-05-01 13:02:02: Iteration calculation: 3\n"
     ]
    },
    {
     "name": "stderr",
     "output_type": "stream",
     "text": [
      "Warn: Ipython shell catchs sys.args\n"
     ]
    },
    {
     "name": "stdout",
     "output_type": "stream",
     "text": [
      "[ ] 2018-05-01 13:02:03: Iteration calculation: 4\n"
     ]
    },
    {
     "name": "stderr",
     "output_type": "stream",
     "text": [
      "Warn: Ipython shell catchs sys.args\n"
     ]
    },
    {
     "name": "stdout",
     "output_type": "stream",
     "text": [
      "[ ] 2018-05-01 13:02:03: Iteration calculation: 5\n"
     ]
    },
    {
     "name": "stderr",
     "output_type": "stream",
     "text": [
      "Warn: Ipython shell catchs sys.args\n"
     ]
    },
    {
     "name": "stdout",
     "output_type": "stream",
     "text": [
      "[ ] 2018-05-01 13:02:03: Iteration calculation: 6\n"
     ]
    },
    {
     "name": "stderr",
     "output_type": "stream",
     "text": [
      "Warn: Ipython shell catchs sys.args\n"
     ]
    },
    {
     "name": "stdout",
     "output_type": "stream",
     "text": [
      "[ ] 2018-05-01 13:02:03: Iteration calculation: 7\n"
     ]
    },
    {
     "name": "stderr",
     "output_type": "stream",
     "text": [
      "Warn: Ipython shell catchs sys.args\n"
     ]
    },
    {
     "name": "stdout",
     "output_type": "stream",
     "text": [
      "[ ] 2018-05-01 13:02:04: Iteration calculation: 8\n"
     ]
    },
    {
     "name": "stderr",
     "output_type": "stream",
     "text": [
      "Warn: Ipython shell catchs sys.args\n"
     ]
    },
    {
     "name": "stdout",
     "output_type": "stream",
     "text": [
      "[ ] 2018-05-01 13:02:04: Iteration calculation: 9\n"
     ]
    },
    {
     "name": "stderr",
     "output_type": "stream",
     "text": [
      "Warn: Ipython shell catchs sys.args\n"
     ]
    },
    {
     "name": "stdout",
     "output_type": "stream",
     "text": [
      "[ ] 2018-05-01 13:02:04: Iteration calculation: 10\n"
     ]
    },
    {
     "name": "stderr",
     "output_type": "stream",
     "text": [
      "Warn: Ipython shell catchs sys.args\n"
     ]
    },
    {
     "name": "stdout",
     "output_type": "stream",
     "text": [
      "[ ] 2018-05-01 13:02:05: Iteration calculation: 11\n"
     ]
    },
    {
     "name": "stderr",
     "output_type": "stream",
     "text": [
      "Warn: Ipython shell catchs sys.args\n"
     ]
    },
    {
     "name": "stdout",
     "output_type": "stream",
     "text": [
      "[ ] 2018-05-01 13:02:05: Iteration calculation: 12\n"
     ]
    },
    {
     "name": "stderr",
     "output_type": "stream",
     "text": [
      "Warn: Ipython shell catchs sys.args\n"
     ]
    },
    {
     "name": "stdout",
     "output_type": "stream",
     "text": [
      "[ ] 2018-05-01 13:02:05: Iteration calculation: 13\n"
     ]
    },
    {
     "name": "stderr",
     "output_type": "stream",
     "text": [
      "Warn: Ipython shell catchs sys.args\n"
     ]
    },
    {
     "name": "stdout",
     "output_type": "stream",
     "text": [
      "[ ] 2018-05-01 13:02:05: Iteration calculation: 14\n"
     ]
    },
    {
     "name": "stderr",
     "output_type": "stream",
     "text": [
      "Warn: Ipython shell catchs sys.args\n"
     ]
    },
    {
     "name": "stdout",
     "output_type": "stream",
     "text": [
      "[ ] 2018-05-01 13:02:06: Iteration calculation: 15\n"
     ]
    },
    {
     "name": "stderr",
     "output_type": "stream",
     "text": [
      "Warn: Ipython shell catchs sys.args\n"
     ]
    },
    {
     "name": "stdout",
     "output_type": "stream",
     "text": [
      "[ ] 2018-05-01 13:02:06: Iteration calculation: 16\n"
     ]
    },
    {
     "name": "stderr",
     "output_type": "stream",
     "text": [
      "Warn: Ipython shell catchs sys.args\n"
     ]
    },
    {
     "name": "stdout",
     "output_type": "stream",
     "text": [
      "[ ] 2018-05-01 13:02:06: Iteration calculation: 17\n"
     ]
    },
    {
     "name": "stderr",
     "output_type": "stream",
     "text": [
      "Warn: Ipython shell catchs sys.args\n"
     ]
    },
    {
     "name": "stdout",
     "output_type": "stream",
     "text": [
      "[ ] 2018-05-01 13:02:07: Iteration calculation: 18\n"
     ]
    },
    {
     "name": "stderr",
     "output_type": "stream",
     "text": [
      "Warn: Ipython shell catchs sys.args\n"
     ]
    },
    {
     "name": "stdout",
     "output_type": "stream",
     "text": [
      "[ ] 2018-05-01 13:02:07: Iteration calculation: 19\n",
      "[ ] 2018-05-01 13:02:07: Iteration calculation: 20\n"
     ]
    },
    {
     "name": "stderr",
     "output_type": "stream",
     "text": [
      "Warn: Ipython shell catchs sys.args\n",
      "Warn: Ipython shell catchs sys.args\n"
     ]
    },
    {
     "name": "stdout",
     "output_type": "stream",
     "text": [
      "[ ] 2018-05-01 13:02:08: Iteration calculation: 21\n"
     ]
    },
    {
     "name": "stderr",
     "output_type": "stream",
     "text": [
      "Warn: Ipython shell catchs sys.args\n"
     ]
    },
    {
     "name": "stdout",
     "output_type": "stream",
     "text": [
      "[ ] 2018-05-01 13:02:08: Iteration calculation: 22\n"
     ]
    },
    {
     "name": "stderr",
     "output_type": "stream",
     "text": [
      "Warn: Ipython shell catchs sys.args\n"
     ]
    },
    {
     "name": "stdout",
     "output_type": "stream",
     "text": [
      "[ ] 2018-05-01 13:02:08: Iteration calculation: 23\n"
     ]
    },
    {
     "name": "stderr",
     "output_type": "stream",
     "text": [
      "Warn: Ipython shell catchs sys.args\n"
     ]
    },
    {
     "name": "stdout",
     "output_type": "stream",
     "text": [
      "[ ] 2018-05-01 13:02:09: Iteration calculation: 24\n"
     ]
    },
    {
     "name": "stderr",
     "output_type": "stream",
     "text": [
      "Warn: Ipython shell catchs sys.args\n"
     ]
    },
    {
     "name": "stdout",
     "output_type": "stream",
     "text": [
      "[ ] 2018-05-01 13:02:09: Iteration calculation: 25\n"
     ]
    },
    {
     "name": "stderr",
     "output_type": "stream",
     "text": [
      "Warn: Ipython shell catchs sys.args\n"
     ]
    },
    {
     "name": "stdout",
     "output_type": "stream",
     "text": [
      "[ ] 2018-05-01 13:02:09: Iteration calculation: 26\n"
     ]
    },
    {
     "name": "stderr",
     "output_type": "stream",
     "text": [
      "Warn: Ipython shell catchs sys.args\n"
     ]
    },
    {
     "name": "stdout",
     "output_type": "stream",
     "text": [
      "[ ] 2018-05-01 13:02:09: Iteration calculation: 27\n"
     ]
    },
    {
     "name": "stderr",
     "output_type": "stream",
     "text": [
      "Warn: Ipython shell catchs sys.args\n"
     ]
    },
    {
     "name": "stdout",
     "output_type": "stream",
     "text": [
      "[ ] 2018-05-01 13:02:10: Iteration calculation: 28\n"
     ]
    },
    {
     "name": "stderr",
     "output_type": "stream",
     "text": [
      "Warn: Ipython shell catchs sys.args\n"
     ]
    },
    {
     "name": "stdout",
     "output_type": "stream",
     "text": [
      "[ ] 2018-05-01 13:02:10: Iteration calculation: 29\n"
     ]
    },
    {
     "name": "stderr",
     "output_type": "stream",
     "text": [
      "Warn: Ipython shell catchs sys.args\n"
     ]
    },
    {
     "name": "stdout",
     "output_type": "stream",
     "text": [
      "[ ] 2018-05-01 13:02:10: Iteration calculation: 30\n"
     ]
    },
    {
     "name": "stderr",
     "output_type": "stream",
     "text": [
      "Warn: Ipython shell catchs sys.args\n"
     ]
    },
    {
     "name": "stdout",
     "output_type": "stream",
     "text": [
      "[ ] 2018-05-01 13:02:10: Iteration calculation: 31\n"
     ]
    },
    {
     "name": "stderr",
     "output_type": "stream",
     "text": [
      "Warn: Ipython shell catchs sys.args\n"
     ]
    },
    {
     "name": "stdout",
     "output_type": "stream",
     "text": [
      "[ ] 2018-05-01 13:02:11: Iteration calculation: 32\n"
     ]
    },
    {
     "name": "stderr",
     "output_type": "stream",
     "text": [
      "Warn: Ipython shell catchs sys.args\n"
     ]
    },
    {
     "name": "stdout",
     "output_type": "stream",
     "text": [
      "[ ] 2018-05-01 13:02:11: Iteration calculation: 33\n"
     ]
    },
    {
     "name": "stderr",
     "output_type": "stream",
     "text": [
      "Warn: Ipython shell catchs sys.args\n"
     ]
    },
    {
     "name": "stdout",
     "output_type": "stream",
     "text": [
      "[ ] 2018-05-01 13:02:11: Iteration calculation: 34\n"
     ]
    },
    {
     "name": "stderr",
     "output_type": "stream",
     "text": [
      "Warn: Ipython shell catchs sys.args\n"
     ]
    },
    {
     "name": "stdout",
     "output_type": "stream",
     "text": [
      "[ ] 2018-05-01 13:02:11: Iteration calculation: 35\n"
     ]
    },
    {
     "name": "stderr",
     "output_type": "stream",
     "text": [
      "Warn: Ipython shell catchs sys.args\n"
     ]
    },
    {
     "name": "stdout",
     "output_type": "stream",
     "text": [
      "[ ] 2018-05-01 13:02:12: Iteration calculation: 36\n"
     ]
    },
    {
     "name": "stderr",
     "output_type": "stream",
     "text": [
      "Warn: Ipython shell catchs sys.args\n"
     ]
    },
    {
     "name": "stdout",
     "output_type": "stream",
     "text": [
      "[ ] 2018-05-01 13:02:12: Iteration calculation: 37\n",
      "[ ] 2018-05-01 13:02:12: Iteration calculation: 38"
     ]
    },
    {
     "name": "stderr",
     "output_type": "stream",
     "text": [
      "Warn: Ipython shell catchs sys.args\n",
      "Warn: Ipython shell catchs sys.args\n"
     ]
    },
    {
     "name": "stdout",
     "output_type": "stream",
     "text": [
      "\n",
      "[ ] 2018-05-01 13:02:12: Iteration calculation: 39\n"
     ]
    },
    {
     "name": "stderr",
     "output_type": "stream",
     "text": [
      "Warn: Ipython shell catchs sys.args\n"
     ]
    },
    {
     "name": "stdout",
     "output_type": "stream",
     "text": [
      "[ ] 2018-05-01 13:02:12: Iteration calculation: 40\n"
     ]
    },
    {
     "name": "stderr",
     "output_type": "stream",
     "text": [
      "Warn: Ipython shell catchs sys.args\n"
     ]
    },
    {
     "name": "stdout",
     "output_type": "stream",
     "text": [
      "[ ] 2018-05-01 13:02:13: Iteration calculation: 41\n"
     ]
    },
    {
     "name": "stderr",
     "output_type": "stream",
     "text": [
      "Warn: Ipython shell catchs sys.args\n"
     ]
    },
    {
     "name": "stdout",
     "output_type": "stream",
     "text": [
      "[ ] 2018-05-01 13:02:13: Iteration calculation: 42\n"
     ]
    },
    {
     "name": "stderr",
     "output_type": "stream",
     "text": [
      "Warn: Ipython shell catchs sys.args\n"
     ]
    },
    {
     "name": "stdout",
     "output_type": "stream",
     "text": [
      "[ ] 2018-05-01 13:02:13: Iteration calculation: 43\n"
     ]
    },
    {
     "name": "stderr",
     "output_type": "stream",
     "text": [
      "Warn: Ipython shell catchs sys.args\n"
     ]
    },
    {
     "name": "stdout",
     "output_type": "stream",
     "text": [
      "[ ] 2018-05-01 13:02:13: Iteration calculation: 44\n"
     ]
    },
    {
     "name": "stderr",
     "output_type": "stream",
     "text": [
      "Warn: Ipython shell catchs sys.args\n"
     ]
    },
    {
     "name": "stdout",
     "output_type": "stream",
     "text": [
      "[ ] 2018-05-01 13:02:14: Iteration calculation: 45\n"
     ]
    },
    {
     "name": "stderr",
     "output_type": "stream",
     "text": [
      "Warn: Ipython shell catchs sys.args\n"
     ]
    },
    {
     "name": "stdout",
     "output_type": "stream",
     "text": [
      "[ ] 2018-05-01 13:02:14: Iteration calculation: 46\n"
     ]
    },
    {
     "name": "stderr",
     "output_type": "stream",
     "text": [
      "Warn: Ipython shell catchs sys.args\n"
     ]
    },
    {
     "name": "stdout",
     "output_type": "stream",
     "text": [
      "[ ] 2018-05-01 13:02:14: Iteration calculation: 47\n"
     ]
    },
    {
     "name": "stderr",
     "output_type": "stream",
     "text": [
      "Warn: Ipython shell catchs sys.args\n"
     ]
    },
    {
     "name": "stdout",
     "output_type": "stream",
     "text": [
      "[ ] 2018-05-01 13:02:15: Iteration calculation: 48\n"
     ]
    },
    {
     "name": "stderr",
     "output_type": "stream",
     "text": [
      "Warn: Ipython shell catchs sys.args\n"
     ]
    },
    {
     "name": "stdout",
     "output_type": "stream",
     "text": [
      "[ ] 2018-05-01 13:02:15: Iteration calculation: 49\n"
     ]
    },
    {
     "name": "stderr",
     "output_type": "stream",
     "text": [
      "Warn: Ipython shell catchs sys.args\n"
     ]
    }
   ],
   "source": [
    "results = measure_all_quantities(\n",
    "    list(map(lambda x: extract_triu(x, dim), p_minao)),\n",
    "    dataset,\n",
    "    molecules[1],\n",
    "    n_electrons,\n",
    "    mf_initializer,\n",
    "    dim,\n",
    "    True\n",
    ")"
   ]
  },
  {
   "cell_type": "code",
   "execution_count": 28,
   "metadata": {},
   "outputs": [
    {
     "name": "stdout",
     "output_type": "stream",
     "text": [
      "--- Absolute Error ---\n",
      "2.14954E-02 +- 1.67818E-03\n",
      "--- Symmetry Error ---\n",
      "0.00000E+00 +- 0.00000E+00\n",
      "--- Idempotence Error ---\n",
      "2.18115E-02 +- 1.93107E-03\n",
      "--- Occupance Error ---\n",
      "1.29067E-02 +- 5.11737E-05\n",
      "--- Avg. Iterations ---\n",
      "2.38400E+01 +- 1.14985E+01\n",
      "\n"
     ]
    }
   ],
   "source": [
    "print(make_results_str(list(map(lambda x: [x], results))))"
   ]
  },
  {
   "cell_type": "code",
   "execution_count": 29,
   "metadata": {},
   "outputs": [
    {
     "name": "stdout",
     "output_type": "stream",
     "text": [
      "[ ] 2018-05-01 13:02:16: Iteration calculation: 0\n"
     ]
    },
    {
     "name": "stderr",
     "output_type": "stream",
     "text": [
      "Warn: Ipython shell catchs sys.args\n"
     ]
    },
    {
     "name": "stdout",
     "output_type": "stream",
     "text": [
      "[ ] 2018-05-01 13:02:16: Iteration calculation: 1\n"
     ]
    },
    {
     "name": "stderr",
     "output_type": "stream",
     "text": [
      "Warn: Ipython shell catchs sys.args\n"
     ]
    },
    {
     "name": "stdout",
     "output_type": "stream",
     "text": [
      "[ ] 2018-05-01 13:02:17: Iteration calculation: 2\n",
      "[ ] 2018-05-01 13:02:17: Iteration calculation: 3\n"
     ]
    },
    {
     "name": "stderr",
     "output_type": "stream",
     "text": [
      "Warn: Ipython shell catchs sys.args\n",
      "Warn: Ipython shell catchs sys.args\n"
     ]
    },
    {
     "name": "stdout",
     "output_type": "stream",
     "text": [
      "[ ] 2018-05-01 13:02:18: Iteration calculation: 4\n"
     ]
    },
    {
     "name": "stderr",
     "output_type": "stream",
     "text": [
      "Warn: Ipython shell catchs sys.args\n"
     ]
    },
    {
     "name": "stdout",
     "output_type": "stream",
     "text": [
      "[ ] 2018-05-01 13:02:18: Iteration calculation: 5\n"
     ]
    },
    {
     "name": "stderr",
     "output_type": "stream",
     "text": [
      "Warn: Ipython shell catchs sys.args\n"
     ]
    },
    {
     "name": "stdout",
     "output_type": "stream",
     "text": [
      "[ ] 2018-05-01 13:02:19: Iteration calculation: 6\n"
     ]
    },
    {
     "name": "stderr",
     "output_type": "stream",
     "text": [
      "Warn: Ipython shell catchs sys.args\n"
     ]
    },
    {
     "name": "stdout",
     "output_type": "stream",
     "text": [
      "[ ] 2018-05-01 13:02:19: Iteration calculation: 7\n"
     ]
    },
    {
     "name": "stderr",
     "output_type": "stream",
     "text": [
      "Warn: Ipython shell catchs sys.args\n"
     ]
    },
    {
     "name": "stdout",
     "output_type": "stream",
     "text": [
      "[ ] 2018-05-01 13:02:20: Iteration calculation: 8\n"
     ]
    },
    {
     "name": "stderr",
     "output_type": "stream",
     "text": [
      "Warn: Ipython shell catchs sys.args\n"
     ]
    },
    {
     "name": "stdout",
     "output_type": "stream",
     "text": [
      "[ ] 2018-05-01 13:02:21: Iteration calculation: 9\n"
     ]
    },
    {
     "name": "stderr",
     "output_type": "stream",
     "text": [
      "Warn: Ipython shell catchs sys.args\n"
     ]
    },
    {
     "name": "stdout",
     "output_type": "stream",
     "text": [
      "[ ] 2018-05-01 13:02:21: Iteration calculation: 10\n"
     ]
    },
    {
     "name": "stderr",
     "output_type": "stream",
     "text": [
      "Warn: Ipython shell catchs sys.args\n"
     ]
    },
    {
     "name": "stdout",
     "output_type": "stream",
     "text": [
      "[ ] 2018-05-01 13:02:22: Iteration calculation: 11\n"
     ]
    },
    {
     "name": "stderr",
     "output_type": "stream",
     "text": [
      "Warn: Ipython shell catchs sys.args\n"
     ]
    },
    {
     "name": "stdout",
     "output_type": "stream",
     "text": [
      "[ ] 2018-05-01 13:02:23: Iteration calculation: 12\n"
     ]
    },
    {
     "name": "stderr",
     "output_type": "stream",
     "text": [
      "Warn: Ipython shell catchs sys.args\n"
     ]
    },
    {
     "name": "stdout",
     "output_type": "stream",
     "text": [
      "[ ] 2018-05-01 13:02:23: Iteration calculation: 13\n"
     ]
    },
    {
     "name": "stderr",
     "output_type": "stream",
     "text": [
      "Warn: Ipython shell catchs sys.args\n"
     ]
    },
    {
     "name": "stdout",
     "output_type": "stream",
     "text": [
      "[ ] 2018-05-01 13:02:24: Iteration calculation: 14\n"
     ]
    },
    {
     "name": "stderr",
     "output_type": "stream",
     "text": [
      "Warn: Ipython shell catchs sys.args\n"
     ]
    },
    {
     "name": "stdout",
     "output_type": "stream",
     "text": [
      "[ ] 2018-05-01 13:02:25: Iteration calculation: 15\n"
     ]
    },
    {
     "name": "stderr",
     "output_type": "stream",
     "text": [
      "Warn: Ipython shell catchs sys.args\n"
     ]
    },
    {
     "name": "stdout",
     "output_type": "stream",
     "text": [
      "[ ] 2018-05-01 13:02:25: Iteration calculation: 16\n"
     ]
    },
    {
     "name": "stderr",
     "output_type": "stream",
     "text": [
      "Warn: Ipython shell catchs sys.args\n"
     ]
    },
    {
     "name": "stdout",
     "output_type": "stream",
     "text": [
      "[ ] 2018-05-01 13:02:26: Iteration calculation: 17\n"
     ]
    },
    {
     "name": "stderr",
     "output_type": "stream",
     "text": [
      "Warn: Ipython shell catchs sys.args\n"
     ]
    },
    {
     "name": "stdout",
     "output_type": "stream",
     "text": [
      "[ ] 2018-05-01 13:02:27: Iteration calculation: 18\n"
     ]
    },
    {
     "name": "stderr",
     "output_type": "stream",
     "text": [
      "Warn: Ipython shell catchs sys.args\n"
     ]
    },
    {
     "name": "stdout",
     "output_type": "stream",
     "text": [
      "[ ] 2018-05-01 13:02:28: Iteration calculation: 19\n"
     ]
    },
    {
     "name": "stderr",
     "output_type": "stream",
     "text": [
      "Warn: Ipython shell catchs sys.args\n"
     ]
    },
    {
     "name": "stdout",
     "output_type": "stream",
     "text": [
      "[ ] 2018-05-01 13:02:29: Iteration calculation: 20\n"
     ]
    },
    {
     "name": "stderr",
     "output_type": "stream",
     "text": [
      "Warn: Ipython shell catchs sys.args\n"
     ]
    },
    {
     "name": "stdout",
     "output_type": "stream",
     "text": [
      "[ ] 2018-05-01 13:02:29: Iteration calculation: 21\n"
     ]
    },
    {
     "name": "stderr",
     "output_type": "stream",
     "text": [
      "Warn: Ipython shell catchs sys.args\n"
     ]
    },
    {
     "name": "stdout",
     "output_type": "stream",
     "text": [
      "[ ] 2018-05-01 13:02:29: Iteration calculation: 22\n"
     ]
    },
    {
     "name": "stderr",
     "output_type": "stream",
     "text": [
      "Warn: Ipython shell catchs sys.args\n"
     ]
    },
    {
     "name": "stdout",
     "output_type": "stream",
     "text": [
      "[ ] 2018-05-01 13:02:31: Iteration calculation: 23\n"
     ]
    },
    {
     "name": "stderr",
     "output_type": "stream",
     "text": [
      "Warn: Ipython shell catchs sys.args\n"
     ]
    },
    {
     "name": "stdout",
     "output_type": "stream",
     "text": [
      "[ ] 2018-05-01 13:02:31: Iteration calculation: 24\n"
     ]
    },
    {
     "name": "stderr",
     "output_type": "stream",
     "text": [
      "Warn: Ipython shell catchs sys.args\n"
     ]
    },
    {
     "name": "stdout",
     "output_type": "stream",
     "text": [
      "[ ] 2018-05-01 13:02:32: Iteration calculation: 25\n"
     ]
    },
    {
     "name": "stderr",
     "output_type": "stream",
     "text": [
      "Warn: Ipython shell catchs sys.args\n"
     ]
    },
    {
     "name": "stdout",
     "output_type": "stream",
     "text": [
      "[ ] 2018-05-01 13:02:32: Iteration calculation: 26\n"
     ]
    },
    {
     "name": "stderr",
     "output_type": "stream",
     "text": [
      "Warn: Ipython shell catchs sys.args\n"
     ]
    },
    {
     "name": "stdout",
     "output_type": "stream",
     "text": [
      "[ ] 2018-05-01 13:02:33: Iteration calculation: 27\n"
     ]
    },
    {
     "name": "stderr",
     "output_type": "stream",
     "text": [
      "Warn: Ipython shell catchs sys.args\n"
     ]
    },
    {
     "name": "stdout",
     "output_type": "stream",
     "text": [
      "[ ] 2018-05-01 13:02:34: Iteration calculation: 28\n"
     ]
    },
    {
     "name": "stderr",
     "output_type": "stream",
     "text": [
      "Warn: Ipython shell catchs sys.args\n"
     ]
    },
    {
     "name": "stdout",
     "output_type": "stream",
     "text": [
      "[ ] 2018-05-01 13:02:35: Iteration calculation: 29\n"
     ]
    },
    {
     "name": "stderr",
     "output_type": "stream",
     "text": [
      "Warn: Ipython shell catchs sys.args\n"
     ]
    },
    {
     "name": "stdout",
     "output_type": "stream",
     "text": [
      "[ ] 2018-05-01 13:02:35: Iteration calculation: 30\n"
     ]
    },
    {
     "name": "stderr",
     "output_type": "stream",
     "text": [
      "Warn: Ipython shell catchs sys.args\n"
     ]
    },
    {
     "name": "stdout",
     "output_type": "stream",
     "text": [
      "[ ] 2018-05-01 13:02:35: Iteration calculation: 31\n"
     ]
    },
    {
     "name": "stderr",
     "output_type": "stream",
     "text": [
      "Warn: Ipython shell catchs sys.args\n"
     ]
    },
    {
     "name": "stdout",
     "output_type": "stream",
     "text": [
      "[ ] 2018-05-01 13:02:36: Iteration calculation: 32\n"
     ]
    },
    {
     "name": "stderr",
     "output_type": "stream",
     "text": [
      "Warn: Ipython shell catchs sys.args\n"
     ]
    },
    {
     "name": "stdout",
     "output_type": "stream",
     "text": [
      "[ ] 2018-05-01 13:02:36: Iteration calculation: 33\n"
     ]
    },
    {
     "name": "stderr",
     "output_type": "stream",
     "text": [
      "Warn: Ipython shell catchs sys.args\n"
     ]
    },
    {
     "name": "stdout",
     "output_type": "stream",
     "text": [
      "[ ] 2018-05-01 13:02:37: Iteration calculation: 34\n"
     ]
    },
    {
     "name": "stderr",
     "output_type": "stream",
     "text": [
      "Warn: Ipython shell catchs sys.args\n"
     ]
    },
    {
     "name": "stdout",
     "output_type": "stream",
     "text": [
      "[ ] 2018-05-01 13:02:38: Iteration calculation: 35\n"
     ]
    },
    {
     "name": "stderr",
     "output_type": "stream",
     "text": [
      "Warn: Ipython shell catchs sys.args\n"
     ]
    },
    {
     "name": "stdout",
     "output_type": "stream",
     "text": [
      "[ ] 2018-05-01 13:02:38: Iteration calculation: 36\n"
     ]
    },
    {
     "name": "stderr",
     "output_type": "stream",
     "text": [
      "Warn: Ipython shell catchs sys.args\n"
     ]
    },
    {
     "name": "stdout",
     "output_type": "stream",
     "text": [
      "[ ] 2018-05-01 13:02:39: Iteration calculation: 37\n"
     ]
    },
    {
     "name": "stderr",
     "output_type": "stream",
     "text": [
      "Warn: Ipython shell catchs sys.args\n"
     ]
    },
    {
     "name": "stdout",
     "output_type": "stream",
     "text": [
      "[ ] 2018-05-01 13:02:39: Iteration calculation: 38\n"
     ]
    },
    {
     "name": "stderr",
     "output_type": "stream",
     "text": [
      "Warn: Ipython shell catchs sys.args\n"
     ]
    },
    {
     "name": "stdout",
     "output_type": "stream",
     "text": [
      "[ ] 2018-05-01 13:02:40: Iteration calculation: 39\n"
     ]
    },
    {
     "name": "stderr",
     "output_type": "stream",
     "text": [
      "Warn: Ipython shell catchs sys.args\n"
     ]
    },
    {
     "name": "stdout",
     "output_type": "stream",
     "text": [
      "[ ] 2018-05-01 13:02:40: Iteration calculation: 40\n"
     ]
    },
    {
     "name": "stderr",
     "output_type": "stream",
     "text": [
      "Warn: Ipython shell catchs sys.args\n"
     ]
    },
    {
     "name": "stdout",
     "output_type": "stream",
     "text": [
      "[ ] 2018-05-01 13:02:41: Iteration calculation: 41\n"
     ]
    },
    {
     "name": "stderr",
     "output_type": "stream",
     "text": [
      "Warn: Ipython shell catchs sys.args\n"
     ]
    },
    {
     "name": "stdout",
     "output_type": "stream",
     "text": [
      "[ ] 2018-05-01 13:02:41: Iteration calculation: 42\n"
     ]
    },
    {
     "name": "stderr",
     "output_type": "stream",
     "text": [
      "Warn: Ipython shell catchs sys.args\n"
     ]
    },
    {
     "name": "stdout",
     "output_type": "stream",
     "text": [
      "[ ] 2018-05-01 13:02:42: Iteration calculation: 43\n",
      "[ ] 2018-05-01 13:02:42: Iteration calculation: 44\n"
     ]
    },
    {
     "name": "stderr",
     "output_type": "stream",
     "text": [
      "Warn: Ipython shell catchs sys.args\n",
      "Warn: Ipython shell catchs sys.args\n"
     ]
    },
    {
     "name": "stdout",
     "output_type": "stream",
     "text": [
      "[ ] 2018-05-01 13:02:43: Iteration calculation: 45\n"
     ]
    },
    {
     "name": "stderr",
     "output_type": "stream",
     "text": [
      "Warn: Ipython shell catchs sys.args\n"
     ]
    },
    {
     "name": "stdout",
     "output_type": "stream",
     "text": [
      "[ ] 2018-05-01 13:02:44: Iteration calculation: 46\n"
     ]
    },
    {
     "name": "stderr",
     "output_type": "stream",
     "text": [
      "Warn: Ipython shell catchs sys.args\n",
      "Warn: Ipython shell catchs sys.args\n"
     ]
    },
    {
     "name": "stdout",
     "output_type": "stream",
     "text": [
      "[ ] 2018-05-01 13:02:44: Iteration calculation: 47\n",
      "[ ] 2018-05-01 13:02:45: Iteration calculation: 48\n"
     ]
    },
    {
     "name": "stderr",
     "output_type": "stream",
     "text": [
      "Warn: Ipython shell catchs sys.args\n"
     ]
    },
    {
     "name": "stdout",
     "output_type": "stream",
     "text": [
      "[ ] 2018-05-01 13:02:46: Iteration calculation: 49\n"
     ]
    },
    {
     "name": "stderr",
     "output_type": "stream",
     "text": [
      "Warn: Ipython shell catchs sys.args\n"
     ]
    }
   ],
   "source": [
    "results = measure_all_quantities(\n",
    "    list(map(lambda x: extract_triu(x, dim), p_gwh)),\n",
    "    dataset,\n",
    "    molecules[1],\n",
    "    n_electrons,\n",
    "    mf_initializer,\n",
    "    dim,\n",
    "    True\n",
    ")"
   ]
  },
  {
   "cell_type": "code",
   "execution_count": 30,
   "metadata": {},
   "outputs": [
    {
     "name": "stdout",
     "output_type": "stream",
     "text": [
      "--- Absolute Error ---\n",
      "1.60721E-02 +- 2.26511E-03\n",
      "--- Symmetry Error ---\n",
      "0.00000E+00 +- 0.00000E+00\n",
      "--- Idempotence Error ---\n",
      "5.49261E-17 +- 1.27846E-17\n",
      "--- Occupance Error ---\n",
      "4.40536E-15 +- 3.28006E-15\n",
      "--- Avg. Iterations ---\n",
      "2.55600E+01 +- 1.05928E+01\n",
      "\n"
     ]
    }
   ],
   "source": [
    "print(make_results_str(list(map(lambda x: [x], results))))"
   ]
  },
  {
   "cell_type": "code",
   "execution_count": null,
   "metadata": {},
   "outputs": [],
   "source": []
  },
  {
   "cell_type": "code",
   "execution_count": null,
   "metadata": {},
   "outputs": [],
   "source": []
  }
 ],
 "metadata": {
  "kernelspec": {
   "display_name": "Python 2",
   "language": "python",
   "name": "python2"
  },
  "language_info": {
   "codemirror_mode": {
    "name": "ipython",
    "version": 3
   },
   "file_extension": ".py",
   "mimetype": "text/x-python",
   "name": "python",
   "nbconvert_exporter": "python",
   "pygments_lexer": "ipython3",
   "version": "3.6.4"
  }
 },
 "nbformat": 4,
 "nbformat_minor": 2
}
