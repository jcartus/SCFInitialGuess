{
 "cells": [
  {
   "cell_type": "code",
   "execution_count": 1,
   "metadata": {},
   "outputs": [
    {
     "name": "stderr",
     "output_type": "stream",
     "text": [
      "/home/jcartus/anaconda3/lib/python3.6/site-packages/h5py/__init__.py:36: FutureWarning: Conversion of the second argument of issubdtype from `float` to `np.floating` is deprecated. In future, it will be treated as `np.float64 == np.dtype(float).type`.\n",
      "  from ._conv import register_converters as _register_converters\n"
     ]
    }
   ],
   "source": [
    "import numpy as np\n",
    "import tensorflow as tf\n",
    "import matplotlib as mpl\n",
    "import matplotlib.pyplot as plt\n",
    "\n",
    "mpl.style.use(\"seaborn\")"
   ]
  },
  {
   "cell_type": "markdown",
   "metadata": {},
   "source": [
    "# Fetch dataset\n"
   ]
  },
  {
   "cell_type": "code",
   "execution_count": 2,
   "metadata": {},
   "outputs": [
    {
     "name": "stdout",
     "output_type": "stream",
     "text": [
      "[-] 2018-05-23 16:13:11: Data set normalized. Mean value std: 0.007695333664764158\n"
     ]
    }
   ],
   "source": [
    "from SCFInitialGuess.utilities.dataset import make_butadien_dataset\n",
    "\n",
    "\n",
    "dataset, molecules = make_butadien_dataset(\n",
    "    np.load(\"molecules_platin_lanl2dz.npy\"),\n",
    "    *np.load(\"dataset_platin_lanl2dz.npy\")\n",
    ")"
   ]
  },
  {
   "cell_type": "markdown",
   "metadata": {},
   "source": [
    "# Extract diagonal "
   ]
  },
  {
   "cell_type": "code",
   "execution_count": 3,
   "metadata": {},
   "outputs": [],
   "source": [
    "from SCFInitialGuess.utilities.dataset import extract_triu\n",
    "\n",
    "def extract_diagonal(x, dim=88):\n",
    "    x_batch = x.reshape(-1, dim, dim)\n",
    "    return np.array(list(map(np.diag, x_batch))).reshape(-1, 88)\n",
    "\n",
    "def extract_all_trius(x, dim=88):\n",
    "    return np.array(list(map(lambda y: extract_triu(y, dim), x)))\n",
    "\n",
    "dataset.training = (extract_all_trius(dataset.training[0]), extract_diagonal(dataset.training[1]))\n",
    "dataset.validation = (extract_all_trius(dataset.validation[0]), extract_diagonal(dataset.validation[1]))\n",
    "dataset.testing = (extract_all_trius(dataset.testing[0]), extract_diagonal(dataset.testing[1]))"
   ]
  },
  {
   "cell_type": "markdown",
   "metadata": {},
   "source": [
    "# Train a network"
   ]
  },
  {
   "cell_type": "code",
   "execution_count": null,
   "metadata": {},
   "outputs": [
    {
     "name": "stdout",
     "output_type": "stream",
     "text": [
      "[-] 2018-05-23 16:14:17: No target graph specified for Trainer setup. Creating new graph ...\n",
      "[-] 2018-05-23 16:14:17: Setting up the training in the target graph ...\n",
      "[-] 2018-05-23 16:14:17: network ...\n",
      "[-] 2018-05-23 16:14:17: error function ...\n",
      "[-] 2018-05-23 16:14:17: cost function ...\n",
      "[-] 2018-05-23 16:14:17: training step\n",
      "[-] 2018-05-23 16:14:18: Starting network training ...\n",
      "[ ] 2018-05-23 16:14:18: Val. Cost: 8.798E+03. Error: 8.798E+03. Diff: 1.0E+10\n",
      "[ ] 2018-05-23 16:15:10: Val. Cost: 1.787E+02. Error: 1.787E+02. Diff: 8.6E+03\n",
      "[ ] 2018-05-23 16:16:01: Val. Cost: 3.464E+01. Error: 3.464E+01. Diff: 1.4E+02\n",
      "[ ] 2018-05-23 16:16:54: Val. Cost: 3.269E+01. Error: 3.269E+01. Diff: 1.9E+00\n",
      "[ ] 2018-05-23 16:17:46: Val. Cost: 2.302E+01. Error: 2.302E+01. Diff: 9.7E+00\n",
      "[ ] 2018-05-23 16:18:40: Val. Cost: 1.501E+01. Error: 1.501E+01. Diff: 8.0E+00\n",
      "[ ] 2018-05-23 16:19:33: Val. Cost: 1.312E+01. Error: 1.312E+01. Diff: 1.9E+00\n",
      "[ ] 2018-05-23 16:20:27: Val. Cost: 8.460E+00. Error: 8.460E+00. Diff: 4.7E+00\n",
      "[ ] 2018-05-23 16:21:21: Val. Cost: 4.008E+01. Error: 4.008E+01. Diff: 3.2E+01\n",
      "[ ] 2018-05-23 16:22:15: Val. Cost: 3.012E+00. Error: 3.012E+00. Diff: 3.7E+01\n",
      "[ ] 2018-05-23 16:23:08: Val. Cost: 2.837E+00. Error: 2.837E+00. Diff: 1.8E-01\n",
      "[ ] 2018-05-23 16:24:02: Val. Cost: 3.816E+00. Error: 3.816E+00. Diff: 9.8E-01\n",
      "[ ] 2018-05-23 16:24:56: Val. Cost: 5.100E+00. Error: 5.100E+00. Diff: 1.3E+00\n",
      "[ ] 2018-05-23 16:25:49: Val. Cost: 2.810E+02. Error: 2.810E+02. Diff: 2.8E+02\n",
      "[ ] 2018-05-23 16:26:43: Val. Cost: 4.462E+00. Error: 4.462E+00. Diff: 2.8E+02\n",
      "[ ] 2018-05-23 16:27:37: Val. Cost: 2.516E+00. Error: 2.516E+00. Diff: 1.9E+00\n",
      "[ ] 2018-05-23 16:28:30: Val. Cost: 2.371E+00. Error: 2.371E+00. Diff: 1.5E-01\n",
      "[ ] 2018-05-23 16:29:25: Val. Cost: 2.234E+00. Error: 2.234E+00. Diff: 1.4E-01\n",
      "[ ] 2018-05-23 16:30:19: Val. Cost: 2.100E+00. Error: 2.100E+00. Diff: 1.3E-01\n",
      "[ ] 2018-05-23 16:31:12: Val. Cost: 5.931E+00. Error: 5.931E+00. Diff: 3.8E+00\n",
      "[ ] 2018-05-23 16:32:05: Val. Cost: 3.594E+01. Error: 3.594E+01. Diff: 3.0E+01\n",
      "[ ] 2018-05-23 16:33:00: Val. Cost: 3.232E+00. Error: 3.232E+00. Diff: 3.3E+01\n",
      "[ ] 2018-05-23 16:33:54: Val. Cost: 2.185E+00. Error: 2.185E+00. Diff: 1.0E+00\n",
      "[ ] 2018-05-23 16:34:48: Val. Cost: 1.886E+00. Error: 1.886E+00. Diff: 3.0E-01\n",
      "[ ] 2018-05-23 16:35:42: Val. Cost: 2.108E+00. Error: 2.108E+00. Diff: 2.2E-01\n",
      "[ ] 2018-05-23 16:36:35: Val. Cost: 3.519E+00. Error: 3.519E+00. Diff: 1.4E+00\n",
      "[ ] 2018-05-23 16:37:30: Val. Cost: 1.941E+00. Error: 1.941E+00. Diff: 1.6E+00\n",
      "[ ] 2018-05-23 16:38:23: Val. Cost: 1.556E+01. Error: 1.556E+01. Diff: 1.4E+01\n",
      "[ ] 2018-05-23 16:39:17: Val. Cost: 2.628E+00. Error: 2.628E+00. Diff: 1.3E+01\n",
      "[ ] 2018-05-23 16:40:09: Val. Cost: 2.138E+00. Error: 2.138E+00. Diff: 4.9E-01\n",
      "[ ] 2018-05-23 16:41:03: Val. Cost: 1.859E+00. Error: 1.859E+00. Diff: 2.8E-01\n",
      "[ ] 2018-05-23 16:41:56: Val. Cost: 2.428E+00. Error: 2.428E+00. Diff: 5.7E-01\n",
      "[ ] 2018-05-23 16:42:50: Val. Cost: 1.757E+00. Error: 1.757E+00. Diff: 6.7E-01\n",
      "[ ] 2018-05-23 16:43:44: Val. Cost: 1.703E+00. Error: 1.703E+00. Diff: 5.4E-02\n",
      "[ ] 2018-05-23 16:44:37: Val. Cost: 2.687E+00. Error: 2.687E+00. Diff: 9.8E-01\n",
      "[ ] 2018-05-23 16:45:31: Val. Cost: 7.828E+00. Error: 7.828E+00. Diff: 5.1E+00\n",
      "[ ] 2018-05-23 16:46:24: Val. Cost: 1.622E+00. Error: 1.622E+00. Diff: 6.2E+00\n",
      "[ ] 2018-05-23 16:47:18: Val. Cost: 1.099E+01. Error: 1.099E+01. Diff: 9.4E+00\n",
      "[ ] 2018-05-23 16:48:12: Val. Cost: 1.582E+01. Error: 1.582E+01. Diff: 4.8E+00\n",
      "[ ] 2018-05-23 16:49:05: Val. Cost: 2.975E+00. Error: 2.975E+00. Diff: 1.3E+01\n",
      "[ ] 2018-05-23 16:50:00: Val. Cost: 1.763E+00. Error: 1.763E+00. Diff: 1.2E+00\n",
      "[ ] 2018-05-23 16:50:53: Val. Cost: 2.041E+00. Error: 2.041E+00. Diff: 2.8E-01\n"
     ]
    }
   ],
   "source": [
    "from SCFInitialGuess.nn.networks import EluTrNNN\n",
    "from SCFInitialGuess.nn.cost_functions import RegularizedMSE, MSE\n",
    "from SCFInitialGuess.nn.training import Trainer\n",
    "\n",
    "dim = 88\n",
    "\n",
    "trainer = Trainer(\n",
    "    EluTrNNN([int(dim * (dim + 1) / 2), 2000, 1000, 500, 200, 150, dim]),\n",
    "    cost_function=MSE(),#RegularizedMSE(alpha=1e-7),\n",
    "    optimizer=tf.train.AdamOptimizer(learning_rate=5e-3)\n",
    ")\n",
    "\n",
    "trainer.setup()\n",
    "\n",
    "network, sess = trainer.train(\n",
    "    dataset,\n",
    "    convergence_threshold=5e-7\n",
    ")\n",
    "    "
   ]
  },
  {
   "cell_type": "code",
   "execution_count": null,
   "metadata": {},
   "outputs": [],
   "source": []
  },
  {
   "cell_type": "code",
   "execution_count": null,
   "metadata": {},
   "outputs": [],
   "source": []
  }
 ],
 "metadata": {
  "kernelspec": {
   "display_name": "Python 3",
   "language": "python",
   "name": "python3"
  },
  "language_info": {
   "codemirror_mode": {
    "name": "ipython",
    "version": 3
   },
   "file_extension": ".py",
   "mimetype": "text/x-python",
   "name": "python",
   "nbconvert_exporter": "python",
   "pygments_lexer": "ipython3",
   "version": "3.6.4"
  }
 },
 "nbformat": 4,
 "nbformat_minor": 2
}
