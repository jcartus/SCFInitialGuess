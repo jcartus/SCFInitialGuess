{
 "cells": [
  {
   "cell_type": "code",
<<<<<<< Updated upstream
   "execution_count": 50,
=======
   "execution_count": 1,
>>>>>>> Stashed changes
   "metadata": {},
   "outputs": [
    {
     "name": "stderr",
     "output_type": "stream",
     "text": [
      "/home/jcartus/anaconda3/lib/python3.6/site-packages/h5py/__init__.py:36: FutureWarning: Conversion of the second argument of issubdtype from `float` to `np.floating` is deprecated. In future, it will be treated as `np.float64 == np.dtype(float).type`.\n",
      "  from ._conv import register_converters as _register_converters\n"
     ]
    }
   ],
   "source": [
    "import numpy as np\n",
    "import matplotlib.pyplot as plt\n",
    "from pyscf.scf import hf\n",
    "\n",
    "import matplotlib as mpl\n",
    "mpl.style.use(\"seaborn\")\n",
    "ticker = mpl.ticker\n",
    "\n",
    "from SCFInitialGuess.utilities.analysis import density_cut, matrix_error\n",
    "\n",
    "export_folder = \"/home/jo/Repos/cc2aiPoster/densities/\"\n"
   ]
  },
  {
   "cell_type": "code",
<<<<<<< Updated upstream
   "execution_count": 51,
=======
   "execution_count": 2,
>>>>>>> Stashed changes
   "metadata": {},
   "outputs": [
    {
     "name": "stdout",
     "output_type": "stream",
     "text": [
<<<<<<< Updated upstream
      "[-] 2018-06-10 17:22:56: Data set normalized. Mean value std: 0.01556117276124646\n"
=======
      "[-] 2018-06-04 15:52:28: Data set normalized. Mean value std: 0.01556117276124646\n"
>>>>>>> Stashed changes
     ]
    }
   ],
   "source": [
    "from SCFInitialGuess.utilities.dataset import make_butadien_dataset\n",
    "\n",
    "folder = \"../ethen/\"\n",
    "\n",
    "#index = np.load(folder + \"index_ethan_6-31g**.npy\")\n",
    "molecules = np.load(folder + \"molecules_ethen_6-31g**.npy\")\n",
    "#S = np.load(folder + \"S_ethan_6-31g**.npy\")\n",
    "#P = np.load(folder + \"P_ethan_6-31g**.npy\")\n",
    "S, P = np.load(folder + \"dataset_ethen_6-31g**.npy\")\n",
    "\n",
    "\n",
    "dataset, molecules = make_butadien_dataset(\n",
    "    molecules, \n",
    "    S,\n",
    "    P,\n",
    "    test_samples=100\n",
    ")\n"
   ]
  },
  {
   "cell_type": "markdown",
   "metadata": {},
   "source": [
    "## Pick a sample from the dataset. \n",
    "*make sure it is in the test dataset part and close to the\n",
    "start of the md run!*"
   ]
  },
  {
   "cell_type": "code",
<<<<<<< Updated upstream
   "execution_count": 52,
=======
   "execution_count": 3,
>>>>>>> Stashed changes
   "metadata": {},
   "outputs": [
    {
     "data": {
      "text/plain": [
       "[('C', [-2.7085926267, 2.5159148733, -0.0393244522]),\n",
       " ('C', [-1.4413878805, 2.4121980536, 0.0382945524]),\n",
       " ('H', [-3.1444774443, 3.3070595883, 0.4049164556]),\n",
       " ('H', [-3.2559182595, 1.8235471376, -0.5133957583]),\n",
       " ('H', [-0.8699189975, 3.0920704208, 0.5337558656]),\n",
       " ('H', [-1.0105869843, 1.6187668277, -0.4130137822])]"
      ]
     },
<<<<<<< Updated upstream
     "execution_count": 52,
=======
     "execution_count": 3,
>>>>>>> Stashed changes
     "metadata": {},
     "output_type": "execute_result"
    }
   ],
   "source": [
    "list(molecules[1][0].geometry)"
   ]
  },
  {
   "cell_type": "code",
<<<<<<< Updated upstream
   "execution_count": 53,
=======
   "execution_count": 4,
>>>>>>> Stashed changes
   "metadata": {},
   "outputs": [],
   "source": [
    "#sample_index = list(index).index(0)\n",
    "#dim = 26\n",
    "\n",
    "\n",
    "#mole = molecules[index].get_pyscf_molecule()\n",
    "#s = S[sample_index].reshape(dim, dim)\n",
    "#p = P[sample_index].reshape(dim, dim)\n",
    "#mole = (molecules[0] + molecules[1])[sample_index].get_pyscf_molecule()\n",
    "\n",
    "#sample_index"
   ]
  },
  {
   "cell_type": "code",
<<<<<<< Updated upstream
   "execution_count": 54,
=======
   "execution_count": 44,
>>>>>>> Stashed changes
   "metadata": {},
   "outputs": [],
   "source": [
    "z_value = 4\n",
    "nx = 800\n",
    "ny = 800\n",
    "\n",
    "norm = None#plt.Normalize(0, 7.6e-5)"
   ]
  },
  {
   "cell_type": "code",
<<<<<<< Updated upstream
   "execution_count": 55,
=======
   "execution_count": 45,
>>>>>>> Stashed changes
   "metadata": {},
   "outputs": [
    {
     "data": {
      "text/plain": [
<<<<<<< Updated upstream
       "<pyscf.gto.mole.Mole at 0x7f40e1f00518>"
      ]
     },
     "execution_count": 55,
=======
       "<pyscf.gto.mole.Mole at 0x7f1083012438>"
      ]
     },
     "execution_count": 45,
>>>>>>> Stashed changes
     "metadata": {},
     "output_type": "execute_result"
    }
   ],
   "source": [
    "from pyscf.gto import Mole\n",
    "\n",
    "# this molecule was not in dateset!!!\n",
    "#mole = molecules[1][0].get_pyscf_molecule()\n",
    "mole = Mole()\n",
    "mole.atom = molecules[1][0].geometry\n",
    "\n",
    "mole.basis = \"6-31g**\"\n",
    "mole.build()"
   ]
  },
  {
   "cell_type": "code",
<<<<<<< Updated upstream
   "execution_count": 56,
=======
   "execution_count": 46,
>>>>>>> Stashed changes
   "metadata": {},
   "outputs": [
    {
     "data": {
      "text/plain": [
       "(0.00353784474847633, 0.7261730520982445)"
      ]
     },
<<<<<<< Updated upstream
     "execution_count": 56,
=======
     "execution_count": 46,
>>>>>>> Stashed changes
     "metadata": {},
     "output_type": "execute_result"
    }
   ],
   "source": [
    "coords = mole.atom_coords()[:, 2]\n",
    "np.mean(coords), np.std(coords)"
   ]
  },
  {
   "cell_type": "markdown",
   "metadata": {},
   "source": [
    "# Converged "
   ]
  },
  {
   "cell_type": "code",
<<<<<<< Updated upstream
   "execution_count": 57,
=======
   "execution_count": 47,
>>>>>>> Stashed changes
   "metadata": {},
   "outputs": [
    {
     "data": {
      "image/png": "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\n",
      "text/plain": [
<<<<<<< Updated upstream
       "<matplotlib.figure.Figure at 0x7f40a1fc4860>"
=======
       "<matplotlib.figure.Figure at 0x7f10831655c0>"
>>>>>>> Stashed changes
      ]
     },
     "metadata": {},
     "output_type": "display_data"
    }
   ],
   "source": [
    "mf = hf.RHF(mole)\n",
    "mf.verbose = 1\n",
    "mf.run()\n",
    "\n",
    "dm = mf.make_rdm1()\n",
    "dm_density, x, y = density_cut(mole, dm, nx, ny, z_value=z_value)\n",
    "\n",
    "plt.contourf(*np.meshgrid(x, y), dm_density, locator=ticker.LogLocator(), norm=norm)\n",
    "plt.colorbar()\n",
    "plt.show()"
   ]
  },
  {
   "cell_type": "markdown",
   "metadata": {},
   "source": [
    "# H_core"
   ]
  },
  {
   "cell_type": "code",
<<<<<<< Updated upstream
   "execution_count": 58,
=======
   "execution_count": 48,
>>>>>>> Stashed changes
   "metadata": {},
   "outputs": [],
   "source": [
    "dm_1e = hf.init_guess_by_1e(mole)\n",
    "dm_1e_density, x, y = density_cut(mole, dm_1e, nx, ny, z_value=z_value)"
   ]
  },
  {
   "cell_type": "code",
<<<<<<< Updated upstream
   "execution_count": 59,
=======
   "execution_count": 49,
>>>>>>> Stashed changes
   "metadata": {},
   "outputs": [
    {
     "data": {
      "text/plain": [
       "(76.03302947039614, 2.1843728613819694e-06)"
      ]
     },
<<<<<<< Updated upstream
     "execution_count": 59,
=======
     "execution_count": 49,
>>>>>>> Stashed changes
     "metadata": {},
     "output_type": "execute_result"
    }
   ],
   "source": [
    "np.max(dm_1e_density), np.min(dm_1e_density)\n"
   ]
  },
  {
   "cell_type": "code",
<<<<<<< Updated upstream
   "execution_count": 60,
=======
   "execution_count": 50,
>>>>>>> Stashed changes
   "metadata": {},
   "outputs": [
    {
     "data": {
      "image/png": "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\n",
      "text/plain": [
<<<<<<< Updated upstream
       "<matplotlib.figure.Figure at 0x7f40a2323128>"
=======
       "<matplotlib.figure.Figure at 0x7f1082fd6fd0>"
>>>>>>> Stashed changes
      ]
     },
     "metadata": {},
     "output_type": "display_data"
    }
   ],
   "source": [
    "plt.contourf(*np.meshgrid(x, y), dm_1e_density, locator=ticker.LogLocator(), norm=norm)\n",
    "plt.colorbar()\n",
    "plt.show()"
   ]
  },
  {
   "cell_type": "code",
<<<<<<< Updated upstream
   "execution_count": 61,
=======
   "execution_count": 51,
>>>>>>> Stashed changes
   "metadata": {},
   "outputs": [
    {
     "data": {
      "text/plain": [
       "'\\nfor z in np.linspace(-1,5, 20):    \\n    dm_1e = hf.init_guess_by_1e(mole)\\n    dm_1e_density, x, y = density_cut(mole, dm_1e, nx, ny, z_value=z)\\n    plt.figure()\\n    plt.contourf(*np.meshgrid(x, y), dm_1e_density, locator=ticker.LogLocator())\\n    plt.colorbar()\\n    plt.title(\"z = \" + str(z))\\nplt.show()\\n'"
      ]
     },
<<<<<<< Updated upstream
     "execution_count": 61,
=======
     "execution_count": 51,
>>>>>>> Stashed changes
     "metadata": {},
     "output_type": "execute_result"
    }
   ],
   "source": [
    "\"\"\"\n",
    "for z in np.linspace(-1,5, 20):    \n",
    "    dm_1e = hf.init_guess_by_1e(mole)\n",
    "    dm_1e_density, x, y = density_cut(mole, dm_1e, nx, ny, z_value=z)\n",
    "    plt.figure()\n",
    "    plt.contourf(*np.meshgrid(x, y), dm_1e_density, locator=ticker.LogLocator())\n",
    "    plt.colorbar()\n",
    "    plt.title(\"z = \" + str(z))\n",
    "plt.show()\n",
    "\"\"\""
   ]
  },
  {
   "cell_type": "markdown",
   "metadata": {},
   "source": [
    "# SAP"
   ]
  },
  {
   "cell_type": "code",
<<<<<<< Updated upstream
   "execution_count": 62,
=======
   "execution_count": 54,
>>>>>>> Stashed changes
   "metadata": {},
   "outputs": [],
   "source": [
    "dm_sap = hf.init_guess_by_atom(mole)\n",
    "dm_sap_density, x, y = density_cut(mole, dm_sap, nx, ny, z_value)"
   ]
  },
  {
   "cell_type": "code",
<<<<<<< Updated upstream
   "execution_count": 63,
=======
   "execution_count": 59,
>>>>>>> Stashed changes
   "metadata": {},
   "outputs": [
    {
     "data": {
      "image/png": "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\n",
      "text/plain": [
<<<<<<< Updated upstream
       "<matplotlib.figure.Figure at 0x7f40a1e23b70>"
=======
       "<matplotlib.figure.Figure at 0x7f1082f67e80>"
>>>>>>> Stashed changes
      ]
     },
     "metadata": {},
     "output_type": "display_data"
    }
   ],
   "source": [
    "dm_sap_density[dm_sap_density > 1e-1] = 1e-1\n",
    "#norm = None\n",
    "plt.contourf(*np.meshgrid(x, y), dm_sap_density, locator=ticker.LogLocator())#, norm=norm)\n",
    "plt.colorbar()\n",
    "plt.title(\"SAP\")\n",
    "plt.show()"
   ]
  },
  {
   "cell_type": "markdown",
   "metadata": {},
   "source": [
    "# GWH"
   ]
  },
  {
   "cell_type": "code",
<<<<<<< Updated upstream
   "execution_count": 64,
=======
   "execution_count": 15,
>>>>>>> Stashed changes
   "metadata": {},
   "outputs": [],
   "source": [
    "dm_gwh = hf.init_guess_by_wolfsberg_helmholtz(mole)\n",
    "dm_gwh_density, x, y = density_cut(mole, dm_gwh, nx, ny, z_value)"
   ]
  },
  {
   "cell_type": "code",
<<<<<<< Updated upstream
   "execution_count": 65,
=======
   "execution_count": 16,
>>>>>>> Stashed changes
   "metadata": {},
   "outputs": [
    {
     "data": {
      "image/png": "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\n",
      "text/plain": [
<<<<<<< Updated upstream
       "<matplotlib.figure.Figure at 0x7f40a18fc7b8>"
=======
       "<matplotlib.figure.Figure at 0x7f1083081b38>"
>>>>>>> Stashed changes
      ]
     },
     "metadata": {},
     "output_type": "display_data"
    }
   ],
   "source": [
    "plt.contourf(*np.meshgrid(x, y), dm_gwh_density, locator=ticker.LogLocator(), norm=norm)\n",
    "plt.colorbar()\n",
    "plt.title(\"GWH\")\n",
    "plt.show()"
   ]
  },
  {
   "cell_type": "markdown",
   "metadata": {},
   "source": [
    "# MINAO"
   ]
  },
  {
   "cell_type": "code",
<<<<<<< Updated upstream
   "execution_count": 66,
=======
   "execution_count": 17,
>>>>>>> Stashed changes
   "metadata": {},
   "outputs": [],
   "source": [
    "dm_minao = hf.init_guess_by_minao(mole)\n",
    "dm_minao_density, x, y = density_cut(mole, dm_minao, nx, ny, z_value)"
   ]
  },
  {
   "cell_type": "code",
<<<<<<< Updated upstream
   "execution_count": 67,
=======
   "execution_count": 18,
>>>>>>> Stashed changes
   "metadata": {},
   "outputs": [
    {
     "data": {
      "image/png": "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\n",
      "text/plain": [
<<<<<<< Updated upstream
       "<matplotlib.figure.Figure at 0x7f40a1e51c50>"
=======
       "<matplotlib.figure.Figure at 0x7f10830e0a90>"
>>>>>>> Stashed changes
      ]
     },
     "metadata": {},
     "output_type": "display_data"
    }
   ],
   "source": [
    "plt.contourf(*np.meshgrid(x, y), dm_minao_density, locator=ticker.LogLocator(), norm=norm)\n",
    "plt.colorbar()\n",
    "plt.title(\"MINAO\")\n",
    "plt.show()"
   ]
  },
  {
   "cell_type": "markdown",
   "metadata": {},
   "source": [
    "# NN"
   ]
  },
  {
   "cell_type": "code",
<<<<<<< Updated upstream
   "execution_count": 68,
=======
   "execution_count": 19,
>>>>>>> Stashed changes
   "metadata": {},
   "outputs": [],
   "source": [
    "import tensorflow as tf\n",
    "from SCFInitialGuess.nn.networks import EluFixedValue\n",
    "\n",
    "graph = tf.Graph()\n",
    "\n",
    "structure, weights, biases = np.load(\"../ethen/network_ethen.npy\", encoding=\"latin1\")\n",
    "\n",
    "with graph.as_default():\n",
    "    sess = tf.Session()\n",
    "    network = EluFixedValue(structure, weights, biases)\n",
    "    network.setup()\n",
    "    sess.run(tf.global_variables_initializer())"
   ]
  },
  {
   "cell_type": "code",
<<<<<<< Updated upstream
   "execution_count": 69,
=======
   "execution_count": 20,
>>>>>>> Stashed changes
   "metadata": {},
   "outputs": [
    {
     "data": {
      "text/plain": [
       "(1, 1176)"
      ]
     },
<<<<<<< Updated upstream
     "execution_count": 69,
=======
     "execution_count": 20,
>>>>>>> Stashed changes
     "metadata": {},
     "output_type": "execute_result"
    }
   ],
   "source": [
    "from SCFInitialGuess.utilities.dataset import extract_triu\n",
    "dim = 48\n",
    "s = hf.get_ovlp(mole)\n",
    "s_norm = dataset.input_transformation(s.reshape(-1, dim**2))\n",
    "s_norm = extract_triu(s_norm, dim).reshape(-1, int(dim * (dim +1 )/ 2))\n",
    "s_norm.shape"
   ]
  },
  {
   "cell_type": "code",
<<<<<<< Updated upstream
   "execution_count": 70,
=======
   "execution_count": 21,
>>>>>>> Stashed changes
   "metadata": {},
   "outputs": [],
   "source": [
    "from SCFInitialGuess.nn.post_processing import multi_mc_wheeny\n",
    "from SCFInitialGuess.utilities.dataset import reconstruct_from_triu\n",
    "\n",
    "dm_nn = network.run(sess, s_norm)\n",
    "dm_nn = reconstruct_from_triu(dm_nn, dim).reshape(dim, dim).astype(\"float64\")\n",
    "dm_nn_density, x, y = density_cut(mole, dm_nn, nx, ny, z_value) "
   ]
  },
  {
   "cell_type": "code",
<<<<<<< Updated upstream
   "execution_count": 71,
=======
   "execution_count": 22,
>>>>>>> Stashed changes
   "metadata": {},
   "outputs": [
    {
     "name": "stdout",
     "output_type": "stream",
     "text": [
<<<<<<< Updated upstream
      "[0.015133127737796083]\n",
      "0.011091571657369358\n"
=======
      "[0.015133127519970467]\n",
      "0.011091571890477147\n"
>>>>>>> Stashed changes
     ]
    }
   ],
   "source": [
    "from SCFInitialGuess.utilities.analysis import measure_idempotence_error, measure_absolute_error\n",
    "\n",
    "print(list(measure_idempotence_error([dm_nn], [s])))\n",
    "\n",
    "print(np.mean(np.abs(dm - dm_nn)))\n"
   ]
  },
  {
   "cell_type": "code",
<<<<<<< Updated upstream
   "execution_count": 72,
=======
   "execution_count": 23,
>>>>>>> Stashed changes
   "metadata": {},
   "outputs": [
    {
     "data": {
      "image/png": "iVBORw0KGgoAAAANSUhEUgAAAV4AAAEQCAYAAAD4eRwGAAAABHNCSVQICAgIfAhkiAAAAAlwSFlzAAALEgAACxIB0t1+/AAAADl0RVh0U29mdHdhcmUAbWF0cGxvdGxpYiB2ZXJzaW9uIDIuMS4yLCBodHRwOi8vbWF0cGxvdGxpYi5vcmcvNQv5yAAAGmFJREFUeJzt3X/sXXV9x/Fnp4O6biBU6xco9Rsa9laoOmwmdCI/7OJI1ThrjY44Q5TFHzXSGCZGl4BxC0aGraExA1QwQ5P9yKDOievWhOwHy6xNZKbEd5a6phb8UqwCVSmj63d/3Hvh9vb+OPfcc87nx3k9/vre8733nM89P173fT/nfM5dsri4iIiINOdXQjdARKRtFLwiIg1T8IqINEzBKyLSMAWviEjDFLwiIg17YV0zNrM1wA5gq7tvL/H6c4F7gQfc/frutNOBrwOnAz8Hrnb3n1bXahGR+tVS8ZrZMuA2YNcMs/nKkNdvoRPElwLfAG6YYf4iIkHUVfE+A2ygLxjN7AJgO7AIHAGucfcnxsxjI/AOYE3ftPXA+7p/76ATviIiSaml4nX3Y+7+9MDk24APuPt6YCewecI8jgyZPAc83v17AThr1raKiDSttj7eIV4H3GlmAKcCu83stcAXB563w91vHjGPJQN/a7yziCSnyeD9JXCluw+G5SVTzOMROlXvk8A5wI8rapuISGOavJzsIeAqADN7t5mtLzGPncA7u3+/A/h2RW0TEWnMkjruTmZma4FbgXngWTqV6qeAzwLHgacZcymYmZ0DfI1OdbsM2Ad8GDgA3AMsB54A3uPuT1b+BkRExjCz1wMfBE4BbnH3707z+lqCV0QkRcPGH5jZVjpdoovAde6+28xeBfw38GrgMnf/82mWo5FrIiIMH39gZpcD57v7OuBaOpfE4u7fB95I51v8vdMuq/KTawsLC0NL6MOHD1e9qMocOnQodBOysGLFitBNkMCWL18+1fPn5uaWTH7WaEuXLi38lf3o0aOTlnXS+AM6YwfuA3D3h83sDDM7DXglcD/wHeAm4CNTNLuZqxpiDV0FbrX612fOITxuv8n5fRdx+PDhqcM3Fu5+DDjWveS1Zw7Y0/f4se60M4Hb6ZyDumfaZdUevDGGrgK3fr11nEoQVbVPTDOfVNbNtFIO3yEGq+QlwKK730+n4i2l1uCNLXQVuM0bXOchwya27T+qPTkEcu/YzyCAe2MHes6mM2p2JrUFb0yhG9sB12Z1B3EO2zqmD6tZZVD97gQ+DdxuZhcBj464ncFUKr+cbGFhYVGhK7MaFTZt356phvCo8I3p5NqI8QcbgY8Dl9EZg7DZ3R8q296eyoN37969UVwY3PYDVNohtSAeDOCYgrdJWV7Hq9CVtjh06FBS+3tM34ZDavImObVLaQcUqVJKl/Jl0O87s2wqXoWuSEcKVXDbK98sgjf2nUwkhNgDuM3hm3RXQ8w7lUgsUhvM0gbJVrwKXZHpxF4Bt0mSwaudR6Q8BXB4yQWvdhiRaiiAw0kqeLWTiFRPAdy8JE6u5bxT7N+/v7J5zc/PVzYvaZ9Dhw7pBFxDog/eXEK3yoCddhkKZClKV0A0I+rgTTl0mwjaogbboiCWSVT91iva4E0xdGMK23H626kQllEUvvWJNnhTkUrYjqIQlnHU9VCPKIM3hWo39cAdRiEso6j6rVZ0wRt76OYYuMP03qcCWHoUvtWJKnhjDt22BO4gVcHSL7bwXbVqVegmlBJN8MYaum0N3GFUBQuo37cKUQRvjKGrwB1NASwQX/WbkuDBq9BNV87dEFXtA7mtl0EK33KCB29MFLjlpVoF173N2zCaUOE7vaDBG1O1q9CtRqwBHNv2Hdae2NbZNBS+0wkWvLGEbmwHZC5CdkOkuk1T77pR+BYXJHgVuu1Sd6DkuB1TDWGFbzGt7ePN8WBNQdmv2G3eXrF234yi8J2s8eCNodpt80EcI22PYlKtguVkjf4ChUJXpBr79++Pel+O4ViPWVI//TOrmHdUkTJi3qcVvqMVCl4ze5GZ/dDMrim7oNAbIeYdVGQWMVe/oY/7WBWteP8EOFxnQ+oU604pUqVYA1jhe7KJwWtmrwAuAP6h7EJCrvgYd0SROmmfj1+RivdW4GNlF6DQFWlebNWvqt4TjQ1eM3sv8B/u/j8NtacyMe10szh48GDoJkjCYjoOFL7Pm3Qd75uB88zsLcBK4BkzO+ju/1xk5qFWdEw72zhFQ7Xo81auXDlLcyRT+/fvj+a6Xw2u6BgbvO7+rt7fZnYTsL9o6MrJ6q5eB+evIJaemMI3B2Z2FvAFYKe7f2na12c3ZDi2ajdkV0H/shXCEsvQ45irXjNbA+wAtrr79u60rcAlwCJwnbvvBo4DdwDzZZZTeACFu9/k7ncXfX6IboaYQvfgwYNR9c/22hNTmySMGI6TGPt7zWwZcBuwq2/a5cD57r4OuBbYDuDujwHHyi4ru4o3tBSCrddGVcHtlUvXw+rVq6uc3TPABuCGvmnrgfsA3P1hMzvDzE5z96dmWVAtQ4bbWu2mELr9VAG3W+hjJraq192PufvTA5PngMf7Hj8GzJnZeuAjwLvM7O3TLiuLijf0DpR6eKkCbq9cKt8aLRnyeNHdd9HXJTGtyive2D7F6pZ66PZTBdxOoQuXyD1Cp+rtORtYmHWmyd+dLOROk2tIKYBFnrMT2ARgZhcBj7r7kVlnmkVXQ9PaEkrqgmgPdTmAma2lc4uEeeBZM9sEbAT2mNmDdC4h21zFspIO3hDVbltCt58CuB3aHr7uvge4Ysi/PlH1spIO3qa1MXT75R7AdW3flNZX28O3KckGb9PVbttDt18OAdzk9tQIQhmUbPBKeCkFcCwfnCmEsKre+iUZvKp24xJrAMe+3WIOYYVvvZIM3ibFfvDGJHQAp7ytQq87aVZywdtktZvygRxSU7enzHH7HDx4MJrwVdVbn+SCV9JTVRDnGLTDxFT9KnzroeAdoS0HeQhat8XEVP1KtZIaMqwx5dI2MQzf1nFXvaSCtymhd3SRQdon86LgFUlEyPBV1VutZIK3qQ2vykJipv0zD8kEr4h0hApfVb3VUfCKJEiVb9qSCF51M4hITnQdr0iiQlznG9uAilWrVoVuQikK3siNqsJ1Yb2ABlmkSsHbFVM3Q5G2NHU/BJFBsVW9KUqij7dNyn4AxDDCScLQdk9P9MHbpktYqjiAFMDtpG2eluiDty2qPnAUwCLxUvASvlqoc/mh35vkqU3fROug4G0BVb/toG2cDgVvYKF+7VZEwlHwtoyq37xp26ZBwdtSOkBFwok6eNWBXy9VvzILHZ/lRR280gwFcF60LeOn4JXn6IAVacbEezWY2a8BdwMvA5YCn3H3b9bcLgkkpp8WD003oJG6FLlJzluB77r758zs5cA/AQrezPVXvzmHz6Qqf9z/c14vUq+Jwevuf9X38FxA30dbZlj4pBw6VXWp6NuBlFX4tpBm9iCwEnhLfc2RVJQJr5ABVfew7LaGr24RWU7h4HX33zGz3wLuMbPXuPtije2SDE0Kv6rDq+lRgTGFb2ztyZ2ZnQV8Adjp7l+a9PwiJ9fWAofc/Ufu/j0zeyHwUuDQzK0V6VM2mGO5GkNhlz4zWwPsALa6+/butK3AJcAicJ277x7y0uPAHcB8keUUqXgvA14ObDGzlwG/DvykyMxFqhRLwI6j8E2XmS0DbgN29U27HDjf3deZ2QXAXcDFZrYFuLT7tL3ufqOZvbLosooE718AXzazfwVeBGx29+NFF1CWRsWISMOeATYAN/RNWw/cB+DuD5vZGWZ2mrtvA7aVXVCRqxqeBq4uuwAZb+XKlUlUclKcqt7mVLme3f0YcMzM+ifPAXv6Hj/WnfZU/5PMbD3wIeB0Mzvs7veOW5Z+7FJEZLQlQx6fdGGBu++ir4tiEg0ZFhEZ7RE6FW7P2cDCrDNV8IqIjLYT2ARgZhcBj7r7kVlnqq4GERGeu3T2VjqXhD1rZpuAjcCe7gCy48DmKpal4BURAdx9D3DFkH99ouplqashAjoDLtIuCl4RkYYpeEVEGqY+3swdOHBg7P9XrVrVUEukSeq+ipsq3oxNCt3ec4o8T0Sqo+DNUJkwVfiKNEfBmxkFqEj8FLwZmTV0cwztXvWf43uTdOnkmpzgwIEDyZ9wGxWy/dNTf4+SNlW8LbNv3z727dsXuhm1KVrZqgqWkKKseHUT9GoNC9p9+/axevXqAK2pR9kQzaHCl/So4m2BnAK2Dqp8pWkK3gg08QsUg+GbUxhPCs4i3StVhm/owQuhly+TRdnVIPXIKWx7xgXmYNjm1r0Sg/n5+dBNSJIqXmmVnE8sSjpaH7w5/dBkFSeJcjnRVCZg1dcrTVFXQ2BVB/+qVatKB0guoTuJuhzykWp/dusrXunILXTHBeuo/+W2DiReCt4MrVq1aqoQyTVwhgWsKl2JgboaMtYL1GFdD7mE7aSuldWrVzfetXDw4MFkvwJLMxS8LZBLyJZVJHTbvo6kWepqkOTNGpoKXWmagleyUDY8FboSgoJXsqGTipIK9fFKdsadVOz/f450Ui8NrQ7enEatyclyDlhJm7oaREQapuAVEWmYglekBurGknEUvCIZaTLwdS/e8hS8IiINU/AGpst/RNqn0OVkZvY54A3d59/s7n9Xa6tERDI2seI1syuBNe6+DrgK2FZ7q1pGVa9IuxSpeP8F+E73758By8zsBe7+f/U1S0QkHWb2euCDwCnALe7+3XHPnxi83YD9RffhtcC3FLrVW7lypS5BEgnMzNYAO4Ct7r69O20rcAmwCFzn7ruHvPQp4I+AVwNXALMFb1+D3ga8H3hT0dfIdEKFbxNdHfpQkdiZ2TLgNmBX37TLgfPdfZ2ZXQDcBVxsZluAS7tP2+vuN5rZBuB6OgE8VtGTa78HfAq4yt2fnOrdRCzGKrOJNoXoU55mmbFtE4lXxdcSPwNsAG7om7YeuA/A3R82szPM7DR330bf+S4zuxi4n0637E3AR8YtaGLwmtnpwC3A77r7T6d7H+XMz8+zf//+JhYVpV5IVRVAqZ28G2yvglia4O7HgGNm1j95DtjT9/ix7rSnBl5+JnA7sAy4Z9KyilS87wJeAvx1X4Pe6+7lfkNcCisbwKkF7ST970chLA1bMuTx4uCT3P1+OhVvIUVOrt0B3FF0hlK93IJ0FlV/G8iN9pXKPUKnwu05G1iYdaYauSZJWrlypUJGmrAT2ARgZhcBj7r7kVln2uoboUv6VAFLVcxsLXArMA88a2abgI3AHjN7EDgObK5iWa0P3hivbJDpxbYdc6/Gc7wzmbvvoXMN7qBPVL0sdTVINtT9IKmINnhz/ESVZih8JXbRBq/ILFT9SswUvKhCylnso/SknRS8kr0mq1+FrhQRdfA22c+rAyZ/6n6QWEQdvCJ1qCuAQ4d6U8vXie/ZKXj7hD5wpFlVBbAqaZmWgldab5bgVOBKGdGPXGv6FpGxjYCS5gwL0cF9QUErVYg+eENQ+EpPKkGbSjulQ10NIlKYTqxVI4ngDbGxVUGISF2SCN5QFL6SAu2n6UkmeEN9xdFOLSJV08m1AnSyTWLVZGEQY//uihUrQjehlGQqXgi74VX5ikhVkgre0BS+IlKF5II39Ncdha/Eou3dDClLLnhjoLH5Epr2v7QleXKt6WHEo7TxpNssB3zb1pXIKEkGb0xy/3nxKiurwXnlus7q1nS1q26G6iUbvLFUvT25BHCTB3Uu66xJ6mLIQ7LBC/GFL6QZJqEP5hTXWVuo2q1H0sEbs/4wiy1QQgftKArg8WLdbjK95IM3xqp3UOgQTu2AVQCfLMQ2VLVbn+SDF9II3566TzClFrLjKIA7ctqm0pFF8EJa4dtPB9Vkbbxsr0f7R54qH0CR6k0rJG5tHLQS8v2qm6FeWY1c086Sv7YEsEI3b7UEb8iqVztNO+QawLm+LzlRVhVvj8K3PXIKqhjeh46dZtQWvKH7erUDtUsMoVVWTh8eUkyhqxrMbA2wA9jq7tuLznzFihUcOnSobNtmluqVDlJO6Ouly4gpcFWslGdmHwXWAE8B97j798Y9f2Lwmtky4DZgVyUtbJjCt51ivwY4psAFhW7PsCLTzLYClwCLwHXuvnvIS88EjgKnAI9OWk6RivcZYANwQ7Gmnyh01QsK3zaLrQqOLXBDCt0dOWhYkWlmlwPnu/s6M7sAuAu42My2AJd2n7YXuBN4HDgX2AJ8ctyyJgavux8DjplZibcSD4WvhArh2MNW1e5zhhWZ64H7ANz9YTM7w8xOc/dtwLbek8zsCjqV7hPAqZMW1MjItRiqXlD4yvPqHLode9D2CxW6VVW7y5cvr2Q+MLLInAP29D1+rDvtqYGXnwJ8hc4FC386aVmNDRmOKXwBBbCcIKWwrIoq3UKWDHm8OPgkd98J7Cw600av442pT0c7nbRZyP0/phwo4BE6FW7P2cDCrDOdGLxmttbMHgCuAa4zswfM7MxZFxwDha+ITLAT2ARgZhcBj7r7kVlnumRx8aSqeSZ79+6dOMMYuhwGqetB2iKmavfCCy8c/Co/lYWFhcIBNjc3N3ZZZrYWuBWYB56lU+1uBD4OXAYcBza7+0Nl29sTJHghzvAFBbDkLfS3vJiDt0nB7tUQaz9P6B1TpC6h9+1Yj/kQsrxJzqzm5+eD76QiVQq9Pyt0TxQ0eGPfGApgyYH24fgE/+mfWK7vHad/x21rH3DZg7et6ysGsQRu7AVWCMGDF9II3542DMCo8oDVh1YYCt24RRG8kFb4Qj6B0uQBmss6i10soSujRRO8kF749qQUKLEclG345hBCLNsXVO2OE1XwQrrh2zNsxw8VLjEdhKOk9KEVs9i2tUJ3vOiCF9IP30GjDooqgia2A24WqoLLiW0fUOhOFmXwQn7hO0xsB0wsFMDFaP9JV9QDKPTJ2W66jnq0WNeLjtlioq14e9pQ+cp4qoCfF2vggkJ3GtEHLzy/QRXA7dbmAI45cEGhO60kgrdH1a9Au66EiD1wQaFbRlLBCwpfOVGOVXAKYduj0C0nueAFha+cLPUqOKWw7VHolpdk8IL6fWW0wRCLNYhTDNueWEL3xS9+cegmlJJs8Pao+pVJYgnilIO2Xyyhm7LkgxdU/cp0mhjWnUvIDlLoViOL4O1R9Stl5RqUVVLoVifqkWtlrFixQjuISMV0TFUru+DtUQCLVEPHUfUqD97ly5dXPcuZKIBFytOxU49aKt7YwhcUwCLT0vFSn9pOri1fvpzDhw/XNfvSdAWEyHgK3PrV2scbY+XbowpY5GQ6JppR+8m1mMMXFMAiPToOmtPIdbyxdjv069/p1A0hbaLAbV5jAyh6lW/sAQwKYWkPhW4YjY9cS6H67acQ7hh2gLZ5faROgRtWkCHDqYVvT84hXOZAHPea3NZPLhS4cQh2r4ZUw7cnxQqwyYNucFmxr5s2iC10Yz/xXqegN8lJqd+3iFE7dpOhE9vB1ZPzt4XYxbhPtDl0IZK7k6Ve/U4S444fkgaxNCPG/a7tgdsTRfBCftWvTKYquB4xBi7kHbpm9gfAWuClwA/c/eZxz1+yuLhYaQMWFhZmnqHCt90UwuXEGrgwOnTn5uaWzDLfo0ePFs6bpUuXTlyWma0BdgBb3X17d9pW4BJgEbjO3XePef1ngT9z9yPjlhNNxdtP1W+7qRIuLuaw7Uml0jWzZcBtwK6+aZcD57v7OjO7ALgLuNjMtgCXdp+2191vNLPfBA5NCl2oIXhn/QQbmFdVs5JEXXjhhaGbIBErUsVO4RlgA3BD37T1wH0A7v6wmZ1hZqe5+zZg28Drrwa+VGRB2d4IXURkGu5+zN2fHpg8Bzze9/ix7rRhznP3g0WWpeAVERltsKJeQqev9yTu/t6iM1XwioiM9ggnVrhnAwuzzlTBKyIy2k5gE4CZXQQ8WuTk2SSVX04mIpIiM1sL3ArMA8/SqXY3Ah8HLgOOA5vd/aFZl6XgFRFpmLoaREQaFuUAiqaY2cuAHwBvd/cHAjenMDNbAXwVWAqcAnzM3f8zbKumY2YvBL4MnAf8KnC9u/9b2FZNr3uB/d8A73P3b4ZuzzSmGZEl1Wp7xXsL8MPQjSjhPcBfuvuVwCeBzwRuTxl/CPzC3d8AvB/4fOD2TM3MVgMfA1L9wDjf3dcB1wLbAzepVVobvGb2RuAI8P3QbZmWu3/e3b/efXguUOii7cjcQye0oHOBehrjSk/0YzonX54K3ZASThiRBZxhZqeFbVJ7tLKrwcxOAW4E3sbJw/6SYGZzwN8DvwG8MXBzpubuz9I5cwywBfj6mKdHyd1/CWBmoZtSxhywp+9xb0RWih8iyck+eM3sWjpfpfrdD9zp7k/EftCMaP+N7v6PwG+b2QbgbuBNTbetqHHvwcw2A68F3tp8y4qbsB1SVHhEllSvlZeTmdm/Ay/oPlxN56vuO919b7hWFdftn/svd/9Z9/FP3P0lgZs1NTN7P/BO4Pfd/Wjo9pRlZncDf5vSyTUzuwn4sbvf3n38Q+A1VQwOkMmyr3iHcffX9/7uHjR3pxK6XRuBi4BtZvYq4EeB2zM1MzsP+CBwecqhm7CdwKeB26sckSXFtDJ4M/AZ4KtmthE4FfhQ4PaUcS2dE2rf6uvueZO7/2+4Jk3HzN4M/DHwCmCtmX3U3aPt8unn7g+a2R4ze5DuiKzQbWqTVnY1iIiE1NrLyUREQlHwiog0TMErItIwBa+ISMN0VYOInGDYT5xP+fpzgXuBB9z9+u600+mMTjwd+Dlwtbv/tLpWp0UVr4g8Z9hPnJfwlSGv30IniC8FvsGJv+TbOqp4RaTfST9xbmYX0Ll72SKdG0td4+5PjJnHRuAdwJq+aeuB93X/3kEnfFtLFa+IPGfET5zfBnzA3dfTGfE2drDFiBFw/T+TvgCcNWtbU6aKV0QmeR1wZ3eE4anAbjN7LfDFgeftcPebR8xjycDfrR65peAVkUl+CVzp7oNheckU8+j9TPqTwDl07mXcWupqEJFJHgKuAjCzd5vZ+hLz2EnnTnTQ6f/9dkVtS5Lu1SAizxnxE+efAj5L52Y6TzPmUjAzOwf4Gp3qdhmwD/gwcIDOr44sB54A3uPuT9b5XmKm4BURaZi6GkREGqbgFRFpmIJXRKRhCl4RkYYpeEVEGqbgFRFpmIJXRKRh/w9oNxuyojPJagAAAABJRU5ErkJggg==\n",
      "text/plain": [
<<<<<<< Updated upstream
       "<matplotlib.figure.Figure at 0x7f40a1d55eb8>"
=======
       "<matplotlib.figure.Figure at 0x7f10832cb908>"
>>>>>>> Stashed changes
      ]
     },
     "metadata": {},
     "output_type": "display_data"
    }
   ],
   "source": [
    "plt.contourf(*np.meshgrid(x, y), dm_nn_density, locator=ticker.LogLocator(), norm=norm)\n",
    "plt.colorbar()\n",
    "plt.show()"
   ]
  },
  {
   "cell_type": "code",
<<<<<<< Updated upstream
   "execution_count": 73,
=======
   "execution_count": 24,
>>>>>>> Stashed changes
   "metadata": {},
   "outputs": [
    {
     "name": "stdout",
     "output_type": "stream",
     "text": [
      "[0.005211127597438593]\n"
     ]
    }
   ],
   "source": [
    "from SCFInitialGuess.nn.post_processing import multi_mc_wheeny\n",
    "\n",
    "dm_mcw5 = multi_mc_wheeny(dm_nn, s, 5)\n",
    "dm_mcw5_density, x, y = density_cut(mole, dm_mcw5, nx, ny, z_value) \n",
    "\n",
    "print(list(measure_idempotence_error([dm_mcw5], [s])))"
   ]
  },
  {
   "cell_type": "code",
<<<<<<< Updated upstream
   "execution_count": 74,
=======
   "execution_count": 25,
>>>>>>> Stashed changes
   "metadata": {},
   "outputs": [
    {
     "data": {
      "image/png": "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\n",
      "text/plain": [
<<<<<<< Updated upstream
       "<matplotlib.figure.Figure at 0x7f40a17c5748>"
=======
       "<matplotlib.figure.Figure at 0x7f10830f5ef0>"
>>>>>>> Stashed changes
      ]
     },
     "metadata": {},
     "output_type": "display_data"
    }
   ],
   "source": [
    "plt.contourf(*np.meshgrid(x, y), dm_mcw5_density, locator=ticker.LogLocator(), norm=norm)\n",
    "plt.colorbar()\n",
    "plt.show()"
   ]
  },
  {
   "cell_type": "markdown",
   "metadata": {},
   "source": [
    "# Subplot"
   ]
  },
  {
   "cell_type": "markdown",
   "metadata": {},
   "source": [
    "## Absolute"
   ]
  },
  {
   "cell_type": "code",
<<<<<<< Updated upstream
   "execution_count": 75,
=======
   "execution_count": 26,
>>>>>>> Stashed changes
   "metadata": {},
   "outputs": [],
   "source": [
    "vmin = 1e-11\n",
    "vmax = 1e5\n",
    "\n",
    "ylabel = r\"y / $\\AA$\"\n",
    "xlabel = r\"x / $\\AA$\"\n",
    "\n",
    "x *= 1e10\n",
    "y *= 1e10\n",
    "\n",
    "norm = plt.Normalize(vmin, vmax)"
   ]
  },
  {
   "cell_type": "code",
<<<<<<< Updated upstream
   "execution_count": 89,
=======
   "execution_count": 27,
>>>>>>> Stashed changes
   "metadata": {},
   "outputs": [
    {
     "ename": "FileNotFoundError",
     "evalue": "[Errno 2] No such file or directory: '/home/jo/Repos/cc2aiPoster/densities/density_cuts.pdf'",
     "output_type": "error",
     "traceback": [
      "\u001b[0;31m---------------------------------------------------------------------------\u001b[0m",
      "\u001b[0;31mFileNotFoundError\u001b[0m                         Traceback (most recent call last)",
      "\u001b[0;32m<ipython-input-27-51a79a08879f>\u001b[0m in \u001b[0;36m<module>\u001b[0;34m()\u001b[0m\n\u001b[1;32m     32\u001b[0m \u001b[0mcbar\u001b[0m\u001b[0;34m.\u001b[0m\u001b[0mset_label\u001b[0m\u001b[0;34m(\u001b[0m\u001b[0;34mr\"Electron Density / $\\AA^{-3}$\"\u001b[0m\u001b[0;34m)\u001b[0m\u001b[0;34m\u001b[0m\u001b[0m\n\u001b[1;32m     33\u001b[0m \u001b[0;34m\u001b[0m\u001b[0m\n\u001b[0;32m---> 34\u001b[0;31m \u001b[0mplt\u001b[0m\u001b[0;34m.\u001b[0m\u001b[0msavefig\u001b[0m\u001b[0;34m(\u001b[0m\u001b[0mexport_folder\u001b[0m \u001b[0;34m+\u001b[0m \u001b[0;34m\"density_cuts.pdf\"\u001b[0m\u001b[0;34m)\u001b[0m\u001b[0;34m\u001b[0m\u001b[0m\n\u001b[0m\u001b[1;32m     35\u001b[0m \u001b[0;31m#\u001b[0m\u001b[0;34m\u001b[0m\u001b[0;34m\u001b[0m\u001b[0m\n",
      "\u001b[0;32m~/anaconda3/lib/python3.6/site-packages/matplotlib/pyplot.py\u001b[0m in \u001b[0;36msavefig\u001b[0;34m(*args, **kwargs)\u001b[0m\n\u001b[1;32m    699\u001b[0m \u001b[0;32mdef\u001b[0m \u001b[0msavefig\u001b[0m\u001b[0;34m(\u001b[0m\u001b[0;34m*\u001b[0m\u001b[0margs\u001b[0m\u001b[0;34m,\u001b[0m \u001b[0;34m**\u001b[0m\u001b[0mkwargs\u001b[0m\u001b[0;34m)\u001b[0m\u001b[0;34m:\u001b[0m\u001b[0;34m\u001b[0m\u001b[0m\n\u001b[1;32m    700\u001b[0m     \u001b[0mfig\u001b[0m \u001b[0;34m=\u001b[0m \u001b[0mgcf\u001b[0m\u001b[0;34m(\u001b[0m\u001b[0;34m)\u001b[0m\u001b[0;34m\u001b[0m\u001b[0m\n\u001b[0;32m--> 701\u001b[0;31m     \u001b[0mres\u001b[0m \u001b[0;34m=\u001b[0m \u001b[0mfig\u001b[0m\u001b[0;34m.\u001b[0m\u001b[0msavefig\u001b[0m\u001b[0;34m(\u001b[0m\u001b[0;34m*\u001b[0m\u001b[0margs\u001b[0m\u001b[0;34m,\u001b[0m \u001b[0;34m**\u001b[0m\u001b[0mkwargs\u001b[0m\u001b[0;34m)\u001b[0m\u001b[0;34m\u001b[0m\u001b[0m\n\u001b[0m\u001b[1;32m    702\u001b[0m     \u001b[0mfig\u001b[0m\u001b[0;34m.\u001b[0m\u001b[0mcanvas\u001b[0m\u001b[0;34m.\u001b[0m\u001b[0mdraw_idle\u001b[0m\u001b[0;34m(\u001b[0m\u001b[0;34m)\u001b[0m   \u001b[0;31m# need this if 'transparent=True' to reset colors\u001b[0m\u001b[0;34m\u001b[0m\u001b[0m\n\u001b[1;32m    703\u001b[0m     \u001b[0;32mreturn\u001b[0m \u001b[0mres\u001b[0m\u001b[0;34m\u001b[0m\u001b[0m\n",
      "\u001b[0;32m~/anaconda3/lib/python3.6/site-packages/matplotlib/figure.py\u001b[0m in \u001b[0;36msavefig\u001b[0;34m(self, fname, **kwargs)\u001b[0m\n\u001b[1;32m   1832\u001b[0m             \u001b[0mself\u001b[0m\u001b[0;34m.\u001b[0m\u001b[0mset_frameon\u001b[0m\u001b[0;34m(\u001b[0m\u001b[0mframeon\u001b[0m\u001b[0;34m)\u001b[0m\u001b[0;34m\u001b[0m\u001b[0m\n\u001b[1;32m   1833\u001b[0m \u001b[0;34m\u001b[0m\u001b[0m\n\u001b[0;32m-> 1834\u001b[0;31m         \u001b[0mself\u001b[0m\u001b[0;34m.\u001b[0m\u001b[0mcanvas\u001b[0m\u001b[0;34m.\u001b[0m\u001b[0mprint_figure\u001b[0m\u001b[0;34m(\u001b[0m\u001b[0mfname\u001b[0m\u001b[0;34m,\u001b[0m \u001b[0;34m**\u001b[0m\u001b[0mkwargs\u001b[0m\u001b[0;34m)\u001b[0m\u001b[0;34m\u001b[0m\u001b[0m\n\u001b[0m\u001b[1;32m   1835\u001b[0m \u001b[0;34m\u001b[0m\u001b[0m\n\u001b[1;32m   1836\u001b[0m         \u001b[0;32mif\u001b[0m \u001b[0mframeon\u001b[0m\u001b[0;34m:\u001b[0m\u001b[0;34m\u001b[0m\u001b[0m\n",
      "\u001b[0;32m~/anaconda3/lib/python3.6/site-packages/matplotlib/backend_bases.py\u001b[0m in \u001b[0;36mprint_figure\u001b[0;34m(self, filename, dpi, facecolor, edgecolor, orientation, format, **kwargs)\u001b[0m\n\u001b[1;32m   2265\u001b[0m                 \u001b[0morientation\u001b[0m\u001b[0;34m=\u001b[0m\u001b[0morientation\u001b[0m\u001b[0;34m,\u001b[0m\u001b[0;34m\u001b[0m\u001b[0m\n\u001b[1;32m   2266\u001b[0m                 \u001b[0mbbox_inches_restore\u001b[0m\u001b[0;34m=\u001b[0m\u001b[0m_bbox_inches_restore\u001b[0m\u001b[0;34m,\u001b[0m\u001b[0;34m\u001b[0m\u001b[0m\n\u001b[0;32m-> 2267\u001b[0;31m                 **kwargs)\n\u001b[0m\u001b[1;32m   2268\u001b[0m         \u001b[0;32mfinally\u001b[0m\u001b[0;34m:\u001b[0m\u001b[0;34m\u001b[0m\u001b[0m\n\u001b[1;32m   2269\u001b[0m             \u001b[0;32mif\u001b[0m \u001b[0mbbox_inches\u001b[0m \u001b[0;32mand\u001b[0m \u001b[0mrestore_bbox\u001b[0m\u001b[0;34m:\u001b[0m\u001b[0;34m\u001b[0m\u001b[0m\n",
      "\u001b[0;32m~/anaconda3/lib/python3.6/site-packages/matplotlib/backends/backend_pdf.py\u001b[0m in \u001b[0;36mprint_pdf\u001b[0;34m(self, filename, **kwargs)\u001b[0m\n\u001b[1;32m   2582\u001b[0m             \u001b[0mfile\u001b[0m \u001b[0;34m=\u001b[0m \u001b[0mfilename\u001b[0m\u001b[0;34m.\u001b[0m\u001b[0m_file\u001b[0m\u001b[0;34m\u001b[0m\u001b[0m\n\u001b[1;32m   2583\u001b[0m         \u001b[0;32melse\u001b[0m\u001b[0;34m:\u001b[0m\u001b[0;34m\u001b[0m\u001b[0m\n\u001b[0;32m-> 2584\u001b[0;31m             \u001b[0mfile\u001b[0m \u001b[0;34m=\u001b[0m \u001b[0mPdfFile\u001b[0m\u001b[0;34m(\u001b[0m\u001b[0mfilename\u001b[0m\u001b[0;34m,\u001b[0m \u001b[0mmetadata\u001b[0m\u001b[0;34m=\u001b[0m\u001b[0mkwargs\u001b[0m\u001b[0;34m.\u001b[0m\u001b[0mpop\u001b[0m\u001b[0;34m(\u001b[0m\u001b[0;34m\"metadata\"\u001b[0m\u001b[0;34m,\u001b[0m \u001b[0;32mNone\u001b[0m\u001b[0;34m)\u001b[0m\u001b[0;34m)\u001b[0m\u001b[0;34m\u001b[0m\u001b[0m\n\u001b[0m\u001b[1;32m   2585\u001b[0m         \u001b[0;32mtry\u001b[0m\u001b[0;34m:\u001b[0m\u001b[0;34m\u001b[0m\u001b[0m\n\u001b[1;32m   2586\u001b[0m             \u001b[0mfile\u001b[0m\u001b[0;34m.\u001b[0m\u001b[0mnewPage\u001b[0m\u001b[0;34m(\u001b[0m\u001b[0mwidth\u001b[0m\u001b[0;34m,\u001b[0m \u001b[0mheight\u001b[0m\u001b[0;34m)\u001b[0m\u001b[0;34m\u001b[0m\u001b[0m\n",
      "\u001b[0;32m~/anaconda3/lib/python3.6/site-packages/matplotlib/backends/backend_pdf.py\u001b[0m in \u001b[0;36m__init__\u001b[0;34m(self, filename, metadata)\u001b[0m\n\u001b[1;32m    437\u001b[0m         \u001b[0mself\u001b[0m\u001b[0;34m.\u001b[0m\u001b[0mtell_base\u001b[0m \u001b[0;34m=\u001b[0m \u001b[0;36m0\u001b[0m\u001b[0;34m\u001b[0m\u001b[0m\n\u001b[1;32m    438\u001b[0m         \u001b[0;32mif\u001b[0m \u001b[0misinstance\u001b[0m\u001b[0;34m(\u001b[0m\u001b[0mfilename\u001b[0m\u001b[0;34m,\u001b[0m \u001b[0msix\u001b[0m\u001b[0;34m.\u001b[0m\u001b[0mstring_types\u001b[0m\u001b[0;34m)\u001b[0m\u001b[0;34m:\u001b[0m\u001b[0;34m\u001b[0m\u001b[0m\n\u001b[0;32m--> 439\u001b[0;31m             \u001b[0mfh\u001b[0m \u001b[0;34m=\u001b[0m \u001b[0mopen\u001b[0m\u001b[0;34m(\u001b[0m\u001b[0mfilename\u001b[0m\u001b[0;34m,\u001b[0m \u001b[0;34m'wb'\u001b[0m\u001b[0;34m)\u001b[0m\u001b[0;34m\u001b[0m\u001b[0m\n\u001b[0m\u001b[1;32m    440\u001b[0m         \u001b[0;32melif\u001b[0m \u001b[0mis_writable_file_like\u001b[0m\u001b[0;34m(\u001b[0m\u001b[0mfilename\u001b[0m\u001b[0;34m)\u001b[0m\u001b[0;34m:\u001b[0m\u001b[0;34m\u001b[0m\u001b[0m\n\u001b[1;32m    441\u001b[0m             \u001b[0;32mtry\u001b[0m\u001b[0;34m:\u001b[0m\u001b[0;34m\u001b[0m\u001b[0m\n",
      "\u001b[0;31mFileNotFoundError\u001b[0m: [Errno 2] No such file or directory: '/home/jo/Repos/cc2aiPoster/densities/density_cuts.pdf'"
     ]
    },
    {
     "data": {
<<<<<<< Updated upstream
      "image/png": "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\n",
      "text/plain": [
       "<matplotlib.figure.Figure at 0x7f40c8f67f28>"
=======
      "image/png": "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\n",
      "text/plain": [
       "<matplotlib.figure.Figure at 0x7f1082ea20b8>"
>>>>>>> Stashed changes
      ]
     },
     "metadata": {},
     "output_type": "display_data"
    }
   ],
   "source": [
    "fig, axes = plt.subplots(2, 2)\n",
    "\n",
    "title_size = 20\n",
    "label_size = 15\n",
    "\n",
    "axes[0,0].contourf(*np.meshgrid(x, y), dm_sap_density, locator=ticker.LogLocator(), vmin=vmin, vmax=vmax)\n",
    "axes[0,0].set_title(\"SAP\", fontsize=title_size)\n",
    "axes[0,0].ticklabel_format(style='plain', axis='x')\n",
    "axes[0,0].set_ylabel(ylabel, fontsize=title_size)\n",
    "axes[0,0].set_yticks([0, 2, 4])\n",
    "axes[0,0].tick_params(labelsize=label_size)\n",
    "\n",
    "\n",
    "\n",
    "axes[1,0].contourf(*np.meshgrid(x, y), dm_gwh_density, locator=ticker.LogLocator(), vmin=vmin, vmax=vmax)\n",
    "axes[1,0].set_title(\"GWH\", fontsize=title_size)\n",
    "axes[1,0].set_xlabel(xlabel, fontsize=title_size)\n",
    "axes[1,0].set_ylabel(ylabel, fontsize=title_size)\n",
    "axes[1,0].set_yticks([0, 2, 4])\n",
    "axes[1,0].tick_params(labelsize=label_size)\n",
    "\n",
    "axes[0,1].contourf(*np.meshgrid(x, y), dm_density, locator=ticker.LogLocator(), vmin=vmin, vmax=vmax)\n",
    "axes[0,1].set_title(\"Converged\", fontsize=title_size)\n",
    "axes[0,1].ticklabel_format(style='plain')\n",
    "axes[0,1].tick_params(labelsize=label_size)\n",
    "\n",
    "im = axes[1,1].contourf(*np.meshgrid(x, y), dm_nn_density, locator=ticker.LogLocator(),  vmin=vmin, vmax=vmax)\n",
    "axes[1,1].set_title(\"NN\", fontsize=title_size)\n",
    "axes[1,1].ticklabel_format(style='plain', axis='y')\n",
    "axes[1,1].set_xlabel(xlabel, fontsize=title_size)\n",
    "axes[1,1].tick_params(labelsize=label_size)\n",
    "\n",
    "_ = plt.setp([a.get_xticklabels() for a in axes[0, :]], visible=False)\n",
    "_ = plt.setp([a.get_yticklabels() for a in axes[:, 1]], visible=False)\n",
    "\n",
    "fig.subplots_adjust(right=0.8)\n",
    "cbar_ax = fig.add_axes([0.83, 0.15, 0.05, 0.7])\n",
    "cbar_ax.tick_params(labelsize=label_size)\n",
    "cbar = fig.colorbar(im, cax=cbar_ax)\n",
    "#cbar.ax.text(.5, (2 * j + 1) / 8.0, lab, ha='center', va='center')\n",
    "cbar.set_label(r\"Electron Density / $\\AA^{-3}$\", fontsize=20)\n",
    "\n",
    "\n",
    "plt.rcParams[\"axes.edgecolor\"] = \"0.15\"\n",
    "plt.rcParams[\"axes.linewidth\"] = 1.25\n",
    "#plt.tight_layout()\n",
    "\n",
    "plt.savefig(export_folder + \"density_cuts.pdf\")\n",
    "#"
   ]
  },
  {
   "cell_type": "markdown",
   "metadata": {},
   "source": [
    "## Difference "
   ]
  },
  {
   "cell_type": "code",
<<<<<<< Updated upstream
   "execution_count": 79,
=======
   "execution_count": null,
>>>>>>> Stashed changes
   "metadata": {},
   "outputs": [],
   "source": [
    "vmin = 1e-10\n",
    "vmax = 1e2\n",
    "\n",
    "ylabel = r\"y / $\\AA$\"\n",
    "xlabel = r\"x / $\\AA$\"\n",
    "\n",
    "#x /= 1e10\n",
    "#y /= 1e10\n",
    "\n",
    "norm = plt.Normalize(vmin, vmax)"
   ]
  },
  {
   "cell_type": "code",
<<<<<<< Updated upstream
   "execution_count": 78,
   "metadata": {},
   "outputs": [
    {
     "data": {
      "image/png": "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\n",
      "text/plain": [
       "<matplotlib.figure.Figure at 0x7f40a1e4e630>"
      ]
     },
     "metadata": {},
     "output_type": "display_data"
    }
   ],
=======
   "execution_count": null,
   "metadata": {},
   "outputs": [],
>>>>>>> Stashed changes
   "source": [
    "fig, axes = plt.subplots(2, 2)\n",
    "\n",
    "axes[0,0].contourf(*np.meshgrid(x, y), dm_density, locator=ticker.LogLocator())\n",
    "axes[0,0].set_title(\"Converged\")\n",
    "axes[0,0].ticklabel_format(style='plain', axis='x')\n",
    "axes[0,1].set_ylabel(ylabel)\n",
    "\n",
    "axes[0,1].contourf(*np.meshgrid(x, y), abs(dm_sap_density-dm_density), locator=ticker.LogLocator(), vmin=vmin, vmax=vmax)\n",
    "axes[0,1].set_title(\"SAP-Converged\")\n",
    "axes[0,1].ticklabel_format(style='plain')\n",
    "\n",
    "axes[1,0].contourf(*np.meshgrid(x, y), abs(dm_gwh_density-dm_density), locator=ticker.LogLocator(), vmin=vmin, vmax=vmax)\n",
    "axes[1,0].set_title(\"GWH-Converged\")\n",
    "axes[1,0].set_xlabel(xlabel)\n",
    "axes[1,0].set_ylabel(ylabel)\n",
    "\n",
    "\n",
    "im = axes[1,1].contourf(*np.meshgrid(x, y), abs(dm_nn_density-dm_density), locator=ticker.LogLocator(),  vmin=vmin, vmax=vmax)\n",
    "axes[1,1].set_title(\"NN-Converged\")\n",
    "axes[1,1].ticklabel_format(style='plain', axis='y')\n",
    "axes[1,1].set_xlabel(xlabel)\n",
    "\n",
    "_ = plt.setp([a.get_xticklabels() for a in axes[0, :]], visible=False)\n",
    "_ = plt.setp([a.get_yticklabels() for a in axes[:, 1]], visible=False)\n",
    "\n",
    "fig.subplots_adjust(right=0.8)\n",
    "cbar_ax = fig.add_axes([0.83, 0.15, 0.05, 0.4])\n",
    "cbar = fig.colorbar(im, cax=cbar_ax)\n",
    "#cbar.ax.text(.5, (2 * j + 1) / 8.0, lab, ha='center', va='center')\n",
    "#cbar.set_label(r\"Electron Density / $\\AA^{-3}$\")\n",
    "\n",
    "\n",
    "#plt.savefig(export_folder + \"density_cuts.pdf\")"
   ]
  },
  {
   "cell_type": "code",
   "execution_count": null,
   "metadata": {},
   "outputs": [],
   "source": []
  }
 ],
 "metadata": {
  "kernelspec": {
   "display_name": "Python 3",
   "language": "python",
   "name": "python3"
  },
  "language_info": {
   "codemirror_mode": {
    "name": "ipython",
    "version": 3
   },
   "file_extension": ".py",
   "mimetype": "text/x-python",
   "name": "python",
   "nbconvert_exporter": "python",
   "pygments_lexer": "ipython3",
   "version": "3.6.4"
  }
 },
 "nbformat": 4,
 "nbformat_minor": 2
}
