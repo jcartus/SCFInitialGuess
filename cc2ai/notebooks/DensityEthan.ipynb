{
 "cells": [
  {
   "cell_type": "code",
   "execution_count": 1,
   "metadata": {},
   "outputs": [
    {
     "name": "stderr",
     "output_type": "stream",
     "text": [
      "/home/jcartus/anaconda3/lib/python3.6/site-packages/h5py/__init__.py:36: FutureWarning: Conversion of the second argument of issubdtype from `float` to `np.floating` is deprecated. In future, it will be treated as `np.float64 == np.dtype(float).type`.\n",
      "  from ._conv import register_converters as _register_converters\n"
     ]
    }
   ],
   "source": [
    "import numpy as np\n",
    "import matplotlib.pyplot as plt\n",
    "from pyscf.scf import hf\n",
    "\n",
    "import matplotlib as mpl\n",
    "mpl.style.use(\"seaborn\")\n",
    "ticker = mpl.ticker\n",
    "\n",
    "from SCFInitialGuess.utilities.analysis import density_cut, matrix_error\n",
    "\n",
    "export_folder = \"/home/jo/Repos/cc2aiPoster/densities/\"\n"
   ]
  },
  {
   "cell_type": "code",
   "execution_count": 2,
   "metadata": {},
   "outputs": [
    {
     "name": "stdout",
     "output_type": "stream",
     "text": [
      "[-] 2018-06-04 15:52:37: Data set normalized. Mean value std: 0.006723703224015195\n"
     ]
    }
   ],
   "source": [
    "from SCFInitialGuess.utilities.dataset import make_butadien_dataset\n",
    "\n",
    "folder = \"../ethan/\"\n",
    "\n",
    "#index = np.load(folder + \"index_ethan_6-31g**.npy\")\n",
    "molecules = np.load(folder + \"molecules_ethan_6-31g**.npy\")\n",
    "#S = np.load(folder + \"S_ethan_6-31g**.npy\")\n",
    "#P = np.load(folder + \"P_ethan_6-31g**.npy\")\n",
    "S, P = np.load(folder + \"dataset_ethan_6-31g**.npy\")\n",
    "\n",
    "\n",
    "dataset, molecules = make_butadien_dataset(\n",
    "    molecules, \n",
    "    S,\n",
    "    P,\n",
    "    test_samples=100\n",
    ")\n"
   ]
  },
  {
   "cell_type": "markdown",
   "metadata": {},
   "source": [
    "## Pick a sample from the dataset. \n",
    "*make sure it is in the test dataset part and close to the\n",
    "start of the md run!*"
   ]
  },
  {
   "cell_type": "code",
   "execution_count": 3,
   "metadata": {},
   "outputs": [
    {
     "data": {
      "text/plain": [
       "[('C', [-2.8407135261, 2.4854979768, -0.0674865449]),\n",
       " ('C', [-1.3140694529, 2.4313265044, 0.0707576144]),\n",
       " ('H', [-3.2318646114, 3.5016226103, 0.1644354096]),\n",
       " ('H', [-3.3289896711, 1.7878580423, 0.6057841634]),\n",
       " ('H', [-3.1436809468, 2.2827031093, -1.0936447291]),\n",
       " ('H', [-0.922492913, 2.9411525372, 0.9746194817]),\n",
       " ('H', [-0.8014613119, 3.0014955852, -0.7204226972]),\n",
       " ('H', [-0.9438403049, 1.3880710149, 0.0302805004])]"
      ]
     },
     "execution_count": 3,
     "metadata": {},
     "output_type": "execute_result"
    }
   ],
   "source": [
    "list(molecules[1][0].geometry)"
   ]
  },
  {
   "cell_type": "code",
   "execution_count": 4,
   "metadata": {},
   "outputs": [],
   "source": [
    "#sample_index = list(index).index(0)\n",
    "#dim = 26\n",
    "\n",
    "\n",
    "#mole = molecules[index].get_pyscf_molecule()\n",
    "#s = S[sample_index].reshape(dim, dim)\n",
    "#p = P[sample_index].reshape(dim, dim)\n",
    "#mole = (molecules[0] + molecules[1])[sample_index].get_pyscf_molecule()\n",
    "\n",
    "#sample_index"
   ]
  },
  {
   "cell_type": "code",
   "execution_count": 5,
   "metadata": {},
   "outputs": [],
   "source": [
    "z_value = 4\n",
    "nx = 80\n",
    "ny = 80\n",
    "\n",
    "norm = None#plt.Normalize(0, 7.6e-5)"
   ]
  },
  {
   "cell_type": "code",
   "execution_count": 6,
   "metadata": {},
   "outputs": [
    {
     "data": {
      "text/plain": [
       "<pyscf.gto.mole.Mole at 0x7fb04b2c15f8>"
      ]
     },
     "execution_count": 6,
     "metadata": {},
     "output_type": "execute_result"
    }
   ],
   "source": [
    "from pyscf.gto import Mole\n",
    "\n",
    "# this molecule was not in dateset!!!\n",
    "#mole = molecules[1][0].get_pyscf_molecule()\n",
    "mole = Mole()\n",
    "mole.atom = molecules[1][0].geometry\n",
    "\n",
    "mole.basis = \"6-31g**\"\n",
    "mole.build()"
   ]
  },
  {
   "cell_type": "code",
   "execution_count": 7,
   "metadata": {},
   "outputs": [
    {
     "data": {
      "text/plain": [
       "(-0.008427423026677178, 1.170502510045342)"
      ]
     },
     "execution_count": 7,
     "metadata": {},
     "output_type": "execute_result"
    }
   ],
   "source": [
    "coords = mole.atom_coords()[:, 2]\n",
    "np.mean(coords), np.std(coords)"
   ]
  },
  {
   "cell_type": "markdown",
   "metadata": {},
   "source": [
    "# Converged "
   ]
  },
  {
   "cell_type": "code",
   "execution_count": 8,
   "metadata": {},
   "outputs": [
    {
     "data": {
      "image/png": "[encoded data removed]",
      "text/plain": [
       "<matplotlib.figure.Figure at 0x7fb04b23e9b0>"
      ]
     },
     "metadata": {},
     "output_type": "display_data"
    }
   ],
   "source": [
    "mf = hf.RHF(mole)\n",
    "mf.verbose = 1\n",
    "mf.run()\n",
    "\n",
    "dm = mf.make_rdm1()\n",
    "dm_density, x, y = density_cut(mole, dm, nx, ny, z_value=z_value)\n",
    "\n",
    "plt.contourf(*np.meshgrid(x, y), dm_density, locator=ticker.LogLocator(), norm=norm)\n",
    "plt.colorbar()\n",
    "plt.show()"
   ]
  },
  {
   "cell_type": "markdown",
   "metadata": {},
   "source": [
    "# H_core"
   ]
  },
  {
   "cell_type": "code",
   "execution_count": 9,
   "metadata": {},
   "outputs": [],
   "source": [
    "dm_1e = hf.init_guess_by_1e(mole)\n",
    "dm_1e_density, x, y = density_cut(mole, dm_1e, nx, ny, z_value=z_value)"
   ]
  },
  {
   "cell_type": "code",
   "execution_count": 10,
   "metadata": {},
   "outputs": [
    {
     "data": {
      "text/plain": [
       "(0.6556234968826722, 5.983267024223857e-08)"
      ]
     },
     "execution_count": 10,
     "metadata": {},
     "output_type": "execute_result"
    }
   ],
   "source": [
    "np.max(dm_1e_density), np.min(dm_1e_density)\n"
   ]
  },
  {
   "cell_type": "code",
   "execution_count": 11,
   "metadata": {},
   "outputs": [
    {
     "data": {
      "image/png": "[encoded data removed]",
      "text/plain": [
       "<matplotlib.figure.Figure at 0x7fb039fcc860>"
      ]
     },
     "metadata": {},
     "output_type": "display_data"
    }
   ],
   "source": [
    "plt.contourf(*np.meshgrid(x, y), dm_1e_density, locator=ticker.LogLocator(), norm=norm)\n",
    "plt.colorbar()\n",
    "plt.show()"
   ]
  },
  {
   "cell_type": "code",
   "execution_count": 12,
   "metadata": {},
   "outputs": [
    {
     "data": {
      "text/plain": [
       "'\\nfor z in np.linspace(-1,5, 20):    \\n    dm_1e = hf.init_guess_by_1e(mole)\\n    dm_1e_density, x, y = density_cut(mole, dm_1e, nx, ny, z_value=z)\\n    plt.figure()\\n    plt.contourf(*np.meshgrid(x, y), dm_1e_density, locator=ticker.LogLocator())\\n    plt.colorbar()\\n    plt.title(\"z = \" + str(z))\\nplt.show()\\n'"
      ]
     },
     "execution_count": 12,
     "metadata": {},
     "output_type": "execute_result"
    }
   ],
   "source": [
    "\"\"\"\n",
    "for z in np.linspace(-1,5, 20):    \n",
    "    dm_1e = hf.init_guess_by_1e(mole)\n",
    "    dm_1e_density, x, y = density_cut(mole, dm_1e, nx, ny, z_value=z)\n",
    "    plt.figure()\n",
    "    plt.contourf(*np.meshgrid(x, y), dm_1e_density, locator=ticker.LogLocator())\n",
    "    plt.colorbar()\n",
    "    plt.title(\"z = \" + str(z))\n",
    "plt.show()\n",
    "\"\"\""
   ]
  },
  {
   "cell_type": "markdown",
   "metadata": {},
   "source": [
    "# SAP"
   ]
  },
  {
   "cell_type": "code",
   "execution_count": 13,
   "metadata": {},
   "outputs": [],
   "source": [
    "dm_sap = hf.init_guess_by_atom(mole)\n",
    "dm_sap_density, x, y = density_cut(mole, dm_sap, nx, ny, z_value)"
   ]
  },
  {
   "cell_type": "code",
   "execution_count": 14,
   "metadata": {},
   "outputs": [
    {
     "data": {
      "image/png": "[encoded data removed]",
      "text/plain": [
       "<matplotlib.figure.Figure at 0x7fb039e04748>"
      ]
     },
     "metadata": {},
     "output_type": "display_data"
    }
   ],
   "source": [
    "plt.contourf(*np.meshgrid(x, y), dm_sap_density, locator=ticker.LogLocator(), norm=norm)\n",
    "plt.colorbar()\n",
    "plt.title(\"SAP\")\n",
    "plt.show()"
   ]
  },
  {
   "cell_type": "markdown",
   "metadata": {},
   "source": [
    "# GWH"
   ]
  },
  {
   "cell_type": "code",
   "execution_count": 15,
   "metadata": {},
   "outputs": [],
   "source": [
    "dm_gwh = hf.init_guess_by_wolfsberg_helmholtz(mole)\n",
    "dm_gwh_density, x, y = density_cut(mole, dm_gwh, nx, ny, z_value)"
   ]
  },
  {
   "cell_type": "code",
   "execution_count": 16,
   "metadata": {},
   "outputs": [
    {
     "data": {
      "image/png": "[encoded data removed]",
      "text/plain": [
       "<matplotlib.figure.Figure at 0x7fb039d9b2e8>"
      ]
     },
     "metadata": {},
     "output_type": "display_data"
    }
   ],
   "source": [
    "plt.contourf(*np.meshgrid(x, y), dm_gwh_density, locator=ticker.LogLocator(), norm=norm)\n",
    "plt.colorbar()\n",
    "plt.title(\"GWH\")\n",
    "plt.show()"
   ]
  },
  {
   "cell_type": "markdown",
   "metadata": {},
   "source": [
    "# MINAO"
   ]
  },
  {
   "cell_type": "code",
   "execution_count": 17,
   "metadata": {},
   "outputs": [],
   "source": [
    "dm_minao = hf.init_guess_by_minao(mole)\n",
    "dm_minao_density, x, y = density_cut(mole, dm_minao, nx, ny, z_value)"
   ]
  },
  {
   "cell_type": "code",
   "execution_count": 18,
   "metadata": {},
   "outputs": [
    {
     "data": {
      "image/png": "[encoded data removed]",
      "text/plain": [
       "<matplotlib.figure.Figure at 0x7fb039cb1e48>"
      ]
     },
     "metadata": {},
     "output_type": "display_data"
    }
   ],
   "source": [
    "plt.contourf(*np.meshgrid(x, y), dm_minao_density, locator=ticker.LogLocator(), norm=norm)\n",
    "plt.colorbar()\n",
    "plt.title(\"MINAO\")\n",
    "plt.show()"
   ]
  },
  {
   "cell_type": "markdown",
   "metadata": {},
   "source": [
    "# NN"
   ]
  },
  {
   "cell_type": "code",
   "execution_count": 19,
   "metadata": {},
   "outputs": [],
   "source": [
    "import tensorflow as tf\n",
    "from SCFInitialGuess.nn.networks import EluFixedValue\n",
    "\n",
    "graph = tf.Graph()\n",
    "\n",
    "structure, weights, biases = np.load(\"../ethan/network_ethan.npy\", encoding=\"latin1\")\n",
    "\n",
    "with graph.as_default():\n",
    "    sess = tf.Session()\n",
    "    network = EluFixedValue(structure, weights, biases)\n",
    "    network.setup()\n",
    "    sess.run(tf.global_variables_initializer())"
   ]
  },
  {
   "cell_type": "code",
   "execution_count": 20,
   "metadata": {},
   "outputs": [
    {
     "data": {
      "text/plain": [
       "(1, 1711)"
      ]
     },
     "execution_count": 20,
     "metadata": {},
     "output_type": "execute_result"
    }
   ],
   "source": [
    "from SCFInitialGuess.utilities.dataset import extract_triu\n",
    "dim = 58\n",
    "s = hf.get_ovlp(mole)\n",
    "s_norm = dataset.input_transformation(s.reshape(-1, dim**2))\n",
    "s_norm = extract_triu(s_norm, dim).reshape(-1, int(dim * (dim +1 )/ 2))\n",
    "s_norm.shape"
   ]
  },
  {
   "cell_type": "code",
   "execution_count": 21,
   "metadata": {},
   "outputs": [],
   "source": [
    "from SCFInitialGuess.nn.post_processing import multi_mc_wheeny\n",
    "from SCFInitialGuess.utilities.dataset import reconstruct_from_triu\n",
    "\n",
    "dm_nn = network.run(sess, s_norm)\n",
    "dm_nn = reconstruct_from_triu(dm_nn, dim).reshape(dim, dim).astype(\"float64\")\n",
    "dm_nn_density, x, y = density_cut(mole, dm_nn, nx, ny, z_value) "
   ]
  },
  {
   "cell_type": "code",
   "execution_count": 22,
   "metadata": {},
   "outputs": [
    {
     "name": "stdout",
     "output_type": "stream",
     "text": [
      "[0.0171673584004477]\n",
      "0.012617295853171138\n"
     ]
    }
   ],
   "source": [
    "from SCFInitialGuess.utilities.analysis import measure_idempotence_error, measure_absolute_error\n",
    "\n",
    "print(list(measure_idempotence_error([dm_nn], [s])))\n",
    "\n",
    "print(np.mean(np.abs(dm - dm_nn)))\n"
   ]
  },
  {
   "cell_type": "code",
   "execution_count": 23,
   "metadata": {},
   "outputs": [
    {
     "data": {
      "image/png": "[encoded data removed]",
      "text/plain": [
       "<matplotlib.figure.Figure at 0x7fb04001fa58>"
      ]
     },
     "metadata": {},
     "output_type": "display_data"
    }
   ],
   "source": [
    "plt.contourf(*np.meshgrid(x, y), dm_nn_density, locator=ticker.LogLocator(), norm=norm)\n",
    "plt.colorbar()\n",
    "plt.show()"
   ]
  },
  {
   "cell_type": "code",
   "execution_count": 24,
   "metadata": {},
   "outputs": [
    {
     "name": "stdout",
     "output_type": "stream",
     "text": [
      "[0.006459180347188536]\n"
     ]
    }
   ],
   "source": [
    "from SCFInitialGuess.nn.post_processing import multi_mc_wheeny\n",
    "\n",
    "dm_mcw5 = multi_mc_wheeny(dm_nn, s, 5)\n",
    "dm_mcw5_density, x, y = density_cut(mole, dm_mcw5, nx, ny, z_value) \n",
    "\n",
    "print(list(measure_idempotence_error([dm_mcw5], [s])))"
   ]
  },
  {
   "cell_type": "code",
   "execution_count": 25,
   "metadata": {},
   "outputs": [
    {
     "data": {
      "image/png": "[encoded data removed]",
      "text/plain": [
       "<matplotlib.figure.Figure at 0x7fb039e92f60>"
      ]
     },
     "metadata": {},
     "output_type": "display_data"
    }
   ],
   "source": [
    "plt.contourf(*np.meshgrid(x, y), dm_mcw5_density, locator=ticker.LogLocator(), norm=norm)\n",
    "plt.colorbar()\n",
    "plt.show()"
   ]
  },
  {
   "cell_type": "markdown",
   "metadata": {},
   "source": [
    "# Subplot"
   ]
  },
  {
   "cell_type": "markdown",
   "metadata": {},
   "source": [
    "## Absolute"
   ]
  },
  {
   "cell_type": "code",
   "execution_count": 26,
   "metadata": {},
   "outputs": [],
   "source": [
    "vmin = 1e-11\n",
    "vmax = 1e5\n",
    "\n",
    "ylabel = r\"y / $\\AA$\"\n",
    "xlabel = r\"x / $\\AA$\"\n",
    "\n",
    "x *= 1e10\n",
    "y *= 1e10\n",
    "\n",
    "norm = plt.Normalize(vmin, vmax)"
   ]
  },
  {
   "cell_type": "code",
   "execution_count": 27,
   "metadata": {},
   "outputs": [
    {
     "ename": "FileNotFoundError",
     "evalue": "[Errno 2] No such file or directory: '/home/jo/Repos/cc2aiPoster/densities/density_cuts.pdf'",
     "output_type": "error",
     "traceback": [
      "\u001b[0;31m---------------------------------------------------------------------------\u001b[0m",
      "\u001b[0;31mFileNotFoundError\u001b[0m                         Traceback (most recent call last)",
      "\u001b[0;32m<ipython-input-27-51a79a08879f>\u001b[0m in \u001b[0;36m<module>\u001b[0;34m()\u001b[0m\n\u001b[1;32m     32\u001b[0m \u001b[0mcbar\u001b[0m\u001b[0;34m.\u001b[0m\u001b[0mset_label\u001b[0m\u001b[0;34m(\u001b[0m\u001b[0;34mr\"Electron Density / $\\AA^{-3}$\"\u001b[0m\u001b[0;34m)\u001b[0m\u001b[0;34m\u001b[0m\u001b[0m\n\u001b[1;32m     33\u001b[0m \u001b[0;34m\u001b[0m\u001b[0m\n\u001b[0;32m---> 34\u001b[0;31m \u001b[0mplt\u001b[0m\u001b[0;34m.\u001b[0m\u001b[0msavefig\u001b[0m\u001b[0;34m(\u001b[0m\u001b[0mexport_folder\u001b[0m \u001b[0;34m+\u001b[0m \u001b[0;34m\"density_cuts.pdf\"\u001b[0m\u001b[0;34m)\u001b[0m\u001b[0;34m\u001b[0m\u001b[0m\n\u001b[0m\u001b[1;32m     35\u001b[0m \u001b[0;31m#\u001b[0m\u001b[0;34m\u001b[0m\u001b[0;34m\u001b[0m\u001b[0m\n",
      "\u001b[0;32m~/anaconda3/lib/python3.6/site-packages/matplotlib/pyplot.py\u001b[0m in \u001b[0;36msavefig\u001b[0;34m(*args, **kwargs)\u001b[0m\n\u001b[1;32m    699\u001b[0m \u001b[0;32mdef\u001b[0m \u001b[0msavefig\u001b[0m\u001b[0;34m(\u001b[0m\u001b[0;34m*\u001b[0m\u001b[0margs\u001b[0m\u001b[0;34m,\u001b[0m \u001b[0;34m**\u001b[0m\u001b[0mkwargs\u001b[0m\u001b[0;34m)\u001b[0m\u001b[0;34m:\u001b[0m\u001b[0;34m\u001b[0m\u001b[0m\n\u001b[1;32m    700\u001b[0m     \u001b[0mfig\u001b[0m \u001b[0;34m=\u001b[0m \u001b[0mgcf\u001b[0m\u001b[0;34m(\u001b[0m\u001b[0;34m)\u001b[0m\u001b[0;34m\u001b[0m\u001b[0m\n\u001b[0;32m--> 701\u001b[0;31m     \u001b[0mres\u001b[0m \u001b[0;34m=\u001b[0m \u001b[0mfig\u001b[0m\u001b[0;34m.\u001b[0m\u001b[0msavefig\u001b[0m\u001b[0;34m(\u001b[0m\u001b[0;34m*\u001b[0m\u001b[0margs\u001b[0m\u001b[0;34m,\u001b[0m \u001b[0;34m**\u001b[0m\u001b[0mkwargs\u001b[0m\u001b[0;34m)\u001b[0m\u001b[0;34m\u001b[0m\u001b[0m\n\u001b[0m\u001b[1;32m    702\u001b[0m     \u001b[0mfig\u001b[0m\u001b[0;34m.\u001b[0m\u001b[0mcanvas\u001b[0m\u001b[0;34m.\u001b[0m\u001b[0mdraw_idle\u001b[0m\u001b[0;34m(\u001b[0m\u001b[0;34m)\u001b[0m   \u001b[0;31m# need this if 'transparent=True' to reset colors\u001b[0m\u001b[0;34m\u001b[0m\u001b[0m\n\u001b[1;32m    703\u001b[0m     \u001b[0;32mreturn\u001b[0m \u001b[0mres\u001b[0m\u001b[0;34m\u001b[0m\u001b[0m\n",
      "\u001b[0;32m~/anaconda3/lib/python3.6/site-packages/matplotlib/figure.py\u001b[0m in \u001b[0;36msavefig\u001b[0;34m(self, fname, **kwargs)\u001b[0m\n\u001b[1;32m   1832\u001b[0m             \u001b[0mself\u001b[0m\u001b[0;34m.\u001b[0m\u001b[0mset_frameon\u001b[0m\u001b[0;34m(\u001b[0m\u001b[0mframeon\u001b[0m\u001b[0;34m)\u001b[0m\u001b[0;34m\u001b[0m\u001b[0m\n\u001b[1;32m   1833\u001b[0m \u001b[0;34m\u001b[0m\u001b[0m\n\u001b[0;32m-> 1834\u001b[0;31m         \u001b[0mself\u001b[0m\u001b[0;34m.\u001b[0m\u001b[0mcanvas\u001b[0m\u001b[0;34m.\u001b[0m\u001b[0mprint_figure\u001b[0m\u001b[0;34m(\u001b[0m\u001b[0mfname\u001b[0m\u001b[0;34m,\u001b[0m \u001b[0;34m**\u001b[0m\u001b[0mkwargs\u001b[0m\u001b[0;34m)\u001b[0m\u001b[0;34m\u001b[0m\u001b[0m\n\u001b[0m\u001b[1;32m   1835\u001b[0m \u001b[0;34m\u001b[0m\u001b[0m\n\u001b[1;32m   1836\u001b[0m         \u001b[0;32mif\u001b[0m \u001b[0mframeon\u001b[0m\u001b[0;34m:\u001b[0m\u001b[0;34m\u001b[0m\u001b[0m\n",
      "\u001b[0;32m~/anaconda3/lib/python3.6/site-packages/matplotlib/backend_bases.py\u001b[0m in \u001b[0;36mprint_figure\u001b[0;34m(self, filename, dpi, facecolor, edgecolor, orientation, format, **kwargs)\u001b[0m\n\u001b[1;32m   2265\u001b[0m                 \u001b[0morientation\u001b[0m\u001b[0;34m=\u001b[0m\u001b[0morientation\u001b[0m\u001b[0;34m,\u001b[0m\u001b[0;34m\u001b[0m\u001b[0m\n\u001b[1;32m   2266\u001b[0m                 \u001b[0mbbox_inches_restore\u001b[0m\u001b[0;34m=\u001b[0m\u001b[0m_bbox_inches_restore\u001b[0m\u001b[0;34m,\u001b[0m\u001b[0;34m\u001b[0m\u001b[0m\n\u001b[0;32m-> 2267\u001b[0;31m                 **kwargs)\n\u001b[0m\u001b[1;32m   2268\u001b[0m         \u001b[0;32mfinally\u001b[0m\u001b[0;34m:\u001b[0m\u001b[0;34m\u001b[0m\u001b[0m\n\u001b[1;32m   2269\u001b[0m             \u001b[0;32mif\u001b[0m \u001b[0mbbox_inches\u001b[0m \u001b[0;32mand\u001b[0m \u001b[0mrestore_bbox\u001b[0m\u001b[0;34m:\u001b[0m\u001b[0;34m\u001b[0m\u001b[0m\n",
      "\u001b[0;32m~/anaconda3/lib/python3.6/site-packages/matplotlib/backends/backend_pdf.py\u001b[0m in \u001b[0;36mprint_pdf\u001b[0;34m(self, filename, **kwargs)\u001b[0m\n\u001b[1;32m   2582\u001b[0m             \u001b[0mfile\u001b[0m \u001b[0;34m=\u001b[0m \u001b[0mfilename\u001b[0m\u001b[0;34m.\u001b[0m\u001b[0m_file\u001b[0m\u001b[0;34m\u001b[0m\u001b[0m\n\u001b[1;32m   2583\u001b[0m         \u001b[0;32melse\u001b[0m\u001b[0;34m:\u001b[0m\u001b[0;34m\u001b[0m\u001b[0m\n\u001b[0;32m-> 2584\u001b[0;31m             \u001b[0mfile\u001b[0m \u001b[0;34m=\u001b[0m \u001b[0mPdfFile\u001b[0m\u001b[0;34m(\u001b[0m\u001b[0mfilename\u001b[0m\u001b[0;34m,\u001b[0m \u001b[0mmetadata\u001b[0m\u001b[0;34m=\u001b[0m\u001b[0mkwargs\u001b[0m\u001b[0;34m.\u001b[0m\u001b[0mpop\u001b[0m\u001b[0;34m(\u001b[0m\u001b[0;34m\"metadata\"\u001b[0m\u001b[0;34m,\u001b[0m \u001b[0;32mNone\u001b[0m\u001b[0;34m)\u001b[0m\u001b[0;34m)\u001b[0m\u001b[0;34m\u001b[0m\u001b[0m\n\u001b[0m\u001b[1;32m   2585\u001b[0m         \u001b[0;32mtry\u001b[0m\u001b[0;34m:\u001b[0m\u001b[0;34m\u001b[0m\u001b[0m\n\u001b[1;32m   2586\u001b[0m             \u001b[0mfile\u001b[0m\u001b[0;34m.\u001b[0m\u001b[0mnewPage\u001b[0m\u001b[0;34m(\u001b[0m\u001b[0mwidth\u001b[0m\u001b[0;34m,\u001b[0m \u001b[0mheight\u001b[0m\u001b[0;34m)\u001b[0m\u001b[0;34m\u001b[0m\u001b[0m\n",
      "\u001b[0;32m~/anaconda3/lib/python3.6/site-packages/matplotlib/backends/backend_pdf.py\u001b[0m in \u001b[0;36m__init__\u001b[0;34m(self, filename, metadata)\u001b[0m\n\u001b[1;32m    437\u001b[0m         \u001b[0mself\u001b[0m\u001b[0;34m.\u001b[0m\u001b[0mtell_base\u001b[0m \u001b[0;34m=\u001b[0m \u001b[0;36m0\u001b[0m\u001b[0;34m\u001b[0m\u001b[0m\n\u001b[1;32m    438\u001b[0m         \u001b[0;32mif\u001b[0m \u001b[0misinstance\u001b[0m\u001b[0;34m(\u001b[0m\u001b[0mfilename\u001b[0m\u001b[0;34m,\u001b[0m \u001b[0msix\u001b[0m\u001b[0;34m.\u001b[0m\u001b[0mstring_types\u001b[0m\u001b[0;34m)\u001b[0m\u001b[0;34m:\u001b[0m\u001b[0;34m\u001b[0m\u001b[0m\n\u001b[0;32m--> 439\u001b[0;31m             \u001b[0mfh\u001b[0m \u001b[0;34m=\u001b[0m \u001b[0mopen\u001b[0m\u001b[0;34m(\u001b[0m\u001b[0mfilename\u001b[0m\u001b[0;34m,\u001b[0m \u001b[0;34m'wb'\u001b[0m\u001b[0;34m)\u001b[0m\u001b[0;34m\u001b[0m\u001b[0m\n\u001b[0m\u001b[1;32m    440\u001b[0m         \u001b[0;32melif\u001b[0m \u001b[0mis_writable_file_like\u001b[0m\u001b[0;34m(\u001b[0m\u001b[0mfilename\u001b[0m\u001b[0;34m)\u001b[0m\u001b[0;34m:\u001b[0m\u001b[0;34m\u001b[0m\u001b[0m\n\u001b[1;32m    441\u001b[0m             \u001b[0;32mtry\u001b[0m\u001b[0;34m:\u001b[0m\u001b[0;34m\u001b[0m\u001b[0m\n",
      "\u001b[0;31mFileNotFoundError\u001b[0m: [Errno 2] No such file or directory: '/home/jo/Repos/cc2aiPoster/densities/density_cuts.pdf'"
     ]
    },
    {
     "data": {
      "image/png": "[encoded data removed]",
      "text/plain": [
       "<matplotlib.figure.Figure at 0x7fb02031e748>"
      ]
     },
     "metadata": {},
     "output_type": "display_data"
    }
   ],
   "source": [
    "fig, axes = plt.subplots(2, 2)\n",
    "\n",
    "axes[0,0].contourf(*np.meshgrid(x, y), dm_sap_density, locator=ticker.LogLocator(), vmin=vmin, vmax=vmax)\n",
    "axes[0,0].set_title(\"SAP\")\n",
    "axes[0,0].ticklabel_format(style='plain', axis='x')\n",
    "axes[0,0].set_ylabel(ylabel)\n",
    "\n",
    "\n",
    "\n",
    "axes[1,0].contourf(*np.meshgrid(x, y), dm_gwh_density, locator=ticker.LogLocator(), vmin=vmin, vmax=vmax)\n",
    "axes[1,0].set_title(\"GWH\")\n",
    "axes[1,0].set_xlabel(xlabel)\n",
    "axes[1,0].set_ylabel(ylabel)\n",
    "\n",
    "axes[0,1].contourf(*np.meshgrid(x, y), dm_density, locator=ticker.LogLocator(), vmin=vmin, vmax=vmax)\n",
    "axes[0,1].set_title(\"Converged\")\n",
    "axes[0,1].ticklabel_format(style='plain')\n",
    "\n",
    "\n",
    "im = axes[1,1].contourf(*np.meshgrid(x, y), dm_nn_density, locator=ticker.LogLocator(),  vmin=vmin, vmax=vmax)\n",
    "axes[1,1].set_title(\"NN\")\n",
    "axes[1,1].ticklabel_format(style='plain', axis='y')\n",
    "axes[1,1].set_xlabel(xlabel)\n",
    "\n",
    "_ = plt.setp([a.get_xticklabels() for a in axes[0, :]], visible=False)\n",
    "_ = plt.setp([a.get_yticklabels() for a in axes[:, 1]], visible=False)\n",
    "\n",
    "fig.subplots_adjust(right=0.8)\n",
    "cbar_ax = fig.add_axes([0.83, 0.15, 0.05, 0.7])\n",
    "cbar = fig.colorbar(im, cax=cbar_ax)\n",
    "#cbar.ax.text(.5, (2 * j + 1) / 8.0, lab, ha='center', va='center')\n",
    "cbar.set_label(r\"Electron Density / $\\AA^{-3}$\")\n",
    "\n",
    "plt.savefig(export_folder + \"density_cuts.pdf\")\n",
    "#"
   ]
  },
  {
   "cell_type": "markdown",
   "metadata": {},
   "source": [
    "## Difference "
   ]
  },
  {
   "cell_type": "code",
   "execution_count": null,
   "metadata": {},
   "outputs": [],
   "source": [
    "vmin = 1e-10\n",
    "vmax = 1e2\n",
    "\n",
    "ylabel = r\"y / $\\AA$\"\n",
    "xlabel = r\"x / $\\AA$\"\n",
    "\n",
    "x *= 1e10\n",
    "y *= 1e10\n",
    "\n",
    "norm = plt.Normalize(vmin, vmax)"
   ]
  },
  {
   "cell_type": "code",
   "execution_count": null,
   "metadata": {},
   "outputs": [],
   "source": [
    "fig, axes = plt.subplots(2, 2)\n",
    "\n",
    "axes[0,0].contourf(*np.meshgrid(x, y), dm_density, locator=ticker.LogLocator())\n",
    "axes[0,0].set_title(\"Converged\")\n",
    "axes[0,0].ticklabel_format(style='plain', axis='x')\n",
    "axes[0,1].set_ylabel(ylabel)\n",
    "\n",
    "axes[0,1].contourf(*np.meshgrid(x, y), abs(dm_sap_density-dm_density), locator=ticker.LogLocator(), vmin=vmin, vmax=vmax)\n",
    "axes[0,1].set_title(\"SAP-Converged\")\n",
    "axes[0,1].ticklabel_format(style='plain')\n",
    "\n",
    "axes[1,0].contourf(*np.meshgrid(x, y), abs(dm_gwh_density-dm_density), locator=ticker.LogLocator(), vmin=vmin, vmax=vmax)\n",
    "axes[1,0].set_title(\"GWH-Converged\")\n",
    "axes[1,0].set_xlabel(xlabel)\n",
    "axes[1,0].set_ylabel(ylabel)\n",
    "\n",
    "\n",
    "im = axes[1,1].contourf(*np.meshgrid(x, y), abs(dm_nn_density-dm_density), locator=ticker.LogLocator(),  vmin=vmin, vmax=vmax)\n",
    "axes[1,1].set_title(\"NN-Converged\")\n",
    "axes[1,1].ticklabel_format(style='plain', axis='y')\n",
    "axes[1,1].set_xlabel(xlabel)\n",
    "\n",
    "_ = plt.setp([a.get_xticklabels() for a in axes[0, :]], visible=False)\n",
    "_ = plt.setp([a.get_yticklabels() for a in axes[:, 1]], visible=False)\n",
    "\n",
    "fig.subplots_adjust(right=0.8)\n",
    "cbar_ax = fig.add_axes([0.83, 0.15, 0.05, 0.4])\n",
    "cbar = fig.colorbar(im, cax=cbar_ax)\n",
    "#cbar.ax.text(.5, (2 * j + 1) / 8.0, lab, ha='center', va='center')\n",
    "#cbar.set_label(r\"Electron Density / $\\AA^{-3}$\")\n",
    "\n",
    "#plt.savefig(export_folder + \"density_cuts.pdf\")"
   ]
  },
  {
   "cell_type": "code",
   "execution_count": null,
   "metadata": {},
   "outputs": [],
   "source": []
  }
 ],
 "metadata": {
  "kernelspec": {
   "display_name": "Python 3",
   "language": "python",
   "name": "python3"
  },
  "language_info": {
   "codemirror_mode": {
    "name": "ipython",
    "version": 3
   },
   "file_extension": ".py",
   "mimetype": "text/x-python",
   "name": "python",
   "nbconvert_exporter": "python",
   "pygments_lexer": "ipython3",
   "version": "3.6.4"
  }
 },
 "nbformat": 4,
 "nbformat_minor": 2
}
